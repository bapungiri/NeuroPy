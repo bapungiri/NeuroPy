{
 "cells": [
  {
   "cell_type": "code",
   "id": "64d601c2-45f0-4f09-8964-204b117f4b57",
   "metadata": {
    "ExecuteTime": {
     "end_time": "2025-01-29T19:44:50.496570Z",
     "start_time": "2025-01-29T19:44:50.450814Z"
    }
   },
   "source": [
    "# Import Core Packages\n",
    "%load_ext autoreload\n",
    "%autoreload 2\n",
    "\n",
    "import math\n",
    "import numpy as np\n",
    "\n",
    "from scipy.sparse import csr_matrix\n",
    "\n",
    "import matplotlib.pyplot as plt\n",
    "import matplotlib.gridspec as gridspec\n",
    "\n",
    "import seaborn as sns\n",
    "import pandas as pd\n",
    "import re\n",
    "import sys\n",
    "import os\n",
    "from pathlib import Path\n",
    "import platform\n",
    "import shutil"
   ],
   "outputs": [
    {
     "name": "stdout",
     "output_type": "stream",
     "text": [
      "The autoreload extension is already loaded. To reload it, use:\n",
      "  %reload_ext autoreload\n"
     ]
    }
   ],
   "execution_count": 49
  },
  {
   "cell_type": "code",
   "id": "ce41aab8-0069-41df-be18-9a010eac9ec4",
   "metadata": {
    "ExecuteTime": {
     "end_time": "2025-01-29T19:44:58.287339Z",
     "start_time": "2025-01-29T19:44:58.237768Z"
    }
   },
   "source": [
    "# User Inputs\n",
    "basepath = Path('/media/kimqi/BK/Data/PCDisruption/Raw/Strawberry/Stb_2024-10-28_Silverstone')\n",
    "\n",
    "# Get Session Directory Information\n",
    "animal = basepath.parent.name\n",
    "cur_folder = Path(basepath).name\n",
    "session_name = re.sub(r'_\\d{4}-\\d{2}-\\d{2}_', '_', cur_folder)\n",
    "\n",
    "# Get current OS and set paths dependent on working OS.\n",
    "cur_system = platform.system()\n",
    "\n",
    "if cur_system == \"Linux\":  # For Linux systems\n",
    "    sys.path.extend(['/home/kimqi/Documents/Repositories/NeuroPy'])  # NeuroPy Path\n",
    "\n",
    "    # Save Directory\n",
    "    save_dir = Path('/home/kimqi/Documents/Analyses/Placefields')\n",
    "    \n",
    "elif cur_system == \"Windows\":\n",
    "    sys.path.extend([r'E:\\Code\\Repositories\\NeuroPy'])  # NeuroPy Path\n",
    "    save_dir = Path('E:\\Analyses\\Placefields')  # Save Path\n",
    "    save_dir = save_dir / session_name\n",
    "    save_dir.mkdir(parents=True, exist_ok=True)\n",
    "    plot_dir = save_dir / 'Plots'\n",
    "    plot_dir.mkdir(parents=True, exist_ok=True)"
   ],
   "outputs": [],
   "execution_count": 51
  },
  {
   "metadata": {
    "ExecuteTime": {
     "end_time": "2025-01-29T19:44:58.638033Z",
     "start_time": "2025-01-29T19:44:58.588262Z"
    }
   },
   "cell_type": "code",
   "source": "cur_folder",
   "id": "51e0e16f77b8ba98",
   "outputs": [
    {
     "data": {
      "text/plain": [
       "'Stb_2024-10-28_Silverstone'"
      ]
     },
     "execution_count": 52,
     "metadata": {},
     "output_type": "execute_result"
    }
   ],
   "execution_count": 52
  },
  {
   "cell_type": "code",
   "id": "aa22afa8-c963-4fdb-9e1f-0adcbb2d27d9",
   "metadata": {
    "ExecuteTime": {
     "end_time": "2025-01-29T19:52:37.368352Z",
     "start_time": "2025-01-29T19:52:37.079292Z"
    }
   },
   "source": [
    "# Test NeuroPy Imports\n",
    "from neuropy import core\n",
    "from neuropy import io\n",
    "from neuropy import plotting\n",
    "from neuropy import analyses"
   ],
   "outputs": [],
   "execution_count": 67
  },
  {
   "cell_type": "code",
   "id": "5a6347bc-3c71-4877-aaf7-29e471c647a8",
   "metadata": {
    "ExecuteTime": {
     "end_time": "2025-01-29T19:52:37.405286Z",
     "start_time": "2025-01-29T19:52:37.375316Z"
    }
   },
   "source": [
    "# Import NeuroPy Packages\n",
    "from neuropy.core import Epoch\n",
    "from neuropy.core.signal import Signal\n",
    "from neuropy.core.processdata import ProcessData\n",
    "\n",
    "from neuropy.analyses.artifact import detect_artifact_epochs\n",
    "\n",
    "from neuropy.plotting.signals import plot_signal_w_epochs\n",
    "\n",
    "from neuropy.io.openephysio import *\n",
    "from neuropy.io import SpykingCircusIO"
   ],
   "outputs": [],
   "execution_count": 68
  },
  {
   "metadata": {
    "ExecuteTime": {
     "end_time": "2025-01-29T19:52:38.577110Z",
     "start_time": "2025-01-29T19:52:38.527241Z"
    }
   },
   "cell_type": "code",
   "source": [
    "print(Signal.__init__.__code__.co_varnames)\n",
    "print(Signal.__module__)\n"
   ],
   "id": "dacdaea6e39101ef",
   "outputs": [
    {
     "name": "stdout",
     "output_type": "stream",
     "text": [
      "('self', 'traces', 'sampling_rate', 't_start', 'channel_id', 'source_file', 'metadata')\n",
      "neuropy.core.signal\n"
     ]
    }
   ],
   "execution_count": 69
  },
  {
   "cell_type": "code",
   "id": "3f9a59f9-a2ef-41d3-993b-5a67e670e971",
   "metadata": {
    "ExecuteTime": {
     "end_time": "2025-01-29T19:52:39.351466Z",
     "start_time": "2025-01-29T19:52:39.301124Z"
    }
   },
   "source": [
    "sess = ProcessData(basepath)\n",
    "print(sess.recinfo)\n",
    "print(sess.eegfile)"
   ],
   "outputs": [
    {
     "name": "stdout",
     "output_type": "stream",
     "text": [
      "filename: /media/kimqi/BK/Data/PCDisruption/Raw/Strawberry/Stb_2024-10-28_Silverstone/Stb_Silverstone.xml \n",
      "# channels: 35\n",
      "sampling rate: 30000\n",
      "lfp Srate (downsampled): 1250\n",
      "\n",
      "duration: 3405.69 seconds \n",
      "duration: 0.95 hours \n",
      "\n"
     ]
    }
   ],
   "execution_count": 70
  },
  {
   "metadata": {
    "ExecuteTime": {
     "end_time": "2025-01-29T19:52:40.576543Z",
     "start_time": "2025-01-29T19:52:40.525365Z"
    }
   },
   "cell_type": "code",
   "source": "sess.eegfile.get_signal()",
   "id": "a84a1fd1870e064f",
   "outputs": [
    {
     "data": {
      "text/plain": [
       "<Signal: {'_filename': None, '_metadata': None, 'traces': memmap([[  -351,   -762,   -613, ...,   1184,   1424,   1060],\n",
       "        [  -797,  -1351,  -1106, ...,   1053,   1187,    877],\n",
       "        [  -916,  -1672,  -1549, ...,    666,    883,    732],\n",
       "        ...,\n",
       "        [-12573, -26137, -23820, ..., -23577, -26715, -18495],\n",
       "        [-12622, -26243, -23922, ..., -20341, -23046, -15955],\n",
       "        [-14503, -30156, -27482, ..., -26999, -30593, -21178]],\n",
       "       dtype=int16), 't_start': 0.0, '_sampling_rate': 1250, 'channel_id': array([ 0,  1,  2,  3,  4,  5,  6,  7,  8,  9, 10, 11, 12, 13, 14, 15, 16,\n",
       "       17, 18, 19, 20, 21, 22, 23, 24, 25, 26, 27, 28, 29, 30, 31, 32, 33,\n",
       "       34]), 'source_file': PosixPath('/media/kimqi/BK/Data/PCDisruption/Raw/Strawberry/Stb_2024-10-28_Silverstone/Stb_Silverstone.eeg')};>"
      ]
     },
     "execution_count": 71,
     "metadata": {},
     "output_type": "execute_result"
    }
   ],
   "execution_count": 71
  },
  {
   "cell_type": "code",
   "id": "3eecdf36e8a9b7cc",
   "metadata": {
    "ExecuteTime": {
     "end_time": "2025-01-29T19:53:07.437765Z",
     "start_time": "2025-01-29T19:53:07.397859Z"
    }
   },
   "source": [
    "%matplotlib widget\n",
    "\n",
    "# Parameters\n",
    "buffer_add = 0.25    # Add buffer before and after detected artifact epochs, None = don't add any\n",
    "art_thresh = 3       # Artifact detection threshold\n",
    "art_edge_cutoff = 2  # Edge cutoff value\n",
    "art_merge = 6        # Merges epochs that are too close to each other\n",
    "\n",
    "# Get signal object\n",
    "signal = sess.eegfile.get_signal()"
   ],
   "outputs": [],
   "execution_count": 72
  },
  {
   "metadata": {
    "ExecuteTime": {
     "end_time": "2025-01-29T19:53:09.264113Z",
     "start_time": "2025-01-29T19:53:09.191157Z"
    }
   },
   "cell_type": "code",
   "source": [
    "\n",
    "# Find artifact epochs. If file exists already, load that instead of creating a new file.\n",
    "art_epochs_file = sess.filePrefix.with_suffix(\".art_epochs.npy\")\n",
    "if art_epochs_file.exists():\n",
    "    art_epochs = Epoch(epochs=None, file=art_epochs_file)\n",
    "    print('Existing artifact epochs file loaded')\n",
    "else:\n",
    "    art_epochs = detect_artifact_epochs(signal, thresh=art_thresh, edge_cutoff=art_edge_cutoff,\n",
    "                                        merge=art_merge)\n",
    "    # Add in a buffer to prevent erroneous detetion of start/stop of artifact as SWRs.\n",
    "    if buffer_add is not None:\n",
    "        art_epochs.add_epoch_buffer(buffer_add)\n",
    "    sess.recinfo.write_epochs(epochs=art_epochs, ext='art')\n",
    "    art_epochs.save(art_epochs_file)\n",
    "\n",
    "print(f'Total artifact time = {art_epochs.durations.sum():0.1F} seconds')\n",
    "print('Automatically detected artifact epochs:')\n",
    "print(art_epochs.to_dataframe())\n",
    "\n",
    "# Plot artifact onto an example channel\n",
    "chan_plot = 15 # Select a good channel\n",
    "art_fig = plot_signal_w_epochs(signal, chan_plot, art_epochs)\n",
    "art_fig_name = f'{session_name}_Artifacts_Channel{chan_plot}.png'\n",
    "plt.savefig(plot_dir / art_fig_name, dpi=300, bbox_inches='tight')  # Save with full path"
   ],
   "id": "06f7ffd8-e4fc-4eba-a05e-e440704c54b1",
   "outputs": [
    {
     "ename": "TypeError",
     "evalue": "Epoch.__init__() got an unexpected keyword argument 'file'",
     "output_type": "error",
     "traceback": [
      "\u001B[0;31m---------------------------------------------------------------------------\u001B[0m",
      "\u001B[0;31mTypeError\u001B[0m                                 Traceback (most recent call last)",
      "Cell \u001B[0;32mIn[73], line 4\u001B[0m\n\u001B[1;32m      2\u001B[0m art_epochs_file \u001B[38;5;241m=\u001B[39m sess\u001B[38;5;241m.\u001B[39mfilePrefix\u001B[38;5;241m.\u001B[39mwith_suffix(\u001B[38;5;124m\"\u001B[39m\u001B[38;5;124m.art_epochs.npy\u001B[39m\u001B[38;5;124m\"\u001B[39m)\n\u001B[1;32m      3\u001B[0m \u001B[38;5;28;01mif\u001B[39;00m art_epochs_file\u001B[38;5;241m.\u001B[39mexists():\n\u001B[0;32m----> 4\u001B[0m     art_epochs \u001B[38;5;241m=\u001B[39m \u001B[43mEpoch\u001B[49m\u001B[43m(\u001B[49m\u001B[43mepochs\u001B[49m\u001B[38;5;241;43m=\u001B[39;49m\u001B[38;5;28;43;01mNone\u001B[39;49;00m\u001B[43m,\u001B[49m\u001B[43m \u001B[49m\u001B[43mfile\u001B[49m\u001B[38;5;241;43m=\u001B[39;49m\u001B[43mart_epochs_file\u001B[49m\u001B[43m)\u001B[49m\n\u001B[1;32m      5\u001B[0m     \u001B[38;5;28mprint\u001B[39m(\u001B[38;5;124m'\u001B[39m\u001B[38;5;124mExisting artifact epochs file loaded\u001B[39m\u001B[38;5;124m'\u001B[39m)\n\u001B[1;32m      6\u001B[0m \u001B[38;5;28;01melse\u001B[39;00m:\n",
      "\u001B[0;31mTypeError\u001B[0m: Epoch.__init__() got an unexpected keyword argument 'file'"
     ]
    }
   ],
   "execution_count": 73
  },
  {
   "cell_type": "code",
   "execution_count": null,
   "id": "55b8c470-e36a-4168-9267-75a33affead8",
   "metadata": {},
   "outputs": [],
   "source": []
  }
 ],
 "metadata": {
  "kernelspec": {
   "display_name": "Python 3 (ipykernel)",
   "language": "python",
   "name": "python3"
  },
  "language_info": {
   "codemirror_mode": {
    "name": "ipython",
    "version": 3
   },
   "file_extension": ".py",
   "mimetype": "text/x-python",
   "name": "python",
   "nbconvert_exporter": "python",
   "pygments_lexer": "ipython3",
   "version": "3.11.9"
  }
 },
 "nbformat": 4,
 "nbformat_minor": 5
}
