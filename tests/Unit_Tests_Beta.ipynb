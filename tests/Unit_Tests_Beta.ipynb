{
 "cells": [
  {
   "cell_type": "code",
   "id": "64d601c2-45f0-4f09-8964-204b117f4b57",
   "metadata": {
    "ExecuteTime": {
     "end_time": "2025-01-29T19:27:31.490808Z",
     "start_time": "2025-01-29T19:27:31.437735Z"
    }
   },
   "source": [
    "# Import Core Packages\n",
    "%load_ext autoreload\n",
    "%autoreload 2\n",
    "\n",
    "import math\n",
    "import numpy as np\n",
    "\n",
    "from scipy.sparse import csr_matrix\n",
    "\n",
    "import matplotlib.pyplot as plt\n",
    "import matplotlib.gridspec as gridspec\n",
    "\n",
    "import seaborn as sns\n",
    "import pandas as pd\n",
    "import re\n",
    "import sys\n",
    "import os\n",
    "from pathlib import Path\n",
    "import platform\n",
    "import shutil"
   ],
   "outputs": [
    {
     "name": "stdout",
     "output_type": "stream",
     "text": [
      "The autoreload extension is already loaded. To reload it, use:\n",
      "  %reload_ext autoreload\n"
     ]
    }
   ],
   "execution_count": 26
  },
  {
   "metadata": {
    "ExecuteTime": {
     "end_time": "2025-01-29T19:27:32.513699Z",
     "start_time": "2025-01-29T19:27:32.507720Z"
    }
   },
   "cell_type": "code",
   "source": "",
   "id": "12ef45e29c691ea8",
   "outputs": [],
   "execution_count": null
  },
  {
   "cell_type": "code",
   "id": "ce41aab8-0069-41df-be18-9a010eac9ec4",
   "metadata": {
    "ExecuteTime": {
     "end_time": "2025-01-29T19:28:43.190401Z",
     "start_time": "2025-01-29T19:28:43.137239Z"
    }
   },
   "source": [
    "# User Inputs\n",
    "basepath = Path('/media/kimqi/BK/Data/PCDisruption/Raw/Strawberry/Stb_2024-10-28_Silverstone')\n",
    "\n",
    "# Get Session Directory Information\n",
    "animal = basepath.parent.name\n",
    "cur_folder = Path(basepath).name\n",
    "session_name = re.sub(r'_\\d{4}-\\d{2}-\\d{2}_', '_', cur_folder)\n",
    "\n",
    "# Get current OS and set paths dependent on working OS.\n",
    "cur_system = platform.system()\n",
    "\n",
    "if cur_system == \"Linux\":  # For Linux systems\n",
    "    sys.path.extend(['/home/kimqi/Documents/Repositories/NeuroPy'])  # NeuroPy Path\n",
    "\n",
    "    # Save Directory\n",
    "    save_dir = Path('/home/kimqi/Documents/Analyses/Placefields')\n",
    "    \n",
    "elif cur_system == \"Windows\":\n",
    "    sys.path.extend([r'E:\\Code\\Repositories\\NeuroPy'])  # NeuroPy Path\n",
    "    save_dir = Path('E:\\Analyses\\Placefields')  # Save Path\n",
    "    save_dir = save_dir / session_name\n",
    "    save_dir.mkdir(parents=True, exist_ok=True)\n",
    "    plot_dir = save_dir / 'Plots'\n",
    "    plot_dir.mkdir(parents=True, exist_ok=True)"
   ],
   "outputs": [],
   "execution_count": 32
  },
  {
   "metadata": {
    "ExecuteTime": {
     "end_time": "2025-01-29T19:28:43.804598Z",
     "start_time": "2025-01-29T19:28:43.754917Z"
    }
   },
   "cell_type": "code",
   "source": "cur_folder",
   "id": "51e0e16f77b8ba98",
   "outputs": [
    {
     "data": {
      "text/plain": [
       "'Stb_2024-10-28_Silverstone'"
      ]
     },
     "execution_count": 33,
     "metadata": {},
     "output_type": "execute_result"
    }
   ],
   "execution_count": 33
  },
  {
   "cell_type": "code",
   "id": "aa22afa8-c963-4fdb-9e1f-0adcbb2d27d9",
   "metadata": {
    "ExecuteTime": {
     "end_time": "2025-01-29T19:28:45.243163Z",
     "start_time": "2025-01-29T19:28:45.196864Z"
    }
   },
   "source": [
    "# Test NeuroPy Imports\n",
    "from neuropy import core\n",
    "from neuropy import io\n",
    "from neuropy import plotting\n",
    "from neuropy import analyses"
   ],
   "outputs": [],
   "execution_count": 34
  },
  {
   "cell_type": "code",
   "id": "5a6347bc-3c71-4877-aaf7-29e471c647a8",
   "metadata": {
    "ExecuteTime": {
     "end_time": "2025-01-29T19:30:25.324159Z",
     "start_time": "2025-01-29T19:30:25.129309Z"
    }
   },
   "source": [
    "# Import NeuroPy Packages\n",
    "from neuropy import core\n",
    "from neuropy.core import Epoch\n",
    "from neuropy.core import Signal\n",
    "from neuropy.core.processdata import ProcessData\n",
    "\n",
    "from neuropy.analyses.artifact import detect_artifact_epochs\n",
    "\n",
    "from neuropy.plotting.signals import plot_signal_w_epochs\n",
    "\n",
    "from neuropy.io.openephysio import *\n",
    "from neuropy.io import SpykingCircusIO"
   ],
   "outputs": [],
   "execution_count": 44
  },
  {
   "metadata": {
    "ExecuteTime": {
     "end_time": "2025-01-29T19:30:25.381008Z",
     "start_time": "2025-01-29T19:30:25.336428Z"
    }
   },
   "cell_type": "code",
   "source": "print(Signal.__init__.__code__.co_varnames)\n",
   "id": "dacdaea6e39101ef",
   "outputs": [
    {
     "name": "stdout",
     "output_type": "stream",
     "text": [
      "('self', 'traces', 'sampling_rate', 't_start', 'channel_id')\n"
     ]
    }
   ],
   "execution_count": 45
  },
  {
   "cell_type": "code",
   "id": "3f9a59f9-a2ef-41d3-993b-5a67e670e971",
   "metadata": {
    "ExecuteTime": {
     "end_time": "2025-01-29T19:30:25.544976Z",
     "start_time": "2025-01-29T19:30:25.502318Z"
    }
   },
   "source": [
    "sess = ProcessData(basepath)\n",
    "print(sess.recinfo)\n",
    "print(sess.eegfile)"
   ],
   "outputs": [
    {
     "name": "stdout",
     "output_type": "stream",
     "text": [
      "filename: /media/kimqi/BK/Data/PCDisruption/Raw/Strawberry/Stb_2024-10-28_Silverstone/Stb_Silverstone.xml \n",
      "# channels: 35\n",
      "sampling rate: 30000\n",
      "lfp Srate (downsampled): 1250\n",
      "\n",
      "duration: 3405.69 seconds \n",
      "duration: 0.95 hours \n",
      "\n"
     ]
    }
   ],
   "execution_count": 46
  },
  {
   "cell_type": "code",
   "id": "3eecdf36e8a9b7cc",
   "metadata": {
    "ExecuteTime": {
     "end_time": "2025-01-29T19:30:33.386911Z",
     "start_time": "2025-01-29T19:30:33.336306Z"
    }
   },
   "source": [
    "%matplotlib widget\n",
    "\n",
    "# Parameters\n",
    "buffer_add = 0.25    # Add buffer before and after detected artifact epochs, None = don't add any\n",
    "art_thresh = 3       # Artifact detection threshold\n",
    "art_edge_cutoff = 2  # Edge cutoff value\n",
    "art_merge = 6        # Merges epochs that are too close to each other\n",
    "\n",
    "# Get signal object\n",
    "signal = sess.eegfile.get_signal()\n",
    "signal."
   ],
   "outputs": [
    {
     "data": {
      "text/plain": [
       "<neuropy.core.signal.Signal at 0x7f5ec25c6c50>"
      ]
     },
     "execution_count": 48,
     "metadata": {},
     "output_type": "execute_result"
    }
   ],
   "execution_count": 48
  },
  {
   "metadata": {
    "ExecuteTime": {
     "end_time": "2025-01-29T18:57:56.019524Z",
     "start_time": "2025-01-29T18:57:55.930929Z"
    }
   },
   "cell_type": "code",
   "outputs": [
    {
     "ename": "TypeError",
     "evalue": "Signal.__init__() got an unexpected keyword argument 'source_file'",
     "output_type": "error",
     "traceback": [
      "\u001B[0;31m---------------------------------------------------------------------------\u001B[0m",
      "\u001B[0;31mTypeError\u001B[0m                                 Traceback (most recent call last)",
      "Cell \u001B[0;32mIn[15], line 10\u001B[0m\n\u001B[1;32m      7\u001B[0m art_merge \u001B[38;5;241m=\u001B[39m \u001B[38;5;241m6\u001B[39m        \u001B[38;5;66;03m# Merges epochs that are too close to each other\u001B[39;00m\n\u001B[1;32m      9\u001B[0m \u001B[38;5;66;03m# Get signal object\u001B[39;00m\n\u001B[0;32m---> 10\u001B[0m signal \u001B[38;5;241m=\u001B[39m \u001B[43msess\u001B[49m\u001B[38;5;241;43m.\u001B[39;49m\u001B[43meegfile\u001B[49m\u001B[38;5;241;43m.\u001B[39;49m\u001B[43mget_signal\u001B[49m\u001B[43m(\u001B[49m\u001B[43m)\u001B[49m\n\u001B[1;32m     12\u001B[0m \u001B[38;5;66;03m# Find artifact epochs. If file exists already, load that instead of creating a new file.\u001B[39;00m\n\u001B[1;32m     13\u001B[0m art_epochs_file \u001B[38;5;241m=\u001B[39m sess\u001B[38;5;241m.\u001B[39mfilePrefix\u001B[38;5;241m.\u001B[39mwith_suffix(\u001B[38;5;124m\"\u001B[39m\u001B[38;5;124m.art_epochs.npy\u001B[39m\u001B[38;5;124m\"\u001B[39m)\n",
      "File \u001B[0;32m~/Documents/Code/Repositories/NeuroPy/neuropy/io/binarysignalio.py:77\u001B[0m, in \u001B[0;36mBinarysignalIO.get_signal\u001B[0;34m(self, channel_indx, t_start, t_stop)\u001B[0m\n\u001B[1;32m     75\u001B[0m \u001B[38;5;28;01mif\u001B[39;00m sig\u001B[38;5;241m.\u001B[39mndim \u001B[38;5;241m==\u001B[39m \u001B[38;5;241m1\u001B[39m:\n\u001B[1;32m     76\u001B[0m     sig \u001B[38;5;241m=\u001B[39m sig\u001B[38;5;241m.\u001B[39mreshape(\u001B[38;5;241m1\u001B[39m, \u001B[38;5;241m-\u001B[39m\u001B[38;5;241m1\u001B[39m)\n\u001B[0;32m---> 77\u001B[0m \u001B[38;5;28;01mreturn\u001B[39;00m \u001B[43mSignal\u001B[49m\u001B[43m(\u001B[49m\n\u001B[1;32m     78\u001B[0m \u001B[43m    \u001B[49m\u001B[43mtraces\u001B[49m\u001B[38;5;241;43m=\u001B[39;49m\u001B[43msig\u001B[49m\u001B[43m,\u001B[49m\n\u001B[1;32m     79\u001B[0m \u001B[43m    \u001B[49m\u001B[43msampling_rate\u001B[49m\u001B[38;5;241;43m=\u001B[39;49m\u001B[38;5;28;43mself\u001B[39;49m\u001B[38;5;241;43m.\u001B[39;49m\u001B[43msampling_rate\u001B[49m\u001B[43m,\u001B[49m\n\u001B[1;32m     80\u001B[0m \u001B[43m    \u001B[49m\u001B[43mt_start\u001B[49m\u001B[38;5;241;43m=\u001B[39;49m\u001B[43mt_start\u001B[49m\u001B[43m,\u001B[49m\n\u001B[1;32m     81\u001B[0m \u001B[43m    \u001B[49m\u001B[43mchannel_id\u001B[49m\u001B[38;5;241;43m=\u001B[39;49m\u001B[43mchannel_indx\u001B[49m\u001B[43m,\u001B[49m\n\u001B[1;32m     82\u001B[0m \u001B[43m    \u001B[49m\u001B[43msource_file\u001B[49m\u001B[38;5;241;43m=\u001B[39;49m\u001B[38;5;28;43mself\u001B[39;49m\u001B[38;5;241;43m.\u001B[39;49m\u001B[43msource_file\u001B[49m\u001B[43m,\u001B[49m\n\u001B[1;32m     83\u001B[0m \u001B[43m\u001B[49m\u001B[43m)\u001B[49m\n",
      "\u001B[0;31mTypeError\u001B[0m: Signal.__init__() got an unexpected keyword argument 'source_file'"
     ]
    }
   ],
   "execution_count": 15,
   "source": [
    "\n",
    "# Find artifact epochs. If file exists already, load that instead of creating a new file.\n",
    "art_epochs_file = sess.filePrefix.with_suffix(\".art_epochs.npy\")\n",
    "if art_epochs_file.exists():\n",
    "    art_epochs = Epoch(epochs=None, file=art_epochs_file)\n",
    "    print('Existing artifact epochs file loaded')\n",
    "else:\n",
    "    art_epochs = detect_artifact_epochs(signal, thresh=art_thresh, edge_cutoff=art_edge_cutoff,\n",
    "                                        merge=art_merge)\n",
    "    # Add in a buffer to prevent erroneous detetion of start/stop of artifact as SWRs.\n",
    "    if buffer_add is not None:\n",
    "        art_epochs.add_epoch_buffer(buffer_add)\n",
    "    sess.recinfo.write_epochs(epochs=art_epochs, ext='art')\n",
    "    art_epochs.save(art_epochs_file)\n",
    "\n",
    "print(f'Total artifact time = {art_epochs.durations.sum():0.1F} seconds')\n",
    "print('Automatically detected artifact epochs:')\n",
    "print(art_epochs.to_dataframe())\n",
    "\n",
    "# Plot artifact onto an example channel\n",
    "chan_plot = 15 # Select a good channel\n",
    "art_fig = plot_signal_w_epochs(signal, chan_plot, art_epochs)\n",
    "art_fig_name = f'{session_name}_Artifacts_Channel{chan_plot}.png'\n",
    "plt.savefig(plot_dir / art_fig_name, dpi=300, bbox_inches='tight')  # Save with full path"
   ],
   "id": "06f7ffd8-e4fc-4eba-a05e-e440704c54b1"
  },
  {
   "cell_type": "code",
   "execution_count": null,
   "id": "55b8c470-e36a-4168-9267-75a33affead8",
   "metadata": {},
   "outputs": [],
   "source": []
  }
 ],
 "metadata": {
  "kernelspec": {
   "display_name": "Python 3 (ipykernel)",
   "language": "python",
   "name": "python3"
  },
  "language_info": {
   "codemirror_mode": {
    "name": "ipython",
    "version": 3
   },
   "file_extension": ".py",
   "mimetype": "text/x-python",
   "name": "python",
   "nbconvert_exporter": "python",
   "pygments_lexer": "ipython3",
   "version": "3.11.9"
  }
 },
 "nbformat": 4,
 "nbformat_minor": 5
}
