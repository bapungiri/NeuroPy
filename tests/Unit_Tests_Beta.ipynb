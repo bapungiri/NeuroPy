{
 "cells": [
  {
   "cell_type": "code",
   "execution_count": 1,
   "id": "64d601c2-45f0-4f09-8964-204b117f4b57",
   "metadata": {},
   "outputs": [],
   "source": [
    "# Import Core Packages\n",
    "%load_ext autoreload\n",
    "%autoreload 2\n",
    "\n",
    "import math\n",
    "import numpy as np\n",
    "import cupy as cp\n",
    "\n",
    "from scipy.sparse import csr_matrix\n",
    "\n",
    "import matplotlib.pyplot as plt\n",
    "import matplotlib.gridspec as gridspec\n",
    "\n",
    "import seaborn as sns\n",
    "import pandas as pd\n",
    "import re\n",
    "import sys\n",
    "import os\n",
    "from pathlib import Path\n",
    "import platform\n",
    "import shutil"
   ]
  },
  {
   "cell_type": "code",
   "execution_count": 2,
   "id": "ce41aab8-0069-41df-be18-9a010eac9ec4",
   "metadata": {},
   "outputs": [],
   "source": [
    "# User Inputs\n",
    "basepath = Path('E:\\Data\\PCDisruption\\Strawberry\\Stb_2024-10-30_Suzuka')\n",
    "\n",
    "# Get Session Directory Information\n",
    "animal = basepath.parent.name\n",
    "cur_folder = Path(basepath).name\n",
    "session_name = re.sub(r'_\\d{4}-\\d{2}-\\d{2}_', '_', cur_folder)\n",
    "\n",
    "# Get current OS and set paths dependent on working OS.\n",
    "cur_system = platform.system()\n",
    "\n",
    "if cur_system == \"Linux\":  # For Linux systems\n",
    "    sys.path.extend(['/home/kimqi/Documents/Repositories/NeuroPy'])  # NeuroPy Path\n",
    "\n",
    "    # Save Directory\n",
    "    save_dir = Path('/home/kimqi/Documents/Analyses/Placefields')\n",
    "    \n",
    "elif cur_system == \"Windows\":\n",
    "    sys.path.extend([r'E:\\Code\\Repositories\\NeuroPy'])  # NeuroPy Path\n",
    "    save_dir = Path('E:\\Analyses\\Placefields')  # Save Path\n",
    "    save_dir = save_dir / session_name\n",
    "    save_dir.mkdir(parents=True, exist_ok=True)\n",
    "    plot_dir = save_dir / 'Plots'\n",
    "    plot_dir.mkdir(parents=True, exist_ok=True)"
   ]
  },
  {
   "cell_type": "code",
   "execution_count": 4,
   "id": "aa22afa8-c963-4fdb-9e1f-0adcbb2d27d9",
   "metadata": {},
   "outputs": [],
   "source": [
    "# Test NeuroPy Imports\n",
    "from neuropy import core\n",
    "from neuropy import io\n",
    "from neuropy import plotting\n",
    "from neuropy import analyses"
   ]
  },
  {
   "cell_type": "code",
   "execution_count": 6,
   "id": "5a6347bc-3c71-4877-aaf7-29e471c647a8",
   "metadata": {},
   "outputs": [
    {
     "ename": "ImportError",
     "evalue": "cannot import name 'ProcessData' from 'neuropy.core.session' (E:\\Code\\Repositories\\NeuroPy\\neuropy\\core\\session\\__init__.py)",
     "output_type": "error",
     "traceback": [
      "\u001b[1;31m---------------------------------------------------------------------------\u001b[0m",
      "\u001b[1;31mImportError\u001b[0m                               Traceback (most recent call last)",
      "Cell \u001b[1;32mIn[6], line 4\u001b[0m\n\u001b[0;32m      2\u001b[0m \u001b[38;5;28;01mfrom\u001b[39;00m \u001b[38;5;21;01mneuropy\u001b[39;00m \u001b[38;5;28;01mimport\u001b[39;00m core\n\u001b[0;32m      3\u001b[0m \u001b[38;5;28;01mfrom\u001b[39;00m \u001b[38;5;21;01mneuropy\u001b[39;00m\u001b[38;5;21;01m.\u001b[39;00m\u001b[38;5;21;01mcore\u001b[39;00m \u001b[38;5;28;01mimport\u001b[39;00m Epoch\n\u001b[1;32m----> 4\u001b[0m \u001b[38;5;28;01mfrom\u001b[39;00m \u001b[38;5;21;01mneuropy\u001b[39;00m\u001b[38;5;21;01m.\u001b[39;00m\u001b[38;5;21;01mcore\u001b[39;00m\u001b[38;5;21;01m.\u001b[39;00m\u001b[38;5;21;01msession\u001b[39;00m \u001b[38;5;28;01mimport\u001b[39;00m ProcessData\n\u001b[0;32m      6\u001b[0m \u001b[38;5;28;01mfrom\u001b[39;00m \u001b[38;5;21;01mneuropy\u001b[39;00m\u001b[38;5;21;01m.\u001b[39;00m\u001b[38;5;21;01manalyses\u001b[39;00m\u001b[38;5;21;01m.\u001b[39;00m\u001b[38;5;21;01martifact\u001b[39;00m \u001b[38;5;28;01mimport\u001b[39;00m detect_artifact_epochs\n\u001b[0;32m      8\u001b[0m \u001b[38;5;28;01mfrom\u001b[39;00m \u001b[38;5;21;01mneuropy\u001b[39;00m\u001b[38;5;21;01m.\u001b[39;00m\u001b[38;5;21;01mplotting\u001b[39;00m\u001b[38;5;21;01m.\u001b[39;00m\u001b[38;5;21;01msignals\u001b[39;00m \u001b[38;5;28;01mimport\u001b[39;00m plot_signal_w_epochs\n",
      "\u001b[1;31mImportError\u001b[0m: cannot import name 'ProcessData' from 'neuropy.core.session' (E:\\Code\\Repositories\\NeuroPy\\neuropy\\core\\session\\__init__.py)"
     ]
    }
   ],
   "source": [
    "# Import NeuroPy Packages\n",
    "from neuropy import core\n",
    "from neuropy.core import Epoch\n",
    "from neuropy.core.session import ProcessData\n",
    "\n",
    "from neuropy.analyses.artifact import detect_artifact_epochs\n",
    "\n",
    "from neuropy.plotting.signals import plot_signal_w_epochs\n",
    "\n",
    "from neuropy.io.openephysio import *\n",
    "from neuropy.io import SpykingCircusIO"
   ]
  },
  {
   "cell_type": "code",
   "execution_count": 6,
   "id": "3f9a59f9-a2ef-41d3-993b-5a67e670e971",
   "metadata": {},
   "outputs": [
    {
     "name": "stdout",
     "output_type": "stream",
     "text": [
      "filename: E:\\Data\\PCDisruption\\Strawberry\\Stb_2024-10-30_Suzuka\\Stb_2024-10-30_Suzuka.xml \n",
      "# channels: 35\n",
      "sampling rate: 30000\n",
      "lfp Srate (downsampled): 1250\n",
      "\n",
      "duration: 2919.19 seconds \n",
      "duration: 0.81 hours \n",
      "\n"
     ]
    }
   ],
   "source": [
    "sess = ProcessData(basepath)\n",
    "print(sess.recinfo)\n",
    "print(sess.eegfile)"
   ]
  },
  {
   "cell_type": "code",
   "execution_count": 8,
   "id": "06f7ffd8-e4fc-4eba-a05e-e440704c54b1",
   "metadata": {},
   "outputs": [
    {
     "ename": "TypeError",
     "evalue": "Epoch.__init__() got an unexpected keyword argument 'file'",
     "output_type": "error",
     "traceback": [
      "\u001b[1;31m---------------------------------------------------------------------------\u001b[0m",
      "\u001b[1;31mTypeError\u001b[0m                                 Traceback (most recent call last)",
      "Cell \u001b[1;32mIn[8], line 15\u001b[0m\n\u001b[0;32m     13\u001b[0m art_epochs_file \u001b[38;5;241m=\u001b[39m sess\u001b[38;5;241m.\u001b[39mfilePrefix\u001b[38;5;241m.\u001b[39mwith_suffix(\u001b[38;5;124m\"\u001b[39m\u001b[38;5;124m.art_epochs.npy\u001b[39m\u001b[38;5;124m\"\u001b[39m)\n\u001b[0;32m     14\u001b[0m \u001b[38;5;28;01mif\u001b[39;00m art_epochs_file\u001b[38;5;241m.\u001b[39mexists():\n\u001b[1;32m---> 15\u001b[0m     art_epochs \u001b[38;5;241m=\u001b[39m \u001b[43mEpoch\u001b[49m\u001b[43m(\u001b[49m\u001b[43mepochs\u001b[49m\u001b[38;5;241;43m=\u001b[39;49m\u001b[38;5;28;43;01mNone\u001b[39;49;00m\u001b[43m,\u001b[49m\u001b[43m \u001b[49m\u001b[43mfile\u001b[49m\u001b[38;5;241;43m=\u001b[39;49m\u001b[43mart_epochs_file\u001b[49m\u001b[43m)\u001b[49m\n\u001b[0;32m     16\u001b[0m     \u001b[38;5;28mprint\u001b[39m(\u001b[38;5;124m'\u001b[39m\u001b[38;5;124mExisting artifact epochs file loaded\u001b[39m\u001b[38;5;124m'\u001b[39m)\n\u001b[0;32m     17\u001b[0m \u001b[38;5;28;01melse\u001b[39;00m:\n",
      "\u001b[1;31mTypeError\u001b[0m: Epoch.__init__() got an unexpected keyword argument 'file'"
     ]
    }
   ],
   "source": [
    "%matplotlib widget\n",
    "\n",
    "# Parameters\n",
    "buffer_add = 0.25    # Add buffer before and after detected artifact epochs, None = don't add any\n",
    "art_thresh = 3       # Artifact detection threshold\n",
    "art_edge_cutoff = 2  # Edge cutoff value\n",
    "art_merge = 6        # Merges epochs that are too close to each other\n",
    "\n",
    "# Get signal object\n",
    "signal = sess.eegfile.get_signal()\n",
    "\n",
    "# Find artifact epochs. If file exists already, load that instead of creating a new file.\n",
    "art_epochs_file = sess.filePrefix.with_suffix(\".art_epochs.npy\")\n",
    "if art_epochs_file.exists():\n",
    "    art_epochs = Epoch(epochs=None, file=art_epochs_file)\n",
    "    print('Existing artifact epochs file loaded')\n",
    "else:\n",
    "    art_epochs = detect_artifact_epochs(signal, thresh=art_thresh, edge_cutoff=art_edge_cutoff, \n",
    "                                        merge=art_merge)\n",
    "    # Add in a buffer to prevent erroneous detetion of start/stop of artifact as SWRs.\n",
    "    if buffer_add is not None:\n",
    "        art_epochs.add_epoch_buffer(buffer_add)\n",
    "    sess.recinfo.write_epochs(epochs=art_epochs, ext='art')\n",
    "    art_epochs.save(art_epochs_file)\n",
    "\n",
    "print(f'Total artifact time = {art_epochs.durations.sum():0.1F} seconds')\n",
    "print('Automatically detected artifact epochs:')\n",
    "print(art_epochs.to_dataframe())\n",
    "\n",
    "# Plot artifact onto an example channel\n",
    "chan_plot = 15 # Select a good channel\n",
    "art_fig = plot_signal_w_epochs(signal, chan_plot, art_epochs)\n",
    "art_fig_name = f'{session_name}_Artifacts_Channel{chan_plot}.png' \n",
    "plt.savefig(plot_dir / art_fig_name, dpi=300, bbox_inches='tight')  # Save with full path"
   ]
  },
  {
   "cell_type": "code",
   "execution_count": null,
   "id": "55b8c470-e36a-4168-9267-75a33affead8",
   "metadata": {},
   "outputs": [],
   "source": []
  }
 ],
 "metadata": {
  "kernelspec": {
   "display_name": "Python 3 (ipykernel)",
   "language": "python",
   "name": "python3"
  },
  "language_info": {
   "codemirror_mode": {
    "name": "ipython",
    "version": 3
   },
   "file_extension": ".py",
   "mimetype": "text/x-python",
   "name": "python",
   "nbconvert_exporter": "python",
   "pygments_lexer": "ipython3",
   "version": "3.11.9"
  }
 },
 "nbformat": 4,
 "nbformat_minor": 5
}
