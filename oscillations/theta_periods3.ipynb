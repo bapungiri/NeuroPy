{
 "cells": [
  {
   "cell_type": "markdown",
   "metadata": {},
   "source": [
    "## Effect on theta asymmetry if slow gamma frequency region is filtered out\n",
    "* bandstop filter"
   ]
  },
  {
   "cell_type": "code",
   "execution_count": 2,
   "metadata": {},
   "outputs": [],
   "source": [
    "import numpy as np\n",
    "import scipy as sg\n",
    "import subjects\n",
    "from plotUtil import Fig\n",
    "import matplotlib.pyplot as plt"
   ]
  },
  {
   "cell_type": "code",
   "execution_count": null,
   "metadata": {},
   "outputs": [],
   "source": [
    "%matplotlib inline\n",
    "sessions = subjects.Of().ratNday4\n",
    "for sub,sess in enumerate(sessions):\n",
    "    eegsrate = sess.recinfo.lfpSrate\n",
    "    nyq = 0.5 * eegsrate\n",
    "    maze = sess.epochs.maze\n",
    "    lfpmaze = sess.recinfo.geteeg(chans=111,timeRange=maze)\n",
    "    b,a = sg.signal.butter(5,[16/nyq,20/nyq],btype='bandstop')\n",
    "    yf = sg.signal.filtfilt(b,a,lfpmaze)\n",
    "    plt.plot(lfpmaze,'k')\n",
    "    plt.plot(yf,'r')"
   ]
  },
  {
   "cell_type": "markdown",
   "metadata": {},
   "source": [
    "## Power correlation to identify fundamental frequencies "
   ]
  },
  {
   "cell_type": "code",
   "execution_count": 2,
   "metadata": {},
   "outputs": [],
   "source": [
    "import numpy as np\n",
    "import scipy.signal as sg\n",
    "import matplotlib.pyplot as plt\n",
    "import subjects\n",
    "from plotUtil import Fig"
   ]
  },
  {
   "cell_type": "code",
   "execution_count": 7,
   "metadata": {},
   "outputs": [
    {
     "data": {
      "application/vnd.jupyter.widget-view+json": {
       "model_id": "35ab9648a66b4dfc83f9173784259430",
       "version_major": 2,
       "version_minor": 0
      },
      "text/plain": "Canvas(toolbar=Toolbar(toolitems=[('Home', 'Reset original view', 'home', 'home'), ('Back', 'Back to previous …"
     },
     "metadata": {},
     "output_type": "display_data"
    }
   ],
   "source": [
    "%matplotlib widget\n",
    "figure = Fig()\n",
    "fig,gs = figure.draw(num=1,grid=(3,3))\n",
    "sessions = subjects.Of().ratNday4\n",
    "for sub,sess in enumerate(sessions):\n",
    "    eegsrate = sess.recinfo.lfpSrate\n",
    "    maze =sess.epochs.maze\n",
    "    speed = sess.position.data['speed']\n",
    "    channels = sess.recinfo.goodchangrp[3][::2]\n",
    "    for i, chan in enumerate(channels):\n",
    "        # lfpmaze = sess.recinfo.geteeg(chans=chan,timeRange=maze)\n",
    "        f,t,sxx = sess.recinfo.get_specgram(chan=chan,window=2,overlap=1,period=maze)\n",
    "\n",
    "        f_req_ind = np.where((1<f) & (f<100))[0]\n",
    "        f_req = f[f_req_ind]\n",
    "        corr_freq = np.corrcoef(sxx[f_req_ind,:])\n",
    "        np.fill_diagonal(corr_freq,val=0)\n",
    "\n",
    "        ax = plt.subplot(gs[i])\n",
    "        ax.pcolormesh(f_req,f_req,corr_freq,shading='auto',cmap='bwr',vmax=0.3)\n",
    "        # ax.set_xscale('log')\n",
    "        # ax.set_yscale('log')\n",
    "        ax.set_xticks([8,16,30,50,60,90])\n",
    "        ax.set_yticks([8,16,30,50,60,90])\n",
    "        ax.set_xlabel('Frequency (Hz)')\n",
    "        ax.set_ylabel('Frequency (Hz)')\n",
    "        "
   ]
  },
  {
   "cell_type": "markdown",
   "metadata": {},
   "source": [
    "## Power power correlations at different frequencies for unit-LFP\n",
    "* Wanted to see if spike timings also reflect distinct bands in power-power correlations\n",
    "* First bin the spiketimes into 1ms bins and then from that spkcount timeseries do the power power correlation\n",
    "\n",
    "### observations\n",
    "* spike count timeseries has very sharp transitions and a fourier transform of that will have power in all frequencies which is also seen in the figures as a 'continuous band'"
   ]
  },
  {
   "cell_type": "code",
   "execution_count": 5,
   "metadata": {},
   "outputs": [],
   "source": [
    "import numpy as np\n",
    "import scipy.signal as sg\n",
    "import matplotlib.pyplot as plt\n",
    "import subjects\n",
    "from plotUtil import Fig"
   ]
  },
  {
   "cell_type": "code",
   "execution_count": 8,
   "metadata": {},
   "outputs": [
    {
     "data": {
      "application/vnd.jupyter.widget-view+json": {
       "model_id": "53c53de33de344faaf082565f7a34ec7",
       "version_major": 2,
       "version_minor": 0
      },
      "text/plain": "Canvas(toolbar=Toolbar(toolitems=[('Home', 'Reset original view', 'home', 'home'), ('Back', 'Back to previous …"
     },
     "metadata": {},
     "output_type": "display_data"
    }
   ],
   "source": [
    "%matplotlib widget\n",
    "figure = Fig()\n",
    "fig,gs = figure.draw(num=1,grid=(4,3))\n",
    "sessions = subjects.Of().ratNday4\n",
    "for sub,sess in enumerate(sessions):\n",
    "    eegsrate = sess.recinfo.lfpSrate\n",
    "    cell_ids= sess.spikes.pyrid\n",
    "    maze =sess.epochs.maze\n",
    "    spkcount = sess.spikes.get_spkcounts(cell_ids=cell_ids,period=maze,binsize=0.001)\n",
    "\n",
    "    for cell,spk in enumerate(spkcount[20:30,:]):\n",
    "        f,t,sxx = sg.spectrogram(spk,fs=1000,nperseg=2*1000,noverlap=1000) \n",
    "        f_req_ind = np.where((1<f) & (f<100))[0]\n",
    "        f_req = f[f_req_ind]\n",
    "        corr_freq = np.corrcoef(sxx[f_req_ind,:])\n",
    "        np.fill_diagonal(corr_freq,val=0)\n",
    "\n",
    "        ax= plt.subplot(gs[cell])\n",
    "        ax.pcolormesh(f_req,f_req,corr_freq,shading='auto',cmap='bwr')\n",
    "        # ax.set_xscale('log')\n",
    "        # ax.set_yscale('log')\n",
    "        ax.set_xticks([8,16,30,50,60,90])\n",
    "        ax.set_yticks([8,16,30,50,60,90])\n",
    "        ax.set_xlabel('Frequency (Hz)')\n",
    "        ax.set_ylabel('Frequency (Hz)')\n",
    "        "
   ]
  },
  {
   "cell_type": "markdown",
   "metadata": {},
   "source": [
    "## Power power correlation for phase-broken lfp\n",
    "correlation between powers at different frequencies is used to estimate fundamental frequency. Here we are estimating these fundamental frequency bands by breaking theta into phase-specific bins, which are then concatenated across cycles to generate phase-specific lfp. Interesting comparisons between \"highpass filtered lfp (25 Hz)\" and breaking raw theta itself. "
   ]
  },
  {
   "cell_type": "code",
   "execution_count": 2,
   "metadata": {},
   "outputs": [],
   "source": [
    "import numpy as np\n",
    "import scipy.signal as sg\n",
    "import matplotlib.pyplot as plt\n",
    "import subjects\n",
    "from plotUtil import Fig\n",
    "import signal_process\n",
    "import pandas as pd"
   ]
  },
  {
   "cell_type": "code",
   "execution_count": 4,
   "metadata": {},
   "outputs": [],
   "source": [
    "%matplotlib qt\n",
    "figure = Fig()\n",
    "fig,gs = figure.draw(num=1,grid=(4,2))\n",
    "sessions = subjects.Of().ratNday4\n",
    "for sub,sess in enumerate(sessions):\n",
    "    eegsrate = sess.recinfo.lfpSrate\n",
    "    maze =sess.epochs.maze\n",
    "    speed = sess.position.data['speed']\n",
    "    channels = sess.recinfo.goodchangrp[3][::4]\n",
    "    for i, chan in enumerate(channels):\n",
    "        lfpmaze = sess.recinfo.geteeg(chans=chan,timeRange= maze)\n",
    "        strong_theta = sess.theta.getstrongTheta(lfpmaze)[0]\n",
    "        slgamma_highpass = signal_process.filter_sig.highpass(strong_theta, cutoff=25)\n",
    "        gamma_bin, _, angle_centers = sess.theta.phase_specfic_extraction(\n",
    "            strong_theta, slgamma_highpass, binsize=180, slideby=None\n",
    "        )\n",
    "        df = pd.DataFrame()\n",
    "        f_ = None\n",
    "        for ii,(lfp, center) in enumerate(zip(gamma_bin, angle_centers)):\n",
    "            f,t,sxx = sg.spectrogram(lfp,fs=eegsrate,nperseg=2*eegsrate,noverlap=1*eegsrate)\n",
    "            f_req_ind = np.where((1<f) & (f<100))[0]\n",
    "            f_req = f[f_req_ind]\n",
    "            corr_freq = np.corrcoef(sxx[f_req_ind,:])\n",
    "            np.fill_diagonal(corr_freq,val=0)\n",
    "\n",
    "            ax = plt.subplot(gs[i,ii])\n",
    "            ax.pcolormesh(f_req,f_req,corr_freq,shading='gouraud',cmap='coolwarm',vmin=-0.1,vmax=0.1)\n",
    "            # ax.set_xscale('log')\n",
    "            # ax.set_yscale('log')\n",
    "            ax.set_xticks([8,16,30,50,60,90])\n",
    "            ax.set_yticks([8,16,30,50,60,90])\n",
    "            ax.set_xlabel('Frequency (Hz)')\n",
    "            ax.set_ylabel('Frequency (Hz)')\n"
   ]
  },
  {
   "cell_type": "code",
   "execution_count": 13,
   "metadata": {},
   "outputs": [
    {
     "data": {
      "text/plain": "array([-67.81615977,  94.79806004, 181.58017367, ...,  67.31187149,\n        28.82862888, 103.98485404])"
     },
     "execution_count": 13,
     "metadata": {},
     "output_type": "execute_result"
    }
   ],
   "source": [
    "gamma_bin[0]"
   ]
  },
  {
   "cell_type": "markdown",
   "metadata": {},
   "source": [
    "## Bicoherence for phase-broken lfp (similar to above)"
   ]
  },
  {
   "cell_type": "code",
   "execution_count": 2,
   "metadata": {},
   "outputs": [],
   "source": [
    "import numpy as np\n",
    "import scipy.signal as sg\n",
    "import matplotlib.pyplot as plt\n",
    "import subjects\n",
    "from plotUtil import Fig\n",
    "import signal_process\n",
    "import pandas as pd"
   ]
  },
  {
   "cell_type": "code",
   "execution_count": 3,
   "metadata": {},
   "outputs": [],
   "source": [
    "%matplotlib qt\n",
    "figure = Fig()\n",
    "fig,gs = figure.draw(num=1,grid=(4,2))\n",
    "sessions = subjects.Of().ratNday4\n",
    "for sub,sess in enumerate(sessions):\n",
    "    eegsrate = sess.recinfo.lfpSrate\n",
    "    maze =sess.epochs.maze\n",
    "    speed = sess.position.data['speed']\n",
    "    channels = sess.recinfo.goodchangrp[3][::4]\n",
    "    for i, chan in enumerate(channels):\n",
    "        lfpmaze = sess.recinfo.geteeg(chans=chan,timeRange= maze)\n",
    "        strong_theta = sess.theta.getstrongTheta(lfpmaze)[0]\n",
    "        slgamma_highpass = signal_process.filter_sig.highpass(strong_theta, cutoff=25)\n",
    "        gamma_bin, _, angle_centers = sess.theta.phase_specfic_extraction(\n",
    "            strong_theta, strong_theta, binsize=180, slideby=None\n",
    "        )\n",
    "        df = pd.DataFrame()\n",
    "        f_ = None\n",
    "        for ii,(lfp, center) in enumerate(zip(gamma_bin, angle_centers)):\n",
    "            f,t,sxx = sg.spectrogram(lfp,fs=eegsrate,nperseg=2*eegsrate,noverlap=1*eegsrate)\n",
    "            f_req_ind = np.where((1<f) & (f<100))[0]\n",
    "            f_req = f[f_req_ind]\n",
    "            corr_freq = np.corrcoef(sxx[f_req_ind,:])\n",
    "            np.fill_diagonal(corr_freq,val=0)\n",
    "\n",
    "            ax = plt.subplot(gs[i,ii])\n",
    "            ax.pcolormesh(f_req,f_req,corr_freq,shading='gouraud',cmap='coolwarm',vmin=-0.1,vmax=0.1)\n",
    "            # ax.set_xscale('log')\n",
    "            # ax.set_yscale('log')\n",
    "            ax.set_xticks([8,16,30,50,60,90])\n",
    "            ax.set_yticks([8,16,30,50,60,90])\n",
    "            ax.set_xlabel('Frequency (Hz)')\n",
    "            ax.set_ylabel('Frequency (Hz)')\n"
   ]
  }
 ],
 "metadata": {
  "kernelspec": {
   "display_name": "Python 3.9.2 64-bit ('data_analysis': conda)",
   "name": "python392jvsc74a57bd07b10c821bc4bd3f433a613d47515e6babc6c2152896bd1e143404cc9d6ede4ad"
  },
  "language_info": {
   "codemirror_mode": {
    "name": "ipython",
    "version": 3
   },
   "file_extension": ".py",
   "mimetype": "text/x-python",
   "name": "python",
   "nbconvert_exporter": "python",
   "pygments_lexer": "ipython3",
   "version": "3.9.2-final"
  },
  "orig_nbformat": 2
 },
 "nbformat": 4,
 "nbformat_minor": 2
}