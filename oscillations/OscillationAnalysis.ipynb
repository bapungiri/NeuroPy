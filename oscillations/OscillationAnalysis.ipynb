{
 "cells": [
  {
   "cell_type": "code",
   "execution_count": 1,
   "metadata": {},
   "outputs": [
    {
     "name": "stderr",
     "output_type": "stream",
     "text": [
      "/home/bapung/anaconda3/lib/python3.7/importlib/_bootstrap.py:219: RuntimeWarning: numpy.ufunc size changed, may indicate binary incompatibility. Expected 192 from C header, got 216 from PyObject\n",
      "  return f(*args, **kwds)\n",
      "/home/bapung/anaconda3/lib/python3.7/importlib/_bootstrap.py:219: RuntimeWarning: numpy.ufunc size changed, may indicate binary incompatibility. Expected 192 from C header, got 216 from PyObject\n",
      "  return f(*args, **kwds)\n",
      "/home/bapung/anaconda3/lib/python3.7/importlib/_bootstrap.py:219: RuntimeWarning: numpy.ufunc size changed, may indicate binary incompatibility. Expected 192 from C header, got 216 from PyObject\n",
      "  return f(*args, **kwds)\n",
      "/home/bapung/anaconda3/lib/python3.7/importlib/_bootstrap.py:219: RuntimeWarning: numpy.ufunc size changed, may indicate binary incompatibility. Expected 192 from C header, got 216 from PyObject\n",
      "  return f(*args, **kwds)\n"
     ]
    }
   ],
   "source": [
    "import matplotlib.pyplot as plt\n",
    "import numpy as np\n",
    "import pandas as pd\n",
    "import scipy.stats as stats\n",
    "import seaborn as sns\n",
    "import matplotlib\n",
    "from collections import namedtuple\n",
    "from pathlib import Path\n",
    "import matplotlib.gridspec as gridspec\n",
    "import signal_process\n",
    "import matplotlib as mpl\n",
    "from plotUtil import Colormap\n",
    "import scipy.signal as sg\n",
    "import warnings\n",
    "\n",
    "cmap = matplotlib.cm.get_cmap(\"hot_r\")\n",
    "warnings.simplefilter(action=\"default\")\n",
    "\n",
    "from callfunc import processData\n",
    "\n",
    "#%% Subjects\n",
    "basePath = [\n",
    "    \"/data/Clustering/SleepDeprivation/RatJ/Day1/\",\n",
    "    \"/data/Clustering/SleepDeprivation/RatK/Day1/\",\n",
    "    \"/data/Clustering/SleepDeprivation/RatN/Day1/\",\n",
    "    \"/data/Clustering/SleepDeprivation/RatJ/Day2/\",\n",
    "    \"/data/Clustering/SleepDeprivation/RatK/Day2/\",\n",
    "    \"/data/Clustering/SleepDeprivation/RatN/Day2/\",\n",
    "    # \"/data/Clustering/SleepDeprivation/RatK/Day4/\"\n",
    "]\n",
    "\n",
    "\n",
    "sessions = [processData(_) for _ in basePath]"
   ]
  },
  {
   "cell_type": "markdown",
   "metadata": {},
   "source": [
    "### Bicoherence analysis on ripples"
   ]
  },
  {
   "cell_type": "code",
   "execution_count": null,
   "metadata": {
    "jupyter": {
     "source_hidden": true
    }
   },
   "outputs": [],
   "source": [
    "colmap = Colormap().dynamicMap()\n",
    "\n",
    "for sub, sess in enumerate(sessions):\n",
    "\n",
    "    sess.trange = np.array([])\n",
    "    eegSrate = sess.recinfo.lfpSrate\n",
    "    ripples = sess.ripple.time\n",
    "    lfp = sess.spindle.best_chan_lfp()[0]\n",
    "\n",
    "    lfpripple = []\n",
    "    for ripple in ripples:\n",
    "        start = int(ripple[0] * eegSrate)\n",
    "        end = int(ripple[1] * eegSrate)\n",
    "        lfpripple.extend(lfp[start:end])\n",
    "\n",
    "    lfpripple = np.asarray(lfpripple)\n",
    "    bicoh, freq, bispec = signal_process.bicoherence(lfpripple, fhigh=300)\n",
    "\n",
    "    bicohsmth = gaussian_filter(bicoh, sigma=3)\n",
    "    # bicoh = np.where(bicoh > 0.05, bicoh, 0)\n",
    "    plt.clf()\n",
    "    fig = plt.figure(1, figsize=(10, 15))\n",
    "    gs = gridspec.GridSpec(1, 2, figure=fig)\n",
    "    fig.subplots_adjust(hspace=0.3)\n",
    "    ax = fig.add_subplot(gs[0, 1])\n",
    "    ax.clear()\n",
    "    im = ax.pcolorfast(\n",
    "        freq, freq, np.sqrt(bicohsmth), cmap=colmap, vmax=0.5, vmin=0.018\n",
    "    )\n",
    "    # ax.contour(freq, freq, bicoh, levels=[0.1, 0.2, 0.3], colors=\"k\", linewidths=1)\n",
    "    ax.set_ylim([1, max(freq) / 2])\n",
    "    ax.set_xlabel(\"Frequency (Hz)\")\n",
    "    ax.set_ylabel(\"Frequency (Hz)\")\n",
    "    # cax = fig.add_axes([0.3, 0.8, 0.5, 0.05])\n",
    "    # cax.clear()\n",
    "\n",
    "    # ax.contour(freq, freq, bicoh, levels=[0.1, 0.2, 0.3], colors=\"k\", linewidths=1)\n",
    "    fig.colorbar(im, ax=ax, orientation=\"horizontal\")"
   ]
  },
  {
   "cell_type": "markdown",
   "metadata": {},
   "source": [
    "### Gamma across SD"
   ]
  },
  {
   "cell_type": "code",
   "execution_count": null,
   "metadata": {
    "jupyter": {
     "source_hidden": true
    }
   },
   "outputs": [],
   "source": [
    "group = []\n",
    "plt.clf()\n",
    "fig = plt.figure(1, figsize=(10, 15))\n",
    "gs = gridspec.GridSpec(1, 3, figure=fig)\n",
    "fig.subplots_adjust(hspace=0.3)\n",
    "for sub, sess in enumerate(sessions[:3]):\n",
    "\n",
    "    sess.trange = np.array([])\n",
    "    lfp = sess.spindle.best_chan_lfp()[0]\n",
    "    post = sess.epochs.post\n",
    "    sd_period = [post[0], post[0] + 5 * 3600]\n",
    "    t = np.linspace(0, len(lfp) / eegSrate, len(lfp))\n",
    "\n",
    "    lfpsd = lfp[(t > sd_period[0]) & (t < sd_period[1])]\n",
    "    tsd = np.linspace(sd_period[0], sd_period[1], len(lfpsd))\n",
    "    binsd = np.linspace(sd_period[0], sd_period[1], 6)\n",
    "\n",
    "    specgram = signal_process.spectrogramBands(lfpsd)\n",
    "\n",
    "    gamma = stats.zscore(specgram.gamma)\n",
    "    first_hour_gamma = gamma[(specgram.time > 0) & (specgram.time < 3600)]\n",
    "    last_hour_gamma = gamma[(specgram.time > 4 * 3600) & (specgram.time < 5 * 3600)]\n",
    "\n",
    "    hist_first, _ = np.histogram(first_hour_gamma, bins=np.arange(-3, 3, 0.1))\n",
    "    hist_last, edge = np.histogram(last_hour_gamma, bins=np.arange(-3, 3, 0.1))\n",
    "\n",
    "    ax = fig.add_subplot(gs[sub])\n",
    "    ax.plot(edge[:-1], hist_first, \"k\", label=\"1st hour\")\n",
    "    ax.plot(edge[:-1], hist_last, \"r\", label=\"5th hour\")\n",
    "    ax.set_yscale(\"log\")\n",
    "    ax.set_xlabel(\"zscored values\")\n",
    "    ax.set_ylabel(\"Counts\")\n",
    "    ax.legend()"
   ]
  },
  {
   "cell_type": "markdown",
   "metadata": {},
   "source": [
    "### PSD during sleep deprivation from first to last hour to observe gamma reduction"
   ]
  },
  {
   "cell_type": "code",
   "execution_count": null,
   "metadata": {
    "jupyter": {
     "source_hidden": true
    }
   },
   "outputs": [],
   "source": [
    "plt.clf()\n",
    "fig = plt.figure(1, figsize=(10, 15))\n",
    "gs = gridspec.GridSpec(1, 3, figure=fig)\n",
    "fig.subplots_adjust(hspace=0.3)\n",
    "\n",
    "for sub, sess in enumerate(sessions):\n",
    "    sess.trange = np.array([])\n",
    "    eegSrate = sess.recinfo.lfpSrate\n",
    "    channel = sess.theta.bestchan\n",
    "    post = sess.epochs.post\n",
    "    eeg = sess.utils.geteeg(chans=channel, timeRange=[post[0], post[0] + 5 * 3600])\n",
    "    nfrms_hour = eegSrate * 3600\n",
    "    lfp1st = eeg[:nfrms_hour]\n",
    "    lfp5th = eeg[-nfrms_hour:]\n",
    "\n",
    "    psd = lambda sig: sg.welch(\n",
    "        sig, fs=eegSrate, nperseg=10 * eegSate, noverlap=5 * eegSrate\n",
    "    )\n",
    "    multitaper = lambda sig: signal_process.mtspect(\n",
    "        sig, fs=eegSrate, nperseg=10 * eegSrate, noverlap=5 * eegSrate\n",
    "    )\n",
    "\n",
    "    _, psd1st = multitaper(lfp1st)\n",
    "    f, psd5th = multitaper(lfp5th)\n",
    "\n",
    "    ax = fig.add_subplot(gs[sub])\n",
    "    ax.loglog(f, psd1st, \"k\", label=\"ZT1\")\n",
    "    ax.loglog(f, psd5th, \"r\", label=\"ZT5\")\n",
    "    ax.set_xlim([1, 120])\n",
    "    ax.set_ylim([10, 10e5])\n",
    "    ax.set_title(sess.sessinfo.session.sessionName)\n",
    "    ax.set_xlabel(\"Frequency (Hz)\")\n",
    "    ax.set_ylabel(\"Power (A.U.)\")\n",
    "    ax.legend()\n"
   ]
  },
  {
   "cell_type": "markdown",
   "metadata": {},
   "source": [
    "### Plot spectrogram for different frequency bands (gamma, ripple) separately"
   ]
  },
  {
   "cell_type": "code",
   "execution_count": null,
   "metadata": {},
   "outputs": [],
   "source": [
    "plt.clf()\n",
    "fig = plt.figure(1, figsize=(10, 15))\n",
    "gs = gridspec.GridSpec(2, 3, figure=fig)\n",
    "fig.subplots_adjust(hspace=0.3)\n",
    "for sub, sess in enumerate(sessions[:3]):\n",
    "    sess.trange = np.array([])\n",
    "    post = sess.epochs.post\n",
    "    sd_period = [post[0], post[0] + 5 * 3600]\n",
    "    thetachan = sess.theta.bestchan\n",
    "    lfpsd = sess.utils.geteeg(chans=thetachan, timeRange=sd_period)\n",
    "    specgram = signal_process.spectrogramBands(lfpsd, window=4, overlap=2)\n",
    "    sxx = specgram.sxx\n",
    "    freq = specgram.freq\n",
    "    gamma = sxx[np.where((freq > 30) & (freq < 90))[0], :]\n",
    "    ripple = sxx[np.where((freq > 150) & (freq < 250))[0], :]\n",
    "\n",
    "    ax = fig.add_subplot(gs[0, sub])\n",
    "    ax.imshow(gamma, aspect=\"auto\")\n",
    "\n",
    "    ax = fig.add_subplot(gs[1, sub])\n",
    "    ax.imshow(ripple, aspect=\"auto\")"
   ]
  },
  {
   "cell_type": "markdown",
   "metadata": {},
   "source": [
    "### Ripple rate in recovery sleep compared to last hour of sleep deprivation"
   ]
  },
  {
   "cell_type": "code",
   "execution_count": null,
   "metadata": {
    "jupyter": {
     "source_hidden": true
    }
   },
   "outputs": [],
   "source": [
    "plt.clf()\n",
    "fig = plt.figure(1, figsize=(10, 15))\n",
    "gs = gridspec.GridSpec(1, 2, figure=fig)\n",
    "fig.subplots_adjust(hspace=0.3)\n",
    "\n",
    "rplrt, nrem_dur = [], []\n",
    "for sub, sess in enumerate(sessions):\n",
    "    sess.trange = np.array([])\n",
    "    states = sess.brainstates.states\n",
    "    ripples = sess.ripple.time\n",
    "    post = sess.epochs.post\n",
    "    states_recvslp = states.loc[\n",
    "        (states.name == \"nrem\") & (states.start > post[0] + 5 * 3600)\n",
    "    ].copy()\n",
    "    nrem_bins = np.asarray(states_recvslp[[\"start\", \"end\"]]).ravel()\n",
    "    nrpls = np.histogram(ripples, bins=nrem_bins)[0][::2]\n",
    "    rpl_rate = nrpls / np.diff(nrem_bins)[::2]\n",
    "\n",
    "    nrem_dur.append(np.sum(np.diff(nrem_bins)[::2]))\n",
    "    rplrt.append(rpl_rate)\n",
    "\n",
    "\n",
    "ax = fig.add_subplot(gs[0])\n",
    "\n",
    "for i in range(3):\n",
    "    rplrt_sd_mean = [np.mean(rplrt[_]) for _ in [i, i + 3]]\n",
    "    rplrt_sd_std = [np.std(rplrt[_]) / np.sqrt(len(rplrt[_])) for _ in [i, i + 3]]\n",
    "    ax.errorbar([1, 2], rplrt_sd_mean, yerr=rplrt_sd_std, color=\"gray\")\n",
    "\n",
    "\n",
    "ax.set_xticks([1, 2])\n",
    "ax.set_xticklabels([\"SD\", \"NSD\"])\n",
    "ax.set_xlim([0, 3])\n",
    "ax.set_ylim([0.3, 1.2])\n",
    "ax.set_ylabel(\"Ripple rate (Hz)\")\n",
    "ax.set_title(\"Mean ripple rate compared between \\n recovery sleep and control session\")\n",
    "\n",
    "\n",
    "ax = fig.add_subplot(gs[1])\n",
    "ax.bar([1, 2], [np.mean(nrem_dur[:3]), np.mean(nrem_dur[3:])], color=\"gray\", width=0.6)\n",
    "ax.set_xticks([1, 2])\n",
    "ax.set_xticklabels([\"SD\", \"NSD\"])\n",
    "ax.set_xlim([0, 3])\n",
    "ax.set_ylabel(\"Duration (s)\")\n",
    "ax.set_title(\"Total NREM duration\")\n",
    "# ax.errorbar([1, 2], [np.mean(nrem_dur[:3]), np.mean(nrem_dur[3:])])"
   ]
  },
  {
   "cell_type": "markdown",
   "metadata": {},
   "source": [
    "### Hswa-Ripple locking"
   ]
  },
  {
   "cell_type": "code",
   "execution_count": null,
   "metadata": {},
   "outputs": [],
   "source": []
  }
 ],
 "metadata": {
  "kernelspec": {
   "display_name": "Python 3",
   "language": "python",
   "name": "python3"
  }
 },
 "nbformat": 4,
 "nbformat_minor": 4
}