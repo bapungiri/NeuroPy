{
 "cells": [
  {
   "cell_type": "code",
   "execution_count": null,
   "metadata": {},
   "outputs": [],
   "source": [
    "import matplotlib as mpl\n",
    "import matplotlib.pyplot as plt\n",
    "import numpy as np\n",
    "import pandas as pd\n",
    "import scipy.signal as sg\n",
    "import scipy.stats as stats\n",
    "import matplotlib.gridspec as gridspec\n",
    "from matplotlib.widgets import Button, RadioButtons, Slider\n",
    "from scipy.ndimage import gaussian_filter, gaussian_filter1d\n",
    "from mathutil import threshPeriods\n",
    "import ipywidgets as widgets\n",
    "\n",
    "from callfunc import processData\n",
    "from signal_process import filter_sig, hilbertfast, wavelet_decomp"
   ]
  },
  {
   "cell_type": "markdown",
   "metadata": {},
   "source": [
    "### funcitons for wavelet computation"
   ]
  },
  {
   "cell_type": "code",
   "execution_count": 3,
   "metadata": {
    "jupyter": {
     "source_hidden": true
    }
   },
   "outputs": [],
   "source": [
    "def doWavelet(lfp, freqs, ncycles=3):\n",
    "    wavdec = wavelet_decomp(lfp, freqs=freqs)\n",
    "    # wav = wavdec.cohen(ncycles=ncycles)\n",
    "    wav = wavdec.colgin2009()\n",
    "    wav = stats.zscore(wav)\n",
    "    wav = gaussian_filter(wav, sigma=4)\n",
    "\n",
    "    return wav\n",
    "\n",
    "def compute(tstart, tend):\n",
    "    lfpmaze = lfp[(t > tstart) & (t < tend)]\n",
    "    tmaze = np.linspace(tstart, tend, len(lfpmaze))\n",
    "    posmazex = posx[(post > tstart) & (post < tend)]\n",
    "    posmazey = posy[(post > tstart) & (post < tend)]\n",
    "    postmaze = np.linspace(tstart, tend, len(posmazex))\n",
    "    speed = np.sqrt(np.diff(posmazex) ** 2 + np.diff(posmazey) ** 2)\n",
    "    speed = gaussian_filter1d(speed, sigma=10)\n",
    "\n",
    "    frgamma = np.arange(25, 50, 1)\n",
    "    wav = doWavelet(lfpmaze, freqs=frgamma, ncycles=7)\n",
    "\n",
    "\n",
    "    frtheta = np.arange(2, 20, 0.5)\n",
    "    wav = doWavelet(lfpmaze, freqs=frtheta, ncycles=3)\n",
    "\n",
    "def getPxx(lfp):\n",
    "    window = 5 * 1250\n",
    "\n",
    "    freq, Pxx = sg.welch(\n",
    "        lfp, fs=1250, nperseg=window, noverlap=window / 6, detrend=\"linear\",\n",
    "    )\n",
    "    noise = np.where(\n",
    "        ((freq > 59) & (freq < 61)) | ((freq > 119) & (freq < 121)) | (freq > 220)\n",
    "    )[0]\n",
    "    freq = np.delete(freq, noise)\n",
    "    Pxx = np.delete(Pxx, noise)\n",
    "\n",
    "    return Pxx, freq"
   ]
  },
  {
   "cell_type": "markdown",
   "metadata": {},
   "source": [
    "### Subjects/sessions to choose"
   ]
  },
  {
   "cell_type": "code",
   "execution_count": 4,
   "metadata": {
    "jupyter": {
     "source_hidden": true
    }
   },
   "outputs": [],
   "source": [
    "basePath = [\n",
    "    # \"/data/Clustering/SleepDeprivation/RatJ/Day1/\",\n",
    "    # \"/data/Clustering/SleepDeprivation/RatK/Day1/\",\n",
    "    \"/data/Clustering/SleepDeprivation/RatN/Day1/\",\n",
    "    # \"/data/Clustering/SleepDeprivation/RatJ/Day2/\",\n",
    "    # \"/data/Clustering/SleepDeprivation/RatK/Day2/\",\n",
    "    # \"/data/Clustering/SleepDeprivation/RatN/Day2/\",\n",
    "    # \"/data/Clustering/SleepDeprivation/RatK/Day4/\"\n",
    "]\n",
    "\n",
    "sessions = [processData(_) for _ in basePath]"
   ]
  },
  {
   "cell_type": "code",
   "execution_count": null,
   "metadata": {},
   "outputs": [],
   "source": [
    "hello"
   ]
  }
 ],
 "metadata": {
  "kernelspec": {
   "display_name": "Python 3",
   "language": "python",
   "name": "python3"
  }
 },
 "nbformat": 4,
 "nbformat_minor": 4
}