{
 "cells": [
  {
   "cell_type": "markdown",
   "metadata": {},
   "source": [
    "## Compare place field locations on two-novel maze"
   ]
  },
  {
   "cell_type": "code",
   "execution_count": 2,
   "metadata": {},
   "outputs": [],
   "source": [
    "import numpy as np\n",
    "import subjects\n",
    "import matplotlib.pyplot as plt\n",
    "from plotUtil import Fig\n"
   ]
  },
  {
   "cell_type": "code",
   "execution_count": null,
   "metadata": {},
   "outputs": [],
   "source": [
    "%matplotlib widget\n",
    "figure = Fig()\n",
    "fig,gs = figure.draw(grid=(1,2))\n",
    "sessions = subjects.Tn().ratSday5\n",
    "for sub,sess in enumerate(sessions):\n",
    "    maze1 = sess.epochs.maze1\n",
    "    maze2 = sess.epochs.maze2\n",
    "\n",
    "    sess.placefield.pf1d.compute(track_name='maze1')\n",
    "    ratemaps = np.asarray(sess.placefield.pf1d.ratemaps['ratemaps'])\n",
    "    order = np.argsort(np.argmax(ratemaps,axis=1))\n",
    "    ax1=plt.subplot(gs[0])\n",
    "    sess.placefield.pf1d.plot(ax=ax1,normalize=True,sortby=order)\n",
    "    ax1.set_title('Maze1')\n",
    "\n",
    "    sess.placefield.pf1d.compute(track_name='maze2')\n",
    "    ax2 = plt.subplot(gs[1])\n",
    "    sess.placefield.pf1d.plot(ax=ax2,normalize=True,sortby=order)\n",
    "    ax2.set_title('Mazee')\n",
    "fig.suptitle('Remapping between two mazes (Two novel maze)')\n",
    "# figure.savefig('test')"
   ]
  },
  {
   "cell_type": "markdown",
   "metadata": {},
   "source": [
    "## Place field formation speed comparison between maze1 vs maze2"
   ]
  },
  {
   "cell_type": "code",
   "execution_count": 2,
   "metadata": {},
   "outputs": [],
   "source": [
    "import numpy as np\n",
    "import matplotlib.pyplot as plt\n",
    "from plotUtil import Fig\n",
    "import subjects"
   ]
  },
  {
   "cell_type": "code",
   "execution_count": 26,
   "metadata": {},
   "outputs": [
    {
     "name": "stdout",
     "output_type": "stream",
     "text": [
      " using forward running only\n"
     ]
    }
   ],
   "source": [
    "%matplotlib qt\n",
    "figure = Fig()\n",
    "fig,gs = figure.draw(grid=(8,8))\n",
    "sessions = subjects.Tn().ratSday5\n",
    "for sub,sess in enumerate( sessions ):\n",
    "    maze1 = sess.epochs.maze1\n",
    "    maze2 = sess.epochs.maze2\n",
    "    track_srate = sess.position.tracking_sRate\n",
    "\n",
    "    maze_name = 'maze2'\n",
    "\n",
    "    sess.placefield.pf1d.compute(maze_name,run_dir='forward',grid_bin=10)\n",
    "    cell_t = sess.placefield.pf1d.ratemaps['spikes']\n",
    "    cell_pos = sess.placefield.pf1d.ratemaps['pos']\n",
    "    track_data= sess.tracks.data[maze_name]\n",
    "    laps = sess.tracks.laps[maze_name]\n",
    "    laps = laps[laps['direction']=='forward']\n",
    "\n",
    "    track_bin = np.arange(np.min(track_data.linear),np.max(track_data.linear),10)\n",
    "\n",
    "    occupancy=[]\n",
    "    for lap in laps.itertuples():\n",
    "        lap_pos = track_data[(track_data.time>lap.start)&(track_data.time<lap.end)].linear\n",
    "        occ_ = np.histogram(lap_pos,bins=track_bin)[0]/track_srate + 1e-16\n",
    "        occupancy.append(occ_)\n",
    "\n",
    "    for i,(t,pos) in enumerate(zip(cell_t,cell_pos)):\n",
    "        lap_ratemap = []\n",
    "        for lap,occ_ in zip(laps.itertuples(),occupancy):\n",
    "            ind = np.where((t>lap.start)&(t<lap.end))[0]\n",
    "            epoch_t = t[ind]\n",
    "            epoch_pos = pos[ind]\n",
    "            track_data\n",
    "            lap_ratemap.append(np.histogram(epoch_pos,bins=track_bin)[0]/occ_)\n",
    "        \n",
    "        lap_ratemap = np.asarray(lap_ratemap)\n",
    "        ax = plt.subplot(gs[i])\n",
    "        ax.imshow(lap_ratemap,aspect='auto',cmap ='jet')"
   ]
  },
  {
   "cell_type": "code",
   "execution_count": 38,
   "metadata": {},
   "outputs": [
    {
     "name": "stdout",
     "output_type": "stream",
     "text": [
      "[ 0  0  0  0  0  0  0  0 25 28  4 11 15 16 19 16 15 13 14 12 17 11 11  8\n",
      "  9 10 10 32 14 15 13 10 35  3  0]\n",
      "[ 0  0  0  0  0  0  0 56 17 16  3  9 11 11 10  9 11 24 19  0  0  0  0  0\n",
      "  0  0  0  0  0  0  0  0  0  0  0]\n",
      "[ 0  0  0  6 36 18 19 39 12 14  3  6 10  8  9  9  8 10  9  8 11 10 11 11\n",
      " 12 25  0  0  0  0  0  0  0  0  0]\n",
      "[ 0  0  0  0  0  0  0  0  0  0  0  0  0  0  0  0  0  0  0  0  0  0  0  0\n",
      "  0 46 15 29 13 13 13 11 17 21  3]\n",
      "[ 0  0  0 30 32 15 13 20  9 10  2  7  9 10  8  8  8  8  8  7 25 27  0  0\n",
      "  0  0  0  0  0  0  0  0  0  0  0]\n",
      "[ 0  0  0  8 27 22 20 30 11 14  2  9 12 11 35  0  0  0  0  0  0  0  0  0\n",
      "  0  0  0  0  0  0  0  0  0  0  0]\n",
      "[ 0  0  0  0  0  0  0  0  0  0  0  0  0  0  0  0 35 19 14 15 15 46 21 15\n",
      "  0  0  0  0  0  0  0  0  0  0  0]\n",
      "[ 0  0  0  0  0  0  0  0  0  0  0  0  0  0  0  0  0  0  0  0  0  0  0 10\n",
      " 39 15 48 31 14 12 13 17 38 12  0]\n",
      "[ 0  0  0  0  0  0  0  0 27 22  3  9 21 27 41  3  0  0  0  0  0  0  0  0\n",
      "  0  0  0  0  0  0  0  0  0  0  0]\n",
      "[ 0  0 10 24 36 15 26 18  9 13  3  7 10 10 12 14 15 13 13 46  0  0  0  0\n",
      "  0  0  0  0  0  0  0  0  0  0  0]\n",
      "[ 0  0 28 15 17 13 15 17  7 11  3  6  9  8 11  8 83 17 31 57 78 12 18 15\n",
      " 24 10 19 14 11 12 11 10 11 31  5]\n",
      "[  0   0  13  21  30  93  20  18  12  15   3  10 119 112  15  12  13  11\n",
      "  13  26  14  13  21   9  67 101  65  17  12  13  13   8  14  29   0]\n",
      "[ 0  0 49 17 21 10 33 40  0  0  0  0  0  0  0  0  0  0  0  0  0  0  0  0\n",
      "  0  0  0  0  0  0  0  0  0  0  0]\n",
      "[ 0  0  0  0  0  0  0 65 26 18  2  9 11 10 12  8 11 11  8  5 14  9 13 10\n",
      " 16 83 59 27 13 12 11  8 17 26  0]\n",
      "[ 0  0  0  0  0  0  0  0  0  0  0  0  0  0  0  0  0  0  0  0  0  0  0 26\n",
      " 33 26 28 34 14 12 12  9 13 29  0]\n",
      "[ 0  0  0  0  0  0  0 41 21 13  3  9 14 14 12 11 11 10  9  8 18 31  0  0\n",
      "  0  0  0  0  0  0  0  0  0  0  0]\n",
      "[ 0  0  0  0  0  0  0  0  0  0  0  0  0  0  0  0  0  0  0  0  0 15 45 14\n",
      " 13 10 14 12 12 10 11  9 18 26  0]\n",
      "[ 0  0  0  7 24 44 18 23 12 10  3  5  8  7  8  8  9 11 12  9 27 24 14 21\n",
      "  0  0  0  0  0  0  0  0  0  0  0]\n",
      "[ 0  0 17 21 18 11 15 18 12 13  2 10 10 14 12 10 15 26  6  0  0  0  0  0\n",
      "  0  0  0  0  0  0  0  0  0  0  0]\n",
      "[ 0  0  0  0  0  0  0  0  0  0  0  0  0  0  0  0  0  0  9 16 15 14 50 10\n",
      " 12 10 14 12 11 10 10  8 16 30  0]\n",
      "[ 0  0 22 19 15 10 10 17 19 39  8 10  0  0  0  0  0  0  0  0  0  0  0  0\n",
      "  0  0  0  0  0  0  0  0  0  0  0]\n",
      "[  0 119  76  42  43  26  33  39  40 205   7  18  27  66   8   7   8   7\n",
      "   9   8  11  10  14  17  15  10  38   0   0   0   0   0   0   0   0]\n",
      "[ 0  0  0  0 17 48 17 15  8 10  2  7  8  7 10  7  8  8  9  9 76  9 11 23\n",
      " 26  9  0  0  0  0  0  0  0  0  0]\n",
      "[ 0  0  0  0  0  0  0  0  0  0  0  0  0  0  0  0  0  0  0  0  0  0  0  0\n",
      "  0 36 19 16 12 11 10  8 19 25  0]\n"
     ]
    }
   ],
   "source": [
    "occupancy=[]\n",
    "for lap in laps.itertuples():\n",
    "    lap_pos = track_data[(track_data.time>lap.start)&(track_data.time<lap.end)].linear\n",
    "    occ_ = np.histogram(np.array(lap_pos),bins=track_bin)[0]\n",
    "    print(occ_)\n",
    "\n",
    "\n"
   ]
  }
 ],
 "metadata": {
  "kernelspec": {
   "display_name": "Python 3.9.2 64-bit ('data_analysis': conda)",
   "name": "python392jvsc74a57bd07b10c821bc4bd3f433a613d47515e6babc6c2152896bd1e143404cc9d6ede4ad"
  },
  "language_info": {
   "codemirror_mode": {
    "name": "ipython",
    "version": 3
   },
   "file_extension": ".py",
   "mimetype": "text/x-python",
   "name": "python",
   "nbconvert_exporter": "python",
   "pygments_lexer": "ipython3",
   "version": "3.9.2"
  },
  "orig_nbformat": 2
 },
 "nbformat": 4,
 "nbformat_minor": 2
}