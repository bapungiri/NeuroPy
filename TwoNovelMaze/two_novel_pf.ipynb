{
 "cells": [
  {
   "cell_type": "markdown",
   "metadata": {},
   "source": [
    "## Compare place field locations on two-novel maze"
   ]
  },
  {
   "cell_type": "code",
   "execution_count": 2,
   "metadata": {},
   "outputs": [],
   "source": [
    "import numpy as np\n",
    "import subjects\n",
    "import matplotlib.pyplot as plt\n",
    "from plotUtil import Fig\n"
   ]
  },
  {
   "cell_type": "code",
   "execution_count": null,
   "metadata": {},
   "outputs": [],
   "source": [
    "%matplotlib widget\n",
    "figure = Fig()\n",
    "fig,gs = figure.draw(grid=(1,2))\n",
    "sessions = subjects.Tn().ratSday5\n",
    "for sub,sess in enumerate(sessions):\n",
    "    maze1 = sess.epochs.maze1\n",
    "    maze2 = sess.epochs.maze2\n",
    "\n",
    "    sess.placefield.pf1d.compute(track_name='maze1')\n",
    "    ratemaps = np.asarray(sess.placefield.pf1d.ratemaps['ratemaps'])\n",
    "    order = np.argsort(np.argmax(ratemaps,axis=1))\n",
    "    ax1=plt.subplot(gs[0])\n",
    "    sess.placefield.pf1d.plot(ax=ax1,normalize=True,sortby=order)\n",
    "    ax1.set_title('Maze1')\n",
    "\n",
    "    sess.placefield.pf1d.compute(track_name='maze2')\n",
    "    ax2 = plt.subplot(gs[1])\n",
    "    sess.placefield.pf1d.plot(ax=ax2,normalize=True,sortby=order)\n",
    "    ax2.set_title('Mazee')\n",
    "fig.suptitle('Remapping between two mazes (Two novel maze)')\n",
    "# figure.savefig('test')"
   ]
  },
  {
   "cell_type": "markdown",
   "metadata": {},
   "source": [
    "## Place field formation speed comparison between maze1 vs maze2"
   ]
  },
  {
   "cell_type": "code",
   "execution_count": 2,
   "metadata": {},
   "outputs": [],
   "source": [
    "import numpy as np\n",
    "import matplotlib.pyplot as plt\n",
    "from plotUtil import Fig\n",
    "import subjects"
   ]
  },
  {
   "cell_type": "code",
   "execution_count": 7,
   "metadata": {},
   "outputs": [],
   "source": [
    "%matplotlib qt\n",
    "figure = Fig()\n",
    "fig,gs = figure.draw(grid=(8,8))\n",
    "sessions = subjects.Tn().ratSday5\n",
    "for sub,sess in enumerate( sessions ):\n",
    "    maze1 = sess.epochs.maze1\n",
    "    maze2 = sess.epochs.maze2\n",
    "    track_srate = sess.position.tracking_sRate\n",
    "\n",
    "    maze_name = 'maze2'\n",
    "\n",
    "    sess.placefield.pf1d.compute(maze_name,grid_bin=10)\n",
    "    cell_t = sess.placefield.pf1d.ratemaps['spikes']\n",
    "    cell_pos = sess.placefield.pf1d.ratemaps['pos']\n",
    "    track_data= sess.tracks.data[maze_name]\n",
    "    laps = sess.tracks.laps[maze_name]\n",
    "    laps = laps[laps['direction']=='forward']\n",
    "\n",
    "    track_bin = np.arange(np.min(track_data.linear),np.max(track_data.linear),10)\n",
    "\n",
    "    occupancy=[]\n",
    "    for lap in laps.itertuples():\n",
    "        lap_pos = track_data[(track_data.time>lap.start)&(track_data.time<lap.end)].linear\n",
    "        occ_ = np.histogram(lap_pos,bins=track_bin)[0]/track_srate + 1e-16\n",
    "        occupancy.append(occ_)\n",
    "\n",
    "    for i,(t,pos) in enumerate(zip(cell_t,cell_pos)):\n",
    "        lap_ratemap = []\n",
    "        for lap,occ_ in zip(laps.itertuples(),occupancy):\n",
    "            ind = np.where((t>lap.start)&(t<lap.end))[0]\n",
    "            epoch_t = t[ind]\n",
    "            epoch_pos = pos[ind]\n",
    "            track_data\n",
    "            lap_ratemap.append(np.histogram(epoch_pos,bins=track_bin)[0]/occ_)\n",
    "        \n",
    "        lap_ratemap = np.asarray(lap_ratemap)\n",
    "        ax = plt.subplot(gs[i])\n",
    "        ax.imshow(lap_ratemap,aspect='auto',cmap ='jet')"
   ]
  },
  {
   "cell_type": "code",
   "execution_count": null,
   "metadata": {},
   "outputs": [],
   "source": [
    "occupancy=[]\n",
    "for lap in laps.itertuples():\n",
    "    lap_pos = track_data[(track_data.time>lap.start)&(track_data.time<lap.end)].linear\n",
    "    occ_ = np.histogram(np.array(lap_pos),bins=track_bin)[0]\n",
    "    print(occ_)"
   ]
  }
 ],
 "metadata": {
  "kernelspec": {
   "display_name": "Python 3.9.2 64-bit ('data_analysis': conda)",
   "name": "python392jvsc74a57bd07b10c821bc4bd3f433a613d47515e6babc6c2152896bd1e143404cc9d6ede4ad"
  },
  "language_info": {
   "codemirror_mode": {
    "name": "ipython",
    "version": 3
   },
   "file_extension": ".py",
   "mimetype": "text/x-python",
   "name": "python",
   "nbconvert_exporter": "python",
   "pygments_lexer": "ipython3",
   "version": "3.9.2"
  },
  "orig_nbformat": 2
 },
 "nbformat": 4,
 "nbformat_minor": 2
}