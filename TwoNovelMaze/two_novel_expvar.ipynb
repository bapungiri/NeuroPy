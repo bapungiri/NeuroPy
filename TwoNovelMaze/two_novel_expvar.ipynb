{
 "cells": [
  {
   "cell_type": "markdown",
   "metadata": {},
   "source": [
    "## Two novel expvar"
   ]
  },
  {
   "cell_type": "code",
   "execution_count": null,
   "metadata": {},
   "outputs": [],
   "source": [
    "# region\n",
    "\n",
    "figure = Fig()\n",
    "fig, gs = figure.draw(num=1, grid=(2, 2))\n",
    "sessions = subjects.Tn().ratSday5\n",
    "\n",
    "for sub, sess in enumerate(sessions):\n",
    "\n",
    "    pre = sess.epochs.pre\n",
    "\n",
    "    maze1 = sess.epochs.maze1\n",
    "    maze2 = sess.epochs.maze2\n",
    "    post1 = sess.epochs.post1\n",
    "    post2 = sess.epochs.post2\n",
    "\n",
    "    # --- break region into periods --------\n",
    "    bin1 = sess.utils.getinterval(pre, 2)\n",
    "    bin2 = sess.utils.getinterval(post2, 3)\n",
    "    bins = bin1 + bin2\n",
    "    sess.spikes.stability.firingRate(periods=bins)\n",
    "\n",
    "    # ----- expvar maze1 -------\n",
    "    control = pre\n",
    "    template = maze1  # [post[0] + 4 * 3600, post[0] + 5 * 3600]\n",
    "    match = [post1[0], post2[1]]  # post2  # [post[0] + 5 * 3600, post[1]]\n",
    "\n",
    "    sess.replay.expvar.compute(\n",
    "        template=template,\n",
    "        match=match,\n",
    "        control=control,\n",
    "        slideby=300,\n",
    "        cross_shanks=True,\n",
    "    )\n",
    "    print(sess.replay.expvar.npairs)\n",
    "\n",
    "    axstate = gridspec.GridSpecFromSubplotSpec(4, 1, subplot_spec=gs[sub], hspace=0.2)\n",
    "\n",
    "    ax1 = fig.add_subplot(axstate[1:])\n",
    "    sess.replay.expvar.plot(ax=ax1, tstart=post1[0])\n",
    "    ax1.set_xlim(left=0)\n",
    "    ax1.tick_params(width=2)\n",
    "\n",
    "    # ----- expvar maze2 -------\n",
    "    control = pre\n",
    "    template = maze2  # [post[0] + 4 * 3600, post[0] + 5 * 3600]\n",
    "    match = post2  # [post[0] + 5 * 3600, post[1]]\n",
    "\n",
    "    sess.replay.expvar.colors[\"ev\"] = \"#e75fdc\"\n",
    "    sess.replay.expvar.compute(\n",
    "        template=template,\n",
    "        match=match,\n",
    "        control=control,\n",
    "        slideby=300,\n",
    "        cross_shanks=True,\n",
    "    )\n",
    "    print(sess.replay.expvar.npairs)\n",
    "\n",
    "    sess.replay.expvar.plot(ax=ax1, tstart=post1[0])\n",
    "\n",
    "    maze_time = (np.array(maze2) - post1[0]) / 3600\n",
    "    ax1.axvspan(xmin=maze_time[0], xmax=maze_time[1], color=\"#f2a1a1\", alpha=0.5)\n",
    "\n",
    "ax1.legend([\"rev_maze1\", \"maze1\", \"rev_maze2\", \"maze2\"])\n",
    "# figure.savefig(\"EV_sessions\", __file__)\n",
    "\n",
    "# endregion"
   ]
  },
  {
   "cell_type": "markdown",
   "metadata": {},
   "source": [
    "## Reactivation of maze1 on maze2 (Two-novel) **excluding** pbe/ripple\n",
    "Using traditional explained variance measure we found maze1 reactivates during maze2. However, is it also the case if you exclude pbe/replay periods on maze2 "
   ]
  },
  {
   "cell_type": "code",
   "execution_count": 2,
   "metadata": {},
   "outputs": [],
   "source": [
    "import numpy as np\n",
    "import subjects\n",
    "import matplotlib.pyplot as plt\n",
    "from plotUtil import Fig\n",
    "import pandas as pd\n",
    "import pingouin as pg"
   ]
  },
  {
   "cell_type": "code",
   "execution_count": 3,
   "metadata": {},
   "outputs": [
    {
     "data": {
      "application/x.notebook.stderr": "/home/bapung/miniconda3/envs/data_analysis/lib/python3.9/site-packages/numpy/lib/function_base.py:2642: RuntimeWarning: invalid value encountered in true_divide\n  c /= stddev[:, None]\n/home/bapung/miniconda3/envs/data_analysis/lib/python3.9/site-packages/numpy/lib/function_base.py:2643: RuntimeWarning: invalid value encountered in true_divide\n  c /= stddev[None, :]\n"
     },
     "output_type": "unknown"
    }
   ],
   "source": [
    "%matplotlib qt\n",
    "figure = Fig()\n",
    "fig,gs= figure.draw(num=1,grid=(2,2))\n",
    "sessions = subjects.Tn().ratSday5\n",
    "for sub,sess in enumerate(sessions):\n",
    "    pbe = sess.pbe.events\n",
    "    rpls = sess.ripple.events\n",
    "    pyrid = sess.spikes.pyrid\n",
    "    pre = sess.epochs.pre\n",
    "    maze1 = sess.epochs.maze1\n",
    "    maze2 = sess.epochs.maze2\n",
    "    post1 = sess.epochs.post1\n",
    "    post2 = sess.epochs.post2\n",
    "\n",
    "    #--- ripples within maze-----\n",
    "    rpls = rpls[(rpls.start>maze2[0]) & (rpls.start<maze2[1])].reset_index()\n",
    "\n",
    "    # # --- break region into periods --------\n",
    "    # bin1 = sess.utils.getinterval(pre, 2)\n",
    "    # bin2 = sess.utils.getinterval(post2, 3)\n",
    "    # bins = bin1 + bin2\n",
    "    # sess.spikes.stability.firingRate(periods=bins)\n",
    "\n",
    "    corr_pre,t_pre = sess.spikes.corr_pairwise(pyrid,pre,cross_shanks=True,window=900,slideby=300)\n",
    "\n",
    "    corr_maze1 = sess.spikes.corr_pairwise(pyrid,maze1,cross_shanks=True)[0]\n",
    "\n",
    "    inter_ripple_periods = pd.DataFrame({'start':rpls.end.values[:-1],'end':rpls.start.values[1:]}) \n",
    "    spks = sess.spikes.pyr\n",
    "    spkcounts =[]\n",
    "    for epoch in inter_ripple_periods.itertuples():\n",
    "        bins = np.arange(epoch.start,epoch.end+0.25,0.25)\n",
    "        spkcnt_ = np.asarray([np.histogram(_,bins=bins)[0] for _ in spks])\n",
    "        # spkcnt_ = sess.spikes.get_spkcounts(cell_ids=pyrid,period=[epoch.start,epoch.end],binsize=0.250)\n",
    "        spkcounts.append(spkcnt_)\n",
    "    spkcounts = np.hstack(spkcounts)\n",
    "\n",
    "    spkcounts = np.lib.stride_tricks.sliding_window_view(spkcounts,3600,axis=1)[:,::1200,:] \n",
    "\n",
    "    #--- cross shanks pairs--------\n",
    "    shnkId = sess.spikes.get_shankID(pyrid)\n",
    "    selected_pairs = np.nonzero(\n",
    "                np.tril(shnkId.reshape(-1, 1) - shnkId.reshape(1, -1))\n",
    "            )\n",
    "    corr_maze2 = []\n",
    "    for i in range(spkcounts.shape[1]):\n",
    "        corr_maze2.append(np.corrcoef(spkcounts[:,i,:])[selected_pairs])\n",
    "    corr_maze2 = np.asarray(corr_maze2).T\n",
    "\n",
    "    template = corr_maze1\n",
    "    corr = np.zeros((corr_maze2.shape[1],corr_pre.shape[1]))\n",
    "    for w1 in range(corr_maze2.shape[1]):\n",
    "        match_corr = corr_maze2[:,w1]\n",
    "        for w2 in range(corr_pre.shape[1]):\n",
    "            control_corr = corr_pre[:,w2]\n",
    "            df = pd.DataFrame({'x':template,'y':match_corr,'control':control_corr})\n",
    "            corr[w1,w2] = pg.partial_corr(data=df,x='x',y='y',covar='control')['r2']\n",
    "\n",
    "\n",
    "\n",
    "\n",
    "# ax1.legend([\"rev_maze1\", \"maze1\", \"rev_maze2\", \"maze2\"])\n"
   ]
  },
  {
   "cell_type": "code",
   "execution_count": 4,
   "metadata": {},
   "outputs": [
    {
     "data": {
      "text/plain": "Text(0.5, 1.0, 'Reactivation of Maze1 on Maze2 after excluding \\n ripple periods')"
     },
     "output_type": "unknown"
    }
   ],
   "source": [
    "ev = np.mean(corr,axis=1)\n",
    "t_maze2 = np.arange(0,8*5,5)\n",
    "plt.plot(t_maze2,ev,'k')\n",
    "plt.ylabel('Explained variance')\n",
    "plt.xlabel('Maze2 Bins (minutes)')\n",
    "plt.title('Reactivation of Maze1 on Maze2 after excluding \\n ripple periods')"
   ]
  }
 ],
 "metadata": {
  "kernelspec": {
   "display_name": "Python 3.9.2 64-bit ('data_analysis': conda)",
   "name": "python392jvsc74a57bd07b10c821bc4bd3f433a613d47515e6babc6c2152896bd1e143404cc9d6ede4ad"
  },
  "language_info": {
   "codemirror_mode": {
    "name": "ipython",
    "version": 3
   },
   "file_extension": ".py",
   "mimetype": "text/x-python",
   "name": "python",
   "nbconvert_exporter": "python",
   "pygments_lexer": "ipython3",
   "version": "3.9.2"
  },
  "orig_nbformat": 2
 },
 "nbformat": 4,
 "nbformat_minor": 2
}