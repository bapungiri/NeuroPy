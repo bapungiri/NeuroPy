{
 "cells": [
  {
   "cell_type": "code",
   "execution_count": 70,
   "metadata": {},
   "outputs": [],
   "source": [
    "import numpy as np\n",
    "import numpy.matlib as mlib\n",
    "import matplotlib.pyplot as plt\n",
    "%matplotlib inline"
   ]
  },
  {
   "cell_type": "code",
   "execution_count": 107,
   "metadata": {},
   "outputs": [
    {
     "data": {
      "text/plain": [
       "[<matplotlib.lines.Line2D at 0x106bbddc3f28>]"
      ]
     },
     "execution_count": 107,
     "metadata": {},
     "output_type": "execute_result"
    },
    {
     "data": {
      "image/png": "[encoded data removed]",
      "text/plain": [
       "<Figure size 432x288 with 1 Axes>"
      ]
     },
     "metadata": {
      "needs_background": "light"
     },
     "output_type": "display_data"
    }
   ],
   "source": [
    "x = np.sort(np.random.rand(1,1000))\n",
    "y = np.sort(np.random.rand(1,1000,))\n",
    "# neur1 =  mlib.repmat(x,len(y),1)\n",
    "# neur2 = mlib.repmat(y,len(x),1)\n",
    "# print(np.shape(x)[1])\n",
    "# neur1.shape\n",
    "# diff1 = neur1-mlib.repmat(np.transpose(y),1,len(x))\n",
    "\n",
    "# neur1 =  mlib.repmat(x,len(y),1)\n",
    "# neur2 = mlib.repmat(y,len(x),1)\n",
    "# lenx = np.shape(x)[1]\n",
    "# leny = np.shape(y)[1]\n",
    "    \n",
    "# diff1 = (neur1-mlib.repmat(np.transpose(y),1,len(x))).reshape(1,lenx*leny)\n",
    "# diff2 = (neur2-mlib.repmat(np.transpose(x),1,len(y))).reshape(1,lenx*leny)\n",
    "# tbin = np.linspace(-5,5,100)\n",
    "# corr1, bedge = np.histogram(diff1,bins=tbin) \n",
    "# # \n",
    "# np.shape(corr1)\n",
    "z = spikegram(x,y)\n",
    "plt.plot(z)"
   ]
  },
  {
   "cell_type": "code",
   "execution_count": 106,
   "metadata": {},
   "outputs": [],
   "source": [
    "def spikegram(x,y):\n",
    "    \n",
    "    neur1 =  mlib.repmat(x,len(y),1)\n",
    "    neur2 = mlib.repmat(y,len(x),1)\n",
    "    \n",
    "    lenx = np.shape(x)[1]\n",
    "    leny = np.shape(y)[1]\n",
    "    \n",
    "    diff1 = (neur1-mlib.repmat(np.transpose(y),1,len(x))).reshape(1,lenx*leny)\n",
    "    diff2 = (neur2-mlib.repmat(np.transpose(x),1,len(y))).reshape(1,lenx*leny)\n",
    "    \n",
    "    tbin = np.linspace(-5,5,100) \n",
    "    corr1, bedge = np.histogram(diff1,tbin) \n",
    "    return corr1\n",
    "\n",
    "   \n",
    "    \n",
    "#    if(a > b):\n",
    "#       print str(a) + \" is greater than \" + str(b)\n",
    "#    elif(b > a):\n",
    "#       print str(b) + \" is greater than \" + str(a)"
   ]
  },
  {
   "cell_type": "code",
   "execution_count": null,
   "metadata": {},
   "outputs": [],
   "source": []
  }
 ],
 "metadata": {
  "kernelspec": {
   "display_name": "Python 3",
   "language": "python",
   "name": "python3"
  },
  "language_info": {
   "codemirror_mode": {
    "name": "ipython",
    "version": 3
   },
   "file_extension": ".py",
   "mimetype": "text/x-python",
   "name": "python",
   "nbconvert_exporter": "python",
   "pygments_lexer": "ipython3",
   "version": "3.7.0"
  }
 },
 "nbformat": 4,
 "nbformat_minor": 2
}
