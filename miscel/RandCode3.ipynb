{
 "cells": [
  {
   "cell_type": "code",
   "execution_count": 3,
   "metadata": {},
   "outputs": [],
   "source": [
    "import numpy as np\n",
    "import numpy.matlib as mlib\n",
    "import matplotlib.pyplot as plt\n",
    "%matplotlib inline"
   ]
  },
  {
   "cell_type": "code",
   "execution_count": 8,
   "metadata": {},
   "outputs": [
    {
     "data": {
      "text/plain": [
       "[<matplotlib.lines.Line2D at 0x1cdb01dfb00>]"
      ]
     },
     "execution_count": 8,
     "metadata": {},
     "output_type": "execute_result"
    },
    {
     "data": {
      "image/png": "[encoded data removed]",
      "text/plain": [
       "<Figure size 432x288 with 1 Axes>"
      ]
     },
     "metadata": {
      "needs_background": "light"
     },
     "output_type": "display_data"
    }
   ],
   "source": [
    "x = np.sort(np.random.rand(1,1000))\n",
    "y = np.sort(np.random.rand(1,1000))\n",
    "# neur1 =  mlib.repmat(x,len(y),1)\n",
    "# neur2 = mlib.repmat(y,len(x),1)\n",
    "# print(np.shape(x)[1])\n",
    "# neur1.shape\n",
    "# diff1 = neur1-mlib.repmat(np.transpose(y),1,len(x))\n",
    "\n",
    "# neur1 =  mlib.repmat(x,len(y),1)\n",
    "# neur2 = mlib.repmat(y,len(x),1)\n",
    "# lenx = np.shape(x)[1]\n",
    "# leny = np.shape(y)[1]\n",
    "    \n",
    "# diff1 = (neur1-mlib.repmat(np.transpose(y),1,len(x))).reshape(1,lenx*leny)\n",
    "# diff2 = (neur2-mlib.repmat(np.transpose(x),1,len(y))).reshape(1,lenx*leny)\n",
    "# tbin = np.linspace(-5,5,100)\n",
    "# corr1, bedge = np.histogram(diff1,bins=tbin) \n",
    "# # \n",
    "# np.shape(corr1)\n",
    "z = spikegram(x,y)\n",
    "plt.plot(z)"
   ]
  },
  {
   "cell_type": "code",
   "execution_count": 12,
   "metadata": {},
   "outputs": [],
   "source": [
    "def spikegram(x,y):\n",
    "    \n",
    "    neur1 =  mlib.repmat(x,len(y),1)\n",
    "    neur2 = mlib.repmat(y,len(x),1)\n",
    "    \n",
    "    lenx = np.shape(x)[1]\n",
    "    leny = np.shape(y)[1]\n",
    "    \n",
    "#     diff1 = (neur1-mlib.repmat(np.transpose(y),1,len(x))).reshape(1,lenx*leny)\n",
    "#     diff2 = (neur2-mlib.repmat(np.transpose(x),1,len(y))).reshape(1,lenx*leny)\n",
    "    \n",
    "    diff1 = neur1-neur2[:,np.newaxis]\n",
    "    diff2 = (neur2-mlib.repmat(np.transpose(x),1,len(y))).reshape(1,lenx*leny)\n",
    "    \n",
    "    tbin = np.linspace(-5,5,100) \n",
    "    corr1, bedge = np.histogram(diff1,tbin) \n",
    "    return corr1\n",
    "\n",
    "   \n",
    "    \n",
    "#    if(a > b):\n",
    "#       print str(a) + \" is greater than \" + str(b)\n",
    "#    elif(b > a):\n",
    "#       print str(b) + \" is greater than \" + str(a)"
   ]
  },
  {
   "cell_type": "code",
   "execution_count": 11,
   "metadata": {},
   "outputs": [
    {
     "data": {
      "text/plain": [
       "(1, 1, 1000)"
      ]
     },
     "execution_count": 11,
     "metadata": {},
     "output_type": "execute_result"
    }
   ],
   "source": [
    "x[:,np.newaxis].shape\n",
    "# y.shape"
   ]
  },
  {
   "cell_type": "code",
   "execution_count": 14,
   "metadata": {},
   "outputs": [
    {
     "data": {
      "text/plain": [
       "[1, 2]"
      ]
     },
     "execution_count": 14,
     "metadata": {},
     "output_type": "execute_result"
    }
   ],
   "source": [
    "a = [1,2]\n",
    "a"
   ]
  },
  {
   "cell_type": "code",
   "execution_count": 15,
   "metadata": {},
   "outputs": [
    {
     "data": {
      "text/plain": [
       "[1, 2, 1, 2]"
      ]
     },
     "execution_count": 15,
     "metadata": {},
     "output_type": "execute_result"
    }
   ],
   "source": [
    "2*a"
   ]
  },
  {
   "cell_type": "code",
   "execution_count": 17,
   "metadata": {},
   "outputs": [
    {
     "data": {
      "text/plain": [
       "[1, 2, 1, 2]"
      ]
     },
     "execution_count": 17,
     "metadata": {},
     "output_type": "execute_result"
    }
   ],
   "source": [
    "2*a"
   ]
  },
  {
   "cell_type": "code",
   "execution_count": 6,
   "metadata": {},
   "outputs": [],
   "source": [
    "import numpy as np\n",
    "from numba import jit\n",
    "a = np.arange(1, 10 ** 7)\n",
    "b = np.arange(-10 ** 7, -1)\n",
    "\n",
    "\n",
    "@jit(nopython=True)\n",
    "def sum_sequence(a, b):\n",
    "    result = np.zeros_like(a)\n",
    "    for i in range(len(a)):\n",
    "        result[i] = a[i] - b[i]\n",
    "    return result"
   ]
  },
  {
   "cell_type": "code",
   "execution_count": 8,
   "metadata": {},
   "outputs": [
    {
     "data": {
      "text/plain": [
       "0.038495200000056684"
      ]
     },
     "execution_count": 8,
     "metadata": {},
     "output_type": "execute_result"
    }
   ],
   "source": [
    "import timeit\n",
    "    \n",
    "timeit.timeit('sum_sequence(a, b)', globals=globals(), number=1)"
   ]
  },
  {
   "cell_type": "code",
   "execution_count": 4,
   "metadata": {},
   "outputs": [
    {
     "data": {
      "text/plain": [
       "19.990000000000002"
      ]
     },
     "execution_count": 4,
     "metadata": {},
     "output_type": "execute_result"
    }
   ],
   "source": [
    "10.0+9.99"
   ]
  },
  {
   "cell_type": "code",
   "execution_count": 3,
   "metadata": {},
   "outputs": [
    {
     "data": {
      "text/plain": [
       "10.99"
      ]
     },
     "execution_count": 3,
     "metadata": {},
     "output_type": "execute_result"
    }
   ],
   "source": [
    "1+9.99"
   ]
  },
  {
   "cell_type": "code",
   "execution_count": 5,
   "metadata": {},
   "outputs": [],
   "source": [
    "a = {'a':2,'b':2}"
   ]
  },
  {
   "cell_type": "code",
   "execution_count": 10,
   "metadata": {},
   "outputs": [
    {
     "data": {
      "text/plain": [
       "2"
      ]
     },
     "execution_count": 10,
     "metadata": {},
     "output_type": "execute_result"
    }
   ],
   "source": [
    "len(a)"
   ]
  },
  {
   "cell_type": "code",
   "execution_count": 9,
   "metadata": {},
   "outputs": [
    {
     "data": {
      "text/plain": [
       "dict_keys(['a', 'b'])"
      ]
     },
     "execution_count": 9,
     "metadata": {},
     "output_type": "execute_result"
    }
   ],
   "source": [
    "a"
   ]
  },
  {
   "cell_type": "code",
   "execution_count": 2,
   "metadata": {},
   "outputs": [
    {
     "name": "stdout",
     "output_type": "stream",
     "text": [
      "1\n",
      "2\n",
      "3\n",
      "4\n",
      "5\n",
      "6\n",
      "7\n",
      "8\n",
      "9\n"
     ]
    }
   ],
   "source": [
    "list_of_lists = [ [1, 2, 3], [4, 5, 6], [7, 8, 9]]\n",
    "for list in list_of_lists:\n",
    "    for x in list:\n",
    "        print(x)"
   ]
  },
  {
   "cell_type": "code",
   "execution_count": 4,
   "metadata": {},
   "outputs": [
    {
     "name": "stdout",
     "output_type": "stream",
     "text": [
      "2\n"
     ]
    }
   ],
   "source": [
    "for x in [1]:\n",
    "    y = x+1\n",
    "    print(y)"
   ]
  },
  {
   "cell_type": "code",
   "execution_count": null,
   "metadata": {},
   "outputs": [],
   "source": [
    "import numpy as np\n",
    "i=101\n",
    "while prop < 99:\n",
    "    a = str(i)\n",
    "    b = np.zeros((len(a),1))\n",
    "    c = np.diff(b)\n",
    "    d = np.where()\n",
    "    \n"
   ]
  },
  {
   "cell_type": "code",
   "execution_count": 1,
   "metadata": {},
   "outputs": [
    {
     "data": {
      "text/plain": [
       "'100'"
      ]
     },
     "execution_count": 1,
     "metadata": {},
     "output_type": "execute_result"
    }
   ],
   "source": [
    "str(100)"
   ]
  },
  {
   "cell_type": "code",
   "execution_count": 2,
   "metadata": {},
   "outputs": [],
   "source": [
    "a = str(10000)"
   ]
  },
  {
   "cell_type": "code",
   "execution_count": 3,
   "metadata": {},
   "outputs": [
    {
     "data": {
      "text/plain": [
       "5"
      ]
     },
     "execution_count": 3,
     "metadata": {},
     "output_type": "execute_result"
    }
   ],
   "source": [
    "len(a)"
   ]
  },
  {
   "cell_type": "code",
   "execution_count": 7,
   "metadata": {},
   "outputs": [],
   "source": [
    "a = np.arange(1,5)"
   ]
  },
  {
   "cell_type": "code",
   "execution_count": 10,
   "metadata": {},
   "outputs": [],
   "source": [
    "# pr= 112\n",
    "import numpy as np\n",
    "\n",
    "k = np.where(a >5)"
   ]
  },
  {
   "cell_type": "code",
   "execution_count": 12,
   "metadata": {},
   "outputs": [
    {
     "data": {
      "text/plain": [
       "(array([], dtype=int64),)"
      ]
     },
     "execution_count": 12,
     "metadata": {},
     "output_type": "execute_result"
    }
   ],
   "source": [
    "len(k)\n",
    "k"
   ]
  },
  {
   "cell_type": "code",
   "execution_count": 2,
   "metadata": {},
   "outputs": [
    {
     "data": {
      "text/plain": [
       "[<matplotlib.lines.Line2D at 0x1a174a55198>]"
      ]
     },
     "execution_count": 2,
     "metadata": {},
     "output_type": "execute_result"
    },
    {
     "data": {
      "image/png": "[encoded data removed]",
      "text/plain": [
       "<Figure size 432x288 with 1 Axes>"
      ]
     },
     "metadata": {
      "needs_background": "light"
     },
     "output_type": "display_data"
    }
   ],
   "source": [
    "import numpy as np\n",
    "import matplotlib.pyplot as plt\n",
    "\n",
    "#%% Modeling the postsynaptic conductance\n",
    "# P_s is a numerical simulation of the kinematic model ofor a synapse\n",
    "# P_s_e is an analytical approximation\n",
    "dt  = 0.01 # [ms]\n",
    "a_s = 0.93 # [ms]\n",
    "b_s = 0.19 # [ms]\n",
    "\n",
    "n_steps = 3000\n",
    "P_s  = np.zeros(n_steps)\n",
    "time = dt*np.arange(0,n_steps)\n",
    "for t in range(1,n_steps):\n",
    "    if t*dt > 1:\n",
    "        a_s = 0\n",
    "    \n",
    "    dP_s = a_s*(1-P_s[t-1]) - b_s*P_s[t-1]\n",
    "    P_s[t] = P_s[t-1] + dP_s*dt\n",
    "\n",
    "P_max = np.max(P_s)\n",
    "\n",
    "P_s_e = P_max*np.exp(-time*b_s)\n",
    "\n",
    "plt.plot(time,P_s)\n",
    "plt.plot(time,P_s_e)\n",
    "plt.xlabel('Time (ms)')\n",
    "plt.ylabel(r'$P_S$')\n",
    "plt.title('Postsynaptic channel conductance')\n",
    "plt.legend(['Kinematic model','Filter model'])\n",
    "#%% Modeling arrival of multiple spikes\n",
    "r  = 0.02 # Spikes per millisecond of presynaptic neuron\n",
    "dt = 0.1  # simulation step [ms]\n",
    "tau_s = 1/b_s\n",
    "\n",
    "n_steps = 5000 # simulates 0.5 seconds\n",
    "P_s  = np.zeros(n_steps)\n",
    "time = dt*np.arange(0,n_steps)\n",
    "for t in range(1,n_steps):\n",
    "    if r*dt > np.random.rand():\n",
    "        P_s[t] = P_s[t-1] + P_max*(1-P_s[t-1])\n",
    "    else:\n",
    "        P_s[t] = P_s[t-1] - (P_s[t-1]/tau_s)*dt\n",
    "\n",
    "plt.plot(time,P_s)\n",
    "    \n",
    "#%% Modeling GABA_A and NMDA as a difference of two gaussian\n"
   ]
  },
  {
   "cell_type": "code",
   "execution_count": 12,
   "metadata": {},
   "outputs": [],
   "source": [
    "import numpy as np\n",
    "\n",
    "def mult(a,b,c=3):\n",
    "    \n",
    "    return a+b[0]+c"
   ]
  },
  {
   "cell_type": "code",
   "execution_count": 13,
   "metadata": {},
   "outputs": [
    {
     "data": {
      "text/plain": [
       "6"
      ]
     },
     "execution_count": 13,
     "metadata": {},
     "output_type": "execute_result"
    }
   ],
   "source": [
    "mult(1,[2,3])"
   ]
  },
  {
   "cell_type": "code",
   "execution_count": 16,
   "metadata": {},
   "outputs": [],
   "source": [
    "x = {'a': 1, 'b': 2}\n",
    "y = {'b': 3, 'c': 4}\n",
    "z = {**y, **x}"
   ]
  },
  {
   "cell_type": "code",
   "execution_count": 17,
   "metadata": {},
   "outputs": [
    {
     "data": {
      "text/plain": [
       "{'b': 2, 'c': 4, 'a': 1}"
      ]
     },
     "execution_count": 17,
     "metadata": {},
     "output_type": "execute_result"
    }
   ],
   "source": [
    "z"
   ]
  },
  {
   "cell_type": "code",
   "execution_count": null,
   "metadata": {},
   "outputs": [],
   "source": []
  }
 ],
 "metadata": {
  "kernelspec": {
   "display_name": "Python 3",
   "language": "python",
   "name": "python3"
  },
  "language_info": {
   "codemirror_mode": {
    "name": "ipython",
    "version": 3
   },
   "file_extension": ".py",
   "mimetype": "text/x-python",
   "name": "python",
   "nbconvert_exporter": "python",
   "pygments_lexer": "ipython3",
   "version": "3.7.0"
  }
 },
 "nbformat": 4,
 "nbformat_minor": 2
}
