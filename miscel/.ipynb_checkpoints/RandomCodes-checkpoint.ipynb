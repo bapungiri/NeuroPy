{
 "cells": [
  {
   "cell_type": "code",
   "execution_count": 13,
   "metadata": {},
   "outputs": [
    {
     "ename": "ModuleNotFoundError",
     "evalue": "No module named 'PyEMD'",
     "output_type": "error",
     "traceback": [
      "\u001b[0;31m---------------------------------------------------------------------------\u001b[0m",
      "\u001b[0;31mModuleNotFoundError\u001b[0m                       Traceback (most recent call last)",
      "\u001b[0;32m<ipython-input-13-12b394f9fc63>\u001b[0m in \u001b[0;36m<module>\u001b[0;34m\u001b[0m\n\u001b[1;32m      1\u001b[0m \u001b[0;34m\u001b[0m\u001b[0m\n\u001b[0;32m----> 2\u001b[0;31m \u001b[0;32mfrom\u001b[0m \u001b[0mPyEMD\u001b[0m \u001b[0;32mimport\u001b[0m \u001b[0mEEMD\u001b[0m\u001b[0;34m\u001b[0m\u001b[0m\n\u001b[0m\u001b[1;32m      3\u001b[0m \u001b[0;32mimport\u001b[0m \u001b[0mnumpy\u001b[0m \u001b[0;32mas\u001b[0m \u001b[0mnp\u001b[0m\u001b[0;34m\u001b[0m\u001b[0m\n\u001b[1;32m      4\u001b[0m \u001b[0;32mimport\u001b[0m \u001b[0mpylab\u001b[0m \u001b[0;32mas\u001b[0m \u001b[0mplt\u001b[0m\u001b[0;34m\u001b[0m\u001b[0m\n\u001b[1;32m      5\u001b[0m \u001b[0;34m\u001b[0m\u001b[0m\n",
      "\u001b[0;31mModuleNotFoundError\u001b[0m: No module named 'PyEMD'"
     ]
    }
   ],
   "source": [
    "\n",
    "from PyEMD import EEMD\n",
    "import numpy as np\n",
    "import pylab as plt\n",
    "\n",
    "# Define signal\n",
    "t = np.linspace(0, 1, 200)\n",
    "\n",
    "sin = lambda x,p: np.sin(2*np.pi*x*t+p)\n",
    "S = 3*sin(18,0.2)*(t-0.2)**2\n",
    "S += 5*sin(11,2.7)\n",
    "S += 3*sin(14,1.6)\n",
    "S += 1*np.sin(4*2*np.pi*(t-0.8)**2)\n",
    "S += t**2.1 -t\n",
    "\n",
    "# Assign EEMD to `eemd` variable\n",
    "eemd = EEMD()\n",
    "\n",
    "# Say we want detect extrema using parabolic method\n",
    "emd = eemd.EMD\n",
    "emd.extrema_detection=\"parabol\"\n",
    "\n",
    "# Execute EEMD on S\n",
    "eIMFs = eemd.eemd(S, t)\n",
    "nIMFs = eIMFs.shape[0]\n",
    "\n",
    "# Plot results\n",
    "plt.figure(figsize=(12,9))\n",
    "plt.subplot(nIMFs+1, 1, 1)\n",
    "plt.plot(t, S, 'r')\n",
    "\n",
    "for n in range(nIMFs):\n",
    "    plt.subplot(nIMFs+1, 1, n+2)\n",
    "    plt.plot(t, eIMFs[n], 'g')\n",
    "    plt.ylabel(\"eIMF %i\" %(n+1))\n",
    "    plt.locator_params(axis='y', nbins=5)\n",
    "\n",
    "plt.xlabel(\"Time [s]\")\n",
    "plt.tight_layout()\n",
    "plt.savefig('eemd_example', dpi=120)\n",
    "plt.show()"
   ]
  },
  {
   "cell_type": "code",
   "execution_count": null,
   "metadata": {},
   "outputs": [],
   "source": []
  }
 ],
 "metadata": {
  "kernelspec": {
   "display_name": "Python 3",
   "language": "python",
   "name": "python3"
  },
  "language_info": {
   "codemirror_mode": {
    "name": "ipython",
    "version": 3
   },
   "file_extension": ".py",
   "mimetype": "text/x-python",
   "name": "python",
   "nbconvert_exporter": "python",
   "pygments_lexer": "ipython3",
   "version": "3.6.4"
  }
 },
 "nbformat": 4,
 "nbformat_minor": 2
}
