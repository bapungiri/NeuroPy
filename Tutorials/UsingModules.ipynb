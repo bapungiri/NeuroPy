{
 "metadata": {
  "language_info": {
   "codemirror_mode": {
    "name": "ipython",
    "version": 3
   },
   "file_extension": ".py",
   "mimetype": "text/x-python",
   "name": "python",
   "nbconvert_exporter": "python",
   "pygments_lexer": "ipython3",
   "version": 3
  },
  "orig_nbformat": 2
 },
 "nbformat": 4,
 "nbformat_minor": 2,
 "cells": [
  {
   "source": [
    "### Steps to follow before you start using modules:\n",
    "\n",
    "* Make sure your data folder has .xml and .eeg files.\n",
    "* Open the .eeg file in neuroscope and categorize bad recording channels as `skipped`. Similarly, mark any non-lfp channels as `discard` in neuroscope  "
   ],
   "cell_type": "markdown",
   "metadata": {}
  },
  {
   "source": [
    "### Setting up\n",
    "Call the `processData` from `callfunc.py` in `ModulesPath`. The example below shows how to setup your base data folder."
   ],
   "cell_type": "markdown",
   "metadata": {}
  },
  {
   "cell_type": "code",
   "execution_count": null,
   "metadata": {},
   "outputs": [],
   "source": [
    "#%%\n",
    "import matplotlib as mpl\n",
    "import matplotlib.pyplot as plt\n",
    "import numpy as np\n",
    "import pandas as pd\n",
    "import scipy.stats as stats\n",
    "import seaborn as sns\n",
    "\n",
    "from callfunc import processData\n",
    "\n",
    "\n",
    "\n",
    "#%% Subjects\n",
    "basePath = [\n",
    "\n",
    "    \"/data/Clustering/SleepDeprivation/RatN/Day2/\",\n",
    "    \"/data/Clustering/SleepDeprivation/RatK/Day4/\"\n",
    "    \"/data/Clustering/SleepDeprivation/RatN/Day4/\"\n",
    "]\n",
    "\n",
    "\n",
    "sessions = [processData(_) for _ in basePath]\n",
    "\n",
    "\n",
    "\n",
    "\n"
   ]
  },
  {
   "source": [
    "### Now call analyses\n",
    "![Drag Racing](/home/bapung/Documents/MATLAB/ephys/Analysis/python/Examples_Tutorials_ModulesPath/images/session_example.png)\n",
    "<img src=\"/home/bapung/Documents/MATLAB/ephys/Analysis/python/Examples_Tutorials_ModulesPath/images/session_example.png\"\n",
    "     alt=\"Markdown Monster icon\"\n",
    "     style=\"float: left; margin-right: 10px;\" />"
   ],
   "cell_type": "markdown",
   "metadata": {}
  },
  {
   "cell_type": "code",
   "execution_count": null,
   "metadata": {},
   "outputs": [],
   "source": [
    "sess = sessions[0]\n",
    "sess.ripple.channels()\n",
    "sess.ripple.detect()\n",
    "sess.ripple.export2Neuroscope()\n"
   ]
  }
 ]
}