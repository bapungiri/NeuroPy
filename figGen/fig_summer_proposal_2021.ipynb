{
 "cells": [
  {
   "cell_type": "code",
   "execution_count": 2,
   "metadata": {},
   "outputs": [],
   "source": [
    "import numpy as np\n",
    "import matplotlib.pyplot as plt\n",
    "import subjects\n",
    "from plotUtil import Fig"
   ]
  },
  {
   "cell_type": "code",
   "execution_count": 15,
   "metadata": {},
   "outputs": [
    {
     "name": "stdout",
     "output_type": "stream",
     "text": [
      "Warning: Cannot change to a different GUI toolkit: widget. Using qt instead.\n",
      "Calculating EV for 47 stable cells\n"
     ]
    },
    {
     "name": "stderr",
     "output_type": "stream",
     "text": [
      "/home/bapung/miniconda3/envs/data_analysis/lib/python3.9/site-packages/numpy/lib/function_base.py:2642: RuntimeWarning: invalid value encountered in true_divide\n",
      "  c /= stddev[:, None]\n",
      "/home/bapung/miniconda3/envs/data_analysis/lib/python3.9/site-packages/numpy/lib/function_base.py:2643: RuntimeWarning: invalid value encountered in true_divide\n",
      "  c /= stddev[None, :]\n"
     ]
    },
    {
     "name": "stdout",
     "output_type": "stream",
     "text": [
      "940\n",
      "Calculating EV for 60 stable cells\n",
      "1547\n"
     ]
    },
    {
     "data": {
      "text/plain": "<matplotlib.legend.Legend at 0x7f8d8b66f520>"
     },
     "execution_count": 15,
     "metadata": {},
     "output_type": "execute_result"
    }
   ],
   "source": [
    "%matplotlib widget\n",
    "figure = Fig()\n",
    "fig,gs = figure.draw(grid=(6,3),style='Pres')\n",
    "sessions = subjects.Sd().ratSday3+ subjects.Nsd().ratSday2\n",
    "for sub,sess in enumerate(sessions):\n",
    "    maze1= sess.epochs.maze1\n",
    "    pre = sess.epochs.pre\n",
    "    post = sess.epochs.post\n",
    "\n",
    "    # --- break region into periods --------\n",
    "    bin1 = sess.utils.getinterval(pre, 2)\n",
    "    bin2 = sess.utils.getinterval(post, 4)\n",
    "    bins = bin1 + bin2\n",
    "    sess.spikes.stability.firingRate(periods=bins)\n",
    "\n",
    "    control = pre\n",
    "    template = maze1\n",
    "    match = [post[0], post[1]]\n",
    "\n",
    "    sess.replay.expvar.compute(\n",
    "        template=template,\n",
    "        match=match,\n",
    "        control=control,\n",
    "        window=900,\n",
    "        slideby=300,\n",
    "        cross_shanks=True,\n",
    "    )\n",
    "    print(sess.replay.expvar.npairs)\n",
    "\n",
    "    if sub==0:\n",
    "        sess.replay.expvar.colors['ev'] = '#eb6763'\n",
    "        ind=0\n",
    "    else:\n",
    "        sess.replay.expvar.colors['ev'] = '#5e5a5a'\n",
    "        ind=3\n",
    "\n",
    "\n",
    "    ax = plt.subplot(gs[ind])\n",
    "    sess.replay.expvar.plot(ax=ax, tstart=post[0])\n",
    "    ax.set_xlim(left=0)\n",
    "    ax.tick_params(width=2)\n",
    "    ax.set_ylim(top=0.3)\n",
    "ax.legend(['SD','NSD'])\n",
    "\n",
    "\n",
    "\n"
   ]
  },
  {
   "cell_type": "code",
   "execution_count": 8,
   "metadata": {},
   "outputs": [
    {
     "data": {
      "text/plain": "1"
     },
     "execution_count": 8,
     "metadata": {},
     "output_type": "execute_result"
    }
   ],
   "source": [
    "sub"
   ]
  },
  {
   "cell_type": "code",
   "execution_count": null,
   "metadata": {},
   "outputs": [],
   "source": []
  }
 ],
 "metadata": {
  "kernelspec": {
   "display_name": "Python 3.9.2 64-bit ('data_analysis': conda)",
   "name": "python392jvsc74a57bd07b10c821bc4bd3f433a613d47515e6babc6c2152896bd1e143404cc9d6ede4ad"
  },
  "language_info": {
   "codemirror_mode": {
    "name": "ipython",
    "version": 3
   },
   "file_extension": ".py",
   "mimetype": "text/x-python",
   "name": "python",
   "nbconvert_exporter": "python",
   "pygments_lexer": "ipython3",
   "version": "3.9.2"
  },
  "orig_nbformat": 2
 },
 "nbformat": 4,
 "nbformat_minor": 2
}