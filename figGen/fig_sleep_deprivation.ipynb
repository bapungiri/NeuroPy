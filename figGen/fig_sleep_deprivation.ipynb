{
 "cells": [
  {
   "cell_type": "markdown",
   "metadata": {},
   "source": [
    "## Spectrogram of sleep deprivation vs nsd session "
   ]
  },
  {
   "cell_type": "code",
   "execution_count": 3,
   "metadata": {},
   "outputs": [],
   "source": [
    "import numpy as np\n",
    "import matplotlib.pyplot as plt\n",
    "from scipy import stats\n",
    "import pandas as pd\n",
    "from plotUtil import Fig\n",
    "import subjects"
   ]
  },
  {
   "cell_type": "code",
   "execution_count": 8,
   "metadata": {},
   "outputs": [
    {
     "data": {
      "application/vnd.jupyter.widget-view+json": {
       "model_id": "918c57a659074a22bfb725e9670922a3",
       "version_major": 2,
       "version_minor": 0
      },
      "text/plain": "Canvas(toolbar=Toolbar(toolitems=[('Home', 'Reset original view', 'home', 'home'), ('Back', 'Back to previous …"
     },
     "metadata": {},
     "output_type": "display_data"
    },
    {
     "data": {
      "application/vnd.jupyter.widget-view+json": {
       "model_id": "3dc3189395384a7d8c1f0ac83c79d271",
       "version_major": 2,
       "version_minor": 0
      },
      "text/plain": "interactive(children=(FloatSlider(value=2.0, description='Clim :', max=30.0, min=0.1), Dropdown(description='C…"
     },
     "metadata": {},
     "output_type": "display_data"
    }
   ],
   "source": [
    "%matplotlib widget\n",
    "figure = Fig()\n",
    "fig,gs = figure.draw(num=1,grid=(3,1))\n",
    "sessions = subjects.Nsd().ratSday2\n",
    "for sub, sess in enumerate(sessions):\n",
    "    # maze = sess.epochs.maze\n",
    "    tag = sess.recinfo.animal.tag\n",
    "    post = [0,5000]\n",
    "    \n",
    "    ax = plt.subplot(gs[sub])\n",
    "    sess.viewdata.specgram(chan=18,period=post,ax=ax,window=5)\n",
    "    figure.panel_label(ax,'a')"
   ]
  },
  {
   "cell_type": "markdown",
   "metadata": {},
   "source": [
    "## Mean firing rate across the sessions "
   ]
  },
  {
   "cell_type": "code",
   "execution_count": 5,
   "metadata": {},
   "outputs": [],
   "source": [
    "import numpy as np\n",
    "import matplotlib.pyplot as plt\n",
    "import pandas as pd\n",
    "import seaborn as sns\n",
    "from scipy import stats\n",
    "from plotUtil import Fig\n",
    "import subjects"
   ]
  },
  {
   "cell_type": "code",
   "execution_count": 6,
   "metadata": {},
   "outputs": [
    {
     "data": {
      "application/vnd.jupyter.widget-view+json": {
       "model_id": "c6ba14fbcf76441694938a8aa837fb10",
       "version_major": 2,
       "version_minor": 0
      },
      "text/plain": "Canvas(toolbar=Toolbar(toolitems=[('Home', 'Reset original view', 'home', 'home'), ('Back', 'Back to previous …"
     },
     "metadata": {},
     "output_type": "display_data"
    },
    {
     "data": {
      "text/plain": "(0.2, 1.0)"
     },
     "execution_count": 6,
     "metadata": {},
     "output_type": "execute_result"
    }
   ],
   "source": [
    "%matplotlib widget\n",
    "figure = Fig()\n",
    "fig,gs = figure.draw(grid=(1,1),size=(4,4))\n",
    "sessions = subjects.Sd().allsess + subjects.Nsd().allsess\n",
    "data = pd.DataFrame()\n",
    "for sub, sess in enumerate(sessions):\n",
    "\n",
    "    tag = sess.recinfo.animal.tag\n",
    "    try:\n",
    "        maze = sess.epochs.maze\n",
    "    except:\n",
    "        maze = sess.epochs.maze1\n",
    "\n",
    "    pre = sess.epochs.pre\n",
    "    post = sess.epochs.post\n",
    "    cells = sess.spikes.pyr\n",
    "\n",
    "    pre_bins,pre_binsz = np.linspace(pre[0],pre[1],2,retstep=True)\n",
    "    frate_pre = np.asarray([np.histogram(cell,bins=pre_bins)[0] for cell in cells])/pre_binsz\n",
    "\n",
    "    maze_bins,maze_binsz = np.linspace(maze[0],maze[1],2,retstep=True)\n",
    "    frate_maze = np.asarray([np.histogram(cell,bins=maze_bins)[0] for cell in cells])/maze_binsz\n",
    "\n",
    "    sd_bins,sd_binsz = np.linspace(post[0],post[0]+5*3600,2,retstep=True)\n",
    "    frate_sd = np.asarray([np.histogram(cell,bins=sd_bins)[0] for cell in cells])/sd_binsz\n",
    "\n",
    "\n",
    "    post_bins,post_binsz = np.linspace(post[0]+5*3600,post[1],2,retstep=True)\n",
    "    frate_post = np.asarray([np.histogram(cell,bins=post_bins)[0] for cell in cells])/post_binsz\n",
    "\n",
    "    frate = np.hstack((frate_pre,frate_maze,frate_sd,frate_post))\n",
    "\n",
    "    # frate= np.log10(frate)\n",
    "    # mean_frate = np.mean(frate,axis=0)\n",
    "    data = data.append(pd.DataFrame({'frate':frate.flatten(),'bins':list(np.arange(1,frate.shape[1]+1))*frate.shape[0]}))\n",
    "\n",
    "data_mean = data.groupby('bins').mean()\n",
    "data_sem = data.groupby('bins').sem(ddof=0)\n",
    "\n",
    "ax = plt.subplot(gs[0])\n",
    "# sns.lineplot(data=data,x='bins',y='frate',color='#ccc7c7',ax=ax,err_style='bars',ci=68)\n",
    "ax.errorbar(data_mean.index.values,data_mean['frate'],yerr=data_sem['frate'],capsize=3,lw=2,color='k')\n",
    "ax.axvspan(1,7,0,0.05,color='#968d8d')\n",
    "ax.axvspan(7,16,0,0.05,color='#fadf80')\n",
    "# ax.axvspan(7,16,0,0.05,color='#de5454')\n",
    "# ax.axvspan(10,16,0,0.05,color='#de5454')\n",
    "# sns.swarmplot(data=data,x='bins',y='frate',color='k',ax=ax)\n",
    "ax.set_xlabel('ZT (SD period)')\n",
    "ax.set_title('Firing rating changes across entire session')\n",
    "ax.set_ylim([0.2,1])\n"
   ]
  }
 ],
 "metadata": {
  "interpreter": {
   "hash": "7b10c821bc4bd3f433a613d47515e6babc6c2152896bd1e143404cc9d6ede4ad"
  },
  "kernelspec": {
   "display_name": "Python 3.9.2 64-bit ('data_analysis': conda)",
   "name": "python3"
  },
  "language_info": {
   "codemirror_mode": {
    "name": "ipython",
    "version": 3
   },
   "file_extension": ".py",
   "mimetype": "text/x-python",
   "name": "python",
   "nbconvert_exporter": "python",
   "pygments_lexer": "ipython3",
   "version": "3.9.2"
  },
  "orig_nbformat": 2
 },
 "nbformat": 4,
 "nbformat_minor": 2
}