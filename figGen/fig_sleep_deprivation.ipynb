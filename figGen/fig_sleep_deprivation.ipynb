{
 "cells": [
  {
   "cell_type": "markdown",
   "metadata": {},
   "source": [
    "## Spectrogram of sleep deprivation vs nsd session "
   ]
  },
  {
   "cell_type": "code",
   "execution_count": 2,
   "metadata": {},
   "outputs": [],
   "source": [
    "import numpy as np\n",
    "import matplotlib.pyplot as plt\n",
    "from scipy import stats\n",
    "import pandas as pd\n",
    "from plotUtil import Fig\n",
    "import subjects"
   ]
  },
  {
   "cell_type": "code",
   "execution_count": 8,
   "metadata": {},
   "outputs": [
    {
     "data": {
      "application/vnd.jupyter.widget-view+json": {
       "model_id": "2d3ff0154ddf4839af1dbc450d5d8b5f",
       "version_major": 2,
       "version_minor": 0
      },
      "text/plain": "Canvas(toolbar=Toolbar(toolitems=[('Home', 'Reset original view', 'home', 'home'), ('Back', 'Back to previous …"
     },
     "metadata": {},
     "output_type": "display_data"
    },
    {
     "data": {
      "application/vnd.jupyter.widget-view+json": {
       "model_id": "732bab85b1b640eebce37ceedb4666a5",
       "version_major": 2,
       "version_minor": 0
      },
      "text/plain": "interactive(children=(FloatSlider(value=2.0, description='Clim :', max=30.0, min=0.1), Dropdown(description='C…"
     },
     "metadata": {},
     "output_type": "display_data"
    },
    {
     "data": {
      "application/vnd.jupyter.widget-view+json": {
       "model_id": "104464e2cd794e5fbcd97d166c7b8e8d",
       "version_major": 2,
       "version_minor": 0
      },
      "text/plain": "interactive(children=(FloatSlider(value=2.0, description='Clim :', max=30.0, min=0.1), Dropdown(description='C…"
     },
     "metadata": {},
     "output_type": "display_data"
    }
   ],
   "source": [
    "%matplotlib widget\n",
    "figure = Fig()\n",
    "fig,gs = figure.draw(num=1,grid=(3,1))\n",
    "sessions = subjects.Sd().ratSday3 + subjects.Nsd().ratSday2\n",
    "for sub, sess in enumerate(sessions):\n",
    "    # maze = sess.epochs.maze\n",
    "    tag = sess.recinfo.animal.tag\n",
    "    post = sess.epochs.post\n",
    "\n",
    "    \n",
    "    ax = plt.subplot(gs[sub])\n",
    "    sess.viewdata.specgram(chan=18,period=post,ax=ax)\n",
    "    figure.panel_label(ax,'a')"
   ]
  }
 ],
 "metadata": {
  "kernelspec": {
   "display_name": "Python 3.9.2 64-bit ('data_analysis': conda)",
   "name": "python392jvsc74a57bd07b10c821bc4bd3f433a613d47515e6babc6c2152896bd1e143404cc9d6ede4ad"
  },
  "language_info": {
   "codemirror_mode": {
    "name": "ipython",
    "version": 3
   },
   "file_extension": ".py",
   "mimetype": "text/x-python",
   "name": "python",
   "nbconvert_exporter": "python",
   "pygments_lexer": "ipython3",
   "version": "3.9.2"
  },
  "orig_nbformat": 2
 },
 "nbformat": 4,
 "nbformat_minor": 2
}