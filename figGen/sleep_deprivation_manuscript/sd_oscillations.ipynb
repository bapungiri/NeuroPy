{
 "cells": [
  {
   "cell_type": "markdown",
   "metadata": {},
   "source": [
    "## Ripple stats during sleep deprivation"
   ]
  },
  {
   "cell_type": "code",
   "execution_count": 4,
   "metadata": {},
   "outputs": [
    {
     "name": "stdout",
     "output_type": "stream",
     "text": [
      "[processData(RatJDay2), processData(RatKDay2), processData(RatNDay2), processData(RatSDay2NSD)]\n"
     ]
    }
   ],
   "source": [
    "import numpy as np\n",
    "import matplotlib.pyplot as plt\n",
    "from scipy import stats\n",
    "import pandas as pd\n",
    "from ModulesPath.plotUtil import Fig\n",
    "import subjects\n",
    "import seaborn as sns\n",
    "\n",
    "# sessions = subjects.Sd().allsess\n",
    "sessions = subjects.Nsd().allsess\n",
    "print(sessions)"
   ]
  },
  {
   "cell_type": "code",
   "execution_count": 5,
   "metadata": {},
   "outputs": [
    {
     "data": {
      "application/vnd.jupyter.widget-view+json": {
       "model_id": "1481742c24754c7eb881255866b8d316",
       "version_major": 2,
       "version_minor": 0
      },
      "text/plain": [
       "Canvas(toolbar=Toolbar(toolitems=[('Home', 'Reset original view', 'home', 'home'), ('Back', 'Back to previous …"
      ]
     },
     "metadata": {},
     "output_type": "display_data"
    },
    {
     "data": {
      "text/plain": [
       "Text(0, 0.5, 'nrem proportion')"
      ]
     },
     "execution_count": 5,
     "metadata": {},
     "output_type": "execute_result"
    }
   ],
   "source": [
    "%matplotlib widget\n",
    "figure = Fig()\n",
    "fig,gs = figure.draw(grid=(1,1),size=(4,4),style='Pres')\n",
    "df = pd.DataFrame()\n",
    "for sub,sess in enumerate(sessions):\n",
    "\n",
    "    post = sess.paradigm.post\n",
    "    # pre = sess.paradigm.pre\n",
    "    # sd_period = [post[0],post[1]]\n",
    "    sd_period = [post[0],post[0]+9*3600]\n",
    "    rpls = sess.ripple.epochs\n",
    "    # states = sess.brainstates.epochs\n",
    "\n",
    "    binsz = 600\n",
    "    sd_bin = np.arange(sd_period[0],sd_period[1]+binsz,binsz)\n",
    "    hist_rpl = np.histogram(rpls.start,bins=sd_bin)[0]\n",
    "\n",
    "    nrem_percent = []\n",
    "    for start in sd_bin[:-1]:\n",
    "        prop = sess.brainstates.proportion([start,start+binsz])\n",
    "        nrem_percent.append(prop['nrem'])\n",
    "\n",
    "    df = df.append(pd.DataFrame({'n_ripples':hist_rpl/binsz,'tbin':(sd_bin[:-1]-sd_bin[0])/3600,'nrem':nrem_percent,'sub':sub}))\n",
    "\n",
    "\n",
    "ax = plt.subplot(gs[0])\n",
    "rpls_mean = df.groupby('tbin').mean().n_ripples\n",
    "rpls_sem = df.groupby('tbin').sem(ddof=0).n_ripples\n",
    "ax.fill_between(rpls_mean.index,rpls_mean-rpls_sem,rpls_mean+rpls_sem,color='#faa49d',alpha=0.7)\n",
    "ax.plot(rpls_mean.index,rpls_mean,color='#faa49d',zorder=2)\n",
    "ax.axvline(5,ls='--',color='r')\n",
    "ax.set_xlabel('ZT time (h)')\n",
    "ax.set_ylabel('Ripple rate')\n",
    "\n",
    "axsleep= ax.twinx()\n",
    "color = sess.brainstates.colors['nrem']\n",
    "sleep_df = df.groupby('tbin').mean()\n",
    "axsleep.fill_between(sleep_df.index,sleep_df.nrem,color=color,zorder=1,alpha=0.3)\n",
    "# sns.lineplot(data=df,x='tbin',y='nrem',ax=axsleep,estimator='sum')\n",
    "axsleep.set_ylim([0,1])\n",
    "axsleep.spines['right'].set_visible(True)\n",
    "axsleep.set_ylabel('nrem proportion')\n",
    "\n"
   ]
  },
  {
   "cell_type": "code",
   "execution_count": 132,
   "metadata": {},
   "outputs": [
    {
     "data": {
      "text/html": [
       "<div>\n",
       "<style scoped>\n",
       "    .dataframe tbody tr th:only-of-type {\n",
       "        vertical-align: middle;\n",
       "    }\n",
       "\n",
       "    .dataframe tbody tr th {\n",
       "        vertical-align: top;\n",
       "    }\n",
       "\n",
       "    .dataframe thead th {\n",
       "        text-align: right;\n",
       "    }\n",
       "</style>\n",
       "<table border=\"1\" class=\"dataframe\">\n",
       "  <thead>\n",
       "    <tr style=\"text-align: right;\">\n",
       "      <th></th>\n",
       "      <th>start</th>\n",
       "      <th>stop</th>\n",
       "      <th>duration</th>\n",
       "      <th>label</th>\n",
       "    </tr>\n",
       "  </thead>\n",
       "  <tbody>\n",
       "    <tr>\n",
       "      <th>0</th>\n",
       "      <td>42485.0</td>\n",
       "      <td>42574.1</td>\n",
       "      <td>225.6</td>\n",
       "      <td>rem</td>\n",
       "    </tr>\n",
       "    <tr>\n",
       "      <th>1</th>\n",
       "      <td>42574.1</td>\n",
       "      <td>42601.3</td>\n",
       "      <td>27.2</td>\n",
       "      <td>active</td>\n",
       "    </tr>\n",
       "    <tr>\n",
       "      <th>2</th>\n",
       "      <td>42601.3</td>\n",
       "      <td>42670.1</td>\n",
       "      <td>68.8</td>\n",
       "      <td>quiet</td>\n",
       "    </tr>\n",
       "    <tr>\n",
       "      <th>3</th>\n",
       "      <td>42670.1</td>\n",
       "      <td>42819.7</td>\n",
       "      <td>149.6</td>\n",
       "      <td>nrem</td>\n",
       "    </tr>\n",
       "    <tr>\n",
       "      <th>4</th>\n",
       "      <td>42819.7</td>\n",
       "      <td>43075.7</td>\n",
       "      <td>256.0</td>\n",
       "      <td>quiet</td>\n",
       "    </tr>\n",
       "    <tr>\n",
       "      <th>5</th>\n",
       "      <td>43075.7</td>\n",
       "      <td>43085.0</td>\n",
       "      <td>77.6</td>\n",
       "      <td>nrem</td>\n",
       "    </tr>\n",
       "  </tbody>\n",
       "</table>\n",
       "</div>"
      ],
      "text/plain": [
       "     start     stop  duration   label\n",
       "0  42485.0  42574.1     225.6     rem\n",
       "1  42574.1  42601.3      27.2  active\n",
       "2  42601.3  42670.1      68.8   quiet\n",
       "3  42670.1  42819.7     149.6    nrem\n",
       "4  42819.7  43075.7     256.0   quiet\n",
       "5  43075.7  43085.0      77.6    nrem"
      ]
     },
     "execution_count": 132,
     "metadata": {},
     "output_type": "execute_result"
    }
   ],
   "source": [
    "ep = sess.brainstates.epochs\n",
    "period = [start,start+binsz]\n",
    "ep = ep[(ep.stop>period[0])&(ep.start<period[1])].reset_index(drop=True)\n",
    "if (f:=ep['start'].iloc[0]) < period[0]:\n",
    "   ep.at[0,'start']= period[0]\n",
    "\n",
    "if (f:=ep['stop'].iloc[-1]) > period[1]:\n",
    "    ep.at[ep.index[-1],'stop'] = period[1]\n",
    "\n",
    "ep_group = ep.groupby('label').sum().duration/np.diff(period)\n",
    "ep_group.index.values\n",
    "\n",
    "states_proportion = {'rem':0,'nrem':0,'quiet':0,'active':0}\n",
    "\n",
    "for state in ep_group.index.values:\n",
    "    states_proportion[state] = ep_group[state]\n",
    "\n",
    "ep\n",
    "\n"
   ]
  },
  {
   "cell_type": "code",
   "execution_count": 4,
   "metadata": {},
   "outputs": [],
   "source": [
    "import numpy as np\n",
    "import subjects\n",
    "from ModulesPath.getPosition import SessPosition,SessTrack\n",
    "\n",
    "sess = subjects.Sd().ratNday1[0]\n",
    "\n",
    "position = SessPosition\n",
    "\n"
   ]
  }
 ],
 "metadata": {
  "interpreter": {
   "hash": "7b10c821bc4bd3f433a613d47515e6babc6c2152896bd1e143404cc9d6ede4ad"
  },
  "kernelspec": {
   "display_name": "Python 3.9.2 64-bit ('data_analysis': conda)",
   "name": "python3"
  },
  "language_info": {
   "codemirror_mode": {
    "name": "ipython",
    "version": 3
   },
   "file_extension": ".py",
   "mimetype": "text/x-python",
   "name": "python",
   "nbconvert_exporter": "python",
   "pygments_lexer": "ipython3",
   "version": "3.9.2"
  },
  "orig_nbformat": 2
 },
 "nbformat": 4,
 "nbformat_minor": 2
}