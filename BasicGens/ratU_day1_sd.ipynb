{
 "cells": [
  {
   "cell_type": "markdown",
   "metadata": {},
   "source": [
    "### RatU Day1 SD recording info\n",
    "- No timestamps were deleted after concatenating .dat files from various folders of open-ephys"
   ]
  },
  {
   "cell_type": "code",
   "execution_count": 37,
   "metadata": {},
   "outputs": [
    {
     "name": "stdout",
     "output_type": "stream",
     "text": [
      "filename: /data/Clustering/sessions/RatU/RatUDay1SD/RatU_Day1SD_2021-07-22_07-55-46.xml \n",
      "# channels: 192\n",
      "sampling rate: 30000\n",
      "lfp Srate (downsampled): 1250\n",
      "\n"
     ]
    }
   ],
   "source": [
    "import numpy as np\n",
    "import subjects\n",
    "import matplotlib.pyplot as plt\n",
    "\n",
    "sess = subjects.sd.ratUday1[0]\n",
    "print(sess.recinfo)"
   ]
  },
  {
   "cell_type": "markdown",
   "metadata": {},
   "source": [
    "# Set probe configuration\n",
    "- RatU_Day1NSD has two probes: both 128chan-8shanks diagnostic biochips.\n",
    "- 64 channels in one of the probes (implanted in left hemisphere) had no signal from 4 shanks (probably one of the intan chips was faulty). So only 192 channels were recorded, the channels in .dat file are already order according to depth.\n"
   ]
  },
  {
   "cell_type": "code",
   "execution_count": null,
   "metadata": {},
   "outputs": [],
   "source": [
    "%matplotlib widget\n",
    "from neuropy.core import Shank,Probe, ProbeGroup\n",
    "from neuropy.plotting import plot_probe\n",
    "\n",
    "shanks = []\n",
    "channel_groups = sess.recinfo.channel_groups\n",
    "badchans = sess.recinfo.skipped_channels\n",
    "\n",
    "#--- diagnostic-biochip 8 shanks -----------\n",
    "for i in range(8):\n",
    "    chans = channel_groups[i]\n",
    "    shank =Shank.auto_generate(\n",
    "        columns=2,\n",
    "        contacts_per_column=8,\n",
    "        xpitch=15,\n",
    "        ypitch=30,\n",
    "        y_shift_per_column=[0,-15],\n",
    "        channel_id=np.append(\n",
    "            channel_groups[i][::2][::-1], channel_groups[i][1::2][::-1]\n",
    "        ),\n",
    "    )\n",
    "    shank.set_disconnected_channels(sess.recinfo.skipped_channels)\n",
    "    shanks.append(shank)\n",
    "\n",
    "probe1 = Probe(shanks)\n",
    "\n",
    "#--- dignostic biochip 4 shanks (4 shanks were bad) ----------- \n",
    "shanks = []\n",
    "for i in range(8,12):\n",
    "\n",
    "    shank = shank.auto_generate(\n",
    "        columns=2,\n",
    "        contacts_per_column=8,\n",
    "        xpitch=15,\n",
    "        ypitch=30,\n",
    "        y_shift_per_column=[0, -15],\n",
    "        channel_id=np.append(\n",
    "            channel_groups[i][::2][::-1], channel_groups[i][1::2][::-1]\n",
    "        ),\n",
    "    )\n",
    "    shank.set_disconnected_channels(sess.recinfo.skipped_channels)\n",
    "    shanks.append(shank)\n",
    "\n",
    "\n",
    "probe2 = Probe(shanks)\n",
    "probe2.move((probe1.x_max+500,0))\n",
    "\n",
    "prbgrp =ProbeGroup()\n",
    "prbgrp.add_probe(probe1)\n",
    "prbgrp.add_probe(probe2)\n",
    "\n",
    "prbgrp.save(sess.filePrefix.with_suffix('.probegroup.npy'))\n",
    "plot_probe(prbgrp)"
   ]
  },
  {
   "cell_type": "markdown",
   "metadata": {},
   "source": [
    "## Writing to json format for spyking-circus "
   ]
  },
  {
   "cell_type": "code",
   "execution_count": null,
   "metadata": {},
   "outputs": [],
   "source": [
    "from neuropy.utils import probe_util\n",
    "\n",
    "file = sess.filePrefix.with_suffix('.prb')\n",
    "probe_util.write_spyking_circus(file,sess.probegroup,shanksCombine=True)\n"
   ]
  },
  {
   "cell_type": "markdown",
   "metadata": {},
   "source": [
    "# Create experimental paradigm\n",
    "- pre sleep is a little shorter\n",
    "- animal was lazy on re-maze"
   ]
  },
  {
   "cell_type": "code",
   "execution_count": null,
   "metadata": {},
   "outputs": [],
   "source": [
    "sess.paradigm.to_dataframe()"
   ]
  },
  {
   "cell_type": "code",
   "execution_count": 16,
   "metadata": {},
   "outputs": [
    {
     "name": "stdout",
     "output_type": "stream",
     "text": [
      "/data/Clustering/sessions/RatU/RatUDay1SD/RatU_Day1SD_2021-07-22_07-55-46.paradigm.npy saved\n"
     ]
    }
   ],
   "source": [
    "import pandas as pd\n",
    "from neuropy.core import Epoch\n",
    "\n",
    "datetime_data = pd.read_csv(sess.filePrefix.with_suffix('.datetime.csv'))\n",
    "durations = datetime_data.nFrames/sess.recinfo.dat_sampling_rate\n",
    "epochs = pd.DataFrame(\n",
    "    {\n",
    "        \"start\": [0,10371,13683,31691,13683,46094],\n",
    "        \"stop\": [10370,13682,31691,46093,46093,49832],\n",
    "        \"label\": [\"pre\", \"maze\", \"sd\",'rs','post','re-maze'],\n",
    "    }\n",
    ")\n",
    "\n",
    "paradigm = Epoch(epochs=epochs)\n",
    "paradigm.save(sess.filePrefix.with_suffix(\".paradigm.npy\"))"
   ]
  },
  {
   "cell_type": "code",
   "execution_count": 14,
   "metadata": {},
   "outputs": [
    {
     "data": {
      "text/html": [
       "<div>\n",
       "<style scoped>\n",
       "    .dataframe tbody tr th:only-of-type {\n",
       "        vertical-align: middle;\n",
       "    }\n",
       "\n",
       "    .dataframe tbody tr th {\n",
       "        vertical-align: top;\n",
       "    }\n",
       "\n",
       "    .dataframe thead th {\n",
       "        text-align: right;\n",
       "    }\n",
       "</style>\n",
       "<table border=\"1\" class=\"dataframe\">\n",
       "  <thead>\n",
       "    <tr style=\"text-align: right;\">\n",
       "      <th></th>\n",
       "      <th>start</th>\n",
       "      <th>stop</th>\n",
       "      <th>label</th>\n",
       "      <th>duration</th>\n",
       "    </tr>\n",
       "  </thead>\n",
       "  <tbody>\n",
       "    <tr>\n",
       "      <th>0</th>\n",
       "      <td>0</td>\n",
       "      <td>10370</td>\n",
       "      <td>pre</td>\n",
       "      <td>10370</td>\n",
       "    </tr>\n",
       "    <tr>\n",
       "      <th>1</th>\n",
       "      <td>10371</td>\n",
       "      <td>13682</td>\n",
       "      <td>maze</td>\n",
       "      <td>3311</td>\n",
       "    </tr>\n",
       "    <tr>\n",
       "      <th>2</th>\n",
       "      <td>13683</td>\n",
       "      <td>31691</td>\n",
       "      <td>sd</td>\n",
       "      <td>18008</td>\n",
       "    </tr>\n",
       "    <tr>\n",
       "      <th>4</th>\n",
       "      <td>13683</td>\n",
       "      <td>46093</td>\n",
       "      <td>post</td>\n",
       "      <td>32410</td>\n",
       "    </tr>\n",
       "    <tr>\n",
       "      <th>3</th>\n",
       "      <td>31691</td>\n",
       "      <td>46093</td>\n",
       "      <td>rs</td>\n",
       "      <td>14402</td>\n",
       "    </tr>\n",
       "    <tr>\n",
       "      <th>5</th>\n",
       "      <td>46094</td>\n",
       "      <td>49832</td>\n",
       "      <td>re-maze</td>\n",
       "      <td>3738</td>\n",
       "    </tr>\n",
       "  </tbody>\n",
       "</table>\n",
       "</div>"
      ],
      "text/plain": [
       "   start   stop    label  duration\n",
       "0      0  10370      pre     10370\n",
       "1  10371  13682     maze      3311\n",
       "2  13683  31691       sd     18008\n",
       "4  13683  46093     post     32410\n",
       "3  31691  46093       rs     14402\n",
       "5  46094  49832  re-maze      3738"
      ]
     },
     "execution_count": 14,
     "metadata": {},
     "output_type": "execute_result"
    }
   ],
   "source": [
    "paradigm.to_dataframe()"
   ]
  },
  {
   "cell_type": "code",
   "execution_count": 15,
   "metadata": {},
   "outputs": [
    {
     "data": {
      "text/plain": [
       "array([2.88055556, 0.91972222, 5.00222222, 9.00277778, 4.00055556,\n",
       "       1.03833333])"
      ]
     },
     "execution_count": 15,
     "metadata": {},
     "output_type": "execute_result"
    }
   ],
   "source": [
    "paradigm.durations/3600"
   ]
  },
  {
   "cell_type": "markdown",
   "metadata": {},
   "source": [
    "# Detect epochs\n",
    "Here we will various types of epochs which typical for hippocampal recordings."
   ]
  },
  {
   "cell_type": "markdown",
   "metadata": {},
   "source": [
    "## Artifacts epochs\n",
    "A typical session will have some artifacts that may negatively influence many analyses. Using a simple zscore measure, we can identify epochs where signal is above some threshold."
   ]
  },
  {
   "cell_type": "code",
   "execution_count": 36,
   "metadata": {},
   "outputs": [
    {
     "name": "stdout",
     "output_type": "stream",
     "text": [
      "/data/Clustering/sessions/RatU/RatUDay1SD/RatU_Day1SD_2021-07-22_07-55-46.artifact.npy saved\n"
     ]
    }
   ],
   "source": [
    "from neuropy.analyses import detect_artifact_epochs\n",
    "from neuropy import plotting\n",
    "from neuropy.utils import signal_process\n",
    "from neuropy.core import Signal\n",
    "\n",
    "signal = sess.eegfile.get_signal([23,155])\n",
    "# filt_trace = signal_process.filter_sig.highpass(signal.traces,cutoff=400)\n",
    "# filtered_signal = Signal(np.median(filt_trace,axis=0).reshape((1,-1)),signal.sampling_rate)\n",
    "artifact_epochs = detect_artifact_epochs(signal, thresh=7)\n",
    "artifact_epochs.save(sess.filePrefix.with_suffix(\".artifact.npy\"))\n"
   ]
  },
  {
   "cell_type": "code",
   "execution_count": 38,
   "metadata": {},
   "outputs": [
    {
     "data": {
      "text/plain": [
       "<AxesSubplot:xlabel='Time (s)', ylabel='Absolute zscore'>"
      ]
     },
     "execution_count": 38,
     "metadata": {},
     "output_type": "execute_result"
    },
    {
     "data": {
      "application/vnd.jupyter.widget-view+json": {
       "model_id": "d3278e90891d4cef8ed2e4094b60e4f9",
       "version_major": 2,
       "version_minor": 0
      },
      "image/png": "[encoded data removed]",
      "text/html": [
       "\n",
       "            <div style=\"display: inline-block;\">\n",
       "                <div class=\"jupyter-widgets widget-label\" style=\"text-align: center;\">\n",
       "                    Figure\n",
       "                </div>\n",
       "                <img src='data:image/png;base64,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' width=640.0/>\n",
       "            </div>\n",
       "        "
      ],
      "text/plain": [
       "Canvas(toolbar=Toolbar(toolitems=[('Home', 'Reset original view', 'home', 'home'), ('Back', 'Back to previous …"
      ]
     },
     "metadata": {},
     "output_type": "display_data"
    }
   ],
   "source": [
    "%matplotlib widget\n",
    "from neuropy import plotting\n",
    "signal = sess.eegfile.get_signal([23])\n",
    "# signal = Signal(filtered_signal.traces[0].reshape(1,-1),sampling_rate=1250)\n",
    "plotting.plot_artifact_epochs(sess.artifact, signal)"
   ]
  },
  {
   "cell_type": "markdown",
   "metadata": {},
   "source": [
    "### write artifact to neuroscope"
   ]
  },
  {
   "cell_type": "code",
   "execution_count": null,
   "metadata": {},
   "outputs": [],
   "source": [
    "\n",
    "sess.recinfo.write_epochs(sess.artifact,ext='.art')"
   ]
  },
  {
   "cell_type": "markdown",
   "metadata": {},
   "source": [
    "### write artifact epochs to spyking circus format"
   ]
  },
  {
   "cell_type": "code",
   "execution_count": null,
   "metadata": {},
   "outputs": [],
   "source": [
    "from neuropy.io import SpykingCircusIO\n",
    "\n",
    "file = sess.filePrefix.with_suffix('.dead')\n",
    "SpykingCircusIO.write_epochs(file,sess.artifact)"
   ]
  },
  {
   "cell_type": "markdown",
   "metadata": {},
   "source": [
    "## Sleep scoring"
   ]
  },
  {
   "cell_type": "code",
   "execution_count": null,
   "metadata": {},
   "outputs": [],
   "source": [
    "from neuropy.core import Signal\n",
    "from neuropy.analyses import brainstates\n",
    "\n",
    "signal = sess.eegfile.get_signal() \n",
    "brainstates = brainstates.detect_brainstates_epochs(signal=signal,probe=sess.probegroup)"
   ]
  },
  {
   "cell_type": "code",
   "execution_count": null,
   "metadata": {},
   "outputs": [],
   "source": [
    "brainstates.filename = sess.filePrefix.with_suffix('.brainstates')\n",
    "brainstates.save()"
   ]
  },
  {
   "cell_type": "markdown",
   "metadata": {},
   "source": [
    "## Ripple epochs\n",
    "To detect ripples one also needs probegroup."
   ]
  },
  {
   "cell_type": "code",
   "execution_count": 41,
   "metadata": {},
   "outputs": [
    {
     "name": "stdout",
     "output_type": "stream",
     "text": [
      "Selected channels for ripples: [15, 31, 47, 63, 79, 90, 103, 118, 143, 159, 175, 185]\n",
      "1330556 epochs detected initially\n",
      "217224 epochs reamining after merging close ones\n",
      "21625 epochs reamining after deleting epochs with weaker power\n",
      "20502 epochs reamining after deleting short epochs\n",
      "15387 epochs reamining after deleting very long epochs\n",
      "/data/Clustering/sessions/RatU/RatUDay1SD/RatU_Day1SD_2021-07-22_07-55-46.ripple.npy saved\n"
     ]
    }
   ],
   "source": [
    "from neuropy.analyses import oscillations\n",
    "\n",
    "signal = sess.eegfile.get_signal()\n",
    "ripple_epochs = oscillations.detect_ripple_epochs(\n",
    "    signal=signal,\n",
    "    probegroup=sess.probegroup,\n",
    "    freq_band=(125, 250),\n",
    "    ignore_epochs=sess.artifact,\n",
    ")\n",
    "ripple_epochs.save(sess.filePrefix.with_suffix(\".ripple.npy\"))\n"
   ]
  },
  {
   "cell_type": "code",
   "execution_count": null,
   "metadata": {},
   "outputs": [],
   "source": [
    "signal = sess.eegfile.get_signal(channel_id=[1, 2, 3, 4], t_start=1, t_stop=1.2)\n",
    "plotting.plot_signal_traces(signal)"
   ]
  },
  {
   "cell_type": "markdown",
   "metadata": {},
   "source": [
    "# Neurons"
   ]
  },
  {
   "cell_type": "markdown",
   "metadata": {},
   "source": [
    "## Importing spiketrains from Phy"
   ]
  },
  {
   "cell_type": "code",
   "execution_count": null,
   "metadata": {},
   "outputs": [],
   "source": [
    "from neuropy.io import PhyIO\n",
    "from neuropy.core import Neurons\n",
    "from pathlib import Path\n",
    "import numpy as np\n",
    "\n",
    "cluster_path = Path(\"/home/bapung/Documents/ClusteringHub/spykcirc/RatU/RatUDay2NSD/RatU_Day2NSD_2021-07-24_08-16-38-1.GUI\")\n",
    "chan_grps = sess.recinfo.channel_groups\n",
    "phy_data = PhyIO(cluster_path)\n",
    "spiketrains =phy_data.spiketrains\n",
    "peak_chans = phy_data.peak_channels\n",
    "waveforms = phy_data.waveforms\n",
    "shank_id = sess.probegroup.get_shank_id_for_channels(peak_chans)\n",
    "\n",
    "neuron_type_id = phy_data.cluster_info.q.values\n",
    "neuron_type = np.ones(len(neuron_type_id), dtype=\"U5\")\n",
    "neuron_type[neuron_type_id<4] = 'pyr'\n",
    "neuron_type[neuron_type_id==6] = 'mua'\n",
    "neuron_type[neuron_type_id==8] = 'inter'\n",
    "\n",
    "\n",
    "neurons = Neurons(\n",
    "    np.array(spiketrains, dtype=object),\n",
    "    t_stop=sess.eegfile.duration,\n",
    "    sampling_rate=phy_data.sampling_rate,\n",
    "    peak_channels=peak_chans,\n",
    "    waveforms=np.array(waveforms,dtype='object'),\n",
    "    shank_ids=np.array(shank_id).astype(int),\n",
    "    neuron_type=neuron_type,\n",
    "    metadata={'cluster_path':cluster_path}\n",
    ")\n",
    "\n",
    "neurons.filename = sess.filePrefix.with_suffix('.neurons')\n",
    "neurons.save()\n"
   ]
  },
  {
   "cell_type": "code",
   "execution_count": null,
   "metadata": {},
   "outputs": [],
   "source": [
    "%matplotlib widget\n",
    "import matplotlib.pyplot as plt\n",
    "from neuropy.plotting import plot_raster\n",
    "\n",
    "\n",
    "plt.plot(phy_data.peak_waveforms[0])\n",
    "plot_raster(neurons,color='jet',add_vert_jitter=True)"
   ]
  },
  {
   "cell_type": "markdown",
   "metadata": {},
   "source": [
    "## BinnedSpiketrain and Mua objects using Neurons"
   ]
  },
  {
   "cell_type": "code",
   "execution_count": null,
   "metadata": {},
   "outputs": [],
   "source": [
    "mua =sess.neurons.get_mua()\n",
    "mua.filename = sess.filePrefix.with_suffix(\".mua.npy\")\n",
    "mua.save()   \n"
   ]
  },
  {
   "cell_type": "code",
   "execution_count": null,
   "metadata": {},
   "outputs": [],
   "source": [
    "%matplotlib widget\n",
    "from neuropy import plotting\n",
    "smth_mua = sess.mua.get_smoothed(sigma=0.02)\n",
    "plotting.plot_mua(smth_mua)"
   ]
  },
  {
   "cell_type": "code",
   "execution_count": null,
   "metadata": {},
   "outputs": [],
   "source": [
    "from neuropy.analyses import detect_pbe_epochs\n",
    "\n",
    "pbe = detect_pbe_epochs(smth_mua)\n",
    "pbe.filename = sess.filePrefix.with_suffix('.pbe')\n",
    "pbe.save()\n"
   ]
  },
  {
   "cell_type": "markdown",
   "metadata": {},
   "source": [
    "# Position\n",
    "- concatenated .dat file did not have any deleted timepoints"
   ]
  },
  {
   "cell_type": "markdown",
   "metadata": {},
   "source": [
    "## Import position from optitrack"
   ]
  },
  {
   "cell_type": "code",
   "execution_count": null,
   "metadata": {},
   "outputs": [],
   "source": [
    "from neuropy.io import OptitrackIO\n",
    "from neuropy.core import Position\n",
    "from pathlib import Path\n",
    "\n",
    "opti_folder = sess.filePrefix.parent / 'position'\n",
    "opti_data = OptitrackIO(dirname=opti_folder,scale_factor=0.25)"
   ]
  },
  {
   "cell_type": "markdown",
   "metadata": {},
   "source": [
    "## Align position with .dat file"
   ]
  },
  {
   "cell_type": "code",
   "execution_count": null,
   "metadata": {},
   "outputs": [],
   "source": [
    "import pandas as pd\n",
    "from datetime import datetime\n",
    "\n",
    "#---- startimes of concatenated .dat files\n",
    "tracking_sRate = opti_data.sampling_rate\n",
    "rec_datetime = pd.read_csv(sess.filePrefix.with_suffix('.datetime.csv'))\n",
    "data_time = []\n",
    "for i, file_time in enumerate(rec_datetime[\"StartTime\"]):\n",
    "    # sync_time = rec_datetime['sync_nframes'][i]/rec_datetime['sync_rate'][i]\n",
    "    tbegin = datetime.strptime(file_time, \"%Y-%m-%d_%H-%M-%S\")\n",
    "    # + pd.Timedelta(sync_time,unit='sec')\n",
    "    nframes = rec_datetime[\"nFrames\"][i]\n",
    "    duration = pd.Timedelta(nframes / sess.recinfo.dat_sampling_rate, unit=\"sec\")\n",
    "    print(duration.total_seconds()*tracking_sRate)\n",
    "    tend = tbegin + duration\n",
    "    trange = pd.date_range(\n",
    "        start=tbegin,\n",
    "        end=tend,\n",
    "        periods=int(duration.total_seconds() * tracking_sRate),\n",
    "        # freq='16.66ms',\n",
    "        closed='left'\n",
    "    )\n",
    "    data_time.extend(trange)\n",
    "data_time = pd.to_datetime(data_time)\n",
    "\n",
    "x,y,z = opti_data.get_position_at_datetimes(data_time)\n",
    "traces = np.vstack((z,x,y))\n",
    "\n",
    "position = Position(traces=traces,t_start=0,sampling_rate=60)"
   ]
  },
  {
   "cell_type": "code",
   "execution_count": null,
   "metadata": {},
   "outputs": [],
   "source": [
    "position.filename = sess.filePrefix.with_suffix('.position.npy')\n",
    "position.save()"
   ]
  },
  {
   "cell_type": "markdown",
   "metadata": {},
   "source": [
    "## Linearize position"
   ]
  },
  {
   "cell_type": "code",
   "execution_count": null,
   "metadata": {},
   "outputs": [],
   "source": [
    "from neuropy.utils import position_util\n",
    "\n",
    "maze = sess.paradigm['maze']\n",
    "maze_position = sess.position.time_slice(maze[0],maze[1])\n",
    "lin_pos = position_util.linearize_position(maze_position,sigma=10)\n",
    "\n",
    "lin_pos.filename = sess.filePrefix.with_suffix('.maze.linear')\n",
    "lin_pos.save()"
   ]
  },
  {
   "cell_type": "markdown",
   "metadata": {},
   "source": [
    "## Checking position alignment with .dat file\n",
    "- Comparing theta power, speed and position to check if high theta periods are correlated with the speed of the animal"
   ]
  },
  {
   "cell_type": "code",
   "execution_count": null,
   "metadata": {},
   "outputs": [],
   "source": [
    "%matplotlib widget\n",
    "from neuropy.utils import signal_process\n",
    "maze= sess.paradigm['maze']\n",
    "signal = sess.eegfile.get_signal([111],t_start=maze[0],t_stop=maze[1])\n",
    "# spec = signal_process.SpectrogramBands(signal,window=1,overlap=0.8,norm_sig=True)"
   ]
  },
  {
   "cell_type": "code",
   "execution_count": null,
   "metadata": {},
   "outputs": [],
   "source": [
    "from neuropy_viewer import time_frequency_viewer\n",
    "\n",
    "time_frequency_viewer(signal,freq_params=(3,120,0.1))"
   ]
  },
  {
   "cell_type": "code",
   "execution_count": null,
   "metadata": {},
   "outputs": [],
   "source": [
    "from neuropy.utils import signal_process\n",
    "from scipy import stats\n",
    "freqs = np.arange(1,20,0.5)\n",
    "wavdec = signal_process.wavelet_decomp(stats.zscore(signal.traces[0]),sampfreq=1250,freqs=freqs)\n",
    "\n",
    "wvlt_power = wavdec.colgin2009()"
   ]
  },
  {
   "cell_type": "code",
   "execution_count": null,
   "metadata": {},
   "outputs": [],
   "source": [
    "%matplotlib widget\n",
    "import matplotlib.pyplot as plt\n",
    "plt.imshow(wvlt_power,aspect='auto',cmap='jet',vmax=80000,extent=[signal.t_start,signal.t_stop,wavdec.freqs[0],wavdec.freqs[-1]],origin='lower')\n",
    "plt.plot(pos_t,speed/10,'w')"
   ]
  },
  {
   "cell_type": "code",
   "execution_count": null,
   "metadata": {},
   "outputs": [],
   "source": [
    "indx = np.where((wavdec.freqs>=8)&(wavdec.freqs<=16))[0]\n",
    "theta_wvlt_power = np.median(wvlt_power[indx,:],axis=0)"
   ]
  },
  {
   "cell_type": "code",
   "execution_count": null,
   "metadata": {},
   "outputs": [],
   "source": [
    "%matplotlib widget\n",
    "from scipy.ndimage import gaussian_filter1d\n",
    "import matplotlib.pyplot as plt\n",
    "import numpy as np\n",
    "\n",
    "position = sess.position.time_slice(maze[0],maze[1])\n",
    "rpls = sess.ripple.time_slice(maze[0],maze[1]).starts\n",
    "x = position.x[:-1]\n",
    "y = position.y[:-1]\n",
    "pos_t = position.time[:-1]\n",
    "speed = gaussian_filter1d( position.speed,sigma =20)\n",
    "theta = np.interp(pos_t,spec.time,spec.theta)\n",
    "theta = gaussian_filter1d(theta,sigma=20)\n",
    "\n",
    "\n",
    "plt.plot(pos_t,theta*100,'r')\n",
    "# plt.plot(sess.position.time,sess.position.y)\n",
    "plt.plot(signal.time,theta_wvlt_power/4000,'r')\n",
    "plt.plot(rpls,100*np.ones_like(rpls),'*')\n",
    "plt.plot(pos_t,speed,'g')\n",
    "plt.plot(pos_t,x,'gray')\n",
    "plt.plot(pos_t,y,'gray')\n",
    "# plt.plot(pos_t,y,'k')\n",
    "# plt.plot(sess.position.time[1:],np.diff(sess.position.x)*100)\n",
    "# plt.xlim([1500,1600])\n",
    "plt.ylim([-400,400])"
   ]
  },
  {
   "cell_type": "code",
   "execution_count": null,
   "metadata": {},
   "outputs": [],
   "source": [
    "position.filename = sess.filePrefix.with_suffix('.maze.linear')\n",
    "position.t_start = position.t_start +6\n",
    "position.save()"
   ]
  },
  {
   "cell_type": "code",
   "execution_count": null,
   "metadata": {},
   "outputs": [],
   "source": [
    "sess.paradigm['maze']/60"
   ]
  },
  {
   "cell_type": "code",
   "execution_count": null,
   "metadata": {},
   "outputs": [],
   "source": [
    "%matplotlib widget\n",
    "import scipy.signal as sg\n",
    "\n",
    "xcorr = sg.correlate(theta,speed,mode='same')\n",
    "lags= sg.correlation_lags(len(pos_t),len(pos_t),mode='same')\n",
    "\n",
    "plt.plot(lags/position.sampling_rate,xcorr)\n",
    "# plt.xlim([-20,20])\n",
    "\n",
    "\n"
   ]
  },
  {
   "cell_type": "code",
   "execution_count": null,
   "metadata": {},
   "outputs": [],
   "source": [
    "%matplotlib widget\n",
    "import numpy as np\n",
    "\n",
    "x = np.array([1,2,3,7,8,9,10,15,16,17,18])\n",
    "y = np.array([6,7,8,9,10,11,12])\n",
    "z = np.array([2,3,2,5,6,3,4])\n",
    "plt.plot(x,np.ones_like(x),'.')\n",
    "plt.plot(y,2*np.ones_like(y),'.')"
   ]
  },
  {
   "cell_type": "code",
   "execution_count": null,
   "metadata": {},
   "outputs": [],
   "source": [
    "np.interp(x,y,z)"
   ]
  },
  {
   "cell_type": "markdown",
   "metadata": {},
   "source": [
    "## Run direction"
   ]
  },
  {
   "cell_type": "code",
   "execution_count": null,
   "metadata": {},
   "outputs": [],
   "source": [
    "%matplotlib widget\n",
    "from neuropy.utils import position_util\n",
    "from neuropy.plotting import plot_epochs\n",
    "from scipy.ndimage import gaussian_filter1d\n",
    "\n",
    "run = position_util.run_direction(sess.lin_maze)\n",
    "run.filename = sess.filePrefix.with_suffix('.running')\n",
    "run.save()\n",
    "_,ax = plt.subplots()\n",
    "ax.plot(sess.lin_maze.time,sess.lin_maze.x)\n",
    "# ax.plot(sess.lin_maze.time,gaussian_filter1d(sess.lin_maze.x,sigma=50))\n",
    "plot_epochs(ax=ax,epochs=run,colors={'forward':'r','backward':'k'},alpha=0.2)\n"
   ]
  },
  {
   "cell_type": "markdown",
   "metadata": {},
   "source": [
    "## Licking TTL epochs"
   ]
  },
  {
   "cell_type": "code",
   "execution_count": null,
   "metadata": {},
   "outputs": [],
   "source": [
    "from neuropy.io import openephysio\n",
    "\n",
    "ttl_folder = '/data/Clustering/sessions/RatU/RatUDay2NSD/TTL_1' \n",
    "ttl = openephysio.load_ttl_events(ttl_folder,sync_info=False)\n",
    "print(ttl)"
   ]
  },
  {
   "cell_type": "code",
   "execution_count": null,
   "metadata": {},
   "outputs": [],
   "source": [
    "file= '/data/Clustering/sessions/RatU/RatUDay2NSD/timestamps.npy'\n",
    "data = np.load(file)\n",
    "data[0]/30000\n"
   ]
  },
  {
   "cell_type": "code",
   "execution_count": null,
   "metadata": {},
   "outputs": [],
   "source": [
    "data[0]"
   ]
  },
  {
   "cell_type": "code",
   "execution_count": null,
   "metadata": {},
   "outputs": [],
   "source": [
    "b = (ttl['timestamps']-985075968)/30000"
   ]
  },
  {
   "cell_type": "code",
   "execution_count": null,
   "metadata": {},
   "outputs": [],
   "source": [
    "sess.eegfile.sampling_rate"
   ]
  },
  {
   "cell_type": "code",
   "execution_count": null,
   "metadata": {},
   "outputs": [],
   "source": [
    "print(sess.eegfile)"
   ]
  },
  {
   "cell_type": "code",
   "execution_count": null,
   "metadata": {},
   "outputs": [],
   "source": [
    "%matplotlib widget\n",
    "from neuropy.plotting import plot_epochs\n",
    "\n",
    "_,ax = plt.subplots()\n",
    "ax.plot(sess.position.time,sess.position.x)\n",
    "# plot_epochs(ax=ax,epochs= sess.paradigm)\n",
    "\n",
    "for val in b:\n",
    "    ax.axvline(val+45321,color='k')\n",
    "\n",
    "# ax.set_xlim(sess.paradigm['maze'])\n"
   ]
  }
 ],
 "metadata": {
  "interpreter": {
   "hash": "cce1618081139d19eb1ee8d40815d94a2de4f62e1efb20d9406ddb60628c36ae"
  },
  "kernelspec": {
   "display_name": "Python 3.9.7 64-bit ('data_analysis': conda)",
   "name": "python3"
  },
  "language_info": {
   "codemirror_mode": {
    "name": "ipython",
    "version": 3
   },
   "file_extension": ".py",
   "mimetype": "text/x-python",
   "name": "python",
   "nbconvert_exporter": "python",
   "pygments_lexer": "ipython3",
   "version": "3.9.9"
  },
  "orig_nbformat": 4
 },
 "nbformat": 4,
 "nbformat_minor": 2
}
