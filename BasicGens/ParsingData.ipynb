{
 "cells": [
  {
   "cell_type": "markdown",
   "metadata": {},
   "source": [
    "## Read lick events from openephys events folder"
   ]
  },
  {
   "cell_type": "code",
   "execution_count": 3,
   "metadata": {},
   "outputs": [],
   "source": [
    "import numpy as np\n",
    "import matplotlib.pyplot as plt\n",
    "from scipy import stats\n",
    "from pathlib import Path\n",
    "from datetime import datetime\n",
    "import dateutil"
   ]
  },
  {
   "cell_type": "code",
   "execution_count": null,
   "metadata": {},
   "outputs": [],
   "source": [
    "file = '/data/Clustering/SleepDeprivation/RatS/Day2NSD/lick_events/'\n",
    "p = Path(file)\n",
    "folders = [x for x in p.iterdir() if x.is_dir()]\n",
    "\n",
    "for folder in folders:\n",
    "    time = dateutil.parser.parse(folder.name,fuzzy=True)\n",
    "    print(time)"
   ]
  },
  {
   "cell_type": "markdown",
   "metadata": {},
   "source": [
    "## Create channel map for openephys in json format"
   ]
  },
  {
   "cell_type": "code",
   "execution_count": 11,
   "metadata": {},
   "outputs": [],
   "source": [
    "import json\n",
    "import numpy as np\n",
    "import pandas as pd\n",
    "import subjects"
   ]
  },
  {
   "cell_type": "code",
   "execution_count": 52,
   "metadata": {},
   "outputs": [],
   "source": [
    "sess = subjects.Sd().ratNday1[0]\n",
    "auxchans = sess.recinfo.auxchans\n",
    "chans = np.concatenate(sess.recinfo.channelgroups)\n",
    "chans = np.concatenate((chans,chans+128,auxchans+256,auxchans+256+8))\n",
    "chan_map_oe = {\"0\":{\"mapping\":[int(_+1) for _ in chans],\"reference\":[-1]*len(chans),\"enabled\":['true']*len(chans)},\"refs\":{\"channels\":[]},\"recording\":{\"channels\":[]}}\n",
    "with open('test_chanmap','w') as jfile:\n",
    "    json.dump(chan_map_oe,jfile,indent=4)\n"
   ]
  }
 ],
 "metadata": {
  "kernelspec": {
   "display_name": "Python 3.9.2 64-bit ('data_analysis': conda)",
   "name": "python392jvsc74a57bd07b10c821bc4bd3f433a613d47515e6babc6c2152896bd1e143404cc9d6ede4ad"
  },
  "language_info": {
   "codemirror_mode": {
    "name": "ipython",
    "version": 3
   },
   "file_extension": ".py",
   "mimetype": "text/x-python",
   "name": "python",
   "nbconvert_exporter": "python",
   "pygments_lexer": "ipython3",
   "version": "3.9.2"
  },
  "orig_nbformat": 2
 },
 "nbformat": 4,
 "nbformat_minor": 2
}