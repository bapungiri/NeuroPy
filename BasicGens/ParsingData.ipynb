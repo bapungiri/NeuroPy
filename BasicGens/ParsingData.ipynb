{
 "cells": [
  {
   "cell_type": "markdown",
   "metadata": {},
   "source": [
    "## Read lick events from openephys events folder"
   ]
  },
  {
   "cell_type": "code",
   "execution_count": 3,
   "metadata": {},
   "outputs": [],
   "source": [
    "import numpy as np\n",
    "import matplotlib.pyplot as plt\n",
    "from scipy import stats\n",
    "from pathlib import Path\n",
    "from datetime import datetime\n",
    "import dateutil"
   ]
  },
  {
   "cell_type": "code",
   "execution_count": null,
   "metadata": {},
   "outputs": [],
   "source": [
    "file = '/data/Clustering/SleepDeprivation/RatS/Day2NSD/lick_events/'\n",
    "p = Path(file)\n",
    "folders = [x for x in p.iterdir() if x.is_dir()]\n",
    "\n",
    "for folder in folders:\n",
    "    time = dateutil.parser.parse(folder.name,fuzzy=True)\n",
    "    print(time)"
   ]
  },
  {
   "cell_type": "markdown",
   "metadata": {},
   "source": [
    "## Create channel map for openephys in json format"
   ]
  },
  {
   "cell_type": "code",
   "execution_count": 2,
   "metadata": {},
   "outputs": [],
   "source": [
    "import json\n",
    "import numpy as np\n",
    "import pandas as pd\n",
    "import subjects"
   ]
  },
  {
   "cell_type": "code",
   "execution_count": 3,
   "metadata": {},
   "outputs": [],
   "source": [
    "sess = subjects.Sd().ratNday1[0]\n",
    "auxchans = sess.recinfo.auxchans\n",
    "chans = np.concatenate(sess.recinfo.channelgroups)\n",
    "chans = np.concatenate((chans,chans+128,auxchans+128,auxchans+128+6))\n",
    "chan_map_oe = {\"0\":{\"mapping\":[int(_+1) for _ in chans],\"reference\":[-1]*len(chans),\"enabled\":['true']*len(chans)},\"refs\":{\"channels\":[]},\"recording\":{\"channels\":[]}}\n",
    "with open('test_chanmap','w') as jfile:\n",
    "    json.dump(chan_map_oe,jfile,indent=4)\n"
   ]
  },
  {
   "cell_type": "markdown",
   "metadata": {},
   "source": [
    "## Testing ephyviewer for viewing ephys signal"
   ]
  },
  {
   "cell_type": "code",
   "execution_count": 9,
   "metadata": {},
   "outputs": [
    {
     "name": "stdout",
     "output_type": "stream",
     "text": [
      "done\n",
      "debug True\n",
      "refresh duration for Signals 0.0001709461212158203 s\n",
      "save_all_settings\n"
     ]
    },
    {
     "data": {
      "text/plain": "0"
     },
     "execution_count": 9,
     "metadata": {},
     "output_type": "execute_result"
    }
   ],
   "source": [
    "from ephyviewer import mkQApp, MainViewer, TraceViewer\n",
    "import numpy as np\n",
    "import subjects\n",
    "\n",
    "#you must first create a main Qt application (for event loop)\n",
    "app = mkQApp()\n",
    "\n",
    "#-------signals -----------\n",
    "sess = subjects.Sd().ratNday1[0]\n",
    "maze = sess.epochs.maze\n",
    "changrp = sess.recinfo.channelgroups[0]\n",
    "sigs = np.asarray(sess.recinfo.geteeg(chans=changrp,timeRange=maze))\n",
    "# sigs = sigs[:,np.newaxis]\n",
    "sigs = sigs.T\n",
    "sample_rate = float(sess.recinfo.lfpSrate)\n",
    "print('done')\n",
    "#create fake 16 signals with 100000 at 10kHz\n",
    "# sigs = np.random.rand(400000,16)\n",
    "# sample_rate = 1250\n",
    "t_start = 0.\n",
    "\n",
    "#Create the main window that can contain several viewers\n",
    "win = MainViewer(debug=True, show_auto_scale=True)\n",
    "\n",
    "#create a viewer for signal with TraceViewer\n",
    "# TraceViewer normally accept a AnalogSignalSource but\n",
    "# TraceViewer.from_numpy is facitilty function to bypass that\n",
    "view1 = TraceViewer.from_numpy(sigs, sample_rate, t_start,'Signals')\n",
    "\n",
    "#Parameters can be set in script\n",
    "view1.params['scale_mode'] = 'same_for_all'\n",
    "view1.params['display_labels'] = True\n",
    "view1.params\n",
    "\n",
    "#And also parameters for each channel\n",
    "# view1.by_channel_params['ch0', 'visible'] = False\n",
    "# view1.by_channel_params['ch15', 'color'] = '#FF00AA'\n",
    "\n",
    "#This is needed when scale_mode='same_for_all'\n",
    "#to recompute the gain\n",
    "#this avoid to push auto_scale button\n",
    "view1.auto_scale()\n",
    "\n",
    "#put this veiwer in the main window\n",
    "win.add_view(view1)\n",
    "#show main window and run Qapp\n",
    "win.show()\n",
    "\n",
    "app.exec_()\n"
   ]
  },
  {
   "cell_type": "markdown",
   "metadata": {},
   "source": [
    "## Testing sleep states editor"
   ]
  },
  {
   "cell_type": "code",
   "execution_count": 1,
   "metadata": {},
   "outputs": [
    {
     "name": "stderr",
     "output_type": "stream",
     "text": [
      "/home/bapung/miniconda3/envs/data_analysis/lib/python3.9/site-packages/outdated/utils.py:14: OutdatedPackageWarning: The package outdated is out of date. Your version is 0.2.0, the latest is 0.2.1.\n",
      "Set the environment variable OUTDATED_IGNORE=1 to disable these warnings.\n",
      "  return warn(\n"
     ]
    },
    {
     "ename": "KeyError",
     "evalue": "'state'",
     "output_type": "error",
     "traceback": [
      "\u001b[0;31m---------------------------------------------------------------------------\u001b[0m",
      "\u001b[0;31mKeyError\u001b[0m                                  Traceback (most recent call last)",
      "\u001b[0;32m~/miniconda3/envs/data_analysis/lib/python3.9/site-packages/pandas/core/indexes/base.py\u001b[0m in \u001b[0;36mget_loc\u001b[0;34m(self, key, method, tolerance)\u001b[0m\n\u001b[1;32m   3079\u001b[0m             \u001b[0;32mtry\u001b[0m\u001b[0;34m:\u001b[0m\u001b[0;34m\u001b[0m\u001b[0;34m\u001b[0m\u001b[0m\n\u001b[0;32m-> 3080\u001b[0;31m                 \u001b[0;32mreturn\u001b[0m \u001b[0mself\u001b[0m\u001b[0;34m.\u001b[0m\u001b[0m_engine\u001b[0m\u001b[0;34m.\u001b[0m\u001b[0mget_loc\u001b[0m\u001b[0;34m(\u001b[0m\u001b[0mcasted_key\u001b[0m\u001b[0;34m)\u001b[0m\u001b[0;34m\u001b[0m\u001b[0;34m\u001b[0m\u001b[0m\n\u001b[0m\u001b[1;32m   3081\u001b[0m             \u001b[0;32mexcept\u001b[0m \u001b[0mKeyError\u001b[0m \u001b[0;32mas\u001b[0m \u001b[0merr\u001b[0m\u001b[0;34m:\u001b[0m\u001b[0;34m\u001b[0m\u001b[0;34m\u001b[0m\u001b[0m\n",
      "\u001b[0;32mpandas/_libs/index.pyx\u001b[0m in \u001b[0;36mpandas._libs.index.IndexEngine.get_loc\u001b[0;34m()\u001b[0m\n",
      "\u001b[0;32mpandas/_libs/index.pyx\u001b[0m in \u001b[0;36mpandas._libs.index.IndexEngine.get_loc\u001b[0;34m()\u001b[0m\n",
      "\u001b[0;32mpandas/_libs/hashtable_class_helper.pxi\u001b[0m in \u001b[0;36mpandas._libs.hashtable.PyObjectHashTable.get_item\u001b[0;34m()\u001b[0m\n",
      "\u001b[0;32mpandas/_libs/hashtable_class_helper.pxi\u001b[0m in \u001b[0;36mpandas._libs.hashtable.PyObjectHashTable.get_item\u001b[0;34m()\u001b[0m\n",
      "\u001b[0;31mKeyError\u001b[0m: 'state'",
      "\nThe above exception was the direct cause of the following exception:\n",
      "\u001b[0;31mKeyError\u001b[0m                                  Traceback (most recent call last)",
      "\u001b[0;32m<ipython-input-1-f47e0703e6f8>\u001b[0m in \u001b[0;36m<module>\u001b[0;34m\u001b[0m\n\u001b[1;32m     76\u001b[0m         \u001b[0mdf\u001b[0m\u001b[0;34m.\u001b[0m\u001b[0mto_pickle\u001b[0m\u001b[0;34m(\u001b[0m\u001b[0mself\u001b[0m\u001b[0;34m.\u001b[0m\u001b[0mfilename\u001b[0m\u001b[0;34m)\u001b[0m\u001b[0;34m\u001b[0m\u001b[0;34m\u001b[0m\u001b[0m\n\u001b[1;32m     77\u001b[0m \u001b[0;34m\u001b[0m\u001b[0m\n\u001b[0;32m---> 78\u001b[0;31m \u001b[0msess\u001b[0m \u001b[0;34m=\u001b[0m \u001b[0msubjects\u001b[0m\u001b[0;34m.\u001b[0m\u001b[0mSd\u001b[0m\u001b[0;34m(\u001b[0m\u001b[0;34m)\u001b[0m\u001b[0;34m.\u001b[0m\u001b[0mratNday1\u001b[0m\u001b[0;34m[\u001b[0m\u001b[0;36m0\u001b[0m\u001b[0;34m]\u001b[0m\u001b[0;34m\u001b[0m\u001b[0;34m\u001b[0m\u001b[0m\n\u001b[0m\u001b[1;32m     79\u001b[0m \u001b[0;31m# sleep_states = sess.brainstates.states\u001b[0m\u001b[0;34m\u001b[0m\u001b[0;34m\u001b[0m\u001b[0;34m\u001b[0m\u001b[0m\n\u001b[1;32m     80\u001b[0m \u001b[0mfilename\u001b[0m \u001b[0;34m=\u001b[0m \u001b[0msess\u001b[0m\u001b[0;34m.\u001b[0m\u001b[0mbrainstates\u001b[0m\u001b[0;34m.\u001b[0m\u001b[0mfiles\u001b[0m\u001b[0;34m.\u001b[0m\u001b[0mstates\u001b[0m\u001b[0;34m\u001b[0m\u001b[0;34m\u001b[0m\u001b[0m\n",
      "\u001b[0;32m~/Documents/Codes/pythonprogs/DataPaths/subjects.py\u001b[0m in \u001b[0;36mratNday1\u001b[0;34m(self)\u001b[0m\n\u001b[1;32m     62\u001b[0m     \u001b[0;32mdef\u001b[0m \u001b[0mratNday1\u001b[0m\u001b[0;34m(\u001b[0m\u001b[0mself\u001b[0m\u001b[0;34m)\u001b[0m\u001b[0;34m:\u001b[0m\u001b[0;34m\u001b[0m\u001b[0;34m\u001b[0m\u001b[0m\n\u001b[1;32m     63\u001b[0m         \u001b[0mpath\u001b[0m \u001b[0;34m=\u001b[0m \u001b[0;34m\"/data/Clustering/SleepDeprivation/RatN/Day1/\"\u001b[0m\u001b[0;34m\u001b[0m\u001b[0;34m\u001b[0m\u001b[0m\n\u001b[0;32m---> 64\u001b[0;31m         \u001b[0;32mreturn\u001b[0m \u001b[0;34m[\u001b[0m\u001b[0mprocessData\u001b[0m\u001b[0;34m(\u001b[0m\u001b[0mpath\u001b[0m\u001b[0;34m)\u001b[0m\u001b[0;34m]\u001b[0m\u001b[0;34m\u001b[0m\u001b[0;34m\u001b[0m\u001b[0m\n\u001b[0m\u001b[1;32m     65\u001b[0m \u001b[0;34m\u001b[0m\u001b[0m\n\u001b[1;32m     66\u001b[0m     \u001b[0;34m@\u001b[0m\u001b[0mproperty\u001b[0m\u001b[0;34m\u001b[0m\u001b[0;34m\u001b[0m\u001b[0m\n",
      "\u001b[0;32m~/Documents/Codes/NeuroPy/ModulesPath/callfunc.py\u001b[0m in \u001b[0;36m__init__\u001b[0;34m(self, basepath)\u001b[0m\n\u001b[1;32m     28\u001b[0m \u001b[0;34m\u001b[0m\u001b[0m\n\u001b[1;32m     29\u001b[0m         \u001b[0mself\u001b[0m\u001b[0;34m.\u001b[0m\u001b[0mspikes\u001b[0m \u001b[0;34m=\u001b[0m \u001b[0mSpikes\u001b[0m\u001b[0;34m(\u001b[0m\u001b[0mself\u001b[0m\u001b[0;34m.\u001b[0m\u001b[0mrecinfo\u001b[0m\u001b[0;34m)\u001b[0m\u001b[0;34m\u001b[0m\u001b[0;34m\u001b[0m\u001b[0m\n\u001b[0;32m---> 30\u001b[0;31m         \u001b[0mself\u001b[0m\u001b[0;34m.\u001b[0m\u001b[0mbrainstates\u001b[0m \u001b[0;34m=\u001b[0m \u001b[0mSleepScore\u001b[0m\u001b[0;34m(\u001b[0m\u001b[0mself\u001b[0m\u001b[0;34m.\u001b[0m\u001b[0mrecinfo\u001b[0m\u001b[0;34m)\u001b[0m\u001b[0;34m\u001b[0m\u001b[0;34m\u001b[0m\u001b[0m\n\u001b[0m\u001b[1;32m     31\u001b[0m         \u001b[0mself\u001b[0m\u001b[0;34m.\u001b[0m\u001b[0mswa\u001b[0m \u001b[0;34m=\u001b[0m \u001b[0mHswa\u001b[0m\u001b[0;34m(\u001b[0m\u001b[0mself\u001b[0m\u001b[0;34m.\u001b[0m\u001b[0mrecinfo\u001b[0m\u001b[0;34m)\u001b[0m\u001b[0;34m\u001b[0m\u001b[0;34m\u001b[0m\u001b[0m\n\u001b[1;32m     32\u001b[0m         \u001b[0mself\u001b[0m\u001b[0;34m.\u001b[0m\u001b[0mtheta\u001b[0m \u001b[0;34m=\u001b[0m \u001b[0mTheta\u001b[0m\u001b[0;34m(\u001b[0m\u001b[0mself\u001b[0m\u001b[0;34m.\u001b[0m\u001b[0mrecinfo\u001b[0m\u001b[0;34m)\u001b[0m\u001b[0;34m\u001b[0m\u001b[0;34m\u001b[0m\u001b[0m\n",
      "\u001b[0;32m~/Documents/Codes/NeuroPy/ModulesPath/sleepDetect.py\u001b[0m in \u001b[0;36m__init__\u001b[0;34m(self, basepath)\u001b[0m\n\u001b[1;32m     98\u001b[0m \u001b[0;34m\u001b[0m\u001b[0m\n\u001b[1;32m     99\u001b[0m         \u001b[0mself\u001b[0m\u001b[0;34m.\u001b[0m\u001b[0mfiles\u001b[0m \u001b[0;34m=\u001b[0m \u001b[0mfiles\u001b[0m\u001b[0;34m(\u001b[0m\u001b[0;34m)\u001b[0m\u001b[0;34m\u001b[0m\u001b[0;34m\u001b[0m\u001b[0m\n\u001b[0;32m--> 100\u001b[0;31m         \u001b[0mself\u001b[0m\u001b[0;34m.\u001b[0m\u001b[0m_load\u001b[0m\u001b[0;34m(\u001b[0m\u001b[0;34m)\u001b[0m\u001b[0;34m\u001b[0m\u001b[0;34m\u001b[0m\u001b[0m\n\u001b[0m\u001b[1;32m    101\u001b[0m \u001b[0;34m\u001b[0m\u001b[0m\n\u001b[1;32m    102\u001b[0m     \u001b[0;32mdef\u001b[0m \u001b[0m_load\u001b[0m\u001b[0;34m(\u001b[0m\u001b[0mself\u001b[0m\u001b[0;34m)\u001b[0m\u001b[0;34m:\u001b[0m\u001b[0;34m\u001b[0m\u001b[0;34m\u001b[0m\u001b[0m\n",
      "\u001b[0;32m~/Documents/Codes/NeuroPy/ModulesPath/sleepDetect.py\u001b[0m in \u001b[0;36m_load\u001b[0;34m(self)\u001b[0m\n\u001b[1;32m    113\u001b[0m                 \u001b[0;36m4\u001b[0m\u001b[0;34m:\u001b[0m \u001b[0;34m\"active\"\u001b[0m\u001b[0;34m,\u001b[0m\u001b[0;34m\u001b[0m\u001b[0;34m\u001b[0m\u001b[0m\n\u001b[1;32m    114\u001b[0m             }\n\u001b[0;32m--> 115\u001b[0;31m             \u001b[0mself\u001b[0m\u001b[0;34m.\u001b[0m\u001b[0mstates\u001b[0m\u001b[0;34m[\u001b[0m\u001b[0;34m\"name\"\u001b[0m\u001b[0;34m]\u001b[0m \u001b[0;34m=\u001b[0m \u001b[0mself\u001b[0m\u001b[0;34m.\u001b[0m\u001b[0mstates\u001b[0m\u001b[0;34m[\u001b[0m\u001b[0;34m\"state\"\u001b[0m\u001b[0;34m]\u001b[0m\u001b[0;34m.\u001b[0m\u001b[0mmap\u001b[0m\u001b[0;34m(\u001b[0m\u001b[0mstate_number_dict\u001b[0m\u001b[0;34m)\u001b[0m\u001b[0;34m\u001b[0m\u001b[0;34m\u001b[0m\u001b[0m\n\u001b[0m\u001b[1;32m    116\u001b[0m \u001b[0;34m\u001b[0m\u001b[0m\n\u001b[1;32m    117\u001b[0m     \u001b[0;34m@\u001b[0m\u001b[0mstaticmethod\u001b[0m\u001b[0;34m\u001b[0m\u001b[0;34m\u001b[0m\u001b[0m\n",
      "\u001b[0;32m~/miniconda3/envs/data_analysis/lib/python3.9/site-packages/pandas/core/frame.py\u001b[0m in \u001b[0;36m__getitem__\u001b[0;34m(self, key)\u001b[0m\n\u001b[1;32m   3022\u001b[0m             \u001b[0;32mif\u001b[0m \u001b[0mself\u001b[0m\u001b[0;34m.\u001b[0m\u001b[0mcolumns\u001b[0m\u001b[0;34m.\u001b[0m\u001b[0mnlevels\u001b[0m \u001b[0;34m>\u001b[0m \u001b[0;36m1\u001b[0m\u001b[0;34m:\u001b[0m\u001b[0;34m\u001b[0m\u001b[0;34m\u001b[0m\u001b[0m\n\u001b[1;32m   3023\u001b[0m                 \u001b[0;32mreturn\u001b[0m \u001b[0mself\u001b[0m\u001b[0;34m.\u001b[0m\u001b[0m_getitem_multilevel\u001b[0m\u001b[0;34m(\u001b[0m\u001b[0mkey\u001b[0m\u001b[0;34m)\u001b[0m\u001b[0;34m\u001b[0m\u001b[0;34m\u001b[0m\u001b[0m\n\u001b[0;32m-> 3024\u001b[0;31m             \u001b[0mindexer\u001b[0m \u001b[0;34m=\u001b[0m \u001b[0mself\u001b[0m\u001b[0;34m.\u001b[0m\u001b[0mcolumns\u001b[0m\u001b[0;34m.\u001b[0m\u001b[0mget_loc\u001b[0m\u001b[0;34m(\u001b[0m\u001b[0mkey\u001b[0m\u001b[0;34m)\u001b[0m\u001b[0;34m\u001b[0m\u001b[0;34m\u001b[0m\u001b[0m\n\u001b[0m\u001b[1;32m   3025\u001b[0m             \u001b[0;32mif\u001b[0m \u001b[0mis_integer\u001b[0m\u001b[0;34m(\u001b[0m\u001b[0mindexer\u001b[0m\u001b[0;34m)\u001b[0m\u001b[0;34m:\u001b[0m\u001b[0;34m\u001b[0m\u001b[0;34m\u001b[0m\u001b[0m\n\u001b[1;32m   3026\u001b[0m                 \u001b[0mindexer\u001b[0m \u001b[0;34m=\u001b[0m \u001b[0;34m[\u001b[0m\u001b[0mindexer\u001b[0m\u001b[0;34m]\u001b[0m\u001b[0;34m\u001b[0m\u001b[0;34m\u001b[0m\u001b[0m\n",
      "\u001b[0;32m~/miniconda3/envs/data_analysis/lib/python3.9/site-packages/pandas/core/indexes/base.py\u001b[0m in \u001b[0;36mget_loc\u001b[0;34m(self, key, method, tolerance)\u001b[0m\n\u001b[1;32m   3080\u001b[0m                 \u001b[0;32mreturn\u001b[0m \u001b[0mself\u001b[0m\u001b[0;34m.\u001b[0m\u001b[0m_engine\u001b[0m\u001b[0;34m.\u001b[0m\u001b[0mget_loc\u001b[0m\u001b[0;34m(\u001b[0m\u001b[0mcasted_key\u001b[0m\u001b[0;34m)\u001b[0m\u001b[0;34m\u001b[0m\u001b[0;34m\u001b[0m\u001b[0m\n\u001b[1;32m   3081\u001b[0m             \u001b[0;32mexcept\u001b[0m \u001b[0mKeyError\u001b[0m \u001b[0;32mas\u001b[0m \u001b[0merr\u001b[0m\u001b[0;34m:\u001b[0m\u001b[0;34m\u001b[0m\u001b[0;34m\u001b[0m\u001b[0m\n\u001b[0;32m-> 3082\u001b[0;31m                 \u001b[0;32mraise\u001b[0m \u001b[0mKeyError\u001b[0m\u001b[0;34m(\u001b[0m\u001b[0mkey\u001b[0m\u001b[0;34m)\u001b[0m \u001b[0;32mfrom\u001b[0m \u001b[0merr\u001b[0m\u001b[0;34m\u001b[0m\u001b[0;34m\u001b[0m\u001b[0m\n\u001b[0m\u001b[1;32m   3083\u001b[0m \u001b[0;34m\u001b[0m\u001b[0m\n\u001b[1;32m   3084\u001b[0m         \u001b[0;32mif\u001b[0m \u001b[0mtolerance\u001b[0m \u001b[0;32mis\u001b[0m \u001b[0;32mnot\u001b[0m \u001b[0;32mNone\u001b[0m\u001b[0;34m:\u001b[0m\u001b[0;34m\u001b[0m\u001b[0;34m\u001b[0m\u001b[0m\n",
      "\u001b[0;31mKeyError\u001b[0m: 'state'"
     ]
    }
   ],
   "source": [
    "\"\"\"\n",
    "ephyviewer also provides an epoch encoder which can be used with shortcut keys\n",
    "and/or the mouse to encode labels.\n",
    "\n",
    "ephyviewer makes available a CsvEpochSource class, which inherits from\n",
    "WritableEpochSource. If you would like to customize reading and writing epochs\n",
    "to files, you can write your own subclass of WritableEpochSource that implements\n",
    "the load() and save() methods.\n",
    "\n",
    "Here is an example of an epoch encoder that uses CsvEpochSource.\n",
    "\n",
    "\"\"\"\n",
    "\n",
    "from ephyviewer import mkQApp, MainViewer, TraceViewer, CsvEpochSource, EpochViewer,WritableEpochSource, EpochEncoder, SpikeTrainViewer, TimeFreqViewer\n",
    "from ephyviewer import InMemoryEpochSource, InMemorySpikeSource, InMemoryAnalogSignalSource\n",
    "import numpy as np\n",
    "import subjects\n",
    "import os\n",
    "import pandas as pd\n",
    "import signal_process\n",
    "\n",
    "class statesSource(WritableEpochSource):\n",
    "    def __init__(self, filename, possible_labels, color_labels=None, channel_name='', restrict_to_possible_labels=False):\n",
    "\n",
    "        self.filename = filename\n",
    "\n",
    "        WritableEpochSource.__init__(self, epoch=None, possible_labels=possible_labels, color_labels=color_labels, channel_name=channel_name, restrict_to_possible_labels=restrict_to_possible_labels)\n",
    "\n",
    "    def load(self):\n",
    "        \"\"\"\n",
    "        Returns a dictionary containing the data for an epoch.\n",
    "        Data is loaded from the CSV file if it exists; otherwise the superclass\n",
    "        implementation in WritableEpochSource.load() is called to create an\n",
    "        empty dictionary with the correct keys and types.\n",
    "        The method returns a dictionary containing the loaded data in this form:\n",
    "        { 'time': np.array, 'duration': np.array, 'label': np.array, 'name': string }\n",
    "        \"\"\"\n",
    "\n",
    "        if os.path.exists(self.filename):\n",
    "            # if file already exists, load previous epoch\n",
    "            data = pd.read_pickle(self.filename)\n",
    "            df = pd.DataFrame()\n",
    "            df['time']= data['start']\n",
    "            df['duration'] = data['end']-data['start']\n",
    "            df['label'] = 'U'\n",
    "            # df = pd.read_csv(self.filename,  index_col=None, dtype={\n",
    "            #     'time':     'float64',\n",
    "            #     'duration': 'float64',\n",
    "            #     'label':    'U'})\n",
    "            state_number_dict = {\n",
    "                1: \"nrem\",\n",
    "                2: \"rem\",\n",
    "                3: \"quiet\",\n",
    "                4: \"active\",\n",
    "            }\n",
    "            data[\"name\"] = data[\"state\"].map(state_number_dict)\n",
    "\n",
    "            epoch_labels = np.array([f' State{_}' for _ in data['state']])\n",
    "            epoch = {'time':     data['start'].values,\n",
    "                     'duration': data['end'].values-data['start'].values,\n",
    "                     'label':    data['name'],\n",
    "                     'name':     '128'}\n",
    "        else:\n",
    "            # if file does NOT already exist, use superclass method for creating\n",
    "            # an empty dictionary\n",
    "            epoch = super().load()\n",
    "\n",
    "        return epoch\n",
    "\n",
    "    def save(self):\n",
    "        df = pd.DataFrame()\n",
    "        df['time'] = np.round(self.ep_times, 6)         # round to nearest microsecond\n",
    "        df['duration'] = np.round(self.ep_durations, 6) # round to nearest microsecond\n",
    "        df['label'] = self.ep_labels\n",
    "        df.sort_values(['time', 'duration', 'label'], inplace=True)\n",
    "        df.to_pickle(self.filename)\n",
    "\n",
    "sess = subjects.Sd().ratNday1[0]\n",
    "# sleep_states = sess.brainstates.states\n",
    "filename = sess.brainstates.files.states\n",
    "\n",
    "\n",
    "# all_epochs = [{'time':sleep_states.start.values,'duration':sleep_states.duration.values,'label':sleep_states.name.to_numpy(),'name':'nrem'}]\n",
    "# source_ep = InMemoryEpochSource(all_epochs=all_epochs)\n",
    "possible_labels = ['nrem', 'rem', 'quiet',  'active']\n",
    "source_epoch = statesSource(str(filename),possible_labels)\n",
    "# lets encode some dev mood along the day\n",
    "\n",
    "# filename = 'example_dev_mood_encoder.csv'\n",
    "# source_epoch = CsvEpochSource(filename, possible_labels)\n",
    "\n",
    "\n",
    "#you must first create a main Qt application (for event loop)\n",
    "app = mkQApp()\n",
    "\n",
    "#create fake 16 signals with 100000 at 10kHz\n",
    "sigs = np.asarray(sess.recinfo.geteeg(chans = 56)).reshape(-1,1)\n",
    "filtered_sig = signal_process.filter_sig.bandpass(sigs,lf=120,hf=150,ax=0,fs=1250)\n",
    "sample_rate = sess.recinfo.lfpSrate\n",
    "t_start = 0.\n",
    "\n",
    "#Create the main window that can contain several viewers\n",
    "win = MainViewer(debug=True, show_auto_scale=True)\n",
    "\n",
    "#create a viewer for signal\n",
    "view1 = TraceViewer.from_numpy(np.hstack(sigs,filtered_sig), sample_rate, t_start, 'Signals')\n",
    "view1.params['scale_mode'] = 'same_for_all'\n",
    "view1.auto_scale()\n",
    "win.add_view(view1)\n",
    "\n",
    "source_sig = InMemoryAnalogSignalSource(sigs,sample_rate,t_start)\n",
    "#create a viewer for the encoder itself\n",
    "view2 = EpochEncoder(source=source_epoch, name='Dev mood states along day')\n",
    "win.add_view(view2)\n",
    "\n",
    "view3 = TimeFreqViewer(source=source_sig,name='tfr')\n",
    "view3.params['show_axis'] = False\n",
    "view3.params['timefreq', 'deltafreq'] = 1\n",
    "win.add_view(view3)\n",
    "\n",
    "\n",
    "#----- spikes --------\n",
    "spikes = sess.spikes.pyr\n",
    "spk_id = sess.spikes.pyrid\n",
    "\n",
    "all_spikes=[]\n",
    "for i,(t,id_) in enumerate(zip(spikes,spk_id)):\n",
    "    all_spikes.append({'time': t,'name': f\"Unit {i}\"})\n",
    "\n",
    "spike_source = InMemorySpikeSource(all_spikes=all_spikes)\n",
    "view4 = SpikeTrainViewer(source=spike_source)\n",
    "win.add_view(view4)\n",
    "#show main window and run Qapp\n",
    "win.show()\n",
    "\n",
    "\n",
    "app.exec_()\n"
   ]
  },
  {
   "cell_type": "code",
   "execution_count": 4,
   "metadata": {},
   "outputs": [
    {
     "data": {
      "text/plain": "'/data/Clustering/SleepDeprivation/RatN/Day1/RatN_Day1_2019-10-09_03-52-32.states.pkl'"
     },
     "execution_count": 4,
     "metadata": {},
     "output_type": "execute_result"
    }
   ],
   "source": [
    "str(filename)"
   ]
  }
 ],
 "metadata": {
  "interpreter": {
   "hash": "7b10c821bc4bd3f433a613d47515e6babc6c2152896bd1e143404cc9d6ede4ad"
  },
  "kernelspec": {
   "display_name": "Python 3.9.2 64-bit ('data_analysis': conda)",
   "name": "python3"
  },
  "language_info": {
   "codemirror_mode": {
    "name": "ipython",
    "version": 3
   },
   "file_extension": ".py",
   "mimetype": "text/x-python",
   "name": "python",
   "nbconvert_exporter": "python",
   "pygments_lexer": "ipython3",
   "version": "3.9.2"
  },
  "orig_nbformat": 2
 },
 "nbformat": 4,
 "nbformat_minor": 2
}