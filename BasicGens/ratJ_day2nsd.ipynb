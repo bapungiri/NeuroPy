{
 "cells": [
  {
   "cell_type": "code",
   "execution_count": 13,
   "metadata": {},
   "outputs": [
    {
     "name": "stdout",
     "output_type": "stream",
     "text": [
      "filename: /data/Clustering/sessions/RatJ/Day2/RatJ_Day2_2019-06-02_03-59-19.xml \n",
      "# channels: 67\n",
      "sampling rate: 30000\n",
      "lfp Srate (downsampled): 1250\n"
     ]
    }
   ],
   "source": [
    "import numpy as np\n",
    "import subjects\n",
    "\n",
    "sess = subjects.nsd.ratJday2[0]\n",
    "print(sess.recinfo)"
   ]
  },
  {
   "cell_type": "code",
   "execution_count": 9,
   "metadata": {},
   "outputs": [
    {
     "data": {
      "text/plain": [
       "array([0, 2, 6, 5])"
      ]
     },
     "execution_count": 9,
     "metadata": {},
     "output_type": "execute_result"
    }
   ],
   "source": [
    "sess.recinfo.skipped_channels"
   ]
  },
  {
   "cell_type": "markdown",
   "metadata": {},
   "source": [
    "## Set probe configuration\n",
    "Lets create probe configuration for a 128-channel probe"
   ]
  },
  {
   "cell_type": "code",
   "execution_count": 10,
   "metadata": {},
   "outputs": [
    {
     "name": "stdout",
     "output_type": "stream",
     "text": [
      "data saved\n"
     ]
    },
    {
     "data": {
      "text/plain": [
       "<AxesSubplot:title={'center':'Probe 64ch'}>"
      ]
     },
     "execution_count": 10,
     "metadata": {},
     "output_type": "execute_result"
    },
    {
     "data": {
      "image/png": "[encoded data removed]",
      "image/svg+xml": "<?xml version=\"1.0\" encoding=\"utf-8\" standalone=\"no\"?>\n<!DOCTYPE svg PUBLIC \"-//W3C//DTD SVG 1.1//EN\"\n  \"http://www.w3.org/Graphics/SVG/1.1/DTD/svg11.dtd\">\n<svg height=\"246.958125pt\" version=\"1.1\" viewBox=\"0 0 349.2 246.958125\" width=\"349.2pt\" xmlns=\"http://www.w3.org/2000/svg\" xmlns:xlink=\"http://www.w3.org/1999/xlink\">\n <metadata>\n  <rdf:RDF xmlns:cc=\"http://creativecommons.org/ns#\" xmlns:dc=\"http://purl.org/dc/elements/1.1/\" xmlns:rdf=\"http://www.w3.org/1999/02/22-rdf-syntax-ns#\">\n   <cc:Work>\n    <dc:type rdf:resource=\"http://purl.org/dc/dcmitype/StillImage\"/>\n    <dc:date>2021-07-19T23:26:41.081588</dc:date>\n    <dc:format>image/svg+xml</dc:format>\n    <dc:creator>\n     <cc:Agent>\n      <dc:title>Matplotlib v3.4.1, https://matplotlib.org/</dc:title>\n     </cc:Agent>\n    </dc:creator>\n   </cc:Work>\n  </rdf:RDF>\n </metadata>\n <defs>\n  <style type=\"text/css\">*{stroke-linecap:butt;stroke-linejoin:round;}</style>\n </defs>\n <g id=\"figure_1\">\n  <g id=\"patch_1\">\n   <path d=\"M 0 246.958125 \nL 349.2 246.958125 \nL 349.2 0 \nL 0 0 \nz\n\" style=\"fill:none;\"/>\n  </g>\n  <g id=\"axes_1\">\n   <g id=\"PathCollection_1\">\n    <defs>\n     <path d=\"M 0 2 \nC 0.530406 2 1.03916 1.789267 1.414214 1.414214 \nC 1.789267 1.03916 2 0.530406 2 0 \nC 2 -0.530406 1.789267 -1.03916 1.414214 -1.414214 \nC 1.03916 -1.789267 0.530406 -2 0 -2 \nC -0.530406 -2 -1.03916 -1.789267 -1.414214 -1.414214 \nC -1.789267 -1.03916 -2 -0.530406 -2 0 \nC -2 0.530406 -1.789267 1.03916 -1.414214 1.414214 \nC -1.03916 1.789267 -0.530406 2 0 2 \nz\n\" id=\"me1ef6eb2ae\" style=\"stroke:#808080;stroke-width:0.5;\"/>\n    </defs>\n    <g clip-path=\"url(#pd15d0c94a2)\">\n     <use style=\"fill:#808080;stroke:#808080;stroke-width:0.5;\" x=\"22.418182\" xlink:href=\"#me1ef6eb2ae\" y=\"207.910852\"/>\n     <use style=\"fill:#808080;stroke:#808080;stroke-width:0.5;\" x=\"22.418182\" xlink:href=\"#me1ef6eb2ae\" y=\"149.341155\"/>\n     <use style=\"fill:#808080;stroke:#808080;stroke-width:0.5;\" x=\"22.418182\" xlink:href=\"#me1ef6eb2ae\" y=\"90.771458\"/>\n     <use style=\"fill:#808080;stroke:#808080;stroke-width:0.5;\" x=\"22.418182\" xlink:href=\"#me1ef6eb2ae\" y=\"32.201761\"/>\n     <use style=\"fill:#808080;stroke:#808080;stroke-width:0.5;\" x=\"26.704994\" xlink:href=\"#me1ef6eb2ae\" y=\"229.874489\"/>\n     <use style=\"fill:#808080;stroke:#808080;stroke-width:0.5;\" x=\"26.704994\" xlink:href=\"#me1ef6eb2ae\" y=\"171.304792\"/>\n     <use style=\"fill:#808080;stroke:#808080;stroke-width:0.5;\" x=\"26.704994\" xlink:href=\"#me1ef6eb2ae\" y=\"112.735095\"/>\n     <use style=\"fill:#808080;stroke:#808080;stroke-width:0.5;\" x=\"26.704994\" xlink:href=\"#me1ef6eb2ae\" y=\"54.165398\"/>\n     <use style=\"fill:#808080;stroke:#808080;stroke-width:0.5;\" x=\"65.2863\" xlink:href=\"#me1ef6eb2ae\" y=\"207.910852\"/>\n     <use style=\"fill:#808080;stroke:#808080;stroke-width:0.5;\" x=\"65.2863\" xlink:href=\"#me1ef6eb2ae\" y=\"149.341155\"/>\n     <use style=\"fill:#808080;stroke:#808080;stroke-width:0.5;\" x=\"65.2863\" xlink:href=\"#me1ef6eb2ae\" y=\"90.771458\"/>\n     <use style=\"fill:#808080;stroke:#808080;stroke-width:0.5;\" x=\"65.2863\" xlink:href=\"#me1ef6eb2ae\" y=\"32.201761\"/>\n     <use style=\"fill:#808080;stroke:#808080;stroke-width:0.5;\" x=\"69.573111\" xlink:href=\"#me1ef6eb2ae\" y=\"229.874489\"/>\n     <use style=\"fill:#808080;stroke:#808080;stroke-width:0.5;\" x=\"69.573111\" xlink:href=\"#me1ef6eb2ae\" y=\"171.304792\"/>\n     <use style=\"fill:#808080;stroke:#808080;stroke-width:0.5;\" x=\"69.573111\" xlink:href=\"#me1ef6eb2ae\" y=\"112.735095\"/>\n     <use style=\"fill:#808080;stroke:#808080;stroke-width:0.5;\" x=\"69.573111\" xlink:href=\"#me1ef6eb2ae\" y=\"54.165398\"/>\n     <use style=\"fill:#808080;stroke:#808080;stroke-width:0.5;\" x=\"108.154417\" xlink:href=\"#me1ef6eb2ae\" y=\"207.910852\"/>\n     <use style=\"fill:#808080;stroke:#808080;stroke-width:0.5;\" x=\"108.154417\" xlink:href=\"#me1ef6eb2ae\" y=\"149.341155\"/>\n     <use style=\"fill:#808080;stroke:#808080;stroke-width:0.5;\" x=\"108.154417\" xlink:href=\"#me1ef6eb2ae\" y=\"90.771458\"/>\n     <use style=\"fill:#808080;stroke:#808080;stroke-width:0.5;\" x=\"108.154417\" xlink:href=\"#me1ef6eb2ae\" y=\"32.201761\"/>\n     <use style=\"fill:#808080;stroke:#808080;stroke-width:0.5;\" x=\"112.441229\" xlink:href=\"#me1ef6eb2ae\" y=\"229.874489\"/>\n     <use style=\"fill:#808080;stroke:#808080;stroke-width:0.5;\" x=\"112.441229\" xlink:href=\"#me1ef6eb2ae\" y=\"171.304792\"/>\n     <use style=\"fill:#808080;stroke:#808080;stroke-width:0.5;\" x=\"112.441229\" xlink:href=\"#me1ef6eb2ae\" y=\"112.735095\"/>\n     <use style=\"fill:#808080;stroke:#808080;stroke-width:0.5;\" x=\"112.441229\" xlink:href=\"#me1ef6eb2ae\" y=\"54.165398\"/>\n     <use style=\"fill:#808080;stroke:#808080;stroke-width:0.5;\" x=\"151.022535\" xlink:href=\"#me1ef6eb2ae\" y=\"207.910852\"/>\n     <use style=\"fill:#808080;stroke:#808080;stroke-width:0.5;\" x=\"151.022535\" xlink:href=\"#me1ef6eb2ae\" y=\"149.341155\"/>\n     <use style=\"fill:#808080;stroke:#808080;stroke-width:0.5;\" x=\"151.022535\" xlink:href=\"#me1ef6eb2ae\" y=\"90.771458\"/>\n     <use style=\"fill:#808080;stroke:#808080;stroke-width:0.5;\" x=\"151.022535\" xlink:href=\"#me1ef6eb2ae\" y=\"32.201761\"/>\n     <use style=\"fill:#808080;stroke:#808080;stroke-width:0.5;\" x=\"155.309347\" xlink:href=\"#me1ef6eb2ae\" y=\"229.874489\"/>\n     <use style=\"fill:#808080;stroke:#808080;stroke-width:0.5;\" x=\"155.309347\" xlink:href=\"#me1ef6eb2ae\" y=\"171.304792\"/>\n     <use style=\"fill:#808080;stroke:#808080;stroke-width:0.5;\" x=\"155.309347\" xlink:href=\"#me1ef6eb2ae\" y=\"112.735095\"/>\n     <use style=\"fill:#808080;stroke:#808080;stroke-width:0.5;\" x=\"155.309347\" xlink:href=\"#me1ef6eb2ae\" y=\"54.165398\"/>\n     <use style=\"fill:#808080;stroke:#808080;stroke-width:0.5;\" x=\"193.890653\" xlink:href=\"#me1ef6eb2ae\" y=\"207.910852\"/>\n     <use style=\"fill:#808080;stroke:#808080;stroke-width:0.5;\" x=\"193.890653\" xlink:href=\"#me1ef6eb2ae\" y=\"149.341155\"/>\n     <use style=\"fill:#808080;stroke:#808080;stroke-width:0.5;\" x=\"193.890653\" xlink:href=\"#me1ef6eb2ae\" y=\"90.771458\"/>\n     <use style=\"fill:#808080;stroke:#808080;stroke-width:0.5;\" x=\"193.890653\" xlink:href=\"#me1ef6eb2ae\" y=\"32.201761\"/>\n     <use style=\"fill:#808080;stroke:#808080;stroke-width:0.5;\" x=\"198.177465\" xlink:href=\"#me1ef6eb2ae\" y=\"229.874489\"/>\n     <use style=\"fill:#808080;stroke:#808080;stroke-width:0.5;\" x=\"198.177465\" xlink:href=\"#me1ef6eb2ae\" y=\"171.304792\"/>\n     <use style=\"fill:#808080;stroke:#808080;stroke-width:0.5;\" x=\"198.177465\" xlink:href=\"#me1ef6eb2ae\" y=\"112.735095\"/>\n     <use style=\"fill:#808080;stroke:#808080;stroke-width:0.5;\" x=\"198.177465\" xlink:href=\"#me1ef6eb2ae\" y=\"54.165398\"/>\n     <use style=\"fill:#808080;stroke:#808080;stroke-width:0.5;\" x=\"236.758771\" xlink:href=\"#me1ef6eb2ae\" y=\"207.910852\"/>\n     <use style=\"fill:#808080;stroke:#808080;stroke-width:0.5;\" x=\"236.758771\" xlink:href=\"#me1ef6eb2ae\" y=\"149.341155\"/>\n     <use style=\"fill:#808080;stroke:#808080;stroke-width:0.5;\" x=\"236.758771\" xlink:href=\"#me1ef6eb2ae\" y=\"90.771458\"/>\n     <use style=\"fill:#808080;stroke:#808080;stroke-width:0.5;\" x=\"236.758771\" xlink:href=\"#me1ef6eb2ae\" y=\"32.201761\"/>\n     <use style=\"fill:#808080;stroke:#808080;stroke-width:0.5;\" x=\"241.045583\" xlink:href=\"#me1ef6eb2ae\" y=\"229.874489\"/>\n     <use style=\"fill:#808080;stroke:#808080;stroke-width:0.5;\" x=\"241.045583\" xlink:href=\"#me1ef6eb2ae\" y=\"171.304792\"/>\n     <use style=\"fill:#808080;stroke:#808080;stroke-width:0.5;\" x=\"241.045583\" xlink:href=\"#me1ef6eb2ae\" y=\"112.735095\"/>\n     <use style=\"fill:#808080;stroke:#808080;stroke-width:0.5;\" x=\"241.045583\" xlink:href=\"#me1ef6eb2ae\" y=\"54.165398\"/>\n     <use style=\"fill:#808080;stroke:#808080;stroke-width:0.5;\" x=\"279.626889\" xlink:href=\"#me1ef6eb2ae\" y=\"207.910852\"/>\n     <use style=\"fill:#808080;stroke:#808080;stroke-width:0.5;\" x=\"279.626889\" xlink:href=\"#me1ef6eb2ae\" y=\"149.341155\"/>\n     <use style=\"fill:#808080;stroke:#808080;stroke-width:0.5;\" x=\"279.626889\" xlink:href=\"#me1ef6eb2ae\" y=\"90.771458\"/>\n     <use style=\"fill:#808080;stroke:#808080;stroke-width:0.5;\" x=\"279.626889\" xlink:href=\"#me1ef6eb2ae\" y=\"32.201761\"/>\n     <use style=\"fill:#808080;stroke:#808080;stroke-width:0.5;\" x=\"283.9137\" xlink:href=\"#me1ef6eb2ae\" y=\"229.874489\"/>\n     <use style=\"fill:#808080;stroke:#808080;stroke-width:0.5;\" x=\"283.9137\" xlink:href=\"#me1ef6eb2ae\" y=\"171.304792\"/>\n     <use style=\"fill:#808080;stroke:#808080;stroke-width:0.5;\" x=\"283.9137\" xlink:href=\"#me1ef6eb2ae\" y=\"112.735095\"/>\n     <use style=\"fill:#808080;stroke:#808080;stroke-width:0.5;\" x=\"283.9137\" xlink:href=\"#me1ef6eb2ae\" y=\"54.165398\"/>\n     <use style=\"fill:#808080;stroke:#808080;stroke-width:0.5;\" x=\"322.495006\" xlink:href=\"#me1ef6eb2ae\" y=\"207.910852\"/>\n     <use style=\"fill:#808080;stroke:#808080;stroke-width:0.5;\" x=\"322.495006\" xlink:href=\"#me1ef6eb2ae\" y=\"149.341155\"/>\n     <use style=\"fill:#808080;stroke:#808080;stroke-width:0.5;\" x=\"322.495006\" xlink:href=\"#me1ef6eb2ae\" y=\"90.771458\"/>\n     <use style=\"fill:#808080;stroke:#808080;stroke-width:0.5;\" x=\"322.495006\" xlink:href=\"#me1ef6eb2ae\" y=\"32.201761\"/>\n     <use style=\"fill:#808080;stroke:#808080;stroke-width:0.5;\" x=\"326.781818\" xlink:href=\"#me1ef6eb2ae\" y=\"229.874489\"/>\n     <use style=\"fill:#808080;stroke:#808080;stroke-width:0.5;\" x=\"326.781818\" xlink:href=\"#me1ef6eb2ae\" y=\"171.304792\"/>\n     <use style=\"fill:#808080;stroke:#808080;stroke-width:0.5;\" x=\"326.781818\" xlink:href=\"#me1ef6eb2ae\" y=\"112.735095\"/>\n     <use style=\"fill:#808080;stroke:#808080;stroke-width:0.5;\" x=\"326.781818\" xlink:href=\"#me1ef6eb2ae\" y=\"54.165398\"/>\n    </g>\n   </g>\n   <g id=\"PathCollection_2\">\n    <defs>\n     <path d=\"M 0 1.936492 \nC 0.513564 1.936492 1.006162 1.732451 1.369306 1.369306 \nC 1.732451 1.006162 1.936492 0.513564 1.936492 0 \nC 1.936492 -0.513564 1.732451 -1.006162 1.369306 -1.369306 \nC 1.006162 -1.732451 0.513564 -1.936492 0 -1.936492 \nC -0.513564 -1.936492 -1.006162 -1.732451 -1.369306 -1.369306 \nC -1.732451 -1.006162 -1.936492 -0.513564 -1.936492 0 \nC -1.936492 0.513564 -1.732451 1.006162 -1.369306 1.369306 \nC -1.006162 1.732451 -0.513564 1.936492 0 1.936492 \nz\n\" id=\"m57aa995d2a\" style=\"stroke:#ff5252;\"/>\n    </defs>\n    <g clip-path=\"url(#pd15d0c94a2)\">\n     <use style=\"fill:#ff5252;stroke:#ff5252;\" x=\"108.154417\" xlink:href=\"#m57aa995d2a\" y=\"149.341155\"/>\n     <use style=\"fill:#ff5252;stroke:#ff5252;\" x=\"108.154417\" xlink:href=\"#m57aa995d2a\" y=\"32.201761\"/>\n     <use style=\"fill:#ff5252;stroke:#ff5252;\" x=\"112.441229\" xlink:href=\"#m57aa995d2a\" y=\"229.874489\"/>\n     <use style=\"fill:#ff5252;stroke:#ff5252;\" x=\"112.441229\" xlink:href=\"#m57aa995d2a\" y=\"171.304792\"/>\n    </g>\n   </g>\n   <g id=\"text_1\">\n    <!-- 18 -->\n    <g transform=\"translate(22.418182 207.910852)scale(0.08 -0.08)\">\n     <defs>\n      <path d=\"M 794 531 \nL 1825 531 \nL 1825 4091 \nL 703 3866 \nL 703 4441 \nL 1819 4666 \nL 2450 4666 \nL 2450 531 \nL 3481 531 \nL 3481 0 \nL 794 0 \nL 794 531 \nz\n\" id=\"DejaVuSans-31\" transform=\"scale(0.015625)\"/>\n      <path d=\"M 2034 2216 \nQ 1584 2216 1326 1975 \nQ 1069 1734 1069 1313 \nQ 1069 891 1326 650 \nQ 1584 409 2034 409 \nQ 2484 409 2743 651 \nQ 3003 894 3003 1313 \nQ 3003 1734 2745 1975 \nQ 2488 2216 2034 2216 \nz\nM 1403 2484 \nQ 997 2584 770 2862 \nQ 544 3141 544 3541 \nQ 544 4100 942 4425 \nQ 1341 4750 2034 4750 \nQ 2731 4750 3128 4425 \nQ 3525 4100 3525 3541 \nQ 3525 3141 3298 2862 \nQ 3072 2584 2669 2484 \nQ 3125 2378 3379 2068 \nQ 3634 1759 3634 1313 \nQ 3634 634 3220 271 \nQ 2806 -91 2034 -91 \nQ 1263 -91 848 271 \nQ 434 634 434 1313 \nQ 434 1759 690 2068 \nQ 947 2378 1403 2484 \nz\nM 1172 3481 \nQ 1172 3119 1398 2916 \nQ 1625 2713 2034 2713 \nQ 2441 2713 2670 2916 \nQ 2900 3119 2900 3481 \nQ 2900 3844 2670 4047 \nQ 2441 4250 2034 4250 \nQ 1625 4250 1398 4047 \nQ 1172 3844 1172 3481 \nz\n\" id=\"DejaVuSans-38\" transform=\"scale(0.015625)\"/>\n     </defs>\n     <use xlink:href=\"#DejaVuSans-31\"/>\n     <use x=\"63.623047\" xlink:href=\"#DejaVuSans-38\"/>\n    </g>\n   </g>\n   <g id=\"text_2\">\n    <!-- 19 -->\n    <g transform=\"translate(22.418182 149.341155)scale(0.08 -0.08)\">\n     <defs>\n      <path d=\"M 703 97 \nL 703 672 \nQ 941 559 1184 500 \nQ 1428 441 1663 441 \nQ 2288 441 2617 861 \nQ 2947 1281 2994 2138 \nQ 2813 1869 2534 1725 \nQ 2256 1581 1919 1581 \nQ 1219 1581 811 2004 \nQ 403 2428 403 3163 \nQ 403 3881 828 4315 \nQ 1253 4750 1959 4750 \nQ 2769 4750 3195 4129 \nQ 3622 3509 3622 2328 \nQ 3622 1225 3098 567 \nQ 2575 -91 1691 -91 \nQ 1453 -91 1209 -44 \nQ 966 3 703 97 \nz\nM 1959 2075 \nQ 2384 2075 2632 2365 \nQ 2881 2656 2881 3163 \nQ 2881 3666 2632 3958 \nQ 2384 4250 1959 4250 \nQ 1534 4250 1286 3958 \nQ 1038 3666 1038 3163 \nQ 1038 2656 1286 2365 \nQ 1534 2075 1959 2075 \nz\n\" id=\"DejaVuSans-39\" transform=\"scale(0.015625)\"/>\n     </defs>\n     <use xlink:href=\"#DejaVuSans-31\"/>\n     <use x=\"63.623047\" xlink:href=\"#DejaVuSans-39\"/>\n    </g>\n   </g>\n   <g id=\"text_3\">\n    <!-- 16 -->\n    <g transform=\"translate(22.418182 90.771458)scale(0.08 -0.08)\">\n     <defs>\n      <path d=\"M 2113 2584 \nQ 1688 2584 1439 2293 \nQ 1191 2003 1191 1497 \nQ 1191 994 1439 701 \nQ 1688 409 2113 409 \nQ 2538 409 2786 701 \nQ 3034 994 3034 1497 \nQ 3034 2003 2786 2293 \nQ 2538 2584 2113 2584 \nz\nM 3366 4563 \nL 3366 3988 \nQ 3128 4100 2886 4159 \nQ 2644 4219 2406 4219 \nQ 1781 4219 1451 3797 \nQ 1122 3375 1075 2522 \nQ 1259 2794 1537 2939 \nQ 1816 3084 2150 3084 \nQ 2853 3084 3261 2657 \nQ 3669 2231 3669 1497 \nQ 3669 778 3244 343 \nQ 2819 -91 2113 -91 \nQ 1303 -91 875 529 \nQ 447 1150 447 2328 \nQ 447 3434 972 4092 \nQ 1497 4750 2381 4750 \nQ 2619 4750 2861 4703 \nQ 3103 4656 3366 4563 \nz\n\" id=\"DejaVuSans-36\" transform=\"scale(0.015625)\"/>\n     </defs>\n     <use xlink:href=\"#DejaVuSans-31\"/>\n     <use x=\"63.623047\" xlink:href=\"#DejaVuSans-36\"/>\n    </g>\n   </g>\n   <g id=\"text_4\">\n    <!-- 17 -->\n    <g transform=\"translate(22.418182 32.201761)scale(0.08 -0.08)\">\n     <defs>\n      <path d=\"M 525 4666 \nL 3525 4666 \nL 3525 4397 \nL 1831 0 \nL 1172 0 \nL 2766 4134 \nL 525 4134 \nL 525 4666 \nz\n\" id=\"DejaVuSans-37\" transform=\"scale(0.015625)\"/>\n     </defs>\n     <use xlink:href=\"#DejaVuSans-31\"/>\n     <use x=\"63.623047\" xlink:href=\"#DejaVuSans-37\"/>\n    </g>\n   </g>\n   <g id=\"text_5\">\n    <!-- 21 -->\n    <g transform=\"translate(26.704994 229.874489)scale(0.08 -0.08)\">\n     <defs>\n      <path d=\"M 1228 531 \nL 3431 531 \nL 3431 0 \nL 469 0 \nL 469 531 \nQ 828 903 1448 1529 \nQ 2069 2156 2228 2338 \nQ 2531 2678 2651 2914 \nQ 2772 3150 2772 3378 \nQ 2772 3750 2511 3984 \nQ 2250 4219 1831 4219 \nQ 1534 4219 1204 4116 \nQ 875 4013 500 3803 \nL 500 4441 \nQ 881 4594 1212 4672 \nQ 1544 4750 1819 4750 \nQ 2544 4750 2975 4387 \nQ 3406 4025 3406 3419 \nQ 3406 3131 3298 2873 \nQ 3191 2616 2906 2266 \nQ 2828 2175 2409 1742 \nQ 1991 1309 1228 531 \nz\n\" id=\"DejaVuSans-32\" transform=\"scale(0.015625)\"/>\n     </defs>\n     <use xlink:href=\"#DejaVuSans-32\"/>\n     <use x=\"63.623047\" xlink:href=\"#DejaVuSans-31\"/>\n    </g>\n   </g>\n   <g id=\"text_6\">\n    <!-- 20 -->\n    <g transform=\"translate(26.704994 171.304792)scale(0.08 -0.08)\">\n     <defs>\n      <path d=\"M 2034 4250 \nQ 1547 4250 1301 3770 \nQ 1056 3291 1056 2328 \nQ 1056 1369 1301 889 \nQ 1547 409 2034 409 \nQ 2525 409 2770 889 \nQ 3016 1369 3016 2328 \nQ 3016 3291 2770 3770 \nQ 2525 4250 2034 4250 \nz\nM 2034 4750 \nQ 2819 4750 3233 4129 \nQ 3647 3509 3647 2328 \nQ 3647 1150 3233 529 \nQ 2819 -91 2034 -91 \nQ 1250 -91 836 529 \nQ 422 1150 422 2328 \nQ 422 3509 836 4129 \nQ 1250 4750 2034 4750 \nz\n\" id=\"DejaVuSans-30\" transform=\"scale(0.015625)\"/>\n     </defs>\n     <use xlink:href=\"#DejaVuSans-32\"/>\n     <use x=\"63.623047\" xlink:href=\"#DejaVuSans-30\"/>\n    </g>\n   </g>\n   <g id=\"text_7\">\n    <!-- 23 -->\n    <g transform=\"translate(26.704994 112.735095)scale(0.08 -0.08)\">\n     <defs>\n      <path d=\"M 2597 2516 \nQ 3050 2419 3304 2112 \nQ 3559 1806 3559 1356 \nQ 3559 666 3084 287 \nQ 2609 -91 1734 -91 \nQ 1441 -91 1130 -33 \nQ 819 25 488 141 \nL 488 750 \nQ 750 597 1062 519 \nQ 1375 441 1716 441 \nQ 2309 441 2620 675 \nQ 2931 909 2931 1356 \nQ 2931 1769 2642 2001 \nQ 2353 2234 1838 2234 \nL 1294 2234 \nL 1294 2753 \nL 1863 2753 \nQ 2328 2753 2575 2939 \nQ 2822 3125 2822 3475 \nQ 2822 3834 2567 4026 \nQ 2313 4219 1838 4219 \nQ 1578 4219 1281 4162 \nQ 984 4106 628 3988 \nL 628 4550 \nQ 988 4650 1302 4700 \nQ 1616 4750 1894 4750 \nQ 2613 4750 3031 4423 \nQ 3450 4097 3450 3541 \nQ 3450 3153 3228 2886 \nQ 3006 2619 2597 2516 \nz\n\" id=\"DejaVuSans-33\" transform=\"scale(0.015625)\"/>\n     </defs>\n     <use xlink:href=\"#DejaVuSans-32\"/>\n     <use x=\"63.623047\" xlink:href=\"#DejaVuSans-33\"/>\n    </g>\n   </g>\n   <g id=\"text_8\">\n    <!-- 22 -->\n    <g transform=\"translate(26.704994 54.165398)scale(0.08 -0.08)\">\n     <use xlink:href=\"#DejaVuSans-32\"/>\n     <use x=\"63.623047\" xlink:href=\"#DejaVuSans-32\"/>\n    </g>\n   </g>\n   <g id=\"text_9\">\n    <!-- 26 -->\n    <g transform=\"translate(65.2863 207.910852)scale(0.08 -0.08)\">\n     <use xlink:href=\"#DejaVuSans-32\"/>\n     <use x=\"63.623047\" xlink:href=\"#DejaVuSans-36\"/>\n    </g>\n   </g>\n   <g id=\"text_10\">\n    <!-- 27 -->\n    <g transform=\"translate(65.2863 149.341155)scale(0.08 -0.08)\">\n     <use xlink:href=\"#DejaVuSans-32\"/>\n     <use x=\"63.623047\" xlink:href=\"#DejaVuSans-37\"/>\n    </g>\n   </g>\n   <g id=\"text_11\">\n    <!-- 24 -->\n    <g transform=\"translate(65.2863 90.771458)scale(0.08 -0.08)\">\n     <defs>\n      <path d=\"M 2419 4116 \nL 825 1625 \nL 2419 1625 \nL 2419 4116 \nz\nM 2253 4666 \nL 3047 4666 \nL 3047 1625 \nL 3713 1625 \nL 3713 1100 \nL 3047 1100 \nL 3047 0 \nL 2419 0 \nL 2419 1100 \nL 313 1100 \nL 313 1709 \nL 2253 4666 \nz\n\" id=\"DejaVuSans-34\" transform=\"scale(0.015625)\"/>\n     </defs>\n     <use xlink:href=\"#DejaVuSans-32\"/>\n     <use x=\"63.623047\" xlink:href=\"#DejaVuSans-34\"/>\n    </g>\n   </g>\n   <g id=\"text_12\">\n    <!-- 25 -->\n    <g transform=\"translate(65.2863 32.201761)scale(0.08 -0.08)\">\n     <defs>\n      <path d=\"M 691 4666 \nL 3169 4666 \nL 3169 4134 \nL 1269 4134 \nL 1269 2991 \nQ 1406 3038 1543 3061 \nQ 1681 3084 1819 3084 \nQ 2600 3084 3056 2656 \nQ 3513 2228 3513 1497 \nQ 3513 744 3044 326 \nQ 2575 -91 1722 -91 \nQ 1428 -91 1123 -41 \nQ 819 9 494 109 \nL 494 744 \nQ 775 591 1075 516 \nQ 1375 441 1709 441 \nQ 2250 441 2565 725 \nQ 2881 1009 2881 1497 \nQ 2881 1984 2565 2268 \nQ 2250 2553 1709 2553 \nQ 1456 2553 1204 2497 \nQ 953 2441 691 2322 \nL 691 4666 \nz\n\" id=\"DejaVuSans-35\" transform=\"scale(0.015625)\"/>\n     </defs>\n     <use xlink:href=\"#DejaVuSans-32\"/>\n     <use x=\"63.623047\" xlink:href=\"#DejaVuSans-35\"/>\n    </g>\n   </g>\n   <g id=\"text_13\">\n    <!-- 29 -->\n    <g transform=\"translate(69.573111 229.874489)scale(0.08 -0.08)\">\n     <use xlink:href=\"#DejaVuSans-32\"/>\n     <use x=\"63.623047\" xlink:href=\"#DejaVuSans-39\"/>\n    </g>\n   </g>\n   <g id=\"text_14\">\n    <!-- 28 -->\n    <g transform=\"translate(69.573111 171.304792)scale(0.08 -0.08)\">\n     <use xlink:href=\"#DejaVuSans-32\"/>\n     <use x=\"63.623047\" xlink:href=\"#DejaVuSans-38\"/>\n    </g>\n   </g>\n   <g id=\"text_15\">\n    <!-- 31 -->\n    <g transform=\"translate(69.573111 112.735095)scale(0.08 -0.08)\">\n     <use xlink:href=\"#DejaVuSans-33\"/>\n     <use x=\"63.623047\" xlink:href=\"#DejaVuSans-31\"/>\n    </g>\n   </g>\n   <g id=\"text_16\">\n    <!-- 30 -->\n    <g transform=\"translate(69.573111 54.165398)scale(0.08 -0.08)\">\n     <use xlink:href=\"#DejaVuSans-33\"/>\n     <use x=\"63.623047\" xlink:href=\"#DejaVuSans-30\"/>\n    </g>\n   </g>\n   <g id=\"text_17\">\n    <!-- 4 -->\n    <g transform=\"translate(108.154417 207.910852)scale(0.08 -0.08)\">\n     <use xlink:href=\"#DejaVuSans-34\"/>\n    </g>\n   </g>\n   <g id=\"text_18\">\n    <!-- 2 -->\n    <g transform=\"translate(108.154417 149.341155)scale(0.08 -0.08)\">\n     <use xlink:href=\"#DejaVuSans-32\"/>\n    </g>\n   </g>\n   <g id=\"text_19\">\n    <!-- 1 -->\n    <g transform=\"translate(108.154417 90.771458)scale(0.08 -0.08)\">\n     <use xlink:href=\"#DejaVuSans-31\"/>\n    </g>\n   </g>\n   <g id=\"text_20\">\n    <!-- 0 -->\n    <g transform=\"translate(108.154417 32.201761)scale(0.08 -0.08)\">\n     <use xlink:href=\"#DejaVuSans-30\"/>\n    </g>\n   </g>\n   <g id=\"text_21\">\n    <!-- 5 -->\n    <g transform=\"translate(112.441229 229.874489)scale(0.08 -0.08)\">\n     <use xlink:href=\"#DejaVuSans-35\"/>\n    </g>\n   </g>\n   <g id=\"text_22\">\n    <!-- 6 -->\n    <g transform=\"translate(112.441229 171.304792)scale(0.08 -0.08)\">\n     <use xlink:href=\"#DejaVuSans-36\"/>\n    </g>\n   </g>\n   <g id=\"text_23\">\n    <!-- 8 -->\n    <g transform=\"translate(112.441229 112.735095)scale(0.08 -0.08)\">\n     <use xlink:href=\"#DejaVuSans-38\"/>\n    </g>\n   </g>\n   <g id=\"text_24\">\n    <!-- 9 -->\n    <g transform=\"translate(112.441229 54.165398)scale(0.08 -0.08)\">\n     <use xlink:href=\"#DejaVuSans-39\"/>\n    </g>\n   </g>\n   <g id=\"text_25\">\n    <!-- 14 -->\n    <g transform=\"translate(151.022535 207.910852)scale(0.08 -0.08)\">\n     <use xlink:href=\"#DejaVuSans-31\"/>\n     <use x=\"63.623047\" xlink:href=\"#DejaVuSans-34\"/>\n    </g>\n   </g>\n   <g id=\"text_26\">\n    <!-- 13 -->\n    <g transform=\"translate(151.022535 149.341155)scale(0.08 -0.08)\">\n     <use xlink:href=\"#DejaVuSans-31\"/>\n     <use x=\"63.623047\" xlink:href=\"#DejaVuSans-33\"/>\n    </g>\n   </g>\n   <g id=\"text_27\">\n    <!-- 12 -->\n    <g transform=\"translate(151.022535 90.771458)scale(0.08 -0.08)\">\n     <use xlink:href=\"#DejaVuSans-31\"/>\n     <use x=\"63.623047\" xlink:href=\"#DejaVuSans-32\"/>\n    </g>\n   </g>\n   <g id=\"text_28\">\n    <!-- 10 -->\n    <g transform=\"translate(151.022535 32.201761)scale(0.08 -0.08)\">\n     <use xlink:href=\"#DejaVuSans-31\"/>\n     <use x=\"63.623047\" xlink:href=\"#DejaVuSans-30\"/>\n    </g>\n   </g>\n   <g id=\"text_29\">\n    <!-- 15 -->\n    <g transform=\"translate(155.309347 229.874489)scale(0.08 -0.08)\">\n     <use xlink:href=\"#DejaVuSans-31\"/>\n     <use x=\"63.623047\" xlink:href=\"#DejaVuSans-35\"/>\n    </g>\n   </g>\n   <g id=\"text_30\">\n    <!-- 11 -->\n    <g transform=\"translate(155.309347 171.304792)scale(0.08 -0.08)\">\n     <use xlink:href=\"#DejaVuSans-31\"/>\n     <use x=\"63.623047\" xlink:href=\"#DejaVuSans-31\"/>\n    </g>\n   </g>\n   <g id=\"text_31\">\n    <!-- 7 -->\n    <g transform=\"translate(155.309347 112.735095)scale(0.08 -0.08)\">\n     <use xlink:href=\"#DejaVuSans-37\"/>\n    </g>\n   </g>\n   <g id=\"text_32\">\n    <!-- 3 -->\n    <g transform=\"translate(155.309347 54.165398)scale(0.08 -0.08)\">\n     <use xlink:href=\"#DejaVuSans-33\"/>\n    </g>\n   </g>\n   <g id=\"text_33\">\n    <!-- 49 -->\n    <g transform=\"translate(193.890653 207.910852)scale(0.08 -0.08)\">\n     <use xlink:href=\"#DejaVuSans-34\"/>\n     <use x=\"63.623047\" xlink:href=\"#DejaVuSans-39\"/>\n    </g>\n   </g>\n   <g id=\"text_34\">\n    <!-- 53 -->\n    <g transform=\"translate(193.890653 149.341155)scale(0.08 -0.08)\">\n     <use xlink:href=\"#DejaVuSans-35\"/>\n     <use x=\"63.623047\" xlink:href=\"#DejaVuSans-33\"/>\n    </g>\n   </g>\n   <g id=\"text_35\">\n    <!-- 57 -->\n    <g transform=\"translate(193.890653 90.771458)scale(0.08 -0.08)\">\n     <use xlink:href=\"#DejaVuSans-35\"/>\n     <use x=\"63.623047\" xlink:href=\"#DejaVuSans-37\"/>\n    </g>\n   </g>\n   <g id=\"text_36\">\n    <!-- 61 -->\n    <g transform=\"translate(193.890653 32.201761)scale(0.08 -0.08)\">\n     <use xlink:href=\"#DejaVuSans-36\"/>\n     <use x=\"63.623047\" xlink:href=\"#DejaVuSans-31\"/>\n    </g>\n   </g>\n   <g id=\"text_37\">\n    <!-- 48 -->\n    <g transform=\"translate(198.177465 229.874489)scale(0.08 -0.08)\">\n     <use xlink:href=\"#DejaVuSans-34\"/>\n     <use x=\"63.623047\" xlink:href=\"#DejaVuSans-38\"/>\n    </g>\n   </g>\n   <g id=\"text_38\">\n    <!-- 51 -->\n    <g transform=\"translate(198.177465 171.304792)scale(0.08 -0.08)\">\n     <use xlink:href=\"#DejaVuSans-35\"/>\n     <use x=\"63.623047\" xlink:href=\"#DejaVuSans-31\"/>\n    </g>\n   </g>\n   <g id=\"text_39\">\n    <!-- 50 -->\n    <g transform=\"translate(198.177465 112.735095)scale(0.08 -0.08)\">\n     <use xlink:href=\"#DejaVuSans-35\"/>\n     <use x=\"63.623047\" xlink:href=\"#DejaVuSans-30\"/>\n    </g>\n   </g>\n   <g id=\"text_40\">\n    <!-- 52 -->\n    <g transform=\"translate(198.177465 54.165398)scale(0.08 -0.08)\">\n     <use xlink:href=\"#DejaVuSans-35\"/>\n     <use x=\"63.623047\" xlink:href=\"#DejaVuSans-32\"/>\n    </g>\n   </g>\n   <g id=\"text_41\">\n    <!-- 59 -->\n    <g transform=\"translate(236.758771 207.910852)scale(0.08 -0.08)\">\n     <use xlink:href=\"#DejaVuSans-35\"/>\n     <use x=\"63.623047\" xlink:href=\"#DejaVuSans-39\"/>\n    </g>\n   </g>\n   <g id=\"text_42\">\n    <!-- 56 -->\n    <g transform=\"translate(236.758771 149.341155)scale(0.08 -0.08)\">\n     <use xlink:href=\"#DejaVuSans-35\"/>\n     <use x=\"63.623047\" xlink:href=\"#DejaVuSans-36\"/>\n    </g>\n   </g>\n   <g id=\"text_43\">\n    <!-- 54 -->\n    <g transform=\"translate(236.758771 90.771458)scale(0.08 -0.08)\">\n     <use xlink:href=\"#DejaVuSans-35\"/>\n     <use x=\"63.623047\" xlink:href=\"#DejaVuSans-34\"/>\n    </g>\n   </g>\n   <g id=\"text_44\">\n    <!-- 55 -->\n    <g transform=\"translate(236.758771 32.201761)scale(0.08 -0.08)\">\n     <use xlink:href=\"#DejaVuSans-35\"/>\n     <use x=\"63.623047\" xlink:href=\"#DejaVuSans-35\"/>\n    </g>\n   </g>\n   <g id=\"text_45\">\n    <!-- 58 -->\n    <g transform=\"translate(241.045583 229.874489)scale(0.08 -0.08)\">\n     <use xlink:href=\"#DejaVuSans-35\"/>\n     <use x=\"63.623047\" xlink:href=\"#DejaVuSans-38\"/>\n    </g>\n   </g>\n   <g id=\"text_46\">\n    <!-- 60 -->\n    <g transform=\"translate(241.045583 171.304792)scale(0.08 -0.08)\">\n     <use xlink:href=\"#DejaVuSans-36\"/>\n     <use x=\"63.623047\" xlink:href=\"#DejaVuSans-30\"/>\n    </g>\n   </g>\n   <g id=\"text_47\">\n    <!-- 63 -->\n    <g transform=\"translate(241.045583 112.735095)scale(0.08 -0.08)\">\n     <use xlink:href=\"#DejaVuSans-36\"/>\n     <use x=\"63.623047\" xlink:href=\"#DejaVuSans-33\"/>\n    </g>\n   </g>\n   <g id=\"text_48\">\n    <!-- 62 -->\n    <g transform=\"translate(241.045583 54.165398)scale(0.08 -0.08)\">\n     <use xlink:href=\"#DejaVuSans-36\"/>\n     <use x=\"63.623047\" xlink:href=\"#DejaVuSans-32\"/>\n    </g>\n   </g>\n   <g id=\"text_49\">\n    <!-- 35 -->\n    <g transform=\"translate(279.626889 207.910852)scale(0.08 -0.08)\">\n     <use xlink:href=\"#DejaVuSans-33\"/>\n     <use x=\"63.623047\" xlink:href=\"#DejaVuSans-35\"/>\n    </g>\n   </g>\n   <g id=\"text_50\">\n    <!-- 34 -->\n    <g transform=\"translate(279.626889 149.341155)scale(0.08 -0.08)\">\n     <use xlink:href=\"#DejaVuSans-33\"/>\n     <use x=\"63.623047\" xlink:href=\"#DejaVuSans-34\"/>\n    </g>\n   </g>\n   <g id=\"text_51\">\n    <!-- 33 -->\n    <g transform=\"translate(279.626889 90.771458)scale(0.08 -0.08)\">\n     <use xlink:href=\"#DejaVuSans-33\"/>\n     <use x=\"63.623047\" xlink:href=\"#DejaVuSans-33\"/>\n    </g>\n   </g>\n   <g id=\"text_52\">\n    <!-- 32 -->\n    <g transform=\"translate(279.626889 32.201761)scale(0.08 -0.08)\">\n     <use xlink:href=\"#DejaVuSans-33\"/>\n     <use x=\"63.623047\" xlink:href=\"#DejaVuSans-32\"/>\n    </g>\n   </g>\n   <g id=\"text_53\">\n    <!-- 36 -->\n    <g transform=\"translate(283.9137 229.874489)scale(0.08 -0.08)\">\n     <use xlink:href=\"#DejaVuSans-33\"/>\n     <use x=\"63.623047\" xlink:href=\"#DejaVuSans-36\"/>\n    </g>\n   </g>\n   <g id=\"text_54\">\n    <!-- 37 -->\n    <g transform=\"translate(283.9137 171.304792)scale(0.08 -0.08)\">\n     <use xlink:href=\"#DejaVuSans-33\"/>\n     <use x=\"63.623047\" xlink:href=\"#DejaVuSans-37\"/>\n    </g>\n   </g>\n   <g id=\"text_55\">\n    <!-- 38 -->\n    <g transform=\"translate(283.9137 112.735095)scale(0.08 -0.08)\">\n     <use xlink:href=\"#DejaVuSans-33\"/>\n     <use x=\"63.623047\" xlink:href=\"#DejaVuSans-38\"/>\n    </g>\n   </g>\n   <g id=\"text_56\">\n    <!-- 39 -->\n    <g transform=\"translate(283.9137 54.165398)scale(0.08 -0.08)\">\n     <use xlink:href=\"#DejaVuSans-33\"/>\n     <use x=\"63.623047\" xlink:href=\"#DejaVuSans-39\"/>\n    </g>\n   </g>\n   <g id=\"text_57\">\n    <!-- 43 -->\n    <g transform=\"translate(322.495006 207.910852)scale(0.08 -0.08)\">\n     <use xlink:href=\"#DejaVuSans-34\"/>\n     <use x=\"63.623047\" xlink:href=\"#DejaVuSans-33\"/>\n    </g>\n   </g>\n   <g id=\"text_58\">\n    <!-- 42 -->\n    <g transform=\"translate(322.495006 149.341155)scale(0.08 -0.08)\">\n     <use xlink:href=\"#DejaVuSans-34\"/>\n     <use x=\"63.623047\" xlink:href=\"#DejaVuSans-32\"/>\n    </g>\n   </g>\n   <g id=\"text_59\">\n    <!-- 41 -->\n    <g transform=\"translate(322.495006 90.771458)scale(0.08 -0.08)\">\n     <use xlink:href=\"#DejaVuSans-34\"/>\n     <use x=\"63.623047\" xlink:href=\"#DejaVuSans-31\"/>\n    </g>\n   </g>\n   <g id=\"text_60\">\n    <!-- 40 -->\n    <g transform=\"translate(322.495006 32.201761)scale(0.08 -0.08)\">\n     <use xlink:href=\"#DejaVuSans-34\"/>\n     <use x=\"63.623047\" xlink:href=\"#DejaVuSans-30\"/>\n    </g>\n   </g>\n   <g id=\"text_61\">\n    <!-- 44 -->\n    <g transform=\"translate(326.781818 229.874489)scale(0.08 -0.08)\">\n     <use xlink:href=\"#DejaVuSans-34\"/>\n     <use x=\"63.623047\" xlink:href=\"#DejaVuSans-34\"/>\n    </g>\n   </g>\n   <g id=\"text_62\">\n    <!-- 45 -->\n    <g transform=\"translate(326.781818 171.304792)scale(0.08 -0.08)\">\n     <use xlink:href=\"#DejaVuSans-34\"/>\n     <use x=\"63.623047\" xlink:href=\"#DejaVuSans-35\"/>\n    </g>\n   </g>\n   <g id=\"text_63\">\n    <!-- 46 -->\n    <g transform=\"translate(326.781818 112.735095)scale(0.08 -0.08)\">\n     <use xlink:href=\"#DejaVuSans-34\"/>\n     <use x=\"63.623047\" xlink:href=\"#DejaVuSans-36\"/>\n    </g>\n   </g>\n   <g id=\"text_64\">\n    <!-- 47 -->\n    <g transform=\"translate(326.781818 54.165398)scale(0.08 -0.08)\">\n     <use xlink:href=\"#DejaVuSans-34\"/>\n     <use x=\"63.623047\" xlink:href=\"#DejaVuSans-37\"/>\n    </g>\n   </g>\n   <g id=\"text_65\">\n    <!-- Probe 64ch -->\n    <g transform=\"translate(140.94 16.318125)scale(0.12 -0.12)\">\n     <defs>\n      <path d=\"M 1259 4147 \nL 1259 2394 \nL 2053 2394 \nQ 2494 2394 2734 2622 \nQ 2975 2850 2975 3272 \nQ 2975 3691 2734 3919 \nQ 2494 4147 2053 4147 \nL 1259 4147 \nz\nM 628 4666 \nL 2053 4666 \nQ 2838 4666 3239 4311 \nQ 3641 3956 3641 3272 \nQ 3641 2581 3239 2228 \nQ 2838 1875 2053 1875 \nL 1259 1875 \nL 1259 0 \nL 628 0 \nL 628 4666 \nz\n\" id=\"DejaVuSans-50\" transform=\"scale(0.015625)\"/>\n      <path d=\"M 2631 2963 \nQ 2534 3019 2420 3045 \nQ 2306 3072 2169 3072 \nQ 1681 3072 1420 2755 \nQ 1159 2438 1159 1844 \nL 1159 0 \nL 581 0 \nL 581 3500 \nL 1159 3500 \nL 1159 2956 \nQ 1341 3275 1631 3429 \nQ 1922 3584 2338 3584 \nQ 2397 3584 2469 3576 \nQ 2541 3569 2628 3553 \nL 2631 2963 \nz\n\" id=\"DejaVuSans-72\" transform=\"scale(0.015625)\"/>\n      <path d=\"M 1959 3097 \nQ 1497 3097 1228 2736 \nQ 959 2375 959 1747 \nQ 959 1119 1226 758 \nQ 1494 397 1959 397 \nQ 2419 397 2687 759 \nQ 2956 1122 2956 1747 \nQ 2956 2369 2687 2733 \nQ 2419 3097 1959 3097 \nz\nM 1959 3584 \nQ 2709 3584 3137 3096 \nQ 3566 2609 3566 1747 \nQ 3566 888 3137 398 \nQ 2709 -91 1959 -91 \nQ 1206 -91 779 398 \nQ 353 888 353 1747 \nQ 353 2609 779 3096 \nQ 1206 3584 1959 3584 \nz\n\" id=\"DejaVuSans-6f\" transform=\"scale(0.015625)\"/>\n      <path d=\"M 3116 1747 \nQ 3116 2381 2855 2742 \nQ 2594 3103 2138 3103 \nQ 1681 3103 1420 2742 \nQ 1159 2381 1159 1747 \nQ 1159 1113 1420 752 \nQ 1681 391 2138 391 \nQ 2594 391 2855 752 \nQ 3116 1113 3116 1747 \nz\nM 1159 2969 \nQ 1341 3281 1617 3432 \nQ 1894 3584 2278 3584 \nQ 2916 3584 3314 3078 \nQ 3713 2572 3713 1747 \nQ 3713 922 3314 415 \nQ 2916 -91 2278 -91 \nQ 1894 -91 1617 61 \nQ 1341 213 1159 525 \nL 1159 0 \nL 581 0 \nL 581 4863 \nL 1159 4863 \nL 1159 2969 \nz\n\" id=\"DejaVuSans-62\" transform=\"scale(0.015625)\"/>\n      <path d=\"M 3597 1894 \nL 3597 1613 \nL 953 1613 \nQ 991 1019 1311 708 \nQ 1631 397 2203 397 \nQ 2534 397 2845 478 \nQ 3156 559 3463 722 \nL 3463 178 \nQ 3153 47 2828 -22 \nQ 2503 -91 2169 -91 \nQ 1331 -91 842 396 \nQ 353 884 353 1716 \nQ 353 2575 817 3079 \nQ 1281 3584 2069 3584 \nQ 2775 3584 3186 3129 \nQ 3597 2675 3597 1894 \nz\nM 3022 2063 \nQ 3016 2534 2758 2815 \nQ 2500 3097 2075 3097 \nQ 1594 3097 1305 2825 \nQ 1016 2553 972 2059 \nL 3022 2063 \nz\n\" id=\"DejaVuSans-65\" transform=\"scale(0.015625)\"/>\n      <path id=\"DejaVuSans-20\" transform=\"scale(0.015625)\"/>\n      <path d=\"M 3122 3366 \nL 3122 2828 \nQ 2878 2963 2633 3030 \nQ 2388 3097 2138 3097 \nQ 1578 3097 1268 2742 \nQ 959 2388 959 1747 \nQ 959 1106 1268 751 \nQ 1578 397 2138 397 \nQ 2388 397 2633 464 \nQ 2878 531 3122 666 \nL 3122 134 \nQ 2881 22 2623 -34 \nQ 2366 -91 2075 -91 \nQ 1284 -91 818 406 \nQ 353 903 353 1747 \nQ 353 2603 823 3093 \nQ 1294 3584 2113 3584 \nQ 2378 3584 2631 3529 \nQ 2884 3475 3122 3366 \nz\n\" id=\"DejaVuSans-63\" transform=\"scale(0.015625)\"/>\n      <path d=\"M 3513 2113 \nL 3513 0 \nL 2938 0 \nL 2938 2094 \nQ 2938 2591 2744 2837 \nQ 2550 3084 2163 3084 \nQ 1697 3084 1428 2787 \nQ 1159 2491 1159 1978 \nL 1159 0 \nL 581 0 \nL 581 4863 \nL 1159 4863 \nL 1159 2956 \nQ 1366 3272 1645 3428 \nQ 1925 3584 2291 3584 \nQ 2894 3584 3203 3211 \nQ 3513 2838 3513 2113 \nz\n\" id=\"DejaVuSans-68\" transform=\"scale(0.015625)\"/>\n     </defs>\n     <use xlink:href=\"#DejaVuSans-50\"/>\n     <use x=\"58.552734\" xlink:href=\"#DejaVuSans-72\"/>\n     <use x=\"97.416016\" xlink:href=\"#DejaVuSans-6f\"/>\n     <use x=\"158.597656\" xlink:href=\"#DejaVuSans-62\"/>\n     <use x=\"222.074219\" xlink:href=\"#DejaVuSans-65\"/>\n     <use x=\"283.597656\" xlink:href=\"#DejaVuSans-20\"/>\n     <use x=\"315.384766\" xlink:href=\"#DejaVuSans-36\"/>\n     <use x=\"379.007812\" xlink:href=\"#DejaVuSans-34\"/>\n     <use x=\"442.630859\" xlink:href=\"#DejaVuSans-63\"/>\n     <use x=\"497.611328\" xlink:href=\"#DejaVuSans-68\"/>\n    </g>\n   </g>\n  </g>\n </g>\n <defs>\n  <clipPath id=\"pd15d0c94a2\">\n   <rect height=\"217.44\" width=\"334.8\" x=\"7.2\" y=\"22.318125\"/>\n  </clipPath>\n </defs>\n</svg>\n",
      "text/plain": [
       "<Figure size 432x288 with 1 Axes>"
      ]
     },
     "metadata": {
      "needs_background": "light"
     },
     "output_type": "display_data"
    }
   ],
   "source": [
    "from neuropy.core import Shank, Probe, ProbeGroup\n",
    "from neuropy.plotting import plot_probe\n",
    "\n",
    "shanks = []\n",
    "channel_groups = sess.recinfo.channel_groups\n",
    "for i in range(8):\n",
    "\n",
    "    shank = Shank.auto_generate(\n",
    "        columns=2,\n",
    "        contacts_per_column=4,\n",
    "        xpitch=15,\n",
    "        ypitch=20,\n",
    "        y_shift_per_column=[0, -7.5],\n",
    "        channel_id=np.append(\n",
    "            channel_groups[i][::2][::-1], channel_groups[i][1::2][::-1]\n",
    "        ),\n",
    "    )\n",
    "    shanks.append(shank)\n",
    "    shank.set_disconnected_channels(sess.recinfo.skipped_channels)\n",
    "\n",
    "probe1 = Probe(shanks)\n",
    "\n",
    "prbgrp = ProbeGroup()\n",
    "prbgrp.add_probe(probe1)\n",
    "\n",
    "prbgrp.filename = sess.filePrefix.with_suffix(\".probegroup.npy\")\n",
    "prbgrp.save()\n",
    "plot_probe(prbgrp)\n",
    "\n"
   ]
  },
  {
   "cell_type": "markdown",
   "metadata": {},
   "source": [
    "## Create epochs for your experimental paradigm\n",
    "A typical experiment involves multiple epochs such pre sleep, running on track and then another sleep epoch."
   ]
  },
  {
   "cell_type": "code",
   "execution_count": 11,
   "metadata": {},
   "outputs": [
    {
     "data": {
      "text/html": [
       "<div>\n",
       "<style scoped>\n",
       "    .dataframe tbody tr th:only-of-type {\n",
       "        vertical-align: middle;\n",
       "    }\n",
       "\n",
       "    .dataframe tbody tr th {\n",
       "        vertical-align: top;\n",
       "    }\n",
       "\n",
       "    .dataframe thead th {\n",
       "        text-align: right;\n",
       "    }\n",
       "</style>\n",
       "<table border=\"1\" class=\"dataframe\">\n",
       "  <thead>\n",
       "    <tr style=\"text-align: right;\">\n",
       "      <th></th>\n",
       "      <th>start</th>\n",
       "      <th>stop</th>\n",
       "      <th>label</th>\n",
       "      <th>duration</th>\n",
       "    </tr>\n",
       "  </thead>\n",
       "  <tbody>\n",
       "    <tr>\n",
       "      <th>0</th>\n",
       "      <td>0</td>\n",
       "      <td>11146</td>\n",
       "      <td>pre</td>\n",
       "      <td>11146</td>\n",
       "    </tr>\n",
       "    <tr>\n",
       "      <th>1</th>\n",
       "      <td>11166</td>\n",
       "      <td>15006</td>\n",
       "      <td>maze</td>\n",
       "      <td>3840</td>\n",
       "    </tr>\n",
       "    <tr>\n",
       "      <th>2</th>\n",
       "      <td>15090</td>\n",
       "      <td>57738</td>\n",
       "      <td>post</td>\n",
       "      <td>42648</td>\n",
       "    </tr>\n",
       "  </tbody>\n",
       "</table>\n",
       "</div>"
      ],
      "text/plain": [
       "   start   stop label  duration\n",
       "0      0  11146   pre     11146\n",
       "1  11166  15006  maze      3840\n",
       "2  15090  57738  post     42648"
      ]
     },
     "execution_count": 11,
     "metadata": {},
     "output_type": "execute_result"
    }
   ],
   "source": [
    "sess.paradigm.to_dataframe()"
   ]
  },
  {
   "cell_type": "code",
   "execution_count": null,
   "metadata": {},
   "outputs": [],
   "source": [
    "import pandas as pd\n",
    "from neuropy.core import Epoch\n",
    "\n",
    "epochs = pd.DataFrame(\n",
    "    {\n",
    "        \"start\": [0, 10000, 20000],\n",
    "        \"stop\": [9000, 13600, 30000],\n",
    "        \"label\": [\"pre\", \"maze\", \"post\"],\n",
    "    }\n",
    ")\n",
    "\n",
    "a = Epoch(epochs=epochs)\n",
    "a.filename = sess.filePrefix.with_suffix(\".paradigm.npy\")\n",
    "# a.save()\n"
   ]
  },
  {
   "cell_type": "markdown",
   "metadata": {},
   "source": [
    "# Detect epochs\n",
    "Here we will various types of epochs which typical for hippocampal recordings."
   ]
  },
  {
   "cell_type": "markdown",
   "metadata": {},
   "source": [
    "## Artifacts epochs\n",
    "A typical session will have some artifacts that may negatively influence many analyses. Using a simple zscore measure, we can identify epochs where signal is above some threshold."
   ]
  },
  {
   "cell_type": "code",
   "execution_count": null,
   "metadata": {},
   "outputs": [],
   "source": [
    "signal = sess.eegfile.get_signal([1])\n",
    "artifact_epochs = analyses.detect_artifact_epochs(signal, thresh=7)\n",
    "artifact_epochs.filename = sess.filePrefix.with_suffix(\".artifact.npy\")\n",
    "artifact_epochs.save()\n",
    "plotting.plot_artifact_epochs(artifact_epochs, signal)\n"
   ]
  },
  {
   "cell_type": "markdown",
   "metadata": {},
   "source": [
    "## Ripple epochs\n",
    "To detect ripples one also needs probegroup."
   ]
  },
  {
   "cell_type": "code",
   "execution_count": null,
   "metadata": {},
   "outputs": [],
   "source": [
    "from neuropy.analyses import oscillations\n",
    "signal = sess.eegfile.get_signal()\n",
    "ripple_epochs =oscillations.detect_ripple_epochs(signal, sess.probegroup)\n",
    "ripple_epochs.filename = sess.filePrefix.with_suffix('.ripple.npy')\n",
    "ripple_epochs.save()"
   ]
  },
  {
   "cell_type": "code",
   "execution_count": null,
   "metadata": {},
   "outputs": [],
   "source": [
    "signal = sess.eegfile.get_signal(channel_id=[1, 2, 3, 4], t_start=1, t_stop=1.2)\n",
    "plotting.plot_signal_traces(signal)"
   ]
  },
  {
   "cell_type": "markdown",
   "metadata": {},
   "source": [
    "# Importing spiketrains from Phy"
   ]
  },
  {
   "cell_type": "code",
   "execution_count": 15,
   "metadata": {},
   "outputs": [],
   "source": [
    "from neuropy.io import PhyIO\n",
    "from neuropy.core import Neurons\n",
    "from pathlib import Path\n",
    "import numpy as np\n",
    "\n",
    "cluster_path = Path(\n",
    "    \"/data/Clustering/sessions/RatJ/Day2/spykcirc/RatJ_Day2_2019-06-02_03-59-19/RatJ_Day2_2019-06-02_03-59-19.GUI\"\n",
    "    )\n",
    "\n",
    "chan_grps = sess.recinfo.channel_groups\n",
    "phy_data = PhyIO(cluster_path)\n",
    "spiketrains = phy_data.spiketrains\n",
    "peak_chans = phy_data.peak_channels\n",
    "waveforms = phy_data.peak_waveforms\n",
    "shank_id = sess.probegroup.get_shank_id_for_channels(peak_chans)\n",
    "\n",
    "neurons = Neurons(\n",
    "    np.array(spiketrains, dtype=object),\n",
    "    t_stop=sess.eegfile.duration,\n",
    "    sampling_rate=phy_data.sampling_rate,\n",
    "    peak_channels=peak_chans,\n",
    "    waveforms=np.array(waveforms, dtype=\"object\"),\n",
    "    shank_ids=np.array(shank_id).astype(int),\n",
    ")\n",
    "\n",
    "neurons.filename = sess.filePrefix.with_suffix(\".neurons\")\n",
    "neurons.save()\n"
   ]
  },
  {
   "cell_type": "code",
   "execution_count": null,
   "metadata": {},
   "outputs": [],
   "source": [
    "%matplotlib widget\n",
    "import matplotlib.pyplot as plt\n",
    "from neuropy.plotting import plot_raster\n",
    "\n",
    "\n",
    "plt.plot(phy_data.peak_waveforms[0])\n",
    "plot_raster(neurons,color='jet',add_vert_jitter=True)"
   ]
  },
  {
   "cell_type": "markdown",
   "metadata": {},
   "source": [
    "# BinnedSpiketrain and Mua objects using Neurons"
   ]
  },
  {
   "cell_type": "code",
   "execution_count": 18,
   "metadata": {},
   "outputs": [
    {
     "name": "stdout",
     "output_type": "stream",
     "text": [
      "data saved\n"
     ]
    }
   ],
   "source": [
    "mua =sess.neurons.get_mua()\n",
    "mua.filename = sess.filePrefix.with_suffix(\".mua.npy\")\n",
    "mua.save()   \n"
   ]
  },
  {
   "cell_type": "code",
   "execution_count": 20,
   "metadata": {},
   "outputs": [
    {
     "data": {
      "application/vnd.jupyter.widget-view+json": {
       "model_id": "5012eae24c004d1288d1050c6c37eab4",
       "version_major": 2,
       "version_minor": 0
      },
      "text/plain": [
       "Canvas(toolbar=Toolbar(toolitems=[('Home', 'Reset original view', 'home', 'home'), ('Back', 'Back to previous …"
      ]
     },
     "metadata": {},
     "output_type": "display_data"
    }
   ],
   "source": [
    "%matplotlib widget\n",
    "from neuropy import plotting\n",
    "smth_mua = sess.mua.get_smoothed(sigma=0.02)\n",
    "plotting.plot_mua(smth_mua)"
   ]
  },
  {
   "cell_type": "code",
   "execution_count": 21,
   "metadata": {},
   "outputs": [
    {
     "name": "stderr",
     "output_type": "stream",
     "text": [
      "/home/bapung/miniconda3/envs/data_analysis/lib/python3.9/site-packages/outdated/utils.py:14: OutdatedPackageWarning: The package outdated is out of date. Your version is 0.2.0, the latest is 0.2.1.\n",
      "Set the environment variable OUTDATED_IGNORE=1 to disable these warnings.\n",
      "  return warn(\n"
     ]
    },
    {
     "name": "stdout",
     "output_type": "stream",
     "text": [
      "data saved\n"
     ]
    }
   ],
   "source": [
    "from neuropy.analyses import detect_pbe_epochs\n",
    "\n",
    "pbe = detect_pbe_epochs(smth_mua)\n",
    "pbe.filename = sess.filePrefix.with_suffix('.pbe')\n",
    "pbe.save()\n"
   ]
  }
 ],
 "metadata": {
  "interpreter": {
   "hash": "7b10c821bc4bd3f433a613d47515e6babc6c2152896bd1e143404cc9d6ede4ad"
  },
  "kernelspec": {
   "display_name": "Python 3.9.4 64-bit ('data_analysis': conda)",
   "name": "python3"
  },
  "language_info": {
   "codemirror_mode": {
    "name": "ipython",
    "version": 3
   },
   "file_extension": ".py",
   "mimetype": "text/x-python",
   "name": "python",
   "nbconvert_exporter": "python",
   "pygments_lexer": "ipython3",
   "version": "3.9.4"
  },
  "orig_nbformat": 4
 },
 "nbformat": 4,
 "nbformat_minor": 2
}
