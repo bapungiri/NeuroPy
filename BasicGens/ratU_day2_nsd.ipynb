{
 "cells": [
  {
   "cell_type": "markdown",
   "metadata": {},
   "source": [
    "# RatU Day2 NSD recording info\n",
    "- No timestamps were deleted after concatenating .dat files from various folders of open-ephys"
   ]
  },
  {
   "cell_type": "code",
   "execution_count": 1,
   "metadata": {},
   "outputs": [
    {
     "name": "stdout",
     "output_type": "stream",
     "text": [
      "filename: /data/Clustering/sessions/RatU/RatUDay2NSD/RatU_Day2NSD_2021-07-24_08-16-38.xml \n",
      "# channels: 192\n",
      "sampling rate: 30000\n",
      "lfp Srate (downsampled): 1250\n",
      "\n"
     ]
    }
   ],
   "source": [
    "import numpy as np\n",
    "import subjects\n",
    "import matplotlib.pyplot as plt\n",
    "\n",
    "sess = subjects.nsd.ratUday2[0]\n",
    "print(sess.recinfo)"
   ]
  },
  {
   "cell_type": "markdown",
   "metadata": {},
   "source": [
    "# Set probe configuration\n",
    "- RatU_Day2NSD has two probes: both 128chan-8shanks diagnostic biochips.\n",
    "- 64 channels in one of the probes (implanted in left hemisphere) had no signal from 4 shanks (probably one of the intan chips was faulty). So only 192 channels were recorded, the channels in .dat file are already order according to depth.\n"
   ]
  },
  {
   "cell_type": "code",
   "execution_count": null,
   "metadata": {},
   "outputs": [],
   "source": [
    "%matplotlib inline\n",
    "from neuropy.core import shank, probe, probegroup\n",
    "from neuropy.plotting import plot_probe\n",
    "\n",
    "shanks = []\n",
    "channel_groups = sess.recinfo.channel_groups\n",
    "badchans = sess.recinfo.skipped_channels\n",
    "\n",
    "#--- diagnostic-biochip 8 shanks -----------\n",
    "for i in range(8):\n",
    "    chans = channel_groups[i]\n",
    "    shank = shank.auto_generate(\n",
    "        columns=2,\n",
    "        contacts_per_column=8,\n",
    "        xpitch=15,\n",
    "        ypitch=15,\n",
    "        y_shift_per_column=[0,-7.5],\n",
    "        channel_id=np.append(\n",
    "            channel_groups[i][::2][::-1], channel_groups[i][1::2][::-1]\n",
    "        ),\n",
    "    )\n",
    "    shank.set_disconnected_channels(sess.recinfo.skipped_channels)\n",
    "    shanks.append(shank)\n",
    "\n",
    "probe1 = probe(shanks)\n",
    "\n",
    "#--- dignostic biochip 4 shanks (4 shanks were bad) ----------- \n",
    "shanks = []\n",
    "for i in range(8,12):\n",
    "\n",
    "    shank = shank.auto_generate(\n",
    "        columns=2,\n",
    "        contacts_per_column=8,\n",
    "        xpitch=15,\n",
    "        ypitch=15,\n",
    "        y_shift_per_column=[0, -7.5],\n",
    "        channel_id=np.append(\n",
    "            channel_groups[i][::2][::-1], channel_groups[i][1::2][::-1]\n",
    "        ),\n",
    "    )\n",
    "    shank.set_disconnected_channels(sess.recinfo.skipped_channels)\n",
    "    shanks.append(shank)\n",
    "\n",
    "\n",
    "probe2 = probe(shanks)\n",
    "probe2.move((probe1.x_max+500,0))\n",
    "\n",
    "prbgrp = probegroup()\n",
    "prbgrp.add_probe(probe1)\n",
    "prbgrp.add_probe(probe2)\n",
    "\n",
    "prbgrp.filename = sess.fileprefix.with_suffix(\".probegroup.npy\")\n",
    "prbgrp.save()\n",
    "plot_probe(prbgrp)"
   ]
  },
  {
   "cell_type": "markdown",
   "metadata": {},
   "source": [
    "## Writing to json format for spyking-circus "
   ]
  },
  {
   "cell_type": "code",
   "execution_count": null,
   "metadata": {},
   "outputs": [],
   "source": [
    "from neuropy.utils import probe_util\n",
    "\n",
    "file = sess.filePrefix.with_suffix('.prb')\n",
    "probe_util.write_spyking_circus(file,sess.probegroup,shanksCombine=True)\n"
   ]
  },
  {
   "cell_type": "markdown",
   "metadata": {},
   "source": [
    "# Create experimental paradigm\n",
    "- pre sleep is a little shorter\n",
    "- animal was lazy on re-maze"
   ]
  },
  {
   "cell_type": "code",
   "execution_count": null,
   "metadata": {},
   "outputs": [],
   "source": [
    "sess.paradigm.to_dataframe()"
   ]
  },
  {
   "cell_type": "code",
   "execution_count": null,
   "metadata": {},
   "outputs": [],
   "source": [
    "import pandas as pd\n",
    "from neuropy.core import Epoch\n",
    "\n",
    "datetime_data = pd.read_csv(sess.filePrefix.with_suffix('.datetime.csv'))\n",
    "durations = datetime_data.nFrames/sess.recinfo.dat_sampling_rate\n",
    "epochs = pd.DataFrame(\n",
    "    {\n",
    "        \"start\": [0,9545,12856,45317],\n",
    "        \"stop\": [9544,12855,45316,48496],\n",
    "        \"label\": [\"pre\", \"maze\", \"post\",'re-maze'],\n",
    "    }\n",
    ")\n",
    "\n",
    "paradigm = Epoch(epochs=epochs)\n",
    "paradigm.filename = sess.filePrefix.with_suffix(\".paradigm.npy\")\n",
    "# paradigm.save()\n"
   ]
  },
  {
   "cell_type": "code",
   "execution_count": null,
   "metadata": {},
   "outputs": [],
   "source": [
    "durations"
   ]
  },
  {
   "cell_type": "code",
   "execution_count": null,
   "metadata": {},
   "outputs": [],
   "source": [
    "np.cumsum(durations)"
   ]
  },
  {
   "cell_type": "markdown",
   "metadata": {},
   "source": [
    "# Detect epochs\n",
    "Here we will various types of epochs which typical for hippocampal recordings."
   ]
  },
  {
   "cell_type": "markdown",
   "metadata": {},
   "source": [
    "## Artifacts epochs\n",
    "A typical session will have some artifacts that may negatively influence many analyses. Using a simple zscore measure, we can identify epochs where signal is above some threshold."
   ]
  },
  {
   "cell_type": "code",
   "execution_count": null,
   "metadata": {},
   "outputs": [],
   "source": [
    "%matplotlib widget\n",
    "from neuropy.analyses import detect_artifact_epochs\n",
    "from neuropy import plotting\n",
    "from neuropy.utils import signal_process\n",
    "from neuropy.core import Signal\n",
    "print(sess)\n",
    "signal = sess.eegfile.get_signal([23,155])\n",
    "# filt_trace = signal_process.filter_sig.highpass(signal.traces,cutoff=400)\n",
    "# filtered_signal = Signal(np.median(filt_trace,axis=0).reshape((1,-1)),signal.sampling_rate)\n",
    "artifact_epochs = detect_artifact_epochs(signal, thresh=10)\n",
    "artifact_epochs.filename = sess.filePrefix.with_suffix(\".artifact.npy\")\n",
    "artifact_epochs.save()\n",
    "# plotting.plot_artifact_epochs(artifact_epochs,sess.eegfile.get_signal([175]),downsample_factor=5)\n"
   ]
  },
  {
   "cell_type": "code",
   "execution_count": null,
   "metadata": {},
   "outputs": [],
   "source": [
    "sess.artifact.to_dataframe()"
   ]
  },
  {
   "cell_type": "markdown",
   "metadata": {},
   "source": [
    "### write artifact to neuroscope"
   ]
  },
  {
   "cell_type": "code",
   "execution_count": null,
   "metadata": {},
   "outputs": [],
   "source": [
    "\n",
    "sess.recinfo.write_epochs(sess.artifact,ext='.art')"
   ]
  },
  {
   "cell_type": "markdown",
   "metadata": {},
   "source": [
    "### write artifact epochs to spyking circus format"
   ]
  },
  {
   "cell_type": "code",
   "execution_count": null,
   "metadata": {},
   "outputs": [],
   "source": [
    "from neuropy.io import SpykingCircusIO\n",
    "\n",
    "file = sess.filePrefix.with_suffix('.dead')\n",
    "SpykingCircusIO.write_epochs(file,sess.artifact)"
   ]
  },
  {
   "cell_type": "markdown",
   "metadata": {},
   "source": [
    "## Sleep scoring"
   ]
  },
  {
   "cell_type": "code",
   "execution_count": null,
   "metadata": {},
   "outputs": [],
   "source": [
    "from neuropy.core import Signal\n",
    "from neuropy.analyses import brainstates\n",
    "\n",
    "signal = sess.eegfile.get_signal() \n",
    "brainstates = brainstates.detect_brainstates_epochs(signal=signal,probe=sess.probegroup)"
   ]
  },
  {
   "cell_type": "code",
   "execution_count": null,
   "metadata": {},
   "outputs": [],
   "source": [
    "brainstates.filename = sess.filePrefix.with_suffix('.brainstates')\n",
    "brainstates.save()"
   ]
  },
  {
   "cell_type": "markdown",
   "metadata": {},
   "source": [
    "## Ripple epochs\n",
    "To detect ripples one also needs probegroup."
   ]
  },
  {
   "cell_type": "code",
   "execution_count": null,
   "metadata": {},
   "outputs": [],
   "source": [
    "from neuropy.analyses import oscillations\n",
    "signal = sess.eegfile.get_signal()\n",
    "ripple_epochs =oscillations.detect_ripple_epochs(signal, sess.probegroup)\n",
    "ripple_epochs.filename = sess.filePrefix.with_suffix('.ripple.npy')\n",
    "ripple_epochs.save()"
   ]
  },
  {
   "cell_type": "code",
   "execution_count": null,
   "metadata": {},
   "outputs": [],
   "source": [
    "signal = sess.eegfile.get_signal(channel_id=[1, 2, 3, 4], t_start=1, t_stop=1.2)\n",
    "plotting.plot_signal_traces(signal)"
   ]
  },
  {
   "cell_type": "markdown",
   "metadata": {},
   "source": [
    "# Neurons"
   ]
  },
  {
   "cell_type": "markdown",
   "metadata": {},
   "source": [
    "## Importing spiketrains from Phy"
   ]
  },
  {
   "cell_type": "code",
   "execution_count": null,
   "metadata": {},
   "outputs": [],
   "source": [
    "from neuropy.io import PhyIO\n",
    "from neuropy.core import Neurons\n",
    "from pathlib import Path\n",
    "import numpy as np\n",
    "\n",
    "cluster_path = Path(\"/home/bapung/Documents/ClusteringHub/spykcirc/RatU/RatUDay2NSD/RatU_Day2NSD_2021-07-24_08-16-38-1.GUI\")\n",
    "chan_grps = sess.recinfo.channel_groups\n",
    "phy_data = PhyIO(cluster_path)\n",
    "spiketrains =phy_data.spiketrains\n",
    "peak_chans = phy_data.peak_channels\n",
    "waveforms = phy_data.waveforms\n",
    "shank_id = sess.probegroup.get_shank_id_for_channels(peak_chans)\n",
    "\n",
    "neuron_type_id = phy_data.cluster_info.q.values\n",
    "neuron_type = np.ones(len(neuron_type_id), dtype=\"U5\")\n",
    "neuron_type[neuron_type_id<4] = 'pyr'\n",
    "neuron_type[neuron_type_id==6] = 'mua'\n",
    "neuron_type[neuron_type_id==8] = 'inter'\n",
    "\n",
    "\n",
    "neurons = Neurons(\n",
    "    np.array(spiketrains, dtype=object),\n",
    "    t_stop=sess.eegfile.duration,\n",
    "    sampling_rate=phy_data.sampling_rate,\n",
    "    peak_channels=peak_chans,\n",
    "    waveforms=np.array(waveforms,dtype='object'),\n",
    "    shank_ids=np.array(shank_id).astype(int),\n",
    "    neuron_type=neuron_type,\n",
    "    metadata={'cluster_path':cluster_path}\n",
    ")\n",
    "\n",
    "neurons.filename = sess.filePrefix.with_suffix('.neurons')\n",
    "neurons.save()\n"
   ]
  },
  {
   "cell_type": "code",
   "execution_count": null,
   "metadata": {},
   "outputs": [],
   "source": [
    "%matplotlib widget\n",
    "import matplotlib.pyplot as plt\n",
    "from neuropy.plotting import plot_raster\n",
    "\n",
    "\n",
    "plt.plot(phy_data.peak_waveforms[0])\n",
    "plot_raster(neurons,color='jet',add_vert_jitter=True)"
   ]
  },
  {
   "cell_type": "markdown",
   "metadata": {},
   "source": [
    "## BinnedSpiketrain and Mua objects using Neurons"
   ]
  },
  {
   "cell_type": "code",
   "execution_count": null,
   "metadata": {},
   "outputs": [],
   "source": [
    "mua =sess.neurons.get_mua()\n",
    "mua.filename = sess.filePrefix.with_suffix(\".mua.npy\")\n",
    "mua.save()   \n"
   ]
  },
  {
   "cell_type": "code",
   "execution_count": null,
   "metadata": {},
   "outputs": [],
   "source": [
    "%matplotlib widget\n",
    "from neuropy import plotting\n",
    "smth_mua = sess.mua.get_smoothed(sigma=0.02)\n",
    "plotting.plot_mua(smth_mua)"
   ]
  },
  {
   "cell_type": "code",
   "execution_count": null,
   "metadata": {},
   "outputs": [],
   "source": [
    "from neuropy.analyses import detect_pbe_epochs\n",
    "\n",
    "pbe = detect_pbe_epochs(smth_mua)\n",
    "pbe.filename = sess.filePrefix.with_suffix('.pbe')\n",
    "pbe.save()\n"
   ]
  },
  {
   "cell_type": "markdown",
   "metadata": {},
   "source": [
    "# Position\n",
    "- concatenated .dat file did not have any deleted timepoints"
   ]
  },
  {
   "cell_type": "markdown",
   "metadata": {},
   "source": [
    "## Import position from optitrack"
   ]
  },
  {
   "cell_type": "code",
   "execution_count": null,
   "metadata": {},
   "outputs": [],
   "source": [
    "from neuropy.io import OptitrackIO\n",
    "from neuropy.core import Position\n",
    "from pathlib import Path\n",
    "\n",
    "opti_folder = sess.filePrefix.parent / 'position'\n",
    "opti_data = OptitrackIO(dirname=opti_folder,scale_factor=0.25)"
   ]
  },
  {
   "cell_type": "markdown",
   "metadata": {},
   "source": [
    "## Align position with .dat file"
   ]
  },
  {
   "cell_type": "code",
   "execution_count": null,
   "metadata": {},
   "outputs": [],
   "source": [
    "import pandas as pd\n",
    "from datetime import datetime\n",
    "\n",
    "#---- startimes of concatenated .dat files\n",
    "tracking_sRate = opti_data.sampling_rate\n",
    "rec_datetime = pd.read_csv(sess.filePrefix.with_suffix('.datetime.csv'))\n",
    "data_time = []\n",
    "for i, file_time in enumerate(rec_datetime[\"StartTime\"]):\n",
    "    # sync_time = rec_datetime['sync_nframes'][i]/rec_datetime['sync_rate'][i]\n",
    "    tbegin = datetime.strptime(file_time, \"%Y-%m-%d_%H-%M-%S\")\n",
    "    # + pd.Timedelta(sync_time,unit='sec')\n",
    "    nframes = rec_datetime[\"nFrames\"][i]\n",
    "    duration = pd.Timedelta(nframes / sess.recinfo.dat_sampling_rate, unit=\"sec\")\n",
    "    print(duration.total_seconds()*tracking_sRate)\n",
    "    tend = tbegin + duration\n",
    "    trange = pd.date_range(\n",
    "        start=tbegin,\n",
    "        end=tend,\n",
    "        periods=int(duration.total_seconds() * tracking_sRate),\n",
    "        # freq='16.66ms',\n",
    "        closed='left'\n",
    "    )\n",
    "    data_time.extend(trange)\n",
    "data_time = pd.to_datetime(data_time)\n",
    "\n",
    "x,y,z = opti_data.get_position_at_datetimes(data_time)\n",
    "traces = np.vstack((z,x,y))\n",
    "\n",
    "position = Position(traces=traces,t_start=0,sampling_rate=60)"
   ]
  },
  {
   "cell_type": "code",
   "execution_count": null,
   "metadata": {},
   "outputs": [],
   "source": [
    "position.filename = sess.filePrefix.with_suffix('.position.npy')\n",
    "position.save()"
   ]
  },
  {
   "cell_type": "markdown",
   "metadata": {},
   "source": [
    "## Linearize position"
   ]
  },
  {
   "cell_type": "code",
   "execution_count": 14,
   "metadata": {},
   "outputs": [
    {
     "name": "stdout",
     "output_type": "stream",
     "text": [
      "RatU_Day2NSD_2021-07-24_08-16-38.maze.linear saved\n"
     ]
    }
   ],
   "source": [
    "from neuropy.utils import position_util\n",
    "\n",
    "maze = sess.paradigm['maze']\n",
    "maze_position = sess.position.time_slice(maze[0],maze[1])\n",
    "lin_pos = position_util.linearize_position(maze_position,sigma=10)\n",
    "\n",
    "lin_pos.filename = sess.filePrefix.with_suffix('.maze.linear')\n",
    "lin_pos.save()"
   ]
  },
  {
   "cell_type": "markdown",
   "metadata": {},
   "source": [
    "## Checking position alignment with .dat file\n",
    "- Comparing theta power, speed and position to check if high theta periods are correlated with the speed of the animal"
   ]
  },
  {
   "cell_type": "code",
   "execution_count": null,
   "metadata": {},
   "outputs": [],
   "source": [
    "%matplotlib widget\n",
    "from neuropy.utils import signal_process\n",
    "maze= sess.paradigm['maze']\n",
    "signal = sess.eegfile.get_signal([111],t_start=maze[0],t_stop=maze[1])\n",
    "# spec = signal_process.SpectrogramBands(signal,window=1,overlap=0.8,norm_sig=True)"
   ]
  },
  {
   "cell_type": "code",
   "execution_count": null,
   "metadata": {},
   "outputs": [],
   "source": [
    "from neuropy_viewer import time_frequency_viewer\n",
    "\n",
    "time_frequency_viewer(signal,freq_params=(3,120,0.1))"
   ]
  },
  {
   "cell_type": "code",
   "execution_count": null,
   "metadata": {},
   "outputs": [],
   "source": [
    "from neuropy.utils import signal_process\n",
    "from scipy import stats\n",
    "freqs = np.arange(1,20,0.5)\n",
    "wavdec = signal_process.wavelet_decomp(stats.zscore(signal.traces[0]),sampfreq=1250,freqs=freqs)\n",
    "\n",
    "wvlt_power = wavdec.colgin2009()"
   ]
  },
  {
   "cell_type": "code",
   "execution_count": null,
   "metadata": {},
   "outputs": [],
   "source": [
    "%matplotlib widget\n",
    "import matplotlib.pyplot as plt\n",
    "plt.imshow(wvlt_power,aspect='auto',cmap='jet',vmax=80000,extent=[signal.t_start,signal.t_stop,wavdec.freqs[0],wavdec.freqs[-1]],origin='lower')\n",
    "plt.plot(pos_t,speed/10,'w')"
   ]
  },
  {
   "cell_type": "code",
   "execution_count": null,
   "metadata": {},
   "outputs": [],
   "source": [
    "indx = np.where((wavdec.freqs>=8)&(wavdec.freqs<=16))[0]\n",
    "theta_wvlt_power = np.median(wvlt_power[indx,:],axis=0)"
   ]
  },
  {
   "cell_type": "code",
   "execution_count": null,
   "metadata": {},
   "outputs": [],
   "source": [
    "%matplotlib widget\n",
    "from scipy.ndimage import gaussian_filter1d\n",
    "import matplotlib.pyplot as plt\n",
    "import numpy as np\n",
    "\n",
    "position = sess.position.time_slice(maze[0],maze[1])\n",
    "rpls = sess.ripple.time_slice(maze[0],maze[1]).starts\n",
    "x = position.x[:-1]\n",
    "y = position.y[:-1]\n",
    "pos_t = position.time[:-1]\n",
    "speed = gaussian_filter1d( position.speed,sigma =20)\n",
    "theta = np.interp(pos_t,spec.time,spec.theta)\n",
    "theta = gaussian_filter1d(theta,sigma=20)\n",
    "\n",
    "\n",
    "plt.plot(pos_t,theta*100,'r')\n",
    "# plt.plot(sess.position.time,sess.position.y)\n",
    "plt.plot(signal.time,theta_wvlt_power/4000,'r')\n",
    "plt.plot(rpls,100*np.ones_like(rpls),'*')\n",
    "plt.plot(pos_t,speed,'g')\n",
    "plt.plot(pos_t,x,'gray')\n",
    "plt.plot(pos_t,y,'gray')\n",
    "# plt.plot(pos_t,y,'k')\n",
    "# plt.plot(sess.position.time[1:],np.diff(sess.position.x)*100)\n",
    "# plt.xlim([1500,1600])\n",
    "plt.ylim([-400,400])"
   ]
  },
  {
   "cell_type": "code",
   "execution_count": null,
   "metadata": {},
   "outputs": [],
   "source": [
    "position.filename = sess.filePrefix.with_suffix('.maze.linear')\n",
    "position.t_start = position.t_start +6\n",
    "position.save()"
   ]
  },
  {
   "cell_type": "code",
   "execution_count": null,
   "metadata": {},
   "outputs": [],
   "source": [
    "sess.paradigm['maze']/60"
   ]
  },
  {
   "cell_type": "code",
   "execution_count": null,
   "metadata": {},
   "outputs": [],
   "source": [
    "%matplotlib widget\n",
    "import scipy.signal as sg\n",
    "\n",
    "xcorr = sg.correlate(theta,speed,mode='same')\n",
    "lags= sg.correlation_lags(len(pos_t),len(pos_t),mode='same')\n",
    "\n",
    "plt.plot(lags/position.sampling_rate,xcorr)\n",
    "# plt.xlim([-20,20])\n",
    "\n",
    "\n"
   ]
  },
  {
   "cell_type": "code",
   "execution_count": null,
   "metadata": {},
   "outputs": [],
   "source": [
    "%matplotlib widget\n",
    "import numpy as np\n",
    "\n",
    "x = np.array([1,2,3,7,8,9,10,15,16,17,18])\n",
    "y = np.array([6,7,8,9,10,11,12])\n",
    "z = np.array([2,3,2,5,6,3,4])\n",
    "plt.plot(x,np.ones_like(x),'.')\n",
    "plt.plot(y,2*np.ones_like(y),'.')"
   ]
  },
  {
   "cell_type": "code",
   "execution_count": null,
   "metadata": {},
   "outputs": [],
   "source": [
    "np.interp(x,y,z)"
   ]
  },
  {
   "cell_type": "markdown",
   "metadata": {},
   "source": [
    "## Run direction"
   ]
  },
  {
   "cell_type": "code",
   "execution_count": 16,
   "metadata": {},
   "outputs": [
    {
     "name": "stdout",
     "output_type": "stream",
     "text": [
      "RatU_Day2NSD_2021-07-24_08-16-38.running saved\n"
     ]
    },
    {
     "data": {
      "text/plain": [
       "<AxesSubplot:>"
      ]
     },
     "execution_count": 16,
     "metadata": {},
     "output_type": "execute_result"
    },
    {
     "data": {
      "application/vnd.jupyter.widget-view+json": {
       "model_id": "b5a263e6937f426da14167ce50d74809",
       "version_major": 2,
       "version_minor": 0
      },
      "text/html": [
       "\n",
       "            <div style=\"display: inline-block;\">\n",
       "                <div class=\"jupyter-widgets widget-label\" style=\"text-align: center;\">\n",
       "                    Figure\n",
       "                </div>\n",
       "                <img src='data:image/png;base64,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' width=640.0/>\n",
       "            </div>\n",
       "        "
      ],
      "text/plain": [
       "Canvas(toolbar=Toolbar(toolitems=[('Home', 'Reset original view', 'home', 'home'), ('Back', 'Back to previous …"
      ]
     },
     "metadata": {},
     "output_type": "display_data"
    }
   ],
   "source": [
    "%matplotlib widget\n",
    "from neuropy.utils import position_util\n",
    "from neuropy.plotting import plot_epochs\n",
    "from scipy.ndimage import gaussian_filter1d\n",
    "\n",
    "run = position_util.run_direction(sess.lin_maze)\n",
    "run.filename = sess.filePrefix.with_suffix('.running')\n",
    "run.save()\n",
    "_,ax = plt.subplots()\n",
    "ax.plot(sess.lin_maze.time,sess.lin_maze.x)\n",
    "# ax.plot(sess.lin_maze.time,gaussian_filter1d(sess.lin_maze.x,sigma=50))\n",
    "plot_epochs(ax=ax,epochs=run,colors={'forward':'r','backward':'k'},alpha=0.2)\n"
   ]
  },
  {
   "cell_type": "markdown",
   "metadata": {},
   "source": [
    "## Licking TTL epochs"
   ]
  },
  {
   "cell_type": "code",
   "execution_count": 2,
   "metadata": {},
   "outputs": [
    {
     "name": "stdout",
     "output_type": "stream",
     "text": [
      "{'channel_states': array([ 3, -3,  3, -3,  3, -3,  3, -3,  3, -3,  3, -3,  3, -3,  3, -3,  3,\n",
      "       -3,  3, -3,  3, -3,  3, -3,  3, -3,  3, -3,  3, -3], dtype=int16), 'channels': array([3, 3, 3, 3, 3, 3, 3, 3, 3, 3, 3, 3, 3, 3, 3, 3, 3, 3, 3, 3, 3, 3,\n",
      "       3, 3, 3, 3, 3, 3, 3, 3], dtype=uint16), 'full_words': array([4, 0, 4, 0, 4, 0, 4, 0, 4, 0, 4, 0, 4, 0, 4, 0, 4, 0, 4, 0, 4, 0,\n",
      "       4, 0, 4, 0, 4, 0, 4, 0], dtype=uint8), 'timestamps': array([ 991423230,  991427727,  996644856,  996649353, 1030735016,\n",
      "       1030739514, 1033499216, 1033503714, 1034686563, 1034691061,\n",
      "       1040441287, 1040445784, 1042700219, 1042704716, 1044673650,\n",
      "       1044678147, 1045788808, 1045793306, 1049404663, 1049409161,\n",
      "       1050777313, 1050781811, 1052931099, 1052935596, 1054229097,\n",
      "       1054233595, 1065666432, 1065670929, 1067451490, 1067455987]), 'event_names': ''}\n"
     ]
    }
   ],
   "source": [
    "from neuropy.io import openephysio\n",
    "\n",
    "ttl_folder = '/data/Clustering/sessions/RatU/RatUDay2NSD/TTL_1' \n",
    "ttl = openephysio.load_ttl_events(ttl_folder,sync_info=False)\n",
    "print(ttl)"
   ]
  },
  {
   "cell_type": "code",
   "execution_count": 3,
   "metadata": {},
   "outputs": [
    {
     "data": {
      "text/plain": [
       "431.0357333333333"
      ]
     },
     "execution_count": 3,
     "metadata": {},
     "output_type": "execute_result"
    }
   ],
   "source": [
    "file= '/data/Clustering/sessions/RatU/RatUDay2NSD/timestamps.npy'\n",
    "data = np.load(file)\n",
    "data[0]/30000\n"
   ]
  },
  {
   "cell_type": "code",
   "execution_count": null,
   "metadata": {},
   "outputs": [],
   "source": [
    "data[0]"
   ]
  },
  {
   "cell_type": "code",
   "execution_count": 4,
   "metadata": {},
   "outputs": [],
   "source": [
    "b = (ttl['timestamps']-985075968)/30000"
   ]
  },
  {
   "cell_type": "code",
   "execution_count": null,
   "metadata": {},
   "outputs": [],
   "source": [
    "sess.eegfile.sampling_rate"
   ]
  },
  {
   "cell_type": "code",
   "execution_count": null,
   "metadata": {},
   "outputs": [],
   "source": [
    "print(sess.eegfile)"
   ]
  },
  {
   "cell_type": "code",
   "execution_count": 5,
   "metadata": {},
   "outputs": [
    {
     "data": {
      "application/vnd.jupyter.widget-view+json": {
       "model_id": "c1dcbd30335d42dfa568f53b212c2014",
       "version_major": 2,
       "version_minor": 0
      },
      "text/html": [
       "\n",
       "            <div style=\"display: inline-block;\">\n",
       "                <div class=\"jupyter-widgets widget-label\" style=\"text-align: center;\">\n",
       "                    Figure\n",
       "                </div>\n",
       "                <img src='data:image/png;base64,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' width=640.0/>\n",
       "            </div>\n",
       "        "
      ],
      "text/plain": [
       "Canvas(toolbar=Toolbar(toolitems=[('Home', 'Reset original view', 'home', 'home'), ('Back', 'Back to previous …"
      ]
     },
     "metadata": {},
     "output_type": "display_data"
    }
   ],
   "source": [
    "%matplotlib widget\n",
    "from neuropy.plotting import plot_epochs\n",
    "\n",
    "_,ax = plt.subplots()\n",
    "ax.plot(sess.position.time,sess.position.x)\n",
    "# plot_epochs(ax=ax,epochs= sess.paradigm)\n",
    "\n",
    "for val in b:\n",
    "    ax.axvline(val+45321,color='k')\n",
    "\n",
    "# ax.set_xlim(sess.paradigm['maze'])\n"
   ]
  }
 ],
 "metadata": {
  "interpreter": {
   "hash": "cce1618081139d19eb1ee8d40815d94a2de4f62e1efb20d9406ddb60628c36ae"
  },
  "kernelspec": {
   "display_name": "Python 3.9.7 64-bit ('data_analysis': conda)",
   "name": "python3"
  },
  "language_info": {
   "codemirror_mode": {
    "name": "ipython",
    "version": 3
   },
   "file_extension": ".py",
   "mimetype": "text/x-python",
   "name": "python",
   "nbconvert_exporter": "python",
   "pygments_lexer": "ipython3",
   "version": "3.9.7"
  },
  "orig_nbformat": 4
 },
 "nbformat": 4,
 "nbformat_minor": 2
}
