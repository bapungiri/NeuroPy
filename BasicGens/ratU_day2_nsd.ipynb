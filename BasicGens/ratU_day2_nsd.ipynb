{
 "cells": [
  {
   "cell_type": "markdown",
   "source": [
    "# RatU Day4SD recording info\n",
    "- No timestamps were deleted after concatenating .dat files from various folders of open-ephys"
   ],
   "metadata": {}
  },
  {
   "cell_type": "code",
   "execution_count": 1,
   "source": [
    "import numpy as np\n",
    "import subjects\n",
    "\n",
    "sess = subjects.nsd.ratUday2[0]\n",
    "print(sess.recinfo)"
   ],
   "outputs": [
    {
     "output_type": "stream",
     "name": "stdout",
     "text": [
      "filename: /data/Clustering/sessions/RatU/RatUDay2NSD/RatU_Day2NSD_2021-07-24_08-16-38.xml \n",
      "# channels: 192\n",
      "sampling rate: 30000\n",
      "lfp Srate (downsampled): 1250\n"
     ]
    }
   ],
   "metadata": {}
  },
  {
   "cell_type": "code",
   "execution_count": 23,
   "source": [
    "sess.neurons.get_neuron_type('pyr').n_neurons"
   ],
   "outputs": [
    {
     "output_type": "execute_result",
     "data": {
      "text/plain": [
       "174"
      ]
     },
     "metadata": {},
     "execution_count": 23
    }
   ],
   "metadata": {}
  },
  {
   "cell_type": "markdown",
   "source": [
    "# Set probe configuration\n",
    "- RatU_Day2NSD has two probes: both 128chan-8shanks diagnostic biochips.\n",
    "- 64 channels in one of the probes (implanted in left hemisphere) had no signal from 4 shanks (probably one of the intan chips was faulty). So only 192 channels were recorded, the channels in .dat file are already order according to depth.\n"
   ],
   "metadata": {}
  },
  {
   "cell_type": "code",
   "execution_count": null,
   "source": [
    "%matplotlib inline\n",
    "from neuropy.core import shank, probe, probegroup\n",
    "from neuropy.plotting import plot_probe\n",
    "\n",
    "shanks = []\n",
    "channel_groups = sess.recinfo.channel_groups\n",
    "badchans = sess.recinfo.skipped_channels\n",
    "\n",
    "#--- diagnostic-biochip 8 shanks -----------\n",
    "for i in range(8):\n",
    "    chans = channel_groups[i]\n",
    "    shank = shank.auto_generate(\n",
    "        columns=2,\n",
    "        contacts_per_column=8,\n",
    "        xpitch=15,\n",
    "        ypitch=15,\n",
    "        y_shift_per_column=[0,-7.5],\n",
    "        channel_id=np.append(\n",
    "            channel_groups[i][::2][::-1], channel_groups[i][1::2][::-1]\n",
    "        ),\n",
    "    )\n",
    "    shank.set_disconnected_channels(sess.recinfo.skipped_channels)\n",
    "    shanks.append(shank)\n",
    "\n",
    "probe1 = probe(shanks)\n",
    "\n",
    "#--- dignostic biochip 4 shanks (4 shanks were bad) ----------- \n",
    "shanks = []\n",
    "for i in range(8,12):\n",
    "\n",
    "    shank = shank.auto_generate(\n",
    "        columns=2,\n",
    "        contacts_per_column=8,\n",
    "        xpitch=15,\n",
    "        ypitch=15,\n",
    "        y_shift_per_column=[0, -7.5],\n",
    "        channel_id=np.append(\n",
    "            channel_groups[i][::2][::-1], channel_groups[i][1::2][::-1]\n",
    "        ),\n",
    "    )\n",
    "    shank.set_disconnected_channels(sess.recinfo.skipped_channels)\n",
    "    shanks.append(shank)\n",
    "\n",
    "\n",
    "probe2 = probe(shanks)\n",
    "probe2.move((probe1.x_max+500,0))\n",
    "\n",
    "prbgrp = probegroup()\n",
    "prbgrp.add_probe(probe1)\n",
    "prbgrp.add_probe(probe2)\n",
    "\n",
    "prbgrp.filename = sess.fileprefix.with_suffix(\".probegroup.npy\")\n",
    "prbgrp.save()\n",
    "plot_probe(prbgrp)"
   ],
   "outputs": [],
   "metadata": {}
  },
  {
   "cell_type": "markdown",
   "source": [
    "## Writing to json format for spyking-circus "
   ],
   "metadata": {}
  },
  {
   "cell_type": "code",
   "execution_count": 24,
   "source": [
    "from neuropy.utils import probe_util\n",
    "\n",
    "file = sess.filePrefix.with_suffix('.prb')\n",
    "probe_util.write_spyking_circus(file,sess.probegroup,shanksCombine=True)\n"
   ],
   "outputs": [
    {
     "output_type": "stream",
     "name": "stdout",
     "text": [
      "RatU_Day2NSD_2021-07-24_08-16-38.prb file created for Spyking Circus\n"
     ]
    }
   ],
   "metadata": {}
  },
  {
   "cell_type": "markdown",
   "source": [
    "# Create experimental paradigm\n",
    "- pre sleep is a little shorter\n",
    "- animal was lazy on re-maze"
   ],
   "metadata": {}
  },
  {
   "cell_type": "code",
   "execution_count": null,
   "source": [
    "sess.paradigm.to_dataframe()"
   ],
   "outputs": [],
   "metadata": {}
  },
  {
   "cell_type": "code",
   "execution_count": 10,
   "source": [
    "import pandas as pd\n",
    "from neuropy.core import Epoch\n",
    "\n",
    "datetime_data = pd.read_csv(sess.filePrefix.with_suffix('.datetime.csv'))\n",
    "durations = datetime_data.nFrames/sess.recinfo.dat_sampling_rate\n",
    "epochs = pd.DataFrame(\n",
    "    {\n",
    "        \"start\": [0,9545,12856,45317],\n",
    "        \"stop\": [9544,12855,45316,48496],\n",
    "        \"label\": [\"pre\", \"maze\", \"post\",'re-maze'],\n",
    "    }\n",
    ")\n",
    "\n",
    "paradigm = Epoch(epochs=epochs)\n",
    "paradigm.filename = sess.filePrefix.with_suffix(\".paradigm.npy\")\n",
    "paradigm.save()\n"
   ],
   "outputs": [
    {
     "output_type": "stream",
     "name": "stdout",
     "text": [
      "RatU_Day2NSD_2021-07-24_08-16-38.paradigm.npy saved\n"
     ]
    }
   ],
   "metadata": {}
  },
  {
   "cell_type": "code",
   "execution_count": 4,
   "source": [
    "durations"
   ],
   "outputs": [
    {
     "output_type": "execute_result",
     "data": {
      "text/plain": [
       "0     1313.126400\n",
       "1     3071.863467\n",
       "2     5160.814933\n",
       "3     3311.138133\n",
       "4    32460.851200\n",
       "5     3180.740267\n",
       "Name: nFrames, dtype: float64"
      ]
     },
     "metadata": {},
     "execution_count": 4
    }
   ],
   "metadata": {}
  },
  {
   "cell_type": "code",
   "execution_count": 8,
   "source": [
    "1313+3071+5160+3311+32461+3180"
   ],
   "outputs": [
    {
     "output_type": "execute_result",
     "data": {
      "text/plain": [
       "48496"
      ]
     },
     "metadata": {},
     "execution_count": 8
    }
   ],
   "metadata": {}
  },
  {
   "cell_type": "markdown",
   "source": [
    "# Detect epochs\n",
    "Here we will various types of epochs which typical for hippocampal recordings."
   ],
   "metadata": {}
  },
  {
   "cell_type": "markdown",
   "source": [
    "## Artifacts epochs\n",
    "A typical session will have some artifacts that may negatively influence many analyses. Using a simple zscore measure, we can identify epochs where signal is above some threshold."
   ],
   "metadata": {}
  },
  {
   "cell_type": "code",
   "execution_count": 14,
   "source": [
    "%matplotlib widget\n",
    "from neuropy.analyses import detect_artifact_epochs\n",
    "from neuropy import plotting\n",
    "from neuropy.utils import signal_process\n",
    "from neuropy.core import Signal\n",
    "print(sess)\n",
    "signal = sess.eegfile.get_signal([23,155])\n",
    "# filt_trace = signal_process.filter_sig.highpass(signal.traces,cutoff=400)\n",
    "# filtered_signal = Signal(np.median(filt_trace,axis=0).reshape((1,-1)),signal.sampling_rate)\n",
    "artifact_epochs = detect_artifact_epochs(signal, thresh=10)\n",
    "artifact_epochs.filename = sess.filePrefix.with_suffix(\".artifact.npy\")\n",
    "artifact_epochs.save()\n",
    "# plotting.plot_artifact_epochs(artifact_epochs,sess.eegfile.get_signal([175]),downsample_factor=5)\n"
   ],
   "outputs": [
    {
     "output_type": "stream",
     "name": "stdout",
     "text": [
      "ProcessData(RatU_Day2NSD_2021-07-24_08-16-38.xml)\n",
      "RatU_Day2NSD_2021-07-24_08-16-38.artifact.npy saved\n"
     ]
    }
   ],
   "metadata": {}
  },
  {
   "cell_type": "code",
   "execution_count": 16,
   "source": [
    "sess.artifact.to_dataframe()"
   ],
   "outputs": [
    {
     "output_type": "execute_result",
     "data": {
      "text/html": [
       "<div>\n",
       "<style scoped>\n",
       "    .dataframe tbody tr th:only-of-type {\n",
       "        vertical-align: middle;\n",
       "    }\n",
       "\n",
       "    .dataframe tbody tr th {\n",
       "        vertical-align: top;\n",
       "    }\n",
       "\n",
       "    .dataframe thead th {\n",
       "        text-align: right;\n",
       "    }\n",
       "</style>\n",
       "<table border=\"1\" class=\"dataframe\">\n",
       "  <thead>\n",
       "    <tr style=\"text-align: right;\">\n",
       "      <th></th>\n",
       "      <th>start</th>\n",
       "      <th>stop</th>\n",
       "      <th>label</th>\n",
       "      <th>duration</th>\n",
       "    </tr>\n",
       "  </thead>\n",
       "  <tbody>\n",
       "    <tr>\n",
       "      <th>0</th>\n",
       "      <td>1264.6768</td>\n",
       "      <td>1313.1344</td>\n",
       "      <td></td>\n",
       "      <td>48.4576</td>\n",
       "    </tr>\n",
       "    <tr>\n",
       "      <th>1</th>\n",
       "      <td>4277.8808</td>\n",
       "      <td>4384.9976</td>\n",
       "      <td></td>\n",
       "      <td>107.1168</td>\n",
       "    </tr>\n",
       "  </tbody>\n",
       "</table>\n",
       "</div>"
      ],
      "text/plain": [
       "       start       stop label  duration\n",
       "0  1264.6768  1313.1344         48.4576\n",
       "1  4277.8808  4384.9976        107.1168"
      ]
     },
     "metadata": {},
     "execution_count": 16
    }
   ],
   "metadata": {}
  },
  {
   "cell_type": "markdown",
   "source": [
    "### write artifact to neuroscope"
   ],
   "metadata": {}
  },
  {
   "cell_type": "code",
   "execution_count": 17,
   "source": [
    "\n",
    "sess.recinfo.write_epochs(sess.artifact,ext='.art')"
   ],
   "outputs": [],
   "metadata": {}
  },
  {
   "cell_type": "markdown",
   "source": [
    "### write artifact epochs to spyking circus format"
   ],
   "metadata": {}
  },
  {
   "cell_type": "code",
   "execution_count": 19,
   "source": [
    "from neuropy.io import SpykingCircusIO\n",
    "\n",
    "file = sess.filePrefix.with_suffix('.dead')\n",
    "SpykingCircusIO.write_epochs(file,sess.artifact)"
   ],
   "outputs": [
    {
     "output_type": "stream",
     "name": "stdout",
     "text": [
      "RatU_Day2NSD_2021-07-24_08-16-38.dead created\n"
     ]
    }
   ],
   "metadata": {}
  },
  {
   "cell_type": "markdown",
   "source": [
    "## Sleep scoring"
   ],
   "metadata": {}
  },
  {
   "cell_type": "code",
   "execution_count": 16,
   "source": [
    "from neuropy.core import Signal\n",
    "from neuropy.analyses import brainstates\n",
    "\n",
    "signal = sess.eegfile.get_signal() \n",
    "brainstates = brainstates.detect_brainstates_epochs(signal=signal,probe=sess.probegroup)"
   ],
   "outputs": [
    {
     "output_type": "stream",
     "name": "stdout",
     "text": [
      "starting emg calculation\n",
      "emg calculation done\n",
      "channel for sleep detection: 127\n",
      "spectral properties calculated\n"
     ]
    }
   ],
   "metadata": {}
  },
  {
   "cell_type": "code",
   "execution_count": 17,
   "source": [
    "brainstates.filename = sess.filePrefix.with_suffix('.brainstates')\n",
    "brainstates.save()"
   ],
   "outputs": [
    {
     "output_type": "stream",
     "name": "stdout",
     "text": [
      "RatU_Day2NSD_2021-07-24_08-16-38.brainstates saved\n"
     ]
    }
   ],
   "metadata": {}
  },
  {
   "cell_type": "markdown",
   "source": [
    "## Ripple epochs\n",
    "To detect ripples one also needs probegroup."
   ],
   "metadata": {}
  },
  {
   "cell_type": "code",
   "execution_count": null,
   "source": [
    "from neuropy.analyses import oscillations\n",
    "signal = sess.eegfile.get_signal()\n",
    "ripple_epochs =oscillations.detect_ripple_epochs(signal, sess.probegroup)\n",
    "ripple_epochs.filename = sess.filePrefix.with_suffix('.ripple.npy')\n",
    "ripple_epochs.save()"
   ],
   "outputs": [],
   "metadata": {}
  },
  {
   "cell_type": "code",
   "execution_count": null,
   "source": [
    "signal = sess.eegfile.get_signal(channel_id=[1, 2, 3, 4], t_start=1, t_stop=1.2)\n",
    "plotting.plot_signal_traces(signal)"
   ],
   "outputs": [],
   "metadata": {}
  },
  {
   "cell_type": "markdown",
   "source": [
    "# Neurons"
   ],
   "metadata": {}
  },
  {
   "cell_type": "markdown",
   "source": [
    "## Importing spiketrains from Phy"
   ],
   "metadata": {}
  },
  {
   "cell_type": "code",
   "execution_count": 19,
   "source": [
    "from neuropy.io import PhyIO\n",
    "from neuropy.core import Neurons\n",
    "from pathlib import Path\n",
    "import numpy as np\n",
    "\n",
    "cluster_path = Path(\"/home/bapung/Documents/ClusteringHub/spykcirc/RatU/RatUDay2NSD/RatU_Day2NSD_2021-07-24_08-16-38-1.GUI\")\n",
    "chan_grps = sess.recinfo.channel_groups\n",
    "phy_data = PhyIO(cluster_path)\n",
    "spiketrains =phy_data.spiketrains\n",
    "peak_chans = phy_data.peak_channels\n",
    "waveforms = phy_data.peak_waveforms\n",
    "shank_id = sess.probegroup.get_shank_id_for_channels(peak_chans)\n",
    "\n",
    "neuron_type_id = phy_data.cluster_info.q.values\n",
    "neuron_type = np.ones(len(neuron_type_id), dtype=\"U5\")\n",
    "neuron_type[neuron_type_id<4] = 'pyr'\n",
    "neuron_type[neuron_type_id==6] = 'mua'\n",
    "neuron_type[neuron_type_id==8] = 'inter'\n",
    "\n",
    "\n",
    "neurons = Neurons(\n",
    "    np.array(spiketrains, dtype=object),\n",
    "    t_stop=sess.eegfile.duration,\n",
    "    sampling_rate=phy_data.sampling_rate,\n",
    "    peak_channels=peak_chans,\n",
    "    waveforms=np.array(waveforms,dtype='object'),\n",
    "    shank_ids=np.array(shank_id).astype(int),\n",
    "    neuron_type=neuron_type,\n",
    "    metadata={'cluster_path':cluster_path}\n",
    ")\n",
    "\n",
    "neurons.filename = sess.filePrefix.with_suffix('.neurons')\n",
    "neurons.save()\n"
   ],
   "outputs": [
    {
     "output_type": "stream",
     "name": "stdout",
     "text": [
      "RatU_Day2NSD_2021-07-24_08-16-38.neurons saved\n"
     ]
    }
   ],
   "metadata": {}
  },
  {
   "cell_type": "code",
   "execution_count": null,
   "source": [
    "%matplotlib widget\n",
    "import matplotlib.pyplot as plt\n",
    "from neuropy.plotting import plot_raster\n",
    "\n",
    "\n",
    "plt.plot(phy_data.peak_waveforms[0])\n",
    "plot_raster(neurons,color='jet',add_vert_jitter=True)"
   ],
   "outputs": [],
   "metadata": {}
  },
  {
   "cell_type": "markdown",
   "source": [
    "## BinnedSpiketrain and Mua objects using Neurons"
   ],
   "metadata": {}
  },
  {
   "cell_type": "code",
   "execution_count": null,
   "source": [
    "mua =sess.neurons.get_mua()\n",
    "mua.filename = sess.filePrefix.with_suffix(\".mua.npy\")\n",
    "mua.save()   \n"
   ],
   "outputs": [],
   "metadata": {}
  },
  {
   "cell_type": "code",
   "execution_count": null,
   "source": [
    "%matplotlib widget\n",
    "from neuropy import plotting\n",
    "smth_mua = sess.mua.get_smoothed(sigma=0.02)\n",
    "plotting.plot_mua(smth_mua)"
   ],
   "outputs": [],
   "metadata": {}
  },
  {
   "cell_type": "code",
   "execution_count": null,
   "source": [
    "from neuropy.analyses import detect_pbe_epochs\n",
    "\n",
    "pbe = detect_pbe_epochs(smth_mua)\n",
    "pbe.filename = sess.filePrefix.with_suffix('.pbe')\n",
    "pbe.save()\n"
   ],
   "outputs": [],
   "metadata": {}
  },
  {
   "cell_type": "markdown",
   "source": [
    "# Position\n",
    "- concatenated .dat file did not have any deleted timepoints"
   ],
   "metadata": {}
  },
  {
   "cell_type": "markdown",
   "source": [
    "## Import position from optitrack"
   ],
   "metadata": {}
  },
  {
   "cell_type": "code",
   "execution_count": 3,
   "source": [
    "from neuropy.io import OptitrackIO\n",
    "from neuropy.core import Position\n",
    "from pathlib import Path\n",
    "\n",
    "opti_folder = sess.filePrefix.parent / 'position'\n",
    "opti_data = OptitrackIO(dirname=opti_folder)"
   ],
   "outputs": [
    {
     "output_type": "stream",
     "name": "stdout",
     "text": [
      "/data/Clustering/sessions/RatU/RatUDay2NSD/position/Take 2021-07-24 11.11.17 AM.csv\n",
      "/data/Clustering/sessions/RatU/RatUDay2NSD/position/Take 2021-07-24 09.18.31 PM.csv\n"
     ]
    }
   ],
   "metadata": {}
  },
  {
   "cell_type": "markdown",
   "source": [
    "## Align position with .dat file"
   ],
   "metadata": {}
  },
  {
   "cell_type": "code",
   "execution_count": 8,
   "source": [
    "import pandas as pd\n",
    "from datetime import datetime\n",
    "\n",
    "#---- startimes of concatenated .dat files\n",
    "tracking_sRate = opti_data.sampling_rate\n",
    "rec_datetime = pd.read_csv(sess.filePrefix.with_suffix('.datetime.csv'))\n",
    "data_time = []\n",
    "for i, file_time in enumerate(rec_datetime[\"StartTime\"]):\n",
    "    sync_time = rec_datetime['sync_nframes'][i]/rec_datetime['sync_rate'][i]\n",
    "    tbegin = datetime.strptime(file_time, \"%Y-%m-%d_%H-%M-%S\") + pd.Timedelta(sync_time,unit='sec')\n",
    "    nframes = rec_datetime[\"nFrames\"][i]\n",
    "    duration = pd.Timedelta(nframes / sess.recinfo.dat_sampling_rate, unit=\"sec\")\n",
    "    tend = tbegin + duration\n",
    "    trange = pd.date_range(\n",
    "        start=tbegin,\n",
    "        end=tend,\n",
    "        periods=int(duration.total_seconds() * tracking_sRate),\n",
    "    )\n",
    "    data_time.extend(trange)\n",
    "data_time = pd.to_datetime(data_time)\n",
    "\n",
    "x,y,z = opti_data.get_position_at_datetimes(data_time)\n",
    "traces = np.vstack((z,x,y))\n",
    "\n",
    "position = Position(traces=traces,t_start=0,sampling_rate=opti_data.sampling_rate)"
   ],
   "outputs": [],
   "metadata": {}
  },
  {
   "cell_type": "code",
   "execution_count": 9,
   "source": [
    "position.filename = sess.filePrefix.with_suffix('.position.npy')\n",
    "position.save()"
   ],
   "outputs": [
    {
     "output_type": "stream",
     "name": "stdout",
     "text": [
      "RatU_Day2NSD_2021-07-24_08-16-38.position.npy saved\n"
     ]
    }
   ],
   "metadata": {}
  },
  {
   "cell_type": "code",
   "execution_count": 2,
   "source": [
    "%matplotlib widget\n",
    "import matplotlib.pyplot as plt\n",
    "\n",
    "# plt.plot(opti_data.datetime_array,opti_data.z)\n",
    "plt.plot(sess.position.y,sess.position.x)"
   ],
   "outputs": [
    {
     "output_type": "display_data",
     "data": {
      "application/vnd.jupyter.widget-view+json": {
       "version_major": 2,
       "version_minor": 0,
       "model_id": "de44581802ef44e89e72e1a22b6238e0"
      },
      "text/plain": [
       "Canvas(toolbar=Toolbar(toolitems=[('Home', 'Reset original view', 'home', 'home'), ('Back', 'Back to previous …"
      ]
     },
     "metadata": {}
    },
    {
     "output_type": "execute_result",
     "data": {
      "text/plain": [
       "[<matplotlib.lines.Line2D at 0x7fc9aaf2a5e0>]"
      ]
     },
     "metadata": {},
     "execution_count": 2
    }
   ],
   "metadata": {}
  },
  {
   "cell_type": "code",
   "execution_count": 14,
   "source": [
    "%matplotlib widget\n",
    "from neuropy.utils import signal_process\n",
    "\n",
    "signal = sess.eegfile.get_signal([40])\n",
    "\n",
    "spec = signal_process.SpectrogramBands(signal)\n"
   ],
   "outputs": [],
   "metadata": {}
  },
  {
   "cell_type": "code",
   "execution_count": 16,
   "source": [
    "%matplotlib widget\n",
    "\n",
    "import matplotlib.pyplot as plt\n",
    "\n",
    "plt.plot(spec.time,spec.theta/500)\n",
    "plt.plot(sess.position.time,sess.position.y)\n",
    "plt.plot(sess.position.time[1:],np.diff(sess.position.y)*100)\n",
    "# plt.xlim([12500,12600])\n",
    "plt.ylim([-400,400])"
   ],
   "outputs": [
    {
     "output_type": "display_data",
     "data": {
      "application/vnd.jupyter.widget-view+json": {
       "version_major": 2,
       "version_minor": 0,
       "model_id": "148af8168d244e82aee41e6e7dc5b476"
      },
      "text/plain": [
       "Canvas(toolbar=Toolbar(toolitems=[('Home', 'Reset original view', 'home', 'home'), ('Back', 'Back to previous …"
      ]
     },
     "metadata": {}
    },
    {
     "output_type": "execute_result",
     "data": {
      "text/plain": [
       "(-400.0, 400.0)"
      ]
     },
     "metadata": {},
     "execution_count": 16
    }
   ],
   "metadata": {}
  },
  {
   "cell_type": "markdown",
   "source": [
    "## Checking position alignment with .dat file\n",
    "- Comparing theta power, speed and position to check if high theta periods are correlated with the speed of the animal"
   ],
   "metadata": {}
  },
  {
   "cell_type": "code",
   "execution_count": null,
   "source": [
    "%matplotlib widget\n",
    "from neuropy.utils import signal_process\n",
    "\n",
    "signal = sess.eegfile.get_signal([158])\n",
    "spec = signal_process.spectrogramBands(signal.traces[0])"
   ],
   "outputs": [],
   "metadata": {}
  },
  {
   "cell_type": "code",
   "execution_count": null,
   "source": [
    "%matplotlib widget\n",
    "\n",
    "import matplotlib.pyplot as plt\n",
    "\n",
    "plt.plot(spec.time,spec.theta/1800)\n",
    "plt.plot(sess.position.time,sess.position.y)\n",
    "plt.plot(sess.position.time[1:],np.diff(sess.position.x)*100)\n",
    "# plt.xlim([1500,1600])\n",
    "plt.ylim([-400,400])"
   ],
   "outputs": [],
   "metadata": {}
  }
 ],
 "metadata": {
  "interpreter": {
   "hash": "7b10c821bc4bd3f433a613d47515e6babc6c2152896bd1e143404cc9d6ede4ad"
  },
  "kernelspec": {
   "name": "python3",
   "display_name": "Python 3.9.6 64-bit ('data_analysis': conda)"
  },
  "language_info": {
   "codemirror_mode": {
    "name": "ipython",
    "version": 3
   },
   "file_extension": ".py",
   "mimetype": "text/x-python",
   "name": "python",
   "nbconvert_exporter": "python",
   "pygments_lexer": "ipython3",
   "version": "3.9.6"
  },
  "orig_nbformat": 4
 },
 "nbformat": 4,
 "nbformat_minor": 2
}