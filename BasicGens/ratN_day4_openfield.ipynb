{
 "cells": [
  {
   "cell_type": "markdown",
   "source": [
    "# RatNDay4 Openfield recording info"
   ],
   "metadata": {}
  },
  {
   "cell_type": "code",
   "execution_count": 7,
   "source": [
    "import numpy as np\n",
    "from subjects import of\n",
    "\n",
    "sess = of.ratNday4[0]\n",
    "print(sess.recinfo)"
   ],
   "outputs": [
    {
     "output_type": "stream",
     "name": "stdout",
     "text": [
      "filename: /data/Clustering/sessions/RatN/Day4/RatN_Day4_2019-10-15_11-30-06.xml \n",
      "# channels: 134\n",
      "sampling rate: 30000\n",
      "lfp Srate (downsampled): 1250\n"
     ]
    }
   ],
   "metadata": {}
  },
  {
   "cell_type": "markdown",
   "source": [
    "# Set probe configuration\n",
    "This animal had 8 shank probe from diagnostic biochips"
   ],
   "metadata": {}
  },
  {
   "cell_type": "code",
   "execution_count": 4,
   "source": [
    "from neuropy.core import Shank, Probe, ProbeGroup\n",
    "from neuropy.plotting import plot_probe\n",
    "\n",
    "shanks = []\n",
    "channel_groups = sess.recinfo.channel_groups\n",
    "for i in range(8):\n",
    "\n",
    "    shank = Shank.auto_generate(\n",
    "        columns=2,\n",
    "        contacts_per_column=8,\n",
    "        xpitch=15,\n",
    "        ypitch=20,\n",
    "        y_shift_per_column=[0, -7.5],\n",
    "        channel_id=np.append(\n",
    "            channel_groups[i][::2][::-1], channel_groups[i][1::2][::-1]\n",
    "        ),\n",
    "    )\n",
    "    shanks.append(shank)\n",
    "    shank.set_disconnected_channels(sess.recinfo.skipped_channels)\n",
    "\n",
    "probe1 = Probe(shanks)\n",
    "\n",
    "prbgrp = ProbeGroup()\n",
    "prbgrp.add_probe(probe1)\n",
    "\n",
    "prbgrp.filename = sess.filePrefix.with_suffix(\".probegroup.npy\")\n",
    "prbgrp.save()\n",
    "plot_probe(prbgrp)\n",
    "\n"
   ],
   "outputs": [
    {
     "output_type": "stream",
     "name": "stdout",
     "text": [
      "data saved\n"
     ]
    },
    {
     "output_type": "execute_result",
     "data": {
      "text/plain": [
       "<AxesSubplot:title={'center':'Probe 128ch'}>"
      ]
     },
     "metadata": {},
     "execution_count": 4
    },
    {
     "output_type": "display_data",
     "data": {
      "text/plain": [
       "<Figure size 432x288 with 1 Axes>"
      ],
      "image/svg+xml": "<?xml version=\"1.0\" encoding=\"utf-8\" standalone=\"no\"?>\n<!DOCTYPE svg PUBLIC \"-//W3C//DTD SVG 1.1//EN\"\n  \"http://www.w3.org/Graphics/SVG/1.1/DTD/svg11.dtd\">\n<svg height=\"246.958125pt\" version=\"1.1\" viewBox=\"0 0 349.251818 246.958125\" width=\"349.251818pt\" xmlns=\"http://www.w3.org/2000/svg\" xmlns:xlink=\"http://www.w3.org/1999/xlink\">\n <metadata>\n  <rdf:RDF xmlns:cc=\"http://creativecommons.org/ns#\" xmlns:dc=\"http://purl.org/dc/elements/1.1/\" xmlns:rdf=\"http://www.w3.org/1999/02/22-rdf-syntax-ns#\">\n   <cc:Work>\n    <dc:type rdf:resource=\"http://purl.org/dc/dcmitype/StillImage\"/>\n    <dc:date>2021-08-08T15:26:25.944418</dc:date>\n    <dc:format>image/svg+xml</dc:format>\n    <dc:creator>\n     <cc:Agent>\n      <dc:title>Matplotlib v3.4.1, https://matplotlib.org/</dc:title>\n     </cc:Agent>\n    </dc:creator>\n   </cc:Work>\n  </rdf:RDF>\n </metadata>\n <defs>\n  <style type=\"text/css\">*{stroke-linecap:butt;stroke-linejoin:round;}</style>\n </defs>\n <g id=\"figure_1\">\n  <g id=\"patch_1\">\n   <path d=\"M 0 246.958125 \nL 349.251818 246.958125 \nL 349.251818 0 \nL 0 0 \nz\n\" style=\"fill:none;\"/>\n  </g>\n  <g id=\"axes_1\">\n   <g id=\"PathCollection_1\">\n    <defs>\n     <path d=\"M 0 2 \nC 0.530406 2 1.03916 1.789267 1.414214 1.414214 \nC 1.789267 1.03916 2 0.530406 2 0 \nC 2 -0.530406 1.789267 -1.03916 1.414214 -1.414214 \nC 1.03916 -1.789267 0.530406 -2 0 -2 \nC -0.530406 -2 -1.03916 -1.789267 -1.414214 -1.414214 \nC -1.789267 -1.03916 -2 -0.530406 -2 0 \nC -2 0.530406 -1.789267 1.03916 -1.414214 1.414214 \nC -1.03916 1.789267 -0.530406 2 0 2 \nz\n\" id=\"m0779a72cf9\" style=\"stroke:#808080;stroke-width:0.5;\"/>\n    </defs>\n    <g clip-path=\"url(#p0458650349)\">\n     <use style=\"fill:#808080;stroke:#808080;stroke-width:0.5;\" x=\"22.418182\" xlink:href=\"#m0779a72cf9\" y=\"219.823333\"/>\n     <use style=\"fill:#808080;stroke:#808080;stroke-width:0.5;\" x=\"22.418182\" xlink:href=\"#m0779a72cf9\" y=\"193.020251\"/>\n     <use style=\"fill:#808080;stroke:#808080;stroke-width:0.5;\" x=\"22.418182\" xlink:href=\"#m0779a72cf9\" y=\"166.21717\"/>\n     <use style=\"fill:#808080;stroke:#808080;stroke-width:0.5;\" x=\"22.418182\" xlink:href=\"#m0779a72cf9\" y=\"139.414088\"/>\n     <use style=\"fill:#808080;stroke:#808080;stroke-width:0.5;\" x=\"22.418182\" xlink:href=\"#m0779a72cf9\" y=\"112.611006\"/>\n     <use style=\"fill:#808080;stroke:#808080;stroke-width:0.5;\" x=\"22.418182\" xlink:href=\"#m0779a72cf9\" y=\"85.807925\"/>\n     <use style=\"fill:#808080;stroke:#808080;stroke-width:0.5;\" x=\"22.418182\" xlink:href=\"#m0779a72cf9\" y=\"59.004843\"/>\n     <use style=\"fill:#808080;stroke:#808080;stroke-width:0.5;\" x=\"22.418182\" xlink:href=\"#m0779a72cf9\" y=\"32.201761\"/>\n     <use style=\"fill:#808080;stroke:#808080;stroke-width:0.5;\" x=\"26.704994\" xlink:href=\"#m0779a72cf9\" y=\"229.874489\"/>\n     <use style=\"fill:#808080;stroke:#808080;stroke-width:0.5;\" x=\"26.704994\" xlink:href=\"#m0779a72cf9\" y=\"203.071407\"/>\n     <use style=\"fill:#808080;stroke:#808080;stroke-width:0.5;\" x=\"26.704994\" xlink:href=\"#m0779a72cf9\" y=\"176.268325\"/>\n     <use style=\"fill:#808080;stroke:#808080;stroke-width:0.5;\" x=\"26.704994\" xlink:href=\"#m0779a72cf9\" y=\"149.465244\"/>\n     <use style=\"fill:#808080;stroke:#808080;stroke-width:0.5;\" x=\"26.704994\" xlink:href=\"#m0779a72cf9\" y=\"122.662162\"/>\n     <use style=\"fill:#808080;stroke:#808080;stroke-width:0.5;\" x=\"26.704994\" xlink:href=\"#m0779a72cf9\" y=\"95.85908\"/>\n     <use style=\"fill:#808080;stroke:#808080;stroke-width:0.5;\" x=\"26.704994\" xlink:href=\"#m0779a72cf9\" y=\"69.055999\"/>\n     <use style=\"fill:#808080;stroke:#808080;stroke-width:0.5;\" x=\"26.704994\" xlink:href=\"#m0779a72cf9\" y=\"42.252917\"/>\n     <use style=\"fill:#808080;stroke:#808080;stroke-width:0.5;\" x=\"65.2863\" xlink:href=\"#m0779a72cf9\" y=\"219.823333\"/>\n     <use style=\"fill:#808080;stroke:#808080;stroke-width:0.5;\" x=\"65.2863\" xlink:href=\"#m0779a72cf9\" y=\"193.020251\"/>\n     <use style=\"fill:#808080;stroke:#808080;stroke-width:0.5;\" x=\"65.2863\" xlink:href=\"#m0779a72cf9\" y=\"166.21717\"/>\n     <use style=\"fill:#808080;stroke:#808080;stroke-width:0.5;\" x=\"65.2863\" xlink:href=\"#m0779a72cf9\" y=\"139.414088\"/>\n     <use style=\"fill:#808080;stroke:#808080;stroke-width:0.5;\" x=\"65.2863\" xlink:href=\"#m0779a72cf9\" y=\"112.611006\"/>\n     <use style=\"fill:#808080;stroke:#808080;stroke-width:0.5;\" x=\"65.2863\" xlink:href=\"#m0779a72cf9\" y=\"85.807925\"/>\n     <use style=\"fill:#808080;stroke:#808080;stroke-width:0.5;\" x=\"65.2863\" xlink:href=\"#m0779a72cf9\" y=\"59.004843\"/>\n     <use style=\"fill:#808080;stroke:#808080;stroke-width:0.5;\" x=\"65.2863\" xlink:href=\"#m0779a72cf9\" y=\"32.201761\"/>\n     <use style=\"fill:#808080;stroke:#808080;stroke-width:0.5;\" x=\"69.573111\" xlink:href=\"#m0779a72cf9\" y=\"229.874489\"/>\n     <use style=\"fill:#808080;stroke:#808080;stroke-width:0.5;\" x=\"69.573111\" xlink:href=\"#m0779a72cf9\" y=\"203.071407\"/>\n     <use style=\"fill:#808080;stroke:#808080;stroke-width:0.5;\" x=\"69.573111\" xlink:href=\"#m0779a72cf9\" y=\"176.268325\"/>\n     <use style=\"fill:#808080;stroke:#808080;stroke-width:0.5;\" x=\"69.573111\" xlink:href=\"#m0779a72cf9\" y=\"149.465244\"/>\n     <use style=\"fill:#808080;stroke:#808080;stroke-width:0.5;\" x=\"69.573111\" xlink:href=\"#m0779a72cf9\" y=\"122.662162\"/>\n     <use style=\"fill:#808080;stroke:#808080;stroke-width:0.5;\" x=\"69.573111\" xlink:href=\"#m0779a72cf9\" y=\"95.85908\"/>\n     <use style=\"fill:#808080;stroke:#808080;stroke-width:0.5;\" x=\"69.573111\" xlink:href=\"#m0779a72cf9\" y=\"69.055999\"/>\n     <use style=\"fill:#808080;stroke:#808080;stroke-width:0.5;\" x=\"69.573111\" xlink:href=\"#m0779a72cf9\" y=\"42.252917\"/>\n     <use style=\"fill:#808080;stroke:#808080;stroke-width:0.5;\" x=\"108.154417\" xlink:href=\"#m0779a72cf9\" y=\"219.823333\"/>\n     <use style=\"fill:#808080;stroke:#808080;stroke-width:0.5;\" x=\"108.154417\" xlink:href=\"#m0779a72cf9\" y=\"193.020251\"/>\n     <use style=\"fill:#808080;stroke:#808080;stroke-width:0.5;\" x=\"108.154417\" xlink:href=\"#m0779a72cf9\" y=\"166.21717\"/>\n     <use style=\"fill:#808080;stroke:#808080;stroke-width:0.5;\" x=\"108.154417\" xlink:href=\"#m0779a72cf9\" y=\"139.414088\"/>\n     <use style=\"fill:#808080;stroke:#808080;stroke-width:0.5;\" x=\"108.154417\" xlink:href=\"#m0779a72cf9\" y=\"112.611006\"/>\n     <use style=\"fill:#808080;stroke:#808080;stroke-width:0.5;\" x=\"108.154417\" xlink:href=\"#m0779a72cf9\" y=\"85.807925\"/>\n     <use style=\"fill:#808080;stroke:#808080;stroke-width:0.5;\" x=\"108.154417\" xlink:href=\"#m0779a72cf9\" y=\"59.004843\"/>\n     <use style=\"fill:#808080;stroke:#808080;stroke-width:0.5;\" x=\"108.154417\" xlink:href=\"#m0779a72cf9\" y=\"32.201761\"/>\n     <use style=\"fill:#808080;stroke:#808080;stroke-width:0.5;\" x=\"112.441229\" xlink:href=\"#m0779a72cf9\" y=\"229.874489\"/>\n     <use style=\"fill:#808080;stroke:#808080;stroke-width:0.5;\" x=\"112.441229\" xlink:href=\"#m0779a72cf9\" y=\"203.071407\"/>\n     <use style=\"fill:#808080;stroke:#808080;stroke-width:0.5;\" x=\"112.441229\" xlink:href=\"#m0779a72cf9\" y=\"176.268325\"/>\n     <use style=\"fill:#808080;stroke:#808080;stroke-width:0.5;\" x=\"112.441229\" xlink:href=\"#m0779a72cf9\" y=\"149.465244\"/>\n     <use style=\"fill:#808080;stroke:#808080;stroke-width:0.5;\" x=\"112.441229\" xlink:href=\"#m0779a72cf9\" y=\"122.662162\"/>\n     <use style=\"fill:#808080;stroke:#808080;stroke-width:0.5;\" x=\"112.441229\" xlink:href=\"#m0779a72cf9\" y=\"95.85908\"/>\n     <use style=\"fill:#808080;stroke:#808080;stroke-width:0.5;\" x=\"112.441229\" xlink:href=\"#m0779a72cf9\" y=\"69.055999\"/>\n     <use style=\"fill:#808080;stroke:#808080;stroke-width:0.5;\" x=\"112.441229\" xlink:href=\"#m0779a72cf9\" y=\"42.252917\"/>\n     <use style=\"fill:#808080;stroke:#808080;stroke-width:0.5;\" x=\"151.022535\" xlink:href=\"#m0779a72cf9\" y=\"219.823333\"/>\n     <use style=\"fill:#808080;stroke:#808080;stroke-width:0.5;\" x=\"151.022535\" xlink:href=\"#m0779a72cf9\" y=\"193.020251\"/>\n     <use style=\"fill:#808080;stroke:#808080;stroke-width:0.5;\" x=\"151.022535\" xlink:href=\"#m0779a72cf9\" y=\"166.21717\"/>\n     <use style=\"fill:#808080;stroke:#808080;stroke-width:0.5;\" x=\"151.022535\" xlink:href=\"#m0779a72cf9\" y=\"139.414088\"/>\n     <use style=\"fill:#808080;stroke:#808080;stroke-width:0.5;\" x=\"151.022535\" xlink:href=\"#m0779a72cf9\" y=\"112.611006\"/>\n     <use style=\"fill:#808080;stroke:#808080;stroke-width:0.5;\" x=\"151.022535\" xlink:href=\"#m0779a72cf9\" y=\"85.807925\"/>\n     <use style=\"fill:#808080;stroke:#808080;stroke-width:0.5;\" x=\"151.022535\" xlink:href=\"#m0779a72cf9\" y=\"59.004843\"/>\n     <use style=\"fill:#808080;stroke:#808080;stroke-width:0.5;\" x=\"151.022535\" xlink:href=\"#m0779a72cf9\" y=\"32.201761\"/>\n     <use style=\"fill:#808080;stroke:#808080;stroke-width:0.5;\" x=\"155.309347\" xlink:href=\"#m0779a72cf9\" y=\"229.874489\"/>\n     <use style=\"fill:#808080;stroke:#808080;stroke-width:0.5;\" x=\"155.309347\" xlink:href=\"#m0779a72cf9\" y=\"203.071407\"/>\n     <use style=\"fill:#808080;stroke:#808080;stroke-width:0.5;\" x=\"155.309347\" xlink:href=\"#m0779a72cf9\" y=\"176.268325\"/>\n     <use style=\"fill:#808080;stroke:#808080;stroke-width:0.5;\" x=\"155.309347\" xlink:href=\"#m0779a72cf9\" y=\"149.465244\"/>\n     <use style=\"fill:#808080;stroke:#808080;stroke-width:0.5;\" x=\"155.309347\" xlink:href=\"#m0779a72cf9\" y=\"122.662162\"/>\n     <use style=\"fill:#808080;stroke:#808080;stroke-width:0.5;\" x=\"155.309347\" xlink:href=\"#m0779a72cf9\" y=\"95.85908\"/>\n     <use style=\"fill:#808080;stroke:#808080;stroke-width:0.5;\" x=\"155.309347\" xlink:href=\"#m0779a72cf9\" y=\"69.055999\"/>\n     <use style=\"fill:#808080;stroke:#808080;stroke-width:0.5;\" x=\"155.309347\" xlink:href=\"#m0779a72cf9\" y=\"42.252917\"/>\n     <use style=\"fill:#808080;stroke:#808080;stroke-width:0.5;\" x=\"193.890653\" xlink:href=\"#m0779a72cf9\" y=\"219.823333\"/>\n     <use style=\"fill:#808080;stroke:#808080;stroke-width:0.5;\" x=\"193.890653\" xlink:href=\"#m0779a72cf9\" y=\"193.020251\"/>\n     <use style=\"fill:#808080;stroke:#808080;stroke-width:0.5;\" x=\"193.890653\" xlink:href=\"#m0779a72cf9\" y=\"166.21717\"/>\n     <use style=\"fill:#808080;stroke:#808080;stroke-width:0.5;\" x=\"193.890653\" xlink:href=\"#m0779a72cf9\" y=\"139.414088\"/>\n     <use style=\"fill:#808080;stroke:#808080;stroke-width:0.5;\" x=\"193.890653\" xlink:href=\"#m0779a72cf9\" y=\"112.611006\"/>\n     <use style=\"fill:#808080;stroke:#808080;stroke-width:0.5;\" x=\"193.890653\" xlink:href=\"#m0779a72cf9\" y=\"85.807925\"/>\n     <use style=\"fill:#808080;stroke:#808080;stroke-width:0.5;\" x=\"193.890653\" xlink:href=\"#m0779a72cf9\" y=\"59.004843\"/>\n     <use style=\"fill:#808080;stroke:#808080;stroke-width:0.5;\" x=\"193.890653\" xlink:href=\"#m0779a72cf9\" y=\"32.201761\"/>\n     <use style=\"fill:#808080;stroke:#808080;stroke-width:0.5;\" x=\"198.177465\" xlink:href=\"#m0779a72cf9\" y=\"229.874489\"/>\n     <use style=\"fill:#808080;stroke:#808080;stroke-width:0.5;\" x=\"198.177465\" xlink:href=\"#m0779a72cf9\" y=\"203.071407\"/>\n     <use style=\"fill:#808080;stroke:#808080;stroke-width:0.5;\" x=\"198.177465\" xlink:href=\"#m0779a72cf9\" y=\"176.268325\"/>\n     <use style=\"fill:#808080;stroke:#808080;stroke-width:0.5;\" x=\"198.177465\" xlink:href=\"#m0779a72cf9\" y=\"149.465244\"/>\n     <use style=\"fill:#808080;stroke:#808080;stroke-width:0.5;\" x=\"198.177465\" xlink:href=\"#m0779a72cf9\" y=\"122.662162\"/>\n     <use style=\"fill:#808080;stroke:#808080;stroke-width:0.5;\" x=\"198.177465\" xlink:href=\"#m0779a72cf9\" y=\"95.85908\"/>\n     <use style=\"fill:#808080;stroke:#808080;stroke-width:0.5;\" x=\"198.177465\" xlink:href=\"#m0779a72cf9\" y=\"69.055999\"/>\n     <use style=\"fill:#808080;stroke:#808080;stroke-width:0.5;\" x=\"198.177465\" xlink:href=\"#m0779a72cf9\" y=\"42.252917\"/>\n     <use style=\"fill:#808080;stroke:#808080;stroke-width:0.5;\" x=\"236.758771\" xlink:href=\"#m0779a72cf9\" y=\"219.823333\"/>\n     <use style=\"fill:#808080;stroke:#808080;stroke-width:0.5;\" x=\"236.758771\" xlink:href=\"#m0779a72cf9\" y=\"193.020251\"/>\n     <use style=\"fill:#808080;stroke:#808080;stroke-width:0.5;\" x=\"236.758771\" xlink:href=\"#m0779a72cf9\" y=\"166.21717\"/>\n     <use style=\"fill:#808080;stroke:#808080;stroke-width:0.5;\" x=\"236.758771\" xlink:href=\"#m0779a72cf9\" y=\"139.414088\"/>\n     <use style=\"fill:#808080;stroke:#808080;stroke-width:0.5;\" x=\"236.758771\" xlink:href=\"#m0779a72cf9\" y=\"112.611006\"/>\n     <use style=\"fill:#808080;stroke:#808080;stroke-width:0.5;\" x=\"236.758771\" xlink:href=\"#m0779a72cf9\" y=\"85.807925\"/>\n     <use style=\"fill:#808080;stroke:#808080;stroke-width:0.5;\" x=\"236.758771\" xlink:href=\"#m0779a72cf9\" y=\"59.004843\"/>\n     <use style=\"fill:#808080;stroke:#808080;stroke-width:0.5;\" x=\"236.758771\" xlink:href=\"#m0779a72cf9\" y=\"32.201761\"/>\n     <use style=\"fill:#808080;stroke:#808080;stroke-width:0.5;\" x=\"241.045583\" xlink:href=\"#m0779a72cf9\" y=\"229.874489\"/>\n     <use style=\"fill:#808080;stroke:#808080;stroke-width:0.5;\" x=\"241.045583\" xlink:href=\"#m0779a72cf9\" y=\"203.071407\"/>\n     <use style=\"fill:#808080;stroke:#808080;stroke-width:0.5;\" x=\"241.045583\" xlink:href=\"#m0779a72cf9\" y=\"176.268325\"/>\n     <use style=\"fill:#808080;stroke:#808080;stroke-width:0.5;\" x=\"241.045583\" xlink:href=\"#m0779a72cf9\" y=\"149.465244\"/>\n     <use style=\"fill:#808080;stroke:#808080;stroke-width:0.5;\" x=\"241.045583\" xlink:href=\"#m0779a72cf9\" y=\"122.662162\"/>\n     <use style=\"fill:#808080;stroke:#808080;stroke-width:0.5;\" x=\"241.045583\" xlink:href=\"#m0779a72cf9\" y=\"95.85908\"/>\n     <use style=\"fill:#808080;stroke:#808080;stroke-width:0.5;\" x=\"241.045583\" xlink:href=\"#m0779a72cf9\" y=\"69.055999\"/>\n     <use style=\"fill:#808080;stroke:#808080;stroke-width:0.5;\" x=\"241.045583\" xlink:href=\"#m0779a72cf9\" y=\"42.252917\"/>\n     <use style=\"fill:#808080;stroke:#808080;stroke-width:0.5;\" x=\"279.626889\" xlink:href=\"#m0779a72cf9\" y=\"219.823333\"/>\n     <use style=\"fill:#808080;stroke:#808080;stroke-width:0.5;\" x=\"279.626889\" xlink:href=\"#m0779a72cf9\" y=\"193.020251\"/>\n     <use style=\"fill:#808080;stroke:#808080;stroke-width:0.5;\" x=\"279.626889\" xlink:href=\"#m0779a72cf9\" y=\"166.21717\"/>\n     <use style=\"fill:#808080;stroke:#808080;stroke-width:0.5;\" x=\"279.626889\" xlink:href=\"#m0779a72cf9\" y=\"139.414088\"/>\n     <use style=\"fill:#808080;stroke:#808080;stroke-width:0.5;\" x=\"279.626889\" xlink:href=\"#m0779a72cf9\" y=\"112.611006\"/>\n     <use style=\"fill:#808080;stroke:#808080;stroke-width:0.5;\" x=\"279.626889\" xlink:href=\"#m0779a72cf9\" y=\"85.807925\"/>\n     <use style=\"fill:#808080;stroke:#808080;stroke-width:0.5;\" x=\"279.626889\" xlink:href=\"#m0779a72cf9\" y=\"59.004843\"/>\n     <use style=\"fill:#808080;stroke:#808080;stroke-width:0.5;\" x=\"279.626889\" xlink:href=\"#m0779a72cf9\" y=\"32.201761\"/>\n     <use style=\"fill:#808080;stroke:#808080;stroke-width:0.5;\" x=\"283.9137\" xlink:href=\"#m0779a72cf9\" y=\"229.874489\"/>\n     <use style=\"fill:#808080;stroke:#808080;stroke-width:0.5;\" x=\"283.9137\" xlink:href=\"#m0779a72cf9\" y=\"203.071407\"/>\n     <use style=\"fill:#808080;stroke:#808080;stroke-width:0.5;\" x=\"283.9137\" xlink:href=\"#m0779a72cf9\" y=\"176.268325\"/>\n     <use style=\"fill:#808080;stroke:#808080;stroke-width:0.5;\" x=\"283.9137\" xlink:href=\"#m0779a72cf9\" y=\"149.465244\"/>\n     <use style=\"fill:#808080;stroke:#808080;stroke-width:0.5;\" x=\"283.9137\" xlink:href=\"#m0779a72cf9\" y=\"122.662162\"/>\n     <use style=\"fill:#808080;stroke:#808080;stroke-width:0.5;\" x=\"283.9137\" xlink:href=\"#m0779a72cf9\" y=\"95.85908\"/>\n     <use style=\"fill:#808080;stroke:#808080;stroke-width:0.5;\" x=\"283.9137\" xlink:href=\"#m0779a72cf9\" y=\"69.055999\"/>\n     <use style=\"fill:#808080;stroke:#808080;stroke-width:0.5;\" x=\"283.9137\" xlink:href=\"#m0779a72cf9\" y=\"42.252917\"/>\n     <use style=\"fill:#808080;stroke:#808080;stroke-width:0.5;\" x=\"322.495006\" xlink:href=\"#m0779a72cf9\" y=\"219.823333\"/>\n     <use style=\"fill:#808080;stroke:#808080;stroke-width:0.5;\" x=\"322.495006\" xlink:href=\"#m0779a72cf9\" y=\"193.020251\"/>\n     <use style=\"fill:#808080;stroke:#808080;stroke-width:0.5;\" x=\"322.495006\" xlink:href=\"#m0779a72cf9\" y=\"166.21717\"/>\n     <use style=\"fill:#808080;stroke:#808080;stroke-width:0.5;\" x=\"322.495006\" xlink:href=\"#m0779a72cf9\" y=\"139.414088\"/>\n     <use style=\"fill:#808080;stroke:#808080;stroke-width:0.5;\" x=\"322.495006\" xlink:href=\"#m0779a72cf9\" y=\"112.611006\"/>\n     <use style=\"fill:#808080;stroke:#808080;stroke-width:0.5;\" x=\"322.495006\" xlink:href=\"#m0779a72cf9\" y=\"85.807925\"/>\n     <use style=\"fill:#808080;stroke:#808080;stroke-width:0.5;\" x=\"322.495006\" xlink:href=\"#m0779a72cf9\" y=\"59.004843\"/>\n     <use style=\"fill:#808080;stroke:#808080;stroke-width:0.5;\" x=\"322.495006\" xlink:href=\"#m0779a72cf9\" y=\"32.201761\"/>\n     <use style=\"fill:#808080;stroke:#808080;stroke-width:0.5;\" x=\"326.781818\" xlink:href=\"#m0779a72cf9\" y=\"229.874489\"/>\n     <use style=\"fill:#808080;stroke:#808080;stroke-width:0.5;\" x=\"326.781818\" xlink:href=\"#m0779a72cf9\" y=\"203.071407\"/>\n     <use style=\"fill:#808080;stroke:#808080;stroke-width:0.5;\" x=\"326.781818\" xlink:href=\"#m0779a72cf9\" y=\"176.268325\"/>\n     <use style=\"fill:#808080;stroke:#808080;stroke-width:0.5;\" x=\"326.781818\" xlink:href=\"#m0779a72cf9\" y=\"149.465244\"/>\n     <use style=\"fill:#808080;stroke:#808080;stroke-width:0.5;\" x=\"326.781818\" xlink:href=\"#m0779a72cf9\" y=\"122.662162\"/>\n     <use style=\"fill:#808080;stroke:#808080;stroke-width:0.5;\" x=\"326.781818\" xlink:href=\"#m0779a72cf9\" y=\"95.85908\"/>\n     <use style=\"fill:#808080;stroke:#808080;stroke-width:0.5;\" x=\"326.781818\" xlink:href=\"#m0779a72cf9\" y=\"69.055999\"/>\n     <use style=\"fill:#808080;stroke:#808080;stroke-width:0.5;\" x=\"326.781818\" xlink:href=\"#m0779a72cf9\" y=\"42.252917\"/>\n    </g>\n   </g>\n   <g id=\"PathCollection_2\">\n    <defs>\n     <path d=\"M 0 1.936492 \nC 0.513564 1.936492 1.006162 1.732451 1.369306 1.369306 \nC 1.732451 1.006162 1.936492 0.513564 1.936492 0 \nC 1.936492 -0.513564 1.732451 -1.006162 1.369306 -1.369306 \nC 1.006162 -1.732451 0.513564 -1.936492 0 -1.936492 \nC -0.513564 -1.936492 -1.006162 -1.732451 -1.369306 -1.369306 \nC -1.732451 -1.006162 -1.936492 -0.513564 -1.936492 0 \nC -1.936492 0.513564 -1.732451 1.006162 -1.369306 1.369306 \nC -1.006162 1.732451 -0.513564 1.936492 0 1.936492 \nz\n\" id=\"m7a7cb7ece3\" style=\"stroke:#ff5252;\"/>\n    </defs>\n    <g clip-path=\"url(#p0458650349)\">\n     <use style=\"fill:#ff5252;stroke:#ff5252;\" x=\"151.022535\" xlink:href=\"#m7a7cb7ece3\" y=\"85.807925\"/>\n    </g>\n   </g>\n   <g id=\"text_1\">\n    <!-- 8 -->\n    <g transform=\"translate(22.418182 219.823333)scale(0.08 -0.08)\">\n     <defs>\n      <path d=\"M 2034 2216 \nQ 1584 2216 1326 1975 \nQ 1069 1734 1069 1313 \nQ 1069 891 1326 650 \nQ 1584 409 2034 409 \nQ 2484 409 2743 651 \nQ 3003 894 3003 1313 \nQ 3003 1734 2745 1975 \nQ 2488 2216 2034 2216 \nz\nM 1403 2484 \nQ 997 2584 770 2862 \nQ 544 3141 544 3541 \nQ 544 4100 942 4425 \nQ 1341 4750 2034 4750 \nQ 2731 4750 3128 4425 \nQ 3525 4100 3525 3541 \nQ 3525 3141 3298 2862 \nQ 3072 2584 2669 2484 \nQ 3125 2378 3379 2068 \nQ 3634 1759 3634 1313 \nQ 3634 634 3220 271 \nQ 2806 -91 2034 -91 \nQ 1263 -91 848 271 \nQ 434 634 434 1313 \nQ 434 1759 690 2068 \nQ 947 2378 1403 2484 \nz\nM 1172 3481 \nQ 1172 3119 1398 2916 \nQ 1625 2713 2034 2713 \nQ 2441 2713 2670 2916 \nQ 2900 3119 2900 3481 \nQ 2900 3844 2670 4047 \nQ 2441 4250 2034 4250 \nQ 1625 4250 1398 4047 \nQ 1172 3844 1172 3481 \nz\n\" id=\"DejaVuSans-38\" transform=\"scale(0.015625)\"/>\n     </defs>\n     <use xlink:href=\"#DejaVuSans-38\"/>\n    </g>\n   </g>\n   <g id=\"text_2\">\n    <!-- 9 -->\n    <g transform=\"translate(22.418182 193.020251)scale(0.08 -0.08)\">\n     <defs>\n      <path d=\"M 703 97 \nL 703 672 \nQ 941 559 1184 500 \nQ 1428 441 1663 441 \nQ 2288 441 2617 861 \nQ 2947 1281 2994 2138 \nQ 2813 1869 2534 1725 \nQ 2256 1581 1919 1581 \nQ 1219 1581 811 2004 \nQ 403 2428 403 3163 \nQ 403 3881 828 4315 \nQ 1253 4750 1959 4750 \nQ 2769 4750 3195 4129 \nQ 3622 3509 3622 2328 \nQ 3622 1225 3098 567 \nQ 2575 -91 1691 -91 \nQ 1453 -91 1209 -44 \nQ 966 3 703 97 \nz\nM 1959 2075 \nQ 2384 2075 2632 2365 \nQ 2881 2656 2881 3163 \nQ 2881 3666 2632 3958 \nQ 2384 4250 1959 4250 \nQ 1534 4250 1286 3958 \nQ 1038 3666 1038 3163 \nQ 1038 2656 1286 2365 \nQ 1534 2075 1959 2075 \nz\n\" id=\"DejaVuSans-39\" transform=\"scale(0.015625)\"/>\n     </defs>\n     <use xlink:href=\"#DejaVuSans-39\"/>\n    </g>\n   </g>\n   <g id=\"text_3\">\n    <!-- 10 -->\n    <g transform=\"translate(22.418182 166.21717)scale(0.08 -0.08)\">\n     <defs>\n      <path d=\"M 794 531 \nL 1825 531 \nL 1825 4091 \nL 703 3866 \nL 703 4441 \nL 1819 4666 \nL 2450 4666 \nL 2450 531 \nL 3481 531 \nL 3481 0 \nL 794 0 \nL 794 531 \nz\n\" id=\"DejaVuSans-31\" transform=\"scale(0.015625)\"/>\n      <path d=\"M 2034 4250 \nQ 1547 4250 1301 3770 \nQ 1056 3291 1056 2328 \nQ 1056 1369 1301 889 \nQ 1547 409 2034 409 \nQ 2525 409 2770 889 \nQ 3016 1369 3016 2328 \nQ 3016 3291 2770 3770 \nQ 2525 4250 2034 4250 \nz\nM 2034 4750 \nQ 2819 4750 3233 4129 \nQ 3647 3509 3647 2328 \nQ 3647 1150 3233 529 \nQ 2819 -91 2034 -91 \nQ 1250 -91 836 529 \nQ 422 1150 422 2328 \nQ 422 3509 836 4129 \nQ 1250 4750 2034 4750 \nz\n\" id=\"DejaVuSans-30\" transform=\"scale(0.015625)\"/>\n     </defs>\n     <use xlink:href=\"#DejaVuSans-31\"/>\n     <use x=\"63.623047\" xlink:href=\"#DejaVuSans-30\"/>\n    </g>\n   </g>\n   <g id=\"text_4\">\n    <!-- 11 -->\n    <g transform=\"translate(22.418182 139.414088)scale(0.08 -0.08)\">\n     <use xlink:href=\"#DejaVuSans-31\"/>\n     <use x=\"63.623047\" xlink:href=\"#DejaVuSans-31\"/>\n    </g>\n   </g>\n   <g id=\"text_5\">\n    <!-- 12 -->\n    <g transform=\"translate(22.418182 112.611006)scale(0.08 -0.08)\">\n     <defs>\n      <path d=\"M 1228 531 \nL 3431 531 \nL 3431 0 \nL 469 0 \nL 469 531 \nQ 828 903 1448 1529 \nQ 2069 2156 2228 2338 \nQ 2531 2678 2651 2914 \nQ 2772 3150 2772 3378 \nQ 2772 3750 2511 3984 \nQ 2250 4219 1831 4219 \nQ 1534 4219 1204 4116 \nQ 875 4013 500 3803 \nL 500 4441 \nQ 881 4594 1212 4672 \nQ 1544 4750 1819 4750 \nQ 2544 4750 2975 4387 \nQ 3406 4025 3406 3419 \nQ 3406 3131 3298 2873 \nQ 3191 2616 2906 2266 \nQ 2828 2175 2409 1742 \nQ 1991 1309 1228 531 \nz\n\" id=\"DejaVuSans-32\" transform=\"scale(0.015625)\"/>\n     </defs>\n     <use xlink:href=\"#DejaVuSans-31\"/>\n     <use x=\"63.623047\" xlink:href=\"#DejaVuSans-32\"/>\n    </g>\n   </g>\n   <g id=\"text_6\">\n    <!-- 15 -->\n    <g transform=\"translate(22.418182 85.807925)scale(0.08 -0.08)\">\n     <defs>\n      <path d=\"M 691 4666 \nL 3169 4666 \nL 3169 4134 \nL 1269 4134 \nL 1269 2991 \nQ 1406 3038 1543 3061 \nQ 1681 3084 1819 3084 \nQ 2600 3084 3056 2656 \nQ 3513 2228 3513 1497 \nQ 3513 744 3044 326 \nQ 2575 -91 1722 -91 \nQ 1428 -91 1123 -41 \nQ 819 9 494 109 \nL 494 744 \nQ 775 591 1075 516 \nQ 1375 441 1709 441 \nQ 2250 441 2565 725 \nQ 2881 1009 2881 1497 \nQ 2881 1984 2565 2268 \nQ 2250 2553 1709 2553 \nQ 1456 2553 1204 2497 \nQ 953 2441 691 2322 \nL 691 4666 \nz\n\" id=\"DejaVuSans-35\" transform=\"scale(0.015625)\"/>\n     </defs>\n     <use xlink:href=\"#DejaVuSans-31\"/>\n     <use x=\"63.623047\" xlink:href=\"#DejaVuSans-35\"/>\n    </g>\n   </g>\n   <g id=\"text_7\">\n    <!-- 14 -->\n    <g transform=\"translate(22.418182 59.004843)scale(0.08 -0.08)\">\n     <defs>\n      <path d=\"M 2419 4116 \nL 825 1625 \nL 2419 1625 \nL 2419 4116 \nz\nM 2253 4666 \nL 3047 4666 \nL 3047 1625 \nL 3713 1625 \nL 3713 1100 \nL 3047 1100 \nL 3047 0 \nL 2419 0 \nL 2419 1100 \nL 313 1100 \nL 313 1709 \nL 2253 4666 \nz\n\" id=\"DejaVuSans-34\" transform=\"scale(0.015625)\"/>\n     </defs>\n     <use xlink:href=\"#DejaVuSans-31\"/>\n     <use x=\"63.623047\" xlink:href=\"#DejaVuSans-34\"/>\n    </g>\n   </g>\n   <g id=\"text_8\">\n    <!-- 13 -->\n    <g transform=\"translate(22.418182 32.201761)scale(0.08 -0.08)\">\n     <defs>\n      <path d=\"M 2597 2516 \nQ 3050 2419 3304 2112 \nQ 3559 1806 3559 1356 \nQ 3559 666 3084 287 \nQ 2609 -91 1734 -91 \nQ 1441 -91 1130 -33 \nQ 819 25 488 141 \nL 488 750 \nQ 750 597 1062 519 \nQ 1375 441 1716 441 \nQ 2309 441 2620 675 \nQ 2931 909 2931 1356 \nQ 2931 1769 2642 2001 \nQ 2353 2234 1838 2234 \nL 1294 2234 \nL 1294 2753 \nL 1863 2753 \nQ 2328 2753 2575 2939 \nQ 2822 3125 2822 3475 \nQ 2822 3834 2567 4026 \nQ 2313 4219 1838 4219 \nQ 1578 4219 1281 4162 \nQ 984 4106 628 3988 \nL 628 4550 \nQ 988 4650 1302 4700 \nQ 1616 4750 1894 4750 \nQ 2613 4750 3031 4423 \nQ 3450 4097 3450 3541 \nQ 3450 3153 3228 2886 \nQ 3006 2619 2597 2516 \nz\n\" id=\"DejaVuSans-33\" transform=\"scale(0.015625)\"/>\n     </defs>\n     <use xlink:href=\"#DejaVuSans-31\"/>\n     <use x=\"63.623047\" xlink:href=\"#DejaVuSans-33\"/>\n    </g>\n   </g>\n   <g id=\"text_9\">\n    <!-- 7 -->\n    <g transform=\"translate(26.704994 229.874489)scale(0.08 -0.08)\">\n     <defs>\n      <path d=\"M 525 4666 \nL 3525 4666 \nL 3525 4397 \nL 1831 0 \nL 1172 0 \nL 2766 4134 \nL 525 4134 \nL 525 4666 \nz\n\" id=\"DejaVuSans-37\" transform=\"scale(0.015625)\"/>\n     </defs>\n     <use xlink:href=\"#DejaVuSans-37\"/>\n    </g>\n   </g>\n   <g id=\"text_10\">\n    <!-- 6 -->\n    <g transform=\"translate(26.704994 203.071407)scale(0.08 -0.08)\">\n     <defs>\n      <path d=\"M 2113 2584 \nQ 1688 2584 1439 2293 \nQ 1191 2003 1191 1497 \nQ 1191 994 1439 701 \nQ 1688 409 2113 409 \nQ 2538 409 2786 701 \nQ 3034 994 3034 1497 \nQ 3034 2003 2786 2293 \nQ 2538 2584 2113 2584 \nz\nM 3366 4563 \nL 3366 3988 \nQ 3128 4100 2886 4159 \nQ 2644 4219 2406 4219 \nQ 1781 4219 1451 3797 \nQ 1122 3375 1075 2522 \nQ 1259 2794 1537 2939 \nQ 1816 3084 2150 3084 \nQ 2853 3084 3261 2657 \nQ 3669 2231 3669 1497 \nQ 3669 778 3244 343 \nQ 2819 -91 2113 -91 \nQ 1303 -91 875 529 \nQ 447 1150 447 2328 \nQ 447 3434 972 4092 \nQ 1497 4750 2381 4750 \nQ 2619 4750 2861 4703 \nQ 3103 4656 3366 4563 \nz\n\" id=\"DejaVuSans-36\" transform=\"scale(0.015625)\"/>\n     </defs>\n     <use xlink:href=\"#DejaVuSans-36\"/>\n    </g>\n   </g>\n   <g id=\"text_11\">\n    <!-- 5 -->\n    <g transform=\"translate(26.704994 176.268325)scale(0.08 -0.08)\">\n     <use xlink:href=\"#DejaVuSans-35\"/>\n    </g>\n   </g>\n   <g id=\"text_12\">\n    <!-- 4 -->\n    <g transform=\"translate(26.704994 149.465244)scale(0.08 -0.08)\">\n     <use xlink:href=\"#DejaVuSans-34\"/>\n    </g>\n   </g>\n   <g id=\"text_13\">\n    <!-- 3 -->\n    <g transform=\"translate(26.704994 122.662162)scale(0.08 -0.08)\">\n     <use xlink:href=\"#DejaVuSans-33\"/>\n    </g>\n   </g>\n   <g id=\"text_14\">\n    <!-- 0 -->\n    <g transform=\"translate(26.704994 95.85908)scale(0.08 -0.08)\">\n     <use xlink:href=\"#DejaVuSans-30\"/>\n    </g>\n   </g>\n   <g id=\"text_15\">\n    <!-- 1 -->\n    <g transform=\"translate(26.704994 69.055999)scale(0.08 -0.08)\">\n     <use xlink:href=\"#DejaVuSans-31\"/>\n    </g>\n   </g>\n   <g id=\"text_16\">\n    <!-- 2 -->\n    <g transform=\"translate(26.704994 42.252917)scale(0.08 -0.08)\">\n     <use xlink:href=\"#DejaVuSans-32\"/>\n    </g>\n   </g>\n   <g id=\"text_17\">\n    <!-- 24 -->\n    <g transform=\"translate(65.2863 219.823333)scale(0.08 -0.08)\">\n     <use xlink:href=\"#DejaVuSans-32\"/>\n     <use x=\"63.623047\" xlink:href=\"#DejaVuSans-34\"/>\n    </g>\n   </g>\n   <g id=\"text_18\">\n    <!-- 25 -->\n    <g transform=\"translate(65.2863 193.020251)scale(0.08 -0.08)\">\n     <use xlink:href=\"#DejaVuSans-32\"/>\n     <use x=\"63.623047\" xlink:href=\"#DejaVuSans-35\"/>\n    </g>\n   </g>\n   <g id=\"text_19\">\n    <!-- 26 -->\n    <g transform=\"translate(65.2863 166.21717)scale(0.08 -0.08)\">\n     <use xlink:href=\"#DejaVuSans-32\"/>\n     <use x=\"63.623047\" xlink:href=\"#DejaVuSans-36\"/>\n    </g>\n   </g>\n   <g id=\"text_20\">\n    <!-- 27 -->\n    <g transform=\"translate(65.2863 139.414088)scale(0.08 -0.08)\">\n     <use xlink:href=\"#DejaVuSans-32\"/>\n     <use x=\"63.623047\" xlink:href=\"#DejaVuSans-37\"/>\n    </g>\n   </g>\n   <g id=\"text_21\">\n    <!-- 28 -->\n    <g transform=\"translate(65.2863 112.611006)scale(0.08 -0.08)\">\n     <use xlink:href=\"#DejaVuSans-32\"/>\n     <use x=\"63.623047\" xlink:href=\"#DejaVuSans-38\"/>\n    </g>\n   </g>\n   <g id=\"text_22\">\n    <!-- 31 -->\n    <g transform=\"translate(65.2863 85.807925)scale(0.08 -0.08)\">\n     <use xlink:href=\"#DejaVuSans-33\"/>\n     <use x=\"63.623047\" xlink:href=\"#DejaVuSans-31\"/>\n    </g>\n   </g>\n   <g id=\"text_23\">\n    <!-- 30 -->\n    <g transform=\"translate(65.2863 59.004843)scale(0.08 -0.08)\">\n     <use xlink:href=\"#DejaVuSans-33\"/>\n     <use x=\"63.623047\" xlink:href=\"#DejaVuSans-30\"/>\n    </g>\n   </g>\n   <g id=\"text_24\">\n    <!-- 29 -->\n    <g transform=\"translate(65.2863 32.201761)scale(0.08 -0.08)\">\n     <use xlink:href=\"#DejaVuSans-32\"/>\n     <use x=\"63.623047\" xlink:href=\"#DejaVuSans-39\"/>\n    </g>\n   </g>\n   <g id=\"text_25\">\n    <!-- 23 -->\n    <g transform=\"translate(69.573111 229.874489)scale(0.08 -0.08)\">\n     <use xlink:href=\"#DejaVuSans-32\"/>\n     <use x=\"63.623047\" xlink:href=\"#DejaVuSans-33\"/>\n    </g>\n   </g>\n   <g id=\"text_26\">\n    <!-- 22 -->\n    <g transform=\"translate(69.573111 203.071407)scale(0.08 -0.08)\">\n     <use xlink:href=\"#DejaVuSans-32\"/>\n     <use x=\"63.623047\" xlink:href=\"#DejaVuSans-32\"/>\n    </g>\n   </g>\n   <g id=\"text_27\">\n    <!-- 21 -->\n    <g transform=\"translate(69.573111 176.268325)scale(0.08 -0.08)\">\n     <use xlink:href=\"#DejaVuSans-32\"/>\n     <use x=\"63.623047\" xlink:href=\"#DejaVuSans-31\"/>\n    </g>\n   </g>\n   <g id=\"text_28\">\n    <!-- 20 -->\n    <g transform=\"translate(69.573111 149.465244)scale(0.08 -0.08)\">\n     <use xlink:href=\"#DejaVuSans-32\"/>\n     <use x=\"63.623047\" xlink:href=\"#DejaVuSans-30\"/>\n    </g>\n   </g>\n   <g id=\"text_29\">\n    <!-- 19 -->\n    <g transform=\"translate(69.573111 122.662162)scale(0.08 -0.08)\">\n     <use xlink:href=\"#DejaVuSans-31\"/>\n     <use x=\"63.623047\" xlink:href=\"#DejaVuSans-39\"/>\n    </g>\n   </g>\n   <g id=\"text_30\">\n    <!-- 16 -->\n    <g transform=\"translate(69.573111 95.85908)scale(0.08 -0.08)\">\n     <use xlink:href=\"#DejaVuSans-31\"/>\n     <use x=\"63.623047\" xlink:href=\"#DejaVuSans-36\"/>\n    </g>\n   </g>\n   <g id=\"text_31\">\n    <!-- 17 -->\n    <g transform=\"translate(69.573111 69.055999)scale(0.08 -0.08)\">\n     <use xlink:href=\"#DejaVuSans-31\"/>\n     <use x=\"63.623047\" xlink:href=\"#DejaVuSans-37\"/>\n    </g>\n   </g>\n   <g id=\"text_32\">\n    <!-- 18 -->\n    <g transform=\"translate(69.573111 42.252917)scale(0.08 -0.08)\">\n     <use xlink:href=\"#DejaVuSans-31\"/>\n     <use x=\"63.623047\" xlink:href=\"#DejaVuSans-38\"/>\n    </g>\n   </g>\n   <g id=\"text_33\">\n    <!-- 40 -->\n    <g transform=\"translate(108.154417 219.823333)scale(0.08 -0.08)\">\n     <use xlink:href=\"#DejaVuSans-34\"/>\n     <use x=\"63.623047\" xlink:href=\"#DejaVuSans-30\"/>\n    </g>\n   </g>\n   <g id=\"text_34\">\n    <!-- 41 -->\n    <g transform=\"translate(108.154417 193.020251)scale(0.08 -0.08)\">\n     <use xlink:href=\"#DejaVuSans-34\"/>\n     <use x=\"63.623047\" xlink:href=\"#DejaVuSans-31\"/>\n    </g>\n   </g>\n   <g id=\"text_35\">\n    <!-- 42 -->\n    <g transform=\"translate(108.154417 166.21717)scale(0.08 -0.08)\">\n     <use xlink:href=\"#DejaVuSans-34\"/>\n     <use x=\"63.623047\" xlink:href=\"#DejaVuSans-32\"/>\n    </g>\n   </g>\n   <g id=\"text_36\">\n    <!-- 43 -->\n    <g transform=\"translate(108.154417 139.414088)scale(0.08 -0.08)\">\n     <use xlink:href=\"#DejaVuSans-34\"/>\n     <use x=\"63.623047\" xlink:href=\"#DejaVuSans-33\"/>\n    </g>\n   </g>\n   <g id=\"text_37\">\n    <!-- 44 -->\n    <g transform=\"translate(108.154417 112.611006)scale(0.08 -0.08)\">\n     <use xlink:href=\"#DejaVuSans-34\"/>\n     <use x=\"63.623047\" xlink:href=\"#DejaVuSans-34\"/>\n    </g>\n   </g>\n   <g id=\"text_38\">\n    <!-- 47 -->\n    <g transform=\"translate(108.154417 85.807925)scale(0.08 -0.08)\">\n     <use xlink:href=\"#DejaVuSans-34\"/>\n     <use x=\"63.623047\" xlink:href=\"#DejaVuSans-37\"/>\n    </g>\n   </g>\n   <g id=\"text_39\">\n    <!-- 46 -->\n    <g transform=\"translate(108.154417 59.004843)scale(0.08 -0.08)\">\n     <use xlink:href=\"#DejaVuSans-34\"/>\n     <use x=\"63.623047\" xlink:href=\"#DejaVuSans-36\"/>\n    </g>\n   </g>\n   <g id=\"text_40\">\n    <!-- 45 -->\n    <g transform=\"translate(108.154417 32.201761)scale(0.08 -0.08)\">\n     <use xlink:href=\"#DejaVuSans-34\"/>\n     <use x=\"63.623047\" xlink:href=\"#DejaVuSans-35\"/>\n    </g>\n   </g>\n   <g id=\"text_41\">\n    <!-- 39 -->\n    <g transform=\"translate(112.441229 229.874489)scale(0.08 -0.08)\">\n     <use xlink:href=\"#DejaVuSans-33\"/>\n     <use x=\"63.623047\" xlink:href=\"#DejaVuSans-39\"/>\n    </g>\n   </g>\n   <g id=\"text_42\">\n    <!-- 38 -->\n    <g transform=\"translate(112.441229 203.071407)scale(0.08 -0.08)\">\n     <use xlink:href=\"#DejaVuSans-33\"/>\n     <use x=\"63.623047\" xlink:href=\"#DejaVuSans-38\"/>\n    </g>\n   </g>\n   <g id=\"text_43\">\n    <!-- 37 -->\n    <g transform=\"translate(112.441229 176.268325)scale(0.08 -0.08)\">\n     <use xlink:href=\"#DejaVuSans-33\"/>\n     <use x=\"63.623047\" xlink:href=\"#DejaVuSans-37\"/>\n    </g>\n   </g>\n   <g id=\"text_44\">\n    <!-- 36 -->\n    <g transform=\"translate(112.441229 149.465244)scale(0.08 -0.08)\">\n     <use xlink:href=\"#DejaVuSans-33\"/>\n     <use x=\"63.623047\" xlink:href=\"#DejaVuSans-36\"/>\n    </g>\n   </g>\n   <g id=\"text_45\">\n    <!-- 35 -->\n    <g transform=\"translate(112.441229 122.662162)scale(0.08 -0.08)\">\n     <use xlink:href=\"#DejaVuSans-33\"/>\n     <use x=\"63.623047\" xlink:href=\"#DejaVuSans-35\"/>\n    </g>\n   </g>\n   <g id=\"text_46\">\n    <!-- 32 -->\n    <g transform=\"translate(112.441229 95.85908)scale(0.08 -0.08)\">\n     <use xlink:href=\"#DejaVuSans-33\"/>\n     <use x=\"63.623047\" xlink:href=\"#DejaVuSans-32\"/>\n    </g>\n   </g>\n   <g id=\"text_47\">\n    <!-- 33 -->\n    <g transform=\"translate(112.441229 69.055999)scale(0.08 -0.08)\">\n     <use xlink:href=\"#DejaVuSans-33\"/>\n     <use x=\"63.623047\" xlink:href=\"#DejaVuSans-33\"/>\n    </g>\n   </g>\n   <g id=\"text_48\">\n    <!-- 34 -->\n    <g transform=\"translate(112.441229 42.252917)scale(0.08 -0.08)\">\n     <use xlink:href=\"#DejaVuSans-33\"/>\n     <use x=\"63.623047\" xlink:href=\"#DejaVuSans-34\"/>\n    </g>\n   </g>\n   <g id=\"text_49\">\n    <!-- 56 -->\n    <g transform=\"translate(151.022535 219.823333)scale(0.08 -0.08)\">\n     <use xlink:href=\"#DejaVuSans-35\"/>\n     <use x=\"63.623047\" xlink:href=\"#DejaVuSans-36\"/>\n    </g>\n   </g>\n   <g id=\"text_50\">\n    <!-- 57 -->\n    <g transform=\"translate(151.022535 193.020251)scale(0.08 -0.08)\">\n     <use xlink:href=\"#DejaVuSans-35\"/>\n     <use x=\"63.623047\" xlink:href=\"#DejaVuSans-37\"/>\n    </g>\n   </g>\n   <g id=\"text_51\">\n    <!-- 58 -->\n    <g transform=\"translate(151.022535 166.21717)scale(0.08 -0.08)\">\n     <use xlink:href=\"#DejaVuSans-35\"/>\n     <use x=\"63.623047\" xlink:href=\"#DejaVuSans-38\"/>\n    </g>\n   </g>\n   <g id=\"text_52\">\n    <!-- 59 -->\n    <g transform=\"translate(151.022535 139.414088)scale(0.08 -0.08)\">\n     <use xlink:href=\"#DejaVuSans-35\"/>\n     <use x=\"63.623047\" xlink:href=\"#DejaVuSans-39\"/>\n    </g>\n   </g>\n   <g id=\"text_53\">\n    <!-- 60 -->\n    <g transform=\"translate(151.022535 112.611006)scale(0.08 -0.08)\">\n     <use xlink:href=\"#DejaVuSans-36\"/>\n     <use x=\"63.623047\" xlink:href=\"#DejaVuSans-30\"/>\n    </g>\n   </g>\n   <g id=\"text_54\">\n    <!-- 63 -->\n    <g transform=\"translate(151.022535 85.807925)scale(0.08 -0.08)\">\n     <use xlink:href=\"#DejaVuSans-36\"/>\n     <use x=\"63.623047\" xlink:href=\"#DejaVuSans-33\"/>\n    </g>\n   </g>\n   <g id=\"text_55\">\n    <!-- 62 -->\n    <g transform=\"translate(151.022535 59.004843)scale(0.08 -0.08)\">\n     <use xlink:href=\"#DejaVuSans-36\"/>\n     <use x=\"63.623047\" xlink:href=\"#DejaVuSans-32\"/>\n    </g>\n   </g>\n   <g id=\"text_56\">\n    <!-- 61 -->\n    <g transform=\"translate(151.022535 32.201761)scale(0.08 -0.08)\">\n     <use xlink:href=\"#DejaVuSans-36\"/>\n     <use x=\"63.623047\" xlink:href=\"#DejaVuSans-31\"/>\n    </g>\n   </g>\n   <g id=\"text_57\">\n    <!-- 55 -->\n    <g transform=\"translate(155.309347 229.874489)scale(0.08 -0.08)\">\n     <use xlink:href=\"#DejaVuSans-35\"/>\n     <use x=\"63.623047\" xlink:href=\"#DejaVuSans-35\"/>\n    </g>\n   </g>\n   <g id=\"text_58\">\n    <!-- 54 -->\n    <g transform=\"translate(155.309347 203.071407)scale(0.08 -0.08)\">\n     <use xlink:href=\"#DejaVuSans-35\"/>\n     <use x=\"63.623047\" xlink:href=\"#DejaVuSans-34\"/>\n    </g>\n   </g>\n   <g id=\"text_59\">\n    <!-- 53 -->\n    <g transform=\"translate(155.309347 176.268325)scale(0.08 -0.08)\">\n     <use xlink:href=\"#DejaVuSans-35\"/>\n     <use x=\"63.623047\" xlink:href=\"#DejaVuSans-33\"/>\n    </g>\n   </g>\n   <g id=\"text_60\">\n    <!-- 52 -->\n    <g transform=\"translate(155.309347 149.465244)scale(0.08 -0.08)\">\n     <use xlink:href=\"#DejaVuSans-35\"/>\n     <use x=\"63.623047\" xlink:href=\"#DejaVuSans-32\"/>\n    </g>\n   </g>\n   <g id=\"text_61\">\n    <!-- 51 -->\n    <g transform=\"translate(155.309347 122.662162)scale(0.08 -0.08)\">\n     <use xlink:href=\"#DejaVuSans-35\"/>\n     <use x=\"63.623047\" xlink:href=\"#DejaVuSans-31\"/>\n    </g>\n   </g>\n   <g id=\"text_62\">\n    <!-- 48 -->\n    <g transform=\"translate(155.309347 95.85908)scale(0.08 -0.08)\">\n     <use xlink:href=\"#DejaVuSans-34\"/>\n     <use x=\"63.623047\" xlink:href=\"#DejaVuSans-38\"/>\n    </g>\n   </g>\n   <g id=\"text_63\">\n    <!-- 49 -->\n    <g transform=\"translate(155.309347 69.055999)scale(0.08 -0.08)\">\n     <use xlink:href=\"#DejaVuSans-34\"/>\n     <use x=\"63.623047\" xlink:href=\"#DejaVuSans-39\"/>\n    </g>\n   </g>\n   <g id=\"text_64\">\n    <!-- 50 -->\n    <g transform=\"translate(155.309347 42.252917)scale(0.08 -0.08)\">\n     <use xlink:href=\"#DejaVuSans-35\"/>\n     <use x=\"63.623047\" xlink:href=\"#DejaVuSans-30\"/>\n    </g>\n   </g>\n   <g id=\"text_65\">\n    <!-- 72 -->\n    <g transform=\"translate(193.890653 219.823333)scale(0.08 -0.08)\">\n     <use xlink:href=\"#DejaVuSans-37\"/>\n     <use x=\"63.623047\" xlink:href=\"#DejaVuSans-32\"/>\n    </g>\n   </g>\n   <g id=\"text_66\">\n    <!-- 73 -->\n    <g transform=\"translate(193.890653 193.020251)scale(0.08 -0.08)\">\n     <use xlink:href=\"#DejaVuSans-37\"/>\n     <use x=\"63.623047\" xlink:href=\"#DejaVuSans-33\"/>\n    </g>\n   </g>\n   <g id=\"text_67\">\n    <!-- 74 -->\n    <g transform=\"translate(193.890653 166.21717)scale(0.08 -0.08)\">\n     <use xlink:href=\"#DejaVuSans-37\"/>\n     <use x=\"63.623047\" xlink:href=\"#DejaVuSans-34\"/>\n    </g>\n   </g>\n   <g id=\"text_68\">\n    <!-- 75 -->\n    <g transform=\"translate(193.890653 139.414088)scale(0.08 -0.08)\">\n     <use xlink:href=\"#DejaVuSans-37\"/>\n     <use x=\"63.623047\" xlink:href=\"#DejaVuSans-35\"/>\n    </g>\n   </g>\n   <g id=\"text_69\">\n    <!-- 76 -->\n    <g transform=\"translate(193.890653 112.611006)scale(0.08 -0.08)\">\n     <use xlink:href=\"#DejaVuSans-37\"/>\n     <use x=\"63.623047\" xlink:href=\"#DejaVuSans-36\"/>\n    </g>\n   </g>\n   <g id=\"text_70\">\n    <!-- 79 -->\n    <g transform=\"translate(193.890653 85.807925)scale(0.08 -0.08)\">\n     <use xlink:href=\"#DejaVuSans-37\"/>\n     <use x=\"63.623047\" xlink:href=\"#DejaVuSans-39\"/>\n    </g>\n   </g>\n   <g id=\"text_71\">\n    <!-- 78 -->\n    <g transform=\"translate(193.890653 59.004843)scale(0.08 -0.08)\">\n     <use xlink:href=\"#DejaVuSans-37\"/>\n     <use x=\"63.623047\" xlink:href=\"#DejaVuSans-38\"/>\n    </g>\n   </g>\n   <g id=\"text_72\">\n    <!-- 77 -->\n    <g transform=\"translate(193.890653 32.201761)scale(0.08 -0.08)\">\n     <use xlink:href=\"#DejaVuSans-37\"/>\n     <use x=\"63.623047\" xlink:href=\"#DejaVuSans-37\"/>\n    </g>\n   </g>\n   <g id=\"text_73\">\n    <!-- 71 -->\n    <g transform=\"translate(198.177465 229.874489)scale(0.08 -0.08)\">\n     <use xlink:href=\"#DejaVuSans-37\"/>\n     <use x=\"63.623047\" xlink:href=\"#DejaVuSans-31\"/>\n    </g>\n   </g>\n   <g id=\"text_74\">\n    <!-- 70 -->\n    <g transform=\"translate(198.177465 203.071407)scale(0.08 -0.08)\">\n     <use xlink:href=\"#DejaVuSans-37\"/>\n     <use x=\"63.623047\" xlink:href=\"#DejaVuSans-30\"/>\n    </g>\n   </g>\n   <g id=\"text_75\">\n    <!-- 69 -->\n    <g transform=\"translate(198.177465 176.268325)scale(0.08 -0.08)\">\n     <use xlink:href=\"#DejaVuSans-36\"/>\n     <use x=\"63.623047\" xlink:href=\"#DejaVuSans-39\"/>\n    </g>\n   </g>\n   <g id=\"text_76\">\n    <!-- 68 -->\n    <g transform=\"translate(198.177465 149.465244)scale(0.08 -0.08)\">\n     <use xlink:href=\"#DejaVuSans-36\"/>\n     <use x=\"63.623047\" xlink:href=\"#DejaVuSans-38\"/>\n    </g>\n   </g>\n   <g id=\"text_77\">\n    <!-- 67 -->\n    <g transform=\"translate(198.177465 122.662162)scale(0.08 -0.08)\">\n     <use xlink:href=\"#DejaVuSans-36\"/>\n     <use x=\"63.623047\" xlink:href=\"#DejaVuSans-37\"/>\n    </g>\n   </g>\n   <g id=\"text_78\">\n    <!-- 64 -->\n    <g transform=\"translate(198.177465 95.85908)scale(0.08 -0.08)\">\n     <use xlink:href=\"#DejaVuSans-36\"/>\n     <use x=\"63.623047\" xlink:href=\"#DejaVuSans-34\"/>\n    </g>\n   </g>\n   <g id=\"text_79\">\n    <!-- 65 -->\n    <g transform=\"translate(198.177465 69.055999)scale(0.08 -0.08)\">\n     <use xlink:href=\"#DejaVuSans-36\"/>\n     <use x=\"63.623047\" xlink:href=\"#DejaVuSans-35\"/>\n    </g>\n   </g>\n   <g id=\"text_80\">\n    <!-- 66 -->\n    <g transform=\"translate(198.177465 42.252917)scale(0.08 -0.08)\">\n     <use xlink:href=\"#DejaVuSans-36\"/>\n     <use x=\"63.623047\" xlink:href=\"#DejaVuSans-36\"/>\n    </g>\n   </g>\n   <g id=\"text_81\">\n    <!-- 88 -->\n    <g transform=\"translate(236.758771 219.823333)scale(0.08 -0.08)\">\n     <use xlink:href=\"#DejaVuSans-38\"/>\n     <use x=\"63.623047\" xlink:href=\"#DejaVuSans-38\"/>\n    </g>\n   </g>\n   <g id=\"text_82\">\n    <!-- 89 -->\n    <g transform=\"translate(236.758771 193.020251)scale(0.08 -0.08)\">\n     <use xlink:href=\"#DejaVuSans-38\"/>\n     <use x=\"63.623047\" xlink:href=\"#DejaVuSans-39\"/>\n    </g>\n   </g>\n   <g id=\"text_83\">\n    <!-- 90 -->\n    <g transform=\"translate(236.758771 166.21717)scale(0.08 -0.08)\">\n     <use xlink:href=\"#DejaVuSans-39\"/>\n     <use x=\"63.623047\" xlink:href=\"#DejaVuSans-30\"/>\n    </g>\n   </g>\n   <g id=\"text_84\">\n    <!-- 91 -->\n    <g transform=\"translate(236.758771 139.414088)scale(0.08 -0.08)\">\n     <use xlink:href=\"#DejaVuSans-39\"/>\n     <use x=\"63.623047\" xlink:href=\"#DejaVuSans-31\"/>\n    </g>\n   </g>\n   <g id=\"text_85\">\n    <!-- 92 -->\n    <g transform=\"translate(236.758771 112.611006)scale(0.08 -0.08)\">\n     <use xlink:href=\"#DejaVuSans-39\"/>\n     <use x=\"63.623047\" xlink:href=\"#DejaVuSans-32\"/>\n    </g>\n   </g>\n   <g id=\"text_86\">\n    <!-- 95 -->\n    <g transform=\"translate(236.758771 85.807925)scale(0.08 -0.08)\">\n     <use xlink:href=\"#DejaVuSans-39\"/>\n     <use x=\"63.623047\" xlink:href=\"#DejaVuSans-35\"/>\n    </g>\n   </g>\n   <g id=\"text_87\">\n    <!-- 94 -->\n    <g transform=\"translate(236.758771 59.004843)scale(0.08 -0.08)\">\n     <use xlink:href=\"#DejaVuSans-39\"/>\n     <use x=\"63.623047\" xlink:href=\"#DejaVuSans-34\"/>\n    </g>\n   </g>\n   <g id=\"text_88\">\n    <!-- 93 -->\n    <g transform=\"translate(236.758771 32.201761)scale(0.08 -0.08)\">\n     <use xlink:href=\"#DejaVuSans-39\"/>\n     <use x=\"63.623047\" xlink:href=\"#DejaVuSans-33\"/>\n    </g>\n   </g>\n   <g id=\"text_89\">\n    <!-- 87 -->\n    <g transform=\"translate(241.045583 229.874489)scale(0.08 -0.08)\">\n     <use xlink:href=\"#DejaVuSans-38\"/>\n     <use x=\"63.623047\" xlink:href=\"#DejaVuSans-37\"/>\n    </g>\n   </g>\n   <g id=\"text_90\">\n    <!-- 86 -->\n    <g transform=\"translate(241.045583 203.071407)scale(0.08 -0.08)\">\n     <use xlink:href=\"#DejaVuSans-38\"/>\n     <use x=\"63.623047\" xlink:href=\"#DejaVuSans-36\"/>\n    </g>\n   </g>\n   <g id=\"text_91\">\n    <!-- 85 -->\n    <g transform=\"translate(241.045583 176.268325)scale(0.08 -0.08)\">\n     <use xlink:href=\"#DejaVuSans-38\"/>\n     <use x=\"63.623047\" xlink:href=\"#DejaVuSans-35\"/>\n    </g>\n   </g>\n   <g id=\"text_92\">\n    <!-- 84 -->\n    <g transform=\"translate(241.045583 149.465244)scale(0.08 -0.08)\">\n     <use xlink:href=\"#DejaVuSans-38\"/>\n     <use x=\"63.623047\" xlink:href=\"#DejaVuSans-34\"/>\n    </g>\n   </g>\n   <g id=\"text_93\">\n    <!-- 83 -->\n    <g transform=\"translate(241.045583 122.662162)scale(0.08 -0.08)\">\n     <use xlink:href=\"#DejaVuSans-38\"/>\n     <use x=\"63.623047\" xlink:href=\"#DejaVuSans-33\"/>\n    </g>\n   </g>\n   <g id=\"text_94\">\n    <!-- 80 -->\n    <g transform=\"translate(241.045583 95.85908)scale(0.08 -0.08)\">\n     <use xlink:href=\"#DejaVuSans-38\"/>\n     <use x=\"63.623047\" xlink:href=\"#DejaVuSans-30\"/>\n    </g>\n   </g>\n   <g id=\"text_95\">\n    <!-- 81 -->\n    <g transform=\"translate(241.045583 69.055999)scale(0.08 -0.08)\">\n     <use xlink:href=\"#DejaVuSans-38\"/>\n     <use x=\"63.623047\" xlink:href=\"#DejaVuSans-31\"/>\n    </g>\n   </g>\n   <g id=\"text_96\">\n    <!-- 82 -->\n    <g transform=\"translate(241.045583 42.252917)scale(0.08 -0.08)\">\n     <use xlink:href=\"#DejaVuSans-38\"/>\n     <use x=\"63.623047\" xlink:href=\"#DejaVuSans-32\"/>\n    </g>\n   </g>\n   <g id=\"text_97\">\n    <!-- 104 -->\n    <g transform=\"translate(279.626889 219.823333)scale(0.08 -0.08)\">\n     <use xlink:href=\"#DejaVuSans-31\"/>\n     <use x=\"63.623047\" xlink:href=\"#DejaVuSans-30\"/>\n     <use x=\"127.246094\" xlink:href=\"#DejaVuSans-34\"/>\n    </g>\n   </g>\n   <g id=\"text_98\">\n    <!-- 105 -->\n    <g transform=\"translate(279.626889 193.020251)scale(0.08 -0.08)\">\n     <use xlink:href=\"#DejaVuSans-31\"/>\n     <use x=\"63.623047\" xlink:href=\"#DejaVuSans-30\"/>\n     <use x=\"127.246094\" xlink:href=\"#DejaVuSans-35\"/>\n    </g>\n   </g>\n   <g id=\"text_99\">\n    <!-- 106 -->\n    <g transform=\"translate(279.626889 166.21717)scale(0.08 -0.08)\">\n     <use xlink:href=\"#DejaVuSans-31\"/>\n     <use x=\"63.623047\" xlink:href=\"#DejaVuSans-30\"/>\n     <use x=\"127.246094\" xlink:href=\"#DejaVuSans-36\"/>\n    </g>\n   </g>\n   <g id=\"text_100\">\n    <!-- 107 -->\n    <g transform=\"translate(279.626889 139.414088)scale(0.08 -0.08)\">\n     <use xlink:href=\"#DejaVuSans-31\"/>\n     <use x=\"63.623047\" xlink:href=\"#DejaVuSans-30\"/>\n     <use x=\"127.246094\" xlink:href=\"#DejaVuSans-37\"/>\n    </g>\n   </g>\n   <g id=\"text_101\">\n    <!-- 108 -->\n    <g transform=\"translate(279.626889 112.611006)scale(0.08 -0.08)\">\n     <use xlink:href=\"#DejaVuSans-31\"/>\n     <use x=\"63.623047\" xlink:href=\"#DejaVuSans-30\"/>\n     <use x=\"127.246094\" xlink:href=\"#DejaVuSans-38\"/>\n    </g>\n   </g>\n   <g id=\"text_102\">\n    <!-- 111 -->\n    <g transform=\"translate(279.626889 85.807925)scale(0.08 -0.08)\">\n     <use xlink:href=\"#DejaVuSans-31\"/>\n     <use x=\"63.623047\" xlink:href=\"#DejaVuSans-31\"/>\n     <use x=\"127.246094\" xlink:href=\"#DejaVuSans-31\"/>\n    </g>\n   </g>\n   <g id=\"text_103\">\n    <!-- 110 -->\n    <g transform=\"translate(279.626889 59.004843)scale(0.08 -0.08)\">\n     <use xlink:href=\"#DejaVuSans-31\"/>\n     <use x=\"63.623047\" xlink:href=\"#DejaVuSans-31\"/>\n     <use x=\"127.246094\" xlink:href=\"#DejaVuSans-30\"/>\n    </g>\n   </g>\n   <g id=\"text_104\">\n    <!-- 109 -->\n    <g transform=\"translate(279.626889 32.201761)scale(0.08 -0.08)\">\n     <use xlink:href=\"#DejaVuSans-31\"/>\n     <use x=\"63.623047\" xlink:href=\"#DejaVuSans-30\"/>\n     <use x=\"127.246094\" xlink:href=\"#DejaVuSans-39\"/>\n    </g>\n   </g>\n   <g id=\"text_105\">\n    <!-- 103 -->\n    <g transform=\"translate(283.9137 229.874489)scale(0.08 -0.08)\">\n     <use xlink:href=\"#DejaVuSans-31\"/>\n     <use x=\"63.623047\" xlink:href=\"#DejaVuSans-30\"/>\n     <use x=\"127.246094\" xlink:href=\"#DejaVuSans-33\"/>\n    </g>\n   </g>\n   <g id=\"text_106\">\n    <!-- 102 -->\n    <g transform=\"translate(283.9137 203.071407)scale(0.08 -0.08)\">\n     <use xlink:href=\"#DejaVuSans-31\"/>\n     <use x=\"63.623047\" xlink:href=\"#DejaVuSans-30\"/>\n     <use x=\"127.246094\" xlink:href=\"#DejaVuSans-32\"/>\n    </g>\n   </g>\n   <g id=\"text_107\">\n    <!-- 101 -->\n    <g transform=\"translate(283.9137 176.268325)scale(0.08 -0.08)\">\n     <use xlink:href=\"#DejaVuSans-31\"/>\n     <use x=\"63.623047\" xlink:href=\"#DejaVuSans-30\"/>\n     <use x=\"127.246094\" xlink:href=\"#DejaVuSans-31\"/>\n    </g>\n   </g>\n   <g id=\"text_108\">\n    <!-- 100 -->\n    <g transform=\"translate(283.9137 149.465244)scale(0.08 -0.08)\">\n     <use xlink:href=\"#DejaVuSans-31\"/>\n     <use x=\"63.623047\" xlink:href=\"#DejaVuSans-30\"/>\n     <use x=\"127.246094\" xlink:href=\"#DejaVuSans-30\"/>\n    </g>\n   </g>\n   <g id=\"text_109\">\n    <!-- 99 -->\n    <g transform=\"translate(283.9137 122.662162)scale(0.08 -0.08)\">\n     <use xlink:href=\"#DejaVuSans-39\"/>\n     <use x=\"63.623047\" xlink:href=\"#DejaVuSans-39\"/>\n    </g>\n   </g>\n   <g id=\"text_110\">\n    <!-- 96 -->\n    <g transform=\"translate(283.9137 95.85908)scale(0.08 -0.08)\">\n     <use xlink:href=\"#DejaVuSans-39\"/>\n     <use x=\"63.623047\" xlink:href=\"#DejaVuSans-36\"/>\n    </g>\n   </g>\n   <g id=\"text_111\">\n    <!-- 97 -->\n    <g transform=\"translate(283.9137 69.055999)scale(0.08 -0.08)\">\n     <use xlink:href=\"#DejaVuSans-39\"/>\n     <use x=\"63.623047\" xlink:href=\"#DejaVuSans-37\"/>\n    </g>\n   </g>\n   <g id=\"text_112\">\n    <!-- 98 -->\n    <g transform=\"translate(283.9137 42.252917)scale(0.08 -0.08)\">\n     <use xlink:href=\"#DejaVuSans-39\"/>\n     <use x=\"63.623047\" xlink:href=\"#DejaVuSans-38\"/>\n    </g>\n   </g>\n   <g id=\"text_113\">\n    <!-- 120 -->\n    <g transform=\"translate(322.495006 219.823333)scale(0.08 -0.08)\">\n     <use xlink:href=\"#DejaVuSans-31\"/>\n     <use x=\"63.623047\" xlink:href=\"#DejaVuSans-32\"/>\n     <use x=\"127.246094\" xlink:href=\"#DejaVuSans-30\"/>\n    </g>\n   </g>\n   <g id=\"text_114\">\n    <!-- 121 -->\n    <g transform=\"translate(322.495006 193.020251)scale(0.08 -0.08)\">\n     <use xlink:href=\"#DejaVuSans-31\"/>\n     <use x=\"63.623047\" xlink:href=\"#DejaVuSans-32\"/>\n     <use x=\"127.246094\" xlink:href=\"#DejaVuSans-31\"/>\n    </g>\n   </g>\n   <g id=\"text_115\">\n    <!-- 122 -->\n    <g transform=\"translate(322.495006 166.21717)scale(0.08 -0.08)\">\n     <use xlink:href=\"#DejaVuSans-31\"/>\n     <use x=\"63.623047\" xlink:href=\"#DejaVuSans-32\"/>\n     <use x=\"127.246094\" xlink:href=\"#DejaVuSans-32\"/>\n    </g>\n   </g>\n   <g id=\"text_116\">\n    <!-- 123 -->\n    <g transform=\"translate(322.495006 139.414088)scale(0.08 -0.08)\">\n     <use xlink:href=\"#DejaVuSans-31\"/>\n     <use x=\"63.623047\" xlink:href=\"#DejaVuSans-32\"/>\n     <use x=\"127.246094\" xlink:href=\"#DejaVuSans-33\"/>\n    </g>\n   </g>\n   <g id=\"text_117\">\n    <!-- 124 -->\n    <g transform=\"translate(322.495006 112.611006)scale(0.08 -0.08)\">\n     <use xlink:href=\"#DejaVuSans-31\"/>\n     <use x=\"63.623047\" xlink:href=\"#DejaVuSans-32\"/>\n     <use x=\"127.246094\" xlink:href=\"#DejaVuSans-34\"/>\n    </g>\n   </g>\n   <g id=\"text_118\">\n    <!-- 127 -->\n    <g transform=\"translate(322.495006 85.807925)scale(0.08 -0.08)\">\n     <use xlink:href=\"#DejaVuSans-31\"/>\n     <use x=\"63.623047\" xlink:href=\"#DejaVuSans-32\"/>\n     <use x=\"127.246094\" xlink:href=\"#DejaVuSans-37\"/>\n    </g>\n   </g>\n   <g id=\"text_119\">\n    <!-- 126 -->\n    <g transform=\"translate(322.495006 59.004843)scale(0.08 -0.08)\">\n     <use xlink:href=\"#DejaVuSans-31\"/>\n     <use x=\"63.623047\" xlink:href=\"#DejaVuSans-32\"/>\n     <use x=\"127.246094\" xlink:href=\"#DejaVuSans-36\"/>\n    </g>\n   </g>\n   <g id=\"text_120\">\n    <!-- 125 -->\n    <g transform=\"translate(322.495006 32.201761)scale(0.08 -0.08)\">\n     <use xlink:href=\"#DejaVuSans-31\"/>\n     <use x=\"63.623047\" xlink:href=\"#DejaVuSans-32\"/>\n     <use x=\"127.246094\" xlink:href=\"#DejaVuSans-35\"/>\n    </g>\n   </g>\n   <g id=\"text_121\">\n    <!-- 119 -->\n    <g transform=\"translate(326.781818 229.874489)scale(0.08 -0.08)\">\n     <use xlink:href=\"#DejaVuSans-31\"/>\n     <use x=\"63.623047\" xlink:href=\"#DejaVuSans-31\"/>\n     <use x=\"127.246094\" xlink:href=\"#DejaVuSans-39\"/>\n    </g>\n   </g>\n   <g id=\"text_122\">\n    <!-- 118 -->\n    <g transform=\"translate(326.781818 203.071407)scale(0.08 -0.08)\">\n     <use xlink:href=\"#DejaVuSans-31\"/>\n     <use x=\"63.623047\" xlink:href=\"#DejaVuSans-31\"/>\n     <use x=\"127.246094\" xlink:href=\"#DejaVuSans-38\"/>\n    </g>\n   </g>\n   <g id=\"text_123\">\n    <!-- 117 -->\n    <g transform=\"translate(326.781818 176.268325)scale(0.08 -0.08)\">\n     <use xlink:href=\"#DejaVuSans-31\"/>\n     <use x=\"63.623047\" xlink:href=\"#DejaVuSans-31\"/>\n     <use x=\"127.246094\" xlink:href=\"#DejaVuSans-37\"/>\n    </g>\n   </g>\n   <g id=\"text_124\">\n    <!-- 116 -->\n    <g transform=\"translate(326.781818 149.465244)scale(0.08 -0.08)\">\n     <use xlink:href=\"#DejaVuSans-31\"/>\n     <use x=\"63.623047\" xlink:href=\"#DejaVuSans-31\"/>\n     <use x=\"127.246094\" xlink:href=\"#DejaVuSans-36\"/>\n    </g>\n   </g>\n   <g id=\"text_125\">\n    <!-- 115 -->\n    <g transform=\"translate(326.781818 122.662162)scale(0.08 -0.08)\">\n     <use xlink:href=\"#DejaVuSans-31\"/>\n     <use x=\"63.623047\" xlink:href=\"#DejaVuSans-31\"/>\n     <use x=\"127.246094\" xlink:href=\"#DejaVuSans-35\"/>\n    </g>\n   </g>\n   <g id=\"text_126\">\n    <!-- 112 -->\n    <g transform=\"translate(326.781818 95.85908)scale(0.08 -0.08)\">\n     <use xlink:href=\"#DejaVuSans-31\"/>\n     <use x=\"63.623047\" xlink:href=\"#DejaVuSans-31\"/>\n     <use x=\"127.246094\" xlink:href=\"#DejaVuSans-32\"/>\n    </g>\n   </g>\n   <g id=\"text_127\">\n    <!-- 113 -->\n    <g transform=\"translate(326.781818 69.055999)scale(0.08 -0.08)\">\n     <use xlink:href=\"#DejaVuSans-31\"/>\n     <use x=\"63.623047\" xlink:href=\"#DejaVuSans-31\"/>\n     <use x=\"127.246094\" xlink:href=\"#DejaVuSans-33\"/>\n    </g>\n   </g>\n   <g id=\"text_128\">\n    <!-- 114 -->\n    <g transform=\"translate(326.781818 42.252917)scale(0.08 -0.08)\">\n     <use xlink:href=\"#DejaVuSans-31\"/>\n     <use x=\"63.623047\" xlink:href=\"#DejaVuSans-31\"/>\n     <use x=\"127.246094\" xlink:href=\"#DejaVuSans-34\"/>\n    </g>\n   </g>\n   <g id=\"text_129\">\n    <!-- Probe 128ch -->\n    <g transform=\"translate(137.1225 16.318125)scale(0.12 -0.12)\">\n     <defs>\n      <path d=\"M 1259 4147 \nL 1259 2394 \nL 2053 2394 \nQ 2494 2394 2734 2622 \nQ 2975 2850 2975 3272 \nQ 2975 3691 2734 3919 \nQ 2494 4147 2053 4147 \nL 1259 4147 \nz\nM 628 4666 \nL 2053 4666 \nQ 2838 4666 3239 4311 \nQ 3641 3956 3641 3272 \nQ 3641 2581 3239 2228 \nQ 2838 1875 2053 1875 \nL 1259 1875 \nL 1259 0 \nL 628 0 \nL 628 4666 \nz\n\" id=\"DejaVuSans-50\" transform=\"scale(0.015625)\"/>\n      <path d=\"M 2631 2963 \nQ 2534 3019 2420 3045 \nQ 2306 3072 2169 3072 \nQ 1681 3072 1420 2755 \nQ 1159 2438 1159 1844 \nL 1159 0 \nL 581 0 \nL 581 3500 \nL 1159 3500 \nL 1159 2956 \nQ 1341 3275 1631 3429 \nQ 1922 3584 2338 3584 \nQ 2397 3584 2469 3576 \nQ 2541 3569 2628 3553 \nL 2631 2963 \nz\n\" id=\"DejaVuSans-72\" transform=\"scale(0.015625)\"/>\n      <path d=\"M 1959 3097 \nQ 1497 3097 1228 2736 \nQ 959 2375 959 1747 \nQ 959 1119 1226 758 \nQ 1494 397 1959 397 \nQ 2419 397 2687 759 \nQ 2956 1122 2956 1747 \nQ 2956 2369 2687 2733 \nQ 2419 3097 1959 3097 \nz\nM 1959 3584 \nQ 2709 3584 3137 3096 \nQ 3566 2609 3566 1747 \nQ 3566 888 3137 398 \nQ 2709 -91 1959 -91 \nQ 1206 -91 779 398 \nQ 353 888 353 1747 \nQ 353 2609 779 3096 \nQ 1206 3584 1959 3584 \nz\n\" id=\"DejaVuSans-6f\" transform=\"scale(0.015625)\"/>\n      <path d=\"M 3116 1747 \nQ 3116 2381 2855 2742 \nQ 2594 3103 2138 3103 \nQ 1681 3103 1420 2742 \nQ 1159 2381 1159 1747 \nQ 1159 1113 1420 752 \nQ 1681 391 2138 391 \nQ 2594 391 2855 752 \nQ 3116 1113 3116 1747 \nz\nM 1159 2969 \nQ 1341 3281 1617 3432 \nQ 1894 3584 2278 3584 \nQ 2916 3584 3314 3078 \nQ 3713 2572 3713 1747 \nQ 3713 922 3314 415 \nQ 2916 -91 2278 -91 \nQ 1894 -91 1617 61 \nQ 1341 213 1159 525 \nL 1159 0 \nL 581 0 \nL 581 4863 \nL 1159 4863 \nL 1159 2969 \nz\n\" id=\"DejaVuSans-62\" transform=\"scale(0.015625)\"/>\n      <path d=\"M 3597 1894 \nL 3597 1613 \nL 953 1613 \nQ 991 1019 1311 708 \nQ 1631 397 2203 397 \nQ 2534 397 2845 478 \nQ 3156 559 3463 722 \nL 3463 178 \nQ 3153 47 2828 -22 \nQ 2503 -91 2169 -91 \nQ 1331 -91 842 396 \nQ 353 884 353 1716 \nQ 353 2575 817 3079 \nQ 1281 3584 2069 3584 \nQ 2775 3584 3186 3129 \nQ 3597 2675 3597 1894 \nz\nM 3022 2063 \nQ 3016 2534 2758 2815 \nQ 2500 3097 2075 3097 \nQ 1594 3097 1305 2825 \nQ 1016 2553 972 2059 \nL 3022 2063 \nz\n\" id=\"DejaVuSans-65\" transform=\"scale(0.015625)\"/>\n      <path id=\"DejaVuSans-20\" transform=\"scale(0.015625)\"/>\n      <path d=\"M 3122 3366 \nL 3122 2828 \nQ 2878 2963 2633 3030 \nQ 2388 3097 2138 3097 \nQ 1578 3097 1268 2742 \nQ 959 2388 959 1747 \nQ 959 1106 1268 751 \nQ 1578 397 2138 397 \nQ 2388 397 2633 464 \nQ 2878 531 3122 666 \nL 3122 134 \nQ 2881 22 2623 -34 \nQ 2366 -91 2075 -91 \nQ 1284 -91 818 406 \nQ 353 903 353 1747 \nQ 353 2603 823 3093 \nQ 1294 3584 2113 3584 \nQ 2378 3584 2631 3529 \nQ 2884 3475 3122 3366 \nz\n\" id=\"DejaVuSans-63\" transform=\"scale(0.015625)\"/>\n      <path d=\"M 3513 2113 \nL 3513 0 \nL 2938 0 \nL 2938 2094 \nQ 2938 2591 2744 2837 \nQ 2550 3084 2163 3084 \nQ 1697 3084 1428 2787 \nQ 1159 2491 1159 1978 \nL 1159 0 \nL 581 0 \nL 581 4863 \nL 1159 4863 \nL 1159 2956 \nQ 1366 3272 1645 3428 \nQ 1925 3584 2291 3584 \nQ 2894 3584 3203 3211 \nQ 3513 2838 3513 2113 \nz\n\" id=\"DejaVuSans-68\" transform=\"scale(0.015625)\"/>\n     </defs>\n     <use xlink:href=\"#DejaVuSans-50\"/>\n     <use x=\"58.552734\" xlink:href=\"#DejaVuSans-72\"/>\n     <use x=\"97.416016\" xlink:href=\"#DejaVuSans-6f\"/>\n     <use x=\"158.597656\" xlink:href=\"#DejaVuSans-62\"/>\n     <use x=\"222.074219\" xlink:href=\"#DejaVuSans-65\"/>\n     <use x=\"283.597656\" xlink:href=\"#DejaVuSans-20\"/>\n     <use x=\"315.384766\" xlink:href=\"#DejaVuSans-31\"/>\n     <use x=\"379.007812\" xlink:href=\"#DejaVuSans-32\"/>\n     <use x=\"442.630859\" xlink:href=\"#DejaVuSans-38\"/>\n     <use x=\"506.253906\" xlink:href=\"#DejaVuSans-63\"/>\n     <use x=\"561.234375\" xlink:href=\"#DejaVuSans-68\"/>\n    </g>\n   </g>\n  </g>\n </g>\n <defs>\n  <clipPath id=\"p0458650349\">\n   <rect height=\"217.44\" width=\"334.8\" x=\"7.2\" y=\"22.318125\"/>\n  </clipPath>\n </defs>\n</svg>\n",
      "image/png": "[encoded data removed]"
     },
     "metadata": {
      "needs_background": "light"
     }
    }
   ],
   "metadata": {}
  },
  {
   "cell_type": "markdown",
   "source": [
    "# Experimental Paradigm "
   ],
   "metadata": {}
  },
  {
   "cell_type": "code",
   "execution_count": 5,
   "source": [
    "import pandas as pd\n",
    "from neuropy.core import Epoch\n",
    "\n",
    "epochs = pd.DataFrame(\n",
    "    {\n",
    "        \"start\": [0, 7423, 11497,10186],\n",
    "        \"stop\": [7407, 11483, 25987,11483],\n",
    "        \"label\": [\"pre\", \"maze\", \"post\",'sprinkle'],\n",
    "    }\n",
    ")\n",
    "\n",
    "a = Epoch(epochs=epochs)\n",
    "a.filename = sess.filePrefix.with_suffix(\".paradigm.npy\")\n",
    "a.save()\n"
   ],
   "outputs": [
    {
     "output_type": "stream",
     "name": "stdout",
     "text": [
      "data saved\n"
     ]
    }
   ],
   "metadata": {}
  },
  {
   "cell_type": "markdown",
   "source": [
    "# Detect epochs\n",
    "Here we will various types of epochs which typical for hippocampal recordings."
   ],
   "metadata": {}
  },
  {
   "cell_type": "markdown",
   "source": [
    "## Artifacts epochs\n",
    "A typical session will have some artifacts that may negatively influence many analyses. Using a simple zscore measure, we can identify epochs where signal is above some threshold."
   ],
   "metadata": {}
  },
  {
   "cell_type": "code",
   "execution_count": null,
   "source": [
    "signal = sess.eegfile.get_signal([1])\n",
    "artifact_epochs = analyses.detect_artifact_epochs(signal, thresh=7)\n",
    "artifact_epochs.filename = sess.filePrefix.with_suffix(\".artifact.npy\")\n",
    "artifact_epochs.save()\n",
    "plotting.plot_artifact_epochs(artifact_epochs, signal)\n"
   ],
   "outputs": [],
   "metadata": {}
  },
  {
   "cell_type": "markdown",
   "source": [
    "## Ripple epochs\n",
    "To detect ripples one also needs probegroup."
   ],
   "metadata": {}
  },
  {
   "cell_type": "code",
   "execution_count": null,
   "source": [
    "from neuropy.analyses import oscillations\n",
    "signal = sess.eegfile.get_signal()\n",
    "ripple_epochs =oscillations.detect_ripple_epochs(signal, sess.probegroup)\n",
    "ripple_epochs.filename = sess.filePrefix.with_suffix('.ripple.npy')\n",
    "ripple_epochs.save()"
   ],
   "outputs": [],
   "metadata": {}
  },
  {
   "cell_type": "code",
   "execution_count": null,
   "source": [
    "signal = sess.eegfile.get_signal(channel_id=[1, 2, 3, 4], t_start=1, t_stop=1.2)\n",
    "plotting.plot_signal_traces(signal)"
   ],
   "outputs": [],
   "metadata": {}
  },
  {
   "cell_type": "markdown",
   "source": [
    "# Neurons\n",
    "- import spiketrains from Phy\n",
    "- estimate neuron types such pyramidal, interneuron etc. "
   ],
   "metadata": {}
  },
  {
   "cell_type": "markdown",
   "source": [
    "## Importing spiketrains from Phy"
   ],
   "metadata": {}
  },
  {
   "cell_type": "code",
   "execution_count": 8,
   "source": [
    "from neuropy.io import PhyIO\n",
    "from neuropy.core import Neurons\n",
    "from pathlib import Path\n",
    "import numpy as np\n",
    "\n",
    "cluster_path = Path(\n",
    "    \"/data/Clustering/sessions/RatN/Day4/spykcirc/RatN_Day4_2019-10-15_11-30-06.GUI\"\n",
    ")\n",
    "\n",
    "chan_grps = sess.recinfo.channel_groups\n",
    "phy_data = PhyIO(cluster_path)\n",
    "spiketrains =phy_data.spiketrains\n",
    "peak_chans = phy_data.peak_channels\n",
    "waveforms = phy_data.peak_waveforms\n",
    "shank_id = sess.probegroup.get_shank_id_for_channels(peak_chans)\n",
    "\n",
    "neurons = Neurons(\n",
    "    np.array(spiketrains, dtype=object),\n",
    "    t_stop=sess.eegfile.duration,\n",
    "    sampling_rate=phy_data.sampling_rate,\n",
    "    peak_channels=peak_chans,\n",
    "    waveforms=np.array(waveforms,dtype='object'),\n",
    "    shank_ids=np.array(shank_id).astype(int),\n",
    "    metadata={'cluster_path':cluster_path}\n",
    ")\n",
    "\n",
    "neurons.filename = sess.filePrefix.with_suffix('.neurons')\n",
    "neurons.save()"
   ],
   "outputs": [],
   "metadata": {}
  },
  {
   "cell_type": "markdown",
   "source": [
    "## Estimate neuron type"
   ],
   "metadata": {}
  },
  {
   "cell_type": "code",
   "execution_count": null,
   "source": [
    "%matplotlib widget\n",
    "from neuropy.utils import neurons_util\n",
    "neuron_type = neurons_util.estimate_neuron_type(sess.neurons)\n",
    "sess.neurons.neuron_type = neuron_type"
   ],
   "outputs": [],
   "metadata": {}
  },
  {
   "cell_type": "code",
   "execution_count": null,
   "source": [
    "neurons.filename = sess.filePrefix.with_suffix('.neurons')\n",
    "neurons.save()"
   ],
   "outputs": [],
   "metadata": {}
  },
  {
   "cell_type": "code",
   "execution_count": null,
   "source": [
    "%matplotlib widget\n",
    "import matplotlib.pyplot as plt\n",
    "from neuropy.plotting import plot_raster\n",
    "\n",
    "plot_raster(neurons,color='jet',add_vert_jitter=True)"
   ],
   "outputs": [],
   "metadata": {}
  },
  {
   "cell_type": "markdown",
   "source": [
    "## BinnedSpiketrain and Mua objects using Neurons"
   ],
   "metadata": {}
  },
  {
   "cell_type": "code",
   "execution_count": null,
   "source": [
    "mua =sess.neurons.get_mua()\n",
    "mua.filename = sess.filePrefix.with_suffix(\".mua.npy\")\n",
    "mua.save()   \n"
   ],
   "outputs": [],
   "metadata": {}
  },
  {
   "cell_type": "code",
   "execution_count": null,
   "source": [
    "%matplotlib widget\n",
    "from neuropy import plotting\n",
    "smth_mua = sess.mua.get_smoothed(sigma=0.02)\n",
    "plotting.plot_mua(smth_mua)"
   ],
   "outputs": [],
   "metadata": {}
  },
  {
   "cell_type": "code",
   "execution_count": null,
   "source": [
    "from neuropy.analyses import detect_pbe_epochs\n",
    "\n",
    "pbe = detect_pbe_epochs(smth_mua)\n",
    "pbe.filename = sess.filePrefix.with_suffix('.pbe')\n",
    "pbe.save()\n"
   ],
   "outputs": [],
   "metadata": {}
  },
  {
   "cell_type": "markdown",
   "source": [
    "# Assign position data"
   ],
   "metadata": {}
  },
  {
   "cell_type": "code",
   "execution_count": 10,
   "source": [
    "from neuropy.io import OptitrackIO\n",
    "from neuropy.core import Position\n",
    "from pathlib import Path\n",
    "\n",
    "opti_folder = sess.filePrefix.parent / 'position'\n",
    "opti_data = OptitrackIO(dirname=opti_folder,scale_factor=0.25)"
   ],
   "outputs": [
    {
     "output_type": "stream",
     "name": "stdout",
     "text": [
      "/data/Clustering/sessions/RatN/Day2/position/Take 2019-10-11 03.58.37 AM.csv\n",
      "/data/Clustering/sessions/RatN/Day2/position/Take 2019-10-11 04.08.48 AM.csv\n",
      "/data/Clustering/sessions/RatN/Day2/position/Take 2019-10-11 04.10.41 AM.csv\n",
      "/data/Clustering/sessions/RatN/Day2/position/Take 2019-10-11 07.19.00 AM.csv\n",
      "/data/Clustering/sessions/RatN/Day2/position/Take 2019-10-11 08.15.29 AM.csv\n",
      "/data/Clustering/sessions/RatN/Day2/position/Take 2019-10-11 08.55.22 AM.csv\n"
     ]
    }
   ],
   "metadata": {}
  },
  {
   "cell_type": "code",
   "execution_count": 11,
   "source": [
    "import pandas as pd\n",
    "from datetime import datetime\n",
    "\n",
    "#---- startimes of concatenated .dat files\n",
    "tracking_sRate = opti_data.sampling_rate\n",
    "rec_datetime = pd.read_csv(sess.filePrefix.with_suffix('.datetime.csv'))\n",
    "data_time = []\n",
    "for i, file_time in enumerate(rec_datetime[\"StartTime\"]):\n",
    "    sync_time = rec_datetime['sync_nframes'][i]/rec_datetime['sync_rate'][i]\n",
    "    tbegin = datetime.strptime(file_time, \"%Y-%m-%d_%H-%M-%S\") + pd.Timedelta(sync_time,unit='sec')\n",
    "    nframes = rec_datetime[\"nFrames\"][i]\n",
    "    duration = pd.Timedelta(nframes / sess.recinfo.dat_sampling_rate, unit=\"sec\")\n",
    "    tend = tbegin + duration\n",
    "    trange = pd.date_range(\n",
    "        start=tbegin,\n",
    "        end=tend,\n",
    "        periods=int(duration.total_seconds() * tracking_sRate),\n",
    "    )\n",
    "    data_time.extend(trange)\n",
    "data_time = pd.to_datetime(data_time)\n",
    "\n",
    "# ------- deleting intervals that were deleted from .dat file after concatenating\n",
    "ndeletedintervals = rec_datetime.count()[\"deletedStart (minutes)\"]\n",
    "for i in range(ndeletedintervals):\n",
    "    tnoisy_begin = data_time[0] + pd.Timedelta(\n",
    "        rec_datetime[\"deletedStart (minutes)\"][i], unit=\"m\"\n",
    "    )\n",
    "    tnoisy_end = data_time[0] + pd.Timedelta(\n",
    "        rec_datetime[\"deletedEnd (minutes)\"][i], unit=\"m\"\n",
    "    )\n",
    "\n",
    "    del_index = np.where((data_time > tnoisy_begin) & (data_time < tnoisy_end))[\n",
    "        0\n",
    "    ]\n",
    "\n",
    "    data_time = np.delete(data_time, del_index)\n",
    "\n",
    "x,y,z = opti_data.get_position_at_datetimes(data_time)\n",
    "traces = np.vstack((z,x,y))\n",
    "\n",
    "position = Position(traces=traces,t_start=0,sampling_rate=opti_data.sampling_rate)"
   ],
   "outputs": [],
   "metadata": {}
  },
  {
   "cell_type": "code",
   "execution_count": 12,
   "source": [
    "position.filename = sess.filePrefix.with_suffix('.position.npy')\n",
    "position.save()"
   ],
   "outputs": [
    {
     "output_type": "stream",
     "name": "stdout",
     "text": [
      "data saved\n"
     ]
    }
   ],
   "metadata": {}
  },
  {
   "cell_type": "code",
   "execution_count": 13,
   "source": [
    "%matplotlib widget\n",
    "import matplotlib.pyplot as plt\n",
    "\n",
    "# plt.plot(opti_data.datetime_array,opti_data.z)\n",
    "plt.plot(position.x,position.y)"
   ],
   "outputs": [
    {
     "output_type": "display_data",
     "data": {
      "text/plain": [
       "Canvas(toolbar=Toolbar(toolitems=[('Home', 'Reset original view', 'home', 'home'), ('Back', 'Back to previous …"
      ],
      "application/vnd.jupyter.widget-view+json": {
       "version_major": 2,
       "version_minor": 0,
       "model_id": "903b910fab6a4507a637a69d92f5f951"
      }
     },
     "metadata": {}
    },
    {
     "output_type": "execute_result",
     "data": {
      "text/plain": [
       "[<matplotlib.lines.Line2D at 0x7fdb47e94160>]"
      ]
     },
     "metadata": {},
     "execution_count": 13
    }
   ],
   "metadata": {}
  },
  {
   "cell_type": "code",
   "execution_count": null,
   "source": [
    "%matplotlib widget\n",
    "from neuropy.utils import signal_process\n",
    "\n",
    "signal = sess.eegfile.get_signal([40])\n",
    "\n",
    "spec = signal_process.spectrogramBands(signal.traces[0])\n"
   ],
   "outputs": [],
   "metadata": {}
  },
  {
   "cell_type": "code",
   "execution_count": null,
   "source": [
    "%matplotlib widget\n",
    "\n",
    "import matplotlib.pyplot as plt\n",
    "\n",
    "plt.plot(spec.time,spec.theta/500)\n",
    "plt.plot(sess.position.time,sess.position.y)\n",
    "plt.plot(sess.position.time[1:],np.diff(sess.position.y)*100)\n",
    "plt.xlim([12500,12600])\n",
    "plt.ylim([-400,400])"
   ],
   "outputs": [],
   "metadata": {}
  },
  {
   "cell_type": "markdown",
   "source": [
    "## Linearize position"
   ],
   "metadata": {}
  },
  {
   "cell_type": "code",
   "execution_count": null,
   "source": [
    "from neuropy.utils import position_util\n",
    "\n",
    "maze = sess.paradigm['maze']\n",
    "maze_pos = sess.position.time_slice(maze[0],maze[1])\n",
    "linear_pos = position_util.linearize_position(maze_pos)"
   ],
   "outputs": [],
   "metadata": {}
  },
  {
   "cell_type": "code",
   "execution_count": null,
   "source": [
    "linear_pos.y"
   ],
   "outputs": [],
   "metadata": {}
  },
  {
   "cell_type": "code",
   "execution_count": null,
   "source": [
    "%matplotlib widget\n",
    "plt.plot(maze_pos.time,maze_pos.x)\n",
    "plt.plot(linear_pos.time,linear_pos.x)"
   ],
   "outputs": [],
   "metadata": {}
  },
  {
   "cell_type": "code",
   "execution_count": null,
   "source": [
    "import numpy as np\n",
    "\n",
    "a = np.ones(5)\n",
    "np.vstack((a,a,a)).shape"
   ],
   "outputs": [],
   "metadata": {}
  },
  {
   "cell_type": "code",
   "execution_count": null,
   "source": [
    "from neuropy.core import animal\n",
    "\n",
    "d = {'name':'hello','tag':'ser'}\n",
    "\n",
    "an = animal.Animal(d) \n"
   ],
   "outputs": [],
   "metadata": {}
  }
 ],
 "metadata": {
  "interpreter": {
   "hash": "7b10c821bc4bd3f433a613d47515e6babc6c2152896bd1e143404cc9d6ede4ad"
  },
  "kernelspec": {
   "name": "python3",
   "display_name": "Python 3.9.4 64-bit"
  },
  "language_info": {
   "codemirror_mode": {
    "name": "ipython",
    "version": 3
   },
   "file_extension": ".py",
   "mimetype": "text/x-python",
   "name": "python",
   "nbconvert_exporter": "python",
   "pygments_lexer": "ipython3",
   "version": "3.9.4"
  },
  "orig_nbformat": 4
 },
 "nbformat": 4,
 "nbformat_minor": 2
}