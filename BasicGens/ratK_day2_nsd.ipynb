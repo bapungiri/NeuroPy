{
 "cells": [
  {
   "cell_type": "markdown",
   "metadata": {},
   "source": [
    "# RatK Day2NSD recording info"
   ]
  },
  {
   "cell_type": "code",
   "execution_count": 2,
   "metadata": {},
   "outputs": [
    {
     "name": "stdout",
     "output_type": "stream",
     "text": [
      "filename: /data/Clustering/sessions/RatK/Day2/RatK_Day2_2019-08-08_04-00-00.xml \n",
      "# channels: 134\n",
      "sampling rate: 30000\n",
      "lfp Srate (downsampled): 1250\n"
     ]
    }
   ],
   "source": [
    "import numpy as np\n",
    "import subjects\n",
    "\n",
    "sess = subjects.nsd.ratKday2[0]\n",
    "print(sess.recinfo)"
   ]
  },
  {
   "cell_type": "markdown",
   "metadata": {},
   "source": [
    "## Set probe configuration\n",
    "- RatK_Day2NSD had 128chans-8shank diagnostic biochip"
   ]
  },
  {
   "cell_type": "code",
   "execution_count": 2,
   "metadata": {},
   "outputs": [
    {
     "data": {
      "application/vnd.jupyter.widget-view+json": {
       "model_id": "fb9322df4afc4416a0727be45525f89f",
       "version_major": 2,
       "version_minor": 0
      },
      "text/plain": [
       "Canvas(toolbar=Toolbar(toolitems=[('Home', 'Reset original view', 'home', 'home'), ('Back', 'Back to previous …"
      ]
     },
     "metadata": {},
     "output_type": "display_data"
    },
    {
     "data": {
      "text/plain": [
       "<AxesSubplot:title={'center':'Probe 128ch'}>"
      ]
     },
     "execution_count": 2,
     "metadata": {},
     "output_type": "execute_result"
    }
   ],
   "source": [
    "%matplotlib widget\n",
    "from neuropy.core import Shank, Probe, ProbeGroup\n",
    "from neuropy.plotting import plot_probe\n",
    "\n",
    "shanks = []\n",
    "channel_groups = sess.recinfo.channel_groups\n",
    "badchans = sess.recinfo.skipped_channels\n",
    "\n",
    "#--- cambridge probe -----------\n",
    "for i in range(8):\n",
    "    shank = Shank.auto_generate(\n",
    "        columns=2,\n",
    "        contacts_per_column=8,\n",
    "        xpitch=16.5,\n",
    "        ypitch=15,\n",
    "        y_shift_per_column=[0,-7.5],\n",
    "        channel_id=np.append(\n",
    "            channel_groups[i][::2][::-1], channel_groups[i][1::2][::-1]\n",
    "        ),\n",
    "    )\n",
    "    shank.set_disconnected_channels(sess.recinfo.skipped_channels)\n",
    "    shanks.append(shank)\n",
    "\n",
    "probe1 = Probe(shanks)\n",
    "\n",
    "prbgrp = ProbeGroup()\n",
    "prbgrp.add_probe(probe1)\n",
    "\n",
    "prbgrp.filename = sess.filePrefix.with_suffix(\".probegroup.npy\")\n",
    "# prbgrp.save()\n",
    "plot_probe(prbgrp)\n",
    "\n"
   ]
  },
  {
   "cell_type": "markdown",
   "metadata": {},
   "source": [
    "## Create epochs for your experimental paradigm\n",
    "A typical experiment involves multiple epochs such pre sleep, running on track and then another sleep epoch."
   ]
  },
  {
   "cell_type": "code",
   "execution_count": 3,
   "metadata": {},
   "outputs": [
    {
     "data": {
      "text/html": [
       "<div>\n",
       "<style scoped>\n",
       "    .dataframe tbody tr th:only-of-type {\n",
       "        vertical-align: middle;\n",
       "    }\n",
       "\n",
       "    .dataframe tbody tr th {\n",
       "        vertical-align: top;\n",
       "    }\n",
       "\n",
       "    .dataframe thead th {\n",
       "        text-align: right;\n",
       "    }\n",
       "</style>\n",
       "<table border=\"1\" class=\"dataframe\">\n",
       "  <thead>\n",
       "    <tr style=\"text-align: right;\">\n",
       "      <th></th>\n",
       "      <th>start</th>\n",
       "      <th>stop</th>\n",
       "      <th>label</th>\n",
       "      <th>duration</th>\n",
       "    </tr>\n",
       "  </thead>\n",
       "  <tbody>\n",
       "    <tr>\n",
       "      <th>0</th>\n",
       "      <td>0.000000</td>\n",
       "      <td>10477.166632</td>\n",
       "      <td>pre</td>\n",
       "      <td>10477.166632</td>\n",
       "    </tr>\n",
       "    <tr>\n",
       "      <th>1</th>\n",
       "      <td>10478.166632</td>\n",
       "      <td>14238.527450</td>\n",
       "      <td>maze</td>\n",
       "      <td>3760.360818</td>\n",
       "    </tr>\n",
       "    <tr>\n",
       "      <th>2</th>\n",
       "      <td>14239.527450</td>\n",
       "      <td>51972.708333</td>\n",
       "      <td>post</td>\n",
       "      <td>37733.180884</td>\n",
       "    </tr>\n",
       "  </tbody>\n",
       "</table>\n",
       "</div>"
      ],
      "text/plain": [
       "          start          stop label      duration\n",
       "0      0.000000  10477.166632   pre  10477.166632\n",
       "1  10478.166632  14238.527450  maze   3760.360818\n",
       "2  14239.527450  51972.708333  post  37733.180884"
      ]
     },
     "execution_count": 3,
     "metadata": {},
     "output_type": "execute_result"
    }
   ],
   "source": [
    "sess.paradigm.to_dataframe()"
   ]
  },
  {
   "cell_type": "code",
   "execution_count": null,
   "metadata": {},
   "outputs": [],
   "source": [
    "import pandas as pd\n",
    "from neuropy.core import Epoch\n",
    "\n",
    "epochs = pd.DataFrame(\n",
    "    {\n",
    "        \"start\": [0, 10000, 20000],\n",
    "        \"stop\": [9000, 13600, 30000],\n",
    "        \"label\": [\"pre\", \"maze\", \"post\"],\n",
    "    }\n",
    ")\n",
    "\n",
    "a = Epoch(epochs=epochs)\n",
    "a.filename = sess.filePrefix.with_suffix(\".paradigm.npy\")\n",
    "# a.save()\n"
   ]
  },
  {
   "cell_type": "markdown",
   "metadata": {},
   "source": [
    "# Detect epochs\n",
    "Here we will various types of epochs which typical for hippocampal recordings."
   ]
  },
  {
   "cell_type": "markdown",
   "metadata": {},
   "source": [
    "## Artifacts epochs\n",
    "A typical session will have some artifacts that may negatively influence many analyses. Using a simple zscore measure, we can identify epochs where signal is above some threshold."
   ]
  },
  {
   "cell_type": "code",
   "execution_count": null,
   "metadata": {},
   "outputs": [],
   "source": [
    "signal = sess.eegfile.get_signal([1])\n",
    "artifact_epochs = analyses.detect_artifact_epochs(signal, thresh=7)\n",
    "artifact_epochs.filename = sess.filePrefix.with_suffix(\".artifact.npy\")\n",
    "pbe.filename = sess.filePrefix.with_suffix(\".pbe\")\n",
    "plotting.plot_artifact_epochs(artifact_epochs, signal)\n"
   ]
  },
  {
   "cell_type": "markdown",
   "metadata": {},
   "source": [
    "## Ripple epochs\n",
    "To detect ripples one also needs probegroup."
   ]
  },
  {
   "cell_type": "code",
   "execution_count": null,
   "metadata": {},
   "outputs": [],
   "source": [
    "from neuropy.analyses import oscillations\n",
    "signal = sess.eegfile.get_signal()\n",
    "ripple_epochs =oscillations.detect_ripple_epochs(signal, sess.probegroup)\n",
    "pbe.filename = sess.filePrefix.with_suffix(\".pbe\")\n",
    "ripple_epochs.save()"
   ]
  },
  {
   "cell_type": "code",
   "execution_count": null,
   "metadata": {},
   "outputs": [],
   "source": [
    "signal = sess.eegfile.get_signal(channel_id=[1, 2, 3, 4], t_start=1, t_stop=1.2)\n",
    "plotting.plot_signal_traces(signal)"
   ]
  },
  {
   "cell_type": "markdown",
   "metadata": {},
   "source": [
    "# Importing spiketrains from Phy"
   ]
  },
  {
   "cell_type": "code",
   "execution_count": 3,
   "metadata": {},
   "outputs": [
    {
     "name": "stdout",
     "output_type": "stream",
     "text": [
      "RatK_Day2_2019-08-08_04-00-00.neurons saved\n"
     ]
    }
   ],
   "source": [
    "from neuropy.io import PhyIO\n",
    "from neuropy.core import Neurons\n",
    "from pathlib import Path\n",
    "import numpy as np\n",
    "\n",
    "cluster_path = Path(\n",
    "    \"/data/Clustering/sessions/RatK/Day2/spykcirc/RatK_Day2_2019-08-08_04-00-00/RatK_Day2_2019-08-08_04-00-00.GUI\"\n",
    ")\n",
    "chan_grps = sess.recinfo.channel_groups\n",
    "phy_data = PhyIO(cluster_path)\n",
    "spiketrains =phy_data.spiketrains\n",
    "peak_chans = phy_data.peak_channels\n",
    "waveforms = phy_data.waveforms\n",
    "shank_id = sess.probegroup.get_shank_id_for_channels(peak_chans)\n",
    "\n",
    "neuron_type_id = phy_data.cluster_info.q.values\n",
    "neuron_type = np.ones(len(neuron_type_id), dtype=\"U5\")\n",
    "neuron_type[neuron_type_id<4] = 'pyr'\n",
    "neuron_type[neuron_type_id==6] = 'mua'\n",
    "neuron_type[neuron_type_id==8] = 'inter'\n",
    "\n",
    "\n",
    "neurons = Neurons(\n",
    "    np.array(spiketrains, dtype=object),\n",
    "    t_stop=sess.eegfile.duration,\n",
    "    sampling_rate=phy_data.sampling_rate,\n",
    "    peak_channels=peak_chans,\n",
    "    waveforms=np.array(waveforms,dtype='object'),\n",
    "    shank_ids=np.array(shank_id).astype(int),\n",
    "    neuron_type=neuron_type\n",
    ")\n",
    "\n",
    "neurons.filename = sess.filePrefix.with_suffix('.neurons')\n",
    "neurons.save()"
   ]
  },
  {
   "cell_type": "code",
   "execution_count": null,
   "metadata": {},
   "outputs": [],
   "source": [
    "%matplotlib widget\n",
    "import matplotlib.pyplot as plt\n",
    "from neuropy.plotting import plot_raster\n",
    "\n",
    "\n",
    "plt.plot(phy_data.peak_waveforms[0])\n",
    "plot_raster(neurons,color='jet',add_vert_jitter=True)"
   ]
  },
  {
   "cell_type": "markdown",
   "metadata": {},
   "source": [
    "# BinnedSpiketrain and Mua objects using Neurons"
   ]
  },
  {
   "cell_type": "code",
   "execution_count": 8,
   "metadata": {},
   "outputs": [
    {
     "name": "stdout",
     "output_type": "stream",
     "text": [
      "data saved\n"
     ]
    }
   ],
   "source": [
    "mua =sess.neurons.get_mua()\n",
    "mua.filename = sess.filePrefix.with_suffix(\".mua.npy\")\n",
    "mua.save()   \n"
   ]
  },
  {
   "cell_type": "code",
   "execution_count": 10,
   "metadata": {},
   "outputs": [],
   "source": [
    "%matplotlib widget\n",
    "from neuropy import plotting\n",
    "smth_mua = sess.mua.get_smoothed(sigma=0.02)\n",
    "# plotting.plot_mua(smth_mua)"
   ]
  },
  {
   "cell_type": "code",
   "execution_count": 11,
   "metadata": {},
   "outputs": [
    {
     "name": "stderr",
     "output_type": "stream",
     "text": [
      "/home/bapung/miniconda3/envs/data_analysis/lib/python3.9/site-packages/outdated/utils.py:14: OutdatedPackageWarning: The package outdated is out of date. Your version is 0.2.0, the latest is 0.2.1.\n",
      "Set the environment variable OUTDATED_IGNORE=1 to disable these warnings.\n",
      "  return warn(\n"
     ]
    },
    {
     "name": "stdout",
     "output_type": "stream",
     "text": [
      "data saved\n"
     ]
    }
   ],
   "source": [
    "from neuropy.analyses import detect_pbe_epochs\n",
    "\n",
    "pbe = detect_pbe_epochs(smth_mua)\n",
    "pbe.filename = sess.filePrefix.with_suffix('.pbe')\n",
    "pbe.save()"
   ]
  }
 ],
 "metadata": {
  "interpreter": {
   "hash": "cce1618081139d19eb1ee8d40815d94a2de4f62e1efb20d9406ddb60628c36ae"
  },
  "kernelspec": {
   "display_name": "Python 3.9.7 64-bit ('data_analysis': conda)",
   "name": "python3"
  },
  "language_info": {
   "codemirror_mode": {
    "name": "ipython",
    "version": 3
   },
   "file_extension": ".py",
   "mimetype": "text/x-python",
   "name": "python",
   "nbconvert_exporter": "python",
   "pygments_lexer": "ipython3",
   "version": "3.9.7"
  },
  "orig_nbformat": 4
 },
 "nbformat": 4,
 "nbformat_minor": 2
}
