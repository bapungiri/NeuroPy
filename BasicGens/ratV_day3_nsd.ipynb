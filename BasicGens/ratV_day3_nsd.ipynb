{
 "cells": [
  {
   "cell_type": "markdown",
   "metadata": {},
   "source": [
    "### RatV Day3NSD recording info"
   ]
  },
  {
   "cell_type": "code",
   "execution_count": 1,
   "metadata": {},
   "outputs": [
    {
     "name": "stdout",
     "output_type": "stream",
     "text": [
      "filename: /data/Clustering/sessions/RatV/RatVDay3NSD/RatV_Day3NSD_2021-10-07_08-10-12.xml \n",
      "# channels: 259\n",
      "sampling rate: 30000\n",
      "lfp Srate (downsampled): 1250\n",
      "\n"
     ]
    }
   ],
   "source": [
    "import numpy as np\n",
    "import subjects\n",
    "\n",
    "sess = subjects.nsd.ratVday3[0] # add your subject session\n",
    "print(sess.recinfo)"
   ]
  },
  {
   "cell_type": "markdown",
   "metadata": {},
   "source": [
    "### Animal metadata"
   ]
  },
  {
   "cell_type": "code",
   "execution_count": null,
   "metadata": {},
   "outputs": [],
   "source": [
    "from neuropy.core import animal\n",
    "\n",
    "d = {'name':'hello','tag':'ser'}\n",
    "\n",
    "an = animal.Animal(d) \n"
   ]
  },
  {
   "cell_type": "markdown",
   "metadata": {},
   "source": [
    "### Probe configuration\n",
    "- Add text for details about the probes that were used"
   ]
  },
  {
   "cell_type": "markdown",
   "metadata": {},
   "source": [
    "### A simple 8 shank probe with same layout across all shanks"
   ]
  },
  {
   "cell_type": "code",
   "execution_count": null,
   "metadata": {},
   "outputs": [],
   "source": [
    "%matplotlib widget\n",
    "from neuropy.core import Shank, Probe, ProbeGroup\n",
    "from neuropy.plotting import plot_probe\n",
    "\n",
    "shanks = []\n",
    "channel_groups = sess.recinfo.channel_groups\n",
    "for i in range(8):\n",
    "\n",
    "    shank = Shank.auto_generate(\n",
    "        columns=2,\n",
    "        contacts_per_column=8,\n",
    "        xpitch=15,\n",
    "        ypitch=30,\n",
    "        y_shift_per_column=[0, -15],\n",
    "        channel_id=np.append(\n",
    "            channel_groups[i][::2][::-1], channel_groups[i][1::2][::-1]\n",
    "        ),\n",
    "    )\n",
    "    shanks.append(shank)\n",
    "    shank.set_disconnected_channels(sess.recinfo.skipped_channels)\n",
    "\n",
    "probe1 = Probe(shanks)\n",
    "\n",
    "shanks = []\n",
    "for i in range(8,16):\n",
    "\n",
    "    shank = Shank.auto_generate(\n",
    "        columns=2,\n",
    "        contacts_per_column=8,\n",
    "        xpitch=15,\n",
    "        ypitch=30,\n",
    "        y_shift_per_column=[0, -15],\n",
    "        channel_id=np.append(\n",
    "            channel_groups[i][::2][::-1], channel_groups[i][1::2][::-1]\n",
    "        ),\n",
    "    )\n",
    "    shanks.append(shank)\n",
    "    shank.set_disconnected_channels(sess.recinfo.skipped_channels)\n",
    "\n",
    "probe2 = Probe(shanks)\n",
    "probe2.move((probe1.x_max+500,0))\n",
    "\n",
    "prbgrp = ProbeGroup()\n",
    "prbgrp.add_probe(probe1)\n",
    "prbgrp.add_probe(probe2)\n",
    "\n",
    "prbgrp.save(sess.filePrefix.with_suffix(\".probegroup.npy\"))\n",
    "plot_probe(prbgrp,channel_id=True)\n",
    "\n"
   ]
  },
  {
   "cell_type": "markdown",
   "metadata": {},
   "source": [
    "### Create Probemap for spyking circus"
   ]
  },
  {
   "cell_type": "code",
   "execution_count": null,
   "metadata": {},
   "outputs": [],
   "source": [
    "from neuropy.utils import probe_util\n",
    "\n",
    "probe_util.write_spyking_circus(\n",
    "    file=sess.filePrefix.with_suffix(\".prb\"), prb=sess.probegroup, combine_shanks=True\n",
    ")\n"
   ]
  },
  {
   "cell_type": "markdown",
   "metadata": {},
   "source": [
    "### Experimental paradigm\n",
    "A typical experiment involves multiple epochs such pre sleep, running on track and then another sleep epoch."
   ]
  },
  {
   "cell_type": "code",
   "execution_count": 26,
   "metadata": {},
   "outputs": [
    {
     "name": "stdout",
     "output_type": "stream",
     "text": [
      "/data/Clustering/sessions/RatV/RatVDay3NSD/RatV_Day3NSD_2021-10-07_08-10-12.paradigm.npy saved\n"
     ]
    }
   ],
   "source": [
    "import pandas as pd\n",
    "from neuropy.core import Epoch\n",
    "\n",
    "datetime_data = pd.read_csv(sess.filePrefix.with_suffix('.datetime.csv'))\n",
    "durations = datetime_data.nFrames/sess.recinfo.dat_sampling_rate\n",
    "epochs = pd.DataFrame(\n",
    "    {\n",
    "        \"start\": [0,10136,13354,45527],\n",
    "        \"stop\": [10135,13353,45526,47948],\n",
    "        \"label\": [\"pre\", \"maze\",'post','re-maze'],\n",
    "    }\n",
    ")\n",
    "\n",
    "paradigm = Epoch(epochs=epochs)\n",
    "paradigm.save(sess.filePrefix.with_suffix(\".paradigm.npy\"))"
   ]
  },
  {
   "cell_type": "code",
   "execution_count": 24,
   "metadata": {},
   "outputs": [
    {
     "data": {
      "text/plain": [
       "0     6647.091200\n",
       "1     9051.016533\n",
       "2    10135.782400\n",
       "3    11456.196267\n",
       "4    12440.968533\n",
       "5    13353.702400\n",
       "6    37591.133867\n",
       "7    45169.860267\n",
       "8    45526.596267\n",
       "9    47948.390400\n",
       "Name: nFrames, dtype: float64"
      ]
     },
     "execution_count": 24,
     "metadata": {},
     "output_type": "execute_result"
    }
   ],
   "source": [
    "durations.cumsum()"
   ]
  },
  {
   "cell_type": "code",
   "execution_count": 25,
   "metadata": {},
   "outputs": [
    {
     "data": {
      "text/plain": [
       "array([2.81527778, 0.89361111, 8.93666667, 0.6725    ])"
      ]
     },
     "execution_count": 25,
     "metadata": {},
     "output_type": "execute_result"
    }
   ],
   "source": [
    "paradigm.durations/3600"
   ]
  },
  {
   "cell_type": "markdown",
   "metadata": {},
   "source": [
    "### Neurons\n",
    "- import spiketrains from Phy\n",
    "- estimate neuron types such pyramidal, interneuron etc. "
   ]
  },
  {
   "cell_type": "markdown",
   "metadata": {},
   "source": [
    "### Importing spiketrains from Phy"
   ]
  },
  {
   "cell_type": "markdown",
   "metadata": {},
   "source": [
    "### Single folder"
   ]
  },
  {
   "cell_type": "code",
   "execution_count": null,
   "metadata": {},
   "outputs": [],
   "source": [
    "from neuropy.io import PhyIO\n",
    "from neuropy.core import Neurons\n",
    "from pathlib import Path\n",
    "import numpy as np\n",
    "\n",
    "cluster_path = Path(\n",
    "    \"/home/bapung/Documents/ClusteringHub/spykcirc/RatV/RatVDay2SD/RatV_Day2SD_2021-10-04_08-02-10-1.GUI\"\n",
    ")\n",
    "chan_grps = sess.recinfo.channel_groups\n",
    "phy_data = PhyIO(cluster_path)\n",
    "spiketrains = phy_data.spiketrains\n",
    "peak_chans = phy_data.peak_channels\n",
    "waveforms = phy_data.waveforms\n",
    "shank_id = sess.probegroup.get_shank_id_for_channels(peak_chans)\n",
    "\n",
    "neuron_type_id = phy_data.cluster_info.q.values\n",
    "neuron_type = np.ones(len(neuron_type_id), dtype=\"U5\")\n",
    "neuron_type[neuron_type_id < 4] = \"pyr\"\n",
    "neuron_type[neuron_type_id == 6] = \"mua\"\n",
    "neuron_type[neuron_type_id == 8] = \"inter\"\n",
    "\n",
    "\n",
    "neurons = Neurons(\n",
    "    np.array(spiketrains, dtype=object),\n",
    "    t_stop=sess.eegfile.duration,\n",
    "    sampling_rate=phy_data.sampling_rate,\n",
    "    peak_channels=peak_chans,\n",
    "    waveforms=np.array(waveforms, dtype=\"object\"),\n",
    "    neuron_type=neuron_type,\n",
    "    shank_ids=np.array(shank_id).astype(int),\n",
    "    metadata={'cluster_path':str(cluster_path)}\n",
    ")\n",
    "\n",
    "neurons.save(sess.filePrefix.with_suffix(\".neurons\"))"
   ]
  },
  {
   "cell_type": "markdown",
   "metadata": {},
   "source": [
    "### Plot raster"
   ]
  },
  {
   "cell_type": "code",
   "execution_count": null,
   "metadata": {},
   "outputs": [],
   "source": [
    "%matplotlib widget\n",
    "import matplotlib.pyplot as plt\n",
    "from neuropy.plotting import plot_raster\n",
    "\n",
    "plot_raster(neurons,color='jet',add_vert_jitter=True)"
   ]
  },
  {
   "cell_type": "markdown",
   "metadata": {},
   "source": [
    "### BinnedSpiketrain and Mua objects using Neurons"
   ]
  },
  {
   "cell_type": "code",
   "execution_count": null,
   "metadata": {},
   "outputs": [],
   "source": [
    "mua =sess.neurons.get_mua()\n",
    "mua.filename = sess.filePrefix.with_suffix(\".mua.npy\")\n",
    "mua.save()   \n"
   ]
  },
  {
   "cell_type": "code",
   "execution_count": null,
   "metadata": {},
   "outputs": [],
   "source": [
    "%matplotlib widget\n",
    "from neuropy import plotting\n",
    "smth_mua = sess.mua.get_smoothed(sigma=0.02)\n",
    "plotting.plot_mua(smth_mua)"
   ]
  },
  {
   "cell_type": "markdown",
   "metadata": {},
   "source": [
    "### Detect epochs\n",
    "Here we will various types of epochs which typical for hippocampal recordings."
   ]
  },
  {
   "cell_type": "markdown",
   "metadata": {},
   "source": [
    "### Artifacts\n",
    "A typical session will have some artifacts that may negatively influence many analyses. Using a simple zscore measure, we can identify epochs where signal is above some threshold."
   ]
  },
  {
   "cell_type": "code",
   "execution_count": 12,
   "metadata": {},
   "outputs": [
    {
     "name": "stdout",
     "output_type": "stream",
     "text": [
      "/data/Clustering/sessions/RatV/RatVDay3NSD/RatV_Day3NSD_2021-10-07_08-10-12.artifact.npy saved\n"
     ]
    }
   ],
   "source": [
    "from neuropy import analyses \n",
    "\n",
    "signal = sess.eegfile.get_signal([1,192])\n",
    "artifact_epochs = analyses.detect_artifact_epochs(signal, thresh=7,edge_cutoff=2)\n",
    "artifact_epochs.save(sess.filePrefix.with_suffix(\".artifact.npy\"))"
   ]
  },
  {
   "cell_type": "code",
   "execution_count": 15,
   "metadata": {},
   "outputs": [
    {
     "data": {
      "text/plain": [
       "<AxesSubplot:xlabel='Time (s)', ylabel='Absolute zscore'>"
      ]
     },
     "execution_count": 15,
     "metadata": {},
     "output_type": "execute_result"
    },
    {
     "data": {
      "application/vnd.jupyter.widget-view+json": {
       "model_id": "04df46bbe9d24bb8b7e48fc41d028499",
       "version_major": 2,
       "version_minor": 0
      },
      "image/png": "[encoded data removed]",
      "text/html": [
       "\n",
       "            <div style=\"display: inline-block;\">\n",
       "                <div class=\"jupyter-widgets widget-label\" style=\"text-align: center;\">\n",
       "                    Figure\n",
       "                </div>\n",
       "                <img src='data:image/png;base64,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' width=640.0/>\n",
       "            </div>\n",
       "        "
      ],
      "text/plain": [
       "Canvas(toolbar=Toolbar(toolitems=[('Home', 'Reset original view', 'home', 'home'), ('Back', 'Back to previous …"
      ]
     },
     "metadata": {},
     "output_type": "display_data"
    }
   ],
   "source": [
    "%matplotlib widget\n",
    "from neuropy import plotting\n",
    "signal = sess.eegfile.get_signal([1])\n",
    "plotting.plot_artifact_epochs(sess.artifact, signal)"
   ]
  },
  {
   "cell_type": "markdown",
   "metadata": {},
   "source": [
    "### export for spyking circus"
   ]
  },
  {
   "cell_type": "code",
   "execution_count": 2,
   "metadata": {},
   "outputs": [
    {
     "name": "stdout",
     "output_type": "stream",
     "text": [
      "RatV_Day3NSD_2021-10-07_08-10-12.dead created\n"
     ]
    }
   ],
   "source": [
    "from neuropy.io import SpykingCircusIO\n",
    "\n",
    "SpykingCircusIO.write_epochs(sess.filePrefix.with_suffix('.dead'),sess.artifact)"
   ]
  },
  {
   "cell_type": "markdown",
   "metadata": {},
   "source": [
    "### Ripple\n",
    "To detect ripples one also needs probegroup."
   ]
  },
  {
   "cell_type": "code",
   "execution_count": 28,
   "metadata": {},
   "outputs": [
    {
     "name": "stdout",
     "output_type": "stream",
     "text": [
      "Selected channels for ripples: [6, 26, 40, 62, 67, 81, 103, 127, 137, 157, 172, 191, 207, 221, 238, 254]\n",
      "645157 epochs detected initially\n",
      "198926 epochs reamining after merging close ones\n",
      "20519 epochs reamining after deleting epochs with weaker power\n",
      "18405 epochs reamining after deleting short epochs\n",
      "17619 epochs reamining after deleting very long epochs\n",
      "/data/Clustering/sessions/RatV/RatVDay3NSD/RatV_Day3NSD_2021-10-07_08-10-12.ripple.npy saved\n"
     ]
    }
   ],
   "source": [
    "from neuropy.analyses import oscillations\n",
    "\n",
    "signal = sess.eegfile.get_signal()\n",
    "ripple_epochs = oscillations.detect_ripple_epochs(\n",
    "    signal, sess.probegroup, freq_band=(125,250),ignore_epochs=sess.artifact\n",
    ")\n",
    "ripple_epochs.save(sess.filePrefix.with_suffix(\".ripple.npy\"))"
   ]
  },
  {
   "cell_type": "markdown",
   "metadata": {},
   "source": [
    "### Pbe"
   ]
  },
  {
   "cell_type": "code",
   "execution_count": null,
   "metadata": {},
   "outputs": [],
   "source": [
    "from neuropy.analyses import detect_pbe_epochs\n",
    "\n",
    "pbe = detect_pbe_epochs(smth_mua)\n",
    "pbe.filename = sess.filePrefix.with_suffix('.pbe')\n",
    "pbe.save()\n"
   ]
  },
  {
   "cell_type": "markdown",
   "metadata": {},
   "source": [
    "### Assign position data"
   ]
  },
  {
   "cell_type": "code",
   "execution_count": null,
   "metadata": {},
   "outputs": [],
   "source": [
    "from neuropy.io import OptitrackIO\n",
    "from neuropy.core import Position\n",
    "from pathlib import Path\n",
    "\n",
    "opti_folder = sess.filePrefix.parent / 'position'\n",
    "opti_data = OptitrackIO(dirname=opti_folder,scale_factor=0.25)"
   ]
  },
  {
   "cell_type": "code",
   "execution_count": null,
   "metadata": {},
   "outputs": [],
   "source": [
    "import pandas as pd\n",
    "from datetime import datetime\n",
    "\n",
    "#---- startimes of concatenated .dat files\n",
    "tracking_sRate = opti_data.sampling_rate\n",
    "rec_datetime = pd.read_csv(sess.filePrefix.with_suffix('.datetime.csv'))\n",
    "data_time = []\n",
    "for i, file_time in enumerate(rec_datetime[\"StartTime\"]):\n",
    "    sync_time = rec_datetime['sync_nframes'][i]/rec_datetime['sync_rate'][i]\n",
    "    tbegin = datetime.strptime(file_time, \"%Y-%m-%d_%H-%M-%S\") + pd.Timedelta(sync_time,unit='sec')\n",
    "    nframes = rec_datetime[\"nFrames\"][i]\n",
    "    duration = pd.Timedelta(nframes / sess.recinfo.dat_sampling_rate, unit=\"sec\")\n",
    "    tend = tbegin + duration\n",
    "    trange = pd.date_range(\n",
    "        start=tbegin,\n",
    "        end=tend,\n",
    "        periods=int(duration.total_seconds() * tracking_sRate),\n",
    "    )\n",
    "    data_time.extend(trange)\n",
    "data_time = pd.to_datetime(data_time)\n",
    "\n",
    "# ------- deleting intervals that were deleted from .dat file after concatenating\n",
    "ndeletedintervals = rec_datetime.count()[\"deletedStart (minutes)\"]\n",
    "for i in range(ndeletedintervals):\n",
    "    tnoisy_begin = data_time[0] + pd.Timedelta(\n",
    "        rec_datetime[\"deletedStart (minutes)\"][i], unit=\"m\"\n",
    "    )\n",
    "    tnoisy_end = data_time[0] + pd.Timedelta(\n",
    "        rec_datetime[\"deletedEnd (minutes)\"][i], unit=\"m\"\n",
    "    )\n",
    "\n",
    "    del_index = np.where((data_time > tnoisy_begin) & (data_time < tnoisy_end))[\n",
    "        0\n",
    "    ]\n",
    "\n",
    "    data_time = np.delete(data_time, del_index)\n",
    "\n",
    "x,y,z = opti_data.get_position_at_datetimes(data_time)\n",
    "traces = np.vstack((z,x,y))\n",
    "\n",
    "position = Position(traces=traces,t_start=0,sampling_rate=opti_data.sampling_rate)\n",
    "position.filename = sess.filePrefix.with_suffix('.position.npy')\n",
    "position.save()"
   ]
  },
  {
   "cell_type": "code",
   "execution_count": null,
   "metadata": {},
   "outputs": [],
   "source": [
    "%matplotlib widget\n",
    "import matplotlib.pyplot as plt\n",
    "\n",
    "# plt.plot(opti_data.datetime_array,opti_data.z)\n",
    "plt.plot(position.x,position.y)"
   ]
  },
  {
   "cell_type": "code",
   "execution_count": null,
   "metadata": {},
   "outputs": [],
   "source": [
    "%matplotlib widget\n",
    "from neuropy.utils import signal_process\n",
    "\n",
    "signal = sess.eegfile.get_signal([40])\n",
    "\n",
    "spec = signal_process.spectrogramBands(signal.traces[0])\n"
   ]
  },
  {
   "cell_type": "code",
   "execution_count": null,
   "metadata": {},
   "outputs": [],
   "source": [
    "%matplotlib widget\n",
    "\n",
    "import matplotlib.pyplot as plt\n",
    "\n",
    "plt.plot(spec.time,spec.theta/500)\n",
    "plt.plot(sess.position.time,sess.position.y)\n",
    "plt.plot(sess.position.time[1:],np.diff(sess.position.y)*100)\n",
    "plt.xlim([12500,12600])\n",
    "plt.ylim([-400,400])"
   ]
  },
  {
   "cell_type": "markdown",
   "metadata": {},
   "source": [
    "### Linearize position"
   ]
  },
  {
   "cell_type": "code",
   "execution_count": null,
   "metadata": {},
   "outputs": [],
   "source": [
    "from neuropy.utils import position_util\n",
    "\n",
    "maze = sess.paradigm['maze']\n",
    "maze_pos = sess.position.time_slice(maze[0],maze[1])\n",
    "linear_pos = position_util.linearize_position(maze_pos)"
   ]
  },
  {
   "cell_type": "code",
   "execution_count": null,
   "metadata": {},
   "outputs": [],
   "source": [
    "%matplotlib widget\n",
    "plt.plot(maze_pos.time,maze_pos.x)\n",
    "plt.plot(linear_pos.time,linear_pos.x)"
   ]
  }
 ],
 "metadata": {
  "interpreter": {
   "hash": "cce1618081139d19eb1ee8d40815d94a2de4f62e1efb20d9406ddb60628c36ae"
  },
  "kernelspec": {
   "display_name": "Python 3.9.7 64-bit ('data_analysis': conda)",
   "name": "python3"
  },
  "language_info": {
   "codemirror_mode": {
    "name": "ipython",
    "version": 3
   },
   "file_extension": ".py",
   "mimetype": "text/x-python",
   "name": "python",
   "nbconvert_exporter": "python",
   "pygments_lexer": "ipython3",
   "version": "3.9.9"
  },
  "orig_nbformat": 4
 },
 "nbformat": 4,
 "nbformat_minor": 2
}
