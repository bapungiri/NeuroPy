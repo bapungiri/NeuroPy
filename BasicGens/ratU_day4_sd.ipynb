{
 "cells": [
  {
   "cell_type": "markdown",
   "metadata": {},
   "source": [
    "# RatU Day4SD recording info\n",
    "- No timestamps were deleted after concatenating .dat files from various folders of open-ephys"
   ]
  },
  {
   "cell_type": "code",
   "execution_count": 1,
   "metadata": {},
   "outputs": [
    {
     "name": "stdout",
     "output_type": "stream",
     "text": [
      "filename: /data/Clustering/sessions/RatU/RatUDay4SD/RatU_Day4SD_2021-07-29_08-23-06.xml \n",
      "# channels: 192\n",
      "sampling rate: 30000\n",
      "lfp Srate (downsampled): 1250\n"
     ]
    }
   ],
   "source": [
    "import numpy as np\n",
    "import subjects\n",
    "\n",
    "sess = subjects.sd.ratUday4[0]\n",
    "print(sess.recinfo)"
   ]
  },
  {
   "cell_type": "markdown",
   "metadata": {},
   "source": [
    "# Set probe configuration\n",
    "- RatU_Day4SD has two probes: both 128chan-8shanks diagnostic biochips.\n",
    "- 64 channels in one of the probes (implanted in left hemisphere) had no signal from 4 shanks (probably one of the intan chips was faulty). So only 192 channels were recorded, the channels in .dat file are already order according to depth.\n"
   ]
  },
  {
   "cell_type": "code",
   "execution_count": null,
   "metadata": {},
   "outputs": [],
   "source": [
    "%matplotlib inline\n",
    "from neuropy.core import shank, probe, probegroup\n",
    "from neuropy.plotting import plot_probe\n",
    "\n",
    "shanks = []\n",
    "channel_groups = sess.recinfo.channel_groups\n",
    "badchans = sess.recinfo.skipped_channels\n",
    "\n",
    "#--- diagnostic-biochip 8 shanks -----------\n",
    "for i in range(8):\n",
    "    chans = channel_groups[i]\n",
    "    shank = shank.auto_generate(\n",
    "        columns=2,\n",
    "        contacts_per_column=8,\n",
    "        xpitch=15,\n",
    "        ypitch=15,\n",
    "        y_shift_per_column=[0,-7.5],\n",
    "        channel_id=np.append(\n",
    "            channel_groups[i][::2][::-1], channel_groups[i][1::2][::-1]\n",
    "        ),\n",
    "    )\n",
    "    shank.set_disconnected_channels(sess.recinfo.skipped_channels)\n",
    "    shanks.append(shank)\n",
    "\n",
    "probe1 = probe(shanks)\n",
    "\n",
    "#--- dignostic biochip 4 shanks (4 shanks were bad) ----------- \n",
    "shanks = []\n",
    "for i in range(8,12):\n",
    "\n",
    "    shank = shank.auto_generate(\n",
    "        columns=2,\n",
    "        contacts_per_column=8,\n",
    "        xpitch=15,\n",
    "        ypitch=15,\n",
    "        y_shift_per_column=[0, -7.5],\n",
    "        channel_id=np.append(\n",
    "            channel_groups[i][::2][::-1], channel_groups[i][1::2][::-1]\n",
    "        ),\n",
    "    )\n",
    "    shank.set_disconnected_channels(sess.recinfo.skipped_channels)\n",
    "    shanks.append(shank)\n",
    "\n",
    "\n",
    "probe2 = probe(shanks)\n",
    "probe2.move((probe1.x_max+500,0))\n",
    "\n",
    "prbgrp = probegroup()\n",
    "prbgrp.add_probe(probe1)\n",
    "prbgrp.add_probe(probe2)\n",
    "\n",
    "prbgrp.filename = sess.fileprefix.with_suffix(\".probegroup.npy\")\n",
    "prbgrp.save()\n",
    "plot_probe(prbgrp)"
   ]
  },
  {
   "cell_type": "markdown",
   "metadata": {},
   "source": [
    "## Writing to json format for spyking-circus "
   ]
  },
  {
   "cell_type": "code",
   "execution_count": null,
   "metadata": {},
   "outputs": [],
   "source": [
    "from neuropy.utils import probe_util\n",
    "\n",
    "file = sess.filePrefix.with_suffix('.prb')\n",
    "probe_util.write_spyking_circus(file,sess.probegroup,shanksCombine=True)\n"
   ]
  },
  {
   "cell_type": "markdown",
   "metadata": {},
   "source": [
    "# Create experimental paradigm\n",
    "- pre sleep is a little shorter\n",
    "- animal was lazy on re-maze"
   ]
  },
  {
   "cell_type": "code",
   "execution_count": null,
   "metadata": {},
   "outputs": [],
   "source": [
    "sess.paradigm.to_dataframe()"
   ]
  },
  {
   "cell_type": "code",
   "execution_count": null,
   "metadata": {},
   "outputs": [],
   "source": [
    "import pandas as pd\n",
    "from neuropy.core import Epoch\n",
    "\n",
    "datetime_data = pd.read_csv(sess.filePrefix.with_suffix('.datetime.csv'))\n",
    "durations = datetime_data.nFrames/sess.recinfo.dat_sampling_rate\n",
    "epochs = pd.DataFrame(\n",
    "    {\n",
    "        \"start\": [0, 9411,12547,30565,12547,45161],\n",
    "        \"stop\": [9410, 12546, 30564, 45160,45160,48283],\n",
    "        \"label\": [\"pre\", \"maze\", \"sd\",'rs','post','re-maze'],\n",
    "    }\n",
    ")\n",
    "\n",
    "paradigm = Epoch(epochs=epochs)\n",
    "paradigm.filename = sess.filePrefix.with_suffix(\".paradigm.npy\")\n",
    "paradigm.save()\n"
   ]
  },
  {
   "cell_type": "markdown",
   "metadata": {},
   "source": [
    "# Detect epochs\n",
    "Here we will various types of epochs which typical for hippocampal recordings."
   ]
  },
  {
   "cell_type": "markdown",
   "metadata": {},
   "source": [
    "## Artifacts epochs\n",
    "A typical session will have some artifacts that may negatively influence many analyses. Using a simple zscore measure, we can identify epochs where signal is above some threshold."
   ]
  },
  {
   "cell_type": "code",
   "execution_count": null,
   "metadata": {},
   "outputs": [],
   "source": [
    "%matplotlib widget\n",
    "from neuropy.analyses import detect_artifact_epochs\n",
    "from neuropy import plotting\n",
    "from neuropy.utils import signal_process\n",
    "from neuropy.core import Signal\n",
    "print(sess)\n",
    "signal = sess.eegfile.get_signal([63])\n",
    "filt_trace = signal_process.filter_sig.highpass(signal.traces,cutoff=400)\n",
    "filtered_signal = Signal(filt_trace,signal.sampling_rate)\n",
    "artifact_epochs = detect_artifact_epochs(filtered_signal, thresh=20)\n",
    "artifact_epochs.filename = sess.filePrefix.with_suffix(\".artifact.npy\")\n",
    "artifact_epochs.save()\n",
    "plotting.plot_artifact_epochs(artifact_epochs, filtered_signal)\n"
   ]
  },
  {
   "cell_type": "markdown",
   "metadata": {},
   "source": [
    "### write artifact epochs to spyking circus format"
   ]
  },
  {
   "cell_type": "code",
   "execution_count": null,
   "metadata": {},
   "outputs": [],
   "source": [
    "from neuropy.io import SpykingCircusIO\n",
    "\n",
    "file = sess.filePrefix.with_suffix('.dead')\n",
    "SpykingCircusIO.write_epochs(file,sess.artifact)"
   ]
  },
  {
   "cell_type": "markdown",
   "metadata": {},
   "source": [
    "## Sleep scoring"
   ]
  },
  {
   "cell_type": "code",
   "execution_count": null,
   "metadata": {},
   "outputs": [],
   "source": [
    "from neuropy.core import Signal\n",
    "from neuropy.analyses import brainstates\n",
    "\n",
    "signal = sess.eegfile.get_signal() \n",
    "brainstates = brainstates.detect_brainstates_epochs(signal=signal,probe=sess.probegroup)"
   ]
  },
  {
   "cell_type": "code",
   "execution_count": null,
   "metadata": {},
   "outputs": [],
   "source": [
    "brainstates.filename = sess.filePrefix.with_suffix('.brainstates')\n",
    "brainstates.save()"
   ]
  },
  {
   "cell_type": "markdown",
   "metadata": {},
   "source": [
    "## Ripple epochs\n",
    "To detect ripples one also needs probegroup."
   ]
  },
  {
   "cell_type": "code",
   "execution_count": null,
   "metadata": {},
   "outputs": [],
   "source": [
    "from neuropy.analyses import oscillations\n",
    "signal = sess.eegfile.get_signal()\n",
    "ripple_epochs =oscillations.detect_ripple_epochs(signal, sess.probegroup)\n",
    "ripple_epochs.filename = sess.filePrefix.with_suffix('.ripple.npy')\n",
    "ripple_epochs.save()"
   ]
  },
  {
   "cell_type": "code",
   "execution_count": null,
   "metadata": {},
   "outputs": [],
   "source": [
    "signal = sess.eegfile.get_signal(channel_id=[1, 2, 3, 4], t_start=1, t_stop=1.2)\n",
    "plotting.plot_signal_traces(signal)"
   ]
  },
  {
   "cell_type": "markdown",
   "metadata": {},
   "source": [
    "# Neurons"
   ]
  },
  {
   "cell_type": "markdown",
   "metadata": {},
   "source": [
    "## Importing spiketrains from Phy"
   ]
  },
  {
   "cell_type": "code",
   "execution_count": null,
   "metadata": {},
   "outputs": [],
   "source": [
    "from neuropy.io import PhyIO\n",
    "from neuropy.core import Neurons\n",
    "from pathlib import Path\n",
    "import numpy as np\n",
    "\n",
    "cluster_path = Path(\"/home/bapung/Documents/ClusteringHub/spykcirc/RatU/RatUDay4SD/RatU_Day4SD_2021-07-29_08-23-06-1.GUI\")\n",
    "chan_grps = sess.recinfo.channel_groups\n",
    "phy_data = PhyIO(cluster_path)\n",
    "spiketrains =phy_data.spiketrains\n",
    "peak_chans = phy_data.peak_channels\n",
    "waveforms = phy_data.waveforms\n",
    "shank_id = sess.probegroup.get_shank_id_for_channels(peak_chans)\n",
    "\n",
    "neuron_type_id = phy_data.cluster_info.q.values\n",
    "neuron_type = np.ones(len(neuron_type_id), dtype=\"U5\")\n",
    "neuron_type[neuron_type_id<4] = 'pyr'\n",
    "neuron_type[neuron_type_id==6] = 'mua'\n",
    "neuron_type[neuron_type_id==8] = 'inter'\n",
    "\n",
    "\n",
    "neurons = Neurons(\n",
    "    np.array(spiketrains, dtype=object),\n",
    "    t_stop=sess.eegfile.duration,\n",
    "    sampling_rate=phy_data.sampling_rate,\n",
    "    peak_channels=peak_chans,\n",
    "    waveforms=np.array(waveforms,dtype='object'),\n",
    "    shank_ids=np.array(shank_id).astype(int),\n",
    "    neuron_type=neuron_type,\n",
    "    metadata={'cluster_path':cluster_path}\n",
    ")\n",
    "\n",
    "neurons.filename = sess.filePrefix.with_suffix('.neurons')\n",
    "neurons.save()\n"
   ]
  },
  {
   "cell_type": "code",
   "execution_count": null,
   "metadata": {},
   "outputs": [],
   "source": [
    "%matplotlib widget\n",
    "import matplotlib.pyplot as plt\n",
    "from neuropy.plotting import plot_raster\n",
    "\n",
    "\n",
    "plt.plot(phy_data.peak_waveforms[0])\n",
    "plot_raster(neurons,color='jet',add_vert_jitter=True)"
   ]
  },
  {
   "cell_type": "markdown",
   "metadata": {},
   "source": [
    "## BinnedSpiketrain and Mua objects using Neurons"
   ]
  },
  {
   "cell_type": "code",
   "execution_count": null,
   "metadata": {},
   "outputs": [],
   "source": [
    "mua =sess.neurons.get_mua()\n",
    "mua.filename = sess.filePrefix.with_suffix(\".mua.npy\")\n",
    "mua.save()   \n"
   ]
  },
  {
   "cell_type": "code",
   "execution_count": null,
   "metadata": {},
   "outputs": [],
   "source": [
    "%matplotlib widget\n",
    "from neuropy import plotting\n",
    "smth_mua = sess.mua.get_smoothed(sigma=0.02)\n",
    "plotting.plot_mua(smth_mua)"
   ]
  },
  {
   "cell_type": "code",
   "execution_count": null,
   "metadata": {},
   "outputs": [],
   "source": [
    "from neuropy.analyses import detect_pbe_epochs\n",
    "\n",
    "pbe = detect_pbe_epochs(smth_mua)\n",
    "pbe.filename = sess.filePrefix.with_suffix('.pbe')\n",
    "pbe.save()\n"
   ]
  },
  {
   "cell_type": "markdown",
   "metadata": {},
   "source": [
    "# Position\n",
    "- concatenated .dat file did not have any deleted timepoints"
   ]
  },
  {
   "cell_type": "markdown",
   "metadata": {},
   "source": [
    "## Import position from optitrack"
   ]
  },
  {
   "cell_type": "code",
   "execution_count": null,
   "metadata": {},
   "outputs": [],
   "source": [
    "from neuropy.io import OptitrackIO\n",
    "from neuropy.core import Position\n",
    "from pathlib import Path\n",
    "\n",
    "opti_folder = sess.filePrefix.parent / 'position'\n",
    "opti_data = OptitrackIO(dirname=opti_folder)"
   ]
  },
  {
   "cell_type": "markdown",
   "metadata": {},
   "source": [
    "## Align position with .dat file"
   ]
  },
  {
   "cell_type": "code",
   "execution_count": null,
   "metadata": {},
   "outputs": [],
   "source": [
    "import pandas as pd\n",
    "from datetime import datetime\n",
    "\n",
    "#---- startimes of concatenated .dat files\n",
    "tracking_sRate = opti_data.sampling_rate\n",
    "rec_datetime = pd.read_csv(sess.filePrefix.with_suffix('.datetime.csv'))\n",
    "data_time = []\n",
    "for i, file_time in enumerate(rec_datetime[\"StartTime\"]):\n",
    "    sync_time = rec_datetime['sync_nframes'][i]/rec_datetime['sync_rate'][i]\n",
    "    tbegin = datetime.strptime(file_time, \"%Y-%m-%d_%H-%M-%S\") \n",
    "    nframes = rec_datetime[\"nFrames\"][i]\n",
    "    duration = pd.Timedelta(nframes / sess.recinfo.dat_sampling_rate, unit=\"sec\")\n",
    "    tend = tbegin + duration\n",
    "    trange = pd.date_range(\n",
    "        start=tbegin,\n",
    "        end=tend,\n",
    "        periods=int(duration.total_seconds() * tracking_sRate),\n",
    "    )\n",
    "    data_time.extend(trange)\n",
    "data_time = pd.to_datetime(data_time)\n",
    "\n",
    "x,y,z = opti_data.get_position_at_datetimes(data_time)\n",
    "traces = np.vstack((z,x,y))\n",
    "\n",
    "position = Position(traces=traces,t_start=0,sampling_rate=opti_data.sampling_rate)"
   ]
  },
  {
   "cell_type": "code",
   "execution_count": null,
   "metadata": {},
   "outputs": [],
   "source": [
    "position.filename = sess.filePrefix.with_suffix('.position.npy')\n",
    "position.save()"
   ]
  },
  {
   "cell_type": "code",
   "execution_count": null,
   "metadata": {},
   "outputs": [],
   "source": [
    "%matplotlib widget\n",
    "import matplotlib.pyplot as plt\n",
    "\n",
    "# plt.plot(opti_data.datetime_array,opti_data.z)\n",
    "plt.plot(sess.position.time,sess.position.x)"
   ]
  },
  {
   "cell_type": "markdown",
   "metadata": {},
   "source": [
    "## Checking position alignment with .dat file\n",
    "- Comparing theta power, speed and position to check if high theta periods are correlated with the speed of the animal"
   ]
  },
  {
   "cell_type": "code",
   "execution_count": 4,
   "metadata": {},
   "outputs": [],
   "source": [
    "%matplotlib widget\n",
    "from neuropy.utils import signal_process\n",
    "\n",
    "maze= sess.paradigm['maze']\n",
    "signal = sess.eegfile.get_signal(158,t_start=maze[0],t_stop=maze[1])\n",
    "spec = signal_process.SpectrogramBands(signal)"
   ]
  },
  {
   "cell_type": "code",
   "execution_count": 5,
   "metadata": {},
   "outputs": [
    {
     "data": {
      "text/plain": [
       "array([32256.303, 27760.781, 28087.732, ..., 34608.477, 32913.88 ,\n",
       "       17496.146], dtype=float32)"
      ]
     },
     "execution_count": 5,
     "metadata": {},
     "output_type": "execute_result"
    }
   ],
   "source": []
  },
  {
   "cell_type": "code",
   "execution_count": 6,
   "metadata": {},
   "outputs": [
    {
     "ename": "AttributeError",
     "evalue": "'ProcessData' object has no attribute 'position'",
     "output_type": "error",
     "traceback": [
      "\u001b[0;31m---------------------------------------------------------------------------\u001b[0m",
      "\u001b[0;31mAttributeError\u001b[0m                            Traceback (most recent call last)",
      "\u001b[0;32m/tmp/ipykernel_58446/3262158737.py\u001b[0m in \u001b[0;36m<module>\u001b[0;34m\u001b[0m\n\u001b[1;32m      4\u001b[0m \u001b[0;34m\u001b[0m\u001b[0m\n\u001b[1;32m      5\u001b[0m \u001b[0mplt\u001b[0m\u001b[0;34m.\u001b[0m\u001b[0mplot\u001b[0m\u001b[0;34m(\u001b[0m\u001b[0mspec\u001b[0m\u001b[0;34m.\u001b[0m\u001b[0mtime\u001b[0m\u001b[0;34m,\u001b[0m\u001b[0mspec\u001b[0m\u001b[0;34m.\u001b[0m\u001b[0mtheta\u001b[0m\u001b[0;34m/\u001b[0m\u001b[0;36m1800\u001b[0m\u001b[0;34m)\u001b[0m\u001b[0;34m\u001b[0m\u001b[0;34m\u001b[0m\u001b[0m\n\u001b[0;32m----> 6\u001b[0;31m \u001b[0mplt\u001b[0m\u001b[0;34m.\u001b[0m\u001b[0mplot\u001b[0m\u001b[0;34m(\u001b[0m\u001b[0msess\u001b[0m\u001b[0;34m.\u001b[0m\u001b[0mposition\u001b[0m\u001b[0;34m.\u001b[0m\u001b[0mtime\u001b[0m\u001b[0;34m,\u001b[0m\u001b[0msess\u001b[0m\u001b[0;34m.\u001b[0m\u001b[0mposition\u001b[0m\u001b[0;34m.\u001b[0m\u001b[0my\u001b[0m\u001b[0;34m)\u001b[0m\u001b[0;34m\u001b[0m\u001b[0;34m\u001b[0m\u001b[0m\n\u001b[0m\u001b[1;32m      7\u001b[0m \u001b[0mplt\u001b[0m\u001b[0;34m.\u001b[0m\u001b[0mplot\u001b[0m\u001b[0;34m(\u001b[0m\u001b[0msess\u001b[0m\u001b[0;34m.\u001b[0m\u001b[0mposition\u001b[0m\u001b[0;34m.\u001b[0m\u001b[0mtime\u001b[0m\u001b[0;34m[\u001b[0m\u001b[0;36m1\u001b[0m\u001b[0;34m:\u001b[0m\u001b[0;34m]\u001b[0m\u001b[0;34m,\u001b[0m\u001b[0mnp\u001b[0m\u001b[0;34m.\u001b[0m\u001b[0mdiff\u001b[0m\u001b[0;34m(\u001b[0m\u001b[0msess\u001b[0m\u001b[0;34m.\u001b[0m\u001b[0mposition\u001b[0m\u001b[0;34m.\u001b[0m\u001b[0mx\u001b[0m\u001b[0;34m)\u001b[0m\u001b[0;34m*\u001b[0m\u001b[0;36m100\u001b[0m\u001b[0;34m)\u001b[0m\u001b[0;34m\u001b[0m\u001b[0;34m\u001b[0m\u001b[0m\n\u001b[1;32m      8\u001b[0m \u001b[0;31m# plt.xlim([1500,1600])\u001b[0m\u001b[0;34m\u001b[0m\u001b[0;34m\u001b[0m\u001b[0m\n",
      "\u001b[0;31mAttributeError\u001b[0m: 'ProcessData' object has no attribute 'position'"
     ]
    },
    {
     "data": {
      "application/vnd.jupyter.widget-view+json": {
       "model_id": "a0a80a2303ff4a9089340eee1408b0d8",
       "version_major": 2,
       "version_minor": 0
      },
      "text/html": [
       "\n",
       "            <div style=\"display: inline-block;\">\n",
       "                <div class=\"jupyter-widgets widget-label\" style=\"text-align: center;\">\n",
       "                    Figure\n",
       "                </div>\n",
       "                <img src='data:image/png;base64,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' width=640.0/>\n",
       "            </div>\n",
       "        "
      ],
      "text/plain": [
       "Canvas(toolbar=Toolbar(toolitems=[('Home', 'Reset original view', 'home', 'home'), ('Back', 'Back to previous …"
      ]
     },
     "metadata": {},
     "output_type": "display_data"
    }
   ],
   "source": [
    "%matplotlib widget\n",
    "\n",
    "import matplotlib.pyplot as plt\n",
    "\n",
    "plt.plot(spec.time,spec.theta/1800)\n",
    "plt.plot(sess.position.time,sess.position.y)\n",
    "plt.plot(sess.position.time[1:],np.diff(sess.position.x)*100)\n",
    "# plt.xlim([1500,1600])\n",
    "plt.ylim([-400,400])"
   ]
  }
 ],
 "metadata": {
  "interpreter": {
   "hash": "cce1618081139d19eb1ee8d40815d94a2de4f62e1efb20d9406ddb60628c36ae"
  },
  "kernelspec": {
   "display_name": "Python 3.9.7 64-bit ('data_analysis': conda)",
   "name": "python3"
  },
  "language_info": {
   "codemirror_mode": {
    "name": "ipython",
    "version": 3
   },
   "file_extension": ".py",
   "mimetype": "text/x-python",
   "name": "python",
   "nbconvert_exporter": "python",
   "pygments_lexer": "ipython3",
   "version": "3.9.7"
  },
  "orig_nbformat": 4
 },
 "nbformat": 4,
 "nbformat_minor": 2
}
