{
 "cells": [
  {
   "cell_type": "code",
   "execution_count": null,
   "metadata": {},
   "outputs": [],
   "source": [
    "import numpy as np\n",
    "import matplotlib.pyplot as plt\n",
    "from scipy import stats\n",
    "import pandas as pd\n",
    "from ModulesPath.plotUtil import Fig\n",
    "import subjects\n",
    "\n",
    "sess = subjects.Sd().ratNday1[0]\n",
    "# epochs = pd.DataFrame(\n",
    "#     {\n",
    "#         \"start\": [0, 11476, 15120],\n",
    "#         \"stop\": [11280, 14760, 54600],\n",
    "#         \"label\": [\"pre\", \"maze\", \"post\"],\n",
    "#     }\n",
    "# )\n",
    "# sess.paradigm.add_epochs(epochs)\n",
    "\n",
    "# sess.paradigm.add_epochs(pd.DataFrame({'start':[15120],'stop':[15120+5*3600],'label':['sd']}))"
   ]
  },
  {
   "cell_type": "code",
   "execution_count": null,
   "metadata": {},
   "outputs": [],
   "source": [
    "spikes_folder = '/data/Clustering/SleepDeprivation/RatN/Day1/spykcirc/clus_combined'\n",
    "sess.neurons.from_Phy(spikes_folder)"
   ]
  },
  {
   "cell_type": "code",
   "execution_count": null,
   "metadata": {},
   "outputs": [],
   "source": [
    "sess.neurons.n_neurons"
   ]
  },
  {
   "cell_type": "code",
   "execution_count": null,
   "metadata": {},
   "outputs": [],
   "source": [
    "file = '/data/Clustering/SleepDeprivation/RatN/Day1/RatN_Day1_2019-10-09_03-52-32.test_position.npy'\n",
    "\n",
    "data = np.load(file,allow_pickle=True).item()\n",
    "\n",
    "data"
   ]
  },
  {
   "cell_type": "code",
   "execution_count": null,
   "metadata": {},
   "outputs": [],
   "source": [
    "import numpy as np\n",
    "import pandas as pd\n",
    "from ModulesPath.core import Epoch\n",
    "\n",
    "a = pd.DataFrame({\"start\": [1, 2, 3], \"stop\": [3, 4, 5], \"label\": [3, 4, 6]})\n",
    "\n",
    "b = np.where(a[\"label\"] == 3)[0]\n",
    "\n",
    "a.loc[0][[\"start\", \"stop\"]].values\n",
    "\n",
    "d = pd.DataFrame(columns=[\"start\", \"stop\"])\n",
    "\n",
    "d.empty\n"
   ]
  },
  {
   "cell_type": "markdown",
   "metadata": {},
   "source": [
    "## Convert epochs to currect format"
   ]
  },
  {
   "cell_type": "code",
   "execution_count": null,
   "metadata": {},
   "outputs": [],
   "source": [
    "import pandas as pd\n",
    "import numpy as np\n",
    "\n",
    "file = \"/data/Clustering/SleepDeprivation/RatJ/Day1/RatJ_Day1_2019-05-31_03-55-36_epochs.npy\"\n",
    "\n",
    "data =  np.load(file,allow_pickle=True).item()\n",
    "\n",
    "epochs = pd.DataFrame(data)\n",
    "a = epochs.T.reset_index()\n",
    "\n",
    "epochs_new = pd.DataFrame({'start':a[0],'stop':a[1],'label':a['index'].str.lower()})\n",
    "metadata = None\n",
    "\n",
    "data = {'epochs':epochs_new,'metadata':metadata}\n",
    "\n",
    "np.save(file[:-11]+\".epochs.npy\",data)\n"
   ]
  },
  {
   "cell_type": "code",
   "execution_count": null,
   "metadata": {},
   "outputs": [],
   "source": [
    "epochs_new"
   ]
  },
  {
   "cell_type": "code",
   "execution_count": 54,
   "metadata": {},
   "outputs": [
    {
     "data": {
      "text/plain": [
       "True"
      ]
     },
     "execution_count": 54,
     "metadata": {},
     "output_type": "execute_result"
    }
   ],
   "source": [
    "\n",
    "class A:\n",
    "    def __init__(self) -> None:\n",
    "        pass\n",
    "class B(A):\n",
    "    def __init__(self) -> None:\n",
    "        pass\n",
    "a = B()\n",
    "\n",
    "isinstance(a,B)"
   ]
  },
  {
   "cell_type": "code",
   "execution_count": null,
   "metadata": {},
   "outputs": [],
   "source": [
    "import numpy as np\n",
    "\n",
    "a = np.zeros(5,dtype='object')\n",
    "a[0:5] = 'dfuy'\n",
    "list(a)"
   ]
  }
 ],
 "metadata": {
  "interpreter": {
   "hash": "7b10c821bc4bd3f433a613d47515e6babc6c2152896bd1e143404cc9d6ede4ad"
  },
  "kernelspec": {
   "display_name": "Python 3.9.2 64-bit ('data_analysis': conda)",
   "name": "python3"
  },
  "language_info": {
   "codemirror_mode": {
    "name": "ipython",
    "version": 3
   },
   "file_extension": ".py",
   "mimetype": "text/x-python",
   "name": "python",
   "nbconvert_exporter": "python",
   "pygments_lexer": "ipython3",
   "version": "3.9.2"
  },
  "orig_nbformat": 2
 },
 "nbformat": 4,
 "nbformat_minor": 2
}