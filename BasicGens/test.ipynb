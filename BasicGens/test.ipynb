{
 "cells": [
  {
   "cell_type": "markdown",
   "metadata": {},
   "source": [
    "## Convert paradigm epochs to current format"
   ]
  },
  {
   "cell_type": "code",
   "execution_count": null,
   "metadata": {},
   "outputs": [],
   "source": [
    "import pandas as pd\n",
    "import numpy as np\n",
    "\n",
    "file = \"/data/Clustering/SleepDeprivation/RatN/Day2/RatN_Day2_2019-10-11_03-58-54_epochs.npy\"\n",
    "\n",
    "data = np.load(file, allow_pickle=True).item()\n",
    "\n",
    "epochs = pd.DataFrame(data)\n",
    "a = epochs.T.reset_index()\n",
    "\n",
    "epochs_new = pd.DataFrame(\n",
    "    {\"start\": a[0], \"stop\": a[1], \"label\": a[\"index\"].str.lower()}\n",
    ")\n",
    "metadata = None\n",
    "\n",
    "data = {\"epochs\": epochs_new, \"metadata\": metadata}\n",
    "\n",
    "# np.save(file[:-11] + \".paradigm.npy\", data)\n"
   ]
  },
  {
   "cell_type": "code",
   "execution_count": null,
   "metadata": {},
   "outputs": [],
   "source": [
    "import numpy as np\n",
    "import h5py\n",
    "from pathlib import Path\n",
    "import pandas as pd\n",
    "from scipy.io import loadmat\n",
    "\n",
    "source_dir = Path(\"/home/bapung/Documents\")\n",
    "file = source_dir / \"Test3.mat\"\n",
    "data = loadmat(file)\n",
    "\n",
    "arr = data[\"results0\"][\"responserate\"]\n",
    "arr = arr.astype(\"float\").squeeze()\n",
    "print(arr)\n"
   ]
  },
  {
   "cell_type": "code",
   "execution_count": 139,
   "metadata": {},
   "outputs": [],
   "source": [
    "import numpy as np\n",
    "\n",
    "\n",
    "file1 = '/data/Clustering/sessions/RatS/Day3SD/spykcirc/RatS_Day3SD_2020-11-29_07-53-30.GUI/pc_features.npy'\n",
    "\n",
    "file2 = '/data/Clustering/sessions/RatS/Day3SD/spykcirc/RatS_Day3SD_2020-11-29_07-53-30.GUI/pc_feature_ind.npy'\n",
    "\n",
    "pc_features = np.load(file1,mmap_mode='r')\n",
    "pc_feature_ind = np.load(file2)"
   ]
  },
  {
   "cell_type": "code",
   "execution_count": 151,
   "metadata": {},
   "outputs": [
    {
     "data": {
      "text/plain": [
       "array([0, 1, 2, 3, 4])"
      ]
     },
     "execution_count": 151,
     "metadata": {},
     "output_type": "execute_result"
    }
   ],
   "source": [
    "a"
   ]
  },
  {
   "cell_type": "code",
   "execution_count": 146,
   "metadata": {},
   "outputs": [],
   "source": [
    "a = np.arange(5)\n",
    "mask_ind = np.logical_or(a<2,a>3)\n",
    "b = np.ma.array(a,mask=mask_ind)"
   ]
  },
  {
   "cell_type": "code",
   "execution_count": 154,
   "metadata": {},
   "outputs": [
    {
     "data": {
      "text/plain": [
       "array([2])"
      ]
     },
     "execution_count": 154,
     "metadata": {},
     "output_type": "execute_result"
    }
   ],
   "source": [
    "np.ma.where(b<3)[0]"
   ]
  },
  {
   "cell_type": "code",
   "execution_count": 143,
   "metadata": {},
   "outputs": [
    {
     "data": {
      "text/plain": [
       "array([ True,  True, False, False,  True])"
      ]
     },
     "execution_count": 143,
     "metadata": {},
     "output_type": "execute_result"
    }
   ],
   "source": [
    "np.logical_or(a<2,a>3)"
   ]
  },
  {
   "cell_type": "code",
   "execution_count": 138,
   "metadata": {},
   "outputs": [
    {
     "data": {
      "text/plain": [
       "array([0., 0., 0., 0., 0.])"
      ]
     },
     "execution_count": 138,
     "metadata": {},
     "output_type": "execute_result"
    }
   ],
   "source": [
    "np.zeros(5)"
   ]
  },
  {
   "cell_type": "code",
   "execution_count": 137,
   "metadata": {},
   "outputs": [
    {
     "data": {
      "text/plain": [
       "(array([1, 5, 7]), array([0, 2, 4]), array([3, 2, 1]))"
      ]
     },
     "execution_count": 137,
     "metadata": {},
     "output_type": "execute_result"
    }
   ],
   "source": [
    "x = np.array([1,3,5,6,7])\n",
    "y = np.array([2,7,5,1])\n",
    "np.intersect1d(x,y,assume_unique=True,return_indices=True)"
   ]
  },
  {
   "cell_type": "code",
   "execution_count": 76,
   "metadata": {},
   "outputs": [
    {
     "data": {
      "text/plain": [
       "<matplotlib.collections.QuadMesh at 0x7feb9e0f5580>"
      ]
     },
     "execution_count": 76,
     "metadata": {},
     "output_type": "execute_result"
    },
    {
     "data": {
      "application/vnd.jupyter.widget-view+json": {
       "model_id": "63d83f336311440295aab7153f54721e",
       "version_major": 2,
       "version_minor": 0
      },
      "text/html": [
       "\n",
       "            <div style=\"display: inline-block;\">\n",
       "                <div class=\"jupyter-widgets widget-label\" style=\"text-align: center;\">\n",
       "                    Figure\n",
       "                </div>\n",
       "                <img src='data:image/png;base64,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' width=640.0/>\n",
       "            </div>\n",
       "        "
      ],
      "text/plain": [
       "Canvas(toolbar=Toolbar(toolitems=[('Home', 'Reset original view', 'home', 'home'), ('Back', 'Back to previous …"
      ]
     },
     "metadata": {},
     "output_type": "display_data"
    }
   ],
   "source": [
    "%matplotlib widget\n",
    "import matplotlib.pyplot as plt\n",
    "\n",
    "plt.pcolormesh(pc_feature_ind)"
   ]
  },
  {
   "cell_type": "code",
   "execution_count": null,
   "metadata": {},
   "outputs": [],
   "source": [
    "pc_features.shape"
   ]
  },
  {
   "cell_type": "code",
   "execution_count": 90,
   "metadata": {},
   "outputs": [],
   "source": [
    "chan ='/data/Clustering/sessions/RatS/Day3SD/spykcirc/RatS_Day3SD_2020-11-29_07-53-30.GUI/channel_map.npy'\n",
    "\n",
    "data = np.load(chan)"
   ]
  },
  {
   "cell_type": "code",
   "execution_count": 72,
   "metadata": {},
   "outputs": [
    {
     "data": {
      "text/plain": [
       "array([ 144.,  128.,  112.,   80.,   64.,   32.,   16.,    0.,  560.,\n",
       "        544.,  528.,  512.,  496.,  480.,  464.,  448.,  432.,  416.,\n",
       "        400.,  944.,  928.,  912.,  896.,  880.,  864.,  848.,  832.,\n",
       "        816.,  800., 1360., 1344., 1328., 1312., 1296., 1280., 1248.,\n",
       "       1232., 1216., 1200., 1760., 1744., 1712., 1696., 1680., 1664.,\n",
       "       1648., 1632., 1616., 1600., 2640., 2624., 2608., 2576., 2560.,\n",
       "       2544., 2528., 2512., 2496., 2480., 2464., 2432., 2416., 2400.,\n",
       "       3040., 3024., 3008., 2992., 2976., 2960., 2944., 2928., 2912.,\n",
       "       2896., 2880., 2864., 2848., 2832., 2816., 2800., 3440., 3424.,\n",
       "       3408., 3392., 3376., 3360., 3344., 3328., 3312., 3296., 3280.,\n",
       "       3264., 3248., 3232., 3216., 3200., 3840., 3824., 3808., 3792.,\n",
       "       3776., 3760., 3744., 3728., 3712., 3696., 3680., 3664., 3632.,\n",
       "       3616., 3600., 4240., 4224., 4208., 4192., 4176., 4160., 4144.,\n",
       "       4128., 4112., 4096., 4080., 4064., 4048., 4016., 4000., 4640.,\n",
       "       4624., 4608., 4592., 4576., 4560., 4544., 4528., 4512., 4496.,\n",
       "       4480., 4464., 4448., 4432., 4416., 4400., 5040., 5024., 5008.,\n",
       "       4992., 4976., 4960., 4944., 4928., 4912., 4896., 4880., 4864.,\n",
       "       4848., 4832., 4816., 4800., 5440., 5424., 5408., 5392., 5376.,\n",
       "       5360., 5344., 5328., 5312., 5296., 5280., 5264., 5248., 5232.,\n",
       "       5216., 5200.])"
      ]
     },
     "execution_count": 72,
     "metadata": {},
     "output_type": "execute_result"
    }
   ],
   "source": [
    "y"
   ]
  },
  {
   "cell_type": "code",
   "execution_count": 74,
   "metadata": {},
   "outputs": [
    {
     "data": {
      "text/plain": [
       "(1, 173)"
      ]
     },
     "execution_count": 74,
     "metadata": {},
     "output_type": "execute_result"
    }
   ],
   "source": [
    "data[:,0][None,:].shape"
   ]
  },
  {
   "cell_type": "code",
   "execution_count": 65,
   "metadata": {},
   "outputs": [],
   "source": [
    "a = data[:,0][:,np.newaxis]- data[:,0][np.newaxis,:]\n",
    "b = data[:,1][:,np.newaxis]- data[:,1][np.newaxis,:]\n",
    "\n",
    "dist = np.sqrt(a**2 + b**2)"
   ]
  },
  {
   "cell_type": "code",
   "execution_count": 67,
   "metadata": {},
   "outputs": [
    {
     "data": {
      "text/plain": [
       "<matplotlib.collections.QuadMesh at 0x7feb9e1aff70>"
      ]
     },
     "execution_count": 67,
     "metadata": {},
     "output_type": "execute_result"
    },
    {
     "data": {
      "application/vnd.jupyter.widget-view+json": {
       "model_id": "14f8a05346cc4d269a81918ad99e4c95",
       "version_major": 2,
       "version_minor": 0
      },
      "text/html": [
       "\n",
       "            <div style=\"display: inline-block;\">\n",
       "                <div class=\"jupyter-widgets widget-label\" style=\"text-align: center;\">\n",
       "                    Figure\n",
       "                </div>\n",
       "                <img src='data:image/png;base64,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' width=640.0/>\n",
       "            </div>\n",
       "        "
      ],
      "text/plain": [
       "Canvas(toolbar=Toolbar(toolitems=[('Home', 'Reset original view', 'home', 'home'), ('Back', 'Back to previous …"
      ]
     },
     "metadata": {},
     "output_type": "display_data"
    }
   ],
   "source": [
    "%matplotlib widget\n",
    "\n",
    "plt.pcolormesh(dist)"
   ]
  },
  {
   "cell_type": "code",
   "execution_count": null,
   "metadata": {},
   "outputs": [],
   "source": [
    "%matplotlib qt\n",
    "import matplotlib.pyplot as plt\n",
    "\n",
    "source_dir = Path(\"/home/bapung/Documents\")\n",
    "subject_files = [source_dir/'Test.mat',source_dir/'Test2.mat'] \n",
    "\n",
    "#objective: 2 figure window with 2 subplots\n",
    "n_vars =2 \n",
    "\n",
    "for i in n_vars:\n",
    "    fig, axs = plt.subplots(1, 2, num=i)\n",
    "    axs = axs.reshape(-1)\n",
    "    for i1,file in enumerate(subject_files):\n",
    "        data = loadmat(file)\n",
    "        arr = data['results0']['responserate']\n",
    "        axs[i1].plot(subjects_info[sub_name][var])\n",
    "        axs[i1].set_xlabel('Trials')"
   ]
  },
  {
   "cell_type": "code",
   "execution_count": null,
   "metadata": {},
   "outputs": [],
   "source": [
    "sess.ripple.metadata\n"
   ]
  },
  {
   "cell_type": "code",
   "execution_count": null,
   "metadata": {},
   "outputs": [],
   "source": [
    "%matplotlib widget\n",
    "import subjects\n",
    "import numpy as np\n",
    "from scipy.signal import fftconvolve\n",
    "from neuropy.utils.signal_process import TimeFrequency\n",
    "from neuropy import plotting\n",
    "\n",
    "sess = subjects.sd.ratSday3[0]\n",
    "post = sess.paradigm['post'].flatten()\n",
    "rpl = sess.ripple.time_slice(post[0],post[1])[5].flatten()\n",
    "signal = sess.eegfile.get_signal(163,rpl[0],rpl[1])\n",
    "\n",
    "wvlt = TimeFrequency(signal,np.arange(150,250),method='wavelet',ncycles=7)\n",
    "\n",
    "plotting.plot_signal_heatmap(wvlt)\n",
    "\n",
    "\n"
   ]
  },
  {
   "cell_type": "code",
   "execution_count": null,
   "metadata": {},
   "outputs": [],
   "source": [
    "from scipy.linalg import block_diag\n",
    "import numpy as np\n",
    "import subjects\n",
    "\n",
    "sess = subjects.sd.ratSday3[0]\n",
    "\n",
    "wav = sess.neurons.waveforms\n",
    "\n",
    "a = np.arange(25).reshape(5, 5)\n",
    "b = np.arange(12).reshape(4, 3)\n",
    "\n",
    "block_diag(*[wav, wav])\n"
   ]
  },
  {
   "cell_type": "code",
   "execution_count": null,
   "metadata": {},
   "outputs": [],
   "source": [
    "%matplotlib widget\n",
    "import numpy as np\n",
    "import matplotlib.pyplot as plt\n",
    "from neuropy.plotting import plot_waveforms\n",
    "import subjects\n",
    "\n",
    "sess = subjects.sd.ratSday3[0]\n",
    "shank_ids = sess.neurons.shank_ids\n",
    "sort_ind = np.argsort(shank_ids)[::-1]\n",
    "plot_waveforms(sess.neurons,sort_order=sort_ind,color='g')"
   ]
  },
  {
   "cell_type": "code",
   "execution_count": null,
   "metadata": {},
   "outputs": [],
   "source": [
    "%matplotlib widget\n",
    "import numpy as np\n",
    "import matplotlib.pyplot as plt\n",
    "from neuropy.plotting import plot_waveforms\n",
    "import subjects\n",
    "\n",
    "sess = subjects.sd.ratSday3[0]\n",
    "wav = sess.neurons.waveforms\n",
    "\n",
    "a1,b1 = wav[20],wav[25]\n",
    "b1 = np.where(b1!=0,b1,np.nan)\n",
    "# plot_wv = a1\n",
    "corr = np.corrcoef(a1.astype('float'),b1.astype('float'))\n",
    "# plt.imshow(corr[173:,:173])\n",
    "# plt.plot(b1.T+np.linspace(0,500,a1.shape[0]))"
   ]
  },
  {
   "cell_type": "code",
   "execution_count": null,
   "metadata": {},
   "outputs": [],
   "source": [
    "waveforms = sess.neurons.waveforms\n",
    "# waveforms = np.where(waveforms!=0,waveforms,np.nan)\n",
    "mx = np.ma.masked_equal(waveforms, value=0)\n",
    "waveforms = np.ma.reshape(mx, (sess.neurons.n_neurons, -1)).astype(float)\n",
    "similarity = np.ma.corrcoef(waveforms)\n",
    "np.fill_diagonal(similarity, 0)\n"
   ]
  },
  {
   "cell_type": "code",
   "execution_count": null,
   "metadata": {},
   "outputs": [],
   "source": [
    "import numpy as np\n",
    "\n",
    "bins = np.arange(-1, 1, 0.001)\n",
    "hist_sim = np.histogram(np.arange(100), bins=bins)[0]\n"
   ]
  },
  {
   "cell_type": "code",
   "execution_count": null,
   "metadata": {},
   "outputs": [],
   "source": [
    "%matplotlib widget\n",
    "# plt.imshow(similarity[np.ix_(sort_ind,sort_ind)])\n",
    "plt.plot(hist_sim)"
   ]
  },
  {
   "cell_type": "code",
   "execution_count": null,
   "metadata": {},
   "outputs": [],
   "source": [
    "import numpy as np\n",
    "import subjects\n",
    "from neuropy import analyses, plotting\n",
    "\n",
    "sess = subjects.sd.utkuAG_day2[0]\n",
    "\n",
    "signal = sess.eegfile.get_signal(channel_indx=np.arange(24))\n",
    "rpls = analyses.oscillations.detect_ripple_epochs(\n",
    "    signal,\n",
    "    sess.recinfo.channel_groups[:4],\n",
    "    ignore_epochs=sess.artifact,\n",
    "    mergedist=0.005,\n",
    "    maxdur=0.600,\n",
    ")\n",
    "rpls.filename = sess.filePrefix.with_suffix(\".ripple\")\n",
    "rpls.save()\n",
    "\n",
    "# signal = sess.eegfile.get_signal([1])\n",
    "# artifact_epochs = analyses.detect_artifact_epochs(signal, thresh=9)\n",
    "# artifact_epochs.filename = sess.filePrefix.with_suffix(\".artifact.npy\")\n",
    "# artifact_epochs.save()\n",
    "# plotting.plot_artifact_epochs(artifact_epochs, signal)\n"
   ]
  },
  {
   "cell_type": "code",
   "execution_count": null,
   "metadata": {},
   "outputs": [],
   "source": [
    "sess.paradigm.to_dataframe()\n"
   ]
  },
  {
   "cell_type": "code",
   "execution_count": null,
   "metadata": {},
   "outputs": [],
   "source": [
    "sess.recinfo.write_epochs(sess.ripple)\n"
   ]
  },
  {
   "cell_type": "code",
   "execution_count": null,
   "metadata": {},
   "outputs": [],
   "source": [
    "%matplotlib widget\n",
    "\n",
    "plotting.plot_artifact_epochs(artifact_epochs,signal)"
   ]
  },
  {
   "cell_type": "markdown",
   "metadata": {},
   "source": [
    "## Convert artifact to current format"
   ]
  },
  {
   "cell_type": "code",
   "execution_count": null,
   "metadata": {},
   "outputs": [],
   "source": [
    "import pandas as pd\n",
    "import numpy as np\n",
    "\n",
    "file = \"/data/Clustering/SleepDeprivation/RatS/Day3SD/RatS_Day3SD_2020-11-29_07-53-30.artifact.npy\"\n",
    "\n",
    "data = np.load(file, allow_pickle=True).item()\n",
    "\n",
    "epochs = pd.DataFrame(\n",
    "    {\"start\": data[\"time\"][:, 0], \"stop\": data[\"time\"][:, 1], \"label\": \"\"}\n",
    ")\n",
    "metadata = {\"channels\": data[\"channel\"], \"thresh\": data[\"threshold\"]}\n",
    "data = {\"epochs\": epochs, \"metadata\": metadata}\n",
    "\n",
    "# np.save(file, data)\n"
   ]
  },
  {
   "cell_type": "code",
   "execution_count": null,
   "metadata": {},
   "outputs": [],
   "source": [
    "import numpy as np\n",
    "\n",
    "file = \"/home/bapung/Documents/ClusteringHub/spykcirc/RatV/RatVDay2SD/RatV_Day2SD_2021-10-04_08-02-10-1.GUI/amplitudes.npy\"\n",
    "\n",
    "amp = np.load(file)\n"
   ]
  },
  {
   "cell_type": "code",
   "execution_count": null,
   "metadata": {},
   "outputs": [],
   "source": [
    "%matplotlib widget\n",
    "import matplotlib.pyplot as plt\n",
    "plt.plot(amp)"
   ]
  },
  {
   "cell_type": "code",
   "execution_count": null,
   "metadata": {},
   "outputs": [],
   "source": [
    "%matplotlib qt\n",
    "import numpy as np\n",
    "import matplotlib.pyplot as plt\n",
    "from matplotlib.widgets import Cursor\n",
    "#x and y arrays for definining an initial function\n",
    "x = np.linspace(0, 10, 100)\n",
    "y = np.exp(x**0.5) * np.sin(5*x)\n",
    "# Plotting\n",
    "fig = plt.figure()\n",
    "ax = fig.subplots()\n",
    "ax.plot(x,y, color = 'b')\n",
    "ax.grid()\n",
    "# Defining the cursor\n",
    "cursor = Cursor(ax, horizOn=True, vertOn=True, useblit=True,\n",
    "                color = 'r', linewidth = 1)\n",
    "# Creating an annotating box\n",
    "annot = ax.annotate(\"\", xy=(0,0), xytext=(-40,40),textcoords=\"offset points\",\n",
    "                    bbox=dict(boxstyle='round4', fc='linen',ec='k',lw=1),\n",
    "                    arrowprops=dict(arrowstyle='-|>'))\n",
    "annot.set_visible(False)\n",
    "# Function for storing and showing the clicked values\n",
    "coord = []\n",
    "def onclick(event):\n",
    "    global coord\n",
    "    coord.append((event.xdata, event.ydata))\n",
    "    x = event.xdata\n",
    "    y = event.ydata\n",
    "    \n",
    "    # printing the values of the selected point\n",
    "    print([x,y]) \n",
    "    annot.xy = (x,y)\n",
    "    text = \"({:.2g}, {:.2g})\".format(x,y)\n",
    "    # annot.set_text(text)\n",
    "    # annot.set_visible(True)\n",
    "    ax.plot(3,4,'o')\n",
    "    fig.canvas.draw() #redraw the figure\n",
    "    \n",
    "fig.canvas.mpl_connect('button_press_event', onclick)\n",
    "plt.show()\n",
    "# Unzipping the coord list in two different arrays\n",
    "if len(coord)>1:\n",
    "    x1, y1 = zip(*coord)\n",
    "    print(x1, y1)"
   ]
  },
  {
   "cell_type": "code",
   "execution_count": null,
   "metadata": {},
   "outputs": [],
   "source": [
    "from matplotlib.backend_bases import MouseButton\n",
    "import matplotlib.pyplot as plt\n",
    "import numpy as np\n",
    "\n",
    "t = np.arange(0.0, 1.0, 0.01)\n",
    "s = np.sin(2 * np.pi * t)\n",
    "fig, ax = plt.subplots()\n",
    "ax.plot(t, s)\n",
    "\n",
    "\n",
    "def on_click(event):\n",
    "    if event.button is MouseButton.LEFT:\n",
    "        # print(f'{event.xdata} {event.ydata}')\n",
    "        # ax.plot(event.xdata,event.ydata,'r',lw=20)\n",
    "        global coord\n",
    "        coord.append((event.xdata, event.ydata))\n",
    "        x = event.xdata\n",
    "        y = event.ydata\n",
    "\n",
    "        # printing the values of the selected point\n",
    "        # print([x,y])\n",
    "        annot.xy = (x, y)\n",
    "        text = \"({:.2g}, {:.2g})\".format(x, y)\n",
    "        # annot.set_text(text)\n",
    "        # annot.set_visible(True)\n",
    "        ax.plot(x, y, \"o\", color=\"r\")\n",
    "        fig.canvas.draw()  # redraw the figure\n",
    "\n",
    "        # plt.disconnect(binding_id)\n",
    "\n",
    "\n",
    "fig.canvas.mpl_connect(\"button_press_event\", on_click)\n"
   ]
  },
  {
   "cell_type": "code",
   "execution_count": null,
   "metadata": {},
   "outputs": [],
   "source": [
    "from spikeextractors import BinDatRecordingExtractor\n",
    "\n",
    "a = BinDatRecordingExtractor(file, sampling_frequency=1250, numchan=134, dtype=\"int16\")\n",
    "a._epochs\n"
   ]
  },
  {
   "cell_type": "code",
   "execution_count": null,
   "metadata": {},
   "outputs": [],
   "source": [
    "import numpy as np\n",
    "\n",
    "from bokeh.plotting import figure, output_file, show\n",
    "\n",
    "output_notebook()\n",
    "\n",
    "ramp = np.array([np.linspace(0, 10, 200)] * 20)\n",
    "steps = np.array([np.linspace(0, 10, 10)] * 20)\n",
    "bitmask = np.random.rand(25, 10) > 0.5\n",
    "\n",
    "data = dict(\n",
    "    image=[ramp, steps, bitmask],\n",
    "    squared=[ramp ** 2, steps ** 2, bitmask ** 2],\n",
    "    pattern=[\"smooth ramp\", \"steps\", \"bitmask\"],\n",
    "    x=[0, 0, 25],\n",
    "    y=[5, 20, 5],\n",
    "    dw=[20, 20, 10],\n",
    "    dh=[10, 10, 25],\n",
    ")\n",
    "\n",
    "TOOLTIPS = [\n",
    "    (\"name\", \"$name\"),\n",
    "    (\"index\", \"$index\"),\n",
    "    (\"pattern\", \"@pattern\"),\n",
    "    (\"x\", \"$x\"),\n",
    "    (\"y\", \"$y\"),\n",
    "    (\"value\", \"@image\"),\n",
    "    (\"squared\", \"@squared\"),\n",
    "]\n",
    "\n",
    "p = figure(\n",
    "    x_range=(0, 35), y_range=(0, 35), tools=\"hover,wheel_zoom\", tooltips=TOOLTIPS\n",
    ")\n",
    "p.image(\n",
    "    source=data,\n",
    "    image=\"image\",\n",
    "    x=\"x\",\n",
    "    y=\"y\",\n",
    "    dw=\"dw\",\n",
    "    dh=\"dh\",\n",
    "    palette=\"Inferno256\",\n",
    "    name=\"Image Glyph\",\n",
    ")\n",
    "\n",
    "show(p)\n"
   ]
  },
  {
   "cell_type": "code",
   "execution_count": null,
   "metadata": {},
   "outputs": [],
   "source": [
    "from bokeh.plotting import ColumnDataSource, figure, output_notebook, show\n",
    "import numpy as np\n",
    "from PIL import Image\n",
    "from io import BytesIO\n",
    "from matplotlib import cm\n",
    "\n",
    "output_notebook()\n",
    "from base64 import b64decode, b64encode\n",
    "import matplotlib.pyplot as plt\n",
    "from skimage import img_as_ubyte\n",
    "\n",
    "\n",
    "def to_png(arr):\n",
    "    out = BytesIO()\n",
    "    im = Image.fromarray(arr)\n",
    "    im.save(out, format=\"png\")\n",
    "    return out.getvalue()\n",
    "\n",
    "\n",
    "def b64_image_files(images, colormap=\"magma\"):\n",
    "    cmap = cm.get_cmap(colormap)\n",
    "    urls = []\n",
    "    for im in images:\n",
    "        png = to_png(img_as_ubyte(cmap(im)))\n",
    "        url = \"data:image/png;base64,\" + b64encode(png).decode(\"utf-8\")\n",
    "        urls.append(url)\n",
    "    return urls\n",
    "\n",
    "\n",
    "out = BytesIO()\n",
    "a = np.arange(25).reshape(5, 5)\n",
    "a = a / 25\n",
    "# encoded = b64decode(a)\n",
    "# mime = \"image/jpeg\"\n",
    "\n",
    "filenames = b64_image_files([image])\n",
    "# uri = \"data:%s;base64,%s\" % (mime, encoded)\n",
    "# im = plt.imshow(a)\n",
    "\n",
    "# im = Image.fromarray(a)\n",
    "# im.save(out,format='png')\n",
    "\n",
    "# im = Image.fromarray(np.uint8(cm.gist_earth(a)*255))\n",
    "# img = out.getvalue()\n",
    "\n",
    "source = ColumnDataSource(\n",
    "    data=dict(\n",
    "        x=[0.5, 1, 1, 1, 1],\n",
    "        y=[1.5, 2, 2, 2, 2],\n",
    "        desc=[\"A\", \"b\", \"C\", \"d\", \"E\"],\n",
    "        imgs=[\n",
    "            filenames,\n",
    "            \"https://docs.bokeh.org/static/snake2.png\",\n",
    "            \"https://docs.bokeh.org/static/snake3D.png\",\n",
    "            \"https://docs.bokeh.org/static/snake4_TheRevenge.png\",\n",
    "            \"https://docs.bokeh.org/static/snakebite.jpg\",\n",
    "        ],\n",
    "        fonts=[\n",
    "            \"<i>italics</i>\",\n",
    "            \"<pre>pre</pre>\",\n",
    "            \"<b>bold</b>\",\n",
    "            \"<small>small</small>\",\n",
    "            \"<del>del</del>\",\n",
    "        ],\n",
    "    )\n",
    ")\n",
    "\n",
    "TOOLTIPS = \"\"\"\n",
    "    <div>\n",
    "        <div>\n",
    "            <img\n",
    "                src=\"@imgs\" height=\"180\" alt=\"@imgs\" width=\"180\"\n",
    "                style=\"float: left; margin: 0px 15px 15px 0px;\"\n",
    "                border=\"2\"\n",
    "            ></img>\n",
    "        </div>\n",
    "        <div>\n",
    "            <span style=\"font-size: 17px; font-weight: bold;\">@desc</span>\n",
    "            <span style=\"font-size: 15px; color: #966;\">[$index]</span>\n",
    "        </div>\n",
    "        <div>\n",
    "            <span>@fonts{safe}</span>\n",
    "        </div>\n",
    "        # <div>\n",
    "            <span style=\"font-size: 15px;\">Location</span>\n",
    "            <span style=\"font-size: 10px; color: #696;\">($x, $y)</span>\n",
    "        </div>\n",
    "    </div>\n",
    "\"\"\"\n",
    "\n",
    "p = figure(width=400, height=400, tooltips=TOOLTIPS, title=\"Mouse over the dots\")\n",
    "\n",
    "p.circle(\"x\", \"y\", size=20, source=source)\n",
    "\n",
    "show(p)\n"
   ]
  },
  {
   "cell_type": "code",
   "execution_count": null,
   "metadata": {},
   "outputs": [],
   "source": [
    "from matplotlib.backends.backend_agg import FigureCanvasAgg as FigureCanvas\n",
    "from matplotlib.figure import Figure\n",
    "\n",
    "fig = Figure()\n",
    "width, height = fig.get_size_inches() * fig.get_dpi()\n",
    "canvas = FigureCanvas(fig)\n",
    "ax = fig.gca()\n",
    "\n",
    "ax.text(0.0, 0.0, \"Test\", fontsize=45)\n",
    "ax.axis(\"off\")\n",
    "\n",
    "canvas.draw()  # draw the canvas, cache the renderer\n",
    "\n",
    "image = np.frombuffer(canvas.tostring_rgb(), dtype=\"uint8\")\n",
    "image = image.reshape(height.astype(int), width.astype(int), 3)[:, :, 1]\n"
   ]
  },
  {
   "cell_type": "code",
   "execution_count": null,
   "metadata": {},
   "outputs": [],
   "source": [
    "from bokeh.plotting import figure, show\n",
    "from bokeh.io import output_notebook\n",
    "\n",
    "output_notebook()\n",
    "\n",
    "x = [1, 2, 3, 4]\n",
    "y = [6, 7, 2, 4]\n",
    "p = figure(title=\"Sample line\")\n",
    "p.line(x, y)\n",
    "show(p)\n"
   ]
  },
  {
   "cell_type": "code",
   "execution_count": null,
   "metadata": {},
   "outputs": [],
   "source": [
    "import numpy as np\n",
    "from pathlib import Path\n",
    "\n",
    "file = Path(\"/data/Clustering/SleepDeprivation/RatN_Day1_test_neuropy/params.py\")\n",
    "\n",
    "params = {}\n",
    "with file.open(\"r\") as f:\n",
    "    for line in f:\n",
    "        line_values = (\n",
    "            line.replace(\"\\n\", \"\").replace('r\"', '\"').replace('\"', \"\").split(\"=\")\n",
    "        )\n",
    "        params[line_values[0].strip()] = line_values[1].strip()\n",
    "\n",
    "\n",
    "params\n"
   ]
  },
  {
   "cell_type": "code",
   "execution_count": null,
   "metadata": {},
   "outputs": [],
   "source": [
    "import pandas as pd\n",
    "from pathlib import Path\n",
    "\n",
    "file = Path(\"/data/Clustering/SleepDeprivation/RatN_Day1_test_neuropy/cluster_info.tsv\")\n",
    "data = pd.read_csv(file, delimiter=\"\\t\")\n",
    "a = data[data[\"group\"].isin([\"mua\", \"good\"])].reset_index(drop=True)\n",
    "\n",
    "b = np.arange(10)\n",
    "for i in data.itertuples():\n",
    "    np.where(b == i.id)\n"
   ]
  },
  {
   "cell_type": "code",
   "execution_count": null,
   "metadata": {},
   "outputs": [],
   "source": [
    "from pathlib import Path\n",
    "from neuropy.io import PhyIO\n",
    "from neuropy.core import Neurons\n",
    "\n",
    "phy_data = PhyIO(\n",
    "    Path(\n",
    "        \"/home/bapung/Documents/ClusteringHub/spykcirc/RatR/Day2SD/Allsession/RatR_Day2SD_2021-05-23_09-07-18-1.GUI\"\n",
    "    )\n",
    ")\n",
    "\n",
    "neurons = Neurons(\n",
    "    phy_data.spiketrains, t_stop=53000, t_start=0, sampling_rate=phy_data.sampling_rate\n",
    ")\n"
   ]
  },
  {
   "cell_type": "code",
   "execution_count": null,
   "metadata": {},
   "outputs": [],
   "source": [
    "import numpy as np\n",
    "from neuropy.core import Position\n",
    "\n",
    "\n",
    "x = np.random.randn(10)\n",
    "y = np.random.randn(10)\n",
    "z = np.random.randn(10)\n",
    "t = np.arange(0, 10)\n",
    "\n",
    "pos = Position(t, x, y, z, sampling_rate=1)\n"
   ]
  },
  {
   "cell_type": "code",
   "execution_count": null,
   "metadata": {},
   "outputs": [],
   "source": [
    "import numpy as np\n",
    "from neuropy.core import Mua\n",
    "\n",
    "mua = Mua(spike_counts=np.array([1, 2, 3]), bin_size=0.2)\n"
   ]
  },
  {
   "cell_type": "code",
   "execution_count": null,
   "metadata": {},
   "outputs": [],
   "source": [
    "%matplotlib widget\n",
    "import matplotlib.pyplot as plt\n",
    "import numpy as np\n",
    "\n",
    "file1 = '/data/Clustering/sessions/RatS/Day2NSD/RatS-Day2NSD-2020-11-27_10-22-29_position.npy'\n",
    "file2 = '/data/Clustering/sessions/RatS/Day2NSD/RatS-Day2NSD-2020-11-27_10-22-29.position.npy'\n",
    "\n",
    "data1 = np.load(file1,allow_pickle=True).item()\n",
    "data2 = np.load(file2,allow_pickle=True).item()\n",
    "\n",
    "\n",
    "plt.plot(data1['x'])\n",
    "plt.plot(data2['traces'][1])"
   ]
  },
  {
   "cell_type": "code",
   "execution_count": null,
   "metadata": {},
   "outputs": [],
   "source": [
    "import numpy as np\n",
    "\n",
    "file = \"/data/Clustering/sessions/RatN/Day2/2019-10-11_03-58-54/experiment1/recording1/continuous/Rhythm_FPGA-100.0/timestamps.npy\"\n",
    "\n",
    "data = np.load(file)\n"
   ]
  },
  {
   "cell_type": "code",
   "execution_count": null,
   "metadata": {},
   "outputs": [],
   "source": [
    "fileName = (\n",
    "    \"/data/Clustering/sessions/RatN/Day2/position/Take 2019-10-11 04.08.48 AM.fbx\"\n",
    ")\n",
    "\n",
    "with open(fileName) as f:\n",
    "    next(f)\n",
    "    for i, line in enumerate(f):\n",
    "\n",
    "        m = \"\".join(line)\n",
    "\n",
    "        if \"KeyCount\" in m:\n",
    "            print(m)\n",
    "            # print(\"break at i = \" + str(i))\n",
    "            # line_frame = linecache.getline(fileName, i + 2).strip().split(\" \")\n",
    "            break\n"
   ]
  },
  {
   "cell_type": "code",
   "execution_count": null,
   "metadata": {},
   "outputs": [],
   "source": [
    "import numpy as np\n",
    "\n",
    "file = \"/data/Clustering/sessions/RatU/RatUDay2NSD/RatU_Day2NSD_2021-07-24_08-16-38.paradigm.npy\"\n",
    "\n",
    "data = np.load(file, allow_pickle=True).item()\n",
    "data[\"epochs\"]\n"
   ]
  },
  {
   "cell_type": "code",
   "execution_count": null,
   "metadata": {},
   "outputs": [],
   "source": [
    "%matplotlib widget\n",
    "import numpy as np\n",
    "import matplotlib.pyplot as plt\n",
    "\n",
    "file_name = \"RatU_Day4SD_2021-07-29_08-23-06.eeg_sample.eeg\"\n",
    "n_channels = 192 # number of recorded channels in the file\n",
    "sampling_rate = 1250\n",
    "# reading data from binary file and reshaping to n_channels x time format\n",
    "data = np.memmap(file_name,dtype='int16',mode='r').reshape(-1,n_channels).T\n",
    "\n",
    "#let's plot data from first channel\n",
    "plt.plot(data[0])\n"
   ]
  },
  {
   "cell_type": "code",
   "execution_count": null,
   "metadata": {},
   "outputs": [],
   "source": [
    "%matplotlib widget\n",
    "import numpy as np\n",
    "from neuropy.plotting import Fig\n",
    "\n",
    "def example_plot(ax, fontsize=12, hide_labels=False):\n",
    "    pc = ax.pcolormesh(np.random.randn(30, 30), vmin=-2.5, vmax=2.5)\n",
    "    if not hide_labels:\n",
    "        ax.set_xlabel('x-label', fontsize=fontsize)\n",
    "        ax.set_ylabel('y-label', fontsize=fontsize)\n",
    "        ax.set_title('Title', fontsize=fontsize)\n",
    "    return pc\n",
    "\n",
    "figure = Fig()\n",
    "fig,gs = figure.draw(grid=(4,4))\n",
    "\n",
    "ax = figure.add_subplot(gs[:,2:])\n",
    "ax.plot(np.arange(10),np.arange(10))\n",
    "\n",
    "subfig = fig.add_subfigure(gs[:,:2])\n",
    "axsLeft = subfig.subplots(1, 2, sharey=True)\n",
    "subfig.set_facecolor('0.75')\n",
    "for ax in axsLeft:\n",
    "    pc = example_plot(ax)\n",
    "subfig.suptitle('Left plots', fontsize='x-large')\n",
    "subfig.colorbar(pc, shrink=0.6, ax=axsLeft, location='bottom')"
   ]
  },
  {
   "cell_type": "code",
   "execution_count": null,
   "metadata": {},
   "outputs": [],
   "source": [
    "import numpy as np\n",
    "\n",
    "from bokeh.plotting import figure, show, output_file\n",
    "from bokeh.models import HoverTool, CustomJS, ColumnDataSource\n",
    "\n",
    "N = 20\n",
    "x = np.random.random(size=N)\n",
    "y = np.random.random(size=N)\n",
    "\n",
    "p = figure(tools=[\"hover\"], toolbar_location=None)\n",
    "p.scatter(x, y, size=10)\n",
    "\n",
    "img_x = np.linspace(0, 10, N)\n",
    "img_y = np.linspace(0, 10, N)\n",
    "\n",
    "images = []\n",
    "for a, b in zip(x, y):\n",
    "    xx, yy = np.meshgrid(x, y)\n",
    "    d = np.sin(a * xx) * np.cos(b * yy)\n",
    "    images.append(d)\n",
    "\n",
    "imgs_source = ColumnDataSource(data=dict(images=images))\n",
    "img_source = ColumnDataSource(data=dict(image=[]))\n",
    "\n",
    "img = figure(x_range=(0, 10), y_range=(0, 10), tools=[], toolbar_location=None)\n",
    "img.image(image=\"image\", x=0, y=0, dw=10, dh=10, source=img_source, palette=\"Greys7\")\n",
    "\n",
    "hover = p.select_one(HoverTool)\n",
    "hover.callback = CustomJS(\n",
    "    args=dict(imgs_source=imgs_source, img_source=img_source),\n",
    "    code=\"\"\"\n",
    "var indices = cb_data.index['1d'].indices;\n",
    "if (indices.length > 0) {\n",
    "    var img = imgs_source.data.images[indices[0]];\n",
    "    img_source.data = {image: [img]};\n",
    "} else {\n",
    "    img_source.data = {image: []};\n",
    "}\n",
    "\"\"\",\n",
    ")\n",
    "hover.tooltips = None\n",
    "\n",
    "output_file(\"linked_hover.html\")\n",
    "show(p)\n"
   ]
  },
  {
   "cell_type": "code",
   "execution_count": null,
   "metadata": {},
   "outputs": [],
   "source": [
    "import base64\n",
    "from math import cos, pi, sin\n",
    "\n",
    "from bokeh.colors.named import firebrick, lightgray, orchid, seagreen, skyblue, tomato\n",
    "from bokeh.document import Document\n",
    "from bokeh.embed import file_html\n",
    "from bokeh.models import (\n",
    "    AnnularWedge,\n",
    "    ColumnDataSource,\n",
    "    ImageURL,\n",
    "    Plot,\n",
    "    Range1d,\n",
    "    Text,\n",
    "    Wedge,\n",
    ")\n",
    "from bokeh.resources import INLINE\n",
    "from bokeh.sampledata.browsers import browsers_nov_2013, icons\n",
    "from bokeh.util.browser import view\n",
    "\n",
    "df = browsers_nov_2013\n",
    "\n",
    "xdr = Range1d(start=-2, end=2)\n",
    "ydr = Range1d(start=-2, end=2)\n",
    "\n",
    "plot = Plot(x_range=xdr, y_range=ydr, width=800, height=800)\n",
    "plot.title.text = \"Web browser market share (November 2013)\"\n",
    "plot.toolbar_location = None\n",
    "\n",
    "colors = {\n",
    "    \"Chrome\": seagreen,\n",
    "    \"Firefox\": tomato,\n",
    "    \"Safari\": orchid,\n",
    "    \"Opera\": firebrick,\n",
    "    \"IE\": skyblue,\n",
    "    \"Other\": lightgray,\n",
    "}\n",
    "\n",
    "aggregated = df.groupby(\"Browser\").agg(sum)\n",
    "selected = aggregated[aggregated.Share >= 1].copy()\n",
    "selected.loc[\"Other\"] = aggregated[aggregated.Share < 1].sum()\n",
    "browsers = selected.index.tolist()\n",
    "\n",
    "radians = lambda x: 2 * pi * (x / 100)\n",
    "angles = selected.Share.map(radians).cumsum()\n",
    "\n",
    "end_angles = angles.tolist()\n",
    "start_angles = [0] + end_angles[:-1]\n",
    "\n",
    "browsers_source = ColumnDataSource(\n",
    "    dict(\n",
    "        start=start_angles,\n",
    "        end=end_angles,\n",
    "        colors=[colors[browser] for browser in browsers],\n",
    "    )\n",
    ")\n",
    "\n",
    "glyph = Wedge(\n",
    "    x=0,\n",
    "    y=0,\n",
    "    radius=1,\n",
    "    line_color=\"white\",\n",
    "    line_width=2,\n",
    "    start_angle=\"start\",\n",
    "    end_angle=\"end\",\n",
    "    fill_color=\"colors\",\n",
    ")\n",
    "plot.add_glyph(browsers_source, glyph)\n",
    "\n",
    "\n",
    "def polar_to_cartesian(r, start_angles, end_angles):\n",
    "    cartesian = lambda r, alpha: (r * cos(alpha), r * sin(alpha))\n",
    "    points = []\n",
    "\n",
    "    for start, end in zip(start_angles, end_angles):\n",
    "        points.append(cartesian(r, (end + start) / 2))\n",
    "\n",
    "    return zip(*points)\n",
    "\n",
    "\n",
    "first = True\n",
    "\n",
    "for browser, start_angle, end_angle in zip(browsers, start_angles, end_angles):\n",
    "    versions = df[(df.Browser == browser) & (df.Share >= 0.5)]\n",
    "    angles = versions.Share.map(radians).cumsum() + start_angle\n",
    "    end = angles.tolist() + [end_angle]\n",
    "    start = [start_angle] + end[:-1]\n",
    "    base_color = colors[browser]\n",
    "    fill = [base_color.lighten(i * 0.05).to_hex() for i in range(len(versions) + 1)]\n",
    "    # extra empty string accounts for all versions with share < 0.5 together\n",
    "    text = [\n",
    "        number if share >= 1 else \"\"\n",
    "        for number, share in zip(versions.VersionNumber, versions.Share)\n",
    "    ] + [\"\"]\n",
    "    x, y = polar_to_cartesian(1.25, start, end)\n",
    "\n",
    "    source = ColumnDataSource(dict(start=start, end=end, fill=fill))\n",
    "    glyph = AnnularWedge(\n",
    "        x=0,\n",
    "        y=0,\n",
    "        inner_radius=1,\n",
    "        outer_radius=1.5,\n",
    "        start_angle=\"start\",\n",
    "        end_angle=\"end\",\n",
    "        line_color=\"white\",\n",
    "        line_width=2,\n",
    "        fill_color=\"fill\",\n",
    "    )\n",
    "    plot.add_glyph(source, glyph)\n",
    "\n",
    "    text_angle = [(start[i] + end[i]) / 2 for i in range(len(start))]\n",
    "    text_angle = [\n",
    "        angle + pi if pi / 2 < angle < 3 * pi / 2 else angle for angle in text_angle\n",
    "    ]\n",
    "\n",
    "    text_source = ColumnDataSource(dict(text=text, x=x, y=y, angle=text_angle))\n",
    "    glyph = Text(\n",
    "        x=\"x\",\n",
    "        y=\"y\",\n",
    "        text=\"text\",\n",
    "        angle=\"angle\",\n",
    "        text_align=\"center\",\n",
    "        text_baseline=\"middle\",\n",
    "        text_font_size=\"11px\",\n",
    "    )\n",
    "    plot.add_glyph(text_source, glyph)\n",
    "\n",
    "\n",
    "def to_base64(png):\n",
    "    return \"data:image/png;base64,\" + base64.b64encode(png).decode(\"utf-8\")\n",
    "\n",
    "\n",
    "urls = [to_base64(icons.get(browser, b\"\")) for browser in browsers]\n",
    "x, y = polar_to_cartesian(1.7, start_angles, end_angles)\n",
    "\n",
    "icons_source = ColumnDataSource(dict(urls=urls, x=x, y=y))\n",
    "glyph = ImageURL(url=\"urls\", x=\"x\", y=\"y\", anchor=\"center\")\n",
    "plot.add_glyph(icons_source, glyph)\n",
    "\n",
    "text = [\"%.02f%%\" % value for value in selected.Share]\n",
    "x, y = polar_to_cartesian(0.7, start_angles, end_angles)\n",
    "\n",
    "text_source = ColumnDataSource(dict(text=text, x=x, y=y))\n",
    "glyph = Text(x=\"x\", y=\"y\", text=\"text\", text_align=\"center\", text_baseline=\"middle\")\n",
    "plot.add_glyph(text_source, glyph)\n",
    "\n",
    "doc = Document()\n",
    "doc.add_root(plot)\n",
    "doc.validate()\n",
    "\n",
    "filename = \"donut.html\"\n",
    "with open(filename, \"w\") as f:\n",
    "    f.write(file_html(doc, INLINE, \"Donut Chart\"))\n",
    "print(\"Wrote %s\" % filename)\n",
    "view(filename)\n"
   ]
  },
  {
   "cell_type": "code",
   "execution_count": null,
   "metadata": {},
   "outputs": [],
   "source": [
    "from ephyviewer import mkQApp, MainViewer, TraceViewer, TimeFreqViewer\n",
    "from ephyviewer import InMemoryAnalogSignalSource\n",
    "import ephyviewer\n",
    "import numpy as np\n",
    "\n",
    "\n",
    "# you must first create a main Qt application (for event loop)\n",
    "app = mkQApp()\n",
    "\n",
    "# create fake 16 signals with 100000 at 10kHz\n",
    "sigs = np.random.rand(100000, 16)\n",
    "sample_rate = 1000.0\n",
    "t_start = 0.0\n",
    "\n",
    "# Create the main window that can contain several viewers\n",
    "win = MainViewer(debug=True, show_auto_scale=True)\n",
    "\n",
    "# Create a datasource for the viewer\n",
    "# here we use InMemoryAnalogSignalSource but\n",
    "# you can alose use your custum datasource by inheritance\n",
    "source = InMemoryAnalogSignalSource(sigs, sample_rate, t_start)\n",
    "\n",
    "# create a viewer for signal with TraceViewer\n",
    "view1 = TraceViewer(source=source, name=\"trace\")\n",
    "view1.params[\"scale_mode\"] = \"same_for_all\"\n",
    "view1.auto_scale()\n",
    "win.add_view(view1)\n",
    "\n",
    "sigs = np.random.rand(100000, 16)\n",
    "sample_rate = 1200.0\n",
    "t_start = 30.0\n",
    "\n",
    "source2 = InMemoryAnalogSignalSource(sigs, sample_rate, t_start)\n",
    "\n",
    "\n",
    "# create a time freq viewer conencted to the same source\n",
    "view1 = TraceViewer(source=source2, name=\"trace2\")\n",
    "view1.params[\"scale_mode\"] = \"same_for_all\"\n",
    "view1.auto_scale()\n",
    "\n",
    "# add them to mainwindow\n",
    "win.add_view(view1)\n",
    "\n",
    "\n",
    "# show main window and run Qapp\n",
    "win.show()\n",
    "app.exec_()\n"
   ]
  },
  {
   "cell_type": "code",
   "execution_count": null,
   "metadata": {},
   "outputs": [],
   "source": [
    "import subjects\n",
    "from neuropy.core import Signal\n",
    "from neuropy_viewer import view_multiple_signals\n",
    "from neuropy.utils import signal_process\n",
    "\n",
    "sess = subjects.nsd.ratUday2[0]\n",
    "maze = sess.paradigm[\"maze\"]\n",
    "eeg = sess.eegfile.get_signal(107, maze[0], maze[1])\n",
    "\n",
    "spec = signal_process.SpectrogramBands(eeg, window=1, overlap=0.5)\n",
    "theta_signal = Signal(spec.theta.reshape(1, -1), sampling_rate=2, t_start=eeg.t_start)\n",
    "\n",
    "position = sess.position.time_slice(maze[0], maze[1])\n",
    "pos_signal = Signal(position.traces, position.sampling_rate, position.t_start)\n",
    "view_multiple_signals([eeg, theta_signal, pos_signal])\n"
   ]
  }
 ],
 "metadata": {
  "interpreter": {
   "hash": "cce1618081139d19eb1ee8d40815d94a2de4f62e1efb20d9406ddb60628c36ae"
  },
  "kernelspec": {
   "display_name": "Python 3.9.7 64-bit ('data_analysis': conda)",
   "name": "python3"
  },
  "language_info": {
   "codemirror_mode": {
    "name": "ipython",
    "version": 3
   },
   "file_extension": ".py",
   "mimetype": "text/x-python",
   "name": "python",
   "nbconvert_exporter": "python",
   "pygments_lexer": "ipython3",
   "version": "3.9.7"
  },
  "orig_nbformat": 2
 },
 "nbformat": 4,
 "nbformat_minor": 2
}
