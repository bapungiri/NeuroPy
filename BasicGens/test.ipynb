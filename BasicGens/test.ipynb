{
 "cells": [
  {
   "cell_type": "code",
   "execution_count": null,
   "metadata": {},
   "outputs": [],
   "source": [
    "import numpy as np\n",
    "import matplotlib.pyplot as plt\n",
    "from scipy import stats\n",
    "import pandas as pd\n",
    "from ModulesPath.plotUtil import Fig\n",
    "import subjects\n",
    "\n",
    "sess = subjects.Sd().ratSday3[0]"
   ]
  },
  {
   "cell_type": "code",
   "execution_count": null,
   "metadata": {},
   "outputs": [],
   "source": [
    "spikes_folder = \"/data/Clustering/SleepDeprivation/RatN/Day1/spykcirc/clus_combined\"\n",
    "sess.neurons.from_Phy(spikes_folder)"
   ]
  },
  {
   "cell_type": "code",
   "execution_count": null,
   "metadata": {},
   "outputs": [],
   "source": [
    "file = \"/data/Clustering/SleepDeprivation/RatN/Day1/RatN_Day1_2019-10-09_03-52-32.test_position.npy\"\n",
    "\n",
    "data = np.load(file, allow_pickle=True).item()\n",
    "\n",
    "data"
   ]
  },
  {
   "cell_type": "code",
   "execution_count": null,
   "metadata": {},
   "outputs": [],
   "source": [
    "import numpy as np\n",
    "import pandas as pd\n",
    "from ModulesPath.core import Epoch\n",
    "\n",
    "a = pd.DataFrame({\"start\": [1, 2, 3], \"stop\": [3, 4, 5], \"label\": [3, 4, 6]})\n",
    "\n",
    "b = np.where(a[\"label\"] == 3)[0]\n",
    "\n",
    "a.loc[0][[\"start\", \"stop\"]].values\n",
    "\n",
    "d = pd.DataFrame(columns=[\"start\", \"stop\"])\n",
    "\n",
    "d.empty\n"
   ]
  },
  {
   "cell_type": "markdown",
   "metadata": {},
   "source": [
    "## Convert paradigm epochs to current format"
   ]
  },
  {
   "cell_type": "code",
   "execution_count": null,
   "metadata": {},
   "outputs": [],
   "source": [
    "import pandas as pd\n",
    "import numpy as np\n",
    "\n",
    "file = \"/data/Clustering/SleepDeprivation/RatN/Day2/RatN_Day2_2019-10-11_03-58-54_epochs.npy\"\n",
    "\n",
    "data = np.load(file, allow_pickle=True).item()\n",
    "\n",
    "epochs = pd.DataFrame(data)\n",
    "a = epochs.T.reset_index()\n",
    "\n",
    "epochs_new = pd.DataFrame(\n",
    "    {\"start\": a[0], \"stop\": a[1], \"label\": a[\"index\"].str.lower()}\n",
    ")\n",
    "metadata = None\n",
    "\n",
    "data = {\"epochs\": epochs_new, \"metadata\": metadata}\n",
    "\n",
    "# np.save(file[:-11] + \".paradigm.npy\", data)\n"
   ]
  },
  {
   "cell_type": "code",
   "execution_count": null,
   "metadata": {},
   "outputs": [],
   "source": [
    "epochs_new"
   ]
  },
  {
   "cell_type": "markdown",
   "metadata": {},
   "source": [
    "## Convert artifact to current format"
   ]
  },
  {
   "cell_type": "code",
   "execution_count": null,
   "metadata": {},
   "outputs": [],
   "source": [
    "import pandas as pd\n",
    "import numpy as np\n",
    "\n",
    "file = \"/data/Clustering/SleepDeprivation/RatS/Day3SD/RatS_Day3SD_2020-11-29_07-53-30.artifact.npy\"\n",
    "\n",
    "data = np.load(file, allow_pickle=True).item()\n",
    "\n",
    "epochs = pd.DataFrame(\n",
    "    {\"start\": data[\"time\"][:, 0], \"stop\": data[\"time\"][:, 1], \"label\": \"\"}\n",
    ")\n",
    "metadata = {\"channels\": data[\"channel\"], \"thresh\": data[\"threshold\"]}\n",
    "data = {\"epochs\": epochs, \"metadata\": metadata}\n",
    "\n",
    "# np.save(file, data)\n"
   ]
  },
  {
   "cell_type": "code",
   "execution_count": null,
   "metadata": {},
   "outputs": [],
   "source": [
    "class A:\n",
    "    def __init__(self) -> None:\n",
    "        pass\n",
    "\n",
    "\n",
    "class B(A):\n",
    "    def __init__(self) -> None:\n",
    "        pass\n",
    "\n",
    "\n",
    "a = B()\n",
    "\n",
    "isinstance(a, B)\n"
   ]
  },
  {
   "cell_type": "code",
   "execution_count": null,
   "metadata": {},
   "outputs": [],
   "source": [
    "import pandas as pd\n",
    "\n",
    "a = pd.DataFrame({\"a\": [1, 2], \"b\": [3, 5]})\n",
    "b = pd.DataFrame({\"a\": [7, 8], \"b\": [3, 5], \"c\": [3, 4]})\n",
    "\n",
    "c = a.append(b)\n",
    "np.__version__"
   ]
  },
  {
   "cell_type": "code",
   "execution_count": null,
   "metadata": {},
   "outputs": [],
   "source": [
    "import subjects\n",
    "from ModulesPath.core import Position, Track\n",
    "\n",
    "sess = subjects.Sd().ratSday3[0]\n",
    "\n",
    "pos = Position(\n",
    "    time=sess.position.t,\n",
    "    x=sess.position.x,\n",
    "    y=sess.position.y,\n",
    "    sampling_rate=int(sess.position.tracking_sRate),\n",
    ")\n",
    "\n",
    "int(pos.sampling_rate)\n",
    "\n",
    "pos.linearize(period=sess.paradigm.maze1,sample_sec=3)\n",
    "pos.linearize(period=sess.paradigm.maze2,sample_sec=3)"
   ]
  },
  {
   "cell_type": "code",
   "execution_count": null,
   "metadata": {},
   "outputs": [],
   "source": [
    "import numpy as np\n",
    "from probeinterface import Probe, ProbeGroup\n",
    "from probeinterface.plotting import plot_probe_group, plot_probe\n",
    "\n",
    "n = 24\n",
    "positions = np.zeros((n, 2))\n",
    "for i in range(n):\n",
    "    x = i // 8\n",
    "    y = i % 8\n",
    "    positions[i] = x, y\n",
    "positions *= 20\n",
    "positions[8:16, 1] -= 10\n",
    "\n",
    "probe_2d = Probe(ndim=2, si_units='um')\n",
    "probe_2d.set_contacts(positions=positions, shapes='circle', shape_params={'radius': 5})\n",
    "probe_2d.create_auto_shape(probe_type='tip')"
   ]
  },
  {
   "cell_type": "code",
   "execution_count": null,
   "metadata": {},
   "outputs": [],
   "source": [
    "plot_probe(probe_2d)"
   ]
  }
 ],
 "metadata": {
  "interpreter": {
   "hash": "7b10c821bc4bd3f433a613d47515e6babc6c2152896bd1e143404cc9d6ede4ad"
  },
  "kernelspec": {
   "display_name": "Python 3.9.2 64-bit ('data_analysis': conda)",
   "name": "python3"
  },
  "language_info": {
   "codemirror_mode": {
    "name": "ipython",
    "version": 3
   },
   "file_extension": ".py",
   "mimetype": "text/x-python",
   "name": "python",
   "nbconvert_exporter": "python",
   "pygments_lexer": "ipython3",
   "version": "3.9.4"
  },
  "orig_nbformat": 2
 },
 "nbformat": 4,
 "nbformat_minor": 2
}