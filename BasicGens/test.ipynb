{
 "cells": [
  {
   "cell_type": "code",
   "execution_count": null,
   "metadata": {},
   "outputs": [],
   "source": [
    "import numpy as np\n",
    "import matplotlib.pyplot as plt\n",
    "from scipy import stats\n",
    "import pandas as pd\n",
    "from ModulesPath.plotUtil import Fig\n",
    "import subjects\n",
    "\n",
    "sess = subjects.Sd().ratSday3[0]"
   ]
  },
  {
   "cell_type": "code",
   "execution_count": null,
   "metadata": {},
   "outputs": [],
   "source": [
    "spikes_folder = \"/data/Clustering/SleepDeprivation/RatN/Day1/spykcirc/clus_combined\"\n",
    "sess.neurons.from_Phy(spikes_folder)"
   ]
  },
  {
   "cell_type": "code",
   "execution_count": null,
   "metadata": {},
   "outputs": [],
   "source": [
    "file = \"/data/Clustering/SleepDeprivation/RatN/Day1/RatN_Day1_2019-10-09_03-52-32.test_position.npy\"\n",
    "\n",
    "data = np.load(file, allow_pickle=True).item()\n",
    "\n",
    "data"
   ]
  },
  {
   "cell_type": "code",
   "execution_count": null,
   "metadata": {},
   "outputs": [],
   "source": [
    "import numpy as np\n",
    "import pandas as pd\n",
    "from ModulesPath.core import Epoch\n",
    "\n",
    "a = pd.DataFrame({\"start\": [1, 2, 3], \"stop\": [3, 4, 5], \"label\": [3, 4, 6]})\n",
    "\n",
    "b = np.where(a[\"label\"] == 3)[0]\n",
    "\n",
    "a.loc[0][[\"start\", \"stop\"]].values\n",
    "\n",
    "d = pd.DataFrame(columns=[\"start\", \"stop\"])\n",
    "\n",
    "d.empty\n"
   ]
  },
  {
   "cell_type": "markdown",
   "metadata": {},
   "source": [
    "## Convert paradigm epochs to current format"
   ]
  },
  {
   "cell_type": "code",
   "execution_count": null,
   "metadata": {},
   "outputs": [],
   "source": [
    "import pandas as pd\n",
    "import numpy as np\n",
    "\n",
    "file = \"/data/Clustering/SleepDeprivation/RatN/Day2/RatN_Day2_2019-10-11_03-58-54_epochs.npy\"\n",
    "\n",
    "data = np.load(file, allow_pickle=True).item()\n",
    "\n",
    "epochs = pd.DataFrame(data)\n",
    "a = epochs.T.reset_index()\n",
    "\n",
    "epochs_new = pd.DataFrame(\n",
    "    {\"start\": a[0], \"stop\": a[1], \"label\": a[\"index\"].str.lower()}\n",
    ")\n",
    "metadata = None\n",
    "\n",
    "data = {\"epochs\": epochs_new, \"metadata\": metadata}\n",
    "\n",
    "# np.save(file[:-11] + \".paradigm.npy\", data)\n"
   ]
  },
  {
   "cell_type": "code",
   "execution_count": null,
   "metadata": {},
   "outputs": [],
   "source": [
    "epochs_new"
   ]
  },
  {
   "cell_type": "markdown",
   "metadata": {},
   "source": [
    "## Convert artifact to current format"
   ]
  },
  {
   "cell_type": "code",
   "execution_count": null,
   "metadata": {},
   "outputs": [],
   "source": [
    "import pandas as pd\n",
    "import numpy as np\n",
    "\n",
    "file = \"/data/Clustering/SleepDeprivation/RatS/Day3SD/RatS_Day3SD_2020-11-29_07-53-30.artifact.npy\"\n",
    "\n",
    "data = np.load(file, allow_pickle=True).item()\n",
    "\n",
    "epochs = pd.DataFrame(\n",
    "    {\"start\": data[\"time\"][:, 0], \"stop\": data[\"time\"][:, 1], \"label\": \"\"}\n",
    ")\n",
    "metadata = {\"channels\": data[\"channel\"], \"thresh\": data[\"threshold\"]}\n",
    "data = {\"epochs\": epochs, \"metadata\": metadata}\n",
    "\n",
    "# np.save(file, data)\n"
   ]
  },
  {
   "cell_type": "code",
   "execution_count": null,
   "metadata": {},
   "outputs": [],
   "source": [
    "class A:\n",
    "    def __init__(self) -> None:\n",
    "        pass\n",
    "\n",
    "\n",
    "class B(A):\n",
    "    def __init__(self) -> None:\n",
    "        pass\n",
    "\n",
    "\n",
    "a = B()\n",
    "\n",
    "isinstance(a, B)\n"
   ]
  },
  {
   "cell_type": "code",
   "execution_count": null,
   "metadata": {},
   "outputs": [],
   "source": [
    "import pandas as pd\n",
    "\n",
    "a = pd.DataFrame({\"a\": [1, 2], \"b\": [3, 5]})\n",
    "b = pd.DataFrame({\"a\": [7, 8], \"b\": [3, 5], \"c\": [3, 4]})\n",
    "\n",
    "c = a.append(b)\n",
    "np.__version__"
   ]
  },
  {
   "cell_type": "code",
   "execution_count": null,
   "metadata": {},
   "outputs": [],
   "source": [
    "import subjects\n",
    "from ModulesPath.core import Position, Track\n",
    "\n",
    "sess = subjects.Sd().ratSday3[0]\n",
    "\n",
    "pos = Position(\n",
    "    time=sess.position.t,\n",
    "    x=sess.position.x,\n",
    "    y=sess.position.y,\n",
    "    sampling_rate=int(sess.position.tracking_sRate),\n",
    ")\n",
    "\n",
    "int(pos.sampling_rate)\n",
    "\n",
    "pos.linearize(period=sess.paradigm.maze1, sample_sec=3)\n",
    "pos.linearize(period=sess.paradigm.maze2, sample_sec=3)\n"
   ]
  },
  {
   "cell_type": "code",
   "execution_count": null,
   "metadata": {},
   "outputs": [],
   "source": [
    "import numpy as np\n",
    "from probeinterface import Probe, ProbeGroup\n",
    "from probeinterface.plotting import plot_probe_group, plot_probe\n",
    "\n",
    "n = 24\n",
    "positions = np.zeros((n, 2))\n",
    "for i in range(n):\n",
    "    x = i // 8\n",
    "    y = i % 8\n",
    "    positions[i] = x, y\n",
    "positions *= 20\n",
    "positions[8:16, 1] -= 10\n",
    "\n",
    "probe_2d = Probe(ndim=2, si_units=\"um\")\n",
    "probe_2d.set_contacts(positions=positions, shapes=\"circle\", shape_params={\"radius\": 5})\n",
    "probe_2d.create_auto_shape(probe_type=\"tip\")\n"
   ]
  },
  {
   "cell_type": "code",
   "execution_count": null,
   "metadata": {},
   "outputs": [],
   "source": [
    "probe_2d.annotations"
   ]
  },
  {
   "cell_type": "code",
   "execution_count": null,
   "metadata": {},
   "outputs": [],
   "source": [
    "import numpy as np\n",
    "from ModulesPath.core import Shank, Probe\n",
    "\n",
    "# from ModulesPath.sessobj import recinfo\n",
    "\n",
    "shank = Shank()\n",
    "probe = Probe(shanks=[shank, shank])\n"
   ]
  },
  {
   "cell_type": "code",
   "execution_count": null,
   "metadata": {},
   "outputs": [],
   "source": [
    "# shanks = [shank,shank]\n",
    "# assert np.all([isinstance(_,Shank) for _ in shanks])\n",
    "shank.__class__.__name__ == \"Shank\"\n"
   ]
  },
  {
   "cell_type": "code",
   "execution_count": null,
   "metadata": {},
   "outputs": [],
   "source": [
    "%matplotlib widget\n",
    "import matplotlib.pyplot as plt\n",
    "\n",
    "plt.plot(a.x,a.y,'*')"
   ]
  },
  {
   "cell_type": "code",
   "execution_count": null,
   "metadata": {},
   "outputs": [],
   "source": [
    "from neo.io import RawBinarySignalIO\n",
    "import quantities as pq\n",
    "\n",
    "file = (\n",
    "    \"/data/Clustering/SleepDeprivation/RatR/Day2SD/RatR_Day2SD_2021-05-23_09-07-18.eeg\"\n",
    ")\n",
    "reader = RawBinarySignalIO(filename=file, sampling_rate=1250, nb_channel=128)\n"
   ]
  },
  {
   "cell_type": "code",
   "execution_count": null,
   "metadata": {},
   "outputs": [],
   "source": [
    "%matplotlib widget\n",
    "import matplotlib.pyplot as plt\n",
    "plt.plot(a)"
   ]
  },
  {
   "cell_type": "code",
   "execution_count": null,
   "metadata": {},
   "outputs": [],
   "source": [
    "import numpy as np\n",
    "from ModulesPath.io import NeuroscopeIO"
   ]
  },
  {
   "cell_type": "code",
   "execution_count": null,
   "metadata": {},
   "outputs": [],
   "source": [
    "info = NeuroscopeIO(\n",
    "    \"/data/Clustering/SleepDeprivation/RatJ/Day1/RatJ_Day1_2019-05-31_03-55-36.xml\"\n",
    ")\n"
   ]
  },
  {
   "cell_type": "code",
   "execution_count": null,
   "metadata": {},
   "outputs": [],
   "source": [
    "from pathlib import Path\n",
    "\n",
    "folder = Path(\"/data/Clustering/SleepDeprivation/RatJ/Day1\")\n",
    "a = folder.glob(\"*.xml\")\n",
    "for file in folder.iterdir():\n",
    "    if file.suffix == \".xml\":\n",
    "        print(file.name)\n"
   ]
  },
  {
   "cell_type": "code",
   "execution_count": null,
   "metadata": {},
   "outputs": [],
   "source": [
    "from pathlib import Path\n",
    "import numpy as np\n",
    "from ModulesPath.proc_data import ProcessData"
   ]
  },
  {
   "cell_type": "code",
   "execution_count": null,
   "metadata": {},
   "outputs": [],
   "source": [
    "folder = Path(\"/data/Clustering/SleepDeprivation/RatJ/Day1\")\n",
    "sess = ProcessData(folder)"
   ]
  },
  {
   "cell_type": "code",
   "execution_count": null,
   "metadata": {},
   "outputs": [],
   "source": [
    "from ModulesPath.core import Shank, Probe, ProbeGroup\n",
    "\n",
    "probe1 = Probe(shanks=[Shank(), Shank()])\n",
    "probe2 = Probe(shanks=[Shank(), Shank()])\n",
    "probe2.move((800, 0))\n",
    "\n",
    "probegrp = ProbeGroup()\n",
    "probegrp.add_probe(probe1)\n",
    "probegrp.add_probe(probe2)"
   ]
  },
  {
   "cell_type": "code",
   "execution_count": null,
   "metadata": {},
   "outputs": [],
   "source": [
    "probegrp.n_probes"
   ]
  },
  {
   "cell_type": "code",
   "execution_count": null,
   "metadata": {},
   "outputs": [],
   "source": [
    "%matplotlib widget\n",
    "import matplotlib.pyplot as plt\n",
    "a = probegrp.to_dataframe()\n",
    "plt.plot(a['x'],a['y'],'.')\n"
   ]
  },
  {
   "cell_type": "code",
   "execution_count": null,
   "metadata": {},
   "outputs": [],
   "source": [
    "import numpy as np\n",
    "import pandas as pd\n",
    "\n",
    "a = pd.DataFrame(columns=[\"x\", \"y\"])\n"
   ]
  },
  {
   "cell_type": "code",
   "execution_count": null,
   "metadata": {},
   "outputs": [],
   "source": [
    "import numpy as np\n",
    "\n",
    "a = np.arange(\n",
    "    np.datetime64(\"2019-10-09 03:52:32\"),\n",
    "    np.datetime64(\"2019-10-09 06:52:32\"),\n",
    "    np.timedelta64(333, \"us\"),\n",
    ")\n",
    "a = np.array([np.array([1,2,3]),np.array([2,3,5,2])],dtype=object)\n"
   ]
  },
  {
   "cell_type": "code",
   "execution_count": 38,
   "metadata": {},
   "outputs": [],
   "source": [
    "import numpy as np\n",
    "\n",
    "file = '/data/Clustering/SleepDeprivation/RatN_Day1_test_neuropy/RatN_Day1_2019-10-09_03-52-32.eeg'\n",
    "data = np.memmap(file,dtype='int16',mode='r')\n",
    "data = np.memmap.reshape(data,(len(data)//134,134)).T"
   ]
  },
  {
   "cell_type": "code",
   "execution_count": 39,
   "metadata": {},
   "outputs": [],
   "source": [
    "from ModulesPath.io import BinarysignalIO\n",
    "\n",
    "d2 = BinarysignalIO(file,sampling_rate=1250,n_channels=134)\n",
    "\n"
   ]
  },
  {
   "cell_type": "code",
   "execution_count": 36,
   "metadata": {},
   "outputs": [],
   "source": [
    "sig = d2.get_signal(channels=[1,5])"
   ]
  },
  {
   "cell_type": "code",
   "execution_count": 37,
   "metadata": {},
   "outputs": [
    {
     "data": {
      "text/plain": [
       "array([[ 387,  868,  798, ...,  -61,  -58, -238],\n",
       "       [ 388,  815,  699, ...,  194,  161,   38]], dtype=int16)"
      ]
     },
     "execution_count": 37,
     "metadata": {},
     "output_type": "execute_result"
    }
   ],
   "source": [
    "sig.time_slice([0,1],0,3000)"
   ]
  },
  {
   "cell_type": "code",
   "execution_count": null,
   "metadata": {},
   "outputs": [],
   "source": [
    "a = np.array([False]*134)\n",
    "a[[1,3]] = True\n",
    "b = np.ones(data.shape[1],dtype=bool)\n",
    "b"
   ]
  },
  {
   "cell_type": "code",
   "execution_count": 12,
   "metadata": {},
   "outputs": [],
   "source": [
    "\n",
    "class A(np.ndarray):\n",
    "    def __init__(self,data) -> None:\n",
    "        super().__init__()\n",
    "\n",
    "m = A([1,2,34])"
   ]
  },
  {
   "cell_type": "code",
   "execution_count": 2,
   "metadata": {},
   "outputs": [
    {
     "name": "stdout",
     "output_type": "stream",
     "text": [
      "h5py version > 2.10.0. Some extractors might not work properly. It is recommended to downgrade to version 2.10.0: \n",
      ">>> pip install h5py==2.10.0\n"
     ]
    }
   ],
   "source": [
    "from spikeextractors import BinDatRecordingExtractor\n",
    "\n",
    "a = BinDatRecordingExtractor(file,sampling_frequency=1250,numchan=134,dtype='int16')\n",
    "a._epochs"
   ]
  },
  {
   "cell_type": "code",
   "execution_count": 11,
   "metadata": {},
   "outputs": [
    {
     "data": {
      "text/plain": [
       "array([[ 387,  868,  798, ..., -405, -490, -448],\n",
       "       [ 329,  667,  551, ..., -168, -331, -259]], dtype=int16)"
      ]
     },
     "execution_count": 11,
     "metadata": {},
     "output_type": "execute_result"
    }
   ],
   "source": [
    "a.get_traces(channel_ids=[1,4])"
   ]
  },
  {
   "cell_type": "code",
   "execution_count": 27,
   "metadata": {},
   "outputs": [],
   "source": [
    "from ModulesPath.core import animal\n",
    "\n",
    "a = animal.Animal()"
   ]
  }
 ],
 "metadata": {
  "interpreter": {
   "hash": "7b10c821bc4bd3f433a613d47515e6babc6c2152896bd1e143404cc9d6ede4ad"
  },
  "kernelspec": {
   "display_name": "Python 3.9.4 64-bit ('data_analysis': conda)",
   "name": "python3"
  },
  "language_info": {
   "codemirror_mode": {
    "name": "ipython",
    "version": 3
   },
   "file_extension": ".py",
   "mimetype": "text/x-python",
   "name": "python",
   "nbconvert_exporter": "python",
   "pygments_lexer": "ipython3",
   "version": "3.9.4"
  },
  "orig_nbformat": 2
 },
 "nbformat": 4,
 "nbformat_minor": 2
}