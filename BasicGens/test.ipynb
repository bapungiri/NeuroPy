{
 "cells": [
  {
   "cell_type": "code",
   "execution_count": null,
   "source": [
    "import numpy as np\n",
    "import matplotlib.pyplot as plt\n",
    "from scipy import stats\n",
    "import pandas as pd\n",
    "from ModulesPath.plotUtil import Fig\n",
    "import subjects\n",
    "\n",
    "sess = subjects.Sd().ratSday3[0]"
   ],
   "outputs": [],
   "metadata": {}
  },
  {
   "cell_type": "code",
   "execution_count": null,
   "source": [
    "spikes_folder = \"/data/Clustering/SleepDeprivation/RatN/Day1/spykcirc/clus_combined\"\n",
    "sess.neurons.from_Phy(spikes_folder)"
   ],
   "outputs": [],
   "metadata": {}
  },
  {
   "cell_type": "code",
   "execution_count": null,
   "source": [
    "file = \"/data/Clustering/SleepDeprivation/RatN/Day1/RatN_Day1_2019-10-09_03-52-32.test_position.npy\"\n",
    "\n",
    "data = np.load(file, allow_pickle=True).item()\n",
    "\n",
    "data"
   ],
   "outputs": [],
   "metadata": {}
  },
  {
   "cell_type": "code",
   "execution_count": null,
   "source": [
    "import numpy as np\n",
    "import pandas as pd\n",
    "from ModulesPath.core import Epoch\n",
    "\n",
    "a = pd.DataFrame({\"start\": [1, 2, 3], \"stop\": [3, 4, 5], \"label\": [3, 4, 6]})\n",
    "\n",
    "b = np.where(a[\"label\"] == 3)[0]\n",
    "\n",
    "a.loc[0][[\"start\", \"stop\"]].values\n",
    "\n",
    "d = pd.DataFrame(columns=[\"start\", \"stop\"])\n",
    "\n",
    "d.empty\n"
   ],
   "outputs": [],
   "metadata": {}
  },
  {
   "cell_type": "markdown",
   "source": [
    "## Convert paradigm epochs to current format"
   ],
   "metadata": {}
  },
  {
   "cell_type": "code",
   "execution_count": null,
   "source": [
    "import pandas as pd\n",
    "import numpy as np\n",
    "\n",
    "file = \"/data/Clustering/SleepDeprivation/RatN/Day2/RatN_Day2_2019-10-11_03-58-54_epochs.npy\"\n",
    "\n",
    "data = np.load(file, allow_pickle=True).item()\n",
    "\n",
    "epochs = pd.DataFrame(data)\n",
    "a = epochs.T.reset_index()\n",
    "\n",
    "epochs_new = pd.DataFrame(\n",
    "    {\"start\": a[0], \"stop\": a[1], \"label\": a[\"index\"].str.lower()}\n",
    ")\n",
    "metadata = None\n",
    "\n",
    "data = {\"epochs\": epochs_new, \"metadata\": metadata}\n",
    "\n",
    "# np.save(file[:-11] + \".paradigm.npy\", data)\n"
   ],
   "outputs": [],
   "metadata": {}
  },
  {
   "cell_type": "code",
   "execution_count": null,
   "source": [
    "epochs_new"
   ],
   "outputs": [],
   "metadata": {}
  },
  {
   "cell_type": "markdown",
   "source": [
    "## Convert artifact to current format"
   ],
   "metadata": {}
  },
  {
   "cell_type": "code",
   "execution_count": null,
   "source": [
    "import pandas as pd\n",
    "import numpy as np\n",
    "\n",
    "file = \"/data/Clustering/SleepDeprivation/RatS/Day3SD/RatS_Day3SD_2020-11-29_07-53-30.artifact.npy\"\n",
    "\n",
    "data = np.load(file, allow_pickle=True).item()\n",
    "\n",
    "epochs = pd.DataFrame(\n",
    "    {\"start\": data[\"time\"][:, 0], \"stop\": data[\"time\"][:, 1], \"label\": \"\"}\n",
    ")\n",
    "metadata = {\"channels\": data[\"channel\"], \"thresh\": data[\"threshold\"]}\n",
    "data = {\"epochs\": epochs, \"metadata\": metadata}\n",
    "\n",
    "# np.save(file, data)\n"
   ],
   "outputs": [],
   "metadata": {}
  },
  {
   "cell_type": "code",
   "execution_count": null,
   "source": [
    "import subjects\n",
    "from ModulesPath.core import Position, Track\n",
    "\n",
    "sess = subjects.Sd().ratSday3[0]\n",
    "\n",
    "pos = Position(\n",
    "    time=sess.position.t,\n",
    "    x=sess.position.x,\n",
    "    y=sess.position.y,\n",
    "    sampling_rate=int(sess.position.tracking_sRate),\n",
    ")\n",
    "\n",
    "int(pos.sampling_rate)\n",
    "\n",
    "pos.linearize(period=sess.paradigm.maze1, sample_sec=3)\n",
    "pos.linearize(period=sess.paradigm.maze2, sample_sec=3)\n"
   ],
   "outputs": [],
   "metadata": {}
  },
  {
   "cell_type": "code",
   "execution_count": null,
   "source": [
    "import numpy as np\n",
    "from probeinterface import Probe, ProbeGroup\n",
    "from probeinterface.plotting import plot_probe_group, plot_probe\n",
    "\n",
    "n = 24\n",
    "positions = np.zeros((n, 2))\n",
    "for i in range(n):\n",
    "    x = i // 8\n",
    "    y = i % 8\n",
    "    positions[i] = x, y\n",
    "positions *= 20\n",
    "positions[8:16, 1] -= 10\n",
    "\n",
    "probe_2d = Probe(ndim=2, si_units=\"um\")\n",
    "probe_2d.set_contacts(positions=positions, shapes=\"circle\", shape_params={\"radius\": 5})\n",
    "probe_2d.create_auto_shape(probe_type=\"tip\")\n"
   ],
   "outputs": [],
   "metadata": {}
  },
  {
   "cell_type": "code",
   "execution_count": null,
   "source": [
    "probe_2d.annotations"
   ],
   "outputs": [],
   "metadata": {}
  },
  {
   "cell_type": "code",
   "execution_count": null,
   "source": [
    "import numpy as np\n",
    "from ModulesPath.core import Shank, Probe\n",
    "\n",
    "# from ModulesPath.sessobj import recinfo\n",
    "\n",
    "shank = Shank()\n",
    "probe = Probe(shanks=[shank, shank])\n"
   ],
   "outputs": [],
   "metadata": {}
  },
  {
   "cell_type": "code",
   "execution_count": null,
   "source": [
    "# shanks = [shank,shank]\n",
    "# assert np.all([isinstance(_,Shank) for _ in shanks])\n",
    "shank.__class__.__name__ == \"Shank\"\n"
   ],
   "outputs": [],
   "metadata": {}
  },
  {
   "cell_type": "code",
   "execution_count": null,
   "source": [
    "%matplotlib widget\n",
    "import matplotlib.pyplot as plt\n",
    "\n",
    "plt.plot(a.x,a.y,'*')"
   ],
   "outputs": [],
   "metadata": {}
  },
  {
   "cell_type": "code",
   "execution_count": null,
   "source": [
    "from neo.io import RawBinarySignalIO\n",
    "import quantities as pq\n",
    "\n",
    "file = (\n",
    "    \"/data/Clustering/SleepDeprivation/RatR/Day2SD/RatR_Day2SD_2021-05-23_09-07-18.eeg\"\n",
    ")\n",
    "reader = RawBinarySignalIO(filename=file, sampling_rate=1250, nb_channel=128)\n"
   ],
   "outputs": [],
   "metadata": {}
  },
  {
   "cell_type": "code",
   "execution_count": null,
   "source": [
    "%matplotlib widget\n",
    "import matplotlib.pyplot as plt\n",
    "plt.plot(a)"
   ],
   "outputs": [],
   "metadata": {}
  },
  {
   "cell_type": "code",
   "execution_count": null,
   "source": [
    "import numpy as np\n",
    "from ModulesPath.io import NeuroscopeIO"
   ],
   "outputs": [],
   "metadata": {}
  },
  {
   "cell_type": "code",
   "execution_count": null,
   "source": [
    "info = NeuroscopeIO(\n",
    "    \"/data/Clustering/SleepDeprivation/RatJ/Day1/RatJ_Day1_2019-05-31_03-55-36.xml\"\n",
    ")\n"
   ],
   "outputs": [],
   "metadata": {}
  },
  {
   "cell_type": "code",
   "execution_count": null,
   "source": [
    "from pathlib import Path\n",
    "\n",
    "folder = Path(\"/data/Clustering/SleepDeprivation/RatJ/Day1\")\n",
    "a = folder.glob(\"*.xml\")\n",
    "for file in folder.iterdir():\n",
    "    if file.suffix == \".xml\":\n",
    "        print(file.name)\n"
   ],
   "outputs": [],
   "metadata": {}
  },
  {
   "cell_type": "code",
   "execution_count": null,
   "source": [
    "from pathlib import Path\n",
    "import numpy as np\n",
    "from ModulesPath.proc_data import ProcessData"
   ],
   "outputs": [],
   "metadata": {}
  },
  {
   "cell_type": "code",
   "execution_count": null,
   "source": [
    "folder = Path(\"/data/Clustering/SleepDeprivation/RatJ/Day1\")\n",
    "sess = ProcessData(folder)"
   ],
   "outputs": [],
   "metadata": {}
  },
  {
   "cell_type": "code",
   "execution_count": null,
   "source": [
    "from ModulesPath.core import Shank, Probe, ProbeGroup\n",
    "\n",
    "probe1 = Probe(shanks=[Shank(), Shank()])\n",
    "probe2 = Probe(shanks=[Shank(), Shank()])\n",
    "probe2.move((800, 0))\n",
    "\n",
    "probegrp = ProbeGroup()\n",
    "probegrp.add_probe(probe1)\n",
    "probegrp.add_probe(probe2)"
   ],
   "outputs": [],
   "metadata": {}
  },
  {
   "cell_type": "code",
   "execution_count": null,
   "source": [
    "probegrp.n_probes"
   ],
   "outputs": [],
   "metadata": {}
  },
  {
   "cell_type": "code",
   "execution_count": null,
   "source": [
    "%matplotlib widget\n",
    "import matplotlib.pyplot as plt\n",
    "a = probegrp.to_dataframe()\n",
    "plt.plot(a['x'],a['y'],'.')\n"
   ],
   "outputs": [],
   "metadata": {}
  },
  {
   "cell_type": "code",
   "execution_count": null,
   "source": [
    "import numpy as np\n",
    "import pandas as pd\n",
    "\n",
    "a = pd.DataFrame(columns=[\"x\", \"y\"])\n"
   ],
   "outputs": [],
   "metadata": {}
  },
  {
   "cell_type": "code",
   "execution_count": null,
   "source": [
    "import numpy as np\n",
    "\n",
    "a = np.arange(\n",
    "    np.datetime64(\"2019-10-09 03:52:32\"),\n",
    "    np.datetime64(\"2019-10-09 06:52:32\"),\n",
    "    np.timedelta64(333, \"us\"),\n",
    ")\n",
    "a = np.array([np.array([1, 2, 3]), np.array([2, 3, 5, 2])], dtype=object)\n"
   ],
   "outputs": [],
   "metadata": {}
  },
  {
   "cell_type": "code",
   "execution_count": null,
   "source": [
    "import numpy as np\n",
    "\n",
    "file = \"/data/Clustering/SleepDeprivation/RatN_Day1_test_neuropy/RatN_Day1_2019-10-09_03-52-32.eeg\"\n",
    "data = np.memmap(file, dtype=\"int16\", mode=\"r\")\n",
    "data = np.memmap.reshape(data, (len(data) // 134, 134)).T\n"
   ],
   "outputs": [],
   "metadata": {}
  },
  {
   "cell_type": "code",
   "execution_count": null,
   "source": [
    "from ModulesPath.io import BinarysignalIO\n",
    "\n",
    "d2 = BinarysignalIO(file, sampling_rate=1250, n_channels=134)\n"
   ],
   "outputs": [],
   "metadata": {}
  },
  {
   "cell_type": "code",
   "execution_count": null,
   "source": [
    "sig = d2.get_signal(channels=[1, 5])\n"
   ],
   "outputs": [],
   "metadata": {}
  },
  {
   "cell_type": "code",
   "execution_count": null,
   "source": [
    "sig.time_slice([0, 1], 0, 3000)\n"
   ],
   "outputs": [],
   "metadata": {}
  },
  {
   "cell_type": "code",
   "execution_count": null,
   "source": [
    "from spikeextractors import BinDatRecordingExtractor\n",
    "\n",
    "a = BinDatRecordingExtractor(file, sampling_frequency=1250, numchan=134, dtype=\"int16\")\n",
    "a._epochs"
   ],
   "outputs": [],
   "metadata": {}
  },
  {
   "cell_type": "code",
   "execution_count": null,
   "source": [
    "a.get_traces(channel_ids=[1, 4])\n"
   ],
   "outputs": [],
   "metadata": {}
  },
  {
   "cell_type": "code",
   "execution_count": null,
   "source": [
    "from neuropy.core import animal\n",
    "\n",
    "a = animal.Animal()"
   ],
   "outputs": [],
   "metadata": {}
  },
  {
   "cell_type": "code",
   "execution_count": null,
   "source": [
    "import numpy as np\n",
    "from pathlib import Path\n",
    "\n",
    "file = Path(\"/data/Clustering/SleepDeprivation/RatN_Day1_test_neuropy/params.py\")\n",
    "\n",
    "params = {}\n",
    "with file.open(\"r\") as f:\n",
    "    for line in f:\n",
    "        line_values = (\n",
    "            line.replace(\"\\n\", \"\").replace('r\"', '\"').replace('\"', \"\").split(\"=\")\n",
    "        )\n",
    "        params[line_values[0].strip()] = line_values[1].strip()\n",
    "\n",
    "\n",
    "params"
   ],
   "outputs": [],
   "metadata": {}
  },
  {
   "cell_type": "code",
   "execution_count": null,
   "source": [
    "import pandas as pd\n",
    "from pathlib import Path\n",
    "\n",
    "file = Path(\"/data/Clustering/SleepDeprivation/RatN_Day1_test_neuropy/cluster_info.tsv\")\n",
    "data = pd.read_csv(file, delimiter=\"\\t\")\n",
    "a = data[data[\"group\"].isin([\"mua\", \"good\"])].reset_index(drop=True)\n",
    "\n",
    "b = np.arange(10)\n",
    "for i in data.itertuples():\n",
    "    np.where(b == i.id)\n"
   ],
   "outputs": [],
   "metadata": {}
  },
  {
   "cell_type": "code",
   "execution_count": null,
   "source": [
    "from pathlib import Path\n",
    "from neuropy.io import PhyIO\n",
    "from neuropy.core import Neurons\n",
    "\n",
    "phy_data = PhyIO(\n",
    "    Path(\n",
    "        \"/home/bapung/Documents/ClusteringHub/spykcirc/RatR/Day2SD/Allsession/RatR_Day2SD_2021-05-23_09-07-18-1.GUI\"\n",
    "    )\n",
    ")\n",
    "\n",
    "neurons = Neurons(\n",
    "    phy_data.spiketrains, t_stop=53000, t_start=0, sampling_rate=phy_data.sampling_rate\n",
    ")\n"
   ],
   "outputs": [],
   "metadata": {}
  },
  {
   "cell_type": "code",
   "execution_count": null,
   "source": [
    "import numpy as np\n",
    "from neuropy.core import Position\n",
    "\n",
    "\n",
    "x = np.random.randn(10)\n",
    "y = np.random.randn(10)\n",
    "z = np.random.randn(10)\n",
    "t = np.arange(0,10)\n",
    "\n",
    "pos = Position(t,x,y,z,sampling_rate=1)\n",
    "\n"
   ],
   "outputs": [],
   "metadata": {}
  },
  {
   "cell_type": "code",
   "execution_count": null,
   "source": [
    "from neuropy import plotting\n",
    "\n",
    "plotting.plot_position(pos)"
   ],
   "outputs": [],
   "metadata": {}
  },
  {
   "cell_type": "code",
   "execution_count": null,
   "source": [
    "a = np.array([1,2]).reshape(1,-1)"
   ],
   "outputs": [],
   "metadata": {}
  },
  {
   "cell_type": "code",
   "execution_count": null,
   "source": [
    "import numpy as np\n",
    "b = np.array(['2001-01-01T12:00', '2002-02-03T13:56:03.172'], dtype='datetime64')"
   ],
   "outputs": [],
   "metadata": {}
  },
  {
   "cell_type": "code",
   "execution_count": null,
   "source": [
    "import pandas as pd\n",
    "from neuropy.core import Epoch\n",
    "\n",
    "epoch = pd.DataFrame({'start':[1],'stop':[2],'label':['sdf']})\n",
    "\n",
    "epoch = Epoch(epochs=epoch)"
   ],
   "outputs": [],
   "metadata": {}
  },
  {
   "cell_type": "code",
   "execution_count": null,
   "source": [
    "import numpy as np\n",
    "\n",
    "a = []\n",
    "a.append([1,2,'hola'])\n",
    "a.append([5,6,'hol'])\n",
    "np.array(a,dtype='object')[:,0]\n"
   ],
   "outputs": [],
   "metadata": {}
  },
  {
   "cell_type": "code",
   "execution_count": null,
   "source": [
    "import numpy as np\n",
    "from neuropy.core import Neurons\n",
    "from neuropy import plotting\n",
    "spiketrains = np.array([np.sort(np.random.rand(_)) for _ in range(100,200)],dtype=object) \n",
    "neurons = Neurons(spiketrains,t_stop=1)\n",
    "\n",
    "plotting.plot_raster(neurons,color = 'jet')"
   ],
   "outputs": [],
   "metadata": {}
  },
  {
   "cell_type": "code",
   "execution_count": null,
   "source": [
    "import numpy as np\n",
    "from neuropy.core import Mua\n",
    "\n",
    "mua = Mua(spike_counts=np.array([1,2,3]),bin_size=0.2)"
   ],
   "outputs": [],
   "metadata": {}
  },
  {
   "cell_type": "code",
   "execution_count": null,
   "source": [
    "%matplotlib widget\n",
    "import matplotlib.pyplot as plt\n",
    "import numpy as np\n",
    "\n",
    "file1 = '/data/Clustering/sessions/RatS/Day2NSD/RatS-Day2NSD-2020-11-27_10-22-29_position.npy'\n",
    "file2 = '/data/Clustering/sessions/RatS/Day2NSD/RatS-Day2NSD-2020-11-27_10-22-29.position.npy'\n",
    "\n",
    "data1 = np.load(file1,allow_pickle=True).item()\n",
    "data2 = np.load(file2,allow_pickle=True).item()\n",
    "\n",
    "\n",
    "plt.plot(data1['x'])\n",
    "plt.plot(data2['traces'][1])"
   ],
   "outputs": [],
   "metadata": {}
  },
  {
   "cell_type": "code",
   "execution_count": null,
   "source": [
    "import numpy as np\n",
    "\n",
    "file = '/data/Clustering/sessions/RatN/Day2/2019-10-11_03-58-54/experiment1/recording1/continuous/Rhythm_FPGA-100.0/timestamps.npy'\n",
    "\n",
    "data = np.load(file)"
   ],
   "outputs": [],
   "metadata": {}
  },
  {
   "cell_type": "code",
   "execution_count": null,
   "source": [
    "import pandas as pd\n",
    "\n",
    "duration = pd.Timedelta(30120/30000,unit='sec')"
   ],
   "outputs": [],
   "metadata": {}
  },
  {
   "cell_type": "code",
   "execution_count": null,
   "source": [
    "fileName ='/data/Clustering/sessions/RatN/Day2/position/Take 2019-10-11 04.08.48 AM.fbx'\n",
    "\n",
    "with open(fileName) as f:\n",
    "    next(f)\n",
    "    for i, line in enumerate(f):\n",
    "\n",
    "        m = \"\".join(line)\n",
    "\n",
    "        if \"KeyCount\" in m:\n",
    "            print(m)\n",
    "            # print(\"break at i = \" + str(i))\n",
    "            # line_frame = linecache.getline(fileName, i + 2).strip().split(\" \")\n",
    "            break\n",
    "\n"
   ],
   "outputs": [],
   "metadata": {}
  },
  {
   "cell_type": "code",
   "execution_count": 1,
   "source": [
    "a = None\n",
    "\n",
    "assert a is not None"
   ],
   "outputs": [],
   "metadata": {}
  }
 ],
 "metadata": {
  "interpreter": {
   "hash": "7b10c821bc4bd3f433a613d47515e6babc6c2152896bd1e143404cc9d6ede4ad"
  },
  "kernelspec": {
   "name": "python3",
   "display_name": "Python 3.9.4 64-bit ('data_analysis': conda)"
  },
  "language_info": {
   "codemirror_mode": {
    "name": "ipython",
    "version": 3
   },
   "file_extension": ".py",
   "mimetype": "text/x-python",
   "name": "python",
   "nbconvert_exporter": "python",
   "pygments_lexer": "ipython3",
   "version": "3.9.4"
  },
  "orig_nbformat": 2
 },
 "nbformat": 4,
 "nbformat_minor": 2
}