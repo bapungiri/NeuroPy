{
 "cells": [
  {
   "cell_type": "markdown",
   "metadata": {},
   "source": [
    "## Reactivation of maze1 on maze2 (Two-novel) **excluding** pbe\n",
    "Using traditional explained variance measure we found maze1 reactivates during maze2. However, is it also the case if you exclude pbe/replay periods on maze2 "
   ]
  },
  {
   "cell_type": "code",
   "execution_count": 5,
   "metadata": {},
   "outputs": [],
   "source": [
    "import numpy as np\n",
    "import subjects\n",
    "import matplotlib.pyplot as plt\n",
    "from plotUtil import plt\n",
    "from plotUtil import Fig"
   ]
  },
  {
   "cell_type": "code",
   "execution_count": 6,
   "metadata": {},
   "outputs": [
    {
     "data": {
      "application/vnd.jupyter.widget-view+json": {
       "model_id": "787d2d77cc4c49459bdb6556336374f6",
       "version_major": 2,
       "version_minor": 0
      },
      "text/plain": "Canvas(toolbar=Toolbar(toolitems=[('Home', 'Reset original view', 'home', 'home'), ('Back', 'Back to previous …"
     },
     "metadata": {},
     "output_type": "display_data"
    },
    {
     "name": "stdout",
     "output_type": "stream",
     "text": [
      "Calculating EV for 35 stable cells\n",
      "481\n"
     ]
    },
    {
     "ename": "AttributeError",
     "evalue": "'Spikes' object has no attribute 'get_spkcounts'",
     "output_type": "error",
     "traceback": [
      "\u001b[0;31m---------------------------------------------------------------------------\u001b[0m",
      "\u001b[0;31mAttributeError\u001b[0m                            Traceback (most recent call last)",
      "\u001b[0;32m<ipython-input-6-4cf5304bfad6>\u001b[0m in \u001b[0;36m<module>\u001b[0;34m\u001b[0m\n\u001b[1;32m     39\u001b[0m \u001b[0;34m\u001b[0m\u001b[0m\n\u001b[1;32m     40\u001b[0m     \u001b[0;31m# ----- expvar maze2 -------\u001b[0m\u001b[0;34m\u001b[0m\u001b[0;34m\u001b[0m\u001b[0;34m\u001b[0m\u001b[0m\n\u001b[0;32m---> 41\u001b[0;31m     \u001b[0mspkcounts\u001b[0m \u001b[0;34m=\u001b[0m \u001b[0msess\u001b[0m\u001b[0;34m.\u001b[0m\u001b[0mspikes\u001b[0m\u001b[0;34m.\u001b[0m\u001b[0mget_spkcounts\u001b[0m\u001b[0;34m(\u001b[0m\u001b[0mcell_ids\u001b[0m\u001b[0;34m=\u001b[0m \u001b[0mpyrid\u001b[0m\u001b[0;34m,\u001b[0m\u001b[0mperiod\u001b[0m\u001b[0;34m=\u001b[0m\u001b[0mmaze2\u001b[0m\u001b[0;34m)\u001b[0m\u001b[0;34m\u001b[0m\u001b[0;34m\u001b[0m\u001b[0m\n\u001b[0m\u001b[1;32m     42\u001b[0m \u001b[0;31m# ax1.legend([\"rev_maze1\", \"maze1\", \"rev_maze2\", \"maze2\"])\u001b[0m\u001b[0;34m\u001b[0m\u001b[0;34m\u001b[0m\u001b[0;34m\u001b[0m\u001b[0m\n",
      "\u001b[0;31mAttributeError\u001b[0m: 'Spikes' object has no attribute 'get_spkcounts'"
     ]
    }
   ],
   "source": [
    "%matplotlib widget\n",
    "figure = Fig()\n",
    "fig,gs= figure.draw(grid=(2,2))\n",
    "sessions = subjects.Tn().ratSday5\n",
    "for sub,sess in enumerate(sessions):\n",
    "    pbe = sess.pbe.events\n",
    "    pyrid = sess.spikes.pyrid\n",
    "    pre = sess.epochs.pre\n",
    "    maze1 = sess.epochs.maze1\n",
    "    maze2 = sess.epochs.maze2\n",
    "    post1 = sess.epochs.post1\n",
    "    post2 = sess.epochs.post2\n",
    "\n",
    "    # --- break region into periods --------\n",
    "    bin1 = sess.utils.getinterval(pre, 2)\n",
    "    bin2 = sess.utils.getinterval(post2, 3)\n",
    "    bins = bin1 + bin2\n",
    "    sess.spikes.stability.firingRate(periods=bins)\n",
    "\n",
    "    # ----- expvar maze1 -------\n",
    "    control = pre\n",
    "    template = maze1  # [post[0] + 4 * 3600, post[0] + 5 * 3600]\n",
    "    match = [post1[0], post2[1]]  # post2  # [post[0] + 5 * 3600, post[1]]\n",
    "\n",
    "    sess.replay.expvar.compute(\n",
    "        template=template,\n",
    "        match=match,\n",
    "        control=control,\n",
    "        slideby=300,\n",
    "        cross_shanks=True,\n",
    "    )\n",
    "    print(sess.replay.expvar.npairs)\n",
    "\n",
    "\n",
    "    ax1 = plt.subplot(gs[1:])\n",
    "    sess.replay.expvar.plot(ax=ax1, tstart=post1[0])\n",
    "    ax1.set_xlim(left=0)\n",
    "    ax1.tick_params(width=2)\n",
    "\n",
    "    # ----- expvar maze2 -------\n",
    "    spkcounts = sess.spikes.get_spkcounts(cell_ids= pyrid,period=maze2)\n",
    "# ax1.legend([\"rev_maze1\", \"maze1\", \"rev_maze2\", \"maze2\"])\n"
   ]
  }
 ],
 "metadata": {
  "kernelspec": {
   "display_name": "Python 3.9.2 64-bit ('data_analysis': conda)",
   "name": "python392jvsc74a57bd07b10c821bc4bd3f433a613d47515e6babc6c2152896bd1e143404cc9d6ede4ad"
  },
  "language_info": {
   "codemirror_mode": {
    "name": "ipython",
    "version": 3
   },
   "file_extension": ".py",
   "mimetype": "text/x-python",
   "name": "python",
   "nbconvert_exporter": "python",
   "pygments_lexer": "ipython3",
   "version": "3.9.2"
  },
  "orig_nbformat": 2
 },
 "nbformat": 4,
 "nbformat_minor": 2
}