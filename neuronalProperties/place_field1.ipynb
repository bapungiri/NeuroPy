{
 "cells": [
  {
   "cell_type": "markdown",
   "metadata": {},
   "source": [
    "## Compare place field locations on two-novel maze"
   ]
  },
  {
   "cell_type": "code",
   "execution_count": 2,
   "metadata": {},
   "outputs": [],
   "source": [
    "import numpy as np\n",
    "import subjects\n",
    "import matplotlib.pyplot as plt\n",
    "from plotUtil import Fig\n"
   ]
  },
  {
   "cell_type": "code",
   "execution_count": 17,
   "metadata": {},
   "outputs": [
    {
     "data": {
      "application/vnd.jupyter.widget-view+json": {
       "model_id": "3a5143b511a647ffa25521639effc8a6",
       "version_major": 2,
       "version_minor": 0
      },
      "text/plain": "Canvas(toolbar=Toolbar(toolitems=[('Home', 'Reset original view', 'home', 'home'), ('Back', 'Back to previous …"
     },
     "metadata": {},
     "output_type": "display_data"
    },
    {
     "name": "stderr",
     "output_type": "stream",
     "text": [
      "/home/bapung/Documents/Codes/NeuroPy/ModulesPath/pfPlot.py:302: RuntimeWarning: invalid value encountered in true_divide\n",
      "  ratemaps = [_ / np.max(_) for _ in ratemaps]\n",
      "/home/bapung/Documents/Codes/NeuroPy/ModulesPath/pfPlot.py:302: RuntimeWarning: invalid value encountered in true_divide\n",
      "  ratemaps = [_ / np.max(_) for _ in ratemaps]\n"
     ]
    },
    {
     "data": {
      "text/plain": "Text(0.5, 0.98, 'Remapping between two mazes (Two novel maze)')"
     },
     "execution_count": 17,
     "metadata": {},
     "output_type": "execute_result"
    }
   ],
   "source": [
    "%matplotlib widget\n",
    "figure = Fig()\n",
    "fig,gs = figure.draw(grid=(1,2))\n",
    "sessions = subjects.Tn().ratSday5\n",
    "for sub,sess in enumerate(sessions):\n",
    "    maze1 = sess.epochs.maze1\n",
    "    maze2 = sess.epochs.maze2\n",
    "\n",
    "    sess.placefield.pf1d.compute(track_name='maze1')\n",
    "    ratemaps = np.asarray(sess.placefield.pf1d.ratemaps['ratemaps'])\n",
    "    order = np.argsort(np.argmax(ratemaps,axis=1))\n",
    "    ax1=plt.subplot(gs[0])\n",
    "    sess.placefield.pf1d.plot(ax=ax1,normalize=True,sortby=order)\n",
    "    ax1.set_title('Maze1')\n",
    "\n",
    "    sess.placefield.pf1d.compute(track_name='maze2')\n",
    "    ax2 = plt.subplot(gs[1])\n",
    "    sess.placefield.pf1d.plot(ax=ax2,normalize=True,sortby=order)\n",
    "    ax2.set_title('Mazee')\n",
    "fig.suptitle('Remapping between two mazes (Two novel maze)')\n",
    "# figure.savefig('test')"
   ]
  }
 ],
 "metadata": {
  "kernelspec": {
   "display_name": "Python 3.9.2 64-bit ('data_analysis': conda)",
   "name": "python392jvsc74a57bd07b10c821bc4bd3f433a613d47515e6babc6c2152896bd1e143404cc9d6ede4ad"
  },
  "language_info": {
   "codemirror_mode": {
    "name": "ipython",
    "version": 3
   },
   "file_extension": ".py",
   "mimetype": "text/x-python",
   "name": "python",
   "nbconvert_exporter": "python",
   "pygments_lexer": "ipython3",
   "version": "3.9.2"
  },
  "orig_nbformat": 2
 },
 "nbformat": 4,
 "nbformat_minor": 2
}