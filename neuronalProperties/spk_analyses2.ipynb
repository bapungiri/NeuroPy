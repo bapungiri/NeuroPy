{
 "cells": [
  {
   "cell_type": "code",
   "execution_count": 1,
   "metadata": {},
   "outputs": [
    {
     "name": "stderr",
     "output_type": "stream",
     "text": [
      "/home/bapung/miniconda3/envs/data_analysis/lib/python3.9/site-packages/outdated/utils.py:14: OutdatedPackageWarning: The package outdated is out of date. Your version is 0.2.0, the latest is 0.2.1.\n",
      "Set the environment variable OUTDATED_IGNORE=1 to disable these warnings.\n",
      "  return warn(\n"
     ]
    }
   ],
   "source": [
    "#%%\n",
    "import matplotlib.pyplot as plt\n",
    "import numpy as np\n",
    "import pandas as pd\n",
    "import scipy.stats as stats\n",
    "import matplotlib.gridspec as gridspec\n",
    "from scipy.ndimage import gaussian_filter\n",
    "from ccg import correlograms\n",
    "from mathutil import getICA_Assembly\n",
    "from callfunc import processData\n",
    "import subjects\n",
    "from plotUtil import Fig\n",
    "import networkx as nx\n",
    "\n"
   ]
  },
  {
   "cell_type": "markdown",
   "metadata": {},
   "source": [
    "## Network analysis sleep deprivation"
   ]
  },
  {
   "cell_type": "code",
   "execution_count": null,
   "metadata": {},
   "outputs": [],
   "source": [
    "figure = Fig()\n",
    "fig, gs = figure.draw(num=1, grid=(2, 2))\n",
    "sessions = subjects.Sd().ratSday3\n",
    "for sub, sess in enumerate(sessions):\n",
    "    period = sess.epochs.sd\n",
    "    sd_windows = np.arange(period[0], period[1] + 3600, 3600)\n",
    "    pyr = sess.spikes.pyr\n",
    "\n",
    "    for window in sd_windows:\n",
    "        bins = np.arange(window, window + 3600, 0.25)\n",
    "        spk_counts = np.asarray([np.histogram(cell, bins=bins)[0] for cell in pyr])\n",
    "        corr = np.corrcoef(spk_counts)\n",
    "\n"
   ]
  },
  {
   "cell_type": "markdown",
   "metadata": {},
   "source": [
    "## Comparing early to late maze exploration\n",
    "To check if strength of pairwise correlation is changed across exposure"
   ]
  },
  {
   "cell_type": "code",
   "execution_count": 9,
   "metadata": {},
   "outputs": [
    {
     "name": "stderr",
     "output_type": "stream",
     "text": [
      "/home/bapung/miniconda3/envs/data_analysis/lib/python3.9/site-packages/numpy/lib/function_base.py:2642: RuntimeWarning: invalid value encountered in true_divide\n",
      "  c /= stddev[:, None]\n",
      "/home/bapung/miniconda3/envs/data_analysis/lib/python3.9/site-packages/numpy/lib/function_base.py:2643: RuntimeWarning: invalid value encountered in true_divide\n",
      "  c /= stddev[None, :]\n"
     ]
    },
    {
     "data": {
      "image/png": "[encoded data removed]",
      "text/plain": "<Figure size 432x288 with 1 Axes>"
     },
     "metadata": {
      "needs_background": "light"
     },
     "output_type": "display_data"
    }
   ],
   "source": [
    "sessions = subjects.Sd().ratSday3\n",
    "for sub, sess in enumerate(sessions):\n",
    "    spks = sess.spikes.pyr\n",
    "    maze = sess.epochs.maze1\n",
    "    sess.spikes.corr.pairwise(spikes=spks, period=maze)\n",
    "    plt.plot(maze)"
   ]
  },
  {
   "cell_type": "code",
   "execution_count": 11,
   "metadata": {},
   "outputs": [
    {
     "name": "stdout",
     "output_type": "stream",
     "text": [
      "processData(RatSDay3SD)\n"
     ]
    }
   ],
   "source": [
    "print(sess)"
   ]
  },
  {
   "cell_type": "code",
   "execution_count": null,
   "metadata": {},
   "outputs": [],
   "source": []
  }
 ],
 "metadata": {
  "kernelspec": {
   "display_name": "Python 3.9.2 64-bit ('data_analysis': conda)",
   "name": "python392jvsc74a57bd07b10c821bc4bd3f433a613d47515e6babc6c2152896bd1e143404cc9d6ede4ad"
  },
  "language_info": {
   "codemirror_mode": {
    "name": "ipython",
    "version": 3
   },
   "file_extension": ".py",
   "mimetype": "text/x-python",
   "name": "python",
   "nbconvert_exporter": "python",
   "pygments_lexer": "ipython3",
   "version": "3.9.2"
  },
  "orig_nbformat": 2
 },
 "nbformat": 4,
 "nbformat_minor": 2
}