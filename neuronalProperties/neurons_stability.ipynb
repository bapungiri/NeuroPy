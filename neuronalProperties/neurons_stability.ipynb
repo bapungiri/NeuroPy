{
    "cells": [
        {
            "cell_type": "markdown",
            "source": [
                "# Neurons stability using ISI \n",
                "- uses isi contamination method as carried out in Pacheco et al. 2021"
            ],
            "metadata": {}
        },
        {
            "cell_type": "code",
            "execution_count": 2,
            "source": [
                "import numpy as np\n",
                "import subjects\n",
                "from neuropy.analyses.neurons_stability import isi_stability\n",
                "from neuropy.plotting import plot_firing_rate\n",
                "\n",
                "sessions = subjects.sd.ratSday3"
            ],
            "outputs": [],
            "metadata": {}
        },
        {
            "cell_type": "code",
            "execution_count": 5,
            "source": [
                "neurons  = sessions[0].neurons\n",
                "isi_bool = isi_stability(neurons)"
            ],
            "outputs": [
                {
                    "output_type": "stream",
                    "name": "stderr",
                    "text": [
                        "/home/bapung/Documents/Codes/NeuroPy/neuropy/analyses/neurons_stability.py:74: RuntimeWarning: invalid value encountered in true_divide\n",
                        "  isi_contamination.append(isi_3ms / n_spikes)\n"
                    ]
                }
            ],
            "metadata": {}
        },
        {
            "cell_type": "code",
            "execution_count": 24,
            "source": [
                "stable_cells_indx = np.where(isi_bool==True)[0]\n",
                "stable_neurons = neurons[stable_cells_indx]\n",
                "\n",
                "unstable_cells_indx = np.where(isi_bool==False)[0]\n",
                "unstable_neurons = neurons[unstable_cells_indx]"
            ],
            "outputs": [],
            "metadata": {}
        },
        {
            "cell_type": "code",
            "execution_count": 26,
            "source": [
                "%matplotlib widget\n",
                "plot_firing_rate(unstable_neurons,stacked=True)"
            ],
            "outputs": [
                {
                    "output_type": "display_data",
                    "data": {
                        "text/plain": [
                            "Canvas(toolbar=Toolbar(toolitems=[('Home', 'Reset original view', 'home', 'home'), ('Back', 'Back to previous …"
                        ],
                        "application/vnd.jupyter.widget-view+json": {
                            "version_major": 2,
                            "version_minor": 0,
                            "model_id": "c83511ed2b61429e9ea2a55c77167eb9"
                        }
                    },
                    "metadata": {}
                }
            ],
            "metadata": {}
        }
    ],
    "metadata": {
        "orig_nbformat": 4,
        "language_info": {
            "name": "python",
            "version": "3.9.4",
            "mimetype": "text/x-python",
            "codemirror_mode": {
                "name": "ipython",
                "version": 3
            },
            "pygments_lexer": "ipython3",
            "nbconvert_exporter": "python",
            "file_extension": ".py"
        },
        "kernelspec": {
            "name": "python3",
            "display_name": "Python 3.9.4 64-bit ('data_analysis': conda)"
        },
        "interpreter": {
            "hash": "7b10c821bc4bd3f433a613d47515e6babc6c2152896bd1e143404cc9d6ede4ad"
        }
    },
    "nbformat": 4,
    "nbformat_minor": 2
}