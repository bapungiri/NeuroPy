{
 "cells": [
  {
   "cell_type": "markdown",
   "metadata": {},
   "source": [
    "# Spectrogram"
   ]
  },
  {
   "cell_type": "code",
   "execution_count": null,
   "metadata": {},
   "outputs": [],
   "source": [
    "import matplotlib.pyplot as plt\n",
    "import subjects\n",
    "from neuropy import plotting\n",
    "from neuropy.utils import signal_process\n",
    "sess = subjects.nsd.ratVday1[0]"
   ]
  },
  {
   "cell_type": "code",
   "execution_count": null,
   "metadata": {},
   "outputs": [],
   "source": [
    "signal = sess.eegfile.get_signal([123])\n",
    "spect = signal_process.SpectrogramBands(signal, window=10, overlap=5)"
   ]
  },
  {
   "cell_type": "code",
   "execution_count": null,
   "metadata": {},
   "outputs": [],
   "source": [
    "%matplotlib widget\n",
    "from neuropy.plotting import Fig,plot_epochs\n",
    "\n",
    "figure = Fig()\n",
    "fig,gs = figure.draw(grid=(1,1))\n",
    "ax = plt.subplot(gs[0])\n",
    "plotting.plot_spectrogram(spect.sxx,spect.time,spect.freq,ax=ax)\n",
    "\n",
    "# plot_epochs(ax,sess.artifact)"
   ]
  },
  {
   "cell_type": "markdown",
   "metadata": {},
   "source": [
    "# Theta"
   ]
  },
  {
   "cell_type": "markdown",
   "metadata": {},
   "source": [
    "## Best theta channels"
   ]
  },
  {
   "cell_type": "code",
   "execution_count": null,
   "metadata": {},
   "outputs": [],
   "source": [
    "import matplotlib.pyplot as plt\n",
    "import numpy as np\n",
    "from neuropy.utils import signal_process\n",
    "import subjects\n",
    "\n",
    "sessions = subjects.sd.ratUday5"
   ]
  },
  {
   "cell_type": "code",
   "execution_count": null,
   "metadata": {},
   "outputs": [],
   "source": [
    "for sub,sess in enumerate(sessions):\n",
    "    maze = sess.paradigm['maze']\n",
    "\n",
    "    changrp= sess.probegroup.get_connected_channels(groupby='shank')\n",
    "    bestchans=[]\n",
    "    for channels in changrp:\n",
    "        signal = sess.eegfile.get_signal(channel_indx=channels.astype('int'),t_start=maze[1],t_stop=maze[1]+1800)\n",
    "        auc = signal_process.psd_auc(signal=signal,freq_band=(1,4))\n",
    "        bestchans.append(channels[np.argmax(auc)])"
   ]
  },
  {
   "cell_type": "code",
   "execution_count": null,
   "metadata": {},
   "outputs": [],
   "source": [
    "%matplotlib widget\n",
    "from neuropy.plotting import plot_probe\n",
    "\n",
    "plot_probe(sess.probegroup,annotate_channels=bestchans,channel_id=False)"
   ]
  },
  {
   "cell_type": "markdown",
   "metadata": {},
   "source": [
    "# Ripples"
   ]
  },
  {
   "cell_type": "markdown",
   "metadata": {},
   "source": [
    "## Power in bands around ripple band (150-250 Hz) during sleep deprivation\n",
    "- It seems that power in all three bands (100-140, 140-250, 250-400) increases during sleep deprivation.\n",
    "Does this signify hippocampus is more desynchronized during sleep deprivation?"
   ]
  },
  {
   "cell_type": "code",
   "execution_count": null,
   "metadata": {},
   "outputs": [],
   "source": [
    "import matplotlib.pyplot as plt\n",
    "import numpy as np\n",
    "import pandas as pd\n",
    "import seaborn as sns\n",
    "import subjects\n",
    "from neuropy.plotting import Fig\n",
    "from scipy import stats\n",
    "from neuropy.utils import signal_process\n",
    "\n",
    "sessions = subjects.sd.allsess# + subjects.sd.utkuAG_day1 + subjects.sd.utkuAG_day2\n",
    "# sessions = subjects.Nsd().allsess\n",
    "print(sessions)"
   ]
  },
  {
   "cell_type": "code",
   "execution_count": null,
   "metadata": {},
   "outputs": [],
   "source": [
    "df = pd.DataFrame()\n",
    "chans = [11, 113, 117, 128, 107]\n",
    "for sub, sess in enumerate(sessions):\n",
    "\n",
    "    post = sess.paradigm[\"post\"]\n",
    "    sd = [post[0], post[0] + 6 * 3600]\n",
    "\n",
    "    good_channels = sess.probegroup.get_connected_channels(groupby=\"shank\")\n",
    "    signal = sess.eegfile.get_signal(chans[sub], t_start=sd[0], t_stop=sd[1])\n",
    "    spect = signal_process.SpectrogramBands(\n",
    "        signal=signal, window=5, overlap=2, smooth=10\n",
    "    )\n",
    "    time = (spect.time - signal.t_start) / 3600\n",
    "    bp = lambda f1, f2: stats.zscore(spect.get_band_power(f1, f2))\n",
    "    df = df.append(\n",
    "        pd.DataFrame(\n",
    "            {\n",
    "                \"time\": time,\n",
    "                \"100-140\": bp(100, 140),\n",
    "                \"140-250\": bp(140, 250),\n",
    "                \"250-400\": bp(250, 400),\n",
    "                \"sub\": sub,\n",
    "            }\n",
    "        )\n",
    "    )\n"
   ]
  },
  {
   "cell_type": "code",
   "execution_count": null,
   "metadata": {},
   "outputs": [],
   "source": [
    "%matplotlib inline\n",
    "figure = Fig()\n",
    "fig,gs = figure.draw(grid=(1,3),style='Pres',size=(14,6))\n",
    "\n",
    "# df = df.groupby('time')\n",
    "for i,col in enumerate(df.columns[1:-1]):\n",
    "    ax = plt.subplot(gs[i])\n",
    "    sns.lineplot(data=df,x='time',y=col,ci='sd',ax=ax,label=col)\n",
    "    ax.legend()\n",
    "    ax.set_ylabel('Normalized power')\n",
    "    ax.set_xlabel('Time (ZT)')\n",
    "    ax.set_ylim([-5,6])\n"
   ]
  },
  {
   "cell_type": "markdown",
   "metadata": {},
   "source": [
    "## Plot ripples histogram for a single session"
   ]
  },
  {
   "cell_type": "code",
   "execution_count": 12,
   "metadata": {},
   "outputs": [],
   "source": [
    "import numpy as np\n",
    "import matplotlib.pyplot as plt\n",
    "from neuropy.plotting import Fig, plot_epochs\n",
    "import subjects\n",
    "\n",
    "sessions = subjects.sd.ratVday2"
   ]
  },
  {
   "cell_type": "code",
   "execution_count": 16,
   "metadata": {},
   "outputs": [
    {
     "data": {
      "application/vnd.jupyter.widget-view+json": {
       "model_id": "37ce700594fe47348cc42a2dfc21b0d3",
       "version_major": 2,
       "version_minor": 0
      },
      "image/png": "[encoded data removed]",
      "text/plain": [
       "Canvas(toolbar=Toolbar(toolitems=[('Home', 'Reset original view', 'home', 'home'), ('Back', 'Back to previous …"
      ]
     },
     "metadata": {},
     "output_type": "display_data"
    }
   ],
   "source": [
    "%matplotlib widget\n",
    "figure = Fig()\n",
    "fig,gs = figure.draw(grid=(4,2))\n",
    "for sub, sess in enumerate(sessions):\n",
    "    ax = plt.subplot(gs[sub])\n",
    "    starts = sess.ripple.starts\n",
    "    bins = np.arange(0,sess.eegfile.duration,600)\n",
    "    hist_rpl = np.histogram(starts,bins=bins)[0] \n",
    "    # plot_epochs(ax,sess.paradigm)\n",
    "    ax.plot(bins[:-1],hist_rpl)\n",
    "    ax.set_xlabel('Time')\n",
    "    ax.set_ylabel('Ripple rate')\n",
    "\n"
   ]
  },
  {
   "cell_type": "markdown",
   "metadata": {},
   "source": [
    "## Plot each session's ripple on a individual panel"
   ]
  },
  {
   "cell_type": "code",
   "execution_count": null,
   "metadata": {},
   "outputs": [],
   "source": [
    "import numpy as np\n",
    "import matplotlib.pyplot as plt\n",
    "from neuropy.plotting import Fig\n",
    "import subjects\n",
    "\n",
    "sessions = subjects.sd.allsess[:-1]"
   ]
  },
  {
   "cell_type": "markdown",
   "metadata": {},
   "source": [
    "## Ripple rate during sleep deprivation without sleep states"
   ]
  },
  {
   "cell_type": "code",
   "execution_count": null,
   "metadata": {},
   "outputs": [],
   "source": [
    "import numpy as np\n",
    "import pandas as pd\n",
    "import matplotlib.pyplot as plt\n",
    "from neuropy.plotting import Fig, plot_epochs\n",
    "import subjects\n",
    "\n",
    "sessions = subjects.sd.allsess[:-1]"
   ]
  },
  {
   "cell_type": "code",
   "execution_count": null,
   "metadata": {},
   "outputs": [],
   "source": [
    "df = pd.DataFrame()\n",
    "for sub, sess in enumerate(sessions):\n",
    "    post = sess.paradigm[\"post\"]\n",
    "    sd_period = [post[0], post[0] + 5 * 3600]\n",
    "    rpls = sess.ripple.starts\n",
    "\n",
    "    binsz = 1800\n",
    "    n_bins = 5 * 3600 / binsz\n",
    "    sd_bin = np.arange(n_bins + 1) * binsz + sd_period[0]\n",
    "    hist_rpl = np.histogram(rpls, bins=sd_bin)[0]\n",
    "    hist_rpl = hist_rpl / np.sum(hist_rpl)\n",
    "\n",
    "    df = df.append(\n",
    "        pd.DataFrame(\n",
    "            {\n",
    "                \"n_ripples\": hist_rpl / binsz,\n",
    "                \"tbin\": (sd_bin[:-1] - sd_bin[0]) / 3600,\n",
    "                \"sub\": sub,\n",
    "            }\n",
    "        ),\n",
    "        ignore_index=True,\n",
    "    )\n"
   ]
  },
  {
   "cell_type": "code",
   "execution_count": null,
   "metadata": {},
   "outputs": [],
   "source": [
    "%matplotlib inline\n",
    "import seaborn as sns\n",
    "\n",
    "figure = Fig()\n",
    "fig,gs = figure.draw(grid=(3,2))\n",
    "\n",
    "ax = plt.subplot(gs[0])\n",
    "\n",
    "sns.lineplot(data=df,x='tbin',y='n_ripples',ax=ax,hue='sub',legend=False)\n",
    "\n",
    "ax = plt.subplot(gs[1])\n",
    "sns.lineplot(data=df,x='tbin',y='n_ripples',ax=ax,color='k')\n"
   ]
  },
  {
   "cell_type": "markdown",
   "metadata": {},
   "source": [
    "## Ripple stats during sleep deprivation\n",
    "- plotting with linear regression"
   ]
  },
  {
   "cell_type": "code",
   "execution_count": null,
   "metadata": {},
   "outputs": [],
   "source": [
    "import numpy as np\n",
    "import matplotlib.pyplot as plt\n",
    "from scipy import stats\n",
    "import pandas as pd\n",
    "from neuropy.plotting import Fig\n",
    "import subjects\n",
    "import seaborn as sns\n",
    "\n",
    "sessions = subjects.sd.allsess[:-1] # + subjects.sd.utkuAG_day1 + subjects.sd.utkuAG_day2\n",
    "# sessions = subjects.Nsd().allsess\n",
    "print(sessions)\n"
   ]
  },
  {
   "cell_type": "code",
   "execution_count": null,
   "metadata": {},
   "outputs": [],
   "source": [
    "%matplotlib widget\n",
    "figure = Fig()\n",
    "fig,gs = figure.draw(grid=(3,2),style='Pres')\n",
    "df = pd.DataFrame()\n",
    "for sub,sess in enumerate(sessions):\n",
    "\n",
    "    post = sess.paradigm['post']\n",
    "    # pre = sess.paradigm.pre\n",
    "    # sd_period = [post[0],post[1]]\n",
    "    # sd_period = [post[0],post[0]+9*3600]\n",
    "    # try:\n",
    "        # sd_period = sess.paradigm['sd']\n",
    "    # except:\n",
    "    sd_period = [post[0],post[0]+5*3600]\n",
    "    rpls = sess.ripple\n",
    "    # states = sess.brainstates.epochs\n",
    "\n",
    "    binsz = 600\n",
    "    sd_bin = np.arange(sd_period[0],sd_period[1]+binsz,binsz)\n",
    "    hist_rpl = np.histogram(rpls.starts,bins=sd_bin)[0]\n",
    "\n",
    "    nrem_percent = []\n",
    "    for start in sd_bin[:-1]:\n",
    "        prop = sess.brainstates.get_proportion_by_label(start,start+binsz)\n",
    "        nrem_percent.append(prop['nrem'])\n",
    "\n",
    "    df = df.append(pd.DataFrame({'n_ripples':hist_rpl/binsz,'tbin':(sd_bin[:-1]-sd_bin[0])/3600,'nrem':nrem_percent,'sub':sub}))\n",
    "\n",
    "\n",
    "ax = plt.subplot(gs[0])\n",
    "rpls_mean = df.groupby('tbin').mean().n_ripples\n",
    "rpls_sem = df.groupby('tbin').sem(ddof=0).n_ripples\n",
    "# ax.fill_between(rpls_mean.index,rpls_mean-rpls_sem,rpls_mean+rpls_sem,color='#faa49d',alpha=0.6,ec=None)\n",
    "sns.regplot(x='tbin',y='n_ripples',data=df,ax=ax,color='g',x_estimator=np.mean)\n",
    "# ax.plot(rpls_mean.index,rpls_mean,color='#faa49d',zorder=2,lw=2)\n",
    "# ax.axvline(5,ls='--',color='r')\n",
    "ax.set_xlabel('ZT time (h)')\n",
    "ax.set_ylabel('Ripple rate')\n",
    "\n",
    "\n",
    "axsleep= ax.twinx()\n",
    "color = '#54b6f8'\n",
    "sleep_df = df.groupby('tbin').mean()\n",
    "axsleep.fill_between(sleep_df.index,sleep_df.nrem,color=color,zorder=1,alpha=0.3)\n",
    "# sns.lineplot(data=df,x='tbin',y='nrem',ax=axsleep,estimator='sum')\n",
    "axsleep.set_ylim([0,1])\n",
    "axsleep.spines['right'].set_visible(True)\n",
    "axsleep.set_ylabel('sleep proportion')\n",
    "\n",
    "#--- individual sessions -------\n",
    "# ax = plt.subplot(gs[2])\n",
    "# # sns.lineplot(x='tbin',y='n_ripples',hue='sub',data=df,ax=ax,legend=None,palette='Blues')\n",
    "# sns.lineplot(x='tbin',y='n_ripples',hue='sub',data=df,ax=ax,legend=None,palette='Blues')\n",
    "# # sns.regplot(x='tbin',y='n_ripples',ci=68,data=df,ax=ax,color='g',x_estimator=np.mean,fit_reg=True)\n",
    "# ax.set_xlabel('ZT time (h)')\n",
    "# ax.set_ylabel('Ripple rate')\n",
    "\n",
    "\n",
    "# axsleep= ax.twinx()\n",
    "# color = sess.brainstates.colors['nrem']\n",
    "# sleep_df = df.groupby('tbin').mean()\n",
    "# axsleep.fill_between(sleep_df.index,sleep_df.nrem,color=color,zorder=1,alpha=0.3)\n",
    "# # sns.lineplot(data=df,x='tbin',y='nrem',ax=axsleep,estimator='sum')\n",
    "# axsleep.set_ylim([0,1])\n",
    "# axsleep.spines['right'].set_visible(True)\n",
    "# axsleep.set_ylabel('sleep proportion')"
   ]
  }
 ],
 "metadata": {
  "interpreter": {
   "hash": "cce1618081139d19eb1ee8d40815d94a2de4f62e1efb20d9406ddb60628c36ae"
  },
  "kernelspec": {
   "display_name": "Python 3.9.7 64-bit ('data_analysis': conda)",
   "name": "python3"
  },
  "language_info": {
   "codemirror_mode": {
    "name": "ipython",
    "version": 3
   },
   "file_extension": ".py",
   "mimetype": "text/x-python",
   "name": "python",
   "nbconvert_exporter": "python",
   "pygments_lexer": "ipython3",
   "version": "3.9.7"
  },
  "orig_nbformat": 2
 },
 "nbformat": 4,
 "nbformat_minor": 2
}
