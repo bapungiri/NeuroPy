{
 "cells": [
  {
   "cell_type": "markdown",
   "source": [
    "# Power in bands around ripple band (150-250 Hz) during sleep deprivation\n",
    "- It seems that power in all three bands (100-140, 140-250, 250-400) increases during sleep deprivation.\n",
    "Does this signify hippocampus is more desynchronized during sleep deprivation?"
   ],
   "metadata": {}
  },
  {
   "cell_type": "code",
   "execution_count": null,
   "source": [
    "import matplotlib.pyplot as plt\n",
    "import numpy as np\n",
    "import pandas as pd\n",
    "import seaborn as sns\n",
    "import subjects\n",
    "from neuropy.plotting import Fig\n",
    "from scipy import stats\n",
    "from neuropy.utils import signal_process\n",
    "\n",
    "sessions = subjects.sd.allsess# + subjects.sd.utkuAG_day1 + subjects.sd.utkuAG_day2\n",
    "# sessions = subjects.Nsd().allsess\n",
    "print(sessions)"
   ],
   "outputs": [],
   "metadata": {}
  },
  {
   "cell_type": "code",
   "execution_count": null,
   "source": [
    "df = pd.DataFrame()\n",
    "chans = [11, 113, 117, 128, 107]\n",
    "for sub, sess in enumerate(sessions):\n",
    "\n",
    "    post = sess.paradigm[\"post\"]\n",
    "    sd = [post[0], post[0] + 6 * 3600]\n",
    "\n",
    "    good_channels = sess.probegroup.get_connected_channels(groupby=\"shank\")\n",
    "    signal = sess.eegfile.get_signal(chans[sub], t_start=sd[0], t_stop=sd[1])\n",
    "    spect = signal_process.SpectrogramBands(\n",
    "        signal=signal, window=5, overlap=2, smooth=10\n",
    "    )\n",
    "    time = (spect.time - signal.t_start) / 3600\n",
    "    bp = lambda f1, f2: stats.zscore(spect.get_band_power(f1, f2))\n",
    "    df = df.append(\n",
    "        pd.DataFrame(\n",
    "            {\n",
    "                \"time\": time,\n",
    "                \"100-140\": bp(100, 140),\n",
    "                \"140-250\": bp(140, 250),\n",
    "                \"250-400\": bp(250, 400),\n",
    "                \"sub\": sub,\n",
    "            }\n",
    "        )\n",
    "    )\n"
   ],
   "outputs": [],
   "metadata": {}
  },
  {
   "cell_type": "code",
   "execution_count": null,
   "source": [
    "%matplotlib inline\n",
    "figure = Fig()\n",
    "fig,gs = figure.draw(grid=(1,1),style='Pres',size=(4,4))\n",
    "\n",
    "# df = df.groupby('time')\n",
    "ax = plt.subplot(gs[0])\n",
    "sns.lineplot(data=df,x='time',y='100-140',ci='sd',ax=ax,label='100-140 Hz')\n",
    "sns.lineplot(data=df,x='time',y='140-250',ci='sd',ax=ax,label='140-250 Hz')\n",
    "sns.lineplot(data=df,x='time',y='250-400',ci='sd',ax=ax,label='250-400 Hz')\n",
    "ax.legend()\n",
    "ax.set_ylabel('Normalized power')\n",
    "ax.set_xlabel('Time (ZT)')\n",
    "ax.set_ylim([-5,6])"
   ],
   "outputs": [],
   "metadata": {}
  },
  {
   "cell_type": "code",
   "execution_count": null,
   "source": [
    "sess.recinfo.channel_groups"
   ],
   "outputs": [],
   "metadata": {}
  },
  {
   "cell_type": "markdown",
   "source": [
    "# Ripple stats during sleep deprivation\n",
    "- plotting with linear regression"
   ],
   "metadata": {}
  },
  {
   "cell_type": "code",
   "execution_count": null,
   "source": [
    "import numpy as np\n",
    "import matplotlib.pyplot as plt\n",
    "from scipy import stats\n",
    "import pandas as pd\n",
    "from neuropy.plotUtil import Fig\n",
    "import subjects\n",
    "import seaborn as sns\n",
    "\n",
    "sessions = subjects.sd.allsess# + subjects.sd.utkuAG_day1 + subjects.sd.utkuAG_day2\n",
    "# sessions = subjects.Nsd().allsess\n",
    "print(sessions)\n"
   ],
   "outputs": [],
   "metadata": {}
  },
  {
   "cell_type": "code",
   "execution_count": null,
   "source": [
    "%matplotlib widget\n",
    "figure = Fig()\n",
    "fig,gs = figure.draw(grid=(3,2),style='Pres')\n",
    "df = pd.DataFrame()\n",
    "for sub,sess in enumerate(sessions):\n",
    "\n",
    "    post = sess.paradigm['post']\n",
    "    # pre = sess.paradigm.pre\n",
    "    # sd_period = [post[0],post[1]]\n",
    "    # sd_period = [post[0],post[0]+9*3600]\n",
    "    try:\n",
    "        sd_period = sess.paradigm['sd']\n",
    "    except:\n",
    "        sd_period = [post[0],post[0]+5*3600]\n",
    "    rpls = sess.ripple\n",
    "    # states = sess.brainstates.epochs\n",
    "\n",
    "    binsz = 600\n",
    "    sd_bin = np.arange(sd_period[0],sd_period[1]+binsz,binsz)\n",
    "    hist_rpl = np.histogram(rpls.starts,bins=sd_bin)[0]\n",
    "\n",
    "    nrem_percent = []\n",
    "    for start in sd_bin[:-1]:\n",
    "        prop = sess.brainstates.proportion([start,start+binsz])\n",
    "        nrem_percent.append(prop['nrem'])\n",
    "\n",
    "    df = df.append(pd.DataFrame({'n_ripples':hist_rpl/binsz,'tbin':(sd_bin[:-1]-sd_bin[0])/3600,'nrem':nrem_percent,'sub':sub}))\n",
    "\n",
    "\n",
    "ax = plt.subplot(gs[0])\n",
    "rpls_mean = df.groupby('tbin').mean().n_ripples\n",
    "rpls_sem = df.groupby('tbin').sem(ddof=0).n_ripples\n",
    "# ax.fill_between(rpls_mean.index,rpls_mean-rpls_sem,rpls_mean+rpls_sem,color='#faa49d',alpha=0.6,ec=None)\n",
    "sns.regplot(x='tbin',y='n_ripples',data=df,ax=ax,color='g',x_estimator=np.mean)\n",
    "# ax.plot(rpls_mean.index,rpls_mean,color='#faa49d',zorder=2,lw=2)\n",
    "# ax.axvline(5,ls='--',color='r')\n",
    "ax.set_xlabel('ZT time (h)')\n",
    "ax.set_ylabel('Ripple rate')\n",
    "\n",
    "\n",
    "axsleep= ax.twinx()\n",
    "color = sess.brainstates.colors['nrem']\n",
    "sleep_df = df.groupby('tbin').mean()\n",
    "axsleep.fill_between(sleep_df.index,sleep_df.nrem,color=color,zorder=1,alpha=0.3)\n",
    "# sns.lineplot(data=df,x='tbin',y='nrem',ax=axsleep,estimator='sum')\n",
    "axsleep.set_ylim([0,1])\n",
    "axsleep.spines['right'].set_visible(True)\n",
    "axsleep.set_ylabel('sleep proportion')\n",
    "\n",
    "#--- individual sessions -------\n",
    "# ax = plt.subplot(gs[2])\n",
    "# # sns.lineplot(x='tbin',y='n_ripples',hue='sub',data=df,ax=ax,legend=None,palette='Blues')\n",
    "# sns.lineplot(x='tbin',y='n_ripples',hue='sub',data=df,ax=ax,legend=None,palette='Blues')\n",
    "# # sns.regplot(x='tbin',y='n_ripples',ci=68,data=df,ax=ax,color='g',x_estimator=np.mean,fit_reg=True)\n",
    "# ax.set_xlabel('ZT time (h)')\n",
    "# ax.set_ylabel('Ripple rate')\n",
    "\n",
    "\n",
    "# axsleep= ax.twinx()\n",
    "# color = sess.brainstates.colors['nrem']\n",
    "# sleep_df = df.groupby('tbin').mean()\n",
    "# axsleep.fill_between(sleep_df.index,sleep_df.nrem,color=color,zorder=1,alpha=0.3)\n",
    "# # sns.lineplot(data=df,x='tbin',y='nrem',ax=axsleep,estimator='sum')\n",
    "# axsleep.set_ylim([0,1])\n",
    "# axsleep.spines['right'].set_visible(True)\n",
    "# axsleep.set_ylabel('sleep proportion')"
   ],
   "outputs": [],
   "metadata": {}
  },
  {
   "cell_type": "code",
   "execution_count": 6,
   "source": [
    "import numpy as np\n",
    "from neuropy_viewer import view_signal\n",
    "import subjects \n",
    "\n",
    "sess = subjects.sd.ratNday1[0]\n",
    "channels= np.concatenate(sess.recinfo.channel_groups[:2]).astype('int')\n",
    "signal = sess.eegfile.get_signal(channels[:16])\n",
    "view_signal(signal,sess.probegroup)"
   ],
   "outputs": [],
   "metadata": {}
  }
 ],
 "metadata": {
  "interpreter": {
   "hash": "7b10c821bc4bd3f433a613d47515e6babc6c2152896bd1e143404cc9d6ede4ad"
  },
  "kernelspec": {
   "name": "python3",
   "display_name": "Python 3.9.4 64-bit"
  },
  "language_info": {
   "name": "python",
   "version": "3.9.4",
   "mimetype": "text/x-python",
   "codemirror_mode": {
    "name": "ipython",
    "version": 3
   },
   "pygments_lexer": "ipython3",
   "nbconvert_exporter": "python",
   "file_extension": ".py"
  },
  "orig_nbformat": 2
 },
 "nbformat": 4,
 "nbformat_minor": 2
}