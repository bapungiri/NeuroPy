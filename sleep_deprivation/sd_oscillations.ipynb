{
 "cells": [
  {
   "cell_type": "markdown",
   "metadata": {},
   "source": [
    "## Ripple stats during sleep deprivation"
   ]
  },
  {
   "cell_type": "code",
   "execution_count": 37,
   "metadata": {},
   "outputs": [
    {
     "name": "stdout",
     "output_type": "stream",
     "text": [
      "[processData(RatJDay1), processData(RatKDay1), processData(RatNDay1), processData(RatSDay3SD), processData(RatRDay2SD), processData(UtkuAG_2019-12-22_SD_day1), processData(UtkuAG_2019-12-26_SD_day2)]\n"
     ]
    }
   ],
   "source": [
    "import numpy as np\n",
    "import matplotlib.pyplot as plt\n",
    "from scipy import stats\n",
    "import pandas as pd\n",
    "from ModulesPath.plotUtil import Fig\n",
    "import subjects\n",
    "import seaborn as sns\n",
    "\n",
    "sessions = subjects.Sd().allsess + subjects.Sd().utkuAG_day1 + subjects.Sd().utkuAG_day2\n",
    "# sessions = subjects.Nsd().allsess\n",
    "print(sessions)"
   ]
  },
  {
   "cell_type": "code",
   "execution_count": 39,
   "metadata": {},
   "outputs": [
    {
     "data": {
      "application/vnd.jupyter.widget-view+json": {
       "model_id": "5e28be0a951e4e0bbaf9b26fc799cfbf",
       "version_major": 2,
       "version_minor": 0
      },
      "text/plain": [
       "Canvas(toolbar=Toolbar(toolitems=[('Home', 'Reset original view', 'home', 'home'), ('Back', 'Back to previous …"
      ]
     },
     "metadata": {},
     "output_type": "display_data"
    },
    {
     "data": {
      "text/plain": [
       "Text(0, 0.5, 'nrem proportion')"
      ]
     },
     "execution_count": 39,
     "metadata": {},
     "output_type": "execute_result"
    }
   ],
   "source": [
    "%matplotlib widget\n",
    "figure = Fig()\n",
    "fig,gs = figure.draw(grid=(1,1),size=(4,4),style='Pres')\n",
    "df = pd.DataFrame()\n",
    "for sub,sess in enumerate(sessions):\n",
    "\n",
    "    post = sess.paradigm.post\n",
    "    # pre = sess.paradigm.pre\n",
    "    # sd_period = [post[0],post[1]]\n",
    "    # sd_period = [post[0],post[0]+9*3600]\n",
    "    try:\n",
    "        sd_period = sess.paradigm.sd\n",
    "    except:\n",
    "        sd_period = [sess.paradigm.post[0],sess.paradigm.post[0]+5*3600]\n",
    "    rpls = sess.ripple.epochs\n",
    "    # states = sess.brainstates.epochs\n",
    "\n",
    "    binsz = 600\n",
    "    sd_bin = np.arange(sd_period[0],sd_period[1]+binsz,binsz)\n",
    "    hist_rpl = np.histogram(rpls.start,bins=sd_bin)[0]\n",
    "\n",
    "    nrem_percent = []\n",
    "    for start in sd_bin[:-1]:\n",
    "        prop = sess.brainstates.proportion([start,start+binsz])\n",
    "        nrem_percent.append(prop['nrem'])\n",
    "\n",
    "    df = df.append(pd.DataFrame({'n_ripples':hist_rpl/binsz,'tbin':(sd_bin[:-1]-sd_bin[0])/3600,'nrem':nrem_percent,'sub':sub}))\n",
    "\n",
    "\n",
    "ax = plt.subplot(gs[0])\n",
    "rpls_mean = df.groupby('tbin').mean().n_ripples\n",
    "rpls_sem = df.groupby('tbin').sem(ddof=0).n_ripples\n",
    "ax.fill_between(rpls_mean.index,rpls_mean-rpls_sem,rpls_mean+rpls_sem,color='#faa49d',alpha=0.7)\n",
    "ax.plot(rpls_mean.index,rpls_mean,color='#faa49d',zorder=2)\n",
    "ax.axvline(5,ls='--',color='r')\n",
    "ax.set_xlabel('ZT time (h)')\n",
    "ax.set_ylabel('Ripple rate')\n",
    "\n",
    "\n",
    "axsleep= ax.twinx()\n",
    "color = sess.brainstates.colors['nrem']\n",
    "sleep_df = df.groupby('tbin').mean()\n",
    "axsleep.fill_between(sleep_df.index,sleep_df.nrem,color=color,zorder=1,alpha=0.3)\n",
    "# sns.lineplot(data=df,x='tbin',y='nrem',ax=axsleep,estimator='sum')\n",
    "axsleep.set_ylim([0,1])\n",
    "axsleep.spines['right'].set_visible(True)\n",
    "axsleep.set_ylabel('nrem proportion')\n",
    "\n"
   ]
  },
  {
   "cell_type": "code",
   "execution_count": 40,
   "metadata": {},
   "outputs": [
    {
     "data": {
      "text/html": [
       "<div>\n",
       "<style scoped>\n",
       "    .dataframe tbody tr th:only-of-type {\n",
       "        vertical-align: middle;\n",
       "    }\n",
       "\n",
       "    .dataframe tbody tr th {\n",
       "        vertical-align: top;\n",
       "    }\n",
       "\n",
       "    .dataframe thead th {\n",
       "        text-align: right;\n",
       "    }\n",
       "</style>\n",
       "<table border=\"1\" class=\"dataframe\">\n",
       "  <thead>\n",
       "    <tr style=\"text-align: right;\">\n",
       "      <th></th>\n",
       "      <th>start</th>\n",
       "      <th>stop</th>\n",
       "      <th>peakpower</th>\n",
       "      <th>peaktime</th>\n",
       "      <th>duration</th>\n",
       "      <th>label</th>\n",
       "    </tr>\n",
       "  </thead>\n",
       "  <tbody>\n",
       "    <tr>\n",
       "      <th>0</th>\n",
       "      <td>45.8168</td>\n",
       "      <td>46.2432</td>\n",
       "      <td>0.004161</td>\n",
       "      <td>46.0792</td>\n",
       "      <td>0.4264</td>\n",
       "      <td></td>\n",
       "    </tr>\n",
       "    <tr>\n",
       "      <th>1</th>\n",
       "      <td>110.9728</td>\n",
       "      <td>111.3568</td>\n",
       "      <td>0.004092</td>\n",
       "      <td>111.0112</td>\n",
       "      <td>0.3840</td>\n",
       "      <td></td>\n",
       "    </tr>\n",
       "    <tr>\n",
       "      <th>2</th>\n",
       "      <td>111.7744</td>\n",
       "      <td>112.1136</td>\n",
       "      <td>0.004712</td>\n",
       "      <td>111.8224</td>\n",
       "      <td>0.3392</td>\n",
       "      <td></td>\n",
       "    </tr>\n",
       "    <tr>\n",
       "      <th>3</th>\n",
       "      <td>129.7888</td>\n",
       "      <td>129.9936</td>\n",
       "      <td>0.004017</td>\n",
       "      <td>129.9344</td>\n",
       "      <td>0.2048</td>\n",
       "      <td></td>\n",
       "    </tr>\n",
       "    <tr>\n",
       "      <th>4</th>\n",
       "      <td>163.9040</td>\n",
       "      <td>164.3088</td>\n",
       "      <td>0.004323</td>\n",
       "      <td>164.0112</td>\n",
       "      <td>0.4048</td>\n",
       "      <td></td>\n",
       "    </tr>\n",
       "    <tr>\n",
       "      <th>...</th>\n",
       "      <td>...</td>\n",
       "      <td>...</td>\n",
       "      <td>...</td>\n",
       "      <td>...</td>\n",
       "      <td>...</td>\n",
       "      <td>...</td>\n",
       "    </tr>\n",
       "    <tr>\n",
       "      <th>10806</th>\n",
       "      <td>46378.5456</td>\n",
       "      <td>46378.6368</td>\n",
       "      <td>0.005146</td>\n",
       "      <td>46378.6296</td>\n",
       "      <td>0.0912</td>\n",
       "      <td></td>\n",
       "    </tr>\n",
       "    <tr>\n",
       "      <th>10807</th>\n",
       "      <td>46379.0264</td>\n",
       "      <td>46379.2360</td>\n",
       "      <td>0.008585</td>\n",
       "      <td>46379.1288</td>\n",
       "      <td>0.2096</td>\n",
       "      <td></td>\n",
       "    </tr>\n",
       "    <tr>\n",
       "      <th>10808</th>\n",
       "      <td>46379.3320</td>\n",
       "      <td>46379.4360</td>\n",
       "      <td>0.007473</td>\n",
       "      <td>46379.3568</td>\n",
       "      <td>0.1040</td>\n",
       "      <td></td>\n",
       "    </tr>\n",
       "    <tr>\n",
       "      <th>10809</th>\n",
       "      <td>46381.6128</td>\n",
       "      <td>46381.6784</td>\n",
       "      <td>0.004298</td>\n",
       "      <td>46381.6352</td>\n",
       "      <td>0.0656</td>\n",
       "      <td></td>\n",
       "    </tr>\n",
       "    <tr>\n",
       "      <th>10810</th>\n",
       "      <td>46384.5696</td>\n",
       "      <td>46384.7112</td>\n",
       "      <td>0.004759</td>\n",
       "      <td>46384.6648</td>\n",
       "      <td>0.1416</td>\n",
       "      <td></td>\n",
       "    </tr>\n",
       "  </tbody>\n",
       "</table>\n",
       "<p>10811 rows × 6 columns</p>\n",
       "</div>"
      ],
      "text/plain": [
       "            start        stop  peakpower    peaktime  duration label\n",
       "0         45.8168     46.2432   0.004161     46.0792    0.4264      \n",
       "1        110.9728    111.3568   0.004092    111.0112    0.3840      \n",
       "2        111.7744    112.1136   0.004712    111.8224    0.3392      \n",
       "3        129.7888    129.9936   0.004017    129.9344    0.2048      \n",
       "4        163.9040    164.3088   0.004323    164.0112    0.4048      \n",
       "...           ...         ...        ...         ...       ...   ...\n",
       "10806  46378.5456  46378.6368   0.005146  46378.6296    0.0912      \n",
       "10807  46379.0264  46379.2360   0.008585  46379.1288    0.2096      \n",
       "10808  46379.3320  46379.4360   0.007473  46379.3568    0.1040      \n",
       "10809  46381.6128  46381.6784   0.004298  46381.6352    0.0656      \n",
       "10810  46384.5696  46384.7112   0.004759  46384.6648    0.1416      \n",
       "\n",
       "[10811 rows x 6 columns]"
      ]
     },
     "execution_count": 40,
     "metadata": {},
     "output_type": "execute_result"
    }
   ],
   "source": [
    "sess.ripple.epochs"
   ]
  }
 ],
 "metadata": {
  "interpreter": {
   "hash": "7b10c821bc4bd3f433a613d47515e6babc6c2152896bd1e143404cc9d6ede4ad"
  },
  "kernelspec": {
   "display_name": "Python 3.9.2 64-bit ('data_analysis': conda)",
   "name": "python3"
  },
  "language_info": {
   "codemirror_mode": {
    "name": "ipython",
    "version": 3
   },
   "file_extension": ".py",
   "mimetype": "text/x-python",
   "name": "python",
   "nbconvert_exporter": "python",
   "pygments_lexer": "ipython3",
   "version": "3.9.2"
  },
  "orig_nbformat": 2
 },
 "nbformat": 4,
 "nbformat_minor": 2
}