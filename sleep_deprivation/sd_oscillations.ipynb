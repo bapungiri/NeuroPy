{
 "cells": [
  {
   "cell_type": "markdown",
   "metadata": {},
   "source": [
    "# Spectrogram"
   ]
  },
  {
   "cell_type": "code",
   "execution_count": null,
   "metadata": {},
   "outputs": [],
   "source": [
    "import matplotlib.pyplot as plt\n",
    "import subjects\n",
    "from neuropy import plotting\n",
    "from neuropy.utils import signal_process\n",
    "sess = subjects.nsd.ratVday1[0]"
   ]
  },
  {
   "cell_type": "code",
   "execution_count": null,
   "metadata": {},
   "outputs": [],
   "source": [
    "signal = sess.eegfile.get_signal([123])\n",
    "spect = signal_process.SpectrogramBands(signal, window=10, overlap=5)"
   ]
  },
  {
   "cell_type": "code",
   "execution_count": null,
   "metadata": {},
   "outputs": [],
   "source": [
    "%matplotlib widget\n",
    "from neuropy.plotting import Fig,plot_epochs\n",
    "\n",
    "figure = Fig()\n",
    "fig,gs = figure.draw(grid=(1,1))\n",
    "ax = plt.subplot(gs[0])\n",
    "plotting.plot_spectrogram(spect.sxx,spect.time,spect.freq,ax=ax)\n",
    "\n",
    "# plot_epochs(ax,sess.artifact)"
   ]
  },
  {
   "cell_type": "markdown",
   "metadata": {},
   "source": [
    "# Theta"
   ]
  },
  {
   "cell_type": "markdown",
   "metadata": {},
   "source": [
    "## Best theta channels"
   ]
  },
  {
   "cell_type": "code",
   "execution_count": 2,
   "metadata": {},
   "outputs": [],
   "source": [
    "import matplotlib.pyplot as plt\n",
    "import numpy as np\n",
    "from neuropy.utils import signal_process\n",
    "import subjects\n",
    "\n",
    "sessions = subjects.sd.ratUday4"
   ]
  },
  {
   "cell_type": "code",
   "execution_count": 4,
   "metadata": {},
   "outputs": [],
   "source": [
    "for sub,sess in enumerate(sessions):\n",
    "    maze = sess.paradigm['maze'].flatten()\n",
    "\n",
    "    changrp= sess.probegroup.get_connected_channels(groupby='shank')\n",
    "    bestchans=[]\n",
    "    for channels in changrp:\n",
    "        signal = sess.eegfile.get_signal(channel_indx=channels.astype('int'),t_start=maze[1],t_stop=maze[1]+1800)\n",
    "        auc = signal_process.psd_auc(signal=signal,freq_band=(1,4))\n",
    "        bestchans.append(channels[np.argmax(auc)])"
   ]
  },
  {
   "cell_type": "code",
   "execution_count": 5,
   "metadata": {},
   "outputs": [
    {
     "data": {
      "text/plain": [
       "<AxesSubplot:title={'center':'Probe 192ch'}>"
      ]
     },
     "execution_count": 5,
     "metadata": {},
     "output_type": "execute_result"
    },
    {
     "data": {
      "application/vnd.jupyter.widget-view+json": {
       "model_id": "5c26897e4e6346268c5eed097168749a",
       "version_major": 2,
       "version_minor": 0
      },
      "text/html": [
       "\n",
       "            <div style=\"display: inline-block;\">\n",
       "                <div class=\"jupyter-widgets widget-label\" style=\"text-align: center;\">\n",
       "                    Figure\n",
       "                </div>\n",
       "                <img src='data:image/png;base64,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' width=640.0/>\n",
       "            </div>\n",
       "        "
      ],
      "text/plain": [
       "Canvas(toolbar=Toolbar(toolitems=[('Home', 'Reset original view', 'home', 'home'), ('Back', 'Back to previous …"
      ]
     },
     "metadata": {},
     "output_type": "display_data"
    }
   ],
   "source": [
    "%matplotlib widget\n",
    "from neuropy.plotting import plot_probe\n",
    "\n",
    "plot_probe(sess.probegroup,annotate_channels=bestchans,channel_id=False)"
   ]
  },
  {
   "cell_type": "markdown",
   "metadata": {},
   "source": [
    "# Ripples"
   ]
  },
  {
   "cell_type": "markdown",
   "metadata": {},
   "source": [
    "## Power in bands around ripple band (150-250 Hz) during sleep deprivation\n",
    "- It seems that power in all three bands (100-140, 140-250, 250-400) increases during sleep deprivation.\n",
    "Does this signify hippocampus is more desynchronized during sleep deprivation?"
   ]
  },
  {
   "cell_type": "code",
   "execution_count": null,
   "metadata": {},
   "outputs": [],
   "source": [
    "import matplotlib.pyplot as plt\n",
    "import numpy as np\n",
    "import pandas as pd\n",
    "import seaborn as sns\n",
    "import subjects\n",
    "from neuropy.plotting import Fig\n",
    "from scipy import stats\n",
    "from neuropy.utils import signal_process\n",
    "\n",
    "sessions = subjects.sd.allsess# + subjects.sd.utkuAG_day1 + subjects.sd.utkuAG_day2\n",
    "# sessions = subjects.Nsd().allsess\n",
    "print(sessions)"
   ]
  },
  {
   "cell_type": "code",
   "execution_count": null,
   "metadata": {},
   "outputs": [],
   "source": [
    "df = pd.DataFrame()\n",
    "chans = [11, 113, 117, 128, 107]\n",
    "for sub, sess in enumerate(sessions):\n",
    "\n",
    "    post = sess.paradigm[\"post\"]\n",
    "    sd = [post[0], post[0] + 6 * 3600]\n",
    "\n",
    "    good_channels = sess.probegroup.get_connected_channels(groupby=\"shank\")\n",
    "    signal = sess.eegfile.get_signal(chans[sub], t_start=sd[0], t_stop=sd[1])\n",
    "    spect = signal_process.SpectrogramBands(\n",
    "        signal=signal, window=5, overlap=2, smooth=10\n",
    "    )\n",
    "    time = (spect.time - signal.t_start) / 3600\n",
    "    bp = lambda f1, f2: stats.zscore(spect.get_band_power(f1, f2))\n",
    "    df = df.append(\n",
    "        pd.DataFrame(\n",
    "            {\n",
    "                \"time\": time,\n",
    "                \"100-140\": bp(100, 140),\n",
    "                \"140-250\": bp(140, 250),\n",
    "                \"250-400\": bp(250, 400),\n",
    "                \"sub\": sub,\n",
    "            }\n",
    "        )\n",
    "    )\n",
    "\n"
   ]
  },
  {
   "cell_type": "code",
   "execution_count": null,
   "metadata": {},
   "outputs": [],
   "source": [
    "%matplotlib inline\n",
    "figure = Fig()\n",
    "fig,gs = figure.draw(grid=(1,3),style='Pres',size=(14,6))\n",
    "\n",
    "# df = df.groupby('time')\n",
    "for i,col in enumerate(df.columns[1:-1]):\n",
    "    ax = plt.subplot(gs[i])\n",
    "    sns.lineplot(data=df,x='time',y=col,ci='sd',ax=ax,label=col)\n",
    "    ax.legend()\n",
    "    ax.set_ylabel('Normalized power')\n",
    "    ax.set_xlabel('Time (ZT)')\n",
    "    ax.set_ylim([-5,6])\n"
   ]
  },
  {
   "cell_type": "markdown",
   "metadata": {},
   "source": [
    "## Plot ripples histogram for a single session"
   ]
  },
  {
   "cell_type": "code",
   "execution_count": null,
   "metadata": {},
   "outputs": [],
   "source": [
    "import numpy as np\n",
    "import matplotlib.pyplot as plt\n",
    "from neuropy.plotting import Fig, plot_epochs\n",
    "import subjects\n",
    "\n",
    "# sessions = subjects.sd.utkuAG_day1 + subjects.sd.utkuAG_day2\n",
    "sessions = subjects.sd.ratKday1 + subjects.sd.ratNday1"
   ]
  },
  {
   "cell_type": "code",
   "execution_count": null,
   "metadata": {},
   "outputs": [],
   "source": [
    "%matplotlib widget\n",
    "from scipy.stats import binned_statistic\n",
    "figure = Fig()\n",
    "fig,gs = figure.draw(grid=(2,2))\n",
    "for sub, sess in enumerate(sessions):\n",
    "    ax = plt.subplot(gs[sub])\n",
    "    starts = sess.ripple.starts\n",
    "    durations = sess.ripple.durations\n",
    "    bins = np.arange(0,sess.eegfile.duration,600)\n",
    "    # hist_rpl = np.histogram(starts,bins=bins)[0] \n",
    "    hist_rpl = binned_statistic(starts,durations,bins=bins,statistic='sum')[0] \n",
    "    plot_epochs(ax,sess.paradigm)\n",
    "    ax.plot(bins[:-1],hist_rpl/600,'k')\n",
    "    ax.set_xlabel('Time')\n",
    "    ax.set_ylabel('Ripple rate')\n",
    "    print(sess.ripple.metadata)\n"
   ]
  },
  {
   "cell_type": "markdown",
   "metadata": {},
   "source": [
    "## Plot each session's ripple on a individual panel"
   ]
  },
  {
   "cell_type": "code",
   "execution_count": null,
   "metadata": {},
   "outputs": [],
   "source": [
    "import numpy as np\n",
    "import matplotlib.pyplot as plt\n",
    "from neuropy.plotting import Fig\n",
    "import subjects\n",
    "\n",
    "sessions = subjects.sd.allsess[:-1]"
   ]
  },
  {
   "cell_type": "markdown",
   "metadata": {},
   "source": [
    "## Ripple rate during sleep deprivation without sleep states"
   ]
  },
  {
   "cell_type": "code",
   "execution_count": null,
   "metadata": {},
   "outputs": [],
   "source": [
    "import numpy as np\n",
    "import pandas as pd\n",
    "import matplotlib.pyplot as plt\n",
    "from neuropy.plotting import Fig, plot_epochs\n",
    "import subjects\n",
    "\n",
    "sessions = subjects.sd.allsess[:-1]"
   ]
  },
  {
   "cell_type": "code",
   "execution_count": null,
   "metadata": {},
   "outputs": [],
   "source": [
    "df = pd.DataFrame()\n",
    "for sub, sess in enumerate(sessions):\n",
    "    post = sess.paradigm[\"post\"]\n",
    "    sd_period = [post[0], post[0] + 5 * 3600]\n",
    "    rpls = sess.ripple.starts\n",
    "\n",
    "    binsz = 1800\n",
    "    n_bins = 5 * 3600 / binsz\n",
    "    sd_bin = np.arange(n_bins + 1) * binsz + sd_period[0]\n",
    "    hist_rpl = np.histogram(rpls, bins=sd_bin)[0]\n",
    "    hist_rpl = hist_rpl / np.sum(hist_rpl)\n",
    "\n",
    "    df = df.append(\n",
    "        pd.DataFrame(\n",
    "            {\n",
    "                \"n_ripples\": hist_rpl / binsz,\n",
    "                \"tbin\": (sd_bin[:-1] - sd_bin[0]) / 3600,\n",
    "                \"sub\": sub,\n",
    "            }\n",
    "        ),\n",
    "        ignore_index=True,\n",
    "    )\n"
   ]
  },
  {
   "cell_type": "code",
   "execution_count": null,
   "metadata": {},
   "outputs": [],
   "source": [
    "%matplotlib inline\n",
    "import seaborn as sns\n",
    "\n",
    "figure = Fig()\n",
    "fig,gs = figure.draw(grid=(3,2))\n",
    "\n",
    "ax = plt.subplot(gs[0])\n",
    "\n",
    "sns.lineplot(data=df,x='tbin',y='n_ripples',ax=ax,hue='sub',legend=False)\n",
    "\n",
    "ax = plt.subplot(gs[1])\n",
    "sns.lineplot(data=df,x='tbin',y='n_ripples',ax=ax,color='k')\n"
   ]
  },
  {
   "cell_type": "markdown",
   "metadata": {},
   "source": [
    "## Ripple stats during sleep deprivation\n",
    "- plotting with linear regression"
   ]
  },
  {
   "cell_type": "code",
   "execution_count": null,
   "metadata": {},
   "outputs": [],
   "source": [
    "import numpy as np\n",
    "import matplotlib.pyplot as plt\n",
    "from scipy import stats\n",
    "import pandas as pd\n",
    "from neuropy.plotting import Fig\n",
    "import subjects\n",
    "import seaborn as sns\n",
    "\n",
    "sessions = subjects.sd.allsess[:-1] # + subjects.sd.utkuAG_day1 + subjects.sd.utkuAG_day2\n",
    "# sessions = subjects.Nsd().allsess\n",
    "print(sessions)\n"
   ]
  },
  {
   "cell_type": "code",
   "execution_count": null,
   "metadata": {},
   "outputs": [],
   "source": [
    "%matplotlib widget\n",
    "figure = Fig()\n",
    "fig, gs = figure.draw(grid=(3, 2), style=\"Pres\")\n",
    "df = pd.DataFrame()\n",
    "for sub, sess in enumerate(sessions):\n",
    "\n",
    "    post = sess.paradigm[\"post\"]\n",
    "    # pre = sess.paradigm.pre\n",
    "    # sd_period = [post[0],post[1]]\n",
    "    # sd_period = [post[0],post[0]+9*3600]\n",
    "    # try:\n",
    "    # sd_period = sess.paradigm['sd']\n",
    "    # except:\n",
    "    sd_period = [post[0], post[0] + 5 * 3600]\n",
    "    rpls = sess.ripple\n",
    "    # states = sess.brainstates.epochs\n",
    "\n",
    "    binsz = 600\n",
    "    sd_bin = np.arange(sd_period[0], sd_period[1] + binsz, binsz)\n",
    "    hist_rpl = np.histogram(rpls.starts, bins=sd_bin)[0]\n",
    "\n",
    "    nrem_percent = []\n",
    "    for start in sd_bin[:-1]:\n",
    "        prop = sess.brainstates.get_proportion_by_label(start, start + binsz)\n",
    "        nrem_percent.append(prop[\"nrem\"])\n",
    "\n",
    "    df = df.append(\n",
    "        pd.DataFrame(\n",
    "            {\n",
    "                \"n_ripples\": hist_rpl / binsz,\n",
    "                \"tbin\": (sd_bin[:-1] - sd_bin[0]) / 3600,\n",
    "                \"nrem\": nrem_percent,\n",
    "                \"sub\": sub,\n",
    "            }\n",
    "        )\n",
    "    )\n",
    "\n",
    "\n",
    "ax = plt.subplot(gs[0])\n",
    "rpls_mean = df.groupby(\"tbin\").mean().n_ripples\n",
    "rpls_sem = df.groupby(\"tbin\").sem(ddof=0).n_ripples\n",
    "# ax.fill_between(rpls_mean.index,rpls_mean-rpls_sem,rpls_mean+rpls_sem,color='#faa49d',alpha=0.6,ec=None)\n",
    "sns.regplot(x=\"tbin\", y=\"n_ripples\", data=df, ax=ax, color=\"g\", x_estimator=np.mean)\n",
    "# ax.plot(rpls_mean.index,rpls_mean,color='#faa49d',zorder=2,lw=2)\n",
    "# ax.axvline(5,ls='--',color='r')\n",
    "ax.set_xlabel(\"ZT time (h)\")\n",
    "ax.set_ylabel(\"Ripple rate\")\n",
    "\n",
    "\n",
    "axsleep = ax.twinx()\n",
    "color = \"#54b6f8\"\n",
    "sleep_df = df.groupby(\"tbin\").mean()\n",
    "axsleep.fill_between(sleep_df.index, sleep_df.nrem, color=color, zorder=1, alpha=0.3)\n",
    "# sns.lineplot(data=df,x='tbin',y='nrem',ax=axsleep,estimator='sum')\n",
    "axsleep.set_ylim([0, 1])\n",
    "axsleep.spines[\"right\"].set_visible(True)\n",
    "axsleep.set_ylabel(\"sleep proportion\")\n",
    "\n",
    "# --- individual sessions -------\n",
    "# ax = plt.subplot(gs[2])\n",
    "# # sns.lineplot(x='tbin',y='n_ripples',hue='sub',data=df,ax=ax,legend=None,palette='Blues')\n",
    "# sns.lineplot(x='tbin',y='n_ripples',hue='sub',data=df,ax=ax,legend=None,palette='Blues')\n",
    "# # sns.regplot(x='tbin',y='n_ripples',ci=68,data=df,ax=ax,color='g',x_estimator=np.mean,fit_reg=True)\n",
    "# ax.set_xlabel('ZT time (h)')\n",
    "# ax.set_ylabel('Ripple rate')\n",
    "\n",
    "\n",
    "# axsleep= ax.twinx()\n",
    "# color = sess.brainstates.colors['nrem']\n",
    "# sleep_df = df.groupby('tbin').mean()\n",
    "# axsleep.fill_between(sleep_df.index,sleep_df.nrem,color=color,zorder=1,alpha=0.3)\n",
    "# # sns.lineplot(data=df,x='tbin',y='nrem',ax=axsleep,estimator='sum')\n",
    "# axsleep.set_ylim([0,1])\n",
    "# axsleep.spines['right'].set_visible(True)\n",
    "# axsleep.set_ylabel('sleep proportion')\n"
   ]
  }
 ],
 "metadata": {
  "interpreter": {
   "hash": "cce1618081139d19eb1ee8d40815d94a2de4f62e1efb20d9406ddb60628c36ae"
  },
  "kernelspec": {
   "display_name": "Python 3.9.7 64-bit ('data_analysis': conda)",
   "name": "python3"
  },
  "language_info": {
   "codemirror_mode": {
    "name": "ipython",
    "version": 3
   },
   "file_extension": ".py",
   "mimetype": "text/x-python",
   "name": "python",
   "nbconvert_exporter": "python",
   "pygments_lexer": "ipython3",
   "version": "3.9.7"
  },
  "orig_nbformat": 2
 },
 "nbformat": 4,
 "nbformat_minor": 2
}
