{
 "cells": [
  {
   "cell_type": "markdown",
   "source": [
    "# Spectrogram"
   ],
   "metadata": {}
  },
  {
   "cell_type": "code",
   "execution_count": null,
   "source": [
    "import matplotlib.pyplot as plt\n",
    "import subjects\n",
    "from neuropy import plotting\n",
    "from neuropy.utils import signal_process\n",
    "sess = subjects.sd.ratUday4[0]"
   ],
   "outputs": [],
   "metadata": {}
  },
  {
   "cell_type": "code",
   "execution_count": null,
   "source": [
    "signal = sess.eegfile.get_signal([123])\n",
    "spect = signal_process.SpectrogramBands(signal, window=10, overlap=5)"
   ],
   "outputs": [],
   "metadata": {}
  },
  {
   "cell_type": "code",
   "execution_count": null,
   "source": [
    "%matplotlib widget\n",
    "\n",
    "fig,ax = plt.subplots()\n",
    "plotting.plot_spectrogram(spect.sxx,spect.time,spect.freq,ax=ax)"
   ],
   "outputs": [],
   "metadata": {}
  },
  {
   "cell_type": "markdown",
   "source": [
    "# Ripples"
   ],
   "metadata": {}
  },
  {
   "cell_type": "markdown",
   "source": [
    "## Power in bands around ripple band (150-250 Hz) during sleep deprivation\n",
    "- It seems that power in all three bands (100-140, 140-250, 250-400) increases during sleep deprivation.\n",
    "Does this signify hippocampus is more desynchronized during sleep deprivation?"
   ],
   "metadata": {}
  },
  {
   "cell_type": "code",
   "execution_count": null,
   "source": [
    "import matplotlib.pyplot as plt\n",
    "import numpy as np\n",
    "import pandas as pd\n",
    "import seaborn as sns\n",
    "import subjects\n",
    "from neuropy.plotting import Fig\n",
    "from scipy import stats\n",
    "from neuropy.utils import signal_process\n",
    "\n",
    "sessions = subjects.sd.allsess# + subjects.sd.utkuAG_day1 + subjects.sd.utkuAG_day2\n",
    "# sessions = subjects.Nsd().allsess\n",
    "print(sessions)"
   ],
   "outputs": [],
   "metadata": {}
  },
  {
   "cell_type": "code",
   "execution_count": null,
   "source": [
    "df = pd.DataFrame()\n",
    "chans = [11, 113, 117, 128, 107]\n",
    "for sub, sess in enumerate(sessions):\n",
    "\n",
    "    post = sess.paradigm[\"post\"]\n",
    "    sd = [post[0], post[0] + 6 * 3600]\n",
    "\n",
    "    good_channels = sess.probegroup.get_connected_channels(groupby=\"shank\")\n",
    "    signal = sess.eegfile.get_signal(chans[sub], t_start=sd[0], t_stop=sd[1])\n",
    "    spect = signal_process.SpectrogramBands(\n",
    "        signal=signal, window=5, overlap=2, smooth=10\n",
    "    )\n",
    "    time = (spect.time - signal.t_start) / 3600\n",
    "    bp = lambda f1, f2: stats.zscore(spect.get_band_power(f1, f2))\n",
    "    df = df.append(\n",
    "        pd.DataFrame(\n",
    "            {\n",
    "                \"time\": time,\n",
    "                \"100-140\": bp(100, 140),\n",
    "                \"140-250\": bp(140, 250),\n",
    "                \"250-400\": bp(250, 400),\n",
    "                \"sub\": sub,\n",
    "            }\n",
    "        )\n",
    "    )\n"
   ],
   "outputs": [],
   "metadata": {}
  },
  {
   "cell_type": "code",
   "execution_count": null,
   "source": [
    "%matplotlib inline\n",
    "figure = Fig()\n",
    "fig,gs = figure.draw(grid=(1,3),style='Pres',size=(14,6))\n",
    "\n",
    "# df = df.groupby('time')\n",
    "for i,col in enumerate(df.columns[1:-1]):\n",
    "    ax = plt.subplot(gs[i])\n",
    "    sns.lineplot(data=df,x='time',y=col,ci='sd',ax=ax,label=col)\n",
    "    ax.legend()\n",
    "    ax.set_ylabel('Normalized power')\n",
    "    ax.set_xlabel('Time (ZT)')\n",
    "    ax.set_ylim([-5,6])\n"
   ],
   "outputs": [],
   "metadata": {}
  },
  {
   "cell_type": "markdown",
   "source": [
    "## Plot ripples histogram"
   ],
   "metadata": {}
  },
  {
   "cell_type": "code",
   "execution_count": 1,
   "source": [
    "import numpy as np\n",
    "import matplotlib.pyplot as plt\n",
    "from neuropy.plotting import Fig, plot_epochs\n",
    "import subjects\n",
    "\n",
    "sessions = subjects.sd.ratUday4"
   ],
   "outputs": [],
   "metadata": {}
  },
  {
   "cell_type": "code",
   "execution_count": 2,
   "source": [
    "%matplotlib inline\n",
    "figure = Fig()\n",
    "fig,gs = figure.draw(grid=(4,2))\n",
    "for sub, sess in enumerate(sessions):\n",
    "    ax = plt.subplot(gs[sub])\n",
    "    starts = sess.ripple.starts\n",
    "    bins = np.arange(0,sess.eegfile.duration,600)\n",
    "    hist_rpl = np.histogram(starts,bins=bins)[0] \n",
    "    plot_epochs(ax,sess.paradigm)\n",
    "    ax.plot(bins[:-1],hist_rpl)\n",
    "    ax.set_xlabel('Time')\n",
    "    ax.set_ylabel('Ripple rate')\n",
    "\n"
   ],
   "outputs": [
    {
     "output_type": "display_data",
     "data": {
      "text/plain": [
       "<Figure size 612x792 with 1 Axes>"
      ],
      "image/svg+xml": "<?xml version=\"1.0\" encoding=\"utf-8\" standalone=\"no\"?>\n<!DOCTYPE svg PUBLIC \"-//W3C//DTD SVG 1.1//EN\"\n  \"http://www.w3.org/Graphics/SVG/1.1/DTD/svg11.dtd\">\n<svg height=\"170.876304pt\" version=\"1.1\" viewBox=\"0 0 273.898518 170.876304\" width=\"273.898518pt\" xmlns=\"http://www.w3.org/2000/svg\" xmlns:xlink=\"http://www.w3.org/1999/xlink\">\n <metadata>\n  <rdf:RDF xmlns:cc=\"http://creativecommons.org/ns#\" xmlns:dc=\"http://purl.org/dc/elements/1.1/\" xmlns:rdf=\"http://www.w3.org/1999/02/22-rdf-syntax-ns#\">\n   <cc:Work>\n    <dc:type rdf:resource=\"http://purl.org/dc/dcmitype/StillImage\"/>\n    <dc:date>2021-08-06T13:24:58.197934</dc:date>\n    <dc:format>image/svg+xml</dc:format>\n    <dc:creator>\n     <cc:Agent>\n      <dc:title>Matplotlib v3.4.1, https://matplotlib.org/</dc:title>\n     </cc:Agent>\n    </dc:creator>\n   </cc:Work>\n  </rdf:RDF>\n </metadata>\n <defs>\n  <style type=\"text/css\">*{stroke-linecap:butt;stroke-linejoin:round;}</style>\n </defs>\n <g id=\"figure_1\">\n  <g id=\"patch_1\">\n   <path d=\"M 0 170.876304 \nL 273.898518 170.876304 \nL 273.898518 -0 \nL 0 -0 \nz\n\" style=\"fill:none;\"/>\n  </g>\n  <g id=\"axes_1\">\n   <g id=\"patch_2\">\n    <path d=\"M 41.2125 137.191304 \nL 256.803409 137.191304 \nL 256.803409 7.2 \nL 41.2125 7.2 \nz\n\" style=\"fill:#ffffff;\"/>\n   </g>\n   <g id=\"patch_3\">\n    <path clip-path=\"url(#pd037752505)\" d=\"M 51.012087 72.195652 \nL 51.012087 65.696087 \nL 89.209428 65.696087 \nL 89.209428 72.195652 \nz\n\" style=\"fill:#8dd3c7;opacity:0.5;stroke:#8dd3c7;stroke-linejoin:miter;\"/>\n   </g>\n   <g id=\"patch_4\">\n    <path clip-path=\"url(#pd037752505)\" d=\"M 89.213487 63.096261 \nL 89.213487 56.596696 \nL 101.939169 56.596696 \nL 101.939169 63.096261 \nz\n\" style=\"fill:#bebada;opacity:0.5;stroke:#bebada;stroke-linejoin:miter;\"/>\n   </g>\n   <g id=\"patch_5\">\n    <path clip-path=\"url(#pd037752505)\" d=\"M 101.943228 53.99687 \nL 101.943228 47.497304 \nL 175.07835 47.497304 \nL 175.07835 53.99687 \nz\n\" style=\"fill:#80b1d3;opacity:0.5;stroke:#80b1d3;stroke-linejoin:miter;\"/>\n   </g>\n   <g id=\"patch_6\">\n    <path clip-path=\"url(#pd037752505)\" d=\"M 101.943228 44.897478 \nL 101.943228 38.397913 \nL 234.326851 38.397913 \nL 234.326851 44.897478 \nz\n\" style=\"fill:#b3de69;opacity:0.5;stroke:#b3de69;stroke-linejoin:miter;\"/>\n   </g>\n   <g id=\"patch_7\">\n    <path clip-path=\"url(#pd037752505)\" d=\"M 175.08241 35.798087 \nL 175.08241 29.298522 \nL 234.326851 29.298522 \nL 234.326851 35.798087 \nz\n\" style=\"fill:#d9d9d9;opacity:0.5;stroke:#d9d9d9;stroke-linejoin:miter;\"/>\n   </g>\n   <g id=\"patch_8\">\n    <path clip-path=\"url(#pd037752505)\" d=\"M 234.330911 26.698696 \nL 234.330911 20.19913 \nL 247.003822 20.19913 \nL 247.003822 26.698696 \nz\n\" style=\"fill:#ccebc5;opacity:0.5;stroke:#ccebc5;stroke-linejoin:miter;\"/>\n   </g>\n   <g id=\"matplotlib.axis_1\">\n    <g id=\"xtick_1\">\n     <g id=\"line2d_1\">\n      <defs>\n       <path d=\"M 0 0 \nL 0 3.5 \n\" id=\"m588f42cefb\" style=\"stroke:#000000;stroke-width:0.8;\"/>\n      </defs>\n      <g>\n       <use style=\"stroke:#000000;stroke-width:0.8;\" x=\"51.012087\" xlink:href=\"#m588f42cefb\" y=\"137.191304\"/>\n      </g>\n     </g>\n     <g id=\"text_1\">\n      <!-- 0 -->\n      <g transform=\"translate(48.467087 150.270054)scale(0.08 -0.08)\">\n       <defs>\n        <path d=\"M 2034 4250 \nQ 1547 4250 1301 3770 \nQ 1056 3291 1056 2328 \nQ 1056 1369 1301 889 \nQ 1547 409 2034 409 \nQ 2525 409 2770 889 \nQ 3016 1369 3016 2328 \nQ 3016 3291 2770 3770 \nQ 2525 4250 2034 4250 \nz\nM 2034 4750 \nQ 2819 4750 3233 4129 \nQ 3647 3509 3647 2328 \nQ 3647 1150 3233 529 \nQ 2819 -91 2034 -91 \nQ 1250 -91 836 529 \nQ 422 1150 422 2328 \nQ 422 3509 836 4129 \nQ 1250 4750 2034 4750 \nz\n\" id=\"DejaVuSans-30\" transform=\"scale(0.015625)\"/>\n       </defs>\n       <use xlink:href=\"#DejaVuSans-30\"/>\n      </g>\n     </g>\n    </g>\n    <g id=\"xtick_2\">\n     <g id=\"line2d_2\">\n      <g>\n       <use style=\"stroke:#000000;stroke-width:0.8;\" x=\"91.604373\" xlink:href=\"#m588f42cefb\" y=\"137.191304\"/>\n      </g>\n     </g>\n     <g id=\"text_2\">\n      <!-- 10000 -->\n      <g transform=\"translate(78.879373 150.270054)scale(0.08 -0.08)\">\n       <defs>\n        <path d=\"M 794 531 \nL 1825 531 \nL 1825 4091 \nL 703 3866 \nL 703 4441 \nL 1819 4666 \nL 2450 4666 \nL 2450 531 \nL 3481 531 \nL 3481 0 \nL 794 0 \nL 794 531 \nz\n\" id=\"DejaVuSans-31\" transform=\"scale(0.015625)\"/>\n       </defs>\n       <use xlink:href=\"#DejaVuSans-31\"/>\n       <use x=\"63.623047\" xlink:href=\"#DejaVuSans-30\"/>\n       <use x=\"127.246094\" xlink:href=\"#DejaVuSans-30\"/>\n       <use x=\"190.869141\" xlink:href=\"#DejaVuSans-30\"/>\n       <use x=\"254.492188\" xlink:href=\"#DejaVuSans-30\"/>\n      </g>\n     </g>\n    </g>\n    <g id=\"xtick_3\">\n     <g id=\"line2d_3\">\n      <g>\n       <use style=\"stroke:#000000;stroke-width:0.8;\" x=\"132.196659\" xlink:href=\"#m588f42cefb\" y=\"137.191304\"/>\n      </g>\n     </g>\n     <g id=\"text_3\">\n      <!-- 20000 -->\n      <g transform=\"translate(119.471659 150.270054)scale(0.08 -0.08)\">\n       <defs>\n        <path d=\"M 1228 531 \nL 3431 531 \nL 3431 0 \nL 469 0 \nL 469 531 \nQ 828 903 1448 1529 \nQ 2069 2156 2228 2338 \nQ 2531 2678 2651 2914 \nQ 2772 3150 2772 3378 \nQ 2772 3750 2511 3984 \nQ 2250 4219 1831 4219 \nQ 1534 4219 1204 4116 \nQ 875 4013 500 3803 \nL 500 4441 \nQ 881 4594 1212 4672 \nQ 1544 4750 1819 4750 \nQ 2544 4750 2975 4387 \nQ 3406 4025 3406 3419 \nQ 3406 3131 3298 2873 \nQ 3191 2616 2906 2266 \nQ 2828 2175 2409 1742 \nQ 1991 1309 1228 531 \nz\n\" id=\"DejaVuSans-32\" transform=\"scale(0.015625)\"/>\n       </defs>\n       <use xlink:href=\"#DejaVuSans-32\"/>\n       <use x=\"63.623047\" xlink:href=\"#DejaVuSans-30\"/>\n       <use x=\"127.246094\" xlink:href=\"#DejaVuSans-30\"/>\n       <use x=\"190.869141\" xlink:href=\"#DejaVuSans-30\"/>\n       <use x=\"254.492188\" xlink:href=\"#DejaVuSans-30\"/>\n      </g>\n     </g>\n    </g>\n    <g id=\"xtick_4\">\n     <g id=\"line2d_4\">\n      <g>\n       <use style=\"stroke:#000000;stroke-width:0.8;\" x=\"172.788945\" xlink:href=\"#m588f42cefb\" y=\"137.191304\"/>\n      </g>\n     </g>\n     <g id=\"text_4\">\n      <!-- 30000 -->\n      <g transform=\"translate(160.063945 150.270054)scale(0.08 -0.08)\">\n       <defs>\n        <path d=\"M 2597 2516 \nQ 3050 2419 3304 2112 \nQ 3559 1806 3559 1356 \nQ 3559 666 3084 287 \nQ 2609 -91 1734 -91 \nQ 1441 -91 1130 -33 \nQ 819 25 488 141 \nL 488 750 \nQ 750 597 1062 519 \nQ 1375 441 1716 441 \nQ 2309 441 2620 675 \nQ 2931 909 2931 1356 \nQ 2931 1769 2642 2001 \nQ 2353 2234 1838 2234 \nL 1294 2234 \nL 1294 2753 \nL 1863 2753 \nQ 2328 2753 2575 2939 \nQ 2822 3125 2822 3475 \nQ 2822 3834 2567 4026 \nQ 2313 4219 1838 4219 \nQ 1578 4219 1281 4162 \nQ 984 4106 628 3988 \nL 628 4550 \nQ 988 4650 1302 4700 \nQ 1616 4750 1894 4750 \nQ 2613 4750 3031 4423 \nQ 3450 4097 3450 3541 \nQ 3450 3153 3228 2886 \nQ 3006 2619 2597 2516 \nz\n\" id=\"DejaVuSans-33\" transform=\"scale(0.015625)\"/>\n       </defs>\n       <use xlink:href=\"#DejaVuSans-33\"/>\n       <use x=\"63.623047\" xlink:href=\"#DejaVuSans-30\"/>\n       <use x=\"127.246094\" xlink:href=\"#DejaVuSans-30\"/>\n       <use x=\"190.869141\" xlink:href=\"#DejaVuSans-30\"/>\n       <use x=\"254.492188\" xlink:href=\"#DejaVuSans-30\"/>\n      </g>\n     </g>\n    </g>\n    <g id=\"xtick_5\">\n     <g id=\"line2d_5\">\n      <g>\n       <use style=\"stroke:#000000;stroke-width:0.8;\" x=\"213.381232\" xlink:href=\"#m588f42cefb\" y=\"137.191304\"/>\n      </g>\n     </g>\n     <g id=\"text_5\">\n      <!-- 40000 -->\n      <g transform=\"translate(200.656232 150.270054)scale(0.08 -0.08)\">\n       <defs>\n        <path d=\"M 2419 4116 \nL 825 1625 \nL 2419 1625 \nL 2419 4116 \nz\nM 2253 4666 \nL 3047 4666 \nL 3047 1625 \nL 3713 1625 \nL 3713 1100 \nL 3047 1100 \nL 3047 0 \nL 2419 0 \nL 2419 1100 \nL 313 1100 \nL 313 1709 \nL 2253 4666 \nz\n\" id=\"DejaVuSans-34\" transform=\"scale(0.015625)\"/>\n       </defs>\n       <use xlink:href=\"#DejaVuSans-34\"/>\n       <use x=\"63.623047\" xlink:href=\"#DejaVuSans-30\"/>\n       <use x=\"127.246094\" xlink:href=\"#DejaVuSans-30\"/>\n       <use x=\"190.869141\" xlink:href=\"#DejaVuSans-30\"/>\n       <use x=\"254.492188\" xlink:href=\"#DejaVuSans-30\"/>\n      </g>\n     </g>\n    </g>\n    <g id=\"xtick_6\">\n     <g id=\"line2d_6\">\n      <g>\n       <use style=\"stroke:#000000;stroke-width:0.8;\" x=\"253.973518\" xlink:href=\"#m588f42cefb\" y=\"137.191304\"/>\n      </g>\n     </g>\n     <g id=\"text_6\">\n      <!-- 50000 -->\n      <g transform=\"translate(241.248518 150.270054)scale(0.08 -0.08)\">\n       <defs>\n        <path d=\"M 691 4666 \nL 3169 4666 \nL 3169 4134 \nL 1269 4134 \nL 1269 2991 \nQ 1406 3038 1543 3061 \nQ 1681 3084 1819 3084 \nQ 2600 3084 3056 2656 \nQ 3513 2228 3513 1497 \nQ 3513 744 3044 326 \nQ 2575 -91 1722 -91 \nQ 1428 -91 1123 -41 \nQ 819 9 494 109 \nL 494 744 \nQ 775 591 1075 516 \nQ 1375 441 1709 441 \nQ 2250 441 2565 725 \nQ 2881 1009 2881 1497 \nQ 2881 1984 2565 2268 \nQ 2250 2553 1709 2553 \nQ 1456 2553 1204 2497 \nQ 953 2441 691 2322 \nL 691 4666 \nz\n\" id=\"DejaVuSans-35\" transform=\"scale(0.015625)\"/>\n       </defs>\n       <use xlink:href=\"#DejaVuSans-35\"/>\n       <use x=\"63.623047\" xlink:href=\"#DejaVuSans-30\"/>\n       <use x=\"127.246094\" xlink:href=\"#DejaVuSans-30\"/>\n       <use x=\"190.869141\" xlink:href=\"#DejaVuSans-30\"/>\n       <use x=\"254.492188\" xlink:href=\"#DejaVuSans-30\"/>\n      </g>\n     </g>\n    </g>\n    <g id=\"text_7\">\n     <!-- Time -->\n     <g transform=\"translate(139.22108 162.012554)scale(0.08 -0.08)\">\n      <defs>\n       <path d=\"M -19 4666 \nL 3928 4666 \nL 3928 4134 \nL 2272 4134 \nL 2272 0 \nL 1638 0 \nL 1638 4134 \nL -19 4134 \nL -19 4666 \nz\n\" id=\"DejaVuSans-54\" transform=\"scale(0.015625)\"/>\n       <path d=\"M 603 3500 \nL 1178 3500 \nL 1178 0 \nL 603 0 \nL 603 3500 \nz\nM 603 4863 \nL 1178 4863 \nL 1178 4134 \nL 603 4134 \nL 603 4863 \nz\n\" id=\"DejaVuSans-69\" transform=\"scale(0.015625)\"/>\n       <path d=\"M 3328 2828 \nQ 3544 3216 3844 3400 \nQ 4144 3584 4550 3584 \nQ 5097 3584 5394 3201 \nQ 5691 2819 5691 2113 \nL 5691 0 \nL 5113 0 \nL 5113 2094 \nQ 5113 2597 4934 2840 \nQ 4756 3084 4391 3084 \nQ 3944 3084 3684 2787 \nQ 3425 2491 3425 1978 \nL 3425 0 \nL 2847 0 \nL 2847 2094 \nQ 2847 2600 2669 2842 \nQ 2491 3084 2119 3084 \nQ 1678 3084 1418 2786 \nQ 1159 2488 1159 1978 \nL 1159 0 \nL 581 0 \nL 581 3500 \nL 1159 3500 \nL 1159 2956 \nQ 1356 3278 1631 3431 \nQ 1906 3584 2284 3584 \nQ 2666 3584 2933 3390 \nQ 3200 3197 3328 2828 \nz\n\" id=\"DejaVuSans-6d\" transform=\"scale(0.015625)\"/>\n       <path d=\"M 3597 1894 \nL 3597 1613 \nL 953 1613 \nQ 991 1019 1311 708 \nQ 1631 397 2203 397 \nQ 2534 397 2845 478 \nQ 3156 559 3463 722 \nL 3463 178 \nQ 3153 47 2828 -22 \nQ 2503 -91 2169 -91 \nQ 1331 -91 842 396 \nQ 353 884 353 1716 \nQ 353 2575 817 3079 \nQ 1281 3584 2069 3584 \nQ 2775 3584 3186 3129 \nQ 3597 2675 3597 1894 \nz\nM 3022 2063 \nQ 3016 2534 2758 2815 \nQ 2500 3097 2075 3097 \nQ 1594 3097 1305 2825 \nQ 1016 2553 972 2059 \nL 3022 2063 \nz\n\" id=\"DejaVuSans-65\" transform=\"scale(0.015625)\"/>\n      </defs>\n      <use xlink:href=\"#DejaVuSans-54\"/>\n      <use x=\"57.958984\" xlink:href=\"#DejaVuSans-69\"/>\n      <use x=\"85.742188\" xlink:href=\"#DejaVuSans-6d\"/>\n      <use x=\"183.154297\" xlink:href=\"#DejaVuSans-65\"/>\n     </g>\n    </g>\n   </g>\n   <g id=\"matplotlib.axis_2\">\n    <g id=\"ytick_1\">\n     <g id=\"line2d_7\">\n      <defs>\n       <path d=\"M 0 0 \nL -3.5 0 \n\" id=\"m6401108339\" style=\"stroke:#000000;stroke-width:0.8;\"/>\n      </defs>\n      <g>\n       <use style=\"stroke:#000000;stroke-width:0.8;\" x=\"41.2125\" xlink:href=\"#m6401108339\" y=\"134.014954\"/>\n      </g>\n     </g>\n     <g id=\"text_8\">\n      <!-- 0 -->\n      <g transform=\"translate(29.1225 137.054329)scale(0.08 -0.08)\">\n       <use xlink:href=\"#DejaVuSans-30\"/>\n      </g>\n     </g>\n    </g>\n    <g id=\"ytick_2\">\n     <g id=\"line2d_8\">\n      <g>\n       <use style=\"stroke:#000000;stroke-width:0.8;\" x=\"41.2125\" xlink:href=\"#m6401108339\" y=\"116.937798\"/>\n      </g>\n     </g>\n     <g id=\"text_9\">\n      <!-- 50 -->\n      <g transform=\"translate(24.0325 119.977173)scale(0.08 -0.08)\">\n       <use xlink:href=\"#DejaVuSans-35\"/>\n       <use x=\"63.623047\" xlink:href=\"#DejaVuSans-30\"/>\n      </g>\n     </g>\n    </g>\n    <g id=\"ytick_3\">\n     <g id=\"line2d_9\">\n      <g>\n       <use style=\"stroke:#000000;stroke-width:0.8;\" x=\"41.2125\" xlink:href=\"#m6401108339\" y=\"99.860643\"/>\n      </g>\n     </g>\n     <g id=\"text_10\">\n      <!-- 100 -->\n      <g transform=\"translate(18.9425 102.900018)scale(0.08 -0.08)\">\n       <use xlink:href=\"#DejaVuSans-31\"/>\n       <use x=\"63.623047\" xlink:href=\"#DejaVuSans-30\"/>\n       <use x=\"127.246094\" xlink:href=\"#DejaVuSans-30\"/>\n      </g>\n     </g>\n    </g>\n    <g id=\"ytick_4\">\n     <g id=\"line2d_10\">\n      <g>\n       <use style=\"stroke:#000000;stroke-width:0.8;\" x=\"41.2125\" xlink:href=\"#m6401108339\" y=\"82.783488\"/>\n      </g>\n     </g>\n     <g id=\"text_11\">\n      <!-- 150 -->\n      <g transform=\"translate(18.9425 85.822863)scale(0.08 -0.08)\">\n       <use xlink:href=\"#DejaVuSans-31\"/>\n       <use x=\"63.623047\" xlink:href=\"#DejaVuSans-35\"/>\n       <use x=\"127.246094\" xlink:href=\"#DejaVuSans-30\"/>\n      </g>\n     </g>\n    </g>\n    <g id=\"ytick_5\">\n     <g id=\"line2d_11\">\n      <g>\n       <use style=\"stroke:#000000;stroke-width:0.8;\" x=\"41.2125\" xlink:href=\"#m6401108339\" y=\"65.706333\"/>\n      </g>\n     </g>\n     <g id=\"text_12\">\n      <!-- 200 -->\n      <g transform=\"translate(18.9425 68.745708)scale(0.08 -0.08)\">\n       <use xlink:href=\"#DejaVuSans-32\"/>\n       <use x=\"63.623047\" xlink:href=\"#DejaVuSans-30\"/>\n       <use x=\"127.246094\" xlink:href=\"#DejaVuSans-30\"/>\n      </g>\n     </g>\n    </g>\n    <g id=\"ytick_6\">\n     <g id=\"line2d_12\">\n      <g>\n       <use style=\"stroke:#000000;stroke-width:0.8;\" x=\"41.2125\" xlink:href=\"#m6401108339\" y=\"48.629178\"/>\n      </g>\n     </g>\n     <g id=\"text_13\">\n      <!-- 250 -->\n      <g transform=\"translate(18.9425 51.668553)scale(0.08 -0.08)\">\n       <use xlink:href=\"#DejaVuSans-32\"/>\n       <use x=\"63.623047\" xlink:href=\"#DejaVuSans-35\"/>\n       <use x=\"127.246094\" xlink:href=\"#DejaVuSans-30\"/>\n      </g>\n     </g>\n    </g>\n    <g id=\"ytick_7\">\n     <g id=\"line2d_13\">\n      <g>\n       <use style=\"stroke:#000000;stroke-width:0.8;\" x=\"41.2125\" xlink:href=\"#m6401108339\" y=\"31.552023\"/>\n      </g>\n     </g>\n     <g id=\"text_14\">\n      <!-- 300 -->\n      <g transform=\"translate(18.9425 34.591398)scale(0.08 -0.08)\">\n       <use xlink:href=\"#DejaVuSans-33\"/>\n       <use x=\"63.623047\" xlink:href=\"#DejaVuSans-30\"/>\n       <use x=\"127.246094\" xlink:href=\"#DejaVuSans-30\"/>\n      </g>\n     </g>\n    </g>\n    <g id=\"ytick_8\">\n     <g id=\"line2d_14\">\n      <g>\n       <use style=\"stroke:#000000;stroke-width:0.8;\" x=\"41.2125\" xlink:href=\"#m6401108339\" y=\"14.474868\"/>\n      </g>\n     </g>\n     <g id=\"text_15\">\n      <!-- 350 -->\n      <g transform=\"translate(18.9425 17.514243)scale(0.08 -0.08)\">\n       <use xlink:href=\"#DejaVuSans-33\"/>\n       <use x=\"63.623047\" xlink:href=\"#DejaVuSans-35\"/>\n       <use x=\"127.246094\" xlink:href=\"#DejaVuSans-30\"/>\n      </g>\n     </g>\n    </g>\n    <g id=\"text_16\">\n     <!-- Ripple rate -->\n     <g transform=\"translate(13.27875 94.133777)rotate(-90)scale(0.08 -0.08)\">\n      <defs>\n       <path d=\"M 2841 2188 \nQ 3044 2119 3236 1894 \nQ 3428 1669 3622 1275 \nL 4263 0 \nL 3584 0 \nL 2988 1197 \nQ 2756 1666 2539 1819 \nQ 2322 1972 1947 1972 \nL 1259 1972 \nL 1259 0 \nL 628 0 \nL 628 4666 \nL 2053 4666 \nQ 2853 4666 3247 4331 \nQ 3641 3997 3641 3322 \nQ 3641 2881 3436 2590 \nQ 3231 2300 2841 2188 \nz\nM 1259 4147 \nL 1259 2491 \nL 2053 2491 \nQ 2509 2491 2742 2702 \nQ 2975 2913 2975 3322 \nQ 2975 3731 2742 3939 \nQ 2509 4147 2053 4147 \nL 1259 4147 \nz\n\" id=\"DejaVuSans-52\" transform=\"scale(0.015625)\"/>\n       <path d=\"M 1159 525 \nL 1159 -1331 \nL 581 -1331 \nL 581 3500 \nL 1159 3500 \nL 1159 2969 \nQ 1341 3281 1617 3432 \nQ 1894 3584 2278 3584 \nQ 2916 3584 3314 3078 \nQ 3713 2572 3713 1747 \nQ 3713 922 3314 415 \nQ 2916 -91 2278 -91 \nQ 1894 -91 1617 61 \nQ 1341 213 1159 525 \nz\nM 3116 1747 \nQ 3116 2381 2855 2742 \nQ 2594 3103 2138 3103 \nQ 1681 3103 1420 2742 \nQ 1159 2381 1159 1747 \nQ 1159 1113 1420 752 \nQ 1681 391 2138 391 \nQ 2594 391 2855 752 \nQ 3116 1113 3116 1747 \nz\n\" id=\"DejaVuSans-70\" transform=\"scale(0.015625)\"/>\n       <path d=\"M 603 4863 \nL 1178 4863 \nL 1178 0 \nL 603 0 \nL 603 4863 \nz\n\" id=\"DejaVuSans-6c\" transform=\"scale(0.015625)\"/>\n       <path id=\"DejaVuSans-20\" transform=\"scale(0.015625)\"/>\n       <path d=\"M 2631 2963 \nQ 2534 3019 2420 3045 \nQ 2306 3072 2169 3072 \nQ 1681 3072 1420 2755 \nQ 1159 2438 1159 1844 \nL 1159 0 \nL 581 0 \nL 581 3500 \nL 1159 3500 \nL 1159 2956 \nQ 1341 3275 1631 3429 \nQ 1922 3584 2338 3584 \nQ 2397 3584 2469 3576 \nQ 2541 3569 2628 3553 \nL 2631 2963 \nz\n\" id=\"DejaVuSans-72\" transform=\"scale(0.015625)\"/>\n       <path d=\"M 2194 1759 \nQ 1497 1759 1228 1600 \nQ 959 1441 959 1056 \nQ 959 750 1161 570 \nQ 1363 391 1709 391 \nQ 2188 391 2477 730 \nQ 2766 1069 2766 1631 \nL 2766 1759 \nL 2194 1759 \nz\nM 3341 1997 \nL 3341 0 \nL 2766 0 \nL 2766 531 \nQ 2569 213 2275 61 \nQ 1981 -91 1556 -91 \nQ 1019 -91 701 211 \nQ 384 513 384 1019 \nQ 384 1609 779 1909 \nQ 1175 2209 1959 2209 \nL 2766 2209 \nL 2766 2266 \nQ 2766 2663 2505 2880 \nQ 2244 3097 1772 3097 \nQ 1472 3097 1187 3025 \nQ 903 2953 641 2809 \nL 641 3341 \nQ 956 3463 1253 3523 \nQ 1550 3584 1831 3584 \nQ 2591 3584 2966 3190 \nQ 3341 2797 3341 1997 \nz\n\" id=\"DejaVuSans-61\" transform=\"scale(0.015625)\"/>\n       <path d=\"M 1172 4494 \nL 1172 3500 \nL 2356 3500 \nL 2356 3053 \nL 1172 3053 \nL 1172 1153 \nQ 1172 725 1289 603 \nQ 1406 481 1766 481 \nL 2356 481 \nL 2356 0 \nL 1766 0 \nQ 1100 0 847 248 \nQ 594 497 594 1153 \nL 594 3053 \nL 172 3053 \nL 172 3500 \nL 594 3500 \nL 594 4494 \nL 1172 4494 \nz\n\" id=\"DejaVuSans-74\" transform=\"scale(0.015625)\"/>\n      </defs>\n      <use xlink:href=\"#DejaVuSans-52\"/>\n      <use x=\"69.482422\" xlink:href=\"#DejaVuSans-69\"/>\n      <use x=\"97.265625\" xlink:href=\"#DejaVuSans-70\"/>\n      <use x=\"160.742188\" xlink:href=\"#DejaVuSans-70\"/>\n      <use x=\"224.21875\" xlink:href=\"#DejaVuSans-6c\"/>\n      <use x=\"252.001953\" xlink:href=\"#DejaVuSans-65\"/>\n      <use x=\"313.525391\" xlink:href=\"#DejaVuSans-20\"/>\n      <use x=\"345.3125\" xlink:href=\"#DejaVuSans-72\"/>\n      <use x=\"386.425781\" xlink:href=\"#DejaVuSans-61\"/>\n      <use x=\"447.705078\" xlink:href=\"#DejaVuSans-74\"/>\n      <use x=\"486.914062\" xlink:href=\"#DejaVuSans-65\"/>\n     </g>\n    </g>\n   </g>\n   <g id=\"line2d_15\">\n    <path clip-path=\"url(#pd037752505)\" d=\"M 51.012087 126.159462 \nL 53.447624 127.184091 \nL 55.883161 129.574893 \nL 58.318698 129.574893 \nL 60.754235 120.353229 \nL 63.189773 128.891807 \nL 65.62531 121.377859 \nL 68.060847 124.79329 \nL 70.496384 131.282609 \nL 72.931921 127.525635 \nL 75.367459 125.134833 \nL 77.802996 122.402488 \nL 80.238533 93.712868 \nL 82.67407 71.171023 \nL 85.109607 81.075773 \nL 87.545144 108.740764 \nL 89.980682 123.427117 \nL 92.416219 127.184091 \nL 94.851756 123.427117 \nL 97.287293 122.744031 \nL 99.72283 129.574893 \nL 102.158367 112.497738 \nL 104.593905 116.937798 \nL 107.029442 122.744031 \nL 109.464979 101.568359 \nL 111.900516 114.546997 \nL 114.336053 117.279342 \nL 116.77159 99.5191 \nL 119.207128 102.251445 \nL 121.642665 109.42385 \nL 124.078202 94.395954 \nL 126.513739 96.445212 \nL 128.949276 99.860643 \nL 131.384813 98.494471 \nL 133.820351 98.836014 \nL 136.255888 97.469842 \nL 138.691425 111.473109 \nL 141.126962 104.98379 \nL 143.562499 107.374592 \nL 145.998037 97.469842 \nL 148.433574 101.226816 \nL 150.869111 103.276074 \nL 153.304648 95.420583 \nL 155.740185 103.276074 \nL 158.175722 103.276074 \nL 160.61126 105.325333 \nL 163.046797 85.17429 \nL 165.482334 101.568359 \nL 167.917871 109.42385 \nL 170.353408 109.082307 \nL 172.788945 100.54373 \nL 175.224483 47.604549 \nL 177.66002 39.065971 \nL 180.095557 40.432144 \nL 182.531094 43.847575 \nL 184.966631 70.146394 \nL 187.402168 43.506032 \nL 189.837706 81.758859 \nL 192.273243 13.108696 \nL 194.70878 59.558557 \nL 197.144317 62.290902 \nL 199.579854 70.82948 \nL 202.015392 31.552023 \nL 204.450929 65.36479 \nL 206.886466 54.093868 \nL 209.322003 46.921463 \nL 211.75754 76.977256 \nL 214.193077 81.417316 \nL 216.628615 53.069239 \nL 219.064152 72.537195 \nL 221.499689 79.7096 \nL 223.935226 71.854109 \nL 226.370763 68.097135 \nL 228.8063 113.863911 \nL 231.241838 73.561825 \nL 233.677375 109.42385 \nL 236.112912 107.716135 \nL 238.548449 107.374592 \nL 240.983986 98.836014 \nL 243.419523 93.712868 \n\" style=\"fill:none;stroke:#5cc0eb;stroke-linecap:square;stroke-width:1.5;\"/>\n   </g>\n   <g id=\"patch_9\">\n    <path d=\"M 41.2125 137.191304 \nL 41.2125 7.2 \n\" style=\"fill:none;stroke:#000000;stroke-linecap:square;stroke-linejoin:miter;stroke-width:2;\"/>\n   </g>\n   <g id=\"patch_10\">\n    <path d=\"M 41.2125 137.191304 \nL 256.803409 137.191304 \n\" style=\"fill:none;stroke:#000000;stroke-linecap:square;stroke-linejoin:miter;stroke-width:2;\"/>\n   </g>\n  </g>\n </g>\n <defs>\n  <clipPath id=\"pd037752505\">\n   <rect height=\"129.991304\" width=\"215.590909\" x=\"41.2125\" y=\"7.2\"/>\n  </clipPath>\n </defs>\n</svg>\n",
      "image/png": "[encoded data removed]"
     },
     "metadata": {
      "needs_background": "light"
     }
    }
   ],
   "metadata": {}
  },
  {
   "cell_type": "markdown",
   "source": [
    "## Ripple stats during sleep deprivation\n",
    "- plotting with linear regression"
   ],
   "metadata": {}
  },
  {
   "cell_type": "code",
   "execution_count": 5,
   "source": [
    "import numpy as np\n",
    "import matplotlib.pyplot as plt\n",
    "from scipy import stats\n",
    "import pandas as pd\n",
    "from neuropy.plotting import Fig\n",
    "import subjects\n",
    "import seaborn as sns\n",
    "\n",
    "sessions = subjects.sd.allsess[:-1] # + subjects.sd.utkuAG_day1 + subjects.sd.utkuAG_day2\n",
    "# sessions = subjects.Nsd().allsess\n",
    "print(sessions)\n"
   ],
   "outputs": [
    {
     "output_type": "stream",
     "name": "stdout",
     "text": [
      "[ProcessData(RatJ_Day1_2019-05-31_03-55-36.xml), ProcessData(RatK_Day1_2019-08-06_03-44-01.xml), ProcessData(RatN_Day1_2019-10-09_03-52-32.xml), ProcessData(RatS_Day3SD_2020-11-29_07-53-30.xml), ProcessData(RatR_Day2SD_2021-05-23_09-07-18.xml)]\n"
     ]
    }
   ],
   "metadata": {}
  },
  {
   "cell_type": "code",
   "execution_count": 6,
   "source": [
    "%matplotlib widget\n",
    "figure = Fig()\n",
    "fig,gs = figure.draw(grid=(3,2),style='Pres')\n",
    "df = pd.DataFrame()\n",
    "for sub,sess in enumerate(sessions):\n",
    "\n",
    "    post = sess.paradigm['post']\n",
    "    # pre = sess.paradigm.pre\n",
    "    # sd_period = [post[0],post[1]]\n",
    "    # sd_period = [post[0],post[0]+9*3600]\n",
    "    try:\n",
    "        sd_period = sess.paradigm['sd']\n",
    "    except:\n",
    "        sd_period = [post[0],post[0]+5*3600]\n",
    "    rpls = sess.ripple\n",
    "    # states = sess.brainstates.epochs\n",
    "\n",
    "    binsz = 600\n",
    "    sd_bin = np.arange(sd_period[0],sd_period[1]+binsz,binsz)\n",
    "    hist_rpl = np.histogram(rpls.starts,bins=sd_bin)[0]\n",
    "\n",
    "    nrem_percent = []\n",
    "    for start in sd_bin[:-1]:\n",
    "        prop = sess.brainstates.proportion([start,start+binsz])\n",
    "        nrem_percent.append(prop['nrem'])\n",
    "\n",
    "    df = df.append(pd.DataFrame({'n_ripples':hist_rpl/binsz,'tbin':(sd_bin[:-1]-sd_bin[0])/3600,'nrem':nrem_percent,'sub':sub}))\n",
    "\n",
    "\n",
    "ax = plt.subplot(gs[0])\n",
    "rpls_mean = df.groupby('tbin').mean().n_ripples\n",
    "rpls_sem = df.groupby('tbin').sem(ddof=0).n_ripples\n",
    "# ax.fill_between(rpls_mean.index,rpls_mean-rpls_sem,rpls_mean+rpls_sem,color='#faa49d',alpha=0.6,ec=None)\n",
    "sns.regplot(x='tbin',y='n_ripples',data=df,ax=ax,color='g',x_estimator=np.mean)\n",
    "# ax.plot(rpls_mean.index,rpls_mean,color='#faa49d',zorder=2,lw=2)\n",
    "# ax.axvline(5,ls='--',color='r')\n",
    "ax.set_xlabel('ZT time (h)')\n",
    "ax.set_ylabel('Ripple rate')\n",
    "\n",
    "\n",
    "axsleep= ax.twinx()\n",
    "color = sess.brainstates.colors['nrem']\n",
    "sleep_df = df.groupby('tbin').mean()\n",
    "axsleep.fill_between(sleep_df.index,sleep_df.nrem,color=color,zorder=1,alpha=0.3)\n",
    "# sns.lineplot(data=df,x='tbin',y='nrem',ax=axsleep,estimator='sum')\n",
    "axsleep.set_ylim([0,1])\n",
    "axsleep.spines['right'].set_visible(True)\n",
    "axsleep.set_ylabel('sleep proportion')\n",
    "\n",
    "#--- individual sessions -------\n",
    "# ax = plt.subplot(gs[2])\n",
    "# # sns.lineplot(x='tbin',y='n_ripples',hue='sub',data=df,ax=ax,legend=None,palette='Blues')\n",
    "# sns.lineplot(x='tbin',y='n_ripples',hue='sub',data=df,ax=ax,legend=None,palette='Blues')\n",
    "# # sns.regplot(x='tbin',y='n_ripples',ci=68,data=df,ax=ax,color='g',x_estimator=np.mean,fit_reg=True)\n",
    "# ax.set_xlabel('ZT time (h)')\n",
    "# ax.set_ylabel('Ripple rate')\n",
    "\n",
    "\n",
    "# axsleep= ax.twinx()\n",
    "# color = sess.brainstates.colors['nrem']\n",
    "# sleep_df = df.groupby('tbin').mean()\n",
    "# axsleep.fill_between(sleep_df.index,sleep_df.nrem,color=color,zorder=1,alpha=0.3)\n",
    "# # sns.lineplot(data=df,x='tbin',y='nrem',ax=axsleep,estimator='sum')\n",
    "# axsleep.set_ylim([0,1])\n",
    "# axsleep.spines['right'].set_visible(True)\n",
    "# axsleep.set_ylabel('sleep proportion')"
   ],
   "outputs": [
    {
     "output_type": "display_data",
     "data": {
      "text/plain": [
       "Canvas(toolbar=Toolbar(toolitems=[('Home', 'Reset original view', 'home', 'home'), ('Back', 'Back to previous …"
      ],
      "application/vnd.jupyter.widget-view+json": {
       "version_major": 2,
       "version_minor": 0,
       "model_id": "780b7172a0734d9194e35d57e3fd0ad2"
      }
     },
     "metadata": {}
    },
    {
     "output_type": "error",
     "ename": "AttributeError",
     "evalue": "'Epoch' object has no attribute 'epochs'",
     "traceback": [
      "\u001b[0;31m---------------------------------------------------------------------------\u001b[0m",
      "\u001b[0;31mAttributeError\u001b[0m                            Traceback (most recent call last)",
      "\u001b[0;32m<ipython-input-6-35fb481568f7>\u001b[0m in \u001b[0;36m<module>\u001b[0;34m\u001b[0m\n\u001b[1;32m     22\u001b[0m     \u001b[0mnrem_percent\u001b[0m \u001b[0;34m=\u001b[0m \u001b[0;34m[\u001b[0m\u001b[0;34m]\u001b[0m\u001b[0;34m\u001b[0m\u001b[0;34m\u001b[0m\u001b[0m\n\u001b[1;32m     23\u001b[0m     \u001b[0;32mfor\u001b[0m \u001b[0mstart\u001b[0m \u001b[0;32min\u001b[0m \u001b[0msd_bin\u001b[0m\u001b[0;34m[\u001b[0m\u001b[0;34m:\u001b[0m\u001b[0;34m-\u001b[0m\u001b[0;36m1\u001b[0m\u001b[0;34m]\u001b[0m\u001b[0;34m:\u001b[0m\u001b[0;34m\u001b[0m\u001b[0;34m\u001b[0m\u001b[0m\n\u001b[0;32m---> 24\u001b[0;31m         \u001b[0mprop\u001b[0m \u001b[0;34m=\u001b[0m \u001b[0msess\u001b[0m\u001b[0;34m.\u001b[0m\u001b[0mbrainstates\u001b[0m\u001b[0;34m.\u001b[0m\u001b[0mproportion\u001b[0m\u001b[0;34m(\u001b[0m\u001b[0;34m[\u001b[0m\u001b[0mstart\u001b[0m\u001b[0;34m,\u001b[0m\u001b[0mstart\u001b[0m\u001b[0;34m+\u001b[0m\u001b[0mbinsz\u001b[0m\u001b[0;34m]\u001b[0m\u001b[0;34m)\u001b[0m\u001b[0;34m\u001b[0m\u001b[0;34m\u001b[0m\u001b[0m\n\u001b[0m\u001b[1;32m     25\u001b[0m         \u001b[0mnrem_percent\u001b[0m\u001b[0;34m.\u001b[0m\u001b[0mappend\u001b[0m\u001b[0;34m(\u001b[0m\u001b[0mprop\u001b[0m\u001b[0;34m[\u001b[0m\u001b[0;34m'nrem'\u001b[0m\u001b[0;34m]\u001b[0m\u001b[0;34m)\u001b[0m\u001b[0;34m\u001b[0m\u001b[0;34m\u001b[0m\u001b[0m\n\u001b[1;32m     26\u001b[0m \u001b[0;34m\u001b[0m\u001b[0m\n",
      "\u001b[0;32m~/Documents/Codes/NeuroPy/neuropy/core/epoch.py\u001b[0m in \u001b[0;36mproportion\u001b[0;34m(self, t_start, t_stop)\u001b[0m\n\u001b[1;32m    179\u001b[0m         \u001b[0mduration\u001b[0m \u001b[0;34m=\u001b[0m \u001b[0mt_stop\u001b[0m \u001b[0;34m-\u001b[0m \u001b[0mt_start\u001b[0m\u001b[0;34m\u001b[0m\u001b[0;34m\u001b[0m\u001b[0m\n\u001b[1;32m    180\u001b[0m \u001b[0;34m\u001b[0m\u001b[0m\n\u001b[0;32m--> 181\u001b[0;31m         \u001b[0mep\u001b[0m \u001b[0;34m=\u001b[0m \u001b[0mself\u001b[0m\u001b[0;34m.\u001b[0m\u001b[0mepochs\u001b[0m\u001b[0;34m.\u001b[0m\u001b[0mcopy\u001b[0m\u001b[0;34m(\u001b[0m\u001b[0;34m)\u001b[0m\u001b[0;34m\u001b[0m\u001b[0;34m\u001b[0m\u001b[0m\n\u001b[0m\u001b[1;32m    182\u001b[0m         \u001b[0mep\u001b[0m \u001b[0;34m=\u001b[0m \u001b[0mep\u001b[0m\u001b[0;34m[\u001b[0m\u001b[0;34m(\u001b[0m\u001b[0mep\u001b[0m\u001b[0;34m.\u001b[0m\u001b[0mstop\u001b[0m \u001b[0;34m>\u001b[0m \u001b[0mt_start\u001b[0m\u001b[0;34m)\u001b[0m \u001b[0;34m&\u001b[0m \u001b[0;34m(\u001b[0m\u001b[0mep\u001b[0m\u001b[0;34m.\u001b[0m\u001b[0mstart\u001b[0m \u001b[0;34m<\u001b[0m \u001b[0mt_stop\u001b[0m\u001b[0;34m)\u001b[0m\u001b[0;34m]\u001b[0m\u001b[0;34m.\u001b[0m\u001b[0mreset_index\u001b[0m\u001b[0;34m(\u001b[0m\u001b[0mdrop\u001b[0m\u001b[0;34m=\u001b[0m\u001b[0;32mTrue\u001b[0m\u001b[0;34m)\u001b[0m\u001b[0;34m\u001b[0m\u001b[0;34m\u001b[0m\u001b[0m\n\u001b[1;32m    183\u001b[0m \u001b[0;34m\u001b[0m\u001b[0m\n",
      "\u001b[0;31mAttributeError\u001b[0m: 'Epoch' object has no attribute 'epochs'"
     ]
    }
   ],
   "metadata": {}
  },
  {
   "cell_type": "code",
   "execution_count": null,
   "source": [
    "import numpy as np\n",
    "from neuropy_viewer import view_signal\n",
    "import subjects \n",
    "\n",
    "sess = subjects.sd.ratNday1[0]\n",
    "channels= np.concatenate(sess.recinfo.channel_groups[:2]).astype('int')\n",
    "signal = sess.eegfile.get_signal(channels[:16])\n",
    "view_signal(signal,sess.probegroup)"
   ],
   "outputs": [],
   "metadata": {}
  }
 ],
 "metadata": {
  "interpreter": {
   "hash": "7b10c821bc4bd3f433a613d47515e6babc6c2152896bd1e143404cc9d6ede4ad"
  },
  "kernelspec": {
   "name": "python3",
   "display_name": "Python 3.9.4 64-bit ('data_analysis': conda)"
  },
  "language_info": {
   "name": "python",
   "version": "3.9.4",
   "mimetype": "text/x-python",
   "codemirror_mode": {
    "name": "ipython",
    "version": 3
   },
   "pygments_lexer": "ipython3",
   "nbconvert_exporter": "python",
   "file_extension": ".py"
  },
  "orig_nbformat": 2
 },
 "nbformat": 4,
 "nbformat_minor": 2
}