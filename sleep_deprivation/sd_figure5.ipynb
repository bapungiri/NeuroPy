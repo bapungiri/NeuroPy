{
 "cells": [
  {
   "cell_type": "markdown",
   "source": [
    "# Figure 5\n",
    "- maybe something related to off-periods local sleep"
   ],
   "metadata": {}
  },
  {
   "cell_type": "code",
   "execution_count": null,
   "source": [
    "import numpy as np\n",
    "import matplotlib.pyplot as plt\n",
    "import numpy as np\n",
    "import seaborn as sns\n",
    "from neuropy import plotting\n",
    "from neuropy.utils import signal_process\n",
    "import subjects\n",
    "import pandas as pd\n",
    "from neuropy.analyses import ExplainedVariance\n",
    "\n",
    "sd_sess = (\n",
    "    subjects.sd.ratNday1\n",
    "    + subjects.sd.ratSday3\n",
    "    + subjects.sd.ratRday2\n",
    "    + subjects.sd.ratUday4\n",
    ")\n",
    "nsd_sess = subjects.nsd.ratNday2+subjects.nsd.ratSday2+subjects.nsd.ratUday2"
   ],
   "outputs": [],
   "metadata": {}
  }
 ],
 "metadata": {
  "orig_nbformat": 4,
  "language_info": {
   "name": "python",
   "version": "3.9.6"
  },
  "kernelspec": {
   "name": "python3",
   "display_name": "Python 3.9.6 64-bit"
  },
  "interpreter": {
   "hash": "7b10c821bc4bd3f433a613d47515e6babc6c2152896bd1e143404cc9d6ede4ad"
  }
 },
 "nbformat": 4,
 "nbformat_minor": 2
}