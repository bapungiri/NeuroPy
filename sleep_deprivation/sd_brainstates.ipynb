{
 "cells": [
  {
   "cell_type": "markdown",
   "metadata": {},
   "source": [
    "### Imports"
   ]
  },
  {
   "cell_type": "code",
   "execution_count": null,
   "metadata": {},
   "outputs": [],
   "source": [
    "import numpy as np\n",
    "import pandas as pd\n",
    "import seaborn as sns\n",
    "from scipy import stats\n",
    "import scipy.signal as sg\n",
    "import matplotlib.pyplot as plt\n",
    "from neuropy import plotting\n",
    "import subjects"
   ]
  },
  {
   "cell_type": "markdown",
   "metadata": {},
   "source": [
    "### Sleep state detection"
   ]
  },
  {
   "cell_type": "code",
   "execution_count": null,
   "metadata": {},
   "outputs": [],
   "source": [
    "sessions = subjects.nsd.ratVday3\n",
    "from neuropy.analyses import detect_brainstates_epochs\n",
    "\n",
    "for sub, sess in enumerate(sessions):\n",
    "    signal = sess.eegfile.get_signal()\n",
    "    brainstates = detect_brainstates_epochs(\n",
    "        signal,\n",
    "        probe=sess.probegroup,\n",
    "        theta_channel=80,\n",
    "        delta_channel=82,\n",
    "        sigma=1,\n",
    "        ignore_epochs=sess.artifact,\n",
    "    )\n",
    "    brainstates.save(sess.filePrefix.with_suffix('.brainstates'))"
   ]
  },
  {
   "cell_type": "markdown",
   "metadata": {},
   "source": [
    "### Curate some misclassification"
   ]
  },
  {
   "cell_type": "code",
   "execution_count": null,
   "metadata": {},
   "outputs": [],
   "source": [
    "from neuropy.core import Epoch\n",
    "\n",
    "sessions = subjects.sd.pf_sess\n",
    "\n",
    "_, axs = plt.subplots(4, 2)\n",
    "axs = axs.reshape(-1)\n",
    "\n",
    "for s, sess in enumerate(sessions):\n",
    "\n",
    "    post = sess.paradigm[\"post\"].flatten()\n",
    "    sd = [post[0], post[0] + 4.8 * 3600]\n",
    "    states_df = sess.brainstates.to_dataframe()\n",
    "\n",
    "    fp = sess.filePrefix\n",
    "    sess.brainstates.save(fp.with_suffix(\".backup.brainstates.06-2-2022\"))\n",
    "\n",
    "    starts = sess.brainstates.starts\n",
    "    labels = sess.brainstates.labels\n",
    "\n",
    "    rem_indx = (starts > sd[0]) & (starts < sd[1]) & (labels == \"REM\")\n",
    "    states_df.loc[rem_indx, \"label\"] = \"AW\"\n",
    "    nrem_indx = (starts > sd[0]) & (starts < sd[1]) & (labels == \"NREM\")\n",
    "    states_df.loc[nrem_indx, \"label\"] = \"QW\"\n",
    "\n",
    "    new_states = Epoch(states_df)\n",
    "    new_states.save(fp.with_suffix('.brainstates'))\n",
    "\n",
    "    plotting.plot_epochs(new_states, ax=axs[s], **subjects.hypno_kw)\n"
   ]
  },
  {
   "cell_type": "markdown",
   "metadata": {},
   "source": [
    "### Convert old to new format"
   ]
  },
  {
   "cell_type": "code",
   "execution_count": null,
   "metadata": {},
   "outputs": [],
   "source": [
    "from neuropy.core import Epoch\n",
    "\n",
    "sessions = subjects.ripple_sess()\n",
    "\n",
    "for s, sess in enumerate(sessions):\n",
    "    brainstates = sess.brainstates\n",
    "\n",
    "    if brainstates is not None:\n",
    "        starts = sess.brainstates.starts\n",
    "        stops = sess.brainstates.stops\n",
    "        labels = sess.brainstates.labels\n",
    "\n",
    "        if \"nrem\" in np.unique(labels):\n",
    "            new_labels = np.array([\"\"] * len(labels), dtype=\"U4\")\n",
    "            new_labels[labels == \"active\"] = \"AW\"\n",
    "            new_labels[labels == \"quiet\"] = \"QW\"\n",
    "            new_labels[labels == \"rem\"] = \"REM\"\n",
    "            new_labels[labels == \"nrem\"] = \"NREM\"\n",
    "\n",
    "            fp = sess.filePrefix\n",
    "            brainstates.save(fp.with_suffix(\".backup.brainstates.05-30-2022\"))\n",
    "\n",
    "            valid_idx = new_labels != \"\"\n",
    "\n",
    "            new_states = Epoch.from_array(\n",
    "                starts[valid_idx], stops[valid_idx], new_labels[valid_idx]\n",
    "            )\n",
    "            new_states.save(fp.with_suffix('.brainstates'))\n"
   ]
  },
  {
   "cell_type": "markdown",
   "metadata": {},
   "source": [
    "### Visualize different hypnogram styles"
   ]
  },
  {
   "cell_type": "code",
   "execution_count": null,
   "metadata": {},
   "outputs": [],
   "source": [
    "sess = subjects.nsd.ratSday2[0]\n",
    "post = sess.paradigm['post'].flatten()\n",
    "period = [0,post[0]+8*3600]\n",
    "states = sess.brainstates.time_slice(*period)\n",
    "starts = states.starts\n",
    "stops = states.stops\n",
    "labels = states.labels\n",
    "mids = (stops - starts) / 2 + starts\n",
    "edges = np.insert(starts, len(starts), stops[-1])\n",
    "\n",
    "num_dict = dict(NREM=1, REM=2, QW=3, AW=4)\n",
    "num_labels = [num_dict[_] for _ in labels]\n",
    "\n",
    "\n",
    "_, ax = plt.subplots()\n",
    "\n",
    "# ax.stairs(num_labels, edges, fill=False)\n",
    "ax.step(mids,num_labels,where='mid',lw=1)\n",
    "ax.set_axis_off()\n"
   ]
  },
  {
   "cell_type": "markdown",
   "metadata": {},
   "source": [
    "### View brainstates detection in ephyviewer"
   ]
  },
  {
   "cell_type": "code",
   "execution_count": null,
   "metadata": {},
   "outputs": [],
   "source": [
    "import matplotlib.pyplot as plt\n",
    "import numpy as np\n",
    "import pandas as pd\n",
    "from neuropy import plotting\n",
    "from brainstates_editor import editor\n",
    "from ephyviewer import mkQApp\n",
    "import subjects\n",
    "\n",
    "app = mkQApp()\n",
    "sess = subjects.nsd.ratVday1[0]\n",
    "sigs = sess.eegfile.get_signal(20)\n",
    "\n",
    "win = editor(\n",
    "    sess.brainstates,\n",
    "    sigs,\n",
    "    filename=sess.filePrefix.with_suffix(\".test\"),\n",
    "    paradigm=sess.paradigm,\n",
    ")\n",
    "win.show()\n",
    "app.exec_()\n"
   ]
  },
  {
   "cell_type": "markdown",
   "metadata": {},
   "source": [
    "### Sleep fraction during 5 hours following MAZE"
   ]
  },
  {
   "cell_type": "code",
   "execution_count": null,
   "metadata": {},
   "outputs": [],
   "source": [
    "import matplotlib.pyplot as plt\n",
    "import numpy as np\n",
    "import pandas as pd\n",
    "from neuropy import plotting\n",
    "import subjects\n",
    "\n",
    "sessions = subjects.sd.brainstates_sess + subjects.nsd.brainstates_sess"
   ]
  },
  {
   "cell_type": "code",
   "execution_count": null,
   "metadata": {},
   "outputs": [],
   "source": [
    "sleep_df = pd.DataFrame()\n",
    "for sub, sess in enumerate(sessions):\n",
    "    post= sess.paradigm[\"post\"].flatten()\n",
    "    period = [post[0],post[0] + 5 * 3600]\n",
    "    prop = sess.brainstates.get_proportion_by_label(period[0], period[1])\n",
    "    if \"nan\" in prop.keys():\n",
    "        del prop[\"nan\"]\n",
    "\n",
    "    sleep_df = sleep_df.append(\n",
    "        pd.DataFrame(\n",
    "            {\n",
    "                \"prop\": list(prop.values()),\n",
    "                \"state\": list(prop.keys()),\n",
    "                \"grp\":sess.tag,\n",
    "            }\n",
    "        ),\n",
    "        ignore_index=True,\n",
    "    )\n",
    "\n",
    "subjects.GroupData().save(sleep_df,'brainstates_proportion')"
   ]
  },
  {
   "cell_type": "markdown",
   "metadata": {},
   "source": [
    "### Combining brainstates into dataframe for plotting in sd_figure3\n",
    "- only POST epoch and in Zt time"
   ]
  },
  {
   "cell_type": "code",
   "execution_count": null,
   "metadata": {},
   "outputs": [],
   "source": [
    "sessions = subjects.pf_sess()\n",
    "\n",
    "brainstates_all = []\n",
    "for sub, sess in enumerate(sessions):\n",
    "    post = sess.paradigm[\"post\"].flatten()\n",
    "    states = sess.brainstates.time_slice(post[0], post[1])\n",
    "    starts = (states.starts - post[0]) / 3600\n",
    "    stops = (states.stops - post[0]) / 3600\n",
    "    df = pd.DataFrame(\n",
    "        dict(\n",
    "            start=starts,\n",
    "            stop=stops,\n",
    "            label=states.labels,\n",
    "            sub=sub,\n",
    "            name=sess.animal.name,\n",
    "            grp=sess.tag,\n",
    "        )\n",
    "    )\n",
    "    brainstates_all.append(df)\n",
    "\n",
    "brainstates_all = pd.concat(brainstates_all, ignore_index=True)\n",
    "\n",
    "subjects.GroupData().save(brainstates_all, \"ev_brainstates\")\n"
   ]
  },
  {
   "cell_type": "markdown",
   "metadata": {},
   "source": [
    "### Implement IRASA"
   ]
  },
  {
   "cell_type": "code",
   "execution_count": null,
   "metadata": {},
   "outputs": [],
   "source": [
    "import numpy as np\n",
    "import scipy.signal as sg\n",
    "import subjects\n",
    "import fractions\n",
    "from scipy import stats\n",
    "from fooof import FOOOF,FOOOFGroup\n",
    "\n",
    "sess = subjects.nsd.ratUday2[0]\n",
    "maze = sess.paradigm[\"maze\"].flatten()\n",
    "post = sess.paradigm[\"post\"].flatten()\n",
    "# period = [maze[0], maze[1]]\n",
    "period = [post[0]+3600,post[0]+2*3600]\n",
    "# period = [0,sess.eegfile.duration]\n",
    "data = sess.eegfile.get_signal(150, *period).traces[0]\n",
    "# data = sess.eegfile.get_signal(150).traces[0]\n",
    "\n",
    "welch_kw = dict(nperseg=4*1250,noverlap=625)\n",
    "freqs, psd = sg.welch(data, fs=1250, **welch_kw)\n",
    "# f, t, spect = sg.spectrogram(data, fs=1250, nperseg=2*1250, noverlap=625)\n",
    "\n",
    "# Start the IRASA procedure\n",
    "hset = np.arange(1.1, 2.9, 0.05).round(4)\n",
    "hset = np.delete(hset, 18)\n",
    "psds = np.zeros((len(hset), *psd.shape))\n",
    "\n",
    "fm = FOOOF()\n",
    "freq_range = [4,90]\n",
    "\n",
    "# fm.report(freqs,psd,freq_range)\n",
    "fm.report(freqs,psd,freq_range)\n",
    "# fm.plot()\n",
    "# fm.power_spectrum\n",
    "\n",
    "# for i, h in enumerate(hset):\n",
    "#     # Get the upsampling/downsampling (h, 1/h) factors as integer\n",
    "#     rat = fractions.Fraction(str(h))\n",
    "#     up, down = rat.numerator, rat.denominator\n",
    "#     # Much faster than FFT-based resampling\n",
    "#     spect_up = sg.resample_poly(spect, up, down, axis=0)\n",
    "#     spect_down = sg.resample_poly(spect, down, up, axis=0)\n",
    "#     psds[i, :] =np.dstack([spect_up,spect_down]).mean(axis=-1)\n",
    "\n",
    "# for i, h in enumerate(hset):\n",
    "#     # Get the upsampling/downsampling (h, 1/h) factors as integer\n",
    "#     rat = fractions.Fraction(str(h))\n",
    "#     up, down = rat.numerator, rat.denominator\n",
    "#     # Much faster than FFT-based resampling\n",
    "#     data_up = sg.resample_poly(data, up, down, axis=-1)\n",
    "#     data_down = sg.resample_poly(data, down, up, axis=-1)\n",
    "#     # Calculate the PSD using same params as original\n",
    "#     freqs_up, psd_up = sg.welch(data_up, h * 1250, **welch_kw)\n",
    "#     freqs_dw, psd_dw = sg.welch(data_down, 1250 / h, **welch_kw)\n",
    "#     # Geometric mean of h and 1/h\n",
    "#     # psds[i, :] = np.vstack((psd_up, psd_dw)).mean(axis=0)\n",
    "#     psds[i, :] = np.sqrt(psd_up * psd_dw)\n",
    "\n",
    "\n",
    "\n",
    "# Now we take the median PSD of all the resampling factors, which gives\n",
    "# a good estimate of the aperiodic component of the PSD.\n",
    "# psd_aperiodic = np.median(psds, axis=0)\n",
    "# print(psd_aperiodic.shape,psd_aperiodic[:2])\n",
    "\n",
    "# # We can now calculate the oscillations (= periodic) component.\n",
    "# psd_osc = psd - psd_aperiodic\n",
    "\n",
    "# # Let's crop to the frequencies defined in band\n",
    "# mask_freqs = np.ma.masked_outside(freqs, *band).mask\n",
    "# freqs = freqs[~mask_freqs]\n",
    "# psd_aperiodic = np.compress(~mask_freqs, psd_aperiodic, axis=-1)\n",
    "# psd_osc = np.compress(~mask_freqs, psd_osc, axis=-1)"
   ]
  },
  {
   "cell_type": "code",
   "execution_count": null,
   "metadata": {},
   "outputs": [],
   "source": [
    "\n",
    "import matplotlib.pyplot as plt\n",
    "indices = (freqs>=4)&(freqs<=90)\n",
    "p = psd[indices]\n",
    "plt.plot(freqs[indices],np.log10(p))\n",
    "plt.plot(freqs[(freqs>=4)&(freqs<=90)],fm._ap_fit)\n",
    "# plt.yscale('log')"
   ]
  },
  {
   "cell_type": "code",
   "execution_count": null,
   "metadata": {},
   "outputs": [],
   "source": [
    "import matplotlib.pyplot as plt\n",
    "from neuropy.utils.mathutil import min_max_scaler\n",
    "f,t,spect = sg.spectrogram(data,fs=1250,**welch_kw)\n",
    "ind = (f>=4)&(f<=90)\n",
    "spect = np.log10(spect[ind,:])\n",
    "# spect_osc = spect- fm._ap_fit[:,np.newaxis]\n",
    "# spect_osc[spect_osc<0]=0\n",
    "\n",
    "# req_ind = (f>1)&(f<30)\n",
    "# # delta_ind = (f>0.5)&(f<4)\n",
    "# theta_ind = (f>5)&(f<10)\n",
    "# # delta_sxx = spect_osc[delta_ind,:].mean(axis=0)\n",
    "# theta_sxx = spect_osc[theta_ind,:].mean(axis=0)\n",
    "\n",
    "_,axs = plt.subplots(5,1,sharex=True)\n",
    "\n",
    "axs[0].imshow(spect,origin='lower',aspect='auto',cmap='jet',extent=[t[0],t[-1],4,90])\n",
    "# axs[1].imshow(spect[req_ind,:],origin='lower',aspect='auto',vmax=25000,cmap='jet',extent=[t[0],t[-1],1,30])\n",
    "\n",
    "# axs[2].plot(t,theta_sxx)\n",
    "# axs[3].plot(t,delta_sxx)\n",
    "# axs[4].plot(t,theta_sxx/delta_sxx)\n",
    "\n"
   ]
  },
  {
   "cell_type": "code",
   "execution_count": null,
   "metadata": {},
   "outputs": [],
   "source": [
    "%matplotlib widget\n",
    "import matplotlib.pyplot as plt\n",
    "\n",
    "plt.plot(freqs,psd_aperiodic)\n",
    "plt.plot(freqs,psd)\n",
    "plt.plot(freqs,psd-psd_aperiodic)\n",
    "plt.yscale('log')\n",
    "plt.xscale('log')"
   ]
  },
  {
   "cell_type": "markdown",
   "metadata": {},
   "source": [
    "### Some measure of micro-arousal in sleep vs recovery sleep using emg only"
   ]
  },
  {
   "cell_type": "code",
   "execution_count": null,
   "metadata": {},
   "outputs": [],
   "source": [
    "import numpy as np\n",
    "from neuropy.analyses.brainstates import detect_brainstates_epochs\n",
    "from neuropy.core import Epoch\n",
    "from scipy.ndimage import gaussian_filter1d\n",
    "from neuropy.analyses.brainstates import correlation_emg\n",
    "from scipy import stats\n",
    "from neuropy.analyses.brainstates import hmmfit1d\n",
    "import matplotlib.pyplot as plt\n",
    "from neuropy.plotting import plot_hypnogram\n",
    "import subjects\n",
    "\n",
    "smooth = lambda arr:gaussian_filter1d(arr,sigma=2/1)\n",
    "\n",
    "sessions = subjects.nsd.ripple_sess[2:3] + subjects.sd.ripple_sess[2:3]"
   ]
  },
  {
   "cell_type": "code",
   "execution_count": null,
   "metadata": {},
   "outputs": [],
   "source": [
    "emg_all=[]\n",
    "for sub,sess in enumerate(sessions):\n",
    "    pre = sess.paradigm['pre'].flatten()\n",
    "    maze = sess.paradigm['maze'].flatten()\n",
    "    post = sess.paradigm['post'].flatten()\n",
    "    if sess.tag=='NSD':\n",
    "        period = [post[0],post[0]+4*3600]\n",
    "    if sess.tag=='SD':\n",
    "        period = [post[0]+5*3600,post[0]+9*3600]\n",
    "\n",
    "    all_channels = np.concatenate(sess.probegroup.get_connected_channels()).astype('int')\n",
    "    signal = sess.eegfile.get_signal(t_start=period[0],t_stop=period[1])\n",
    "    emg = correlation_emg(signal,sess.probegroup,10,9)\n",
    "    emg_all.append(smooth(emg))\n"
   ]
  },
  {
   "cell_type": "code",
   "execution_count": null,
   "metadata": {},
   "outputs": [],
   "source": [
    "from scipy.signal import find_peaks\n",
    "_,axs = plt.subplots(2,1)\n",
    "\n",
    "for i,e in enumerate(emg_all):\n",
    "    peaks = find_peaks(e,prominence=0.3)[0]\n",
    "    axs[i].plot(e)\n",
    "    axs[i].plot(peaks,e[peaks],'*')"
   ]
  }
 ],
 "metadata": {
  "interpreter": {
   "hash": "cce1618081139d19eb1ee8d40815d94a2de4f62e1efb20d9406ddb60628c36ae"
  },
  "kernelspec": {
   "display_name": "Python 3.9.9 64-bit ('data_analysis': conda)",
   "language": "python",
   "name": "python3"
  },
  "language_info": {
   "codemirror_mode": {
    "name": "ipython",
    "version": 3
   },
   "file_extension": ".py",
   "mimetype": "text/x-python",
   "name": "python",
   "nbconvert_exporter": "python",
   "pygments_lexer": "ipython3",
   "version": "3.10.4"
  },
  "orig_nbformat": 4
 },
 "nbformat": 4,
 "nbformat_minor": 2
}
