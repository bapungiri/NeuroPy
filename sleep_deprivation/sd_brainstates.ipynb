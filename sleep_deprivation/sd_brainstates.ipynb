{
 "cells": [
  {
   "cell_type": "markdown",
   "metadata": {},
   "source": [
    "### Sleep state detection"
   ]
  },
  {
   "cell_type": "code",
   "execution_count": null,
   "metadata": {},
   "outputs": [],
   "source": [
    "import matplotlib.pyplot as plt\n",
    "import numpy as np\n",
    "import pandas as pd\n",
    "from neuropy import plotting\n",
    "import subjects\n",
    "\n",
    "sessions = subjects.nsd.ratVday1"
   ]
  },
  {
   "cell_type": "code",
   "execution_count": null,
   "metadata": {},
   "outputs": [],
   "source": [
    "['a']*3+['b']*5"
   ]
  },
  {
   "cell_type": "code",
   "execution_count": null,
   "metadata": {},
   "outputs": [],
   "source": [
    "from neuropy.analyses import detect_brainstates_epochs\n",
    "\n",
    "for sub, sess in enumerate(sessions):\n",
    "    signal = sess.eegfile.get_signal()\n",
    "    brainstates = detect_brainstates_epochs(\n",
    "        signal,\n",
    "        probe=sess.probegroup,\n",
    "        theta_channel=80,\n",
    "        delta_channel=82,\n",
    "        sigma=1,\n",
    "        ignore_epochs=sess.artifact,\n",
    "    )\n",
    "    brainstates.save(sess.filePrefix.with_suffix('.brainstates'))\n"
   ]
  },
  {
   "cell_type": "markdown",
   "metadata": {},
   "source": [
    "### View brainstates detection in ephyviewer"
   ]
  },
  {
   "cell_type": "code",
   "execution_count": null,
   "metadata": {},
   "outputs": [],
   "source": [
    "import matplotlib.pyplot as plt\n",
    "import numpy as np\n",
    "import pandas as pd\n",
    "from neuropy import plotting\n",
    "from brainstates_editor import editor\n",
    "from ephyviewer import mkQApp\n",
    "import subjects\n",
    "\n",
    "app = mkQApp()\n",
    "sess = subjects.nsd.ratVday1[0]\n",
    "sigs = sess.eegfile.get_signal(20)\n",
    "\n",
    "win = editor(\n",
    "    sess.brainstates,\n",
    "    sigs,\n",
    "    filename=sess.filePrefix.with_suffix(\".test\"),\n",
    "    paradigm=sess.paradigm,\n",
    ")\n",
    "win.show()\n",
    "app.exec_()\n"
   ]
  },
  {
   "cell_type": "markdown",
   "metadata": {},
   "source": [
    "### Sleep fraction during 5 hours following MAZE"
   ]
  },
  {
   "cell_type": "code",
   "execution_count": null,
   "metadata": {},
   "outputs": [],
   "source": [
    "import matplotlib.pyplot as plt\n",
    "import numpy as np\n",
    "import pandas as pd\n",
    "from neuropy import plotting\n",
    "import subjects\n",
    "\n",
    "sessions = subjects.sd.brainstates_sess + subjects.nsd.brainstates_sess"
   ]
  },
  {
   "cell_type": "code",
   "execution_count": null,
   "metadata": {},
   "outputs": [],
   "source": [
    "sleep_df = pd.DataFrame()\n",
    "for sub, sess in enumerate(sessions):\n",
    "    post= sess.paradigm[\"post\"].flatten()\n",
    "    period = [post[0],post[0] + 5 * 3600]\n",
    "    prop = sess.brainstates.get_proportion_by_label(period[0], period[1])\n",
    "    if \"nan\" in prop.keys():\n",
    "        del prop[\"nan\"]\n",
    "\n",
    "    sleep_df = sleep_df.append(\n",
    "        pd.DataFrame(\n",
    "            {\n",
    "                \"prop\": list(prop.values()),\n",
    "                \"state\": list(prop.keys()),\n",
    "                \"grp\":sess.tag,\n",
    "            }\n",
    "        ),\n",
    "        ignore_index=True,\n",
    "    )\n",
    "\n",
    "subjects.GroupData().save(sleep_df,'brainstates_proportion')"
   ]
  },
  {
   "cell_type": "markdown",
   "metadata": {},
   "source": [
    "### Combining brainstates into dataframe for plotting in sd_figure3\n",
    "- only POST epoch and in Zt time"
   ]
  },
  {
   "cell_type": "code",
   "execution_count": null,
   "metadata": {},
   "outputs": [],
   "source": [
    "import numpy as np\n",
    "from subjects import sd,nsd,GroupData\n",
    "import pandas as pd\n",
    "\n",
    "sessions = (\n",
    "    sd.ratKday1\n",
    "    + sd.ratNday1\n",
    "    + sd.ratSday3\n",
    "    + sd.ratUday4\n",
    "    + sd.ratVday2\n",
    "    + sd.ratRday2\n",
    "\n",
    "    + nsd.ratKday2\n",
    "    + nsd.ratNday2\n",
    "    + nsd.ratSday2\n",
    "    + nsd.ratUday2\n",
    "    + nsd.ratVday1\n",
    ")"
   ]
  },
  {
   "cell_type": "code",
   "execution_count": null,
   "metadata": {},
   "outputs": [],
   "source": [
    "brainstates_all = []\n",
    "for sub, sess in enumerate(sessions):\n",
    "    post = sess.paradigm[\"post\"].flatten()\n",
    "    states = sess.brainstates.time_slice(post[0], post[1])\n",
    "    starts = (states.starts - post[0]) / 3600\n",
    "    stops = (states.stops - post[0]) / 3600\n",
    "    df = pd.DataFrame(\n",
    "        dict(\n",
    "            start=starts,\n",
    "            stop=stops,\n",
    "            label=states.labels,\n",
    "            sub=sub,\n",
    "            name=sess.animal.name,\n",
    "            grp=sess.tag,\n",
    "        )\n",
    "    )\n",
    "    brainstates_all.append(df)\n",
    "\n",
    "brainstates_all = pd.concat(brainstates_all, ignore_index=True)\n",
    "\n",
    "GroupData().save(brainstates_all, \"ev_brainstates\")\n"
   ]
  },
  {
   "cell_type": "markdown",
   "metadata": {},
   "source": [
    "### Test sleep scoring\n",
    "- Tried some unsupervised neural network from sklearn, it did not work that well"
   ]
  },
  {
   "cell_type": "code",
   "execution_count": 1,
   "metadata": {},
   "outputs": [
    {
     "name": "stdout",
     "output_type": "stream",
     "text": [
      "channel for sleep detection: (23, 0)\n",
      "spectral properties calculated\n",
      "starting emg calculation\n"
     ]
    }
   ],
   "source": [
    "%matplotlib widget\n",
    "import numpy as np\n",
    "import subjects\n",
    "from neuropy.analyses.brainstates import detect_brainstates_epochs\n",
    "\n",
    "sess = subjects.sd.ratKday1[0]\n",
    "behavior_epochs = sess.paradigm[\"maze\"] #+ sess.paradigm[\"re-maze\"]\n",
    "signal = sess.eegfile.get_signal()\n",
    "epochs = detect_brainstates_epochs(\n",
    "    signal=signal,\n",
    "    probe=sess.probegroup,\n",
    "    delta_channel=0,\n",
    "    theta_channel=23,\n",
    "    behavior_epochs=behavior_epochs,\n",
    ")\n",
    "# epochs.save(sess.filePrefix.with_suffix('.brainstates'))"
   ]
  },
  {
   "cell_type": "code",
   "execution_count": 6,
   "metadata": {},
   "outputs": [
    {
     "data": {
      "text/plain": [
       "<AxesSubplot:>"
      ]
     },
     "execution_count": 6,
     "metadata": {},
     "output_type": "execute_result"
    },
    {
     "data": {
      "application/vnd.jupyter.widget-view+json": {
       "model_id": "357c3491e9ae47ff827cecc6724be200",
       "version_major": 2,
       "version_minor": 0
      },
      "image/png": "[encoded data removed]",
      "text/html": [
       "\n",
       "            <div style=\"display: inline-block;\">\n",
       "                <div class=\"jupyter-widgets widget-label\" style=\"text-align: center;\">\n",
       "                    Figure\n",
       "                </div>\n",
       "                <img src='data:image/png;base64,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' width=640.0/>\n",
       "            </div>\n",
       "        "
      ],
      "text/plain": [
       "Canvas(toolbar=Toolbar(toolitems=[('Home', 'Reset original view', 'home', 'home'), ('Back', 'Back to previous …"
      ]
     },
     "metadata": {},
     "output_type": "display_data"
    }
   ],
   "source": [
    "%matplotlib widget\n",
    "import matplotlib.pyplot as plt\n",
    "from neuropy.plotting import plot_hypnogram\n",
    "_,ax = plt.subplots() \n",
    "\n",
    "plot_hypnogram(epochs,ax=ax)"
   ]
  },
  {
   "cell_type": "code",
   "execution_count": null,
   "metadata": {},
   "outputs": [],
   "source": [
    "from neuropy.plotting import plot_probe\n",
    "from neuropy.utils.signal_process import FourierSg\n",
    "from scipy.ndimage import gaussian_filter1d\n",
    "from sklearn.neural_network import BernoulliRBM\n",
    "from neuropy.analyses.brainstates import correlation_emg\n",
    "from hfuncs import whiten_signal\n",
    "from scipy import stats\n",
    "from neuropy.analyses.brainstates import hmmfit1d\n",
    "\n",
    "\n",
    "smooth = lambda arr:gaussian_filter1d(arr,sigma=3/0.8)\n",
    "spect_kw = dict(window=1,overlap=0.2,norm_sig=True)\n",
    "pre = sess.paradigm['pre'].flatten()\n",
    "maze = sess.paradigm['maze'].flatten()\n",
    "post = sess.paradigm['post'].flatten()\n",
    "period = [pre[0],sess.eegfile.duration]\n",
    "\n",
    "delta_lfp = sess.eegfile.get_signal(126,*period) \n",
    "theta_lfp = sess.eegfile.get_signal(150,*period) \n",
    "# theta_lfp = whiten_signal(theta_lfp)\n",
    "\n",
    "delta_sxx = smooth(FourierSg(delta_lfp,**spect_kw).delta)\n",
    "theta_sxx = smooth(FourierSg(theta_lfp,**spect_kw).theta)\n",
    "band30 = smooth(FourierSg(theta_lfp,**spect_kw).get_band_power(1,30))\n",
    "theta_del_ratio =theta_sxx/delta_sxx\n",
    "\n",
    "all_channels = np.concatenate(sess.probegroup.get_connected_channels()).astype('int')\n",
    "signal = sess.eegfile.get_signal(t_start=period[0],t_stop=period[1])\n",
    "emg = correlation_emg(signal,sess.probegroup,1,0.2)\n",
    "emg = smooth(emg)\n",
    "\n",
    "# if len(all_sxx)>len(emg):\n",
    "#     all_sxx=all_sxx[:-1]\n",
    "\n",
    "# if len(all_sxx)<len(emg):\n",
    "#     emg=emg[:-1]\n",
    "\n",
    "l = np.min([len(emg),len(band30)])\n",
    "\n",
    "band30_bool = hmmfit1d(1/band30[:l])\n",
    "emg_bool = hmmfit1d(emg[:l])\n",
    "theta_delta_bool = hmmfit1d(theta_del_ratio[:l])\n",
    "\n",
    "\n",
    "assert len(band30_bool)==len(emg_bool)\n",
    "\n",
    "\n",
    "state = 3*np.ones(len(band30_bool))\n",
    "for i, (b, e,r) in enumerate(zip(band30_bool,emg_bool,theta_delta_bool)):\n",
    "\n",
    "    if b == 1 and e == 1:  # active wake\n",
    "        state[i] = 4\n",
    "    elif b == 1 and e == 0 and r==0:  # quiet\n",
    "        state[i] = 3\n",
    "    elif b == 1 and e == 0 and r==1:  # REM\n",
    "        state[i] = 2\n",
    "    elif b == 0 and e == 0 and r==0:  # NREM\n",
    "        state[i] = 1\n",
    "\n"
   ]
  },
  {
   "cell_type": "code",
   "execution_count": null,
   "metadata": {},
   "outputs": [],
   "source": [
    "%matplotlib widget\n",
    "import matplotlib.pyplot as plt\n",
    "\n",
    "_,axs = plt.subplots(6,1,sharex=True)\n",
    "\n",
    "s_theta = theta_sxx/np.std(theta_sxx)\n",
    "s_delta= delta_sxx/np.std(delta_sxx)\n",
    "\n",
    "axs[0].plot(stats.zscore(delta_sxx))\n",
    "axs[0].set_ylim([-0.5,1.5])\n",
    "# axs[0].set_yscale('log')\n",
    "axs[1].plot(stats.zscore(theta_del_ratio))\n",
    "axs[1].set_ylim([-0.1,0.3])\n",
    "axs[2].plot(1/band30)\n",
    "# axs[3].plot(thetah_sxx/delta_sxx)\n",
    "axs[3].plot(emg)\n",
    "axs[4].plot(state)\n",
    "# axs[4].plot(high_emg)\n",
    "# axs[5].plot((1/band30[:l])/delta_sxx[:-1])\n",
    "axs[5].plot(theta_delta_bool)\n"
   ]
  },
  {
   "cell_type": "code",
   "execution_count": null,
   "metadata": {},
   "outputs": [],
   "source": [
    "%matplotlib widget\n",
    "import matplotlib.pyplot as plt\n",
    "_,axs = plt.subplots(8,1,sharex=True)\n",
    "\n",
    "channels = sess.probegroup.get_connected_channels()[9][::2]\n",
    "for i,chan in enumerate(channels):\n",
    "    th_lfp = sess.eegfile.get_signal(chan,*period) \n",
    "    th = smooth(FourierSg(th_lfp,window=1,overlap=0.2).theta)\n",
    "    axs[i].plot(th)\n",
    "    # axs[i].set_yscale('log')\n",
    "    axs[i].set_ylim([0,0.1])\n",
    "\n",
    "\n",
    "\n",
    "\n"
   ]
  },
  {
   "cell_type": "markdown",
   "metadata": {},
   "source": [
    "### Implement IRASA"
   ]
  },
  {
   "cell_type": "code",
   "execution_count": null,
   "metadata": {},
   "outputs": [],
   "source": [
    "import numpy as np\n",
    "import scipy.signal as sg\n",
    "import subjects\n",
    "import fractions\n",
    "from scipy import stats\n",
    "from fooof import FOOOF,FOOOFGroup\n",
    "\n",
    "sess = subjects.nsd.ratUday2[0]\n",
    "maze = sess.paradigm[\"maze\"].flatten()\n",
    "post = sess.paradigm[\"post\"].flatten()\n",
    "# period = [maze[0], maze[1]]\n",
    "period = [post[0]+3600,post[0]+2*3600]\n",
    "# period = [0,sess.eegfile.duration]\n",
    "data = sess.eegfile.get_signal(150, *period).traces[0]\n",
    "# data = sess.eegfile.get_signal(150).traces[0]\n",
    "\n",
    "welch_kw = dict(nperseg=4*1250,noverlap=625)\n",
    "freqs, psd = sg.welch(data, fs=1250, **welch_kw)\n",
    "# f, t, spect = sg.spectrogram(data, fs=1250, nperseg=2*1250, noverlap=625)\n",
    "\n",
    "# Start the IRASA procedure\n",
    "hset = np.arange(1.1, 2.9, 0.05).round(4)\n",
    "hset = np.delete(hset, 18)\n",
    "psds = np.zeros((len(hset), *psd.shape))\n",
    "\n",
    "fm = FOOOF()\n",
    "freq_range = [4,90]\n",
    "\n",
    "# fm.report(freqs,psd,freq_range)\n",
    "fm.report(freqs,psd,freq_range)\n",
    "# fm.plot()\n",
    "# fm.power_spectrum\n",
    "\n",
    "# for i, h in enumerate(hset):\n",
    "#     # Get the upsampling/downsampling (h, 1/h) factors as integer\n",
    "#     rat = fractions.Fraction(str(h))\n",
    "#     up, down = rat.numerator, rat.denominator\n",
    "#     # Much faster than FFT-based resampling\n",
    "#     spect_up = sg.resample_poly(spect, up, down, axis=0)\n",
    "#     spect_down = sg.resample_poly(spect, down, up, axis=0)\n",
    "#     psds[i, :] =np.dstack([spect_up,spect_down]).mean(axis=-1)\n",
    "\n",
    "# for i, h in enumerate(hset):\n",
    "#     # Get the upsampling/downsampling (h, 1/h) factors as integer\n",
    "#     rat = fractions.Fraction(str(h))\n",
    "#     up, down = rat.numerator, rat.denominator\n",
    "#     # Much faster than FFT-based resampling\n",
    "#     data_up = sg.resample_poly(data, up, down, axis=-1)\n",
    "#     data_down = sg.resample_poly(data, down, up, axis=-1)\n",
    "#     # Calculate the PSD using same params as original\n",
    "#     freqs_up, psd_up = sg.welch(data_up, h * 1250, **welch_kw)\n",
    "#     freqs_dw, psd_dw = sg.welch(data_down, 1250 / h, **welch_kw)\n",
    "#     # Geometric mean of h and 1/h\n",
    "#     # psds[i, :] = np.vstack((psd_up, psd_dw)).mean(axis=0)\n",
    "#     psds[i, :] = np.sqrt(psd_up * psd_dw)\n",
    "\n",
    "\n",
    "\n",
    "# Now we take the median PSD of all the resampling factors, which gives\n",
    "# a good estimate of the aperiodic component of the PSD.\n",
    "# psd_aperiodic = np.median(psds, axis=0)\n",
    "# print(psd_aperiodic.shape,psd_aperiodic[:2])\n",
    "\n",
    "# # We can now calculate the oscillations (= periodic) component.\n",
    "# psd_osc = psd - psd_aperiodic\n",
    "\n",
    "# # Let's crop to the frequencies defined in band\n",
    "# mask_freqs = np.ma.masked_outside(freqs, *band).mask\n",
    "# freqs = freqs[~mask_freqs]\n",
    "# psd_aperiodic = np.compress(~mask_freqs, psd_aperiodic, axis=-1)\n",
    "# psd_osc = np.compress(~mask_freqs, psd_osc, axis=-1)"
   ]
  },
  {
   "cell_type": "code",
   "execution_count": null,
   "metadata": {},
   "outputs": [],
   "source": [
    "%matplotlib widget\n",
    "\n",
    "import matplotlib.pyplot as plt\n",
    "indices = (freqs>=4)&(freqs<=90)\n",
    "p = psd[indices]\n",
    "plt.plot(freqs[indices],np.log10(p))\n",
    "plt.plot(freqs[(freqs>=4)&(freqs<=90)],fm._ap_fit)\n",
    "# plt.yscale('log')"
   ]
  },
  {
   "cell_type": "code",
   "execution_count": null,
   "metadata": {},
   "outputs": [],
   "source": [
    "%matplotlib widget\n",
    "import matplotlib.pyplot as plt\n",
    "from neuropy.utils.mathutil import min_max_scaler\n",
    "f,t,spect = sg.spectrogram(data,fs=1250,**welch_kw)\n",
    "ind = (f>=4)&(f<=90)\n",
    "spect = np.log10(spect[ind,:])\n",
    "# spect_osc = spect- fm._ap_fit[:,np.newaxis]\n",
    "# spect_osc[spect_osc<0]=0\n",
    "\n",
    "# req_ind = (f>1)&(f<30)\n",
    "# # delta_ind = (f>0.5)&(f<4)\n",
    "# theta_ind = (f>5)&(f<10)\n",
    "# # delta_sxx = spect_osc[delta_ind,:].mean(axis=0)\n",
    "# theta_sxx = spect_osc[theta_ind,:].mean(axis=0)\n",
    "\n",
    "_,axs = plt.subplots(5,1,sharex=True)\n",
    "\n",
    "axs[0].imshow(spect,origin='lower',aspect='auto',cmap='jet',extent=[t[0],t[-1],4,90])\n",
    "# axs[1].imshow(spect[req_ind,:],origin='lower',aspect='auto',vmax=25000,cmap='jet',extent=[t[0],t[-1],1,30])\n",
    "\n",
    "# axs[2].plot(t,theta_sxx)\n",
    "# axs[3].plot(t,delta_sxx)\n",
    "# axs[4].plot(t,theta_sxx/delta_sxx)\n",
    "\n"
   ]
  },
  {
   "cell_type": "code",
   "execution_count": null,
   "metadata": {},
   "outputs": [],
   "source": [
    "%matplotlib widget\n",
    "import matplotlib.pyplot as plt\n",
    "\n",
    "plt.plot(freqs,psd_aperiodic)\n",
    "plt.plot(freqs,psd)\n",
    "plt.plot(freqs,psd-psd_aperiodic)\n",
    "plt.yscale('log')\n",
    "plt.xscale('log')"
   ]
  }
 ],
 "metadata": {
  "interpreter": {
   "hash": "cce1618081139d19eb1ee8d40815d94a2de4f62e1efb20d9406ddb60628c36ae"
  },
  "kernelspec": {
   "display_name": "Python 3.9.9 64-bit ('data_analysis': conda)",
   "language": "python",
   "name": "python3"
  },
  "language_info": {
   "codemirror_mode": {
    "name": "ipython",
    "version": 3
   },
   "file_extension": ".py",
   "mimetype": "text/x-python",
   "name": "python",
   "nbconvert_exporter": "python",
   "pygments_lexer": "ipython3",
   "version": "3.10.2"
  },
  "orig_nbformat": 4
 },
 "nbformat": 4,
 "nbformat_minor": 2
}
