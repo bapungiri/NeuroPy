{
 "cells": [
  {
   "cell_type": "markdown",
   "metadata": {},
   "source": [
    "### PSD Gamma power comparison between SD and NSD REM sleep\n",
    "- from whitened lfp spectrogram it appears that there maybe stronger gamma oscillation during REM of recovery sleep compared to REM of NSD sleep\n",
    "- PSD analysis didn't reveal any significant difference"
   ]
  },
  {
   "cell_type": "code",
   "execution_count": null,
   "metadata": {},
   "outputs": [],
   "source": [
    "import numpy as np\n",
    "import pandas as pd\n",
    "import subjects\n",
    "\n",
    "# sessions = subjects.nsd.brainstates_sess + subjects.sd.brainstates_sess\n",
    "sessions = subjects.nsd.ratUday2 + subjects.sd.ratUday4"
   ]
  },
  {
   "cell_type": "code",
   "execution_count": null,
   "metadata": {},
   "outputs": [],
   "source": [
    "import scipy.signal as sg\n",
    "from scipy import stats\n",
    "\n",
    "psd_df = []\n",
    "for sub,sess in enumerate(sessions):\n",
    "    post = sess.paradigm['post'].flatten()\n",
    "    if sess.tag=='SD':\n",
    "        period = [post[0]+5*3600,post[1]] \n",
    "    else:\n",
    "        period = [post[0],post[0]+5*3600]\n",
    "\n",
    "    states= sess.brainstates.time_slice(period[0],period[1])['rem']\n",
    "    channel = sess.ripple.metadata['channels'][3]\n",
    "    trace = sess.eegfile.get_frames_within_epochs(states,82)\n",
    "    b,a = sg.iirnotch(60,50,fs=1250)\n",
    "    trace = sg.filtfilt(b,a,trace)\n",
    "    trace = stats.zscore(trace)\n",
    "\n",
    "    f,psd = sg.welch(trace,fs=1250,nperseg=1250,noverlap=250)\n",
    "\n",
    "    df = pd.DataFrame(dict(freqs=f,psd=psd,grp=sess.tag))\n",
    "    psd_df.append(df) \n",
    "\n",
    "psd_df = pd.concat(psd_df,ignore_index=True)"
   ]
  },
  {
   "cell_type": "code",
   "execution_count": null,
   "metadata": {},
   "outputs": [],
   "source": [
    "%matplotlib widget\n",
    "import matplotlib.pyplot as plt\n",
    "import seaborn as sns\n",
    "\n",
    "_,ax = plt.subplots()\n",
    "sns.lineplot(data=psd_df,x='freqs',y='psd',hue='grp',ax=ax)\n",
    "ax.set_xscale('log')\n",
    "ax.set_yscale('log')"
   ]
  },
  {
   "cell_type": "markdown",
   "metadata": {},
   "source": [
    "### Hilbert Gamma comparison between SD and NSD REM sleep\n",
    "- from whitened lfp spectrogram it appears that there maybe stronger gamma oscillation during REM of recovery sleep compared to REM of NSD sleep\n",
    "- Here using hilbert amplitude across multiple electrodes depthwise across shank"
   ]
  },
  {
   "cell_type": "code",
   "execution_count": null,
   "metadata": {},
   "outputs": [],
   "source": [
    "import numpy as np\n",
    "import pandas as pd\n",
    "import subjects\n",
    "\n",
    "# sessions = subjects.nsd.brainstates_sess + subjects.sd.brainstates_sess\n",
    "sessions = subjects.nsd.ratUday2 + subjects.sd.ratUday4"
   ]
  },
  {
   "cell_type": "code",
   "execution_count": null,
   "metadata": {},
   "outputs": [],
   "source": [
    "import scipy.signal as sg\n",
    "from scipy import stats\n",
    "from neuropy.utils.signal_process import filter_sig,hilbertfast\n",
    "\n",
    "hilbert_amp_df = []\n",
    "for sub,sess in enumerate(sessions):\n",
    "    post = sess.paradigm['post'].flatten()\n",
    "    if sess.tag=='SD':\n",
    "        period = [post[0]+5*3600,post[1]] \n",
    "    else:\n",
    "        period = [post[0],post[0]+5*3600]\n",
    "\n",
    "    states= sess.brainstates.time_slice(period[0],period[1])['rem']\n",
    "    good_chans = sess.probegroup.get_connected_channels(groupby='shank')[5]\n",
    "\n",
    "    hilbert_amp = []\n",
    "    for chan in good_chans: \n",
    "        trace = sess.eegfile.get_frames_within_epochs(states,chan)\n",
    "        b,a = sg.iirnotch(60,50,fs=1250)\n",
    "        trace = sg.filtfilt(b,a,trace)\n",
    "        gamma_trace = filter_sig.bandpass(trace,fs=1250,lf=60,hf=90)\n",
    "        hilbert_amp.append(stats.zscore(np.abs(hilbertfast(gamma_trace))).mean())\n",
    "\n",
    "    hilbert_amp_df.append(pd.DataFrame(dict(gamma_amp=hilbert_amp,grp=sess.tag)))\n",
    "\n",
    "hilbert_amp_df = pd.concat(hilbert_amp_df,ignore_index=True)"
   ]
  },
  {
   "cell_type": "code",
   "execution_count": null,
   "metadata": {},
   "outputs": [],
   "source": [
    "%matplotlib widget\n",
    "import matplotlib.pyplot as plt\n",
    "import seaborn as sns\n",
    "\n",
    "_,ax = plt.subplots()\n",
    "\n",
    "for grp in ['SD','NSD']:\n",
    "    amp = hilbert_amp_df[hilbert_amp_df['grp']==grp].gamma_amp\n",
    "    ax.plot(amp.values)\n"
   ]
  },
  {
   "cell_type": "markdown",
   "metadata": {},
   "source": [
    "### CSD Gamma comparison between SD and NSD REM sleep\n",
    "- from whitened lfp spectrogram it appears that there maybe stronger gamma oscillation during REM of recovery sleep compared to REM of NSD sleep\n",
    "- CSD maps didn't reveal any significant difference, although implicit normalizations used for CSD analysis may attenuate the differences, will have to look more closely. "
   ]
  },
  {
   "cell_type": "code",
   "execution_count": null,
   "metadata": {},
   "outputs": [],
   "source": [
    "import numpy as np\n",
    "import pandas as pd\n",
    "import subjects\n",
    "\n",
    "# sessions = subjects.nsd.brainstates_sess + subjects.sd.brainstates_sess\n",
    "sessions = subjects.nsd.ratUday2 + subjects.sd.ratUday4"
   ]
  },
  {
   "cell_type": "code",
   "execution_count": null,
   "metadata": {},
   "outputs": [],
   "source": [
    "%matplotlib widget\n",
    "import scipy.signal as sg\n",
    "from scipy import stats\n",
    "from neuropy.utils.signal_process import filter_sig, hilbertfast, Csd\n",
    "\n",
    "csd_all = []\n",
    "for sub, sess in enumerate(sessions):\n",
    "    post = sess.paradigm[\"post\"].flatten()\n",
    "    if sess.tag == \"SD\":\n",
    "        period = [post[0] + 5 * 3600, post[1]]\n",
    "    else:\n",
    "        period = [post[0], post[0] + 5 * 3600]\n",
    "\n",
    "    states = sess.brainstates.time_slice(period[0], period[1])[\"rem\"]\n",
    "    good_shank = sess.probegroup.get_connected_channels(groupby=\"shank\")[5]\n",
    "    trace = sess.eegfile.get_frames_within_epochs(states, chan)\n",
    "    b, a = sg.iirnotch(60, 50, fs=1250)\n",
    "    trace = sg.filtfilt(b, a, trace)\n",
    "    gamma_lfp = filter_sig.bandpass(trace, fs=1250, lf=60, hf=90)\n",
    "\n",
    "    epochs_frames = (states.as_array() * 1250).astype(\"int\")\n",
    "    frames = np.concatenate([np.arange(*e) for e in epochs_frames])\n",
    "    shank_traces = sess.eegfile._raw_traces[np.ix_(good_shank.astype('int'),frames)]\n",
    "\n",
    "    # --- Selecting channel with strongest theta for calculating theta peak-----\n",
    "    peak = sg.find_peaks(gamma_lfp)[0]\n",
    "    # Ignoring first and last second of data\n",
    "    peak = peak[np.where((peak > 1250) & (peak < len(gamma_lfp) - 1250))[0]]\n",
    "\n",
    "    window = 250\n",
    "    nChans = 16\n",
    "    # ---- averaging around theta cycle ---------------\n",
    "    avg_theta = np.zeros((nChans, window))\n",
    "    for ind in peak:\n",
    "        avg_theta = avg_theta + shank_traces[:, ind - window // 2 : ind + window // 2]\n",
    "    avg_theta = avg_theta / len(peak)\n",
    "\n",
    "    ycoord = 240 - np.arange(16) * 15\n",
    "    csd = Csd(lfp=avg_theta, coords=ycoord, chan_label=good_shank)\n",
    "    csd.classic()\n",
    "\n",
    "    csd_all.append(csd)\n"
   ]
  },
  {
   "cell_type": "code",
   "execution_count": null,
   "metadata": {},
   "outputs": [],
   "source": [
    "%matplotlib widget\n",
    "_,axs = plt.subplots(1,2)\n",
    "axs = axs.reshape(-1)\n",
    "for i,c in enumerate(csd_all): \n",
    "    c.plot(ax=axs[i],cmap='jet',vmin=-0.4,vmax=0.4,plotLFP=True)\n"
   ]
  }
 ],
 "metadata": {
  "interpreter": {
   "hash": "cce1618081139d19eb1ee8d40815d94a2de4f62e1efb20d9406ddb60628c36ae"
  },
  "kernelspec": {
   "display_name": "Python 3.9.10 ('data_analysis')",
   "language": "python",
   "name": "python3"
  },
  "language_info": {
   "codemirror_mode": {
    "name": "ipython",
    "version": 3
   },
   "file_extension": ".py",
   "mimetype": "text/x-python",
   "name": "python",
   "nbconvert_exporter": "python",
   "pygments_lexer": "ipython3",
   "version": "3.10.2"
  },
  "orig_nbformat": 4
 },
 "nbformat": 4,
 "nbformat_minor": 2
}
