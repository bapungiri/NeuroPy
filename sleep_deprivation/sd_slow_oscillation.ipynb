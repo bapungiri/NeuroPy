{
 "cells": [
  {
   "cell_type": "markdown",
   "metadata": {},
   "source": [
    "### Imports"
   ]
  },
  {
   "cell_type": "code",
   "execution_count": null,
   "metadata": {},
   "outputs": [],
   "source": [
    "import matplotlib.pyplot as plt\n",
    "import numpy as np\n",
    "import seaborn as sns\n",
    "from neuropy import plotting\n",
    "from neuropy.utils import signal_process\n",
    "from scipy.ndimage import gaussian_filter1d\n",
    "from scipy import stats\n",
    "import subjects\n",
    "import pandas as pd"
   ]
  },
  {
   "cell_type": "markdown",
   "metadata": {},
   "source": [
    "### View spectrogram (whitened or regular)"
   ]
  },
  {
   "cell_type": "code",
   "execution_count": null,
   "metadata": {},
   "outputs": [],
   "source": [
    "import numpy as np\n",
    "import subjects\n",
    "\n",
    "sessions = subjects.nsd.ratVday3"
   ]
  },
  {
   "cell_type": "code",
   "execution_count": null,
   "metadata": {},
   "outputs": [],
   "source": [
    "from neuropy.utils.signal_process import FourierSg\n",
    "from hfuncs import whiten_signal\n",
    "\n",
    "for sub,sess in enumerate(sessions):\n",
    "    signal = sess.eegfile.get_signal(82)\n",
    "    signal = whiten_signal(signal)\n",
    "    spect = FourierSg(signal,window=60,overlap=10)"
   ]
  },
  {
   "cell_type": "code",
   "execution_count": null,
   "metadata": {},
   "outputs": [],
   "source": [
    "%matplotlib widget\n",
    "from neuropy.plotting import plot_signal_heatmap\n",
    "import matplotlib.pyplot as plt\n",
    "\n",
    "_, ax = plt.subplots()\n",
    "ax.imshow(\n",
    "    spect.traces,\n",
    "    aspect=\"auto\",\n",
    "    vmax=0.004,\n",
    "    cmap=\"jet\",\n",
    "    origin=\"lower\",\n",
    "    extent=[spect.time[0], spect.time[-1], spect.freqs[0], spect.freqs[-1]],\n",
    ")\n"
   ]
  },
  {
   "cell_type": "code",
   "execution_count": null,
   "metadata": {},
   "outputs": [],
   "source": [
    "%matplotlib widget\n",
    "from neuropy.plotting import plot_signal_heatmap\n",
    "import matplotlib.pyplot as plt\n",
    "\n",
    "_, ax = plt.subplots()\n",
    "ax.imshow(\n",
    "    spect.traces,\n",
    "    aspect=\"auto\",\n",
    "    vmax=0.004,\n",
    "    cmap=\"jet\",\n",
    "    origin=\"lower\",\n",
    "    extent=[spect.time[0], spect.time[-1], spect.freqs[0], spect.freqs[-1]],\n",
    ")\n"
   ]
  },
  {
   "cell_type": "markdown",
   "metadata": {},
   "source": [
    "### Pooled detection hippocampal slow waves\n",
    "Channel selections\n",
    "1) Visually somewhere in the radiatum, but maybe cotaminated by sharp waves\n",
    "2) Choose channel which anatomically has lowest depth i.e, more close to the cortex."
   ]
  },
  {
   "cell_type": "code",
   "execution_count": null,
   "metadata": {},
   "outputs": [],
   "source": [
    "sessions = subjects.pf_sess()\n",
    "\n",
    "# bottom channels (radiatum channels)\n",
    "# channels = [23,103,183,111,79,79,23,103,183,191,191,127,55]\n",
    "# channels = [91, 77, 32, 57, 20, 13, 45, 32, 57, 7, 83]\n",
    "\n",
    "# assert len(channels) == len(sessions)"
   ]
  },
  {
   "cell_type": "code",
   "execution_count": null,
   "metadata": {},
   "outputs": [],
   "source": [
    "from tqdm.notebook import tqdm\n",
    "\n",
    "from neuropy.analyses.oscillations import detect_hpc_slow_wave_epochs\n",
    "\n",
    "for sub,sess in enumerate(tqdm(sessions[5:])):\n",
    "    channels = sess.ripple.metadata['channels']\n",
    "    probe_df = sess.probegroup.to_dataframe()\n",
    "    idx = np.isin(probe_df.channel_id.values,channels)\n",
    "    y_coord =probe_df.y.values[idx] \n",
    "    shank_id=probe_df.shank_id.values[idx] \n",
    "\n",
    "    shank = int(shank_id[np.argmin(y_coord)])\n",
    "\n",
    "    shank_channels = sess.probegroup.get_connected_channels()[shank]\n",
    "    signal = sess.eegfile.get_signal(int(shank_channels[0]))\n",
    "    if sess.brainstates is not None:\n",
    "        states = sess.brainstates['nrem'].duration_slice(min_dur=60)\n",
    "        if len(states)>1: \n",
    "            epochs = detect_hpc_slow_wave_epochs(signal,(0.5,4),nrem_epochs=states)\n",
    "            epochs.save(sess.filePrefix.with_suffix('.sw'))\n",
    "\n"
   ]
  },
  {
   "cell_type": "markdown",
   "metadata": {},
   "source": [
    "### View in Neuroscope Delta waves "
   ]
  },
  {
   "cell_type": "code",
   "execution_count": null,
   "metadata": {},
   "outputs": [],
   "source": [
    "from neuropy.core import Epoch\n",
    "\n",
    "sess = subjects.nsd.ratUday2[0]\n",
    "swa = sess.sw.to_dataframe()\n",
    "starts,stops = swa.peaktime.values,swa.stop.values\n",
    "epochs = Epoch.from_array(starts,stops)\n",
    "sess.recinfo.write_epochs(epochs,'.swa')"
   ]
  },
  {
   "cell_type": "code",
   "execution_count": null,
   "metadata": {},
   "outputs": [],
   "source": [
    "swa"
   ]
  },
  {
   "cell_type": "markdown",
   "metadata": {},
   "source": [
    "### Fig1A related:Averaged slow oscillation power during NSD and SD POST"
   ]
  },
  {
   "cell_type": "code",
   "execution_count": null,
   "metadata": {},
   "outputs": [],
   "source": [
    "# sessions = subjects.nsd.ratSday2 + subjects.sd.ratSday3\n",
    "sessions = subjects.nsd.ratUday2 + subjects.sd.ratUday4"
   ]
  },
  {
   "cell_type": "code",
   "execution_count": null,
   "metadata": {},
   "outputs": [],
   "source": [
    "swa, swa_time, brainstates = [], [], []\n",
    "for sess in sessions:\n",
    "    maze= sess.paradigm[\"maze\"].flatten()\n",
    "    post= sess.paradigm[\"post\"].flatten()\n",
    "    t_start =maze[0]\n",
    "    t_stop = t_start + 8*3600\n",
    "    states =sess.brainstates.time_slice(t_start, t_stop).shift(-t_start)\n",
    "\n",
    "    signal = sess.eegfile.get_signal(127, t_start=t_start, t_stop=t_stop).rescale(\n",
    "        0.95 * 1e-3\n",
    "    )\n",
    "    spect = signal_process.FourierSg(signal, window=5 * 60, overlap=60, norm_sig=False)\n",
    "    swa.append(spect.delta)\n",
    "    swa_time.append(spect.time-t_start)\n",
    "    brainstates.append(states.to_dataframe())\n",
    "\n",
    "# subjects.GroupData().save(\n",
    "#     dict(swa=swa, swa_time=swa_time, brainstates=brainstates), \"swa_examples\"\n",
    "# )\n"
   ]
  },
  {
   "cell_type": "code",
   "execution_count": null,
   "metadata": {},
   "outputs": [],
   "source": [
    "from neuropy.plotting import plot_epochs, plot_hypnogram\n",
    "from neuropy.core import Epoch\n",
    "\n",
    "_, axs = plt.subplots(\n",
    "    3, 2, sharey=\"row\", sharex=\"col\", gridspec_kw=dict(height_ratios=[1, 1, 4])\n",
    ")\n",
    "\n",
    "for i in range(2):\n",
    "    time = swa_time[i]\n",
    "\n",
    "    plot_hypnogram(\n",
    "        Epoch(brainstates[i]),\n",
    "        ax=axs[0, i],\n",
    "        # labels_order=[\"nrem\", \"rem\", \"quiet\", \"active\"],\n",
    "        # colors=subjects.colors_sleep_old,\n",
    "    )\n",
    "\n",
    "    plot_epochs(\n",
    "        brainstates[i],\n",
    "        ax=axs[1, i],\n",
    "        labels_order=[\"nrem\", \"rem\", \"quiet\", \"active\"],\n",
    "        colors=subjects.colors_sleep_old,\n",
    "    )\n",
    "    axs[1,i].axis('off')\n",
    "\n",
    "    axs[2, i].plot(time, swa[i])\n",
    "    # axs[1,i].set_xlim(left=time[0])\n",
    "    x_ticks = axs[1, i].get_xticks()\n",
    "    new_xticks = (x_ticks - swa_time[i][0]) / 3600\n",
    "    # axs[1,i].set_xticks(x_ticks,new_xticks.round(2))\n",
    "    print(time[0])\n"
   ]
  },
  {
   "cell_type": "markdown",
   "metadata": {},
   "source": [
    "### SWA power as percentage above baseline(MAZE) during NSD and SD POST"
   ]
  },
  {
   "cell_type": "code",
   "execution_count": null,
   "metadata": {},
   "outputs": [],
   "source": [
    "# sessions = subjects.nsd.ratSday2 + subjects.sd.ratSday3\n",
    "# sessions = subjects.nsd.ratUday2 + subjects.sd.ratUday4\n",
    "sessions = subjects.nsd.ratNday2+ subjects.sd.ratNday1"
   ]
  },
  {
   "cell_type": "code",
   "execution_count": null,
   "metadata": {},
   "outputs": [],
   "source": [
    "swa, swa_time, brainstates = [], [], []\n",
    "for sess in sessions:\n",
    "    maze = sess.paradigm[\"maze\"].flatten()\n",
    "    post = sess.paradigm[\"post\"].flatten()\n",
    "\n",
    "    spect_kw = dict(window=2 * 60, overlap=60, norm_sig=False)\n",
    "\n",
    "    signal = sess.eegfile.get_signal(113, *maze)\n",
    "    baseline = signal_process.FourierSg(signal, **spect_kw).get_band_power(0.5,4).mean()\n",
    "\n",
    "    post = [post[0], post[0] + 8 * 3600]\n",
    "    states = sess.brainstates.time_slice(*post).shift(-post[0])\n",
    "    signal = sess.eegfile.get_signal(113, *post)\n",
    "    spect = signal_process.FourierSg(signal, **spect_kw)\n",
    "\n",
    "    swa.append(spect.get_band_power(0.5,4)/baseline)\n",
    "    swa_time.append(spect.time - post[0])\n",
    "    brainstates.append(states.to_dataframe())\n",
    "\n",
    "# subjects.GroupData().save(\n",
    "#     dict(swa=swa, swa_time=swa_time, brainstates=brainstates), \"swa_examples\"\n",
    "# )"
   ]
  },
  {
   "cell_type": "code",
   "execution_count": null,
   "metadata": {},
   "outputs": [],
   "source": [
    "from neuropy.plotting import plot_epochs, plot_hypnogram\n",
    "from neuropy.core import Epoch\n",
    "\n",
    "_, axs = plt.subplots(\n",
    "    3, 2, sharey=\"row\", sharex=\"col\", gridspec_kw=dict(height_ratios=[1, 1, 4])\n",
    ")\n",
    "\n",
    "for i in range(2):\n",
    "    time = swa_time[i]\n",
    "\n",
    "    plot_hypnogram(\n",
    "        Epoch(brainstates[i]),\n",
    "        ax=axs[0, i],\n",
    "        # labels_order=[\"nrem\", \"rem\", \"quiet\", \"active\"],\n",
    "        # colors=subjects.colors_sleep_old,\n",
    "    )\n",
    "\n",
    "    plot_epochs(\n",
    "        brainstates[i],\n",
    "        ax=axs[1, i],\n",
    "        labels_order=[\"nrem\", \"rem\", \"quiet\", \"active\"],\n",
    "        colors=subjects.colors_sleep_old,\n",
    "    )\n",
    "    axs[1,i].axis('off')\n",
    "\n",
    "    axs[2, i].plot(time, swa[i])\n",
    "    # axs[1,i].set_xlim(left=time[0])\n",
    "    x_ticks = axs[1, i].get_xticks()\n",
    "    new_xticks = (x_ticks - swa_time[i][0]) / 3600\n",
    "    # axs[1,i].set_xticks(x_ticks,new_xticks.round(2))\n"
   ]
  },
  {
   "cell_type": "markdown",
   "metadata": {},
   "source": [
    "### Best slow wave channels based on bimodality of slope"
   ]
  },
  {
   "cell_type": "code",
   "execution_count": 46,
   "metadata": {},
   "outputs": [],
   "source": [
    "sessions = subjects.sd.ratUday1"
   ]
  },
  {
   "cell_type": "code",
   "execution_count": 47,
   "metadata": {},
   "outputs": [
    {
     "name": "stderr",
     "output_type": "stream",
     "text": [
      "/tmp/ipykernel_2491632/3277938048.py:23: RuntimeWarning: divide by zero encountered in log10\n",
      "  spect = np.log10(spect[indices,:])\n"
     ]
    }
   ],
   "source": [
    "from neuropy.utils.signal_process import FourierSg\n",
    "from hfuncs import whiten_signal\n",
    "import scipy.signal as sg\n",
    "from numpy.polynomial import polynomial\n",
    "from scipy.ndimage import gaussian_filter1d\n",
    "\n",
    "for sub, sess in enumerate(sessions):\n",
    "\n",
    "    # channels = [19,25,2,1,93,87,189,183]\n",
    "    # channels = sess.recinfo.channel_groups[4][::4]\n",
    "    channels = sess.ripple.metadata['channels']\n",
    "    slopes = []\n",
    "    for chan in channels:\n",
    "        signal = sess.eegfile.get_signal(chan)\n",
    "        # spect = FourierSg(signal,window=60,overlap=10)\n",
    "        f, t, spect = sg.spectrogram(\n",
    "            signal.traces[0], fs=1250, nperseg=10 * 1250, noverlap=9 * 1250,axis=-1\n",
    "        )\n",
    "        spect = gaussian_filter1d(spect,sigma=4,axis=0)\n",
    "\n",
    "        indices = (f>4) & (f<90)\n",
    "        f = np.log10(f[indices])\n",
    "        spect = np.log10(spect[indices,:])\n",
    "\n",
    "        invalid_col = ~np.isfinite(spect).any(axis=0)\n",
    "        linfit = np.polyfit(f,spect[:,~invalid_col],deg=1)\n",
    "        slopes.append(linfit[0])\n"
   ]
  },
  {
   "cell_type": "code",
   "execution_count": 28,
   "metadata": {},
   "outputs": [
    {
     "name": "stdout",
     "output_type": "stream",
     "text": [
      "1.0\n",
      "1.0\n",
      "0.998001998001998\n",
      "0.8661338661338661\n",
      "0.36163836163836166\n",
      "0.3706293706293706\n",
      "0.13986013986013987\n",
      "0.12287712287712288\n",
      "0.9920079920079921\n",
      "1.0\n",
      "0.97002997002997\n",
      "0.01898101898101898\n"
     ]
    },
    {
     "data": {
      "application/vnd.jupyter.widget-view+json": {
       "model_id": "1666f62bccee4a1883e0203b4672c7d9",
       "version_major": 2,
       "version_minor": 0
      },
      "image/png": "[encoded data removed]",
      "text/html": [
       "\n",
       "            <div style=\"display: inline-block;\">\n",
       "                <div class=\"jupyter-widgets widget-label\" style=\"text-align: center;\">\n",
       "                    Figure\n",
       "                </div>\n",
       "                <img src='data:image/png;base64,iVBORw0KGgoAAAANSUhEUgAAAoAAAAHgCAYAAAA10dzkAAAAOXRFWHRTb2Z0d2FyZQBNYXRwbG90bGliIHZlcnNpb24zLjUuMSwgaHR0cHM6Ly9tYXRwbG90bGliLm9yZy/YYfK9AAAACXBIWXMAAA9hAAAPYQGoP6dpAACtN0lEQVR4nOy9eXxU9b3//5wl+0p2QsK+E0AEhaBWFESxqFRv0Vqpba3W63a56tVa722x7ZXWXsXfV269rdq6INW2Fq1WqUgRVBYBQXZkCRAgIRCyLzPJzPn9cc6Z7MlMZjlnZt5PHnmcycxnzrxDPjnzmvdqURRFQRAEQRAEQYgarEYbIAiCIAiCIIQWEYCCIAiCIAhRhghAQRAEQRCEKEMEoCAIgiAIQpQhAlAQBEEQBCHKEAEoCIIgCIIQZYgAFARBEARBiDJEAAqCIAiCIEQZIgAFQRAEQRCiDBGAgiAIgiAIUYYIQEEQBEEQhChDBKAgCIIgCEKUIQJQEARBEAQhyhABKAiCIAiCEGWIABQEQRAEQYgyRAAKgiAIgiBEGSIABUEQBEEQogwRgIIgCIIgCFGGCEBBEARBEIQoQwSgIAiCIAhClCECUBAEQRAEIcoQASgIgiAIghBliAAUBEEQBEGIMkQACoIgCIIgRBkiAAVBEARBEKIMEYCCIAiCIAhRhghAQRAEQRCEKEMEoCAIgiAIQpQhAlAQBEEQBCHKEAEoCIIgCIIQZYgAFARBEARBiDJEAAqCIAiCIEQZIgAFQRAEQRCiDBGAgiAIgiAIUYYIQEEQBEEQhChDBKAgCIIgCEKUIQJQEARBEAQhyhABKAiCIAiCEGWIABQEQRAEQYgyRAAKgiAIgiBEGSIABUEQBEEQogwRgIIgCIIgCFGGCEBBEARBEIQoQwSgIAiCIAhClCECUBAEQRAEIcoQASgIgiAIghBliAAUBEEQBEGIMkQACoIgCIIgRBkiAAVBEARBEKIMEYCCIAiCIAhRhghAQRAEQRCEKEMEoCAIgiAIQpRhOgG4YcMGrrvuOvLz87FYLLz99tsdHlcUhSVLlpCfn09CQgKzZs1i7969HdY4HA7uv/9+srKySEpK4vrrr+fkyZMd1lRVVbFo0SLS0tJIS0tj0aJFVFdXB/mnEwRBEARBMB7TCcCGhgYmT57M8uXLu338qaee4plnnmH58uVs3bqVvLw8rrrqKurq6jxrFi9ezKpVq3jjjTf49NNPqa+vZ/78+bhcLs+aW2+9lZ07d7J69WpWr17Nzp07WbRoUdB/PkEQBEEQBKOxKIqiGG1ET1gsFlatWsWCBQsA1fuXn5/P4sWLefTRRwHV25ebm8uvfvUrfvjDH1JTU0N2djavvfYaN998MwCnT5+msLCQ999/n6uvvpr9+/czfvx4Nm/ezPTp0wHYvHkzxcXFHDhwgDFjxhjy8wqCIAiCIIQC03kAe6OkpITy8nLmzp3ruS8uLo7LL7+cjRs3ArB9+3ZaWlo6rMnPz6eoqMizZtOmTaSlpXnEH8CMGTNIS0vzrBEEQRAEQYhU7EYb4Avl5eUA5Obmdrg/NzeX48ePe9bExsYyYMCALmv055eXl5OTk9Pl/Dk5OZ413eFwOHA4HJ7v3W4358+fJzMzE4vF0r8fSggZiqJQV1dHfn4+VmtgPvu43W5Onz5NSkqK7IEwIBh7AGQfhBtyLRCCdS0IJ8JKAOp0/uNSFKXPP7jOa7pb39d5li5dyhNPPOGjtYLZKC0tpaCgICDn0tMLhPAikHsAZB+EK3ItEAJ9LQgnwkoA5uXlAaoHb+DAgZ77KyoqPF7BvLw8nE4nVVVVHbyAFRUVzJw507PmzJkzXc5/9uzZLt7F9jz22GM8+OCDnu9ramoYPHgwpaWlpKam+vfDCUGntraWwsJCUlJSAnZO/VyyB8KDYOwBkH0Qbsi1QAjWtSCcCCsBOGzYMPLy8lizZg1TpkwBwOl0sn79en71q18BMHXqVGJiYlizZg0LFy4EoKysjD179vDUU08BUFxcTE1NDZ9//jkXX3wxAFu2bKGmpsYjErsjLi6OuLi4LvenpqbKH3wYEcjwjH4u2QPhRaBDdLIPwhO5FgjRHK43nQCsr6/n8OHDnu9LSkrYuXMnGRkZDB48mMWLF/Pkk08yatQoRo0axZNPPkliYiK33norAGlpadxxxx089NBDZGZmkpGRwcMPP8zEiROZM2cOAOPGjeOaa67hzjvv5Le//S0Ad911F/Pnzzd1BfChQ5W8995X1NY6GDw4jeuuG0NWVqLRZgkhpqLCxVtvNZCQYOHGG5NITY3O/JVoZNse+GgTzCmGaUVGWyOEilO18P5huGUCpHT1QQhCvzCdANy2bRtXXHGF53s95Hr77bfz8ssv88gjj9DU1MQ999xDVVUV06dP58MPP+zgxl22bBl2u52FCxfS1NTE7Nmzefnll7HZbJ41r7/+Og888ICnWvj666/vsfegGVi5cjff+947OJ1tvQwTE2P4+c+v4N/+bTo2m4iAaODw4Ra+9rVyysrUffDzn9fw4Ye5jBgRY7BlQrA5dgrm3AE1dfCf/w/W/h4uv8hoq4Rgc6YeLvkDHK+Bl3bA+tshznTv3EI4Yuo+gGantraWtLQ0ampqguryP3GihrFjl9PU1MollxQyYUI2W7ac4ssv1TzGoqIcrr12JBMn5rJgwViSk2ODZks4E4zfV6j2gM6VV5azbl0z+fk2FAXKylwMGmTjs88GMmSIvCv0RbB+X6HYB9/+D1j597bvC/PgwN8hMSEoLxfRhNO14D/WwP9savv+jzfCLeL99ZtQX7vNiLiNwoAnnviYpqZWLrtsMBs2fI/f/vY6duz4Ib/73XzS0uLYs6eCp57ayKJFqygq+g2nTtUabbIQBD77rJl165qJiYGNGwfyxRcDGTcuhlOnXNx8cwUtLfJZLlJpbIJ3/qne/ucfVPFXWg7PvmqsXUJwaXHBa7vU2+Oy1OPbB42zR4gsRACanKqqJlau3APA0qWzsVrVhFWLxcKdd07lyJEHeO65edx330Xk5SVz/HgNt9zyFuLYjTxefrkegNtuS2bIEDt5eXbefz+H9HQrW7Y4Wbq0xmALhWDx/gZoaIJhBTDrYvjvxer9y15VxaEQmaw/DmcaIDsRfjdfve/9Q6owFAR/EQFoct54Yw/Nza1MnJjDzJlde0xlZiZy330X89xz1/LZZ98nMTGGTz89wV//ut8Aa4Vg0dqqsGpVIwDf/naS5/6hQ2N4/vkMAH7xi2pOnmw1xD4huKz+VD1+YzZYLPCta1UxeK4KXvubsbYJwWPNUfV47SiYWQhpcVDnhL1njbVLiAxEAJqctzV//223TeqzXH348AE8+OAMAJYu/TSsvYAbNmzguuuuIz8/H4vFwttvv93hcUVRWLJkCfn5+SQkJDBr1iz27t3bYY3D4eD+++8nKyuLpKQkbrnlli6vU1VVxaJFi0hLSyMtLY1FixZRXV0dxJ+sf2zc6KCy0k1mppXLL4/v8NjNNydx+eVxtLTAsmUS/o9E1m5Wj3OK1aPdDvepjQ944S/G2CQEH10AXjUcrBaYlq9+v+20cTYJkYMIQBNTU9PMunUlANxwg3ftaR54YDpxcTa2by9j8+aTwTQvqDQ0NDB58uQeK7OfeuopnnnmGZYvX87WrVvJy8vjqquuoq6uzrNm8eLFrFq1ijfeeINPP/2U+no1hOpytcVPbr31Vnbu3Mnq1atZvXo1O3fuZNGiRcH94frB2rVqnG/u3ATs9o4fBCwWC488kgbA739fj8MRvsJf6ErJSbUC2G6Hy6a23f+dGyDGDtv3wi7JC4s4qpthhzaZdPYw9ThNm3+wrcwYm4TIQgSgiVmz5igtLW5Gj85kzJgsr56TnZ3ELVqJ2AsvfBFM84LKvHnz+MUvfsGNN97Y5TFFUXj22Wd5/PHHufHGGykqKuKVV16hsbGRlStXAuqUlpdeeomnn36aOXPmMGXKFF544QUA1q1bB8D+/ftZvXo1L774IsXFxRQXF/PCCy/w3nvvcfCgud5R165tBmD27PhuH7/66gQKCmxUV7t5773GUJomBJkN29TjxRMhuS36T9YAuOYy9fbf1oXeLiG4fH5KPY4YAHnJ6m3xAAqBRASgifngg0MAXHvtSJ+e94MfXAjAn/60l7o6R8DtMpqSkhLKy8s9PRxBndJy+eWXs3HjRgC2b99OS0tLhzX6+MDPP/8cgE2bNpGWlsb06dM9a2bMmEFaWprnPJ1xOBzU1tZ2+Ao2DQ1utmxRf49XXNG9ALTZLNx2m/ou8frrDUG3SQgdn+1Qj5de2PWx62apx3dFAEYcWzQBOH1Q230XqNNQ2XsWXO7Q2yREFiIATYqiKKxefQSAefNG+fTcSy4pZMyYTBoaWvjjH/cEwzxDKS9X4yKd5zbn5uZ6HisvLyc2NrbDPGgdfQ50eXk5OTk5XR7PycnxnKczS5cu9eQLpqWlhWT4++bNDlpbobDQxvDhPTd8vvlmdSrMBx80UV8v7w6Rwqfb1eMlU7o+Nn+Wevx8N1RWh8oiIRToGTztBeCwdEiwQ3MrHK0yxCwhghABaFL27Kng9Ok6EhLsfO1rQ3x6rsVi4a671GSh55/fFtbFIL3RuShGURSv5jq2X9Pd+t7O89hjj1FTU+P5Ki0t9dFq3/nkEzX8e9ll3Xv/dCZPjmXECDvNzQoffCC9QSKBqhrYrxUCzOxGAA7MhnHD1du6UBQig+1ant/F7QSgzQrjs9Xbe6QSWPATEYAm5R//UL1/s2YNJT7e9wkPt98+mbg4Gzt3lrNpU9/FIFVVTXznO6t4+OEPO4ybMyN5eWocpLOXrqKiwuMVzMvLw+l0UlXV9WOy7vXLy8vzeAPbc/bs2S7eRZ24uDjPsPdQDX3/5BM1/HvZZb0PAbVYLNx4o+oFfOcdyQOMBLZphe0jCtWcv+742jT1uH5baGwSgk9Zndr/z2qBSZ0uRUVa0GJPRejtEiILEYAm5cMPVQE4d+6Ifj0/MzORb397IgDPPru517WKovD1r6/ktdd28fTTm3jggQ/69ZqhYtiwYeTl5bFmzRrPfU6nk/Xr1zNz5kwApk6dSkxMTIc1umC8+OKLASguLqampsaTEwiwZcsWampqPOcxmuZmNxs3qgKwc/uX7rj+elUAvv9+E62tken5jSa27laPF03seY0+D3iDCMCIYaf22XZMJiR2yvqYoHsARQAKfiIC0IQ0NbWwYcNxoP8CEODf/k3tCfiXv+xjTy9Xi7///VAHL+Grr35pePFIfX09O3fuZOfOnYBa+LFz505OnDiBxWJh8eLFPPnkk6xatYo9e/bw3e9+l8TERG69VW2OlpaWxh133MFDDz3E2rVr2bFjB3feeScAV1xxBQDjxo3jmmuu4c4772Tz5s1s3ryZO++8k/nz5zNmjHdtd4LNpk0OmpsVBg60MXZsz/l/OsXFcWRlWamqcrN+fXMILBSCyee6AOxl9uvMC9TjlwehOfJqvqKSnVpgQi/6aI8uAPedC509QmQiAtCEbNhwHIfDRUFBKuPGedf+pTsmTcrlppvGoSjwn//5zx7XLVumegj/4z9mMnp0Jk1NrbzzjrFtULZt28aUKVOYMkVNfHrwwQeZMmUKP/nJTwB45JFHWLx4Mffccw/Tpk3j1KlTfPjhh6SkpHjOsWzZMhYsWMDChQu55JJLSExUvWM2m82z5vXXX2fixInMnTuXuXPnMmnSJF577bUQ/qS9o7d/ufLKeK/yG202C9/4hvpzvvmmVAOHO9v3qcdpvQjAwfmQkwmtrbBDBgBFBF/qArCbTBQ9B/DgOWiVWi/BD0QAmpC28O9wr970e+PnP78Cm83CO+8c5JNPjnd5/PTpOk+z6XvuuYhvfnM8oPYgNJJZs2ahKEqXr5dffhlQ892WLFlCWVkZzc3NrF+/nqKiju+S8fHxPPfcc1RWVtLY2Mibb77Z5XUyMjJYsWKFp6XLihUrSE9PD8FP6B3//Gfv/f+64+ab1WZxb73VKE2hw5hzVXBSCwVeMLbndRaL2iMQ2jyGQnijB2yKujYpYHCaGhZuccOR86G1S4gsRACakH/+8xgAc+YM9/tc48Zle/oC/sd/rOlSEfynP+1FUWDmzEKGDk3nYq3kbMcOaTVvNLW1bj7/XI3pXXllgtfPu/zyeAYNsnH+vJtVq8QLGK58eUA9jiiE1OTe106fpB4/3xVcm4Tg43TBwUr1th7ubY/VAnpgSMLAgj+IADQZlZWN7NQygK+8clhAzrlkySySkmLYsuUUq1Yd6PDYypWqy+Bb31K9Z1OmqEkn+/adpbm5NSCvL/SPTz5pxuWCESPsDBnifSW43W7hjjtUxfD883V9rDYv0T4PWg/nThnX91o9R3Db3t7XCebnUKUa2k2OVb193aGHgfdKIYjgByIATcb69WqYdsKEbHJz+/jY7yV5ecn8+7+rBSE/+ck6XFoL+UOHKtm69TQ2m8UT+i0oSCUrKxGXS+m1cEQIPnoRR0/TP3rjrrtSiImBDRscniki4Ua0z4P+UkvDndxL+Fdn6gT1+NUxqAlfzS+gTvkA1fvXUwZQUXbHtYLQH0QAmoxPPz0B4HPz57546KGZpKfHs3fvWV599UsAfvtbtXPsVVeN8IhNi8XCBVrp2e7dXXvkCaFjwwZVAH7ta74LwEGD7Hz72+rvdOnS6kCaFTKifR70HnUSJBO9GASUNQCGag2Dt4sXMKzZp4m68d2Ef3U8vQBFAAp+IALQZGzcqE6WuOSSwI4YS0+P5/HH1cnxP/rRWg4dquSll9Qho/fee1GHtaNGZQBw5IjMGjKKhgY327c7gb4bQPfEo4+mYrHAO+808eWXzm7XtLQo/OQnVXzzmxVh1TbGyHnQEPyZ0C5X2wSQIi8nQU7TvIBbI2/6Y1SxX8vr660BhC4AD5xTcwYFoT+IADQRTU0tfPGFWnwxc2bgZ8zef//FjBuXRUVFA6NHL6e6upnx47OZN29kh3UjRqgjBw4flhIzo9i6VZ3/W1Bg8yn/rz1jx8aycKHaEuZXv6rpds3dd1fy85/X8Je/NDJ3bjkHD7b02+ZQYuQ8aAj+TOgjpeBwQkI8DCvw7jl6s2gRgOHNAa0ApDcBWJgKKbFqruChytDYJUQeIgBNxPbtZbS0uMnNTWLo0PSAnz8uzs5rr32DzEy1ojQhwc6rry7AZuu4DUaMEA+g0WzerObtzZgR51croEcfVbPI33yzgcOHO4q7L75w8PvfqzlxFgs4nfDoo+El+o2YBw3Bnwmth3/HjwCrl1dpvRBka4S1gommYiCXW+3vB70LQIulzQu4W1K1hX4iAtBEbN16CoDp0wv87v/XE1On5rNnzz385S/f5ODB+5g6Nb/LGt0DeESaTBnGli1qyHbGjP6Ff3WmTIlj3rwE3G5YsqS6w2NPPKF+/+1vJ7Fnj7oP3n+/iepq88eUjJwHDcGfCb1PbQXKeB8GAU2doAqDE2VwJoLag0RTMdCxanC4IM4GffkAJooAFPxEBKCJ2Lr1NAAXXdRVlAWSvLxkbrppPIWF3fcYGD5cFYBVVc1UVTUF1RahK4qieCp3p0/3TwAC/Pzn6QCsXNnA1q3qeffudfK3vzVhscB//mca48fHMmFCDC0t8Le/mf93HunzoA9o+X/jfGgFmpoMY7XOUZHUEDqaioEOaMJ9dCbY+nh3nqR9PtkltXpCPxEBaCJ0Aag3YzaKpKRYcnPVaRLHjlUbaks0UlbmoqzMhdUKF14Y6/f5pk6NY9GiJBQFfvjDShwOxeMN/MY3Ehk7Vn2NBQvUfME1a8whAKN5HvQBdTgPY33sBT9TnZzIxh2BtcesGF0MFGj0BtBjMvte2x8PoMsND30Ig5bBm1ItHvX0L7tcCDhVVU2eootp04LrAfSGwsI0zpxpoLS0lilTBhptTlSxY4ca/h07NobExMB8RnvqqQG8/34TO3Y4GTSolMpKNxYLPPFEumfNzJmqt1H3EhrNtm3bPEIN1HnQALfffjsvv/wyjzzyCE1NTdxzzz1UVVUxffr0budB2+12Fi5cSFNTE5dffjnQdR70Aw884BEI119/fY/hxlCgKP3zAAJcMgVeegs+ixIB2Fsx0PHjxz1rglEM5HA4cDja/lYCUQmuC8CxXoyA1wXg8RqoaYY0L7pF/WEnPKOOfueH78EVQyEnqT+WCpGAeABNgl79O3z4ADIyvB/7FSwKCtScppMnA9veQugbXQAGwvunk5dnZ+XKbBITLVRWqo3Af/KTNIqK2l7jootUAXjwYKsp8gCjdR70qTPQ0AR2uzoGzhd0D+DWPWoVcbRgRDFQMCrBffEADkhQq4HBOy+gosBvtrV9X+OAP0rFeFQjAtAkbNumhn/N4P0DKNSuLKWl3bcPEYLHF1+o79xTpgROAALMnZvA7t35LFs2gHffzeGnP03v8Hh2to1hw9SgwLZtUaQeTIbu/RteADExvj139FDIzYRmB2z+MuCmmQ4ji4GCUQnuiwAE3/IAD5yDHeUQa4OH1MFQbDjuu41C5CAC0CRs26Z6AKdNM0e4tU0Aigcw1OhNmwMtAAGGD49h8eI05s9P7Nazob/m3r3h0Q8wEvHk//VjFLjFAldqb+5rN/e+VlGgodH31zATRhYDBboSvM4B5WpxMqO9FYBaGHiXFx7A1Vpl+eVD4EZtvvSGE+o+EKITEYAmQW8BYxYPoISAjaGuzs3Ro60ATJoUeAHYF6NHqy6nr74SAWgUB/tZAKIzWxOAH37W85qqGpj7A0i9GBYvBbe7f68VCqKlGEjvu5+d6F0+H7R5AL/suWe5hw8Oq8drRsC0fEiww7nGNq+jEH1IEYgJqKho4PjxGiwWuu3LZwR6ixjxAIaW3btV79+gQTYyM219rA48o0erl4RDh0QAGoU/HkCAeerER7bsgpPlUJDXdc09P4ePNqm3/7/XYMZkuOXa/r1esImWYqDDWoR6ZIb3z9EF4J6z4FbA2kPaY3MrfKKOmefqEWoYuCgHtp6GvWe9KzoRIg/xAJoA3fs3ZkwWqan+930LBLoH8NSpWhSJEYSMXbtUAWiE9w/EA2gGdA/gmH4KwPwcuORC9fZba7o+vnEHvPG+OmHkSq3ryc9+Y95QYLQUA+keQF8E4OhMtWl0vVNtIt0Tm0+qIjAvGcZnq/fpx31n+2WuEAGIADQBoWoA7Qt5eckAOBwuqqqaDbYmeti1SxVekyb5mP0fIEaNUl/3xAkXzc0mjgtGKA2NUKqF8/orAAEWXq0eX3qrq7D79e/V4/e+Aaueg7hY2H8U9h3u/+sJ/uMRgF271fSI3QoTtDzAL3spBFl3TD1eMVTNEwUYr3n9RABGLyIATcCWLaoH0OgG0O2Jj7d72tGUldX1sVoIFLoHcOJEYzyA2dlWUlMtKAqeXEQhdHx1TD1mDYDM9P6f5zs3QGIC7P4K1m1pu//ICXjnn+rth76rTg/RvYDvftz/1xP8pz8eQGhXCNKLAFyreZWvGNp2n+4B3B9BYwMF3xABaDBut8KWLScBKC4uMNiajgwcqHoBy8rqDbYkOlAUxSMAJ082RgBaLBaGDlXzAE+cEAEYavzN/9NJT1U9fACPPtNW5PH/vaZ6BK+5FMZpc4av09LrVn/q32sK/nFEywEc4YMHEGCylge4o4dCkJpmNQQMcFW7wqJxmgfwwDk1f1CIPkQAGsyhQ5VUVTWTkGBn0qSeh88bwcCBahK1eABDw/HjrdTVKcTEwJgxxoSAAYYMsWv2GN8MOtrwtwK4Pf91N6QkwbY9atj3q2Pwuz+rj/377W3rvjZVPW7fCy75lRtCUwuc0i6zI3z0AF6odQ7bXtb94/88Bi5FzRccmt52/+A0tWjE4QK5xEcnIgANZtMm9aPZ1Kn5xMSEvuqzN3QP4OnTcnUIBXr+3/jxMcTE9D3FIFgMHqwLQPEAhhrdAzhmqP/nys2CZx5Vb//oGRhzrTodZO4lcFW71nZjh6vh4vrGNgEqhBa9gCMlFjJ9HAQ1JQ8swMlaqGjo+vjfD6nHq0d0vD/GpopAgJJq315TiAxEABrM5s3mDP+ChIBDjd4A2qgKYB3dAygh4NDjbwVwZ+64qaO3b3ghvPBEWyEAgM0GF2qNgbftDczrCr5xVAv/Dh/Q8XfjDSlxbY2jt5/u+JjLDX87qN6+YXTX5w5LV48iAKMTEYAGY24BqIeARQCGAqPz/3TEA2gMigKHtNFco4cG5pwWi+oF/Ox1+NMz8MVfYHA3zQamaV1TvtgXmNcVfONotXr0Nf9PR28goQWUPHx6As42woB4+NqQrs/zCMCuU/KEKEAaQRtIXZ2D3doU7+nTzSgAdQ+ghIBDgXk8gGoqggjA0FJ2FhqaVI/csAA3BJg5pffHJ4xUjwckBGwIR9p5APvDZYNhxW51tFt7VuxWjwvGqiHfzogHMLoRD6CB7NhRjtutUFiYSn5+St9PCDG6B7C8XDyAwaahwc3hw8aNgGtPYaH6ufD0aRcul5QHhgq9BczQfIgN8RYYpxWd7D8S2tcVVPQcQF2Q+crlmndv80lwaJ/bGlvgT5pH9/ZJ3T9vmCY4RQBGJyIADeSLL9SyrQv1Mi6ToTeDFgEYfPbubUFRICfHSm6uscVAeXk2bDa1IvTMGSkLDRWBDv/6gl51fKJMbUYthBZ/BeDoTMhNUit6N2j76LVdUOtQvYqXdRP+BRiiFYGcqOnf6wrhTVgKwCVLlmCxWDp85eW1DbxUFIUlS5aQn59PQkICs2bNYu/ejtnNDoeD+++/n6ysLJKSkrj++us5efJk55cKKju0xk1mF4B1dU4aGpwGWxPZ7N1rbAPo9thsFvLyVBF66pQIwFChewBH9fBmHUwy09Xm0+3tEEKHLgDbt2nxBYtFDfOC6vVrdcMzm9XvH7i45xnBehXwyVq1YESILsJSAAJMmDCBsrIyz9fu3bs9jz311FM888wzLF++nK1bt5KXl8dVV11FXV1bLtvixYtZtWoVb7zxBp9++in19fXMnz8fVwgbYe3YoXoAp0zpZlq7CUhJiSUhQQ0HnjnTTX8BIWDs2aO2gJkwwbj+f+0ZNEgXgJIHGCoOa/lbIwcb8/p682nJAwwt1c1Q41BvD0nv/3lumaAe/7wPntkEX1VCRgJ874Ken5OfoorDFjfIJT76CFsBaLfbycvL83xlZ6tzbRRF4dlnn+Xxxx/nxhtvpKioiFdeeYXGxkZWrlwJQE1NDS+99BJPP/00c+bMYcqUKaxYsYLdu3fz0UcfhcR+h6OV/doMnilTzOkBVD2rEgYOBboHsKjIeA8gQEGBKvzFAxg6dAFohAcQ2oTn0VJjXj9a0b1/OUmQ6Mfnv8sGQ1GOKiYfXave99glkBrX83PsVhikpZ+XShg46ghbAXjo0CHy8/MZNmwYt9xyC0ePHgWgpKSE8vJy5s6d61kbFxfH5ZdfzsaNGwHYvn07LS0tHdbk5+dTVFTkWRNsDh6spLXVTXp6PIMGma8AREcEYGgwqwfw5EkRgKHA7TZeAA4vVI9HQ5sJE/V4wr9p/p3HZoXfX9cm+OaPgn+b3vfz9DDwiVr/Xl8IP8KyDcz06dN59dVXGT16NGfOnOEXv/gFM2fOZO/evZSXq3l1ubkdx6rl5uZy/LiaHVteXk5sbCwDBgzoskZ/fnc4HA4cDofn+9ra/v/F7Nmjtn8pKsrB4mvnzxAiAjD41NS4PZ628ePNIgB1D6CEgEPB6QpodoDdDkO66dMXCvTWMyIAQ4suAP0J/+pcNAiOPaCGf6fmqx6+vhicBp+VSiFINBKWAnDevHme2xMnTqS4uJgRI0bwyiuvMGPGDIAuokpRlD6FVl9rli5dyhNPPOGH5W3s3asLwOyAnC9Y6AJQegEGj/371fDvoEE20tPNMQ6wLQdQPIChQPf+Dc1XRaAReDyAEgIOKcc14TXETw+gzoAE8KWt7ODUjnYI0UPYhoDbk5SUxMSJEzl06JCnGrizJ6+iosLjFczLy8PpdFJVVdXjmu547LHHqKmp8XyVlvb/Srlnz1kAJkzI6fc5QoEuAKUIJHjs26eGf8eNM4f3D6QIJNQYXQACMFwTDaXl4JSi/5ChC6/+VgD7S6EmPCUHMPqICAHocDjYv38/AwcOZNiwYeTl5bFmzRrP406nk/Xr1zNzpjoBferUqcTExHRYU1ZWxp49ezxruiMuLo7U1NQOX/1F9wBOmBAeHkCzhYD70wpo//79Hc5hhlZA0CYAzRL+hfYhYPEAhgIzCMDcLEiIV0fSHTvd93ohMHhCwAHyAPpKofY2Vio5gFFHWArAhx9+mPXr11NSUsKWLVv4l3/5F2pra7n99tuxWCwsXryYJ598klWrVrFnzx6++93vkpiYyK233gpAWload9xxBw899BBr165lx44d3HbbbUycOJE5c+YE3f7m5lZKtNbr48aJAOwvvrYCWrBgQYfnm6EVELQXgOaoAIY2D2B9vUJtrTQICzZHNAE4wkABaLGoIWiA4yIAQ0agQ8C+oheBiACMPsIyB/DkyZN861vf4ty5c2RnZzNjxgw2b97MkCFq+dwjjzxCU1MT99xzD1VVVUyfPp0PP/yQlJS2attly5Zht9tZuHAhTU1NzJ49m5dffhmbLfg5WF99VYnbrZCeHk9ublLQX88fzCwA9VZAnencCgjglVde6RDe11sBvfbaax7Rv2LFCgoLC/noo4+4+uqrQ/NDAAcOqAJw7FjzeACTkqykpVmoqVE4daqV1FTziNNI5IiWTWKkBxDUApT9R0UAhoo6B5xvUm8HogikP+gewIoGaG6F+LBUBUJ/CEsP4BtvvMHp06dxOp2cOnWKt956i/Hjx3set1gsLFmyhLKyMpqbm1m/fj1FRUUdzhEfH89zzz1HZWUljY2NvPvuuxQWFobE/v371fy/8eOzTV0BDB0FoKKYay6sr62ALrnkEs/3/W0F5HA4qK2t7fDlD83Nbo4dU/PszCQAQcLAoUJR2kLAI0JzCeqRoVol8LFTxtoRLejev/T43vv1BZOMBND6/XNSvIBRRVgKwHBHbwA9blyWwZb0je6hbGlxU1XVbLA1beitgP7xj3/wwgsvUF5ezsyZM6msrOyxFZDeLBz63wpo6dKlpKWleb78/dBw6FArigJpaRZycsz15yiVwKHhXBXUNagh2GE+VG8GgyESAg4px6vVY39nAAcCi0UKQaIVc73jRAkHDqgCcOxY8wvAuDg7GRkJgLnCwPPmzeOmm27y5G3+/e9/B9RQr053rYD6oq9WQIGsBAc4eFAN/44ZE2M6b7D0AgwNevh3UC7EG+QF0tE9gCIAQ8MxgyuAdfRWMNIMOroQAWgA4eQBBHPnAep40wro3Llzntv9bQUUyEpw6CgAzUZBgbmngURKJfhhtT+94fl/0OYBlBBwaAjUFBB/GSwewKhEBGCIcbncfPVVJRAeHkBoE4CnT5u3GbQ3rYA+++wzz/f9bQUUaL76yswC0PwewEioBDdDCxgd3QN4qgJaWoy1JRrwCMB0I61oKwQRD2B0IfU+IebEiRqam1uJi7Mx1Oi/ei8ZONB800AefvhhrrvuOgYPHkxFRQW/+MUvum0FNGrUKEaNGsWTTz5JQkICNTXqR9z2rYAyMzPJyMjg4YcfDlkrIJ1w8ACWlprTAwiRUQluJgGYmwlxseBwqg2hhxtclBLp6CFgoyqAdcQDGJ2IBzDE6Pl/o0dnYrOFx39/fr7aPqeszDwhYL0V0JgxY7jxxhuJjY3t0gpo8eLF3HPPPUybNo1Tp06xatWqDudYtmwZCxYsYOHChVxyySUkJiby7rvvhqQVEKgi5eBB1bs2erQZBaD6+fDkSfN6AI2oBIfAVoObpQUMgNUafpXA4ZwKYJYQsHgAo5PwUCARhJ7/Fy7hX2gTgGYKAfenFVD7x8HYVkAAlZVuqqvVJssjR5rPGa97AM+eddPcbL5m0EZVgkNgq8HN0gJGJ9wEIIRnKkCdA841qreNDgbpHsATNWpbIiE6MN+7ToSzb19bD8BwQQ8Bm0kARgJ6/l9hoY3ERPN9FsvIsJKQYKGpSeHUKRcjRpjLxnnz5nluT5w4keLiYkaMGMErr7zCjBkzgOBUgoNaDf7ggw96vq+tre2XCKyuVdvAgLFTQNozTBeAYVQJHI6pAEe133tmAqTFB+UlvEZvA1PvhBqH2pdQiHzMdUWPAsJRAJoxBBwJ6Pl/Zgz/giqezF4J3J5QVYJD4KrBD5aox/wcSDHJUKBw9ACGY1P4I7rwH9D7ulCQGKMKUWjrTShEPiIAQ4iiKGEtAE+frjPdNJBwZv9+VQCOG2dOAQhteYClpebNA9QJx0rwr7QWMKOHhuTlvEIXgEdD2w2n34RrU3iPAMzw6WlBQy9EOSGFIFGDhIBDyOnTddTUOLDZLIwaZZK/ei8YOFAVgI2NLdTVOUk1amZRhBEOAnDIEPUScfy4+QRgJFSCf3VMPY4eEpKX8wo9F7EkTASgUakA/qYBmMkDCDAkDb4oaxtPJ0Q+4gEMIXv3qt6/kSMziIsLH+2dmBhDWpoq+k7KsMiAER4CUA0Bm1EARkIluB4CHjMsJC/nFcO1cXSnK6DJPNMfvSZcmsIfOa8ezSQAQQRgNCECMITs2VMBQFFRjsGW+E6hliV86pQIwEDQ1OTm6FFVVJlbAJrXAxgJleAHj6lHM4WAB6RBmur0DxsvYHvCJRXgsAk9gCACMJoQARhCwlkAFhSon27FAxgYDh5sQVEgPd1Kbm5ovE39wcwCMNxpbYUDaq0CE0Yaa0t7LJY2L2A45AE+/PDDrF+/npKSErZs2cK//Mu/dJsKsGrVKvbs2cN3v/tdEhISPM9vnwqwdu1aduzYwW233RbUVICmlrZiizEm6Qim5wBKEUj0ED5xyAhADwGHpwBUXQIiAAPD7t1q+HfSpJg+W44YiS4AT5xwedUeRfCewyfA2QKJCW0zeM3CiELYsb+tSbWZ0VMBzp07R3Z2NjNmzOiSCtDU1MQ999xDVVUV06dPZ9WqVRQXF3vOsWzZMux2OwsXLqSpqYnZs2fz8ssvBy0V4EgVKEBaHGQnBuUlfEY8gNGHCMAQ4XYr7N2regAnTAifCmAd3QNYWioCMBDs2uUEYNKkWIMt6Z3CQjsWCzQ1KZw96yYnx7zeynBj72H1OGGkOoHDTOgj4I6cMNYOb3jjjTd6fVxPBViyZInnvs4tW/RUgOeeey4YJnbhoDoOnjGZqsfVDAxLV49nGqDBCUnmvjQJAcBkl53I5ciR8zQ0tJCQYGf06EyjzfEZCQEHli+/DA8BGBtrYdAgVfSVlEgYOJDsOaQeJ4ww1o7uGKVVJR86bqwdkcpXmgA001vBgAQYoDWALqk21BQhRIgADBE7dqhVaEVFOWEzA7g9IgADS7h4AAFGjFADBYcPtxhsSWTx5UH1OHG0sXZ0hy4AvxIBGBS0kfCMMZEABBiuFaQcqep9nRAZhJ8SCVN27lQF4AUXdB1XFA5ICDhwnDzZypkzbqxWKCoybwWwzogRqo1HjogHMJB8sU89Xji+93VGoFclHzsFTqehpkQkWjo4E0yWDq5XJOstaoTIRgRgiAh3AThEKxGrrm6mpiYMm4OZiC1bHABMnBhDUpL5/wRHjhQPYKCprIbj2qzdKeMMNaVb8rIgORHcbigJo5Fw4YBbgX26ADRZOrjuATxabagZQogw/7tPBKAoCtu3lwEwZUp4CsDk5FgytWGRx6VMzC90ATh9enhMVBEPYODRvX8jB7f13DMTFku7MPAxQ02JOEqqoKkV4mzm6QGoo9tzWDyAUYEIwBBw8mQtFRUN2GyWsPUAAgwdmg7AsWPVhtoR7mzeHG4CUPUAHjokHsBA8fku9Th1grF29Ma44epx3xFj7Yg09PDvuGwwWzq4XpSiF6kIkY3Jtl9ksm2bGuspKsohIcH8OV89oQvA49IptN80NLg9AvBrX4s32BrvGDNG3bNnz7o5d85lsDWRwcad6nHmBUZa0TtFo9Tj7q+MtSPS2HVGPRaZLPwLMFZrSn2sWm1WLUQ2IgBDgC4Ap00zWbdXHxEPoP989pmDlhYoLLR5PGtmJznZytChqq1798q7gr+43bBpp3p75hRDTekVXQDq7WqEwPClJgAn9zxm2DCyEyEjQW1SLV7AyEcEYAjYuFGdpzR9+iCDLfEPXQCWSJOofvPRR00AzJ6dEFZTNfRq5T17pCTUXw4chapaSIiHyWOMtqZndAG4/yi0iO4PGLvUeQBMMqEAtFhgrBYGPiACMOIRARhknE4XW7aoAvDSSwcbbI1/DNdKxA5LhnC/ef99VQDOnRse4V+dCRNUASgeQP/55xb1OPMCiDFxRsiQfLUS2NkCB0qMtiYyaHDCIU1YmdEDCG1hYL1SWYhcRAAGmR07ymhqaiUjI4ExZpn63U/0CSaHDp3H7VYMtib8OHashb17W7DZ4OqrE/p+gomYOFFtWL1zp3gA/WXtZvU4e4axdvSF1QrTitTbn+821pZIYdcZNbyamwS5yUZb0z0Ttd6EWucyIYIRARhk1q5VPzpfeulgrNbwCfl1x9Ch6cTEWGlubqW0VFrB+MrbbzcCMHNmHBkZ4TVT9+KL1YrlL75w4HSK+O8vLS2w7nP1ttkFIMD0Sepx85fG2hEpfK71frzYxNlAeqq61rlMiGBEAAaZ995TS+i+/vVRBlviP3a7lZEjMwA4eFASRHxl5coGABYuTDLYEt8ZOdJOZqYVh0O8gP6wfivU1EF2hrlbwOjM0ASgXrQi+MfnWlPti01cD3hBHliAU3VQXm+0NUIwEQEYRM6cqWfzZjX/LxIEILSFgb+SEjGfOHiwha1bndhs8M1vhp8AtFgszJihegE3bXIYbE34smqterzhSrCFgRNYr1LeexjKJCfMb7boAtDEHsDk2LY8wK0yBSaiEQEYRF5/fTeKAhdfPIhBg1KNNicgjNWuDHv2VBhsSXjxu9/VATBvXgK5uWHwzt8Nl12mFq6sWdNksCXhicMJf1qt3r5xjrG2eEtOZlse4OpPjLUl3CmvhyNVqnftIhN7AAH0esW1xww1QwgyIgCDhNut8OKLXwDw/e9fYKwxAUQfZbdjh2QIe0t9vZuXX1ZjKT/8oQnnfnnJ17+uFq6sXdtMY6PbYGvCj3fWwrkqyM+Bq2YabY33XHuZenznn8baEe6sP64eJ+fBAJPXgF0zQj2uPmysHUJwEQEYJN577yv27z9HSkost9xSZLQ5AWPKlIEA7Np1htZWEQHe8PzzdZw/72bkSDvz5pn8yt8LEybEMHiwjeZmhdWrxQvoK8tXqsfv3wj28OgBDsDCa9Tje+uhVAoD+s3Hx9TjrCGGmuEVs4eBzQIHK2G/hP4jFhGAQaCpqYXHHlOTfe655yLS0sKr51tvjByZQXJyLM3NrRw8eM5oc0xPXZ2bp55SK6YffzwNmy18K8EtFgvf+paav/j883UGWxNebN0Nn2yHGDv86y1GW+MbE0bBrIvB5YKlLxhtTfiiNYTg8jAQgGnxMH+0evs324y1RQgeIgADTHNzK9/73jvs23eWvLxkHn44jGI9XmC1Wjxh4E2bThpsjfn59a9rOHfOzahRdm67zaSNv3zg7rtTsFjgo4+a2bFDikG85WfPq8dbrlVDwOHGf92tHv/vTVi3xVhbwpFDlXDoPMRY4cphRlvjHfddpB5f+KJtfrEQWYgADCAbN5YyatRzvPnmXux2K6++uoCsrESjzQo4V1wxFGjrcSh0z4EDTn71K9X79+STA7Dbw9f7pzN0aAy33KJ6AR9/vNpYY8KEDdvgvY/Vql9dSIUbV86AO24CRYGbH4LDx422KLz4QMulu2wwpMYZa4u3zB4G80aCwwWXvwJPfQZl4viPKEQABpARIwZw/nwTBQWprFp1M1ddNcJok4LC7NnDAVi79qhMBOkBl0vhrrsqcTrV4ombboqcDwJPPJGO3Q4ffNDEX//aYLQ5pqbZAff8TL39g5tg1FBDzfGL//djmDIOzp6Hq34Ap8Qr5DVv7lWPelg1HLBY4NUFas/C6mZ4dC3kL4MLfgs/Ww/nGo22UPAXEYABJDc3mTVrFnHo0P3MD6e/dB+ZMaOA5ORYzp5tZNOmUqPNMR0Oh8Ldd1fyyScOkpIs/O//ZmKxhL/3T2fUqBgefTQNgB/8oJIjR2Q+cHe0tMBdP1V76GVnwH8vNtoi/0hMgA9+CyMHw7FTcOX34LR0g+qTw+dh40mwWuCWMGj+3Z6sRPj0e/DSdTBD61345Rn46XoY+Rz87aCx9gn+IQIwwMycWUh8fBiV+PWD2FgbN944DoDXXttlsDXmwuFQuPji07z4otr25aWXshgyJPL2w3/9VzrTp8dSVeVmwYIK6uulIrw976yFsfPhtb+pM3VfXQqZ6UZb5T+5WbDmJRg8EL46BlfdAWekFqxXlmmzn+cOh4Fh2AUqxgbfnwKb7oAzD8ErN6jTQmocsOBN+O9P1NQAIfwQASj0i+98R50RtXLlbs6fl5YgOnFxFubOTSA728rbb+dw883hN/XDG+LiLPz1rznk5dnYs6eF733vnKQDtKOlFY6Wqp6/t5+Day4z2qLAMXQQrH8VBuXCviMw41uwc7/RVpmTz07AizvU249eYqwtgSAnCb4zGT6/A+6ZBgrwn+vgpj/DGRkbF3aIABT6xRVXDGPSpFzq6pwsXSojAtrz85+ns3fvIG64IXLy/rojP9/OW29lExMDf/lLIw8/XIUirgAAbrwKXvgZlHwI111htDWBZ+ggWPcHGFGohoOLb4UX/yKeoPYcPAfXrASnC64bDbOGGm1R4Iixwf9eC7/9ulrZvOoAjHgOHvyH5AaGE1EvAH/zm98wbNgw4uPjmTp1Kp98ImLGG6xWC//931cC8Mwzm1m//pixBvlJIPdBfLyV7OzwHPfmKzNnxvPii+p4wGXLavnOd86F7ZSQQO4BqxV+8C+QFMGfAUYNhc/fhHmXqcUud/4EbrgPKquNtqz/BHIPjMqEb46HK4fCGzcFzkYzcddU2PR9dbRdQwss26IKwWc2gcwJMD9RLQDffPNNFi9ezOOPP86OHTu47LLLmDdvHidOnDDatLBg/vzR3HbbJNxuheuu+yMffHDIaJP6hewD//jOd5J54YVMbDZYsaKBSy4pZ8uW8OoRKHugf2Skw3vPw68egtgYeHcdTP4G/OmD8PMGBnoPWC3w4nXw3rcgMSbAxpqIqfmw5Q744FaYkge1DnhoDcx4CXbI5Bhzo0QxF198sXL33Xd3uG/s2LHKj370I6+eX1NTowBKTU1NMMwLCxoanMqsWS8rsESBJcp3vrNK2bSpVGlpcRltWhd6+n35sw9kD7Txz382KtnZxxUoUaBEmTWrTFm5sk6pqzPPXgjGHujtvNHElwcUZdQ1isI49avoekV5+g+Ksu+worjMswUURen+9yV7wH9cbkX53XZFSfulovCEolieUJRv/1VR3juoKHvOKMq5BkVpdCqK2220pfL7UhRFibzyRC9xOp1s376dH/3oRx3unzt3Lhs3buz2OQ6HA4ejzbNRW1sbVBvDgcTEGFav/jYPP/why5dv5dVXv+TVV78kJSWWceOyycxMICHBmI+/sbE2/vjH3mMvvu4D2QM9c8UVCezcmc/jj1ezYkU9H3/czMcfNxMTA+PGxVBQYCc+PvTtcB54IJXLL+95HKNcCwLDpDHw5Sp46iX41Uuw5xA89JT6lZSgFo3YbWo7maQESE9Rm2OHggkj4Wf39/y47IHAYLXAnRfC/FHw7x+q/Q9f361+tSfeDrlJ6ldijDp6LhRTMpfPC89K7GARtQLw3LlzuFwucnNzO9yfm5tLeXl5t89ZunQpTzzxRCjMCyvi4uw899y13HbbJJ5+ehMffXSUqqpmPv/8lKF2edOOx9d9IHugd/Lz7fzhD1n87Gfp/O53dbzxRgOHD7eya1cLu3YZ0y/wG9/oPRFPrgWBIyEefnov/NsiWPl3+PM/YMsuaGhS28YYRV95ibIHAsvAFDXv8T+K4f+2q30Qy+qgqll9vLkVjteoX6HkV3NC+3pmJ2oFoE7nBr2KovTYtPexxx7jwQcf9HxfW1tLYWFhUO0LJ6ZPL+BPf/omLpebXbvOcOJEDefONdLSYkw2sM2Hj5Te7gPZA95RWGjn5z8fwM9+lk5JSSsHD7Zw6pSL1tbQJ4ZdfLF3s7fkWhA40lPhnm+pXy4XHDoOZyrVvMC6Bmhshura0OUJejt/WfZAYJmaDy/kt33vdKnir7IRyuuhohGaWtSegqHYC9kRXJTVH6JWAGZlZWGz2bp8uquoqOjyKVAnLi6OuLgwGeRoIDablSlTBjJlykCjTekTX/eB7AHfsFgsDB8ew/Dh5s2Cl2tBcLHZYOxw9cusyB4IDbE29Ss1DoYNMNoaIWqrgGNjY5k6dSpr1qzpcP+aNWuYOXOmQVYJoUb2gSB7QJA9IEQjUesBBHjwwQdZtGgR06ZNo7i4mN/97necOHGCu+++26vnK5rPWpJ/wwP996R0ijX4sw9kD4QXwdgD7c8n+yA86G4fyB6ILnq6FkQVxhQfm4f//d//VYYMGaLExsYqF154obJ+/Xqvn1taWqqgTsORrzD6Ki0tDdg+kD0Qnl+B3AOyD8L3q/M+kD0QfV/dXQuiBYuiRLP89Q+3283p06dJSUnxJArricClpaWkpqYabGFXotk+RVGoq6sjPz8fqzUw2Q+yBwJPuO0BkH0QaIJtm1wLVKLZvmBdC8KJqA4B+4vVaqWgoKDbx1JTU035B6UTrfalpaUF9HyyB4JHuOwBkH0QLIJpm1wL2ohW+4JxLQgnolP2CoIgCIIgRDEiAAVBEARBEKIMEYABJi4ujp/+9Kem7Q8l9gUfs/8MYl9oMPvPYWb7zGybL5j95xD7ohspAhEEQRAEQYgyxAMoCIIgCIIQZYgAFARBEARBiDJEAAqCIAiCIEQZIgAFQRAEQRCiDBGAAWLDhg1cd9115OfnY7FYePvtt402ycPSpUu56KKLSElJIScnhwULFnDw4EGjzfLw/PPPM2nSJE+zz+LiYj744AOjzfIZM+8BkH0QKsy8D2QPhAbZA/0nUvZAOCACMEA0NDQwefJkli9fbrQpXVi/fj333nsvmzdvZs2aNbS2tjJ37lwaGhqMNg2AgoICfvnLX7Jt2za2bdvGlVdeyQ033MDevXuNNs0nzLwHQPZBqDDzPpA9EBpkD/SfSNkDYYFxY4gjF0BZtWqV0Wb0SEVFhQL4NOg81AwYMEB58cUXjTaj35h9DyiK7INQYPZ9IHsg+Mge8J9w3wNmRWYBRyE1NTUAZGRkGGxJV1wuF3/+859paGiguLjYaHMiGtkHguwBQfZA9CICMMpQFIUHH3yQSy+9lKKiIqPN8bB7926Ki4tpbm4mOTmZVatWMX78eKPNilhkHwiyBwTZA9GNCMAo47777mPXrl18+umnRpvSgTFjxrBz506qq6t56623uP3221m/fr380QcJ2QeC7AFB9kCUY2wEOjLBpDkf9913n1JQUKAcPXrUaFP6ZPbs2cpdd91ltBn9xqx7QFFkH4QSs+4D2QOhQ/aA/4T7HjAr4gGMAhRF4f7772fVqlV8/PHHDBs2zGiT+kRRFBwOh9FmRBSyDwTZA4LsAUFHBGCAqK+v5/Dhw57vS0pK2LlzJxkZGQwePNhAy+Dee+9l5cqVvPPOO6SkpFBeXg5AWloaCQkJhtoG8OMf/5h58+ZRWFhIXV0db7zxBh9//DGrV6822jSfMPMeANkHocLM+0D2QGiQPdB/ImUPhAXGOR8ji3Xr1ilAl6/bb7/daNO6tQtQ/vCHPxhtmqIoivL9739fGTJkiBIbG6tkZ2crs2fPVj788EOjzfIZM+8BRZF9ECrMvA9kD4QG2QP9J1L2QDhgURRFCY60jHzcbjenT58mJSUFi8VitDlCHyiKQl1dHfn5+VitgemBLnsgvAjGHgDZB+GGXAuEYF0LwgkJAfvB6dOnKSwsNNoMwUdKS0spKCgIyLlkD4QngdwDIPsgXJFrgRDoa0E4IQLQD1JSUgB1A6WmphpsjdAXtbW1FBYWen5vgUD2QHgRjD0Asg/CDbkWCMG6FoQTIgD9QHfz60OrhfAgkOEZ2QPhSaBDdLIPwhO5FgjRHK6PzsB3GOBSoFWyMwVBaIcbt9EmCCZDQd4ohP4hAtCEvFINiQcg+yAclNZHAnCaJq5lM99kK/upM9ocwQA2sJ5f8SRfstNoUwQTUMMOPucmdvJ9XDQbbY4QhogANBlOBR6vUI/Vbvivs0ZbJJiB33KcSpycoIlfc7jvJwgRxXGO8xEf0kQTb/FnznHOaJMEA1Fws5+f0MxJ6tjHKf5otElCGCIC0GS8XQunWtu+/3MtnG4xzh7BeGpp4UMqPN/vpY7jNBpokRBq9rC7w/e7+dIgSwQzUM9BnO2uCad5S0LBgs+IADQZaxrU40MZMC1evf1hg3H2CMazi1rcwGASKGYAAOupNNYoIaQcowSA0YwBYC97jDRHMJhKNgCQwSVYicPJWRo5YrBVQrghAtBkrNccO7OS4Opk9faH9cbZIxjPl9QCcAFpTCMdgL3afULk00gjFZwB4BrmYcFCBRXUyh6IWmq1DwCZXEY6UwE4zyYjTRLCEBGAJqKsBQ45wQJcmghzk9T71zWCzGuJXr6kBoDJpDIBtWfVXikEiRrKOI2CQgaZZJFNDjkAnOKkwZYJRtHIMQASGUE6FwNQI8VBgo+IADQR27VCrglxkG6DaQlgA8pbO+YFCtGDgsJh1ByAcaQwlhSswFmcVCAl4tHAeS3cn0UWAINQpxaIAIxOWqn35P8lMpRUigCoY5/kAQo+IQLQROzR3s8nxanHRKsqBgG2Nhljk2AslThpwIUVKCSBBGwMIxGAr5DcgGigUhOAmWQCUKAJwJMiAKOSRo4DEEsmMaSSxCjARgvncbQrDBGEvhABaCJ2ax7AifFt912UoB63SZunqOSYVu07iARitT/XYai5ASVSCRwVnO8kAAeSD8AZyg2zSTAOPfybwFAAbMSTxHAA6tlnkFVCOCIC0EToHsCiuLb79Erg7eIBjEpKUH/xQzWvH+DxAB4TARgVVHIegAxNAGZrOYAN2j8humjWPL8JFHruS2YsAPUcMsQmITwRAWgSWhU44FRvtxeAkzUBuFvSvaISvd/fUBI89w0VARg1uHFT1UkAxhJLulYNfhbpFB9tOLSK8HjyPPclMQKABmkFI/iACECTcKJFnf4Rb4HBMW3362LwdCuck0KQqOOk5gEs6EEAStJ3ZNNAA620YsFCGmme+7PIBuCc5HxFHXqeXxy5nvuSGAlAg0wJEnxABKBJOKx5/0bEgtXSdn+KDYZrglC8gNFHuVbpO5C2xNDBJGAB6nFxHhkTE8nUab3+kknGhs1zv94KpkI8gFGH7gGM0/YAtHkAmzmFC8kXErxDBKBJ0AXgyNiuj+lFIbukECSqUFAo04a8txeAsVjJQ3UNn5SLfUSjN3tOIbXD/XpLmEqZCRxVKCjtBGCbBzCWDGIYACg0alNjBKEvRACaBI8AjOn6mB4G3isewKiihlaacQOQS1yHxwq1kLAIwMhGF4CpnQSgng+o5wcK0UErtbi1qEB7DyBAIsOAtiphQegLEYAm4VAvHkC9F+A+EYBRhe79yyKWuE5/qnpOYKkIwIimVpsC01UAZgBQRRVu7UOCEPno3r8YBmDt9KGwTQCKB1DwDhGAJuGIFwJwr0NGwkUTugDM63Shh/YCUPICIpk2D2Bah/tTScOGDRcuj0gUIh+nlvMZqxUBtSdR6wsoHkDBW0QAmgBFgWNaLv+wbgTg6Fj1F1XtVsfCCdHBGS3Uk9cu/0+nUDyAUUFPIWArVgYwAGjrEyhEPk7tdx2reYDb0yYAxQMoeIcIQBNQ4YImBSxAYTc5gPHWNs+g5AFGDxWobuEcun4qKNBE4SmapBVMBFNHHQAppHR5bIAmAvRJIULkowvAmG4FoBoCbuIUbu3aIQi9IQLQBJRof6uD7BBr6X7NOC0KeFD+rqOGc5oHMLubEHC+JgDrcVGDuIUjlfpeBGD7PEAhOmjRftfdeQBjycJGIuCmSeZEC14gAtAE9Bb+1RmjPXZAPIBRw1ntU3xWNx7AeGxka/dLJXBk0korTdrvNonkLo+nayHgahGAUUNvIWALFk8YuInjoTRLCFNEAJqAEk0ADu0m/KszVjyAUcdZjwew+08G0gomstHn/FqxktBuEoyOngMorWCih5ZeQsAACQwGoFEEoOAFIgBNwDFN1PUqAMUDGFUoKJzTPIDdhYABBmlh4JNSCRyRNFAPQBJJWLu5VEsIOProzQMI7QtBRAAKfSMC0AQc98IDOEbTAKWtUC9tvyKeelyeJtDdhYBBegFGOnoBSHI3+X/QFgJupBEH8skwGujbAzgEgCZpBSN4gQhAE6ALwMG9CMAMG2Rpo0APSxg44tHDvynYiW83A7Y9EgKObHQPYHI3+X8A8cR7QsPiBYx8FFy0UA145wGU7gBCX5hOAG7YsIHrrruO/Px8LBYLb7/9dofHFUVhyZIl5Ofnk5CQwKxZs9i7d2+HNQ6Hg/vvv5+srCySkpK4/vrrOXmyY1VUVVUVixYtIi0tjbS0NBYtWkR1dXWQf7quKEqbABzSiwAEGKU5gg6JAIx4KrXwb2YP3j9oLwAlBByJ1PUhAKGtFYzkAUY+LdQACmAhplNjcJ0ECgArLho83kJB6AnTCcCGhgYmT57M8uXLu338qaee4plnnmH58uVs3bqVvLw8rrrqKurq6jxrFi9ezKpVq3jjjTf49NNPqa+vZ/78+bhcLs+aW2+9lZ07d7J69WpWr17Nzp07WbRoUdB/vs6c03oAQvc9ANujC8Cv/Ij21LnALR8MTU+bAOx5U+g5gNW0UCetYCKOvjyA0JYHeF7e7CMe3ftnJwUL9m7XWIklnnxAJoIIfdP9LjKQefPmMW/evG4fUxSFZ599lscff5wbb7wRgFdeeYXc3FxWrlzJD3/4Q2pqanjppZd47bXXmDNnDgArVqygsLCQjz76iKuvvpr9+/ezevVqNm/ezPTp0wF44YUXKC4u5uDBg4wZMyY0Pyxt3r88u9rwuTdG6wKwHx5ARYH/OgtLz8HXk+GdQrD00HNQMJ7zqBujNw9gEnYyiaUSJydpYlwPuWK9cYImTtBIMRnYkA1hJvQq4O5awOiIBzB6aNFG/sWQ3uu6RIbSzEkaOU46U/v9egoKZfwVcJPLddi6mUgkhDem8wD2RklJCeXl5cydO9dzX1xcHJdffjkbN24EYPv27bS0tHRYk5+fT1FRkWfNpk2bSEtL84g/gBkzZpCWluZZ0x0Oh4Pa2toOX/5ywsvwL7TzAPZDAG5qgv8+B27g3Xp4WcaHmhpvQsDQNhGkP4Ug/6CChWzlIfayjCO+GykElXqvPIB6KxjJAYx0WjUPYN8CMDCFIJVs4DBPcZj/4RC/8utcgjkJKwFYXl4OQG5ubof7c3NzPY+Vl5cTGxvLgAEDel2Tk5PT5fw5OTmeNd2xdOlST85gWloahYWFfv080CYAeysA0RmtVQL3RwD+bycHwYpq388RSoKRC3rLLbd0eR2z5IJ25rwmADP6EIB6HuAJHwVgPa0s44gnTfzPnOYrTXAI5kD3ACaS1OOaAVEQAo72a4FOi0cAdp//p5PgKQQ55tfrneAPntvnWItLis0ijrASgDqWTrFLRVG63NeZzmu6W9/XeR577DFqamo8X6WlpT5a3pX+eADPu6DSh5QvpwJvaymSKwapx0+boMHE7WSClQsKmDIXtDOVnhBw7xtjCIkAnKDRp/N/QAVVtDCYBC4jE4C1nO2HpUKwaNQEYHIvAlDPAaymCjcm/oP2g2i/FujoIWB7Hx7AJG0mcAMl/X4tB2epZz9gwUYibhxUsaXf5xPMSVgJwLy8PIAuXrqKigqPVzAvLw+n00lVVVWva86cOdPl/GfPnu3iXWxPXFwcqampHb78xRcPYJIVCrSsTV8mgnzeBI0KZNvgW6mq2HQqsL7Bd3tDxbx58/jFL37hyfVsT+dc0KKiIl555RUaGxtZuXIlgCcX9Omnn2bOnDlMmTKFF154AYB169YBeHJBX3zxRYqLiykuLuaFF17gvffe4+DBg6H7YbvBWw/gEM0DeNzHT+drqADgGwxkLtkArOOcr2YGlWj2/Lhx06iJ+t48gKmkYcOGCxc1RGZeR7RfC3RavA4BDwXASQWt/fTqV7MdgGTGkMt87b5t/TqXYF7CSgAOGzaMvLw81qxZ47nP6XSyfv16Zs6cCcDUqVOJiYnpsKasrIw9e/Z41hQXF1NTU8Pnn3/uWbNlyxZqamo8a0KFLgALvSzHGdOPkXD/1ITeFUlgtcDlqtOIbWHaPaS/uaADBw4E8Pze+5sLGgq8zQEc7PEANnnd96sSJ19SiwWYTTYzNS/ScZqo0TyPZiCaPT/NNHs8eona77g7rFg9XsBKKvv9egoK6/mYF/gtZ+j64disRMO1QMfbELCdFGK1D3X9DQPX8AUA6VxICuMAaJA84YjDdFXA9fX1HD582PN9SUkJO3fuJCMjg8GDB7N48WKefPJJRo0axahRo3jyySdJTEzk1ltvBSAtLY077riDhx56iMzMTDIyMnj44YeZOHGipyp43LhxXHPNNdx555389re/BeCuu+5i/vz5Ia0ABt88gABjYmFtg2+tYDZo0cErtPeRyfFADewKUwHYWy7o8ePHPWu6ywUFPN7f/uSCOhwOHI62//xAFAJ1xoVCtSbEMvoIARdobaIbcXEWJzk9jI1rz3btjWQ0yeRq6wuI5yTNfEU9F9H1/8wIgtER4IUXXmDs2LGsW7eOG2+80VQdAdqjt4CJJx57H5fpTDI5y1nOcw4Y2a/X28421qJ+aP4jr3Mv9xPTx94zA5F+LWiPtx5AUL2ATs7SyFFSKfL5tWrZDUAaU4hD/b9t4DAKChbpFhAxmM4DuG3bNqZMmcKUKVMAePDBB5kyZQo/+clPAHjkkUdYvHgx99xzD9OmTePUqVN8+OGHpKS0tcBYtmwZCxYsYOHChVxyySUkJiby7rvvYrO1TVR4/fXXmThxInPnzmXu3LlMmjSJ1157LaQ/q8MNZzRHhC8CEOCAlx5AtwJbtehgsSYAJ2kaYVeYT4/qTy5o5+f5mgsajEKgztTQghuwAOl9eABjsJKvhYGPeZkHuEMLFU5p50kYpVWafoWJ8wLaEemeH29awOhkkAXAOT88gNvY6rl9nkqOhpm3J1KvBe1p9bSB6d0DCJDEcKB/eYAumj2ew2TGaSFlG63U4pQ84YjCdAJw1qxZKIrS5evll18G1D/SJUuWUFZWRnNzM+vXr6eoqOMnnPj4eJ577jkqKytpbGzk3Xff7fLHmZGRwYoVKzztXFasWEF6enqIfkqVk1ohR4IFMruf9tWFcZp42++leDvghFo3JFpggvbcSVo7p8NOcxeC9IQ/uaCA55N+f3JBg1EI1JkqzfuXRgx2Lz5tD9dChEd9FIAXtnsjGa3lmYVLJbA/HQHAP88PBKclVHvaBGDP+X86WVoRT2U/czgrqeQ0p7BiZYLmLfoKc+S99UWkXwva09YIum8BmMgIABr7IeQbOAS4iSGDWLKwEkcig7XHDvf+ZCGsMJ0AjCY8+X8x3jdl1gXgYadayNEXn2vev6kJYNdeI8cOOTZ1qJC3QtJM9DcXVH+TuPjii4H+5YIGoxCoM1Va/t8AL0NwwzWRcNQL7109rR5P4UTabNc9gCU+VhMbjRGeHwi+96dNAPac/6eTqXkA+ysAD/MVAEMZxhQuBMJHAEb6taA9LagfMrwJAbd5AI/6/Dr12u8+mTGecG+Cp7fgyR6fJ4QfpssBjCZK2wlAbxlkhxQr1LnhkAMm9NGcXQ//XtRp3ahYqGiCI06YluD964eKYOSCLl68GIArrrgCMFcuaHv0KSDeCsARmkg44oUAPEg9CjCQuA4VxgWeucJNYZHn097zo4d1oWfPT2cvoD+eH1C9Pw8++KDn+9ra2oCKQF9CwNmoP0sVVbTQ4nPu3nHUXLlhDGMIQ7FgoYYa6qnvtQl1qIjma4GOQisuzTtvp2+hmai1gnFylhZqvAob69RrHwiSGeu5LwG1f1gzp7w+j2B+xANoIKU+VgCD6ikcp71v7/ciD3CbLgA7ibwR2jmO9KOpdCgIVi4oYLpc0M6c9xSA9J7/pzPC4wFsxN1HJfA+1ArZsZ3GxuUTjwVowOUpQDEzRnp+IPjen7YWMH17AJNIIoEEFBSfvYAKCse0PLEhDCWOODK0kHI5ZT5aHRyi+Vqgo3v/AGK8GPloJ5k41A9GvoZt9fXJjPLcF68JwCYRgBGFeAANpFTLAfTFAwgwPg4+b4Y9zfAvvbzvtCjwpRbindrJA+gRgCZ9r9dzQXtCzwVdsmRJj2v0XNDnnnsOUL00aWkdPwnruaBmosrTA9C7jTGYBOKw0oiLkzQzmJ5dugc0L8K4Tp6dOKzkEMcZHJykmQFeis9gEs2en0YvpoDoWLCQRTalnOAsZ8ljYJ/P0amiinrqsWFjEAUADGQglZyjjDJGthMBRhHN1wKdVk8T6BQsXr5tJzMKB2U0cMjrmcAKLk+7l6R2FeXx4gGMSEQAGkh/QsCgFXHU9F3Fu9cBDgXSrG2CT2ek9v1hk3oAo5kqH0PAdqyMIok91LGP2l4F4H7NAziuGy/CIOI1AdjUIT/QKLZt2+YRaoAn5Hr77bfz8ssv88gjj9DU1MQ999xDVVUV06dP79bzY7fbWbhwIU1NTVx++eVAV8/PAw884KkWvv7663vsPRgqfCkCAcghh1JOUKE1+PaWU1pO10DyPaHjPAayh92UcdqncwnBQ/cAelMAopPEaCrZ4AnpekMzp3DTjJU4ErQPBNAxBBwOKSKCd4gANJD+CsDJmjfvyz76+HkKQOLVBtDtGaG9pllDwNFMWw6g91648aRoArCea+g+d62GFk6hbpqx3eR2FZDAF9Rw0iQzP6PZ8+NLCBja8gDP+igAT6JWrg5q92afq+0fX88lBI+2FjDefzBLZjTgWwi4nkMAJDIcC20fktRwshU3DpxUEqcVHgnhjeQAGkh/cgChrY/f0Raoc/W8TheA07txCA3XtMWpVrUfoWAezvsYAgZVAALsped2JAe18O8g4knt5tyDUD9ZlBGGpeERRqOPHkBdtJ2h59Y13XFS8wAWtBOAWdoUiUoqI3a+cLjRNgfYFw+gGr5v4AhuL/N62wpARne434qdOG1fOHzcY4J5EQFoEPVuqNaurQU+egCz7Go1MPQeBt6iC8BunAhZNrX/ILT1IxTMQZWPRSAAkzXPwH7qaaD7X+h+TwFI95Wd+lSQMyIADUVB8dkDmItaFX2e8zjxzq3vwuUJ8w7SQnwA6aRjw0YrrRE7XzjcaPGhCbROPAOxk4pCq9dj3NpawIzu8pg+EcQRRqMChd4RAWgQp7QPZClWSPOyCXR79KKOrT1E6+pcsE97H+/OA2ixtE0fOWHSQpBoRa/CTffBA5hPAvnE40LxNHruzF5NAE7oIYykC8BywnRGYITgxEmrJuK9KQIBSCaZJJJQULwO3VZwhlZaO1T+AtiwtZsv3L/egkJgaSsC8T4EbMFCMmohU72XfR0bPB7ArgVQcdqHDPEARg4iAA2iv/l/Onpbl54E4KeN4AaGxUBeDyFmXQAeFwFoGppx0Yga1/e2CETnIq1B7FZtYkB7FBT2aAKwqIc2EnmaAKzAgdJHOxkheOjh3xhiiPXBC6x7Ab1t33JKq+jMZxDWTm8FWZ7xciIAzUBbE2jvPYDQ1suvngN9rnVSiZNKwNKhAlgnXttfzSIAIwYRgAahh10L+lmGc7EmAD/vwVnzsTbQ4YpeHAhDxANoOvTwbywWkvDNNTwDtdnxp1R2EXDlOKjEiQ0LY3oIAWcThwVwonjsEEKPr+FfnTztDbrMawGo5v+1LwDR8Xe6iBBYWvuRAwhtnrw69vW5to69ACQyFFs3nQQkBBx5iAA0CH89gPr0jsNOONtNytc6bSjEFb28h0gI2HxUtasA9rXVwgwyiMXCSZq7jHTbqb2BjCaJ+B6EZQxWsjSPk+QBGkeDDz0A2zOQfMB7AahXABd0IwD1EHAVXefnCqGnzQPoW3umVG22cwOHcPWR2lGricQUJnT7uISAIw8RgAZxUhNd/fUAZtigSKsG3tBpfOvZVtim/a335gGUELD5OO/jHOD2JGJjmuYF/Gcnz81m7Y38IgZ0eV572vIARQAaRX89gAO1BtBnKO+zereZZk/PwEK6jrAb4BGA532yQQgO/fUAxpFHLFkouKhnf69rdQ9gzwJQ9QBKCDhyEAFoEJ4QcD89gNAm7nRvn87qelCAC+JhUC/n172PJ0UAmgZfm0B35iqtVcNqKjxhYAWFzzUBOKMPAZjTLg9QMAZfm0DrZJKFHTtOnJynste1JylFQWEAA0jpxqs0oJ0HUFrBGE9/qoBBLQRJZSIAtezucZ2CyyMAU/sQgK3U9OlNFMIDEYAGoYeA/RGAszQHwZoGaN8v91213RvX9jHHXfc+lrZ0fL5gHP1pAdOey8kkDiulNLFbCxvtpJbztJCIrc8JH9IKxnjaPIC+CUAbNs8YuFN9jOw6wQkAChnc7eNppGHFSiut1Gv9IwXjaO3HJBCdVCYDUMPOHtfU8xUuGrCR1G0BiPraKVi13ECHNAmPCEQAGkR/m0C3Z04SxFngKyfs0d6vG9zwd7XYkwV9zAzXvYMNCtTKh3xTUOVHCBggCTtzNS/gSk0EvKeFbOaQTWwff/LiATSetjnAvoWAoa2goy8BeJxjAAxhaLeP27CRpokNCQMbi4tm3Nrfo685gIBnDnANO3D30CO0mu0ApDGlwwSQ9liwSCFIhCEC0ADaN4HubxEIQKoNrtacBG9oAyDeqYNGBYbHwLT43p+fZIUB2g44Jc2gTcH5fvQA7My3NBGwjnP8iVP8Q/u0/vUeRsS1J1cEoOG0TQHpjwBUGzrrFb7d0UorpZoHcGgPAhAgXUsXkEIQY2n1TPexYfPRKwyQxEjspOKiscc8wGq2AW1isSfitJGDIgAjAxGABqDn3KVaVRHnD7elq8fnz0OtC57RUn8WpanNnvuiQPIATYVeBJLZzxAwwAiSuEGr2HuaI7SgUMwAz7SQ3hAPoPE09DMEDG0ewHLKcNH9nMhTnKKVVpJI8ox9644BIgBNQUu7OcC+dgYAsGD1CLsqtnR53EUzNXwBwACm93ou8QBGFiIADSAQ+X86N6bA6FiockP2V7C9WR3xdm+Gd88XAWgu2nIA/dsc/8ZwirU38JEk8SijvHrzyNGEZwVO3NIM2hAa+9kGBiCTTBJIoIUWTmtj3jpTwlFADf/2tid0AVgtAtBQ/Mn/08ngEgAq+bTLY9Vsw42DOAaSyPBez9MmACUHMBIQAWgAgcj/07FZ4Dd5EAM4tffrJ7Ih28tz64UgMg/YHJxv1wfQH5Kws4wi/sZ0XuNCBtJHPoCGWkICLhSPN1IILXoRSH9CwFasDGEI0Jbn1xldAA7r481eQsDmoL0HsL9kMBOAevbj4GyHxyrZ4FnT14dE8QBGFiIADUAXW/7k/7VndjKsGwr3DYDX8uHhzD6f4mGQeABNgxuFak10+esBBDVpO5c4rD6EjexYPOHnChGAIceNmybU+Y798QACDNby+roTgO3z//oSgOIBNAeB8ADGkkmK1hT6HP/03O+mlXOsAyCbK/s8j+QARhYiAA0gkCFgnUsS4bmBak6gN7l/OroHUIpAjKeWVk/WVn+rgAOBtIIxjiaaPP0bE7oZx+UNwxgGwDFKaO1U9Xmc47TSSjLJZPeS/wdtHsBaanvMJxSCTyA8gAA5XAVABR967qtiM63UEsMA0pjS5zniPdNARABGAiIADUAfvTbEuPd4D+IBNA96yDUVO3YD/zRFABpHg9ZzL4EEbD7OgtYZSD5JJOHA4en3p3OYQwCM9CInNJlk7Nhx46ZWEyFC6GmlGoAY0v06TxZzABt17KGBwwCU8VcAcri6x/Yv7dFDwC4aaJX+kGGPCEADOBHAHEB/kRxA83A+QAUg/pIjAtAw+jsFpD1WrIxiNABfcaDDY+0FoDfnSdNEh+QBGkebBzDdr/PEkUUWlwNQyuvU8xXn2QhAPjd5dQ4bCdg1T6R4AcMfEYAhRlHaBOBgE3kAz7ugSZpBG8p5T/6ffwUg/iK9AI2jwY8K4PaMZRwAe9njGeVWxXnOUI4FCyN6mPbQGckDNJ4WzQNo91MAAhRwKwAVvM8XLAIUsplDQg8TYbojzhMGlpnA4Y4IwBBT5VYbNUNgcwD7S7oVErVIkOQBGst5P+cABwrxABpHYwA8gACjGE0ccdRQ4wkD72MfoLZ/8fb80gvQePo7B7g7UpnIIE0EqudMZzgP+HSOeC0M3CwewLBHBGCI0b1/OTZIMMH/vsXSJkRPSR6goVQGoAl0IGjLAZSB76EmECFggBhimKBVfW7iMxQUvmQHAOOZ4PV5pBWM8bR4cgD9F4AAw7mfsfycQr7Dhazw5PV5S1srGPEAhjsmkCDRhZnCvzqDtDzAUhGAhqILwCyDBWCeJgDP4aQVyQsIJYEKAQPM5FIA9rOPNXxIOeXEEMMkJnt9jrYQcLXf9gj9ozVAOYA6FqzkMJdh3EtcH5Xg3REnlcARgwjAEHNcLwAxkQDUbSmVELChmMUDmEEssVhwI3mAoUZvAp0cAAGYQw5TuBCAT7VmvxcyjUQfGky3hYDP+22P4DsKrbRSBwROAPpLPAMBaKbMYEsEfxEBGGKOab11h5lIAOreSPEAGotZPIBWLORpk0NOiwAMKYH0AAJcy3yGaI2hhzCUq5jr0/MHoM6UrKOOFuQCEWpatCbQYMFOiqG26EgRSORggkYk0cUx7Ro61Nj3+A7oAvCEXN8N5ZxJqoABBhLPCZoolzzAkKL3AfQ3B1Anjjju4E4aaCCeeJ97CyaQQDzxNNNMFefJ8TFfTPCPtgrgVK/69IUC3QPo4CxuWrGKjAhbxAMYYjwC0IQeQBGAxtGKQrXmYTE6BAwwUMsDLBMBGFLqNQGYHGBvTxJJ/WosbcHi8QKelzBwyAl0AUggiGEAFmIANw4qjDZH8AMRgCFGBKDQHdU4UQAbkG5wGxhQPYAAZRICDhkuXO1yAJMNtqaNDBGAhtGiVV/HaL8DM2DB2q4SWPIAwxkRgCGkzqU2XAZzjIHT0YtAatxQKyM/DUEP/w4gFlsfI7pCgS4AT9FksCXRgx7+tWLt9xzgYNAmACsNtiT6cGqiO1YrxjEL8eQD0Mxpgy0R/EEEYAjRvX8DrJBqjnQOAJKtqk3QVqUshJazmgDMNkH4F6DAIwAlBBwq6tvl/1lNdGkWD6BxtGj/52byAAIkMAiAZk4ZbIngD+a5ykQBR7QK4OHmeI/vgG5TiQhAQ9DbrWRruXdGU6h5oM7ipAlxC4eCOq3dR6Dz//wlkywAKjlnsCXRhx4CjjWZAIzXBGCTCMCwRgRgCDmqiasRJhaAR53G2hGt6AIwxyQCMJUY0rTqvlIJA4eEBk8BiHny/wCytGbB1VRLK5gQ4/R4AM0VAk6gABAPYLgjAjCE6B7AESbK/9MZrtl0VK7vhqCHgHNMEgKGNi+gCMDQUGdSAZhEEvHEo6BIHmCIMb8H8KTBlgj+IAIwhHgEoHne4z2IB9BYzBYCBhGAoSZYLWD8xYLF4wU8J2HgkGJWD6AuAFupoVXbt0L4IQIwhBwxcwhY9wCKADQEs4WAAYZoI8OOaa1JhOBSp019SDGZAATI0vIAz3LWYEuiixZPFbC5PIB2koglE4BGjhtsjdBfRACGiBalbQycKQWg7gFsAZdirC3RhoJiyhDwcE0AHtHGkwnBpYYaANJM1PRXJ5scACo4Y7Al0YOLZlzahy+zVQEDJGgjBptEAIYtIgBDRIkTWoEECwwy4eScITEQbwGHIpXAoaaWVhq1SlszeQBHauPIjtFIK/KpINjUagIwlVSDLelKrtb494wIwJDh1KZsWEnAFqDRgIEkUROAjZQYa4jQb0QAhoiDmvdvTBxYje/z2wWbBcZp2mOvDH8IKfq4tQxiiDfJvE9Qm0EnYMWJInmAQcaFy5MDmGpCD2AeeYDaCkYqgUODPmYtjhwsJmgO35lEhgHQyDFjDRH6jQjAEHFQE1VjzBPh68IEXQBK79+QcloTgPr0DbNgxcJwzfNwSBK9g0o9dSgo2LCRZEJvTwqpJJCAGzfnJA8wJDi0/+c4LfxuNhIZAogADGdEAIYIjwfQxAJwvHgADUGft5tvMgEIMFZrSbJPa1IsBIcaTwFIqqmmgOhYsJCreQFPy/ivkKB7AGO1CmyzkcQIAJooxSURgrDEfFeaCOWA7gE0T4pXFyZqtu0QD2BI0T2AZhSARVo+2l4RgEHFzPl/OgUUAnCSUoMtiQ6c7ULAZiSWTE2cKtRzyGhzhH4gAjAEKArs0QTgBBMLwIu1+fP7nVAt079CRplJQ8AARVpLkoPU04rbYGsil2qqAXNWAOsUegSgNP8NBWYPAQMkMwaAeg4abInQH0QAhoDTrVDtBhsw1sQh4Bx7Wz/Az8WjHzJOauGTQSYUgIUkkIYdB27xAgYRfcJGhtZbzYwUaOO/KjhDMxImCDZtRSDmDAEDJDMagHr2G2yJ0B9EAIaA3Zr3b3QsxJn8f7xYbf3GZ9L7NyS04uak9maqN142ExYsXKRNIdisjaUSAs95reFvhgn7vemkkEoGGSgolHDUaHMiHn3ObhwDDbakZ1KYAEANO401ROgXJpcjkcFu7cPyRPM5eLowWytA/JsUfYaEUppxoZCIzVRNoNtTrAnATZpIEQJPOAhAgFFayO8QXxlsSWTTQg2tWmFQghZ6NyNpTMGCjWZO0SzFQWGHCMAQoBdVTDRx/p/O9clqqHpnc9vsYiF4HNc6/Q8hwZS9vgCKycAC7KfeE64WAkcrrdRoOYBmF4CjtZDfQQ7glpzQoNGkFdrEko3NhKkhOnaSPF7AKj432BrBV0QAhoAt2nvm9ARj7fCGTDtcoXkBfycRv6BzzCMAzRf+1ckklotIB+ADmQQRcKqpRkEhhhiSTTgHuD3DGE4iidRRx2Gp/AwaugA0s/dPJ4OZAJxlrcGWCL4iAjDInG1V5+sCXBQGAhDg3zQnxPNVcFqa/geVw9qc3WEmFoAA12qjwN6hHKd4fgLKGcoByCLLtF5gHTt2JnEBAFvYbKwxEUw4CcBsrgagmq00ywfEsEIEYJDRq2nHxEK6eaZ89crXk2FqPNS5YeFJaJL3+6CxX6us1Rsum5XZZJNNLGdx8p4mWITAUE4ZAAPJN9gS75jOdKxYOcRXlMgc2KCgT9dIYLCxhnhBAvmkcSGgcJJXjTZH8AERgEHmY62a9hJzO3g6YLHAykGQaoXPmmD2cTgs+YABp5YWTwXwOJOH/mKxcpvmjVhOCSckFzBglHkEoHmrPduTSRZTmQbAO6ySljBBoJ4DQFufPbMzhB8AUMYqatlrsDWCt4gADDJr1Qifp7o2XBgdB+8VQooVNjXBhCPw/dNtFc2C/xzQ5usOIp40Ygy2pm++ST5FpNCAi3/lS7ZKW5iAUK55VPPCRAACzGEuqaRxnkpe5vdUSYV4wGihxtMCJlwEYDpTyWI2Ci728jB1moAVzI0IwCBytlWtpgW4MswEIMBlSfDlcJibBE4F/lANk47CVcdhqziA/GaHNv5rgsm9fzo2LDzFBEaQyDmc3MduFrNbKoP9oJoqaqnBijWsBGACCXyb20gkkdOc4v/xLO+wigrJAfMbfapGPAXEmHg0YGdG82OSGEkL59nJDzjGC7Qi/cTMjAjAIPJWLSjAlHjIsxttTf8YFgv/GAIbh8I3U9UN81EDTC+Be8rgTKvRFoYvemPl6VqfvXAgk1heZAo3MRA7FjZRxbfZzruUo6AYbV7YcZQjAAyigDjCoE9UOwaSzw/5V4YxHBcutrON5fw/VvIaZ7UpFoLv1PAFACmMM9gS37CTzGT+jwwuQ6GFE7zI53yDE7yCG4fR5gndIAIwiKxQHTzcGj4f4nqkOBH+VABHRsJtaaqwfb4KRhyCn1RArcwO9onzOD0FIDPCSAACJGLjEUbxR6YxlTSacfMLvuI/OeCZayx4xxFNAA5nhMGW9I8BZPA97uAO7mQc47Fg4QAH+F+eYzXv0yTeYZ+p5FOgrb1KOGEnhQn8mnE8SQJDaKWWY/yGbXyL81I1bjqiXgD+5je/YdiwYcTHxzN16lQ++eSTgJx3Q4NaQGEDbjHvfHefGRoLrw2CdUPgonhoUODn52D4YXi6EprDtGI4WPugJ/7OGRRgPClkhZnnR2cwCSxnEv/KUNUzzFn+ha08yVcc1drbhBOh3gPNNHNQy5UayaigvlawGcJQvsW3uZ9/YyxjceNmI5/xDL/m77wbNjmCod4DnWniFA0cAqxhKQBBHR+ZzWym8UfG8FNiyaaZU+zh3zjIL2iVmeKmIaoF4JtvvsnixYt5/PHH2bFjB5dddhnz5s3jxIkTfp33bCvcpRb2cecAKDB/fr/PzEqCLcPgLwUwNhYqXfDwGRh3BP5aC0oYRQODtQ96ohkXb2ljk74RRnlf3WHFwncZzB+YwjTSaUXhHcr5Ftt5jH2UEB5DpUO9BwC+YDtOnGSTzeAwaPfhDVlkcyuLuI3vkEMODhxsYTPP8gx/5HVOa8UNZsSIPdCZU6wEIJ1pxGjN18MVCzZyuZaL+BP5LATgDO+ylW9yktclP9AEWBQlnN6qA8v06dO58MILef755z33jRs3jgULFrB06dI+n19bW0taWho1NTWkpqbylQN+dg7+XgfVbiiww/bhkBOm+X/e0qrAq9Xw07NwUssJnJ4AP82CuclgM0lv286/Lx1/9kFP5+wJNwq/5BDvUE4WsbzFRcQTJg0ivWAnNazkJOupBNTCka+Ty3copBDjO6EHYw/0dt6eOMMZXuD/cOLkOm7gIi7u3w9kYty4OcpRPuMTjnDYc38RE7mMrxna97C731eo90BnaviSXdyDQiuT+F/StVY7kUINO/iKJ2lCFdQ2khnI9eRzM/Hkhdwef39fkUCES5OecTqdbN++nR/96Ecd7p87dy4bN27s1zntFnhdy/sbHwd/Loh88Qfqz/39AbAwDX55DpZVquPvri1Vi18uiIMhsZBsgVy7+n+Sa4dkK0Gde2BFzV3sjWDsg8M00EArCtCECyduamjhFM1s5DxfaeHRxxgVUeIP4ALSuIA0jtDA8xzjEyr5G+X8jXJGkMgokskklgHEEIeVZOykYCceK7FBCkgUkkAGsT0+How9UE89lZoIVlFw4KCeOk5xii/ZiRMnQxjq6akXaVixMlL7d5YKNrCeXXzJHnazh92kkc4gBpFOOqmkYcdOAgkkkoQ9wG9N8cSR24vICMYeAKhlN0ovk3PctNDCeeo5wGn+gkIrWVxJGlP7/ZpmJY0pTGUlZ3ifk6ykiWOcZCUnWUkiw0hlMgkUEMMAYkjHTjKBfodIZoypZyuHmiiQJ91z7tw5XC4Xubm5He7Pzc2lvLz7SQcOhwOHo62aqba2tsPjw2PhlzlwcQJclqgKo2gi2Qq/yIH7MlQh+Go1lLfC6lYwIiUs3gJNfRTS+boP+toDAE9zmC+0Fi/dkYCVRxnFpWT28ROELyNI4n+YwG5q+T0n2Mx5jtDIEQNCwksYwzxye3w8GNeCIxzmLf7cq1163pw1CjJxssnhJr7JJVzKJ2xgH3upoZoaqkPy+kMZxve1ZsXdEYw9ALCLe32qgB3ADMbwX6YfCdhfrMQwkBvI4zrOs5GTrKSGL2ikhMYQTJW5iL+ExXi9UBG1AlDHYun4h6YoSpf7dJYuXcoTTzzR6/kezQqYaWFLnh2ezYOncuHTRjjqhJMtUO+GMy61dUxFKzQGOfkgzodrqLf7wJs9kEOcJ9ype7bSiCGHWMaSwiwyGdCLRyqSmEgqyyiimha+pIbjNFGFkypacOKmllYacNGMi5YgtZFJ9NLLGshrQSyxZHYS+DHEkkQS2eRofrFRUSH+2pPHQL7JzThwcJJSKqigmirqqaeVVhq1f24C21Yg1ct+eoF+P4inAIWexyhZsBNDOvHkk8llZHI5lijYExasZHIpmVxKC9XUsIM69uPgDC1U00IVriB8WLSI5OlA1P5vZGVlYbPZuny6q6io6PIpUOexxx7jwQcf9HxfW1tLYaF8muiJWIvaANvMTbB93Qfe7IEnGBscY8OYdGK4HHN+OgrGtWAc4xnH+OAYHAHEEccIRjKCkUabAgTv/WCaVtQh9EwM6WRxBVlcYbQpUUfkf9TogdjYWKZOncqaNWs63L9mzRpmzuy+/D4uLo7U1NQOX0J44+s+kD0Qeci1QJA9IEQjUesBBHjwwQdZtGgR06ZNo7i4mN/97necOHGCu+++22jThBAi+0CQPSDIHhCijagWgDfffDOVlZX87Gc/o6ysjKKiIt5//32GDBni1fP1DjrdJf8K5kP/PXXufOTPPpA9EF4EYw+0P5/sg/Cgu30geyC66OlaEE1EdR9Afzl58qTkAIYhpaWlFBQUBORcsgfCk0DuAZB9EK7ItUAI9LUgnBAB6Adut5vTp0+TkpLiqRTTE4FLS0tNmRMSzfYpikJdXR35+flYrYFJf5U9EHjCbQ+A7INAE2zb5FqgEs32BetaEE5EdQjYX6xWa4+fHMyeFByt9qWlBXYws+yB4BEuewBkHwSLYNom14I2otW+YFwLwonolL2CIAiCIAhRjAhAQRAEQRCEKEMEYICJi4vjpz/9KXFxcUab0i1iX/Ax+88g9oUGs/8cZrbPzLb5gtl/DrEvupEiEEEQBEEQhChDPICCIAiCIAhRhghAQRAEQRCEKEMEoCAIgiAIQpQhAjBAbNiwgeuuu478/HwsFgtvv/220SZ5WLp0KRdddBEpKSnk5OSwYMECDh48aLRZHp5//nkmTZrk6fVUXFzMBx98YLRZPmPmPQCyD0KFmfeB7IHQIHug/0TKHggHRAAGiIaGBiZPnszy5cuNNqUL69ev595772Xz5s2sWbOG1tZW5s6dS0NDg9GmAVBQUMAvf/lLtm3bxrZt27jyyiu54YYb2Lt3r9Gm+YSZ9wDIPggVZt4HsgdCg+yB/hMpeyAsUISAAyirVq0y2oweqaioUABl/fr1RpvSIwMGDFBefPFFo83oN2bfA4oi+yAUmH0fyB4IPrIH/Cfc94BZkVFwUUhNTQ0AGRkZBlvSFZfLxZ///GcaGhooLi422pyIRvaBIHtAkD0QvYgAjDIUReHBBx/k0ksvpaioyGhzPOzevZvi4mKam5tJTk5m1apVjB8/3mizIhbZB4LsAUH2QHQjAjDKuO+++9i1axeffvqp0aZ0YMyYMezcuZPq6mreeustbr/9dtavXy9/9EFC9oEge0CQPRDlGBuBjkwwac7HfffdpxQUFChHjx412pQ+mT17tnLXXXcZbUa/MeseUBTZB6HErPtA9kDokD3gP+G+B8yKeACjAEVRuP/++1m1ahUff/wxw4YNM9qkPlEUBYfDYbQZEYXsA0H2gCB7QNARARgg6uvrOXz4sOf7kpISdu7cSUZGBoMHDzbQMrj33ntZuXIl77zzDikpKZSXlwOQlpZGQkKCobYB/PjHP2bevHkUFhZSV1fHG2+8wccff8zq1auNNs0nzLwHQPZBqDDzPpA9EBpkD/SfSNkDYYFxzsfIYt26dQrQ5ev222832rRu7QKUP/zhD0abpiiKonz/+99XhgwZosTGxirZ2dnK7NmzlQ8//NBos3zGzHtAUWQfhAoz7wPZA6FB9kD/iZQ9EA5YFEVRgiMtIx+3283p06dJSUnBYrEYbY7QB4qiUFdXR35+PlZrYHqgyx4IL4KxB0D2Qbgh1wIhWNeCcEJCwH5w+vRpCgsLjTZD8JHS0lIKCgoCci7ZA+FJIPcAyD4IV9rvg6qqKh544AH+9re/AXD99dfz3HPPkZ6e7tW5ZA+EJ4G+FoQTIgD9ICUlBVA3UGpqqsHWCH1RW1tLYWGh5/cWCGQPhBfB2AMg+yCYrFmzhs2bNzN58mQWLVrE66+/zvz58z2PL1u2jKeffprf/OY3jBw5kl//+tds3LiRbdu2eX4v//7v/87q1av5zW9+Q0ZGBj/60Y/YuHEjiYmJnvPceuutnDx50pNrdtddd7Fo0SLeffddr+yUPRBeBOtaEFYYGX8Od2pqahRAqampMdoUwQuC8fuSPRBeBOv3JfsgNNCppYrb7Vby8vKUX/7yl577mpublbS0NOX//u//FEVRlOrqaiUmJkZ54403PGsOHDigAMpbb72lKIqi7Nu3TwGUzZs3e9Zs2rRJAZQDBw54ZZvsgfBCfl+KEp2Bb0EQBCHsKSkpoby8nLlz53rui4uL4/LLL2fjxo0AbN++nZaWlg5rBg4cCMDnn38OwKZNm0hLS2P69OmeNTNmzCAtLc1zHkGINEQAmhXnVqh9EBp+A0qr0dYIZuL0p/DpQ7DrOXBJb6yI4cR+eOFh+OIjoy0JG/QWJrm5uR3uz83N9TxWXl5ObGwsAwYM6PL8M2fOeNbk5OR0eTwnJ8dzns44HA5qa2s7fPWG0tpK3e9+x/kHH6Rp3bq+fzg/aDl2jNrf/AZ3fX1QX0cIb0QAmpGmv0DlJdCwDGrvhapvQpQVa2/YsIHrrruO/Px8LBYLb7/9dofHFUVhyZIl5Ofnk5CQwKxZs9i7d2+HNQ6Hg/vvv5+srCySkpK45ZZburxOVVUVixYtIi0tjbS0NBYtWkR1dXUQfzI/UBTY9iSsugy+fAY+eQD+fDHUnTDaMsFfKk7Ao1fAW0/Dj6+Cz9832qKwonPVraIoXlXitl/T3frezrN06VLPdSMtLa3XAhBFUTi7cCGVP/whtcuWcebKK6l56qk+7esv5//1Xzl/772UzZiB4nQG7XWE8EYEoNlwboPq24AWsE8CYsDxNjT9wWDDQktDQwOTJ09m+fLl3T7+1FNP8cwzz7B8+XK2bt1KXl4eV111FXV1dZ41ixcvZtWqVbzxxht8+umn1Gufhl0ul2fNrbfeys6dO1m9ejWrV69m586dLFq0KLg/XH/Z8WvY8rh6e/DVkJANlbvg7Sug8Yyxtgn+8cp/QlW73+Erj0fdh77+kJeXB9DFS1dRUeHxCubl5eF0OqmqquryfN3rl5eX5/EGtufs2bNdvIs6jz32GDU1NZ6v0tLSHu1sWLmSxlWrwG4nfvZsAKoefZT6lSu9+Cl9w11TQ5NWyNKydy/NH38c8NcQIgRjUxDDm4AnkbrqFOXMCEU5jaJUXq8o7lZFqfuV+v2Z4er3UQiS+K0oJz9WlOUWRVmOomx/Sr2v9riivDpMve/vCxTF7Q6uDRGAKYtATn6lKPOsinI1irL9Q0W5PlG9/dW2gNoYCfR0LfjVr37luc/hcHR7LXjzzTc9aw4ePNjttWDLli2eNZs3bw7ItcDtciknx45VSkCp+vnPFUVRlMpHH1VKQDmWnKw4S0p8+j/oi/o33lBKwPNV3e46KbQhRSBSBGIu6h4F1xGwDYb0V8Big8R7wZIOrqPgkFE4EIWJ3+5WWHcnoMC478OF/6HenzIYrn0HrHYoeRtOyP4IS975f+B2w8VfhwuvgmnXqPd/tspYu0xCfX09O3fuZOfOnUDbWLUTJ05gsVhYvHgxTz75JKtWrWLPnj1897vfJTExkVtvvRVQR5zdcccdPPTQQ6xdu5YdO3Zw5513AnDFFVcAMG7cOK655hruvPNONm/ezObNm7nzzjuZP38+Y8aM8cv+ptWraTlwAEtqKqkPPADAgP/+b+IuuQSlvp7qn/zEr/N3xrFlS8fvv/gioOcXIgcRgGbB+Tk0/ka9nfZ7sKart61JkHC7ervpj4aYZjbCKfE7IBx/H2oOQXwWXLqs42OZE2HSv6m3N/9YwobhRvVZ+FBL7/jGv6vHmd9Qj5vfMcYmk7Ft2zamTJnClClTAHjwwQeZMmUKP9GE0yOPPMLixYu55557mDZtGqdOneLDDz/s0N9t2bJlLFiwgIULF3LJJZd4+v/ZbDbPmtdff52JEycyd+5c5s6dy6RJk3jttdf8tr/2mWcASLnzTqxaf0CLzUbGs88C0LBiBS3t5gb7S8uBAwAk3nQTAE4RgEIPiAA0A4oCtdrFP2ERxM3u+HjCQvXoeBcUSejVMXvid8DY94J6HPc9iO2mwezUx8CeBOd2QtknwbdHCBx/fgqaG2DUVLjgSvW+qVerx2N7oLbSONtMwqxZs1AUpcvXyy+/DKh/w0uWLKGsrIzm5mbWr19PUVFRh3PEx8fz3HPPUVlZSWNjI2+++WaX18nIyGDFihWeD3YrVqzwegpITzR/8gnNa9eCzUbq/fd3eCxu2jQSrrkGFIW655/363Xa03LwIABJN98MQOvhw7ibmwN2fiFyEAFoBhwfQMtGIAFSftn18ZgZYB0ISi04Pw61daYjXBK/A0JrE5SuUW+P+U73a+IzYbQa7mLPb4NrjxA4zp6Ed7Uip0U/A/1DR3o2FGhhx30mSkUQfEJxOqm8+24Akr//fexDhnRZk6KJwvpXXkFp9b/dl7u5mdZjxwCIu+wyLAkJALhOnvT73ELkIQLQDDRo7QCS7gVbftfHLVaI0/KCHNIjbNiwYeTl5bFmzRrPfU6nk/Xr1zNz5kwApk6dSkxMTIc1umC8+OKLASguLqampsaTEwiwZcsWampqPOfpTFxcHKmpqR2+gkrZRrXXX+JAyJjQ87rxak4TJavAWdfzOsE8vPZTcDbDxK/BRfM6PlZ0mXrcIx7dcKX11Clwu7FmZTHgl918sAcS5s7FmpmJu7KS5k/8/123Hj4MbjeWtDRsubnYBg9W7z8hraKErogANJqW3eBcD9ggaXHP6+LmqMcoEYDhnvgdME6uVY+Fc9o8RN2RMw3SR6sew5LIyB2L6F6Qx/fBRy+rt7//q66/2/GXqMcDm4NrhxA0YoYNI//LL8lbuxZbRka3ayx2O4kLFgDQ+Ne/+v2aei5hzKhRWCwW7JoAdAU7UiGEJaYTgMG46F9//fWc7OQCN00D4KbX1WP8DWAb1PO6WC0vsHUHuM8H3y6DCffE74BxRhMA+Zf3vs5igVFaGPigiez3g4juBfnHX6iVvzMXwLgZXR8fq1WmH9oOLpkEFK5YYmOJnTSp1zWJ118P4Ond5w+u48cBsA8dqh7FAyj0hmENaHrg/fffVx5//HHlrbfe6tLzSVEU5Ze//KWSkpKivPXWW8ru3buVm2++WRk4cKBSW1vrWXP33XcrgwYNUtasWaN88cUXyhVXXKFMnjxZaW1t66N3zTXXKEVFRcrGjRuVjRs3KkVFRcr8+fN9sjUgfYTOjFH7/DX+0Yu1o9W1TX/v/+tFMcHo+xTUXlJul6L8LlXt83d2Z9/rqw+ra//Xqij1pwJvj4F0vhaYqRekovi4D8pK2vr+Hd7R/RqXS1G+kaquOeLF717wCTNdC1w1NUqJzaaUgN89ASv//d+VElAqH35YURRFqXriCaUElLM/+IFf541EpA+gCfsAzps3j1/84hfceOONXR5TFIVnn32Wxx9/nBtvvJGioiJeeeUVGhsbWal1VK+pqeGll17i6aefZs6cOUyZMoUVK1awe/duPvpIDZ/u37+f1atX8+KLL1JcXExxcTEvvPAC7733Hge1CqqQ0HoIXAeBGIib1+dyYjVPQcumoJolmISaI+CsBVs8DBjf9/q0ETDwElDcsP/3wbfPQIzuBelXO6B1r6vevwuuhBEXdL/GaoXRF6m3D2zpfo0QEVhTU4mboV7bmz/yL8VHLwDRC048OYASAha6wXQCsDf6e9HPz8+nqKjIs8Y0DYCdG9Rj7AywpvW9PqZYe54IwKjg7Hb1mDUZbDHePWfCv6rH3f+rFo9EKEb2ggQ/2wGt08Z/XXlb7+vGqMVKHNrm/bmFsCT+SrUFUPP69X6dp1UPAWsC0F5QAEgVsNA9YSUA/bnod17Tn4t+wJsAOz9VjzGXebc+VhOALVtVL48Q2Zz7Uj1mTfH+OSO/CUmDoLEctj0ZHLtMhBG9IMGPdkDlJXBiH1htbQ2fe2LUNPX4lQjASCf+a18DVAGo+NHMvbMAtGkts1zdtLsShLASgDr9ueh3XtOfi37AmwDrAjD2Uu/W2ycACWo/QNdX/r22YH7O71GPmRO9f44tFi5RJw+w7Wew8RFoaQi8bQZjZC9I8KMd0BdaW6JxxZCc3vvaMVoI+NhutV2MELHEFReD3Y6rtNQTxvUVd0MD7kq1cXhnAeg+dw6lpSUgtgqRQ1gJQH8u+p3X9OeiH9AmwO4qcGnjf2K7qQLsDosdYi5Ubzu39v+1hfCgUheARb2v68zIb8IFD6m3d/waVo5tO1eEYGQvSL/YoeV4XXhV32uzCiA9R60CPrIz8LYIpsGalETcNNXj6/jss36dQ6/0taSmYk1TU4qsGRmgdT1wVVQEwFIhkggrAdjfi35ZWRl79uzxrOnvRT+gTYBbdqlH2xCwds1R6pFYzSvQIgIwonHWQd0x9XZvDaC7w2KBS/4Hrn0HUoZA/Un44EZoaQy4mcEk4npBKgrs1bz+k6/oe73F0pYHePDz3tcKYU/cJWrvx/4KQL3Xn71dZMpitWLTnBquXtKbhOjEbrQBnamvr+dwu8HY+kU/IyODwYMHey76o0aNYtSoUTz55JM9XvQzMzPJyMjg4YcfZuLEicyZozZTbn/R/+1v1dFZd911V2gbALdq+V32yb49L0bLC2rZEVh7BHNxfp96TMxTR731h2HXQ14xvDkFag7B/pdg0v19P88kbNu2zSPUQO0FCXD77bfz8ssv88gjj9DU1MQ999xDVVUV06dP77YXpN1uZ+HChTQ1NXH55Wo/xc69IB944AFP4dj111/fY+9Bvzh3Cs6Xqfl/I6d695yxM2DLe1pD6AcCb5NgGuJmzoSnn6bZTw+g3vtPx5aXh+v0aRGAQlcMbEHTLevWrVOALl+33367oihq/6+f/vSnSl5enhIXF6d87WtfU3bv3t3hHE1NTcp9992nZGRkKAkJCcr8+fOVEydOdFhTWVmpfPvb31ZSUlKUlJQU5dvf/rZSVVXlk61+9RGq+r7a06/2P317nnO3+ryyFLVPnOA1Zur91Sf7/qD29Ft1pf/n2v28eq6XB0f9ngnW78ur837yF7Wv3z0XeH/iLz5Sn3P7MP+NFDyY8VrQWl6ulIBSYrEorupqn59//ic/UXv+3XVXh/vLr71WKQGl9sUX+2VXpCJ9ABXFdB7AWbNm9VoFZbFYWLJkCUuWLOlxTXx8PM899xzPPfdcj2syMjJYsWKFP6b6R+tu9eirB9A+BogDpQ5cJWAfEXDTBBNQfUA9Zozz/1xjvwubHoX6E1C+Se0VKIQePYw7Znrv69oz+iI1FFxeApWnIbObWeFCRGDLzcU+YgStR47g2LyZhKuv9un53YWAoV0lsHgAhU6EVQ5gxKAo0LpfvW33osFveywxEKMVBbTsDKhZgok4r+2PAQEQgPZ4GHqdevvIW/6fT+gfeiHHyAu9f05SKozQ2gDt3hBwkwRzEafloPcnDNxjCFjPASwr89M6IdIQAWgE7lOg1AM2sI/0/fm617B1p3frW3ZB7Y+hNYRTTgT/qNIEYPrYwJxvxE3qseRvgTmf4DslWt7vcB+9/hO1OdC7Pg6oOYL5iPejEESf9mHr5AG0ai2PXGfP+mmdEGmIADSCVi28ZxsJlljfnx+jvYG07O57rfscnL8GGpbCuWnQWuL76wmhxeWE2qPq7QEBEoAFs8Fqh9ojUHM0MOcUvKfqjPplscBQH9v6TJqlHkUARjyeSuDNm1GcTq+fpygKLt0DqPUA1LFpAtAtAlDohAhAI/CEf/v55m6fpJ1nV99r65eBW3P9K/XQ+GL/XlMIHTWHQXFBTAokBSjnKzYVcrV+k6Vrel8rBJ6jmvcvfxTEJ/n23IlfU2cDnzyoVhJ7S8UJ+PFcuHsinJVRYOFAzPjxWLOyUBobcWzzfgKMu6ICpbkZLBbP+DcdW3Y2IH0Aha6IADQC3QPYXwEYo02GcJWAu67ndYoCzW+qt+P/RT02vazeL5iXai1UP2CM6jEKFIXafOzSDwN3TsE7SrQPa8Mm+f7c5PS2tjE713r/vKe/q04eObYHln3f99cVQo7FaiVea1XU/PHHXj9PHwFny8/HEtsxqmSTELDQAyIAjUDPxeuvALRmgnWQdq5ewsCtX4LrCJAAab8F4sF9WsbImZ0qbX+kB7gnpS4AT/0T3K2BPbfQO/4IQIALZqtHfZJIXxzZCV+ua/v+izVw1o/JRULIiNd6XzavW9fHyjY6zwBuj1XzALrPnUNxywx5oQ0RgEbQqgkw++j+n8OTB9hLQ2jHP9Vj3GywZkCM5kVwbur/6wrBR28BE6j8P52caRCXDo5qqJBJMiHlmPZBbZgPc53bc8GV6vHLdd558Ne8rB6/trBtmsgOH7yHgmHEz5oFqIUg3uYB6vODuxOAtqws9Ybbjfv8+UCYKEQIIgBDjbsB3NoncbsfHp4YrTVEb61gnFrbiNivacdi7TkiAE1NsDyAVhsUqNNwOPGPwJ5b6BlXK5zQ8n776wEcfwnYY+DcSSg70vtaRYHNWrX3rG/BFO137kv4WDCMmPHjsWZnozQ14djq3Qc1jwdw6NAuj1liY7GmpwMSBhY6IgIw1LgOqUdLhhrK7S92TQC29uABVNzg1OaOxl6mHmO0IgCneH9MTbXmIQ60AAQYcq16PP73ro8d/jP89TLY/J/Q2hT4145WTh2CFoda/JE7tH/niE9Ux8JBx9BudxzfqzaOjomDC69qayNzYHP/XlsIKRaLxeMF9DYPsDcPILQLA0shiNAOEYChxhP+9fPNPeYC9diyG5RuwgSuQ6BUAvEQozWe1RtIuw6qAlEwH82V4NDCNGn96BHZF4PnqceKbdDQrjHs4T/DPxZC2aew/b/ho9ulWChQ6OHfoUVqNW9/mazNRe5LAH6hVXlPmqWKTt3rWHYEHCLsw4H4r6lRm+YN3jX/bj2ieoXtI7qfDCWFIEJ3iAAMNa2aB9A+yr/z2IarXkSc3YeBnVvUY8zUtl6DthFADCiN4JKEcFOie/+SCyEmMfDnT8prawdz6A316KiBDfeqtzOK1H6BR/4sU0MCxVGtAGRoP/P/dCbpAvCfvYtzXSDqhSMDciE1U31O6QH/bBBCgi4AHZ99htLS0utaxeWi5aja29M+svsPjZ5WMCIAhXaIAAw1egjY5qcAtFggVh0bhLObrvEt2tzR2IvbPcfeJjxd8kZgSjzhXz8KhPpizCL1eOBlVRTs+DU0nVWLThZuh6n/qT6+6VFwu4JnR7TgKQDpZ/6fzrgZali36kzPQs7lgj2a10j3GFosMGSCZsse/2wQQkJMURHW9HSUhgacO3op9ANcp06B0wkxMV3mAOt4QsAiAIV2iAAMNYHyAALEql3jadnY9bEW3QN4ccf77dpsWb0ZtWAuQiEAR90M9gSo3AWfPAA7/0e9f8aTYIuFKQ9DXIY6jaS7XEHBNzwhYD89gLHxMEH7m+8pDHx0JzTUQGK7GcIAQ7T0j+MiAMMBi9XqmQvs2LKl17Uthw8DYB82DIvN1u0avRLYde5cAK0Uwh0RgKHGFQQB6FzfMadPaWwLC+uFHzp670GZC2xOqrX9EYz8P534TLjgP9Tbu5eDy6HmBg5boN4XkwTjf6De3vu74NkRDdRXqwUZ0P8WMO2Z1EceoD4ubuLXoL0YKNByjk8f9t8GISTEXax+eHd8/nmv6/T8v5ge8v9APIBC94gADCXuGnBrf4C2ALzBx8wAS4p6zvbVwM7PgVa1WbStU1WY/rqtMg/WlNRob9BpAfiA0BtTH4Mx3wEsaoPo2S93nDqih4lPrpWKYH84/IV6zB2q5uH5i94PcPfH0F1T313r1aNe+auTN0w96mJUMD2xugDsoxVMywE1HcA+qudrhngAhe4QARhK9PCvNQesqf6fzxIDsVqPr+YP2u73tH+5tOsoMdtw9ejqo5eYEHoUpZ0ADKIHEMAeD3Negbub4Pp/QGJOx8czJkDSIHA1w2nvKhGFbji0XT2OmhqY842+CBKSoeacOu2jPa7Wtvy/SbM6Ppan/d2Xywe/cCHuoosAaD14EFdVVY/rnHvUsH5sUVGPa6xSBCJ0gwjAUOIJ/wawv1v8fPXY9HpbZaBTa/gae2nX9XZdAB4HRcaBmYqms9BSB1ggdVhoXtMW1/39FgsMvka9XbomNLZEIoc1ATgyQALQHgOTNS/g9k7NvA9uVfP/kgd0zP8DyBuqHhtqoK5nMSGYB1tWlqeti7MXL2DL3r2AWjjS27lAHQcnCDoiAEOJ3gPQFsAE//h/AUuiWtXb8hm4K9smgMR9vet6az4QC7SC62Tg7BD8R/f+pQxWPXRGk69NkCmXyTH9QlFgr1ahP+bi3tf6wtSr1ePW9zve/8WH6vGC2R3z/0DtBzggV70tXsCwIW6GmsPt2Nx9E29XdbVaBQzEjh/f43nat4FRpL+noCECMJQEYgZwZ6ypEP8t9Xb9f0PzW4Ab7JPB3o0XyWIFm3a/S94ITEWowr/ekqeNDjy7HVzezSQV2lF2RB3dZo+BccWBO+90zeu/7zOoONF2vz7+berc7p+Xq/3dl8nffbgQN3060HMlcIsW/rUVFGBNS+vxPFZ9HrDTiVJfH1gjhbBFBGAocQVBAAIkPwbYwbEaan6o3pdwW8/rPWFgeSMwFWYTgGkjIT5LrRI+23svMqEb9ErdccXqKLdAkTNYzfFTFPjoVfW+04fVghOrDYoXdP88fQxdxfHA2SIElbhi9YODY+NGFFfXnpx6hXDs1N5TDKxJSVgSEgDJAxTaEAEYKhSlXQg4wBWe9hGQ/F9t39tGQNJ9Pa/XK4NdJ3peI4QeswlAiwVytdDl2e3G2hKO6OLsgjmBP/fc76vHt59V8/re19r1XHAlpGd3/5ycwerxrEwBChdiL7gAS0oK7upqnLt2dXlcDw3rnsLe0L2A0gpG0BEBGCrc5aDUAlawB+ENPvm/IO1VSPkVZH4Gll5yyGzaG4EIQHNhNgEIkKUVE5zbaagZYce+jbD3U4iJhWvuCPz5r/gWFI6F2kq45wL4y6/V+294oOfnZGtTIkQAhg0Wu534yy4DoPnjj7s8roeG9VzB3pBxcEJnRACGCr3xsm0oWHqovPQHiwUSF0HyI2DL7X2txwMooSBTYUoBeIF6FAHoG4e2g80OV9wGmfmBP7/NDg/+QW0Jc+aYet+UOXBxN4VfOtniAQxH4q9Qm383/aNj1XfLsWO4TpwAq5W4adP6PI+0ghE6YzfagKhBF4D6JA4jEQ+g+Wg+Dw6tPUfqcGNtaY8uACt3g7sVrHLJ8Iob7ofiG7r24Qwk42bA//c5rH4R0rJV719vr+fxAMrffTiReN11VP3Hf9D8z3/iqq7Glp4OQNPf1TGNcZdeijUlpc/z2GQaiNAJ8QCGCpc2vD2QPQD7i0cAlnYcIScYhz4CLikfYgJYMOAvacMhJlltCF11wGhrwoucwW2iK1gMHgd3PQ03/6jvQhPdluoKcDqCa5cQMGLGjCFmwgRoaaFx1SrP/Y3vvgtA4vz5Xp1HQsBCZ0QAhgpPCNgEAtCaD9iAFnCfMdoaAUI3As5XLFbImqzePvelsbYI/pGaCXFqJSjnIicMvGTJEiwWS4evvLw8z+OKorBkyRLy8/NJSEhg1qxZ7N+/v8M5HA4H999/P1lZWSQlJXH99ddz8qR5+qQm3aZ2daj51a9QXC5ajhyh+UO172PiDTd4dQ4JAQudEQEYKlq1C44ZQsAWO9gGqbclD9Ac1GgewHSTCUCQPMBIwWKBLM0LeO6UsbYEmAkTJlBWVub52r17t+exp556imeeeYbly5ezdetW8vLyWLBgQYfnL168mFWrVvHGG2/w6aefUl9fz/z583F103rFCFLvuQdrRgatBw9See+9nL/vPlAUEq65hpjR3rUVkxCw0BlJ6AkFSmOb0LL33K09pFgHqzmArlKg7woyIcjoIWAzFYDoiACMHLIL4NRXaoPqCMJut3fw+ukoisKzzz7L448/zo033gjAK6+8Qm5uW6FcTU0NL730Eq+99hpz5qgte1asWEFhYSEfffQRV199dWh+iF6wpqaSsXw55269lfrf/la902Yj7b/+q/cntkNCwEJnxAMYCloPAgpYMsHWQ4+uUBPmhSARF/YxawgY2gnAHW3zpoXwJKtAPUaYADx06BD5+fkMGzaMW265haNH1Sb3JSUllJeXM3du23SUuLg4LrnkEs/327dvp6WlpcOa/Px8ioqK2LhxY+h+iD5I/ta3yPz977GPHIl9xAiyV64kfuZMr59vFQ+g0AkRgKHAE/4dZ6wd7QlzAQgRFvapMbEHMGMCWGzQXAkNp422RvCHCBSA06dP59VXX+Uf//gHL7zwAuXl5cycOZPKykrKy8sBOnj8ALKz2z6Il5eXExsby4ABAzqsyc3N9Ty/OxwOB7W1tR2+gk3K975HwaFDFBw+TNLChT49VzyAQmckBBwKRAAGhYgJ+zRXtrWASRsRutf1FnsCDBgL5/eqYeDkQUZbJPSXCBSA8+bN89yeOHEixcXFjBgxgldeeYUZWoNkS6f2OIoXnmxFUbo8rz1Lly7liSee6KfVoceWkwOA0tCAu7ERa6KJug0IhiAewFDQuk89xpgk/w8iQgAaEfYJyqf+am1EYHIBxCT5f75gYMI8wIhLAwgFugA8G7k/Y1JSEhMnTuTQoUOe/dDZk3fu3DnP7by8PJxOJ1VVVR3WVFRUdPEctuexxx6jpqbG81Vaau7KaktqKsTGAhIGFlTCUgD258K/d+/eDucI6YW/RXtt+4TgnL8/eARgeFYBGxX2Wbp0KWlpaZ6vwsIA9HnTBWCad9V8htA+D9BERFQaQCiIQA9gZxwOB/v372fgwIEMGzaMvLw81qxZ43nc6XTy2Wefeb6fOnUqMTExHdaUlZWxZ88eZvaSYxcXF0dqamqHLzNjsViwaddEV0WFwdYIZiAsBSD4fuG/6qqrqKur86wJ2YVfcYBLS/A3SwUwgE0TLkqlWqUcZsybN4+bbrqJiRMnMmfOHP6udcV/5ZVXPGuCEfYJyqd+vQI43cwCUJsJfNZcAlBPA9C/dJHfOQ2gqKiIV155haamJs9z9TSAp59+mjlz5jBlyhRWrFjB7t27+eijj4z6kYKLLgCryqHFaawtAeLhh///9u49SKryTuP493T39FxgGJkLw4xcDZdAFAyiOAhlIrsYzBKolDHR1SJRYxIwWxQSE82m1C0VK8mG7JJoVrO5VDYGY8xoYaKBuDLgGlBUVCCiInfmwmWYG3Pr7rN/nO4ZLgPMpbvfc/o8n6qu0zA9wzPwm8Ov3/O+71lOVVUVu3fvZvPmzVx//fU0NjayaNEiLMti6dKlPPzww1RWVrJt2za+/OUvk5ub2/X5BQUF3Hbbbdx111289NJLvPXWW9x8881d55ZMkrgMHK3V/q/i4Qawryf+EydO8OSTTwJpPvFHdgJRsAriGzC7hFUAVvz2QVF3X7rojXRd9knJu/7ECKCbG8CSeAPY+BG01Z/7tWnkh9WfSVVQDFnOZUCOVZvNkiQHDhzgxhtvZOLEiXz+858nHA6zadMmRo927nl+9913s3TpUhYvXsz06dM5ePAglSfdUQNg5cqVLFy4kBtuuIGrrrqKvLw81qxZQzAYNPEtpUxXA6gRQMHDDWBfT/xXX31110k9rSf+SOLy7+TU3he0rywrI+YBJqTrsk9KHI/fJcaNm0An5BTCkLHOc5fMAzQ1DQDMrABNCsvKuMvAq1ev5tChQ3R0dHDw4EGeeeYZJk/uvtpiWRb3338/1dXVtLW1UVVVdcrHAXJycli1ahVHjx7lxIkTrFmzJjnTO1xGl4DlZJ5cBZw48U+YMIHa2loefPBBZs6cyfbt28964i8tLWXvXme+20CW/be3d99Ds1cn/c74pemsS3rzraVXcJTToHqwAVy+fDnz589n1KhR1NXV8eCDD/Z42Wf8+PGMHz+ehx9+mNzcXBoaGoBTL/sUFRVRWFjI8uXL03/ZJxbtbgCHumiVeE9KpkHjbjj8Boz4tOk0xlZ/gvdWgJ6ieARUf5QxDaD0XiA+AhhTAyh4dASwv/O/zndS782y/z4vAIjEG8CQSxtA8OQl4Iy57NO0B6LtEMyG/DHp+3P7IzEP0CUjgKdL1zQA8N4K0FNk2Aig9F7XCKDmAAoebQBP15sT/8kn9bQu++9qAKf04TtKEw9fAs6Yyz718W1JLpgIAZfPN3J5A5jOaQBeWwF6CjWAvqVFIHKyjGgAe3Pir6qq6jqpp23Zf6yxe5sVN14CDnh7K5iMUP+ec3T75V+AkkudY/17EGk950vTQas/+6kovpF3Bu8FKD0LxgdI1AAKeHQOYH/mf+Xl5XHTTTcBaZz/FdnmHAMXQmDouV9rgsf3AswIiRFALzSAeWWQWwKth527ggybbjROYhrAkSNHKCkp4corrzxjGkBrayuLFy+mvr6eGTNmUFlZSUVFRdfXWLlyJaFQiBtuuIHW1lbmzJnDr371q4xb/XmKrhFAD122lqQIljs7UUQP6ZaO4tEGsD8n/rVr15Kfn9/1NdJy4u98xzlmufDyL0DQ+fsiuh/sGFgZMSDsLcfiq8QLXbRH5NlYFhRNhQN/hSNvG28AV69efc6PJ6YB3H///V2/d/rCrcQ0gFWrVqUiojsNi7/xO6wG0G8SDWDs2DFibW0EcnIMJxKTPNkA9ufEf7q0nPgj8QbQjfP/AIIXAkGgA2I1EHTRPoV+YNtwLH6bwKEeaAABii5xGsBj28//WnGnkvg812PVzmbQiX0BJeMFCgqwcnOxW1uJVlcTGDvWdCQxSEM+qeT2EUArFG8C0WVgE5oPQGcTBELu3gPwZIUXO8ej7577deJeBSWQle28ATl60HQaSSPLsnQZWLqoAUwVO3bSCKALF4AkdF0GVgOYdvXx0b+C8RD0yChMUbwBPLbNbA7pv0CgexRQl4F9Rw2gJKgBTJXoR2A3ATkQcvEEfzWA5nhp/l9C4lL1iRpoPXLu14p7JeYB1nlvCygZmEQDGDmo0V+/UwOYKp1vOsesKc6lVrcKjnGO0T0mU/jT0fgoWqGLR4hPFx4M+fE3DYkVzOI9xYkRQDWAfhNKjACqAfQ9NYCp0tUAftJsjvMJxicBRz4ym8OPEpdRE5dVvSIxCphYwCLekxgBrN1jNIakX3CEsw1QxEt3r5GUUAOYKokGMOT2BvBjzjGqBjCt7NhJl4A91gAmLllrBNC7hl/kHGt2m80haRcaMwaA6F5N+/E7NYCpYMeg8zXnefgKs1nOJxT/jyC6B+yo0Si+0rgHIiecewAXfMx0mr5JbFpdrxFAzypLNIB64+c3ofh+uZE9e8wGEePUAKZCZCfYDUCuu1cAAwTKgTAQcTaElvRI3E+38BPONjBeohFA70uMANbuhWjEbBZJq64RwJoaYm1tZsOIUWoAU6Fzk3MMT3f3AhAAK9g9D1CXgdPnyFvOsdjlUwR6csHHnWPzAehoMptF+qeo3NkAOhbVVjA+EygsxBo8GIDoPi0C8jM1gKnQsdE5Zl1pNkdvdV0G/tBsDj85HJ8jWuLBBjBnKOSWOs+Pv282i/RPIACl8Td+1Xrj5yeWZekysABqAJPPtqH9Red59lyzWXorGL8LReQDszn85LCHRwABhsZHAevfM5tD+q8sPvf0kH7u/SYUvwVc565dhpOISWoAky3yNsSqwcqD8GzTaXonNME5RjSakxbNB+FENVgBKJ5qOk3/JBrA42oAPWtUfDHPXi3m8ZusiRMB6HxPP79+pgYw2Vp+7BzD14KVbTRKr6kBTK/azc6x8BLIGmQ2S391jQBqIYhnjf6Ec9y33WwOSbusSU7zrwbQ39QAJlPn36H1N87zwfeYzdIXwXgDGN0FtlYEplxtfJHQcI/MEe1JYiHIMTWAnpVoAPeqAfSbrI87P79qAP1NDWAyWZYz7y97IYQvN52m94IjgRygU7eES4eavznH0hlmcwxEYiuYhg8g2mk2i/TPyMR+jrXQeNRsFkmrRAMY3bePWHOz4TRiihrAZAp9HApfgKG/M52kb6yAkx0gss1slkwXaYXa+CbhZbPMZhmIwSMhNAhindCoieSelJcPw+MrgT9802wWSatgURGBYcMA6NyuEWC/UgOYClaO6QR9lzXFOXa+YzZHpqvdDLEOyCuDgnGm0/SfZUFhfARJ9wT2rkkVzvHvfzObQ9Iue9o0ANrfeMNwEjFFDaA4QvEGMKIGMKUOrneOF37KaaK8TLeE875EA7jjVbM5JO3ClzvTlDpef91wEjFFDaA4ukYA3zWbI9Pti+8ROeIaszmSoTB+m8OjqhnPSjSA722CiOZy+kn29OkAtKsB9C01gOIIXeocox9ArMFolIzVerh7/t/o68xmSYaiRAOoUWPPuuhSGFIELQ2w/f9Mp5E0yp7hLELr3LGDSE2N4TRighpAcQRL4vcEtqFT7whTYu+fARuKL4VB5abTDFxxfNT4+PvO4hbxnmAQrvgn5/mm58xmkbQKlpYSnj4dbJvW5583HUcMUAMo3RL3Lu7YZDZHptr1jHMcu8BsjmTJK4OcIrBjcEwrCT2rIl6PVU9BVPuA+kneAuffvuUPfzCcRExQAyjdwvF96Tq1IjDpOppg/1rn+ceuN5slWSwLiuK3skvc21i854rPQkEJHKuGzRoJ8pNBX/oSWBZtf/kLnTt3mo4jaaYGULqFr3aOHevBbjMaJePsWQPRdrhgAhR+wnSa5Cm9wjnWvWY2h/RfVhiuvdV5/scfmc0iaZU1bhy58+cDcOT224nW1RlOJOmkBlC6haZCoBzsE9BRZTpNZvngKec47ove3/7lZIm7mdSqAfS0Bf/iNILbNsK7G0ynkTQaumIF1pAhtL/yCvtHjaL2c5+jYeVKIvv2mY4mKaYGULpZFmTHV6e2/dFslkzSdrR7+5dxN5jNkmyJEcBj26BDt5TyrKJymBsfBfzdQ2azSFqFJ09m+Nq1zoKQ9nZa16yhftkyDowZQ82119L2N00JylRqAOVUuTc6x9bVEGsxmyVT7Pytc/eP4k9C0cWm0yTXoHLIH+0sBKl+xXQaGYgv3A2BILy5FnboP30/yZ4xg7LXXqN861aGfv/7ZF99Ndg2bWvXUjNzJkfuuINYg7YHyzRqAOVU4U9B8CKwG6HtSdNpvM+2Yft/Oc8n3Wo2S6qMmOMcD7xkNocMzPCx8A+LnOf/c5/ZLJJ2lmURnjqVgm99i7L167lw1y4Gf+UrADQ/8QTVs2YR2b/fcEpJJjWAciorAHlLnOfNPwA7ajaP1+1f69wqLWswTLzFdJrUSDSA+9eZzSEDd9O/QjAEb66Dv2s7KD/Luugiin/xC4Zv2ECwrIzObduovvJKOt9/33Q0SRI1gHKmvK+CVejcFaT1v02n8S47Bpu/5zyfdBtkF5jNkyoj/xGsIBx9G45/YDqNDMTwsTAn/kbltw+YzSKukDN7NmWbNpE1eTLRQ4eoueYajQRmCDWAcqZAPuTHLwE13gPRWrN5vGrrSqh73Rn9u+we02lSJ7fEaQIB3te0Ac/70r3OKOCWF+Htl02nERcIjRrF8PXryZo0iejBg9TOm0e0vt50LBkgNYDSs7zFzv2B7WPQcJszmiW9U/8ebFwKry53fn3lCsgrNRop5Sbc7By3/0y3hfO68nEw7w7n+apvQLv+PQWCJSWUvvgiwfJyOrdvp27hQmKtqg0v830D+OijjzJ27FhycnK47LLL2Lhxo+lI7mCF4IJfA9nQ/ido/jfTiVIqaXVg27DmM/DOfzi/vvQuuGRJ8oK61bgvOKuBT9TA1n83naZfdC44yaIHYehwOLATfvxV39wiTjVwbqFRoyh94QVn38ANG6hbsEBNoIf5ugF86qmnWLp0Kd/97nd56623mD17NvPmzWOfNsB0ZE2Bgp85z5sfgJb/dBqcDJPUOrAsmLgIRn8W5j0LV/0wszZ+PptgGGbE9497/QHY82ezefpI54LT5A+Fb/3G2Rbm5d/CXbPgzb9CLHOvBKgGeic8ZQqlzz+PNWgQbevWUTtnDh1vv206lvSDZdsZ+D96L82YMYNp06bx2GOPdf3epEmTWLhwIStWrDjv5zc2NlJQUEBDQwNDhgxJZVSzGu+FlvjfR/gayLsdsmZC8EJnpNAjzvbvNZA66PFr2rY/mr7T2Tas+2f44HeA5dzzePR1UDAOcoog+wII5jivzcqDYHbaI6aiBs71dT1v4x/gR1+B1vgm30OHw5RPwfTPwPjpMKgABl8AzcchLx/Cuc4dRVyup38v1UDftG3cSO1112E3O7WRPXMm2bNmERo7ltCYMQSHD8cKxMeYQiGCRUUQCIBlESgs7P6YIX779+qJd/73TrKOjg7eeOMNvvOd75zy+3PnzuXVV1/t8XPa29tpb2/v+nVjY2NKM7pG/kMQKICm70HH/zoPAAIQKAUrDwKFuG5A2cqGonPf0q6vddCrGvBj8wfO9z3n186ilx1PwK6nncfZBLOdxjBrMIQvSN3f2+X3w+jPnPXDOhecw+zrYVIF/P4R+Ouvob4GqlY7j7MpKIbcfMgvdBaTuMG4aXDno2f9sGqg73Jmz+bCbds49u1vc+L3v6f91VdpP8vf1RkCAay8PEKjRmHl56c26EmGPf00oZEj0/bnuZ1LfjrT78iRI0SjUUpLT52cX1paSk1NTY+fs2LFCh54wIdbI1gWDP425HwRTjwB7c9DZAcQgVi185roLqMRe5Zz3lf0tQ58WwO9FcyCTz8OF38DPlgNda9B015ob4D2euCkCw7Rdmg5lPpMbUfO+WGdC86j+EJYvApu/wG8txm2vODcM3jPNmg/4cwPDAS6Lw83HHEeNbvN5j5Z1rnPBaqB/gmNHs2w1auJ/PCHtP7pT3Ts2EFk924ie/YQO3y463V2ezuxk1cNx2LYzc107tiR1rz2SQ27+LgBTLBOG3WwbfuM30u45557WLZsWdevGxsbGemndxOhMTDkIeAhZ4PoWJ3TANonIObGLQF6PyLZ2zrwfQ30VsknncfJYlHAdi4VdzRAZ7PTnHU2Q0dTarP0gs4F5xHOgSlXO4+EWAw62pyPdbZDWwscPQRtzdBU757dA4YU9eplqoH+CY0YQf7XvnbO13TNNotEiB45gt3URGTvXuy2tjQkdATLytL2Z3mBbxvA4uJigsHgGe/u6urqzngXmJCdnU12dvrnLbmSFYRgmfPwsL7WgWpgAALB7ue5xc5jyBhjcRJ0LhiAQABy8pzn2bnOo6DYbKZ+UA2kXlcjnZVFqKwMysrImjDBbCifc9mkrfQJh8NcdtllrFt36u2r1q1bx8yZMw2lknRTHYhqQFQD4ke+HQEEWLZsGbfccgvTp0+noqKCxx9/nH379vH1r3+9V5+fGNL22+Rfr0r8O52+8H0gdaAa8JZU1MDJX0914A091YFqwF/Odi7wFdvnfvrTn9qjR4+2w+GwPW3aNLuqqqrXn7t//34bZ1a7Hh567N+/P2l1oBrw5iOZNaA68O7j9DpQDfjv0dO5wC98vQ/gQMViMQ4dOkR+fn7X/IbEROD9+/e7cm8hP+ezbZumpibKy8sJJGkPKtVA8nmtBkB1kGypzqZzgcPP+VJ1LvASX18CHqhAIMCIESN6/NiQIUNc+QOV4Nd8BQUFSf16qoHU8UoNgOogVVKZTeeCbn7Nl4pzgZf4s+0VERER8TE1gCIiIiI+owYwybKzs7nvvvtcuz+U8qWe278H5UsPt38fbs7n5mx94fbvQ/n8TYtARERERHxGI4AiIiIiPqMGUERERMRn1ACKiIiI+IwaQBERERGfUQOYJBs2bGD+/PmUl5djWRbPPvus6UhdVqxYweWXX05+fj7Dhg1j4cKF7Ny503SsLo899hhTpkzp2uyzoqKCF154wXSsPnNzDYDqIF3cXAeqgfRQDfRfptSAF6gBTJKWlhamTp3KT37yE9NRzlBVVcWSJUvYtGkT69atIxKJMHfuXFpaWkxHA2DEiBE88sgjbNmyhS1btnDNNdewYMECtm/fbjpan7i5BkB1kC5urgPVQHqoBvovU2rAE8zdhjhzAXZlZaXpGGdVV1dnA3260Xm6DR061P75z39uOka/ub0GbFt1kA5urwPVQOqpBgbO6zXgVroXsA81NDQAUFhYaDjJmaLRKE8//TQtLS1UVFSYjpPRVAeiGhDVgH+pAfQZ27ZZtmwZs2bN4uKLLzYdp8u7775LRUUFbW1tDB48mMrKSiZPnmw6VsZSHYhqQFQD/qYG0GfuvPNO3nnnHV555RXTUU4xceJEtm7dyvHjx3nmmWdYtGgRVVVV+qFPEdWBqAZENeBzZq9AZyZcOufjzjvvtEeMGGF/9NFHpqOc15w5c+w77rjDdIx+c2sN2LbqIJ3cWgeqgfRRDQyc12vArTQC6AO2bfPNb36TyspK1q9fz9ixY01HOi/btmlvbzcdI6OoDkQ1IKoBSVADmCTNzc18+OGHXb/evXs3W7dupbCwkFGjRhlMBkuWLOHJJ5/kueeeIz8/n5qaGgAKCgrIzc01mg3g3nvvZd68eYwcOZKmpiZWr17N+vXrefHFF01H6xM31wCoDtLFzXWgGkgP1UD/ZUoNeIK5wcfM8vLLL9vAGY9FixaZjtZjLsD+5S9/aTqabdu2feutt9qjR4+2w+GwXVJSYs+ZM8deu3at6Vh95uYasG3VQbq4uQ5UA+mhGui/TKkBL7Bs27ZT01qKiIiIiBvpTiAiIiIiPqMGUERERMRn1ACKiIiI+IwaQBERERGfUQMoIiIi4jNqAEVERER8Rg2giIiIiM+oARQRERHxGTWAIiIiIj6jBlBERETEZ9QAioiIiPiMGkARERERn1EDKCIiIuIzagBFREREfEYNoIiIiIjPqAEUERER8Rk1gCIiIiI+owZQRERExGfUAIqIiIj4jBpAEREREZ9RAygiIiLiM2oARURERHxGDaCIiIiIz6gBFBEREfEZNYAiIiIiPqMGUERERMRn1ACKiIiI+IwaQBERERGfUQMoIiIi4jNqAEVERER8Rg2giIiIiM/8P66qP02hB+2UAAAAAElFTkSuQmCC' width=640.0/>\n",
       "            </div>\n",
       "        "
      ],
      "text/plain": [
       "Canvas(toolbar=Toolbar(toolitems=[('Home', 'Reset original view', 'home', 'home'), ('Back', 'Back to previous …"
      ]
     },
     "metadata": {},
     "output_type": "display_data"
    }
   ],
   "source": [
    "import matplotlib.pyplot as plt\n",
    "import matplotlib as mpl\n",
    "from dip import diptst\n",
    "import statsmodels.api as sm\n",
    "from scipy.signal import find_peaks\n",
    "from dip import diptst\n",
    "# bins = np.linspace(1,3,100)\n",
    "_,axs = plt.subplots(3,4)\n",
    "axs = axs.reshape(-1)\n",
    "\n",
    "bins = np.arange(1,3.5,0.02)\n",
    "cmap = mpl.cm.get_cmap('jet')\n",
    "metric=[]\n",
    "for i,slp in enumerate(slopes):\n",
    "    \n",
    "    hist_slopes = np.histogram(np.abs(slp),bins=bins)[0]\n",
    "    # kde = sm.nonparametric.KDEUnivariate(gaussian_filter1d(np.abs(slp),sigma=2))\n",
    "    # kde.fit()\n",
    "    hist_slopes = gaussian_filter1d(hist_slopes,sigma=2)\n",
    "    pval = diptst(hist_slopes,is_hist=True)[1]\n",
    "    print(pval)\n",
    "    metric.append(diptst(hist_slopes,is_hist=True)[1])\n",
    "\n",
    "    # peaks_ind = find_peaks(kde.density)[0]\n",
    "\n",
    "    # if len(peaks_ind)>1:\n",
    "    #     peaks_ind = peaks_ind[:2]\n",
    "    #     peaks_loc = kde.support[peaks_ind]\n",
    "    #     h1,h2 = kde.density[peaks_ind] \n",
    "\n",
    "    #     between_peak = kde.density[peaks_ind[0]:peaks_ind[1]]\n",
    "    #     dip_ind = find_peaks(-1 * between_peak)[0]+ peaks_ind[0]\n",
    "    #     dip_loc = kde.support[dip_ind]\n",
    "    #     dip_height = kde.density[dip_ind]\n",
    "\n",
    "    #     param1 =  np.abs(h1-h2)/(h1+h2)\n",
    "    #     param2 = np.diff(peaks_loc)\n",
    "\n",
    "    #     metric.append([param1,param2])\n",
    "    #     ax.plot(kde.support,kde.density,label=channels[i])\n",
    "\n",
    "    # else:\n",
    "\n",
    "    #     ax.plot(kde.support,kde.density,label=channels[i])\n",
    "    # if i==1:\n",
    "    axs[i].plot(bins[:-1],hist_slopes,color=cmap(i/len(slopes)))\n",
    "#     ax.axvline(peaks_loc[0])\n",
    "#     ax.axvline(peaks_loc[1])\n",
    "#     ax.axvline(dip_loc)\n",
    "\n",
    "# ax.legend()"
   ]
  },
  {
   "cell_type": "code",
   "execution_count": null,
   "metadata": {},
   "outputs": [],
   "source": [
    "metric1 = np.asarray(metric)\n",
    "_,ax = plt.subplots()\n",
    "# plt.plot(metric1[:,0],metric1[:,1],'.')\n",
    "plt.plot(metric,'.')\n",
    "\n"
   ]
  },
  {
   "cell_type": "code",
   "execution_count": null,
   "metadata": {},
   "outputs": [],
   "source": [
    "from neuropy.plotting import plot_signal_heatmap\n",
    "import matplotlib.pyplot as plt\n",
    "\n",
    "_, ax = plt.subplots()\n",
    "ax.imshow(\n",
    "    spect,\n",
    "    aspect=\"auto\",\n",
    "    vmax=400,\n",
    "    cmap=\"jet\",\n",
    "    origin=\"lower\",\n",
    "    extent=[t[0], t[-1], f[0], f[-1]],\n",
    ")"
   ]
  },
  {
   "cell_type": "markdown",
   "metadata": {},
   "source": [
    "### CCG between Interneurons and hpc slow waves"
   ]
  },
  {
   "cell_type": "code",
   "execution_count": null,
   "metadata": {},
   "outputs": [],
   "source": [
    "import numpy as np\n",
    "import subjects\n",
    "\n",
    "sessions = subjects.sd.pf_sess\n",
    "# channels = [23,103,183,191,127,55]\n",
    "channels = [13, 45, 32, 57, 7, 83]\n"
   ]
  },
  {
   "cell_type": "code",
   "execution_count": null,
   "metadata": {},
   "outputs": [],
   "source": [
    "from neuropy.utils.ccg import correlograms\n",
    "from neuropy.core import Epoch\n",
    "\n",
    "ccgs_all = []\n",
    "avg_sw = []\n",
    "for sub, sess in enumerate(sessions):\n",
    "    sw = sess.sw.starts\n",
    "    sw_id = np.ones(len(sw))\n",
    "    neurons = sess.neurons.get_neuron_type(\"inter\")\n",
    "\n",
    "    \n",
    "    trace = sess.eegfile.get_signal(channels[sub]).traces[0]\n",
    "    frames = np.concatenate([np.arange(e-500,e+500) for e in (sw*1250).astype('int')])\n",
    "    avg_sw_sub = np.mean(trace[frames].reshape(len(sw),-1),axis=0,keepdims=True)\n",
    "    avg_sw.append(np.tile(avg_sw_sub,(neurons.n_neurons,1)))\n",
    "\n",
    "    def _get_ccg(spikes):\n",
    "        clus = np.concatenate([sw_id, 2 * np.ones(len(spikes))]).astype('int')\n",
    "        trains = np.concatenate([sw, spikes])\n",
    "        sort_ind = np.argsort(trains)\n",
    "        ccgs = correlograms(\n",
    "            trains[sort_ind],\n",
    "            clus[sort_ind],\n",
    "            bin_size=0.010,\n",
    "            window_size=0.8,\n",
    "            sample_rate=30000,\n",
    "        )\n",
    "        return ccgs[0,1,:]\n",
    "    \n",
    "    ccgs_all.append(np.asarray([_get_ccg(_) for _ in neurons.spiketrains]))\n",
    "\n",
    "ccgs_all = np.vstack(ccgs_all)\n",
    "avg_sw = np.vstack(avg_sw)"
   ]
  },
  {
   "cell_type": "code",
   "execution_count": null,
   "metadata": {},
   "outputs": [],
   "source": [
    "import matplotlib.pyplot as plt\n",
    "from scipy import stats\n",
    "\n",
    "_,axs= plt.subplots(13,5,sharex=True)\n",
    "axs= axs.reshape(-1)\n",
    "t = np.linspace(-405,405,ccgs_all.shape[1]+1)\n",
    "t2 = np.linspace(-400,400,avg_sw.shape[1])\n",
    "for i,ax in enumerate(axs):\n",
    "\n",
    "    ax.stairs(ccgs_all[i]/np.mean(ccgs_all[i]),t,fill=True)\n",
    "    ax.plot(t2,avg_sw[i]/np.sum(avg_sw[i])+0.5,'r')"
   ]
  },
  {
   "cell_type": "markdown",
   "metadata": {},
   "source": [
    "### Delta amplitude - Ripple probability scatter plot"
   ]
  },
  {
   "cell_type": "code",
   "execution_count": null,
   "metadata": {},
   "outputs": [],
   "source": [
    "sessions = subjects.pf_sess()"
   ]
  },
  {
   "cell_type": "code",
   "execution_count": null,
   "metadata": {},
   "outputs": [],
   "source": [
    "from hfuncs import get_ccg\n",
    "\n",
    "delta_rpl_df = []\n",
    "for sub, sess in enumerate(sessions):\n",
    "    post = sess.paradigm[\"post\"].flatten()\n",
    "\n",
    "    if sess.tag == \"NSD\":\n",
    "        period = [post[0], post[0] + 2 * 3600]\n",
    "\n",
    "    if sess.tag == \"SD\":\n",
    "        period = [post[0] + 5 * 3600, post[0] + 7 * 3600]\n",
    "\n",
    "    if sess.sw is not None:\n",
    "\n",
    "        sw = sess.sw.time_slice(*period)\n",
    "        rpls = sess.ripple.time_slice(*period)\n",
    "\n",
    "        peak_amp = sw.to_dataframe().peakamp\n",
    "        end_amp = sw.to_dataframe().endamp\n",
    "        delta_amp = np.abs(peak_amp) + np.abs(end_amp)\n",
    "\n",
    "        sw_t = sw.to_dataframe().peaktime\n",
    "        rpl_t = rpls.to_dataframe().peak_time\n",
    "\n",
    "        quantiles = pd.qcut(delta_amp, q=5, labels=False)\n",
    "\n",
    "        for q in range(5):\n",
    "\n",
    "            idx = (quantiles == q).values\n",
    "            n_delta = np.count_nonzero(idx)\n",
    "            t, ccg = get_ccg(sw_t[idx], rpl_t, 0.001, 0.8)\n",
    "\n",
    "            prob = ccg[(t > -0.1) & (t < 0.1)].sum() / n_delta\n",
    "            mean_amp = np.mean(delta_amp[idx])\n",
    "\n",
    "            df = pd.DataFrame(\n",
    "                dict(delta_amp=[mean_amp], prob=[prob], grp=sess.tag, session=sub)\n",
    "            )\n",
    "            delta_rpl_df.append(df)\n",
    "\n",
    "delta_rpl_df = pd.concat(delta_rpl_df, ignore_index=True)\n"
   ]
  },
  {
   "cell_type": "code",
   "execution_count": null,
   "metadata": {},
   "outputs": [],
   "source": [
    "# _,ax = plt.subplots()\n",
    "# sns.lineplot(data=delta_rpl_df,x='time',y='prob',hue='grp',ci='sd',ax=ax)\n",
    "\n",
    "sns.lmplot(\n",
    "    data=delta_rpl_df,\n",
    "    x=\"delta_amp\",\n",
    "    y=\"prob\",\n",
    "    hue=\"grp\",\n",
    "    palette=subjects.colors_sd(1),\n",
    "    ci=None,\n",
    ")\n",
    "# sns.boxplot(data=delta_rpl_df,x='delta_amp',y='prob',hue='grp',ax=ax)\n",
    "# ax.axvline(0,color='k')\n"
   ]
  },
  {
   "cell_type": "markdown",
   "metadata": {},
   "source": [
    "### Delta - Ripple probability SD vs NSD (histogram)"
   ]
  },
  {
   "cell_type": "code",
   "execution_count": null,
   "metadata": {},
   "outputs": [],
   "source": [
    "sessions = subjects.pf_sess()"
   ]
  },
  {
   "cell_type": "code",
   "execution_count": null,
   "metadata": {},
   "outputs": [],
   "source": [
    "from hfuncs import get_ccg\n",
    "\n",
    "delta_rpl_df = []\n",
    "for sub, sess in enumerate(sessions):\n",
    "    post = sess.paradigm[\"post\"].flatten()\n",
    "\n",
    "    if sess.tag == \"NSD\":\n",
    "        period = [post[0], post[0] + 2 * 3600]\n",
    "\n",
    "    if sess.tag == \"SD\":\n",
    "        period = [post[0] + 5 * 3600, post[0] + 7 * 3600]\n",
    "\n",
    "    if sess.sw is not None:\n",
    "\n",
    "        sw = sess.sw.time_slice(*period)\n",
    "        rpls = sess.ripple.time_slice(*period)\n",
    "\n",
    "        peak_amp = sw.to_dataframe().peakamp\n",
    "        end_amp = sw.to_dataframe().endamp\n",
    "        delta_amp = np.abs(peak_amp) + np.abs(end_amp)\n",
    "\n",
    "        sw_t = sw.to_dataframe().peaktime\n",
    "        rpl_t = rpls.to_dataframe().peak_time\n",
    "\n",
    "        t, ccg = get_ccg(sw_t, rpl_t, 0.001, 0.8)\n",
    "        ccg = gaussian_filter1d(ccg,sigma=2)\n",
    "\n",
    "        df = pd.DataFrame(dict(time=t, prob=ccg/len(sw_t), grp=sess.tag, session=sub))\n",
    "\n",
    "        delta_rpl_df.append(df)\n",
    "\n",
    "delta_rpl_df = pd.concat(delta_rpl_df, ignore_index=True)\n"
   ]
  },
  {
   "cell_type": "code",
   "execution_count": null,
   "metadata": {},
   "outputs": [],
   "source": [
    "fig = plotting.Fig(grid=(5,3))\n",
    "\n",
    "ax = fig.subplot(fig.gs[1])\n",
    "sns.lineplot(data=delta_rpl_df,x='time',y='prob',hue='grp',ci=None,ax=ax,color='#e000d9')\n",
    "ax.axvline(0,color='k')\n",
    "# ax.axvline(-0.1,color='r',ls='--')\n",
    "# ax.axvline(0.1,color='r',ls='--')\n",
    "ax.axvspan(-0.1,0.1,color='#d0cdcd',alpha=0.3)\n",
    "\n",
    "\n",
    "# sns.boxplot(data=delta_rpl_df,x='delta_amp',y='prob',hue='grp',ax=ax)\n"
   ]
  }
 ],
 "metadata": {
  "interpreter": {
   "hash": "cce1618081139d19eb1ee8d40815d94a2de4f62e1efb20d9406ddb60628c36ae"
  },
  "kernelspec": {
   "display_name": "Python 3.9.9 64-bit ('data_analysis': conda)",
   "language": "python",
   "name": "python3"
  },
  "language_info": {
   "codemirror_mode": {
    "name": "ipython",
    "version": 3
   },
   "file_extension": ".py",
   "mimetype": "text/x-python",
   "name": "python",
   "nbconvert_exporter": "python",
   "pygments_lexer": "ipython3",
   "version": "3.10.4"
  },
  "orig_nbformat": 4
 },
 "nbformat": 4,
 "nbformat_minor": 2
}
