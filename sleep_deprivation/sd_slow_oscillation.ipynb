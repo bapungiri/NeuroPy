{
 "cells": [
  {
   "cell_type": "markdown",
   "metadata": {},
   "source": [
    "### Averaged slow oscillation power during SD-POST"
   ]
  },
  {
   "cell_type": "code",
   "execution_count": 1,
   "metadata": {},
   "outputs": [
    {
     "name": "stdout",
     "output_type": "stream",
     "text": [
      "[ProcessData(RatS_Day3SD_2020-11-29_07-53-30.xml)\n",
      ", ProcessData(RatS-Day2NSD-2020-11-27_10-22-29.xml)\n",
      "]\n"
     ]
    }
   ],
   "source": [
    "import matplotlib.pyplot as plt\n",
    "import numpy as np\n",
    "import seaborn as sns\n",
    "from neuropy import plotting\n",
    "from neuropy.utils import signal_process\n",
    "from scipy import stats\n",
    "import subjects\n",
    "import pandas as pd\n",
    "\n",
    "sessions = subjects.sd.ratSday3 + subjects.nsd.ratSday2\n",
    "print(sessions)"
   ]
  },
  {
   "cell_type": "code",
   "execution_count": null,
   "metadata": {},
   "outputs": [],
   "source": [
    "spects = []\n",
    "for sess in sessions:\n",
    "    t_start, t_stop = sess.paradigm[\"post\"].flatten()\n",
    "    signal = sess.eegfile.get_signal(113, t_start=t_start, t_stop=t_stop)\n",
    "    spects.append(\n",
    "        signal_process.FourierSg(\n",
    "            signal, freqs=np.arange(1, 20, 0.5), window=5 * 60, overlap=60\n",
    "        )\n",
    "    )\n"
   ]
  }
 ],
 "metadata": {
  "interpreter": {
   "hash": "cce1618081139d19eb1ee8d40815d94a2de4f62e1efb20d9406ddb60628c36ae"
  },
  "kernelspec": {
   "display_name": "Python 3.9.9 64-bit ('data_analysis': conda)",
   "language": "python",
   "name": "python3"
  },
  "language_info": {
   "codemirror_mode": {
    "name": "ipython",
    "version": 3
   },
   "file_extension": ".py",
   "mimetype": "text/x-python",
   "name": "python",
   "nbconvert_exporter": "python",
   "pygments_lexer": "ipython3",
   "version": "3.9.9"
  },
  "orig_nbformat": 4
 },
 "nbformat": 4,
 "nbformat_minor": 2
}
