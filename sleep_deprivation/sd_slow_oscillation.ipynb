{
 "cells": [
  {
   "cell_type": "markdown",
   "metadata": {},
   "source": [
    "### Averaged slow oscillation power during SD-POST"
   ]
  },
  {
   "cell_type": "code",
   "execution_count": null,
   "metadata": {},
   "outputs": [],
   "source": [
    "import matplotlib.pyplot as plt\n",
    "import numpy as np\n",
    "import seaborn as sns\n",
    "from neuropy import plotting\n",
    "from neuropy.utils import signal_process\n",
    "from scipy import stats\n",
    "import subjects\n",
    "import pandas as pd\n",
    "\n",
    "sessions = subjects.nsd.ratSday2 + subjects.sd.ratSday3"
   ]
  },
  {
   "cell_type": "code",
   "execution_count": null,
   "metadata": {},
   "outputs": [],
   "source": [
    "spects = []\n",
    "for sess in sessions:\n",
    "    t_start, t_stop = sess.paradigm[\"post\"].flatten()\n",
    "    signal = sess.eegfile.get_signal(113, t_start=t_start, t_stop=t_start+15*60)\n",
    "    spects.append(signal_process.FourierSg(signal, window=5 * 60, overlap=60))\n"
   ]
  },
  {
   "cell_type": "code",
   "execution_count": null,
   "metadata": {},
   "outputs": [],
   "source": [
    "fig = plotting.Fig(grid=(4, 3), hspace=0.3, wspace=0.35)\n",
    "# fig.suptitle(\"Figure 1\", x=0, ha=\"left\", fontsize=16)\n",
    "\n",
    "# ------ panel a --------\n",
    "gs_spect = fig.subplot2grid(fig.gs[0, :2], grid=(2, 1))\n",
    "brainstates = [\n",
    "    sess.brainstates.time_slice(\n",
    "        sess.paradigm[\"post\"].flatten()[0], sess.paradigm[\"post\"].flatten()[1]\n",
    "    )\n",
    "    for sess in [sd_sessions[1], nsd_sessions[1]]\n",
    "]\n",
    "t_starts = [\n",
    "    sess.paradigm[\"post\"].flatten()[0] for sess in [sd_sessions[1], nsd_sessions[1]]\n",
    "]\n",
    "\n",
    "for i, spect in enumerate(spects):\n",
    "    gs_swa = fig.subplot2grid(gs_spect[i], grid=(4, 1))\n",
    "    ax_theta = plt.subplot(gs_swa[1:])\n",
    "    ax_hypno = plt.subplot(gs_swa[0])\n",
    "    plotting.plot_hypnogram(brainstates[i], ax=ax_hypno)\n",
    "\n",
    "    if i == 0:\n",
    "        ax_theta.set_xlabel(\"\")\n",
    "        ax_theta.set_xticklabels([])"
   ]
  }
 ],
 "metadata": {
  "interpreter": {
   "hash": "cce1618081139d19eb1ee8d40815d94a2de4f62e1efb20d9406ddb60628c36ae"
  },
  "kernelspec": {
   "display_name": "Python 3.9.9 64-bit ('data_analysis': conda)",
   "language": "python",
   "name": "python3"
  },
  "language_info": {
   "codemirror_mode": {
    "name": "ipython",
    "version": 3
   },
   "file_extension": ".py",
   "mimetype": "text/x-python",
   "name": "python",
   "nbconvert_exporter": "python",
   "pygments_lexer": "ipython3",
   "version": "3.9.9"
  },
  "orig_nbformat": 4
 },
 "nbformat": 4,
 "nbformat_minor": 2
}
