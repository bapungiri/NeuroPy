{
 "cells": [
  {
   "cell_type": "markdown",
   "metadata": {},
   "source": [
    "### Imports"
   ]
  },
  {
   "cell_type": "code",
   "execution_count": 1,
   "metadata": {},
   "outputs": [],
   "source": [
    "import matplotlib.pyplot as plt\n",
    "import numpy as np\n",
    "import seaborn as sns\n",
    "from neuropy import plotting\n",
    "from neuropy.utils import signal_process\n",
    "from scipy.ndimage import gaussian_filter1d\n",
    "from scipy import stats\n",
    "import subjects\n",
    "import pandas as pd"
   ]
  },
  {
   "cell_type": "markdown",
   "metadata": {},
   "source": [
    "### View spectrogram (whitened or regular)"
   ]
  },
  {
   "cell_type": "code",
   "execution_count": null,
   "metadata": {},
   "outputs": [],
   "source": [
    "import numpy as np\n",
    "import subjects\n",
    "\n",
    "sessions = subjects.nsd.ratVday3"
   ]
  },
  {
   "cell_type": "code",
   "execution_count": null,
   "metadata": {},
   "outputs": [],
   "source": [
    "from neuropy.utils.signal_process import FourierSg\n",
    "from hfuncs import whiten_signal\n",
    "\n",
    "for sub,sess in enumerate(sessions):\n",
    "    signal = sess.eegfile.get_signal(82)\n",
    "    signal = whiten_signal(signal)\n",
    "    spect = FourierSg(signal,window=60,overlap=10)"
   ]
  },
  {
   "cell_type": "code",
   "execution_count": null,
   "metadata": {},
   "outputs": [],
   "source": [
    "%matplotlib widget\n",
    "from neuropy.plotting import plot_signal_heatmap\n",
    "import matplotlib.pyplot as plt\n",
    "\n",
    "_, ax = plt.subplots()\n",
    "ax.imshow(\n",
    "    spect.traces,\n",
    "    aspect=\"auto\",\n",
    "    vmax=0.004,\n",
    "    cmap=\"jet\",\n",
    "    origin=\"lower\",\n",
    "    extent=[spect.time[0], spect.time[-1], spect.freqs[0], spect.freqs[-1]],\n",
    ")\n"
   ]
  },
  {
   "cell_type": "code",
   "execution_count": null,
   "metadata": {},
   "outputs": [],
   "source": [
    "%matplotlib widget\n",
    "from neuropy.plotting import plot_signal_heatmap\n",
    "import matplotlib.pyplot as plt\n",
    "\n",
    "_, ax = plt.subplots()\n",
    "ax.imshow(\n",
    "    spect.traces,\n",
    "    aspect=\"auto\",\n",
    "    vmax=0.004,\n",
    "    cmap=\"jet\",\n",
    "    origin=\"lower\",\n",
    "    extent=[spect.time[0], spect.time[-1], spect.freqs[0], spect.freqs[-1]],\n",
    ")\n"
   ]
  },
  {
   "cell_type": "markdown",
   "metadata": {},
   "source": [
    "### Pooled detection hippocampal slow waves\n",
    "Channel selections\n",
    "1) Visually somewhere in the radiatum, but maybe cotaminated by sharp waves\n",
    "2) Choose channel which anatomically has lowest depth i.e, more close to the cortex."
   ]
  },
  {
   "cell_type": "code",
   "execution_count": null,
   "metadata": {},
   "outputs": [],
   "source": [
    "sessions = subjects.pf_sess()\n",
    "\n",
    "# bottom channels (radiatum channels)\n",
    "# channels = [23,103,183,111,79,79,23,103,183,191,191,127,55]\n",
    "# channels = [91, 77, 32, 57, 20, 13, 45, 32, 57, 7, 83]\n",
    "\n",
    "# assert len(channels) == len(sessions)"
   ]
  },
  {
   "cell_type": "code",
   "execution_count": null,
   "metadata": {},
   "outputs": [],
   "source": [
    "from tqdm.notebook import tqdm\n",
    "\n",
    "from neuropy.analyses.oscillations import detect_hpc_slow_wave_epochs\n",
    "\n",
    "for sub,sess in enumerate(tqdm(sessions[5:])):\n",
    "    channels = sess.ripple.metadata['channels']\n",
    "    probe_df = sess.probegroup.to_dataframe()\n",
    "    idx = np.isin(probe_df.channel_id.values,channels)\n",
    "    y_coord =probe_df.y.values[idx] \n",
    "    shank_id=probe_df.shank_id.values[idx] \n",
    "\n",
    "    shank = int(shank_id[np.argmin(y_coord)])\n",
    "\n",
    "    shank_channels = sess.probegroup.get_connected_channels()[shank]\n",
    "    signal = sess.eegfile.get_signal(int(shank_channels[0]))\n",
    "    if sess.brainstates is not None:\n",
    "        states = sess.brainstates['nrem'].duration_slice(min_dur=60)\n",
    "        if len(states)>1: \n",
    "            epochs = detect_hpc_slow_wave_epochs(signal,(0.5,4),nrem_epochs=states)\n",
    "            epochs.save(sess.filePrefix.with_suffix('.sw'))\n",
    "\n"
   ]
  },
  {
   "cell_type": "markdown",
   "metadata": {},
   "source": [
    "### View in Neuroscope Delta waves "
   ]
  },
  {
   "cell_type": "code",
   "execution_count": null,
   "metadata": {},
   "outputs": [],
   "source": [
    "from neuropy.core import Epoch\n",
    "\n",
    "sess = subjects.nsd.ratUday2[0]\n",
    "swa = sess.sw.to_dataframe()\n",
    "starts,stops = swa.peaktime.values,swa.stop.values\n",
    "epochs = Epoch.from_array(starts,stops)\n",
    "sess.recinfo.write_epochs(epochs,'.swa')"
   ]
  },
  {
   "cell_type": "code",
   "execution_count": null,
   "metadata": {},
   "outputs": [],
   "source": [
    "swa"
   ]
  },
  {
   "cell_type": "markdown",
   "metadata": {},
   "source": [
    "### Fig1A related:Averaged slow oscillation power during NSD and SD POST"
   ]
  },
  {
   "cell_type": "code",
   "execution_count": null,
   "metadata": {},
   "outputs": [],
   "source": [
    "# sessions = subjects.nsd.ratSday2 + subjects.sd.ratSday3\n",
    "sessions = subjects.nsd.ratUday2 + subjects.sd.ratUday4"
   ]
  },
  {
   "cell_type": "code",
   "execution_count": null,
   "metadata": {},
   "outputs": [],
   "source": [
    "swa, swa_time, brainstates = [], [], []\n",
    "for sess in sessions:\n",
    "    maze= sess.paradigm[\"maze\"].flatten()\n",
    "    post= sess.paradigm[\"post\"].flatten()\n",
    "    t_start =maze[0]\n",
    "    t_stop = t_start + 8*3600\n",
    "    states =sess.brainstates.time_slice(t_start, t_stop).shift(-t_start)\n",
    "\n",
    "    signal = sess.eegfile.get_signal(127, t_start=t_start, t_stop=t_stop).rescale(\n",
    "        0.95 * 1e-3\n",
    "    )\n",
    "    spect = signal_process.FourierSg(signal, window=5 * 60, overlap=60, norm_sig=False)\n",
    "    swa.append(spect.delta)\n",
    "    swa_time.append(spect.time-t_start)\n",
    "    brainstates.append(states.to_dataframe())\n",
    "\n",
    "# subjects.GroupData().save(\n",
    "#     dict(swa=swa, swa_time=swa_time, brainstates=brainstates), \"swa_examples\"\n",
    "# )\n"
   ]
  },
  {
   "cell_type": "code",
   "execution_count": null,
   "metadata": {},
   "outputs": [],
   "source": [
    "from neuropy.plotting import plot_epochs, plot_hypnogram\n",
    "from neuropy.core import Epoch\n",
    "\n",
    "_, axs = plt.subplots(\n",
    "    3, 2, sharey=\"row\", sharex=\"col\", gridspec_kw=dict(height_ratios=[1, 1, 4])\n",
    ")\n",
    "\n",
    "for i in range(2):\n",
    "    time = swa_time[i]\n",
    "\n",
    "    plot_hypnogram(\n",
    "        Epoch(brainstates[i]),\n",
    "        ax=axs[0, i],\n",
    "        # labels_order=[\"nrem\", \"rem\", \"quiet\", \"active\"],\n",
    "        # colors=subjects.colors_sleep_old,\n",
    "    )\n",
    "\n",
    "    plot_epochs(\n",
    "        brainstates[i],\n",
    "        ax=axs[1, i],\n",
    "        labels_order=[\"nrem\", \"rem\", \"quiet\", \"active\"],\n",
    "        colors=subjects.colors_sleep_old,\n",
    "    )\n",
    "    axs[1,i].axis('off')\n",
    "\n",
    "    axs[2, i].plot(time, swa[i])\n",
    "    # axs[1,i].set_xlim(left=time[0])\n",
    "    x_ticks = axs[1, i].get_xticks()\n",
    "    new_xticks = (x_ticks - swa_time[i][0]) / 3600\n",
    "    # axs[1,i].set_xticks(x_ticks,new_xticks.round(2))\n",
    "    print(time[0])\n"
   ]
  },
  {
   "cell_type": "markdown",
   "metadata": {},
   "source": [
    "### SWA power as percentage above baseline(MAZE) during NSD and SD POST"
   ]
  },
  {
   "cell_type": "code",
   "execution_count": null,
   "metadata": {},
   "outputs": [],
   "source": [
    "# sessions = subjects.nsd.ratSday2 + subjects.sd.ratSday3\n",
    "# sessions = subjects.nsd.ratUday2 + subjects.sd.ratUday4\n",
    "sessions = subjects.nsd.ratNday2+ subjects.sd.ratNday1"
   ]
  },
  {
   "cell_type": "code",
   "execution_count": null,
   "metadata": {},
   "outputs": [],
   "source": [
    "swa, swa_time, brainstates = [], [], []\n",
    "for sess in sessions:\n",
    "    maze = sess.paradigm[\"maze\"].flatten()\n",
    "    post = sess.paradigm[\"post\"].flatten()\n",
    "\n",
    "    spect_kw = dict(window=2 * 60, overlap=60, norm_sig=False)\n",
    "\n",
    "    signal = sess.eegfile.get_signal(113, *maze)\n",
    "    baseline = signal_process.FourierSg(signal, **spect_kw).get_band_power(0.5,4).mean()\n",
    "\n",
    "    post = [post[0], post[0] + 8 * 3600]\n",
    "    states = sess.brainstates.time_slice(*post).shift(-post[0])\n",
    "    signal = sess.eegfile.get_signal(113, *post)\n",
    "    spect = signal_process.FourierSg(signal, **spect_kw)\n",
    "\n",
    "    swa.append(spect.get_band_power(0.5,4)/baseline)\n",
    "    swa_time.append(spect.time - post[0])\n",
    "    brainstates.append(states.to_dataframe())\n",
    "\n",
    "# subjects.GroupData().save(\n",
    "#     dict(swa=swa, swa_time=swa_time, brainstates=brainstates), \"swa_examples\"\n",
    "# )"
   ]
  },
  {
   "cell_type": "code",
   "execution_count": null,
   "metadata": {},
   "outputs": [],
   "source": [
    "from neuropy.plotting import plot_epochs, plot_hypnogram\n",
    "from neuropy.core import Epoch\n",
    "\n",
    "_, axs = plt.subplots(\n",
    "    3, 2, sharey=\"row\", sharex=\"col\", gridspec_kw=dict(height_ratios=[1, 1, 4])\n",
    ")\n",
    "\n",
    "for i in range(2):\n",
    "    time = swa_time[i]\n",
    "\n",
    "    plot_hypnogram(\n",
    "        Epoch(brainstates[i]),\n",
    "        ax=axs[0, i],\n",
    "        # labels_order=[\"nrem\", \"rem\", \"quiet\", \"active\"],\n",
    "        # colors=subjects.colors_sleep_old,\n",
    "    )\n",
    "\n",
    "    plot_epochs(\n",
    "        brainstates[i],\n",
    "        ax=axs[1, i],\n",
    "        labels_order=[\"nrem\", \"rem\", \"quiet\", \"active\"],\n",
    "        colors=subjects.colors_sleep_old,\n",
    "    )\n",
    "    axs[1,i].axis('off')\n",
    "\n",
    "    axs[2, i].plot(time, swa[i])\n",
    "    # axs[1,i].set_xlim(left=time[0])\n",
    "    x_ticks = axs[1, i].get_xticks()\n",
    "    new_xticks = (x_ticks - swa_time[i][0]) / 3600\n",
    "    # axs[1,i].set_xticks(x_ticks,new_xticks.round(2))\n"
   ]
  },
  {
   "cell_type": "markdown",
   "metadata": {},
   "source": [
    "### Best slow wave channels based on bimodality of slope"
   ]
  },
  {
   "cell_type": "code",
   "execution_count": null,
   "metadata": {},
   "outputs": [],
   "source": [
    "import numpy as np\n",
    "import subjects\n",
    "\n",
    "sessions = subjects.sd.ratKday1"
   ]
  },
  {
   "cell_type": "code",
   "execution_count": null,
   "metadata": {},
   "outputs": [],
   "source": [
    "from neuropy.utils.signal_process import FourierSg\n",
    "from hfuncs import whiten_signal\n",
    "import scipy.signal as sg\n",
    "from numpy.polynomial import polynomial\n",
    "from scipy.ndimage import gaussian_filter1d\n",
    "\n",
    "for sub, sess in enumerate(sessions):\n",
    "\n",
    "    # channels = [19,25,2,1,93,87,189,183]\n",
    "    channels = np.arange(10)\n",
    "    slopes = []\n",
    "    for chan in channels:\n",
    "        signal = sess.eegfile.get_signal(chan)\n",
    "        # spect = FourierSg(signal,window=60,overlap=10)\n",
    "        f, t, spect = sg.spectrogram(\n",
    "            signal.traces[0], fs=1250, nperseg=60 * 1250, noverlap=10 * 1250,axis=-1\n",
    "        )\n",
    "        spect = gaussian_filter1d(spect,sigma=4,axis=0)\n",
    "\n",
    "        indices = (f>4) & (f<90)\n",
    "        f = np.log10(f[indices])\n",
    "        spect = np.log10(spect[indices,:])\n",
    "\n",
    "        invalid_col = ~np.isfinite(spect).any(axis=0)\n",
    "        linfit = np.polyfit(f,spect[:,~invalid_col],deg=1)\n",
    "        slopes.append(linfit[0])\n"
   ]
  },
  {
   "cell_type": "code",
   "execution_count": null,
   "metadata": {},
   "outputs": [],
   "source": [
    "%matplotlib widget\n",
    "import matplotlib.pyplot as plt\n",
    "import statsmodels.api as sm\n",
    "from scipy.signal import find_peaks\n",
    "from dip import diptst\n",
    "# bins = np.linspace(1,3,100)\n",
    "_,ax = plt.subplots(1,1)\n",
    "bins = np.arange(1,3.5,0.02)\n",
    "metric=[]\n",
    "for i,slp in enumerate(slopes):\n",
    "    \n",
    "    hist_slopes = np.histogram(np.abs(slp),bins=bins)[0]\n",
    "    # kde = sm.nonparametric.KDEUnivariate(gaussian_filter1d(np.abs(slp),sigma=2))\n",
    "    # kde.fit()\n",
    "    hist_slopes = gaussian_filter1d(hist_slopes,sigma=2)\n",
    "    metric.append(diptst(hist_slopes,is_hist=True)[1])\n",
    "\n",
    "    # peaks_ind = find_peaks(kde.density)[0]\n",
    "\n",
    "    # if len(peaks_ind)>1:\n",
    "    #     peaks_ind = peaks_ind[:2]\n",
    "    #     peaks_loc = kde.support[peaks_ind]\n",
    "    #     h1,h2 = kde.density[peaks_ind] \n",
    "\n",
    "    #     between_peak = kde.density[peaks_ind[0]:peaks_ind[1]]\n",
    "    #     dip_ind = find_peaks(-1 * between_peak)[0]+ peaks_ind[0]\n",
    "    #     dip_loc = kde.support[dip_ind]\n",
    "    #     dip_height = kde.density[dip_ind]\n",
    "\n",
    "    #     param1 =  np.abs(h1-h2)/(h1+h2)\n",
    "    #     param2 = np.diff(peaks_loc)\n",
    "\n",
    "    #     metric.append([param1,param2])\n",
    "    #     ax.plot(kde.support,kde.density,label=channels[i])\n",
    "\n",
    "    # else:\n",
    "\n",
    "    #     ax.plot(kde.support,kde.density,label=channels[i])\n",
    "    # if i==1:\n",
    "    ax.plot(bins[:-1],hist_slopes)\n",
    "#     ax.axvline(peaks_loc[0])\n",
    "#     ax.axvline(peaks_loc[1])\n",
    "#     ax.axvline(dip_loc)\n",
    "\n",
    "# ax.legend()"
   ]
  },
  {
   "cell_type": "code",
   "execution_count": null,
   "metadata": {},
   "outputs": [],
   "source": [
    "metric1 = np.asarray(metric)\n",
    "_,ax = plt.subplots()\n",
    "# plt.plot(metric1[:,0],metric1[:,1],'.')\n",
    "plt.plot(metric,'.')\n",
    "\n"
   ]
  },
  {
   "cell_type": "code",
   "execution_count": null,
   "metadata": {},
   "outputs": [],
   "source": [
    "%matplotlib widget\n",
    "from neuropy.plotting import plot_signal_heatmap\n",
    "import matplotlib.pyplot as plt\n",
    "\n",
    "_, ax = plt.subplots()\n",
    "ax.imshow(\n",
    "    spect,\n",
    "    aspect=\"auto\",\n",
    "    vmax=400,\n",
    "    cmap=\"jet\",\n",
    "    origin=\"lower\",\n",
    "    extent=[t[0], t[-1], f[0], f[-1]],\n",
    ")"
   ]
  },
  {
   "cell_type": "markdown",
   "metadata": {},
   "source": [
    "### CCG between Interneurons and hpc slow waves"
   ]
  },
  {
   "cell_type": "code",
   "execution_count": null,
   "metadata": {},
   "outputs": [],
   "source": [
    "import numpy as np\n",
    "import subjects\n",
    "\n",
    "sessions = subjects.sd.pf_sess\n",
    "# channels = [23,103,183,191,127,55]\n",
    "channels = [13, 45, 32, 57, 7, 83]\n"
   ]
  },
  {
   "cell_type": "code",
   "execution_count": null,
   "metadata": {},
   "outputs": [],
   "source": [
    "from neuropy.utils.ccg import correlograms\n",
    "from neuropy.core import Epoch\n",
    "\n",
    "ccgs_all = []\n",
    "avg_sw = []\n",
    "for sub, sess in enumerate(sessions):\n",
    "    sw = sess.sw.starts\n",
    "    sw_id = np.ones(len(sw))\n",
    "    neurons = sess.neurons.get_neuron_type(\"inter\")\n",
    "\n",
    "    \n",
    "    trace = sess.eegfile.get_signal(channels[sub]).traces[0]\n",
    "    frames = np.concatenate([np.arange(e-500,e+500) for e in (sw*1250).astype('int')])\n",
    "    avg_sw_sub = np.mean(trace[frames].reshape(len(sw),-1),axis=0,keepdims=True)\n",
    "    avg_sw.append(np.tile(avg_sw_sub,(neurons.n_neurons,1)))\n",
    "\n",
    "    def _get_ccg(spikes):\n",
    "        clus = np.concatenate([sw_id, 2 * np.ones(len(spikes))]).astype('int')\n",
    "        trains = np.concatenate([sw, spikes])\n",
    "        sort_ind = np.argsort(trains)\n",
    "        ccgs = correlograms(\n",
    "            trains[sort_ind],\n",
    "            clus[sort_ind],\n",
    "            bin_size=0.010,\n",
    "            window_size=0.8,\n",
    "            sample_rate=30000,\n",
    "        )\n",
    "        return ccgs[0,1,:]\n",
    "    \n",
    "    ccgs_all.append(np.asarray([_get_ccg(_) for _ in neurons.spiketrains]))\n",
    "\n",
    "ccgs_all = np.vstack(ccgs_all)\n",
    "avg_sw = np.vstack(avg_sw)"
   ]
  },
  {
   "cell_type": "code",
   "execution_count": null,
   "metadata": {},
   "outputs": [],
   "source": [
    "import matplotlib.pyplot as plt\n",
    "from scipy import stats\n",
    "\n",
    "_,axs= plt.subplots(13,5,sharex=True)\n",
    "axs= axs.reshape(-1)\n",
    "t = np.linspace(-405,405,ccgs_all.shape[1]+1)\n",
    "t2 = np.linspace(-400,400,avg_sw.shape[1])\n",
    "for i,ax in enumerate(axs):\n",
    "\n",
    "    ax.stairs(ccgs_all[i]/np.mean(ccgs_all[i]),t,fill=True)\n",
    "    ax.plot(t2,avg_sw[i]/np.sum(avg_sw[i])+0.5,'r')"
   ]
  },
  {
   "cell_type": "markdown",
   "metadata": {},
   "source": [
    "### Delta amplitude - Ripple probability scatter plot"
   ]
  },
  {
   "cell_type": "code",
   "execution_count": null,
   "metadata": {},
   "outputs": [],
   "source": [
    "sessions = subjects.pf_sess()"
   ]
  },
  {
   "cell_type": "code",
   "execution_count": null,
   "metadata": {},
   "outputs": [],
   "source": [
    "from hfuncs import get_ccg\n",
    "\n",
    "delta_rpl_df = []\n",
    "for sub, sess in enumerate(sessions):\n",
    "    post = sess.paradigm[\"post\"].flatten()\n",
    "\n",
    "    if sess.tag == \"NSD\":\n",
    "        period = [post[0], post[0] + 2 * 3600]\n",
    "\n",
    "    if sess.tag == \"SD\":\n",
    "        period = [post[0] + 5 * 3600, post[0] + 7 * 3600]\n",
    "\n",
    "    if sess.sw is not None:\n",
    "\n",
    "        sw = sess.sw.time_slice(*period)\n",
    "        rpls = sess.ripple.time_slice(*period)\n",
    "\n",
    "        peak_amp = sw.to_dataframe().peakamp\n",
    "        end_amp = sw.to_dataframe().endamp\n",
    "        delta_amp = np.abs(peak_amp) + np.abs(end_amp)\n",
    "\n",
    "        sw_t = sw.to_dataframe().peaktime\n",
    "        rpl_t = rpls.to_dataframe().peak_time\n",
    "\n",
    "        quantiles = pd.qcut(delta_amp, q=5, labels=False)\n",
    "\n",
    "        for q in range(5):\n",
    "\n",
    "            idx = (quantiles == q).values\n",
    "            n_delta = np.count_nonzero(idx)\n",
    "            t, ccg = get_ccg(sw_t[idx], rpl_t, 0.001, 0.8)\n",
    "\n",
    "            prob = ccg[(t > -0.1) & (t < 0.1)].sum() / n_delta\n",
    "            mean_amp = np.mean(delta_amp[idx])\n",
    "\n",
    "            df = pd.DataFrame(\n",
    "                dict(delta_amp=[mean_amp], prob=[prob], grp=sess.tag, session=sub)\n",
    "            )\n",
    "            delta_rpl_df.append(df)\n",
    "\n",
    "delta_rpl_df = pd.concat(delta_rpl_df, ignore_index=True)\n"
   ]
  },
  {
   "cell_type": "code",
   "execution_count": null,
   "metadata": {},
   "outputs": [],
   "source": [
    "# _,ax = plt.subplots()\n",
    "# sns.lineplot(data=delta_rpl_df,x='time',y='prob',hue='grp',ci='sd',ax=ax)\n",
    "\n",
    "sns.lmplot(\n",
    "    data=delta_rpl_df,\n",
    "    x=\"delta_amp\",\n",
    "    y=\"prob\",\n",
    "    hue=\"grp\",\n",
    "    palette=subjects.colors_sd(1),\n",
    "    ci=None,\n",
    ")\n",
    "# sns.boxplot(data=delta_rpl_df,x='delta_amp',y='prob',hue='grp',ax=ax)\n",
    "# ax.axvline(0,color='k')\n"
   ]
  },
  {
   "cell_type": "markdown",
   "metadata": {},
   "source": [
    "### Delta - Ripple probability SD vs NSD (histogram)"
   ]
  },
  {
   "cell_type": "code",
   "execution_count": null,
   "metadata": {},
   "outputs": [],
   "source": [
    "sessions = subjects.pf_sess()"
   ]
  },
  {
   "cell_type": "code",
   "execution_count": null,
   "metadata": {},
   "outputs": [],
   "source": [
    "from hfuncs import get_ccg\n",
    "\n",
    "delta_rpl_df = []\n",
    "for sub, sess in enumerate(sessions):\n",
    "    post = sess.paradigm[\"post\"].flatten()\n",
    "\n",
    "    if sess.tag == \"NSD\":\n",
    "        period = [post[0], post[0] + 2 * 3600]\n",
    "\n",
    "    if sess.tag == \"SD\":\n",
    "        period = [post[0] + 5 * 3600, post[0] + 7 * 3600]\n",
    "\n",
    "    if sess.sw is not None:\n",
    "\n",
    "        sw = sess.sw.time_slice(*period)\n",
    "        rpls = sess.ripple.time_slice(*period)\n",
    "\n",
    "        peak_amp = sw.to_dataframe().peakamp\n",
    "        end_amp = sw.to_dataframe().endamp\n",
    "        delta_amp = np.abs(peak_amp) + np.abs(end_amp)\n",
    "\n",
    "        sw_t = sw.to_dataframe().peaktime\n",
    "        rpl_t = rpls.to_dataframe().peak_time\n",
    "\n",
    "        t, ccg = get_ccg(sw_t, rpl_t, 0.001, 0.8)\n",
    "        ccg = gaussian_filter1d(ccg,sigma=2)\n",
    "\n",
    "        df = pd.DataFrame(dict(time=t, prob=ccg/len(sw_t), grp=sess.tag, session=sub))\n",
    "\n",
    "        delta_rpl_df.append(df)\n",
    "\n",
    "delta_rpl_df = pd.concat(delta_rpl_df, ignore_index=True)\n"
   ]
  },
  {
   "cell_type": "code",
   "execution_count": null,
   "metadata": {},
   "outputs": [],
   "source": [
    "fig = plotting.Fig(grid=(5,3))\n",
    "\n",
    "ax = fig.subplot(fig.gs[1])\n",
    "sns.lineplot(data=delta_rpl_df,x='time',y='prob',hue='grp',ci=None,ax=ax,color='#e000d9')\n",
    "ax.axvline(0,color='k')\n",
    "# ax.axvline(-0.1,color='r',ls='--')\n",
    "# ax.axvline(0.1,color='r',ls='--')\n",
    "ax.axvspan(-0.1,0.1,color='#d0cdcd',alpha=0.3)\n",
    "\n",
    "\n",
    "# sns.boxplot(data=delta_rpl_df,x='delta_amp',y='prob',hue='grp',ax=ax)\n"
   ]
  }
 ],
 "metadata": {
  "interpreter": {
   "hash": "cce1618081139d19eb1ee8d40815d94a2de4f62e1efb20d9406ddb60628c36ae"
  },
  "kernelspec": {
   "display_name": "Python 3.9.9 64-bit ('data_analysis': conda)",
   "language": "python",
   "name": "python3"
  },
  "language_info": {
   "codemirror_mode": {
    "name": "ipython",
    "version": 3
   },
   "file_extension": ".py",
   "mimetype": "text/x-python",
   "name": "python",
   "nbconvert_exporter": "python",
   "pygments_lexer": "ipython3",
   "version": "3.10.4"
  },
  "orig_nbformat": 4
 },
 "nbformat": 4,
 "nbformat_minor": 2
}
