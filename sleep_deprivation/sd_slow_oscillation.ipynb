{
 "cells": [
  {
   "cell_type": "markdown",
   "metadata": {},
   "source": [
    "### View spectrogram (whitened or regular)"
   ]
  },
  {
   "cell_type": "code",
   "execution_count": null,
   "metadata": {},
   "outputs": [],
   "source": [
    "import numpy as np\n",
    "import subjects\n",
    "\n",
    "sessions = subjects.sd.ratUday4"
   ]
  },
  {
   "cell_type": "code",
   "execution_count": null,
   "metadata": {},
   "outputs": [],
   "source": [
    "from neuropy.utils.signal_process import FourierSg\n",
    "from hfuncs import whiten_signal\n",
    "\n",
    "for sub,sess in enumerate(sessions):\n",
    "    signal = sess.eegfile.get_signal(82)\n",
    "    signal = whiten_signal(signal)\n",
    "    spect = FourierSg(signal,window=60,overlap=10)"
   ]
  },
  {
   "cell_type": "code",
   "execution_count": null,
   "metadata": {},
   "outputs": [],
   "source": [
    "%matplotlib widget\n",
    "from neuropy.plotting import plot_signal_heatmap\n",
    "import matplotlib.pyplot as plt\n",
    "\n",
    "_, ax = plt.subplots()\n",
    "ax.imshow(\n",
    "    spect.traces,\n",
    "    aspect=\"auto\",\n",
    "    vmax=0.004,\n",
    "    cmap=\"jet\",\n",
    "    origin=\"lower\",\n",
    "    extent=[spect.time[0], spect.time[-1], spect.freqs[0], spect.freqs[-1]],\n",
    ")\n"
   ]
  },
  {
   "cell_type": "code",
   "execution_count": null,
   "metadata": {},
   "outputs": [],
   "source": [
    "%matplotlib widget\n",
    "from neuropy.plotting import plot_signal_heatmap\n",
    "import matplotlib.pyplot as plt\n",
    "\n",
    "_, ax = plt.subplots()\n",
    "ax.imshow(\n",
    "    spect.traces,\n",
    "    aspect=\"auto\",\n",
    "    vmax=0.004,\n",
    "    cmap=\"jet\",\n",
    "    origin=\"lower\",\n",
    "    extent=[spect.time[0], spect.time[-1], spect.freqs[0], spect.freqs[-1]],\n",
    ")\n"
   ]
  },
  {
   "cell_type": "markdown",
   "metadata": {},
   "source": [
    "### Averaged slow oscillation power during SD-POST"
   ]
  },
  {
   "cell_type": "code",
   "execution_count": null,
   "metadata": {},
   "outputs": [],
   "source": [
    "import matplotlib.pyplot as plt\n",
    "import numpy as np\n",
    "import seaborn as sns\n",
    "from neuropy import plotting\n",
    "from neuropy.utils import signal_process\n",
    "from scipy import stats\n",
    "import subjects\n",
    "import pandas as pd\n",
    "\n",
    "sessions = subjects.nsd.ratSday2 + subjects.sd.ratSday3"
   ]
  },
  {
   "cell_type": "code",
   "execution_count": null,
   "metadata": {},
   "outputs": [],
   "source": [
    "spects = []\n",
    "for sess in sessions:\n",
    "    t_start, t_stop = sess.paradigm[\"post\"].flatten()\n",
    "    signal = sess.eegfile.get_signal(113, t_start=t_start, t_stop=t_start+15*60)\n",
    "    spects.append(signal_process.FourierSg(signal, window=5 * 60, overlap=60))\n"
   ]
  },
  {
   "cell_type": "code",
   "execution_count": null,
   "metadata": {},
   "outputs": [],
   "source": [
    "fig = plotting.Fig(grid=(4, 3), hspace=0.3, wspace=0.35)\n",
    "# fig.suptitle(\"Figure 1\", x=0, ha=\"left\", fontsize=16)\n",
    "\n",
    "# ------ panel a --------\n",
    "gs_spect = fig.subplot2grid(fig.gs[0, :2], grid=(2, 1))\n",
    "brainstates = [\n",
    "    sess.brainstates.time_slice(\n",
    "        sess.paradigm[\"post\"].flatten()[0], sess.paradigm[\"post\"].flatten()[1]\n",
    "    )\n",
    "    for sess in [sd_sessions[1], nsd_sessions[1]]\n",
    "]\n",
    "t_starts = [\n",
    "    sess.paradigm[\"post\"].flatten()[0] for sess in [sd_sessions[1], nsd_sessions[1]]\n",
    "]\n",
    "\n",
    "for i, spect in enumerate(spects):\n",
    "    gs_swa = fig.subplot2grid(gs_spect[i], grid=(4, 1))\n",
    "    ax_theta = plt.subplot(gs_swa[1:])\n",
    "    ax_hypno = plt.subplot(gs_swa[0])\n",
    "    plotting.plot_hypnogram(brainstates[i], ax=ax_hypno)\n",
    "\n",
    "    if i == 0:\n",
    "        ax_theta.set_xlabel(\"\")\n",
    "        ax_theta.set_xticklabels([])"
   ]
  },
  {
   "cell_type": "markdown",
   "metadata": {},
   "source": [
    "### Best slow wave channels based on bimodality of slope"
   ]
  },
  {
   "cell_type": "code",
   "execution_count": null,
   "metadata": {},
   "outputs": [],
   "source": [
    "import numpy as np\n",
    "import subjects\n",
    "\n",
    "sessions = subjects.sd.ratSday3"
   ]
  },
  {
   "cell_type": "code",
   "execution_count": null,
   "metadata": {},
   "outputs": [],
   "source": [
    "from neuropy.utils.signal_process import FourierSg\n",
    "from hfuncs import whiten_signal\n",
    "import scipy.signal as sg\n",
    "from numpy.polynomial import polynomial\n",
    "from scipy.ndimage import gaussian_filter1d\n",
    "\n",
    "for sub, sess in enumerate(sessions):\n",
    "\n",
    "    # channels = [19,25,2,1,93,87,189,183]\n",
    "    channels = np.arange(100)\n",
    "    slopes = []\n",
    "    for chan in channels:\n",
    "        signal = sess.eegfile.get_signal(chan)\n",
    "        # spect = FourierSg(signal,window=60,overlap=10)\n",
    "        f, t, spect = sg.spectrogram(\n",
    "            signal.traces[0], fs=1250, nperseg=60 * 1250, noverlap=10 * 1250,axis=-1\n",
    "        )\n",
    "        spect = gaussian_filter1d(spect,sigma=4,axis=0)\n",
    "\n",
    "        indices = (f>4) & (f<90)\n",
    "        f = np.log10(f[indices])\n",
    "        spect = np.log10(spect[indices,:])\n",
    "\n",
    "        invalid_col = ~np.isfinite(spect).any(axis=0)\n",
    "        linfit = np.polyfit(f,spect[:,~invalid_col],deg=1)\n",
    "        slopes.append(linfit[0])\n"
   ]
  },
  {
   "cell_type": "code",
   "execution_count": null,
   "metadata": {},
   "outputs": [],
   "source": [
    "%matplotlib widget\n",
    "import matplotlib.pyplot as plt\n",
    "import statsmodels.api as sm\n",
    "from scipy.signal import find_peaks\n",
    "# bins = np.linspace(1,3,100)\n",
    "_,ax = plt.subplots(1,1)\n",
    "\n",
    "metric=[]\n",
    "for i,slp in enumerate(slopes):\n",
    "    # hist_slopes = np.histogram(gaussian_filter1d(np.abs(slp),sigma=2),bins=bins)[0]\n",
    "    kde = sm.nonparametric.KDEUnivariate(gaussian_filter1d(np.abs(slp),sigma=2))\n",
    "    kde.fit()\n",
    "\n",
    "    peaks_ind = find_peaks(kde.density)[0]\n",
    "\n",
    "    if len(peaks_ind)>1:\n",
    "        peaks_ind = peaks_ind[:2]\n",
    "        peaks_loc = kde.support[peaks_ind]\n",
    "        h1,h2 = kde.density[peaks_ind] \n",
    "\n",
    "        between_peak = kde.density[peaks_ind[0]:peaks_ind[1]]\n",
    "        dip_ind = find_peaks(-1 * between_peak)[0]+ peaks_ind[0]\n",
    "        dip_loc = kde.support[dip_ind]\n",
    "        dip_height = kde.density[dip_ind]\n",
    "\n",
    "        param1 =  np.abs(h1-h2)/(h1+h2)\n",
    "        param2 = np.diff(peaks_loc)\n",
    "\n",
    "        metric.append([param1,param2])\n",
    "        ax.plot(kde.support,kde.density,label=channels[i])\n",
    "\n",
    "    else:\n",
    "\n",
    "        ax.plot(kde.support,kde.density,label=channels[i])\n",
    "#     ax.axvline(peaks_loc[0])\n",
    "#     ax.axvline(peaks_loc[1])\n",
    "#     ax.axvline(dip_loc)\n",
    "\n",
    "# ax.legend()"
   ]
  },
  {
   "cell_type": "code",
   "execution_count": null,
   "metadata": {},
   "outputs": [],
   "source": [
    "%matplotlib widget\n",
    "metric1 = np.asarray(metric)\n",
    "\n",
    "plt.plot(metric1[:,0],metric1[:,1],'.')\n",
    "\n"
   ]
  },
  {
   "cell_type": "code",
   "execution_count": null,
   "metadata": {},
   "outputs": [],
   "source": [
    "%matplotlib widget\n",
    "from neuropy.plotting import plot_signal_heatmap\n",
    "import matplotlib.pyplot as plt\n",
    "\n",
    "_, ax = plt.subplots()\n",
    "ax.imshow(\n",
    "    spect,\n",
    "    aspect=\"auto\",\n",
    "    vmax=400,\n",
    "    cmap=\"jet\",\n",
    "    origin=\"lower\",\n",
    "    extent=[t[0], t[-1], f[0], f[-1]],\n",
    ")"
   ]
  },
  {
   "cell_type": "markdown",
   "metadata": {},
   "source": [
    "### Pooled detection hippocampal slow waves "
   ]
  },
  {
   "cell_type": "code",
   "execution_count": null,
   "metadata": {},
   "outputs": [],
   "source": [
    "import matplotlib.pyplot as plt\n",
    "import numpy as np\n",
    "import seaborn as sns\n",
    "from neuropy import plotting\n",
    "from neuropy.utils import signal_process\n",
    "from scipy import stats\n",
    "import subjects\n",
    "import pandas as pd\n",
    "\n",
    "sessions = subjects.nsd.pf_sess + subjects.sd.pf_sess\n",
    "\n",
    "# bottom channels (radiatum channels)\n",
    "channels = [23,103,183,111,79,23,103,183,191,127,55]\n",
    "# channels = [91, 77, 32, 57, 20, 13, 45, 32, 57, 7, 83]\n",
    "\n",
    "assert len(channels) == len(sessions)"
   ]
  },
  {
   "cell_type": "code",
   "execution_count": null,
   "metadata": {},
   "outputs": [],
   "source": [
    "from tqdm.notebook import tqdm\n",
    "\n",
    "from neuropy.analyses.oscillations import detect_hpc_slow_wave_epochs\n",
    "\n",
    "for sub,sess in enumerate(tqdm(sessions)):\n",
    "\n",
    "    signal = sess.eegfile.get_signal(channels[sub])\n",
    "    states = sess.brainstates['nrem'].duration_slice(min_dur=60)\n",
    "    epochs = detect_hpc_slow_wave_epochs(signal,(0.5,4),nrem_epochs=states)\n",
    "    epochs.save(sess.filePrefix.with_suffix('.sw'))"
   ]
  },
  {
   "cell_type": "markdown",
   "metadata": {},
   "source": [
    "### CCG between Interneurons and hpc slow waves"
   ]
  },
  {
   "cell_type": "code",
   "execution_count": null,
   "metadata": {},
   "outputs": [],
   "source": [
    "import numpy as np\n",
    "import subjects\n",
    "\n",
    "sessions = subjects.sd.pf_sess\n",
    "# channels = [23,103,183,191,127,55]\n",
    "channels = [13, 45, 32, 57, 7, 83]\n"
   ]
  },
  {
   "cell_type": "code",
   "execution_count": null,
   "metadata": {},
   "outputs": [],
   "source": [
    "from neuropy.utils.ccg import correlograms\n",
    "from neuropy.core import Epoch\n",
    "\n",
    "ccgs_all = []\n",
    "avg_sw = []\n",
    "for sub, sess in enumerate(sessions):\n",
    "    sw = sess.sw.starts\n",
    "    sw_id = np.ones(len(sw))\n",
    "    neurons = sess.neurons.get_neuron_type(\"inter\")\n",
    "\n",
    "    \n",
    "    trace = sess.eegfile.get_signal(channels[sub]).traces[0]\n",
    "    frames = np.concatenate([np.arange(e-500,e+500) for e in (sw*1250).astype('int')])\n",
    "    avg_sw_sub = np.mean(trace[frames].reshape(len(sw),-1),axis=0,keepdims=True)\n",
    "    avg_sw.append(np.tile(avg_sw_sub,(neurons.n_neurons,1)))\n",
    "\n",
    "    def _get_ccg(spikes):\n",
    "        clus = np.concatenate([sw_id, 2 * np.ones(len(spikes))]).astype('int')\n",
    "        trains = np.concatenate([sw, spikes])\n",
    "        sort_ind = np.argsort(trains)\n",
    "        ccgs = correlograms(\n",
    "            trains[sort_ind],\n",
    "            clus[sort_ind],\n",
    "            bin_size=0.010,\n",
    "            window_size=0.8,\n",
    "            sample_rate=30000,\n",
    "        )\n",
    "        return ccgs[0,1,:]\n",
    "    \n",
    "    ccgs_all.append(np.asarray([_get_ccg(_) for _ in neurons.spiketrains]))\n",
    "\n",
    "ccgs_all = np.vstack(ccgs_all)\n",
    "avg_sw = np.vstack(avg_sw)"
   ]
  },
  {
   "cell_type": "code",
   "execution_count": null,
   "metadata": {},
   "outputs": [],
   "source": [
    "%matplotlib widget\n",
    "import matplotlib.pyplot as plt\n",
    "from scipy import stats\n",
    "\n",
    "_,axs= plt.subplots(13,5,sharex=True)\n",
    "axs= axs.reshape(-1)\n",
    "t = np.linspace(-405,405,ccgs_all.shape[1]+1)\n",
    "t2 = np.linspace(-400,400,avg_sw.shape[1])\n",
    "for i,ax in enumerate(axs):\n",
    "\n",
    "    ax.stairs(ccgs_all[i]/np.mean(ccgs_all[i]),t,fill=True)\n",
    "    ax.plot(t2,avg_sw[i]/np.sum(avg_sw[i])+0.5,'r')"
   ]
  }
 ],
 "metadata": {
  "interpreter": {
   "hash": "cce1618081139d19eb1ee8d40815d94a2de4f62e1efb20d9406ddb60628c36ae"
  },
  "kernelspec": {
   "display_name": "Python 3.9.9 64-bit ('data_analysis': conda)",
   "language": "python",
   "name": "python3"
  },
  "language_info": {
   "codemirror_mode": {
    "name": "ipython",
    "version": 3
   },
   "file_extension": ".py",
   "mimetype": "text/x-python",
   "name": "python",
   "nbconvert_exporter": "python",
   "pygments_lexer": "ipython3",
   "version": "3.10.2"
  },
  "orig_nbformat": 4
 },
 "nbformat": 4,
 "nbformat_minor": 2
}
