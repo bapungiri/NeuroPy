{
    "cells": [
        {
            "cell_type": "markdown",
            "source": [
                "# Paradigm durations"
            ],
            "metadata": {}
        },
        {
            "cell_type": "code",
            "execution_count": 12,
            "source": [
                "import numpy as np\n",
                "from subjects import sd,nsd\n",
                "\n",
                "sd_sess = nsd.ratSday2 + sd.ratSday3"
            ],
            "outputs": [],
            "metadata": {}
        },
        {
            "cell_type": "code",
            "execution_count": 19,
            "source": [
                "maze_dur = []\n",
                "for sess in sd_sess:\n",
                "    maze = sess.paradigm['maze']\n",
                "    maze_dur.append(np.diff(maze)[0])\n",
                "\n",
                "\n",
                "mean_maze_dur = np.mean(maze_dur)\n",
                "print(f'mean duration: {mean_maze_dur}, range: {np.min(maze_dur),np.max(maze_dur)}')"
            ],
            "outputs": [
                {
                    "output_type": "stream",
                    "name": "stdout",
                    "text": [
                        "mean duration: 3834.5, range: (3671, 3998)\n"
                    ]
                }
            ],
            "metadata": {}
        }
    ],
    "metadata": {
        "orig_nbformat": 4,
        "language_info": {
            "name": "python",
            "version": "3.9.6",
            "mimetype": "text/x-python",
            "codemirror_mode": {
                "name": "ipython",
                "version": 3
            },
            "pygments_lexer": "ipython3",
            "nbconvert_exporter": "python",
            "file_extension": ".py"
        },
        "kernelspec": {
            "name": "python3",
            "display_name": "Python 3.9.4 64-bit ('data_analysis': conda)"
        },
        "interpreter": {
            "hash": "7b10c821bc4bd3f433a613d47515e6babc6c2152896bd1e143404cc9d6ede4ad"
        }
    },
    "nbformat": 4,
    "nbformat_minor": 2
}