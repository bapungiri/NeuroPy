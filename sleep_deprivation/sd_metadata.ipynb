{
    "cells": [
        {
            "cell_type": "markdown",
            "metadata": {},
            "source": [
                "### Check data table across sessions"
            ]
        },
        {
            "cell_type": "code",
            "execution_count": null,
            "metadata": {},
            "outputs": [],
            "source": [
                "import subjects\n",
                "\n",
                "sessions = subjects.nsd.pf_sess + subjects.sd.pf_sess\n",
                "\n",
                "subjects.data_table(sessions)\n"
            ]
        },
        {
            "cell_type": "markdown",
            "metadata": {},
            "source": [
                "### Pooled creation of sessions metadata"
            ]
        },
        {
            "cell_type": "code",
            "execution_count": null,
            "metadata": {},
            "outputs": [],
            "source": [
                "import subjects\n",
                "from neuropy.core import Animal\n",
                "\n",
                "sessions = subjects.sd.allsess #+ subjects.nsd.allsess\n",
                "\n",
                "for sess in sessions:\n",
                "    sub_name = sess.sub_name[-1]\n",
                "    # print(sess.animal.name,sess.animal.sex)\n",
                "\n",
                "    if sub_name in [\"J\", \"K\", \"U\", \"V\"]:\n",
                "        sex = \"male\"\n",
                "    else:\n",
                "        sex = \"female\"\n",
                "\n",
                "    if sub_name in [\"J\"]:\n",
                "        probe = \"Buzsaki-64chan-8shanks\"\n",
                "        brain_region = \"CA1\"\n",
                "    elif sub_name in [\"K\", \"N\"]:\n",
                "        probe = \"Diagnostic-biochips-128chan-8shanks\"\n",
                "        brain_region = \"CA1\"\n",
                "    elif sub_name in [\"S\"]:\n",
                "        probe = [\"Cambridge-64chan-6shanks\", \"Diagnostic-biochips-128chan-8shanks\"]\n",
                "        brain_region = \"bilateral CA1\"\n",
                "    elif sub_name in ['R',\"U\", \"V\"]:\n",
                "        probe = [\n",
                "            \"Diagnostic-biochips-128chan-8shanks\",\n",
                "            \"Diagnostic-biochips-128chan-8shanks\",\n",
                "        ]\n",
                "        brain_region = \"bilateral CA1\"\n",
                "\n",
                "    animal = Animal(name=sess.sub_name, sex=sex, brain_region=brain_region,probe=probe)\n",
                "    # animal.save(sess.filePrefix.with_suffix(\".animal\"))\n"
            ]
        },
        {
            "cell_type": "markdown",
            "metadata": {},
            "source": [
                "### Paradigm durations"
            ]
        },
        {
            "cell_type": "code",
            "execution_count": null,
            "metadata": {},
            "outputs": [],
            "source": [
                "import numpy as np\n",
                "from subjects import sd,nsd\n",
                "\n",
                "sd_sess = nsd.ratSday2 + sd.ratSday3"
            ]
        },
        {
            "cell_type": "code",
            "execution_count": null,
            "metadata": {},
            "outputs": [],
            "source": [
                "maze_dur = []\n",
                "for sess in sd_sess:\n",
                "    maze = sess.paradigm['maze']\n",
                "    maze_dur.append(np.diff(maze)[0])\n",
                "\n",
                "\n",
                "mean_maze_dur = np.mean(maze_dur)\n",
                "print(f'mean duration: {mean_maze_dur}, range: {np.min(maze_dur),np.max(maze_dur)}')"
            ]
        },
        {
            "cell_type": "markdown",
            "metadata": {},
            "source": [
                "### POST duration lengths"
            ]
        },
        {
            "cell_type": "code",
            "execution_count": 2,
            "metadata": {},
            "outputs": [],
            "source": [
                "import numpy as np\n",
                "import subjects\n",
                "\n",
                "sessions = subjects.sd.allsess + subjects.nsd.allsess"
            ]
        },
        {
            "cell_type": "code",
            "execution_count": 3,
            "metadata": {},
            "outputs": [
                {
                    "name": "stdout",
                    "output_type": "stream",
                    "text": [
                        "[11.37388889]\n",
                        "[10.05611111]\n",
                        "[10.966666666666667]\n",
                        "[9.33333333]\n",
                        "[9.01972222]\n",
                        "[9.00277778]\n",
                        "[9.05916667]\n",
                        "[9.02222222]\n",
                        "[11.84666667]\n",
                        "[10.48138889]\n",
                        "[11.03277778]\n",
                        "[8.57388889]\n",
                        "[8.62666667]\n",
                        "[9.01666667]\n",
                        "[9.01388889]\n",
                        "[8.93666667]\n"
                    ]
                }
            ],
            "source": [
                "for sub,sess in enumerate(sessions):\n",
                "    post= sess.paradigm['post'].flatten()\n",
                "    print(np.diff(post)/3600)"
            ]
        }
    ],
    "metadata": {
        "interpreter": {
            "hash": "7b10c821bc4bd3f433a613d47515e6babc6c2152896bd1e143404cc9d6ede4ad"
        },
        "kernelspec": {
            "display_name": "Python 3.9.4 64-bit ('data_analysis': conda)",
            "name": "python3"
        },
        "language_info": {
            "codemirror_mode": {
                "name": "ipython",
                "version": 3
            },
            "file_extension": ".py",
            "mimetype": "text/x-python",
            "name": "python",
            "nbconvert_exporter": "python",
            "pygments_lexer": "ipython3",
            "version": "3.9.10"
        },
        "orig_nbformat": 4
    },
    "nbformat": 4,
    "nbformat_minor": 2
}
