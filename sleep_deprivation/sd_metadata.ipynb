{
    "cells": [
        {
            "cell_type": "markdown",
            "metadata": {},
            "source": [
                "### Imports"
            ]
        },
        {
            "cell_type": "code",
            "execution_count": 1,
            "metadata": {},
            "outputs": [],
            "source": [
                "import numpy as np\n",
                "import pandas as pd\n",
                "import matplotlib.pyplot as plt\n",
                "import subjects"
            ]
        },
        {
            "cell_type": "markdown",
            "metadata": {},
            "source": [
                "### Check data table across sessions"
            ]
        },
        {
            "cell_type": "code",
            "execution_count": null,
            "metadata": {},
            "outputs": [],
            "source": [
                "import subjects\n",
                "\n",
                "sessions = subjects.nsd.pf_sess + subjects.sd.pf_sess\n",
                "\n",
                "subjects.data_table(sessions)\n"
            ]
        },
        {
            "cell_type": "markdown",
            "metadata": {},
            "source": [
                "### Pooled creation of sessions metadata"
            ]
        },
        {
            "cell_type": "code",
            "execution_count": null,
            "metadata": {},
            "outputs": [],
            "source": [
                "import subjects\n",
                "from neuropy.core import Animal\n",
                "\n",
                "# sessions = subjects.sd.allsess #+ subjects.nsd.allsess\n",
                "sessions = subjects.sd.ratUday1 + subjects.nsd.ratVday3\n",
                "for sess in sessions:\n",
                "    sub_name = sess.sub_name[-1]\n",
                "    # print(sess.animal.name,sess.animal.sex)\n",
                "\n",
                "    if sub_name in [\"J\", \"K\", \"U\", \"V\"]:\n",
                "        sex = \"male\"\n",
                "    else:\n",
                "        sex = \"female\"\n",
                "\n",
                "    if sub_name in [\"J\"]:\n",
                "        probe = \"Buzsaki-64chan-8shanks\"\n",
                "        brain_region = \"CA1\"\n",
                "    elif sub_name in [\"K\", \"N\"]:\n",
                "        probe = \"Diagnostic-biochips-128chan-8shanks\"\n",
                "        brain_region = \"CA1\"\n",
                "    elif sub_name in [\"S\"]:\n",
                "        probe = [\"Cambridge-64chan-6shanks\", \"Diagnostic-biochips-128chan-8shanks\"]\n",
                "        brain_region = \"bilateral CA1\"\n",
                "    elif sub_name in ['R',\"U\", \"V\"]:\n",
                "        probe = [\n",
                "            \"Diagnostic-biochips-128chan-8shanks\",\n",
                "            \"Diagnostic-biochips-128chan-8shanks\",\n",
                "        ]\n",
                "        brain_region = \"bilateral CA1\"\n",
                "\n",
                "    animal = Animal(name=sess.sub_name, sex=sex, brain_region=brain_region,probe=probe)\n",
                "    # animal.save(sess.filePrefix.with_suffix(\".animal\"))\n"
            ]
        },
        {
            "cell_type": "markdown",
            "metadata": {},
            "source": [
                "### Number of neurons"
            ]
        },
        {
            "cell_type": "code",
            "execution_count": null,
            "metadata": {},
            "outputs": [],
            "source": [
                "sessions = subjects.mua_sess()\n",
                "\n",
                "neur_df = []\n",
                "for s,sess in enumerate(sessions):\n",
                "    n_type = sess.neurons_stable.neuron_type\n",
                "    n_pyr = np.count_nonzero(n_type=='pyr')\n",
                "    n_inter = np.count_nonzero(n_type=='inter')\n",
                "    neur_df.append(pd.DataFrame(dict(pyr=[n_pyr],inter=[n_inter],grp=sess.tag)))\n",
                "neur_df = pd.concat(neur_df,ignore_index=True)\n",
                "neur_df.sum()"
            ]
        },
        {
            "cell_type": "markdown",
            "metadata": {},
            "source": [
                "### Paradigm durations"
            ]
        },
        {
            "cell_type": "code",
            "execution_count": 6,
            "metadata": {},
            "outputs": [
                {
                    "data": {
                        "text/html": [
                            "<div>\n",
                            "<style scoped>\n",
                            "    .dataframe tbody tr th:only-of-type {\n",
                            "        vertical-align: middle;\n",
                            "    }\n",
                            "\n",
                            "    .dataframe tbody tr th {\n",
                            "        vertical-align: top;\n",
                            "    }\n",
                            "\n",
                            "    .dataframe thead th {\n",
                            "        text-align: right;\n",
                            "    }\n",
                            "</style>\n",
                            "<table border=\"1\" class=\"dataframe\">\n",
                            "  <thead>\n",
                            "    <tr style=\"text-align: right;\">\n",
                            "      <th></th>\n",
                            "      <th>start</th>\n",
                            "      <th>stop</th>\n",
                            "      <th>duration</th>\n",
                            "    </tr>\n",
                            "    <tr>\n",
                            "      <th>label</th>\n",
                            "      <th></th>\n",
                            "      <th></th>\n",
                            "      <th></th>\n",
                            "    </tr>\n",
                            "  </thead>\n",
                            "  <tbody>\n",
                            "    <tr>\n",
                            "      <th>maze</th>\n",
                            "      <td>2.708559</td>\n",
                            "      <td>3.647361</td>\n",
                            "      <td>0.938802</td>\n",
                            "    </tr>\n",
                            "    <tr>\n",
                            "      <th>post</th>\n",
                            "      <td>3.669410</td>\n",
                            "      <td>13.379566</td>\n",
                            "      <td>9.710156</td>\n",
                            "    </tr>\n",
                            "    <tr>\n",
                            "      <th>pre</th>\n",
                            "      <td>0.000000</td>\n",
                            "      <td>2.698715</td>\n",
                            "      <td>2.698715</td>\n",
                            "    </tr>\n",
                            "    <tr>\n",
                            "      <th>re-maze</th>\n",
                            "      <td>12.363139</td>\n",
                            "      <td>13.288833</td>\n",
                            "      <td>0.925694</td>\n",
                            "    </tr>\n",
                            "    <tr>\n",
                            "      <th>rs</th>\n",
                            "      <td>8.494792</td>\n",
                            "      <td>12.517639</td>\n",
                            "      <td>4.022847</td>\n",
                            "    </tr>\n",
                            "    <tr>\n",
                            "      <th>sd</th>\n",
                            "      <td>3.784286</td>\n",
                            "      <td>8.786032</td>\n",
                            "      <td>5.001746</td>\n",
                            "    </tr>\n",
                            "  </tbody>\n",
                            "</table>\n",
                            "</div>"
                        ],
                        "text/plain": [
                            "             start       stop  duration\n",
                            "label                                  \n",
                            "maze      2.708559   3.647361  0.938802\n",
                            "post      3.669410  13.379566  9.710156\n",
                            "pre       0.000000   2.698715  2.698715\n",
                            "re-maze  12.363139  13.288833  0.925694\n",
                            "rs        8.494792  12.517639  4.022847\n",
                            "sd        3.784286   8.786032  5.001746"
                        ]
                    },
                    "execution_count": 6,
                    "metadata": {},
                    "output_type": "execute_result"
                }
            ],
            "source": [
                "from neuropy.core import Epoch\n",
                "\n",
                "sessions = subjects.ripple_sess()\n",
                "\n",
                "epoch_dur = []\n",
                "for s,sess in enumerate(sessions):\n",
                "    paradigm = sess.paradigm\n",
                "\n",
                "    # if sess.tag=='SD':\n",
                "    #     post = sess.paradigm['post'].flatten()\n",
                "    #     rs = Epoch.from_array([post[0]+5*3600],[post[0]+5*3600],['rs']) \n",
                "    #     paradigm = paradigm + rs \n",
                "\n",
                "    epoch_dur.append(paradigm.to_dataframe())\n",
                "\n",
                "\n",
                "epoch_dur = pd.concat(epoch_dur,ignore_index=True)\n",
                "\n",
                "epoch_dur.groupby('label').mean()/3600"
            ]
        },
        {
            "cell_type": "code",
            "execution_count": null,
            "metadata": {},
            "outputs": [],
            "source": []
        },
        {
            "cell_type": "markdown",
            "metadata": {},
            "source": [
                "### POST duration lengths"
            ]
        },
        {
            "cell_type": "code",
            "execution_count": null,
            "metadata": {},
            "outputs": [],
            "source": [
                "import numpy as np\n",
                "import subjects\n",
                "\n",
                "sessions = subjects.sd.allsess + subjects.nsd.allsess"
            ]
        },
        {
            "cell_type": "code",
            "execution_count": null,
            "metadata": {},
            "outputs": [],
            "source": [
                "for sub,sess in enumerate(sessions):\n",
                "    post= sess.paradigm['post'].flatten()\n",
                "    print(np.diff(post)/3600)"
            ]
        }
    ],
    "metadata": {
        "interpreter": {
            "hash": "cce1618081139d19eb1ee8d40815d94a2de4f62e1efb20d9406ddb60628c36ae"
        },
        "kernelspec": {
            "display_name": "Python 3.10.4 ('data_analysis')",
            "language": "python",
            "name": "python3"
        },
        "language_info": {
            "codemirror_mode": {
                "name": "ipython",
                "version": 3
            },
            "file_extension": ".py",
            "mimetype": "text/x-python",
            "name": "python",
            "nbconvert_exporter": "python",
            "pygments_lexer": "ipython3",
            "version": "3.10.4"
        },
        "orig_nbformat": 4
    },
    "nbformat": 4,
    "nbformat_minor": 2
}
