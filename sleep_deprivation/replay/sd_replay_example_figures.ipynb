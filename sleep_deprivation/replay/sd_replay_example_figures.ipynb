{
 "cells": [
  {
   "cell_type": "markdown",
   "metadata": {},
   "source": [
    "### Imports"
   ]
  },
  {
   "cell_type": "code",
   "execution_count": null,
   "metadata": {},
   "outputs": [],
   "source": [
    "import numpy as np\n",
    "import matplotlib.pyplot as plt\n",
    "import numpy as np\n",
    "import seaborn as sns\n",
    "from neuropy import plotting\n",
    "from scipy.ndimage import gaussian_filter1d\n",
    "from scipy import stats\n",
    "from neuropy.analyses import Pf1D\n",
    "from neuropy.utils.signal_process import filter_sig\n",
    "import subjects\n",
    "import pandas as pd"
   ]
  },
  {
   "cell_type": "code",
   "execution_count": null,
   "metadata": {},
   "outputs": [],
   "source": [
    "from neuropy.utils.neurons_util import calculate_neurons_acg\n",
    "neurons = sess.neurons.get_neuron_type('mua')\n",
    "acgs = calculate_neurons_acg(neurons=neurons,window_size=0.1)\n",
    "isi = neurons.get_isi(n_bins=50)"
   ]
  },
  {
   "cell_type": "code",
   "execution_count": null,
   "metadata": {},
   "outputs": [],
   "source": [
    "_,axs = plt.subplots(10,5)\n",
    "axs = axs.reshape(-1)\n",
    "frate = neurons.firing_rate\n",
    "for i,a in enumerate(acgs):\n",
    "    axs[i].plot(isi[i]) \n",
    "    axs[i].set_title(f'{frate[i].round(2)}')\n"
   ]
  },
  {
   "cell_type": "markdown",
   "metadata": {},
   "source": [
    "### A sample run with CA1 cells, LFP, Actual position and decoded position\n",
    "- something similar to Fig1C of Tang2021"
   ]
  },
  {
   "cell_type": "code",
   "execution_count": null,
   "metadata": {},
   "outputs": [],
   "source": [
    "sess = subjects.sd.ratVday2[0]\n",
    "maze = sess.paradigm[\"maze\"].flatten()\n",
    "maze_pos = sess.maze\n",
    "maze_run = sess.maze_run\n",
    "neurons = sess.neurons.get_neuron_type(['pyr','mua'])\n",
    "good_cells = neurons.firing_rate<10\n",
    "neurons = neurons[good_cells]\n",
    "pf = Pf1D(\n",
    "    neurons=neurons,\n",
    "    position=maze_pos,\n",
    "    sigma=4,\n",
    "    grid_bin=2,\n",
    "    epochs=maze_run[\"down\"],\n",
    "    frate_thresh=0.5,\n",
    ")\n",
    "\n"
   ]
  },
  {
   "cell_type": "code",
   "execution_count": null,
   "metadata": {},
   "outputs": [],
   "source": [
    "\n",
    "# run_epoch = maze_run[200].flatten()+np.array([-2,2])\n",
    "# run_epoch = [11419, 11430.5]\n",
    "run_epoch = maze\n",
    "\n",
    "neurons_sorted = sess.neurons[pf.get_sort_order(\"neuron_id\")].time_slice(*run_epoch)\n",
    "pos_epoch = maze_pos.time_slice(*run_epoch)\n",
    "\n",
    "fig = plotting.Fig(grid=(5, 6))\n",
    "\n",
    "sig_ax = fig.subplot(fig.gs[0, 1:6])\n",
    "signal = sess.eegfile.get_signal(99, *run_epoch)\n",
    "sig_ax.plot(signal.time, signal.traces[0], \"k\", lw=0.2)\n",
    "sig_ax.set_xlim(run_epoch)\n",
    "sig_ax.axis(\"off\")\n",
    "\n",
    "rpl_signal = filter_sig.bandpass(signal, lf=150, hf=250)\n",
    "rpl_ax = fig.subplot(fig.gs[1, 1:6], sharex=sig_ax)\n",
    "rpl_ax.plot(signal.time, rpl_signal.traces[0], \"#4a77bae8\", lw=0.1)\n",
    "rpl_ax.set_xlim(run_epoch)\n",
    "rpl_ax.axis(\"off\")\n",
    "\n",
    "\n",
    "ax = fig.subplot(fig.gs[2:6, 1:6], sharex=sig_ax)\n",
    "plotting.plot_raster(neurons_sorted, color=\"cool_r\", ax=ax, markersize=2)\n",
    "\n",
    "\n",
    "ax2 = ax.twinx()\n",
    "\n",
    "ax2.plot(pos_epoch.time - 0.5, pos_epoch.x, color=\"#a3a3a3\", alpha=0.7, lw=3)\n",
    "# ax2.set_ylim([-2,385])\n",
    "ax2.set_yticks([])\n",
    "\n",
    "xticks = np.arange(run_epoch[0], run_epoch[1], 5)\n",
    "ax.set_xticks(xticks, xticks - xticks[0])\n",
    "ax.tick_params(rotation=0)\n",
    "\n",
    "ax.set_yticks([0, len(neurons_sorted)])\n",
    "\n",
    "r_ep = [11420.22, 11420.5]\n",
    "replay_ax = fig.subplot(fig.gs[2:6, 0])\n",
    "plotting.plot_raster(\n",
    "    neurons_sorted.time_slice(11420.22, 11420.5), ax=replay_ax, color=\"cool_r\"\n",
    ")\n",
    "replay_ax.axis(\"off\")\n",
    "\n",
    "sig_ax = fig.subplot(fig.gs[0, 0], sharex=replay_ax)\n",
    "signal = signal.time_slice(None, *r_ep)\n",
    "sig_ax.plot(signal.time, signal.traces[0], \"k\", lw=0.5)\n",
    "sig_ax.axis(\"off\")\n",
    "\n",
    "\n",
    "rpl_ax = fig.subplot(fig.gs[1, 0], sharex=replay_ax)\n",
    "replay_sig = rpl_signal.time_slice(None, *r_ep)\n",
    "rpl_ax.plot(\n",
    "    replay_sig.time, rpl_signal.time_slice(None, *r_ep).traces[0], \"#4a77bae8\", lw=0.5\n",
    ")\n",
    "# rpl_ax.set_xlim(run_epoch)\n",
    "rpl_ax.axis(\"off\")\n"
   ]
  },
  {
   "cell_type": "code",
   "execution_count": null,
   "metadata": {},
   "outputs": [],
   "source": [
    "from neuropy.plotting import plot_ratemap\n",
    "_,ax = plt.subplots()\n",
    "plot_ratemap(pf,normalize_tuning_curve=True,ax=ax)\n",
    "\n"
   ]
  },
  {
   "cell_type": "code",
   "execution_count": null,
   "metadata": {},
   "outputs": [],
   "source": [
    "_,ax = plt.subplots()\n",
    "\n",
    "# ax.plot(sess.maze.x)\n",
    "ax.plot(sess.remaze.time,sess.remaze.x)\n",
    "ax.plot(sess.position.time,sess.position.x)"
   ]
  },
  {
   "cell_type": "code",
   "execution_count": null,
   "metadata": {},
   "outputs": [],
   "source": [
    "# fig.savefig(subjects.figpath_sd/'replay_decoding_example')"
   ]
  }
 ],
 "metadata": {
  "interpreter": {
   "hash": "cce1618081139d19eb1ee8d40815d94a2de4f62e1efb20d9406ddb60628c36ae"
  },
  "kernelspec": {
   "display_name": "Python 3.10.2 ('data_analysis')",
   "language": "python",
   "name": "python3"
  },
  "language_info": {
   "codemirror_mode": {
    "name": "ipython",
    "version": 3
   },
   "file_extension": ".py",
   "mimetype": "text/x-python",
   "name": "python",
   "nbconvert_exporter": "python",
   "pygments_lexer": "ipython3",
   "version": "3.10.4"
  },
  "orig_nbformat": 4
 },
 "nbformat": 4,
 "nbformat_minor": 2
}
