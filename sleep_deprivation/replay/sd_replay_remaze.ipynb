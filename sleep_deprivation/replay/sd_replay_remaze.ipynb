{
 "cells": [
  {
   "cell_type": "markdown",
   "metadata": {},
   "source": [
    "### Imports"
   ]
  },
  {
   "cell_type": "code",
   "execution_count": null,
   "metadata": {},
   "outputs": [],
   "source": [
    "import matplotlib.pyplot as plt\n",
    "import pandas as pd\n",
    "import numpy as np\n",
    "import subjects\n",
    "from neuropy import plotting\n",
    "from neuropy.utils import signal_process\n",
    "from neuropy.analyses import Pf1D\n",
    "from neuropy.analyses import Decode1d"
   ]
  },
  {
   "cell_type": "markdown",
   "metadata": {},
   "source": [
    "### Decoding re-maze with maze template"
   ]
  },
  {
   "cell_type": "code",
   "execution_count": null,
   "metadata": {},
   "outputs": [],
   "source": [
    "sessions = (\n",
    "    subjects.nsd.ratSday2\n",
    "    + subjects.nsd.ratVday1\n",
    "    + subjects.nsd.ratUday2\n",
    "    + subjects.sd.ratSday3\n",
    "    + subjects.sd.ratVday2\n",
    "    + subjects.sd.ratUday4\n",
    ")\n"
   ]
  },
  {
   "cell_type": "code",
   "execution_count": null,
   "metadata": {},
   "outputs": [],
   "source": [
    "from tqdm import tqdm\n",
    "\n",
    "score_df = []\n",
    "dist_replay_df = []\n",
    "for sub, sess in enumerate(tqdm(sessions)):\n",
    "    re_maze = sess.paradigm[\"re-maze\"].flatten()\n",
    "    neurons = sess.neurons.get_neuron_type(neuron_type=\"pyr\")\n",
    "    pos = sess.maze\n",
    "    # run = sess.run\n",
    "    pf = Pf1D(\n",
    "        neurons=neurons,\n",
    "        position=pos,\n",
    "        speed_thresh=5,\n",
    "        sigma=4,\n",
    "        grid_bin=2,\n",
    "        # epochs=run,\n",
    "        frate_thresh=1,\n",
    "    )\n",
    "    pf_neurons = neurons.get_by_id(pf.neuron_ids)\n",
    "    epochs = sess.pbe.time_slice(re_maze[0], re_maze[1])\n",
    "    decode = Decode1d(\n",
    "        neurons=pf_neurons,\n",
    "        ratemap=pf,\n",
    "        epochs=epochs,\n",
    "        bin_size=0.02,\n",
    "        decode_margin=15,\n",
    "        nlines=5000,\n",
    "    )\n",
    "    jump_distance = [np.abs(np.diff(_)).mean() for _ in decode.decoded_position]\n",
    "\n",
    "    norm_pos = min_max_scaler(decode.ratemap.xbin_centers)\n",
    "    decoded_position_mean = np.nanmean(np.hstack(decode.posterior), axis=1)\n",
    "    pos_bins = np.linspace(0, 1, 50)\n",
    "    mean_pos = np.interp(pos_bins, norm_pos, decoded_position_mean)\n",
    "\n",
    "    df_dist = pd.DataFrame(\n",
    "        dict(\n",
    "            bins=pos_bins,\n",
    "            mean_pos=mean_pos,\n",
    "            name=sess.animal.name,\n",
    "            grp=sess.tag,\n",
    "        )\n",
    "    )\n",
    "\n",
    "    df = pd.DataFrame(\n",
    "        dict(\n",
    "            score=decode.score,\n",
    "            velocity=decode.velocity,\n",
    "            jump_distance=jump_distance,\n",
    "            epoch=\"re-maze\",\n",
    "            name=sess.animal.name,\n",
    "            grp=sess.tag,\n",
    "        )\n",
    "    )\n",
    "    score_df.append(df)\n",
    "    dist_replay_df.append(df_dist)\n",
    "\n",
    "score_df = pd.concat(score_df, ignore_index=True)\n",
    "dist_replay_df = pd.concat(dist_replay_df, ignore_index=True)\n",
    "subjects.GroupData().save(score_df, \"replay_re_maze_score\")\n",
    "subjects.GroupData().save(dist_replay_df, \"replay_re_maze_position_distribution\")\n"
   ]
  },
  {
   "cell_type": "code",
   "execution_count": null,
   "metadata": {},
   "outputs": [],
   "source": [
    "%matplotlib widget\n",
    "import seaborn as sns\n",
    "\n",
    "sns.violinplot(\n",
    "    data=score_df,\n",
    "    x=\"epoch\",\n",
    "    y=\"score\",\n",
    "    hue=\"grp\",\n",
    "    split=True,\n",
    "    inner=None,\n",
    "    scale=\"width\",\n",
    ")\n"
   ]
  }
 ],
 "metadata": {
  "interpreter": {
   "hash": "cce1618081139d19eb1ee8d40815d94a2de4f62e1efb20d9406ddb60628c36ae"
  },
  "kernelspec": {
   "display_name": "Python 3.10.2 ('data_analysis')",
   "language": "python",
   "name": "python3"
  },
  "language_info": {
   "name": "python",
   "version": "3.10.2"
  },
  "orig_nbformat": 4
 },
 "nbformat": 4,
 "nbformat_minor": 2
}
