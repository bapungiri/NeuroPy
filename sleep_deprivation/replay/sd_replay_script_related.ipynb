{
 "cells": [
  {
   "cell_type": "markdown",
   "metadata": {},
   "source": [
    "### Imports"
   ]
  },
  {
   "cell_type": "code",
   "execution_count": 2,
   "metadata": {},
   "outputs": [],
   "source": [
    "import matplotlib.pyplot as plt\n",
    "import numpy as np\n",
    "import seaborn as sns\n",
    "from neuropy import plotting\n",
    "from tqdm.notebook import tqdm\n",
    "from neuropy.core import Epoch\n",
    "from neuropy.utils.mathutil import min_max_scaler\n",
    "from neuropy import plotting\n",
    "from scipy import stats\n",
    "import pandas as pd\n",
    "import subjects"
   ]
  },
  {
   "cell_type": "markdown",
   "metadata": {},
   "source": [
    "### Signficant sequences(wcorr) compare SD vs NSD "
   ]
  },
  {
   "cell_type": "code",
   "execution_count": null,
   "metadata": {},
   "outputs": [],
   "source": [
    "sessions = subjects.pf_sess()"
   ]
  },
  {
   "cell_type": "code",
   "execution_count": null,
   "metadata": {},
   "outputs": [],
   "source": [
    "replay_df = []\n",
    "for sub, sess in enumerate(sessions):\n",
    "\n",
    "    maze = sess.paradigm[\"maze\"].flatten()\n",
    "    post = sess.paradigm[\"post\"].flatten()\n",
    "    zt_starts = np.array([0,2.5,5])\n",
    "    zt_stops = np.array([2.5,5,7.5])\n",
    "    epochs = np.vstack((zt_starts,zt_stops)).T* 3600 + post[0]\n",
    "    epochs = np.insert(epochs,0,maze,axis=0)\n",
    "    labels = ['MAZE','0-2.5','2.5-5','5-7.5']\n",
    "\n",
    "    for i, (t1,t2) in enumerate(epochs):\n",
    "        replay_pbe = sess.replay_pbe.time_slice(t1,t2).to_dataframe()\n",
    "        for direction in [\"up\", \"down\"]:\n",
    "            perc = replay_pbe[direction + \"_percentile_score\"].values\n",
    "            is_replay = (perc <= 5) | (perc >= 95)\n",
    "            scores = replay_pbe[direction + \"_score\"].values[is_replay]\n",
    "            order = replay_pbe[direction + \"_replay_order\"].values[is_replay]\n",
    "            order, counts = np.unique(order, return_counts=True)\n",
    "            df = pd.DataFrame(\n",
    "                dict(\n",
    "                    zt=labels[i],\n",
    "                    replay_order=[\"r\"],\n",
    "                    prop=counts.sum() / len(replay_pbe),\n",
    "                    # scores=np.abs(scores),\n",
    "                    animal=sub,\n",
    "                    grp=sess.tag,\n",
    "                )\n",
    "            )\n",
    "            replay_df.append(df)\n",
    "\n",
    "replay_df = pd.concat(replay_df, ignore_index=True)\n",
    "\n",
    "# subjects.GroupData().save(replay_df,'replay_sig_frames')"
   ]
  },
  {
   "cell_type": "code",
   "execution_count": null,
   "metadata": {},
   "outputs": [],
   "source": [
    "\n",
    "_,ax = plt.subplots() \n",
    "sns.barplot(data=replay_df, x=\"zt\", y=\"prop\",hue='grp')\n"
   ]
  },
  {
   "cell_type": "markdown",
   "metadata": {},
   "source": [
    "### Distribution of wcorr-sequences SD vs NSD\n",
    "- select those wcorrs which have highest absolute value"
   ]
  },
  {
   "cell_type": "code",
   "execution_count": null,
   "metadata": {},
   "outputs": [],
   "source": [
    "sessions = subjects.pf_sess()"
   ]
  },
  {
   "cell_type": "code",
   "execution_count": null,
   "metadata": {},
   "outputs": [],
   "source": [
    "print(f'#Sessions={len(sessions)}')\n",
    "replay_df = []\n",
    "for sub, sess in enumerate(sessions):\n",
    "\n",
    "    maze = sess.paradigm[\"maze\"].flatten()\n",
    "    post = sess.paradigm[\"post\"].flatten()\n",
    "\n",
    "    replay_pbe = sess.replay_pbe.to_dataframe()\n",
    "    metadata = sess.replay_pbe.metadata\n",
    "\n",
    "    wcorr_up = replay_pbe[\"up_score\"].values\n",
    "    wcorr_down = -replay_pbe[\"down_score\"].values\n",
    "    up_shuffle = metadata[\"up_shuffle_score\"]\n",
    "    down_shuffle = -metadata[\"down_shuffle_score\"]\n",
    "\n",
    "    best_bool = np.abs(wcorr_up) > np.abs(wcorr_down)\n",
    "\n",
    "    best_wcorr = np.zeros(len(wcorr_up))\n",
    "    best_wcorr[best_bool] = wcorr_up[best_bool]\n",
    "    best_wcorr[~best_bool] = wcorr_down[~best_bool]\n",
    "    best_shuffle = np.zeros_like(up_shuffle)\n",
    "    best_shuffle[:, best_bool] = up_shuffle[:, best_bool]\n",
    "    best_shuffle[:, ~best_bool] = down_shuffle[:, ~best_bool]\n",
    "\n",
    "    percentile = np.array(\n",
    "        [\n",
    "            stats.percentileofscore(\n",
    "                best_shuffle[:, i]**2, best_wcorr[i]**2, kind=\"strict\"\n",
    "            )\n",
    "            for i in range(len(best_wcorr))\n",
    "        ]\n",
    "    )\n",
    "\n",
    "    abs_score = np.abs(best_wcorr)\n",
    "    abs_shuffle_score = np.abs(best_shuffle)\n",
    "    mean_shuffle_score = abs_shuffle_score.mean(axis=0)\n",
    "    std_shuffle_score = abs_shuffle_score.std(axis=0)\n",
    "    seq_score = (abs_score - mean_shuffle_score) / std_shuffle_score\n",
    "\n",
    "    zt_starts = np.array([0, 2.5, 5])\n",
    "    zt_stops = np.array([2.5, 5, 7.5])\n",
    "    epochs = np.vstack((zt_starts, zt_stops)).T * 3600 + post[0]\n",
    "    epochs = np.insert(epochs, 0, maze, axis=0)\n",
    "    labels = [\"MAZE\", \"0-2.5\", \"2.5-5\", \"5-7.5\"]\n",
    "\n",
    "    for i, (t1, t2) in enumerate(epochs):\n",
    "        indx = (replay_pbe.start > t1) & (replay_pbe.start < t2)\n",
    "        df = pd.DataFrame(\n",
    "            dict(\n",
    "                zt=labels[i],\n",
    "                perc=percentile[indx],\n",
    "                seq_score=seq_score[indx],\n",
    "                wcorr=np.abs(best_wcorr[indx]),\n",
    "                animal=sub,\n",
    "                grp=sess.tag,\n",
    "            )\n",
    "        )\n",
    "        replay_df.append(df)\n",
    "\n",
    "replay_df = pd.concat(replay_df, ignore_index=True)\n",
    "\n",
    "subjects.GroupData().save(replay_df, \"replay_wcorr\")\n"
   ]
  },
  {
   "cell_type": "code",
   "execution_count": null,
   "metadata": {},
   "outputs": [],
   "source": [
    "\n",
    "\n",
    "# _,ax = plt.subplots(1,1) \n",
    "# sns.barplot(data=replay_df,x='zt',y='perc',hue='grp',ax=ax, ci =99)\n",
    "\n",
    "_,axs = plt.subplots(1,4) \n",
    "for i,t in enumerate(labels):\n",
    "\n",
    "    df =replay_df[replay_df.zt==t] \n",
    "    d1 = df[df.grp=='NSD'].seq_score.values\n",
    "    d2 = df[df.grp=='SD'].seq_score.values\n",
    "    sns.ecdfplot(data=df, x=\"perc\",hue='grp',ax=axs[i],lw=1)\n",
    "    print(stats.kstest(d1,d2)) \n"
   ]
  },
  {
   "cell_type": "markdown",
   "metadata": {},
   "source": [
    "### wcorr vs jump distance"
   ]
  },
  {
   "cell_type": "code",
   "execution_count": null,
   "metadata": {},
   "outputs": [],
   "source": [
    "sessions = subjects.pf_sess()"
   ]
  },
  {
   "cell_type": "code",
   "execution_count": null,
   "metadata": {},
   "outputs": [],
   "source": [
    "get_jump_dist = lambda arr: np.diff(np.argmax(arr, axis=0)).mean()\n",
    "wcorr_jump_df = []\n",
    "for sub, sess in enumerate(sessions):\n",
    "\n",
    "    maze = sess.paradigm[\"maze\"].flatten()\n",
    "    post = sess.paradigm[\"post\"].flatten()\n",
    "    zt_starts = np.array([0, 2.5, 5])\n",
    "    zt_stops = np.array([2.5, 5, 7.5])\n",
    "    epochs = np.vstack((zt_starts, zt_stops)).T * 3600 + post[0]\n",
    "    epochs = np.insert(epochs, 0, maze, axis=0)\n",
    "    labels = [\"MAZE\", \"0-2.5\", \"2.5-5\", \"5-7.5\"]\n",
    "\n",
    "    replay_pbe = sess.replay_pbe.to_dataframe()\n",
    "\n",
    "    for direction in [\"up\", \"down\"]:\n",
    "        wcorr = np.abs(replay_pbe[direction + \"_score\"].values)\n",
    "        posteriors = sess.replay_pbe.metadata[direction + \"_posterior\"]\n",
    "        dx = 1 / posteriors[0].shape[0]\n",
    "        jump_dist = np.array([get_jump_dist(_) for _ in posteriors]) * dx\n",
    "        for i, (t1, t2) in enumerate(epochs):\n",
    "            indx = (replay_pbe.start > t1) & (replay_pbe.start < t2)\n",
    "\n",
    "            df = pd.DataFrame(\n",
    "                dict(\n",
    "                    zt=labels[i],\n",
    "                    wcorr=wcorr[indx],\n",
    "                    jump=np.abs(jump_dist[indx]),\n",
    "                    animal=sub,\n",
    "                    grp=sess.tag,\n",
    "                )\n",
    "            )\n",
    "            wcorr_jump_df.append(df)\n",
    "\n",
    "wcorr_jump_df = pd.concat(wcorr_jump_df, ignore_index=True)\n",
    "\n",
    "# subjects.GroupData().save(replay_df,'replay_wcorr')\n"
   ]
  },
  {
   "cell_type": "code",
   "execution_count": null,
   "metadata": {},
   "outputs": [],
   "source": [
    "_,ax = plt.subplots(1,1)\n",
    "sns.violinplot(data=wcorr_jump_df,x='zt',y='jump',hue='grp',ax=ax)\n",
    "# sns.displot(data=wcorr_jump_df,x='jump',y='wcorr',binwidth=(0.05,0.05),col='grp')\n",
    "\n",
    "# _, axs = plt.subplots(1, 4)\n",
    "# for i, t in enumerate(labels):\n",
    "\n",
    "#     df = wcorr_jump_df[wcorr_jump_df.zt == t]\n",
    "#     d1 = df[df.grp=='NSD'].jump.values\n",
    "#     d2 = df[df.grp=='SD'].jump.values\n",
    "#     sns.barplot(\n",
    "#         data=df,\n",
    "#         x='zt',\n",
    "#         y=\"jump\",\n",
    "#         hue=\"grp\",\n",
    "#         ax=axs[i],\n",
    "#         # lw=1,\n",
    "#         # common_norm=False,\n",
    "#         # common_bins=True,\n",
    "#         # stat=\"probability\",\n",
    "#         # fill=False,\n",
    "#         # element='poly',\n",
    "#         # cumulative=True,\n",
    "#     )\n",
    "#     print(stats.kstest(d1,d2))\n"
   ]
  },
  {
   "cell_type": "markdown",
   "metadata": {},
   "source": [
    "### Signficant sequences histogram radon transform"
   ]
  },
  {
   "cell_type": "code",
   "execution_count": null,
   "metadata": {},
   "outputs": [],
   "source": [
    "sessions = subjects.nsd.pf_sess"
   ]
  },
  {
   "cell_type": "code",
   "execution_count": null,
   "metadata": {},
   "outputs": [],
   "source": [
    "replay_df = []\n",
    "for sub, sess in enumerate(sessions):\n",
    "\n",
    "    post = sess.paradigm[\"post\"].flatten()\n",
    "    replay_pbe = sess.replay_pbe.to_dataframe()\n",
    "    is_replay = replay_pbe.is_replay\n",
    "    velocity_bool = np.abs(replay_pbe.velocity.values) > 100\n",
    "\n",
    "    sig_events = np.logical_and(is_replay, velocity_bool)\n",
    "    starts = replay_pbe.start.values[sig_events]\n",
    "    bins = np.arange(post[0], post[0] + 2 * 3600, 600)\n",
    "    hist_replay = np.histogram(starts, bins)[0]\n",
    "    replay_df.append(\n",
    "        pd.DataFrame(\n",
    "            {\n",
    "                \"bins\": ((bins[:-1] - post[0]) / 3600).round(2),\n",
    "                \"hist\": hist_replay,\n",
    "                \"grp\": sess.tag,\n",
    "            }\n",
    "        )\n",
    "    )\n",
    "\n",
    "replay_df = pd.concat(replay_df, ignore_index=True)\n"
   ]
  },
  {
   "cell_type": "code",
   "execution_count": null,
   "metadata": {},
   "outputs": [],
   "source": [
    "\n",
    "fig = plotting.Fig(grid=(2, 2))\n",
    "ax = fig.subplot(fig.gs[0])\n",
    "sns.barplot(data=replay_df, x=\"bins\", y=\"hist\", hue=\"grp\")\n"
   ]
  },
  {
   "cell_type": "markdown",
   "metadata": {},
   "source": [
    "### Decoding visualization"
   ]
  },
  {
   "cell_type": "code",
   "execution_count": null,
   "metadata": {},
   "outputs": [],
   "source": [
    "from hfuncs import plot_in_bokeh\n",
    "import bokeh.plotting as bplot\n",
    "\n",
    "sess = subjects.nsd.ratSday2[0]\n",
    "post = sess.paradigm[\"post\"].flatten()\n",
    "replay_pbe = sess.replay_pbe.to_dataframe()\n",
    "starts = sess.replay_pbe.starts\n",
    "wcorr, scores, posteriors = [], [], []\n",
    "for i, d in enumerate([\"up\", \"down\"]):\n",
    "    scores.append(replay_pbe[d + \"_percentile_score\"].values)\n",
    "    posteriors.extend(sess.replay_pbe.metadata[d + \"_posterior\"])\n",
    "    wcorr.append(replay_pbe[d + \"_score\"].values)\n",
    "\n",
    "wcorr = np.concatenate(wcorr)\n",
    "scores = np.concatenate(scores)\n",
    "starts = np.tile(starts, (2,)) - post[0]\n",
    "scores_color = np.where((scores >= 95) | (scores <= 5), scores, 50)\n",
    "\n",
    "n_epochs = 7000\n",
    "annotate_dict = dict(evt=np.arange(n_epochs), wcorr=wcorr[:n_epochs])\n",
    "bplot.output_notebook()\n",
    "# bplot.output_file(subjects.figpath_sd/'test_wake_decoding.html')\n",
    "p = plot_in_bokeh(\n",
    "    starts[:n_epochs]/3600,\n",
    "    scores[:n_epochs],\n",
    "    [posteriors[_] for _ in range(n_epochs)],\n",
    "    annotate=annotate_dict,\n",
    "    color_by=scores_color[:n_epochs],\n",
    "    palette=\"jet\",\n",
    "    size=8,\n",
    ")\n",
    "# # p.line(pos.time,pos.x/350 + 0.2,line_width=2,color='black')\n",
    "bplot.show(p)\n"
   ]
  },
  {
   "cell_type": "markdown",
   "metadata": {},
   "source": [
    "### Examples for figure4 sd paper"
   ]
  },
  {
   "cell_type": "code",
   "execution_count": null,
   "metadata": {},
   "outputs": [],
   "source": [
    "sessions = subjects.nsd.ratSday2 + subjects.sd.ratSday3\n",
    "\n",
    "# events= [[1221,2836,5072,2381,5179],[1326,1372,1824,1292,1516]]\n",
    "events= [[316,164,1416,3310,4201,3642,6728,6868],[263,148,2078,1900,3859,3468,6861,5978]]\n"
   ]
  },
  {
   "cell_type": "code",
   "execution_count": null,
   "metadata": {},
   "outputs": [],
   "source": [
    "replay_example_dict = {}\n",
    "for sub, sess in enumerate(sessions):\n",
    "    replay = sess.replay_pbe\n",
    "    replay_df = sess.replay_pbe.to_dataframe()\n",
    "    starts = sess.replay_pbe.starts\n",
    "    wcorr, scores, posteriors = [], [], []\n",
    "    for i, d in enumerate([\"up\", \"down\"]):\n",
    "        scores.append(replay_df[d + \"_percentile_score\"].values)\n",
    "        posteriors.extend(replay.metadata[d + \"_posterior\"])\n",
    "        wcorr.append(replay_df[d + \"_score\"].values)\n",
    "    wcorr = np.concatenate(wcorr)\n",
    "    replay_example_dict[sess.tag] = dict(\n",
    "        posteriors=[posteriors[p] for p in events[sub]], wcorr=wcorr[events[sub]]\n",
    "    )\n",
    "\n",
    "subjects.GroupData().save(replay_example_dict,'replay_examples')"
   ]
  },
  {
   "cell_type": "markdown",
   "metadata": {},
   "source": [
    "### Mean replay score across all events as a function of time "
   ]
  },
  {
   "cell_type": "code",
   "execution_count": null,
   "metadata": {},
   "outputs": [],
   "source": [
    "%matplotlib widget\n",
    "import matplotlib.pyplot as plt\n",
    "import numpy as np\n",
    "import pandas as pd\n",
    "import subjects\n",
    "from neuropy import plotting\n",
    "from neuropy.utils import signal_process\n",
    "from neuropy.analyses import Pf1D\n",
    "from neuropy.analyses import Decode1d\n",
    "\n",
    "sessions = subjects.nsd.ratUday2 + subjects.sd.ratUday4"
   ]
  },
  {
   "cell_type": "code",
   "execution_count": null,
   "metadata": {},
   "outputs": [],
   "source": [
    "from scipy import stats\n",
    "\n",
    "replay_df = []\n",
    "for sub, sess in enumerate(sessions):\n",
    "\n",
    "    post = sess.paradigm[\"post\"].flatten()\n",
    "    replay_pbe = sess.replay_pbe.to_dataframe()\n",
    "    starts = sess.replay_pbe.starts\n",
    "    replay_score = replay_pbe.score\n",
    "    bins = np.arange(post[0], post[0] + 2 * 3600, 600)\n",
    "\n",
    "    mean_score = stats.binned_statistic(starts, replay_score, bins=bins)[0]\n",
    "    replay_df.append(\n",
    "        pd.DataFrame(\n",
    "            {\n",
    "                \"bins\": ((bins[:-1] - post[0]) / 3600).round(2),\n",
    "                \"hist\": mean_score,\n",
    "                \"grp\": sess.tag,\n",
    "            }\n",
    "        )\n",
    "    )\n",
    "\n",
    "replay_df = pd.concat(replay_df, ignore_index=True)\n"
   ]
  },
  {
   "cell_type": "code",
   "execution_count": null,
   "metadata": {},
   "outputs": [],
   "source": [
    "from neuropy import plotting\n",
    "import seaborn as sns\n",
    "\n",
    "fig = plotting.Fig(grid=(2, 2))\n",
    "ax = fig.subplot(fig.gs[0])\n",
    "sns.lineplot(data=replay_df, x=\"bins\", y=\"hist\", hue=\"grp\")\n"
   ]
  },
  {
   "cell_type": "markdown",
   "metadata": {},
   "source": [
    "### Distribution of replay scores and comparison with shuffled scores"
   ]
  },
  {
   "cell_type": "code",
   "execution_count": null,
   "metadata": {},
   "outputs": [],
   "source": [
    "import matplotlib.pyplot as plt\n",
    "import numpy as np\n",
    "import pandas as pd\n",
    "import subjects\n",
    "from neuropy import plotting\n",
    "from neuropy.utils import signal_process\n",
    "from neuropy.analyses import Pf1D\n",
    "from neuropy.analyses import Decode1d\n",
    "\n",
    "sessions = subjects.nsd.ratUday2 + subjects.sd.ratUday4"
   ]
  },
  {
   "cell_type": "code",
   "execution_count": null,
   "metadata": {},
   "outputs": [],
   "source": [
    "from scipy import stats\n",
    "\n",
    "score_df = []\n",
    "for sub, sess in enumerate(sessions):\n",
    "\n",
    "    post = sess.paradigm[\"post\"].flatten()\n",
    "    replay_pbe = sess.replay_pbe.to_dataframe()\n",
    "\n",
    "    starts = sess.replay_pbe.starts\n",
    "    replay_score = replay_pbe.score\n",
    "\n",
    "    shuffle_scores = sess.replay_pbe.metadata[\"shuffle_score\"].flatten()\n",
    "    shuffle_starts = np.repeat(starts, 200)\n",
    "\n",
    "    bins = np.arange(2) * 3600 + post[0]\n",
    "    replay_df = pd.DataFrame(\n",
    "        {\n",
    "            \"Zt\": np.digitize(starts, bins),\n",
    "            \"starts\": starts,\n",
    "            \"score\": replay_score,\n",
    "            \"grp\": sess.tag,\n",
    "        }\n",
    "    )\n",
    "    shuffle_df = pd.DataFrame(\n",
    "        {\n",
    "            \"Zt\": np.digitize(shuffle_starts, bins),\n",
    "            \"starts\": shuffle_starts,\n",
    "            \"score\": shuffle_scores,\n",
    "            \"grp\": f\"{sess.tag}_shuffle\",\n",
    "        }\n",
    "    )\n",
    "    score_df.append(pd.concat([replay_df, shuffle_df]))\n",
    "\n",
    "score_df = pd.concat(score_df, ignore_index=True)\n"
   ]
  },
  {
   "cell_type": "code",
   "execution_count": null,
   "metadata": {},
   "outputs": [],
   "source": [
    "sess.replay_pbe.metadata[\"shuffle_score\"].shape\n"
   ]
  },
  {
   "cell_type": "code",
   "execution_count": null,
   "metadata": {},
   "outputs": [],
   "source": [
    "from neuropy import plotting\n",
    "import seaborn as sns\n",
    "\n",
    "fig = plotting.Fig(grid=(2, 2))\n",
    "ax = fig.subplot(fig.gs[0])\n",
    "sns.violinplot(data=score_df, x=\"Zt\", y=\"score\", hue=\"grp\")\n"
   ]
  },
  {
   "cell_type": "markdown",
   "metadata": {},
   "source": [
    "### Posterior time lag comparison SD vs NSD"
   ]
  },
  {
   "cell_type": "code",
   "execution_count": null,
   "metadata": {},
   "outputs": [],
   "source": [
    "sessions = subjects.nsd.ratUday2 + subjects.sd.ratUday4"
   ]
  },
  {
   "cell_type": "code",
   "execution_count": null,
   "metadata": {},
   "outputs": [],
   "source": [
    "import scipy.signal as sg\n",
    "from scipy.ndimage import gaussian_filter1d\n",
    "\n",
    "lag_time_all = []\n",
    "for sub,sess in enumerate(sessions):\n",
    "    post = sess.paradigm['post'].flatten()\n",
    "    starts = sess.replay_pbe.starts\n",
    "    # ind = (starts>=post[0]+2.5*3600) &(starts<=post[0]+5*3600)\n",
    "    ind = starts<post[0]\n",
    "\n",
    "    posteriors = sess.replay_pbe.metadata['up_posterior']\n",
    "    posteriors = [posteriors[_] for _ in np.argwhere(ind).squeeze()] \n",
    "    posteriors = np.hstack(posteriors)\n",
    "\n",
    "    npos,nt = posteriors.shape\n",
    "    rows,cols = np.tril_indices(npos,-1)\n",
    "    lags = sg.correlation_lags(nt,nt,mode='same')*0.02\n",
    "    idx = (lags>=-0.5) & (lags<=0.5)\n",
    "    lags = lags[idx]\n",
    "\n",
    "    lag_time=np.zeros((npos,npos))\n",
    "    for p1 in range(npos):\n",
    "        for p2 in range(npos):\n",
    "            xcorr = sg.correlate(posteriors[p1],posteriors[p2],mode='same')[idx]\n",
    "            lag_time[p1,p2] = lags[gaussian_filter1d(xcorr,sigma=0.06/0.02).argmax()]\n",
    "\n",
    "    lag_time_all.append(lag_time)"
   ]
  },
  {
   "cell_type": "code",
   "execution_count": null,
   "metadata": {},
   "outputs": [],
   "source": [
    "_,axs = plt.subplots(2,2)\n",
    "\n",
    "for i,lag_mat in enumerate(lag_time_all):\n",
    "\n",
    "    ax = axs[0,i]\n",
    "    im = ax.pcolormesh(lag_mat,cmap='bwr',vmin=-0.4,vmax=0.4)\n",
    "    cb = plt.colorbar(im,ax=ax)\n",
    "\n",
    "    ax2 = axs[1,i]\n",
    "    im = ax2.pcolormesh(np.abs(lag_mat),cmap='jet',vmin=0,vmax=0.4)\n",
    "    cb = plt.colorbar(im,ax=ax2)\n"
   ]
  },
  {
   "cell_type": "markdown",
   "metadata": {},
   "source": [
    "### Which positions are being replayed the most in POST"
   ]
  },
  {
   "cell_type": "code",
   "execution_count": null,
   "metadata": {},
   "outputs": [],
   "source": [
    "sessions = subjects.nsd.ratUday2 + subjects.sd.ratUday4"
   ]
  },
  {
   "cell_type": "code",
   "execution_count": null,
   "metadata": {},
   "outputs": [],
   "source": [
    "import scipy.signal as sg\n",
    "from scipy.ndimage import gaussian_filter1d\n",
    "\n",
    "mean_posterior = []\n",
    "for sub,sess in enumerate(sessions):\n",
    "    post = sess.paradigm['post'].flatten()\n",
    "    starts = sess.replay_pbe.starts\n",
    "    ind = (starts>=post[0]+2.5*3600) &(starts<=post[0]+5*3600)\n",
    "\n",
    "    posteriors = sess.replay_pbe.metadata['up_posterior']\n",
    "    posteriors = [posteriors[_] for _ in np.argwhere(ind).squeeze()] \n",
    "    mean_posterior.append(np.hstack(posteriors).mean(axis=1))\n",
    "\n"
   ]
  },
  {
   "cell_type": "code",
   "execution_count": null,
   "metadata": {},
   "outputs": [],
   "source": [
    "_,axs = plt.subplots(1,2,sharey=True)\n",
    "\n",
    "for i,p in enumerate(mean_posterior):\n",
    "    axs[i].plot(p)\n"
   ]
  },
  {
   "cell_type": "markdown",
   "metadata": {},
   "source": [
    "### Forward and reverse replay during POST SD vs NSD "
   ]
  },
  {
   "cell_type": "code",
   "execution_count": 3,
   "metadata": {},
   "outputs": [],
   "source": [
    "sessions = subjects.pf_sess()"
   ]
  },
  {
   "cell_type": "code",
   "execution_count": 49,
   "metadata": {},
   "outputs": [],
   "source": [
    "from replay_funcs import get_jump_distance\n",
    "replay_df = []\n",
    "jd_df = []\n",
    "for sub, sess in enumerate(sessions):\n",
    "    maze = sess.paradigm['maze'].flatten()\n",
    "    post = sess.paradigm['post'].flatten()\n",
    "    replay_pbe_df = sess.replay_pbe.to_dataframe()\n",
    "    metadata = sess.replay_pbe.metadata\n",
    "\n",
    "    wcorr_up = replay_pbe_df[\"up_score\"].values\n",
    "    seq_score_up = replay_pbe_df[\"up_sequence_score\"].values\n",
    "    percentile_up = replay_pbe_df[\"up_percentile_score\"].values\n",
    "    jd_up = get_jump_distance(metadata['up_posterior'],'max')\n",
    "\n",
    "\n",
    "    wcorr_down = -replay_pbe_df[\"down_score\"].values\n",
    "    seq_score_down = replay_pbe_df[\"down_sequence_score\"].values\n",
    "    percentile_down = 100-replay_pbe_df[\"down_percentile_score\"].values\n",
    "    jd_down = get_jump_distance(metadata['down_posterior'],'max')\n",
    "\n",
    "\n",
    "    best_bool = np.abs(wcorr_up) > np.abs(wcorr_down)\n",
    "\n",
    "    wcorr = np.zeros(len(replay_pbe_df))\n",
    "    wcorr[best_bool] = wcorr_up[best_bool]\n",
    "    wcorr[~best_bool] = wcorr_down[~best_bool]\n",
    "\n",
    "    seq_score = np.zeros(len(replay_pbe_df))\n",
    "    seq_score[best_bool] = seq_score_up[best_bool]\n",
    "    seq_score[~best_bool] = seq_score_down[~best_bool]\n",
    "\n",
    "    percentile = np.zeros(len(replay_pbe_df))\n",
    "    percentile[best_bool] = percentile_up[best_bool]\n",
    "    percentile[~best_bool] = percentile_down[~best_bool]\n",
    "\n",
    "    jd= np.zeros(len(replay_pbe_df))\n",
    "    jd[best_bool] = jd_up[best_bool]\n",
    "    jd[~best_bool] = jd_down[~best_bool]\n",
    "\n",
    "\n",
    "\n",
    "    is_forward = (wcorr > 0) & ((percentile < 2.5) | (percentile > 97.5))\n",
    "    is_reverse = (wcorr < 0) & ((percentile < 2.5) | (percentile > 97.5))\n",
    "\n",
    "    zt_starts = np.array([0, 2.5, 5])\n",
    "    zt_stops = np.array([2.5, 5, 7.5])\n",
    "    epochs = np.vstack((zt_starts, zt_stops)).T * 3600 + post[0]\n",
    "    epochs = np.insert(epochs, 0, maze, axis=0)\n",
    "    labels = [\"MAZE\", \"0-2.5\", \"2.5-5\", \"5-7.5\"]\n",
    "\n",
    "    for i, (t1, t2) in enumerate(epochs):\n",
    "        indx = (replay_pbe_df.start > t1) & (replay_pbe_df.start < t2)\n",
    "        n_pbes = np.count_nonzero(indx)\n",
    "        df = pd.DataFrame(\n",
    "            dict(\n",
    "                zt=labels[i],\n",
    "                replay_order=[\"forward\", \"reverse\"],\n",
    "                prop=[\n",
    "                    np.count_nonzero(is_forward[indx]) / n_pbes,\n",
    "                    np.count_nonzero(is_reverse[indx]) / n_pbes,\n",
    "                ],\n",
    "                jd=jd[indx].mean(),\n",
    "                animal=sub,\n",
    "                grp=sess.tag,\n",
    "            )\n",
    "        )\n",
    "        replay_df.append(df)\n",
    "\n",
    "replay_df = pd.concat(replay_df, ignore_index=True)\n",
    "\n",
    "# subjects.GroupData().save(replay_df, \"replay_order\")\n"
   ]
  },
  {
   "cell_type": "code",
   "execution_count": 56,
   "metadata": {},
   "outputs": [
    {
     "data": {
      "application/vnd.jupyter.widget-view+json": {
       "model_id": "f5d429b4685044d1992a40b99ad0e11b",
       "version_major": 2,
       "version_minor": 0
      },
      "image/png": "[encoded data removed]",
      "text/html": [
       "\n",
       "            <div style=\"display: inline-block;\">\n",
       "                <div class=\"jupyter-widgets widget-label\" style=\"text-align: center;\">\n",
       "                    Figure\n",
       "                </div>\n",
       "                <img src='data:image/png;base64,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' width=640.0/>\n",
       "            </div>\n",
       "        "
      ],
      "text/plain": [
       "Canvas(toolbar=Toolbar(toolitems=[('Home', 'Reset original view', 'home', 'home'), ('Back', 'Back to previous …"
      ]
     },
     "metadata": {},
     "output_type": "display_data"
    }
   ],
   "source": [
    "# _,ax = plt.subplots(1,1)\n",
    "# sns.barplot(data=replay_df,x='zt',y='perc',hue='grp',ax=ax, ci =99)\n",
    "\n",
    "_, axs = plt.subplots(1, 2,sharey=True)\n",
    "\n",
    "for i, odr in enumerate([\"forward\", \"reverse\"]):\n",
    "    ax = axs[i]\n",
    "    df = replay_df[replay_df[\"replay_order\"] == odr]\n",
    "    sns.boxplot(\n",
    "        data=df,\n",
    "        x=\"zt\",\n",
    "        y=\"prop\",\n",
    "        hue=\"grp\",\n",
    "        ax=ax,\n",
    "        # split=True,\n",
    "        showfliers=False,\n",
    "        # estimator=np.median,\n",
    "        palette=subjects.colors_sd(1.4),\n",
    "        dodge=True,\n",
    "        # join=False,\n",
    "        # width='area',\n",
    "        # stat=\"probability\",\n",
    "        # common_norm=False,\n",
    "        # cumulative=True,\n",
    "        # showfliers=False,\n",
    "    )\n",
    "    # print(stats.ttest_ind(d1, d2,alternative='greater'))\n",
    "    ax.set_title(odr)\n",
    "    ax.set_ylim([0,0.3])\n",
    "\n",
    "\n",
    "# ax = axs[2]\n",
    "# sns.boxplot(\n",
    "#     data=df,\n",
    "#     x=\"zt\",\n",
    "#     y=\"jd\",\n",
    "#     hue=\"grp\",\n",
    "#     ax=ax,\n",
    "#     # split=True,\n",
    "#     showfliers=False,\n",
    "#     # estimator=np.median,\n",
    "#     palette=subjects.colors_sd(1.4)\n",
    "#     # dodge=True,\n",
    "#     # join=False,\n",
    "#     # width='area',\n",
    "#     # stat=\"probability\",\n",
    "#     # common_norm=False,\n",
    "#     # cumulative=True,\n",
    "#     # showfliers=False,\n",
    "# )\n",
    "# # print(stats.ttest_ind(d1, d2,alternative='greater'))\n",
    "# ax.set_title(odr)\n",
    "# # ax.set_ylim([0,0.3])\n"
   ]
  }
 ],
 "metadata": {
  "interpreter": {
   "hash": "cce1618081139d19eb1ee8d40815d94a2de4f62e1efb20d9406ddb60628c36ae"
  },
  "kernelspec": {
   "display_name": "Python 3.10.2 ('data_analysis')",
   "language": "python",
   "name": "python3"
  },
  "language_info": {
   "codemirror_mode": {
    "name": "ipython",
    "version": 3
   },
   "file_extension": ".py",
   "mimetype": "text/x-python",
   "name": "python",
   "nbconvert_exporter": "python",
   "pygments_lexer": "ipython3",
   "version": "3.10.2"
  },
  "orig_nbformat": 4
 },
 "nbformat": 4,
 "nbformat_minor": 2
}
