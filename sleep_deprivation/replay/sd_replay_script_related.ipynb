{
 "cells": [
  {
   "cell_type": "markdown",
   "metadata": {},
   "source": [
    "### Imports"
   ]
  },
  {
   "cell_type": "code",
   "execution_count": 1,
   "metadata": {},
   "outputs": [],
   "source": [
    "import matplotlib.pyplot as plt\n",
    "import numpy as np\n",
    "import seaborn as sns\n",
    "from neuropy import plotting\n",
    "from tqdm.notebook import tqdm\n",
    "from neuropy.core import Epoch\n",
    "from neuropy.utils.mathutil import min_max_scaler\n",
    "from neuropy import plotting\n",
    "from scipy import stats\n",
    "import pandas as pd\n",
    "import subjects"
   ]
  },
  {
   "cell_type": "markdown",
   "metadata": {},
   "source": [
    "### Signficant sequences(wcorr) compare SD vs NSD "
   ]
  },
  {
   "cell_type": "code",
   "execution_count": null,
   "metadata": {},
   "outputs": [],
   "source": [
    "sessions = subjects.pf_sess()\n",
    "\n",
    "replay_df = []\n",
    "for sub, sess in enumerate(sessions):\n",
    "\n",
    "    maze = sess.paradigm[\"maze\"].flatten()\n",
    "    post = sess.paradigm[\"post\"].flatten()\n",
    "    zt_starts = np.array([0,2.5,5])\n",
    "    zt_stops = np.array([2.5,5,7.5])\n",
    "    epochs = np.vstack((zt_starts,zt_stops)).T* 3600 + post[0]\n",
    "    epochs = np.insert(epochs,0,maze,axis=0)\n",
    "    labels = ['MAZE','0-2.5','2.5-5','5-7.5']\n",
    "\n",
    "    for i, (t1,t2) in enumerate(epochs):\n",
    "        replay_pbe = sess.replay_pbe.time_slice(t1,t2).to_dataframe()\n",
    "        for direction in [\"up\", \"down\"]:\n",
    "            perc = replay_pbe[direction + \"_percentile_score\"].values\n",
    "            is_replay = (perc <= 5) | (perc >= 95)\n",
    "            scores = replay_pbe[direction + \"_score\"].values[is_replay]\n",
    "            order = replay_pbe[direction + \"_replay_order\"].values[is_replay]\n",
    "            order, counts = np.unique(order, return_counts=True)\n",
    "            df = pd.DataFrame(\n",
    "                dict(\n",
    "                    zt=labels[i],\n",
    "                    replay_order=[\"r\"],\n",
    "                    prop=counts.sum() / len(replay_pbe),\n",
    "                    # scores=np.abs(scores),\n",
    "                    animal=sub,\n",
    "                    grp=sess.tag,\n",
    "                )\n",
    "            )\n",
    "            replay_df.append(df)\n",
    "\n",
    "replay_df = pd.concat(replay_df, ignore_index=True)\n",
    "\n",
    "# subjects.GroupData().save(replay_df,'replay_sig_frames')"
   ]
  },
  {
   "cell_type": "code",
   "execution_count": null,
   "metadata": {},
   "outputs": [],
   "source": [
    "\n",
    "_,ax = plt.subplots() \n",
    "sns.barplot(data=replay_df, x=\"zt\", y=\"prop\",hue='grp')\n"
   ]
  },
  {
   "cell_type": "markdown",
   "metadata": {},
   "source": [
    "### Distributions of various replay related measurements SD vs NSD"
   ]
  },
  {
   "cell_type": "code",
   "execution_count": 49,
   "metadata": {},
   "outputs": [
    {
     "name": "stdout",
     "output_type": "stream",
     "text": [
      "#Sessions=13\n"
     ]
    }
   ],
   "source": [
    "sessions = subjects.pf_sess()\n",
    "\n",
    "print(f\"#Sessions={len(sessions)}\")\n",
    "replay_df = []\n",
    "for sub, sess in enumerate(sessions):\n",
    "\n",
    "    replay_pbe = sess.replay_pbe.to_dataframe()\n",
    "    metadata = sess.replay_pbe.metadata \n",
    "\n",
    "    wcorr_up = replay_pbe[\"up_score\"].values\n",
    "    up_shuffle = metadata['up_shuffle_score'] \n",
    "\n",
    "\n",
    "    wcorr_down = -replay_pbe[\"down_score\"].values\n",
    "    down_shuffle = -metadata['down_shuffle_score'] \n",
    "\n",
    "    best_bool = np.abs(wcorr_up) > np.abs(wcorr_down)\n",
    "\n",
    "    best_wcorr = np.zeros(len(wcorr_up))\n",
    "    best_wcorr[best_bool] = wcorr_up[best_bool]\n",
    "    best_wcorr[~best_bool] = wcorr_down[~best_bool]\n",
    "    best_shuffle = np.zeros_like(up_shuffle)\n",
    "    best_shuffle[:, best_bool] = up_shuffle[:, best_bool]\n",
    "    best_shuffle[:, ~best_bool] = down_shuffle[:, ~best_bool]\n",
    "\n",
    "    percentile = np.array(\n",
    "        [\n",
    "            stats.percentileofscore(best_shuffle[:, i], best_wcorr[i],kind='strict')\n",
    "            for i in range(len(best_wcorr))\n",
    "        ]\n",
    "    )\n",
    "\n",
    "    abs_score = best_wcorr\n",
    "    abs_shuffle_score = best_shuffle\n",
    "    mean_shuffle_score = abs_shuffle_score.mean(axis=0)\n",
    "    std_shuffle_score = abs_shuffle_score.std(axis=0)\n",
    "    seq_score = (abs_score - mean_shuffle_score) / std_shuffle_score\n",
    "\n",
    "    pval = np.zeros(len(best_wcorr))\n",
    "    positive_bool = best_wcorr >= 0\n",
    "    pval[positive_bool] = (\n",
    "        (best_wcorr[positive_bool][np.newaxis, :] - best_shuffle[:, positive_bool]) < 0\n",
    "    ).sum(axis=0) / 1000\n",
    "    pval[~positive_bool] = (\n",
    "        (best_wcorr[~positive_bool][np.newaxis, :] - best_shuffle[:, ~positive_bool])\n",
    "        > 0\n",
    "    ).sum(axis=0) / 1000\n",
    "\n",
    "\n",
    "    epochs = sess.get_zt_epochs()\n",
    "    for i, e in enumerate(epochs.itertuples()):\n",
    "        indx = (replay_pbe.start > e.start) & (replay_pbe.start < e.stop)\n",
    "        df = pd.DataFrame(\n",
    "            dict(\n",
    "                zt=e.label,\n",
    "                perc=percentile[indx],\n",
    "                seq_score=np.abs(seq_score[indx]),\n",
    "                pval=pval[indx],\n",
    "                wcorr=best_wcorr[indx],\n",
    "                session=sub,\n",
    "                grp=sess.tag,\n",
    "            )\n",
    "        )\n",
    "        replay_df.append(df)\n",
    "\n",
    "replay_df = pd.concat(replay_df, ignore_index=True)\n",
    "\n",
    "# subjects.GroupData().save(replay_df, \"replay_wcorr\")\n"
   ]
  },
  {
   "cell_type": "code",
   "execution_count": 61,
   "metadata": {},
   "outputs": [
    {
     "name": "stdout",
     "output_type": "stream",
     "text": [
      "p-value annotation legend:\n",
      "      ns: p <= 1.00e+00\n",
      "       *: 1.00e-02 < p <= 5.00e-02\n",
      "      **: 1.00e-03 < p <= 1.00e-02\n",
      "     ***: 1.00e-04 < p <= 1.00e-03\n",
      "    ****: p <= 1.00e-04\n",
      "\n",
      "MAZE_NSD vs. MAZE_SD: Mann-Whitney-Wilcoxon test two-sided, P_val:3.769e-03 U_stat=1.002e+07\n",
      "Warning: cannot get the text bounding box. Falling back to a fixed y offset. Layout may be not optimal.\n",
      "PRE_NSD vs. PRE_SD: Mann-Whitney-Wilcoxon test two-sided, P_val:5.190e-01 U_stat=5.233e+07\n",
      "Warning: cannot get the text bounding box. Falling back to a fixed y offset. Layout may be not optimal.\n",
      "0-2.5_NSD vs. 0-2.5_SD: Mann-Whitney-Wilcoxon test two-sided, P_val:3.203e-04 U_stat=1.027e+08\n",
      "Warning: cannot get the text bounding box. Falling back to a fixed y offset. Layout may be not optimal.\n",
      "2.5-5_NSD vs. 2.5-5_SD: Mann-Whitney-Wilcoxon test two-sided, P_val:4.400e-14 U_stat=8.029e+07\n",
      "Warning: cannot get the text bounding box. Falling back to a fixed y offset. Layout may be not optimal.\n",
      "5-7.5_NSD vs. 5-7.5_SD: Mann-Whitney-Wilcoxon test two-sided, P_val:3.255e-14 U_stat=3.963e+07\n",
      "Warning: cannot get the text bounding box. Falling back to a fixed y offset. Layout may be not optimal.\n"
     ]
    },
    {
     "data": {
      "text/plain": [
       "<AxesSubplot:xlabel='zt', ylabel='pval'>"
      ]
     },
     "execution_count": 61,
     "metadata": {},
     "output_type": "execute_result"
    },
    {
     "data": {
      "application/vnd.jupyter.widget-view+json": {
       "model_id": "f2c664a95ba04c82a37496799447994b",
       "version_major": 2,
       "version_minor": 0
      },
      "image/png": "[encoded data removed]",
      "text/html": [
       "\n",
       "            <div style=\"display: inline-block;\">\n",
       "                <div class=\"jupyter-widgets widget-label\" style=\"text-align: center;\">\n",
       "                    Figure\n",
       "                </div>\n",
       "                <img src='data:image/png;base64,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' width=640.0/>\n",
       "            </div>\n",
       "        "
      ],
      "text/plain": [
       "Canvas(toolbar=Toolbar(toolitems=[('Home', 'Reset original view', 'home', 'home'), ('Back', 'Back to previous …"
      ]
     },
     "metadata": {},
     "output_type": "display_data"
    }
   ],
   "source": [
    "from plotters import violinplot\n",
    "a = replay_df[replay_df.pval<0.05]\n",
    "sig_counts = a.groupby(['grp','session','zt']).count()\n",
    "all_counts = replay_df.groupby(['grp','session','zt']).count()\n",
    "\n",
    "sig_df = (sig_counts/all_counts).reset_index()\n",
    "\n",
    "_,ax = plt.subplots()\n",
    "\n",
    "df1 = replay_df[replay_df.seq_score>2].groupby(['grp','session','zt']).count()\n",
    "df2 = replay_df.groupby(['grp','session','zt']).count()\n",
    "df = (df1/df2).reset_index()\n",
    "violinplot(data=replay_df,x='zt',y='pval',stat_anot=True,stat_test='Mann-Whitney')\n",
    "# sns.barplot(data=df,x='zt',y='seq_score',hue='grp')\n",
    "# sns.stripplot(data=df,x='zt',y='seq_score',hue='grp',dodge=True)\n",
    "# sns.boxplot(data=replay_df,x='zt',y='seq_score',hue='grp',showfliers=False)"
   ]
  },
  {
   "cell_type": "code",
   "execution_count": null,
   "metadata": {},
   "outputs": [],
   "source": [
    "from plotters import violinplot\n",
    "from statannotations.Annotator import Annotator\n",
    "from subjects import stat_kw\n",
    "\n",
    "# _, axs = plt.subplots(2, 3)\n",
    "# axs = axs.reshape(-1)\n",
    "# colors = subjects.colors_sd(1)\n",
    "# df = replay_df[replay_df.pval < 0.05]\n",
    "\n",
    "# for i, t in enumerate(labels):\n",
    "#     sns.histplot(\n",
    "#         data=df[df.zt == t],\n",
    "#         x=\"pval\",\n",
    "#         hue=\"grp\",\n",
    "#         common_bins=True,\n",
    "#         common_norm=False,\n",
    "#         stat=\"probability\",\n",
    "#         ax=axs[i]\n",
    "#     )\n",
    "# for g,grp in enumerate(['NSD','SD']):\n",
    "\n",
    "df_new = replay_df[replay_df.pval<0.05]\n",
    "_, ax = plt.subplots()\n",
    "plot_kw = dict(\n",
    "    data=df_new,\n",
    "    x=\"zt\",\n",
    "    y=\"pval\",\n",
    "    hue=\"grp\",\n",
    "    hue_order=[\"NSD\", \"SD\"],\n",
    "    ax=ax,\n",
    ")\n",
    "sns.barplot(**plot_kw)\n",
    "ax.legend('',frameon=False)\n",
    "# ax.axhline(95)\n",
    "# ax.axhline(5)\n",
    "# ax.grid(axis=\"y\", zorder=-1)\n",
    "\n",
    "\n",
    "orders = replay_df.zt.unique()\n",
    "pairs = [((_, 'NSD'),(_,'SD')) for _ in orders]\n",
    "annotator = Annotator(pairs=pairs, **plot_kw, order=orders)\n",
    "annotator.configure(test=\"t-test_welch\", **stat_kw)\n",
    "annotator.apply_and_annotate()\n",
    "annotator.reset_configuration()\n",
    "\n",
    "\n",
    "# _,axs = plt.subplots(1,5)\n",
    "# for i,t in enumerate(labels):\n",
    "\n",
    "#     df =replay_df[replay_df.zt==t]\n",
    "#     d1 = df[df.grp=='NSD'].seq_score.values\n",
    "#     d2 = df[df.grp=='SD'].seq_score.values\n",
    "#     sns.ecdfplot(data=df, x=\"perc\",hue='grp',ax=axs[i],lw=1)\n",
    "#     print(stats.kstest(d1,d2))\n"
   ]
  },
  {
   "cell_type": "markdown",
   "metadata": {},
   "source": [
    "### wcorr vs jump distance"
   ]
  },
  {
   "cell_type": "code",
   "execution_count": null,
   "metadata": {},
   "outputs": [],
   "source": [
    "sessions = subjects.pf_sess()"
   ]
  },
  {
   "cell_type": "code",
   "execution_count": null,
   "metadata": {},
   "outputs": [],
   "source": [
    "get_jump_dist = lambda arr: np.diff(np.argmax(arr, axis=0)).mean()\n",
    "wcorr_jump_df = []\n",
    "for sub, sess in enumerate(sessions):\n",
    "\n",
    "    maze = sess.paradigm[\"maze\"].flatten()\n",
    "    post = sess.paradigm[\"post\"].flatten()\n",
    "    zt_starts = np.array([0, 2.5, 5])\n",
    "    zt_stops = np.array([2.5, 5, 7.5])\n",
    "    epochs = np.vstack((zt_starts, zt_stops)).T * 3600 + post[0]\n",
    "    epochs = np.insert(epochs, 0, maze, axis=0)\n",
    "    labels = [\"MAZE\", \"0-2.5\", \"2.5-5\", \"5-7.5\"]\n",
    "\n",
    "    replay_pbe = sess.replay_pbe.to_dataframe()\n",
    "\n",
    "    for direction in [\"up\", \"down\"]:\n",
    "        wcorr = np.abs(replay_pbe[direction + \"_score\"].values)\n",
    "        posteriors = sess.replay_pbe.metadata[direction + \"_posterior\"]\n",
    "        dx = 1 / posteriors[0].shape[0]\n",
    "        jump_dist = np.array([get_jump_dist(_) for _ in posteriors]) * dx\n",
    "        for i, (t1, t2) in enumerate(epochs):\n",
    "            indx = (replay_pbe.start > t1) & (replay_pbe.start < t2)\n",
    "\n",
    "            df = pd.DataFrame(\n",
    "                dict(\n",
    "                    zt=labels[i],\n",
    "                    wcorr=wcorr[indx],\n",
    "                    jump=np.abs(jump_dist[indx]),\n",
    "                    animal=sub,\n",
    "                    grp=sess.tag,\n",
    "                )\n",
    "            )\n",
    "            wcorr_jump_df.append(df)\n",
    "\n",
    "wcorr_jump_df = pd.concat(wcorr_jump_df, ignore_index=True)\n",
    "\n",
    "# subjects.GroupData().save(replay_df,'replay_wcorr')\n"
   ]
  },
  {
   "cell_type": "code",
   "execution_count": null,
   "metadata": {},
   "outputs": [],
   "source": [
    "_,ax = plt.subplots(1,1)\n",
    "sns.violinplot(data=wcorr_jump_df,x='zt',y='jump',hue='grp',ax=ax)\n",
    "# sns.displot(data=wcorr_jump_df,x='jump',y='wcorr',binwidth=(0.05,0.05),col='grp')\n",
    "\n",
    "# _, axs = plt.subplots(1, 4)\n",
    "# for i, t in enumerate(labels):\n",
    "\n",
    "#     df = wcorr_jump_df[wcorr_jump_df.zt == t]\n",
    "#     d1 = df[df.grp=='NSD'].jump.values\n",
    "#     d2 = df[df.grp=='SD'].jump.values\n",
    "#     sns.barplot(\n",
    "#         data=df,\n",
    "#         x='zt',\n",
    "#         y=\"jump\",\n",
    "#         hue=\"grp\",\n",
    "#         ax=axs[i],\n",
    "#         # lw=1,\n",
    "#         # common_norm=False,\n",
    "#         # common_bins=True,\n",
    "#         # stat=\"probability\",\n",
    "#         # fill=False,\n",
    "#         # element='poly',\n",
    "#         # cumulative=True,\n",
    "#     )\n",
    "#     print(stats.kstest(d1,d2))\n"
   ]
  },
  {
   "cell_type": "markdown",
   "metadata": {},
   "source": [
    "### Signficant sequences histogram radon transform"
   ]
  },
  {
   "cell_type": "code",
   "execution_count": null,
   "metadata": {},
   "outputs": [],
   "source": [
    "sessions = subjects.nsd.pf_sess"
   ]
  },
  {
   "cell_type": "code",
   "execution_count": null,
   "metadata": {},
   "outputs": [],
   "source": [
    "replay_df = []\n",
    "for sub, sess in enumerate(sessions):\n",
    "\n",
    "    post = sess.paradigm[\"post\"].flatten()\n",
    "    replay_pbe = sess.replay_pbe.to_dataframe()\n",
    "    is_replay = replay_pbe.is_replay\n",
    "    velocity_bool = np.abs(replay_pbe.velocity.values) > 100\n",
    "\n",
    "    sig_events = np.logical_and(is_replay, velocity_bool)\n",
    "    starts = replay_pbe.start.values[sig_events]\n",
    "    bins = np.arange(post[0], post[0] + 2 * 3600, 600)\n",
    "    hist_replay = np.histogram(starts, bins)[0]\n",
    "    replay_df.append(\n",
    "        pd.DataFrame(\n",
    "            {\n",
    "                \"bins\": ((bins[:-1] - post[0]) / 3600).round(2),\n",
    "                \"hist\": hist_replay,\n",
    "                \"grp\": sess.tag,\n",
    "            }\n",
    "        )\n",
    "    )\n",
    "\n",
    "replay_df = pd.concat(replay_df, ignore_index=True)\n"
   ]
  },
  {
   "cell_type": "code",
   "execution_count": null,
   "metadata": {},
   "outputs": [],
   "source": [
    "\n",
    "fig = plotting.Fig(grid=(2, 2))\n",
    "ax = fig.subplot(fig.gs[0])\n",
    "sns.barplot(data=replay_df, x=\"bins\", y=\"hist\", hue=\"grp\")\n"
   ]
  },
  {
   "cell_type": "markdown",
   "metadata": {},
   "source": [
    "### Decoding visualization"
   ]
  },
  {
   "cell_type": "code",
   "execution_count": null,
   "metadata": {},
   "outputs": [],
   "source": [
    "from hfuncs import plot_in_bokeh\n",
    "import bokeh.plotting as bplot\n",
    "\n",
    "sess = subjects.nsd.ratSday2[0]\n",
    "post = sess.paradigm[\"post\"].flatten()\n",
    "replay_pbe = sess.replay_pbe.to_dataframe()\n",
    "starts = sess.replay_pbe.starts\n",
    "wcorr, scores, posteriors = [], [], []\n",
    "for i, d in enumerate([\"up\", \"down\"]):\n",
    "    scores.append(replay_pbe[d + \"_percentile_score\"].values)\n",
    "    posteriors.extend(sess.replay_pbe.metadata[d + \"_posterior\"])\n",
    "    wcorr.append(replay_pbe[d + \"_score\"].values)\n",
    "\n",
    "wcorr = np.concatenate(wcorr)\n",
    "scores = np.concatenate(scores)\n",
    "starts = np.tile(starts, (2,)) - post[0]\n",
    "scores_color = np.where((scores >= 95) | (scores <= 5), scores, 50)\n",
    "\n",
    "n_epochs = 7000\n",
    "annotate_dict = dict(evt=np.arange(n_epochs), wcorr=wcorr[:n_epochs])\n",
    "bplot.output_notebook()\n",
    "# bplot.output_file(subjects.figpath_sd/'test_wake_decoding.html')\n",
    "p = plot_in_bokeh(\n",
    "    starts[:n_epochs]/3600,\n",
    "    scores[:n_epochs],\n",
    "    [posteriors[_] for _ in range(n_epochs)],\n",
    "    annotate=annotate_dict,\n",
    "    color_by=scores_color[:n_epochs],\n",
    "    palette=\"jet\",\n",
    "    size=8,\n",
    ")\n",
    "# # p.line(pos.time,pos.x/350 + 0.2,line_width=2,color='black')\n",
    "bplot.show(p)\n"
   ]
  },
  {
   "cell_type": "markdown",
   "metadata": {},
   "source": [
    "### Examples for figure4 sd paper"
   ]
  },
  {
   "cell_type": "code",
   "execution_count": null,
   "metadata": {},
   "outputs": [],
   "source": [
    "sessions = subjects.nsd.ratSday2 + subjects.sd.ratSday3\n",
    "\n",
    "# events= [[1221,2836,5072,2381,5179],[1326,1372,1824,1292,1516]]\n",
    "events= [[316,164,1416,3310,4201,3642,6728,6868],[263,148,2078,1900,3859,3468,6861,5978]]\n"
   ]
  },
  {
   "cell_type": "code",
   "execution_count": null,
   "metadata": {},
   "outputs": [],
   "source": [
    "replay_example_dict = {}\n",
    "for sub, sess in enumerate(sessions):\n",
    "    replay = sess.replay_pbe\n",
    "    replay_df = sess.replay_pbe.to_dataframe()\n",
    "    starts = sess.replay_pbe.starts\n",
    "    wcorr, scores, posteriors = [], [], []\n",
    "    for i, d in enumerate([\"up\", \"down\"]):\n",
    "        scores.append(replay_df[d + \"_percentile_score\"].values)\n",
    "        posteriors.extend(replay.metadata[d + \"_posterior\"])\n",
    "        wcorr.append(replay_df[d + \"_score\"].values)\n",
    "    wcorr = np.concatenate(wcorr)\n",
    "    replay_example_dict[sess.tag] = dict(\n",
    "        posteriors=[posteriors[p] for p in events[sub]], wcorr=wcorr[events[sub]]\n",
    "    )\n",
    "\n",
    "subjects.GroupData().save(replay_example_dict,'replay_examples')"
   ]
  },
  {
   "cell_type": "markdown",
   "metadata": {},
   "source": [
    "### Mean replay score across all events as a function of time "
   ]
  },
  {
   "cell_type": "code",
   "execution_count": null,
   "metadata": {},
   "outputs": [],
   "source": [
    "%matplotlib widget\n",
    "import matplotlib.pyplot as plt\n",
    "import numpy as np\n",
    "import pandas as pd\n",
    "import subjects\n",
    "from neuropy import plotting\n",
    "from neuropy.utils import signal_process\n",
    "from neuropy.analyses import Pf1D\n",
    "from neuropy.analyses import Decode1d\n",
    "\n",
    "sessions = subjects.nsd.ratUday2 + subjects.sd.ratUday4"
   ]
  },
  {
   "cell_type": "code",
   "execution_count": null,
   "metadata": {},
   "outputs": [],
   "source": [
    "from scipy import stats\n",
    "\n",
    "replay_df = []\n",
    "for sub, sess in enumerate(sessions):\n",
    "\n",
    "    post = sess.paradigm[\"post\"].flatten()\n",
    "    replay_pbe = sess.replay_pbe.to_dataframe()\n",
    "    starts = sess.replay_pbe.starts\n",
    "    replay_score = replay_pbe.score\n",
    "    bins = np.arange(post[0], post[0] + 2 * 3600, 600)\n",
    "\n",
    "    mean_score = stats.binned_statistic(starts, replay_score, bins=bins)[0]\n",
    "    replay_df.append(\n",
    "        pd.DataFrame(\n",
    "            {\n",
    "                \"bins\": ((bins[:-1] - post[0]) / 3600).round(2),\n",
    "                \"hist\": mean_score,\n",
    "                \"grp\": sess.tag,\n",
    "            }\n",
    "        )\n",
    "    )\n",
    "\n",
    "replay_df = pd.concat(replay_df, ignore_index=True)\n"
   ]
  },
  {
   "cell_type": "code",
   "execution_count": null,
   "metadata": {},
   "outputs": [],
   "source": [
    "from neuropy import plotting\n",
    "import seaborn as sns\n",
    "\n",
    "fig = plotting.Fig(grid=(2, 2))\n",
    "ax = fig.subplot(fig.gs[0])\n",
    "sns.lineplot(data=replay_df, x=\"bins\", y=\"hist\", hue=\"grp\")\n"
   ]
  },
  {
   "cell_type": "markdown",
   "metadata": {},
   "source": [
    "### Distribution of replay scores and comparison with shuffled scores"
   ]
  },
  {
   "cell_type": "code",
   "execution_count": null,
   "metadata": {},
   "outputs": [],
   "source": [
    "import matplotlib.pyplot as plt\n",
    "import numpy as np\n",
    "import pandas as pd\n",
    "import subjects\n",
    "from neuropy import plotting\n",
    "from neuropy.utils import signal_process\n",
    "from neuropy.analyses import Pf1D\n",
    "from neuropy.analyses import Decode1d\n",
    "\n",
    "sessions = subjects.nsd.ratUday2 + subjects.sd.ratUday4"
   ]
  },
  {
   "cell_type": "code",
   "execution_count": null,
   "metadata": {},
   "outputs": [],
   "source": [
    "from scipy import stats\n",
    "\n",
    "score_df = []\n",
    "for sub, sess in enumerate(sessions):\n",
    "\n",
    "    post = sess.paradigm[\"post\"].flatten()\n",
    "    replay_pbe = sess.replay_pbe.to_dataframe()\n",
    "\n",
    "    starts = sess.replay_pbe.starts\n",
    "    replay_score = replay_pbe.score\n",
    "\n",
    "    shuffle_scores = sess.replay_pbe.metadata[\"shuffle_score\"].flatten()\n",
    "    shuffle_starts = np.repeat(starts, 200)\n",
    "\n",
    "    bins = np.arange(2) * 3600 + post[0]\n",
    "    replay_df = pd.DataFrame(\n",
    "        {\n",
    "            \"Zt\": np.digitize(starts, bins),\n",
    "            \"starts\": starts,\n",
    "            \"score\": replay_score,\n",
    "            \"grp\": sess.tag,\n",
    "        }\n",
    "    )\n",
    "    shuffle_df = pd.DataFrame(\n",
    "        {\n",
    "            \"Zt\": np.digitize(shuffle_starts, bins),\n",
    "            \"starts\": shuffle_starts,\n",
    "            \"score\": shuffle_scores,\n",
    "            \"grp\": f\"{sess.tag}_shuffle\",\n",
    "        }\n",
    "    )\n",
    "    score_df.append(pd.concat([replay_df, shuffle_df]))\n",
    "\n",
    "score_df = pd.concat(score_df, ignore_index=True)\n"
   ]
  },
  {
   "cell_type": "code",
   "execution_count": null,
   "metadata": {},
   "outputs": [],
   "source": [
    "sess.replay_pbe.metadata[\"shuffle_score\"].shape\n"
   ]
  },
  {
   "cell_type": "code",
   "execution_count": null,
   "metadata": {},
   "outputs": [],
   "source": [
    "from neuropy import plotting\n",
    "import seaborn as sns\n",
    "\n",
    "fig = plotting.Fig(grid=(2, 2))\n",
    "ax = fig.subplot(fig.gs[0])\n",
    "sns.violinplot(data=score_df, x=\"Zt\", y=\"score\", hue=\"grp\")\n"
   ]
  },
  {
   "cell_type": "markdown",
   "metadata": {},
   "source": [
    "### Posterior time lag comparison SD vs NSD"
   ]
  },
  {
   "cell_type": "code",
   "execution_count": null,
   "metadata": {},
   "outputs": [],
   "source": [
    "sessions = subjects.nsd.ratUday2 + subjects.sd.ratUday4"
   ]
  },
  {
   "cell_type": "code",
   "execution_count": null,
   "metadata": {},
   "outputs": [],
   "source": [
    "import scipy.signal as sg\n",
    "from scipy.ndimage import gaussian_filter1d\n",
    "\n",
    "lag_time_all = []\n",
    "for sub,sess in enumerate(sessions):\n",
    "    post = sess.paradigm['post'].flatten()\n",
    "    starts = sess.replay_pbe.starts\n",
    "    # ind = (starts>=post[0]+2.5*3600) &(starts<=post[0]+5*3600)\n",
    "    ind = starts<post[0]\n",
    "\n",
    "    posteriors = sess.replay_pbe.metadata['up_posterior']\n",
    "    posteriors = [posteriors[_] for _ in np.argwhere(ind).squeeze()] \n",
    "    posteriors = np.hstack(posteriors)\n",
    "\n",
    "    npos,nt = posteriors.shape\n",
    "    rows,cols = np.tril_indices(npos,-1)\n",
    "    lags = sg.correlation_lags(nt,nt,mode='same')*0.02\n",
    "    idx = (lags>=-0.5) & (lags<=0.5)\n",
    "    lags = lags[idx]\n",
    "\n",
    "    lag_time=np.zeros((npos,npos))\n",
    "    for p1 in range(npos):\n",
    "        for p2 in range(npos):\n",
    "            xcorr = sg.correlate(posteriors[p1],posteriors[p2],mode='same')[idx]\n",
    "            lag_time[p1,p2] = lags[gaussian_filter1d(xcorr,sigma=0.06/0.02).argmax()]\n",
    "\n",
    "    lag_time_all.append(lag_time)"
   ]
  },
  {
   "cell_type": "code",
   "execution_count": null,
   "metadata": {},
   "outputs": [],
   "source": [
    "_,axs = plt.subplots(2,2)\n",
    "\n",
    "for i,lag_mat in enumerate(lag_time_all):\n",
    "\n",
    "    ax = axs[0,i]\n",
    "    im = ax.pcolormesh(lag_mat,cmap='bwr',vmin=-0.4,vmax=0.4)\n",
    "    cb = plt.colorbar(im,ax=ax)\n",
    "\n",
    "    ax2 = axs[1,i]\n",
    "    im = ax2.pcolormesh(np.abs(lag_mat),cmap='jet',vmin=0,vmax=0.4)\n",
    "    cb = plt.colorbar(im,ax=ax2)\n"
   ]
  },
  {
   "cell_type": "markdown",
   "metadata": {},
   "source": [
    "### Which positions are being replayed the most in POST"
   ]
  },
  {
   "cell_type": "code",
   "execution_count": null,
   "metadata": {},
   "outputs": [],
   "source": [
    "sessions = subjects.nsd.ratUday2 + subjects.sd.ratUday4"
   ]
  },
  {
   "cell_type": "code",
   "execution_count": null,
   "metadata": {},
   "outputs": [],
   "source": [
    "import scipy.signal as sg\n",
    "from scipy.ndimage import gaussian_filter1d\n",
    "\n",
    "mean_posterior = []\n",
    "for sub,sess in enumerate(sessions):\n",
    "    post = sess.paradigm['post'].flatten()\n",
    "    starts = sess.replay_pbe.starts\n",
    "    ind = (starts>=post[0]+2.5*3600) &(starts<=post[0]+5*3600)\n",
    "\n",
    "    posteriors = sess.replay_pbe.metadata['up_posterior']\n",
    "    posteriors = [posteriors[_] for _ in np.argwhere(ind).squeeze()] \n",
    "    mean_posterior.append(np.hstack(posteriors).mean(axis=1))\n",
    "\n"
   ]
  },
  {
   "cell_type": "code",
   "execution_count": null,
   "metadata": {},
   "outputs": [],
   "source": [
    "_,axs = plt.subplots(1,2,sharey=True)\n",
    "\n",
    "for i,p in enumerate(mean_posterior):\n",
    "    axs[i].plot(p)\n"
   ]
  },
  {
   "cell_type": "markdown",
   "metadata": {},
   "source": [
    "### Forward and reverse replay during POST SD vs NSD "
   ]
  },
  {
   "cell_type": "code",
   "execution_count": null,
   "metadata": {},
   "outputs": [],
   "source": [
    "sessions = subjects.pf_sess()"
   ]
  },
  {
   "cell_type": "code",
   "execution_count": null,
   "metadata": {},
   "outputs": [],
   "source": [
    "from replay_funcs import get_jump_distance\n",
    "replay_df = []\n",
    "jd_df = []\n",
    "for sub, sess in enumerate(sessions):\n",
    "    maze = sess.paradigm['maze'].flatten()\n",
    "    post = sess.paradigm['post'].flatten()\n",
    "    replay_pbe_df = sess.replay_pbe.to_dataframe()\n",
    "    metadata = sess.replay_pbe.metadata\n",
    "\n",
    "    wcorr_up = replay_pbe_df[\"up_score\"].values\n",
    "    seq_score_up = replay_pbe_df[\"up_sequence_score\"].values\n",
    "    percentile_up = replay_pbe_df[\"up_percentile_score\"].values\n",
    "    jd_up = get_jump_distance(metadata['up_posterior'],'max')\n",
    "\n",
    "\n",
    "    wcorr_down = -replay_pbe_df[\"down_score\"].values\n",
    "    seq_score_down = replay_pbe_df[\"down_sequence_score\"].values\n",
    "    percentile_down = 100-replay_pbe_df[\"down_percentile_score\"].values\n",
    "    jd_down = get_jump_distance(metadata['down_posterior'],'max')\n",
    "\n",
    "\n",
    "    best_bool = np.abs(wcorr_up) > np.abs(wcorr_down)\n",
    "\n",
    "    wcorr = np.zeros(len(replay_pbe_df))\n",
    "    wcorr[best_bool] = wcorr_up[best_bool]\n",
    "    wcorr[~best_bool] = wcorr_down[~best_bool]\n",
    "\n",
    "    seq_score = np.zeros(len(replay_pbe_df))\n",
    "    seq_score[best_bool] = seq_score_up[best_bool]\n",
    "    seq_score[~best_bool] = seq_score_down[~best_bool]\n",
    "\n",
    "    percentile = np.zeros(len(replay_pbe_df))\n",
    "    percentile[best_bool] = percentile_up[best_bool]\n",
    "    percentile[~best_bool] = percentile_down[~best_bool]\n",
    "\n",
    "    jd= np.zeros(len(replay_pbe_df))\n",
    "    jd[best_bool] = jd_up[best_bool]\n",
    "    jd[~best_bool] = jd_down[~best_bool]\n",
    "\n",
    "\n",
    "\n",
    "    is_forward = (wcorr > 0) & ((percentile < 2.5) | (percentile > 97.5))\n",
    "    is_reverse = (wcorr < 0) & ((percentile < 2.5) | (percentile > 97.5))\n",
    "\n",
    "    zt_starts = np.array([0, 2.5, 5])\n",
    "    zt_stops = np.array([2.5, 5, 7.5])\n",
    "    epochs = np.vstack((zt_starts, zt_stops)).T * 3600 + post[0]\n",
    "    epochs = np.insert(epochs, 0, maze, axis=0)\n",
    "    labels = [\"MAZE\", \"0-2.5\", \"2.5-5\", \"5-7.5\"]\n",
    "\n",
    "    for i, (t1, t2) in enumerate(epochs):\n",
    "        indx = (replay_pbe_df.start > t1) & (replay_pbe_df.start < t2)\n",
    "        n_pbes = np.count_nonzero(indx)\n",
    "        df = pd.DataFrame(\n",
    "            dict(\n",
    "                zt=labels[i],\n",
    "                replay_order=[\"forward\", \"reverse\"],\n",
    "                prop=[\n",
    "                    np.count_nonzero(is_forward[indx]) / n_pbes,\n",
    "                    np.count_nonzero(is_reverse[indx]) / n_pbes,\n",
    "                ],\n",
    "                jd=jd[indx].mean(),\n",
    "                animal=sub,\n",
    "                grp=sess.tag,\n",
    "            )\n",
    "        )\n",
    "        replay_df.append(df)\n",
    "\n",
    "replay_df = pd.concat(replay_df, ignore_index=True)\n",
    "\n",
    "# subjects.GroupData().save(replay_df, \"replay_order\")\n"
   ]
  },
  {
   "cell_type": "code",
   "execution_count": null,
   "metadata": {},
   "outputs": [],
   "source": [
    "# _,ax = plt.subplots(1,1)\n",
    "# sns.barplot(data=replay_df,x='zt',y='perc',hue='grp',ax=ax, ci =99)\n",
    "\n",
    "_, axs = plt.subplots(1, 2,sharey=True)\n",
    "\n",
    "for i, odr in enumerate([\"forward\", \"reverse\"]):\n",
    "    ax = axs[i]\n",
    "    df = replay_df[replay_df[\"replay_order\"] == odr]\n",
    "    sns.boxplot(\n",
    "        data=df,\n",
    "        x=\"zt\",\n",
    "        y=\"prop\",\n",
    "        hue=\"grp\",\n",
    "        ax=ax,\n",
    "        # split=True,\n",
    "        showfliers=False,\n",
    "        # estimator=np.median,\n",
    "        palette=subjects.colors_sd(1.4),\n",
    "        dodge=True,\n",
    "        # join=False,\n",
    "        # width='area',\n",
    "        # stat=\"probability\",\n",
    "        # common_norm=False,\n",
    "        # cumulative=True,\n",
    "        # showfliers=False,\n",
    "    )\n",
    "    # print(stats.ttest_ind(d1, d2,alternative='greater'))\n",
    "    ax.set_title(odr)\n",
    "    ax.set_ylim([0,0.3])\n",
    "\n",
    "\n",
    "# ax = axs[2]\n",
    "# sns.boxplot(\n",
    "#     data=df,\n",
    "#     x=\"zt\",\n",
    "#     y=\"jd\",\n",
    "#     hue=\"grp\",\n",
    "#     ax=ax,\n",
    "#     # split=True,\n",
    "#     showfliers=False,\n",
    "#     # estimator=np.median,\n",
    "#     palette=subjects.colors_sd(1.4)\n",
    "#     # dodge=True,\n",
    "#     # join=False,\n",
    "#     # width='area',\n",
    "#     # stat=\"probability\",\n",
    "#     # common_norm=False,\n",
    "#     # cumulative=True,\n",
    "#     # showfliers=False,\n",
    "# )\n",
    "# # print(stats.ttest_ind(d1, d2,alternative='greater'))\n",
    "# ax.set_title(odr)\n",
    "# # ax.set_ylim([0,0.3])\n"
   ]
  }
 ],
 "metadata": {
  "interpreter": {
   "hash": "cce1618081139d19eb1ee8d40815d94a2de4f62e1efb20d9406ddb60628c36ae"
  },
  "kernelspec": {
   "display_name": "Python 3.10.2 ('data_analysis')",
   "language": "python",
   "name": "python3"
  },
  "language_info": {
   "codemirror_mode": {
    "name": "ipython",
    "version": 3
   },
   "file_extension": ".py",
   "mimetype": "text/x-python",
   "name": "python",
   "nbconvert_exporter": "python",
   "pygments_lexer": "ipython3",
   "version": "3.10.4"
  },
  "orig_nbformat": 4
 },
 "nbformat": 4,
 "nbformat_minor": 2
}
