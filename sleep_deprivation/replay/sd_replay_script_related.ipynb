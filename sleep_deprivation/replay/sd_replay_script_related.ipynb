{
 "cells": [
  {
   "cell_type": "markdown",
   "metadata": {},
   "source": [
    "### Imports"
   ]
  },
  {
   "cell_type": "code",
   "execution_count": null,
   "metadata": {},
   "outputs": [],
   "source": [
    "import matplotlib.pyplot as plt\n",
    "import numpy as np\n",
    "import subjects\n",
    "from neuropy import plotting\n",
    "from neuropy.utils import signal_process\n",
    "from neuropy.analyses import Pf1D\n",
    "from neuropy.analyses import Decode1d\n",
    "from tqdm.notebook import tqdm\n",
    "from neuropy.core import Epoch\n",
    "from neuropy.utils.mathutil import min_max_scaler\n",
    "import pandas as pd"
   ]
  },
  {
   "cell_type": "markdown",
   "metadata": {},
   "source": [
    "### Signficant sequences histogram"
   ]
  },
  {
   "cell_type": "code",
   "execution_count": null,
   "metadata": {},
   "outputs": [],
   "source": [
    "sessions = subjects.nsd.ratUday2 + subjects.sd.ratUday4"
   ]
  },
  {
   "cell_type": "code",
   "execution_count": null,
   "metadata": {},
   "outputs": [],
   "source": [
    "replay_df = []\n",
    "for sub, sess in enumerate(sessions):\n",
    "\n",
    "    post = sess.paradigm[\"post\"].flatten()\n",
    "    replay_pbe = sess.replay_pbe.to_dataframe()\n",
    "    is_replay = replay_pbe.is_replay\n",
    "    velocity_bool = np.abs(replay_pbe.velocity.values) > 100\n",
    "\n",
    "    sig_events = np.logical_and(is_replay, velocity_bool)\n",
    "    starts = replay_pbe.start.values[sig_events]\n",
    "    bins = np.arange(post[0], post[0] + 2 * 3600, 600)\n",
    "    hist_replay = np.histogram(starts, bins)[0]\n",
    "    replay_df.append(\n",
    "        pd.DataFrame(\n",
    "            {\n",
    "                \"bins\": ((bins[:-1] - post[0]) / 3600).round(2),\n",
    "                \"hist\": hist_replay,\n",
    "                \"grp\": sess.tag,\n",
    "            }\n",
    "        )\n",
    "    )\n",
    "\n",
    "replay_df = pd.concat(replay_df, ignore_index=True)\n"
   ]
  },
  {
   "cell_type": "code",
   "execution_count": null,
   "metadata": {},
   "outputs": [],
   "source": [
    "from neuropy import plotting\n",
    "import seaborn as sns\n",
    "\n",
    "fig = plotting.Fig(grid=(2, 2))\n",
    "ax = fig.subplot(fig.gs[0])\n",
    "sns.barplot(data=replay_df, x=\"bins\", y=\"hist\", hue=\"grp\")\n"
   ]
  },
  {
   "cell_type": "markdown",
   "metadata": {},
   "source": [
    "### Plotting decoding stats if calculated via script"
   ]
  },
  {
   "cell_type": "code",
   "execution_count": null,
   "metadata": {},
   "outputs": [],
   "source": [
    "import matplotlib.pyplot as plt\n",
    "import numpy as np\n",
    "import subjects\n",
    "from neuropy import plotting\n",
    "from neuropy.utils import signal_process\n",
    "from neuropy.analyses import Pf1D\n",
    "from neuropy.analyses import Decode1d\n",
    "\n",
    "sessions = subjects.nsd.ratUday2\n"
   ]
  },
  {
   "cell_type": "code",
   "execution_count": null,
   "metadata": {},
   "outputs": [],
   "source": [
    "for sub, sess in enumerate(sessions):\n",
    "\n",
    "    replay_pbe = sess.replay_pbe\n"
   ]
  },
  {
   "cell_type": "code",
   "execution_count": null,
   "metadata": {},
   "outputs": [],
   "source": [
    "from hfuncs import plot_replay_in_bokeh\n",
    "import bokeh.plotting as bplot\n",
    "\n",
    "bplot.output_notebook()\n",
    "# bplot.output_file(subjects.figpath_sd/'test_wake_decoding.html')\n",
    "p = plot_replay_in_bokeh(sess.replay_pbe)\n",
    "\n",
    "# p.line(pos.time,pos.x/350 + 0.2,line_width=2,color='black')\n",
    "bplot.show(p)\n"
   ]
  },
  {
   "cell_type": "markdown",
   "metadata": {},
   "source": [
    "### Mean replay score across all events as a function of time "
   ]
  },
  {
   "cell_type": "code",
   "execution_count": null,
   "metadata": {},
   "outputs": [],
   "source": [
    "%matplotlib widget\n",
    "import matplotlib.pyplot as plt\n",
    "import numpy as np\n",
    "import pandas as pd\n",
    "import subjects\n",
    "from neuropy import plotting\n",
    "from neuropy.utils import signal_process\n",
    "from neuropy.analyses import Pf1D\n",
    "from neuropy.analyses import Decode1d\n",
    "\n",
    "sessions = subjects.nsd.ratUday2 + subjects.sd.ratUday4"
   ]
  },
  {
   "cell_type": "code",
   "execution_count": null,
   "metadata": {},
   "outputs": [],
   "source": [
    "from scipy import stats\n",
    "\n",
    "replay_df = []\n",
    "for sub, sess in enumerate(sessions):\n",
    "\n",
    "    post = sess.paradigm[\"post\"].flatten()\n",
    "    replay_pbe = sess.replay_pbe.to_dataframe()\n",
    "    starts = sess.replay_pbe.starts\n",
    "    replay_score = replay_pbe.score\n",
    "    bins = np.arange(post[0], post[0] + 2 * 3600, 600)\n",
    "\n",
    "    mean_score = stats.binned_statistic(starts, replay_score, bins=bins)[0]\n",
    "    replay_df.append(\n",
    "        pd.DataFrame(\n",
    "            {\n",
    "                \"bins\": ((bins[:-1] - post[0]) / 3600).round(2),\n",
    "                \"hist\": mean_score,\n",
    "                \"grp\": sess.tag,\n",
    "            }\n",
    "        )\n",
    "    )\n",
    "\n",
    "replay_df = pd.concat(replay_df, ignore_index=True)\n"
   ]
  },
  {
   "cell_type": "code",
   "execution_count": null,
   "metadata": {},
   "outputs": [],
   "source": [
    "from neuropy import plotting\n",
    "import seaborn as sns\n",
    "\n",
    "fig = plotting.Fig(grid=(2, 2))\n",
    "ax = fig.subplot(fig.gs[0])\n",
    "sns.lineplot(data=replay_df, x=\"bins\", y=\"hist\", hue=\"grp\")\n"
   ]
  },
  {
   "cell_type": "markdown",
   "metadata": {},
   "source": [
    "### Distribution of replay scores and comparison with shuffled scores"
   ]
  },
  {
   "cell_type": "code",
   "execution_count": null,
   "metadata": {},
   "outputs": [],
   "source": [
    "%matplotlib widget\n",
    "import matplotlib.pyplot as plt\n",
    "import numpy as np\n",
    "import pandas as pd\n",
    "import subjects\n",
    "from neuropy import plotting\n",
    "from neuropy.utils import signal_process\n",
    "from neuropy.analyses import Pf1D\n",
    "from neuropy.analyses import Decode1d\n",
    "\n",
    "sessions = subjects.nsd.ratUday2 + subjects.sd.ratUday4"
   ]
  },
  {
   "cell_type": "code",
   "execution_count": null,
   "metadata": {},
   "outputs": [],
   "source": [
    "from scipy import stats\n",
    "\n",
    "score_df = []\n",
    "for sub, sess in enumerate(sessions):\n",
    "\n",
    "    post = sess.paradigm[\"post\"].flatten()\n",
    "    replay_pbe = sess.replay_pbe.to_dataframe()\n",
    "\n",
    "    starts = sess.replay_pbe.starts\n",
    "    replay_score = replay_pbe.score\n",
    "\n",
    "    shuffle_scores = sess.replay_pbe.metadata[\"shuffle_score\"].flatten()\n",
    "    shuffle_starts = np.repeat(starts, 200)\n",
    "\n",
    "    bins = np.arange(2) * 3600 + post[0]\n",
    "    replay_df = pd.DataFrame(\n",
    "        {\n",
    "            \"Zt\": np.digitize(starts, bins),\n",
    "            \"starts\": starts,\n",
    "            \"score\": replay_score,\n",
    "            \"grp\": sess.tag,\n",
    "        }\n",
    "    )\n",
    "    shuffle_df = pd.DataFrame(\n",
    "        {\n",
    "            \"Zt\": np.digitize(shuffle_starts, bins),\n",
    "            \"starts\": shuffle_starts,\n",
    "            \"score\": shuffle_scores,\n",
    "            \"grp\": f\"{sess.tag}_shuffle\",\n",
    "        }\n",
    "    )\n",
    "    score_df.append(pd.concat([replay_df, shuffle_df]))\n",
    "\n",
    "score_df = pd.concat(score_df, ignore_index=True)\n"
   ]
  },
  {
   "cell_type": "code",
   "execution_count": null,
   "metadata": {},
   "outputs": [],
   "source": [
    "sess.replay_pbe.metadata[\"shuffle_score\"].shape\n"
   ]
  },
  {
   "cell_type": "code",
   "execution_count": null,
   "metadata": {},
   "outputs": [],
   "source": [
    "from neuropy import plotting\n",
    "import seaborn as sns\n",
    "\n",
    "fig = plotting.Fig(grid=(2, 2))\n",
    "ax = fig.subplot(fig.gs[0])\n",
    "sns.violinplot(data=score_df, x=\"Zt\", y=\"score\", hue=\"grp\")\n"
   ]
  }
 ],
 "metadata": {
  "interpreter": {
   "hash": "cce1618081139d19eb1ee8d40815d94a2de4f62e1efb20d9406ddb60628c36ae"
  },
  "kernelspec": {
   "display_name": "Python 3.10.2 ('data_analysis')",
   "language": "python",
   "name": "python3"
  },
  "language_info": {
   "name": "python",
   "version": "3.10.2"
  },
  "orig_nbformat": 4
 },
 "nbformat": 4,
 "nbformat_minor": 2
}
