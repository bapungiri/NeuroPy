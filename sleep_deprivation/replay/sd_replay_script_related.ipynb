{
 "cells": [
  {
   "cell_type": "markdown",
   "metadata": {},
   "source": [
    "### Imports"
   ]
  },
  {
   "cell_type": "code",
   "execution_count": null,
   "metadata": {},
   "outputs": [],
   "source": [
    "import matplotlib.pyplot as plt\n",
    "import numpy as np\n",
    "import seaborn as sns\n",
    "from neuropy import plotting\n",
    "from tqdm.notebook import tqdm\n",
    "from neuropy.core import Epoch\n",
    "from neuropy.utils.mathutil import min_max_scaler\n",
    "from neuropy import plotting\n",
    "from scipy import stats\n",
    "import pandas as pd\n",
    "import subjects"
   ]
  },
  {
   "cell_type": "markdown",
   "metadata": {},
   "source": [
    "### Signficant sequences(wcorr) compare SD vs NSD "
   ]
  },
  {
   "cell_type": "code",
   "execution_count": null,
   "metadata": {},
   "outputs": [],
   "source": [
    "sessions = subjects.pf_sess()"
   ]
  },
  {
   "cell_type": "code",
   "execution_count": null,
   "metadata": {},
   "outputs": [],
   "source": [
    "replay_df = []\n",
    "for sub, sess in enumerate(sessions):\n",
    "\n",
    "    maze = sess.paradigm[\"maze\"].flatten()\n",
    "    post = sess.paradigm[\"post\"].flatten()\n",
    "    zt_starts = np.array([0,2.5,5])\n",
    "    zt_stops = np.array([2.5,5,7.5])\n",
    "    epochs = np.vstack((zt_starts,zt_stops)).T* 3600 + post[0]\n",
    "    epochs = np.insert(epochs,0,maze,axis=0)\n",
    "    labels = ['MAZE','0-2.5','2.5-5','5-7.5']\n",
    "\n",
    "    for i, (t1,t2) in enumerate(epochs):\n",
    "        replay_pbe = sess.replay_pbe.time_slice(t1,t2).to_dataframe()\n",
    "        for direction in [\"up\", \"down\"]:\n",
    "            perc = replay_pbe[direction + \"_percentile_score\"].values\n",
    "            is_replay = (perc <= 5) | (perc >= 95)\n",
    "            scores = replay_pbe[direction + \"_score\"].values[is_replay]\n",
    "            order = replay_pbe[direction + \"_replay_order\"].values[is_replay]\n",
    "            order, counts = np.unique(order, return_counts=True)\n",
    "            df = pd.DataFrame(\n",
    "                dict(\n",
    "                    zt=labels[i],\n",
    "                    replay_order=[\"r\"],\n",
    "                    prop=counts.sum() / len(replay_pbe),\n",
    "                    # scores=np.abs(scores),\n",
    "                    animal=sub,\n",
    "                    grp=sess.tag,\n",
    "                )\n",
    "            )\n",
    "            replay_df.append(df)\n",
    "\n",
    "replay_df = pd.concat(replay_df, ignore_index=True)\n",
    "\n",
    "# subjects.GroupData().save(replay_df,'replay_sig_frames')"
   ]
  },
  {
   "cell_type": "code",
   "execution_count": null,
   "metadata": {},
   "outputs": [],
   "source": [
    "\n",
    "_,ax = plt.subplots() \n",
    "sns.barplot(data=replay_df, x=\"zt\", y=\"prop\",hue='grp')\n"
   ]
  },
  {
   "cell_type": "markdown",
   "metadata": {},
   "source": [
    "### Distribution of wcorr-sequences SD vs NSD"
   ]
  },
  {
   "cell_type": "code",
   "execution_count": null,
   "metadata": {},
   "outputs": [],
   "source": [
    "sessions = subjects.pf_sess()"
   ]
  },
  {
   "cell_type": "code",
   "execution_count": null,
   "metadata": {},
   "outputs": [],
   "source": [
    "replay_df = []\n",
    "for sub, sess in enumerate(sessions):\n",
    "\n",
    "    maze = sess.paradigm[\"maze\"].flatten()\n",
    "    post = sess.paradigm[\"post\"].flatten()\n",
    "    zt_starts = np.array([0, 2.5, 5])\n",
    "    zt_stops = np.array([2.5, 5, 7.5])\n",
    "    epochs = np.vstack((zt_starts, zt_stops)).T * 3600 + post[0]\n",
    "    epochs = np.insert(epochs, 0, maze, axis=0)\n",
    "    labels = [\"MAZE\", \"0-2.5\", \"2.5-5\", \"5-7.5\"]\n",
    "\n",
    "    replay_pbe = sess.replay_pbe.to_dataframe()\n",
    "\n",
    "    for i, (t1, t2) in enumerate(epochs):\n",
    "        indx = (replay_pbe.start > t1) & (replay_pbe.start < t2)\n",
    "        epoch_pbe = replay_pbe[indx]\n",
    "        # replay_pbe = sess.replay_pbe.time_slice(t1,t2).to_dataframe()\n",
    "        for direction in [\"up\", \"down\"]:\n",
    "            # perc = replay_pbe[direction + \"_percentile_score\"].values\n",
    "\n",
    "            r2 = epoch_pbe[direction + \"_score\"].values ** 2\n",
    "            zsc = epoch_pbe[direction + \"_sequence_score\"].values\n",
    "            shuffle_scores = (\n",
    "                sess.replay_pbe.metadata[direction + \"_shuffle_score\"][:, indx] ** 2\n",
    "            )\n",
    "\n",
    "            perc = np.array(\n",
    "                [\n",
    "                    stats.percentileofscore(shuffle_scores[:, i], r2[i], kind=\"strict\")\n",
    "                    for i in range(len(r2))\n",
    "                ]\n",
    "            )\n",
    "\n",
    "            df = pd.DataFrame(\n",
    "                dict(\n",
    "                    zt=labels[i],\n",
    "                    perc=perc,\n",
    "                    zsc=zsc,\n",
    "                    animal=sub,\n",
    "                    grp=sess.tag,\n",
    "                )\n",
    "            )\n",
    "            replay_df.append(df)\n",
    "\n",
    "replay_df = pd.concat(replay_df, ignore_index=True)\n",
    "\n",
    "subjects.GroupData().save(replay_df,'replay_wcorr')\n"
   ]
  },
  {
   "cell_type": "code",
   "execution_count": null,
   "metadata": {},
   "outputs": [],
   "source": [
    "\n",
    "\n",
    "# _,ax = plt.subplots(1,1) \n",
    "# sns.barplot(data=replay_df,x='zt',y='perc',hue='grp',ax=ax, ci =99)\n",
    "\n",
    "_,axs = plt.subplots(1,4) \n",
    "for i,t in enumerate(labels):\n",
    "\n",
    "    df =replay_df[replay_df.zt==t] \n",
    "    d1 = df[df.grp=='NSD'].zsc.values\n",
    "    d2 = df[df.grp=='SD'].zsc.values\n",
    "    sns.ecdfplot(data=df, x=\"perc\",hue='grp',ax=axs[i],lw=1)\n",
    "    print(stats.kstest(d1,d2)) \n"
   ]
  },
  {
   "cell_type": "markdown",
   "metadata": {},
   "source": [
    "### wcorr vs jump distance"
   ]
  },
  {
   "cell_type": "code",
   "execution_count": null,
   "metadata": {},
   "outputs": [],
   "source": [
    "sessions = subjects.pf_sess()"
   ]
  },
  {
   "cell_type": "code",
   "execution_count": null,
   "metadata": {},
   "outputs": [],
   "source": [
    "get_jump_dist = lambda arr: np.diff(np.argmax(arr, axis=0)).mean()\n",
    "wcorr_jump_df = []\n",
    "for sub, sess in enumerate(sessions):\n",
    "\n",
    "    maze = sess.paradigm[\"maze\"].flatten()\n",
    "    post = sess.paradigm[\"post\"].flatten()\n",
    "    zt_starts = np.array([0, 2.5, 5])\n",
    "    zt_stops = np.array([2.5, 5, 7.5])\n",
    "    epochs = np.vstack((zt_starts, zt_stops)).T * 3600 + post[0]\n",
    "    epochs = np.insert(epochs, 0, maze, axis=0)\n",
    "    labels = [\"MAZE\", \"0-2.5\", \"2.5-5\", \"5-7.5\"]\n",
    "\n",
    "    replay_pbe = sess.replay_pbe.to_dataframe()\n",
    "\n",
    "    for direction in [\"up\", \"down\"]:\n",
    "        wcorr = np.abs(replay_pbe[direction + \"_score\"].values)\n",
    "        posteriors = sess.replay_pbe.metadata[direction + \"_posterior\"]\n",
    "        dx = 1 / posteriors[0].shape[0]\n",
    "        jump_dist = np.array([get_jump_dist(_) for _ in posteriors]) * dx\n",
    "        for i, (t1, t2) in enumerate(epochs):\n",
    "            indx = (replay_pbe.start > t1) & (replay_pbe.start < t2)\n",
    "\n",
    "            df = pd.DataFrame(\n",
    "                dict(\n",
    "                    zt=labels[i],\n",
    "                    wcorr=wcorr[indx],\n",
    "                    jump=np.abs(jump_dist[indx]),\n",
    "                    animal=sub,\n",
    "                    grp=sess.tag,\n",
    "                )\n",
    "            )\n",
    "            wcorr_jump_df.append(df)\n",
    "\n",
    "wcorr_jump_df = pd.concat(wcorr_jump_df, ignore_index=True)\n",
    "\n",
    "# subjects.GroupData().save(replay_df,'replay_wcorr')\n"
   ]
  },
  {
   "cell_type": "code",
   "execution_count": null,
   "metadata": {},
   "outputs": [],
   "source": [
    "_,ax = plt.subplots(1,1)\n",
    "sns.violinplot(data=wcorr_jump_df,x='zt',y='jump',hue='grp',ax=ax)\n",
    "# sns.displot(data=wcorr_jump_df,x='jump',y='wcorr',binwidth=(0.05,0.05),col='grp')\n",
    "\n",
    "# _, axs = plt.subplots(1, 4)\n",
    "# for i, t in enumerate(labels):\n",
    "\n",
    "#     df = wcorr_jump_df[wcorr_jump_df.zt == t]\n",
    "#     d1 = df[df.grp=='NSD'].jump.values\n",
    "#     d2 = df[df.grp=='SD'].jump.values\n",
    "#     sns.barplot(\n",
    "#         data=df,\n",
    "#         x='zt',\n",
    "#         y=\"jump\",\n",
    "#         hue=\"grp\",\n",
    "#         ax=axs[i],\n",
    "#         # lw=1,\n",
    "#         # common_norm=False,\n",
    "#         # common_bins=True,\n",
    "#         # stat=\"probability\",\n",
    "#         # fill=False,\n",
    "#         # element='poly',\n",
    "#         # cumulative=True,\n",
    "#     )\n",
    "#     print(stats.kstest(d1,d2))\n"
   ]
  },
  {
   "cell_type": "markdown",
   "metadata": {},
   "source": [
    "### Signficant sequences histogram radon transform"
   ]
  },
  {
   "cell_type": "code",
   "execution_count": null,
   "metadata": {},
   "outputs": [],
   "source": [
    "sessions = subjects.nsd.pf_sess"
   ]
  },
  {
   "cell_type": "code",
   "execution_count": null,
   "metadata": {},
   "outputs": [],
   "source": [
    "replay_df = []\n",
    "for sub, sess in enumerate(sessions):\n",
    "\n",
    "    post = sess.paradigm[\"post\"].flatten()\n",
    "    replay_pbe = sess.replay_pbe.to_dataframe()\n",
    "    is_replay = replay_pbe.is_replay\n",
    "    velocity_bool = np.abs(replay_pbe.velocity.values) > 100\n",
    "\n",
    "    sig_events = np.logical_and(is_replay, velocity_bool)\n",
    "    starts = replay_pbe.start.values[sig_events]\n",
    "    bins = np.arange(post[0], post[0] + 2 * 3600, 600)\n",
    "    hist_replay = np.histogram(starts, bins)[0]\n",
    "    replay_df.append(\n",
    "        pd.DataFrame(\n",
    "            {\n",
    "                \"bins\": ((bins[:-1] - post[0]) / 3600).round(2),\n",
    "                \"hist\": hist_replay,\n",
    "                \"grp\": sess.tag,\n",
    "            }\n",
    "        )\n",
    "    )\n",
    "\n",
    "replay_df = pd.concat(replay_df, ignore_index=True)\n"
   ]
  },
  {
   "cell_type": "code",
   "execution_count": null,
   "metadata": {},
   "outputs": [],
   "source": [
    "\n",
    "fig = plotting.Fig(grid=(2, 2))\n",
    "ax = fig.subplot(fig.gs[0])\n",
    "sns.barplot(data=replay_df, x=\"bins\", y=\"hist\", hue=\"grp\")\n"
   ]
  },
  {
   "cell_type": "markdown",
   "metadata": {},
   "source": [
    "### Decoding visualization"
   ]
  },
  {
   "cell_type": "code",
   "execution_count": null,
   "metadata": {},
   "outputs": [],
   "source": [
    "from hfuncs import plot_in_bokeh\n",
    "import bokeh.plotting as bplot\n",
    "\n",
    "sess = subjects.nsd.ratSday2[0]\n",
    "post = sess.paradigm[\"post\"].flatten()\n",
    "replay_pbe = sess.replay_pbe.to_dataframe()\n",
    "starts = sess.replay_pbe.starts\n",
    "wcorr, scores, posteriors = [], [], []\n",
    "for i, d in enumerate([\"up\", \"down\"]):\n",
    "    scores.append(replay_pbe[d + \"_percentile_score\"].values)\n",
    "    posteriors.extend(sess.replay_pbe.metadata[d + \"_posterior\"])\n",
    "    wcorr.append(replay_pbe[d + \"_score\"].values)\n",
    "\n",
    "wcorr = np.concatenate(wcorr)\n",
    "scores = np.concatenate(scores)\n",
    "starts = np.tile(starts, (2,)) - post[0]\n",
    "scores_color = np.where((scores >= 95) | (scores <= 5), scores, 50)\n",
    "\n",
    "n_epochs = 7000\n",
    "annotate_dict = dict(evt=np.arange(n_epochs), wcorr=wcorr[:n_epochs])\n",
    "bplot.output_notebook()\n",
    "# bplot.output_file(subjects.figpath_sd/'test_wake_decoding.html')\n",
    "p = plot_in_bokeh(\n",
    "    starts[:n_epochs]/3600,\n",
    "    scores[:n_epochs],\n",
    "    [posteriors[_] for _ in range(n_epochs)],\n",
    "    annotate=annotate_dict,\n",
    "    color_by=scores_color[:n_epochs],\n",
    "    palette=\"jet\",\n",
    "    size=8,\n",
    ")\n",
    "# # p.line(pos.time,pos.x/350 + 0.2,line_width=2,color='black')\n",
    "bplot.show(p)\n"
   ]
  },
  {
   "cell_type": "markdown",
   "metadata": {},
   "source": [
    "### Examples for figure4 sd paper"
   ]
  },
  {
   "cell_type": "code",
   "execution_count": null,
   "metadata": {},
   "outputs": [],
   "source": [
    "sessions = subjects.nsd.ratSday2 + subjects.sd.ratSday3\n",
    "\n",
    "# events= [[1221,2836,5072,2381,5179],[1326,1372,1824,1292,1516]]\n",
    "events= [[316,164,1416,3310,4201,3642,6728,6868],[263,148,2078,1900,3859,3468,6861,5978]]\n"
   ]
  },
  {
   "cell_type": "code",
   "execution_count": null,
   "metadata": {},
   "outputs": [],
   "source": [
    "replay_example_dict = {}\n",
    "for sub, sess in enumerate(sessions):\n",
    "    replay = sess.replay_pbe\n",
    "    replay_df = sess.replay_pbe.to_dataframe()\n",
    "    starts = sess.replay_pbe.starts\n",
    "    wcorr, scores, posteriors = [], [], []\n",
    "    for i, d in enumerate([\"up\", \"down\"]):\n",
    "        scores.append(replay_df[d + \"_percentile_score\"].values)\n",
    "        posteriors.extend(replay.metadata[d + \"_posterior\"])\n",
    "        wcorr.append(replay_df[d + \"_score\"].values)\n",
    "    wcorr = np.concatenate(wcorr)\n",
    "    replay_example_dict[sess.tag] = dict(\n",
    "        posteriors=[posteriors[p] for p in events[sub]], wcorr=wcorr[events[sub]]\n",
    "    )\n",
    "\n",
    "subjects.GroupData().save(replay_example_dict,'replay_examples')"
   ]
  },
  {
   "cell_type": "markdown",
   "metadata": {},
   "source": [
    "### Mean replay score across all events as a function of time "
   ]
  },
  {
   "cell_type": "code",
   "execution_count": null,
   "metadata": {},
   "outputs": [],
   "source": [
    "%matplotlib widget\n",
    "import matplotlib.pyplot as plt\n",
    "import numpy as np\n",
    "import pandas as pd\n",
    "import subjects\n",
    "from neuropy import plotting\n",
    "from neuropy.utils import signal_process\n",
    "from neuropy.analyses import Pf1D\n",
    "from neuropy.analyses import Decode1d\n",
    "\n",
    "sessions = subjects.nsd.ratUday2 + subjects.sd.ratUday4"
   ]
  },
  {
   "cell_type": "code",
   "execution_count": null,
   "metadata": {},
   "outputs": [],
   "source": [
    "from scipy import stats\n",
    "\n",
    "replay_df = []\n",
    "for sub, sess in enumerate(sessions):\n",
    "\n",
    "    post = sess.paradigm[\"post\"].flatten()\n",
    "    replay_pbe = sess.replay_pbe.to_dataframe()\n",
    "    starts = sess.replay_pbe.starts\n",
    "    replay_score = replay_pbe.score\n",
    "    bins = np.arange(post[0], post[0] + 2 * 3600, 600)\n",
    "\n",
    "    mean_score = stats.binned_statistic(starts, replay_score, bins=bins)[0]\n",
    "    replay_df.append(\n",
    "        pd.DataFrame(\n",
    "            {\n",
    "                \"bins\": ((bins[:-1] - post[0]) / 3600).round(2),\n",
    "                \"hist\": mean_score,\n",
    "                \"grp\": sess.tag,\n",
    "            }\n",
    "        )\n",
    "    )\n",
    "\n",
    "replay_df = pd.concat(replay_df, ignore_index=True)\n"
   ]
  },
  {
   "cell_type": "code",
   "execution_count": null,
   "metadata": {},
   "outputs": [],
   "source": [
    "from neuropy import plotting\n",
    "import seaborn as sns\n",
    "\n",
    "fig = plotting.Fig(grid=(2, 2))\n",
    "ax = fig.subplot(fig.gs[0])\n",
    "sns.lineplot(data=replay_df, x=\"bins\", y=\"hist\", hue=\"grp\")\n"
   ]
  },
  {
   "cell_type": "markdown",
   "metadata": {},
   "source": [
    "### Distribution of replay scores and comparison with shuffled scores"
   ]
  },
  {
   "cell_type": "code",
   "execution_count": null,
   "metadata": {},
   "outputs": [],
   "source": [
    "%matplotlib widget\n",
    "import matplotlib.pyplot as plt\n",
    "import numpy as np\n",
    "import pandas as pd\n",
    "import subjects\n",
    "from neuropy import plotting\n",
    "from neuropy.utils import signal_process\n",
    "from neuropy.analyses import Pf1D\n",
    "from neuropy.analyses import Decode1d\n",
    "\n",
    "sessions = subjects.nsd.ratUday2 + subjects.sd.ratUday4"
   ]
  },
  {
   "cell_type": "code",
   "execution_count": null,
   "metadata": {},
   "outputs": [],
   "source": [
    "from scipy import stats\n",
    "\n",
    "score_df = []\n",
    "for sub, sess in enumerate(sessions):\n",
    "\n",
    "    post = sess.paradigm[\"post\"].flatten()\n",
    "    replay_pbe = sess.replay_pbe.to_dataframe()\n",
    "\n",
    "    starts = sess.replay_pbe.starts\n",
    "    replay_score = replay_pbe.score\n",
    "\n",
    "    shuffle_scores = sess.replay_pbe.metadata[\"shuffle_score\"].flatten()\n",
    "    shuffle_starts = np.repeat(starts, 200)\n",
    "\n",
    "    bins = np.arange(2) * 3600 + post[0]\n",
    "    replay_df = pd.DataFrame(\n",
    "        {\n",
    "            \"Zt\": np.digitize(starts, bins),\n",
    "            \"starts\": starts,\n",
    "            \"score\": replay_score,\n",
    "            \"grp\": sess.tag,\n",
    "        }\n",
    "    )\n",
    "    shuffle_df = pd.DataFrame(\n",
    "        {\n",
    "            \"Zt\": np.digitize(shuffle_starts, bins),\n",
    "            \"starts\": shuffle_starts,\n",
    "            \"score\": shuffle_scores,\n",
    "            \"grp\": f\"{sess.tag}_shuffle\",\n",
    "        }\n",
    "    )\n",
    "    score_df.append(pd.concat([replay_df, shuffle_df]))\n",
    "\n",
    "score_df = pd.concat(score_df, ignore_index=True)\n"
   ]
  },
  {
   "cell_type": "code",
   "execution_count": null,
   "metadata": {},
   "outputs": [],
   "source": [
    "sess.replay_pbe.metadata[\"shuffle_score\"].shape\n"
   ]
  },
  {
   "cell_type": "code",
   "execution_count": null,
   "metadata": {},
   "outputs": [],
   "source": [
    "from neuropy import plotting\n",
    "import seaborn as sns\n",
    "\n",
    "fig = plotting.Fig(grid=(2, 2))\n",
    "ax = fig.subplot(fig.gs[0])\n",
    "sns.violinplot(data=score_df, x=\"Zt\", y=\"score\", hue=\"grp\")\n"
   ]
  },
  {
   "cell_type": "markdown",
   "metadata": {},
   "source": [
    "### Posterior time lag comparison SD vs NSD"
   ]
  },
  {
   "cell_type": "code",
   "execution_count": null,
   "metadata": {},
   "outputs": [],
   "source": [
    "sessions = subjects.nsd.ratUday2 + subjects.sd.ratUday4"
   ]
  },
  {
   "cell_type": "code",
   "execution_count": null,
   "metadata": {},
   "outputs": [],
   "source": [
    "import scipy.signal as sg\n",
    "from scipy.ndimage import gaussian_filter1d\n",
    "\n",
    "lag_time_all = []\n",
    "for sub,sess in enumerate(sessions):\n",
    "    post = sess.paradigm['post'].flatten()\n",
    "    starts = sess.replay_pbe.starts\n",
    "    # ind = (starts>=post[0]+2.5*3600) &(starts<=post[0]+5*3600)\n",
    "    ind = starts<post[0]\n",
    "\n",
    "    posteriors = sess.replay_pbe.metadata['up_posterior']\n",
    "    posteriors = [posteriors[_] for _ in np.argwhere(ind).squeeze()] \n",
    "    posteriors = np.hstack(posteriors)\n",
    "\n",
    "    npos,nt = posteriors.shape\n",
    "    rows,cols = np.tril_indices(npos,-1)\n",
    "    lags = sg.correlation_lags(nt,nt,mode='same')*0.02\n",
    "    idx = (lags>=-0.5) & (lags<=0.5)\n",
    "    lags = lags[idx]\n",
    "\n",
    "    lag_time=np.zeros((npos,npos))\n",
    "    for p1 in range(npos):\n",
    "        for p2 in range(npos):\n",
    "            xcorr = sg.correlate(posteriors[p1],posteriors[p2],mode='same')[idx]\n",
    "            lag_time[p1,p2] = lags[gaussian_filter1d(xcorr,sigma=0.06/0.02).argmax()]\n",
    "\n",
    "    lag_time_all.append(lag_time)"
   ]
  },
  {
   "cell_type": "code",
   "execution_count": null,
   "metadata": {},
   "outputs": [],
   "source": [
    "_,axs = plt.subplots(2,2)\n",
    "\n",
    "for i,lag_mat in enumerate(lag_time_all):\n",
    "\n",
    "    ax = axs[0,i]\n",
    "    im = ax.pcolormesh(lag_mat,cmap='bwr',vmin=-0.4,vmax=0.4)\n",
    "    cb = plt.colorbar(im,ax=ax)\n",
    "\n",
    "    ax2 = axs[1,i]\n",
    "    im = ax2.pcolormesh(np.abs(lag_mat),cmap='jet',vmin=0,vmax=0.4)\n",
    "    cb = plt.colorbar(im,ax=ax2)\n"
   ]
  },
  {
   "cell_type": "markdown",
   "metadata": {},
   "source": [
    "### Which positions are being replayed the most in POST"
   ]
  },
  {
   "cell_type": "code",
   "execution_count": null,
   "metadata": {},
   "outputs": [],
   "source": [
    "sessions = subjects.nsd.ratUday2 + subjects.sd.ratUday4"
   ]
  },
  {
   "cell_type": "code",
   "execution_count": 104,
   "metadata": {},
   "outputs": [],
   "source": [
    "import scipy.signal as sg\n",
    "from scipy.ndimage import gaussian_filter1d\n",
    "\n",
    "mean_posterior = []\n",
    "for sub,sess in enumerate(sessions):\n",
    "    post = sess.paradigm['post'].flatten()\n",
    "    starts = sess.replay_pbe.starts\n",
    "    ind = (starts>=post[0]+2.5*3600) &(starts<=post[0]+5*3600)\n",
    "\n",
    "    posteriors = sess.replay_pbe.metadata['up_posterior']\n",
    "    posteriors = [posteriors[_] for _ in np.argwhere(ind).squeeze()] \n",
    "    mean_posterior.append(np.hstack(posteriors).mean(axis=1))\n",
    "\n"
   ]
  },
  {
   "cell_type": "code",
   "execution_count": 106,
   "metadata": {},
   "outputs": [
    {
     "data": {
      "application/vnd.jupyter.widget-view+json": {
       "model_id": "06848e2995f542d8a7dbec0c7f5bd108",
       "version_major": 2,
       "version_minor": 0
      },
      "image/png": "[encoded data removed]",
      "text/html": [
       "\n",
       "            <div style=\"display: inline-block;\">\n",
       "                <div class=\"jupyter-widgets widget-label\" style=\"text-align: center;\">\n",
       "                    Figure\n",
       "                </div>\n",
       "                <img src='data:image/png;base64,iVBORw0KGgoAAAANSUhEUgAAAoAAAAHgCAYAAAA10dzkAAAAOXRFWHRTb2Z0d2FyZQBNYXRwbG90bGliIHZlcnNpb24zLjUuMSwgaHR0cHM6Ly9tYXRwbG90bGliLm9yZy/YYfK9AAAACXBIWXMAAA9hAAAPYQGoP6dpAABaf0lEQVR4nO3deXxU9b3/8ffMZIOQBRJICISQAEIEZAmKoHE3iLtSi16rVkVLbbWItnVpfypdaKv1crmKXBVqtRZpi1qtKCKyKSACYRHCHkgICSGBbISsc35/TGbIJAGSMDNnknk9H488hJMzk+8ZmZP3fJfP12IYhiEAAAAEDKvZDQAAAIBvEQABAAACDAEQAAAgwBAAAQAAAgwBEAAAIMAQAAEAAAIMARAAACDAEAABAAACDAEQAAAgwBAAAQAAAgwBEAAAIMAQAAEAAAIMARAAACDAEAABAAACDAEQAAAgwBAAAQAAAgwBEAAAIMAQAAEAAAIMARAAACDAEAABAAACDAEQAAAgwBAAAQAAAgwBEAAAIMAQAAEAAAIMARAAACDAEAABAAACDAEQAAAgwBAAAQAAAgwBEAAAIMAQAAEAAAIMARAAACDAEAABAAACDAEQAAAgwBAAAQAAAgwBEAAAIMAQAAEAAAIMARAAACDAEAABAAACDAEQAAAgwBAAAQAAAgwBEAAAIMAQAAEAAAIMARAAACDAEAABAAACDAEQAAAgwBAAAQAAAgwBEAAAIMAQAAEAAAIMARAAACDAEAABAAACDAEQAAAgwBAAAQAAAkyHCYBz5sxRcnKywsLClJaWptWrV5/x/JUrVyotLU1hYWFKSUnR3Llz3b7/1ltvyWKxNPuqqqry5mUAAACYrkMEwIULF2ratGl69tlnlZmZqfT0dE2cOFE5OTktnp+dna3rr79e6enpyszM1DPPPKPHHntMixYtcjsvMjJS+fn5bl9hYWG+uCQAAADTWAzDMMxuxNmMHTtWo0eP1muvveY6lpqaqltvvVUzZ85sdv4vf/lLffTRR8rKynIdmzp1qrZs2aK1a9dKcvQATps2TSUlJV5vPwAAgD/x+x7Ampoabdy4URkZGW7HMzIytGbNmhYfs3bt2mbnT5gwQRs2bFBtba3rWEVFhZKSktS3b1/deOONyszM9PwFAAAA+JkgsxtwNkVFRaqvr1dcXJzb8bi4OBUUFLT4mIKCghbPr6urU1FRkXr37q0hQ4borbfe0vDhw1VWVqb/+Z//0SWXXKItW7Zo0KBBLT5vdXW1qqurXX+32+06duyYYmJiZLFYzvFKAbSVYRgqLy9XQkKCrFb//TzLvQPwLx3l3uFNfh8AnZreJA3DOOONs6XzGx+/+OKLdfHFF7u+f8kll2j06NH63//9X82ePbvF55w5c6ZeeOGFdrUfgPfk5uaqb9++ZjfjtLh3AP7J3+8d3uT3ATA2NlY2m61Zb19hYWGzXj6n+Pj4Fs8PCgpSTExMi4+xWq268MILtWfPntO25emnn9b06dNdfy8tLVW/fv2Um5uryMjI1l4SAA8pKytTYmKiIiIizG7KGXHvAPxLR7l3eJPfB8CQkBClpaVp6dKluu2221zHly5dqltuuaXFx4wbN04ff/yx27HPP/9cY8aMUXBwcIuPMQxDmzdv1vDhw0/bltDQUIWGhjY7HhkZyU0cMJG/D6Ny7wD8k7/fO7ypQwx8T58+XW+++abmz5+vrKwsPf7448rJydHUqVMlOT5d33vvva7zp06dqoMHD2r69OnKysrS/PnzNW/ePD355JOuc1544QUtWbJE+/fv1+bNm/Xggw9q8+bNrucEAADorPy+B1CSJk+erOLiYs2YMUP5+fkaNmyYFi9erKSkJElSfn6+W03A5ORkLV68WI8//rheffVVJSQkaPbs2Zo0aZLrnJKSEj388MMqKChQVFSURo0apVWrVumiiy7y+fUBAAD4UoeoA+ivysrKFBUVpdLSUoZxABN01PdgR2030FnwHuwgQ8AAAADwHAIgAABAgCEAAgAABBgCIAAAQIAhAAIAAAQYAiAAAECAIQACAAAEGAIgAABAgCEAAgAABBgCIADTVdfV68UlO7Xx4DGzmwIAAYEACMB0a/cV69Xl+/TSkt1mNwUAAgIBEIDpqmrrHf+tqze5JQAQGAiAAExXb3f8126Y2w4ACBQEQACmsxsNyc8gAQKALxAAAZjOGQCJfwDgGwRAAKZzBkA7PYAA4BMEQACmc84BJP8BgG8QAAGYzjUETAAEAJ8gAAIwnd3OEDAA+BIBEIDpKP8CAL5FAARgunqGgAHApwiAAExnsAoYAHyKAAjAdPV26gACgC8RAAGYzu7aCIQICAC+QAAEYDrnKmDyHwD4BgEQgOnYCg4AfIsACMB0p1YBEwEBwBcIgABM58x91AMEAN8gAAIw3alVwCRAAPAFAiAA07EXMAD4FgEQgOlOlYExtx0AECgIgABMd6oMDAkQAHyBAAjAdJSBAQDfIgACMF09cwABwKcIgABMd6oMDAkQAHyBAAjAdKfKwAAAfIEACMB0lIEBAN8iAAIwHauAAcC3CIAATOeqA2huMwAgYBAAAZju1CpgIiAA+AIBEIDpnMHPTv4DAJ8gAAIwXT1zAAHApwiAAEzHHEAA8C0CIADTnVoFbHJDACBAEAABmM7OIhAA8CkCIADT1TMEDAA+RQAEYDq7axUwERAAfIEACMB0zAEEAN8iAAIwnWsOoMntAIBAQQAEYDpXGRi6AAHAJwiAAEzHEDAA+BYBEIDpGAIGAN8iAAIwnbMMDKuAAcA3CIAATGcYDAEDgC8RAAGYrt5+KvmxEAQAvI8ACMB0jYd+yX8A4H0EQACms9tP/Zn8BwDeRwAEYDr3HkAiIAB4GwEQgOnqG4U+O/kPALyOAAjAdI1Dn8EgMAB4XYcJgHPmzFFycrLCwsKUlpam1atXn/H8lStXKi0tTWFhYUpJSdHcuXNPe+57770ni8WiW2+91cOtBtAadjuLQADAlzpEAFy4cKGmTZumZ599VpmZmUpPT9fEiROVk5PT4vnZ2dm6/vrrlZ6erszMTD3zzDN67LHHtGjRombnHjx4UE8++aTS09O9fRkAToNVwADgWx0iAL788st68MEHNWXKFKWmpmrWrFlKTEzUa6+91uL5c+fOVb9+/TRr1iylpqZqypQpeuCBB/TSSy+5nVdfX6+7775bL7zwglJSUnxxKQBa4FYHkCFgAPA6vw+ANTU12rhxozIyMtyOZ2RkaM2aNS0+Zu3atc3OnzBhgjZs2KDa2lrXsRkzZqhnz5568MEHW9WW6upqlZWVuX0BOHeNe/06Yw8g9w4A/sbvA2BRUZHq6+sVFxfndjwuLk4FBQUtPqagoKDF8+vq6lRUVCRJ+vrrrzVv3jy98cYbrW7LzJkzFRUV5fpKTExs49UAaIn7KuDOlwC5dwDwN34fAJ0sFovb3w3DaHbsbOc7j5eXl+sHP/iB3njjDcXGxra6DU8//bRKS0tdX7m5uW24AgCn4zYH0MR2eAv3DgD+JsjsBpxNbGysbDZbs96+wsLCZr18TvHx8S2eHxQUpJiYGG3fvl0HDhzQTTfd5Pq+vWErgqCgIO3atUsDBgxo9ryhoaEKDQ0910sC0ERnHwLm3gHA3/h9D2BISIjS0tK0dOlSt+NLly7V+PHjW3zMuHHjmp3/+eefa8yYMQoODtaQIUO0bds2bd682fV1880368orr9TmzZsZngF8zG0RSGdMgADgZ/y+B1CSpk+frnvuuUdjxozRuHHj9PrrrysnJ0dTp06V5BheycvL09tvvy1Jmjp1ql555RVNnz5dDz30kNauXat58+ZpwYIFkqSwsDANGzbM7WdER0dLUrPjALyPMjAA4FsdIgBOnjxZxcXFmjFjhvLz8zVs2DAtXrxYSUlJkqT8/Hy3moDJyclavHixHn/8cb366qtKSEjQ7NmzNWnSJLMuAcAZuBWCNrEdABAoLAbjLe1WVlamqKgolZaWKjIy0uzmAB3Wxb9fpoKyKknShl9do9hurZsv11Hfgx213UBnwXuwA8wBBND51TMEDAA+RQAEYDrDYCcQAPAlAiAA0zVeBUz+AwDvIwACMF3j/GcnAAKA1xEAAZjOfRUwCRAAvI0ACMB01AEEAN8iAAIwXeNVwHYSIAB4HQEQgOnsnXwvYADwNwRAAKazs/IDAHyKAAjAdHaGgAHApwiAAExlGAZDwADgYwRAAKZqGvjIfwDgfQRAAKaqb5IAGQIGAO8jAAIwVdPAR/4DAO8jAAIwVfPARwIEAG8jAAIwVb296RCwSQ0BgABCAARgKoaAAcD3CIAATGW3u//dYAgYALyOAAjAVE17AJsGQgCA5xEAAZiqaRkYegABwPsIgABMxRxAAPA9AiAAUzWbA0gABACvIwACMFWzHkCGgAHA6wiAAEzVtA4gPYAA4H0EQACmahr42AsYALyPAAjAVM1XAQMAvI0ACMBUrAIGAN8jAAIwlb3ZHEASIAB4GwEQgKma5D+GgAHABwiAAEzFKmAA8D0CIABTNdsLmAQIAF5HAARgKhaBAIDvEQABmKr5HEASIAB4GwEQgKnoAQQA3yMAAjBV8zIwJjUEAAIIARCAqRgCBgDfIwACMFXTMjBNAyEAwPMIgABM1XTnD3YCAQDvIwACMFV90wBoUjsAIJAQAAGYqtkcQHoAAcDrCIAATMUqYADwPQIgAFNRBxAAfI8ACMBUzVcBkwABwNsIgABM1bwOIADA2wiAAEzFEDAA+B4BEICpmg/5kgABwNsIgABMxU4gAOB7BEAApmraAcgQMAB4HwEQgKma9gAaDAEDgNcRAAGYqukcQIaAAcD7CIAATNV8FTAJEAC8jQAIwFT0+AGA7xEAAZiq+RAwiRAAvI0ACMBU9qaLQMh/AOB1BEAApmq2FRwBEAC8jgAIwFTNC0GTAAHA2wiAAEzVbBWwSe0AgEBCAARgqmY9fiRAAPA6AiAAUzWdA8gQMAB4X4cJgHPmzFFycrLCwsKUlpam1atXn/H8lStXKi0tTWFhYUpJSdHcuXPdvv/+++9rzJgxio6OVnh4uEaOHKl33nnHm5cAoAXNt4IDAHhbhwiACxcu1LRp0/Tss88qMzNT6enpmjhxonJyclo8Pzs7W9dff73S09OVmZmpZ555Ro899pgWLVrkOqdHjx569tlntXbtWm3dulX333+/7r//fi1ZssRXlwVAzXf+oAMQALyvQwTAl19+WQ8++KCmTJmi1NRUzZo1S4mJiXrttddaPH/u3Lnq16+fZs2apdTUVE2ZMkUPPPCAXnrpJdc5V1xxhW677TalpqZqwIAB+tnPfqYLLrhAX331la8uC4Ckerv73xkCBgDv8/sAWFNTo40bNyojI8PteEZGhtasWdPiY9auXdvs/AkTJmjDhg2qra1tdr5hGFq2bJl27dqlyy67zHONB3BWrAIGAN8LMrsBZ1NUVKT6+nrFxcW5HY+Li1NBQUGLjykoKGjx/Lq6OhUVFal3796SpNLSUvXp00fV1dWy2WyaM2eOrr322tO2pbq6WtXV1a6/l5WVtfeyADRovgq480VA7h0A/I3f9wA6WSwWt78bhtHs2NnOb3o8IiJCmzdv1rfffqvf/e53mj59ulasWHHa55w5c6aioqJcX4mJie24EgCNNd8L2KSGeBH3DgD+xu8DYGxsrGw2W7PevsLCwma9fE7x8fEtnh8UFKSYmBjXMavVqoEDB2rkyJF64okn9L3vfU8zZ848bVuefvpplZaWur5yc3PP4coASM3nADZdFNIZcO8A4G/8PgCGhIQoLS1NS5cudTu+dOlSjR8/vsXHjBs3rtn5n3/+ucaMGaPg4ODT/izDMNyGaZoKDQ1VZGSk2xeAc9NsFbBJ7fAm7h0A/I3fzwGUpOnTp+uee+7RmDFjNG7cOL3++uvKycnR1KlTJTk+Xefl5entt9+WJE2dOlWvvPKKpk+froceekhr167VvHnztGDBAtdzzpw5U2PGjNGAAQNUU1OjxYsX6+233z7tymIA3tF8L2CTGgIAAaRDBMDJkyeruLhYM2bMUH5+voYNG6bFixcrKSlJkpSfn+9WEzA5OVmLFy/W448/rldffVUJCQmaPXu2Jk2a5DrnxIkTeuSRR3To0CF16dJFQ4YM0d/+9jdNnjzZ59cHBLKmga8zDgEDgL+xGNxt262srExRUVEqLS1lSAdop+c/2q631hxw/f1XN6RqSnpKqx7bUd+DHbXdQGfBe7ADzAEE0Lk1XwXMZ1IA8DYCIABTNSsETf4DAK8jAAIwVbMyMOY0AwACCgEQgKmaTkNmCBgAvI8ACMBUTcvAkP8AwPsIgABMRd0/APA9AiAAUzVbBUwiBACvIwACMFWzVcAmtQMAAgkBEICpmAMIAL5HAARgqqaBj1XAAOB9BEAApnL2AFosjr8T/wDA+wiAAEzl7PELsjoTIBEQALyNAAjAVM4AaGsIgCwCBgDvIwACMJUz8NkaxoANBoEBwOsIgABM5ZwD6OwBZAQYALyPAAjAVAwBA4DvEQABmOpUAHTcjhgCBgDvIwACMJXd7vjvqVXA5rUFAAIFARCAqZoOAZP/AMD7CIAATOWqA2hrmAPIJEAA8DoCIABTucrA0AMIAD5DAARgKlcZGAtlYADAVwiAAExlNCsDQwIEAG8jAAIwVX2TOYAAAO8jAAIwlbMMjKsOID2AAOB1BEAApnKtAmYnEADwGQIgAFO56gA6F4GwDhgAvI4ACMBUrlXAVlYBA4CvEAABmMoZ+FyFoAmAAOB1BEAApqpvUgaGUtAA4H0EQACmajYHkPwHAF5HAARgqlNlYCgEDQC+QgAEYCp7k0LQ5D8A8D4CIABTnVoF3FAI2szGAECAIAACMJVz1W8QQ8AA4DMEQACmsjddBUz+AwCvIwACMFXznUAAAN5GAARgKrtzDqCNIWAA8BUCIABTNZ0DSP4DAO8jAAIwlbPHz8oQMAD4DAEQgKmcZWBYBQwAvkMABGAqZ95zzgGkCxAAvI8ACMBU9YZ7D6BBAgQAryMAAjDVqTqAjtuRc29gAID3EAABmMYwDNcQMD2AAOA7BEAAprE3yno2ysAAgM8QAAGYpr5RArS5VgGb1RoACBwEQACmaVzyxTkEzDJgAPA+AiAA0zQOgAwBA4DvEAABmKbxEDCFoAHAdwiAAExTU3eq5ktokE0SA8AA4AsEQACmqW4IgME2i6wMAQOAzxAAAZjG2QMYYrPKuQaEIWAA8D4CIADTOHsAQ4NtsljOcjIAwGMIgABM07gH0CKGgAHAVwiAAExTU18vSQoJsrp6ABkCBgDvIwACME11bcMQcJBVFgs9gADgKwRAAKaprm8YAg6y6tQ+ICRAAPA2AiAA0zjnAIY2GgKmBxAAvI8ACMA0zlXAIUFWWRkCBgCf6TABcM6cOUpOTlZYWJjS0tK0evXqM56/cuVKpaWlKSwsTCkpKZo7d67b99944w2lp6ere/fu6t69u6655hqtX7/em5cAoAnXKuAgG0PAAOBDHSIALly4UNOmTdOzzz6rzMxMpaena+LEicrJyWnx/OzsbF1//fVKT09XZmamnnnmGT322GNatGiR65wVK1borrvu0vLly7V27Vr169dPGRkZysvL89VlAQGvus6xCpghYADwrQ4RAF9++WU9+OCDmjJlilJTUzVr1iwlJibqtddea/H8uXPnql+/fpo1a5ZSU1M1ZcoUPfDAA3rppZdc57z77rt65JFHNHLkSA0ZMkRvvPGG7Ha7li1b5qvLAgJeTaMhYOcqYMrAAID3+X0ArKmp0caNG5WRkeF2PCMjQ2vWrGnxMWvXrm12/oQJE7RhwwbV1ta2+JjKykrV1taqR48ep21LdXW1ysrK3L4AtJ9rEYit8Srgzod7BwB/4/cBsKioSPX19YqLi3M7HhcXp4KCghYfU1BQ0OL5dXV1KioqavExTz31lPr06aNrrrnmtG2ZOXOmoqKiXF+JiYltvBoAjZ3aCq5z1wHk3gHA3/h9AHSyNNko1DCMZsfOdn5LxyXpT3/6kxYsWKD3339fYWFhp33Op59+WqWlpa6v3NzctlwCgCYabwVndc0B7HwJkHsHAH8TZHYDziY2NlY2m61Zb19hYWGzXj6n+Pj4Fs8PCgpSTEyM2/GXXnpJv//97/XFF1/oggsuOGNbQkNDFRoa2o6rANCSmnpnD6Dt1CIQE9vjLdw7APgbv+8BDAkJUVpampYuXep2fOnSpRo/fnyLjxk3blyz8z///HONGTNGwcHBrmMvvviifvOb3+izzz7TmDFjPN94AGdUXduwF7DNKos67xAwAPgbvw+AkjR9+nS9+eabmj9/vrKysvT4448rJydHU6dOleQYXrn33ntd50+dOlUHDx7U9OnTlZWVpfnz52vevHl68sknXef86U9/0q9+9SvNnz9f/fv3V0FBgQoKClRRUeHz6wMCVU3jreAaegBZBQwA3uf3Q8CSNHnyZBUXF2vGjBnKz8/XsGHDtHjxYiUlJUmS8vPz3WoCJicna/HixXr88cf16quvKiEhQbNnz9akSZNc58yZM0c1NTX63ve+5/aznnvuOT3//PM+uS4g0FXXNt4Kjh5AAPCVDhEAJemRRx7RI4880uL33nrrrWbHLr/8cm3atOm0z3fgwAEPtezs7pn3jTbnlGjeDy/URcmnLzMDBJrqxj2ADcfIfwDgfR1iCLijO1lTr/LqOhVXVJvdFMCvuOoABtka7QVMBAQAbyMA+kBMtxBJUtGJGpNbAviX6rrmcwDJfwDgfQRAH4jp5ij/UFRODyDQWE3DXsDuQ8AkQADwNgKgD8SGO3oAi08QAIHGTg0BN94L2MwWAUBgIAD6QGyEowewuIIhYKCxloeASYAA4G0EQB+ICScAAi1x9QDaWAUMAL7UYcrAdGSuRSCsAgbcOHsAQ4OtrqFfOgABwPvoAfSBWAIg0CJnD2CIzXaqB5AECABeRwD0AecQcFlVnesXHoBTW8GFBjeaA2hiewAgUBAAfSCqS7CCrI7fbseoBQi4VNc2lIGxNV4FTAQEAG8jAPqA1WpRj3CGgYGmalraCo78BwBexyIQH4npFqrC8moCINDAbjdUW+9Ie43rABIAHfYdrdAHm/IUHhqkH18xwOzmAOhk6AH0EedCEErBAA7O3j/J0QNopQ6gm4LSKr2yfK/+uSHX7KYA6IQIgD4S69wOjh5AQNKpEjCSFBpkk6VhEJj45zCoVzdJ0oHiE6pu2DIPADyFAOgjMa7t4OgBBCS5hZpgm6XRTiAmNcjP9IwIVURYkOyGlF10wuzmAOhkCIA+EkMPIOCmxm0buFMBkFXADhaLxdULuOdIhcmtAdDZEAB9JIY5gIAb1zZwQY7bEEPAzQ3qFSFJ2ltIAATgWQRAH2E3EMBdddMAyBBwM4PiHD2ABEAAnkYA9BHnIhB6AAGHU9vAOW5DVlcZGBKg00DnEHBhucktAdDZEAB9xDkHsPhENb/gADXeBs4mSWwF14JBcY4h4OyiE6qrZxtJAJ5DAPSRnt1CFWS1qLbe0OHSKrObA5iuuta9B/DUTiBEQKf4yDBZLFJtvaGSk7VmNwdAJ0IA9JGQIKtrOCfrcJnJrQHMV1PvKAMTGuycA+jcC9i0Jvkdm9WiyLBgSVJJJQEQgOcQAH0otXekJCkrnwAINOsBZCeQFkV3dQZA5g8D8BwCoA+l9nbM58kqIAACzjmAIUFNhoBNao+/iu5CDyAAzyMA+tCpHkBW9AFNy8CcWgVsWpP8UlRXRwkp5gAC8CQCoA85A+CB4hOqrKkzuTWAuarrmvQAMgTcolM9gAwBA/AcAqAPxXYLVc+IUBmGtLOAXkAEtlM7gTSUgWEnkBY55wCW0gMIwIMIgD7GQhDAoeY0PYDsBeyOOYAAvIEA6GOuhSAEQAS46jpHGZjmQ8Bmtcg/RTMHEIAXEAB97PyGHsCdLARBgKtpthcwQ8AtoQwMAG8gAPrYeQ1bO+0+Us5kdwS0ZotAnN/gbeHmVACkBxCA5xAAfSw5NlxWi1RWVaej5dVmNwcwjasH0OZeBoY5gO6iujiHgOkBBOA5BEAfCwu2qX9MuCRpT2GFya0BzOMKgMENq4CdcwDNapCfogcQgDcQAE3g3BN4zxHmASJwuRaB2JrsBEIPoBvnKuDyqjrVNeyeAgDnigBogkFxjgC4mx5ABDDnVnChwe6LQOzkPzdRDQFQckwdAQBPIACaYFAvx0KQvUcIgAhc1bUNi0Bs7mVg4C7IZlVEaJAkVgID8BwCoAmcQ8C7C1kJjMDl7AFstgpYDAM3FR3u6AU8TgAE4CEEQBMM7NVNFotjUndRBTd0BKbqJlvBWRt1ATIM7K5fj66SpL1MGwHgIQRAE4QF21w39D2FLARBYKqqdSwCCQ1qPgRMD6C7oQlRkqTth9lBCIBnEABNMqhhGHj6wi16bEGm65chECiKG3q/e3Rz1LmzNBoEJv65G5rg2EHou7xSk1sCoLMgAJrkyiG9JEkFZVX6aMthLdleYHKLAN8xDENHKxyF0Ht2C5UkWRrdjSgG7c7ZA5iVX656xscBeAAB0CR3j03Smqeu0p0XJkqSlmUVmtwiwHfKq+tchaBjnQGw0ffJf+6SY8PVNcSmk7X1yi5iHiCAc0cANFFCdBd9L62vJGnFrkLVUuTVow4UndBuim37Jec2iBGhQeoS4twJhDowp2OzWpTa2zkMzDxAAOeOAGiyUf26q0d4iMqq6rThwHGzm9Np1NbbdftrazTxf1brk635kiS73dA/N+TqpSW7CNsmcwbAnhGhrmPWRvmPIeDmhsQ31A9lJTAADwgyuwGBzma16IrBPfX+pjx9mJknQ4Yu6ButbqH8rzkXuwrKdeyEY5HBY+9lalnWEe0prNC2hkn0STFddceYRDObGNCcATC2UQB0WwRC/msmKcZROSDnWKXJLQHQGdAD6AeuSY2TJC3ckKv/euMbzfh4u8kt6vgyc0skScE2i+rtht7PzHOFP0lasfuoSS2DJBVVNO8BdCsD4+sGdQDO0lEHCYAAPIBuJj9w+Xk91Se6i/JKTkqSMnNKzG1QJ7ClIQA+fFmKBvbqpsMlVeoSbFNCdJim/m2TVu0+qrp6u4JsfAYyg2sIuFvLAZAh4Ob69QiXJOUUnzC5JQA6AwKgHwgPDdKqX1yp7KIKXfPyKh08Vim73ZDVyqT49trcEABH9+uuqxt6WCWp3m4oumuwSiprtSmnRBcl9zCphYGtpTmADAGfWb+GIeDjlbUqq6pVZFiwyS0C0JHR/eEnbFaL+seEK9hmUU2dXYdLT5rdpA6rrKpW+446JsqPSIx2+57NatFlg3pKkhasz9H/+/d3Wr6LEjy+1rQGoOTeA8gYcHPdQoMUE+4omp1TzDAwgHNDAPQjQTarEhvm+Rwo4gbfXtsOlcowpL7du7hqzDV25RBHAPwgM09vrz2oh/66QZ9uy9dv/rNDP3png443LB6xU3DXa1peBdx4L2Be+5b0YyEIAA8hAPqZ/jGOeT4HmOfTbs7h35FNev+cLhvU07X/bHxkmOrshn787ibN+ypbS7Yf0Yz/7NAXO45o5IzP9b/L9vio1YGlxUUgjb5P/GtZUg8CIADPIAD6GVcALCIAttfZAmBMt1AtePhi/f2hsVr5iyt0ycAYSVJijy6yWhw9gz9+d6PKqur07jc5MuiN8ii73VBRwz7AsacZAuY1b5lrJTBDwADOEYtA/ExybMMQMD2A7ZaV79gpwbl/aktG9+vu+vP8H16ojQeOa3RSd720ZJfe/CpbtfWOAFJQVqV9Rys0sFeEdxsdQI5X1rj2s43pFuI6bnEbAvZ5szqEPt27SJLymSMM4BwRAP1M/1hHD2A2PYDtUlFdp0PHHb8cnTsnnE1okE3jB8ZKkp7IGKycY5WKCAvWoeOV+ib7mFbtLiIAepBzAUiP8BAFNynDY7E4VgAbDAK3qFdkmCSpsKza5JYA6OgYAvYzziHg3GMnXb0kaL1dBY69f3tFhKp7eMhZzm6uS4hNr987Rn/+/ghdndpLkrR6D0WjPamo3DH827OFBTquPkD+6beoV8OcycLyKpNbAqCjIwD6mYToLgqxWVVTb9fhEoZ52soZAAe3svfvTNIbysWs239M1XX15/x8cDha4QgvjReAODlXAvPZp2W9Ihw9gMUnalTHftYAzgEB0M/YrBYl9nDM82EeYNvtPuIIgK0d/j2TIfERiu0WqpO19dp0sOScnw8Orn2AuzXvoXVOA2QIuGUx4SGyWS0yDLkW0gBAexAA/VAy8wDbbWeBYwHI4PjIc34ui8WiSxtWCH+TXXzOzweHfYWOf9e9o7s0+55zNxAWAbfMarW4hs6PlDEMDKD9CIB+KKVnN0nSvsIKk1vSsRiG4RoC9kQPoHRqJ5Hv8so88nw4FaYv6t98Gz5nDyCFoE+vV6RzHiALQQC0X4cJgHPmzFFycrLCwsKUlpam1atXn/H8lStXKi0tTWFhYUpJSdHcuXPdvr99+3ZNmjRJ/fv3l8Vi0axZs7zY+rYZ2BAA9x4lALbF0fJqHa+sldUiDezVzSPPOayPo5TM9sOlHnm+QJdfelIHiitltUhj+ndv9n3XEDD577Sc8wBZCALgXHSIALhw4UJNmzZNzz77rDIzM5Wenq6JEycqJyenxfOzs7N1/fXXKz09XZmZmXrmmWf02GOPadGiRa5zKisrlZKSoj/84Q+Kj4/31aW0yoCG8LKXHsA22dnQ+9c/NlxhwTaPPGdq70hZLFJ+aZVr9wq03zf7j0lyBOuIsOBm37e47QeClrh6ACkFA+AcdIgA+PLLL+vBBx/UlClTlJqaqlmzZikxMVGvvfZai+fPnTtX/fr106xZs5SamqopU6bogQce0EsvveQ658ILL9SLL76oO++8U6GhzVcjmsnZe3WkrFplVbUmt6bjcBaA9tTwryR1Cw1SckNpnu2HGQY+V+v2O4Z/L06JafH7VoaAz4pSMAA8we8DYE1NjTZu3KiMjAy34xkZGVqzZk2Lj1m7dm2z8ydMmKANGzaottb/A1VUl2BXiQzmAbbetwccvUun2wKuvYY2DAN/l8cw8Lk6FQCbz/+TTu0GQv47PdcQMD2AAM6B3wfAoqIi1dfXKy4uzu14XFycCgoKWnxMQUFBi+fX1dWpqKio3W2prq5WWVmZ25e3DGIYuE3q7YbWZzsC4NjklnuX2mtYgmNFMfMA2+/Q8UrNWbG30fy/0wTAhv92tvznyXtHHItAAHiA3wdAp8b7hEqOFZ9Nj53t/JaOt8XMmTMVFRXl+kpMTGz3c52NcxiYhSCts7OgTGVVdeoWGqShCedeAqaxYa4eQIaA2+NfGw/pmpdX6k+f7ZIkpSV1V2QL8/+kzrsK2JP3jr7dHfuF7z9awW5BANrN7wNgbGysbDZbs96+wsLCZr18TvHx8S2eHxQUpJiY9vcOPf300yotLXV95ebmtvu5zsYZABkCbh3n4oK0pO4Ksnn2n7UzUOYcq1Rppf9PIfAnb6zaryf/uUVVtXaN6hetF24eqtfvGXPa8zvrELAn7x0De3VTeIhNJ2rqXYXPgc6usLyK2rge5vcBMCQkRGlpaVq6dKnb8aVLl2r8+PEtPmbcuHHNzv/88881ZswYBQe33PPQGqGhoYqMjHT78hZXKZjCCuWVnFTpSd8Gj6Pl1frHt7k6UV3n05/bXs7acqdbXHAuoruGqE9D0eJd/MJtk3fWHZQkTb18gP41dbzuG9//jHs0WzrpZsCevHfYrBaN7BctSdqUc9xDLQT806ac4yqprNH3XlurCbNWaR+jYh7j9wFQkqZPn64333xT8+fPV1ZWlh5//HHl5ORo6tSpkhyfru+9917X+VOnTtXBgwc1ffp0ZWVlaf78+Zo3b56efPJJ1zk1NTXavHmzNm/erJqaGuXl5Wnz5s3au3evz6+vJc4ewAPFlbrkD1/q3nnf+PTn/+rDbfrFoq2a9NoaHTpe6dOf3VZ2u6FvnPP/TrO44Fw5S/Ps5+bTavmlJ5VzzDHn76dXDZTNevbpF84zGNk8s9H9HDUU2aIQndnHWw7r9jlrdN2s1co5VqmaOrteX7nf7GZ1Gh0iAE6ePFmzZs3SjBkzNHLkSK1atUqLFy9WUlKSJCk/P9+tJmBycrIWL16sFStWaOTIkfrNb36j2bNna9KkSa5zDh8+rFGjRmnUqFHKz8/XSy+9pFGjRmnKlCk+v76W9IwIVfeup3ortxwqVUmlb/b+zCs5qaU7jkhy1NZL/9NyDX9uiZ7/aLtPfn5b7SmsUEllrbqG2DS8Yb6ep6U0bM/Hp8/Wcy7KGdYnSt1Cg1r1GGsnHQL2NFcApAcQnZRhGHrlS0eHTEGjbQ/fzzykglJKIHlC6+7KfuCRRx7RI4880uL33nrrrWbHLr/8cm3atOm0z9e/f3/XwhB/ZLFY9NIdI7Qp57j+tfGQjpRVKyu/XOMGeH6Is6n31ufIbkgj+kbJbkjb8kpVXl2nv607qGdvSFWwh+fYnasth0okScP7RHmtbc4ewH1HmYPSWs5e2Za2fDsd104gnWwI2NNGNQwBZxed0PETNWccVgc6oi93FjabctMzIlRHy6v1ybZ8PXhpskkt6zz86zc53FydGqefTxiiC/pGS3KsdPW2mjq7Fqx3TFB/+LIB+uinl+ibZ65WWLBVdXZDh46f9Hob2mrbIUd5lhEerv/X2ICejh5AhoBb75uGmn9j2zQv05EA7XYvNKgTie4aov4xjtXA26hPiU6morpOzzWMON0yMkHRXYN1fu9ITWkIfV/tOWpm8zoNAmAHkNrbMWF8Z773FyB8+l2+iiqq1TMiVBlD42SxWBQXGabkWP+dA7e14Regt4Z/JWlAw6KcnGOVqq6r99rP6SyOlldr39ETslikC1vY8/d0rPQAtprzgyEBEJ3N7z7ZoUPHT6pPdBf99tZhWvnzK7Xox+N12Xk9JUnr9h/jPuwBBMAOILVha7MsL/UAHjtRox2Hy2S3G5qzfJ8k6Qdjk9yGU51z4Pb72RBoTZ3dtQXcBX29FwB7RYSqW2iQ7IaUU+zfi2L8gXNXlsFxEYru2vrhSdcQMPnvrJz/3rc2TIEAOoMvdx5xjUK9dMcIRYQFK6pLsLqE2DQkPkKx3UJ1sraeBVAeQADsAIY09ADuKij3SuHX+9/6VtfPXq0fv7tRu46Uq1tokH44vr/bOSnOIVA/q8O0+0i5aursigwLUr8eXb32cywWi+s1YCHI2S3fWSip7WV5LGp/ofZA4+zxdk6BADq6iuo6Pf3+NknSA5ckN5vzbrFYdOlAx7HPvsv3efs6GwJgB5DUo6u6BNtUXWf3eCHM3GOV2pJbIklast2x8veecUmK6upeLzHFT+fAOYe/LugbfU67vLSGcxiYhSDNVVTX6cPMPC3elq+6eru+yHL8W8oY2nKx9tOxdtKdQLxhaJ8oWSzS4dIqHTVxW7hNOcf15ur9rtAPtNec5Xt1pKxaSTFd9YvrBrd4zqS0vpKkBetzlVfif3PSO5IOswo4kFmtFg2Oj9Dm3BLtLChz1Qj0hGUNv6ijugSr9GStugTbWlxdleKcA2hyD6BhGNpw8LiOn6hReGiQNhxwlMEY7sXhX6cB9AC26IPMQ3r6/W2qqnWs3PjxFQN0vLJW3bsGt2kFsNR5dwLxhm6hQUqJDde+oye0I79Ml0f09OnPL62s1S8WbXF9cLRapBVPXql+Md7riUfndbjkpN5cnS1J+tUN5yss2NbieZcOjNW4lBit3V+sV77co5m3X+DLZnYqBMAOIrV3pDbnlmjuyn36Lq9MP7osxSOlH5Y1fGr/yZUDNCQ+UlFdghXbLbTZeckN4edoebXKq2oVcZq9XD3p0235+p9le/TSHSM0rE+U7HZDT72/Vf/YcKjZuRd4cQGIUwo9gM0cP1Gj//fhdlXV2hURFqTyqjq9tsIxj/Sa1Lh2b8tH/mudgb26ad/RE8o+WqHLz/NdADQMQ9MWZmr5rqMKslpUZzdkN6TfL85Sau9I7T1aoYv6d1d5dZ3iIsJcvTbA6fzl62zV1Nt1UXIPXZPa67TnWSwW/fiKAVq7v1irdhf5sIWdDwGwgxjVL1oL1ufou7wyfZdXptV7jurvD12sqC7tD2IV1XVa11Cq4+rUONcQZ0siwxzBsKiiWtlFJ1wrEL2l3m7o959mKffYSc36Yo/euDdNz364Tf/YcEhWi6PkS35JlQrKqhQSZNXopNavNG0v5+uz94hjLmZrdrboLHKPVerN1fu1I79MhiHdeEFv3TQiQa+t2Kfy6jqd3ztSf5syVle8uFxlVY7tA68bFt/mn2NtyIsMAbdO/4bFWQd8vDBp/tcHtHzXUYUEWfWPH43T8coa3f+Xb/XZ9gJ9tt2xD/vHWw67zh+RGKWBvSJ82kZ0HGVVta6FHz++fMBZp/M4t0LMKzmpYydq1IM6mO1CAOwgbhvVR2HBNh0prdLclfu0/XCZbn31a12c0kOTRvfVmDYOtUnS6t1HVVtvqH9MV9cq3zNJ6Rmuoopq7T/q/QC4avdR5R5zzO/4cucR/d+q/VqwPldWi/Tfk0fqlpF9ZLcb2nyoRKFBVsVFhnm1PZJjCLhLsE0nauq172iFzosLnF9oL3y8XV9knZrjteHgcc34zw7XjfqXE4eoR3iIHrt6kH77SZa6hth0ycDYNv8c5yIQ8l/r9I9xvG89PTf4TL7LK9UfPs2SJP36hlSNTIyW3W5oSHyEdhaUa2xyD12U3EPLsgq1o2GF/r825umpiUN81kZ0LO+sPaiK6joN6tVNVww+e092ZFiw+sd01YHiSn2XV+oqD4O2IQB2EME2q24ekSBJunRQrO56Y52yi04ou+iElmUVat3TV8vaxh6pf250DKVenRrXqgUUA3qGa332MZ/MA/zbuoOSHGVB7Ib0h093SpJ+dvV5umVkH0mOuZHOLbF8Ichm1QV9o/RN9jFtzikJmAB4tLxay3c5Cq/+7rZhqq2z6/3MPG09VCoZhi4ZGKPLBjnC3r3j+utoRbWG94k67RyeMzn1z5AE2BrOAHig2HcB8JkPtqm23lDG+XH6wcWO7TitVov+/tDFOlxyUkMTImWxWPRExmB99l2+pv5tkz7IPKSH0pMV08L0EgS2iuo6vbHasb/vI1eevffPaVifKEcAPEwAbC9WAXdAqb0jtfTxyzVr8kh1DbGpsLy6zTUCN+Uc15c7C2WzWnT32H6teoxzCPTz7QWqqvVeEc7cY5X6cpejt+nJjFMrwZJjwzX1ihSv/dzWGNUQODNzA2cP1n9vzlO93dDIxGjdPTZJP7wkWR/99FJ9/dRVmn3XKL36X6NdN+2QIKuenpiqGy9IaNfPcu4F7IVqR51SckPP/aHjJ1Vb7/3tUwrLqrT1UKksFum3tw1z+2XdIzxEw/pEuR27akicuncN1pGyao39/TKt3M0ODnD39toDKqmsVXJsuG5qw31jWMO87+153t8hq7MiAHZQPSNCdeuoPhrfUCdp5e6jqrcbKqpoXTmI/166W5J0+6g+rsUNZ3PLyD7qER6inQXl+uNnO9vX8Fb4aMthGYY0fkCMHr4sRX2iu0iSZtwyVKFBbe9V8qSRDdvNZeaUmNoOXzEMQ/9q6Cn+XpOJ/H2iu+jmEQltKvR8Ns7owBBw68RFhqpLsE31Ptqm8au9jkn3wxKi1Cvi7NMuQoKs+v1tw5UU01V1dkOLt1K7DaecqK7TG6scvX+PXjWwTYvGhiU4AuCWQyUyuGG0CwGwg3Ou/Fu566geXbBJF/3uC208eObeqcyc41q9p0jBNoseu3pQq39Wz4hQ/fmOEZKkv3x9QF/t8cwKrCNlVTpSVuXa2mdJwyTym0YkKNhm1XsPX6wPHhmv9EHmd/OPaph8vPtIuSqq68xtjA98e+C4dhaUKyTI2qZP5+3m2gmEG3prWCwWJTWUXTngg6kZzgB46aDWz++cOLy3fn3D+ZIcIw+A3W4o91ilZn6apeOVteof09U1xam1LkiMUliwVYeOn9R/+GDRLgTADs459+Gb7GNavK1AdsNRl+1MnKv0Jg7rrcQ27p5x5ZBeunecY97Pbz/Zcc47k/x1zQGN/f0yjf39Ml342y+0es9R1xDTtec7iggn9ujqGno1W1xkmPpEd5Hd6LxbcP11zQHd/eY6zf8qWz96Z4Mkx6rfpsXBvYEh4LZzDgN7uz5ldV2960PfpW1c4OP84LSnsEKllbWebho6kK2HSpT+p+VK/9Ny/W1djiTp0asGtblkVGRYsH58+UDH4xdk6vr/Wa21+4o93t7OjADYwSXFhKt/k8KrX2YVnrEHZcVOxzyca85v2y4NTtOvPU+RYUHaWVCu9zedOWyezeJtpz65lVXV6eG3N0qSLkzq0WI9Qn/gHAbe3LCDSmdSW2/Xi0t26eu9xZrxnx06XlmrEYnRmnHLMJ/8fNcQMItAWi21YatIb/57rKqt1z1vrldhebUiwoKU1saySzHdQl33qXOdP3u0vNp1f9ucW6JPt9H70xF8kHlII2d8rtvmrFFeyUkF2ywamRitP04arttH92nXc/7o8hRXD/iO/DLdN3+95n2V7ZP5sJ0BAbATcA4D9+3eRV2CbTpcWuUqv9BUXslJ7TpSLqtFrpWbbRXdNUQ/udLxyevp97cp9def6dkPtrX5eWrq7K5fWm/df6HCgq062bC4ZEI7asj5irM347PvCjrdUOXm3BJVVNcpPMSmXhGhGtE3Sn+9/0J1C/VNwQDLqQSIVrqwoQTUtweOee3f478352n9gWOKCA3S3B+ktWuFt7NW55LtBcoprtT/+/d3uuXVr/VB5qFW/cI2DEMvfLxdF/7uC/3l6wMqqqjW3W+s04/f3aRvDxxrc3vgO5U1dfrdJ1kqqaxVvd1Q+qBYbfr1tfrwJ5do8oX92r2NZ1iwTf/+ySX619Rxum5ovGrq7frNf3bohtmrdbLGewsVOwsCYCfw8OUDdPOIBM25e7Rrbs4XO1rel9O5X+foft3PafL+feP7Kzk2XHV2Qydr6/X39Tk6dLxtxWi3Hy5VdZ1d3bsG6/LzeupnV5/n+t6ENu4h60u3jOyjsGCrth4q1fJdnWv/09UNQ3xXDuml9c9eow9/colHF3mcDUPAbTeqX7SCbRYdKat21c70NOccq6lXDGhXfUfp1LDxgvW5uuzF5Xp77UFtyS3R4wu3aPwfvtTdb67T22sPnDbEzlmxT3/5+oAk6ZXle/XKl3t1ouGX/IL1Oe1qE3zj7bUHVVRRo8iwIC174nK9/cBFHttNKrpriMb076E5d4/W728brh7hIRrRN1pdQsxdMNgRUAewE+gT3UWz7xolSbomtZeW7jiiZTuP6GfXNF/gsaIhsFw55PRb7bRGWLBNHz96qQ4dr9Rz/96ub7KP6V8bD2naNeed/cENnPv4piX1kMVi0ZT0ZGUXVSguMkx9u/vvfqI9I0J177j+en3Vfs36Yo+uHNyr3Z9g/c1XexzTA9IbPkiYdV0MAbdeWLBNw/tEaVNOidYfOObxvXiPn6jRmoa5VdcP793u57ltVB8VVVTrL18fUHFFjQY2FP39x4ZcHS2v1tHyan29t1jvrD2ogrIqDerVTZFdgnXD8N7KGBqvOcv3up7r2IkavbXmgOvvi7fl67mbhp7Tzkjwji25Ja6qE7+68fwz7jh1LqxWi/5rbD/dMLw3Owm1Ej2AncxVQ+JksUhbD5U2mxBbVOG4wUrSlYPPLQBKjs3oh8RH6r8a6gj+c8Mh2dvQdeMctrmwv2NoKNhm1Z++N0JPNKr9569+dFmKuobYtPVQqb7c6V+9gNV19fpka77Kq9o22b6sqlZbDpVKki41acW1M3By/26bC5Mdw8Drsz07Cd4wDM1ZsVf1dkPn9450LThpD4vFoocvG6C1T1+t3b+bqMU/S9cvrhuiNU9drXcevEg/uXKAJMdCkfKqOm3KKdGKXUf1839t1YgXPteJmnoNjovQfQ2L0CRHpYDBcRGqqrXr35vzzvl64Vn1dkOPvLtJ1XV2XTm4pyaN9v6e0FFdg9WdreFahQDYyfSMCNWdFyZKkqb/Y7MOFp/Q/qMVstsNPf/Rdp2srdfQhEil9vbcLhYThsYrIixIeSUntXZ/634BGYbhKlfTnm3szBbTLVT3NOyC8OryvX41F/DddTn6yd836Yd/+dZtbtWJ6joVVVS7yu00tXZfserthlJiw121F33NuZkNn+DbZvwAR4/tqt1FHv23+MLHO/TG6mxJ0n3jk85ydvuEBFmVPqinfj5hiGbfNUq/vG6I/v2TS/S/d43Sz64epJBGq0MfuixFD17qmPh/77gk/ff3R+jOixz3uwXrc/3qfQhpT2G58kpOKjzEptl3jQqo/dM7AoaAO6Ff3XC+1u0/puyiE7r8xRWSpN5RYcovrZLNatEfJ13g0aG9sGCbbhmZoL+ty9HCb3NbNUcou+iEik/UKDTIqmF9Ij3WFl968NJk/eXrA9qUU6JvDxzXRcmnguz8r7L17jcHdcXgXvrBxUnn1HPSVusaQvjGg8f18tLd+uV1Q7TnSLlueuUrVdXaFWS16M/fH+HaUs/p8+1HJLWtxpunOf9Z8mu8bcYm91BYsFUFZVXKyi/X+Qnte0/V2w3N/ypb4wfGaNPB43przQFZLNJvbhmmyRe2bsegc9G4FtyIhtX2t43qo9dW7JPdMHTziASFBFm18udXus67bVQfzfx0p7Lyy7Qtr9Tr+5Sj9ZwF80ckRntszh88hx7ATig8NEj/c+dIhTdMgg2xWZVfWiVJeviyFNcWOp70/TGOT+FLtheo9OTZhx6dk8pH9Ys2fXeP9uoVGaZJDbtjzPpit/YfrZBhGMorOak/fLZT+46e0LyvsnX7nK/PufZZZY170emq2np9seNIs2LUhmG4lQN5bcU+fb23SK8u36uqWkdvYJ3d0PyGyfROxRXV+njrYUnSLSN9UPD5NCwiAbZHWLBNlzT0Ap7LwqTF2/L1u8VZumH2V/rNJ1mSpF9MGOLa89cM/WPD9cfvXaAX7xihkKDmv7Kiu4ZoYkPVgPc3MQx8JodLTnq0XuSBohOa+s5GPbVoq95YtV9ZTapPZDYU/nZWToB/oQewk7qgb7Q2/vpaWS0W1dsN/WfrYRWWV2tKerJXft7wPlEaHBehXUfK9fGWw2f8hVFVW6+31x6QJN11kfd7FbzpR5elaOG3OVqzr1hX/XmlRiZGKy4yVDV1dg3vE6XiimodLq3Syj1H21zpXnLsvfqLRVu1ek+Rnr95qH4wtp8WbcrTS0t2qaCsShen9NCChy529ejml1apsLxaNqtFt47so0WbDunJf25RYblji8C/3H+hHnzrW23JLVHusUpXIfD3vs1VTZ1dF/SN0mgTi24zBNx+Vw7ppWU7C7V8Z6GrTFNbNd7dp6bOrsvP66mpl5u7/3ZrZJwfr39vPuzq/UZzdfV23TF3rYoqqvX545cpKebcRiVq6+16dEGmtuWVuo51DbFp3TNXK7Kht8/5YXRkon8U8oc7egA7sbBgm0KCrOoSYtMdYxL1kysHeq23zWKx6I4xjt6wf27IPeO5H2bmqaiiRn2iu5zTqkJ/0D82XC/cPFQj+kYpJMiqzbklWtIwlPrCLUN1U0Nv2vI2LhSpqK7T66v2acKsVVqxy7HP8/Mfbdf9b32rJ/+5RQVljh7ddfuP6YPMU70ezhvukPgIvXDLUPWJ7qL80ipX7a0rB/fSxSmO/aM/2Zav/Ucr9NGWw3pn7UFJ0v2X9Dd3RTOLQNrNubJ/U85xHT9R0+rHFZZXaW+ho1eocZHmriE2/fbWYR1ihbtz+sWuI+UqqWz9tQeSzNwS5ZWcVHWdXX9bd/Ccn+/Pn+/WtrxSRXUJ1qNXDVRcZKgqa+o17b3NuvbllVq3v1h7Gv5dOYvnw78QAOExt47qoyCrRVsOlWpnwekLUb+2cp8kR9gIbuP2P/7onnH99e+fXqpl0y937cpw3dB4je7X3bXaesWuwlZvm3eiuk43zl6t3y/eqeOVtUrtHanrhsar3m5oxa6jslkt+vmEwZrWUOZnxn926K7X1+nRBZn6pqEHZGRitLqFBul3t53awePHVzhWWd5wgSN0v7l6vzL+e5UeW5CpgrIqxXYLNT2QUwe6/fpEd9HguAjZDWlVQzmfsymvqtVN//uVrnl5pf532R7tPuL4hT3vvjH64JFL2rxVpFl6RoQqpWe4DMOxfzWa+yLriOvPC7/NbVeh5LKqWh0/UaM5K/ZqbsN9/Le3DtMTGYNdc0S/3FmoPYUV+sm7m2QYUr8eXdUzwj93dQp0DAHDY2K7hera8+P06XcFeuXLvXrlv0a7fX9Z1hFNe2+zyqvrFBMeoskNq5U7i8QeXfX+j8fr671FroUUaUndFREWpOOVtdqcW9KqLbQ+2nJYB4orFdstRL+4bohuG9VHdsPQj97ZqKz8Mv35jpG6dFCsaurs+s/WfO0trHCtvnZ21jgn0F8xuJd+d9swnayp17iGnr/rhsbr//17u4oqHD0lw/pEKi4iTHdf3M/0+ZgMAZ+bK4f00q4j5Vq+s7DZIp+WvLFqv46UOaYH/LmhVtuAnuG6OtV/C7GfztjkGO0/ekLrs4td+4jjlC+zHKMQVotj2813vzmoq1PjFBcZqq4hZ44ChmHo/1bt14tLdrl9kH38mvN0U8PUlhuG99bsZXtc3ytu6IXubPf5zoQACI/66VUD9el3BfrP1nw9ckWZazViXb1dT7+/TeXVdRrVL1p/vmNEp1wV1iXE5rbHcrDNqsvO66lPtuZrxa5CtwC472iFbBaL+jdZIezc1eDhy1Jci2sk6S8/vFCG4Sh4KjnKZ7x57xh9vOWwDEkvL93tGjod1WjI5e6x7vMxY7qFasJQR1D/+YTB+vHlA/xmmI86gOfmqiG9NHflPq3YfVR19XYFnaGH/bu8UleJlyHxEdpZUC5JGjcgxidt9bSxyT20YH2O1mf7fls4u91wvS/90f6jFdpTWCGb1aKnrhui3y3O0m8/cXxFhgXpp1cN1EPpKc3uA//YkKsdh8tksci1C4skRXUJ1hMZ57lKYUnSeXHddH7vSO3IL1N8ZJgKyqrUNcSmH4w1bwERzowACI8amhClGy7orU+25uvPn+/SvB9eKEn6el+xCsur1b1rsN57+GLTe5p86arBvfTJ1ny9teaABsdH6KL+PTT/6wP6v1X7FBEapNW/uEpRXR1h+Lu8Um09VKoQm7VZ0VSLxaKmOa1/bLgevdoxFHykrErvfpOjiNCgs1bbn33nKJWcrFVsN/8amjl1eSTA9hjdL1rduwbreGWtVu8pOu2OP7nHKnXPvG90srZelwyM0d8eHKs9hRX6cmehJo/pmD02zg9XO/LLVFVb3679itvj+Ika3fzqVwqxWTW6X3dtOVSivt276pnrh2hgL8/VWz0XCxvmZacPitUDlybrXxsPadcRR+Avq6rT7xfvVG294bZ4aOuhEv1y0Va3D2PP3XS+bh/dV10a5pc3ZrFY9Nb9Fyq/tEqlJ2v1w7+s148vH+C6t8H/EADhcdOvPU+fbsvXsp2FenX5Xv3kyoFatPGQJEedr0AKf5Jjzt3f1+do48Hj+unfM92+V1ZVp0+25bt2U3Gujp4wLF4xbQxnz96QKrvhKLlwtt6IIJvV78KfxF7A5yrIZtVto/pq/tfZWrA+57QB8PmPtut4Za2G94nS3B+kyWKx6Ly4CJ0X5x+BpT36du+i2G4hKqqo0fbDZa2abnEujpZX69Pv8lXYaA/mfUdPSJJ2H6lQ3vGT+s9jl5o+z7mmzq5/bXDcf//ron6yWS16efIIzV62R98fk6hdR8r1p8926cUlu7Tx4HH169FVZVW1Wp99zC38PXrVQN1/yZmrSPSKDFOvyDBJ0o4Z1ym0hbI98B8EQHjcgJ7d9Mz1qfrtJ1l6cckuHTtRoyXbCyRJt/tgKyB/ExZs03sPX6z/Xrpb877KVk29Xb0jwzS8b5SWbD+iDzIP6a6LEvXKl3v1j4Yb9d1j214ep2tIkGbePtzTzfctZxlAAmC73XVRouZ/na1lOwtVWFbl+oXs5PxwFmS16L8nj+w0UzEsFotGJkbri6zCVs+3ba+yqlrd/eY616IZyVFv9erUXrp5RIKe+WCbdh0p11/XHNCUdHPL6KzYVajiEzXqFRGqqxo+EAxNiNL/3TNGknR1apysFoteXLKr2baWEWFB+uTRdJVX1+r83m0rLu6rHli0HwEQXjElPUVlVXWavWyP5n3lmGc0sFc3XdDX80WoO4Jgm1W/uG6InswYLIvF8cuqoLRKn+84om8PHNcT/9ii9xvKuTxx7XmuUi2B5tQqYBJgew2Ki9DoftHalFOiT7blu3pt1uwr0spdR/XWmgOSpAfTkzWw15mnCnQ0o/p11xdZhcrMOa4PM0O0Ylehnr4+VXFNQnB75ZWcVLDNop//c6tb+JOkjb++xhWmS0/W6qn3t2n2sj26Iy3R1GHQ7xrq9F05uNdp54ROvXyA0gfFasl3BaqzG4rqEqzuXUOU1r+7+sV0jJXgaDsCILzm8WsGaUh8hOZ/la0NB49rqh8tNjBL46HZ+KgwXTowVqv3FLnC369uSDW9x8BMDAF7xg0XJGhTTok+3Vag+y9J1oGiE/rh/G9V07A39DWpcXoyY7DJrfQ8Z725/2zNd+02JEmz7hzV6uc4XHJSP/7bRp0XF6Hf3TbcNddt26FSTXptjWrtdhmGFBZs1fRrz9PsZXt177gkt57UO8Y4emF3H6nQ/63ap19cN8QzF9gOzrl+g+PPPLw/NCFKQxMC8wN6oCIAwmssFouuH95b1w/vrdp6u+lzYfzRpNF9tXpPkcKCrXr5+yNNr8NnNtdewIwBn5PrhsXrN//ZofUHjunxhZv14eY8GYaj5M/3RvfVnRf165Tvx5GJ0YruGqySRlsvfrTlsB69etAZF0btP1qh3UcqdHVqLz26IFNbDpVqy6FSVdXZNfvOkbIb0rMfbnMFaEmaNXmkrhvWW1MuTWk259ZmtejJjMF6+J2NemftQT2RMVg2k1YJ7ypoXQBE4CEAwic64y8bT7h5RIJq6u0alRitQR14Ar6nBHgHscf0ie6iEX2jtOVQqWunmBCbVbPvHKWUs6wQ78jCQ4O0bPrlyi46objIML3w8Q59kXVEb67O1pT0ZJVU1mpE3ygF2ayqrbdrV0G5ik/U6NG/b1JZVZ2uGtJLGw8eV7fQIFXV1uvjLYf16FUDtaugXFsPlSoiLEgv3TFCsd1ClJbk2H3kdAuurkmNU0RokMqr67T7SLmrSLwvnayp18FjlZLUoRf4wDsIgICJrFaLW62/QHdqCJgewHM19fIBeur9bbp0UKz6RHfRxSk9OnX4c4rpFupaQX//Jf31RdYRfbL1sD7MzNPJ2nolxXTVkxmD9et/f+fWUyjJtQjiF9cN1rKsQq3cfVQrdhUqM6dEknTvuCRNGBrfqnZYrRaNSIzWV3uLlJlTYkoA3FtYIcOQeoSHKLZbiM9/PvwbARCA3yH/nbuJw3trYoBPKRib3MNVF9HpYHGlHl3gKMcUGRYkm9WiYJtVheWOHVGiuwbre2l9VW83tHL3UX32XYGy8h3DqBOHte31HNXPEQA35Rx3lXryJdf8v7iIgJ9/jeYYlwPgN9gJBJ4UZLO69dj97OpBrmkGsd1C9NVTVynz/2Vo/bPX6PrhjvPuHttPXUOCdEXDPt6bckp0srZeCVFhGprQtl68Uf2iJUmZOebsT5yV79iT/by4zt/zi7YjAALwG+wFDE9z7ok8oGe4fnb1IN0/3lEW59c3nq/IRit3Z952gf58xwj97OrzJEnJseFKbrRNY8bQ+Db3oo1MdNQi3Hf0hNY17Nddbzd0sqbeJwudnNvijern3aLY6JgYAgbgN07VAQQ8Y9yAGP39obFKjg2X1WrRr29M1SNXDmi2E05U12BNSnMvVP/SHRdo0aY8BVkteuTKAW3+2T3CQ3RxSg+t239Md72xTs/fNFT//cVulVTW6qLkHrpkQKzezzyk1+8Z4/FVuqWVtfrusKMGYEfd3xneRQAE4DdcPSwkQHjQ+AGxrj9bLJZWb4OYltTDtdq3vd64d4ye/OcWLdl+RM99tN11fH32MVcP3avL92r2Xa2vVdga32QXyzCklJ7hHiuEjc6FIWAAfsPZA8gQMDqLiLBg/fbW4QoLPvXr9g+3D1dIo9JYn+8oUOnJ2pYe3m5r9jmGnMfT+4fTIAAC8BuuRSAmtwPwpJ4RobpvXH9J0vfHOApxL/zRxXr5+yM0qFc3VdXaNeKFz/XEP7bIMAzZz3ErnOq6en32nWP/9ca9n0BjDAED8BundgIxtx2Ap/18wmCNTemhSwY6Atmoft01ql93VdXa9cwH2yRJizYd0srdR2UYhv76wEUa1qd9W7P9c8MhFZRVKT4yTFen9vLYNaBzoQcQgN9gCBidVZDNqquGxCk0yOZ2/K6LEvXZtHT9+sbzJUlFFdUqPlGjH/7lW+0trGjzz6m3G5q7cp8kaerlKc1+HuBEDyAAv2FlCBgBxmKxaEh8pIbERyq6S7BO1NRpwfpcZeWX6fY5X2veDy/Uhf1bvxBl1Z6jOnT8pKK7BuvOi3xffBodBz2AAPyGq8waPYAIQJPS+urecf31zoMXKS2pu8qq6jT1nY36Zn9xqxeJLFyfK0m6fVRfhQXT+4fTIwAC8BtUgQGk2G6henfKWJ3fO1LFJ2o0+fV1Gj9zmb7ceeS0jzEMQ+9vOqQvshznTL6QPcZxZgRAAH7DuQr4XFdBAh1dWLBNr/1gtFJiwxURFqQTNfV66O2N2ltY3uL5H205rOn/2KI6u6GrhvTyeGFpdD4EQAB+g51AgFOSYsL15ZNXaNOvr9W4lBjV2w19vCW/2Xl2u6HZy/ZIku4dl6T/uyfN101FB0QABOA3XHUASYCAS7DNqttHO/Y0XrrDfRh4c26JHnsvU/uOnlBEWJB+PmGwgm38asfZsQoYgN+wNnQBUgYGcHd1apysFmlHfpn2FlYoPipMuwrK9IM31+tkbb0kR+9fRFiwyS1FR0EABOA3LGc/BQhIPcJDNCaph9YfOKZrXl7p9r2L+vfQ9y9M1I0X9DapdeiI6CcG4DcYAgZO72fXDFJKz3C3Yxcl99Ab947R99Io+4K2oQcQgN+wMAQMnNYlA2P15RNXqKK6TlaLFBZkk9VKvznahwAIwG9YxE4gwNl0C+VXN84dQ8AA/IarEDQJEAC8igAIwG+wChgAfIMACMBvWFgHDAA+QQAE4DdODQHTAwgA3kQABOA3XHsBk/8AwKs6TACcM2eOkpOTFRYWprS0NK1evfqM569cuVJpaWkKCwtTSkqK5s6d2+ycRYsW6fzzz1doaKjOP/98ffDBB95qPoBWYBEIAPhGhwiACxcu1LRp0/Tss88qMzNT6enpmjhxonJyclo8Pzs7W9dff73S09OVmZmpZ555Ro899pgWLVrkOmft2rWaPHmy7rnnHm3ZskX33HOPvv/97+ubb77x1WUBaMI5A9CgEAwAeJXF6ACTbcaOHavRo0frtddecx1LTU3VrbfeqpkzZzY7/5e//KU++ugjZWVluY5NnTpVW7Zs0dq1ayVJkydPVllZmT799FPXOdddd526d++uBQsWtKpdZWVlioqKUmlpqSIjI9t7eQAa/PrD7/TOuoN67OpBmn7teWc9v6O+Bztqu4HOgvdgB+gBrKmp0caNG5WRkeF2PCMjQ2vWrGnxMWvXrm12/oQJE7RhwwbV1tae8ZzTPackVVdXq6yszO0LgOc4h4CXfFegae9lam9hubkN8hDuHQD8jd8HwKKiItXX1ysuLs7teFxcnAoKClp8TEFBQYvn19XVqaio6IznnO45JWnmzJmKiopyfSUmJrbnkgCcRveuIZKkXUfK9eHmwzpaXmNyizyDewcAf9Nh9pNxrg50Mgyj2bGznd/0eFuf8+mnn9b06dNdfy8rK+NGDnjQg+nJiosMU2VNnSQpKaaryS3yDO4dAPyN3wfA2NhY2Wy2Zj1zhYWFzXrwnOLj41s8PygoSDExMWc853TPKUmhoaEKDQ1tz2UAaIXIsGD919h+ZjfD47h3APA3fj8EHBISorS0NC1dutTt+NKlSzV+/PgWHzNu3Lhm53/++ecaM2aMgoODz3jO6Z4TAACgs/D7HkBJmj59uu655x6NGTNG48aN0+uvv66cnBxNnTpVkmN4JS8vT2+//bYkx4rfV155RdOnT9dDDz2ktWvXat68eW6re3/2s5/psssu0x//+Efdcsst+ve//60vvvhCX331lSnXCAAA4CsdIgBOnjxZxcXFmjFjhvLz8zVs2DAtXrxYSUlJkqT8/Hy3moDJyclavHixHn/8cb366qtKSEjQ7NmzNWnSJNc548eP13vvvadf/epX+vWvf60BAwZo4cKFGjt2rM+vDwAAwJc6RB1Af0UdIcBcHfU92FHbDXQWvAc7wBxAAAAAeBYBEAAAIMAQAAEAAAIMARAAACDAEAABAAACDAEQAAAgwBAAAQAAAgwBEAAAIMAQAAEAAAJMh9gKzl85N1EpKyszuSVAYHK+9zrahkbcOwBzddR7hycRAM9BeXm5JCkxMdHklgCBrby8XFFRUWY3o9W4dwD+oaPdOzyJvYDPgd1u1+HDhxURESGLxXLa88rKypSYmKjc3NyA3XPQW3htvacjvLaGYai8vFwJCQmyWjvOjBbuHS3jejs/f7nmjnrv8CR6AM+B1WpV3759W31+ZGRkwLzJfY3X1nv8/bXtiJ/euXecGdfb+fnDNXfEe4cnBWbsBQAACGAEQAAAgABDAPSB0NBQPffccwoNDTW7KZ0Or6338NqaL9D+H3C9nV8gXrO/YhEIAABAgKEHEAAAIMAQAAEAAAIMARAAACDAEAABAAACDAHQB+bMmaPk5GSFhYUpLS1Nq1evNrtJHcrzzz8vi8Xi9hUfH+/6vmEYev7555WQkKAuXbroiiuu0Pbt201ssf9atWqVbrrpJiUkJMhisejDDz90+35rXsvq6mo9+uijio2NVXh4uG6++WYdOnTIh1cRGDrrfSMQ3s+B9j472/X+8Ic/bPb//OKLL3Y7pyNdb2dBAPSyhQsXatq0aXr22WeVmZmp9PR0TZw4UTk5OWY3rUMZOnSo8vPzXV/btm1zfe9Pf/qTXn75Zb3yyiv69ttvFR8fr2uvvda13ypOOXHihEaMGKFXXnmlxe+35rWcNm2aPvjgA7333nv66quvVFFRoRtvvFH19fW+uoxOr7PfNzr7+znQ3mdnu15Juu6669z+ny9evNjt+x3pejsNA1510UUXGVOnTnU7NmTIEOOpp54yqUUdz3PPPWeMGDGixe/Z7XYjPj7e+MMf/uA6VlVVZURFRRlz5871UQs7JknGBx984Pp7a17LkpISIzg42Hjvvfdc5+Tl5RlWq9X47LPPfNb2zq4z3zcC7f0caO+zptdrGIZx3333GbfccstpH9ORr7cjowfQi2pqarRx40ZlZGS4Hc/IyNCaNWtMalXHtGfPHiUkJCg5OVl33nmn9u/fL0nKzs5WQUGB22scGhqqyy+/nNe4jVrzWm7cuFG1tbVu5yQkJGjYsGG83h4SCPeNQH4/B+r7bMWKFerVq5fOO+88PfTQQyosLHR9rzNeb0dAAPSioqIi1dfXKy4uzu14XFycCgoKTGpVxzN27Fi9/fbbWrJkid544w0VFBRo/PjxKi4udr2OvMbnrjWvZUFBgUJCQtS9e/fTnoNz09nvG4H+fg7E99nEiRP17rvv6ssvv9Sf//xnffvtt7rqqqtUXV0tqfNdb0cRZHYDAoHFYnH7u2EYzY7h9CZOnOj68/DhwzVu3DgNGDBAf/3rX10TiXmNPac9ryWvt+d11n/TvJ8dAul9NnnyZNefhw0bpjFjxigpKUmffPKJbr/99tM+rqNeb0dBD6AXxcbGymazNfsEU1hY2OzTH1ovPDxcw4cP1549e1yrB3mNz11rXsv4+HjV1NTo+PHjpz0H5ybQ7huB9n7mfSb17t1bSUlJ2rNnj6TOf73+igDoRSEhIUpLS9PSpUvdji9dulTjx483qVUdX3V1tbKystS7d28lJycrPj7e7TWuqanRypUreY3bqDWvZVpamoKDg93Oyc/P13fffcfr7SGBdt8ItPcz7zOpuLhYubm56t27t6TOf71+y7TlJwHivffeM4KDg4158+YZO3bsMKZNm2aEh4cbBw4cMLtpHcYTTzxhrFixwti/f7+xbt0648YbbzQiIiJcr+Ef/vAHIyoqynj//feNbdu2GXfddZfRu3dvo6yszOSW+5/y8nIjMzPTyMzMNCQZL7/8spGZmWkcPHjQMIzWvZZTp041+vbta3zxxRfGpk2bjKuuusoYMWKEUVdXZ9ZldTqd+b4RCO/nQHufnel6y8vLjSeeeMJYs2aNkZ2dbSxfvtwYN26c0adPnw57vZ0FAdAHXn31VSMpKckICQkxRo8ebaxcudLsJnUokydPNnr37m0EBwcbCQkJxu23325s377d9X273W4899xzRnx8vBEaGmpcdtllxrZt20xssf9avny5IanZ13333WcYRutey5MnTxo//elPjR49ehhdunQxbrzxRiMnJ8eEq+ncOut9IxDez4H2PjvT9VZWVhoZGRlGz549jeDgYKNfv37Gfffd1+xaOtL1dhYWwzAMX/c6AgAAwDzMAQQAAAgwBEAAAIAAQwAEAAAIMARAAACAAEMABAAACDAEQAAAgABDAAQAAAgwBEAAAIAAQwAEAAAIMARAAACAAEMABAAACDAEQAAAgABDAAQAAAgwBEAAAIAAQwAEAAAIMARAAACAAEMABAAACDAEQAAAgABDAAQAAAgwBEAAAIAAQwAEAAAIMARAAACAAEMABAAACDAEQAAAgABDAAQAAAgwBEAAAIAAQwAEAAAIMARAAACAAEMABAAACDAEQAAAgABDAAQAAAgw/x9kcop+RfMIQAAAAABJRU5ErkJggg==' width=640.0/>\n",
       "            </div>\n",
       "        "
      ],
      "text/plain": [
       "Canvas(toolbar=Toolbar(toolitems=[('Home', 'Reset original view', 'home', 'home'), ('Back', 'Back to previous …"
      ]
     },
     "metadata": {},
     "output_type": "display_data"
    }
   ],
   "source": [
    "_,axs = plt.subplots(1,2,sharey=True)\n",
    "\n",
    "for i,p in enumerate(mean_posterior):\n",
    "    axs[i].plot(p)\n"
   ]
  }
 ],
 "metadata": {
  "interpreter": {
   "hash": "cce1618081139d19eb1ee8d40815d94a2de4f62e1efb20d9406ddb60628c36ae"
  },
  "kernelspec": {
   "display_name": "Python 3.10.2 ('data_analysis')",
   "language": "python",
   "name": "python3"
  },
  "language_info": {
   "codemirror_mode": {
    "name": "ipython",
    "version": 3
   },
   "file_extension": ".py",
   "mimetype": "text/x-python",
   "name": "python",
   "nbconvert_exporter": "python",
   "pygments_lexer": "ipython3",
   "version": "3.10.2"
  },
  "orig_nbformat": 4
 },
 "nbformat": 4,
 "nbformat_minor": 2
}
