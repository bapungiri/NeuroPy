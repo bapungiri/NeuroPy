{
 "cells": [
  {
   "cell_type": "markdown",
   "metadata": {},
   "source": [
    "### Imports"
   ]
  },
  {
   "cell_type": "code",
   "execution_count": 1,
   "metadata": {},
   "outputs": [],
   "source": [
    "import matplotlib.pyplot as plt\n",
    "import numpy as np\n",
    "import subjects\n",
    "from neuropy import plotting\n",
    "from neuropy.utils import signal_process\n",
    "from neuropy.analyses import Pf1D\n",
    "from neuropy.analyses import Decode1d\n",
    "from tqdm.notebook import tqdm\n",
    "from neuropy.core import Epoch\n",
    "from neuropy.utils.mathutil import min_max_scaler\n",
    "import pandas as pd\n",
    "from time import time\n",
    "from numba import jit,njit\n",
    "\n",
    "\n",
    "sessions = subjects.nsd.ratUday2\n"
   ]
  },
  {
   "cell_type": "code",
   "execution_count": 2,
   "metadata": {},
   "outputs": [],
   "source": [
    "for sub, sess in enumerate(sessions):\n",
    "    maze = sess.paradigm[\"maze\"].flatten()\n",
    "    post = sess.paradigm[\"post\"].flatten()\n",
    "    neurons = sess.neurons.get_neuron_type(neuron_type=\"pyr\")\n",
    "    pos = sess.maze\n",
    "    # pos.t_start = pos.t_start - 0.5\n",
    "    # run = sess.run\n",
    "    pf = Pf1D(\n",
    "        neurons=neurons,\n",
    "        position=pos,\n",
    "        speed_thresh=5,\n",
    "        sigma=4,\n",
    "        grid_bin=2,\n",
    "        # epochs=run,\n",
    "        frate_thresh=1,\n",
    "    )\n",
    "    pf_neurons = neurons.get_by_id(pf.neuron_ids)\n",
    "    epochs = sess.pbe.time_slice(post[0]+500, post[0] + 1000)\n",
    "    decode = Decode1d(\n",
    "        neurons=pf_neurons,\n",
    "        ratemap=pf,\n",
    "        epochs=epochs,\n",
    "        bin_size=0.02,\n",
    "        decode_margin=15,\n",
    "        nlines=8000,\n",
    "    )"
   ]
  },
  {
   "cell_type": "code",
   "execution_count": null,
   "metadata": {},
   "outputs": [],
   "source": [
    "@njit\n",
    "def _decoder(spkcount, ratemaps):\n",
    "    \"\"\"\n",
    "    ===========================\n",
    "    Probability is calculated using this formula\n",
    "    prob = ((frate)^nspike) * exp(-tau * frate)\n",
    "    where,\n",
    "        tau = binsize\n",
    "\n",
    "    ===========================\n",
    "    \"\"\"\n",
    "    tau = 0.02\n",
    "    n_positions, n_time_bins = ratemaps.shape[1], spkcount.shape[1]\n",
    "\n",
    "    prob = np.zeros((n_positions, n_time_bins))\n",
    "    for i in range(n_positions):\n",
    "        frate = (ratemaps[:, i, np.newaxis]) ** spkcount\n",
    "        exp_frate = np.exp(-tau * np.sum(ratemaps[:, i]))\n",
    "        prob[i, :] = np.prod(frate, axis=0) * exp_frate\n",
    "\n",
    "    # old_settings = np.seterr(all=\"ignore\")\n",
    "    prob /= np.sum(prob, axis=0, keepdims=True)\n",
    "    # np.seterr(**old_settings)\n",
    "\n",
    "    return prob\n",
    "\n"
   ]
  },
  {
   "cell_type": "code",
   "execution_count": null,
   "metadata": {},
   "outputs": [],
   "source": [
    "tic=time()\n",
    "posterior = _decoder(np.hstack(decode.spkcount),pf.tuning_curves)\n",
    "print(time()-tic)"
   ]
  },
  {
   "cell_type": "code",
   "execution_count": null,
   "metadata": {},
   "outputs": [],
   "source": [
    "@jit(parallel=True)\n",
    "def fit_post(arr,nlines,dt=1,dx=1):\n",
    "    for i in range(10):\n",
    "        t = np.arange(arr.shape[1])\n",
    "        nt = len(t)\n",
    "        tmid = (nt + 1) / 2 - 1\n",
    "\n",
    "        pos = np.arange(arr.shape[0])\n",
    "        npos = len(pos)\n",
    "        pmid = (npos + 1) / 2 - 1\n",
    "\n",
    "        phi = np.random.uniform(low=-np.pi / 2, high=np.pi / 2, size=nlines)\n",
    "        diag_len = np.sqrt((nt - 1) ** 2 + (npos - 1) ** 2)\n",
    "        rho = np.random.uniform(low=-diag_len / 2, high=diag_len / 2, size=nlines)\n",
    "        # toc = time()\n",
    "        # print(toc-tic)\n",
    "\n",
    "        # tic = time()\n",
    "        rho_mat = np.tile(rho, (nt, 1)).T\n",
    "        phi_mat = np.tile(phi, (nt, 1)).T\n",
    "        t_mat = np.tile(t, (nlines, 1))\n",
    "        posterior = np.zeros((nlines, nt))\n",
    "        # toc = time()\n",
    "        # print(toc-tic)\n",
    "\n",
    "        # tic=time()\n",
    "        y_line = ((rho_mat - (t_mat - tmid) * np.cos(phi_mat)) / np.sin(phi_mat)) + pmid\n",
    "        y_line = np.rint(y_line).astype(\"int\")\n",
    "        t_out = np.where((y_line < 0) | (y_line > npos - 1))\n",
    "        t_in = np.where((y_line >= 0) & (y_line <= npos - 1))\n",
    "        posterior[t_out] = np.median(arr[:, t_out[1]], axis=0)\n",
    "        posterior[t_in] = arr[y_line[t_in], t_in[1]]\n",
    "\n",
    "        posterior_mean = np.nanmean(posterior, axis=1)\n",
    "\n",
    "        # tic=time()\n",
    "        best_line = np.argmax(posterior_mean)\n",
    "        score = posterior_mean[best_line]\n",
    "        best_phi, best_rho = phi[best_line], rho[best_line]\n",
    "\n",
    "        time_mid, pos_mid = nt * dt / 2, npos * dx / 2\n",
    "\n",
    "        velocity = dx / (dt * np.tan(best_phi))\n",
    "        intercept = (\n",
    "            (dx * time_mid) / (dt * np.tan(best_phi))\n",
    "            + (best_rho / np.sin(best_phi)) * dx\n",
    "            + pos_mid\n",
    "        )\n",
    "        # return score,-velocity,intercept\n",
    "\n",
    "def radon_transform(arr, nlines=10000, dt=1, dx=1, neighbours=1):\n",
    "\n",
    "\n",
    "    # arr = np.apply_along_axis(\n",
    "    #     np.convolve, axis=0, arr=arr, v=np.ones(2 * neighbours + 1), mode=\"same\"\n",
    "    # )\n",
    "    return fit_post(arr,nlines,1,1)\n",
    "\n",
    "\n",
    "\n"
   ]
  },
  {
   "cell_type": "code",
   "execution_count": null,
   "metadata": {},
   "outputs": [],
   "source": [
    "# from \n",
    "tic = time()\n",
    "a = radon_transform(decode.posterior[1])\n",
    "print(time()-tic)"
   ]
  }
 ],
 "metadata": {
  "interpreter": {
   "hash": "cce1618081139d19eb1ee8d40815d94a2de4f62e1efb20d9406ddb60628c36ae"
  },
  "kernelspec": {
   "display_name": "Python 3.10.2 ('data_analysis')",
   "language": "python",
   "name": "python3"
  },
  "language_info": {
   "codemirror_mode": {
    "name": "ipython",
    "version": 3
   },
   "file_extension": ".py",
   "mimetype": "text/x-python",
   "name": "python",
   "nbconvert_exporter": "python",
   "pygments_lexer": "ipython3",
   "version": "3.10.2"
  },
  "orig_nbformat": 4
 },
 "nbformat": 4,
 "nbformat_minor": 2
}
