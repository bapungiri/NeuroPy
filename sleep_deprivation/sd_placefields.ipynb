{
 "cells": [
  {
   "cell_type": "markdown",
   "metadata": {},
   "source": [
    "# Placefield analysis and decoding"
   ]
  },
  {
   "cell_type": "markdown",
   "metadata": {},
   "source": [
    "# Example plots"
   ]
  },
  {
   "cell_type": "code",
   "execution_count": null,
   "metadata": {},
   "outputs": [],
   "source": [
    "import matplotlib.pyplot as plt\n",
    "import numpy as np\n",
    "import subjects\n",
    "from neuropy import plotting\n",
    "from neuropy.utils import signal_process\n",
    "from neuropy.analyses import Pf1D\n",
    "from neuropy.analyses import Decode1d\n",
    "\n",
    "sessions = subjects.nsd.ratUday2"
   ]
  },
  {
   "cell_type": "code",
   "execution_count": null,
   "metadata": {},
   "outputs": [],
   "source": [
    "for sub, sess in enumerate(sessions):\n",
    "    maze = sess.paradigm[\"maze\"]\n",
    "    post = sess.paradigm[\"post\"]\n",
    "    neurons = sess.neurons.get_neuron_type(neuron_type=\"pyr\")\n",
    "    pos = sess.lin_maze\n",
    "    # pos.t_start = pos.t_start + 4\n",
    "    run = sess.run.label_slice(\"forward\")\n",
    "    pf = Pf1D(\n",
    "        neurons=neurons,\n",
    "        position=pos,\n",
    "        speed_thresh=3,\n",
    "        smooth=2,\n",
    "        grid_bin=5,\n",
    "        epochs=run,\n",
    "    )\n",
    "    pf_neurons = neurons.get_by_id(pf.ratemap.neuron_ids)\n",
    "    rpls = sess.pbe.time_slice(maze[0], maze[1])\n",
    "    decode = Decode1d(\n",
    "        neurons=pf_neurons, ratemap=pf.ratemap, epochs=rpls, bin_size=0.02\n",
    "    )\n"
   ]
  },
  {
   "cell_type": "code",
   "execution_count": null,
   "metadata": {},
   "outputs": [],
   "source": [
    "decode.calculate_shuffle_score(method='neuron_id',n_iter=100)"
   ]
  },
  {
   "cell_type": "code",
   "execution_count": null,
   "metadata": {},
   "outputs": [],
   "source": [
    "from hfuncs import plot_in_bokeh\n",
    "import bokeh.plotting as bplot\n",
    "\n",
    "bplot.output_file(subjects.figpath_sd/'test_wake_decoding.html')\n",
    "# bplot.output_notebook()\n",
    "p = plot_in_bokeh(x=rpls.starts,y=decode.score,img_arr=decode.posterior,color_by=decode.score,palette='jet',size=10)\n",
    "p.line(pos.time,pos.x/350 + 0.2,line_width=2,color='black')\n",
    "bplot.show(p)"
   ]
  },
  {
   "cell_type": "code",
   "execution_count": null,
   "metadata": {},
   "outputs": [],
   "source": [
    "%matplotlib widget\n",
    "from neuropy.plotting import plot_ratemap\n",
    "\n",
    "plot_ratemap(pf.ratemap,normalize_tuning_curve=True)"
   ]
  },
  {
   "cell_type": "markdown",
   "metadata": {},
   "source": [
    "# Test placefields"
   ]
  },
  {
   "cell_type": "code",
   "execution_count": null,
   "metadata": {},
   "outputs": [],
   "source": [
    "%matplotlib widget\n",
    "import matplotlib.pyplot as plt\n",
    "import numpy as np\n",
    "from neuropy.core import Position,Neurons\n",
    "from neuropy.analyses import Pf1D\n",
    "from neuropy import plotting\n",
    "\n",
    "t= np.linspace(0,1,240000)\n",
    "y = np.sin(2*np.pi*12*t)*100\n",
    "\n",
    "pos = Position(traces=y.reshape(1,-1),t_start=0,sampling_rate=120)\n",
    "\n",
    "spktrns = []\n",
    "for i in range(-100,100,30):\n",
    "    indices = np.where((pos.x>=i)&(pos.x<=i+20))[0]\n",
    "    indices = np.random.choice(indices,4000)\n",
    "    spktrns.append(indices/120)\n",
    "spktrns = np.array(spktrns)\n",
    "\n",
    "neurons = Neurons(spiketrains=spktrns,t_start=0,t_stop=2000)\n",
    "pf1d = Pf1D(neurons=neurons,position=pos,speed_thresh=0.1,grid_bin=5)\n",
    "_,ax = plt.subplots()\n",
    "\n",
    "ax.plot(pos.time,pos.x)\n",
    "plotting.plot_raster(neurons,ax=ax)\n"
   ]
  },
  {
   "cell_type": "code",
   "execution_count": null,
   "metadata": {},
   "outputs": [],
   "source": [
    "%matplotlib widget\n",
    "\n",
    "plotting.plot_ratemap(pf1d.ratemap,normalize_tuning_curve=True)"
   ]
  }
 ],
 "metadata": {
  "interpreter": {
   "hash": "cce1618081139d19eb1ee8d40815d94a2de4f62e1efb20d9406ddb60628c36ae"
  },
  "kernelspec": {
   "display_name": "Python 3.9.7 64-bit ('data_analysis': conda)",
   "name": "python3"
  },
  "language_info": {
   "codemirror_mode": {
    "name": "ipython",
    "version": 3
   },
   "file_extension": ".py",
   "mimetype": "text/x-python",
   "name": "python",
   "nbconvert_exporter": "python",
   "pygments_lexer": "ipython3",
   "version": "3.9.7"
  },
  "orig_nbformat": 4
 },
 "nbformat": 4,
 "nbformat_minor": 2
}
