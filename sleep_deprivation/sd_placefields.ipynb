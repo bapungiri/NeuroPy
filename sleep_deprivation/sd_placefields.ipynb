{
 "cells": [
  {
   "cell_type": "markdown",
   "source": [
    "# Example plots"
   ],
   "metadata": {}
  },
  {
   "cell_type": "code",
   "execution_count": null,
   "source": [
    "import matplotlib.pyplot as plt\n",
    "import numpy as np\n",
    "import subjects\n",
    "from neuropy import plotting\n",
    "from neuropy.utils import signal_process\n",
    "from neuropy.analyses import Pf1D\n",
    "sessions = subjects.nsd.ratUday2"
   ],
   "outputs": [],
   "metadata": {}
  },
  {
   "cell_type": "code",
   "execution_count": null,
   "source": [
    "for sub,sess in enumerate(sessions):\n",
    "    maze = sess.paradigm['maze']\n",
    "    neurons = sess.neurons.get_neuron_type(neuron_type='pyr').time_slice(maze[0],maze[1])\n",
    "    pos = sess.lin_maze\n",
    "    pf = Pf1D(neurons=neurons,position=pos,speed_thresh=2)"
   ],
   "outputs": [],
   "metadata": {}
  },
  {
   "cell_type": "code",
   "execution_count": null,
   "source": [
    "a = pos.traces\n",
    "np.sqrt(np.abs(np.diff(a,axis=1)))"
   ],
   "outputs": [],
   "metadata": {}
  },
  {
   "cell_type": "code",
   "execution_count": null,
   "source": [
    "%matplotlib widget\n",
    "\n",
    "plt.plot(np.abs(np.diff(pos.x))*100)\n",
    "plt.plot(pos.x)"
   ],
   "outputs": [],
   "metadata": {}
  },
  {
   "cell_type": "code",
   "execution_count": null,
   "source": [
    "%matplotlib widget\n",
    "from neuropy.plotting import plot_position\n",
    "from scipy.ndimage import gaussian_filter1d\n",
    "\n",
    "smooth_pos = gaussian_filter1d(pos.traces[0],sigma=10)\n",
    "plt.plot(smooth_pos)\n",
    "plt.plot(pos.traces[0],'gray')"
   ],
   "outputs": [],
   "metadata": {}
  },
  {
   "cell_type": "code",
   "execution_count": null,
   "source": [
    "%matplotlib widget\n",
    "\n",
    "plt.plot(np.abs(np.diff(smooth_pos)))"
   ],
   "outputs": [],
   "metadata": {}
  },
  {
   "cell_type": "code",
   "execution_count": null,
   "source": [
    "max(pos.x)"
   ],
   "outputs": [],
   "metadata": {}
  },
  {
   "cell_type": "code",
   "execution_count": null,
   "source": [
    "%matplotlib widget\n",
    "from neuropy.plotting import plot_ratemap\n",
    "\n",
    "plot_ratemap(pf.ratemap,normalize_tuning_curve=True)"
   ],
   "outputs": [],
   "metadata": {}
  },
  {
   "cell_type": "code",
   "execution_count": null,
   "source": [
    "%matplotlib inline\n",
    "\n",
    "plt.plot(pf.ratemap.tuning_curves[20])"
   ],
   "outputs": [],
   "metadata": {}
  }
 ],
 "metadata": {
  "orig_nbformat": 4,
  "language_info": {
   "name": "python",
   "version": "3.9.6",
   "mimetype": "text/x-python",
   "codemirror_mode": {
    "name": "ipython",
    "version": 3
   },
   "pygments_lexer": "ipython3",
   "nbconvert_exporter": "python",
   "file_extension": ".py"
  },
  "kernelspec": {
   "name": "python3",
   "display_name": "Python 3.9.6 64-bit ('data_analysis': conda)"
  },
  "interpreter": {
   "hash": "7b10c821bc4bd3f433a613d47515e6babc6c2152896bd1e143404cc9d6ede4ad"
  }
 },
 "nbformat": 4,
 "nbformat_minor": 2
}