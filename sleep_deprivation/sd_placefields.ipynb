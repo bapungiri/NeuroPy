{
 "cells": [
  {
   "cell_type": "markdown",
   "metadata": {},
   "source": [
    "# Example plots"
   ]
  },
  {
   "cell_type": "code",
   "execution_count": null,
   "metadata": {},
   "outputs": [],
   "source": [
    "import matplotlib.pyplot as plt\n",
    "import numpy as np\n",
    "import subjects\n",
    "from neuropy import plotting\n",
    "from neuropy.utils import signal_process\n",
    "from neuropy.analyses import Pf1D\n",
    "from neuropy.analyses import Decode1d\n",
    "\n",
    "sessions = subjects.sd.ratSday3"
   ]
  },
  {
   "cell_type": "code",
   "execution_count": null,
   "metadata": {},
   "outputs": [],
   "source": [
    "for sub,sess in enumerate(sessions):\n",
    "    maze = sess.paradigm['maze']\n",
    "    post = sess.paradigm['post']\n",
    "    neurons = sess.neurons.get_neuron_type(neuron_type='pyr')\n",
    "    pos = sess.lin_maze\n",
    "    pf = Pf1D(neurons=neurons,position=pos,speed_thresh=3,smooth=2,grid_bin=3)\n",
    "    pf_neurons =neurons.get_by_id(pf.ratemap.neuron_ids) \n",
    "    rpls = sess.pbe.time_slice(maze[0],maze[1])\n",
    "    decode = Decode1d(neurons=pf_neurons,ratemap = pf.ratemap,epochs=rpls,bin_size=0.010)"
   ]
  },
  {
   "cell_type": "code",
   "execution_count": null,
   "metadata": {},
   "outputs": [],
   "source": [
    "decode.calculate_shuffle_score(method='neuron_id',n_iter=100)\n"
   ]
  },
  {
   "cell_type": "code",
   "execution_count": 44,
   "metadata": {},
   "outputs": [
    {
     "name": "stdout",
     "output_type": "stream",
     "text": [
      "Opening in existing browser session.\n"
     ]
    }
   ],
   "source": [
    "from hfuncs import plot_in_bokeh\n",
    "import bokeh.plotting as bplot\n",
    "\n",
    "bplot.output_file(subjects.figpath_sd/'test_decoding.html')\n",
    "p = plot_in_bokeh(x=rpls.starts,y=decode.score,img_arr=decode.posterior,color_by=decode.score,palette='Blues')\n",
    "p.line(pos.time,pos.x/250 + 0.2,line_width=2,color='black')\n",
    "bplot.show(p)"
   ]
  },
  {
   "cell_type": "code",
   "execution_count": null,
   "metadata": {},
   "outputs": [],
   "source": [
    "from matplotlib import cm\n"
   ]
  },
  {
   "cell_type": "code",
   "execution_count": null,
   "metadata": {},
   "outputs": [],
   "source": [
    "%matplotlib widget\n",
    "\n",
    "import matplotlib.pyplot as plt\n",
    "import matplotlib as mpl\n",
    "from matplotlib import cm\n",
    "\n",
    "dirpath = subjects.figpath_sd/'decoded'\n",
    "# for i,evt in enumerate(decode.posterior):\n",
    "evt = decode.posterior[200]\n",
    "cmap =cm.get_cmap('hot') \n",
    "im_cmap =cmap(evt)\n",
    "im_arr = Image.fromarray(evt)\n",
    "# k = plt.pcolormesh(img_as_ubyte(im_arr),cmap='hot')\n",
    "plt.imshow(evt,aspect='auto')\n",
    "    # plt.savefig(f'test{i}.png')\n"
   ]
  },
  {
   "cell_type": "code",
   "execution_count": null,
   "metadata": {},
   "outputs": [],
   "source": [
    "from bokeh.plotting import ColumnDataSource, figure, output_notebook, show,output_file\n",
    "import numpy as np\n",
    "from PIL import Image\n",
    "from io import BytesIO\n",
    "from matplotlib import cm\n",
    "# output_notebook()\n",
    "output_file(subjects.figpath_sd/'test_decoded.html')\n",
    "from base64 import b64decode,b64encode,b32encode\n",
    "import matplotlib.pyplot as plt\n",
    "from skimage import img_as_ubyte\n",
    "import matplotlib as mpl\n",
    "from bokeh.models import ColorBar,LinearColorMapper\n",
    "\n",
    "score = decode.score\n",
    "def to_png(arr):\n",
    "    out = BytesIO()\n",
    "    # print(arr.shape)\n",
    "    im = Image.fromarray(arr)\n",
    "    im.save(out, format='png')\n",
    "    return out.getvalue()\n",
    "\n",
    "def b64_image_files(images, colormap='hot'):\n",
    "    cmap = cm.get_cmap(colormap)\n",
    "    urls = []\n",
    "    for im in images:\n",
    "        # im_ = cmap(((np.flipud(im))/np.max(im)))\n",
    "        im_ = (im-np.min(im))/np.max(im)\n",
    "        # im_ = np.where(im_>0.2,im_,0)\n",
    "        im_ = cmap(im_)\n",
    "        png = to_png(img_as_ubyte(im_))\n",
    "        url = 'data:image/png;base64,' + b64encode(png).decode('utf-8')\n",
    "        urls.append(url)\n",
    "    return urls\n",
    "\n",
    "\n",
    "# im = Image.fromarray(score)\n",
    "# im.save()\n",
    "\n",
    "out = BytesIO()\n",
    "a = np.arange(25).reshape(5,5)\n",
    "a = a/25\n",
    "# encoded = b64decode(a)\n",
    "# mime = \"image/jpeg\"\n",
    "\n",
    "filenames = b64_image_files(decode.posterior)\n",
    "# uri = \"data:%s;base64,%s\" % (mime, encoded)\n",
    "# im = plt.imshow(a)\n",
    "\n",
    "# im = Image.fromarray(a)\n",
    "# im.save(out,format='png')\n",
    "\n",
    "# im = Image.fromarray(np.uint8(cm.gist_earth(a)*255))\n",
    "# img = out.getvalue()\n",
    "\n",
    "cmap = cm.get_cmap('jet_r')\n",
    "# pval = decode.p_value\n",
    "# pval = np.where(pval>0.9,pval,0)\n",
    "col =cmap(decode.score) \n",
    "# col = [\n",
    "#     \"#%02x%02x%02x\" % (int(r), int(g), int(b)) for r, g, b, _ in 255*mpl.cm.viridis(mpl.colors.Normalize()(score))\n",
    "# ]\n",
    "# col = [_ for _ in col]\n",
    "source = ColumnDataSource(data=dict(\n",
    "    x=rpls.starts,\n",
    "    y=score,\n",
    "    desc=decode.score,\n",
    "    imgs=filenames,\n",
    "    colors = col,\n",
    " \n",
    "))\n",
    "\n",
    "TOOLTIPS = \"\"\"\n",
    "    <div>\n",
    "        <div>\n",
    "            <img\n",
    "                src=\"@imgs\" height=\"100\" alt=\"@imgs\" width=\"100\"\n",
    "                style=\"float: left; margin: 0px 15px 15px 0px;image-rendering: pixelated\"\n",
    "                border=\"2\"\n",
    "            ></img>\n",
    "        </div>\n",
    "        <div>\n",
    "            <span style=\"font-size: 17px; font-weight: bold;\">p_val @desc</span>\n",
    "            <span style=\"font-size: 17px; font-weight: bold;\">, score $y</span>\n",
    "        </div>\n",
    "        <div>\n",
    "            <span style=\"font-size: 15px; color: #696;\">time $x</span>\n",
    "        </div>\n",
    "    </div>\n",
    "\"\"\"\n",
    "\n",
    "p = figure(width=1800, height=800, tooltips=TOOLTIPS,x_axis_label='Time',y_axis_label='Replay score',\n",
    "           title=\"Replay score over time, Hover to see posterior\")\n",
    "p.circle('x', 'y', size=12, source=source,color='colors')\n",
    "# p.scatter(rpls.starts,score,fill_color = col)\n",
    "# p.line(pos.time,pos.x/250 + 0.2,line_width=2,color='black')\n",
    "col1 = LinearColorMapper(palette = \"Cividis256\",\n",
    "                          low = 0, high = 1)\n",
    "cb = ColorBar(color_mapper = col1, location = (1850,6))\n",
    "p.add_layout(cb)\n",
    "show(p)"
   ]
  },
  {
   "cell_type": "code",
   "execution_count": null,
   "metadata": {},
   "outputs": [],
   "source": [
    "%matplotlib widget\n",
    "from scipy.ndimage import gaussian_filter1d\n",
    "# plt.pcolormesh(decode.posterior[2],cmap='hot')\n",
    "# plt.plot(rpls.starts,score,'.')\n",
    "plt.plot(pos.speed)\n",
    "# plt.plot(gaussian_filter1d(pos.speed,sigma=20))"
   ]
  },
  {
   "cell_type": "code",
   "execution_count": null,
   "metadata": {},
   "outputs": [],
   "source": [
    "%matplotlib widget\n",
    "from neuropy.plotting import plot_position\n",
    "from scipy.ndimage import gaussian_filter1d\n",
    "\n",
    "smooth_pos = gaussian_filter1d(pos.traces[0],sigma=10)\n",
    "plt.plot(smooth_pos)\n",
    "plt.plot(pos.traces[0],'gray')"
   ]
  },
  {
   "cell_type": "code",
   "execution_count": null,
   "metadata": {},
   "outputs": [],
   "source": [
    "%matplotlib widget\n",
    "\n",
    "plt.plot(np.abs(np.diff(smooth_pos)))"
   ]
  },
  {
   "cell_type": "code",
   "execution_count": null,
   "metadata": {},
   "outputs": [],
   "source": [
    "max(pos.x)"
   ]
  },
  {
   "cell_type": "code",
   "execution_count": null,
   "metadata": {},
   "outputs": [],
   "source": [
    "%matplotlib widget\n",
    "from neuropy.plotting import plot_ratemap\n",
    "\n",
    "plot_ratemap(pf.ratemap,normalize_tuning_curve=True)"
   ]
  },
  {
   "cell_type": "code",
   "execution_count": null,
   "metadata": {},
   "outputs": [],
   "source": [
    "%matplotlib inline\n",
    "\n",
    "plt.plot(pf.ratemap.tuning_curves[20])"
   ]
  }
 ],
 "metadata": {
  "interpreter": {
   "hash": "cce1618081139d19eb1ee8d40815d94a2de4f62e1efb20d9406ddb60628c36ae"
  },
  "kernelspec": {
   "display_name": "Python 3.9.7 64-bit ('data_analysis': conda)",
   "name": "python3"
  },
  "language_info": {
   "codemirror_mode": {
    "name": "ipython",
    "version": 3
   },
   "file_extension": ".py",
   "mimetype": "text/x-python",
   "name": "python",
   "nbconvert_exporter": "python",
   "pygments_lexer": "ipython3",
   "version": "3.9.7"
  },
  "orig_nbformat": 4
 },
 "nbformat": 4,
 "nbformat_minor": 2
}
