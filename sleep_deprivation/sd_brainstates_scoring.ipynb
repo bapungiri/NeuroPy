{
 "cells": [
  {
   "cell_type": "markdown",
   "metadata": {},
   "source": [
    "### Test sleep scoring\n",
    "- Tried some unsupervised neural network from sklearn, it did not work that well"
   ]
  },
  {
   "cell_type": "code",
   "execution_count": null,
   "metadata": {},
   "outputs": [],
   "source": [
    "import numpy as np\n",
    "from neuropy.analyses.brainstates import detect_brainstates_epochs\n",
    "from neuropy.plotting import plot_probe\n",
    "from neuropy.core import Epoch\n",
    "from neuropy.utils.signal_process import FourierSg\n",
    "from scipy.ndimage import gaussian_filter1d\n",
    "from sklearn.neural_network import BernoulliRBM\n",
    "from neuropy.analyses.brainstates import correlation_emg\n",
    "from hfuncs import whiten_signal\n",
    "from scipy import stats\n",
    "from neuropy.analyses.brainstates import hmmfit1d\n",
    "import matplotlib.pyplot as plt\n",
    "from neuropy.plotting import plot_hypnogram\n",
    "import subjects\n",
    "\n",
    "smooth = lambda arr:gaussian_filter1d(arr,sigma=2/1)\n",
    "\n",
    "sess = subjects.sd.ratKday1[0]\n",
    "maze = sess.paradigm[\"maze\"].flatten()\n",
    "\n",
    "pre = sess.paradigm['pre'].flatten()\n",
    "maze = sess.paradigm['maze'].flatten()\n",
    "post = sess.paradigm['post'].flatten()\n",
    "period = [pre[0]+3600,post[1]]\n",
    "\n"
   ]
  },
  {
   "cell_type": "markdown",
   "metadata": {},
   "source": [
    "### Using neuropy"
   ]
  },
  {
   "cell_type": "code",
   "execution_count": null,
   "metadata": {},
   "outputs": [],
   "source": [
    "signal = sess.eegfile.get_signal()\n",
    "epochs = detect_brainstates_epochs(\n",
    "    signal=signal,\n",
    "    probe=sess.probegroup,\n",
    "    delta_channel=9,\n",
    "    theta_channel=13,\n",
    "    window=10,\n",
    "    overlap=9,\n",
    "    behavior_epochs=behavior_epochs,\n",
    "    plot=True\n",
    ")\n",
    "\n",
    "# epochs.save(sess.filePrefix.with_suffix('.brainstates'))\n",
    "# _,ax = plt.subplots() \n",
    "\n",
    "# plot_hypnogram(epochs,ax=ax)\n"
   ]
  },
  {
   "cell_type": "code",
   "execution_count": null,
   "metadata": {},
   "outputs": [],
   "source": [
    "epochs.time_slice(23900,24050).to_dataframe()"
   ]
  },
  {
   "cell_type": "code",
   "execution_count": null,
   "metadata": {},
   "outputs": [],
   "source": [
    "epochs_labels = epochs.labels\n",
    "for i in range(1, len(epochs)):\n",
    "    if epochs_labels[i]=='REM':\n",
    "        print(epochs_labels[i],epochs_labels[i-1])\n",
    "    if (epochs_labels[i] == \"REM\") and (epochs_labels[i - 1] == \"QW\"):\n",
    "        print('he')\n",
    "        epochs_labels[i] = \"QW\"\n",
    "    if (epochs_labels[i] == \"REM\") and (epochs_labels[i - 1] == \"AW\"):\n",
    "        epochs_labels[i] = \"AW\"\n",
    "\n",
    "epochs_labels[1] = 'munna'\n",
    "new_epochs = epochs.set_labels(epochs_labels)\n",
    "\n"
   ]
  },
  {
   "cell_type": "code",
   "execution_count": null,
   "metadata": {},
   "outputs": [],
   "source": [
    "new_epochs.to_dataframe()"
   ]
  },
  {
   "cell_type": "code",
   "execution_count": null,
   "metadata": {},
   "outputs": [],
   "source": [
    "np.array_equal(new_epochs.labels,epochs.labels)"
   ]
  },
  {
   "cell_type": "code",
   "execution_count": null,
   "metadata": {},
   "outputs": [],
   "source": [
    "len(epochs),len(new_epochs)"
   ]
  },
  {
   "cell_type": "markdown",
   "metadata": {},
   "source": [
    "### Probe layout"
   ]
  },
  {
   "cell_type": "code",
   "execution_count": null,
   "metadata": {},
   "outputs": [],
   "source": [
    "plot_probe(sess.probegroup)"
   ]
  },
  {
   "cell_type": "markdown",
   "metadata": {},
   "source": [
    "### emg estimation"
   ]
  },
  {
   "cell_type": "code",
   "execution_count": null,
   "metadata": {},
   "outputs": [],
   "source": [
    "all_channels = np.concatenate(sess.probegroup.get_connected_channels()).astype('int')\n",
    "signal = sess.eegfile.get_signal(t_start=period[0],t_stop=period[1])\n",
    "emg = correlation_emg(signal,sess.probegroup,10,9)\n",
    "emg = smooth(emg)"
   ]
  },
  {
   "cell_type": "markdown",
   "metadata": {},
   "source": [
    "### Choose best theta and delta channel"
   ]
  },
  {
   "cell_type": "code",
   "execution_count": null,
   "metadata": {},
   "outputs": [],
   "source": [
    "import scipy.signal as sg\n",
    "from numpy.polynomial import polynomial\n",
    "from dip import diptst\n",
    "from tqdm.notebook import tqdm\n",
    "from neuropy.utils.mathutil import min_max_scaler\n",
    "\n",
    "# channels = [19,25,2,1,93,87,189,183]\n",
    "def get_dip_pval(f,sxx,band,):\n",
    "    indices = (f>=band[0]) & (f<=band[1])\n",
    "    f_band = np.log10(f[indices])\n",
    "    spect_band = np.log10(sxx[indices,:])\n",
    "\n",
    "    invalid_col = ~np.isfinite(spect_band).any(axis=0)\n",
    "    linfit = np.polyfit(f_band,spect_band[:,~invalid_col],deg=1)\n",
    "    slopes = gaussian_filter1d(linfit[0],2)\n",
    "\n",
    "    bins = np.arange(1,4,0.02)\n",
    "    hist_slopes = np.histogram(np.abs(slopes),bins=bins)[0]\n",
    "    return diptst(hist_slopes,is_hist=True)[1] \n",
    "\n",
    "def get_dip_pval_ratio(f,sxx,band1,band2):\n",
    "    indices1 = (f>=band1[0]) & (f<=band1[1])\n",
    "    indices2 = (f>=band2[0]) & (f<=band2[1])\n",
    "    spect_ratio = sxx[indices1,:].mean(axis=0)/sxx[indices2,:].mean(axis=0)\n",
    "\n",
    "    spect_ratio = gaussian_filter1d(spect_ratio,2)\n",
    "    spect_ratio = min_max_scaler(spect_ratio)\n",
    "    bins = np.linspace(0,1,200)\n",
    "    hist_slopes = np.histogram(spect_ratio,bins=bins)[0]\n",
    "    return diptst(hist_slopes,is_hist=True)[1] \n",
    "\n",
    "\n",
    "chans = all_channels\n",
    "sw_dip_pval,theta_dip_pval = [],[]\n",
    "for chan in tqdm(chans):\n",
    "    signal = sess.eegfile.get_signal(chan)\n",
    "    # spect = FourierSg(signal,window=60,overlap=10)\n",
    "    f, t, spect = sg.spectrogram(\n",
    "        signal.traces[0], fs=1250, nperseg=2 * 1250, noverlap=0,axis=-1\n",
    "    )\n",
    "    # spect = gaussian_filter1d(spect,sigma=4,axis=0)\n",
    "\n",
    "    sw_dip_pval.append(get_dip_pval(f,spect,(4,90)))\n",
    "    theta_dip_pval.append(get_dip_pval_ratio(f,spect,(5,10),(2,20)))\n",
    "\n",
    "\n",
    "best_delta_chan = chans[np.argmin(sw_dip_pval)]\n",
    "best_theta_chan = chans[np.argmin(theta_dip_pval)]\n",
    "print(best_delta_chan,best_theta_chan)"
   ]
  },
  {
   "cell_type": "markdown",
   "metadata": {},
   "source": [
    "### Sleep scoring"
   ]
  },
  {
   "cell_type": "code",
   "execution_count": null,
   "metadata": {},
   "outputs": [],
   "source": [
    "freqs = np.geomspace(0.5,100,100)\n",
    "spect_kw = dict(window=10, overlap=9, freqs=freqs,norm_sig=True)\n",
    "delta_lfp = sess.eegfile.get_signal(9, *period)\n",
    "theta_lfp = sess.eegfile.get_signal(13, *period)\n",
    "# theta_lfp = whiten_signal(theta_lfp)\n",
    "sg_deltachan = FourierSg(delta_lfp, **spect_kw)\n",
    "delta = smooth(sg_deltachan.delta)\n",
    "\n",
    "sg_thetachan = FourierSg(theta_lfp, **spect_kw)\n",
    "theta = smooth(sg_thetachan.theta)\n",
    "# band30 = smooth(sg_thetachan.get_band_power(1, 30))\n",
    "delta_full = smooth(sg_thetachan.get_band_power(2, 20))\n",
    "# chewing = smooth(FourierSg(theta_lfp, **spect_kw).get_band_power(2, 16))\n",
    "theta_ratio = theta/ delta_full\n",
    "\n",
    "\n",
    "l = np.min([len(emg), len(theta)])\n",
    "\n",
    "# band30_bool = hmmfit1d(1 / band30[:l])\n",
    "# band30_bool = hmmfit1d(1 / band30[:l])\n",
    "emg_bool = hmmfit1d(emg[:l],startprob_prior=np.array([0.2,0.8]))\n",
    "theta_ratio_bool,mus = hmmfit1d(theta_ratio[:l],ret_means=True,startprob_prior=np.array([0.2,0.8]))\n",
    "delta_bool = hmmfit1d(delta[:l])\n",
    "\n",
    "\n",
    "assert len(theta_ratio_bool) == len(emg_bool)\n",
    "\n",
    "states = np.array([\"QW\"] * len(theta_ratio_bool), dtype=\"U4\")\n",
    "states[(theta_ratio_bool == 1) & (emg_bool == 1)] = \"AW\" \n",
    "states[(emg_bool == 0) & (theta_ratio_bool == 0)] = \"QW\"\n",
    "states[ (emg_bool == 0) & (theta_ratio_bool == 1)] = \"REM\"\n",
    "states[ (emg_bool == 0) & (theta_ratio_bool == 0)] = \"NREM\"\n",
    "\n",
    "states_epochs= Epoch.from_string_array(states)\n"
   ]
  },
  {
   "cell_type": "code",
   "execution_count": null,
   "metadata": {},
   "outputs": [],
   "source": [
    "from neuropy.plotting import plot_epochs\n",
    "\n",
    "_,axs = plt.subplots(6,1,sharex=True)\n",
    "\n",
    "\n",
    "axs[0].plot(stats.zscore(delta))\n",
    "axs[0].set_ylim([-0.5,1.5])\n",
    "ax = axs[0].twinx()\n",
    "ax.plot(delta_bool,'k',alpha=0.5)\n",
    "ax.set_ylim([-0.5,1.5])\n",
    "\n",
    "axs[1].plot(theta_ratio,zorder=2)\n",
    "# axs[1].set_ylim([-2.4,6])\n",
    "ax = axs[1].twinx()\n",
    "ax.plot(theta_ratio_bool,'k',lw=0.8,alpha=0.5,zorder=-1)\n",
    "ax.set_ylim([-0.5,1.5])\n",
    "\n",
    "\n",
    "# axs[2].plot(1/band30)\n",
    "# axs[3].plot(thetah_sxx/delta_sxx)\n",
    "axs[3].plot(emg)\n",
    "ax = axs[3].twinx()\n",
    "ax.plot(emg_bool,'k',lw=0.8,alpha=0.5,zorder=-1)\n",
    "ax.set_ylim([-0.5,1.5])\n",
    "\n",
    "\n",
    "# axs[4].fill_between(states)\n",
    "plot_epochs(ax=axs[4],epochs=states_epochs,labels_order=['NREM','REM','QW','AW'],colors=subjects.colors_sleep)\n",
    "# axs[4].plot(high_emg)\n",
    "# axs[5].plot((1/band30[:l])/delta_sxx[:-1])\n",
    "# axs[5].plot(stats.zscore(delta_full))\n",
    "\n"
   ]
  },
  {
   "cell_type": "code",
   "execution_count": null,
   "metadata": {},
   "outputs": [],
   "source": [
    "_,axs = plt.subplots(8,1,sharex=True)\n",
    "\n",
    "channels = sess.probegroup.get_connected_channels()[9][::2]\n",
    "for i,chan in enumerate(channels):\n",
    "    th_lfp = sess.eegfile.get_signal(chan,*period) \n",
    "    th = smooth(FourierSg(th_lfp,window=1,overlap=0.2).theta)\n",
    "    axs[i].plot(th)\n",
    "    # axs[i].set_yscale('log')\n",
    "    axs[i].set_ylim([0,0.1])\n"
   ]
  },
  {
   "cell_type": "code",
   "execution_count": null,
   "metadata": {},
   "outputs": [],
   "source": [
    "_,ax = plt.subplots()\n",
    "\n",
    "param = stats.zscore(delta)\n",
    "bins = np.linspace(-2,3,900)\n",
    "hist_val = np.histogram(param,bins=bins)[0]\n",
    "ax.plot(bins[:-1],hist_val)\n",
    "# ax.set_yscale('log')\n",
    "# ax.axvline(mus[0],ls='--')\n",
    "# ax.axvline(mus[1],ls='--')\n",
    "ax.axvline(bins[157])\n",
    "ax.axvline(bins[203])\n"
   ]
  },
  {
   "cell_type": "code",
   "execution_count": null,
   "metadata": {},
   "outputs": [],
   "source": [
    "from dip import diptst\n",
    "\n",
    "diptst(hist_val,is_hist=True)"
   ]
  },
  {
   "cell_type": "code",
   "execution_count": null,
   "metadata": {},
   "outputs": [],
   "source": [
    "_,ax = plt.subplots()\n",
    "\n",
    "ax.plot(delta_sxx,theta_del_ratio,'.')\n",
    "# ax.set_yscale('log')\n",
    "# ax.axvline(mus[0],ls='--')\n",
    "# ax.axvline(mus[1],ls='--')\n"
   ]
  }
 ],
 "metadata": {
  "interpreter": {
   "hash": "cce1618081139d19eb1ee8d40815d94a2de4f62e1efb20d9406ddb60628c36ae"
  },
  "kernelspec": {
   "display_name": "Python 3.10.2 ('data_analysis')",
   "language": "python",
   "name": "python3"
  },
  "language_info": {
   "codemirror_mode": {
    "name": "ipython",
    "version": 3
   },
   "file_extension": ".py",
   "mimetype": "text/x-python",
   "name": "python",
   "nbconvert_exporter": "python",
   "pygments_lexer": "ipython3",
   "version": "3.10.2"
  },
  "orig_nbformat": 4
 },
 "nbformat": 4,
 "nbformat_minor": 2
}
