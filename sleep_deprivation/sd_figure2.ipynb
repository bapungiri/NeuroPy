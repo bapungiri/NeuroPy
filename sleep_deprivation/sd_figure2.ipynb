{
    "cells": [
        {
            "cell_type": "markdown",
            "metadata": {},
            "source": [
                "### Figure 2 : Ripple oscillations"
            ]
        },
        {
            "cell_type": "code",
            "execution_count": 6,
            "metadata": {},
            "outputs": [
                {
                    "data": {
                        "application/vnd.jupyter.widget-view+json": {
                            "model_id": "140b0f735e0c407b9529dd8abd28af22",
                            "version_major": 2,
                            "version_minor": 0
                        },
                        "image/png": "[encoded data removed]",
                        "text/html": [
                            "\n",
                            "            <div style=\"display: inline-block;\">\n",
                            "                <div class=\"jupyter-widgets widget-label\" style=\"text-align: center;\">\n",
                            "                    Figure\n",
                            "                </div>\n",
                            "                <img src='data:image/png;base64,iVBORw0KGgoAAAANSUhEUgAAA1IAAARMCAYAAACTXaJiAAAAOXRFWHRTb2Z0d2FyZQBNYXRwbG90bGliIHZlcnNpb24zLjUuMSwgaHR0cHM6Ly9tYXRwbG90bGliLm9yZy/YYfK9AAAACXBIWXMAAA9hAAAPYQGoP6dpAAAXOUlEQVR4nO3XwQ3AIBDAsNL9dz5WIC+EZE+Qb9bMzAcAAMCx/3YAAADAa4wUAABAZKQAAAAiIwUAABAZKQAAgMhIAQAAREYKAAAgMlIAAACRkQIAAIiMFAAAQGSkAAAAIiMFAAAQGSkAAIDISAEAAERGCgAAIDJSAAAAkZECAACIjBQAAEBkpAAAACIjBQAAEBkpAACAyEgBAABERgoAACAyUgAAAJGRAgAAiIwUAABAZKQAAAAiIwUAABAZKQAAgMhIAQAAREYKAAAgMlIAAACRkQIAAIiMFAAAQGSkAAAAIiMFAAAQGSkAAIDISAEAAERGCgAAIDJSAAAAkZECAACIjBQAAEBkpAAAACIjBQAAEBkpAACAyEgBAABERgoAACAyUgAAAJGRAgAAiIwUAABAZKQAAAAiIwUAABAZKQAAgMhIAQAAREYKAAAgMlIAAACRkQIAAIiMFAAAQGSkAAAAIiMFAAAQGSkAAIDISAEAAERGCgAAIDJSAAAAkZECAACIjBQAAEBkpAAAACIjBQAAEBkpAACAyEgBAABERgoAACAyUgAAAJGRAgAAiIwUAABAZKQAAAAiIwUAABAZKQAAgMhIAQAAREYKAAAgMlIAAACRkQIAAIiMFAAAQGSkAAAAIiMFAAAQGSkAAIDISAEAAERGCgAAIDJSAAAAkZECAACIjBQAAEBkpAAAACIjBQAAEBkpAACAyEgBAABERgoAACAyUgAAAJGRAgAAiIwUAABAZKQAAAAiIwUAABAZKQAAgMhIAQAAREYKAAAgMlIAAACRkQIAAIiMFAAAQGSkAAAAIiMFAAAQGSkAAIDISAEAAERGCgAAIDJSAAAAkZECAACIjBQAAEBkpAAAACIjBQAAEBkpAACAyEgBAABERgoAACAyUgAAAJGRAgAAiIwUAABAZKQAAAAiIwUAABAZKQAAgMhIAQAAREYKAAAgMlIAAACRkQIAAIiMFAAAQGSkAAAAIiMFAAAQGSkAAIDISAEAAERGCgAAIDJSAAAAkZECAACIjBQAAEBkpAAAACIjBQAAEBkpAACAyEgBAABERgoAACAyUgAAAJGRAgAAiIwUAABAZKQAAAAiIwUAABAZKQAAgMhIAQAAREYKAAAgMlIAAACRkQIAAIiMFAAAQGSkAAAAIiMFAAAQGSkAAIDISAEAAERGCgAAIDJSAAAAkZECAACIjBQAAEBkpAAAACIjBQAAEBkpAACAyEgBAABERgoAACAyUgAAAJGRAgAAiIwUAABAZKQAAAAiIwUAABAZKQAAgMhIAQAAREYKAAAgMlIAAACRkQIAAIiMFAAAQGSkAAAAIiMFAAAQGSkAAIDISAEAAERGCgAAIDJSAAAAkZECAACIjBQAAEBkpAAAACIjBQAAEBkpAACAyEgBAABERgoAACAyUgAAAJGRAgAAiIwUAABAZKQAAAAiIwUAABAZKQAAgMhIAQAAREYKAAAgMlIAAACRkQIAAIiMFAAAQGSkAAAAIiMFAAAQGSkAAIDISAEAAERGCgAAIDJSAAAAkZECAACIjBQAAEBkpAAAACIjBQAAEBkpAACAyEgBAABERgoAACAyUgAAAJGRAgAAiIwUAABAZKQAAAAiIwUAABAZKQAAgMhIAQAAREYKAAAgMlIAAACRkQIAAIiMFAAAQGSkAAAAIiMFAAAQGSkAAIDISAEAAERGCgAAIDJSAAAAkZECAACIjBQAAEBkpAAAACIjBQAAEBkpAACAyEgBAABERgoAACAyUgAAAJGRAgAAiIwUAABAZKQAAAAiIwUAABAZKQAAgMhIAQAAREYKAAAgMlIAAACRkQIAAIiMFAAAQGSkAAAAIiMFAAAQGSkAAIDISAEAAERGCgAAIDJSAAAAkZECAACIjBQAAEBkpAAAACIjBQAAEBkpAACAyEgBAABERgoAACAyUgAAAJGRAgAAiIwUAABAZKQAAAAiIwUAABAZKQAAgMhIAQAAREYKAAAgMlIAAACRkQIAAIiMFAAAQGSkAAAAIiMFAAAQGSkAAIDISAEAAERGCgAAIDJSAAAAkZECAACIjBQAAEBkpAAAACIjBQAAEBkpAACAyEgBAABERgoAACAyUgAAAJGRAgAAiIwUAABAZKQAAAAiIwUAABAZKQAAgMhIAQAAREYKAAAgMlIAAACRkQIAAIiMFAAAQGSkAAAAIiMFAAAQGSkAAIDISAEAAERGCgAAIDJSAAAAkZECAACIjBQAAEBkpAAAACIjBQAAEBkpAACAyEgBAABERgoAACAyUgAAAJGRAgAAiIwUAABAZKQAAAAiIwUAABAZKQAAgMhIAQAAREYKAAAgMlIAAACRkQIAAIiMFAAAQGSkAAAAIiMFAAAQGSkAAIDISAEAAERGCgAAIDJSAAAAkZECAACIjBQAAEBkpAAAACIjBQAAEBkpAACAyEgBAABERgoAACAyUgAAAJGRAgAAiIwUAABAZKQAAAAiIwUAABAZKQAAgMhIAQAAREYKAAAgMlIAAACRkQIAAIiMFAAAQGSkAAAAIiMFAAAQGSkAAIDISAEAAERGCgAAIDJSAAAAkZECAACIjBQAAEBkpAAAACIjBQAAEBkpAACAyEgBAABERgoAACAyUgAAAJGRAgAAiIwUAABAZKQAAAAiIwUAABAZKQAAgMhIAQAAREYKAAAgMlIAAACRkQIAAIiMFAAAQGSkAAAAIiMFAAAQGSkAAIDISAEAAERGCgAAIDJSAAAAkZECAACIjBQAAEBkpAAAACIjBQAAEBkpAACAyEgBAABERgoAACAyUgAAAJGRAgAAiIwUAABAZKQAAAAiIwUAABAZKQAAgMhIAQAAREYKAAAgMlIAAACRkQIAAIiMFAAAQGSkAAAAIiMFAAAQGSkAAIDISAEAAERGCgAAIDJSAAAAkZECAACIjBQAAEBkpAAAACIjBQAAEBkpAACAyEgBAABERgoAACAyUgAAAJGRAgAAiIwUAABAZKQAAAAiIwUAABAZKQAAgMhIAQAAREYKAAAgMlIAAACRkQIAAIiMFAAAQGSkAAAAIiMFAAAQGSkAAIDISAEAAERGCgAAIDJSAAAAkZECAACIjBQAAEBkpAAAACIjBQAAEBkpAACAyEgBAABERgoAACAyUgAAAJGRAgAAiIwUAABAZKQAAAAiIwUAABAZKQAAgMhIAQAAREYKAAAgMlIAAACRkQIAAIiMFAAAQGSkAAAAIiMFAAAQGSkAAIDISAEAAERGCgAAIDJSAAAAkZECAACIjBQAAEBkpAAAACIjBQAAEBkpAACAyEgBAABERgoAACAyUgAAAJGRAgAAiIwUAABAZKQAAAAiIwUAABAZKQAAgMhIAQAAREYKAAAgMlIAAACRkQIAAIiMFAAAQGSkAAAAIiMFAAAQGSkAAIDISAEAAERGCgAAIDJSAAAAkZECAACIjBQAAEBkpAAAACIjBQAAEBkpAACAyEgBAABERgoAACAyUgAAAJGRAgAAiIwUAABAZKQAAAAiIwUAABAZKQAAgMhIAQAAREYKAAAgMlIAAACRkQIAAIiMFAAAQGSkAAAAIiMFAAAQGSkAAIDISAEAAERGCgAAIDJSAAAAkZECAACIjBQAAEBkpAAAACIjBQAAEBkpAACAyEgBAABERgoAACAyUgAAAJGRAgAAiIwUAABAZKQAAAAiIwUAABAZKQAAgMhIAQAAREYKAAAgMlIAAACRkQIAAIiMFAAAQGSkAAAAIiMFAAAQGSkAAIDISAEAAERGCgAAIDJSAAAAkZECAACIjBQAAEBkpAAAACIjBQAAEBkpAACAyEgBAABERgoAACAyUgAAAJGRAgAAiIwUAABAZKQAAAAiIwUAABAZKQAAgMhIAQAAREYKAAAgMlIAAACRkQIAAIiMFAAAQGSkAAAAIiMFAAAQGSkAAIDISAEAAERGCgAAIDJSAAAAkZECAACIjBQAAEBkpAAAACIjBQAAEBkpAACAyEgBAABERgoAACAyUgAAAJGRAgAAiIwUAABAZKQAAAAiIwUAABAZKQAAgMhIAQAAREYKAAAgMlIAAACRkQIAAIiMFAAAQGSkAAAAIiMFAAAQGSkAAIDISAEAAERGCgAAIDJSAAAAkZECAACIjBQAAEBkpAAAACIjBQAAEBkpAACAyEgBAABERgoAACAyUgAAAJGRAgAAiIwUAABAZKQAAAAiIwUAABAZKQAAgMhIAQAAREYKAAAgMlIAAACRkQIAAIiMFAAAQGSkAAAAIiMFAAAQGSkAAIDISAEAAERGCgAAIDJSAAAAkZECAACIjBQAAEBkpAAAACIjBQAAEBkpAACAyEgBAABERgoAACAyUgAAAJGRAgAAiIwUAABAZKQAAAAiIwUAABAZKQAAgMhIAQAAREYKAAAgMlIAAACRkQIAAIiMFAAAQGSkAAAAIiMFAAAQGSkAAIDISAEAAERGCgAAIDJSAAAAkZECAACIjBQAAEBkpAAAACIjBQAAEBkpAACAyEgBAABERgoAACAyUgAAAJGRAgAAiIwUAABAZKQAAAAiIwUAABAZKQAAgMhIAQAAREYKAAAgMlIAAACRkQIAAIiMFAAAQGSkAAAAIiMFAAAQGSkAAIDISAEAAERGCgAAIDJSAAAAkZECAACIjBQAAEBkpAAAACIjBQAAEBkpAACAyEgBAABERgoAACAyUgAAAJGRAgAAiIwUAABAZKQAAAAiIwUAABAZKQAAgMhIAQAAREYKAAAgMlIAAACRkQIAAIiMFAAAQGSkAAAAIiMFAAAQGSkAAIDISAEAAERGCgAAIDJSAAAAkZECAACIjBQAAEBkpAAAACIjBQAAEBkpAACAyEgBAABERgoAACAyUgAAAJGRAgAAiIwUAABAZKQAAAAiIwUAABAZKQAAgMhIAQAAREYKAAAgMlIAAACRkQIAAIiMFAAAQGSkAAAAIiMFAAAQGSkAAIDISAEAAERGCgAAIDJSAAAAkZECAACIjBQAAEBkpAAAACIjBQAAEBkpAACAyEgBAABERgoAACAyUgAAAJGRAgAAiIwUAABAZKQAAAAiIwUAABAZKQAAgMhIAQAAREYKAAAgMlIAAACRkQIAAIiMFAAAQGSkAAAAIiMFAAAQGSkAAIDISAEAAERGCgAAIDJSAAAAkZECAACIjBQAAEBkpAAAACIjBQAAEBkpAACAyEgBAABERgoAACAyUgAAAJGRAgAAiIwUAABAZKQAAAAiIwUAABAZKQAAgMhIAQAAREYKAAAgMlIAAACRkQIAAIiMFAAAQGSkAAAAIiMFAAAQGSkAAIDISAEAAERGCgAAIDJSAAAAkZECAACIjBQAAEBkpAAAACIjBQAAEBkpAACAyEgBAABERgoAACAyUgAAAJGRAgAAiIwUAABAZKQAAAAiIwUAABAZKQAAgMhIAQAAREYKAAAgMlIAAACRkQIAAIiMFAAAQGSkAAAAIiMFAAAQGSkAAIDISAEAAERGCgAAIDJSAAAAkZECAACIjBQAAEBkpAAAACIjBQAAEBkpAACAyEgBAABERgoAACAyUgAAAJGRAgAAiIwUAABAZKQAAAAiIwUAABAZKQAAgMhIAQAAREYKAAAgMlIAAACRkQIAAIiMFAAAQGSkAAAAIiMFAAAQGSkAAIDISAEAAERGCgAAIDJSAAAAkZECAACIjBQAAEBkpAAAACIjBQAAEBkpAACAyEgBAABERgoAACAyUgAAAJGRAgAAiIwUAABAZKQAAAAiIwUAABAZKQAAgMhIAQAAREYKAAAgMlIAAACRkQIAAIiMFAAAQGSkAAAAIiMFAAAQGSkAAIDISAEAAERGCgAAIDJSAAAAkZECAACIjBQAAEBkpAAAACIjBQAAEBkpAACAyEgBAABERgoAACAyUgAAAJGRAgAAiIwUAABAZKQAAAAiIwUAABAZKQAAgMhIAQAAREYKAAAgMlIAAACRkQIAAIiMFAAAQGSkAAAAIiMFAAAQGSkAAIDISAEAAERGCgAAIDJSAAAAkZECAACIjBQAAEBkpAAAACIjBQAAEBkpAACAyEgBAABERgoAACAyUgAAAJGRAgAAiIwUAABAZKQAAAAiIwUAABAZKQAAgMhIAQAAREYKAAAgMlIAAACRkQIAAIiMFAAAQGSkAAAAIiMFAAAQGSkAAIDISAEAAERGCgAAIDJSAAAAkZECAACIjBQAAEBkpAAAACIjBQAAEBkpAACAyEgBAABERgoAACAyUgAAAJGRAgAAiIwUAABAZKQAAAAiIwUAABAZKQAAgMhIAQAAREYKAAAgMlIAAACRkQIAAIiMFAAAQGSkAAAAIiMFAAAQGSkAAIDISAEAAERGCgAAIDJSAAAAkZECAACIjBQAAEBkpAAAACIjBQAAEBkpAACAyEgBAABERgoAACAyUgAAAJGRAgAAiIwUAABAZKQAAAAiIwUAABAZKQAAgMhIAQAAREYKAAAgMlIAAACRkQIAAIiMFAAAQGSkAAAAIiMFAAAQGSkAAIDISAEAAERGCgAAIDJSAAAAkZECAACIjBQAAEBkpAAAACIjBQAAEBkpAACAyEgBAABERgoAACAyUgAAAJGRAgAAiIwUAABAZKQAAAAiIwUAABAZKQAAgMhIAQAAREYKAAAgMlIAAACRkQIAAIiMFAAAQGSkAAAAIiMFAAAQGSkAAIDISAEAAERGCgAAIDJSAAAAkZECAACIjBQAAEBkpAAAACIjBQAAEBkpAACAyEgBAABERgoAACAyUgAAAJGRAgAAiIwUAABAZKQAAAAiIwUAABAZKQAAgMhIAQAAREYKAAAgMlIAAACRkQIAAIiMFAAAQGSkAAAAIiMFAAAQGSkAAIDISAEAAERGCgAAIDJSAAAAkZECAACIjBQAAEBkpAAAACIjBQAAEBkpAACAyEgBAABERgoAACAyUgAAAJGRAgAAiIwUAABAZKQAAAAiIwUAABAZKQAAgMhIAQAAREYKAAAgMlIAAACRkQIAAIiMFAAAQGSkAAAAIiMFAAAQGSkAAIDISAEAAERGCgAAIDJSAAAAkZECAACIjBQAAEBkpAAAACIjBQAAEBkpAACAyEgBAABERgoAACAyUgAAAJGRAgAAiIwUAABAZKQAAAAiIwUAABAZKQAAgMhIAQAAREYKAAAgMlIAAACRkQIAAIiMFAAAQGSkAAAAIiMFAAAQGSkAAIDISAEAAERGCgAAIDJSAAAAkZECAACIjBQAAEBkpAAAACIjBQAAEBkpAACAyEgBAABERgoAACAyUgAAAJGRAgAAiIwUAABAZKQAAAAiIwUAABAZKQAAgMhIAQAAREYKAAAgMlIAAACRkQIAAIiMFAAAQGSkAAAAIiMFAAAQGSkAAIDISAEAAERGCgAAIDJSAAAAkZECAACIjBQAAEBkpAAAACIjBQAAEBkpAACAyEgBAABERgoAACAyUgAAAJGRAgAAiIwUAABAZKQAAAAiIwUAABAZKQAAgMhIAQAAREYKAAAgMlIAAACRkQIAAIiMFAAAQGSkAAAAIiMFAAAQGSkAAIDISAEAAERGCgAAIDJSAAAAkZECAACIjBQAAEBkpAAAACIjBQAAEBkpAACAyEgBAABERgoAACAyUgAAAJGRAgAAiIwUAABAZKQAAAAiIwUAABAZKQAAgMhIAQAAREYKAAAgMlIAAACRkQIAAIiMFAAAQGSkAAAAIiMFAAAQGSkAAIDISAEAAERGCgAAIDJSAAAAkZECAACIjBQAAEBkpAAAACIjBQAAEBkpAACAyEgBAABERgoAACAyUgAAAJGRAgAAiIwUAABAZKQAAAAiIwUAABAZKQAAgMhIAQAAREYKAAAgMlIAAACRkQIAAIiMFAAAQGSkAAAAIiMFAAAQGSkAAIDISAEAAERGCgAAIDJSAAAAkZECAACIjBQAAEBkpAAAAKINPAYMlM0OvBcAAAAASUVORK5CYII=' width=850.0/>\n",
                            "            </div>\n",
                            "        "
                        ],
                        "text/plain": [
                            "Canvas(toolbar=Toolbar(toolitems=[('Home', 'Reset original view', 'home', 'home'), ('Back', 'Back to previous …"
                        ]
                    },
                    "metadata": {},
                    "output_type": "display_data"
                }
            ],
            "source": [
                "import matplotlib.pyplot as plt\n",
                "import numpy as np\n",
                "import subjects\n",
                "from subjects import sns_boxplot_kw,stat_kw\n",
                "import pandas as pd\n",
                "import seaborn as sns\n",
                "from neuropy.plotting import Fig\n",
                "from scipy import stats\n",
                "from statannotations.Annotator import Annotator\n",
                "\n",
                "\n",
                "grpdata = subjects.GroupData()\n",
                "group = ['NSD','SD']\n",
                "\n",
                "# ripple\n",
                "psd = grpdata.ripple_psd\n",
                "examples = grpdata.ripple_examples\n",
                "power= grpdata.ripple_zscore\n",
                "\n",
                "ripple_autocorr = grpdata.ripple_autocorr\n",
                "ripple_autocorr = ripple_autocorr[ripple_autocorr.lag_time>=-1]\n",
                "\n",
                "rate = grpdata.ripple_rate\n",
                "colors_ripple_rate = subjects.colors_sd(1.3)\n",
                "\n",
                "total_dur = grpdata.ripple_total_duration\n",
                "colors_rpl_dur = subjects.colors_sd(1.2)\n",
                "\n",
                "peak_freq = grpdata.ripple_peak_frequency\n",
                "peak_freq = peak_freq[(peak_freq['t']!='pre')&(peak_freq[\"t\"]!=\"maze\")]\n",
                "colors_pf = subjects.colors_sd(1.3)\n",
                "\n",
                "# pbe\n",
                "\n",
                "pbe_rate = grpdata.pbe_rate\n",
                "pbe_total_dur = grpdata.pbe_total_duration\n",
                "\n",
                "# frate\n",
                "frate_in_rpl = grpdata.frate_in_ripple\n",
                "colors_frate = [\n",
                "    [subjects.nsd.color(0.9), subjects.nsd.color(1.9)],\n",
                "    [subjects.sd.color(1), subjects.sd.color(1.5)],\n",
                "]\n",
                "\n",
                "plt.clf()\n",
                "fig = Fig(grid=(8, 11), fontsize=7)\n",
                "filename = subjects.figpath_sd / \"figure2\"\n",
                "caption = \"Ripple and PBEs compared between SD and NSD sessions.\\n(A) Mean ripple power spectral density across SD and NSD sessions during Pre, Maze and POST. Error bars indicate +/- SEM.\\n(B) Distribution of peak ripple frequency calculated using wavelet compared across SD (orange) and NSD (purple) at selected epochs of each session. \\n(C) Rate of ripple occurence during POST of SD (top left) and NSD (top right) sessions. Black dashed line represent median across sessions. Bottom panel shows integrated ripple duration during POST. \\n(D) Same as (C) but of PBE events. \\nE) Normalized z-scored firing rate within ripples calculated at various epochs for pyramidal and interneurons. Error bars indicate 90% CI.\"\n"
            ]
        },
        {
            "cell_type": "markdown",
            "metadata": {},
            "source": [
                "### Peak frequency and power"
            ]
        },
        {
            "cell_type": "code",
            "execution_count": 7,
            "metadata": {},
            "outputs": [
                {
                    "name": "stdout",
                    "output_type": "stream",
                    "text": [
                        "p-value annotation legend:\n",
                        "      ns: p <= 1.00e+00\n",
                        "       *: 1.00e-02 < p <= 5.00e-02\n",
                        "      **: 1.00e-03 < p <= 1.00e-02\n",
                        "     ***: 1.00e-04 < p <= 1.00e-03\n",
                        "    ****: p <= 1.00e-04\n",
                        "\n",
                        "2.5-5.0_NSD vs. 2.5-5.0_SD: Welch's t-test independent samples, P_val:0.000e+00 t=-9.358e+01\n",
                        "0.0-2.5_NSD vs. 0.0-2.5_SD: Welch's t-test independent samples, P_val:0.000e+00 t=-6.296e+01\n",
                        "5.0-7.5_NSD vs. 5.0-7.5_SD: Welch's t-test independent samples, P_val:1.100e-05 t=-4.397e+00\n",
                        "p-value annotation legend:\n",
                        "      ns: p <= 1.00e+00\n",
                        "       *: 1.00e-02 < p <= 5.00e-02\n",
                        "      **: 1.00e-03 < p <= 1.00e-02\n",
                        "     ***: 1.00e-04 < p <= 1.00e-03\n",
                        "    ****: p <= 1.00e-04\n",
                        "\n",
                        "2.5-5.0_NSD vs. 2.5-5.0_SD: Welch's t-test independent samples, P_val:0.000e+00 t=4.321e+01\n",
                        "0.0-2.5_NSD vs. 0.0-2.5_SD: Welch's t-test independent samples, P_val:0.000e+00 t=7.039e+01\n",
                        "5.0-7.5_NSD vs. 5.0-7.5_SD: Welch's t-test independent samples, P_val:7.114e-07 t=-4.959e+00\n"
                    ]
                },
                {
                    "data": {
                        "text/plain": [
                            "(-2.04, 25.240000000000002, -0.759202034104408, 1.0837715254335432)"
                        ]
                    },
                    "execution_count": 7,
                    "metadata": {},
                    "output_type": "execute_result"
                }
            ],
            "source": [
                "y_labels = [\"Intraripple frequency (Hz)\", \"Ripple power (zscore)\"]\n",
                "for d, (df, y) in enumerate(zip([peak_freq, power], [\"f\", \"zscore\"])):\n",
                "    ax = fig.subplot(fig.gs[0, 2 * d : 2 * d + 2])\n",
                "    plot_kw = dict(data=df, x=\"t\", y=y, hue=\"grp\", hue_order=group, ax=ax)\n",
                "\n",
                "    sns.boxplot(**plot_kw, width=0.5, **sns_boxplot_kw)\n",
                "    ax.tick_params(\"x\", labelrotation=30)\n",
                "    ax.legend([], frameon=False)\n",
                "    ax.set_ylabel(y_labels[d])\n",
                "    ax.set_xlabel(\"\")\n",
                "\n",
                "    # stats\n",
                "    orders = df.t.unique()\n",
                "    pairs = [((_, \"NSD\"), (_, \"SD\")) for _ in orders]\n",
                "    annotator = Annotator(pairs=pairs, **plot_kw, order=orders)\n",
                "    annotator.configure(test=\"t-test_welch\", **stat_kw)\n",
                "\n",
                "    annotator.apply_and_annotate()\n",
                "    annotator.reset_configuration()\n",
                "\n",
                "\n",
                "### Ripple autocorr\n",
                "ax = fig.subplot(fig.gs[4])\n",
                "sns.lineplot(\n",
                "    data=ripple_autocorr,\n",
                "    x=\"lag_time\",\n",
                "    y=\"auto_corr\",\n",
                "    hue=\"grp\",\n",
                "    ci=None,\n",
                "    palette=subjects.colors_sd(1.4),\n",
                "    lw=1,\n",
                ")\n",
                "ax.legend(\"\", frameon=False)\n",
                "ax.axis(\"off\")\n"
            ]
        },
        {
            "cell_type": "markdown",
            "metadata": {},
            "source": [
                "### Ripple and PBE rate"
            ]
        },
        {
            "cell_type": "code",
            "execution_count": 8,
            "metadata": {},
            "outputs": [
                {
                    "name": "stdout",
                    "output_type": "stream",
                    "text": [
                        "p-value annotation legend:\n",
                        "      ns: p <= 1.00e+00\n",
                        "       *: 1.00e-02 < p <= 5.00e-02\n",
                        "      **: 1.00e-03 < p <= 1.00e-02\n",
                        "     ***: 1.00e-04 < p <= 1.00e-03\n",
                        "    ****: p <= 1.00e-04\n",
                        "\n",
                        "2.5-5.0_NSD vs. 2.5-5.0_SD: Welch's t-test independent samples, P_val:1.075e-03 t=-4.110e+00\n",
                        "0.0-2.5_NSD vs. 0.0-2.5_SD: Welch's t-test independent samples, P_val:8.193e-01 t=2.358e-01\n",
                        "5.0-7.5_NSD vs. 5.0-7.5_SD: Welch's t-test independent samples, P_val:6.698e-01 t=-4.397e-01\n",
                        "p-value annotation legend:\n",
                        "      ns: p <= 1.00e+00\n",
                        "       *: 1.00e-02 < p <= 5.00e-02\n",
                        "      **: 1.00e-03 < p <= 1.00e-02\n",
                        "     ***: 1.00e-04 < p <= 1.00e-03\n",
                        "    ****: p <= 1.00e-04\n",
                        "\n",
                        "0.0-2.5_NSD vs. 2.5-5.0_NSD: t-test paired samples, P_val:1.857e-03 t=4.850e+00\n",
                        "2.5-5.0_NSD vs. 5.0-7.5_NSD: t-test paired samples, P_val:1.169e-01 t=1.788e+00\n",
                        "0.0-2.5_SD vs. 2.5-5.0_SD: t-test paired samples, P_val:7.257e-01 t=-3.652e-01\n",
                        "2.5-5.0_SD vs. 5.0-7.5_SD: t-test paired samples, P_val:1.966e-02 t=3.010e+00\n",
                        "p-value annotation legend:\n",
                        "      ns: p <= 1.00e+00\n",
                        "       *: 1.00e-02 < p <= 5.00e-02\n",
                        "      **: 1.00e-03 < p <= 1.00e-02\n",
                        "     ***: 1.00e-04 < p <= 1.00e-03\n",
                        "    ****: p <= 1.00e-04\n",
                        "\n",
                        "2.5-5.0_NSD vs. 2.5-5.0_SD: Welch's t-test independent samples, P_val:2.035e-01 t=-1.345e+00\n",
                        "0.0-2.5_NSD vs. 0.0-2.5_SD: Welch's t-test independent samples, P_val:8.271e-02 t=1.899e+00\n",
                        "5.0-7.5_NSD vs. 5.0-7.5_SD: Welch's t-test independent samples, P_val:8.802e-01 t=1.538e-01\n",
                        "p-value annotation legend:\n",
                        "      ns: p <= 1.00e+00\n",
                        "       *: 1.00e-02 < p <= 5.00e-02\n",
                        "      **: 1.00e-03 < p <= 1.00e-02\n",
                        "     ***: 1.00e-04 < p <= 1.00e-03\n",
                        "    ****: p <= 1.00e-04\n",
                        "\n",
                        "0.0-2.5_NSD vs. 2.5-5.0_NSD: t-test paired samples, P_val:2.454e-02 t=2.983e+00\n",
                        "2.5-5.0_NSD vs. 5.0-7.5_NSD: t-test paired samples, P_val:3.767e-02 t=2.657e+00\n",
                        "0.0-2.5_SD vs. 2.5-5.0_SD: t-test paired samples, P_val:1.492e-01 t=-1.620e+00\n",
                        "2.5-5.0_SD vs. 5.0-7.5_SD: t-test paired samples, P_val:2.752e-03 t=4.514e+00\n"
                    ]
                }
            ],
            "source": [
                "y_labels = [\"Ripple rate (Hz)\", \"PBE rate (Hz)\"]\n",
                "for d, (df, y) in enumerate(zip([rate, pbe_rate], [\"rate\", \"rate\"])):\n",
                "    ax = fig.subplot(fig.gs[1, 2 * d : 2 * d + 2])\n",
                "    plot_kw = dict(\n",
                "        data=df,\n",
                "        x=\"Zt\",\n",
                "        y=y,\n",
                "        hue=\"grp\",\n",
                "        hue_order=group,\n",
                "        ax=ax,\n",
                "        dodge=True,\n",
                "    )\n",
                "\n",
                "    sns.stripplot(\n",
                "        **plot_kw, palette=subjects.colors_sd(1), edgecolor=\"k\", linewidth=0.3, size=3\n",
                "    )\n",
                "    sns.boxplot(**plot_kw, color=\"k\", width=0.5, **sns_boxplot_kw)\n",
                "    ax.tick_params(\"x\", labelrotation=30)\n",
                "    ax.legend([], frameon=False)\n",
                "    ax.set_ylabel(y_labels[d])\n",
                "    ax.set_xlabel(\"\")\n",
                "\n",
                "    # stats\n",
                "    # Across groups\n",
                "    orders = df.Zt.unique()\n",
                "    pairs = [((_, \"NSD\"), (_, \"SD\")) for _ in orders]\n",
                "    annotator = Annotator(pairs=pairs, **plot_kw, order=orders)\n",
                "    annotator.configure(test=\"t-test_welch\", **stat_kw)\n",
                "    annotator.apply_and_annotate()\n",
                "    annotator.reset_configuration()\n",
                "\n",
                "    # Within groups\n",
                "    pairs2 = []\n",
                "    for g in group:\n",
                "        pairs2.extend([((orders[_], g), (orders[_ + 1], g)) for _ in range(2)])\n",
                "    annotator = Annotator(pairs=pairs2, **plot_kw, order=orders)\n",
                "    annotator.configure(test=\"t-test_paired\", **stat_kw)\n",
                "    annotator.apply_and_annotate()\n",
                "    annotator.reset_configuration()\n"
            ]
        },
        {
            "cell_type": "markdown",
            "metadata": {},
            "source": [
                "### Firing inside/outside ripples"
            ]
        },
        {
            "cell_type": "code",
            "execution_count": 9,
            "metadata": {},
            "outputs": [
                {
                    "name": "stdout",
                    "output_type": "stream",
                    "text": [
                        "p-value annotation legend:\n",
                        "      ns: p <= 1.00e+00\n",
                        "       *: 1.00e-02 < p <= 5.00e-02\n",
                        "      **: 1.00e-03 < p <= 1.00e-02\n",
                        "     ***: 1.00e-04 < p <= 1.00e-03\n",
                        "    ****: p <= 1.00e-04\n",
                        "\n",
                        "0.0-2.5_NSD vs. 0.0-2.5_SD: Welch's t-test independent samples, P_val:6.163e-01 t=-5.027e-01\n",
                        "2.5-5.0_NSD vs. 2.5-5.0_SD: Welch's t-test independent samples, P_val:4.483e-02 t=-2.030e+00\n",
                        "5.0-7.5_NSD vs. 5.0-7.5_SD: Welch's t-test independent samples, P_val:3.730e-02 t=2.108e+00\n",
                        "p-value annotation legend:\n",
                        "      ns: p <= 1.00e+00\n",
                        "       *: 1.00e-02 < p <= 5.00e-02\n",
                        "      **: 1.00e-03 < p <= 1.00e-02\n",
                        "     ***: 1.00e-04 < p <= 1.00e-03\n",
                        "    ****: p <= 1.00e-04\n",
                        "\n",
                        "0.0-2.5_NSD vs. 0.0-2.5_SD: Welch's t-test independent samples, P_val:6.503e-03 t=2.727e+00\n",
                        "2.5-5.0_NSD vs. 2.5-5.0_SD: Welch's t-test independent samples, P_val:4.416e-01 t=7.698e-01\n",
                        "5.0-7.5_NSD vs. 5.0-7.5_SD: Welch's t-test independent samples, P_val:8.904e-04 t=-3.333e+00\n",
                        "p-value annotation legend:\n",
                        "      ns: p <= 1.00e+00\n",
                        "       *: 1.00e-02 < p <= 5.00e-02\n",
                        "      **: 1.00e-03 < p <= 1.00e-02\n",
                        "     ***: 1.00e-04 < p <= 1.00e-03\n",
                        "    ****: p <= 1.00e-04\n",
                        "\n",
                        "0.0-2.5_NSD vs. 0.0-2.5_SD: Welch's t-test independent samples, P_val:1.447e-03 t=-3.295e+00\n",
                        "2.5-5.0_NSD vs. 2.5-5.0_SD: Welch's t-test independent samples, P_val:2.987e-04 t=-3.758e+00\n",
                        "5.0-7.5_NSD vs. 5.0-7.5_SD: Welch's t-test independent samples, P_val:7.963e-10 t=6.801e+00\n",
                        "p-value annotation legend:\n",
                        "      ns: p <= 1.00e+00\n",
                        "       *: 1.00e-02 < p <= 5.00e-02\n",
                        "      **: 1.00e-03 < p <= 1.00e-02\n",
                        "     ***: 1.00e-04 < p <= 1.00e-03\n",
                        "    ****: p <= 1.00e-04\n",
                        "\n",
                        "0.0-2.5_NSD vs. 0.0-2.5_SD: Welch's t-test independent samples, P_val:8.405e-01 t=2.013e-01\n",
                        "2.5-5.0_NSD vs. 2.5-5.0_SD: Welch's t-test independent samples, P_val:2.578e-01 t=-1.132e+00\n",
                        "5.0-7.5_NSD vs. 5.0-7.5_SD: Welch's t-test independent samples, P_val:4.993e-01 t=6.758e-01\n"
                    ]
                }
            ],
            "source": [
                "k = 0\n",
                "for i, w in enumerate([\"inside\", \"outside\"]):\n",
                "    df_w = frate_in_rpl[frate_in_rpl[\"where\"] == w]\n",
                "\n",
                "    for i1, n in enumerate([\"inter\", \"pyr\"]):\n",
                "        df = df_w[df_w[\"neuron_type\"] == n].reset_index(drop=True)\n",
                "\n",
                "        ax = plt.subplot(fig.gs[i + 2, 2 * i1 : 2 * i1 + 2])\n",
                "        plot_kw = dict(data=df, x=\"time\", width=0.5, y=\"frate\", hue=\"grp\", ax=ax)\n",
                "\n",
                "        sns.boxplot(**plot_kw, **sns_boxplot_kw)\n",
                "        k = k + 1\n",
                "\n",
                "        ax.set_ylabel(\"\")\n",
                "        ax.set_xlabel(\"\")\n",
                "        ax.legend(\"\", frameon=False)\n",
                "        ax.tick_params(\"x\", labelrotation=30)\n",
                "\n",
                "        if i1 == 0:\n",
                "            ax.set_ylabel(f\"Firing rate (z-scored)\\n{w} ripples\")\n",
                "            fig.panel_label(ax, \"C\")\n",
                "\n",
                "        # stats\n",
                "        orders = df.time.unique()\n",
                "        pairs = [((_, \"NSD\"), (_, \"SD\")) for _ in orders]\n",
                "        annotator = Annotator(pairs=pairs, **plot_kw, order=orders)\n",
                "        annotator.configure(test=\"t-test_welch\", **stat_kw)\n",
                "        annotator.apply_and_annotate()\n",
                "        annotator.reset_configuration()\n"
            ]
        },
        {
            "cell_type": "markdown",
            "metadata": {},
            "source": [
                "### saving"
            ]
        },
        {
            "cell_type": "code",
            "execution_count": null,
            "metadata": {},
            "outputs": [],
            "source": [
                "# fig.savefig(filename,caption=caption)"
            ]
        }
    ],
    "metadata": {
        "interpreter": {
            "hash": "cce1618081139d19eb1ee8d40815d94a2de4f62e1efb20d9406ddb60628c36ae"
        },
        "kernelspec": {
            "display_name": "Python 3.9.7 64-bit ('data_analysis': conda)",
            "name": "python3"
        },
        "language_info": {
            "codemirror_mode": {
                "name": "ipython",
                "version": 3
            },
            "file_extension": ".py",
            "mimetype": "text/x-python",
            "name": "python",
            "nbconvert_exporter": "python",
            "pygments_lexer": "ipython3",
            "version": "3.10.4"
        },
        "orig_nbformat": 4
    },
    "nbformat": 4,
    "nbformat_minor": 2
}
