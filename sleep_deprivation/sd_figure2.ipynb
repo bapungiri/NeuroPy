{
    "cells": [
        {
            "cell_type": "markdown",
            "metadata": {},
            "source": [
                "### Figure 2 : Ripple oscillations"
            ]
        },
        {
            "cell_type": "code",
            "execution_count": null,
            "metadata": {},
            "outputs": [],
            "source": [
                "import matplotlib.pyplot as plt\n",
                "import numpy as np\n",
                "import subjects\n",
                "from subjects import sns_boxplot_kw,stat_kw, sns_violin_kw\n",
                "import pandas as pd\n",
                "import seaborn as sns\n",
                "from neuropy.plotting import Fig\n",
                "from scipy import stats\n",
                "from statannotations.Annotator import Annotator\n",
                "from plotters import violinplot\n",
                "\n",
                "\n",
                "grpdata = subjects.GroupData()\n",
                "group = ['NSD','SD']\n",
                "\n",
                "# ripple\n",
                "psd = grpdata.ripple_psd\n",
                "examples = grpdata.ripple_examples\n",
                "\n",
                "rpl_features = grpdata.ripple_features\n",
                "ripple_autocorr = grpdata.ripple_autocorr\n",
                "# ripple_autocorr = ripple_autocorr[ripple_autocorr.lag_time>=-1]\n",
                "\n",
                "rate = grpdata.ripple_rate\n",
                "pbe_rate = grpdata.pbe_rate\n",
                "\n",
                "# frate\n",
                "frate_in_rpl = grpdata.frate_in_ripple\n",
                "\n",
                "\n",
                "plt.clf()\n",
                "fig = Fig(grid=(8, 11), fontsize=7)\n",
                "filename = subjects.figpath_sd / \"figure2\""
            ]
        },
        {
            "cell_type": "markdown",
            "metadata": {},
            "source": [
                "### Peak frequency and power"
            ]
        },
        {
            "cell_type": "code",
            "execution_count": null,
            "metadata": {},
            "outputs": [],
            "source": [
                "# power['zscore'] = np.log10(power['zscore'])\n",
                "y_labels = [\"Ripple frequency (Hz)\", \"Ripple power (zscore)\", \"Sharp wave amplitude\"]\n",
                "for d, y in enumerate([\"peak_freq\", \"ripple_power\", \"sw_amp\"]):\n",
                "    ax = fig.subplot(fig.gs[1, 2 * d : 2 * d + 2])\n",
                "    plot_kw = dict(data=rpl_features, x=\"zt\", y=y, hue=\"grp\", hue_order=group, ax=ax)\n",
                "\n",
                "    # sns.boxplot(**plot_kw, width=0.5, **sns_boxplot_kw)\n",
                "    violinplot(**plot_kw)\n",
                "    ax.tick_params(\"x\", labelrotation=30)\n",
                "    ax.legend([], frameon=False)\n",
                "    ax.set_ylabel(y_labels[d])\n",
                "    ax.set_xlabel(\"\")\n",
                "\n",
                "    # stats\n",
                "    # stat_kw['loc'] = 'inside'\n",
                "    orders = rpl_features.zt.unique()\n",
                "    pairs = [((_, \"NSD\"), (_, \"SD\")) for _ in orders]\n",
                "    pairs = pairs + [((\"0-2.5\", \"NSD\"), (\"5-7.5\", \"SD\"))]\n",
                "    annotator = Annotator(pairs=pairs, **plot_kw, order=orders)\n",
                "    annotator.configure(test=\"t-test_welch\", **stat_kw, color=\"#4AB33E\")\n",
                "    annotator.apply_and_annotate()\n",
                "    annotator.reset_configuration()\n",
                "\n",
                "    pairs = [((\"2.5-5\", \"SD\"), (\"5-7.5\", \"SD\"))]\n",
                "    annotator = Annotator(pairs=pairs, **plot_kw, order=orders)\n",
                "    annotator.configure(test=\"t-test_welch\", **stat_kw, color=subjects.colors_sd(1)[1])\n",
                "    annotator.apply_and_annotate()\n",
                "    annotator.reset_configuration()\n",
                "\n",
                "    pairs = [((\"2.5-5\", \"NSD\"), (\"5-7.5\", \"NSD\"))]\n",
                "    annotator = Annotator(pairs=pairs, **plot_kw, order=orders)\n",
                "    annotator.configure(test=\"t-test_welch\", **stat_kw, color=subjects.colors_sd(1)[0])\n",
                "    annotator.apply_and_annotate()\n",
                "    annotator.reset_configuration()\n",
                "\n",
                "\n",
                "### Ripple autocorr\n",
                "ax = fig.subplot(fig.gs[7:9])\n",
                "sns.lineplot(\n",
                "    data=ripple_autocorr,\n",
                "    x=\"lag_time\",\n",
                "    y=\"auto_corr\",\n",
                "    hue=\"grp\",\n",
                "    hue_order=[\"NSD\", \"SD\"],\n",
                "    ci=None,\n",
                "    palette=subjects.colors_sd(1),\n",
                "    lw=1,\n",
                ")\n",
                "ax.legend(\"\", frameon=False)\n",
                "# ax.axis(\"off\")\n"
            ]
        },
        {
            "cell_type": "markdown",
            "metadata": {},
            "source": [
                "### Ripple and PBE rate"
            ]
        },
        {
            "cell_type": "code",
            "execution_count": null,
            "metadata": {},
            "outputs": [],
            "source": [
                "y_labels = [\"Ripple rate (Hz)\", \"PBE rate (Hz)\"]\n",
                "for d, (df, y) in enumerate(zip([rate, pbe_rate], [\"rate\", \"rate\"])):\n",
                "    ax = fig.subplot(fig.gs[3, 2 * d : 2 * d + 2])\n",
                "    plot_kw = dict(\n",
                "        data=df,\n",
                "        x=\"zt\",\n",
                "        y=y,\n",
                "        hue=\"grp\",\n",
                "        hue_order=group,\n",
                "        ax=ax,\n",
                "        dodge=True,\n",
                "    )\n",
                "\n",
                "    sns.stripplot(\n",
                "        **plot_kw, palette=subjects.colors_sd(1), edgecolor=\"w\", linewidth=0.3, size=3\n",
                "    )\n",
                "    # violinplot(**plot_kw)\n",
                "    ax.tick_params(\"x\", labelrotation=30)\n",
                "    ax.legend([], frameon=False)\n",
                "    ax.set_ylabel(y_labels[d])\n",
                "    ax.set_xlabel(\"\")\n",
                "\n",
                "    # stats\n",
                "    # Across groups\n",
                "    orders = df.zt.unique()\n",
                "    pairs = [((_, \"NSD\"), (_, \"SD\")) for _ in orders]\n",
                "    annotator = Annotator(pairs=pairs, **plot_kw, order=orders)\n",
                "    annotator.configure(test=\"t-test_welch\", **stat_kw, color=\"#4AB33E\")\n",
                "    annotator.apply_and_annotate()\n",
                "    annotator.reset_configuration()\n",
                "\n",
                "    # Within groups\n",
                "    for i, g in enumerate(group):\n",
                "        pairs2 = [((orders[_], g), (orders[_ + 1], g)) for _ in range(3)]\n",
                "        annotator = Annotator(pairs=pairs2, **plot_kw, order=orders)\n",
                "        annotator.configure(\n",
                "            test=\"t-test_paired\", **stat_kw, color=subjects.colors_sd(1)[i]\n",
                "        )\n",
                "        annotator.apply_and_annotate()\n",
                "        annotator.reset_configuration()\n"
            ]
        },
        {
            "cell_type": "markdown",
            "metadata": {},
            "source": [
                "### Firing inside/outside ripples"
            ]
        },
        {
            "cell_type": "raw",
            "metadata": {},
            "source": [
                "k = 0\n",
                "for i, w in enumerate([\"inside\", \"outside\"]):\n",
                "    df_w = frate_in_rpl[frate_in_rpl[\"where\"] == w]\n",
                "\n",
                "    for i1, n in enumerate([\"inter\", \"pyr\"]):\n",
                "        df = df_w[df_w[\"neuron_type\"] == n].reset_index(drop=True)\n",
                "\n",
                "        ax = plt.subplot(fig.gs[i + 2, 2 * i1 : 2 * i1 + 2])\n",
                "        plot_kw = dict(data=df, x=\"zt\", width=0.5, y=\"frate\", hue=\"grp\", ax=ax)\n",
                "\n",
                "        sns.boxplot(**plot_kw, **sns_boxplot_kw)\n",
                "        k = k + 1\n",
                "\n",
                "        ax.set_ylabel(\"\")\n",
                "        ax.set_xlabel(\"\")\n",
                "        ax.legend(\"\", frameon=False)\n",
                "        ax.tick_params(\"x\", labelrotation=30)\n",
                "        ax.set_ylim(-20,600)\n",
                "\n",
                "        if i1 == 0:\n",
                "            ax.set_ylabel(f\"Firing rate (z-scored)\\n{w} ripples\")\n",
                "            fig.panel_label(ax, \"C\")\n",
                "\n",
                "        # stats\n",
                "        orders = df.zt.unique()\n",
                "        pairs = [((_, \"NSD\"), (_, \"SD\")) for _ in orders]\n",
                "        annotator = Annotator(pairs=pairs, **plot_kw, order=orders)\n",
                "        annotator.configure(test=\"t-test_welch\", **stat_kw)\n",
                "        annotator.apply_and_annotate()\n",
                "        annotator.reset_configuration()\n"
            ]
        },
        {
            "cell_type": "markdown",
            "metadata": {},
            "source": [
                "### saving"
            ]
        },
        {
            "cell_type": "code",
            "execution_count": null,
            "metadata": {},
            "outputs": [],
            "source": [
                "fig.savefig(filename)"
            ]
        }
    ],
    "metadata": {
        "interpreter": {
            "hash": "cce1618081139d19eb1ee8d40815d94a2de4f62e1efb20d9406ddb60628c36ae"
        },
        "kernelspec": {
            "display_name": "Python 3.9.7 64-bit ('data_analysis': conda)",
            "name": "python3"
        },
        "language_info": {
            "codemirror_mode": {
                "name": "ipython",
                "version": 3
            },
            "file_extension": ".py",
            "mimetype": "text/x-python",
            "name": "python",
            "nbconvert_exporter": "python",
            "pygments_lexer": "ipython3",
            "version": "3.10.4"
        },
        "orig_nbformat": 4
    },
    "nbformat": 4,
    "nbformat_minor": 2
}
