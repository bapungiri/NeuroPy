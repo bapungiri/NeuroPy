{
 "cells": [
  {
   "cell_type": "markdown",
   "metadata": {},
   "source": [
    "# Figure 3\n",
    " - Explained variance each subject individually\n",
    " "
   ]
  },
  {
   "cell_type": "code",
   "execution_count": 1,
   "metadata": {},
   "outputs": [],
   "source": [
    "import matplotlib.pyplot as plt\n",
    "from scipy import stats\n",
    "import pandas as pd\n",
    "from subjects import sd,nsd,sd_colors,figpath_sd\n",
    "from neuropy.analyses import ExplainedVariance\n",
    "from neuropy import plotting\n",
    "\n",
    "sd_sessions = sd.ratNday1 + sd.ratSday3  + sd.ratUday4\n",
    "nsd_sessions = nsd.ratNday2 + nsd.ratSday2 + nsd.ratUday2"
   ]
  },
  {
   "cell_type": "code",
   "execution_count": 3,
   "metadata": {},
   "outputs": [
    {
     "name": "stderr",
     "output_type": "stream",
     "text": [
      "/home/bapung/miniconda3/envs/data_analysis/lib/python3.9/site-packages/numpy/lib/function_base.py:2642: RuntimeWarning: invalid value encountered in true_divide\n",
      "  c /= stddev[:, None]\n",
      "/home/bapung/miniconda3/envs/data_analysis/lib/python3.9/site-packages/numpy/lib/function_base.py:2643: RuntimeWarning: invalid value encountered in true_divide\n",
      "  c /= stddev[None, :]\n"
     ]
    }
   ],
   "source": [
    "sd_expvar, nsd_expvar = [], []\n",
    "for grp, sessions in enumerate([sd_sessions, nsd_sessions]):\n",
    "    for sub, sess in enumerate(sessions):\n",
    "        pre = sess.paradigm[\"pre\"]\n",
    "        maze = sess.paradigm[\"maze\"]\n",
    "        if maze.size ==0:\n",
    "            maze = sess.paradigm[\"maze1\"]\n",
    "        post = sess.paradigm[\"post\"]\n",
    "\n",
    "        re_maze = sess.paradigm['re-maze']\n",
    "        if re_maze.size !=0:\n",
    "            post = [post[0],re_maze[1]]\n",
    "\n",
    "        neurons = sess.neurons.get_neuron_type(\"pyr\")\n",
    "        expvar = ExplainedVariance(\n",
    "            neurons=neurons, template=maze, matching=post, control=pre\n",
    "        )\n",
    "        if grp == 0:\n",
    "            sd_expvar.append(expvar)\n",
    "        else:\n",
    "            nsd_expvar.append(expvar)\n"
   ]
  },
  {
   "cell_type": "markdown",
   "metadata": {},
   "source": [
    "## Plotting"
   ]
  },
  {
   "cell_type": "code",
   "execution_count": 4,
   "metadata": {},
   "outputs": [
    {
     "data": {
      "application/vnd.jupyter.widget-view+json": {
       "model_id": "9e5adc9a3b454f1189c0b52b06377243",
       "version_major": 2,
       "version_minor": 0
      },
      "text/plain": [
       "Canvas(toolbar=Toolbar(toolitems=[('Home', 'Reset original view', 'home', 'home'), ('Back', 'Back to previous …"
      ]
     },
     "metadata": {},
     "output_type": "display_data"
    }
   ],
   "source": [
    "%matplotlib widget\n",
    "import seaborn as sns\n",
    "import numpy as np\n",
    "\n",
    "figure = plotting.Fig()\n",
    "fig, gs = figure.draw(num=1, grid=(6, 2), hspace=0.3, wspace=0.35)\n",
    "fig.suptitle(\"Figure 3\", x=0, ha=\"left\", fontsize=16)\n",
    "\n",
    "sessions = [sd_sessions, nsd_sessions]\n",
    "for grp_i, (expvar_grp, grp) in enumerate(zip([sd_expvar, nsd_expvar], [\"sd\", \"nsd\"])):\n",
    "    grp_sessions = sessions[grp_i]\n",
    "    for i, expvar in enumerate(expvar_grp):\n",
    "        gs_ev = figure.subplot2grid(gs[i, grp_i], grid=(4, 1))\n",
    "        ax = plt.subplot(gs_ev[1:])\n",
    "        expvar.colors[\"ev\"] = sd_colors[grp]\n",
    "        expvar.colors[\"rev\"] = \"#a5a19c\"\n",
    "        expvar.plot(ax=ax, legend=None)\n",
    "        ax.set_ylim([-0.01, 0.23])\n",
    "\n",
    "        # ax_slp = ax.twinx()\n",
    "        post = grp_sessions[i].paradigm['post']\n",
    "        post_brainstates = grp_sessions[i].brainstates.time_slice(post[0],post[1])\n",
    "        ax_hypno = plt.subplot(gs_ev[0])\n",
    "        plotting.plot_hypnogram(post_brainstates, ax=ax_hypno)\n",
    "        # ax_hypno.set_xlim(left=0)\n",
    "\n",
    "df = pd.DataFrame()\n",
    "for grp, expvars in enumerate([sd_expvar, nsd_expvar]):\n",
    "    for i, expvar in enumerate(expvars):\n",
    "        ev_diff = expvar.ev - expvar.rev\n",
    "        ev_bins = np.arange(len(ev_diff))\n",
    "        df = df.append(\n",
    "            pd.DataFrame({\"ev_diff\": ev_diff, \"bins\": ev_bins, \"grp\": grp}),\n",
    "            ignore_index=True,\n",
    "        )\n",
    "\n",
    "ax = plt.subplot(gs[4, 0])\n",
    "sns.lineplot(\n",
    "    data=df,\n",
    "    x=\"bins\",\n",
    "    y=\"ev_diff\",\n",
    "    hue=\"grp\",\n",
    "    ci=None,\n",
    "    ax=ax,\n",
    "    linewidth=3,\n",
    "    palette=[\"r\", \"k\"],\n",
    ")\n",
    "ax.set_ylabel(\"Explained variance\")\n",
    "ax.set_xlabel(\"ZT bins\")\n",
    "\n",
    "figure.savefig(figpath_sd / \"figure3\")\n"
   ]
  }
 ],
 "metadata": {
  "interpreter": {
   "hash": "cce1618081139d19eb1ee8d40815d94a2de4f62e1efb20d9406ddb60628c36ae"
  },
  "kernelspec": {
   "display_name": "Python 3.9.6 64-bit ('data_analysis': conda)",
   "name": "python3"
  },
  "language_info": {
   "codemirror_mode": {
    "name": "ipython",
    "version": 3
   },
   "file_extension": ".py",
   "mimetype": "text/x-python",
   "name": "python",
   "nbconvert_exporter": "python",
   "pygments_lexer": "ipython3",
   "version": "3.9.7"
  },
  "orig_nbformat": 4
 },
 "nbformat": 4,
 "nbformat_minor": 2
}
