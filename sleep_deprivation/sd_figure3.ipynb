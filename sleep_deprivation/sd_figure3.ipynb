{
 "cells": [
  {
   "cell_type": "markdown",
   "metadata": {},
   "source": [
    "# Figure 3\n",
    " - Explained variance each subject individually\n",
    " "
   ]
  },
  {
   "cell_type": "code",
   "execution_count": null,
   "metadata": {},
   "outputs": [],
   "source": [
    "import matplotlib.pyplot as plt\n",
    "from scipy import stats\n",
    "import pandas as pd\n",
    "from subjects import sd,nsd,sd_colors,figpath_sd\n",
    "from neuropy.analyses import ExplainedVariance\n",
    "from neuropy import plotting\n",
    "\n",
    "sd_sessions = sd.ratNday1 + sd.ratSday3  + sd.ratUday4\n",
    "nsd_sessions = nsd.ratNday2 + nsd.ratSday2 + nsd.ratUday2"
   ]
  },
  {
   "cell_type": "code",
   "execution_count": null,
   "metadata": {},
   "outputs": [],
   "source": [
    "sd_expvar, nsd_expvar = [], []\n",
    "for grp, sessions in enumerate([sd_sessions, nsd_sessions]):\n",
    "    for sub, sess in enumerate(sessions):\n",
    "        pre = sess.paradigm[\"pre\"]\n",
    "        maze = sess.paradigm[\"maze\"]\n",
    "        if maze.size ==0:\n",
    "            maze = sess.paradigm[\"maze1\"]\n",
    "        post = sess.paradigm[\"post\"]\n",
    "\n",
    "        re_maze = sess.paradigm['re-maze']\n",
    "        if re_maze.size !=0:\n",
    "            post = [post[0],re_maze[1]]\n",
    "\n",
    "        neurons = sess.neurons.get_neuron_type(\"pyr\")\n",
    "        expvar = ExplainedVariance(\n",
    "            neurons=neurons, template=maze, matching=post, control=pre\n",
    "        )\n",
    "        if grp == 0:\n",
    "            sd_expvar.append(expvar)\n",
    "        else:\n",
    "            nsd_expvar.append(expvar)\n"
   ]
  },
  {
   "cell_type": "markdown",
   "metadata": {},
   "source": [
    "## Plotting"
   ]
  },
  {
   "cell_type": "code",
   "execution_count": null,
   "metadata": {},
   "outputs": [],
   "source": [
    "# %matplotlib widget\n",
    "import seaborn as sns\n",
    "import numpy as np\n",
    "\n",
    "figure = plotting.Fig()\n",
    "fig, gs = figure.draw(num=1, grid=(7, 4), hspace=0.3, wspace=0.35)\n",
    "fig.suptitle(\"Figure 3\", x=0, ha=\"left\", fontsize=16)\n",
    "\n",
    "# ------- plotting individual sessions ---------\n",
    "subfig = fig.add_subfigure(gs[:3, :])\n",
    "axs_subfig = subfig.subplots(\n",
    "    6, 2, sharex=False, sharey=\"row\", gridspec_kw={\"height_ratios\": [1, 3, 1, 3, 1, 3]}\n",
    ")\n",
    "sessions = [sd_sessions, nsd_sessions]\n",
    "for grp_i, (expvar_grp, grp) in enumerate(zip([sd_expvar, nsd_expvar], [\"sd\", \"nsd\"])):\n",
    "    grp_sessions = sessions[grp_i]\n",
    "    for i, expvar in enumerate(expvar_grp):\n",
    "        ax = axs_subfig[2 * i + 1, grp_i]\n",
    "        expvar.colors[\"ev\"] = sd_colors[grp]\n",
    "        expvar.colors[\"rev\"] = \"#a5a19c\"\n",
    "        expvar.plot(ax=ax, legend=None)\n",
    "\n",
    "        post = grp_sessions[i].paradigm[\"post\"]\n",
    "        rec_stop = grp_sessions[i].eegfile.duration\n",
    "        post_brainstates = grp_sessions[i].brainstates.time_slice(post[0], rec_stop)\n",
    "        ax_hypno = axs_subfig[2 * i, grp_i]\n",
    "        plotting.plot_hypnogram(post_brainstates, ax=ax_hypno)\n",
    "\n",
    "df = pd.DataFrame()\n",
    "for grp, expvars in enumerate([sd_expvar, nsd_expvar]):\n",
    "    for i, expvar in enumerate(expvars):\n",
    "        ev_diff = expvar.ev - expvar.rev\n",
    "        ev_bins = np.arange(len(ev_diff))\n",
    "        df = df.append(\n",
    "            pd.DataFrame({\"ev_diff\": ev_diff, \"bins\": ev_bins, \"grp\": grp}),\n",
    "            ignore_index=True,\n",
    "        )\n",
    "\n",
    "ax = plt.subplot(gs[3:5, 1:3])\n",
    "sns.lineplot(\n",
    "    data=df,\n",
    "    x=\"bins\",\n",
    "    y=\"ev_diff\",\n",
    "    hue=\"grp\",\n",
    "    ci=None,\n",
    "    ax=ax,\n",
    "    linewidth=3,\n",
    "    palette=[\"r\", \"k\"],\n",
    ")\n",
    "ax.set_ylabel(\"Explained variance\")\n",
    "ax.set_xlabel(\"ZT bins\")\n",
    "\n",
    "# ----- caption --------\n",
    "ax_caption = figure.add_subplot(gs[6:, :])\n",
    "ax_caption.text(\n",
    "    0,\n",
    "    0,\n",
    "    \"Figure 3: Sleep deprivation impedes reactivation.\",\n",
    "    wrap=True,\n",
    ")\n",
    "ax_caption.axis(\"off\")\n",
    "# figure.savefig(figpath_sd / \"figure3\")\n"
   ]
  }
 ],
 "metadata": {
  "interpreter": {
   "hash": "cce1618081139d19eb1ee8d40815d94a2de4f62e1efb20d9406ddb60628c36ae"
  },
  "kernelspec": {
   "display_name": "Python 3.9.7 64-bit ('data_analysis': conda)",
   "name": "python3"
  },
  "language_info": {
   "codemirror_mode": {
    "name": "ipython",
    "version": 3
   },
   "file_extension": ".py",
   "mimetype": "text/x-python",
   "name": "python",
   "nbconvert_exporter": "python",
   "pygments_lexer": "ipython3",
   "version": "3.9.7"
  },
  "orig_nbformat": 4
 },
 "nbformat": 4,
 "nbformat_minor": 2
}
