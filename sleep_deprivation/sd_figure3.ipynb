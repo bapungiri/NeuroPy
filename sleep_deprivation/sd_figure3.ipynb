{
 "cells": [
  {
   "cell_type": "markdown",
   "source": [
    "# Figure 3\n",
    " - Explained variance each subject individually\n",
    " "
   ],
   "metadata": {}
  },
  {
   "cell_type": "code",
   "execution_count": 2,
   "source": [
    "import matplotlib.pyplot as plt\n",
    "from scipy import stats\n",
    "import pandas as pd\n",
    "from subjects import sd,nsd,sd_colors,figpath_sd\n",
    "from neuropy.analyses import ExplainedVariance\n",
    "from neuropy import plotting\n",
    "\n",
    "sd_sessions = sd.ratNday1 + sd.ratSday3  + sd.ratUday4\n",
    "nsd_sessions = nsd.ratNday2 + nsd.ratSday2 + nsd.ratUday2"
   ],
   "outputs": [],
   "metadata": {}
  },
  {
   "cell_type": "code",
   "execution_count": 3,
   "source": [
    "sd_expvar, nsd_expvar = [], []\n",
    "for grp, sessions in enumerate([sd_sessions, nsd_sessions]):\n",
    "    for sub, sess in enumerate(sessions):\n",
    "        pre = sess.paradigm[\"pre\"]\n",
    "        maze = sess.paradigm[\"maze\"]\n",
    "        if maze.size ==0:\n",
    "            maze = sess.paradigm[\"maze1\"]\n",
    "        post = sess.paradigm[\"post\"]\n",
    "\n",
    "        re_maze = sess.paradigm['re-maze']\n",
    "        if re_maze.size !=0:\n",
    "            post = [post[0],re_maze[1]]\n",
    "\n",
    "        neurons = sess.neurons.get_neuron_type(\"pyr\")\n",
    "        expvar = ExplainedVariance(\n",
    "            neurons=neurons, template=maze, matching=post, control=pre\n",
    "        )\n",
    "        if grp == 0:\n",
    "            sd_expvar.append(expvar)\n",
    "        else:\n",
    "            nsd_expvar.append(expvar)\n"
   ],
   "outputs": [
    {
     "output_type": "stream",
     "name": "stderr",
     "text": [
      "/home/bapung/miniconda3/envs/data_analysis/lib/python3.9/site-packages/numpy/lib/function_base.py:2691: RuntimeWarning: invalid value encountered in true_divide\n",
      "  c /= stddev[:, None]\n",
      "/home/bapung/miniconda3/envs/data_analysis/lib/python3.9/site-packages/numpy/lib/function_base.py:2692: RuntimeWarning: invalid value encountered in true_divide\n",
      "  c /= stddev[None, :]\n"
     ]
    }
   ],
   "metadata": {}
  },
  {
   "cell_type": "markdown",
   "source": [
    "## Plotting"
   ],
   "metadata": {}
  },
  {
   "cell_type": "code",
   "execution_count": 3,
   "source": [
    "%matplotlib widget\n",
    "import seaborn as sns\n",
    "import numpy as np\n",
    "\n",
    "figure = plotting.Fig()\n",
    "fig, gs = figure.draw(num=1, grid=(6, 2), hspace=0.3, wspace=0.35)\n",
    "fig.suptitle(\"Figure 3\", x=0, ha=\"left\", fontsize=16)\n",
    "\n",
    "sessions = [sd_sessions, nsd_sessions]\n",
    "for grp_i, (expvar_grp, grp) in enumerate(zip([sd_expvar, nsd_expvar], [\"sd\", \"nsd\"])):\n",
    "    grp_sessions = sessions[grp_i]\n",
    "    for i, expvar in enumerate(expvar_grp):\n",
    "        gs_ev = figure.subplot2grid(gs[i, grp_i], grid=(4, 1))\n",
    "        ax = plt.subplot(gs_ev[1:])\n",
    "        expvar.colors[\"ev\"] = sd_colors[grp]\n",
    "        expvar.colors[\"rev\"] = \"#a5a19c\"\n",
    "        expvar.plot(ax=ax, legend=None)\n",
    "        ax.set_ylim([-0.01, 0.23])\n",
    "\n",
    "        # ax_slp = ax.twinx()\n",
    "\n",
    "        ax_hypno = plt.subplot(gs_ev[0])\n",
    "        plotting.plot_hypnogram(\n",
    "            grp_sessions[i].brainstates,\n",
    "            ax=ax_hypno,\n",
    "            t_start=grp_sessions[i].paradigm[\"post\"][0],\n",
    "        )\n",
    "        ax_hypno.set_xlim(left=0)\n",
    "\n",
    "df = pd.DataFrame()\n",
    "for grp, expvars in enumerate([sd_expvar, nsd_expvar]):\n",
    "    for i, expvar in enumerate(expvars):\n",
    "        ev_diff = expvar.ev - expvar.rev\n",
    "        ev_bins = np.arange(len(ev_diff))\n",
    "        df = df.append(\n",
    "            pd.DataFrame({\"ev_diff\": ev_diff, \"bins\": ev_bins, \"grp\": grp}),\n",
    "            ignore_index=True,\n",
    "        )\n",
    "\n",
    "ax = plt.subplot(gs[4, 0])\n",
    "sns.lineplot(\n",
    "    data=df,\n",
    "    x=\"bins\",\n",
    "    y=\"ev_diff\",\n",
    "    hue=\"grp\",\n",
    "    ci=None,\n",
    "    ax=ax,\n",
    "    linewidth=3,\n",
    "    palette=[\"r\", \"k\"],\n",
    ")\n",
    "ax.set_ylabel(\"Explained variance\")\n",
    "ax.set_xlabel(\"ZT bins\")\n",
    "\n",
    "figure.savefig(figpath_sd / \"figure3\")\n"
   ],
   "outputs": [
    {
     "output_type": "display_data",
     "data": {
      "application/vnd.jupyter.widget-view+json": {
       "version_major": 2,
       "version_minor": 0,
       "model_id": "69bac62353be4af5abb2e76db853177c"
      },
      "text/plain": [
       "Canvas(toolbar=Toolbar(toolitems=[('Home', 'Reset original view', 'home', 'home'), ('Back', 'Back to previous …"
      ]
     },
     "metadata": {}
    },
    {
     "output_type": "error",
     "ename": "TypeError",
     "evalue": "plot_hypnogram() got an unexpected keyword argument 't_start'",
     "traceback": [
      "\u001b[0;31m---------------------------------------------------------------------------\u001b[0m",
      "\u001b[0;31mTypeError\u001b[0m                                 Traceback (most recent call last)",
      "\u001b[0;32m/tmp/ipykernel_210951/2458169680.py\u001b[0m in \u001b[0;36m<module>\u001b[0;34m\u001b[0m\n\u001b[1;32m     21\u001b[0m \u001b[0;34m\u001b[0m\u001b[0m\n\u001b[1;32m     22\u001b[0m         \u001b[0max_hypno\u001b[0m \u001b[0;34m=\u001b[0m \u001b[0mplt\u001b[0m\u001b[0;34m.\u001b[0m\u001b[0msubplot\u001b[0m\u001b[0;34m(\u001b[0m\u001b[0mgs_ev\u001b[0m\u001b[0;34m[\u001b[0m\u001b[0;36m0\u001b[0m\u001b[0;34m]\u001b[0m\u001b[0;34m)\u001b[0m\u001b[0;34m\u001b[0m\u001b[0;34m\u001b[0m\u001b[0m\n\u001b[0;32m---> 23\u001b[0;31m         \u001b[0mplotting\u001b[0m\u001b[0;34m.\u001b[0m\u001b[0mplot_hypnogram\u001b[0m\u001b[0;34m(\u001b[0m\u001b[0mgrp_sessions\u001b[0m\u001b[0;34m[\u001b[0m\u001b[0mi\u001b[0m\u001b[0;34m]\u001b[0m\u001b[0;34m.\u001b[0m\u001b[0mbrainstates\u001b[0m\u001b[0;34m,\u001b[0m\u001b[0max\u001b[0m\u001b[0;34m=\u001b[0m\u001b[0max_hypno\u001b[0m\u001b[0;34m,\u001b[0m\u001b[0mt_start\u001b[0m\u001b[0;34m=\u001b[0m\u001b[0mgrp_sessions\u001b[0m\u001b[0;34m[\u001b[0m\u001b[0mi\u001b[0m\u001b[0;34m]\u001b[0m\u001b[0;34m.\u001b[0m\u001b[0mparadigm\u001b[0m\u001b[0;34m[\u001b[0m\u001b[0;34m'post'\u001b[0m\u001b[0;34m]\u001b[0m\u001b[0;34m[\u001b[0m\u001b[0;36m0\u001b[0m\u001b[0;34m]\u001b[0m\u001b[0;34m)\u001b[0m\u001b[0;34m\u001b[0m\u001b[0;34m\u001b[0m\u001b[0m\n\u001b[0m\u001b[1;32m     24\u001b[0m         \u001b[0max_hypno\u001b[0m\u001b[0;34m.\u001b[0m\u001b[0mset_xlim\u001b[0m\u001b[0;34m(\u001b[0m\u001b[0mleft\u001b[0m\u001b[0;34m=\u001b[0m\u001b[0;36m0\u001b[0m\u001b[0;34m)\u001b[0m\u001b[0;34m\u001b[0m\u001b[0;34m\u001b[0m\u001b[0m\n\u001b[1;32m     25\u001b[0m \u001b[0;34m\u001b[0m\u001b[0m\n",
      "\u001b[0;31mTypeError\u001b[0m: plot_hypnogram() got an unexpected keyword argument 't_start'"
     ]
    }
   ],
   "metadata": {}
  }
 ],
 "metadata": {
  "orig_nbformat": 4,
  "language_info": {
   "name": "python",
   "version": "3.9.6",
   "mimetype": "text/x-python",
   "codemirror_mode": {
    "name": "ipython",
    "version": 3
   },
   "pygments_lexer": "ipython3",
   "nbconvert_exporter": "python",
   "file_extension": ".py"
  },
  "kernelspec": {
   "name": "python3",
   "display_name": "Python 3.9.6 64-bit ('data_analysis': conda)"
  },
  "interpreter": {
   "hash": "7b10c821bc4bd3f433a613d47515e6babc6c2152896bd1e143404cc9d6ede4ad"
  }
 },
 "nbformat": 4,
 "nbformat_minor": 2
}