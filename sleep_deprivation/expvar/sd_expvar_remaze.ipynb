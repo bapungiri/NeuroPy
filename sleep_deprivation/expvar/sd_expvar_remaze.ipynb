{
 "cells": [
  {
   "cell_type": "markdown",
   "metadata": {},
   "source": [
    "### Imports"
   ]
  },
  {
   "cell_type": "code",
   "execution_count": 42,
   "metadata": {},
   "outputs": [],
   "source": [
    "import matplotlib.pyplot as plt\n",
    "import pandas as pd\n",
    "import seaborn as sns\n",
    "import numpy as np\n",
    "from tqdm.notebook import tqdm\n",
    "from neuropy.analyses import ExplainedVariance\n",
    "import pingouin as pg\n",
    "from scipy import stats\n",
    "from neuropy import plotting\n",
    "import subjects"
   ]
  },
  {
   "cell_type": "markdown",
   "metadata": {},
   "source": [
    "### EV remaze example sessions for figure3"
   ]
  },
  {
   "cell_type": "code",
   "execution_count": 5,
   "metadata": {},
   "outputs": [
    {
     "data": {
      "application/vnd.jupyter.widget-view+json": {
       "model_id": "c9c5d65ccc1247d29b351d2e9e753519",
       "version_major": 2,
       "version_minor": 0
      },
      "text/plain": [
       "  0%|          | 0/2 [00:00<?, ?it/s]"
      ]
     },
     "metadata": {},
     "output_type": "display_data"
    },
    {
     "name": "stdout",
     "output_type": "stream",
     "text": [
      "remaze_ev_example saved\n"
     ]
    }
   ],
   "source": [
    "example_sessions = subjects.nsd.ratUday2 + subjects.sd.ratUday4\n",
    "expvar_df,brainstates_all =[],[]\n",
    "for sub, sess in enumerate(tqdm(example_sessions)):\n",
    "    pre = sess.paradigm[\"pre\"].flatten()\n",
    "    maze = sess.paradigm[\"maze\"].flatten()\n",
    "    post = sess.paradigm[\"post\"].flatten()\n",
    "    remaze = sess.paradigm[\"re-maze\"].flatten()\n",
    "    states = sess.brainstates.time_slice(post[0], remaze[1])\n",
    "    df = pd.DataFrame(\n",
    "        dict(\n",
    "            start=states.starts,\n",
    "            stop=states.stops,\n",
    "            label=states.labels,\n",
    "            sub=sub,\n",
    "            name=sess.animal.name,\n",
    "            grp=sess.tag,\n",
    "        )\n",
    "    )\n",
    "    brainstates_all.append(df)\n",
    "\n",
    "    neurons = sess.neurons.get_neuron_type(\"pyr\")\n",
    "    wave_similarity = neurons.get_waveform_similarity()\n",
    "    pairs_bool = wave_similarity < 0.8  # only pairs which are least similar\n",
    "\n",
    "    expvar = ExplainedVariance(\n",
    "        neurons=neurons,\n",
    "        template=maze,\n",
    "        matching=[post[0],remaze[1]],\n",
    "        control=pre,\n",
    "        window=900,\n",
    "        slideby=300,\n",
    "        pairs_bool=pairs_bool,\n",
    "        ignore_epochs=sess.artifact,\n",
    "    )\n",
    "    expvar_df.append(\n",
    "        pd.DataFrame(\n",
    "            {\n",
    "                \"ev\": expvar.ev,\n",
    "                \"ev_std\": expvar.ev_std,\n",
    "                \"rev\": expvar.rev,\n",
    "                \"rev_std\": expvar.rev_std,\n",
    "                \"Zt\": (expvar.matching_time - post[0]) / 3600,\n",
    "                \"sub\": sub,\n",
    "                \"name\": sess.sub_name,\n",
    "                'sex':sess.animal.sex,\n",
    "                \"grp\": sess.tag,\n",
    "            }\n",
    "        ),\n",
    "    )\n",
    "\n",
    "brainstates_all = pd.concat(brainstates_all, ignore_index=True)\n",
    "expvar_df = pd.concat(expvar_df,ignore_index=True)\n",
    "\n",
    "subjects.GroupData().save([expvar_df,brainstates_all], \"remaze_ev_example\")"
   ]
  },
  {
   "cell_type": "markdown",
   "metadata": {},
   "source": [
    "### Pooled across sessions"
   ]
  },
  {
   "cell_type": "code",
   "execution_count": null,
   "metadata": {},
   "outputs": [],
   "source": [
    "print(len(sessions))\n",
    "expvar_df =[]\n",
    "for sub, sess in enumerate(tqdm(sessions)):\n",
    "    pre = sess.paradigm[\"pre\"].flatten()\n",
    "    maze = sess.paradigm[\"maze\"].flatten()\n",
    "    if maze.size == 0:\n",
    "        maze = sess.paradigm[\"maze1\"].flatten()\n",
    "    post = sess.paradigm[\"post\"].flatten()\n",
    "\n",
    "    neurons = sess.neurons.get_neuron_type(\"pyr\")\n",
    "    wave_similarity = neurons.get_waveform_similarity()\n",
    "    pairs_bool = wave_similarity < 0.8  # only pairs which are least similar\n",
    "\n",
    "    expvar = ExplainedVariance(\n",
    "        neurons=neurons,\n",
    "        template=maze,\n",
    "        matching=post,\n",
    "        control=pre,\n",
    "        slideby=300,\n",
    "        pairs_bool=pairs_bool,\n",
    "        ignore_epochs=sess.artifact,\n",
    "    )\n",
    "    expvar_df.append(\n",
    "        pd.DataFrame(\n",
    "            {\n",
    "                \"ev\": expvar.ev,\n",
    "                \"ev_std\": expvar.ev_std,\n",
    "                \"rev\": expvar.rev,\n",
    "                \"rev_std\": expvar.rev_std,\n",
    "                \"Zt\": (expvar.matching_time - post[0]) / 3600,\n",
    "                \"sub\": sub,\n",
    "                \"name\": sess.sub_name,\n",
    "                'sex':sess.animal.sex,\n",
    "                \"grp\": sess.tag,\n",
    "            }\n",
    "        ),\n",
    "    )\n",
    "\n",
    "expvar_df = pd.concat(expvar_df,ignore_index=True)\n",
    "\n",
    "subjects.GroupData().save(expvar_df, \"remaze_ev_pooled\")\n"
   ]
  },
  {
   "cell_type": "code",
   "execution_count": null,
   "metadata": {},
   "outputs": [],
   "source": [
    "%matplotlib widget\n",
    "import pandas as pd\n",
    "import seaborn as sns\n",
    "import numpy as np\n",
    "\n",
    "figure = Fig()\n",
    "fig,gs = figure.draw(grid=(1,1),style='Pres')\n",
    "\n",
    "df = pd.DataFrame()\n",
    "for grp,expvars in enumerate([sd_expvar,nsd_expvar]):\n",
    "    for i,expvar in enumerate(expvars): \n",
    "        ev_diff = expvar.ev - expvar.rev\n",
    "        ev_bins = np.arange(len(ev_diff))\n",
    "        df = df.append(pd.DataFrame({'ev_diff':ev_diff,'bins':ev_bins,'grp':grp}),ignore_index=True)\n",
    "\n",
    "ax = plt.subplot(gs[0])\n",
    "sns.lineplot(data=df,x='bins',y='ev_diff',hue='grp',ci=None,ax=ax,linewidth=3,palette=['r','k'])\n",
    "ax.set_ylabel('Explained variance (above chance level)')\n",
    "ax.set_xlabel('ZT bins')"
   ]
  },
  {
   "cell_type": "markdown",
   "metadata": {},
   "source": [
    "### EV compare during re-maze SD vs NSD"
   ]
  },
  {
   "cell_type": "code",
   "execution_count": 32,
   "metadata": {},
   "outputs": [],
   "source": [
    "sessions = subjects.remaze_sess()"
   ]
  },
  {
   "cell_type": "code",
   "execution_count": 55,
   "metadata": {},
   "outputs": [
    {
     "data": {
      "application/vnd.jupyter.widget-view+json": {
       "model_id": "c533a0985a6d4c36b2e351edb146623f",
       "version_major": 2,
       "version_minor": 0
      },
      "text/plain": [
       "  0%|          | 0/9 [00:00<?, ?it/s]"
      ]
     },
     "metadata": {},
     "output_type": "display_data"
    },
    {
     "name": "stderr",
     "output_type": "stream",
     "text": [
      "/home/bapung/miniconda3/envs/data_analysis/lib/python3.10/site-packages/numpy/lib/function_base.py:2691: RuntimeWarning: invalid value encountered in true_divide\n",
      "  c /= stddev[:, None]\n",
      "/home/bapung/miniconda3/envs/data_analysis/lib/python3.10/site-packages/numpy/lib/function_base.py:2692: RuntimeWarning: invalid value encountered in true_divide\n",
      "  c /= stddev[None, :]\n",
      "/home/bapung/miniconda3/envs/data_analysis/lib/python3.10/site-packages/numpy/lib/function_base.py:2691: RuntimeWarning: invalid value encountered in true_divide\n",
      "  c /= stddev[:, None]\n",
      "/home/bapung/miniconda3/envs/data_analysis/lib/python3.10/site-packages/numpy/lib/function_base.py:2692: RuntimeWarning: invalid value encountered in true_divide\n",
      "  c /= stddev[None, :]\n",
      "/home/bapung/miniconda3/envs/data_analysis/lib/python3.10/site-packages/numpy/lib/function_base.py:2691: RuntimeWarning: invalid value encountered in true_divide\n",
      "  c /= stddev[:, None]\n",
      "/home/bapung/miniconda3/envs/data_analysis/lib/python3.10/site-packages/numpy/lib/function_base.py:2692: RuntimeWarning: invalid value encountered in true_divide\n",
      "  c /= stddev[None, :]\n",
      "/home/bapung/miniconda3/envs/data_analysis/lib/python3.10/site-packages/numpy/lib/function_base.py:2691: RuntimeWarning: invalid value encountered in true_divide\n",
      "  c /= stddev[:, None]\n",
      "/home/bapung/miniconda3/envs/data_analysis/lib/python3.10/site-packages/numpy/lib/function_base.py:2692: RuntimeWarning: invalid value encountered in true_divide\n",
      "  c /= stddev[None, :]\n",
      "/home/bapung/miniconda3/envs/data_analysis/lib/python3.10/site-packages/numpy/lib/function_base.py:2691: RuntimeWarning: invalid value encountered in true_divide\n",
      "  c /= stddev[:, None]\n",
      "/home/bapung/miniconda3/envs/data_analysis/lib/python3.10/site-packages/numpy/lib/function_base.py:2692: RuntimeWarning: invalid value encountered in true_divide\n",
      "  c /= stddev[None, :]\n",
      "/home/bapung/miniconda3/envs/data_analysis/lib/python3.10/site-packages/numpy/lib/function_base.py:2691: RuntimeWarning: invalid value encountered in true_divide\n",
      "  c /= stddev[:, None]\n",
      "/home/bapung/miniconda3/envs/data_analysis/lib/python3.10/site-packages/numpy/lib/function_base.py:2692: RuntimeWarning: invalid value encountered in true_divide\n",
      "  c /= stddev[None, :]\n",
      "/home/bapung/miniconda3/envs/data_analysis/lib/python3.10/site-packages/numpy/lib/function_base.py:2691: RuntimeWarning: invalid value encountered in true_divide\n",
      "  c /= stddev[:, None]\n",
      "/home/bapung/miniconda3/envs/data_analysis/lib/python3.10/site-packages/numpy/lib/function_base.py:2692: RuntimeWarning: invalid value encountered in true_divide\n",
      "  c /= stddev[None, :]\n"
     ]
    }
   ],
   "source": [
    "from neuropy.analyses import ExplainedVariance\n",
    "import pingouin as pg\n",
    "\n",
    "remaze_df = []\n",
    "for sub, sess in enumerate(tqdm(sessions)):\n",
    "    pre = sess.paradigm[\"pre\"].flatten()\n",
    "    maze = sess.paradigm[\"maze\"].flatten()\n",
    "    remaze = sess.paradigm[\"re-maze\"].flatten()\n",
    "\n",
    "    neurons = sess.neurons_stable.get_neuron_type(\"pyr\")\n",
    "    wave_similarity = neurons.get_waveform_similarity()\n",
    "    pairs_bool = wave_similarity < 0.8  # only pairs which are least similar\n",
    "\n",
    "    get_corr = lambda epoch: (\n",
    "            neurons.time_slice(epoch[0], epoch[1])\n",
    "            .get_binned_spiketrains(bin_size=0.25,ignore_epochs=sess.artifact)\n",
    "            .get_pairwise_corr(pairs_bool=pairs_bool)\n",
    "        )\n",
    "\n",
    "    pre_corr = get_corr(pre)\n",
    "    maze_corr = get_corr(maze)\n",
    "    remaze_corr = get_corr(remaze)\n",
    "\n",
    "    df = pd.DataFrame(dict(pre=pre_corr,maze=maze_corr,remaze=remaze_corr))\n",
    "    ev = pg.partial_corr(data=df,x='maze',y='remaze',covar='pre').r.values[0]**2\n",
    "    rev = pg.partial_corr(data=df,x='maze',y='pre',covar='remaze').r.values[0]**2\n",
    "\n",
    "    remaze_df.append(\n",
    "        pd.DataFrame(\n",
    "            {\n",
    "                # \"ev\": [ev.r.values[0]**2,rev.r.values[0]**2],\n",
    "                # \"ev_name\": ['ev','rev'],\n",
    "                'ev_diff':[ev-rev],\n",
    "                \"t\": 'remaze',\n",
    "                \"sub\": sub,\n",
    "                \"name\": sess.sub_name,\n",
    "                'sex':sess.animal.sex,\n",
    "                \"grp\": sess.tag,\n",
    "            }\n",
    "        )\n",
    "    )\n",
    "\n",
    "remaze_df = pd.concat(remaze_df,ignore_index=True)\n",
    "# subjects.GroupData().save(remaze_df, \"remaze_ev\")"
   ]
  },
  {
   "cell_type": "code",
   "execution_count": 64,
   "metadata": {},
   "outputs": [
    {
     "name": "stdout",
     "output_type": "stream",
     "text": [
      "Ttest_indResult(statistic=-1.4101216481235492, pvalue=0.2013560442134455)\n"
     ]
    },
    {
     "data": {
      "application/vnd.jupyter.widget-view+json": {
       "model_id": "2a0970ef64b44055bb77acc1d7cccf01",
       "version_major": 2,
       "version_minor": 0
      },
      "image/png": "[encoded data removed]",
      "text/html": [
       "\n",
       "            <div style=\"display: inline-block;\">\n",
       "                <div class=\"jupyter-widgets widget-label\" style=\"text-align: center;\">\n",
       "                    Figure\n",
       "                </div>\n",
       "                <img src='data:image/png;base64,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' width=850.0/>\n",
       "            </div>\n",
       "        "
      ],
      "text/plain": [
       "Canvas(toolbar=Toolbar(toolitems=[('Home', 'Reset original view', 'home', 'home'), ('Back', 'Back to previous …"
      ]
     },
     "metadata": {},
     "output_type": "display_data"
    }
   ],
   "source": [
    "fig = plotting.Fig(grid=(5,5))\n",
    "ax = fig.subplot(fig.gs[0])\n",
    "sns.stripplot(\n",
    "    data=remaze_df,\n",
    "    x=\"grp\",\n",
    "    y=\"ev_diff\",\n",
    "    hue=\"grp\",\n",
    "    # palette=[\"#616161\", \"#BDBDBD\"],\n",
    "    # dodge=True,\n",
    "    # split=True\n",
    ")\n",
    "sns.pointplot(\n",
    "    data=remaze_df,\n",
    "    x=\"grp\",\n",
    "    y=\"ev_diff\",\n",
    "    hue=\"grp\",\n",
    "    # palette=[\"#616161\", \"#BDBDBD\"],\n",
    "    # dodge=True,\n",
    "    # split=True\n",
    ")\n",
    "\n",
    "\n",
    "d1 = remaze_df[(remaze_df['grp']=='NSD')].ev_diff.values\n",
    "d2 = remaze_df[(remaze_df['grp']=='SD')].ev_diff.values\n",
    "print(stats.ttest_ind(d1,d2))\n",
    "\n",
    "# for g,grp in enumerate(['NSD','SD']):\n",
    "    # d1 = remaze_df[(remaze_df['grp']==grp)&(remaze_df['ev_name']=='ev')].ev.values\n",
    "    # d2 = remaze_df[(remaze_df['grp']==grp)&(remaze_df['ev_name']=='rev')].ev.values\n",
    "\n",
    "#     print(stats.ttest_ind(d1,d2,alternative='greater'))\n",
    "# fig.savefig(subjects.figpath_sd/'remaze_ev')"
   ]
  },
  {
   "cell_type": "markdown",
   "metadata": {},
   "source": [
    "### EV on REMAZE of POST while controlling for both PRE and MAZE combined together"
   ]
  },
  {
   "cell_type": "code",
   "execution_count": null,
   "metadata": {},
   "outputs": [],
   "source": [
    "from neuropy.analyses import ExplainedVariance\n",
    "\n",
    "expvar_df = []\n",
    "for sub, sess in enumerate(tqdm(sessions)):\n",
    "    pre = sess.paradigm[\"pre\"].flatten()\n",
    "    maze = sess.paradigm[\"maze\"].flatten()\n",
    "    post = sess.paradigm[\"post\"].flatten()\n",
    "    remaze = sess.paradigm[\"re-maze\"].flatten()\n",
    "\n",
    "    neurons = sess.neurons.get_neuron_type(\"pyr\")\n",
    "    wave_similarity = neurons.get_waveform_similarity()\n",
    "    pairs_bool = wave_similarity < 0.8  # only pairs which are least similar\n",
    "\n",
    "    expvar = ExplainedVariance(\n",
    "        neurons=neurons,\n",
    "        template=post,\n",
    "        matching=remaze,\n",
    "        control=[pre[0], maze[1]],\n",
    "        window=None,\n",
    "        slideby=None,\n",
    "        pairs_bool=pairs_bool,\n",
    "        ignore_epochs=sess.artifact,\n",
    "    )\n",
    "\n",
    "    expvar_df.append(\n",
    "        pd.DataFrame(\n",
    "            dict(\n",
    "                ev_value=[expvar.ev[0],expvar.rev[0]],\n",
    "                ev_type=['ev','rev'],\n",
    "                epoch='remaze',\n",
    "                sub=sub,\n",
    "                name=sess.sub_name,\n",
    "                sex=sess.animal.sex,\n",
    "                grp=sess.tag,\n",
    "            )\n",
    "        ),\n",
    "    )\n",
    "\n",
    "expvar_df = pd.concat(expvar_df, ignore_index=True)\n",
    "subjects.GroupData().save(expvar_df, \"remaze_ev_of_post\")\n"
   ]
  },
  {
   "cell_type": "code",
   "execution_count": null,
   "metadata": {},
   "outputs": [],
   "source": [
    "%matplotlib widget\n",
    "from neuropy import plotting \n",
    "import pandas as pd\n",
    "import seaborn as sns\n",
    "import numpy as np\n",
    "\n",
    "fig = plotting.Fig(grid=(1,1))\n",
    "ax = fig.subplot(fig.gs[0])\n",
    "\n",
    "sns.barplot(data=expvar_df,x='grp',y='ev_value',hue='ev_type')\n"
   ]
  },
  {
   "cell_type": "markdown",
   "metadata": {},
   "source": [
    "### EV of remaze during SD vs NSD\n",
    "- once crontrolling for PRE\n",
    "- once crontrolling for MAZE\n",
    "- once crontrolling for both PRE and MAZE"
   ]
  },
  {
   "cell_type": "code",
   "execution_count": 8,
   "metadata": {},
   "outputs": [
    {
     "data": {
      "application/vnd.jupyter.widget-view+json": {
       "model_id": "b60f293024e4410a99f58ce2fd49457b",
       "version_major": 2,
       "version_minor": 0
      },
      "text/plain": [
       "  0%|          | 0/6 [00:00<?, ?it/s]"
      ]
     },
     "metadata": {},
     "output_type": "display_data"
    }
   ],
   "source": [
    "from neuropy.analyses import ExplainedVariance\n",
    "\n",
    "expvar_df = []\n",
    "for sub, sess in enumerate(tqdm(sessions)):\n",
    "    pre = sess.paradigm[\"pre\"].flatten()\n",
    "    maze = sess.paradigm[\"maze\"].flatten()\n",
    "    post = sess.paradigm[\"post\"].flatten()\n",
    "    remaze = sess.paradigm[\"re-maze\"].flatten()\n",
    "\n",
    "    neurons = sess.neurons.get_neuron_type(\"pyr\")\n",
    "    wave_similarity = neurons.get_waveform_similarity()\n",
    "    pairs_bool = wave_similarity < 0.8  # only pairs which are least similar\n",
    "\n",
    "    epochs= [[post[0],post[0]+5*3600],[post[0]+5*3600,post[1]]]\n",
    "    epoch_names = ['Zt0-5','Zt5-end']\n",
    "\n",
    "    for e,e_name in zip(epochs,epoch_names):\n",
    "        expvar = ExplainedVariance(\n",
    "            neurons=neurons,\n",
    "            template=remaze,\n",
    "            matching=e,\n",
    "            control=maze,\n",
    "            window=None,\n",
    "            slideby=None,\n",
    "            pairs_bool=pairs_bool,\n",
    "            ignore_epochs=sess.artifact,\n",
    "        )\n",
    "\n",
    "\n",
    "        expvar_df.append(\n",
    "            pd.DataFrame(\n",
    "                dict(\n",
    "                    ev_value=[expvar.ev[0],expvar.rev[0]],\n",
    "                    ev_type=['ev','rev'],\n",
    "                    epoch=e_name,\n",
    "                    sub=sub,\n",
    "                    name=sess.sub_name,\n",
    "                    sex=sess.animal.sex,\n",
    "                    grp=sess.tag,\n",
    "                )\n",
    "            ),\n",
    "        )\n",
    "\n",
    "expvar_df = pd.concat(expvar_df, ignore_index=True)\n",
    "# subjects.GroupData().save(expvar_df, \"remaze_ev_on_zt0to5\")\n"
   ]
  },
  {
   "cell_type": "code",
   "execution_count": 9,
   "metadata": {},
   "outputs": [
    {
     "data": {
      "text/plain": [
       "Ttest_1sampResult(statistic=4.700096710803842, pvalue=0.0011200178871001584)"
      ]
     },
     "execution_count": 9,
     "metadata": {},
     "output_type": "execute_result"
    },
    {
     "data": {
      "application/vnd.jupyter.widget-view+json": {
       "model_id": "a9986589c9fe48a98ba67acfaf8e7e81",
       "version_major": 2,
       "version_minor": 0
      },
      "image/png": "[encoded data removed]",
      "text/html": [
       "\n",
       "            <div style=\"display: inline-block;\">\n",
       "                <div class=\"jupyter-widgets widget-label\" style=\"text-align: center;\">\n",
       "                    Figure\n",
       "                </div>\n",
       "                <img src='data:image/png;base64,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' width=850.0/>\n",
       "            </div>\n",
       "        "
      ],
      "text/plain": [
       "Canvas(toolbar=Toolbar(toolitems=[('Home', 'Reset original view', 'home', 'home'), ('Back', 'Back to previous …"
      ]
     },
     "metadata": {},
     "output_type": "display_data"
    }
   ],
   "source": [
    "%matplotlib widget\n",
    "from neuropy import plotting\n",
    "import seaborn as sns\n",
    "from scipy import stats\n",
    "\n",
    "fig = plotting.Fig(grid=(4, 3), fontsize=10)\n",
    "ax = fig.subplot(fig.gs[0])\n",
    "\n",
    "df = expvar_df[expvar_df[\"ev_type\"] == \"ev\"]\n",
    "sns.barplot(\n",
    "    data=df, x=\"epoch\", y=\"ev_value\", hue=\"grp\", palette=subjects.colors_sd(1.7)\n",
    ")\n",
    "sns.swarmplot(\n",
    "    data=df,\n",
    "    x=\"epoch\",\n",
    "    y=\"ev_value\",\n",
    "    hue=\"grp\",\n",
    "    palette=subjects.colors_sd(1),\n",
    "    size=7,\n",
    "    dodge=True,\n",
    ")\n",
    "\n",
    "ax.set_ylabel(\"Explained variance\")\n",
    "ax.set_xlabel(\"\")\n",
    "ax.set_title(\"Remaze on POST\\n(Controlling for PRE)\")\n",
    "ax.legend(\"\", frameon=False)\n",
    "fig.legend(ax,['NSD','SD'],color=subjects.colors_sd(1.4),x=1,dy=0.08,fontsize=10)\n",
    "stats.ttest_1samp(np.arange(10),0)\n"
   ]
  },
  {
   "cell_type": "code",
   "execution_count": null,
   "metadata": {},
   "outputs": [],
   "source": [
    "\n",
    "from statsmodels.stats.descriptivestats import sign_test\n",
    "\n",
    "nsd_bool = (df.epoch=='Zt0-5')&(df.grp=='NSD')\n",
    "df_nsd = df[nsd_bool].ev_value\n",
    "\n",
    "sd_bool = (df.epoch=='Zt0-5')&(df.grp=='SD')\n",
    "df_sd = df[sd_bool].ev_value\n",
    "\n",
    "# stats.wilcoxon(df_new.ev_value,alternative='greater')\n",
    "stats.ttest_ind(df_nsd,df_sd,alternative='greater')"
   ]
  },
  {
   "cell_type": "markdown",
   "metadata": {},
   "source": [
    "### Remaze EV temporal evolution during POST while controlling for MAZE"
   ]
  },
  {
   "cell_type": "code",
   "execution_count": 13,
   "metadata": {},
   "outputs": [
    {
     "name": "stdout",
     "output_type": "stream",
     "text": [
      "#Sessions = 6\n"
     ]
    },
    {
     "data": {
      "application/vnd.jupyter.widget-view+json": {
       "model_id": "b5f1826a32a7431d862b33bbe13d014b",
       "version_major": 2,
       "version_minor": 0
      },
      "text/plain": [
       "  0%|          | 0/6 [00:00<?, ?it/s]"
      ]
     },
     "metadata": {},
     "output_type": "display_data"
    },
    {
     "name": "stdout",
     "output_type": "stream",
     "text": [
      "remaze_ev_on_POST_pooled saved\n"
     ]
    }
   ],
   "source": [
    "print(f'#Sessions = {len(sessions)}')\n",
    "expvar_df,brainstates_all =[],[]\n",
    "for sub, sess in enumerate(tqdm(sessions)):\n",
    "    pre = sess.paradigm[\"pre\"].flatten()\n",
    "    maze = sess.paradigm[\"maze\"].flatten()\n",
    "    post = sess.paradigm[\"post\"].flatten()\n",
    "    remaze = sess.paradigm[\"re-maze\"].flatten()\n",
    "    states = sess.brainstates.time_slice(post[0], post[1])\n",
    "    states_df = pd.DataFrame(\n",
    "        dict(\n",
    "            start=states.starts,\n",
    "            stop=states.stops,\n",
    "            label=states.labels,\n",
    "            sub=sub,\n",
    "            name=sess.animal.name,\n",
    "            grp=sess.tag,\n",
    "        )\n",
    "    )\n",
    "    brainstates_all.append(states_df)\n",
    "\n",
    "    neurons = sess.neurons.get_neuron_type(\"pyr\")\n",
    "    wave_similarity = neurons.get_waveform_similarity()\n",
    "    pairs_bool = wave_similarity < 0.8  # only pairs which are least similar\n",
    "\n",
    "    expvar = ExplainedVariance(\n",
    "        neurons=neurons,\n",
    "        template=remaze,\n",
    "        matching=[post[0],post[1]],\n",
    "        control=maze,\n",
    "        window=900,\n",
    "        slideby=300,\n",
    "        pairs_bool=pairs_bool,\n",
    "        ignore_epochs=sess.artifact,\n",
    "    )\n",
    "    expvar_df.append(\n",
    "        pd.DataFrame(\n",
    "            {\n",
    "                \"ev\": expvar.ev,\n",
    "                \"ev_std\": expvar.ev_std,\n",
    "                \"rev\": expvar.rev,\n",
    "                \"rev_std\": expvar.rev_std,\n",
    "                \"Zt\": (expvar.matching_time - post[0]) / 3600,\n",
    "                \"sub\": sub,\n",
    "                \"name\": sess.sub_name,\n",
    "                'sex':sess.animal.sex,\n",
    "                \"grp\": sess.tag,\n",
    "            }\n",
    "        ),\n",
    "    )\n",
    "\n",
    "brainstates_all = pd.concat(brainstates_all, ignore_index=True)\n",
    "expvar_df = pd.concat(expvar_df,ignore_index=True)\n",
    "\n",
    "# subjects.GroupData().save([expvar_df,brainstates_all], \"remaze_ev_on_POST_example\")\n",
    "subjects.GroupData().save([expvar_df,brainstates_all], \"remaze_ev_on_POST_pooled\")"
   ]
  }
 ],
 "metadata": {
  "interpreter": {
   "hash": "cce1618081139d19eb1ee8d40815d94a2de4f62e1efb20d9406ddb60628c36ae"
  },
  "kernelspec": {
   "display_name": "Python 3.10.2 ('data_analysis')",
   "language": "python",
   "name": "python3"
  },
  "language_info": {
   "codemirror_mode": {
    "name": "ipython",
    "version": 3
   },
   "file_extension": ".py",
   "mimetype": "text/x-python",
   "name": "python",
   "nbconvert_exporter": "python",
   "pygments_lexer": "ipython3",
   "version": "3.10.2"
  },
  "orig_nbformat": 4
 },
 "nbformat": 4,
 "nbformat_minor": 2
}
