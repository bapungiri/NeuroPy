{
 "cells": [
  {
   "cell_type": "markdown",
   "metadata": {},
   "source": [
    "### Imports"
   ]
  },
  {
   "cell_type": "code",
   "execution_count": null,
   "metadata": {},
   "outputs": [],
   "source": [
    "import matplotlib.pyplot as plt\n",
    "import numpy as np\n",
    "from neuropy import plotting\n",
    "from tqdm.notebook import tqdm\n",
    "from neuropy.core import Epoch\n",
    "from neuropy.utils.mathutil import min_max_scaler\n",
    "import pandas as pd\n",
    "from neuropy.utils.position_util import run_direction \n",
    "from neuropy.plotting import plot_epochs\n",
    "from scipy.ndimage import gaussian_filter1d\n",
    "from scipy.signal import find_peaks\n",
    "import subjects"
   ]
  },
  {
   "cell_type": "markdown",
   "metadata": {},
   "source": [
    "### Scratch/Test for running epochs"
   ]
  },
  {
   "cell_type": "code",
   "execution_count": null,
   "metadata": {},
   "outputs": [],
   "source": [
    "sess = subjects.nsd.ratKday2[0]\n",
    "\n",
    "maze = sess.paradigm[\"maze\"].flatten()\n",
    "t = sess.maze.time\n",
    "dt = 1 / sess.maze.sampling_rate\n",
    "x = gaussian_filter1d(sess.maze.x, sigma=0.1 / dt)\n",
    "speed = np.abs(np.concatenate([[0], np.diff(x) / dt]))\n",
    "\n",
    "speed_thresh = np.where(speed >= 10, speed, 0)\n",
    "peaks, props = find_peaks(speed_thresh, height=30, prominence=0)\n",
    "\n",
    "starts, stops = props[\"left_bases\"], props[\"right_bases\"]\n",
    "peaks_power = speed_thresh[peaks]\n",
    "\n",
    "# ----- merge overlapping epochs ------\n",
    "n_epochs = len(starts)\n",
    "ind_delete = []\n",
    "for i in range(n_epochs - 1):\n",
    "    if (starts[i + 1] - stops[i]) < (1*(1/dt) + 1e-6):\n",
    "\n",
    "        # stretch the second epoch to cover the range of both epochs\n",
    "        starts[i + 1] = min(starts[i], starts[i + 1])\n",
    "        stops[i + 1] = max(stops[i], stops[i + 1])\n",
    "\n",
    "        peaks_power[i + 1] = max(peaks_power[i], peaks_power[i + 1])\n",
    "        peaks[i + 1] = [peaks[i], peaks[i + 1]][\n",
    "            np.argmax([peaks_power[i], peaks_power[i + 1]])\n",
    "        ]\n",
    "\n",
    "        ind_delete.append(i)\n",
    "\n",
    "epochs_arr = np.vstack((starts, stops, peaks, peaks_power)).T\n",
    "starts, stops, peaks, peaks_power = np.delete(epochs_arr, ind_delete, axis=0).T\n",
    "starts = starts.astype(\"int\")\n",
    "stops = stops.astype(\"int\")\n",
    "\n",
    "\n",
    "run = run_direction(sess.maze,min_distance=10,sigma=0.1)\n",
    "peak_time = run.to_dataframe().peak_time.values\n",
    "_, axs = plt.subplots(2, 1, sharex=True)\n",
    "\n",
    "axs[0].plot(t, x)\n",
    "# ax.plot(sess.lin_maze.time,gaussian_filter1d(sess.lin_maze.x,sigma=50))\n",
    "plot_epochs(\n",
    "    ax=axs[0],\n",
    "    epochs=run,\n",
    "    colors={\"up\": \"r\", \"down\": \"k\"},\n",
    "    alpha=0.2,\n",
    "    collapsed=True,\n",
    ")\n",
    "\n",
    "axs[1].plot(t, speed)\n",
    "axs[1].plot(t[starts], speed[starts], \"r*\")\n",
    "axs[1].plot(t[stops], speed[stops], \"k*\")\n",
    "axs[1].plot(peak_time,60*np.ones_like(peak_time),'g*')\n",
    "\n",
    "# axs[2].plot(t[1:],np.abs(np.diff(x)/dt))\n"
   ]
  },
  {
   "cell_type": "markdown",
   "metadata": {},
   "source": [
    "### Pooled running epochs detection"
   ]
  },
  {
   "cell_type": "code",
   "execution_count": null,
   "metadata": {},
   "outputs": [],
   "source": [
    "# sessions = subjects.pf_sess()\n",
    "# sessions = subjects.nsd.ratVday3 + subjects.sd.ratUday1\n",
    "# sessions = subjects.nsd.ratVday1 + subjects.nsd.ratVday3\n",
    "sessions = subjects.sd.ratVday2"
   ]
  },
  {
   "cell_type": "code",
   "execution_count": null,
   "metadata": {},
   "outputs": [],
   "source": [
    "for sub,sess in enumerate(sessions):\n",
    "    maze = sess.paradigm['maze'].flatten()\n",
    "    mazepos = sess.maze\n",
    "    run_epochs = run_direction(sess.maze,min_distance=10,sigma=0.1)\n",
    "    run_epochs.save(sess.filePrefix.with_suffix('.maze.running'))"
   ]
  }
 ],
 "metadata": {
  "interpreter": {
   "hash": "cce1618081139d19eb1ee8d40815d94a2de4f62e1efb20d9406ddb60628c36ae"
  },
  "kernelspec": {
   "display_name": "Python 3.10.2 ('data_analysis')",
   "language": "python",
   "name": "python3"
  },
  "language_info": {
   "codemirror_mode": {
    "name": "ipython",
    "version": 3
   },
   "file_extension": ".py",
   "mimetype": "text/x-python",
   "name": "python",
   "nbconvert_exporter": "python",
   "pygments_lexer": "ipython3",
   "version": "3.10.4"
  },
  "orig_nbformat": 4
 },
 "nbformat": 4,
 "nbformat_minor": 2
}
