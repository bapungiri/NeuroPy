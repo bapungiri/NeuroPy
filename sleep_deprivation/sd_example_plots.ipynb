{
 "cells": [
  {
   "cell_type": "markdown",
   "metadata": {},
   "source": [
    "### Imports"
   ]
  },
  {
   "cell_type": "code",
   "execution_count": 83,
   "metadata": {},
   "outputs": [],
   "source": [
    "import numpy as np\n",
    "import seaborn as sns\n",
    "import matplotlib.pyplot as plt\n",
    "import subjects\n",
    "from neuropy.utils.signal_process import filter_sig\n",
    "from neuropy import plotting\n",
    "from neuropy.analyses import Pf1D"
   ]
  },
  {
   "cell_type": "markdown",
   "metadata": {},
   "source": [
    "### Example ripple trace"
   ]
  },
  {
   "cell_type": "code",
   "execution_count": null,
   "metadata": {},
   "outputs": [],
   "source": [
    "sess = subjects.sd.ratSday3[0]"
   ]
  },
  {
   "cell_type": "code",
   "execution_count": null,
   "metadata": {},
   "outputs": [],
   "source": [
    "# plt.style.use('dark_background')\n",
    "figure = plotting.Fig()\n",
    "fig, gs = figure.draw(grid=(3, 1),wspace=0.5)\n",
    "maze = sess.paradigm['maze'].flatten()\n",
    "rpls = sess.pbe.time_slice(maze[0],maze[1])\n",
    "channels = sess.probegroup.get_connected_channels()\n",
    "\n",
    "rpl_indx = [829] # visually identified with random selection runs\n",
    "print(rpl_indx)\n",
    "cmap = 'gist_rainbow'\n",
    "for i,indx in enumerate(rpl_indx):\n",
    "    ax = plt.subplot(gs[0])\n",
    "    rpl = rpls[indx].flatten()\n",
    "    rpl_sig = sess.eegfile.get_signal(\n",
    "        channels[8][9], t_start=rpl[0]-0.20, t_stop=rpl[1]+0.2\n",
    "    )\n",
    "    plotting.plot_signal_traces(rpl_sig, pad=1,ax=ax,lw=2,color='b')\n",
    "    ax.set_yticks([])\n",
    "\n",
    "# figure.savefig(subjects.figpath_sd/'example_ripple')"
   ]
  },
  {
   "cell_type": "markdown",
   "metadata": {},
   "source": [
    "### Example ripples and replay raster plot below it"
   ]
  },
  {
   "cell_type": "code",
   "execution_count": null,
   "metadata": {},
   "outputs": [],
   "source": [
    "import numpy as np\n",
    "import matplotlib.pyplot as plt\n",
    "import subjects\n",
    "from neuropy import plotting\n",
    "from neuropy.analyses import Pf1D\n",
    "sess = subjects.nsd.ratVday3[0]"
   ]
  },
  {
   "cell_type": "code",
   "execution_count": null,
   "metadata": {},
   "outputs": [],
   "source": [
    "%matplotlib widget\n",
    "# plt.style.use('dark_background')\n",
    "figure = plotting.Fig()\n",
    "fig, gs = figure.draw(grid=(3, 5),wspace=0.5)\n",
    "maze = sess.paradigm['maze'].flatten()\n",
    "rpls = sess.pbe.time_slice(maze[0],maze[1])\n",
    "channels = sess.probegroup.get_connected_channels()\n",
    "pyr_neurons = sess.neurons.get_neuron_type('pyr')\n",
    "pos = sess.lin_maze\n",
    "# pos.t_start = pos.t_start\n",
    "run = sess.run['forward']\n",
    "pf = Pf1D(neurons=pyr_neurons,position=pos,speed_thresh=10,sigma=4,grid_bin=3,frate_thresh=1,epochs=sess.run)\n",
    "pf_neurons =pyr_neurons.get_by_id(pf.neuron_ids) \n",
    "\n",
    "tc = pf.tuning_curves\n",
    "sort_ind = np.argsort(np.argmax(tc,axis=1))\n",
    "pf_neurons = pf_neurons[sort_ind]\n",
    "\n",
    "# rpl_indx = np.random.choice(len(rpls),4,replace=False)\n",
    "rpl_indx = [356,712,426,829] # visually identified with random selection runs\n",
    "print(rpl_indx)\n",
    "cmap = 'gist_rainbow'\n",
    "for i,indx in enumerate(rpl_indx):\n",
    "    ax = plt.subplot(gs[0,i+1])\n",
    "    rpl = rpls[indx].flatten()\n",
    "    rpl_sig = sess.eegfile.get_signal(\n",
    "        channels[8].astype(int), t_start=rpl[0]-0.10, t_stop=rpl[1]+0.1\n",
    "    )\n",
    "    plotting.plot_signal_traces(rpl_sig, pad=1,ax=ax,lw=0.5,color='k')\n",
    "    if i>0:\n",
    "        ax.set_yticks([])\n",
    "\n",
    "    neurons = pf_neurons.time_slice(rpl[0],rpl[1])\n",
    "    ax_raster = plt.subplot(gs[1,i+1])\n",
    "    ax_raster = plotting.plot_raster(neurons,ax=ax_raster,color=cmap,markersize=4)\n",
    " \n",
    "    ax_raster.axis('off')\n",
    "\n",
    "ax_pf = plt.subplot(gs[1,0])\n",
    "plotting.plot_ratemap(pf,ax=ax_pf,normalize_tuning_curve=True,cmap=cmap)\n",
    "ax_pf.set_yticks([])\n",
    "# figure.savefig(subjects.figpath_sd/'example_ripples_')"
   ]
  },
  {
   "cell_type": "markdown",
   "metadata": {},
   "source": [
    "### Ripple traces multiple shanks"
   ]
  },
  {
   "cell_type": "code",
   "execution_count": null,
   "metadata": {},
   "outputs": [],
   "source": [
    "import numpy as np\n",
    "import subjects\n",
    "import matplotlib.pyplot as plt\n",
    "from neuropy.plotting import plot_signal_traces\n",
    "\n",
    "sess = subjects.tn.ratKday3[0]\n",
    "t1 = 349*60+56+0.9\n",
    "# t1 = 350*60+0.2\n",
    "t2 = t1+2\n",
    "fig,ax = plt.subplots(5,1)\n",
    "cmaps = ['r','#30f83a','#f830ee','#1eb1f6','#f6ee1e']\n",
    "for i in range(5):\n",
    "    channels = sess.recinfo.channel_groups[i+1].astype('int')\n",
    "    signal = sess.eegfile.get_signal(channels,t1,t2)\n",
    "    plot_signal_traces(signal,ax=ax[i],pad=0.2,color=cmaps[i],lw=0.5)\n",
    "    ax[i].axis('off')\n",
    "    # ax[i].set_facecolor('k')\n",
    "\n",
    "fig.savefig(subjects.figpath_sd/'rpl_traces_multi_shanks.pdf')"
   ]
  },
  {
   "cell_type": "markdown",
   "metadata": {},
   "source": [
    "### A sample run with CA1 cells, LFP, Actual position and decoded position\n",
    "- something similar to Fig1C of Tang2021"
   ]
  },
  {
   "cell_type": "code",
   "execution_count": null,
   "metadata": {},
   "outputs": [],
   "source": [
    "# sess = subjects.sd.ratVday2[0]\n",
    "sess = subjects.nsd.ratUday2[0]\n",
    "# sess = subjects.nsd.ratNday2[0]\n",
    "maze = sess.paradigm[\"maze\"].flatten()\n",
    "maze_pos = sess.maze\n",
    "maze_run = sess.maze_run\n",
    "neurons = sess.neurons.get_neuron_type(['pyr','mua'])\n",
    "good_cells = neurons.firing_rate<10\n",
    "neurons = neurons[good_cells]\n",
    "pf = Pf1D(\n",
    "    neurons=neurons,\n",
    "    position=maze_pos,\n",
    "    sigma=4,\n",
    "    grid_bin=2,\n",
    "    # epochs=maze_run[\"down\"],\n",
    "    frate_thresh=0.02,\n",
    ")\n",
    "\n"
   ]
  },
  {
   "cell_type": "code",
   "execution_count": null,
   "metadata": {},
   "outputs": [],
   "source": [
    "from neuropy.analyses.decoders import Decode1d\n",
    "pf_neurons = neurons.get_by_id(pf.neuron_ids)\n",
    "decode = Decode1d(neurons=pf_neurons,ratemap=pf,bin_size=0.2)"
   ]
  },
  {
   "cell_type": "code",
   "execution_count": null,
   "metadata": {},
   "outputs": [],
   "source": [
    "_,ax = plt.subplots()\n",
    "# ax.imshow(decode.posterior,aspect='auto',cmap='binary',vmax=0.1)\n",
    "ax.plot(decode.decoded_position,'.')\n",
    "# ax.plot(,'.')"
   ]
  },
  {
   "cell_type": "code",
   "execution_count": null,
   "metadata": {},
   "outputs": [],
   "source": [
    "# ---- Choose Period-----\n",
    "# RatVDay2SD\n",
    "# run_epoch = [12721, 12]\n",
    "# pbe = [12722.5, 12723]\n",
    "\n",
    "\n",
    "# RatUDay2NSD\n",
    "# run_epoch = [11419, 11430.5]\n",
    "# pbe = [11420.22, 11420.5]\n",
    "# run_epoch = [11162, 11172]\n",
    "# pbe = [11165.5, 11165.79]\n",
    "run_epoch = [10744, 10760]\n",
    "# pbe = [10758.1, 10758.55]\n",
    "pbe = [10753.61, 10753.87]\n",
    "\n",
    "# RatVDay2SD\n",
    "# run_epoch = [maze[0] + 1060, maze[0] + 1070]\n",
    "# pbe = [maze[0] + 1060 + 4.5, maze[0] + 1060 + 4.7]\n",
    "\n",
    "# run_epoch = maze+5\n",
    "# pbe = [maze[0]+100,maze[0]+100.5]\n",
    "\n",
    "neurons_sorted = sess.neurons[pf.get_sort_order(\"neuron_id\")].time_slice(*run_epoch)\n",
    "pos_epoch = maze_pos.time_slice(*run_epoch)\n",
    "\n",
    "cmap = \"rainbow\"\n",
    "raster_kw = dict(markersize=4, markeredgewidth=2)\n",
    "fig = plotting.Fig(grid=(16, 6))\n",
    "\n",
    "# ---- Running epoch --------\n",
    "\n",
    "# Raw LFP\n",
    "sig_ax = fig.subplot(fig.gs[0, 1:6])\n",
    "signal = sess.eegfile.get_signal(85, *run_epoch)\n",
    "sig_ax.plot(signal.time, signal.traces[0], \"k\", lw=0.2)\n",
    "sig_ax.set_xlim(run_epoch)\n",
    "sig_ax.axis(\"off\")\n",
    "\n",
    "# Ripple band LFP\n",
    "rpl_signal = filter_sig.bandpass(signal, lf=125, hf=250)\n",
    "rpl_ax = fig.subplot(fig.gs[1, 1:6], sharex=sig_ax)\n",
    "rpl_ax.plot(signal.time, rpl_signal.traces[0], \"#4a77bae8\", lw=0.2)\n",
    "rpl_ax.set_xlim(run_epoch)\n",
    "rpl_ax.axis(\"off\")\n",
    "\n",
    "\n",
    "# Raster plot\n",
    "ax = fig.subplot(fig.gs[2:6, 1:6], sharex=sig_ax)\n",
    "plotting.plot_raster(neurons_sorted, color=cmap, ax=ax, **raster_kw)\n",
    "\n",
    "# Position plot\n",
    "ax2 = ax.twinx()\n",
    "ax2.plot(pos_epoch.time, pos_epoch.x, color=\"#a3a3a3\", alpha=0.7, lw=3)\n",
    "ax2.set_yticks([])\n",
    "xticks = np.arange(run_epoch[0], run_epoch[1], 5)\n",
    "# ax.set_xticks(xticks, xticks - xticks[0])\n",
    "ax.tick_params(rotation=0)\n",
    "ax.set_yticks([1, len(neurons_sorted)])\n",
    "\n",
    "replay_ax = fig.subplot(fig.gs[2:6, 0])\n",
    "plotting.plot_raster(\n",
    "    neurons_sorted.time_slice(*pbe), ax=replay_ax, color=cmap, **raster_kw\n",
    ")\n",
    "replay_ax.axis(\"off\")\n",
    "\n",
    "sig_ax = fig.subplot(fig.gs[0, 0], sharex=replay_ax)\n",
    "pbe_signal = signal.time_slice(None, *pbe)\n",
    "sig_ax.plot(pbe_signal.time, pbe_signal.traces[0], \"k\", lw=0.5)\n",
    "sig_ax.axis(\"off\")\n",
    "\n",
    "\n",
    "rpl_ax = fig.subplot(fig.gs[1, 0], sharex=replay_ax)\n",
    "replay_sig = rpl_signal.time_slice(None, *pbe)\n",
    "rpl_ax.plot(\n",
    "    replay_sig.time, rpl_signal.time_slice(None, *pbe).traces[0], \"#4a77bae8\", lw=0.5\n",
    ")\n",
    "# rpl_ax.set_xlim(run_epoch)\n",
    "rpl_ax.axis(\"off\")\n",
    "\n",
    "\n",
    "# All position plot \n",
    "\n",
    "ax = fig.subplot(fig.gs[6:9,2:4])\n",
    "allpos = sess.position.time_slice(*maze)\n",
    "run_pos = sess.position.time_slice(*run_epoch)\n",
    "ax.plot(allpos.x,allpos.y,color='#d3d4d5')\n",
    "ax.plot(run_pos.x,run_pos.y,color='r')\n",
    "ax.axis('off')\n",
    "\n"
   ]
  },
  {
   "cell_type": "code",
   "execution_count": null,
   "metadata": {},
   "outputs": [],
   "source": [
    "fig.savefig(subjects.figpath_sd/'example_run')"
   ]
  },
  {
   "cell_type": "code",
   "execution_count": null,
   "metadata": {},
   "outputs": [],
   "source": [
    "_,ax = plt.subplots()\n",
    "\n",
    "plotting.plot_ratemap(pf,normalize_tuning_curve=True,ax=ax)"
   ]
  },
  {
   "cell_type": "markdown",
   "metadata": {},
   "source": [
    "### Ripple autocorrelation"
   ]
  },
  {
   "cell_type": "code",
   "execution_count": null,
   "metadata": {},
   "outputs": [],
   "source": [
    "autocorr = subjects.GroupData().ripple_autocorr\n",
    "\n",
    "fig = plotting.Fig(grid=(7, 3),fontsize=7)\n",
    "ax = fig.subplot(fig.gs[0])\n",
    "sns.lineplot(\n",
    "    data=autocorr,\n",
    "    x=\"lag_time\",\n",
    "    y=\"auto_corr\",\n",
    "    hue=\"grp\",\n",
    "    ci=None,\n",
    "    palette=subjects.colors_sd(),\n",
    "    hue_order=['NSD','SD']\n",
    ")\n",
    "ax.legend(\"\", frameon=False)\n",
    "fig.savefig(subjects.figpath_sd/'ripple_autocorr')"
   ]
  },
  {
   "cell_type": "markdown",
   "metadata": {},
   "source": [
    "### Schematic of sharp wave amplitude method\n",
    "- for use in sd_figure2"
   ]
  },
  {
   "cell_type": "code",
   "execution_count": null,
   "metadata": {},
   "outputs": [],
   "source": [
    "from neuropy.utils.signal_process import filter_sig\n",
    "\n",
    "sess = subjects.nsd.ratUday2[0]\n",
    "sw_amp = sess.ripple.to_dataframe()['sharp_wave_amp']\n",
    "# indx = np.random.choice(np.where(sw_amp>3)[0])\n",
    "indx=17766\n",
    "period = sess.ripple[indx].flatten()\n",
    "period = [period[0]-0.1,period[1]+0.1]\n",
    "channels = sess.recinfo.channel_groups[6].astype('int')[0::5]\n",
    "signal = sess.eegfile.get_signal(channels,*period)\n",
    "filt_signal = filter_sig.bandpass(signal,lf=2,hf=30)\n",
    "\n",
    "# _,ax = plt.subplots()\n",
    "fig = plotting.Fig(grid=(11,20))\n",
    "ax = fig.subplot(fig.gs[0,:2])\n",
    "plotting.plot_signal_traces(signal,ax=ax,pad=0,color='#949494',lw=0.3)\n",
    "plotting.plot_signal_traces(filt_signal,ax=ax,color='#5d22a0',pad=0,lw=0.5)\n",
    "ax.axis('off')\n",
    "\n",
    "fig.savefig(subjects.figpath_sd/'sw_amp_example')"
   ]
  },
  {
   "cell_type": "markdown",
   "metadata": {},
   "source": [
    "### EV for 2 animals "
   ]
  },
  {
   "cell_type": "code",
   "execution_count": null,
   "metadata": {},
   "outputs": [],
   "source": [
    "from neuropy.core import Epoch\n",
    "\n",
    "errorbar_kw = dict(alpha=0.5, linewidth=0, ec=None)\n",
    "\n",
    "grpdata = subjects.GroupData()\n",
    "ev_df = grpdata.ev_pooled\n",
    "\n",
    "ev_states = grpdata.ev_brainstates\n",
    "indx = np.isin(ev_states.name, [\"RatN\", \"RatS\"])\n",
    "ev_states = ev_states[indx]\n",
    "\n",
    "ev_colors = subjects.colors_sd(0.8) \n",
    "\n",
    "plt.close()\n",
    "fig = plotting.Fig(grid=(9, 4))\n",
    "subfig = fig.add_subfigure(fig.gs[:2, :2])\n",
    "axs = subfig.subplots(\n",
    "    4, 2, sharey=\"row\", sharex=\"col\", gridspec_kw=dict(height_ratios=[1, 4, 1, 4])\n",
    ")\n",
    "\n",
    "for row, rat in enumerate(['RatN','RatS']):\n",
    "    for col,grp in enumerate(['NSD','SD']):\n",
    "        color = ev_colors[0] if grp == \"NSD\" else ev_colors[1]\n",
    "\n",
    "        ax = axs[2*row,col]\n",
    "        epoch = Epoch(ev_states[(ev_states.name==rat)&(ev_states.grp==grp)])\n",
    "        plotting.plot_hypnogram(epoch, ax=ax, collapsed=False)\n",
    "\n",
    "\n",
    "        ax = axs[2*row+1,col]\n",
    "\n",
    "        df = ev_df[(ev_df.name==rat)&(ev_df.grp==grp)]\n",
    "        t, ev, ev_err, rev, rev_err = (\n",
    "            df[\"Zt\"],\n",
    "            df[\"ev\"],\n",
    "            df[\"ev_std\"],\n",
    "            df[\"rev\"],\n",
    "            df[\"rev_std\"],\n",
    "        )\n",
    "\n",
    "        ax.fill_between(t, rev - rev_err, rev + rev_err, color=\"#33d675\", **errorbar_kw)\n",
    "        ax.plot(t, rev, color=\"#33d675\")\n",
    "        ax.fill_between(t, ev - ev_err, ev + ev_err, color=color, **errorbar_kw)\n",
    "        ax.plot(t, ev, color=color)\n",
    "\n",
    "fig.savefig(subjects.figpath_sd/'example_ev')"
   ]
  }
 ],
 "metadata": {
  "interpreter": {
   "hash": "cce1618081139d19eb1ee8d40815d94a2de4f62e1efb20d9406ddb60628c36ae"
  },
  "kernelspec": {
   "display_name": "Python 3.9.7 64-bit ('data_analysis': conda)",
   "language": "python",
   "name": "python3"
  },
  "language_info": {
   "codemirror_mode": {
    "name": "ipython",
    "version": 3
   },
   "file_extension": ".py",
   "mimetype": "text/x-python",
   "name": "python",
   "nbconvert_exporter": "python",
   "pygments_lexer": "ipython3",
   "version": "3.10.4"
  },
  "orig_nbformat": 4
 },
 "nbformat": 4,
 "nbformat_minor": 2
}
