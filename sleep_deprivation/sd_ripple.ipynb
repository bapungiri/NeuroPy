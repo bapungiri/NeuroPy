{
 "cells": [
  {
   "cell_type": "markdown",
   "metadata": {},
   "source": [
    "# Frequency and power distribution comparison between 1st and 5th hour of POST \n",
    "- both measures were calculated using wavelet transform\n",
    "- Runs slow, maybe adding parallel loop for wavelet calculation will help, or move to hilbert amplitude which will be lot faster."
   ]
  },
  {
   "cell_type": "code",
   "execution_count": null,
   "metadata": {},
   "outputs": [],
   "source": [
    "import matplotlib.pyplot as plt\n",
    "from neuropy.utils.signal_process import TimeFrequency\n",
    "import numpy as np\n",
    "from neuropy.plotting import Fig\n",
    "import pandas as pd\n",
    "from scipy import stats\n",
    "import subjects\n",
    "\n",
    "sd_sessions = (\n",
    "    subjects.sd.ratJday1\n",
    "    + subjects.sd.ratKday1\n",
    "    + subjects.sd.ratNday1\n",
    "    + subjects.sd.ratSday3\n",
    "    + subjects.sd.ratRday2\n",
    "    + subjects.sd.ratUday4\n",
    "    + subjects.sd.ratVday2\n",
    ")\n",
    "nsd_sessions = (\n",
    "    subjects.nsd.ratJday2\n",
    "    + subjects.nsd.ratKday2\n",
    "    + subjects.nsd.ratNday2\n",
    "    + subjects.nsd.ratSday2\n",
    "    + subjects.nsd.ratRday1\n",
    "    + subjects.nsd.ratUday2\n",
    "    + subjects.nsd.ratVday1\n",
    ")\n"
   ]
  },
  {
   "cell_type": "code",
   "execution_count": null,
   "metadata": {},
   "outputs": [],
   "source": [
    "from neuropy.utils.signal_process import hilbert_ampltiude_stat\n",
    "\n",
    "rpl_power = pd.DataFrame()\n",
    "rpl_freq_dist = pd.DataFrame()\n",
    "for grp, sessions in zip([\"sd\", \"nsd\"], [sd_sessions, nsd_sessions]):\n",
    "    for sub, sess in enumerate(sessions):\n",
    "        print(grp,sub)\n",
    "        post = sess.paradigm[\"post\"].flatten()\n",
    "        # sd = sess.paradigm[\"sd\"].flatten()\n",
    "        sd = [post[0], post[0] + 5 * 3600]\n",
    "        channels = sess.ripple.metadata[\"channels\"]\n",
    "\n",
    "        signal = sess.eegfile.get_signal(channels, 1800, 3600)\n",
    "        hilbert_stat = hilbert_ampltiude_stat(\n",
    "            signal.traces, freq_band=(150, 250), fs=1250, statistic=\"median\"\n",
    "        )\n",
    "\n",
    "        channel = channels[np.argmax(hilbert_stat)]\n",
    "\n",
    "        freqs = np.arange(130, 250, 2)\n",
    "        rpls_1h = sess.ripple.time_slice(sd[0], sd[0] + 3600).set_labels(\"1st\")\n",
    "        rpls_5h = sess.ripple.time_slice(sd[0] + 4 * 3600, sd[1]).set_labels(\"5th\")\n",
    "        rpls_6h = sess.ripple.time_slice(sd[1], sd[1] + 3600).set_labels(\"6th\")\n",
    "\n",
    "        rpls_comb = rpls_1h + rpls_5h + rpls_6h\n",
    "        max_power, freq_dist = [], []\n",
    "        for start, stop in zip(rpls_comb.starts, rpls_comb.stops):\n",
    "            signal = sess.eegfile.get_signal(channel, start, stop)\n",
    "            wvlt = TimeFrequency(\n",
    "                signal=signal, freqs=freqs, method=\"wavelet\", ncycles=7\n",
    "            )\n",
    "            wvlt_mean = wvlt.mean_power()\n",
    "            max_power.append(np.max(wvlt_mean))\n",
    "            freq_dist.append(np.mean(wvlt.traces, axis=1))\n",
    "\n",
    "        df1 = pd.DataFrame(\n",
    "            {\n",
    "                \"max_power\": np.array(max_power),\n",
    "                \"hour\": rpls_comb.labels,\n",
    "                \"sub\": sub,\n",
    "                \"grp\": grp,\n",
    "            }\n",
    "        )\n",
    "        df2 = pd.DataFrame(np.asarray(freq_dist), columns=freqs)\n",
    "        df2[\"hour\"] = rpls_comb.labels\n",
    "        df2[\"sub\"] = sub\n",
    "        df2[\"grp\"] = grp\n",
    "        df2 = pd.melt(\n",
    "            df2,\n",
    "            id_vars=[\"hour\", \"sub\", \"grp\"],\n",
    "            value_vars=freqs,\n",
    "            var_name=[\"freq\"],\n",
    "            value_name=\"freq_power\",\n",
    "            ignore_index=True,\n",
    "        )\n",
    "\n",
    "        rpl_power = rpl_power.append(df1).reset_index(drop=True)\n",
    "        rpl_freq_dist = rpl_freq_dist.append(df2).reset_index(drop=True)\n"
   ]
  },
  {
   "cell_type": "markdown",
   "metadata": {},
   "source": [
    "## Frequency distribution plot"
   ]
  },
  {
   "cell_type": "code",
   "execution_count": null,
   "metadata": {},
   "outputs": [],
   "source": [
    "%matplotlib widget\n",
    "import seaborn as sns\n",
    "\n",
    "dist = sns.relplot(\n",
    "    data=rpl_freq_dist,\n",
    "    x=\"freq\",\n",
    "    y='freq_power',\n",
    "    hue=\"hour\",\n",
    "    ci=None,\n",
    "    kind='line',\n",
    "    row=\"sub\",\n",
    "    col='grp',\n",
    "    height=1.5,\n",
    "    aspect=2,\n",
    "    lw=1,\n",
    ")\n",
    "\n",
    "# dist.figure.savefig(subjects.figpath_sd/'ripple_power_dist_Zt1_vs_Zt5.pdf')"
   ]
  },
  {
   "cell_type": "markdown",
   "metadata": {},
   "source": [
    "## Power distribution plot"
   ]
  },
  {
   "cell_type": "code",
   "execution_count": null,
   "metadata": {},
   "outputs": [],
   "source": [
    "%matplotlib widget\n",
    "from neuropy import plotting\n",
    "import seaborn as sns\n",
    "\n",
    "dist = sns.displot(\n",
    "    data=rpl_power,\n",
    "    x=\"max_power\",\n",
    "    hue=\"hour\",\n",
    "    stat=\"probability\",\n",
    "    # binrange=(0, 140),\n",
    "    kind='hist',\n",
    "    row=\"sub\",\n",
    "    col='grp',\n",
    "    cumulative=False,\n",
    "    # ax=ax,\n",
    "    element=\"step\",\n",
    "    fill=False,\n",
    "    common_norm=False,\n",
    "    height=1.5,\n",
    "    aspect=2,\n",
    "    lw=1,\n",
    "    # alpha=0.8,\n",
    "    palette=['#5cc0eb','#faa49d','#05d69e'],\n",
    "    \n",
    ")\n",
    "\n",
    "# dist.figure.savefig(subjects.figpath_sd/'ripple_power_dist_Zt1_vs_Zt5_vs_Zt6.pdf')\n"
   ]
  },
  {
   "cell_type": "markdown",
   "metadata": {},
   "source": [
    "# Spike triggered raster plot w.r.t ripples during sleep deprivation for individual neurons"
   ]
  },
  {
   "cell_type": "code",
   "execution_count": null,
   "metadata": {},
   "outputs": [],
   "source": [
    "import numpy as np\n",
    "import matplotlib.pyplot as plt\n",
    "import subjects\n",
    "\n",
    "sessions = subjects.sd.ratSday3"
   ]
  },
  {
   "cell_type": "code",
   "execution_count": null,
   "metadata": {},
   "outputs": [],
   "source": [
    "for sub,sess in enumerate(sessions):\n",
    "    sd = sess.paradigm['sd']\n",
    "    rpls = sess.ripple.time_slice(sd[0],sd[1])\n",
    "    "
   ]
  }
 ],
 "metadata": {
  "interpreter": {
   "hash": "cce1618081139d19eb1ee8d40815d94a2de4f62e1efb20d9406ddb60628c36ae"
  },
  "kernelspec": {
   "display_name": "Python 3.9.7 64-bit ('data_analysis': conda)",
   "name": "python3"
  },
  "language_info": {
   "codemirror_mode": {
    "name": "ipython",
    "version": 3
   },
   "file_extension": ".py",
   "mimetype": "text/x-python",
   "name": "python",
   "nbconvert_exporter": "python",
   "pygments_lexer": "ipython3",
   "version": "3.9.7"
  },
  "orig_nbformat": 4
 },
 "nbformat": 4,
 "nbformat_minor": 2
}
