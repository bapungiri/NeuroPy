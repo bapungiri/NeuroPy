{
 "cells": [
  {
   "cell_type": "markdown",
   "metadata": {},
   "source": [
    "### Hypotheses\n",
    "- [Lower ripple rate during SD compared NSD](#ripple_rate): One possibility of faster decay of replay during sleep deprivation could be reduced ripple rate at the beginning of POST. This may suggest that in order for cells to replay they need sufficient number/amount of elicitation to last for certain duration of time, so a lower ripple rate could interrupt this requirement.\n"
   ]
  },
  {
   "cell_type": "markdown",
   "metadata": {},
   "source": [
    "### Frequency and power distribution comparison between 1st and 5th hour of POST \n",
    "- both measures were calculated using wavelet transform\n",
    "- Runs slow, maybe adding parallel loop for wavelet calculation will help, or move to hilbert amplitude which will be lot faster.\n",
    "- **Results**: Hardly any changes to ripple power or frequency observed during sleep deprivation or recovery sleep"
   ]
  },
  {
   "cell_type": "code",
   "execution_count": 1,
   "metadata": {},
   "outputs": [],
   "source": [
    "import matplotlib.pyplot as plt\n",
    "from neuropy.utils.signal_process import TimeFrequency\n",
    "import numpy as np\n",
    "from neuropy.plotting import Fig\n",
    "import pandas as pd\n",
    "from scipy import stats\n",
    "import subjects\n",
    "\n",
    "sessions = (\n",
    "    subjects.sd.ratJday1\n",
    "    + subjects.sd.ratKday1\n",
    "    + subjects.sd.ratNday1\n",
    "    + subjects.sd.ratSday3\n",
    "    + subjects.sd.ratRday2\n",
    "    + subjects.sd.ratUday4\n",
    "    + subjects.sd.ratVday2\n",
    "    + subjects.nsd.ratJday2\n",
    "    + subjects.nsd.ratKday2\n",
    "    + subjects.nsd.ratNday2\n",
    "    + subjects.nsd.ratSday2\n",
    "    + subjects.nsd.ratRday1\n",
    "    + subjects.nsd.ratUday2\n",
    "    + subjects.nsd.ratVday1\n",
    ")\n"
   ]
  },
  {
   "cell_type": "code",
   "execution_count": null,
   "metadata": {},
   "outputs": [],
   "source": [
    "from neuropy.utils.signal_process import hilbert_ampltiude_stat\n",
    "\n",
    "rpl_power = pd.DataFrame()\n",
    "rpl_freq_dist = pd.DataFrame()\n",
    "\n",
    "for sub, sess in enumerate(sessions):\n",
    "    print(sess.tag, sub)\n",
    "    post = sess.paradigm[\"post\"].flatten()\n",
    "    # sd = sess.paradigm[\"sd\"].flatten()\n",
    "    sd = [post[0], post[0] + 5 * 3600]\n",
    "    channels = sess.ripple.metadata[\"channels\"]\n",
    "\n",
    "    signal = sess.eegfile.get_signal(channels, 1800, 3600)\n",
    "    hilbert_stat = hilbert_ampltiude_stat(\n",
    "        signal.traces, freq_band=(150, 250), fs=1250, statistic=\"median\"\n",
    "    )\n",
    "\n",
    "    channel = channels[np.argmax(hilbert_stat)]\n",
    "\n",
    "    freqs = np.arange(130, 250, 2)\n",
    "    rpls_1h = sess.ripple.time_slice(sd[0], sd[0] + 3600).set_labels(\"1st\")\n",
    "    rpls_5h = sess.ripple.time_slice(sd[0] + 4 * 3600, sd[1]).set_labels(\"5th\")\n",
    "    rpls_6h = sess.ripple.time_slice(sd[1], sd[1] + 3600).set_labels(\"6th\")\n",
    "\n",
    "    rpls_comb = rpls_1h + rpls_5h + rpls_6h\n",
    "    max_power, freq_dist = [], []\n",
    "    for start, stop in zip(rpls_comb.starts, rpls_comb.stops):\n",
    "        signal = sess.eegfile.get_signal(channel, start, stop)\n",
    "        wvlt = TimeFrequency(signal=signal, freqs=freqs, method=\"wavelet\", ncycles=7)\n",
    "        wvlt_mean = wvlt.mean_power()\n",
    "        max_power.append(np.max(wvlt_mean))\n",
    "        freq_dist.append(np.mean(wvlt.traces, axis=1))\n",
    "\n",
    "    df1 = pd.DataFrame(\n",
    "        {\n",
    "            \"max_power\": np.array(max_power),\n",
    "            \"hour\": rpls_comb.labels,\n",
    "            \"sub\": sub,\n",
    "            \"grp\": sess.tag,\n",
    "        }\n",
    "    )\n",
    "    df2 = pd.DataFrame(np.asarray(freq_dist), columns=freqs)\n",
    "    df2[\"hour\"] = rpls_comb.labels\n",
    "    df2[\"sub\"] = sub\n",
    "    df2[\"grp\"] = sess.tag\n",
    "    df2 = pd.melt(\n",
    "        df2,\n",
    "        id_vars=[\"hour\", \"sub\", \"grp\"],\n",
    "        value_vars=freqs,\n",
    "        var_name=[\"freq\"],\n",
    "        value_name=\"freq_power\",\n",
    "        ignore_index=True,\n",
    "    )\n",
    "\n",
    "    rpl_power = rpl_power.append(df1).reset_index(drop=True)\n",
    "    rpl_freq_dist = rpl_freq_dist.append(df2).reset_index(drop=True)\n"
   ]
  },
  {
   "cell_type": "markdown",
   "metadata": {},
   "source": [
    "#### Frequency distribution plot"
   ]
  },
  {
   "cell_type": "code",
   "execution_count": null,
   "metadata": {},
   "outputs": [],
   "source": [
    "%matplotlib widget\n",
    "import seaborn as sns\n",
    "\n",
    "dist = sns.relplot(\n",
    "    data=rpl_freq_dist,\n",
    "    x=\"freq\",\n",
    "    y='freq_power',\n",
    "    hue=\"hour\",\n",
    "    ci=None,\n",
    "    kind='line',\n",
    "    row=\"sub\",\n",
    "    col='grp',\n",
    "    height=1.5,\n",
    "    aspect=2,\n",
    "    lw=1,\n",
    ")\n",
    "\n",
    "# dist.figure.savefig(subjects.figpath_sd/'ripple_power_dist_Zt1_vs_Zt5.pdf')"
   ]
  },
  {
   "cell_type": "markdown",
   "metadata": {},
   "source": [
    "#### Power distribution plot"
   ]
  },
  {
   "cell_type": "code",
   "execution_count": null,
   "metadata": {},
   "outputs": [],
   "source": [
    "%matplotlib widget\n",
    "from neuropy import plotting\n",
    "import seaborn as sns\n",
    "\n",
    "dist = sns.displot(\n",
    "    data=rpl_power,\n",
    "    x=\"max_power\",\n",
    "    hue=\"hour\",\n",
    "    stat=\"probability\",\n",
    "    # binrange=(0, 140),\n",
    "    kind='hist',\n",
    "    row=\"sub\",\n",
    "    col='grp',\n",
    "    cumulative=False,\n",
    "    # ax=ax,\n",
    "    element=\"step\",\n",
    "    fill=False,\n",
    "    common_norm=False,\n",
    "    height=1.5,\n",
    "    aspect=2,\n",
    "    lw=1,\n",
    "    # alpha=0.8,\n",
    "    palette=['#5cc0eb','#faa49d','#05d69e'],\n",
    "    \n",
    ")\n",
    "\n",
    "# dist.figure.savefig(subjects.figpath_sd/'ripple_power_dist_Zt1_vs_Zt5_vs_Zt6.pdf')\n"
   ]
  },
  {
   "cell_type": "markdown",
   "metadata": {},
   "source": [
    "### Spike triggered raster plot w.r.t ripples during sleep deprivation for individual neurons"
   ]
  },
  {
   "cell_type": "code",
   "execution_count": null,
   "metadata": {},
   "outputs": [],
   "source": [
    "import numpy as np\n",
    "import matplotlib.pyplot as plt\n",
    "import subjects\n",
    "\n",
    "sessions = subjects.sd.ratSday3"
   ]
  },
  {
   "cell_type": "code",
   "execution_count": null,
   "metadata": {},
   "outputs": [],
   "source": [
    "for sub,sess in enumerate(sessions):\n",
    "    sd = sess.paradigm['sd']\n",
    "    rpls = sess.ripple.time_slice(sd[0],sd[1])\n",
    "    "
   ]
  },
  {
   "cell_type": "markdown",
   "metadata": {},
   "source": [
    "### Total/mean ripple duration from first hour to last hour SD"
   ]
  },
  {
   "cell_type": "code",
   "execution_count": null,
   "metadata": {},
   "outputs": [],
   "source": [
    "import matplotlib.pyplot as plt\n",
    "from neuropy.utils.signal_process import TimeFrequency\n",
    "import numpy as np\n",
    "from neuropy.plotting import Fig\n",
    "import pandas as pd\n",
    "from scipy import stats\n",
    "import subjects\n",
    "\n",
    "sessions = (\n",
    "    subjects.sd.ratJday1\n",
    "    + subjects.sd.ratKday1\n",
    "    + subjects.sd.ratNday1\n",
    "    + subjects.sd.ratSday3\n",
    "    + subjects.sd.ratRday2\n",
    "    + subjects.sd.ratUday4\n",
    "    + subjects.sd.ratVday2\n",
    "    + subjects.nsd.ratJday2\n",
    "    + subjects.nsd.ratKday2\n",
    "    + subjects.nsd.ratNday2\n",
    "    + subjects.nsd.ratSday2\n",
    "    + subjects.nsd.ratRday1\n",
    "    + subjects.nsd.ratUday2\n",
    "    + subjects.nsd.ratVday1\n",
    ")\n"
   ]
  },
  {
   "cell_type": "code",
   "execution_count": null,
   "metadata": {},
   "outputs": [],
   "source": [
    "rpl_duration = pd.DataFrame()\n",
    "for sub, sess in enumerate(sessions):\n",
    "\n",
    "    post = sess.paradigm[\"post\"].flatten()\n",
    "    rpls_1h = sess.ripple.time_slice(post[0], post[0] + 1*3600).durations.sum()\n",
    "    rpls_5h = sess.ripple.time_slice(\n",
    "        post[0] + 4* 3600, post[0] + 5 * 3600\n",
    "    ).durations.sum()\n",
    "\n",
    "    rpl_duration = rpl_duration.append(\n",
    "        pd.DataFrame(\n",
    "            {\"epoch\": [\"1h\", \"5h\"], \"rpl_duration\": [rpls_1h, rpls_5h], \"grp\": sess.tag,'sub':sub}\n",
    "        )\n",
    "    ).reset_index(drop=True)\n"
   ]
  },
  {
   "cell_type": "code",
   "execution_count": null,
   "metadata": {},
   "outputs": [],
   "source": [
    "%matplotlib widget\n",
    "import seaborn as sns\n",
    "\n",
    "# fig,axs = plt.subplots(1,2)\n",
    "# for i,grp in enumerate(['sd','nsd']):\n",
    "#     data = rpl_duration[rpl_duration['grp']==grp]\n",
    "#     ax = axs[0,i]\n",
    "#     sns.stripplot()\n",
    "#     sns.catplot(data=rpl_duration,x='epoch',y='rpl_duration',col='grp',kind='strip',jitter=0)\n",
    "g=sns.relplot(\n",
    "    data=rpl_duration,\n",
    "    x=\"epoch\",\n",
    "    y=\"rpl_duration\",\n",
    "    hue=\"sub\",\n",
    "    col=\"grp\",\n",
    "    # row='rpl_duration',\n",
    "    kind=\"line\",\n",
    "    marker=\"o\",\n",
    "    palette=['gray']*len(sessions),\n",
    ")\n",
    "\n",
    "[ax.set_xlim([-1,2]) for ax in g.axes.reshape(-1)]"
   ]
  },
  {
   "cell_type": "markdown",
   "metadata": {},
   "source": [
    "### Interneuron categorization based on firing rate around ripples start\n",
    "- using CCG algorithm"
   ]
  },
  {
   "cell_type": "code",
   "execution_count": null,
   "metadata": {},
   "outputs": [],
   "source": [
    "import matplotlib.pyplot as plt\n",
    "import numpy as np\n",
    "from neuropy import plotting\n",
    "import pandas as pd\n",
    "from scipy import stats\n",
    "from neuropy.utils.ccg import correlograms\n",
    "import subjects\n",
    "\n",
    "sessions = (\n",
    "    subjects.sd.ratNday1\n",
    "    + subjects.sd.ratSday3\n",
    "    + subjects.sd.ratUday4\n",
    "    # + subjects.sd.ratVday2\n",
    "    # + subjects.nsd.ratJday2\n",
    "    # + subjects.nsd.ratKday2\n",
    "    + subjects.nsd.ratNday2\n",
    "    + subjects.nsd.ratSday2\n",
    "    # + subjects.nsd.ratRday1\n",
    "    + subjects.nsd.ratUday2\n",
    "    # + subjects.nsd.ratVday1\n",
    ")\n"
   ]
  },
  {
   "cell_type": "code",
   "execution_count": null,
   "metadata": {},
   "outputs": [],
   "source": [
    "acgs =[]\n",
    "bin_size = 0.01\n",
    "window_size = 0.2\n",
    "n_bins = int(window_size//bin_size)\n",
    "for sub,sess in enumerate(sessions):\n",
    "    ripple = sess.ripple.to_dataframe().peaktime.values\n",
    "    neurons = sess.neurons.get_neuron_type('inter') \n",
    "    for s in neurons.spiketrains:\n",
    "        combined_s = np.concatenate((s,ripple))\n",
    "        combined_id = np.concatenate((np.ones(len(s)),2*np.ones(len(ripple)))).astype('int')\n",
    "        sort_ind = np.argsort(combined_s)\n",
    "        acg = correlograms(combined_s[sort_ind],combined_id[sort_ind],sample_rate=30000,bin_size=bin_size,window_size=window_size)\n",
    "        acgs.append(acg[0,1,:])\n",
    "\n",
    "acgs = np.asarray(acgs)\n",
    "t_bin = np.linspace(-n_bins//2,n_bins//2,acgs.shape[1])\n",
    "data = pd.DataFrame(stats.zscore(acgs,axis=1),columns=t_bin)\n",
    "data['neuron'] = np.arange(acgs.shape[0])\n",
    "data = pd.melt(\n",
    "    data,\n",
    "    id_vars=[\"neuron\"],\n",
    "    value_vars=t_bin,\n",
    "    var_name=['time'],\n",
    "    value_name=\"frate\",\n",
    "    ignore_index=True,\n",
    ")"
   ]
  },
  {
   "cell_type": "code",
   "execution_count": null,
   "metadata": {},
   "outputs": [],
   "source": [
    "%matplotlib widget\n",
    "import seaborn as sns\n",
    "\n",
    "_,axs = plt.subplots(10,9,sharex=True,sharey=True)\n",
    "axs = axs.reshape(-1)\n",
    "\n",
    "acgs_norm = acgs/np.sum(acgs,axis=1,keepdims=True)\n",
    "\n",
    "for i,a in enumerate(acgs_norm):\n",
    "\n",
    "    axs[i].fill_between(t_bin,0,a)\n",
    "\n",
    "\n",
    "# from neuropy.core import Ratemap\n",
    "\n",
    "# rmap = Ratemap(acgs,np.arange(52),neuron_ids=np.arange(acgs.shape[0]))\n",
    "# plotting.plot_ratemap(rmap,normalize_tuning_curve=True,pad=2)\n",
    "\n",
    "# sns.catplot(data=data,x='time',y='frate',col='neuron',col_wrap=5,kind='bar')\n",
    "# sns.relplot(data=data,x='time',y='frate',col='neuron',col_wrap=5,kind='line')"
   ]
  },
  {
   "cell_type": "markdown",
   "metadata": {},
   "source": [
    "### Interneurons categorization based on ripple modulation\n",
    "- The method here is similar to Diba et.al. 2014.\n",
    "- Here the code that worked and shows some kmeans clustering to identify different categories.\n",
    "- NOTE: The main has now been ported to ripple_funcs.py in the current directory"
   ]
  },
  {
   "cell_type": "code",
   "execution_count": 1,
   "metadata": {},
   "outputs": [],
   "source": [
    "import matplotlib.pyplot as plt\n",
    "import numpy as np\n",
    "from neuropy import plotting\n",
    "import pandas as pd\n",
    "from scipy import stats\n",
    "from neuropy.utils.ccg import correlograms\n",
    "import subjects\n",
    "\n",
    "sessions = (\n",
    "    subjects.sd.ratJday1\n",
    "    + subjects.sd.ratKday1\n",
    "    + subjects.sd.ratNday1\n",
    "    + subjects.sd.ratSday3\n",
    "    + subjects.sd.ratUday4\n",
    "    # + subjects.sd.ratVday2\n",
    "    # + subjects.nsd.ratJday2\n",
    "    + subjects.nsd.ratKday2\n",
    "    + subjects.nsd.ratNday2\n",
    "    + subjects.nsd.ratSday2\n",
    "    # + subjects.nsd.ratRday1\n",
    "    + subjects.nsd.ratUday2\n",
    "    # + subjects.nsd.ratVday1\n",
    ")\n"
   ]
  },
  {
   "cell_type": "code",
   "execution_count": 2,
   "metadata": {},
   "outputs": [],
   "source": [
    "from sklearn.cluster import KMeans\n",
    "from ripple_funcs import ripple_modulation\n",
    "\n",
    "frate_around_rpl = []\n",
    "for sub, sess in enumerate(sessions):\n",
    "    neurons = sess.neurons.get_neuron_type(\"inter\")\n",
    "    n_neurons = len(neurons)\n",
    "    ripples = sess.ripple.to_dataframe()\n",
    "\n",
    "    start, peak, stop = sess.ripple.to_dataframe()[\n",
    "        [\"start\", \"peaktime\", \"stop\"]\n",
    "    ].values.T\n",
    "    modulation = ripple_modulation(neurons, start, peak, stop, n_bins=4)\n",
    "    frate_around_rpl.append(modulation)\n",
    "\n",
    "frate_around_rpl = np.vstack(frate_around_rpl)\n",
    "frate_norm = frate_around_rpl / np.sum(frate_around_rpl, axis=1, keepdims=True)\n",
    "kmeans = KMeans(n_clusters=2, random_state=0).fit(frate_norm)\n"
   ]
  },
  {
   "cell_type": "markdown",
   "metadata": {},
   "source": [
    "#### PCA projection of interneurons modulation"
   ]
  },
  {
   "cell_type": "code",
   "execution_count": 4,
   "metadata": {},
   "outputs": [
    {
     "data": {
      "image/png": "[encoded data removed]",
      "text/plain": [
       "<Figure size 864x360 with 17 Axes>"
      ]
     },
     "metadata": {
      "needs_background": "light"
     },
     "output_type": "display_data"
    }
   ],
   "source": [
    "%matplotlib inline\n",
    "from sklearn.decomposition import PCA\n",
    "from neuropy import plotting\n",
    "\n",
    "pca = PCA(n_components=2)\n",
    "pca.fit(frate_norm)\n",
    "projected = pca.fit_transform(frate_norm)\n",
    "\n",
    "# figure = plotting.Fig()\n",
    "# fig,gs = figure.draw(grid=(1,2))\n",
    "# gs_ = figure.subplot2grid(gs[1],grid=(2,1))\n",
    "fig = plt.figure(figsize=(12, 5))\n",
    "subfigs = fig.subfigures(1, 2, wspace=0.7)\n",
    "ax_pca = subfigs[0].subplots(1, 1)\n",
    "ax_pca.set_xlabel(\"PC1\")\n",
    "ax_pca.set_ylabel(\"PC2\")\n",
    "\n",
    "hist_figs = subfigs[1].subfigures(2, 1)\n",
    "\n",
    "colors = [\"r\", \"k\"]\n",
    "for label in [0, 1]:\n",
    "    indices = kmeans.labels_ == label\n",
    "    ax_pca.scatter(projected[indices, 0], projected[indices, 1], c=colors[label])\n",
    "\n",
    "    ind_subset = np.random.choice(np.where(indices)[0], 8)\n",
    "    frate_subset = frate_norm[ind_subset]\n",
    "    ax_hists = hist_figs[label].subplots(2, 4, sharex=True, sharey=True).reshape(-1)\n",
    "    for i, f in enumerate(frate_subset):\n",
    "        ax_hists[i].stairs(f, np.arange(-8, 9), color=colors[label], fill=True)\n",
    "        ax_hists[i].set_xticks([-5, 0, 5])\n",
    "        ax_hists[i].set_xticklabels([-1, 0, 1])\n",
    "\n",
    "# fig.savefig(subjects.figpath_sd/'interneuron_ripple_classification.pdf')\n"
   ]
  },
  {
   "cell_type": "markdown",
   "metadata": {},
   "source": [
    "<a id='ripple_rate'></a>\n",
    "### Ripple rate first hour of SD vs NSD (or only restrict to 1h NREM sleep of NSD)\n",
    "- One possiblity of faster decay of replay during sleep deprivation could be reduced ripple rate at the begining of POST. This may suggest that in order for cells to replay they need sufficient number/amount of exicitation to last for certain duration of time, so a lower ripple rate could interrupt this requirement."
   ]
  },
  {
   "cell_type": "code",
   "execution_count": null,
   "metadata": {},
   "outputs": [],
   "source": [
    "import matplotlib.pyplot as plt\n",
    "import numpy as np\n",
    "from neuropy import plotting\n",
    "import pandas as pd\n",
    "from scipy import stats\n",
    "import subjects\n",
    "\n",
    "sessions = (\n",
    "    subjects.sd.ratJday1\n",
    "    +subjects.sd.ratKday1\n",
    "    + subjects.sd.ratNday1\n",
    "    + subjects.sd.ratSday3\n",
    "    + subjects.sd.ratRday2\n",
    "    + subjects.sd.ratUday4\n",
    "    + subjects.sd.ratVday2\n",
    "\n",
    "    + subjects.nsd.ratJday2\n",
    "    + subjects.nsd.ratKday2\n",
    "    + subjects.nsd.ratNday2\n",
    "    + subjects.nsd.ratSday2\n",
    "    + subjects.nsd.ratRday1\n",
    "    + subjects.nsd.ratUday2\n",
    "    + subjects.nsd.ratVday1\n",
    ")"
   ]
  },
  {
   "cell_type": "code",
   "execution_count": null,
   "metadata": {},
   "outputs": [],
   "source": [
    "rpl_rate = pd.DataFrame()\n",
    "for sub, sess in enumerate(sessions):\n",
    "    post = sess.paradigm[\"post\"].flatten()\n",
    "    w = 2 * 3600 # window size\n",
    "    rpl_rate_sub = sess.ripple.time_slice(post[0], post[0] + w).n_epochs / w\n",
    "    rpl_rate = rpl_rate.append(\n",
    "        pd.DataFrame({\"sub\": sess.sub_name, \"rpl_rate\": [rpl_rate_sub], \"grp\": sess.tag})\n",
    "    ).reset_index(drop=True)\n"
   ]
  },
  {
   "cell_type": "code",
   "execution_count": null,
   "metadata": {},
   "outputs": [],
   "source": [
    "%matplotlib widget\n",
    "import seaborn as sns\n",
    "\n",
    "sns.lineplot(data=rpl_rate,x='grp',y='rpl_rate',hue='sub')"
   ]
  },
  {
   "cell_type": "markdown",
   "metadata": {},
   "source": [
    "### Percentage of Cells firing during ripples"
   ]
  },
  {
   "cell_type": "code",
   "execution_count": null,
   "metadata": {},
   "outputs": [],
   "source": [
    "import matplotlib.pyplot as plt\n",
    "import numpy as np\n",
    "from neuropy import plotting\n",
    "import pandas as pd\n",
    "from scipy import stats\n",
    "import subjects\n",
    "\n",
    "sessions = (\n",
    "    subjects.sd.ratNday1\n",
    "    + subjects.sd.ratSday3\n",
    "    + subjects.sd.ratUday4\n",
    "\n",
    "    + subjects.nsd.ratNday2\n",
    "    + subjects.nsd.ratSday2\n",
    "    + subjects.nsd.ratUday2\n",
    ")"
   ]
  },
  {
   "cell_type": "code",
   "execution_count": null,
   "metadata": {},
   "outputs": [],
   "source": [
    "for sub,sess in enumerate(sessions):\n",
    "    post = sess.paradigm['post'].flatten()\n",
    "    neurons = sess.neurons.get_neuron_type('pyr')\n",
    "    rpls = sess.ripple.time_slice(post[0],post[0]+3600)\n",
    "    modulation = neurons.get_modulation_in_epochs(rpls,n_bins=1).reshape(-1)\n",
    "    firing_cells = np.where(modulation>0)[0]\n",
    "    perc = len(firing_cells)/len(modulation)\n",
    "    print(perc)"
   ]
  },
  {
   "cell_type": "markdown",
   "metadata": {},
   "source": [
    "### Firing rate within and outside ripples during SD and NSD"
   ]
  },
  {
   "cell_type": "code",
   "execution_count": null,
   "metadata": {},
   "outputs": [],
   "source": [
    "import matplotlib.pyplot as plt\n",
    "import numpy as np\n",
    "from neuropy import plotting\n",
    "import pandas as pd\n",
    "from scipy import stats\n",
    "import subjects\n",
    "\n",
    "sessions = (\n",
    "    subjects.sd.ratNday1\n",
    "    + subjects.sd.ratSday3\n",
    "    + subjects.sd.ratUday4\n",
    "\n",
    "    + subjects.nsd.ratNday2\n",
    "    + subjects.nsd.ratSday2\n",
    "    + subjects.nsd.ratUday2\n",
    ")"
   ]
  },
  {
   "cell_type": "code",
   "execution_count": null,
   "metadata": {},
   "outputs": [],
   "source": [
    "from neuropy.core import Epoch\n",
    "from neuropy.utils.mathutil import min_max_scaler\n",
    "frate_df = pd.DataFrame()\n",
    "for sub, sess in enumerate(sessions):\n",
    "    post = sess.paradigm[\"post\"].flatten()\n",
    "    neurons = sess.neurons.get_neuron_type(\"inter\")\n",
    "    starts = np.arange(8) * 3600 + post[0]\n",
    "\n",
    "    frate_in, frate_out = [], []\n",
    "    for start in starts:\n",
    "        rpls = sess.ripple.time_slice(start, start + 3600)\n",
    "        n_spikes_in = neurons.get_modulation_in_epochs(rpls, n_bins=1).reshape(-1)\n",
    "        frate_in.append(n_spikes_in / rpls.durations.sum())\n",
    "\n",
    "        out_rpls = Epoch.from_array(rpls.stops[:-1], rpls.starts[1:])\n",
    "        n_spikes_out = neurons.get_modulation_in_epochs(out_rpls, n_bins=1).reshape(-1)\n",
    "        frate_out.append(n_spikes_out / out_rpls.durations.sum())\n",
    "\n",
    "    frate_sub = np.hstack((np.asarray(frate_in), np.asarray(frate_out))).T\n",
    "    frate_sub = stats.zscore(frate_sub,axis=1)\n",
    "    # frate_sub = min_max_scaler(frate_sub,axis=-1)\n",
    "    # frate_sub = np.diff(frate_sub,axis=1)\n",
    "\n",
    "    frate_sub_df = pd.DataFrame(frate_sub, columns=np.arange(1,9))\n",
    "    frate_sub_df[\"rpl\"] = [\"in\"] * len(neurons) + [\"out\"] * len(neurons)\n",
    "    frate_sub_df[\"grp\"] = sess.tag\n",
    "\n",
    "    frate_df = frate_df.append(frate_sub_df).reset_index(drop=True)\n",
    "\n",
    "frate_df = pd.melt(\n",
    "    frate_df,\n",
    "    id_vars=[\"rpl\", \"grp\"],\n",
    "    value_vars=np.arange(1,9),\n",
    "    var_name=\"Zt time\",\n",
    "    value_name=\"frate\",\n",
    "    ignore_index=True,\n",
    ")\n"
   ]
  },
  {
   "cell_type": "code",
   "execution_count": null,
   "metadata": {},
   "outputs": [],
   "source": [
    "%matplotlib widget\n",
    "import seaborn as sns\n",
    "\n",
    "g = sns.catplot(\n",
    "    data=frate_df,\n",
    "    x=\"Zt time\",\n",
    "    y=\"frate\",\n",
    "    hue=\"rpl\",\n",
    "    col=\"grp\",\n",
    "    kind=\"bar\",\n",
    "    palette=[\"#69F0AE\", \"#FF80AB\"],\n",
    "    ci=95,\n",
    "    capsize=0.1,\n",
    ")\n",
    "axes = g.axes[0]\n",
    "# [ax.set_yscale('log') for ax in axes]\n"
   ]
  },
  {
   "cell_type": "markdown",
   "metadata": {},
   "source": [
    "### PSTH around start of ripples during sleep deprivation"
   ]
  },
  {
   "cell_type": "code",
   "execution_count": 128,
   "metadata": {},
   "outputs": [],
   "source": [
    "import matplotlib.pyplot as plt\n",
    "import numpy as np\n",
    "from neuropy import plotting\n",
    "import pandas as pd\n",
    "from scipy import stats\n",
    "import subjects\n",
    "\n",
    "sessions = (\n",
    "    subjects.sd.ratNday1\n",
    "    + subjects.sd.ratSday3\n",
    "    + subjects.sd.ratUday4\n",
    "\n",
    "    +subjects.nsd.ratNday2\n",
    "    + subjects.nsd.ratSday2\n",
    "    + subjects.nsd.ratUday2\n",
    ")"
   ]
  },
  {
   "cell_type": "code",
   "execution_count": 142,
   "metadata": {},
   "outputs": [],
   "source": [
    "from neuropy.core import Epoch\n",
    "\n",
    "frate_around_rpl,grp_info = [],[]\n",
    "for sub, sess in enumerate(sessions):\n",
    "    post = sess.paradigm[\"post\"].flatten()\n",
    "    neurons = sess.neurons.get_neuron_type(\"pyr\")\n",
    "    grp_info.extend([sess.tag] * len(neurons))\n",
    "\n",
    "    get_modulation = lambda e: neurons.get_modulation_in_epochs(e, 2)\n",
    "\n",
    "    hour_modulation = []\n",
    "    for t in [post[0], post[0] + 4 * 3600]:\n",
    "        ripples = sess.ripple.time_slice(t, t + 3600)\n",
    "        start, peak = ripples.to_dataframe()[[\"start\", \"peaktime\"]].values.T\n",
    "        start_peak_dur = peak - start\n",
    "        epochs = Epoch.from_array(start - start_peak_dur, start + start_peak_dur)\n",
    "\n",
    "        modulation = []\n",
    "        for s in range(3):\n",
    "            epoch_slices = epochs[s::3]  # [_[s::3] for _ in (pre_start, start_peak)]\n",
    "            modulation.append(get_modulation(epoch_slices))\n",
    "        hour_modulation.append(np.dstack(modulation).sum(axis=2)/ripples.durations.sum())\n",
    "\n",
    "    frate_around_rpl.append(np.hstack(hour_modulation))\n",
    "\n",
    "frate_around_rpl = np.vstack(frate_around_rpl)\n",
    "# frate_norm = frate_around_rpl / np.sum(frate_around_rpl, axis=1, keepdims=True)\n",
    "frate_norm = stats.zscore(frate_around_rpl, axis=1)\n",
    "\n",
    "# bins = np.arange(-8, 9)\n",
    "frate_rpl_df = pd.DataFrame(\n",
    "    frate_around_rpl, columns=[\"pre_1h\", \"post_1h\", \"pre_5h\", \"post_5h\"]\n",
    ")\n",
    "frate_rpl_df[\"grp\"] = grp_info\n",
    "\n",
    "# frate_session_df = pd.melt(\n",
    "#     frate_session_df,\n",
    "#     id_vars=[\"grp\", \"label\"],\n",
    "#     value_vars=time_bin,\n",
    "#     var_name=[\"time\"],\n",
    "#     value_name=\"frate\",\n",
    "#     ignore_index=True,\n",
    "# )\n"
   ]
  },
  {
   "cell_type": "code",
   "execution_count": 145,
   "metadata": {},
   "outputs": [
    {
     "data": {
      "application/vnd.jupyter.widget-view+json": {
       "model_id": "24b83ab5ea83465aa7d135cd963866e3",
       "version_major": 2,
       "version_minor": 0
      },
      "text/html": [
       "\n",
       "            <div style=\"display: inline-block;\">\n",
       "                <div class=\"jupyter-widgets widget-label\" style=\"text-align: center;\">\n",
       "                    Figure\n",
       "                </div>\n",
       "                <img src='data:image/png;base64,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' width=850.0/>\n",
       "            </div>\n",
       "        "
      ],
      "text/plain": [
       "Canvas(toolbar=Toolbar(toolitems=[('Home', 'Reset original view', 'home', 'home'), ('Back', 'Back to previous …"
      ]
     },
     "metadata": {},
     "output_type": "display_data"
    }
   ],
   "source": [
    "%matplotlib widget\n",
    "import seaborn as sns\n",
    "\n",
    "figure = plotting.Fig()\n",
    "fig,gs = figure.draw(grid=(2,2))\n",
    "\n",
    "for i,grp in enumerate(['sd','nsd']):\n",
    "    df = frate_rpl_df[frate_rpl_df['grp']==grp]\n",
    "\n",
    "    ax_pre = plt.subplot(gs[i,0])\n",
    "    sns.scatterplot(data=df ,x='pre_1h',y='pre_5h',ax=ax_pre)\n",
    "    ax_pre.set_xscale('log')\n",
    "    ax_pre.set_yscale('log')\n",
    "    ax_pre.axline((0,0),(1,1))\n",
    "\n",
    "\n",
    "    ax_post = plt.subplot(gs[i,1])\n",
    "    sns.scatterplot(data=df ,x='post_1h',y='post_5h',ax=ax_post)\n",
    "    ax_post.set_xscale('log')\n",
    "    ax_post.set_yscale('log')\n",
    "    ax_post.axline((0,0),(1,1))\n"
   ]
  }
 ],
 "metadata": {
  "interpreter": {
   "hash": "cce1618081139d19eb1ee8d40815d94a2de4f62e1efb20d9406ddb60628c36ae"
  },
  "kernelspec": {
   "display_name": "Python 3.9.7 64-bit ('data_analysis': conda)",
   "name": "python3"
  },
  "language_info": {
   "codemirror_mode": {
    "name": "ipython",
    "version": 3
   },
   "file_extension": ".py",
   "mimetype": "text/x-python",
   "name": "python",
   "nbconvert_exporter": "python",
   "pygments_lexer": "ipython3",
   "version": "3.9.7"
  },
  "orig_nbformat": 4
 },
 "nbformat": 4,
 "nbformat_minor": 2
}
