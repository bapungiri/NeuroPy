{
    "cells": [
        {
            "cell_type": "markdown",
            "source": [
                "# Figure 2 : Ripple oscillations"
            ],
            "metadata": {}
        },
        {
            "cell_type": "code",
            "execution_count": 1,
            "source": [
                "import numpy as np\n",
                "import matplotlib.pyplot as plt\n",
                "import numpy as np\n",
                "import seaborn as sns\n",
                "from neuropy import plotting\n",
                "from neuropy.utils import signal_process\n",
                "import subjects\n",
                "import pandas as pd\n",
                "\n",
                "sd_sess = subjects.sd.ratUday4[0]\n",
                "sd_sessions = subjects.sd.allsess[:-1]\n",
                "nsd_sessions = subjects.nsd.allsess"
            ],
            "outputs": [],
            "metadata": {}
        },
        {
            "cell_type": "markdown",
            "source": [
                "## Calculating ripple rate during sleep deprivation and recovery sleep"
            ],
            "metadata": {}
        },
        {
            "cell_type": "code",
            "execution_count": 2,
            "source": [
                "sd_rpl_rate_df = pd.DataFrame()\n",
                "rs_rpl_rate_df = pd.DataFrame()\n",
                "nsd_rpl_rate_df = pd.DataFrame()\n",
                "for sub, sess in enumerate(sd_sessions):\n",
                "    post = sess.paradigm[\"post\"]\n",
                "    sd_period = [post[0], post[0] + 5 * 3600]\n",
                "    rpls = sess.ripple.starts\n",
                "\n",
                "    binsz = 900\n",
                "\n",
                "    n_bins = 5 * 3600 / binsz\n",
                "    sd_bin = np.arange(n_bins + 1) * binsz + sd_period[0]\n",
                "    hist_rpl = np.histogram(rpls, bins=sd_bin)[0]\n",
                "    hist_rpl = hist_rpl / np.sum(hist_rpl)\n",
                "\n",
                "    sd_rpl_rate_df  =sd_rpl_rate_df.append(\n",
                "        pd.DataFrame(\n",
                "            {\n",
                "                \"n_ripples\": hist_rpl / binsz,\n",
                "                \"tbin\": (sd_bin[:-1] - sd_bin[0]) / 3600,\n",
                "                \"sub\": sub,\n",
                "            }\n",
                "        ),\n",
                "        ignore_index=True,\n",
                "    )\n",
                "\n",
                "    rs_period = [post[0]+5*3600,post[1]]\n",
                "    n_bins =  np.diff(rs_period)/ binsz\n",
                "    rs_bin = np.arange(n_bins + 1) * binsz + rs_period[0]\n",
                "    hist_rpl = np.histogram(rpls, bins=rs_bin)[0]\n",
                "    hist_rpl = hist_rpl / np.sum(hist_rpl)\n",
                "\n",
                "    rs_rpl_rate_df  =rs_rpl_rate_df.append(\n",
                "        pd.DataFrame(\n",
                "            {\n",
                "                \"n_ripples\": hist_rpl / binsz,\n",
                "                \"tbin\": (rs_bin[:-1] - rs_bin[0]) / 3600,\n",
                "                \"sub\": sub,\n",
                "            }\n",
                "        ),\n",
                "        ignore_index=True,\n",
                "    )\n",
                "\n",
                "\n",
                "for sub, sess in enumerate(nsd_sessions):\n",
                "    post = sess.paradigm[\"post\"]\n",
                "    rpls = sess.ripple.starts\n",
                "    binsz = 900\n",
                "    n_bins = np.diff(post)/ binsz\n",
                "    post_bin = np.arange(n_bins + 1) * binsz +post[0]\n",
                "    hist_rpl = np.histogram(rpls, bins=post_bin)[0]\n",
                "    hist_rpl = hist_rpl / np.sum(hist_rpl)\n",
                "\n",
                "    nsd_rpl_rate_df  =nsd_rpl_rate_df.append(\n",
                "        pd.DataFrame(\n",
                "            {\n",
                "                \"n_ripples\": hist_rpl / binsz,\n",
                "                \"tbin\": (post_bin[:-1] - post_bin[0]) / 3600,\n",
                "                \"sub\": sub,\n",
                "            }\n",
                "        ),\n",
                "        ignore_index=True,\n",
                "    )\n",
                "\n"
            ],
            "outputs": [],
            "metadata": {}
        },
        {
            "cell_type": "markdown",
            "source": [
                "## Plotting"
            ],
            "metadata": {}
        },
        {
            "cell_type": "code",
            "execution_count": 4,
            "source": [
                "%matplotlib widget\n",
                "from neuropy import plotting\n",
                "\n",
                "figure = plotting.Fig()\n",
                "fig,gs= figure.draw(grid=(4,3))\n",
                "fig.suptitle('Figure 2: Increasing rate of ripples during SD',ha='right')\n",
                "\n",
                "#--- panel a --------\n",
                "\n",
                "rpl_indx = [112,6094]\n",
                "rpl_chan = 89\n",
                "rpl_df = sd_sess.ripple.to_dataframe()\n",
                "rpl_colors = ['#6ce953','#d3bc0d']\n",
                "\n",
                "gs_filt = figure.subplot2grid(gs[0,:2],grid=(2,1))\n",
                "for i,(rpl_ind,rpl_color) in enumerate(zip(rpl_indx,rpl_colors)):\n",
                "    rpl_start,rpl_stop =rpl_df.iloc[rpl_ind].start,rpl_df.iloc[rpl_ind].stop\n",
                "    rpl_peaktime = rpl_df.iloc[rpl_ind].peaktime\n",
                "    ax = plt.subplot(gs_filt[i])\n",
                "    signal = sd_sess.eegfile.get_signal(channel_indx=rpl_chan,t_start=rpl_start-3,t_stop=rpl_start+3)\n",
                "    filt_signal = signal_process.filter_sig.bandpass(signal=signal,lf=150,hf=250)\n",
                "    plotting.plot_signal_traces(filt_signal, ax=ax,lw=0.5,color='gray')\n",
                "    ax.scatter(rpl_peaktime,1.2,s=20,marker='v',c=rpl_color)\n",
                "\n",
                "    if i==0:\n",
                "        # ax.text(0,0.5,'Early')\n",
                "        ax.set_title('Ripple band (150-250 Hz)')\n",
                "        figure.panel_label(ax=ax,label='a',fontsize=14)\n",
                "\n",
                "\n",
                "gs_rpl = figure.subplot2grid(gs[0,2],grid=(1,2))\n",
                "for i,(rpl_ind,rpl_color) in enumerate(zip(rpl_indx,rpl_colors)):\n",
                "    ax_rpl = plt.subplot(gs_rpl[i])\n",
                "    rpl_start,rpl_stop =rpl_df.iloc[rpl_ind].start,rpl_df.iloc[rpl_ind].stop\n",
                "    rpl_chans = sd_sess.probegroup.get_connected_channels(groupby='shank')[5]\n",
                "    rpl_starts = sd_sess.ripple.starts\n",
                "    rpl_stops = sd_sess.ripple.stops\n",
                "    rpl = sd_sess.eegfile.get_signal(channel_indx=rpl_chans.astype('int'),t_start=rpl_start-0.05,t_stop = rpl_stop+0.02)\n",
                "    plotting.plot_signal_traces(rpl,ax=ax_rpl,pad=0.8,color=rpl_color)\n",
                "    if i==0:\n",
                "        ax_rpl.set_title('Example ripples')\n",
                "\n",
                "\n",
                "#----- panel b ---------\n",
                "# ax_rate1 = plt.subplot(gs[1,0])\n",
                "# sns.lineplot(data=df,x='tbin',y='n_ripples',ax=ax_rate1,hue='sub',legend=False)\n",
                "ax_rate1 = plt.subplot(gs[1,0])\n",
                "sns.lineplot(data=sd_rpl_rate_df,x='tbin',y='n_ripples',ax=ax_rate1,color='r')\n",
                "ax_rate1.set_title('Sleep deprivation')\n",
                "ax_rate1.set_xlabel('ZT time')\n",
                "ax_rate1.set_ylabel('Norm. ripple rate')\n",
                "figure.panel_label(ax_rate1,'b',fontsize=14)\n",
                "\n",
                "#----- panel c ---------\n",
                "ax_rate2 = plt.subplot(gs[1,1])\n",
                "sns.lineplot(data=rs_rpl_rate_df,x='tbin',y='n_ripples',ax=ax_rate2,color='k')\n",
                "ax_rate2.ticklabel_format(axis='y',style='sci',scilimits=(0,0))\n",
                "ax_rate2.set_title('Recovery sleep')\n",
                "ax_rate2.set_xlabel('ZT time')\n",
                "ax_rate2.set_ylabel('Norm. ripple rate')\n",
                "figure.panel_label(ax_rate2,'c',fontsize=14)\n",
                "\n",
                "#----- panel d ---------\n",
                "ax_rate3 = plt.subplot(gs[1,2])\n",
                "sns.lineplot(data=nsd_rpl_rate_df,x='tbin',y='n_ripples',ax=ax_rate3,color='k')\n",
                "ax_rate3.ticklabel_format(axis='y',style='sci',scilimits=(0,0))\n",
                "ax_rate3.set_title('Ad libitum sleep')\n",
                "ax_rate3.set_xlabel('ZT time')\n",
                "ax_rate3.set_ylabel('Norm. ripple rate')\n",
                "figure.panel_label(ax_rate3,'d',fontsize=14)\n",
                "\n",
                "\n",
                "#----- panel e (Figure caption) ---------\n",
                "ax_rate4 = plt.subplot(gs[2,:])\n",
                "ax_rate4.text(0,0.5,'a) Ripple band local field potential. Example ripples on the right. b) Ripple rate during sleep deprivation c) and d) same as b) but during recovery sleep and nsd session.',wrap=True)\n",
                "ax_rate4.axis('off')\n",
                "\n",
                "\n",
                "figure.savefig(subjects.fig_folder/'ripple_figure2')"
            ],
            "outputs": [
                {
                    "output_type": "display_data",
                    "data": {
                        "text/plain": [
                            "Canvas(toolbar=Toolbar(toolitems=[('Home', 'Reset original view', 'home', 'home'), ('Back', 'Back to previous …"
                        ],
                        "application/vnd.jupyter.widget-view+json": {
                            "version_major": 2,
                            "version_minor": 0,
                            "model_id": "97778f7951a5422a9ea3ed767cbc3380"
                        }
                    },
                    "metadata": {}
                }
            ],
            "metadata": {}
        }
    ],
    "metadata": {
        "orig_nbformat": 4,
        "language_info": {
            "name": "python",
            "version": "3.9.6",
            "mimetype": "text/x-python",
            "codemirror_mode": {
                "name": "ipython",
                "version": 3
            },
            "pygments_lexer": "ipython3",
            "nbconvert_exporter": "python",
            "file_extension": ".py"
        },
        "kernelspec": {
            "name": "python3",
            "display_name": "Python 3.9.6 64-bit ('data_analysis': conda)"
        },
        "interpreter": {
            "hash": "7b10c821bc4bd3f433a613d47515e6babc6c2152896bd1e143404cc9d6ede4ad"
        }
    },
    "nbformat": 4,
    "nbformat_minor": 2
}