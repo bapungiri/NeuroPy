{
 "cells": [
  {
   "cell_type": "markdown",
   "metadata": {},
   "source": [
    "### Temporal bias maze vs remaze"
   ]
  },
  {
   "cell_type": "code",
   "execution_count": null,
   "metadata": {},
   "outputs": [],
   "source": [
    "import pandas as pd\n",
    "import numpy as np\n",
    "from tqdm import tqdm\n",
    "import subjects\n",
    "\n",
    "sessions = subjects.nsd.re_maze + subjects.sd.re_maze"
   ]
  },
  {
   "cell_type": "code",
   "execution_count": null,
   "metadata": {},
   "outputs": [],
   "source": [
    "from neuropy.analyses import ExplainedVariance\n",
    "import pingouin as pg\n",
    "from neuropy.utils.neurons_util import calculate_neurons_ccg\n",
    "\n",
    "bias_df = []\n",
    "for sub, sess in enumerate(tqdm(sessions)):\n",
    "    pre = sess.paradigm[\"pre\"].flatten()\n",
    "    maze = sess.paradigm[\"maze\"].flatten()\n",
    "    remaze = sess.paradigm[\"re-maze\"].flatten()\n",
    "\n",
    "    neurons = sess.neurons.get_neuron_type(\"pyr\")\n",
    "    wave_similarity = neurons.get_waveform_similarity()\n",
    "    pairs_bool = wave_similarity < 0.8  # only pairs which are least similar\n",
    "\n",
    "    get_bias = lambda epoch: calculate_neurons_ccg(\n",
    "        neurons.time_slice(epoch[0], epoch[1])\n",
    "    )\n",
    "\n",
    "    pre_bias = get_bias(pre)\n",
    "    maze_bias = get_bias(maze)\n",
    "    remaze_bias = get_bias(remaze)\n",
    "\n",
    "    bias_df.append(\n",
    "        pd.DataFrame(\n",
    "            dict(pre=pre_bias, maze=maze_bias, remaze=remaze_bias, grp=sess.tag)\n",
    "        )\n",
    "    )\n",
    "\n",
    "\n",
    "bias_df = pd.concat(bias_df, ignore_index=True)\n",
    "subjects.GroupData().save(bias_df, \"remaze_temporal_bias\")"
   ]
  },
  {
   "cell_type": "code",
   "execution_count": null,
   "metadata": {},
   "outputs": [],
   "source": [
    "%matplotlib widget\n",
    "import seaborn as sns\n",
    "\n",
    "sns.lmplot(\n",
    "    data=bias_df,\n",
    "    x=\"maze\",\n",
    "    y=\"pre\",\n",
    "    hue=\"grp\",\n",
    "    palette=[\"#9C27B0\", \"#F06292\"],\n",
    "    # x_partial=\"pre\",\n",
    "    # y_partial=\"pre\",\n",
    "    scatter_kws={'s':8},\n",
    "    # col='grp',\n",
    ")\n"
   ]
  },
  {
   "cell_type": "markdown",
   "metadata": {},
   "source": [
    "### Temporal bias center of mass maze vs remaze\n",
    "- using CCG temporal bias but uses center of mass instead of difference in number of spikes (Gerrard2008)"
   ]
  },
  {
   "cell_type": "code",
   "execution_count": null,
   "metadata": {},
   "outputs": [],
   "source": [
    "import pandas as pd\n",
    "import numpy as np\n",
    "from tqdm.notebook import tqdm\n",
    "import subjects\n",
    "\n",
    "sessions = subjects.nsd.remaze + subjects.sd.remaze"
   ]
  },
  {
   "cell_type": "code",
   "execution_count": null,
   "metadata": {},
   "outputs": [],
   "source": [
    "from neuropy.analyses import ExplainedVariance\n",
    "import pingouin as pg\n",
    "from neuropy.utils.neurons_util import ccg_temporal_bias\n",
    "\n",
    "\n",
    "bias_df = []\n",
    "for sub, sess in enumerate(tqdm(sessions)):\n",
    "    pre = sess.paradigm[\"pre\"].flatten()\n",
    "    maze = sess.paradigm[\"maze\"].flatten()\n",
    "    remaze = sess.paradigm[\"re-maze\"].flatten()\n",
    "\n",
    "    neurons = sess.neurons.get_neuron_type(\"pyr\")\n",
    "    # wave_similarity = neurons.get_waveform_similarity()\n",
    "    # pairs_bool = wave_similarity < 0.8  # only pairs which are least similar\n",
    "    tb = lambda e: ccg_temporal_bias(neurons.time_slice(*e),com=True,window_size=0.5)\n",
    "\n",
    "    pre_bias = tb(pre)\n",
    "    maze_bias =tb(maze)\n",
    "    remaze_bias =tb(remaze)\n",
    "\n",
    "    bias_df.append(\n",
    "        pd.DataFrame(\n",
    "            dict(pre=pre_bias, maze=maze_bias, remaze=remaze_bias, grp=sess.tag)\n",
    "        )\n",
    "    )\n",
    "\n",
    "bias_df = pd.concat(bias_df, ignore_index=True)\n",
    "# subjects.GroupData().save(bias_df, \"remaze_temporal_bias_com\")\n"
   ]
  },
  {
   "cell_type": "code",
   "execution_count": null,
   "metadata": {},
   "outputs": [],
   "source": [
    "%matplotlib widget\n",
    "import seaborn as sns\n",
    "\n",
    "sns.lmplot(\n",
    "    data=bias_df,\n",
    "    x=\"maze\",\n",
    "    y=\"remaze\",\n",
    "    hue=\"grp\",\n",
    "    palette=[\"#9C27B0\", \"#F06292\"],\n",
    "    # x_partial=\"pre\",\n",
    "    # y_partial=\"pre\",\n",
    "    scatter_kws={'s':8},\n",
    "    # col='grp',\n",
    ")\n"
   ]
  },
  {
   "cell_type": "markdown",
   "metadata": {},
   "source": [
    "### Temporal bias (center of mass) evolution as a function of time in POST (SD vs NSD)"
   ]
  },
  {
   "cell_type": "code",
   "execution_count": null,
   "metadata": {},
   "outputs": [],
   "source": [
    "import pandas as pd\n",
    "import numpy as np\n",
    "from tqdm.notebook import tqdm\n",
    "import subjects\n",
    "\n",
    "sessions = subjects.nsd.pf_sess + subjects.sd.pf_sess"
   ]
  },
  {
   "cell_type": "code",
   "execution_count": null,
   "metadata": {},
   "outputs": [],
   "source": [
    "from neuropy.analyses import ExplainedVariance\n",
    "import pingouin as pg\n",
    "from neuropy.utils.neurons_util import ccg_temporal_bias\n",
    "\n",
    "\n",
    "zts = np.array([0, 2, 4, 6, 8])\n",
    "bias_df = []\n",
    "for sub, sess in enumerate(tqdm(sessions)):\n",
    "    post = sess.paradigm[\"post\"].flatten()\n",
    "\n",
    "    neurons = sess.neurons.get_neuron_type(\"pyr\")\n",
    "    # wave_similarity = neurons.get_waveform_similarity()\n",
    "    # pairs_bool = wave_similarity < 0.8  # only pairs which are least similar\n",
    "    tb = lambda e: ccg_temporal_bias(neurons.time_slice(*e), com=True, window_size=1.0)\n",
    "\n",
    "    t_starts = zts * 3600 + post[0]\n",
    "\n",
    "    bias = []\n",
    "    for i, t in enumerate(t_starts):\n",
    "        bias.append(tb([t, t + 3600]))\n",
    "    bias = np.asarray(bias).T\n",
    "    \n",
    "    df = pd.DataFrame(bias, columns=zts)\n",
    "    df[\"grp\"] = sess.tag\n",
    "    df[\"name\"] = sess.animal.name\n",
    "\n",
    "    bias_df.append(df)\n",
    "\n",
    "bias_df = pd.concat(bias_df, ignore_index=True)\n",
    "bias_df = pd.melt(\n",
    "    bias_df,\n",
    "    id_vars=[\"grp\", \"name\"],\n",
    "    value_vars=zts,\n",
    "    var_name=\"zt\",\n",
    "    value_name=\"bias\",\n",
    "    ignore_index=True,\n",
    ")\n",
    "# subjects.GroupData().save(bias_df, \"remaze_temporal_bias_com\")\n"
   ]
  },
  {
   "cell_type": "code",
   "execution_count": null,
   "metadata": {},
   "outputs": [],
   "source": [
    "%matplotlib widget\n",
    "import seaborn as sns\n",
    "\n",
    "sns.boxplot(\n",
    "    data=bias_df,\n",
    "    x=\"zt\",\n",
    "    y=\"bias\",\n",
    "    hue=\"grp\",\n",
    "    palette=[\"#9C27B0\", \"#F06292\"],\n",
    "    # split=True,\n",
    "    showfliers=False,\n",
    ")\n"
   ]
  },
  {
   "cell_type": "markdown",
   "metadata": {},
   "source": [
    "### Temporal bias (center of mass) correlation between time windows as a function of time in POST (SD vs NSD)"
   ]
  },
  {
   "cell_type": "code",
   "execution_count": null,
   "metadata": {},
   "outputs": [],
   "source": [
    "import pandas as pd\n",
    "import numpy as np\n",
    "from tqdm.notebook import tqdm\n",
    "import subjects\n",
    "\n",
    "sessions = subjects.nsd.pf_sess + subjects.sd.pf_sess"
   ]
  },
  {
   "cell_type": "code",
   "execution_count": null,
   "metadata": {},
   "outputs": [
    {
     "data": {
      "application/vnd.jupyter.widget-view+json": {
       "model_id": "2de6947106294136806cef98dc65b4f9",
       "version_major": 2,
       "version_minor": 0
      },
      "text/plain": [
       "  0%|          | 0/10 [00:00<?, ?it/s]"
      ]
     },
     "metadata": {},
     "output_type": "display_data"
    },
    {
     "name": "stderr",
     "output_type": "stream",
     "text": [
      "/home/bapung/Documents/Codes/NeuroPy/neuropy/utils/neurons_util.py:224: RuntimeWarning: invalid value encountered in true_divide\n",
      "  ccg_com = np.sum(ccgs * t[np.newaxis, np.newaxis, :], axis=-1) / np.sum(\n",
      "/home/bapung/Documents/Codes/NeuroPy/neuropy/utils/neurons_util.py:224: RuntimeWarning: invalid value encountered in true_divide\n",
      "  ccg_com = np.sum(ccgs * t[np.newaxis, np.newaxis, :], axis=-1) / np.sum(\n",
      "/home/bapung/Documents/Codes/NeuroPy/neuropy/utils/neurons_util.py:224: RuntimeWarning: invalid value encountered in true_divide\n",
      "  ccg_com = np.sum(ccgs * t[np.newaxis, np.newaxis, :], axis=-1) / np.sum(\n",
      "/home/bapung/Documents/Codes/NeuroPy/neuropy/utils/neurons_util.py:224: RuntimeWarning: invalid value encountered in true_divide\n",
      "  ccg_com = np.sum(ccgs * t[np.newaxis, np.newaxis, :], axis=-1) / np.sum(\n",
      "/home/bapung/Documents/Codes/NeuroPy/neuropy/utils/neurons_util.py:224: RuntimeWarning: invalid value encountered in true_divide\n",
      "  ccg_com = np.sum(ccgs * t[np.newaxis, np.newaxis, :], axis=-1) / np.sum(\n",
      "/home/bapung/Documents/Codes/NeuroPy/neuropy/utils/neurons_util.py:224: RuntimeWarning: invalid value encountered in true_divide\n",
      "  ccg_com = np.sum(ccgs * t[np.newaxis, np.newaxis, :], axis=-1) / np.sum(\n",
      "/home/bapung/Documents/Codes/NeuroPy/neuropy/utils/neurons_util.py:224: RuntimeWarning: invalid value encountered in true_divide\n",
      "  ccg_com = np.sum(ccgs * t[np.newaxis, np.newaxis, :], axis=-1) / np.sum(\n",
      "/home/bapung/Documents/Codes/NeuroPy/neuropy/utils/neurons_util.py:224: RuntimeWarning: invalid value encountered in true_divide\n",
      "  ccg_com = np.sum(ccgs * t[np.newaxis, np.newaxis, :], axis=-1) / np.sum(\n",
      "/home/bapung/Documents/Codes/NeuroPy/neuropy/utils/neurons_util.py:224: RuntimeWarning: invalid value encountered in true_divide\n",
      "  ccg_com = np.sum(ccgs * t[np.newaxis, np.newaxis, :], axis=-1) / np.sum(\n",
      "/home/bapung/Documents/Codes/NeuroPy/neuropy/utils/neurons_util.py:224: RuntimeWarning: invalid value encountered in true_divide\n",
      "  ccg_com = np.sum(ccgs * t[np.newaxis, np.newaxis, :], axis=-1) / np.sum(\n"
     ]
    }
   ],
   "source": [
    "from neuropy.analyses import ExplainedVariance\n",
    "import pingouin as pg\n",
    "from neuropy.utils.neurons_util import ccg_temporal_bias\n",
    "\n",
    "\n",
    "zts = np.arange(7)\n",
    "corr_nsd,corr_sd = [],[]\n",
    "for sub, sess in enumerate(tqdm(sessions)):\n",
    "    maze = sess.paradigm[\"maze\"].flatten()\n",
    "    post = sess.paradigm[\"post\"].flatten()\n",
    "    neurons = sess.neurons.get_neuron_type(\"pyr\")\n",
    "\n",
    "    tb = lambda e: ccg_temporal_bias(neurons.time_slice(*e), com=True, window_size=1.0)\n",
    "\n",
    "    zt_starts = zts * 3600 + post[0]\n",
    "    zt_epochs = np.vstack((zt_starts,zt_starts+3600)).T\n",
    "    epochs = np.insert(zt_epochs,0,maze,axis=0)\n",
    "\n",
    "    bias = []\n",
    "    for e in epochs:\n",
    "        bias.append(tb(e))\n",
    "    bias = np.asarray(bias)\n",
    "    corr = np.ma.corrcoef(np.ma.masked_invalid(bias))\n",
    "    corr = np.ma.getdata(corr)\n",
    "    np.fill_diagonal(corr,0)\n",
    "\n",
    "    if sess.tag =='nsd':\n",
    "        corr_nsd.append(corr)\n",
    "    if sess.tag =='sd':\n",
    "        corr_sd.append(corr)\n",
    "\n"
   ]
  },
  {
   "cell_type": "code",
   "execution_count": null,
   "metadata": {},
   "outputs": [
    {
     "data": {
      "application/vnd.jupyter.widget-view+json": {
       "model_id": "e8cf2a743fc943f1aebad9f7541698d2",
       "version_major": 2,
       "version_minor": 0
      },
      "image/png": "[encoded data removed]",
      "text/html": [
       "\n",
       "            <div style=\"display: inline-block;\">\n",
       "                <div class=\"jupyter-widgets widget-label\" style=\"text-align: center;\">\n",
       "                    Figure\n",
       "                </div>\n",
       "                <img src='data:image/png;base64,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' width=850.0/>\n",
       "            </div>\n",
       "        "
      ],
      "text/plain": [
       "Canvas(toolbar=Toolbar(toolitems=[('Home', 'Reset original view', 'home', 'home'), ('Back', 'Back to previous …"
      ]
     },
     "metadata": {},
     "output_type": "display_data"
    }
   ],
   "source": [
    "%matplotlib widget\n",
    "import seaborn as sns\n",
    "from neuropy.plotting import Fig\n",
    "\n",
    "fig = Fig(grid=(1,2))\n",
    "\n",
    "for i,corrs in enumerate([corr_nsd,corr_sd]): \n",
    "    ax = fig.subplot(fig.gs[i])\n",
    "    ax.imshow(np.nanmean(np.dstack(corrs),axis=-1),cmap='bwr',vmin=-0.2,vmax=0.2)"
   ]
  }
 ],
 "metadata": {
  "language_info": {
   "name": "python"
  },
  "orig_nbformat": 4
 },
 "nbformat": 4,
 "nbformat_minor": 2
}
