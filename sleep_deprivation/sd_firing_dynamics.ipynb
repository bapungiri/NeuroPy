{
 "cells": [
  {
   "cell_type": "markdown",
   "source": [
    "# Firing rate changes in interneurons/pyramidal during SD\n",
    "- also compare it to no sleep deprivation\n",
    "- should account for unstable cells, these maybe causing increased firing rate toward ZT5 in NSD sessions "
   ],
   "metadata": {}
  },
  {
   "cell_type": "code",
   "execution_count": null,
   "source": [
    "import numpy as np\n",
    "import matplotlib.pyplot as plt\n",
    "import pandas as pd\n",
    "import seaborn as sns\n",
    "from scipy import stats\n",
    "from neuropy.plotting import Fig\n",
    "import subjects\n",
    "\n",
    "sessions_sd = subjects.sd.allsess\n",
    "sessions_nsd = subjects.nsd.allsess[:-1]"
   ],
   "outputs": [],
   "metadata": {}
  },
  {
   "cell_type": "code",
   "execution_count": null,
   "source": [
    "%matplotlib inline\n",
    "figure = Fig()\n",
    "fig,gs = figure.draw(grid=(1,2),size=(6,4),wspace=0.4)\n",
    "for sess_ind, sessions in enumerate([sessions_sd,sessions_nsd]):\n",
    "    data = pd.DataFrame()\n",
    "    for sub, sess in enumerate(sessions):\n",
    "        # print(sub)\n",
    "        pre = sess.paradigm['pre']\n",
    "        post = sess.paradigm['post']\n",
    "        neurons = sess.neurons.get_neuron_type('pyr')\n",
    "        spktrns = neurons.spiketrains\n",
    "        sd_bins = np.arange(6)*3600 + post[0]\n",
    "        frate = np.asarray([np.histogram(spk,bins=sd_bins)[0] for spk in spktrns ])/3600\n",
    "        # frate= np.log10(frate)\n",
    "        mean_frate = np.mean(frate,axis=0)\n",
    "        data = data.append(pd.DataFrame({'frate':frate.flatten(),'bins':list(np.arange(1,6))*frate.shape[0]}))\n",
    "\n",
    "    ax = plt.subplot(gs[sess_ind])\n",
    "    sns.boxplot(data=data,x='bins',y='frate',color='#ccc7c7',ax=ax)\n",
    "    # sns.swarmplot(data=data,x='bins',y='frate',color='k',ax=ax)\n",
    "    ax.set_xlabel('ZT time')\n",
    "    ax.set_title(f\"{'SD' if sess_ind==0 else 'NSD'}\")\n",
    "    ax.set_yscale('log')\n",
    "\n",
    "fig.suptitle('Firing rate changes first five hours of POST')"
   ],
   "outputs": [],
   "metadata": {}
  },
  {
   "cell_type": "markdown",
   "source": [
    "# Firing rate changes across session in SD and compare with NSD\n",
    "\n",
    "Kamran's comment as observed from Miyawaki and Diba 2016 (Fig 1C)\n",
    "> The animal is put on the track at 6am, and firing rates shoot up. In POST (next day’s light cycle) they start to come down. What happens to these firing rates in SD? In SD before Track, are they also high, or does it require TRack running?  And in NSD after track, do they come down, compared to SD after track?\n",
    "\n",
    "The analysis below is for assesing that"
   ],
   "metadata": {}
  },
  {
   "cell_type": "code",
   "execution_count": null,
   "source": [
    "import numpy as np\n",
    "import matplotlib.pyplot as plt\n",
    "import pandas as pd\n",
    "import seaborn as sns\n",
    "from scipy import stats\n",
    "from neuropy.plotting import Fig\n",
    "import subjects\n"
   ],
   "outputs": [],
   "metadata": {}
  },
  {
   "cell_type": "code",
   "execution_count": null,
   "source": [
    "%matplotlib widget\n",
    "figure = Fig()\n",
    "fig,gs = figure.draw(grid=(1,1),size=(4,4))\n",
    "sessions = subjects.Sd().allsess + subjects.Nsd().allsess\n",
    "data = pd.DataFrame()\n",
    "for sub, sess in enumerate(sessions):\n",
    "\n",
    "    tag = sess.recinfo.animal.tag\n",
    "    try:\n",
    "        maze = sess.epochs.maze\n",
    "    except:\n",
    "        maze = sess.epochs.maze1\n",
    "\n",
    "    pre = sess.epochs.pre\n",
    "    post = sess.epochs.post\n",
    "    cells = sess.spikes.pyr\n",
    "\n",
    "    pre_bins,pre_binsz = np.linspace(pre[0],pre[1],2,retstep=True)\n",
    "    frate_pre = np.asarray([np.histogram(cell,bins=pre_bins)[0] for cell in cells])/pre_binsz\n",
    "\n",
    "    maze_bins,maze_binsz = np.linspace(maze[0],maze[1],2,retstep=True)\n",
    "    frate_maze = np.asarray([np.histogram(cell,bins=maze_bins)[0] for cell in cells])/maze_binsz\n",
    "\n",
    "    sd_bins,sd_binsz = np.linspace(post[0],post[0]+5*3600,2,retstep=True)\n",
    "    frate_sd = np.asarray([np.histogram(cell,bins=sd_bins)[0] for cell in cells])/sd_binsz\n",
    "\n",
    "\n",
    "    post_bins,post_binsz = np.linspace(post[0]+5*3600,post[1],2,retstep=True)\n",
    "    frate_post = np.asarray([np.histogram(cell,bins=post_bins)[0] for cell in cells])/post_binsz\n",
    "\n",
    "    frate = np.hstack((frate_pre,frate_maze,frate_sd,frate_post))\n",
    "\n",
    "    # frate= np.log10(frate)\n",
    "    # mean_frate = np.mean(frate,axis=0)\n",
    "    data = data.append(pd.DataFrame({'frate':frate.flatten(),'bins':list(np.arange(1,frate.shape[1]+1))*frate.shape[0]}))\n",
    "\n",
    "data_mean = data.groupby('bins').mean()\n",
    "data_sem = data.groupby('bins').sem(ddof=0)\n",
    "\n",
    "ax = plt.subplot(gs[0])\n",
    "# sns.lineplot(data=data,x='bins',y='frate',color='#ccc7c7',ax=ax,err_style='bars',ci=68)\n",
    "ax.errorbar(data_mean.index.values,data_mean['frate'],yerr=data_sem['frate'],capsize=3,lw=2,color='k')\n",
    "ax.axvspan(1,7,0,0.05,color='#968d8d')\n",
    "ax.axvspan(7,16,0,0.05,color='#fadf80')\n",
    "# ax.axvspan(7,16,0,0.05,color='#de5454')\n",
    "# ax.axvspan(10,16,0,0.05,color='#de5454')\n",
    "# sns.swarmplot(data=data,x='bins',y='frate',color='k',ax=ax)\n",
    "ax.set_xlabel('ZT (SD period)')\n",
    "ax.set_title('Firing rating changes across entire session')\n",
    "ax.set_ylim([0.2,1])\n"
   ],
   "outputs": [],
   "metadata": {}
  },
  {
   "cell_type": "code",
   "execution_count": null,
   "source": [
    "sess = subjects.Of().ratNday4[0]\n",
    "sess.tracks.plot([\"maze\"])\n"
   ],
   "outputs": [],
   "metadata": {}
  },
  {
   "cell_type": "markdown",
   "source": [
    "# Pbe rate change across sleep deprivation"
   ],
   "metadata": {}
  },
  {
   "cell_type": "code",
   "execution_count": null,
   "source": [
    "import numpy as np\n",
    "import subjects\n",
    "\n",
    "sessions = (\n",
    "    subjects.sd.ratJday1\n",
    "    + subjects.sd.ratKday1\n",
    "    + subjects.sd.ratNday1\n",
    "    + subjects.sd.ratSday3\n",
    "    + subjects.sd.ratRday2\n",
    ")\n"
   ],
   "outputs": [],
   "metadata": {}
  },
  {
   "cell_type": "code",
   "execution_count": null,
   "source": [
    "%matplotlib widget\n",
    "import pandas as pd\n",
    "import seaborn as sns\n",
    "import matplotlib.pyplot as plt\n",
    "df = pd.DataFrame()\n",
    "for sub, sess in enumerate(sessions):\n",
    "\n",
    "    # sd = sess.paradigm['sd']\n",
    "    post = sess.paradigm['post']\n",
    "    sd = [post[0],post[0]+5*3600]\n",
    "    pbe_sd = sess.pbe.time_slice(sd[0],sd[1])\n",
    "    bin_size= 600\n",
    "    sd_bin = np.arange(sd[0],sd[1]+bin_size,bin_size)\n",
    "    hist_pbe = np.histogram(pbe_sd.starts,bins=sd_bin)[0]\n",
    "\n",
    "    df = df.append(pd.DataFrame({'n_pbe':hist_pbe/bin_size,'tbin':(sd_bin[:-1]-sd_bin[0])/3600,'sub':sub}))\n",
    "\n",
    "\n",
    "pbe_mean = df.groupby('tbin').mean().n_pbe\n",
    "pbe_sem= df.groupby('tbin').sem(ddof=0).n_pbe\n",
    "\n",
    "fig,ax = plt.subplots()\n",
    "# sns.lineplot(data=df,x='tbin',y='n_pbe')\n",
    "ax.fill_between(pbe_mean.index,pbe_mean-pbe_sem,pbe_mean+pbe_sem,alpha=0.5)\n",
    "ax.plot(pbe_mean.index,pbe_mean)\n",
    "ax.set_xlabel('Zt time')\n",
    "ax.set_ylabel('PBE rate (Hz)')"
   ],
   "outputs": [],
   "metadata": {}
  },
  {
   "cell_type": "markdown",
   "source": [
    "# Combined neuron type"
   ],
   "metadata": {}
  },
  {
   "cell_type": "code",
   "execution_count": null,
   "source": [
    "import subjects\n",
    "import numpy as np\n",
    "from neuropy.utils import neurons_util\n",
    "\n",
    "sessions = (\n",
    "    subjects.sd.ratJday1\n",
    "    + subjects.sd.ratKday1\n",
    "    + subjects.sd.ratNday1\n",
    "    + subjects.sd.ratSday3\n",
    "    + subjects.sd.ratRday2\n",
    "    + subjects.nsd.ratJday2\n",
    "    + subjects.nsd.ratKday2\n",
    "    + subjects.nsd.ratNday2\n",
    "    + subjects.nsd.ratSday2\n",
    ")\n"
   ],
   "outputs": [],
   "metadata": {}
  },
  {
   "cell_type": "code",
   "execution_count": null,
   "source": [
    "%matplotlib widget\n",
    "neurons=[]\n",
    "for sess in sessions:\n",
    "    neurons.append(sess.neurons)\n",
    "\n",
    "neuron_type= neurons_util.estimate_neuron_type(neurons)\n",
    "\n",
    "for sub,sess in enumerate(sessions):\n",
    "    sess.neurons.neuron_type = neuron_type[sub]\n",
    "    sess.neurons.filename = sess.filePrefix.with_suffix('.neurons')\n",
    "    sess.neurons.save()"
   ],
   "outputs": [],
   "metadata": {}
  },
  {
   "cell_type": "markdown",
   "source": [
    "# Firing rate change at NREM-REM transition during recovery sleep vs regular sleep\n",
    "There can be two ways to look at the changes in firing rate\n",
    "- mua firing rate (but it does not make sense, as high firing rate neurons can blur the changes)\n",
    "- normalize/zscore each neurons firing rate during transition and then calculate the mean across neurons \n",
    "    - firing rate increase towards the end of NREM and decrese during following REM. This is consistent with Miyawaki and Diba (2016)"
   ],
   "metadata": {}
  },
  {
   "cell_type": "code",
   "execution_count": null,
   "source": [
    "import numpy as np\n",
    "from scipy import stats\n",
    "import subjects\n",
    "import pandas as pd\n",
    "import seaborn as sns\n",
    "import matplotlib.pyplot as plt\n",
    "from neuropy.plotting import Fig\n",
    "\n",
    "sessions_sd = subjects.sd.allsess\n",
    "sessions_nsd = subjects.nsd.allsess[:-1]\n"
   ],
   "outputs": [],
   "metadata": {}
  },
  {
   "cell_type": "code",
   "execution_count": null,
   "source": [
    "df = pd.DataFrame()\n",
    "binsz = 2\n",
    "for sess_ind, sessions in enumerate([sessions_sd, sessions_nsd]):\n",
    "    grp = \"sd\" if sess_ind == 0 else \"nsd\"\n",
    "    for sub, sess in enumerate(sessions):\n",
    "        post = sess.paradigm[\"post\"]\n",
    "        pyr = sess.neurons.get_neuron_type(\"pyr\")\n",
    "        rec_slp = [post[0] + 5 * 3600, post[1]]\n",
    "        states = sess.brainstates.time_slice(rec_slp[0], rec_slp[1]).to_dataframe()\n",
    "        labels = states.label.values\n",
    "\n",
    "        for i in range(len(labels) - 1):\n",
    "            if (labels[i] == \"nrem\") and (labels[i + 1] == \"rem\"):\n",
    "\n",
    "                # ---- MUA -----\n",
    "                # nrem_mua = pyr.get_mua(t_start=states.iloc[i].start,t_stop=states.iloc[i].stop,bin_size=4)\n",
    "                # rem_mua = pyr.get_mua(t_start=states.iloc[i+1].start,t_stop=states.iloc[i+1].stop,bin_size=4)\n",
    "                # frate = np.hstack((nrem_mua.spike_counts,rem_mua.spike_counts))\n",
    "                # bins = np.arange(-nrem_mua.n_bins,rem_mua.n_bins)\n",
    "\n",
    "                # --- zscored firing rate ---------\n",
    "                nrem_binspk = pyr.get_binned_spiketrains(\n",
    "                    t_start=states.iloc[i].start,\n",
    "                    t_stop=states.iloc[i].stop,\n",
    "                    bin_size=binsz,\n",
    "                )\n",
    "                rem_binspk = pyr.get_binned_spiketrains(\n",
    "                    t_start=states.iloc[i + 1].start,\n",
    "                    t_stop=states.iloc[i + 1].stop,\n",
    "                    bin_size=binsz,\n",
    "                )\n",
    "                bins = np.arange(-nrem_binspk.n_bins, rem_binspk.n_bins)\n",
    "                frate = np.nanmean(\n",
    "                    stats.zscore(\n",
    "                        np.hstack((nrem_binspk.spike_counts, rem_binspk.spike_counts)),\n",
    "                        axis=1,\n",
    "                    ),\n",
    "                    axis=0,\n",
    "                )\n",
    "\n",
    "                df = df.append(pd.DataFrame({\"bins\": bins, \"frate\": frate, \"grp\": grp}))\n"
   ],
   "outputs": [],
   "metadata": {}
  },
  {
   "cell_type": "code",
   "execution_count": null,
   "source": [
    "%matplotlib inline\n",
    "figure = Fig()\n",
    "fig,gs = figure.draw(grid=(1,1),size=(5,4),style='Pres')\n",
    "ax = plt.subplot(gs[0])\n",
    "df_ = df.groupby('grp')\n",
    "color = ['r','k']\n",
    "for i,grp in enumerate(['sd','nsd']):\n",
    "    grp_df = df_.get_group(grp)\n",
    "    mean_frate = grp_df.groupby('bins').mean().frate\n",
    "    sem_frate = grp_df.groupby('bins').sem(ddof=0).frate\n",
    "    ax.fill_between(mean_frate.index.values,mean_frate-sem_frate,mean_frate+sem_frate,color=color[i],alpha=0.3,ec=None)\n",
    "    ax.plot(mean_frate.index.values,mean_frate,color=color[i],alpha=0.6)\n",
    "    # ax.errorbar(mean_frate.index,mean_frate, yerr=sem_frate,color=color[i],capsize=3,elinewidth=1,errorevery=1)\n",
    "    # ax = sns.lineplot(data=df,x='bins',y='mua',ci='sd')\n",
    "\n",
    "ax.legend(['sd rec. slp.','nsd'])\n",
    "ax.axvline(x=0,ls='--')\n",
    "ax.set_xlim([-50,30])\n",
    "ax.set_ylim([-0.4,0.4])\n",
    "ax.set_title('NREM-REM transition')\n",
    "ax.set_ylabel('Normalized firing rate')\n",
    "ax.set_xlabel('Time bin from start of REM')\n",
    "figure.savefig('nrem-rem_transition_frate_sd_vs_nsd',folder='/home/bapung/Documents/figures')\n"
   ],
   "outputs": [],
   "metadata": {}
  },
  {
   "cell_type": "markdown",
   "source": [
    "# Firing rate changes within NREM during and SD and compare with NSD\n",
    "- Firing rate first decreases and then increases ? Not consistent with Miyawaki and Diba 2016 ?"
   ],
   "metadata": {}
  },
  {
   "cell_type": "code",
   "execution_count": null,
   "source": [
    "import numpy as np\n",
    "from scipy import stats\n",
    "import subjects\n",
    "import pandas as pd\n",
    "import seaborn as sns\n",
    "import matplotlib.pyplot as plt\n",
    "from neuropy.plotting import Fig\n",
    "\n",
    "sessions_sd = subjects.sd.allsess\n",
    "sessions_nsd = subjects.nsd.allsess[:-1]\n",
    "print(sessions_sd,sessions_nsd)\n"
   ],
   "outputs": [],
   "metadata": {}
  },
  {
   "cell_type": "code",
   "execution_count": null,
   "source": [
    "df = pd.DataFrame()\n",
    "for sess_ind, sessions in enumerate([sessions_sd, sessions_nsd]):\n",
    "    grp = \"sd\" if sess_ind == 0 else \"nsd\"\n",
    "    for sub, sess in enumerate(sessions):\n",
    "        post = sess.paradigm[\"post\"]\n",
    "        pyr = sess.neurons.get_neuron_type(\"pyr\")\n",
    "        rec_slp = [post[0] + 5 * 3600, post[1]]\n",
    "        states = sess.brainstates.time_slice(rec_slp[0], rec_slp[1]).to_dataframe()\n",
    "        labels = states.label.values\n",
    "        nrems = states[(states[\"label\"] == \"nrem\") & (states[\"duration\"] > 240)]\n",
    "\n",
    "        for nrem in nrems.itertuples():\n",
    "\n",
    "            bins, binsz = np.linspace(nrem.start, nrem.stop, 10, retstep=True)\n",
    "\n",
    "            nrem_binspk = pyr.get_binned_spiketrains(\n",
    "                t_start=nrem.start, t_stop=nrem.stop, bin_size=binsz\n",
    "            )\n",
    "\n",
    "            frate = np.nanmean(stats.zscore(nrem_binspk.spike_counts, axis=1), axis=0)\n",
    "\n",
    "            df = df.append(\n",
    "                pd.DataFrame(\n",
    "                    {\"bins\": np.linspace(0,1,nrem_binspk.n_bins), \"frate\": frate, \"grp\": grp}\n",
    "                )\n",
    "            )"
   ],
   "outputs": [],
   "metadata": {}
  },
  {
   "cell_type": "code",
   "execution_count": null,
   "source": [
    "%matplotlib inline\n",
    "figure = Fig()\n",
    "fig,gs = figure.draw(grid=(1,1),size=(5,4),style='Pres')\n",
    "ax = plt.subplot(gs[0])\n",
    "df_ = df.groupby('grp')\n",
    "color = ['#26507e','#79a7d7']\n",
    "z=1\n",
    "for i,grp in enumerate(['sd','nsd']):\n",
    "    grp_df = df_.get_group(grp)\n",
    "    mean_frate = grp_df.groupby('bins').mean().frate\n",
    "    sem_frate = grp_df.groupby('bins').sem(ddof=0).frate\n",
    "    ax.fill_between(mean_frate.index.values,mean_frate-sem_frate,mean_frate+sem_frate,color=color[i],alpha=0.3,ec=None,zorder=z)\n",
    "    ax.plot(mean_frate.index.values,mean_frate,color=color[i],zorder=z+1)\n",
    "    # ax.errorbar(mean_frate.index,mean_frate, yerr=sem_frate,color=color[i],capsize=3,elinewidth=1,errorevery=1)\n",
    "    # ax = sns.lineplot(data=df,x='bins',y='mua',ci='sd')\n",
    "    z+=2\n",
    "\n",
    "ax.legend(['sd rec. slp.','nsd'])\n",
    "ax.set_title('Firing rate changes within NREM')\n",
    "ax.set_ylabel('Normalized firing rate')\n",
    "ax.set_xlabel('Time bin from start of NREM')\n",
    "figure.savefig(subjects.fig_folder/'nrem-rem_transition_frate_sd_vs_nsd')"
   ],
   "outputs": [],
   "metadata": {}
  },
  {
   "cell_type": "markdown",
   "source": [
    "# Firing rate changes across sleep deprivation individual neurons or quantiles\n",
    "- something simiilar to firing rate homeostasis"
   ],
   "metadata": {}
  },
  {
   "cell_type": "code",
   "execution_count": null,
   "source": [
    "import numpy as np\n",
    "from scipy import stats\n",
    "import subjects\n",
    "import pandas as pd\n",
    "import seaborn as sns\n",
    "import matplotlib.pyplot as plt\n",
    "from neuropy.plotting import Fig\n",
    "\n",
    "sessions_sd = subjects.sd.allsess\n",
    "sessions_nsd = subjects.nsd.allsess[:-1]\n",
    "print(sessions_sd,sessions_nsd)"
   ],
   "outputs": [],
   "metadata": {}
  },
  {
   "cell_type": "code",
   "execution_count": null,
   "source": [
    "bin_size = 60\n",
    "for sub,sess in enumerate(sessions_sd[2:3]):\n",
    "    post = sess.paradigm['post']\n",
    "    sd= [post[0],post[0]+5*3600]\n",
    "    neurons =sess.neurons.get_neuron_type('pyr').time_slice(t_start=sd[0],t_stop=sd[1])\n",
    "    binspk = neurons.get_binned_spiketrains(bin_size=bin_size)\n",
    "    zsc_binspk = stats.zscore(binspk.spike_counts/bin_size,axis=1)"
   ],
   "outputs": [],
   "metadata": {}
  },
  {
   "cell_type": "code",
   "execution_count": null,
   "source": [
    "%matplotlib widget\n",
    "plt.plot(zsc_binspk[5:10,:].T)\n",
    "# plt.yscale('log')"
   ],
   "outputs": [],
   "metadata": {}
  },
  {
   "cell_type": "code",
   "execution_count": null,
   "source": [
    "isi = sess.neurons.get_isi()"
   ],
   "outputs": [],
   "metadata": {}
  },
  {
   "cell_type": "code",
   "execution_count": 25,
   "source": [
    "from neuropy.analyses.neurons_stability import isi_stability\n",
    "\n",
    "isi_bool = isi_stability(neurons)"
   ],
   "outputs": [
    {
     "output_type": "stream",
     "name": "stderr",
     "text": [
      "/home/bapung/Documents/Codes/NeuroPy/neuropy/analyses/neurons_stability.py:53: RuntimeWarning: invalid value encountered in true_divide\n",
      "  isi_contamination.append(isi_3ms / n_spikes)\n"
     ]
    }
   ],
   "metadata": {}
  },
  {
   "cell_type": "code",
   "execution_count": 27,
   "source": [
    "isi_bool.shape"
   ],
   "outputs": [
    {
     "output_type": "execute_result",
     "data": {
      "text/plain": [
       "(97, 5)"
      ]
     },
     "metadata": {},
     "execution_count": 27
    }
   ],
   "metadata": {}
  },
  {
   "cell_type": "code",
   "execution_count": 28,
   "source": [
    "np.sum(isi_bool,axis=1)"
   ],
   "outputs": [
    {
     "output_type": "execute_result",
     "data": {
      "text/plain": [
       "array([5, 5, 5, 5, 5, 5, 5, 5, 5, 5, 4, 5, 3, 5, 5, 5, 5, 5, 5, 5, 5, 5,\n",
       "       5, 4, 5, 5, 5, 5, 5, 5, 5, 5, 5, 5, 5, 5, 5, 5, 5, 5, 5, 5, 5, 4,\n",
       "       5, 5, 2, 5, 0, 5, 5, 5, 4, 5, 4, 5, 5, 5, 5, 5, 5, 5, 5, 5, 5, 5,\n",
       "       5, 5, 5, 5, 5, 5, 5, 5, 5, 5, 5, 5, 5, 5, 2, 5, 5, 5, 5, 5, 5, 5,\n",
       "       5, 5, 5, 5, 5, 5, 5, 5, 5])"
      ]
     },
     "metadata": {},
     "execution_count": 28
    }
   ],
   "metadata": {}
  }
 ],
 "metadata": {
  "interpreter": {
   "hash": "7b10c821bc4bd3f433a613d47515e6babc6c2152896bd1e143404cc9d6ede4ad"
  },
  "kernelspec": {
   "name": "python3",
   "display_name": "Python 3.9.4 64-bit ('data_analysis': conda)"
  },
  "language_info": {
   "name": "python",
   "version": "3.9.4",
   "mimetype": "text/x-python",
   "codemirror_mode": {
    "name": "ipython",
    "version": 3
   },
   "pygments_lexer": "ipython3",
   "nbconvert_exporter": "python",
   "file_extension": ".py"
  },
  "orig_nbformat": 2
 },
 "nbformat": 4,
 "nbformat_minor": 2
}