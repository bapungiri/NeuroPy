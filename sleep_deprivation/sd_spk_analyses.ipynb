{
 "cells": [
  {
   "cell_type": "markdown",
   "source": [
    "## Firing rate changes in interneurons/pyramidal during SD"
   ],
   "metadata": {}
  },
  {
   "cell_type": "code",
   "execution_count": null,
   "source": [
    "import numpy as np\n",
    "import matplotlib.pyplot as plt\n",
    "import pandas as pd\n",
    "import seaborn as sns\n",
    "from scipy import stats\n",
    "from neuropy.plotting import Fig \n",
    "import subjects\n",
    "\n",
    "sessions = subjects.sd.ratJday1+subjects.sd.ratKday1"
   ],
   "outputs": [],
   "metadata": {}
  },
  {
   "cell_type": "code",
   "execution_count": null,
   "source": [
    "%matplotlib widget\n",
    "figure = Fig()\n",
    "fig,gs = figure.draw(grid=(1,1),size=(4,4))\n",
    "data = pd.DataFrame()\n",
    "for sub, sess in enumerate(sessions):\n",
    "    # print(sub)\n",
    "    pre = sess.paradigm['pre']\n",
    "    post = sess.paradigm['post']\n",
    "    sd_period = [post[0],post[0]+5*3600] \n",
    "    neurons = sess.neurons.get_neuron_type('pyr')\n",
    "    spktrns = neurons.spiketrains\n",
    "    sd_bins = np.arange(post[0],post[0]+6*3600,3600)\n",
    "    frate = np.asarray([np.histogram(spk,bins=sd_bins)[0] for spk in spktrns ])/3600\n",
    "    # frate= np.log10(frate)\n",
    "    mean_frate = np.mean(frate,axis=0)\n",
    "    data = data.append(pd.DataFrame({'frate':frate.flatten(),'bins':list(np.arange(1,6))*frate.shape[0]}))\n",
    "\n",
    "ax = plt.subplot(gs[0])\n",
    "sns.boxplot(data=data,x='bins',y='frate',color='#ccc7c7',ax=ax)\n",
    "# sns.swarmplot(data=data,x='bins',y='frate',color='k',ax=ax)\n",
    "ax.set_xlabel('ZT (SD period)')\n",
    "ax.set_title('Firing rating changes across sleep deprivation')\n",
    "\n",
    "\n",
    "\n"
   ],
   "outputs": [],
   "metadata": {}
  },
  {
   "cell_type": "markdown",
   "source": [
    "## Firing rate changes across session in SD and compare with NSD\n",
    "\n",
    "Kamran's comment as observed from Miyawaki and Diba 2016 (Fig 1C)\n",
    "> The animal is put on the track at 6am, and firing rates shoot up. In POST (next day’s light cycle) they start to come down. What happens to these firing rates in SD? In SD before Track, are they also high, or does it require TRack running?  And in NSD after track, do they come down, compared to SD after track?\n",
    "\n",
    "The analysis below is for assesing that"
   ],
   "metadata": {}
  },
  {
   "cell_type": "code",
   "execution_count": null,
   "source": [
    "import numpy as np\n",
    "import matplotlib.pyplot as plt\n",
    "import pandas as pd\n",
    "import seaborn as sns\n",
    "from scipy import stats\n",
    "from plotUtil import Fig\n",
    "import subjects\n"
   ],
   "outputs": [],
   "metadata": {}
  },
  {
   "cell_type": "code",
   "execution_count": null,
   "source": [
    "%matplotlib widget\n",
    "figure = Fig()\n",
    "fig,gs = figure.draw(grid=(1,1),size=(4,4))\n",
    "sessions = subjects.Sd().allsess + subjects.Nsd().allsess\n",
    "data = pd.DataFrame()\n",
    "for sub, sess in enumerate(sessions):\n",
    "\n",
    "    tag = sess.recinfo.animal.tag\n",
    "    try:\n",
    "        maze = sess.epochs.maze\n",
    "    except:\n",
    "        maze = sess.epochs.maze1\n",
    "\n",
    "    pre = sess.epochs.pre\n",
    "    post = sess.epochs.post\n",
    "    cells = sess.spikes.pyr\n",
    "\n",
    "    pre_bins,pre_binsz = np.linspace(pre[0],pre[1],2,retstep=True)\n",
    "    frate_pre = np.asarray([np.histogram(cell,bins=pre_bins)[0] for cell in cells])/pre_binsz\n",
    "\n",
    "    maze_bins,maze_binsz = np.linspace(maze[0],maze[1],2,retstep=True)\n",
    "    frate_maze = np.asarray([np.histogram(cell,bins=maze_bins)[0] for cell in cells])/maze_binsz\n",
    "\n",
    "    sd_bins,sd_binsz = np.linspace(post[0],post[0]+5*3600,2,retstep=True)\n",
    "    frate_sd = np.asarray([np.histogram(cell,bins=sd_bins)[0] for cell in cells])/sd_binsz\n",
    "\n",
    "\n",
    "    post_bins,post_binsz = np.linspace(post[0]+5*3600,post[1],2,retstep=True)\n",
    "    frate_post = np.asarray([np.histogram(cell,bins=post_bins)[0] for cell in cells])/post_binsz\n",
    "\n",
    "    frate = np.hstack((frate_pre,frate_maze,frate_sd,frate_post))\n",
    "\n",
    "    # frate= np.log10(frate)\n",
    "    # mean_frate = np.mean(frate,axis=0)\n",
    "    data = data.append(pd.DataFrame({'frate':frate.flatten(),'bins':list(np.arange(1,frate.shape[1]+1))*frate.shape[0]}))\n",
    "\n",
    "data_mean = data.groupby('bins').mean()\n",
    "data_sem = data.groupby('bins').sem(ddof=0)\n",
    "\n",
    "ax = plt.subplot(gs[0])\n",
    "# sns.lineplot(data=data,x='bins',y='frate',color='#ccc7c7',ax=ax,err_style='bars',ci=68)\n",
    "ax.errorbar(data_mean.index.values,data_mean['frate'],yerr=data_sem['frate'],capsize=3,lw=2,color='k')\n",
    "ax.axvspan(1,7,0,0.05,color='#968d8d')\n",
    "ax.axvspan(7,16,0,0.05,color='#fadf80')\n",
    "# ax.axvspan(7,16,0,0.05,color='#de5454')\n",
    "# ax.axvspan(10,16,0,0.05,color='#de5454')\n",
    "# sns.swarmplot(data=data,x='bins',y='frate',color='k',ax=ax)\n",
    "ax.set_xlabel('ZT (SD period)')\n",
    "ax.set_title('Firing rating changes across entire session')\n",
    "ax.set_ylim([0.2,1])\n"
   ],
   "outputs": [],
   "metadata": {}
  },
  {
   "cell_type": "code",
   "execution_count": null,
   "source": [
    "sess = subjects.Of().ratNday4[0]\n",
    "sess.tracks.plot(['maze'])"
   ],
   "outputs": [],
   "metadata": {}
  },
  {
   "cell_type": "markdown",
   "source": [
    "## Pbe rate change across sleep deprivation"
   ],
   "metadata": {}
  },
  {
   "cell_type": "code",
   "execution_count": null,
   "source": [
    "import numpy as np\n",
    "import subjects\n",
    "\n",
    "sessions = (\n",
    "    subjects.sd.ratJday1\n",
    "    + subjects.sd.ratKday1\n",
    "    + subjects.sd.ratNday1\n",
    "    + subjects.sd.ratSday3\n",
    "    + subjects.sd.ratRday2\n",
    ")\n"
   ],
   "outputs": [],
   "metadata": {}
  },
  {
   "cell_type": "code",
   "execution_count": null,
   "source": [
    "%matplotlib widget\n",
    "import pandas as pd\n",
    "import seaborn as sns\n",
    "import matplotlib.pyplot as plt\n",
    "df = pd.DataFrame()\n",
    "for sub, sess in enumerate(sessions):\n",
    "\n",
    "    # sd = sess.paradigm['sd']\n",
    "    post = sess.paradigm['post']\n",
    "    sd = [post[0],post[0]+5*3600]\n",
    "    pbe_sd = sess.pbe.time_slice(sd[0],sd[1])\n",
    "    bin_size= 600\n",
    "    sd_bin = np.arange(sd[0],sd[1]+bin_size,bin_size)\n",
    "    hist_pbe = np.histogram(pbe_sd.starts,bins=sd_bin)[0]\n",
    "\n",
    "    df = df.append(pd.DataFrame({'n_pbe':hist_pbe/bin_size,'tbin':(sd_bin[:-1]-sd_bin[0])/3600,'sub':sub}))\n",
    "\n",
    "\n",
    "pbe_mean = df.groupby('tbin').mean().n_pbe\n",
    "pbe_sem= df.groupby('tbin').sem(ddof=0).n_pbe\n",
    "\n",
    "fig,ax = plt.subplots()\n",
    "# sns.lineplot(data=df,x='tbin',y='n_pbe')\n",
    "ax.fill_between(pbe_mean.index,pbe_mean-pbe_sem,pbe_mean+pbe_sem,alpha=0.5)\n",
    "ax.plot(pbe_mean.index,pbe_mean)\n",
    "ax.set_xlabel('Zt time')\n",
    "ax.set_ylabel('PBE rate (Hz)')"
   ],
   "outputs": [],
   "metadata": {}
  },
  {
   "cell_type": "markdown",
   "source": [
    "# Combined neuron type"
   ],
   "metadata": {}
  },
  {
   "cell_type": "code",
   "execution_count": 25,
   "source": [
    "import subjects\n",
    "import numpy as np\n",
    "from neuropy.utils import neurons_util\n",
    "\n",
    "sessions = (\n",
    "    subjects.sd.ratJday1\n",
    "    + subjects.sd.ratKday1\n",
    "    + subjects.sd.ratNday1\n",
    "    + subjects.sd.ratSday3\n",
    "    + subjects.sd.ratRday2\n",
    "    + subjects.nsd.ratJday2\n",
    "    + subjects.nsd.ratKday2\n",
    "    +subjects.nsd.ratNday2\n",
    "    + subjects.nsd.ratSday2\n",
    "\n",
    ")\n"
   ],
   "outputs": [],
   "metadata": {}
  },
  {
   "cell_type": "code",
   "execution_count": 26,
   "source": [
    "%matplotlib widget\n",
    "neurons=[]\n",
    "for sess in sessions:\n",
    "    neurons.append(sess.neurons)\n",
    "\n",
    "neuron_type= neurons_util.estimate_neuron_type(neurons)\n",
    "\n",
    "for sub,sess in enumerate(sessions):\n",
    "    sess.neurons.neuron_type = neuron_type[sub]\n",
    "    sess.neurons.filename = sess.filePrefix.with_suffix('.neurons')\n",
    "    sess.neurons.save()"
   ],
   "outputs": [
    {
     "output_type": "display_data",
     "data": {
      "text/plain": [
       "Canvas(toolbar=Toolbar(toolitems=[('Home', 'Reset original view', 'home', 'home'), ('Back', 'Back to previous …"
      ],
      "application/vnd.jupyter.widget-view+json": {
       "version_major": 2,
       "version_minor": 0,
       "model_id": "626d10963a2545afab9e90eb91b141af"
      }
     },
     "metadata": {}
    },
    {
     "output_type": "stream",
     "name": "stdout",
     "text": [
      "data saved\n",
      "data saved\n",
      "data saved\n",
      "data saved\n",
      "data saved\n",
      "data saved\n",
      "data saved\n",
      "data saved\n",
      "data saved\n"
     ]
    }
   ],
   "metadata": {}
  },
  {
   "cell_type": "markdown",
   "source": [
    "# Distribution of pairwise correlations during SD from first to last hour of SD\n",
    "- also compare with nsd 1st hour of sleep vs 5th hour sleep"
   ],
   "metadata": {}
  },
  {
   "cell_type": "code",
   "execution_count": 30,
   "source": [
    "import numpy as np\n",
    "import subjects\n",
    "import pandas as pd\n",
    "import seaborn as sns\n",
    "import matplotlib.pyplot as plt\n",
    "from neuropy.plotting import Fig\n",
    "sessions_sd= (\n",
    "    subjects.sd.ratJday1\n",
    "    + subjects.sd.ratKday1\n",
    "    + subjects.sd.ratNday1\n",
    "    + subjects.sd.ratSday3\n",
    "    + subjects.sd.ratRday2\n",
    ")\n",
    "\n",
    "sessions_nsd=(\n",
    "    subjects.nsd.ratJday2\n",
    "    + subjects.nsd.ratKday2\n",
    "    + subjects.nsd.ratNday2\n",
    "    + subjects.nsd.ratSday2\n",
    ")\n"
   ],
   "outputs": [],
   "metadata": {}
  },
  {
   "cell_type": "code",
   "execution_count": 36,
   "source": [
    "%matplotlib widget\n",
    "figure = Fig()\n",
    "fig,gs = figure.draw(grid=(1,2))\n",
    "gs_ = figure.subplot2grid(gs[1],grid=(5,2))\n",
    "all_corr_sd = []\n",
    "\n",
    "cdf = lambda x: np.cumsum(x)/np.sum(x)\n",
    "\n",
    "bins = np.arange(-0.1,0.4,0.01)\n",
    "for sub, sess in enumerate(sessions_sd):\n",
    "    post = sess.paradigm['post']\n",
    "    sd = [post[0],post[0]+5*3600]\n",
    "\n",
    "    neurons = sess.neurons.get_neuron_type('pyr')\n",
    "    cal_pair_corr=lambda t:neurons.get_binned_spiketrains(t_start=t,t_stop=t+3600).get_pairwise_corr()\n",
    "    corr_pair = np.asarray( [cal_pair_corr(_) for _ in [sd[0],sd[0]+4*3600]])\n",
    "    f_h = np.histogram(corr_pair[0],bins=bins)[0]\n",
    "    l_h = np.histogram(corr_pair[1],bins=bins)[0]\n",
    "\n",
    "    ax = plt.subplot(gs_[sub])\n",
    "    ax.plot(bins[:-1],cdf(f_h))\n",
    "    ax.plot(bins[:-1],cdf(l_h))\n",
    "    ax.set_title(f'sub {sub}')\n",
    "\n",
    "    all_corr_sd.append(corr_pair)\n",
    "\n",
    "all_corr_nsd=[]\n",
    "for sub, sess in enumerate(sessions_nsd,sub+2):\n",
    "    post = sess.paradigm['post']\n",
    "\n",
    "    neurons = sess.neurons.get_neuron_type('pyr')\n",
    "    cal_pair_corr=lambda t:neurons.get_binned_spiketrains(t_start=t,t_stop=t+3600).get_pairwise_corr()\n",
    "    corr_pair = np.asarray( [cal_pair_corr(_) for _ in [post[0],post[0]+4*3600]])\n",
    "    f_h = np.histogram(corr_pair[0],bins=bins)[0]\n",
    "    l_h = np.histogram(corr_pair[1],bins=bins)[0]\n",
    "\n",
    "    ax = plt.subplot(gs_[sub])\n",
    "    ax.plot(bins[:-1],cdf(f_h))\n",
    "    ax.plot(bins[:-1],cdf(l_h))\n",
    "    ax.set_title(f'sub {sub}')\n",
    "\n",
    "    all_corr_nsd.append(corr_pair)\n",
    "\n",
    "\n",
    "\n",
    "\n",
    "ax = plt.subplot(gs[0])\n",
    "all_corr_sd = np.hstack(all_corr_sd)\n",
    "first_h_sd = np.histogram(all_corr_sd[0],bins=bins)[0]\n",
    "last_h_sd = np.histogram(all_corr_sd[1],bins=bins)[0]\n",
    "\n",
    "all_corr_nsd = np.hstack(all_corr_nsd)\n",
    "first_h_nsd = np.histogram(all_corr_nsd[0],bins=bins)[0]\n",
    "last_h_nsd = np.histogram(all_corr_nsd[1],bins=bins)[0]\n",
    "\n",
    "ax.plot(bins[:-1],cdf(first_h_sd),'r')\n",
    "ax.plot(bins[:-1],cdf(last_h_sd),'g')\n",
    "ax.plot(bins[:-1],cdf(first_h_nsd),'k')\n",
    "ax.plot(bins[:-1],cdf(last_h_nsd),'gray')\n",
    "\n",
    "ax.set_xlabel('Pairwise correlation')\n",
    "ax.set_ylabel('Probability')"
   ],
   "outputs": [
    {
     "output_type": "display_data",
     "data": {
      "text/plain": [
       "Canvas(toolbar=Toolbar(toolitems=[('Home', 'Reset original view', 'home', 'home'), ('Back', 'Back to previous …"
      ],
      "application/vnd.jupyter.widget-view+json": {
       "version_major": 2,
       "version_minor": 0,
       "model_id": "a18b87f5161d47de9f98ebd89b5345e0"
      }
     },
     "metadata": {}
    },
    {
     "output_type": "stream",
     "name": "stderr",
     "text": [
      "/home/bapung/miniconda3/envs/data_analysis/lib/python3.9/site-packages/numpy/lib/function_base.py:2642: RuntimeWarning: invalid value encountered in true_divide\n",
      "  c /= stddev[:, None]\n",
      "/home/bapung/miniconda3/envs/data_analysis/lib/python3.9/site-packages/numpy/lib/function_base.py:2643: RuntimeWarning: invalid value encountered in true_divide\n",
      "  c /= stddev[None, :]\n",
      "/home/bapung/miniconda3/envs/data_analysis/lib/python3.9/site-packages/numpy/lib/function_base.py:2642: RuntimeWarning: invalid value encountered in true_divide\n",
      "  c /= stddev[:, None]\n",
      "/home/bapung/miniconda3/envs/data_analysis/lib/python3.9/site-packages/numpy/lib/function_base.py:2643: RuntimeWarning: invalid value encountered in true_divide\n",
      "  c /= stddev[None, :]\n",
      "/home/bapung/miniconda3/envs/data_analysis/lib/python3.9/site-packages/numpy/lib/function_base.py:2642: RuntimeWarning: invalid value encountered in true_divide\n",
      "  c /= stddev[:, None]\n",
      "/home/bapung/miniconda3/envs/data_analysis/lib/python3.9/site-packages/numpy/lib/function_base.py:2643: RuntimeWarning: invalid value encountered in true_divide\n",
      "  c /= stddev[None, :]\n",
      "/home/bapung/miniconda3/envs/data_analysis/lib/python3.9/site-packages/numpy/lib/function_base.py:2642: RuntimeWarning: invalid value encountered in true_divide\n",
      "  c /= stddev[:, None]\n",
      "/home/bapung/miniconda3/envs/data_analysis/lib/python3.9/site-packages/numpy/lib/function_base.py:2643: RuntimeWarning: invalid value encountered in true_divide\n",
      "  c /= stddev[None, :]\n",
      "/home/bapung/miniconda3/envs/data_analysis/lib/python3.9/site-packages/numpy/lib/function_base.py:2642: RuntimeWarning: invalid value encountered in true_divide\n",
      "  c /= stddev[:, None]\n",
      "/home/bapung/miniconda3/envs/data_analysis/lib/python3.9/site-packages/numpy/lib/function_base.py:2643: RuntimeWarning: invalid value encountered in true_divide\n",
      "  c /= stddev[None, :]\n",
      "/home/bapung/miniconda3/envs/data_analysis/lib/python3.9/site-packages/numpy/lib/function_base.py:2642: RuntimeWarning: invalid value encountered in true_divide\n",
      "  c /= stddev[:, None]\n",
      "/home/bapung/miniconda3/envs/data_analysis/lib/python3.9/site-packages/numpy/lib/function_base.py:2643: RuntimeWarning: invalid value encountered in true_divide\n",
      "  c /= stddev[None, :]\n",
      "/home/bapung/miniconda3/envs/data_analysis/lib/python3.9/site-packages/numpy/lib/function_base.py:2642: RuntimeWarning: invalid value encountered in true_divide\n",
      "  c /= stddev[:, None]\n",
      "/home/bapung/miniconda3/envs/data_analysis/lib/python3.9/site-packages/numpy/lib/function_base.py:2643: RuntimeWarning: invalid value encountered in true_divide\n",
      "  c /= stddev[None, :]\n"
     ]
    },
    {
     "output_type": "execute_result",
     "data": {
      "text/plain": [
       "Text(0, 0.5, 'Probability')"
      ]
     },
     "metadata": {},
     "execution_count": 36
    }
   ],
   "metadata": {}
  },
  {
   "cell_type": "code",
   "execution_count": null,
   "source": [
    "a= np.array([1,np.nan,2,3,4])\n",
    "np.histogram(a,bins = [1,2,3])[0]"
   ],
   "outputs": [],
   "metadata": {}
  }
 ],
 "metadata": {
  "interpreter": {
   "hash": "7b10c821bc4bd3f433a613d47515e6babc6c2152896bd1e143404cc9d6ede4ad"
  },
  "kernelspec": {
   "name": "python3",
   "display_name": "Python 3.9.4 64-bit ('data_analysis': conda)"
  },
  "language_info": {
   "name": "python",
   "version": "3.9.4",
   "mimetype": "text/x-python",
   "codemirror_mode": {
    "name": "ipython",
    "version": 3
   },
   "pygments_lexer": "ipython3",
   "nbconvert_exporter": "python",
   "file_extension": ".py"
  },
  "orig_nbformat": 2
 },
 "nbformat": 4,
 "nbformat_minor": 2
}