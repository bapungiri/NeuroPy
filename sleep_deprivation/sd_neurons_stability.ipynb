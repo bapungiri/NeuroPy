{
 "cells": [
  {
   "cell_type": "markdown",
   "metadata": {},
   "source": [
    "### Waveform amplitude stability"
   ]
  },
  {
   "cell_type": "code",
   "execution_count": null,
   "metadata": {},
   "outputs": [],
   "source": [
    "import matplotlib.pyplot as plt\n",
    "import subjects\n",
    "import numpy as np\n",
    "from scipy import stats\n",
    "sessions = subjects.sd.ratSday3"
   ]
  },
  {
   "cell_type": "code",
   "execution_count": null,
   "metadata": {},
   "outputs": [],
   "source": [
    "for sub, sess in enumerate(sessions):\n",
    "\n",
    "    rec_duration = sess.eegfile.duration\n",
    "    t_bin = np.arange(0, rec_duration, 2 * 3600)\n",
    "    spktrns = sess.neurons.spiketrains\n",
    "    wav_amps = sess.neurons.waveforms_amplitude\n",
    "\n",
    "    mean_wav_amp = []\n",
    "    for spk, amp in zip(spktrns, wav_amps):\n",
    "        mean_wav_amp.append(\n",
    "            stats.binned_statistic(spk, amp, bins=t_bin, statistic=\"mean\")[0]\n",
    "        )\n",
    "    mean_wav_amp = np.asarray(mean_wav_amp)\n"
   ]
  },
  {
   "cell_type": "code",
   "execution_count": null,
   "metadata": {},
   "outputs": [],
   "source": [
    "%matplotlib widget\n",
    "\n",
    "plt.plot(mean_wav_amp.T)"
   ]
  },
  {
   "cell_type": "markdown",
   "metadata": {},
   "source": [
    "### Stability viewer from phyio"
   ]
  },
  {
   "cell_type": "code",
   "execution_count": null,
   "metadata": {},
   "outputs": [],
   "source": [
    "import subjects\n",
    "import numpy as np\n",
    "from scipy import stats\n",
    "\n",
    "sess = subjects.sd.ratSday3[0]"
   ]
  },
  {
   "cell_type": "code",
   "execution_count": null,
   "metadata": {},
   "outputs": [],
   "source": [
    "neurons = sess.neurons_iso\n",
    "metrics = neurons.metadata['stability_metrics']"
   ]
  },
  {
   "cell_type": "code",
   "execution_count": null,
   "metadata": {},
   "outputs": [],
   "source": [
    "metrics"
   ]
  },
  {
   "cell_type": "code",
   "execution_count": null,
   "metadata": {},
   "outputs": [],
   "source": [
    "import seaborn as sns\n",
    "metrics = metrics.reset_index(drop=True)\n",
    "sns.relplot(\n",
    "    data=metrics,\n",
    "    x=\"epoch\",\n",
    "    y=\"isolation_distances\",\n",
    "    kind=\"line\",\n",
    "    col=\"cluster_id\",\n",
    "    col_wrap=5,\n",
    ")\n"
   ]
  }
 ],
 "metadata": {
  "interpreter": {
   "hash": "cce1618081139d19eb1ee8d40815d94a2de4f62e1efb20d9406ddb60628c36ae"
  },
  "kernelspec": {
   "display_name": "Python 3.9.7 64-bit ('data_analysis': conda)",
   "language": "python",
   "name": "python3"
  },
  "language_info": {
   "codemirror_mode": {
    "name": "ipython",
    "version": 3
   },
   "file_extension": ".py",
   "mimetype": "text/x-python",
   "name": "python",
   "nbconvert_exporter": "python",
   "pygments_lexer": "ipython3",
   "version": "3.10.4"
  },
  "orig_nbformat": 4
 },
 "nbformat": 4,
 "nbformat_minor": 2
}
