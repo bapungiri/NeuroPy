{
 "cells": [
  {
   "cell_type": "markdown",
   "metadata": {},
   "source": [
    "## Explained variance during SD"
   ]
  },
  {
   "cell_type": "code",
   "execution_count": 4,
   "metadata": {},
   "outputs": [],
   "source": [
    "import numpy as np\n",
    "import matplotlib.pyplot as plt\n",
    "from scipy import stats\n",
    "import pandas as pd\n",
    "from ModulesPath.plotUtil import Fig\n",
    "import subjects\n",
    "\n",
    "sessions = subjects.Sd().ratRday2"
   ]
  },
  {
   "cell_type": "code",
   "execution_count": null,
   "metadata": {},
   "outputs": [],
   "source": [
    "%matplotlib widget\n",
    "figure = Fig()\n",
    "fig, gs = figure.draw(num=1, grid=(4, 1),style=\"figPres\")\n",
    "\n",
    "# gs_ = figure.subplot2grid(gs, grid=(4,1))\n",
    "\n",
    "for sub, sess in enumerate(sessions):\n",
    "\n",
    "    pre = sess.paradigm.pre\n",
    "\n",
    "    try:\n",
    "        maze = sess.paradigm.maze\n",
    "    except:\n",
    "        maze = sess.paradigm.maze1\n",
    "    post = [sess.paradigm.post[0],sess.paradigm.maze2[1]]\n",
    "\n",
    "\n",
    "    # --- break region into periods --------\n",
    "    bin1 = sess.utils.getinterval(pre, 2)\n",
    "    bin2 = sess.utils.getinterval(post, 4)\n",
    "    bins = bin1 + bin2\n",
    "\n",
    "    pyr_ids = np.where(sess.neurons.labels == 'pyr')[0]\n",
    "#     cell_ids = sess.neurons.get_spiketrains(pyr_ids)\n",
    "    # bins = [\n",
    "    #     pre,\n",
    "    #     # maze1,\n",
    "    #     # [post[0] + 4 * 3600, post[0] + 5 * 3600],\n",
    "    #     # [post[0] + 5 * 3600, post[0] + 10 * 4600],\n",
    "    #     # post,\n",
    "    #     # [post[0], maze2[1]]\n",
    "    #     # [post[0] + 5 * 3600, post[0] + 8 * 3600],\n",
    "    # ]\n",
    "\n",
    "#     sess.spikes.stability.firingRate(periods=bins)\n",
    "    # sess.spikes.stability.refPeriodViolation()\n",
    "    # violations = sess.spikes.stability.violations\n",
    "\n",
    "    control = pre\n",
    "    template = maze  # [post[0] + 4 * 3600, post[0] + 5 * 3600]\n",
    "    match = post  # [post[0] + 5 * 3600, post[1]]\n",
    "\n",
    "    sess.replay.expvar.compute(\n",
    "        template=template,\n",
    "        match=match,\n",
    "        control=control,\n",
    "        slideby=300,\n",
    "        cross_shanks=True,\n",
    "\t    neuron_ids=pyr_ids\n",
    "    )\n",
    "    print(sess.replay.expvar.npairs)\n",
    "\n",
    "    ax = plt.subplot(gs[1:])\n",
    "    sess.replay.expvar.plot(ax=ax, tstart=post[0])\n",
    "    ax.set_xlim(left=0)\n",
    "    ax.tick_params(width=2)\n",
    "    # if sub == 3:\n",
    "    #     ax1.set_ylim([0, 0.17])\n",
    "    ax.spines[\"right\"].set_visible(\"False\")\n",
    "    ax.spines[\"top\"].set_visible(\"False\")\n",
    "\n",
    "    axhypno = plt.subplot(gs[0], sharex=ax)\n",
    "    sess.brainstates.plot_hypnogram(ax=axhypno, tstart=post[0], unit=\"h\")\n",
    "    # panel_label(axhypno, \"a\")\n",
    "    # ax1.set_ylim([0, 11])\n",
    "\n",
    "\n",
    "# figure.savefig(\"EV_sessions\", __file__)\n",
    "# endregion\n",
    "\n",
    "\n"
   ]
  }
 ],
 "metadata": {
  "interpreter": {
   "hash": "7b10c821bc4bd3f433a613d47515e6babc6c2152896bd1e143404cc9d6ede4ad"
  },
  "kernelspec": {
   "display_name": "Python 3.9.2 64-bit ('data_analysis': conda)",
   "name": "python3"
  },
  "language_info": {
   "codemirror_mode": {
    "name": "ipython",
    "version": 3
   },
   "file_extension": ".py",
   "mimetype": "text/x-python",
   "name": "python",
   "nbconvert_exporter": "python",
   "pygments_lexer": "ipython3",
   "version": "3.9.4"
  },
  "orig_nbformat": 4
 },
 "nbformat": 4,
 "nbformat_minor": 2
}