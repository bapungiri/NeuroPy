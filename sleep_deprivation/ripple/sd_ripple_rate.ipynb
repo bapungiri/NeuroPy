{
 "cells": [
  {
   "cell_type": "code",
   "execution_count": null,
   "metadata": {},
   "outputs": [],
   "source": [
    "%matplotlib widget\n",
    "import matplotlib.pyplot as plt\n",
    "import numpy as np\n",
    "from neuropy import plotting\n",
    "import pandas as pd\n",
    "from scipy import stats\n",
    "import subjects\n",
    "\n",
    "sessions = (\n",
    "    subjects.sd.ratJday1\n",
    "    +subjects.sd.ratKday1\n",
    "    + subjects.sd.ratNday1\n",
    "    + subjects.sd.ratSday3\n",
    "    + subjects.sd.ratRday2\n",
    "    + subjects.sd.ratUday4\n",
    "    + subjects.sd.ratVday2\n",
    "\n",
    "    + subjects.nsd.ratJday2\n",
    "    + subjects.nsd.ratKday2\n",
    "    + subjects.nsd.ratNday2\n",
    "    + subjects.nsd.ratSday2\n",
    "    + subjects.nsd.ratRday1\n",
    "    + subjects.nsd.ratUday2\n",
    "    + subjects.nsd.ratVday1\n",
    ")"
   ]
  },
  {
   "cell_type": "markdown",
   "metadata": {},
   "source": [
    "### Plot ripples histogram for a single session"
   ]
  },
  {
   "cell_type": "code",
   "execution_count": null,
   "metadata": {},
   "outputs": [],
   "source": [
    "from neuropy.plotting import plot_epochs\n",
    "from scipy.stats import binned_statistic\n",
    "\n",
    "sessions = subjects.sd.ratUday1\n",
    "\n",
    "fig = Fig(grid=(2, 2))\n",
    "for sub, sess in enumerate(sessions):\n",
    "    ax = plt.subplot(fig.gs[sub])\n",
    "    starts = sess.ripple.starts\n",
    "    durations = sess.ripple.durations\n",
    "    bins = np.arange(0, sess.eegfile.duration, 600)\n",
    "    # hist_rpl = np.histogram(starts,bins=bins)[0]\n",
    "    hist_rpl = binned_statistic(starts, durations, bins=bins, statistic=\"sum\")[0]\n",
    "    plot_epochs(ax, sess.paradigm)\n",
    "    ax.plot(bins[:-1] + 300, hist_rpl / 600, \"k\")\n",
    "    ax.set_xlabel(\"Time\")\n",
    "    ax.set_ylabel(\"Ripple rate\")\n",
    "    print(sess.ripple.metadata)\n"
   ]
  },
  {
   "cell_type": "markdown",
   "metadata": {},
   "source": [
    "### Ripple rate first hour **between** SD and NSD (or only restrict to 1h NREM sleep of NSD)\n",
    "- One possiblity of faster decay of replay during sleep deprivation could be reduced ripple rate at the begining of POST. This may suggest that in order for cells to replay they need sufficient number/amount of exicitation to last for certain duration of time, so a lower ripple rate could interrupt this requirement."
   ]
  },
  {
   "cell_type": "code",
   "execution_count": null,
   "metadata": {},
   "outputs": [],
   "source": [
    "rpl_rate = []\n",
    "for sub, sess in enumerate(sessions):\n",
    "    post = sess.paradigm[\"post\"].flatten()\n",
    "    w = 2 * 3600 # window size\n",
    "    rpl_rate_sub = sess.ripple.time_slice(post[0], post[0] + w).n_epochs / w\n",
    "    rpl_rate.append(\n",
    "        pd.DataFrame({\"sub\": sess.sub_name, \"rpl_rate\": [rpl_rate_sub], \"grp\": sess.tag})\n",
    "    )\n",
    "\n",
    "rpl_rate = pd.concat(rpl_rate,ignore_index=True)\n"
   ]
  },
  {
   "cell_type": "code",
   "execution_count": null,
   "metadata": {},
   "outputs": [],
   "source": [
    "\n",
    "_,ax = plt.subplots()\n",
    "import seaborn as sns\n",
    "\n",
    "sns.lineplot(data=rpl_rate,x='grp',y='rpl_rate',hue='sub',marker='o')"
   ]
  },
  {
   "cell_type": "markdown",
   "metadata": {},
   "source": [
    "### Ripple rate first 5 hour **within** SD and NSD across Zt times\n"
   ]
  },
  {
   "cell_type": "code",
   "execution_count": null,
   "metadata": {},
   "outputs": [],
   "source": [
    "ripple_rate_df = pd.DataFrame()\n",
    "for sub, sess in enumerate(sessions):\n",
    "    post = sess.paradigm[\"post\"].flatten()\n",
    "    period = [post[0], post[0] + 9* 3600]\n",
    "    rpls = sess.ripple.starts\n",
    "\n",
    "    binsz = 3600\n",
    "    n_bins = np.diff(period)/ binsz\n",
    "    sd_bin = np.arange(n_bins + 1) * binsz + period[0]\n",
    "    hist_rpl = np.histogram(rpls, bins=sd_bin)[0]\n",
    "    # hist_rpl = hist_rpl / np.sum(hist_rpl)\n",
    "\n",
    "    ripple_rate_df = ripple_rate_df.append(\n",
    "        pd.DataFrame(\n",
    "            {\n",
    "                \"rate\": hist_rpl / binsz,\n",
    "                \"Zt\": (sd_bin[:-1] - sd_bin[0]) / 3600 +1,\n",
    "                \"sub\": sub,\n",
    "                \"grp\": sess.tag,\n",
    "            }\n",
    "        ),\n",
    "        ignore_index=True,\n",
    "    )\n",
    "\n",
    "# subjects.GroupData().save(ripple_rate_df,'ripple_rate')"
   ]
  },
  {
   "cell_type": "code",
   "execution_count": null,
   "metadata": {},
   "outputs": [],
   "source": [
    "import seaborn as sns\n",
    "from neuropy.plotting import Fig\n",
    "\n",
    "fig = Fig(grid=(5, 4))\n",
    "\n",
    "for i, grp in enumerate([\"sd\",'nsd']):\n",
    "    df = ripple_rate_df[ripple_rate_df[\"grp\"] == grp]\n",
    "    ax = fig.subplot(fig.gs[i])\n",
    "    sns.lineplot(\n",
    "        data=df,\n",
    "        x=\"Zt\",\n",
    "        y=\"rate\",\n",
    "        ax=ax,\n",
    "        hue=\"sub\",\n",
    "        legend=False,\n",
    "        palette=[\"#BDBDBD\"] * 8,\n",
    "        # ls=\"--\",\n",
    "    )\n",
    "    sns.lineplot(\n",
    "        data=df,\n",
    "        x=\"Zt\",\n",
    "        y=\"rate\",\n",
    "        estimator=np.median,\n",
    "        ax=ax,\n",
    "        legend=False,\n",
    "        color='k',\n",
    "        ls=\"--\",\n",
    "        ci=None,\n",
    "        lw=2,\n",
    "    )\n",
    "    # ax.set_yscale('log')\n",
    "    ax.set_ylim([0.08, 0.65])\n",
    "    ax.set_xticks(np.arange(1, 10, 2))\n",
    "\n",
    "# figure.savefig(subjects.figpath_sd/'ripple_rate')"
   ]
  },
  {
   "cell_type": "markdown",
   "metadata": {},
   "source": [
    "### Inter-ripple duration (Ripple ISI)\n"
   ]
  },
  {
   "cell_type": "code",
   "execution_count": null,
   "metadata": {},
   "outputs": [],
   "source": [
    "dur_df = pd.DataFrame()\n",
    "for sub, sess in enumerate(sessions):\n",
    "    post = sess.paradigm[\"post\"].flatten()\n",
    "    zts =np.array([0,4,5]) # np.arange(0, 9, 4)\n",
    "    t_starts = zts * 3600 + post[0]\n",
    "\n",
    "    acg_zt = []\n",
    "    firing_neurons = []\n",
    "    for i, t in enumerate(t_starts):\n",
    "        starts = sess.ripple.time_slice(t, t + 3600).starts\n",
    "        dur_df = dur_df.append(\n",
    "            pd.DataFrame(\n",
    "                {\"isi\": np.diff(starts), \"Zt\": f\"Zt{zts[i]+1}\", \"grp\": sess.tag}\n",
    "            ),\n",
    "            ignore_index=True,\n",
    "        )\n"
   ]
  },
  {
   "cell_type": "code",
   "execution_count": null,
   "metadata": {},
   "outputs": [],
   "source": [
    "%matplotlib widget\n",
    "import seaborn as sns\n",
    "from neuropy import plotting\n",
    "\n",
    "figure = plotting.Fig()\n",
    "fig, gs = figure.draw(grid=(5, 4))\n",
    "bins = [np.arange(2,50,0.1),np.arange(0.5,50,0.1)]\n",
    "for i, g in enumerate([\"sd\", \"nsd\"]):\n",
    "    df = dur_df[dur_df['grp']==g]\n",
    "    ax = plt.subplot(gs[i])\n",
    "    sns.histplot(\n",
    "        data=df,\n",
    "        x=\"isi\",\n",
    "        hue=\"Zt\",\n",
    "        ax=ax,\n",
    "        stat='probability',\n",
    "        bins= bins[i],\n",
    "        element='poly',\n",
    "        common_bins=True,\n",
    "        common_norm=False,\n",
    "        fill=False,\n",
    "        legend=None,\n",
    "        cumulative=True,\n",
    "        palette='Set2'\n",
    "    )\n",
    "    ax.set_xscale('log')\n",
    "    # ax.set_yscale('log')\n",
    "    # ax.grid()\n",
    "\n",
    "figure.savefig(subjects.figpath_sd/'ripple_isi')"
   ]
  },
  {
   "cell_type": "markdown",
   "metadata": {},
   "source": [
    "### Total/mean ripple duration from first hour to last hour SD"
   ]
  },
  {
   "cell_type": "code",
   "execution_count": null,
   "metadata": {},
   "outputs": [],
   "source": [
    "rpl_duration = []\n",
    "for sub, sess in enumerate(sessions):\n",
    "    post = sess.paradigm[\"post\"].flatten()\n",
    "    period = np.arange(9) * 3600 + post[0]\n",
    "\n",
    "    for i, t in enumerate(period):\n",
    "\n",
    "        rpl_duration.append(\n",
    "            pd.DataFrame(\n",
    "                {\n",
    "                    \"Zt\": f\"{i+1}\",\n",
    "                    \"rpl_duration\": [sess.ripple.time_slice(t, t + 3600).durations.sum()],\n",
    "                    \"grp\": sess.tag,\n",
    "                    \"sub\": sub,\n",
    "                }\n",
    "            ),\n",
    "        )\n",
    "\n",
    "rpl_duration = pd.concat(rpl_duration,ignore_index=True)\n",
    "\n",
    "# subjects.GroupData().save(rpl_duration, \"ripple_total_duration\")\n"
   ]
  },
  {
   "cell_type": "code",
   "execution_count": null,
   "metadata": {},
   "outputs": [],
   "source": [
    "import seaborn as sns\n",
    "from neuropy import plotting\n",
    "\n",
    "fig = plotting.Fig(grid=(4,3))\n",
    "\n",
    "colors =[subjects.sd.color(1.5),subjects.nsd.color(1.5)]\n",
    "n_subs=[8,8]\n",
    "for i, grp in enumerate([\"SD\", \"NSD\"]):\n",
    "    data = rpl_duration[rpl_duration[\"grp\"] == grp]\n",
    "    ax = fig.subplot(fig.gs[i])\n",
    "    sns.lineplot(\n",
    "        data=data,\n",
    "        x=\"Zt\",\n",
    "        y=\"rpl_duration\",\n",
    "        hue=\"sub\",\n",
    "        marker=\"o\",\n",
    "        palette=[colors[i]]* n_subs[i],\n",
    "        ax=ax,\n",
    "        legend=None,\n",
    "        ci=None,\n",
    "    )\n",
    "    ax.legend('')\n",
    "    # ax.set_xlim([-1,4])\n",
    "    ax.set_ylim([30,450])\n",
    "\n",
    "\n",
    "# g=sns.relplot(\n",
    "#     data=rpl_duration,\n",
    "#     x=\"epoch\",\n",
    "#     y=\"rpl_duration\",\n",
    "#     hue=\"sub\",\n",
    "#     col=\"grp\",\n",
    "#     # row='rpl_duration',\n",
    "#     kind=\"line\",\n",
    "#     marker=\"o\",\n",
    "#     palette=['gray']*len(sessions),\n",
    "# )\n",
    "\n",
    "# [ax.set_xlim([-1,2]) for ax in g.axes.reshape(-1)]\n",
    "# figure.savefig(subjects.figpath_sd/'ripple_total_duration_zt1_vs_zt5')"
   ]
  }
 ],
 "metadata": {
  "interpreter": {
   "hash": "cce1618081139d19eb1ee8d40815d94a2de4f62e1efb20d9406ddb60628c36ae"
  },
  "kernelspec": {
   "display_name": "Python 3.10.2 ('data_analysis')",
   "language": "python",
   "name": "python3"
  },
  "language_info": {
   "codemirror_mode": {
    "name": "ipython",
    "version": 3
   },
   "file_extension": ".py",
   "mimetype": "text/x-python",
   "name": "python",
   "nbconvert_exporter": "python",
   "pygments_lexer": "ipython3",
   "version": "3.10.2"
  },
  "orig_nbformat": 4
 },
 "nbformat": 4,
 "nbformat_minor": 2
}
