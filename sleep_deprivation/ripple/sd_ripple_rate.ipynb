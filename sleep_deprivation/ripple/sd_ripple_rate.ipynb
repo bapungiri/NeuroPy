{
 "cells": [
  {
   "cell_type": "markdown",
   "metadata": {},
   "source": [
    "### Imports"
   ]
  },
  {
   "cell_type": "code",
   "execution_count": null,
   "metadata": {},
   "outputs": [],
   "source": [
    "import matplotlib.pyplot as plt\n",
    "import numpy as np\n",
    "from neuropy import plotting\n",
    "import seaborn as sns\n",
    "import pandas as pd\n",
    "from scipy import stats\n",
    "import subjects\n",
    "from statannotations.Annotator import Annotator"
   ]
  },
  {
   "cell_type": "markdown",
   "metadata": {},
   "source": [
    "### Plot ripples histogram for a single session"
   ]
  },
  {
   "cell_type": "code",
   "execution_count": null,
   "metadata": {},
   "outputs": [],
   "source": [
    "from neuropy.plotting import plot_epochs\n",
    "from scipy.stats import binned_statistic\n",
    "\n",
    "sessions = subjects.sd.ratUday1\n",
    "\n",
    "fig = Fig(grid=(2, 2))\n",
    "for sub, sess in enumerate(sessions):\n",
    "    ax = plt.subplot(fig.gs[sub])\n",
    "    starts = sess.ripple.starts\n",
    "    durations = sess.ripple.durations\n",
    "    bins = np.arange(0, sess.eegfile.duration, 600)\n",
    "    # hist_rpl = np.histogram(starts,bins=bins)[0]\n",
    "    hist_rpl = binned_statistic(starts, durations, bins=bins, statistic=\"sum\")[0]\n",
    "    plot_epochs(ax, sess.paradigm)\n",
    "    ax.plot(bins[:-1] + 300, hist_rpl / 600, \"k\")\n",
    "    ax.set_xlabel(\"Time\")\n",
    "    ax.set_ylabel(\"Ripple rate\")\n",
    "    print(sess.ripple.metadata)\n"
   ]
  },
  {
   "cell_type": "markdown",
   "metadata": {},
   "source": [
    "### Ripple rate first hour **between** SD and NSD (or only restrict to 1h NREM sleep of NSD)\n",
    "- One possiblity of faster decay of replay during sleep deprivation could be reduced ripple rate at the begining of POST. This may suggest that in order for cells to replay they need sufficient number/amount of exicitation to last for certain duration of time, so a lower ripple rate could interrupt this requirement."
   ]
  },
  {
   "cell_type": "code",
   "execution_count": null,
   "metadata": {},
   "outputs": [],
   "source": [
    "rpl_rate = []\n",
    "for sub, sess in enumerate(sessions):\n",
    "    post = sess.paradigm[\"post\"].flatten()\n",
    "    w = 2 * 3600 # window size\n",
    "    rpl_rate_sub = sess.ripple_nomerge.time_slice(post[0], post[0] + w).n_epochs / w\n",
    "    rpl_rate.append(\n",
    "        pd.DataFrame({\"sub\": sess.sub_name, \"rpl_rate\": [rpl_rate_sub], \"grp\": sess.tag})\n",
    "    )\n",
    "\n",
    "rpl_rate = pd.concat(rpl_rate,ignore_index=True)\n"
   ]
  },
  {
   "cell_type": "code",
   "execution_count": null,
   "metadata": {},
   "outputs": [],
   "source": [
    "_,ax = plt.subplots()\n",
    "import seaborn as sns\n",
    "\n",
    "sns.lineplot(data=rpl_rate,x='grp',y='rpl_rate',hue='sub',marker='o')"
   ]
  },
  {
   "cell_type": "markdown",
   "metadata": {},
   "source": [
    "### Ripple rate first 5 hour **within** SD and NSD across Zt times\n"
   ]
  },
  {
   "cell_type": "code",
   "execution_count": null,
   "metadata": {},
   "outputs": [],
   "source": [
    "sessions = subjects.mua_sess()"
   ]
  },
  {
   "cell_type": "code",
   "execution_count": null,
   "metadata": {},
   "outputs": [],
   "source": [
    "ripple_rate_df = []\n",
    "for sub, sess in enumerate(sessions):\n",
    "    post = sess.paradigm[\"post\"].flatten()\n",
    "    zt_start = np.array([0, 2.5, 5])\n",
    "    zt_stop = np.array([2.5, 5, 7.5])\n",
    "    n_epochs = len(zt_start)\n",
    "    durations = (zt_stop - zt_start) * 3600\n",
    "\n",
    "    bins = np.vstack((zt_start, zt_stop)).T.flatten() * 3600 + post[0]\n",
    "    rpls = sess.ripple.starts\n",
    "\n",
    "    # --- only include rpls having PBE ------\n",
    "    rpl_epochs = sess.ripple.flatten()\n",
    "    pbe = sess.pbe.to_dataframe().peak_time.values\n",
    "    pbe_bool = np.histogram(pbe, rpl_epochs)[0][::2] > 0\n",
    "    rpls = rpls[pbe_bool]\n",
    "\n",
    "    binsz = np.diff(bins).mean()\n",
    "    hist_rpl = np.histogram(rpls, bins=bins)[0][::2]\n",
    "\n",
    "    ripple_rate_df.append(\n",
    "        pd.DataFrame(\n",
    "            {\n",
    "                \"rate\": hist_rpl / durations,\n",
    "                \"Zt\": [f\"{zt_start[_]}-{zt_stop[_]}\" for _ in range(n_epochs)],\n",
    "                \"sub\": sub,\n",
    "                \"grp\": sess.tag,\n",
    "            }\n",
    "        ),\n",
    "    )\n",
    "\n",
    "ripple_rate_df = pd.concat(ripple_rate_df, ignore_index=True)\n",
    "# subjects.GroupData().save(ripple_rate_df,'ripple_rate')\n"
   ]
  },
  {
   "cell_type": "code",
   "execution_count": null,
   "metadata": {},
   "outputs": [],
   "source": [
    "import seaborn as sns\n",
    "from neuropy.plotting import Fig\n",
    "from statannotations.Annotator import Annotator\n",
    "\n",
    "fig = Fig(grid=(7, 6))\n",
    "\n",
    "ax = fig.subplot(fig.gs[0])\n",
    "plot_kw = dict(\n",
    "    data=ripple_rate_df,\n",
    "    x=\"Zt\",\n",
    "    y='rate',\n",
    "    hue=\"grp\",\n",
    "    hue_order=['NSD','SD'],\n",
    "    ax=ax,\n",
    "    dodge=True,\n",
    ")\n",
    "\n",
    "sns.stripplot(\n",
    "    **plot_kw, palette=subjects.colors_sd(1), edgecolor=\"k\", linewidth=0.3, size=3\n",
    ")\n",
    "sns.boxplot(**plot_kw, color=\"k\", width=0.5, **subjects.sns_boxplot_kw)\n",
    "ax.tick_params(\"x\", labelrotation=30)\n",
    "ax.legend([], frameon=False)\n",
    "ax.set_ylabel('Ripple_w_PBE rate')\n",
    "ax.set_xlabel(\"\")\n",
    "\n",
    "# stats\n",
    "# Across groups\n",
    "orders = ripple_rate_df.Zt.unique()\n",
    "pairs = [((_, \"NSD\"), (_, \"SD\")) for _ in orders]\n",
    "annotator = Annotator(pairs=pairs, **plot_kw, order=orders)\n",
    "annotator.configure(test=\"t-test_welch\", **subjects.stat_kw)\n",
    "annotator.apply_and_annotate()\n",
    "annotator.reset_configuration()\n",
    "\n",
    "# Within groups\n",
    "pairs2 = []\n",
    "for g in ['NSD','SD']:\n",
    "    pairs2.extend([((orders[_], g), (orders[_ + 1], g)) for _ in range(2)])\n",
    "annotator = Annotator(pairs=pairs2, **plot_kw, order=orders)\n",
    "annotator.configure(test=\"t-test_paired\", **subjects.stat_kw)\n",
    "annotator.apply_and_annotate()\n",
    "annotator.reset_configuration()\n",
    "\n",
    "\n",
    "fig.savefig(subjects.figpath_sd/'Ripple_w_PBE_rate')"
   ]
  },
  {
   "cell_type": "markdown",
   "metadata": {},
   "source": [
    "### Inter-ripple duration (Ripple ISI)\n"
   ]
  },
  {
   "cell_type": "code",
   "execution_count": null,
   "metadata": {},
   "outputs": [],
   "source": [
    "sessions = subjects.ripple_sess()"
   ]
  },
  {
   "cell_type": "code",
   "execution_count": null,
   "metadata": {},
   "outputs": [],
   "source": [
    "dur_df = []\n",
    "for sub, sess in enumerate(sessions):\n",
    "    post = sess.paradigm[\"post\"].flatten()\n",
    "    zts =np.array([0,4,5]) # np.arange(0, 9, 4)\n",
    "    t_starts = zts * 3600 + post[0]\n",
    "\n",
    "    acg_zt = []\n",
    "    firing_neurons = []\n",
    "    for i, t in enumerate(t_starts):\n",
    "        starts = sess.ripple.time_slice(t, t + 3600).starts\n",
    "        dur_df.append(\n",
    "            pd.DataFrame(\n",
    "                {\"isi\": np.diff(starts), \"Zt\": f\"Zt{zts[i]+1}\", \"grp\": sess.tag}\n",
    "            ),\n",
    "        )\n",
    "\n",
    "dur_df = pd.concat(dur_df,ignore_index=True)"
   ]
  },
  {
   "cell_type": "code",
   "execution_count": null,
   "metadata": {},
   "outputs": [],
   "source": [
    "\n",
    "fig = plotting.Fig(grid=(5, 4))\n",
    "bins = [np.arange(2, 50, 0.1), np.arange(0.5, 50, 0.1)]\n",
    "for i, g in enumerate([\"SD\", \"NSD\"]):\n",
    "    df = dur_df[dur_df[\"grp\"] == g]\n",
    "    ax = plt.subplot(fig.gs[i])\n",
    "    sns.histplot(\n",
    "        data=df,\n",
    "        x=\"isi\",\n",
    "        hue=\"Zt\",\n",
    "        ax=ax,\n",
    "        stat=\"probability\",\n",
    "        bins=bins[i],\n",
    "        element=\"poly\",\n",
    "        common_bins=True,\n",
    "        common_norm=False,\n",
    "        fill=False,\n",
    "        legend=None,\n",
    "        cumulative=True,\n",
    "        palette=\"Set2\",\n",
    "    )\n",
    "    ax.set_xscale(\"log\")\n",
    "    # ax.set_yscale('log')\n",
    "    # ax.grid()\n"
   ]
  },
  {
   "cell_type": "markdown",
   "metadata": {},
   "source": [
    "### Total/mean ripple duration from first hour to last hour SD"
   ]
  },
  {
   "cell_type": "code",
   "execution_count": null,
   "metadata": {},
   "outputs": [],
   "source": [
    "print(f\"#Sessions {len(sessions)}\")\n",
    "rpl_duration = []\n",
    "for sub, sess in enumerate(sessions):\n",
    "    post = sess.paradigm[\"post\"].flatten()\n",
    "    # period = np.arange(9) * 3600 + post[0]\n",
    "    zts = np.array([0, 2.5, 5])\n",
    "    period = zts * 3600 + post[0]\n",
    "\n",
    "    for i, t in enumerate(period):\n",
    "\n",
    "        rpl_duration.append(\n",
    "            pd.DataFrame(\n",
    "                {\n",
    "                    \"Zt\": f\"{zts[i]}-{zts[i]+2.5}\",\n",
    "                    \"rpl_duration\": [\n",
    "                        sess.ripple.time_slice(t, t + 2.5 * 3600).durations.sum()\n",
    "                    ],\n",
    "                    \"grp\": sess.tag,\n",
    "                    \"sub\": sub,\n",
    "                }\n",
    "            ),\n",
    "        )\n",
    "\n",
    "rpl_duration = pd.concat(rpl_duration, ignore_index=True)\n",
    "\n",
    "subjects.GroupData().save(rpl_duration, \"ripple_total_duration\")\n"
   ]
  },
  {
   "cell_type": "code",
   "execution_count": null,
   "metadata": {},
   "outputs": [],
   "source": [
    "import seaborn as sns\n",
    "from neuropy import plotting\n",
    "\n",
    "fig = plotting.Fig(grid=(4,3))\n",
    "\n",
    "colors =[subjects.sd.color(1.5),subjects.nsd.color(1.5)]\n",
    "n_subs=[8,8]\n",
    "for i, grp in enumerate([\"SD\", \"NSD\"]):\n",
    "    data = rpl_duration[rpl_duration[\"grp\"] == grp]\n",
    "    ax = fig.subplot(fig.gs[i])\n",
    "    sns.lineplot(\n",
    "        data=data,\n",
    "        x=\"Zt\",\n",
    "        y=\"rpl_duration\",\n",
    "        hue=\"sub\",\n",
    "        marker=\"o\",\n",
    "        palette=[colors[i]]* n_subs[i],\n",
    "        ax=ax,\n",
    "        legend=None,\n",
    "        ci=None,\n",
    "    )\n",
    "    ax.legend('')\n",
    "    # ax.set_xlim([-1,4])\n",
    "    # ax.set_ylim([30,450])\n",
    "\n",
    "\n",
    "# g=sns.relplot(\n",
    "#     data=rpl_duration,\n",
    "#     x=\"epoch\",\n",
    "#     y=\"rpl_duration\",\n",
    "#     hue=\"sub\",\n",
    "#     col=\"grp\",\n",
    "#     # row='rpl_duration',\n",
    "#     kind=\"line\",\n",
    "#     marker=\"o\",\n",
    "#     palette=['gray']*len(sessions),\n",
    "# )\n",
    "\n",
    "# [ax.set_xlim([-1,2]) for ax in g.axes.reshape(-1)]\n",
    "# figure.savefig(subjects.figpath_sd/'ripple_total_duration_zt1_vs_zt5')"
   ]
  },
  {
   "cell_type": "markdown",
   "metadata": {},
   "source": [
    "### Ripple duration comparison between SD and NSD animals\n",
    "- I compared the ripple duration distribution for Zt1 and Zt5 between NSD and SD sessions. Ripple durations were pooled across sessions. The distribution curves looked different in Zt1 (seems to be driven by outliers) but exactly the same during Zt5."
   ]
  },
  {
   "cell_type": "code",
   "execution_count": null,
   "metadata": {},
   "outputs": [],
   "source": [
    "sessions = subjects.ripple_sess()"
   ]
  },
  {
   "cell_type": "code",
   "execution_count": null,
   "metadata": {},
   "outputs": [],
   "source": [
    "rpl_dur, long_rpl = [], []\n",
    "for sub, sess in enumerate(sessions):\n",
    "    post = sess.paradigm[\"post\"].flatten()\n",
    "    zts = np.arange(0, 7.5, 2.5)\n",
    "    t_starts = zts * 3600 + post[0]\n",
    "\n",
    "    for ind, t in enumerate(t_starts):\n",
    "        ep_durations = sess.ripple.time_slice(t, t + 2.5 * 3600).durations\n",
    "        ep_long_prob =np.count_nonzero(ep_durations>0.1)/len(ep_durations)\n",
    "        kw = dict(zt=f\"{zts[ind]}-{zts[ind]+2.5}\", session=sub, grp=sess.tag)\n",
    "        df1 = pd.DataFrame({\"durations\": ep_durations, **kw})\n",
    "        df2 = pd.DataFrame({'prob':[ep_long_prob],**kw})\n",
    "        rpl_dur.append(df1)\n",
    "        long_rpl.append(df2)\n",
    "\n",
    "rpl_dur = pd.concat(rpl_dur, ignore_index=True)\n",
    "long_rpl= pd.concat(long_rpl, ignore_index=True)\n"
   ]
  },
  {
   "cell_type": "code",
   "execution_count": null,
   "metadata": {},
   "outputs": [],
   "source": [
    "from stats_funcs import bootstrap\n",
    "\n",
    "fig = plotting.Fig(grid=(7, 6))\n",
    "\n",
    "y = ['durations','prob']\n",
    "for i,data in enumerate([rpl_dur,long_rpl]):\n",
    "    ax = fig.subplot(fig.gs[i])\n",
    "    plot_kw = dict(\n",
    "        data=data,\n",
    "        x=\"zt\",\n",
    "        y=y[i],\n",
    "        hue=\"grp\",\n",
    "        hue_order=[\"NSD\", \"SD\"],\n",
    "        # width=0.5,\n",
    "        ax=ax,\n",
    "    )\n",
    "    sns.boxplot(**plot_kw,**subjects.sns_boxplot_kw,width=0.5)\n",
    "\n",
    "    if i==1:\n",
    "        sns.stripplot(**plot_kw,dodge=True,color='k',s=3)\n",
    "    ax.legend('',frameon=False)\n",
    "    ax.tick_params('x',rotation=30)\n",
    "    # ax.set_yscale('log')\n",
    "\n",
    "    orders = rpl_dur.zt.unique()\n",
    "    pairs = [((_, \"NSD\"), (_, \"SD\")) for _ in orders]\n",
    "    annotator = Annotator(pairs=pairs, order=orders, **plot_kw)\n",
    "    annotator.configure(test=\"t-test_welch\", **subjects.stat_kw)\n",
    "    annotator.apply_and_annotate()\n",
    "    annotator.reset_configuration()\n",
    "\n",
    "\n",
    "\n",
    "# bootstrap(pairs,**plot_kw)\n",
    "fig.savefig(subjects.figpath_sd/'ripple_durations')"
   ]
  }
 ],
 "metadata": {
  "interpreter": {
   "hash": "cce1618081139d19eb1ee8d40815d94a2de4f62e1efb20d9406ddb60628c36ae"
  },
  "kernelspec": {
   "display_name": "Python 3.10.2 ('data_analysis')",
   "language": "python",
   "name": "python3"
  },
  "language_info": {
   "codemirror_mode": {
    "name": "ipython",
    "version": 3
   },
   "file_extension": ".py",
   "mimetype": "text/x-python",
   "name": "python",
   "nbconvert_exporter": "python",
   "pygments_lexer": "ipython3",
   "version": "3.10.4"
  },
  "orig_nbformat": 4
 },
 "nbformat": 4,
 "nbformat_minor": 2
}
