{
 "cells": [
  {
   "cell_type": "markdown",
   "metadata": {},
   "source": [
    "### Imports"
   ]
  },
  {
   "cell_type": "code",
   "execution_count": 2,
   "metadata": {},
   "outputs": [],
   "source": [
    "import matplotlib.pyplot as plt\n",
    "import numpy as np\n",
    "from neuropy import plotting\n",
    "import pandas as pd\n",
    "from scipy import stats\n",
    "from neuropy.utils.ccg import correlograms\n",
    "from tqdm.notebook import tqdm\n",
    "from neuropy.core import Epoch\n",
    "\n",
    "import subjects"
   ]
  },
  {
   "cell_type": "markdown",
   "metadata": {},
   "source": [
    "### Interneuron categorization based on firing rate around ripples start\n",
    "- using CCG algorithm"
   ]
  },
  {
   "cell_type": "code",
   "execution_count": null,
   "metadata": {},
   "outputs": [],
   "source": [
    "acgs = []\n",
    "bin_size = 0.01\n",
    "window_size = 0.2\n",
    "n_bins = int(window_size // bin_size)\n",
    "for sub, sess in enumerate(sessions):\n",
    "    ripple = sess.ripple.to_dataframe().peaktime.values\n",
    "    neurons = sess.neurons.get_neuron_type(\"inter\")\n",
    "    for s in neurons.spiketrains:\n",
    "        combined_s = np.concatenate((s, ripple))\n",
    "        combined_id = np.concatenate(\n",
    "            (np.ones(len(s)), 2 * np.ones(len(ripple)))\n",
    "        ).astype(\"int\")\n",
    "        sort_ind = np.argsort(combined_s)\n",
    "        acg = correlograms(\n",
    "            combined_s[sort_ind],\n",
    "            combined_id[sort_ind],\n",
    "            sample_rate=30000,\n",
    "            bin_size=bin_size,\n",
    "            window_size=window_size,\n",
    "        )\n",
    "        acgs.append(acg[0, 1, :])\n",
    "\n",
    "acgs = np.asarray(acgs)\n",
    "t_bin = np.linspace(-n_bins // 2, n_bins // 2, acgs.shape[1])\n",
    "data = pd.DataFrame(stats.zscore(acgs, axis=1), columns=t_bin)\n",
    "data[\"neuron\"] = np.arange(acgs.shape[0])\n",
    "data = pd.melt(\n",
    "    data,\n",
    "    id_vars=[\"neuron\"],\n",
    "    value_vars=t_bin,\n",
    "    var_name=[\"time\"],\n",
    "    value_name=\"frate\",\n",
    "    ignore_index=True,\n",
    ")"
   ]
  },
  {
   "cell_type": "code",
   "execution_count": null,
   "metadata": {},
   "outputs": [],
   "source": [
    "%matplotlib widget\n",
    "import seaborn as sns\n",
    "\n",
    "_,axs = plt.subplots(10,9,sharex=True,sharey=True)\n",
    "axs = axs.reshape(-1)\n",
    "\n",
    "acgs_norm = acgs/np.sum(acgs,axis=1,keepdims=True)\n",
    "\n",
    "for i,a in enumerate(acgs_norm):\n",
    "\n",
    "    axs[i].fill_between(t_bin,0,a)\n",
    "\n",
    "\n",
    "# from neuropy.core import Ratemap\n",
    "\n",
    "# rmap = Ratemap(acgs,np.arange(52),neuron_ids=np.arange(acgs.shape[0]))\n",
    "# plotting.plot_ratemap(rmap,normalize_tuning_curve=True,pad=2)\n",
    "\n",
    "# sns.catplot(data=data,x='time',y='frate',col='neuron',col_wrap=5,kind='bar')\n",
    "# sns.relplot(data=data,x='time',y='frate',col='neuron',col_wrap=5,kind='line')"
   ]
  },
  {
   "cell_type": "markdown",
   "metadata": {},
   "source": [
    "### Interneurons categorization based on ripple modulation\n",
    "- The method here is similar to Diba et.al. 2014.\n",
    "- Here the code that worked and shows some kmeans clustering to identify different categories.\n",
    "- NOTE: The main has now been ported to ripple_funcs.py in the current directory"
   ]
  },
  {
   "cell_type": "code",
   "execution_count": null,
   "metadata": {},
   "outputs": [],
   "source": [
    "import matplotlib.pyplot as plt\n",
    "import numpy as np\n",
    "from neuropy import plotting\n",
    "import pandas as pd\n",
    "from scipy import stats\n",
    "from neuropy.utils.ccg import correlograms\n",
    "import subjects\n",
    "\n",
    "sessions = (\n",
    "    subjects.sd.ratJday1\n",
    "    + subjects.sd.ratKday1\n",
    "    + subjects.sd.ratNday1\n",
    "    + subjects.sd.ratSday3\n",
    "    + subjects.sd.ratUday4\n",
    "    # + subjects.sd.ratVday2\n",
    "    # + subjects.nsd.ratJday2\n",
    "    + subjects.nsd.ratKday2\n",
    "    + subjects.nsd.ratNday2\n",
    "    + subjects.nsd.ratSday2\n",
    "    # + subjects.nsd.ratRday1\n",
    "    + subjects.nsd.ratUday2\n",
    "    # + subjects.nsd.ratVday1\n",
    ")\n"
   ]
  },
  {
   "cell_type": "code",
   "execution_count": null,
   "metadata": {},
   "outputs": [],
   "source": [
    "from sklearn.cluster import KMeans\n",
    "from ripple_funcs import ripple_modulation\n",
    "\n",
    "frate_around_rpl = []\n",
    "for sub, sess in enumerate(sessions):\n",
    "    neurons = sess.neurons.get_neuron_type(\"inter\")\n",
    "    n_neurons = len(neurons)\n",
    "    ripples = sess.ripple.to_dataframe()\n",
    "\n",
    "    start, peak, stop = sess.ripple.to_dataframe()[\n",
    "        [\"start\", \"peaktime\", \"stop\"]\n",
    "    ].values.T\n",
    "    modulation = ripple_modulation(neurons, start, peak, stop, n_bins=4)\n",
    "    frate_around_rpl.append(modulation)\n",
    "\n",
    "frate_around_rpl = np.vstack(frate_around_rpl)\n",
    "frate_norm = frate_around_rpl / np.sum(frate_around_rpl, axis=1, keepdims=True)\n",
    "kmeans = KMeans(n_clusters=2, random_state=0).fit(frate_norm)\n"
   ]
  },
  {
   "cell_type": "markdown",
   "metadata": {},
   "source": [
    "#### PCA projection of interneurons modulation"
   ]
  },
  {
   "cell_type": "code",
   "execution_count": null,
   "metadata": {},
   "outputs": [],
   "source": [
    "from sklearn.decomposition import PCA\n",
    "from neuropy import plotting\n",
    "\n",
    "pca = PCA(n_components=2)\n",
    "pca.fit(frate_norm)\n",
    "projected = pca.fit_transform(frate_norm)\n",
    "\n",
    "# figure = plotting.Fig()\n",
    "# fig,gs = figure.draw(grid=(1,2))\n",
    "# gs_ = figure.subplot2grid(gs[1],grid=(2,1))\n",
    "fig = plt.figure(figsize=(12, 5))\n",
    "subfigs = fig.subfigures(1, 2, wspace=0.7)\n",
    "ax_pca = subfigs[0].subplots(1, 1)\n",
    "ax_pca.set_xlabel(\"PC1\")\n",
    "ax_pca.set_ylabel(\"PC2\")\n",
    "\n",
    "hist_figs = subfigs[1].subfigures(2, 1)\n",
    "\n",
    "colors = [\"r\", \"k\"]\n",
    "for label in [0, 1]:\n",
    "    indices = kmeans.labels_ == label\n",
    "    ax_pca.scatter(projected[indices, 0], projected[indices, 1], c=colors[label])\n",
    "\n",
    "    ind_subset = np.random.choice(np.where(indices)[0], 8)\n",
    "    frate_subset = frate_norm[ind_subset]\n",
    "    ax_hists = hist_figs[label].subplots(2, 4, sharex=True, sharey=True).reshape(-1)\n",
    "    for i, f in enumerate(frate_subset):\n",
    "        ax_hists[i].stairs(f, np.arange(-8, 9), color=colors[label], fill=True)\n",
    "        ax_hists[i].set_xticks([-5, 0, 5])\n",
    "        ax_hists[i].set_xticklabels([-1, 0, 1])\n",
    "\n",
    "# fig.savefig(subjects.figpath_sd/'interneuron_ripple_classification.pdf')\n"
   ]
  },
  {
   "cell_type": "markdown",
   "metadata": {},
   "source": [
    "### Frate Inside/Outside ripples during SD and NSD"
   ]
  },
  {
   "cell_type": "code",
   "execution_count": 3,
   "metadata": {},
   "outputs": [],
   "source": [
    "sessions = subjects.mua_sess()"
   ]
  },
  {
   "cell_type": "code",
   "execution_count": 15,
   "metadata": {},
   "outputs": [
    {
     "name": "stdout",
     "output_type": "stream",
     "text": [
      "#Sessions: 15\n"
     ]
    },
    {
     "data": {
      "application/vnd.jupyter.widget-view+json": {
       "model_id": "7167fb9f16884a46bbd51765d19a2015",
       "version_major": 2,
       "version_minor": 0
      },
      "text/plain": [
       "  0%|          | 0/15 [00:00<?, ?it/s]"
      ]
     },
     "metadata": {},
     "output_type": "display_data"
    },
    {
     "name": "stdout",
     "output_type": "stream",
     "text": [
      "frate_in_ripple saved\n"
     ]
    }
   ],
   "source": [
    "print(f\"#Sessions: {len(sessions)}\")\n",
    "frate_df = []\n",
    "for sub, sess in enumerate(tqdm(sessions)):\n",
    "    pre = sess.paradigm[\"pre\"].flatten()\n",
    "    pre = [np.max([pre[0], pre[1] - 2.5 * 3600]), pre[1]]\n",
    "    maze = sess.paradigm[\"maze\"]\n",
    "    post = sess.paradigm[\"post\"].flatten()\n",
    "    neurons = sess.neurons_stable.get_neuron_type([\"pyr\", \"inter\"])\n",
    "    spktrns = neurons.spiketrains\n",
    "\n",
    "    # --- 5 minutes------\n",
    "    # post_starts = np.arange(post[0],post[0]+8*3600,300)\n",
    "    # zts = (post_starts - post[0])/3600\n",
    "    # post_stops = post_starts+300\n",
    "    # post_labels = [f'{a}' for a in zts]\n",
    "\n",
    "    # --- hourly ------\n",
    "    # post_starts = np.arange(9) * 3600 + post[0]\n",
    "    # post_labels = [f\"{_}-{_+1}\" for _ in range(len(post_starts))]\n",
    "\n",
    "    # ---- 2.5 hours\n",
    "    zts = np.array([0, 2.5, 5])\n",
    "    post_starts = zts * 3600 + post[0]\n",
    "    post_stops = post_starts + 2.5 * 3600\n",
    "    post_labels = [f\"{a}-{a+2.5}\" for a in zts]\n",
    "\n",
    "    # NOTE: subtracted 0.1 to keep the bins monotonically increasing\n",
    "    post_epochs = Epoch.from_array(post_starts, post_stops - 0.1, post_labels)\n",
    "    pre_epochs = Epoch.from_array([pre[0]],[pre[1]],'pre')\n",
    "\n",
    "    # all_epochs = pre + maze + post_epochs\n",
    "    all_epochs = pre_epochs + post_epochs\n",
    "\n",
    "    # --- in ripples --------\n",
    "    rpls = sess.ripple.time_slice(pre[0], post[0] + 8 * 3600)\n",
    "    n_spikes = np.asarray(\n",
    "        [np.histogram(spk, bins=rpls.flatten())[0] for spk in spktrns]\n",
    "    )\n",
    "    in_rpl_spikes = n_spikes[:, ::2]  # individual ripples\n",
    "\n",
    "    # summing individual ripples within epochs\n",
    "    in_rpl_spikes_epochs = stats.binned_statistic(\n",
    "        rpls.starts, in_rpl_spikes, bins=all_epochs.flatten(), statistic=\"sum\"\n",
    "    )[0][:, ::2]\n",
    "\n",
    "    n_rpls = np.histogram(rpls.starts, bins=all_epochs.flatten())[0][::2][np.newaxis, :]\n",
    "    total_rpl_duration_epochs = stats.binned_statistic(\n",
    "        rpls.starts, rpls.durations, bins=all_epochs.flatten(), statistic=\"sum\"\n",
    "    )[0][::2]\n",
    "\n",
    "    # NOTE: divide by n_rpls or divide by total duration ??\n",
    "    in_rpl_frate_epochs = (\n",
    "        in_rpl_spikes_epochs / total_rpl_duration_epochs[np.newaxis, :]\n",
    "    )\n",
    "    # relative to PRE\n",
    "    in_rpl_frate_epochs /= in_rpl_frate_epochs[:, 0, np.newaxis]\n",
    "\n",
    "    # --- out ripples --------\n",
    "    n_spikes_epochs = []\n",
    "    for ep in all_epochs.itertuples():\n",
    "        n_spikes_epochs.append(neurons.time_slice(ep.start, ep.stop).n_spikes)\n",
    "    n_spikes_epochs = np.array(n_spikes_epochs).T\n",
    "    out_rpl_spikes_epochs = n_spikes_epochs - in_rpl_spikes_epochs\n",
    "    out_rpl_duration_epochs = (\n",
    "        all_epochs.durations.astype(\"float\") - total_rpl_duration_epochs\n",
    "    )\n",
    "    out_rpl_frate_epochs = (\n",
    "        out_rpl_spikes_epochs / out_rpl_duration_epochs[np.newaxis, :]\n",
    "    )\n",
    "\n",
    "    # relative to PRE\n",
    "    out_rpl_frate_epochs /= out_rpl_frate_epochs[:, 0, np.newaxis]\n",
    "\n",
    "    # ----- Normalization ----------\n",
    "    in_rpl_zscore = stats.zscore(in_rpl_frate_epochs, axis=1)\n",
    "    out_rpl_zscore = stats.zscore(out_rpl_frate_epochs, axis=1)\n",
    "\n",
    "    # baseline = in_rpl[:, 0, np.newaxis]\n",
    "    # in_rpl = in_rpl - baseline\n",
    "    # in_rpl = (zt_spikes_in - baseline) / baseline\n",
    "    assert in_rpl_zscore.shape[0] == len(spktrns), \"booo\"\n",
    "    assert out_rpl_zscore.shape[0] == len(spktrns), \"booo hoo\"\n",
    "\n",
    "    in_rpl_df = pd.DataFrame(in_rpl_frate_epochs*100, columns=all_epochs.labels)\n",
    "    in_rpl_df[\"where\"] = \"inside\"\n",
    "    in_rpl_df[\"neuron_type\"] = neurons.neuron_type\n",
    "    in_rpl_df[\"grp\"] = sess.tag\n",
    "\n",
    "    out_rpl_df = pd.DataFrame(out_rpl_frate_epochs*100, columns=all_epochs.labels)\n",
    "    out_rpl_df[\"where\"] = \"outside\"\n",
    "    out_rpl_df[\"neuron_type\"] = neurons.neuron_type\n",
    "    out_rpl_df[\"grp\"] = sess.tag\n",
    "\n",
    "    frate_sub_df = pd.concat([in_rpl_df, out_rpl_df], axis=0, ignore_index=True)\n",
    "    frate_df.append(frate_sub_df)\n",
    "\n",
    "frate_df = pd.concat(frate_df, ignore_index=True)\n",
    "frate_df = pd.melt(\n",
    "    frate_df,\n",
    "    id_vars=[\"where\", \"neuron_type\", \"grp\"],\n",
    "    value_vars=all_epochs.labels,\n",
    "    var_name=\"zt\",\n",
    "    value_name=\"frate\",\n",
    "    ignore_index=True,\n",
    ")\n",
    "\n",
    "frate_df = frate_df[frate_df.zt!='pre'].reset_index(drop=True)\n",
    "subjects.GroupData().save(frate_df, \"frate_in_ripple\")\n"
   ]
  },
  {
   "cell_type": "code",
   "execution_count": 16,
   "metadata": {},
   "outputs": [
    {
     "data": {
      "application/vnd.jupyter.widget-view+json": {
       "model_id": "600b0c435ba149838a7ce3094fa383a5",
       "version_major": 2,
       "version_minor": 0
      },
      "image/png": "[encoded data removed]",
      "text/html": [
       "\n",
       "            <div style=\"display: inline-block;\">\n",
       "                <div class=\"jupyter-widgets widget-label\" style=\"text-align: center;\">\n",
       "                    Figure\n",
       "                </div>\n",
       "                <img src='data:image/png;base64,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' width=1079.875/>\n",
       "            </div>\n",
       "        "
      ],
      "text/plain": [
       "Canvas(toolbar=Toolbar(toolitems=[('Home', 'Reset original view', 'home', 'home'), ('Back', 'Back to previous …"
      ]
     },
     "metadata": {},
     "output_type": "display_data"
    }
   ],
   "source": [
    "import seaborn as sns\n",
    "\n",
    "g = sns.catplot(\n",
    "    data=frate_df,\n",
    "    x=\"zt\",\n",
    "    y=\"frate\",\n",
    "    hue=\"grp\",\n",
    "    col=\"where\",\n",
    "    row=\"neuron_type\",\n",
    "    kind=\"box\",\n",
    "    palette=[\"#69F0AE\", \"#FF80AB\"],\n",
    "    dodge=True,\n",
    "    showfliers=False,\n",
    "    # ci=95,\n",
    "    # capsize=0.1,\n",
    ")\n",
    "axes = g.axes[0]\n",
    "# [ax.set_yscale('log') for ax in axes]\n"
   ]
  },
  {
   "cell_type": "markdown",
   "metadata": {},
   "source": [
    "### Firing rate (scatter plot) within and outside ripples during SD and NSD"
   ]
  },
  {
   "cell_type": "code",
   "execution_count": null,
   "metadata": {},
   "outputs": [],
   "source": [
    "%matplotlib widget\n",
    "import matplotlib.pyplot as plt\n",
    "import numpy as np\n",
    "from neuropy import plotting\n",
    "import pandas as pd\n",
    "from scipy import stats\n",
    "import subjects\n",
    "\n",
    "sessions = (\n",
    "    subjects.sd.ratNday1\n",
    "    + subjects.sd.ratSday3\n",
    "    + subjects.sd.ratUday4\n",
    "    + subjects.sd.ratVday2\n",
    "    + subjects.sd.ratRday2\n",
    "\n",
    "    + subjects.nsd.ratNday2\n",
    "    + subjects.nsd.ratSday2\n",
    "    + subjects.nsd.ratUday2\n",
    "    + subjects.nsd.ratVday1\n",
    ")"
   ]
  },
  {
   "cell_type": "code",
   "execution_count": null,
   "metadata": {},
   "outputs": [],
   "source": [
    "from neuropy.core import Epoch\n",
    "from neuropy.utils.mathutil import min_max_scaler\n",
    "\n",
    "in_rpl,out_rpl,time =[],[],[]\n",
    "for sub, sess in enumerate(sessions):\n",
    "    post = sess.paradigm[\"post\"].flatten()\n",
    "    neurons = sess.neurons.get_neuron_type(\"pyr\")\n",
    "    spktrns = neurons.spiketrains\n",
    "    starts = np.arange(9) * 3600 + post[0]\n",
    "\n",
    "    rpls = sess.ripple.time_slice(post[0],post[0]+9*3600).flatten()\n",
    "\n",
    "    n_spikes = np.asarray([np.histogram(spk,bins=rpls)[0] for spk in spktrns])\n",
    "    in_rpl.append(n_spikes[:,::2])\n",
    "    out_rpl.append(n_spikes[:,1::2])\n",
    "    time.append(rpls[::2]-post[0])\n",
    "\n",
    "\n",
    "# frate_df = pd.melt(\n",
    "#     frate_df,\n",
    "#     id_vars=[\"rpl\", \"grp\"],\n",
    "#     value_vars=np.arange(1,9),\n",
    "#     var_name=\"Zt time\",\n",
    "#     value_name=\"frate\",\n",
    "#     ignore_index=True,\n",
    "# )\n"
   ]
  },
  {
   "cell_type": "code",
   "execution_count": null,
   "metadata": {},
   "outputs": [],
   "source": [
    "%matplotlib widget\n",
    "import seaborn as sns\n",
    "\n",
    "data = stats.zscore(in_rpl[0],axis=1)\n",
    "for i in range(97):\n",
    "    plt.plot(time[0],data[i],'k.')"
   ]
  },
  {
   "cell_type": "markdown",
   "metadata": {},
   "source": [
    "### PSTH around start of ripples during sleep deprivation"
   ]
  },
  {
   "cell_type": "code",
   "execution_count": null,
   "metadata": {},
   "outputs": [],
   "source": [
    "import matplotlib.pyplot as plt\n",
    "import numpy as np\n",
    "from neuropy import plotting\n",
    "import pandas as pd\n",
    "from scipy import stats\n",
    "import subjects\n",
    "\n",
    "sessions = (\n",
    "    subjects.sd.ratNday1\n",
    "    + subjects.sd.ratSday3\n",
    "    + subjects.sd.ratUday4\n",
    "\n",
    "    +subjects.nsd.ratNday2\n",
    "    + subjects.nsd.ratSday2\n",
    "    + subjects.nsd.ratUday2\n",
    ")"
   ]
  },
  {
   "cell_type": "code",
   "execution_count": null,
   "metadata": {},
   "outputs": [],
   "source": [
    "from neuropy.core import Epoch\n",
    "\n",
    "frate_around_rpl,grp_info = [],[]\n",
    "for sub, sess in enumerate(sessions):\n",
    "    post = sess.paradigm[\"post\"].flatten()\n",
    "    neurons = sess.neurons.get_neuron_type(\"pyr\")\n",
    "    grp_info.extend([sess.tag] * len(neurons))\n",
    "\n",
    "    get_modulation = lambda e: neurons.get_modulation_in_epochs(e, 2)\n",
    "\n",
    "    hour_modulation = []\n",
    "    for t in [post[0], post[0] + 4 * 3600]:\n",
    "        ripples = sess.ripple.time_slice(t, t + 3600)\n",
    "        start, peak = ripples.to_dataframe()[[\"start\", \"peak_time\"]].values.T\n",
    "        start_peak_dur = peak - start\n",
    "        epochs = Epoch.from_array(start - start_peak_dur, start + start_peak_dur)\n",
    "\n",
    "        modulation = []\n",
    "        for s in range(3):\n",
    "            epoch_slices = epochs[s::3]  # [_[s::3] for _ in (pre_start, start_peak)]\n",
    "            modulation.append(get_modulation(epoch_slices))\n",
    "        hour_modulation.append(np.dstack(modulation).sum(axis=2)/ripples.durations.sum())\n",
    "\n",
    "    frate_around_rpl.append(np.hstack(hour_modulation))\n",
    "\n",
    "frate_around_rpl = np.vstack(frate_around_rpl)\n",
    "# frate_norm = frate_around_rpl / np.sum(frate_around_rpl, axis=1, keepdims=True)\n",
    "frate_norm = stats.zscore(frate_around_rpl, axis=1)\n",
    "\n",
    "# bins = np.arange(-8, 9)\n",
    "frate_rpl_df = pd.DataFrame(\n",
    "    frate_around_rpl, columns=[\"pre_1h\", \"post_1h\", \"pre_5h\", \"post_5h\"]\n",
    ")\n",
    "frate_rpl_df[\"grp\"] = grp_info\n",
    "\n",
    "# frate_session_df = pd.melt(\n",
    "#     frate_session_df,\n",
    "#     id_vars=[\"grp\", \"label\"],\n",
    "#     value_vars=time_bin,\n",
    "#     var_name=[\"time\"],\n",
    "#     value_name=\"frate\",\n",
    "#     ignore_index=True,\n",
    "# )\n"
   ]
  },
  {
   "cell_type": "code",
   "execution_count": null,
   "metadata": {},
   "outputs": [],
   "source": [
    "import seaborn as sns\n",
    "\n",
    "fig= plotting.Fig(grid=(2,2))\n",
    "\n",
    "for i,grp in enumerate(['SD','NSD']):\n",
    "    df = frate_rpl_df[frate_rpl_df['grp']==grp]\n",
    "\n",
    "    ax_pre = plt.subplot(fig.gs[i,0])\n",
    "    sns.scatterplot(data=df ,x='pre_1h',y='pre_5h',ax=ax_pre)\n",
    "    ax_pre.set_xscale('log')\n",
    "    ax_pre.set_yscale('log')\n",
    "    ax_pre.axline((0,0),(1,1))\n",
    "\n",
    "\n",
    "    ax_post = plt.subplot(fig.gs[i,1])\n",
    "    sns.scatterplot(data=df ,x='post_1h',y='post_5h',ax=ax_post)\n",
    "    ax_post.set_xscale('log')\n",
    "    ax_post.set_yscale('log')\n",
    "    ax_post.axline((0,0),(1,1))\n"
   ]
  },
  {
   "cell_type": "markdown",
   "metadata": {},
   "source": [
    "### Percentage of Cells firing during ripples"
   ]
  },
  {
   "cell_type": "code",
   "execution_count": null,
   "metadata": {},
   "outputs": [],
   "source": [
    "import matplotlib.pyplot as plt\n",
    "import numpy as np\n",
    "from neuropy import plotting\n",
    "import pandas as pd\n",
    "from scipy import stats\n",
    "import subjects\n",
    "\n",
    "sessions = (\n",
    "    subjects.sd.ratNday1\n",
    "    + subjects.sd.ratSday3\n",
    "    + subjects.sd.ratUday4\n",
    "\n",
    "    + subjects.nsd.ratNday2\n",
    "    + subjects.nsd.ratSday2\n",
    "    + subjects.nsd.ratUday2\n",
    ")"
   ]
  },
  {
   "cell_type": "code",
   "execution_count": null,
   "metadata": {},
   "outputs": [],
   "source": [
    "for sub,sess in enumerate(sessions):\n",
    "    post = sess.paradigm['post'].flatten()\n",
    "    neurons = sess.neurons.get_neuron_type('pyr')\n",
    "    rpls = sess.ripple.time_slice(post[0],post[0]+3600)\n",
    "    modulation = neurons.get_modulation_in_epochs(rpls,n_bins=1).reshape(-1)\n",
    "    firing_cells = np.where(modulation>0)[0]\n",
    "    perc = len(firing_cells)/len(modulation)\n",
    "    print(perc)"
   ]
  },
  {
   "cell_type": "markdown",
   "metadata": {},
   "source": [
    "### Neurons/MUA acg/ccg during ripples compared early to late of POST for SD and NSD\n",
    "- I observed change in ripple frequency from early to late sleep. One possibility could be change in synchrony from early to late sleep. For example, in early sleep, neurons are firing in sequences during ripples but later most neurons cofire at same time at a little longer time lag. So here I am plotting acg/ccg or similar measure for change in spiketimes synchrony.\n",
    "- Didn't find anything interesting in pyramidal neurons but for interneurons if CCGs are sorted by their peak time then Zt2 is more similar to Zt1 compared to Zt5. Probably this is expected"
   ]
  },
  {
   "cell_type": "code",
   "execution_count": null,
   "metadata": {},
   "outputs": [],
   "source": [
    "import matplotlib.pyplot as plt\n",
    "import numpy as np\n",
    "from scipy import stats\n",
    "import subjects\n",
    "sessions = subjects.nsd.ratNday2+ subjects.nsd.ratSday2+subjects.nsd.ratUday2"
   ]
  },
  {
   "cell_type": "code",
   "execution_count": null,
   "metadata": {},
   "outputs": [],
   "source": [
    "from neuropy.utils.ccg import correlograms\n",
    "\n",
    "acg_zt1_all = []\n",
    "acg_zt5_all = []\n",
    "for sub, sess in enumerate(sessions):\n",
    "    post = sess.paradigm[\"post\"].flatten()\n",
    "    neurons = sess.neurons.get_neuron_type(\"inter\")\n",
    "\n",
    "    acg_zt = []\n",
    "    firing_neurons = []\n",
    "    for t in [post[0],post[0]+4*3600]:\n",
    "        neurons_t = neurons.time_slice(t, t + 3600)\n",
    "        n_id = neurons.neuron_ids\n",
    "        spks = np.concatenate(neurons_t.spiketrains)\n",
    "        spks_id = np.concatenate(\n",
    "            [i * np.ones_like(_) for i, _ in zip(n_id, neurons_t.spiketrains)]\n",
    "        ).astype(\"int\")\n",
    "        rpl_t = sess.ripple.time_slice(t, t + 3600).flatten()\n",
    "        spk_bin_ind = np.digitize(spks, rpl_t)\n",
    "        rpl_indx = spk_bin_ind % 2 == 1\n",
    "        spks_in_rpl = spks[rpl_indx]\n",
    "        spks_in_rpl_id = spks_id[rpl_indx]\n",
    "        sort_ind = np.argsort(spks_in_rpl)\n",
    "        acg = correlograms(\n",
    "            spks_in_rpl[sort_ind],\n",
    "            spks_in_rpl_id[sort_ind],\n",
    "            sample_rate=30000,\n",
    "            bin_size=0.001,\n",
    "            window_size=0.3,\n",
    "        )\n",
    "        firing_neurons.append(np.unique(spks_in_rpl_id))\n",
    "        acg_zt.append(acg)\n",
    "    _, this, that = np.intersect1d(\n",
    "        firing_neurons[0], firing_neurons[1], assume_unique=True, return_indices=True\n",
    "    )\n",
    "\n",
    "    pairs = np.tril_indices(len(this),k=-1)\n",
    "    acg_zt = [\n",
    "        acg_zt[i][np.ix_(ind, ind, np.arange(301))]\n",
    "        for i, ind in enumerate([this, that])\n",
    "    ]\n",
    "\n",
    "    acg_zt = [stats.zscore(_[pairs[0], pairs[1], :],axis=1) for _ in acg_zt]\n",
    "    nan_indices = np.bitwise_or(*[np.isnan(np.sum(_,axis=1)) for _ in acg_zt])\n",
    "\n",
    "    acg_zt = [_[~nan_indices,:] for _ in acg_zt]\n",
    "    acg_zt1_all.append(acg_zt[0])\n",
    "    acg_zt5_all.append(acg_zt[1])\n",
    "\n",
    "acg_zt1_all = np.vstack(acg_zt1_all)\n",
    "acg_zt5_all = np.vstack(acg_zt5_all)\n",
    "\n",
    "sort_ind = np.argsort(np.argmax(acg_zt1_all,axis=1))"
   ]
  },
  {
   "cell_type": "code",
   "execution_count": null,
   "metadata": {},
   "outputs": [],
   "source": [
    "%matplotlib widget\n",
    "fig,ax = plt.subplots(1,2)\n",
    "for i,c in enumerate([acg_zt1_all,acg_zt5_all]):\n",
    "    ax[i].pcolormesh(c[sort_ind,:])"
   ]
  },
  {
   "cell_type": "markdown",
   "metadata": {},
   "source": [
    "### Spike triggered raster plot w.r.t ripples during sleep deprivation for individual neurons"
   ]
  },
  {
   "cell_type": "code",
   "execution_count": null,
   "metadata": {},
   "outputs": [],
   "source": [
    "import numpy as np\n",
    "import matplotlib.pyplot as plt\n",
    "import subjects\n",
    "\n",
    "sessions = subjects.sd.ratSday3"
   ]
  },
  {
   "cell_type": "code",
   "execution_count": null,
   "metadata": {},
   "outputs": [],
   "source": [
    "for sub,sess in enumerate(sessions):\n",
    "    sd = sess.paradigm['sd']\n",
    "    rpls = sess.ripple.time_slice(sd[0],sd[1])\n",
    "    "
   ]
  },
  {
   "cell_type": "markdown",
   "metadata": {},
   "source": [
    "### Within ripple pairwise correlation comaparison between MAZE vs POST for SD and RS sessions "
   ]
  },
  {
   "cell_type": "code",
   "execution_count": null,
   "metadata": {},
   "outputs": [],
   "source": [
    "import matplotlib.pyplot as plt\n",
    "import numpy as np\n",
    "from neuropy import plotting\n",
    "import pandas as pd\n",
    "from scipy import stats\n",
    "import subjects\n",
    "\n",
    "sessions = subjects.sd.pf_sess + subjects.nsd.pf_sess"
   ]
  },
  {
   "cell_type": "code",
   "execution_count": null,
   "metadata": {},
   "outputs": [],
   "source": [
    "import pingouin as pg\n",
    "pcorr_df = []\n",
    "for sub, sess in enumerate(sessions):\n",
    "    pre = sess.paradigm[\"pre\"].flatten()\n",
    "    maze = sess.paradigm[\"maze\"].flatten()\n",
    "    post = sess.paradigm[\"post\"].flatten()\n",
    "    zt5 = [post[0], post[0] + 5 * 3600]\n",
    "\n",
    "    rpls_pre = sess.ripple.time_slice(*pre)\n",
    "    rpls_maze = sess.ripple.time_slice(*maze)\n",
    "    rpls_zt5 = sess.ripple.time_slice(*zt5)\n",
    "\n",
    "    neurons = sess.neurons.get_neuron_type(\"pyr\")\n",
    "\n",
    "    indices = np.tril_indices(len(neurons), k=-1)\n",
    "    pcorr = lambda e: np.corrcoef(np.hstack(neurons.get_spikes_in_epochs(e)[0]))[\n",
    "        indices\n",
    "    ]\n",
    "    residual= lambda x,y: pg.linear_regression(x,y,remove_na=True).residuals_\n",
    "\n",
    "    df = pd.DataFrame(\n",
    "        dict(\n",
    "            pre=pcorr(rpls_pre),\n",
    "            maze=pcorr(rpls_maze),\n",
    "            zt5=pcorr(rpls_zt5),\n",
    "            grp=sess.tag,\n",
    "        )\n",
    "    )\n",
    "    df.dropna(inplace=True)\n",
    "\n",
    "    df['maze_residuals'] = residual(df['pre'],df['maze'])\n",
    "    df['zt5_residuals'] = residual(df['pre'],df['zt5'])\n",
    "    pcorr_df.append(df)\n",
    "\n",
    "pcorr_df = pd.concat(pcorr_df, ignore_index=True)\n"
   ]
  },
  {
   "cell_type": "code",
   "execution_count": null,
   "metadata": {},
   "outputs": [],
   "source": [
    "mat = pcorr_df[pcorr_df['grp']=='sd']\n",
    "pg.partial_corr(mat,x='maze',y='zt5',covar='pre')"
   ]
  },
  {
   "cell_type": "code",
   "execution_count": null,
   "metadata": {},
   "outputs": [],
   "source": [
    "mat = pcorr_df[pcorr_df['grp']=='nsd']\n",
    "pg.partial_corr(mat,x='maze',y='zt5',covar='pre')"
   ]
  },
  {
   "cell_type": "code",
   "execution_count": null,
   "metadata": {},
   "outputs": [],
   "source": [
    "%matplotlib widget\n",
    "import seaborn as sns\n",
    "\n",
    "sns.lmplot(data=pcorr_df,x='maze_residuals',y='zt5_residuals',col='grp',kind='hex')"
   ]
  },
  {
   "cell_type": "markdown",
   "metadata": {},
   "source": [
    "### Neurons firing relative to ripples conserved during POST, SD vs NSD"
   ]
  },
  {
   "cell_type": "code",
   "execution_count": null,
   "metadata": {},
   "outputs": [],
   "source": [
    "sessions = subjects.nsd.pf_sess"
   ]
  },
  {
   "cell_type": "code",
   "execution_count": null,
   "metadata": {},
   "outputs": [],
   "source": [
    "from neuropy.core import Epoch\n",
    "from scipy.ndimage import gaussian_filter1d\n",
    "\n",
    "smooth = lambda arr: gaussian_filter1d(arr,2,axis=1)\n",
    "maze_modulation, post_modulation = [], []\n",
    "for sub, sess in enumerate(sessions):\n",
    "    maze = sess.paradigm[\"maze\"].flatten()\n",
    "    post = sess.paradigm[\"post\"].flatten()\n",
    "    neurons = sess.neurons_stable.get_neuron_type(\"inter\")\n",
    "    grp_info.extend([sess.tag] * len(neurons))\n",
    "\n",
    "    maze_rpls = sess.ripple.time_slice(*maze)\n",
    "    post_rpls = sess.ripple.time_slice(post[0]+0*3600, post[0] + 5*3600)\n",
    "\n",
    "    def modulation_(epochs: Epoch):\n",
    "        get_modulation = lambda e: neurons.get_modulation_in_epochs(e, 60)\n",
    "        epochs = Epoch.from_array(epochs.starts - 0.05, epochs.starts + 0.100)\n",
    "\n",
    "        modulation = []\n",
    "        for s in range(3):\n",
    "            epoch_slices = epochs[s::3]  # [_[s::3] for _ in (pre_start, start_peak)]\n",
    "            modulation.append(get_modulation(epoch_slices))\n",
    "        return np.dstack(modulation).sum(axis=2)\n",
    "\n",
    "    maze_modulation.append(modulation_(maze_rpls))\n",
    "    post_modulation.append(modulation_(post_rpls))\n",
    "\n",
    "maze_modulation = smooth(stats.zscore(np.vstack(maze_modulation), axis=1))\n",
    "post_modulation = smooth(stats.zscore(np.vstack(post_modulation), axis=1))\n"
   ]
  },
  {
   "cell_type": "code",
   "execution_count": null,
   "metadata": {},
   "outputs": [],
   "source": [
    "plt.clf()\n",
    "_,axs = plt.subplots(1,2,sharey=True)\n",
    "\n",
    "sort_ind = np.argsort(np.argmax(maze_modulation,axis=1))\n",
    "\n",
    "for i,m in enumerate([maze_modulation,post_modulation]):\n",
    "    axs[i].pcolormesh(m[sort_ind,:],cmap='jet')\n"
   ]
  },
  {
   "cell_type": "markdown",
   "metadata": {},
   "source": [
    "## REMAZE"
   ]
  },
  {
   "cell_type": "markdown",
   "metadata": {},
   "source": [
    "### Neurons firing relative to ripples conserved during remaze, SD vs NSD"
   ]
  },
  {
   "cell_type": "code",
   "execution_count": null,
   "metadata": {},
   "outputs": [],
   "source": [
    "sessions = subjects.remaze_sess()"
   ]
  },
  {
   "cell_type": "code",
   "execution_count": null,
   "metadata": {},
   "outputs": [],
   "source": [
    "from neuropy.core import Epoch\n",
    "from scipy.ndimage import gaussian_filter1d\n",
    "\n",
    "smooth = lambda arr: gaussian_filter1d(arr,2,axis=1)\n",
    "\n",
    "grp_modulation =  dict(SD=dict(maze=[],remaze=[]),NSD=dict(maze=[],remaze=[]))\n",
    "for sub, sess in enumerate(sessions):\n",
    "    maze = sess.paradigm[\"maze\"].flatten()\n",
    "    remaze = sess.paradigm[\"re-maze\"].flatten()\n",
    "    neurons = sess.neurons_stable.get_neuron_type(\"inter\")\n",
    "\n",
    "    maze_rpls = sess.ripple.time_slice(*maze)\n",
    "    remaze_rpls = sess.ripple.time_slice(*remaze)\n",
    "\n",
    "    def modulation_(epochs: Epoch):\n",
    "        get_modulation = lambda e: neurons.get_modulation_in_epochs(e, 60)\n",
    "        epochs = Epoch.from_array(epochs.starts - 0.05, epochs.starts + 0.100)\n",
    "\n",
    "        modulation = []\n",
    "        for s in range(3):\n",
    "            epoch_slices = epochs[s::3]  # [_[s::3] for _ in (pre_start, start_peak)]\n",
    "            modulation.append(get_modulation(epoch_slices))\n",
    "        return np.dstack(modulation).sum(axis=2)\n",
    "\n",
    "    grp_modulation[sess.tag]['maze'].append(modulation_(maze_rpls))\n",
    "    grp_modulation[sess.tag]['remaze'].append(modulation_(remaze_rpls))"
   ]
  },
  {
   "cell_type": "code",
   "execution_count": null,
   "metadata": {},
   "outputs": [],
   "source": [
    "from neuropy.utils.mathutil import min_max_scaler\n",
    "\n",
    "fig = plotting.Fig(grid=(8, 7))\n",
    "# _,axs = plt.subplots(2,2,sharey='row',sharex=True)\n",
    "\n",
    "norm_smth = lambda g, s: smooth(stats.zscore(np.vstack(grp_modulation[g][s]), axis=1))\n",
    "t = np.linspace(-50, 100, 60)\n",
    "sort_where = t > 0\n",
    "\n",
    "for i, grp in enumerate([\"NSD\", \"SD\"]):\n",
    "\n",
    "    maze_modulation = norm_smth(grp, \"maze\")\n",
    "    maze_peak = np.argmax(maze_modulation[:, sort_where], axis=1)\n",
    "    remaze_modulation = norm_smth(grp, \"remaze\")\n",
    "    remaze_peak = np.argmax(remaze_modulation[:, sort_where], axis=1)\n",
    "\n",
    "    corr = stats.spearmanr(maze_peak, remaze_peak)\n",
    "    print(corr)\n",
    "\n",
    "    sort_ind = np.argsort(maze_peak)\n",
    "\n",
    "    y = np.arange(maze_modulation.shape[0])\n",
    "    for i1, m in enumerate([maze_modulation, remaze_modulation]):\n",
    "        ax = fig.subplot(fig.gs[i, i1])\n",
    "        pcm = ax.pcolormesh(\n",
    "            t, y, m[sort_ind, :], cmap=\"jet\", vmin=-0.5, vmax=1.5, rasterized=True\n",
    "        )\n",
    "        ax.axvline(0, ls=\"--\", color=\"w\")\n",
    "        ax.set_xlabel(\"Time (ms)\")\n",
    "        ax.set_title(grp)\n",
    "\n",
    "cax = fig.fig.add_axes([0.5, 0.75, 0.01, 0.1])\n",
    "fig.fig.colorbar(pcm, cax=cax, shrink=0.6)\n",
    "\n",
    "# fig.savefig(subjects.figpath_sd / \"pyr_relative_swr_onset\")"
   ]
  }
 ],
 "metadata": {
  "interpreter": {
   "hash": "cce1618081139d19eb1ee8d40815d94a2de4f62e1efb20d9406ddb60628c36ae"
  },
  "kernelspec": {
   "display_name": "Python 3.10.2 ('data_analysis')",
   "language": "python",
   "name": "python3"
  },
  "language_info": {
   "codemirror_mode": {
    "name": "ipython",
    "version": 3
   },
   "file_extension": ".py",
   "mimetype": "text/x-python",
   "name": "python",
   "nbconvert_exporter": "python",
   "pygments_lexer": "ipython3",
   "version": "3.10.4"
  },
  "orig_nbformat": 4
 },
 "nbformat": 4,
 "nbformat_minor": 2
}
