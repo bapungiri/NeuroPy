{
 "cells": [
  {
   "cell_type": "markdown",
   "metadata": {},
   "source": [
    "### Imports"
   ]
  },
  {
   "cell_type": "code",
   "execution_count": null,
   "metadata": {},
   "outputs": [],
   "source": [
    "import matplotlib.pyplot as plt\n",
    "import numpy as np\n",
    "from neuropy import plotting\n",
    "import pandas as pd\n",
    "from scipy import stats\n",
    "from neuropy.utils.ccg import correlograms\n",
    "import subjects\n",
    "\n",
    "sessions = (\n",
    "    subjects.sd.ratNday1\n",
    "    + subjects.sd.ratSday3\n",
    "    + subjects.sd.ratUday4\n",
    "    # + subjects.sd.ratVday2\n",
    "    # + subjects.nsd.ratJday2\n",
    "    # + subjects.nsd.ratKday2\n",
    "    + subjects.nsd.ratNday2\n",
    "    + subjects.nsd.ratSday2\n",
    "    # + subjects.nsd.ratRday1\n",
    "    + subjects.nsd.ratUday2\n",
    "    # + subjects.nsd.ratVday1\n",
    ")\n"
   ]
  },
  {
   "cell_type": "markdown",
   "metadata": {},
   "source": [
    "### Interneuron categorization based on firing rate around ripples start\n",
    "- using CCG algorithm"
   ]
  },
  {
   "cell_type": "code",
   "execution_count": null,
   "metadata": {},
   "outputs": [],
   "source": [
    "acgs = []\n",
    "bin_size = 0.01\n",
    "window_size = 0.2\n",
    "n_bins = int(window_size // bin_size)\n",
    "for sub, sess in enumerate(sessions):\n",
    "    ripple = sess.ripple.to_dataframe().peaktime.values\n",
    "    neurons = sess.neurons.get_neuron_type(\"inter\")\n",
    "    for s in neurons.spiketrains:\n",
    "        combined_s = np.concatenate((s, ripple))\n",
    "        combined_id = np.concatenate(\n",
    "            (np.ones(len(s)), 2 * np.ones(len(ripple)))\n",
    "        ).astype(\"int\")\n",
    "        sort_ind = np.argsort(combined_s)\n",
    "        acg = correlograms(\n",
    "            combined_s[sort_ind],\n",
    "            combined_id[sort_ind],\n",
    "            sample_rate=30000,\n",
    "            bin_size=bin_size,\n",
    "            window_size=window_size,\n",
    "        )\n",
    "        acgs.append(acg[0, 1, :])\n",
    "\n",
    "acgs = np.asarray(acgs)\n",
    "t_bin = np.linspace(-n_bins // 2, n_bins // 2, acgs.shape[1])\n",
    "data = pd.DataFrame(stats.zscore(acgs, axis=1), columns=t_bin)\n",
    "data[\"neuron\"] = np.arange(acgs.shape[0])\n",
    "data = pd.melt(\n",
    "    data,\n",
    "    id_vars=[\"neuron\"],\n",
    "    value_vars=t_bin,\n",
    "    var_name=[\"time\"],\n",
    "    value_name=\"frate\",\n",
    "    ignore_index=True,\n",
    ")"
   ]
  },
  {
   "cell_type": "code",
   "execution_count": null,
   "metadata": {},
   "outputs": [],
   "source": [
    "%matplotlib widget\n",
    "import seaborn as sns\n",
    "\n",
    "_,axs = plt.subplots(10,9,sharex=True,sharey=True)\n",
    "axs = axs.reshape(-1)\n",
    "\n",
    "acgs_norm = acgs/np.sum(acgs,axis=1,keepdims=True)\n",
    "\n",
    "for i,a in enumerate(acgs_norm):\n",
    "\n",
    "    axs[i].fill_between(t_bin,0,a)\n",
    "\n",
    "\n",
    "# from neuropy.core import Ratemap\n",
    "\n",
    "# rmap = Ratemap(acgs,np.arange(52),neuron_ids=np.arange(acgs.shape[0]))\n",
    "# plotting.plot_ratemap(rmap,normalize_tuning_curve=True,pad=2)\n",
    "\n",
    "# sns.catplot(data=data,x='time',y='frate',col='neuron',col_wrap=5,kind='bar')\n",
    "# sns.relplot(data=data,x='time',y='frate',col='neuron',col_wrap=5,kind='line')"
   ]
  },
  {
   "cell_type": "markdown",
   "metadata": {},
   "source": [
    "### Interneurons categorization based on ripple modulation\n",
    "- The method here is similar to Diba et.al. 2014.\n",
    "- Here the code that worked and shows some kmeans clustering to identify different categories.\n",
    "- NOTE: The main has now been ported to ripple_funcs.py in the current directory"
   ]
  },
  {
   "cell_type": "code",
   "execution_count": null,
   "metadata": {},
   "outputs": [],
   "source": [
    "import matplotlib.pyplot as plt\n",
    "import numpy as np\n",
    "from neuropy import plotting\n",
    "import pandas as pd\n",
    "from scipy import stats\n",
    "from neuropy.utils.ccg import correlograms\n",
    "import subjects\n",
    "\n",
    "sessions = (\n",
    "    subjects.sd.ratJday1\n",
    "    + subjects.sd.ratKday1\n",
    "    + subjects.sd.ratNday1\n",
    "    + subjects.sd.ratSday3\n",
    "    + subjects.sd.ratUday4\n",
    "    # + subjects.sd.ratVday2\n",
    "    # + subjects.nsd.ratJday2\n",
    "    + subjects.nsd.ratKday2\n",
    "    + subjects.nsd.ratNday2\n",
    "    + subjects.nsd.ratSday2\n",
    "    # + subjects.nsd.ratRday1\n",
    "    + subjects.nsd.ratUday2\n",
    "    # + subjects.nsd.ratVday1\n",
    ")\n"
   ]
  },
  {
   "cell_type": "code",
   "execution_count": null,
   "metadata": {},
   "outputs": [],
   "source": [
    "from sklearn.cluster import KMeans\n",
    "from ripple_funcs import ripple_modulation\n",
    "\n",
    "frate_around_rpl = []\n",
    "for sub, sess in enumerate(sessions):\n",
    "    neurons = sess.neurons.get_neuron_type(\"inter\")\n",
    "    n_neurons = len(neurons)\n",
    "    ripples = sess.ripple.to_dataframe()\n",
    "\n",
    "    start, peak, stop = sess.ripple.to_dataframe()[\n",
    "        [\"start\", \"peaktime\", \"stop\"]\n",
    "    ].values.T\n",
    "    modulation = ripple_modulation(neurons, start, peak, stop, n_bins=4)\n",
    "    frate_around_rpl.append(modulation)\n",
    "\n",
    "frate_around_rpl = np.vstack(frate_around_rpl)\n",
    "frate_norm = frate_around_rpl / np.sum(frate_around_rpl, axis=1, keepdims=True)\n",
    "kmeans = KMeans(n_clusters=2, random_state=0).fit(frate_norm)\n"
   ]
  },
  {
   "cell_type": "markdown",
   "metadata": {},
   "source": [
    "#### PCA projection of interneurons modulation"
   ]
  },
  {
   "cell_type": "code",
   "execution_count": null,
   "metadata": {},
   "outputs": [],
   "source": [
    "%matplotlib inline\n",
    "from sklearn.decomposition import PCA\n",
    "from neuropy import plotting\n",
    "\n",
    "pca = PCA(n_components=2)\n",
    "pca.fit(frate_norm)\n",
    "projected = pca.fit_transform(frate_norm)\n",
    "\n",
    "# figure = plotting.Fig()\n",
    "# fig,gs = figure.draw(grid=(1,2))\n",
    "# gs_ = figure.subplot2grid(gs[1],grid=(2,1))\n",
    "fig = plt.figure(figsize=(12, 5))\n",
    "subfigs = fig.subfigures(1, 2, wspace=0.7)\n",
    "ax_pca = subfigs[0].subplots(1, 1)\n",
    "ax_pca.set_xlabel(\"PC1\")\n",
    "ax_pca.set_ylabel(\"PC2\")\n",
    "\n",
    "hist_figs = subfigs[1].subfigures(2, 1)\n",
    "\n",
    "colors = [\"r\", \"k\"]\n",
    "for label in [0, 1]:\n",
    "    indices = kmeans.labels_ == label\n",
    "    ax_pca.scatter(projected[indices, 0], projected[indices, 1], c=colors[label])\n",
    "\n",
    "    ind_subset = np.random.choice(np.where(indices)[0], 8)\n",
    "    frate_subset = frate_norm[ind_subset]\n",
    "    ax_hists = hist_figs[label].subplots(2, 4, sharex=True, sharey=True).reshape(-1)\n",
    "    for i, f in enumerate(frate_subset):\n",
    "        ax_hists[i].stairs(f, np.arange(-8, 9), color=colors[label], fill=True)\n",
    "        ax_hists[i].set_xticks([-5, 0, 5])\n",
    "        ax_hists[i].set_xticklabels([-1, 0, 1])\n",
    "\n",
    "# fig.savefig(subjects.figpath_sd/'interneuron_ripple_classification.pdf')\n"
   ]
  },
  {
   "cell_type": "markdown",
   "metadata": {},
   "source": [
    "### Firing rate within and outside ripples during SD and NSD"
   ]
  },
  {
   "cell_type": "code",
   "execution_count": 1,
   "metadata": {},
   "outputs": [],
   "source": [
    "import matplotlib.pyplot as plt\n",
    "import numpy as np\n",
    "from neuropy import plotting\n",
    "import pandas as pd\n",
    "from scipy import stats\n",
    "import subjects\n",
    "\n",
    "sessions = (\n",
    "    subjects.sd.ratNday1\n",
    "    + subjects.sd.ratSday3\n",
    "    + subjects.sd.ratUday4\n",
    "    + subjects.sd.ratVday2\n",
    "    + subjects.sd.ratRday2\n",
    "\n",
    "    + subjects.nsd.ratNday2\n",
    "    + subjects.nsd.ratSday2\n",
    "    + subjects.nsd.ratUday2\n",
    "    + subjects.nsd.ratVday1\n",
    ")"
   ]
  },
  {
   "cell_type": "code",
   "execution_count": 2,
   "metadata": {},
   "outputs": [
    {
     "data": {
      "application/vnd.jupyter.widget-view+json": {
       "model_id": "35067fd9bbd341b295d2a1975b188801",
       "version_major": 2,
       "version_minor": 0
      },
      "text/plain": [
       "  0%|          | 0/9 [00:00<?, ?it/s]"
      ]
     },
     "metadata": {},
     "output_type": "display_data"
    },
    {
     "name": "stdout",
     "output_type": "stream",
     "text": [
      "frate_in_ripple saved\n"
     ]
    }
   ],
   "source": [
    "from tqdm.notebook import tqdm\n",
    "from neuropy.core import Epoch\n",
    "\n",
    "frate_df = []\n",
    "for sub, sess in enumerate(tqdm(sessions)):\n",
    "    pre = sess.paradigm[\"pre\"]\n",
    "    maze = sess.paradigm[\"maze\"]\n",
    "    post = sess.paradigm[\"post\"].flatten()\n",
    "    neurons = sess.neurons.get_neuron_type([\"pyr\", \"inter\"])\n",
    "    spktrns = neurons.spiketrains\n",
    "\n",
    "    post_starts = np.arange(9) * 3600 + post[0]\n",
    "    post_labels = [f\"{_}-{_+1}\" for _ in range(len(post_starts))]\n",
    "    # NOTE: subtracted 0.1 to keep the bins monotonically increasing\n",
    "    post_epochs = Epoch.from_array(post_starts, post_starts + 3600 - 0.1, post_labels)\n",
    "\n",
    "    all_epochs = pre + maze + post_epochs\n",
    "\n",
    "    # --- in ripples --------\n",
    "    rpls = sess.ripple.time_slice(pre.flatten()[0], post[0] + 9 * 3600)\n",
    "    n_spikes = np.asarray(\n",
    "        [np.histogram(spk, bins=rpls.flatten())[0] for spk in spktrns]\n",
    "    )\n",
    "    in_rpl_spikes = n_spikes[:, ::2]  # individual ripples\n",
    "\n",
    "    # summing individual ripples within epochs\n",
    "    in_rpl_spikes_epochs = stats.binned_statistic(\n",
    "        rpls.starts, in_rpl_spikes, bins=all_epochs.flatten(), statistic=\"sum\"\n",
    "    )[0][:, ::2]\n",
    "\n",
    "    n_rpls = np.histogram(rpls.starts, bins=all_epochs.flatten())[0][::2][np.newaxis, :]\n",
    "    total_rpl_duration_epochs = stats.binned_statistic(\n",
    "        rpls.starts, rpls.durations, bins=all_epochs.flatten(), statistic=\"sum\"\n",
    "    )[0][::2]\n",
    "\n",
    "    # NOTE: divide by n_rpls or divide by total duration ??\n",
    "    in_rpl_frate_epochs = (\n",
    "        in_rpl_spikes_epochs / total_rpl_duration_epochs[np.newaxis, :]\n",
    "    )\n",
    "\n",
    "    # --- out ripples --------\n",
    "    n_spikes_epochs = []\n",
    "    for ep in all_epochs.itertuples():\n",
    "        n_spikes_epochs.append(neurons.time_slice(ep.start, ep.stop).n_spikes)\n",
    "    n_spikes_epochs = np.array(n_spikes_epochs).T\n",
    "    out_rpl_spikes_epochs = n_spikes_epochs - in_rpl_spikes_epochs\n",
    "    out_rpl_duration_epochs = all_epochs.durations.astype('float') - total_rpl_duration_epochs\n",
    "    out_rpl_frate_epochs = (\n",
    "        out_rpl_spikes_epochs / out_rpl_duration_epochs[np.newaxis, :]\n",
    "    )\n",
    "\n",
    "    # ----- Normalization ----------\n",
    "    in_rpl = stats.zscore(in_rpl_frate_epochs, axis=1)\n",
    "    out_rpl = stats.zscore(out_rpl_frate_epochs, axis=1)\n",
    "\n",
    "    # baseline = in_rpl[:, 0, np.newaxis]\n",
    "    # in_rpl = in_rpl - baseline\n",
    "    # in_rpl = (zt_spikes_in - baseline) / baseline\n",
    "    assert in_rpl.shape[0] == len(spktrns), \"booo\"\n",
    "    assert out_rpl.shape[0] == len(spktrns), \"booo hoo\"\n",
    "\n",
    "    in_rpl_df = pd.DataFrame(in_rpl, columns=all_epochs.labels)\n",
    "    in_rpl_df[\"where\"] = \"inside\"\n",
    "    in_rpl_df[\"neuron_type\"] = neurons.neuron_type\n",
    "    in_rpl_df[\"grp\"] = sess.tag\n",
    "\n",
    "    out_rpl_df = pd.DataFrame(out_rpl, columns=all_epochs.labels)\n",
    "    out_rpl_df[\"where\"] = \"outside\"\n",
    "    out_rpl_df[\"neuron_type\"] = neurons.neuron_type\n",
    "    out_rpl_df[\"grp\"] = sess.tag\n",
    "\n",
    "    frate_sub_df = pd.concat([in_rpl_df, out_rpl_df], axis=0, ignore_index=True)\n",
    "    frate_df.append(frate_sub_df)\n",
    "\n",
    "frate_df = pd.concat(frate_df, ignore_index=True)\n",
    "frate_df = pd.melt(\n",
    "    frate_df,\n",
    "    id_vars=[\"where\", \"neuron_type\", \"grp\"],\n",
    "    value_vars=all_epochs.labels,\n",
    "    var_name=\"time\",\n",
    "    value_name=\"frate\",\n",
    "    ignore_index=True,\n",
    ")\n",
    "\n",
    "subjects.GroupData().save(frate_df, \"frate_in_ripple\")\n"
   ]
  },
  {
   "cell_type": "code",
   "execution_count": 6,
   "metadata": {},
   "outputs": [
    {
     "data": {
      "application/vnd.jupyter.widget-view+json": {
       "model_id": "c54862e569324bb2836313dc8b0f26de",
       "version_major": 2,
       "version_minor": 0
      },
      "image/png": "[encoded data removed]",
      "text/html": [
       "\n",
       "            <div style=\"display: inline-block;\">\n",
       "                <div class=\"jupyter-widgets widget-label\" style=\"text-align: center;\">\n",
       "                    Figure\n",
       "                </div>\n",
       "                <img src='data:image/png;base64,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' width=1101.125/>\n",
       "            </div>\n",
       "        "
      ],
      "text/plain": [
       "Canvas(toolbar=Toolbar(toolitems=[('Home', 'Reset original view', 'home', 'home'), ('Back', 'Back to previous …"
      ]
     },
     "metadata": {},
     "output_type": "display_data"
    }
   ],
   "source": [
    "import seaborn as sns\n",
    "\n",
    "g = sns.catplot(\n",
    "    data=frate_df,\n",
    "    x=\"time\",\n",
    "    y=\"frate\",\n",
    "    hue=\"where\",\n",
    "    col=\"grp\",\n",
    "    kind=\"bar\",\n",
    "    palette=[\"#69F0AE\", \"#FF80AB\"],\n",
    "    ci=95,\n",
    "    capsize=0.1,\n",
    ")\n",
    "axes = g.axes[0]\n",
    "# [ax.set_yscale('log') for ax in axes]\n"
   ]
  },
  {
   "cell_type": "markdown",
   "metadata": {},
   "source": [
    "### Firing rate (scatter plot) within and outside ripples during SD and NSD"
   ]
  },
  {
   "cell_type": "code",
   "execution_count": null,
   "metadata": {},
   "outputs": [],
   "source": [
    "%matplotlib widget\n",
    "import matplotlib.pyplot as plt\n",
    "import numpy as np\n",
    "from neuropy import plotting\n",
    "import pandas as pd\n",
    "from scipy import stats\n",
    "import subjects\n",
    "\n",
    "sessions = (\n",
    "    subjects.sd.ratNday1\n",
    "    + subjects.sd.ratSday3\n",
    "    + subjects.sd.ratUday4\n",
    "    + subjects.sd.ratVday2\n",
    "    + subjects.sd.ratRday2\n",
    "\n",
    "    + subjects.nsd.ratNday2\n",
    "    + subjects.nsd.ratSday2\n",
    "    + subjects.nsd.ratUday2\n",
    "    + subjects.nsd.ratVday1\n",
    ")"
   ]
  },
  {
   "cell_type": "code",
   "execution_count": null,
   "metadata": {},
   "outputs": [],
   "source": [
    "from neuropy.core import Epoch\n",
    "from neuropy.utils.mathutil import min_max_scaler\n",
    "\n",
    "in_rpl,out_rpl,time =[],[],[]\n",
    "for sub, sess in enumerate(sessions):\n",
    "    post = sess.paradigm[\"post\"].flatten()\n",
    "    neurons = sess.neurons.get_neuron_type(\"pyr\")\n",
    "    spktrns = neurons.spiketrains\n",
    "    starts = np.arange(9) * 3600 + post[0]\n",
    "\n",
    "    rpls = sess.ripple.time_slice(post[0],post[0]+9*3600).flatten()\n",
    "\n",
    "    n_spikes = np.asarray([np.histogram(spk,bins=rpls)[0] for spk in spktrns])\n",
    "    in_rpl.append(n_spikes[:,::2])\n",
    "    out_rpl.append(n_spikes[:,1::2])\n",
    "    time.append(rpls[::2]-post[0])\n",
    "\n",
    "\n",
    "# frate_df = pd.melt(\n",
    "#     frate_df,\n",
    "#     id_vars=[\"rpl\", \"grp\"],\n",
    "#     value_vars=np.arange(1,9),\n",
    "#     var_name=\"Zt time\",\n",
    "#     value_name=\"frate\",\n",
    "#     ignore_index=True,\n",
    "# )\n"
   ]
  },
  {
   "cell_type": "code",
   "execution_count": null,
   "metadata": {},
   "outputs": [],
   "source": [
    "%matplotlib widget\n",
    "import seaborn as sns\n",
    "\n",
    "data = stats.zscore(in_rpl[0],axis=1)\n",
    "for i in range(97):\n",
    "    plt.plot(time[0],data[i],'k.')"
   ]
  },
  {
   "cell_type": "markdown",
   "metadata": {},
   "source": [
    "### PSTH around start of ripples during sleep deprivation"
   ]
  },
  {
   "cell_type": "code",
   "execution_count": null,
   "metadata": {},
   "outputs": [],
   "source": [
    "import matplotlib.pyplot as plt\n",
    "import numpy as np\n",
    "from neuropy import plotting\n",
    "import pandas as pd\n",
    "from scipy import stats\n",
    "import subjects\n",
    "\n",
    "sessions = (\n",
    "    subjects.sd.ratNday1\n",
    "    + subjects.sd.ratSday3\n",
    "    + subjects.sd.ratUday4\n",
    "\n",
    "    +subjects.nsd.ratNday2\n",
    "    + subjects.nsd.ratSday2\n",
    "    + subjects.nsd.ratUday2\n",
    ")"
   ]
  },
  {
   "cell_type": "code",
   "execution_count": null,
   "metadata": {},
   "outputs": [],
   "source": [
    "from neuropy.core import Epoch\n",
    "\n",
    "frate_around_rpl,grp_info = [],[]\n",
    "for sub, sess in enumerate(sessions):\n",
    "    post = sess.paradigm[\"post\"].flatten()\n",
    "    neurons = sess.neurons.get_neuron_type(\"pyr\")\n",
    "    grp_info.extend([sess.tag] * len(neurons))\n",
    "\n",
    "    get_modulation = lambda e: neurons.get_modulation_in_epochs(e, 2)\n",
    "\n",
    "    hour_modulation = []\n",
    "    for t in [post[0], post[0] + 4 * 3600]:\n",
    "        ripples = sess.ripple.time_slice(t, t + 3600)\n",
    "        start, peak = ripples.to_dataframe()[[\"start\", \"peaktime\"]].values.T\n",
    "        start_peak_dur = peak - start\n",
    "        epochs = Epoch.from_array(start - start_peak_dur, start + start_peak_dur)\n",
    "\n",
    "        modulation = []\n",
    "        for s in range(3):\n",
    "            epoch_slices = epochs[s::3]  # [_[s::3] for _ in (pre_start, start_peak)]\n",
    "            modulation.append(get_modulation(epoch_slices))\n",
    "        hour_modulation.append(np.dstack(modulation).sum(axis=2)/ripples.durations.sum())\n",
    "\n",
    "    frate_around_rpl.append(np.hstack(hour_modulation))\n",
    "\n",
    "frate_around_rpl = np.vstack(frate_around_rpl)\n",
    "# frate_norm = frate_around_rpl / np.sum(frate_around_rpl, axis=1, keepdims=True)\n",
    "frate_norm = stats.zscore(frate_around_rpl, axis=1)\n",
    "\n",
    "# bins = np.arange(-8, 9)\n",
    "frate_rpl_df = pd.DataFrame(\n",
    "    frate_around_rpl, columns=[\"pre_1h\", \"post_1h\", \"pre_5h\", \"post_5h\"]\n",
    ")\n",
    "frate_rpl_df[\"grp\"] = grp_info\n",
    "\n",
    "# frate_session_df = pd.melt(\n",
    "#     frate_session_df,\n",
    "#     id_vars=[\"grp\", \"label\"],\n",
    "#     value_vars=time_bin,\n",
    "#     var_name=[\"time\"],\n",
    "#     value_name=\"frate\",\n",
    "#     ignore_index=True,\n",
    "# )\n"
   ]
  },
  {
   "cell_type": "code",
   "execution_count": null,
   "metadata": {},
   "outputs": [],
   "source": [
    "%matplotlib widget\n",
    "import seaborn as sns\n",
    "\n",
    "figure = plotting.Fig()\n",
    "fig,gs = figure.draw(grid=(2,2))\n",
    "\n",
    "for i,grp in enumerate(['sd','nsd']):\n",
    "    df = frate_rpl_df[frate_rpl_df['grp']==grp]\n",
    "\n",
    "    ax_pre = plt.subplot(gs[i,0])\n",
    "    sns.scatterplot(data=df ,x='pre_1h',y='pre_5h',ax=ax_pre)\n",
    "    ax_pre.set_xscale('log')\n",
    "    ax_pre.set_yscale('log')\n",
    "    ax_pre.axline((0,0),(1,1))\n",
    "\n",
    "\n",
    "    ax_post = plt.subplot(gs[i,1])\n",
    "    sns.scatterplot(data=df ,x='post_1h',y='post_5h',ax=ax_post)\n",
    "    ax_post.set_xscale('log')\n",
    "    ax_post.set_yscale('log')\n",
    "    ax_post.axline((0,0),(1,1))\n"
   ]
  },
  {
   "cell_type": "markdown",
   "metadata": {},
   "source": [
    "### Percentage of Cells firing during ripples"
   ]
  },
  {
   "cell_type": "code",
   "execution_count": null,
   "metadata": {},
   "outputs": [],
   "source": [
    "import matplotlib.pyplot as plt\n",
    "import numpy as np\n",
    "from neuropy import plotting\n",
    "import pandas as pd\n",
    "from scipy import stats\n",
    "import subjects\n",
    "\n",
    "sessions = (\n",
    "    subjects.sd.ratNday1\n",
    "    + subjects.sd.ratSday3\n",
    "    + subjects.sd.ratUday4\n",
    "\n",
    "    + subjects.nsd.ratNday2\n",
    "    + subjects.nsd.ratSday2\n",
    "    + subjects.nsd.ratUday2\n",
    ")"
   ]
  },
  {
   "cell_type": "code",
   "execution_count": null,
   "metadata": {},
   "outputs": [],
   "source": [
    "for sub,sess in enumerate(sessions):\n",
    "    post = sess.paradigm['post'].flatten()\n",
    "    neurons = sess.neurons.get_neuron_type('pyr')\n",
    "    rpls = sess.ripple.time_slice(post[0],post[0]+3600)\n",
    "    modulation = neurons.get_modulation_in_epochs(rpls,n_bins=1).reshape(-1)\n",
    "    firing_cells = np.where(modulation>0)[0]\n",
    "    perc = len(firing_cells)/len(modulation)\n",
    "    print(perc)"
   ]
  },
  {
   "cell_type": "markdown",
   "metadata": {},
   "source": [
    "### Neurons/MUA acg/ccg during ripples compared early to late of POST for SD and NSD\n",
    "- I observed change in ripple frequency from early to late sleep. One possibility could be change in synchrony from early to late sleep. For example, in early sleep, neurons are firing in sequences during ripples but later most neurons cofire at same time at a little longer time lag. So here I am plotting acg/ccg or similar measure for change in spiketimes synchrony.\n",
    "- Didn't find anything interesting in pyramidal neurons but for interneurons if CCGs are sorted by their peak time then Zt2 is more similar to Zt1 compared to Zt5. Probably this is expected"
   ]
  },
  {
   "cell_type": "code",
   "execution_count": null,
   "metadata": {},
   "outputs": [],
   "source": [
    "import matplotlib.pyplot as plt\n",
    "import numpy as np\n",
    "from scipy import stats\n",
    "import subjects\n",
    "sessions = subjects.nsd.ratNday2+ subjects.nsd.ratSday2+subjects.nsd.ratUday2"
   ]
  },
  {
   "cell_type": "code",
   "execution_count": null,
   "metadata": {},
   "outputs": [],
   "source": [
    "from neuropy.utils.ccg import correlograms\n",
    "\n",
    "acg_zt1_all = []\n",
    "acg_zt5_all = []\n",
    "for sub, sess in enumerate(sessions):\n",
    "    post = sess.paradigm[\"post\"].flatten()\n",
    "    neurons = sess.neurons.get_neuron_type(\"inter\")\n",
    "\n",
    "    acg_zt = []\n",
    "    firing_neurons = []\n",
    "    for t in [post[0],post[0]+4*3600]:\n",
    "        neurons_t = neurons.time_slice(t, t + 3600)\n",
    "        n_id = neurons.neuron_ids\n",
    "        spks = np.concatenate(neurons_t.spiketrains)\n",
    "        spks_id = np.concatenate(\n",
    "            [i * np.ones_like(_) for i, _ in zip(n_id, neurons_t.spiketrains)]\n",
    "        ).astype(\"int\")\n",
    "        rpl_t = sess.ripple.time_slice(t, t + 3600).flatten()\n",
    "        spk_bin_ind = np.digitize(spks, rpl_t)\n",
    "        rpl_indx = spk_bin_ind % 2 == 1\n",
    "        spks_in_rpl = spks[rpl_indx]\n",
    "        spks_in_rpl_id = spks_id[rpl_indx]\n",
    "        sort_ind = np.argsort(spks_in_rpl)\n",
    "        acg = correlograms(\n",
    "            spks_in_rpl[sort_ind],\n",
    "            spks_in_rpl_id[sort_ind],\n",
    "            sample_rate=30000,\n",
    "            bin_size=0.001,\n",
    "            window_size=0.3,\n",
    "        )\n",
    "        firing_neurons.append(np.unique(spks_in_rpl_id))\n",
    "        acg_zt.append(acg)\n",
    "    _, this, that = np.intersect1d(\n",
    "        firing_neurons[0], firing_neurons[1], assume_unique=True, return_indices=True\n",
    "    )\n",
    "\n",
    "    pairs = np.tril_indices(len(this),k=-1)\n",
    "    acg_zt = [\n",
    "        acg_zt[i][np.ix_(ind, ind, np.arange(301))]\n",
    "        for i, ind in enumerate([this, that])\n",
    "    ]\n",
    "\n",
    "    acg_zt = [stats.zscore(_[pairs[0], pairs[1], :],axis=1) for _ in acg_zt]\n",
    "    nan_indices = np.bitwise_or(*[np.isnan(np.sum(_,axis=1)) for _ in acg_zt])\n",
    "\n",
    "    acg_zt = [_[~nan_indices,:] for _ in acg_zt]\n",
    "    acg_zt1_all.append(acg_zt[0])\n",
    "    acg_zt5_all.append(acg_zt[1])\n",
    "\n",
    "acg_zt1_all = np.vstack(acg_zt1_all)\n",
    "acg_zt5_all = np.vstack(acg_zt5_all)\n",
    "\n",
    "sort_ind = np.argsort(np.argmax(acg_zt1_all,axis=1))"
   ]
  },
  {
   "cell_type": "code",
   "execution_count": null,
   "metadata": {},
   "outputs": [],
   "source": [
    "%matplotlib widget\n",
    "fig,ax = plt.subplots(1,2)\n",
    "for i,c in enumerate([acg_zt1_all,acg_zt5_all]):\n",
    "    ax[i].pcolormesh(c[sort_ind,:])"
   ]
  },
  {
   "cell_type": "markdown",
   "metadata": {},
   "source": [
    "### Spike triggered raster plot w.r.t ripples during sleep deprivation for individual neurons"
   ]
  },
  {
   "cell_type": "code",
   "execution_count": null,
   "metadata": {},
   "outputs": [],
   "source": [
    "import numpy as np\n",
    "import matplotlib.pyplot as plt\n",
    "import subjects\n",
    "\n",
    "sessions = subjects.sd.ratSday3"
   ]
  },
  {
   "cell_type": "code",
   "execution_count": null,
   "metadata": {},
   "outputs": [],
   "source": [
    "for sub,sess in enumerate(sessions):\n",
    "    sd = sess.paradigm['sd']\n",
    "    rpls = sess.ripple.time_slice(sd[0],sd[1])\n",
    "    "
   ]
  },
  {
   "cell_type": "markdown",
   "metadata": {},
   "source": [
    "### Within ripple pairwise correlation comaparison between MAZE vs POST for SD and RS sessions "
   ]
  },
  {
   "cell_type": "code",
   "execution_count": null,
   "metadata": {},
   "outputs": [],
   "source": [
    "import matplotlib.pyplot as plt\n",
    "import numpy as np\n",
    "from neuropy import plotting\n",
    "import pandas as pd\n",
    "from scipy import stats\n",
    "import subjects\n",
    "\n",
    "sessions = subjects.sd.pf_sess + subjects.nsd.pf_sess"
   ]
  },
  {
   "cell_type": "code",
   "execution_count": null,
   "metadata": {},
   "outputs": [],
   "source": [
    "import pingouin as pg\n",
    "pcorr_df = []\n",
    "for sub, sess in enumerate(sessions):\n",
    "    pre = sess.paradigm[\"pre\"].flatten()\n",
    "    maze = sess.paradigm[\"maze\"].flatten()\n",
    "    post = sess.paradigm[\"post\"].flatten()\n",
    "    zt5 = [post[0], post[0] + 5 * 3600]\n",
    "\n",
    "    rpls_pre = sess.ripple.time_slice(*pre)\n",
    "    rpls_maze = sess.ripple.time_slice(*maze)\n",
    "    rpls_zt5 = sess.ripple.time_slice(*zt5)\n",
    "\n",
    "    neurons = sess.neurons.get_neuron_type(\"pyr\")\n",
    "\n",
    "    indices = np.tril_indices(len(neurons), k=-1)\n",
    "    pcorr = lambda e: np.corrcoef(np.hstack(neurons.get_spikes_in_epochs(e)[0]))[\n",
    "        indices\n",
    "    ]\n",
    "    residual= lambda x,y: pg.linear_regression(x,y,remove_na=True).residuals_\n",
    "\n",
    "    df = pd.DataFrame(\n",
    "        dict(\n",
    "            pre=pcorr(rpls_pre),\n",
    "            maze=pcorr(rpls_maze),\n",
    "            zt5=pcorr(rpls_zt5),\n",
    "            grp=sess.tag,\n",
    "        )\n",
    "    )\n",
    "    df.dropna(inplace=True)\n",
    "\n",
    "    df['maze_residuals'] = residual(df['pre'],df['maze'])\n",
    "    df['zt5_residuals'] = residual(df['pre'],df['zt5'])\n",
    "    pcorr_df.append(df)\n",
    "\n",
    "pcorr_df = pd.concat(pcorr_df, ignore_index=True)\n"
   ]
  },
  {
   "cell_type": "code",
   "execution_count": null,
   "metadata": {},
   "outputs": [],
   "source": [
    "mat = pcorr_df[pcorr_df['grp']=='sd']\n",
    "pg.partial_corr(mat,x='maze',y='zt5',covar='pre')"
   ]
  },
  {
   "cell_type": "code",
   "execution_count": null,
   "metadata": {},
   "outputs": [],
   "source": [
    "mat = pcorr_df[pcorr_df['grp']=='nsd']\n",
    "pg.partial_corr(mat,x='maze',y='zt5',covar='pre')"
   ]
  },
  {
   "cell_type": "code",
   "execution_count": null,
   "metadata": {},
   "outputs": [],
   "source": [
    "%matplotlib widget\n",
    "import seaborn as sns\n",
    "\n",
    "sns.lmplot(data=pcorr_df,x='maze_residuals',y='zt5_residuals',col='grp',kind='hex')"
   ]
  }
 ],
 "metadata": {
  "interpreter": {
   "hash": "cce1618081139d19eb1ee8d40815d94a2de4f62e1efb20d9406ddb60628c36ae"
  },
  "kernelspec": {
   "display_name": "Python 3.10.2 ('data_analysis')",
   "language": "python",
   "name": "python3"
  },
  "language_info": {
   "codemirror_mode": {
    "name": "ipython",
    "version": 3
   },
   "file_extension": ".py",
   "mimetype": "text/x-python",
   "name": "python",
   "nbconvert_exporter": "python",
   "pygments_lexer": "ipython3",
   "version": "3.10.2"
  },
  "orig_nbformat": 4
 },
 "nbformat": 4,
 "nbformat_minor": 2
}
