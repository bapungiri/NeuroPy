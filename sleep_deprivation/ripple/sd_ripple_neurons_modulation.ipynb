{
 "cells": [
  {
   "cell_type": "markdown",
   "metadata": {},
   "source": [
    "### Imports"
   ]
  },
  {
   "cell_type": "code",
   "execution_count": 1,
   "metadata": {},
   "outputs": [],
   "source": [
    "import matplotlib.pyplot as plt\n",
    "import numpy as np\n",
    "from neuropy import plotting\n",
    "import pandas as pd\n",
    "from scipy import stats\n",
    "from neuropy.utils.ccg import correlograms\n",
    "from tqdm.notebook import tqdm\n",
    "from neuropy.core import Epoch\n",
    "\n",
    "import subjects"
   ]
  },
  {
   "cell_type": "markdown",
   "metadata": {},
   "source": [
    "### Interneuron categorization based on firing rate around ripples start\n",
    "- using CCG algorithm"
   ]
  },
  {
   "cell_type": "code",
   "execution_count": null,
   "metadata": {},
   "outputs": [],
   "source": [
    "acgs = []\n",
    "bin_size = 0.01\n",
    "window_size = 0.2\n",
    "n_bins = int(window_size // bin_size)\n",
    "for sub, sess in enumerate(sessions):\n",
    "    ripple = sess.ripple.to_dataframe().peaktime.values\n",
    "    neurons = sess.neurons.get_neuron_type(\"inter\")\n",
    "    for s in neurons.spiketrains:\n",
    "        combined_s = np.concatenate((s, ripple))\n",
    "        combined_id = np.concatenate(\n",
    "            (np.ones(len(s)), 2 * np.ones(len(ripple)))\n",
    "        ).astype(\"int\")\n",
    "        sort_ind = np.argsort(combined_s)\n",
    "        acg = correlograms(\n",
    "            combined_s[sort_ind],\n",
    "            combined_id[sort_ind],\n",
    "            sample_rate=30000,\n",
    "            bin_size=bin_size,\n",
    "            window_size=window_size,\n",
    "        )\n",
    "        acgs.append(acg[0, 1, :])\n",
    "\n",
    "acgs = np.asarray(acgs)\n",
    "t_bin = np.linspace(-n_bins // 2, n_bins // 2, acgs.shape[1])\n",
    "data = pd.DataFrame(stats.zscore(acgs, axis=1), columns=t_bin)\n",
    "data[\"neuron\"] = np.arange(acgs.shape[0])\n",
    "data = pd.melt(\n",
    "    data,\n",
    "    id_vars=[\"neuron\"],\n",
    "    value_vars=t_bin,\n",
    "    var_name=[\"time\"],\n",
    "    value_name=\"frate\",\n",
    "    ignore_index=True,\n",
    ")"
   ]
  },
  {
   "cell_type": "code",
   "execution_count": null,
   "metadata": {},
   "outputs": [],
   "source": [
    "%matplotlib widget\n",
    "import seaborn as sns\n",
    "\n",
    "_,axs = plt.subplots(10,9,sharex=True,sharey=True)\n",
    "axs = axs.reshape(-1)\n",
    "\n",
    "acgs_norm = acgs/np.sum(acgs,axis=1,keepdims=True)\n",
    "\n",
    "for i,a in enumerate(acgs_norm):\n",
    "\n",
    "    axs[i].fill_between(t_bin,0,a)\n",
    "\n",
    "\n",
    "# from neuropy.core import Ratemap\n",
    "\n",
    "# rmap = Ratemap(acgs,np.arange(52),neuron_ids=np.arange(acgs.shape[0]))\n",
    "# plotting.plot_ratemap(rmap,normalize_tuning_curve=True,pad=2)\n",
    "\n",
    "# sns.catplot(data=data,x='time',y='frate',col='neuron',col_wrap=5,kind='bar')\n",
    "# sns.relplot(data=data,x='time',y='frate',col='neuron',col_wrap=5,kind='line')"
   ]
  },
  {
   "cell_type": "markdown",
   "metadata": {},
   "source": [
    "### Interneurons categorization based on ripple modulation\n",
    "- The method here is similar to Diba et.al. 2014.\n",
    "- Here the code that worked and shows some kmeans clustering to identify different categories.\n",
    "- NOTE: The main has now been ported to ripple_funcs.py in the current directory"
   ]
  },
  {
   "cell_type": "code",
   "execution_count": null,
   "metadata": {},
   "outputs": [],
   "source": [
    "import matplotlib.pyplot as plt\n",
    "import numpy as np\n",
    "from neuropy import plotting\n",
    "import pandas as pd\n",
    "from scipy import stats\n",
    "from neuropy.utils.ccg import correlograms\n",
    "import subjects\n",
    "\n",
    "sessions = (\n",
    "    subjects.sd.ratJday1\n",
    "    + subjects.sd.ratKday1\n",
    "    + subjects.sd.ratNday1\n",
    "    + subjects.sd.ratSday3\n",
    "    + subjects.sd.ratUday4\n",
    "    # + subjects.sd.ratVday2\n",
    "    # + subjects.nsd.ratJday2\n",
    "    + subjects.nsd.ratKday2\n",
    "    + subjects.nsd.ratNday2\n",
    "    + subjects.nsd.ratSday2\n",
    "    # + subjects.nsd.ratRday1\n",
    "    + subjects.nsd.ratUday2\n",
    "    # + subjects.nsd.ratVday1\n",
    ")\n"
   ]
  },
  {
   "cell_type": "code",
   "execution_count": null,
   "metadata": {},
   "outputs": [],
   "source": [
    "from sklearn.cluster import KMeans\n",
    "from ripple_funcs import ripple_modulation\n",
    "\n",
    "frate_around_rpl = []\n",
    "for sub, sess in enumerate(sessions):\n",
    "    neurons = sess.neurons.get_neuron_type(\"inter\")\n",
    "    n_neurons = len(neurons)\n",
    "    ripples = sess.ripple.to_dataframe()\n",
    "\n",
    "    start, peak, stop = sess.ripple.to_dataframe()[\n",
    "        [\"start\", \"peaktime\", \"stop\"]\n",
    "    ].values.T\n",
    "    modulation = ripple_modulation(neurons, start, peak, stop, n_bins=4)\n",
    "    frate_around_rpl.append(modulation)\n",
    "\n",
    "frate_around_rpl = np.vstack(frate_around_rpl)\n",
    "frate_norm = frate_around_rpl / np.sum(frate_around_rpl, axis=1, keepdims=True)\n",
    "kmeans = KMeans(n_clusters=2, random_state=0).fit(frate_norm)\n"
   ]
  },
  {
   "cell_type": "markdown",
   "metadata": {},
   "source": [
    "#### PCA projection of interneurons modulation"
   ]
  },
  {
   "cell_type": "code",
   "execution_count": null,
   "metadata": {},
   "outputs": [],
   "source": [
    "from sklearn.decomposition import PCA\n",
    "from neuropy import plotting\n",
    "\n",
    "pca = PCA(n_components=2)\n",
    "pca.fit(frate_norm)\n",
    "projected = pca.fit_transform(frate_norm)\n",
    "\n",
    "# figure = plotting.Fig()\n",
    "# fig,gs = figure.draw(grid=(1,2))\n",
    "# gs_ = figure.subplot2grid(gs[1],grid=(2,1))\n",
    "fig = plt.figure(figsize=(12, 5))\n",
    "subfigs = fig.subfigures(1, 2, wspace=0.7)\n",
    "ax_pca = subfigs[0].subplots(1, 1)\n",
    "ax_pca.set_xlabel(\"PC1\")\n",
    "ax_pca.set_ylabel(\"PC2\")\n",
    "\n",
    "hist_figs = subfigs[1].subfigures(2, 1)\n",
    "\n",
    "colors = [\"r\", \"k\"]\n",
    "for label in [0, 1]:\n",
    "    indices = kmeans.labels_ == label\n",
    "    ax_pca.scatter(projected[indices, 0], projected[indices, 1], c=colors[label])\n",
    "\n",
    "    ind_subset = np.random.choice(np.where(indices)[0], 8)\n",
    "    frate_subset = frate_norm[ind_subset]\n",
    "    ax_hists = hist_figs[label].subplots(2, 4, sharex=True, sharey=True).reshape(-1)\n",
    "    for i, f in enumerate(frate_subset):\n",
    "        ax_hists[i].stairs(f, np.arange(-8, 9), color=colors[label], fill=True)\n",
    "        ax_hists[i].set_xticks([-5, 0, 5])\n",
    "        ax_hists[i].set_xticklabels([-1, 0, 1])\n",
    "\n",
    "# fig.savefig(subjects.figpath_sd/'interneuron_ripple_classification.pdf')\n"
   ]
  },
  {
   "cell_type": "markdown",
   "metadata": {},
   "source": [
    "### Firing rate within and outside ripples during SD and NSD"
   ]
  },
  {
   "cell_type": "code",
   "execution_count": 2,
   "metadata": {},
   "outputs": [],
   "source": [
    "sessions = subjects.mua_sess()"
   ]
  },
  {
   "cell_type": "code",
   "execution_count": 3,
   "metadata": {},
   "outputs": [
    {
     "name": "stdout",
     "output_type": "stream",
     "text": [
      "#Sessions: 15\n"
     ]
    },
    {
     "data": {
      "application/vnd.jupyter.widget-view+json": {
       "model_id": "66009f59e55e42ad815a5dedc6b76cae",
       "version_major": 2,
       "version_minor": 0
      },
      "text/plain": [
       "  0%|          | 0/15 [00:00<?, ?it/s]"
      ]
     },
     "metadata": {},
     "output_type": "display_data"
    },
    {
     "name": "stdout",
     "output_type": "stream",
     "text": [
      "frate_in_ripple saved\n"
     ]
    }
   ],
   "source": [
    "print(f'#Sessions: {len(sessions)}')\n",
    "frate_df = []\n",
    "for sub, sess in enumerate(tqdm(sessions)):\n",
    "    pre = sess.paradigm[\"pre\"]\n",
    "    maze = sess.paradigm[\"maze\"]\n",
    "    post = sess.paradigm[\"post\"].flatten()\n",
    "    neurons = sess.neurons.get_neuron_type([\"pyr\", \"inter\"])\n",
    "    spktrns = neurons.spiketrains\n",
    "\n",
    "    # --- 5 minutes------\n",
    "    # post_starts = np.arange(post[0],post[0]+8*3600,300)\n",
    "    # zts = (post_starts - post[0])/3600\n",
    "    # post_stops = post_starts+300\n",
    "    # post_labels = [f'{a}' for a in zts]\n",
    "\n",
    "\n",
    "    # --- hourly ------\n",
    "    # post_starts = np.arange(9) * 3600 + post[0]\n",
    "    # post_labels = [f\"{_}-{_+1}\" for _ in range(len(post_starts))]\n",
    "\n",
    "    #---- 2.5 hours\n",
    "    zts = np.array([0, 2.5, 5])\n",
    "    post_starts = zts * 3600 + post[0]\n",
    "    post_stops = post_starts + 2.5 * 3600\n",
    "    post_labels = [f\"{a}-{a+2.5}\" for a in zts]\n",
    "\n",
    "    # NOTE: subtracted 0.1 to keep the bins monotonically increasing\n",
    "    post_epochs = Epoch.from_array(post_starts, post_stops-0.1, post_labels)\n",
    "\n",
    "    # all_epochs = pre + maze + post_epochs\n",
    "    all_epochs =  post_epochs\n",
    "\n",
    "    # --- in ripples --------\n",
    "    rpls = sess.ripple.time_slice(pre.flatten()[0], post[0] + 9 * 3600)\n",
    "    n_spikes = np.asarray(\n",
    "        [np.histogram(spk, bins=rpls.flatten())[0] for spk in spktrns]\n",
    "    )\n",
    "    in_rpl_spikes = n_spikes[:, ::2]  # individual ripples\n",
    "\n",
    "    # summing individual ripples within epochs\n",
    "    in_rpl_spikes_epochs = stats.binned_statistic(\n",
    "        rpls.starts, in_rpl_spikes, bins=all_epochs.flatten(), statistic=\"sum\"\n",
    "    )[0][:, ::2]\n",
    "\n",
    "    n_rpls = np.histogram(rpls.starts, bins=all_epochs.flatten())[0][::2][np.newaxis, :]\n",
    "    total_rpl_duration_epochs = stats.binned_statistic(\n",
    "        rpls.starts, rpls.durations, bins=all_epochs.flatten(), statistic=\"sum\"\n",
    "    )[0][::2]\n",
    "\n",
    "    # NOTE: divide by n_rpls or divide by total duration ??\n",
    "    in_rpl_frate_epochs = (\n",
    "        in_rpl_spikes_epochs / total_rpl_duration_epochs[np.newaxis, :]\n",
    "    )\n",
    "\n",
    "    # --- out ripples --------\n",
    "    n_spikes_epochs = []\n",
    "    for ep in all_epochs.itertuples():\n",
    "        n_spikes_epochs.append(neurons.time_slice(ep.start, ep.stop).n_spikes)\n",
    "    n_spikes_epochs = np.array(n_spikes_epochs).T\n",
    "    out_rpl_spikes_epochs = n_spikes_epochs - in_rpl_spikes_epochs\n",
    "    out_rpl_duration_epochs = (\n",
    "        all_epochs.durations.astype(\"float\") - total_rpl_duration_epochs\n",
    "    )\n",
    "    out_rpl_frate_epochs = (\n",
    "        out_rpl_spikes_epochs / out_rpl_duration_epochs[np.newaxis, :]\n",
    "    )\n",
    "\n",
    "    # ----- Normalization ----------\n",
    "    in_rpl = stats.zscore(in_rpl_frate_epochs, axis=1)\n",
    "    out_rpl = stats.zscore(out_rpl_frate_epochs, axis=1)\n",
    "\n",
    "    # baseline = in_rpl[:, 0, np.newaxis]\n",
    "    # in_rpl = in_rpl - baseline\n",
    "    # in_rpl = (zt_spikes_in - baseline) / baseline\n",
    "    assert in_rpl.shape[0] == len(spktrns), \"booo\"\n",
    "    assert out_rpl.shape[0] == len(spktrns), \"booo hoo\"\n",
    "\n",
    "    in_rpl_df = pd.DataFrame(in_rpl, columns=all_epochs.labels)\n",
    "    in_rpl_df[\"where\"] = \"inside\"\n",
    "    in_rpl_df[\"neuron_type\"] = neurons.neuron_type\n",
    "    in_rpl_df[\"grp\"] = sess.tag\n",
    "\n",
    "    out_rpl_df = pd.DataFrame(out_rpl, columns=all_epochs.labels)\n",
    "    out_rpl_df[\"where\"] = \"outside\"\n",
    "    out_rpl_df[\"neuron_type\"] = neurons.neuron_type\n",
    "    out_rpl_df[\"grp\"] = sess.tag\n",
    "\n",
    "    frate_sub_df = pd.concat([in_rpl_df, out_rpl_df], axis=0, ignore_index=True)\n",
    "    frate_df.append(frate_sub_df)\n",
    "\n",
    "frate_df = pd.concat(frate_df, ignore_index=True)\n",
    "frate_df = pd.melt(\n",
    "    frate_df,\n",
    "    id_vars=[\"where\", \"neuron_type\", \"grp\"],\n",
    "    value_vars=all_epochs.labels,\n",
    "    var_name=\"time\",\n",
    "    value_name=\"frate\",\n",
    "    ignore_index=True,\n",
    ")\n",
    "\n",
    "subjects.GroupData().save(frate_df, \"frate_in_ripple\")\n"
   ]
  },
  {
   "cell_type": "code",
   "execution_count": 32,
   "metadata": {},
   "outputs": [
    {
     "data": {
      "application/vnd.jupyter.widget-view+json": {
       "model_id": "9e01116484d54492942bad6f1e1894e0",
       "version_major": 2,
       "version_minor": 0
      },
      "image/png": "[encoded data removed]",
      "text/html": [
       "\n",
       "            <div style=\"display: inline-block;\">\n",
       "                <div class=\"jupyter-widgets widget-label\" style=\"text-align: center;\">\n",
       "                    Figure\n",
       "                </div>\n",
       "                <img src='data:image/png;base64,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' width=1079.875/>\n",
       "            </div>\n",
       "        "
      ],
      "text/plain": [
       "Canvas(toolbar=Toolbar(toolitems=[('Home', 'Reset original view', 'home', 'home'), ('Back', 'Back to previous …"
      ]
     },
     "metadata": {},
     "output_type": "display_data"
    }
   ],
   "source": [
    "import seaborn as sns\n",
    "\n",
    "g = sns.catplot(\n",
    "    data=frate_df,\n",
    "    x=\"time\",\n",
    "    y=\"frate\",\n",
    "    hue=\"grp\",\n",
    "    col=\"where\",\n",
    "    row=\"neuron_type\",\n",
    "    kind=\"bar\",\n",
    "    palette=[\"#69F0AE\", \"#FF80AB\"],\n",
    "    dodge=True,\n",
    "    # ci=95,\n",
    "    # capsize=0.1,\n",
    ")\n",
    "axes = g.axes[0]\n",
    "# [ax.set_yscale('log') for ax in axes]\n"
   ]
  },
  {
   "cell_type": "markdown",
   "metadata": {},
   "source": [
    "### Firing rate (scatter plot) within and outside ripples during SD and NSD"
   ]
  },
  {
   "cell_type": "code",
   "execution_count": null,
   "metadata": {},
   "outputs": [],
   "source": [
    "%matplotlib widget\n",
    "import matplotlib.pyplot as plt\n",
    "import numpy as np\n",
    "from neuropy import plotting\n",
    "import pandas as pd\n",
    "from scipy import stats\n",
    "import subjects\n",
    "\n",
    "sessions = (\n",
    "    subjects.sd.ratNday1\n",
    "    + subjects.sd.ratSday3\n",
    "    + subjects.sd.ratUday4\n",
    "    + subjects.sd.ratVday2\n",
    "    + subjects.sd.ratRday2\n",
    "\n",
    "    + subjects.nsd.ratNday2\n",
    "    + subjects.nsd.ratSday2\n",
    "    + subjects.nsd.ratUday2\n",
    "    + subjects.nsd.ratVday1\n",
    ")"
   ]
  },
  {
   "cell_type": "code",
   "execution_count": null,
   "metadata": {},
   "outputs": [],
   "source": [
    "from neuropy.core import Epoch\n",
    "from neuropy.utils.mathutil import min_max_scaler\n",
    "\n",
    "in_rpl,out_rpl,time =[],[],[]\n",
    "for sub, sess in enumerate(sessions):\n",
    "    post = sess.paradigm[\"post\"].flatten()\n",
    "    neurons = sess.neurons.get_neuron_type(\"pyr\")\n",
    "    spktrns = neurons.spiketrains\n",
    "    starts = np.arange(9) * 3600 + post[0]\n",
    "\n",
    "    rpls = sess.ripple.time_slice(post[0],post[0]+9*3600).flatten()\n",
    "\n",
    "    n_spikes = np.asarray([np.histogram(spk,bins=rpls)[0] for spk in spktrns])\n",
    "    in_rpl.append(n_spikes[:,::2])\n",
    "    out_rpl.append(n_spikes[:,1::2])\n",
    "    time.append(rpls[::2]-post[0])\n",
    "\n",
    "\n",
    "# frate_df = pd.melt(\n",
    "#     frate_df,\n",
    "#     id_vars=[\"rpl\", \"grp\"],\n",
    "#     value_vars=np.arange(1,9),\n",
    "#     var_name=\"Zt time\",\n",
    "#     value_name=\"frate\",\n",
    "#     ignore_index=True,\n",
    "# )\n"
   ]
  },
  {
   "cell_type": "code",
   "execution_count": null,
   "metadata": {},
   "outputs": [],
   "source": [
    "%matplotlib widget\n",
    "import seaborn as sns\n",
    "\n",
    "data = stats.zscore(in_rpl[0],axis=1)\n",
    "for i in range(97):\n",
    "    plt.plot(time[0],data[i],'k.')"
   ]
  },
  {
   "cell_type": "markdown",
   "metadata": {},
   "source": [
    "### PSTH around start of ripples during sleep deprivation"
   ]
  },
  {
   "cell_type": "code",
   "execution_count": null,
   "metadata": {},
   "outputs": [],
   "source": [
    "import matplotlib.pyplot as plt\n",
    "import numpy as np\n",
    "from neuropy import plotting\n",
    "import pandas as pd\n",
    "from scipy import stats\n",
    "import subjects\n",
    "\n",
    "sessions = (\n",
    "    subjects.sd.ratNday1\n",
    "    + subjects.sd.ratSday3\n",
    "    + subjects.sd.ratUday4\n",
    "\n",
    "    +subjects.nsd.ratNday2\n",
    "    + subjects.nsd.ratSday2\n",
    "    + subjects.nsd.ratUday2\n",
    ")"
   ]
  },
  {
   "cell_type": "code",
   "execution_count": null,
   "metadata": {},
   "outputs": [],
   "source": [
    "from neuropy.core import Epoch\n",
    "\n",
    "frate_around_rpl,grp_info = [],[]\n",
    "for sub, sess in enumerate(sessions):\n",
    "    post = sess.paradigm[\"post\"].flatten()\n",
    "    neurons = sess.neurons.get_neuron_type(\"pyr\")\n",
    "    grp_info.extend([sess.tag] * len(neurons))\n",
    "\n",
    "    get_modulation = lambda e: neurons.get_modulation_in_epochs(e, 2)\n",
    "\n",
    "    hour_modulation = []\n",
    "    for t in [post[0], post[0] + 4 * 3600]:\n",
    "        ripples = sess.ripple.time_slice(t, t + 3600)\n",
    "        start, peak = ripples.to_dataframe()[[\"start\", \"peaktime\"]].values.T\n",
    "        start_peak_dur = peak - start\n",
    "        epochs = Epoch.from_array(start - start_peak_dur, start + start_peak_dur)\n",
    "\n",
    "        modulation = []\n",
    "        for s in range(3):\n",
    "            epoch_slices = epochs[s::3]  # [_[s::3] for _ in (pre_start, start_peak)]\n",
    "            modulation.append(get_modulation(epoch_slices))\n",
    "        hour_modulation.append(np.dstack(modulation).sum(axis=2)/ripples.durations.sum())\n",
    "\n",
    "    frate_around_rpl.append(np.hstack(hour_modulation))\n",
    "\n",
    "frate_around_rpl = np.vstack(frate_around_rpl)\n",
    "# frate_norm = frate_around_rpl / np.sum(frate_around_rpl, axis=1, keepdims=True)\n",
    "frate_norm = stats.zscore(frate_around_rpl, axis=1)\n",
    "\n",
    "# bins = np.arange(-8, 9)\n",
    "frate_rpl_df = pd.DataFrame(\n",
    "    frate_around_rpl, columns=[\"pre_1h\", \"post_1h\", \"pre_5h\", \"post_5h\"]\n",
    ")\n",
    "frate_rpl_df[\"grp\"] = grp_info\n",
    "\n",
    "# frate_session_df = pd.melt(\n",
    "#     frate_session_df,\n",
    "#     id_vars=[\"grp\", \"label\"],\n",
    "#     value_vars=time_bin,\n",
    "#     var_name=[\"time\"],\n",
    "#     value_name=\"frate\",\n",
    "#     ignore_index=True,\n",
    "# )\n"
   ]
  },
  {
   "cell_type": "code",
   "execution_count": null,
   "metadata": {},
   "outputs": [],
   "source": [
    "%matplotlib widget\n",
    "import seaborn as sns\n",
    "\n",
    "figure = plotting.Fig()\n",
    "fig,gs = figure.draw(grid=(2,2))\n",
    "\n",
    "for i,grp in enumerate(['sd','nsd']):\n",
    "    df = frate_rpl_df[frate_rpl_df['grp']==grp]\n",
    "\n",
    "    ax_pre = plt.subplot(gs[i,0])\n",
    "    sns.scatterplot(data=df ,x='pre_1h',y='pre_5h',ax=ax_pre)\n",
    "    ax_pre.set_xscale('log')\n",
    "    ax_pre.set_yscale('log')\n",
    "    ax_pre.axline((0,0),(1,1))\n",
    "\n",
    "\n",
    "    ax_post = plt.subplot(gs[i,1])\n",
    "    sns.scatterplot(data=df ,x='post_1h',y='post_5h',ax=ax_post)\n",
    "    ax_post.set_xscale('log')\n",
    "    ax_post.set_yscale('log')\n",
    "    ax_post.axline((0,0),(1,1))\n"
   ]
  },
  {
   "cell_type": "markdown",
   "metadata": {},
   "source": [
    "### Percentage of Cells firing during ripples"
   ]
  },
  {
   "cell_type": "code",
   "execution_count": null,
   "metadata": {},
   "outputs": [],
   "source": [
    "import matplotlib.pyplot as plt\n",
    "import numpy as np\n",
    "from neuropy import plotting\n",
    "import pandas as pd\n",
    "from scipy import stats\n",
    "import subjects\n",
    "\n",
    "sessions = (\n",
    "    subjects.sd.ratNday1\n",
    "    + subjects.sd.ratSday3\n",
    "    + subjects.sd.ratUday4\n",
    "\n",
    "    + subjects.nsd.ratNday2\n",
    "    + subjects.nsd.ratSday2\n",
    "    + subjects.nsd.ratUday2\n",
    ")"
   ]
  },
  {
   "cell_type": "code",
   "execution_count": null,
   "metadata": {},
   "outputs": [],
   "source": [
    "for sub,sess in enumerate(sessions):\n",
    "    post = sess.paradigm['post'].flatten()\n",
    "    neurons = sess.neurons.get_neuron_type('pyr')\n",
    "    rpls = sess.ripple.time_slice(post[0],post[0]+3600)\n",
    "    modulation = neurons.get_modulation_in_epochs(rpls,n_bins=1).reshape(-1)\n",
    "    firing_cells = np.where(modulation>0)[0]\n",
    "    perc = len(firing_cells)/len(modulation)\n",
    "    print(perc)"
   ]
  },
  {
   "cell_type": "markdown",
   "metadata": {},
   "source": [
    "### Neurons/MUA acg/ccg during ripples compared early to late of POST for SD and NSD\n",
    "- I observed change in ripple frequency from early to late sleep. One possibility could be change in synchrony from early to late sleep. For example, in early sleep, neurons are firing in sequences during ripples but later most neurons cofire at same time at a little longer time lag. So here I am plotting acg/ccg or similar measure for change in spiketimes synchrony.\n",
    "- Didn't find anything interesting in pyramidal neurons but for interneurons if CCGs are sorted by their peak time then Zt2 is more similar to Zt1 compared to Zt5. Probably this is expected"
   ]
  },
  {
   "cell_type": "code",
   "execution_count": null,
   "metadata": {},
   "outputs": [],
   "source": [
    "import matplotlib.pyplot as plt\n",
    "import numpy as np\n",
    "from scipy import stats\n",
    "import subjects\n",
    "sessions = subjects.nsd.ratNday2+ subjects.nsd.ratSday2+subjects.nsd.ratUday2"
   ]
  },
  {
   "cell_type": "code",
   "execution_count": null,
   "metadata": {},
   "outputs": [],
   "source": [
    "from neuropy.utils.ccg import correlograms\n",
    "\n",
    "acg_zt1_all = []\n",
    "acg_zt5_all = []\n",
    "for sub, sess in enumerate(sessions):\n",
    "    post = sess.paradigm[\"post\"].flatten()\n",
    "    neurons = sess.neurons.get_neuron_type(\"inter\")\n",
    "\n",
    "    acg_zt = []\n",
    "    firing_neurons = []\n",
    "    for t in [post[0],post[0]+4*3600]:\n",
    "        neurons_t = neurons.time_slice(t, t + 3600)\n",
    "        n_id = neurons.neuron_ids\n",
    "        spks = np.concatenate(neurons_t.spiketrains)\n",
    "        spks_id = np.concatenate(\n",
    "            [i * np.ones_like(_) for i, _ in zip(n_id, neurons_t.spiketrains)]\n",
    "        ).astype(\"int\")\n",
    "        rpl_t = sess.ripple.time_slice(t, t + 3600).flatten()\n",
    "        spk_bin_ind = np.digitize(spks, rpl_t)\n",
    "        rpl_indx = spk_bin_ind % 2 == 1\n",
    "        spks_in_rpl = spks[rpl_indx]\n",
    "        spks_in_rpl_id = spks_id[rpl_indx]\n",
    "        sort_ind = np.argsort(spks_in_rpl)\n",
    "        acg = correlograms(\n",
    "            spks_in_rpl[sort_ind],\n",
    "            spks_in_rpl_id[sort_ind],\n",
    "            sample_rate=30000,\n",
    "            bin_size=0.001,\n",
    "            window_size=0.3,\n",
    "        )\n",
    "        firing_neurons.append(np.unique(spks_in_rpl_id))\n",
    "        acg_zt.append(acg)\n",
    "    _, this, that = np.intersect1d(\n",
    "        firing_neurons[0], firing_neurons[1], assume_unique=True, return_indices=True\n",
    "    )\n",
    "\n",
    "    pairs = np.tril_indices(len(this),k=-1)\n",
    "    acg_zt = [\n",
    "        acg_zt[i][np.ix_(ind, ind, np.arange(301))]\n",
    "        for i, ind in enumerate([this, that])\n",
    "    ]\n",
    "\n",
    "    acg_zt = [stats.zscore(_[pairs[0], pairs[1], :],axis=1) for _ in acg_zt]\n",
    "    nan_indices = np.bitwise_or(*[np.isnan(np.sum(_,axis=1)) for _ in acg_zt])\n",
    "\n",
    "    acg_zt = [_[~nan_indices,:] for _ in acg_zt]\n",
    "    acg_zt1_all.append(acg_zt[0])\n",
    "    acg_zt5_all.append(acg_zt[1])\n",
    "\n",
    "acg_zt1_all = np.vstack(acg_zt1_all)\n",
    "acg_zt5_all = np.vstack(acg_zt5_all)\n",
    "\n",
    "sort_ind = np.argsort(np.argmax(acg_zt1_all,axis=1))"
   ]
  },
  {
   "cell_type": "code",
   "execution_count": null,
   "metadata": {},
   "outputs": [],
   "source": [
    "%matplotlib widget\n",
    "fig,ax = plt.subplots(1,2)\n",
    "for i,c in enumerate([acg_zt1_all,acg_zt5_all]):\n",
    "    ax[i].pcolormesh(c[sort_ind,:])"
   ]
  },
  {
   "cell_type": "markdown",
   "metadata": {},
   "source": [
    "### Spike triggered raster plot w.r.t ripples during sleep deprivation for individual neurons"
   ]
  },
  {
   "cell_type": "code",
   "execution_count": null,
   "metadata": {},
   "outputs": [],
   "source": [
    "import numpy as np\n",
    "import matplotlib.pyplot as plt\n",
    "import subjects\n",
    "\n",
    "sessions = subjects.sd.ratSday3"
   ]
  },
  {
   "cell_type": "code",
   "execution_count": null,
   "metadata": {},
   "outputs": [],
   "source": [
    "for sub,sess in enumerate(sessions):\n",
    "    sd = sess.paradigm['sd']\n",
    "    rpls = sess.ripple.time_slice(sd[0],sd[1])\n",
    "    "
   ]
  },
  {
   "cell_type": "markdown",
   "metadata": {},
   "source": [
    "### Within ripple pairwise correlation comaparison between MAZE vs POST for SD and RS sessions "
   ]
  },
  {
   "cell_type": "code",
   "execution_count": null,
   "metadata": {},
   "outputs": [],
   "source": [
    "import matplotlib.pyplot as plt\n",
    "import numpy as np\n",
    "from neuropy import plotting\n",
    "import pandas as pd\n",
    "from scipy import stats\n",
    "import subjects\n",
    "\n",
    "sessions = subjects.sd.pf_sess + subjects.nsd.pf_sess"
   ]
  },
  {
   "cell_type": "code",
   "execution_count": null,
   "metadata": {},
   "outputs": [],
   "source": [
    "import pingouin as pg\n",
    "pcorr_df = []\n",
    "for sub, sess in enumerate(sessions):\n",
    "    pre = sess.paradigm[\"pre\"].flatten()\n",
    "    maze = sess.paradigm[\"maze\"].flatten()\n",
    "    post = sess.paradigm[\"post\"].flatten()\n",
    "    zt5 = [post[0], post[0] + 5 * 3600]\n",
    "\n",
    "    rpls_pre = sess.ripple.time_slice(*pre)\n",
    "    rpls_maze = sess.ripple.time_slice(*maze)\n",
    "    rpls_zt5 = sess.ripple.time_slice(*zt5)\n",
    "\n",
    "    neurons = sess.neurons.get_neuron_type(\"pyr\")\n",
    "\n",
    "    indices = np.tril_indices(len(neurons), k=-1)\n",
    "    pcorr = lambda e: np.corrcoef(np.hstack(neurons.get_spikes_in_epochs(e)[0]))[\n",
    "        indices\n",
    "    ]\n",
    "    residual= lambda x,y: pg.linear_regression(x,y,remove_na=True).residuals_\n",
    "\n",
    "    df = pd.DataFrame(\n",
    "        dict(\n",
    "            pre=pcorr(rpls_pre),\n",
    "            maze=pcorr(rpls_maze),\n",
    "            zt5=pcorr(rpls_zt5),\n",
    "            grp=sess.tag,\n",
    "        )\n",
    "    )\n",
    "    df.dropna(inplace=True)\n",
    "\n",
    "    df['maze_residuals'] = residual(df['pre'],df['maze'])\n",
    "    df['zt5_residuals'] = residual(df['pre'],df['zt5'])\n",
    "    pcorr_df.append(df)\n",
    "\n",
    "pcorr_df = pd.concat(pcorr_df, ignore_index=True)\n"
   ]
  },
  {
   "cell_type": "code",
   "execution_count": null,
   "metadata": {},
   "outputs": [],
   "source": [
    "mat = pcorr_df[pcorr_df['grp']=='sd']\n",
    "pg.partial_corr(mat,x='maze',y='zt5',covar='pre')"
   ]
  },
  {
   "cell_type": "code",
   "execution_count": null,
   "metadata": {},
   "outputs": [],
   "source": [
    "mat = pcorr_df[pcorr_df['grp']=='nsd']\n",
    "pg.partial_corr(mat,x='maze',y='zt5',covar='pre')"
   ]
  },
  {
   "cell_type": "code",
   "execution_count": null,
   "metadata": {},
   "outputs": [],
   "source": [
    "%matplotlib widget\n",
    "import seaborn as sns\n",
    "\n",
    "sns.lmplot(data=pcorr_df,x='maze_residuals',y='zt5_residuals',col='grp',kind='hex')"
   ]
  }
 ],
 "metadata": {
  "interpreter": {
   "hash": "cce1618081139d19eb1ee8d40815d94a2de4f62e1efb20d9406ddb60628c36ae"
  },
  "kernelspec": {
   "display_name": "Python 3.10.2 ('data_analysis')",
   "language": "python",
   "name": "python3"
  },
  "language_info": {
   "codemirror_mode": {
    "name": "ipython",
    "version": 3
   },
   "file_extension": ".py",
   "mimetype": "text/x-python",
   "name": "python",
   "nbconvert_exporter": "python",
   "pygments_lexer": "ipython3",
   "version": "3.10.2"
  },
  "orig_nbformat": 4
 },
 "nbformat": 4,
 "nbformat_minor": 2
}
