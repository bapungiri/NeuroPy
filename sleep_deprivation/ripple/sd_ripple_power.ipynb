{
 "cells": [
  {
   "cell_type": "markdown",
   "metadata": {},
   "source": [
    "### Imports"
   ]
  },
  {
   "cell_type": "code",
   "execution_count": 2,
   "metadata": {},
   "outputs": [],
   "source": [
    "import matplotlib.pyplot as plt\n",
    "import numpy as np\n",
    "from neuropy.plotting import Fig\n",
    "import pandas as pd\n",
    "from tqdm import tqdm\n",
    "from scipy import stats\n",
    "import subjects\n",
    "from neuropy.utils.signal_process import WaveletSg\n",
    "\n",
    "sessions = (\n",
    "    subjects.sd.ratJday1\n",
    "    + subjects.sd.ratKday1\n",
    "    + subjects.sd.ratNday1\n",
    "    + subjects.sd.ratSday3\n",
    "    + subjects.sd.ratRday2\n",
    "    + subjects.sd.ratUday4\n",
    "    + subjects.sd.ratVday2\n",
    "    + subjects.nsd.ratJday2\n",
    "    + subjects.nsd.ratKday2\n",
    "    + subjects.nsd.ratNday2\n",
    "    + subjects.nsd.ratSday2\n",
    "    + subjects.nsd.ratRday1\n",
    "    + subjects.nsd.ratUday2\n",
    "    + subjects.nsd.ratVday1\n",
    ")\n",
    "\n",
    "rpl_channels = [39, 63, 111, 95, 49, 100, 85, 63, 63, 36, 188, 16, 99, 86]\n"
   ]
  },
  {
   "cell_type": "markdown",
   "metadata": {},
   "source": [
    "### Ripple power spectrum comaprison 1st vs 5th vs 8th hour\n",
    "- To see if ripple lfp timeseries changes PSD during sleep deprivation and compare it to NSD\n",
    "- Method: Ripple traces are concatenated in their corresponding hour and then a PSD is calculated\n",
    "- Results: Compared to 1st hour, ripple band in 5th and 8th hour show a little shift towards slower frequencies (maybe the start cutoff for ripple band is only changing)"
   ]
  },
  {
   "cell_type": "code",
   "execution_count": null,
   "metadata": {},
   "outputs": [],
   "source": [
    "import scipy.signal as sg\n",
    "from neuropy.core import Epoch\n",
    "\n",
    "psd_rpl_df = pd.DataFrame()\n",
    "norm_psd = lambda p: p / np.sqrt(p)\n",
    "\n",
    "for sub, sess in enumerate(tqdm(sessions)):\n",
    "    pre = sess.paradigm[\"pre\"]\n",
    "    maze = sess.paradigm[\"maze\"]\n",
    "    post = sess.paradigm[\"post\"]\n",
    "    # rpl_chan = sess.ripple.metadata[\"channels\"][2]\n",
    "    if sess.tag == \"sd\":\n",
    "        post = post.flatten()\n",
    "        post_epochs = Epoch.from_array(\n",
    "            [post[0], post[0] + 5 * 3600], [post[0] + 5 * 3600, post[1]], [\"sd\", \"rs\"]\n",
    "        )\n",
    "        all_epochs = pre + maze + post_epochs\n",
    "    else:\n",
    "        all_epochs = pre + maze + post\n",
    "\n",
    "    psd = []\n",
    "    for e in all_epochs.itertuples():\n",
    "        signal = sess.eegfile.get_signal(rpl_channels[sub], e.start, e.stop)\n",
    "        rpl_t = sess.ripple.time_slice(e.start, e.stop).as_array()\n",
    "        rpl_frames = [np.arange(int(e[0] * 1250), int(e[1] * 1250)) for e in rpl_t]\n",
    "        rpl_frames = np.concatenate(rpl_frames) - int(e.start * 1250)\n",
    "        rpl_frames = rpl_frames[rpl_frames < signal.n_frames]\n",
    "        f, psd = sg.welch(\n",
    "            signal.traces[0][rpl_frames], fs=1250, nperseg=125, noverlap=62\n",
    "        )\n",
    "        psd_rpl_df = psd_rpl_df.append(\n",
    "            pd.DataFrame(\n",
    "                {\"freq\": f, \"psd\": psd, \"Epoch\": e.label, \"sub\": sub, \"grp\": sess.tag}\n",
    "            ),\n",
    "            ignore_index=True,\n",
    "        )\n",
    "\n",
    "subjects.GroupData().save(psd_rpl_df, \"ripple_psd\")\n"
   ]
  },
  {
   "cell_type": "code",
   "execution_count": null,
   "metadata": {},
   "outputs": [],
   "source": [
    "# %matplotlib widget\n",
    "import seaborn as sns\n",
    "from neuropy.plotting import Fig\n",
    "\n",
    "figure = Fig()\n",
    "fig, gs = figure.draw(grid=(5, 4))\n",
    "\n",
    "for i, grp in enumerate([\"sd\", \"nsd\"]):\n",
    "    df = psd_rpl_df[psd_rpl_df[\"grp\"] == grp]\n",
    "    ax = plt.subplot(gs[i])\n",
    "    sns.lineplot(\n",
    "        data=df,\n",
    "        x=\"freq\",\n",
    "        y=\"psd\",\n",
    "        hue=\"hour\",\n",
    "        ci=None,\n",
    "        ax=ax,\n",
    "        legend=None,\n",
    "    )\n",
    "    ax.set_yscale(\"log\")\n",
    "    # ax.set_xscale('log')\n",
    "    ax.set_xlim([60, 350])\n",
    "    ax.set_ylim([5, 100])\n",
    "    ax.set_xlabel(\"Frequency (Hz)\")\n",
    "    ax.set_ylabel(\"Psd\")\n",
    "    # ax.set_xticks([60,100,200,300],['',100,200,''])\n",
    "    # ax.set_xticks([100,200],rotation=45)\n",
    "\n",
    "figure.savefig(subjects.figpath_sd / \"ripple_psd_various_epochs\")\n"
   ]
  },
  {
   "cell_type": "markdown",
   "metadata": {},
   "source": [
    "### Ripple power (z-score) compared NSD vs SD"
   ]
  },
  {
   "cell_type": "code",
   "execution_count": 3,
   "metadata": {},
   "outputs": [],
   "source": [
    "sessions = subjects.nsd.ripple_sess + subjects.sd.ripple_sess\n"
   ]
  },
  {
   "cell_type": "code",
   "execution_count": 22,
   "metadata": {},
   "outputs": [
    {
     "name": "stdout",
     "output_type": "stream",
     "text": [
      "ripple_zscore saved\n"
     ]
    }
   ],
   "source": [
    "zsc_df = []\n",
    "for sub, sess in enumerate(sessions):\n",
    "    pre = sess.paradigm[\"pre\"].flatten()\n",
    "    maze = sess.paradigm[\"maze\"].flatten()\n",
    "    post = sess.paradigm[\"post\"].flatten()\n",
    "\n",
    "    # post_windows = np.arange(post[0], post[0] + 10 * 3600, 3600)\n",
    "    # zts = np.array([2.5, 5, 7.5])\n",
    "    zts = np.arange(0,9)\n",
    "    post_windows = zts * 3600 + post[0]\n",
    "    # post_windows[-1] = np.min([post[1], post_windows[-1]])\n",
    "    post_epochs = np.vstack([post_windows[:-1], post_windows[1:]]).T\n",
    "    post_labels = [f\"{zts[_]}-{zts[_+1]}\" for _ in range(len(zts)-1)]\n",
    "\n",
    "    # epochs = np.vstack([pre, maze, post_epochs])\n",
    "    # epochs_labels = [\"pre\", \"maze\"]\n",
    "    # epochs_labels.extend(post_labels)\n",
    "    epochs = post_epochs\n",
    "    epochs_labels = post_labels\n",
    "\n",
    "    for i, (w, label) in enumerate(zip(epochs, epochs_labels)):\n",
    "        rpl_df = sess.ripple.time_slice(w[0], w[1]).to_dataframe()\n",
    "        # rpl_df = rpl_df[rpl_df['peak_frequency']<240]\n",
    "        starts = rpl_df.start.values\n",
    "        zscores = rpl_df.peakpower.values\n",
    "\n",
    "        zsc_df.append(\n",
    "            pd.DataFrame(dict(zscore=zscores, t=label, sub=sub, grp=sess.tag))\n",
    "        )\n",
    "\n",
    "zsc_df = pd.concat(zsc_df, ignore_index=True)\n",
    "# zsc_df = zsc_df[zsc_df.f<240].reset_index(drop=True) # takes care of some boundary effects\n",
    "subjects.GroupData().save(zsc_df, \"ripple_zscore\")\n"
   ]
  },
  {
   "cell_type": "code",
   "execution_count": 23,
   "metadata": {},
   "outputs": [
    {
     "data": {
      "text/plain": [
       "<AxesSubplot:xlabel='t', ylabel='zscore'>"
      ]
     },
     "execution_count": 23,
     "metadata": {},
     "output_type": "execute_result"
    },
    {
     "data": {
      "application/vnd.jupyter.widget-view+json": {
       "model_id": "0ed0f227e83943a78b9f6a511eef9d02",
       "version_major": 2,
       "version_minor": 0
      },
      "image/png": "[encoded data removed]",
      "text/html": [
       "\n",
       "            <div style=\"display: inline-block;\">\n",
       "                <div class=\"jupyter-widgets widget-label\" style=\"text-align: center;\">\n",
       "                    Figure\n",
       "                </div>\n",
       "                <img src='data:image/png;base64,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' width=640.0/>\n",
       "            </div>\n",
       "        "
      ],
      "text/plain": [
       "Canvas(toolbar=Toolbar(toolitems=[('Home', 'Reset original view', 'home', 'home'), ('Back', 'Back to previous …"
      ]
     },
     "metadata": {},
     "output_type": "display_data"
    }
   ],
   "source": [
    "import seaborn as sns\n",
    "_,ax = plt.subplots()\n",
    "# df = zsc_df[zsc_df['grp']=='SD']\n",
    "sns.boxplot(data=zsc_df,x='t',y='zscore',hue='grp',showfliers=False)"
   ]
  },
  {
   "cell_type": "markdown",
   "metadata": {},
   "source": [
    "### Peri SWR spectrogram at selected ZTs for POST\n",
    "- Basically average wavelet spectrogram across all ripples\n",
    "- For SD sessions, I did not find any interesting dynamics other than an additional bump in the 15-30 Hz for Zt1, Zt3 and Zt5. Probably similar to what has been reported in Oliva2018 (Origin of gamma frequency power during hippocampal swrs).\n",
    "- Did not do this analysis for NSD sessions."
   ]
  },
  {
   "cell_type": "code",
   "execution_count": null,
   "metadata": {},
   "outputs": [],
   "source": [
    "sessions = (\n",
    "    subjects.sd.ratJday1\n",
    "    + subjects.sd.ratKday1\n",
    "    + subjects.sd.ratNday1\n",
    "    + subjects.sd.ratSday3\n",
    "    + subjects.sd.ratRday2\n",
    "    + subjects.sd.ratUday4\n",
    "    + subjects.sd.ratVday2\n",
    "    # + subjects.nsd.ratJday2\n",
    "    # + subjects.nsd.ratKday2\n",
    "    # subjects.nsd.ratNday2\n",
    "    # + subjects.nsd.ratSday2\n",
    "    # + subjects.nsd.ratRday1\n",
    "    # + subjects.nsd.ratUday2\n",
    "    # + subjects.nsd.ratVday1\n",
    ")\n",
    "rpl_channels = [39, 63, 111, 95, 49, 100, 85, 63, 63, 36, 188, 16, 99, 86]\n",
    "# rpl_channels=[100]\n"
   ]
  },
  {
   "cell_type": "code",
   "execution_count": null,
   "metadata": {},
   "outputs": [],
   "source": [
    "from neuropy.utils.signal_process import hilbert_ampltiude_stat\n",
    "from neuropy.core import Signal\n",
    "\n",
    "spect = []\n",
    "for sub, sess in enumerate(sessions):\n",
    "    maze = sess.paradigm[\"maze\"].flatten()\n",
    "    post = sess.paradigm[\"post\"].flatten()\n",
    "    # rpl_chan = sess.ripple.metadata[\"channels\"][2]\n",
    "\n",
    "    t_starts = np.arange(0, 5, 2) * 3600 + post[0]\n",
    "\n",
    "    freqs = np.geomspace(4, 350, 200)\n",
    "    for t in t_starts:\n",
    "        signal = sess.eegfile.get_signal(rpl_channels[sub], t, t + 3601)\n",
    "        rpl_df = sess.ripple.time_slice(t, t + 3600).to_dataframe()\n",
    "        peakframe = (rpl_df[\"peaktime\"].values * 1250).astype(\"int\")\n",
    "\n",
    "        rpl_frames = [np.arange(p - 250, p + 250) for p in peakframe]\n",
    "        rpl_frames = np.concatenate(rpl_frames) - int(t * 1250)\n",
    "        rpl_frames = rpl_frames[rpl_frames < signal.n_frames]\n",
    "        new_sig = Signal(\n",
    "            signal.traces[0][rpl_frames].reshape(1, -1), sampling_rate=1250\n",
    "        )\n",
    "        wvlt = WaveletSg(\n",
    "            signal=new_sig,\n",
    "            freqs=freqs,\n",
    "            ncycles=10,\n",
    "        )\n",
    "        # wvlt_mean = np.reshape(wvlt.traces, (len(freqs), len(peakframe), -1)).mean(\n",
    "        #     axis=1\n",
    "        # )\n",
    "        wvlt_median = np.median(\n",
    "            np.reshape(wvlt.traces, (len(freqs), len(peakframe), -1)), axis=1\n",
    "        )\n",
    "        spect.append(wvlt_median)\n"
   ]
  },
  {
   "cell_type": "code",
   "execution_count": null,
   "metadata": {},
   "outputs": [],
   "source": [
    "from neuropy.plotting import Fig\n",
    "from scipy.ndimage import gaussian_filter\n",
    "from matplotlib.colors import LogNorm\n",
    "\n",
    "figure = Fig()\n",
    "fig, gs = figure.draw(grid=(5, 3))\n",
    "\n",
    "for i in range(3):\n",
    "    s = np.dstack(spect[i::3]).mean(axis=-1)\n",
    "    # s = gaussian_filter(s,sigma=2)\n",
    "    ax = plt.subplot(gs[i])\n",
    "    ax.imshow(\n",
    "        # np.linspace(-200, 200, 500),\n",
    "        # freqs,\n",
    "        stats.zscore(s, axis=1),\n",
    "        # s,\n",
    "        # extent=[-200,200],\n",
    "        cmap=\"jet\",\n",
    "        # shading=\"gouraud\",\n",
    "        # vmax= 5,\n",
    "        # norm=LogNorm(),\n",
    "        interpolation=\"sinc\",\n",
    "        origin=\"lower\",\n",
    "        aspect=\"auto\",\n",
    "    )\n",
    "    # ax.set_yscale('log')\n",
    "    ax.set_yticks(np.arange(200)[::30], freqs[::30].round().astype(\"int\"))\n",
    "    ax.set_xticks([125, 250, 375], [-100, 0, 100])\n",
    "    # ax.plot(np.median(s,axis=1))\n",
    "# plt.yscale('log')\n",
    "\n",
    "figure.savefig(subjects.figpath_sd / \"ripple_peri_spectrogram_SD\")\n"
   ]
  }
 ],
 "metadata": {
  "interpreter": {
   "hash": "cce1618081139d19eb1ee8d40815d94a2de4f62e1efb20d9406ddb60628c36ae"
  },
  "kernelspec": {
   "display_name": "Python 3.10.2 ('data_analysis')",
   "language": "python",
   "name": "python3"
  },
  "language_info": {
   "codemirror_mode": {
    "name": "ipython",
    "version": 3
   },
   "file_extension": ".py",
   "mimetype": "text/x-python",
   "name": "python",
   "nbconvert_exporter": "python",
   "pygments_lexer": "ipython3",
   "version": "3.10.2"
  },
  "orig_nbformat": 4
 },
 "nbformat": 4,
 "nbformat_minor": 2
}
