{
 "cells": [
  {
   "cell_type": "markdown",
   "metadata": {},
   "source": [
    "### Imports"
   ]
  },
  {
   "cell_type": "code",
   "execution_count": null,
   "metadata": {},
   "outputs": [],
   "source": [
    "import matplotlib.pyplot as plt\n",
    "import numpy as np\n",
    "from neuropy.plotting import Fig\n",
    "import pandas as pd\n",
    "from tqdm.notebook import tqdm\n",
    "from scipy import stats\n",
    "import seaborn as sns\n",
    "import subjects\n",
    "from neuropy.utils.signal_process import WaveletSg\n",
    "\n",
    "# sessions = (\n",
    "#     subjects.sd.ratJday1\n",
    "#     + subjects.sd.ratKday1\n",
    "#     + subjects.sd.ratNday1\n",
    "#     + subjects.sd.ratSday3\n",
    "#     + subjects.sd.ratRday2\n",
    "#     + subjects.sd.ratUday4\n",
    "#     + subjects.sd.ratVday2\n",
    "#     + subjects.nsd.ratJday2\n",
    "#     + subjects.nsd.ratKday2\n",
    "#     + subjects.nsd.ratNday2\n",
    "#     + subjects.nsd.ratSday2\n",
    "#     + subjects.nsd.ratRday1\n",
    "#     + subjects.nsd.ratUday2\n",
    "#     + subjects.nsd.ratVday1\n",
    "# )\n",
    "\n",
    "# rpl_channels = [39, 63, 111, 95, 49, 100, 85, 63, 63, 36, 188, 16, 99, 86]\n"
   ]
  },
  {
   "cell_type": "markdown",
   "metadata": {},
   "source": [
    "### Ripple power spectrum comaprison 1st vs 5th vs 8th hour\n",
    "- To see if ripple lfp timeseries changes PSD during sleep deprivation and compare it to NSD\n",
    "- Method: Ripple traces are concatenated in their corresponding hour and then a PSD is calculated\n",
    "- Results: Compared to 1st hour, ripple band in 5th and 8th hour show a little shift towards slower frequencies (maybe the start cutoff for ripple band is only changing)"
   ]
  },
  {
   "cell_type": "code",
   "execution_count": null,
   "metadata": {},
   "outputs": [],
   "source": [
    "import scipy.signal as sg\n",
    "from neuropy.core import Epoch\n",
    "\n",
    "psd_rpl_df = pd.DataFrame()\n",
    "norm_psd = lambda p: p / np.sqrt(p)\n",
    "\n",
    "for sub, sess in enumerate(tqdm(sessions)):\n",
    "    pre = sess.paradigm[\"pre\"]\n",
    "    maze = sess.paradigm[\"maze\"]\n",
    "    post = sess.paradigm[\"post\"]\n",
    "    # rpl_chan = sess.ripple.metadata[\"channels\"][2]\n",
    "    if sess.tag == \"sd\":\n",
    "        post = post.flatten()\n",
    "        post_epochs = Epoch.from_array(\n",
    "            [post[0], post[0] + 5 * 3600], [post[0] + 5 * 3600, post[1]], [\"sd\", \"rs\"]\n",
    "        )\n",
    "        all_epochs = pre + maze + post_epochs\n",
    "    else:\n",
    "        all_epochs = pre + maze + post\n",
    "\n",
    "    psd = []\n",
    "    for e in all_epochs.itertuples():\n",
    "        signal = sess.eegfile.get_signal(rpl_channels[sub], e.start, e.stop)\n",
    "        rpl_t = sess.ripple.time_slice(e.start, e.stop).as_array()\n",
    "        rpl_frames = [np.arange(int(e[0] * 1250), int(e[1] * 1250)) for e in rpl_t]\n",
    "        rpl_frames = np.concatenate(rpl_frames) - int(e.start * 1250)\n",
    "        rpl_frames = rpl_frames[rpl_frames < signal.n_frames]\n",
    "        f, psd = sg.welch(\n",
    "            signal.traces[0][rpl_frames], fs=1250, nperseg=125, noverlap=62\n",
    "        )\n",
    "        psd_rpl_df = psd_rpl_df.append(\n",
    "            pd.DataFrame(\n",
    "                {\"freq\": f, \"psd\": psd, \"Epoch\": e.label, \"sub\": sub, \"grp\": sess.tag}\n",
    "            ),\n",
    "            ignore_index=True,\n",
    "        )\n",
    "\n",
    "subjects.GroupData().save(psd_rpl_df, \"ripple_psd\")\n"
   ]
  },
  {
   "cell_type": "code",
   "execution_count": null,
   "metadata": {},
   "outputs": [],
   "source": [
    "# %matplotlib widget\n",
    "import seaborn as sns\n",
    "from neuropy.plotting import Fig\n",
    "\n",
    "figure = Fig()\n",
    "fig, gs = figure.draw(grid=(5, 4))\n",
    "\n",
    "for i, grp in enumerate([\"sd\", \"nsd\"]):\n",
    "    df = psd_rpl_df[psd_rpl_df[\"grp\"] == grp]\n",
    "    ax = plt.subplot(gs[i])\n",
    "    sns.lineplot(\n",
    "        data=df,\n",
    "        x=\"freq\",\n",
    "        y=\"psd\",\n",
    "        hue=\"hour\",\n",
    "        ci=None,\n",
    "        ax=ax,\n",
    "        legend=None,\n",
    "    )\n",
    "    ax.set_yscale(\"log\")\n",
    "    # ax.set_xscale('log')\n",
    "    ax.set_xlim([60, 350])\n",
    "    ax.set_ylim([5, 100])\n",
    "    ax.set_xlabel(\"Frequency (Hz)\")\n",
    "    ax.set_ylabel(\"Psd\")\n",
    "    # ax.set_xticks([60,100,200,300],['',100,200,''])\n",
    "    # ax.set_xticks([100,200],rotation=45)\n",
    "\n",
    "figure.savefig(subjects.figpath_sd / \"ripple_psd_various_epochs\")\n"
   ]
  },
  {
   "cell_type": "markdown",
   "metadata": {},
   "source": [
    "### Ripple power (z-score) compared NSD vs SD"
   ]
  },
  {
   "cell_type": "code",
   "execution_count": null,
   "metadata": {},
   "outputs": [],
   "source": [
    "sessions = subjects.ripple_sess()"
   ]
  },
  {
   "cell_type": "code",
   "execution_count": null,
   "metadata": {},
   "outputs": [],
   "source": [
    "zsc_df = []\n",
    "for sub, sess in enumerate(sessions):\n",
    "    pre = sess.paradigm[\"pre\"].flatten()\n",
    "    maze = sess.paradigm[\"maze\"].flatten()\n",
    "    post = sess.paradigm[\"post\"].flatten()\n",
    "\n",
    "    epochs = sess.get_zt_epochs(include_maze=False)\n",
    "\n",
    "    for e in epochs.itertuples():\n",
    "        rpl_df = sess.ripple.time_slice(e.start, e.stop).to_dataframe()\n",
    "        starts = rpl_df.start.values\n",
    "        zscores = rpl_df.peak_power.values\n",
    "\n",
    "        zsc_df.append(\n",
    "            pd.DataFrame(dict(zscore=zscores, zt=e.label, session=sub, grp=sess.tag))\n",
    "        )\n",
    "\n",
    "zsc_df = pd.concat(zsc_df, ignore_index=True)\n",
    "zsc_df= zsc_df[zsc_df.zscore<18]\n",
    "subjects.GroupData().save(zsc_df, \"ripple_zscore\")\n"
   ]
  },
  {
   "cell_type": "code",
   "execution_count": null,
   "metadata": {},
   "outputs": [],
   "source": [
    "import seaborn as sns\n",
    "_,ax = plt.subplots()\n",
    "# df = zsc_df[zsc_df['grp']=='SD']\n",
    "# sns.boxplot(data=zsc_df,x='t',y='zscore',hue='grp',showfliers=False)\n",
    "sns.violinplot(data=zsc_df,x='t',y='zscore',hue='grp',split=True)\n",
    "ax.set_yscale('log')"
   ]
  },
  {
   "cell_type": "markdown",
   "metadata": {},
   "source": [
    "### Ripple power vs frequency scatter plot"
   ]
  },
  {
   "cell_type": "code",
   "execution_count": null,
   "metadata": {},
   "outputs": [],
   "source": [
    "sessions = subjects.ripple_sess()"
   ]
  },
  {
   "cell_type": "code",
   "execution_count": null,
   "metadata": {},
   "outputs": [],
   "source": [
    "ripple_df = []\n",
    "noisy_trace = []\n",
    "for sub, sess in enumerate(sessions):\n",
    "    pre = sess.paradigm[\"pre\"].flatten()\n",
    "    maze = sess.paradigm[\"maze\"].flatten()\n",
    "    post = sess.paradigm[\"post\"].flatten()\n",
    "\n",
    "    rpl = sess.ripple.to_dataframe()\n",
    "    indx = rpl.peak_power.values > 25\n",
    "    noisy_rpls = sess.ripple[indx]\n",
    "\n",
    "    channels = np.concatenate(sess.probegroup.get_connected_channels()).astype(\"int\")\n",
    "    chan = sess.ripple.metadata[\"channels\"][3]\n",
    "\n",
    "    if len(noisy_rpls) > 0:\n",
    "        noisy_trace.append(\n",
    "            sess.eegfile.get_frames_within_epochs(sess.ripple, chan).reshape(-1)\n",
    "        )\n",
    "\n",
    "    ripple_df.append(\n",
    "        pd.DataFrame(\n",
    "            dict(\n",
    "                freq=rpl.peak_frequency_bp,\n",
    "                power=rpl.peak_power,\n",
    "                session=sub,\n",
    "                grp=sess.tag,\n",
    "            )\n",
    "        )\n",
    "    )\n",
    "\n",
    "ripple_df = pd.concat(ripple_df, ignore_index=True)\n",
    "noisy_trace = np.concatenate(noisy_trace)\n"
   ]
  },
  {
   "cell_type": "code",
   "execution_count": null,
   "metadata": {},
   "outputs": [],
   "source": [
    "_,ax = plt.subplots()\n",
    "# sns.scatterplot(data=ripple_df,x='freq',y='power')\n",
    "ax.plot(noisy_trace)\n",
    "# ax.set_yscale('log')"
   ]
  },
  {
   "cell_type": "markdown",
   "metadata": {},
   "source": [
    "### Peri SWR spectrogram at selected ZTs for POST\n",
    "- Basically average wavelet spectrogram across all ripples\n",
    "- For SD sessions, I did not find any interesting dynamics other than an additional bump in the 15-30 Hz for Zt1, Zt3 and Zt5. Probably similar to what has been reported in Oliva2018 (Origin of gamma frequency power during hippocampal swrs).\n",
    "- Did not do this analysis for NSD sessions."
   ]
  },
  {
   "cell_type": "code",
   "execution_count": null,
   "metadata": {},
   "outputs": [],
   "source": [
    "sessions = (\n",
    "    subjects.sd.ratJday1\n",
    "    + subjects.sd.ratKday1\n",
    "    + subjects.sd.ratNday1\n",
    "    + subjects.sd.ratSday3\n",
    "    + subjects.sd.ratRday2\n",
    "    + subjects.sd.ratUday4\n",
    "    + subjects.sd.ratVday2\n",
    "    # + subjects.nsd.ratJday2\n",
    "    # + subjects.nsd.ratKday2\n",
    "    # subjects.nsd.ratNday2\n",
    "    # + subjects.nsd.ratSday2\n",
    "    # + subjects.nsd.ratRday1\n",
    "    # + subjects.nsd.ratUday2\n",
    "    # + subjects.nsd.ratVday1\n",
    ")\n",
    "rpl_channels = [39, 63, 111, 95, 49, 100, 85, 63, 63, 36, 188, 16, 99, 86]\n",
    "# rpl_channels=[100]\n"
   ]
  },
  {
   "cell_type": "code",
   "execution_count": null,
   "metadata": {},
   "outputs": [],
   "source": [
    "from neuropy.utils.signal_process import hilbert_ampltiude_stat\n",
    "from neuropy.core import Signal\n",
    "\n",
    "spect = []\n",
    "for sub, sess in enumerate(sessions):\n",
    "    maze = sess.paradigm[\"maze\"].flatten()\n",
    "    post = sess.paradigm[\"post\"].flatten()\n",
    "    # rpl_chan = sess.ripple.metadata[\"channels\"][2]\n",
    "\n",
    "    t_starts = np.arange(0, 5, 2) * 3600 + post[0]\n",
    "\n",
    "    freqs = np.geomspace(4, 350, 200)\n",
    "    for t in t_starts:\n",
    "        signal = sess.eegfile.get_signal(rpl_channels[sub], t, t + 3601)\n",
    "        rpl_df = sess.ripple.time_slice(t, t + 3600).to_dataframe()\n",
    "        peakframe = (rpl_df[\"peaktime\"].values * 1250).astype(\"int\")\n",
    "\n",
    "        rpl_frames = [np.arange(p - 250, p + 250) for p in peakframe]\n",
    "        rpl_frames = np.concatenate(rpl_frames) - int(t * 1250)\n",
    "        rpl_frames = rpl_frames[rpl_frames < signal.n_frames]\n",
    "        new_sig = Signal(\n",
    "            signal.traces[0][rpl_frames].reshape(1, -1), sampling_rate=1250\n",
    "        )\n",
    "        wvlt = WaveletSg(\n",
    "            signal=new_sig,\n",
    "            freqs=freqs,\n",
    "            ncycles=10,\n",
    "        )\n",
    "        # wvlt_mean = np.reshape(wvlt.traces, (len(freqs), len(peakframe), -1)).mean(\n",
    "        #     axis=1\n",
    "        # )\n",
    "        wvlt_median = np.median(\n",
    "            np.reshape(wvlt.traces, (len(freqs), len(peakframe), -1)), axis=1\n",
    "        )\n",
    "        spect.append(wvlt_median)\n"
   ]
  },
  {
   "cell_type": "code",
   "execution_count": null,
   "metadata": {},
   "outputs": [],
   "source": [
    "from neuropy.plotting import Fig\n",
    "from scipy.ndimage import gaussian_filter\n",
    "from matplotlib.colors import LogNorm\n",
    "\n",
    "figure = Fig()\n",
    "fig, gs = figure.draw(grid=(5, 3))\n",
    "\n",
    "for i in range(3):\n",
    "    s = np.dstack(spect[i::3]).mean(axis=-1)\n",
    "    # s = gaussian_filter(s,sigma=2)\n",
    "    ax = plt.subplot(gs[i])\n",
    "    ax.imshow(\n",
    "        # np.linspace(-200, 200, 500),\n",
    "        # freqs,\n",
    "        stats.zscore(s, axis=1),\n",
    "        # s,\n",
    "        # extent=[-200,200],\n",
    "        cmap=\"jet\",\n",
    "        # shading=\"gouraud\",\n",
    "        # vmax= 5,\n",
    "        # norm=LogNorm(),\n",
    "        interpolation=\"sinc\",\n",
    "        origin=\"lower\",\n",
    "        aspect=\"auto\",\n",
    "    )\n",
    "    # ax.set_yscale('log')\n",
    "    ax.set_yticks(np.arange(200)[::30], freqs[::30].round().astype(\"int\"))\n",
    "    ax.set_xticks([125, 250, 375], [-100, 0, 100])\n",
    "    # ax.plot(np.median(s,axis=1))\n",
    "# plt.yscale('log')\n",
    "\n",
    "figure.savefig(subjects.figpath_sd / \"ripple_peri_spectrogram_SD\")\n"
   ]
  },
  {
   "cell_type": "markdown",
   "metadata": {},
   "source": [
    "### Sharp wave amplitude and write it in the ripple file"
   ]
  },
  {
   "cell_type": "code",
   "execution_count": null,
   "metadata": {},
   "outputs": [],
   "source": [
    "from joblib import Parallel, delayed\n",
    "from neuropy.utils.signal_process import filter_sig\n",
    "\n",
    "sessions = subjects.ripple_sess()\n",
    "\n",
    "get_extrema = lambda arr: arr[np.argmax(np.abs(arr))]\n",
    "\n",
    "\n",
    "def get_max_val(x, t, bins):\n",
    "    return stats.binned_statistic(t, x, bins=bins, statistic=get_extrema)[0][::2]\n",
    "\n",
    "\n",
    "for sub, sess in enumerate(tqdm(sessions)):\n",
    "\n",
    "    srate= sess.eegfile.sampling_rate\n",
    "    good_channels = np.concatenate(sess.probegroup.get_connected_channels()).astype(\n",
    "        \"int\"\n",
    "    )\n",
    "    rpl_epochs = sess.ripple.flatten()\n",
    "    rpl_starts = rpl_epochs[::2]\n",
    "    rpl_traces, t = sess.eegfile.get_frames_within_epochs(\n",
    "        sess.ripple, good_channels, ret_time=True\n",
    "    )\n",
    "    rpl_traces = filter_sig.bandpass(rpl_traces, lf=2, hf=30, fs=srate)\n",
    "\n",
    "    max_val = Parallel(n_jobs=8)(\n",
    "        delayed(get_max_val)(arr, t, rpl_epochs) for arr in rpl_traces\n",
    "    )\n",
    "    max_val = np.asarray(max_val)\n",
    "\n",
    "    # raw amplitude in mV\n",
    "    amp_raw = np.ptp(max_val, axis=0) * 0.95 * 1e-3\n",
    "\n",
    "    new_epochs = sess.ripple.add_column(\"sharp_wave_amp\", amp_raw)\n",
    "    new_epochs.save(sess.filePrefix.with_suffix(\".ripple\"))\n"
   ]
  },
  {
   "cell_type": "markdown",
   "metadata": {},
   "source": [
    "### Awake vs Sleep ripples features\n",
    "- Do awake ripples look different that sleep ripples"
   ]
  },
  {
   "cell_type": "code",
   "execution_count": null,
   "metadata": {},
   "outputs": [],
   "source": [
    "sessions = subjects.sd.ratUday4"
   ]
  },
  {
   "cell_type": "code",
   "execution_count": null,
   "metadata": {},
   "outputs": [],
   "source": [
    "from neuropy.utils.signal_process import hilbertfast, filter_sig\n",
    "from sklearn.decomposition import PCA\n",
    "\n",
    "\n",
    "\n",
    "def get_pca(epochs, channels):\n",
    "    pca_rpls = []\n",
    "    for e in epochs.as_array():\n",
    "        signal = sess.eegfile.get_signal(channels, e[0], e[1])\n",
    "        # amp = np.abs(filter_sig.bandpass(signal.traces, lf=2, hf=25, fs=1250, ax=-1))\n",
    "        amp = np.abs(signal.traces)\n",
    "\n",
    "\n",
    "        # pca = PCA(n_components=1).fit_transform(signal.traces)\n",
    "        # pca_rpls.append(pca.reshape(-1))\n",
    "        pca_rpls.append(np.max(amp, axis=1))\n",
    "    return np.array(pca_rpls)\n",
    "\n",
    "\n",
    "for sub, sess in enumerate(sessions):\n",
    "    maze = sess.paradigm[\"maze\"].flatten()\n",
    "    post = sess.paradigm[\"post\"].flatten()\n",
    "    channels = sess.recinfo.channel_groups[6].astype(\"int\")\n",
    "    maze_rpls = sess.ripple.time_slice(*maze)\n",
    "    post_rpls = sess.ripple.time_slice(post[0] + 3600, post[0] + 6 * 3600)\n",
    "\n",
    "    maze_pca = get_pca(maze_rpls, channels)\n",
    "    post_pca = get_pca(post_rpls, channels)\n"
   ]
  },
  {
   "cell_type": "code",
   "execution_count": null,
   "metadata": {},
   "outputs": [],
   "source": [
    "from scipy.ndimage import gaussian_filter1d\n",
    "_,ax = plt.subplots()\n",
    "\n",
    "vals = np.concatenate([maze_pca[:,0],post_pca[:,0]])\n",
    "ax.plot(gaussian_filter1d(vals,2))"
   ]
  },
  {
   "cell_type": "code",
   "execution_count": null,
   "metadata": {},
   "outputs": [],
   "source": [
    "plt.clf()\n",
    "_,ax = plt.subplots()\n",
    "\n",
    "colors = ['r','k']\n",
    "for i,p in enumerate([maze_pca,post_pca]):\n",
    "    ax.scatter(p[:,0],p[:,15],c=colors[i],s=5,alpha=0.2)"
   ]
  },
  {
   "cell_type": "code",
   "execution_count": null,
   "metadata": {},
   "outputs": [],
   "source": [
    "from sklearn.cluster import KMeans,DBSCAN\n",
    "from sklearn.mixture import GaussianMixture\n",
    "from sklearn.preprocessing import MinMaxScaler\n",
    "from neuropy.core import Epoch\n",
    "from sklearn.neighbors import LocalOutlierFactor\n",
    "\n",
    "\n",
    "pca_of_rpl_amp = PCA(n_components=2).fit_transform(pca_ripples)\n",
    "features = MinMaxScaler().fit_transform(pca_of_rpl_amp) \n",
    "labels = GaussianMixture(n_components=2,random_state=0).fit_predict(features)\n",
    "outliers= LocalOutlierFactor(n_neighbors=20).fit_predict(features)\n",
    "\n",
    "# starts,stops = sess.ripple.starts,sess.ripple.stops\n",
    "# weird_ripples = Epoch.from_array(starts[labels==0],stops[labels==0])\n",
    "# sess.recinfo.write_epochs(weird_ripples,ext='wrp')\n"
   ]
  },
  {
   "cell_type": "code",
   "execution_count": null,
   "metadata": {},
   "outputs": [],
   "source": [
    "%matplotlib widget\n",
    "\n",
    "for l in [0,1]:\n",
    "    plt.plot(features[labels==l,0],features[labels==l,1],'.')\n",
    "\n",
    "plt.plot(features[outliers==-1,0],features[outliers==-1,1],'k.')"
   ]
  },
  {
   "cell_type": "markdown",
   "metadata": {},
   "source": [
    "### Ripple direction"
   ]
  },
  {
   "cell_type": "code",
   "execution_count": null,
   "metadata": {},
   "outputs": [],
   "source": [
    "sessions = subjects.nsd.ratUday2"
   ]
  },
  {
   "cell_type": "code",
   "execution_count": null,
   "metadata": {},
   "outputs": [],
   "source": [
    "0.012/(1/1250)"
   ]
  },
  {
   "cell_type": "code",
   "execution_count": null,
   "metadata": {},
   "outputs": [],
   "source": [
    "from neuropy.utils.signal_process import hilbertfast,filter_sig\n",
    "from scipy.ndimage import gaussian_filter1d\n",
    "\n",
    "rng = np.random.default_rng()\n",
    "smooth = lambda arr: gaussian_filter1d(arr,sigma=0.012*1250,axis=-1)\n",
    "for sub,sess in enumerate(sessions):\n",
    "    maze = sess.paradigm['maze'].flatten()\n",
    "    channels = sess.ripple.metadata['channels']\n",
    "    rpls = sess.ripple.time_slice(*maze).to_dataframe().peak_time.values\n",
    "\n",
    "    indx = rng.choice(len(rpls))\n",
    "    t = rpls[indx] \n",
    "    ep = [t-0.5,t+0.5]\n",
    "    signal = sess.eegfile.get_signal(channels,*ep)\n",
    "    rpl_band = filter_sig.bandpass(signal,lf=125,hf=250)\n",
    "    hil_amp = np.abs(hilbertfast(rpl_band.traces,ax=-1))\n",
    "    hil_amp = smooth(hil_amp)\n",
    "    \n",
    "    "
   ]
  },
  {
   "cell_type": "code",
   "execution_count": null,
   "metadata": {},
   "outputs": [],
   "source": [
    "from matplotlib.cm import get_cmap\n",
    "_,ax = plt.subplots()\n",
    "\n",
    "a = hil_amp + np.linspace(0,600,len(channels))[::-1][:,np.newaxis]\n",
    "\n",
    "cmap = get_cmap('Reds')\n",
    "\n",
    "for i in range(len(channels)):\n",
    "    ax.plot(a[i],color=cmap(i/len(channels)+0.05))"
   ]
  },
  {
   "cell_type": "markdown",
   "metadata": {},
   "source": []
  }
 ],
 "metadata": {
  "interpreter": {
   "hash": "cce1618081139d19eb1ee8d40815d94a2de4f62e1efb20d9406ddb60628c36ae"
  },
  "kernelspec": {
   "display_name": "Python 3.10.2 ('data_analysis')",
   "language": "python",
   "name": "python3"
  },
  "language_info": {
   "codemirror_mode": {
    "name": "ipython",
    "version": 3
   },
   "file_extension": ".py",
   "mimetype": "text/x-python",
   "name": "python",
   "nbconvert_exporter": "python",
   "pygments_lexer": "ipython3",
   "version": "3.10.4"
  },
  "orig_nbformat": 4
 },
 "nbformat": 4,
 "nbformat_minor": 2
}
