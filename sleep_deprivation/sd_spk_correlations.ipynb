{
    "cells": [
        {
            "cell_type": "markdown",
            "source": [
                "# Analyses\n",
                "- all neuronal pairwise correlations during sleep deprivation go here"
            ],
            "metadata": {}
        },
        {
            "cell_type": "markdown",
            "source": [
                "# Distribution of pairwise correlations during SD from first to last hour of SD\n",
                "- also compare with nsd 1st hour of sleep vs 5th hour sleep"
            ],
            "metadata": {}
        },
        {
            "cell_type": "code",
            "execution_count": null,
            "source": [
                "import numpy as np\n",
                "import subjects\n",
                "import pandas as pd\n",
                "import seaborn as sns\n",
                "import matplotlib.pyplot as plt\n",
                "from neuropy.plotting import Fig\n",
                "\n",
                "sessions_sd = subjects.sd.allsess\n",
                "sessions_nsd = subjects.nsd.allsess[:-1]\n"
            ],
            "outputs": [],
            "metadata": {}
        },
        {
            "cell_type": "code",
            "execution_count": null,
            "source": [
                "%matplotlib inline\n",
                "figure = Fig()\n",
                "fig,gs = figure.draw(grid=(2,2),style='Pres')\n",
                "gs_ = figure.subplot2grid(gs[:,1],grid=(5,2),hspace=0.5)\n",
                "all_corr_sd = []\n",
                "\n",
                "cdf = lambda x: np.cumsum(x)/np.sum(x)\n",
                "\n",
                "bins = np.arange(-0.1,0.4,0.01)\n",
                "for sub, sess in enumerate(sessions_sd):\n",
                "    post = sess.paradigm['post']\n",
                "    sd = [post[0],post[0]+5*3600]\n",
                "\n",
                "    neurons = sess.neurons.get_neuron_type('pyr')\n",
                "    cal_pair_corr=lambda t:neurons.get_binned_spiketrains(t_start=t,t_stop=t+3600).get_pairwise_corr()\n",
                "    corr_pair = np.asarray( [cal_pair_corr(_) for _ in [sd[0],sd[0]+4*3600]])\n",
                "    f_h = np.histogram(corr_pair[0],bins=bins)[0]\n",
                "    l_h = np.histogram(corr_pair[1],bins=bins)[0]\n",
                "\n",
                "    ax = plt.subplot(gs_[sub])\n",
                "    ax.plot(bins[:-1],cdf(f_h))\n",
                "    ax.plot(bins[:-1],cdf(l_h))\n",
                "    ax.set_title(f'sub {sub}')\n",
                "\n",
                "    all_corr_sd.append(corr_pair)\n",
                "\n",
                "all_corr_nsd=[]\n",
                "for sub, sess in enumerate(sessions_nsd,sub+2):\n",
                "    post = sess.paradigm['post']\n",
                "\n",
                "    neurons = sess.neurons.get_neuron_type('pyr')\n",
                "    cal_pair_corr=lambda t:neurons.get_binned_spiketrains(t_start=t,t_stop=t+3600).get_pairwise_corr()\n",
                "    corr_pair = np.asarray( [cal_pair_corr(_) for _ in [post[0],post[0]+4*3600]])\n",
                "    f_h = np.histogram(corr_pair[0],bins=bins)[0]\n",
                "    l_h = np.histogram(corr_pair[1],bins=bins)[0]\n",
                "\n",
                "    ax = plt.subplot(gs_[sub])\n",
                "    ax.plot(bins[:-1],cdf(f_h))\n",
                "    ax.plot(bins[:-1],cdf(l_h))\n",
                "    ax.set_title(f'sub {sub}')\n",
                "\n",
                "    all_corr_nsd.append(corr_pair)\n",
                "\n",
                "\n",
                "\n",
                "\n",
                "ax = plt.subplot(gs[0])\n",
                "all_corr_sd = np.hstack(all_corr_sd)\n",
                "first_h_sd = np.histogram(all_corr_sd[0],bins=bins)[0]\n",
                "last_h_sd = np.histogram(all_corr_sd[1],bins=bins)[0]\n",
                "\n",
                "all_corr_nsd = np.hstack(all_corr_nsd)\n",
                "first_h_nsd = np.histogram(all_corr_nsd[0],bins=bins)[0]\n",
                "last_h_nsd = np.histogram(all_corr_nsd[1],bins=bins)[0]\n",
                "\n",
                "ax.plot(bins[:-1],cdf(first_h_sd),'r',label='sd_ZT1')\n",
                "ax.plot(bins[:-1],cdf(last_h_sd),'g',label='sd_ZT5')\n",
                "ax.plot(bins[:-1],cdf(first_h_nsd),'k',label='nsd_ZT1')\n",
                "ax.plot(bins[:-1],cdf(last_h_nsd),'gray',label='nsd_ZT5')\n",
                "\n",
                "ax.legend()\n",
                "ax.set_xlabel('Pairwise correlation')\n",
                "ax.set_ylabel('Probability')"
            ],
            "outputs": [],
            "metadata": {}
        },
        {
            "cell_type": "markdown",
            "source": [
                "# Pairwise correlation across time each session individually"
            ],
            "metadata": {}
        },
        {
            "cell_type": "code",
            "execution_count": null,
            "source": [
                "import subjects"
            ],
            "outputs": [],
            "metadata": {}
        },
        {
            "cell_type": "code",
            "execution_count": null,
            "source": [
                "figure = Fig()\n",
                "fig, gs = figure.draw(num=1, grid=(3, 2))\n",
                "# sessions = subjects.Sd().allsess + subjects.Nsd().allsess\n",
                "sessions = subjects.Sd().ratJday1\n",
                "\n",
                "for sub, sess in enumerate(sessions):\n",
                "\n",
                "    pre = sess.epochs.pre\n",
                "    maze1 = sess.epochs.maze\n",
                "    if maze1 is None:\n",
                "        maze1 = sess.epochs.maze1\n",
                "    post = sess.epochs.post\n",
                "\n",
                "    # --- break region into periods --------\n",
                "    bins = sess.utils.getinterval([post[0], post[0] + 5 * 3600], 2)\n",
                "    sess.spikes.stability.firingRate(periods=bins)\n",
                "\n",
                "    sess.replay.corr.across_time_window(period=[post[0], post[0] + 5 * 3600])\n",
                "    ax = plt.subplot(gs[sub])\n",
                "    sess.replay.corr.plot_across_time(ax=ax, smooth=1, tstart=maze1[0])\n",
                "\n",
                "    corr_mat = sess.replay.corr.corr\n",
                "\n",
                "\n",
                "# figure.savefig(\"RatS_EV\", __file__)"
            ],
            "outputs": [],
            "metadata": {}
        }
    ],
    "metadata": {
        "orig_nbformat": 4,
        "language_info": {
            "name": "python",
            "version": "3.9.4",
            "mimetype": "text/x-python",
            "codemirror_mode": {
                "name": "ipython",
                "version": 3
            },
            "pygments_lexer": "ipython3",
            "nbconvert_exporter": "python",
            "file_extension": ".py"
        },
        "kernelspec": {
            "name": "python3",
            "display_name": "Python 3.9.4 64-bit ('data_analysis': conda)"
        },
        "interpreter": {
            "hash": "7b10c821bc4bd3f433a613d47515e6babc6c2152896bd1e143404cc9d6ede4ad"
        }
    },
    "nbformat": 4,
    "nbformat_minor": 2
}