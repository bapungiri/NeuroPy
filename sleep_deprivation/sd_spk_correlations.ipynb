{
    "cells": [
        {
            "cell_type": "markdown",
            "source": [
                "# Analyses\n",
                "- all neuronal pairwise correlations during sleep deprivation go here"
            ],
            "metadata": {}
        },
        {
            "cell_type": "markdown",
            "source": [
                "# Distribution of pairwise correlations during SD from first to last hour of SD\n",
                "- also compare with nsd 1st hour of sleep vs 5th hour sleep"
            ],
            "metadata": {}
        },
        {
            "cell_type": "code",
            "execution_count": null,
            "source": [
                "import numpy as np\n",
                "import subjects\n",
                "import pandas as pd\n",
                "import seaborn as sns\n",
                "import matplotlib.pyplot as plt\n",
                "from neuropy.plotting import Fig\n",
                "\n",
                "sessions_sd = subjects.sd.allsess\n",
                "sessions_nsd = subjects.nsd.allsess[:-1]"
            ],
            "outputs": [],
            "metadata": {}
        },
        {
            "cell_type": "code",
            "execution_count": null,
            "source": [
                "%matplotlib inline\n",
                "figure = Fig()\n",
                "fig,gs = figure.draw(grid=(2,2),style='Pres')\n",
                "gs_ = figure.subplot2grid(gs[:,1],grid=(5,2),hspace=0.5)\n",
                "all_corr_sd = []\n",
                "\n",
                "cdf = lambda x: np.cumsum(x)/np.sum(x)\n",
                "\n",
                "bins = np.arange(-0.1,0.4,0.01)\n",
                "for sub, sess in enumerate(sessions_sd):\n",
                "    post = sess.paradigm['post']\n",
                "    sd = [post[0],post[0]+5*3600]\n",
                "\n",
                "    neurons = sess.neurons.get_neuron_type('pyr')\n",
                "    cal_pair_corr=lambda t:neurons.get_binned_spiketrains(t_start=t,t_stop=t+3600).get_pairwise_corr()\n",
                "    corr_pair = np.asarray( [cal_pair_corr(_) for _ in [sd[0],sd[0]+4*3600]])\n",
                "    f_h = np.histogram(corr_pair[0],bins=bins)[0]\n",
                "    l_h = np.histogram(corr_pair[1],bins=bins)[0]\n",
                "\n",
                "    ax = plt.subplot(gs_[sub])\n",
                "    ax.plot(bins[:-1],cdf(f_h))\n",
                "    ax.plot(bins[:-1],cdf(l_h))\n",
                "    ax.set_title(f'sub {sub}')\n",
                "\n",
                "    all_corr_sd.append(corr_pair)\n",
                "\n",
                "all_corr_nsd=[]\n",
                "for sub, sess in enumerate(sessions_nsd,sub+2):\n",
                "    post = sess.paradigm['post']\n",
                "\n",
                "    neurons = sess.neurons.get_neuron_type('pyr')\n",
                "    cal_pair_corr=lambda t:neurons.get_binned_spiketrains(t_start=t,t_stop=t+3600).get_pairwise_corr()\n",
                "    corr_pair = np.asarray( [cal_pair_corr(_) for _ in [post[0],post[0]+4*3600]])\n",
                "    f_h = np.histogram(corr_pair[0],bins=bins)[0]\n",
                "    l_h = np.histogram(corr_pair[1],bins=bins)[0]\n",
                "\n",
                "    ax = plt.subplot(gs_[sub])\n",
                "    ax.plot(bins[:-1],cdf(f_h))\n",
                "    ax.plot(bins[:-1],cdf(l_h))\n",
                "    ax.set_title(f'sub {sub}')\n",
                "\n",
                "    all_corr_nsd.append(corr_pair)\n",
                "\n",
                "\n",
                "\n",
                "\n",
                "ax = plt.subplot(gs[0])\n",
                "all_corr_sd = np.hstack(all_corr_sd)\n",
                "first_h_sd = np.histogram(all_corr_sd[0],bins=bins)[0]\n",
                "last_h_sd = np.histogram(all_corr_sd[1],bins=bins)[0]\n",
                "\n",
                "all_corr_nsd = np.hstack(all_corr_nsd)\n",
                "first_h_nsd = np.histogram(all_corr_nsd[0],bins=bins)[0]\n",
                "last_h_nsd = np.histogram(all_corr_nsd[1],bins=bins)[0]\n",
                "\n",
                "ax.plot(bins[:-1],cdf(first_h_sd),'r',label='sd_ZT1')\n",
                "ax.plot(bins[:-1],cdf(last_h_sd),'g',label='sd_ZT5')\n",
                "ax.plot(bins[:-1],cdf(first_h_nsd),'k',label='nsd_ZT1')\n",
                "ax.plot(bins[:-1],cdf(last_h_nsd),'gray',label='nsd_ZT5')\n",
                "\n",
                "ax.legend()\n",
                "ax.set_xlabel('Pairwise correlation')\n",
                "ax.set_ylabel('Probability')"
            ],
            "outputs": [],
            "metadata": {}
        },
        {
            "cell_type": "markdown",
            "source": [
                "# Pairwise correlation across time each session individually"
            ],
            "metadata": {}
        },
        {
            "cell_type": "code",
            "execution_count": 43,
            "source": [
                "import numpy as np\n",
                "import matplotlib.pyplot as plt\n",
                "import numpy as np\n",
                "import seaborn as sns\n",
                "from neuropy import plotting\n",
                "from neuropy.utils import signal_process\n",
                "import subjects\n",
                "import pandas as pd\n",
                "from neuropy.analyses import neurons_correlation\n",
                "\n",
                "sessions = subjects.sd.ratNday1+ subjects.sd.ratSday3+ subjects.sd.ratRday2 + subjects.sd.ratUday4\n"
            ],
            "outputs": [],
            "metadata": {}
        },
        {
            "cell_type": "code",
            "execution_count": 44,
            "source": [
                "# sessions = subjects.Sd().allsess + subjects.Nsd().allsess\n",
                "pair_corr_all = []\n",
                "for sub, sess in enumerate(sessions):\n",
                "    neurons = sess.neurons.get_neuron_type('pyr')\n",
                "    pair_corr = neurons_correlation.corr_across_time_window(neurons)\n",
                "    np.fill_diagonal(pair_corr,val=0)\n",
                "    pair_corr_all.append(pair_corr)"
            ],
            "outputs": [
                {
                    "output_type": "stream",
                    "name": "stderr",
                    "text": [
                        "/home/bapung/miniconda3/envs/data_analysis/lib/python3.9/site-packages/numpy/lib/function_base.py:2691: RuntimeWarning: invalid value encountered in true_divide\n",
                        "  c /= stddev[:, None]\n",
                        "/home/bapung/miniconda3/envs/data_analysis/lib/python3.9/site-packages/numpy/lib/function_base.py:2692: RuntimeWarning: invalid value encountered in true_divide\n",
                        "  c /= stddev[None, :]\n"
                    ]
                }
            ],
            "metadata": {}
        },
        {
            "cell_type": "code",
            "execution_count": 45,
            "source": [
                "%matplotlib widget\n",
                "from scipy.ndimage import gaussian_filter\n",
                "figure = plotting.Fig()\n",
                "fig, gs = figure.draw(num=1, grid=(2, 2))\n",
                "\n",
                "for i,pair_corr in enumerate(pair_corr_all):\n",
                "    ax = plt.subplot(gs[i])\n",
                "    sns.heatmap(pair_corr,ax=ax,cmap='jet')\n"
            ],
            "outputs": [
                {
                    "output_type": "display_data",
                    "data": {
                        "text/plain": [
                            "Canvas(toolbar=Toolbar(toolitems=[('Home', 'Reset original view', 'home', 'home'), ('Back', 'Back to previous …"
                        ],
                        "application/vnd.jupyter.widget-view+json": {
                            "version_major": 2,
                            "version_minor": 0,
                            "model_id": "7cc3a94382c2440e8f423de6222d785a"
                        }
                    },
                    "metadata": {}
                }
            ],
            "metadata": {}
        },
        {
            "cell_type": "markdown",
            "source": [
                "# Pairwise correlation across pooled across sessions"
            ],
            "metadata": {}
        },
        {
            "cell_type": "code",
            "execution_count": null,
            "source": [
                "sessions = subjects.Sd().allsess + subjects.Nsd().allsess\n",
                "# sessions = subjects.Sd().ratJday1\n",
                "corr_sd, corr_nsd = [], []\n",
                "for sub, sess in enumerate(sessions):\n",
                "\n",
                "    pre = sess.epochs.pre\n",
                "    maze1 = sess.epochs.maze\n",
                "    if maze1 is None:\n",
                "        maze1 = sess.epochs.maze1\n",
                "    post = sess.epochs.post\n",
                "    tag = sess.recinfo.animal.tag\n",
                "\n",
                "    # --- break region into periods --------\n",
                "    # bins = sess.utils.getinterval([post[0], post[0] + 5 * 3600], 2)\n",
                "    # sess.spikes.stability.firingRate(periods=bins)\n",
                "    spks = sess.spikes.pyr\n",
                "    epochs = np.arange(post[0], post[0] + 8 * 3600, 300)\n",
                "    corr = []\n",
                "    for i in range(len(epochs) - 1):\n",
                "        corr.append(\n",
                "            sess.spikes.corr.pairwise(spikes=spks, period=[epochs[i], epochs[i + 1]])\n",
                "        )\n",
                "    corr = np.asarray(corr)\n",
                "\n",
                "    if tag == \"sd\":\n",
                "        corr_sd.append(corr)\n",
                "    else:\n",
                "        corr_nsd.append(corr)\n",
                "\n",
                "\n",
                "def process_(corr_mat):\n",
                "    corr_mat = np.hstack(corr_mat)\n",
                "    corr_mask = np.ma.array(corr_mat, mask=np.isnan(corr_mat))\n",
                "    corr_ = np.ma.corrcoef(corr_mask)\n",
                "    np.fill_diagonal(corr_, 0)\n",
                "    # corr_ = gaussian_filter(corr_, sigma=1)\n",
                "    return corr_\n",
                "\n",
                "\n",
                "corr_sd = process_(corr_sd)\n",
                "corr_nsd = process_(corr_nsd)\n",
                "\n",
                "time = np.linspace(0, 8, corr_sd.shape[0] + 1)\n",
                "\n",
                "figure = Fig()\n",
                "fig, gs = figure.draw(num=1, grid=(4, 3), wspace=0.3)\n",
                "axsd = plt.subplot(gs[2])\n",
                "im = axsd.pcolormesh(time[:-1], time[:-1], corr_sd, cmap=\"Spectral_r\", rasterized=True)\n",
                "axsd.set_xlabel(\"Time (h)\")\n",
                "axsd.set_ylabel(\"Time (h)\")\n",
                "cbar = fig.colorbar(im, ax=axsd)\n",
                "cbar.outline.set_linewidth(1)\n",
                "\n",
                "\n",
                "axnsd = plt.subplot(gs[5])\n",
                "im = axnsd.pcolormesh(\n",
                "    time[:-1], time[:-1], corr_nsd, cmap=\"Spectral_r\", rasterized=True\n",
                ")\n",
                "axnsd.set_xlabel(\"Time (h)\")\n",
                "cbar = fig.colorbar(im, ax=axnsd)\n",
                "cbar.outline.set_linewidth(1)\n",
                "# cbar.set_label(\"correlation\")\n",
                "\n",
                "figure.savefig(\"correlation_time_window\", __file__)"
            ],
            "outputs": [],
            "metadata": {}
        }
    ],
    "metadata": {
        "orig_nbformat": 4,
        "language_info": {
            "name": "python",
            "version": "3.9.6",
            "mimetype": "text/x-python",
            "codemirror_mode": {
                "name": "ipython",
                "version": 3
            },
            "pygments_lexer": "ipython3",
            "nbconvert_exporter": "python",
            "file_extension": ".py"
        },
        "kernelspec": {
            "name": "python3",
            "display_name": "Python 3.9.6 64-bit ('data_analysis': conda)"
        },
        "interpreter": {
            "hash": "7b10c821bc4bd3f433a613d47515e6babc6c2152896bd1e143404cc9d6ede4ad"
        }
    },
    "nbformat": 4,
    "nbformat_minor": 2
}