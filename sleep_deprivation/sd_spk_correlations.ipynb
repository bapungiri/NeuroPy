{
    "cells": [
        {
            "cell_type": "markdown",
            "metadata": {},
            "source": [
                "### Analyses\n",
                "- all neuronal pairwise correlations during sleep deprivation go here"
            ]
        },
        {
            "cell_type": "markdown",
            "metadata": {},
            "source": [
                "### Distribution of pairwise correlations during SD from first to last hour of SD\n",
                "- also compare with nsd 1st hour of sleep vs 5th hour sleep"
            ]
        },
        {
            "cell_type": "code",
            "execution_count": null,
            "metadata": {},
            "outputs": [],
            "source": [
                "import numpy as np\n",
                "import subjects\n",
                "import pandas as pd\n",
                "import seaborn as sns\n",
                "import matplotlib.pyplot as plt\n",
                "from neuropy.plotting import Fig\n",
                "\n",
                "sessions_sd = subjects.sd.allsess\n",
                "sessions_nsd = subjects.nsd.allsess[:-1]"
            ]
        },
        {
            "cell_type": "code",
            "execution_count": null,
            "metadata": {},
            "outputs": [],
            "source": [
                "%matplotlib inline\n",
                "figure = Fig()\n",
                "fig,gs = figure.draw(grid=(2,2),style='Pres')\n",
                "gs_ = figure.subplot2grid(gs[:,1],grid=(5,2),hspace=0.5)\n",
                "all_corr_sd = []\n",
                "\n",
                "cdf = lambda x: np.cumsum(x)/np.sum(x)\n",
                "\n",
                "bins = np.arange(-0.1,0.4,0.01)\n",
                "for sub, sess in enumerate(sessions_sd):\n",
                "    post = sess.paradigm['post']\n",
                "    sd = [post[0],post[0]+5*3600]\n",
                "\n",
                "    neurons = sess.neurons.get_neuron_type('pyr')\n",
                "    cal_pair_corr=lambda t:neurons.get_binned_spiketrains(t_start=t,t_stop=t+3600).get_pairwise_corr()\n",
                "    corr_pair = np.asarray( [cal_pair_corr(_) for _ in [sd[0],sd[0]+4*3600]])\n",
                "    f_h = np.histogram(corr_pair[0],bins=bins)[0]\n",
                "    l_h = np.histogram(corr_pair[1],bins=bins)[0]\n",
                "\n",
                "    ax = plt.subplot(gs_[sub])\n",
                "    ax.plot(bins[:-1],cdf(f_h))\n",
                "    ax.plot(bins[:-1],cdf(l_h))\n",
                "    ax.set_title(f'sub {sub}')\n",
                "    all_corr_sd.append(corr_pair)\n",
                "\n",
                "all_corr_nsd=[]\n",
                "for sub, sess in enumerate(sessions_nsd,sub+2):\n",
                "    post = sess.paradigm['post']\n",
                "\n",
                "    neurons = sess.neurons.get_neuron_type('pyr')\n",
                "    cal_pair_corr=lambda t:neurons.get_binned_spiketrains(t_start=t,t_stop=t+3600).get_pairwise_corr()\n",
                "    corr_pair = np.asarray( [cal_pair_corr(_) for _ in [post[0],post[0]+4*3600]])\n",
                "    f_h = np.histogram(corr_pair[0],bins=bins)[0]\n",
                "    l_h = np.histogram(corr_pair[1],bins=bins)[0]\n",
                "\n",
                "    ax = plt.subplot(gs_[sub])\n",
                "    ax.plot(bins[:-1],cdf(f_h))\n",
                "    ax.plot(bins[:-1],cdf(l_h))\n",
                "    ax.set_title(f'sub {sub}')\n",
                "\n",
                "    all_corr_nsd.append(corr_pair)\n",
                "\n",
                "\n",
                "\n",
                "\n",
                "ax = plt.subplot(gs[0])\n",
                "all_corr_sd = np.hstack(all_corr_sd)\n",
                "first_h_sd = np.histogram(all_corr_sd[0],bins=bins)[0]\n",
                "last_h_sd = np.histogram(all_corr_sd[1],bins=bins)[0]\n",
                "\n",
                "all_corr_nsd = np.hstack(all_corr_nsd)\n",
                "first_h_nsd = np.histogram(all_corr_nsd[0],bins=bins)[0]\n",
                "last_h_nsd = np.histogram(all_corr_nsd[1],bins=bins)[0]\n",
                "\n",
                "ax.plot(bins[:-1],cdf(first_h_sd),'r',label='sd_ZT1')\n",
                "ax.plot(bins[:-1],cdf(last_h_sd),'g',label='sd_ZT5')\n",
                "ax.plot(bins[:-1],cdf(first_h_nsd),'k',label='nsd_ZT1')\n",
                "ax.plot(bins[:-1],cdf(last_h_nsd),'gray',label='nsd_ZT5')\n",
                "\n",
                "ax.legend()\n",
                "ax.set_xlabel('Pairwise correlation')\n",
                "ax.set_ylabel('Probability')"
            ]
        },
        {
            "cell_type": "markdown",
            "metadata": {},
            "source": [
                "### Compare pariwise correlation using scatter plot from first to last hour of sleep deprivation"
            ]
        },
        {
            "cell_type": "code",
            "execution_count": null,
            "metadata": {},
            "outputs": [],
            "source": [
                "import numpy as np\n",
                "import matplotlib.pyplot as plt\n",
                "import pandas as pd\n",
                "import seaborn as sns\n",
                "from scipy import stats\n",
                "from neuropy.plotting import Fig\n",
                "from scipy.ndimage import gaussian_filter1d\n",
                "import subjects\n",
                "\n",
                "sd_sessions = subjects.sd.allsess[2:-1]\n",
                "nsd_sessions = subjects.nsd.ratNday2 + subjects.nsd.ratSday2 + subjects.nsd.ratUday2\n",
                "print(sd_sessions)"
            ]
        },
        {
            "cell_type": "code",
            "execution_count": null,
            "metadata": {},
            "outputs": [],
            "source": [
                "pcorr_sd = []\n",
                "pcorr_nsd = []\n",
                "for grp_ind, sessions in enumerate([sd_sessions, nsd_sessions]):\n",
                "    for sub, sess in enumerate(sessions):\n",
                "        maze = sess.paradigm[\"maze\"]\n",
                "        rec_duration = sess.eegfile.duration\n",
                "        neurons = sess.neurons.get_neuron_type(\"mua\")\n",
                "\n",
                "        bin_size = 60\n",
                "        pcorr_sub = []\n",
                "        for start in [maze[0], maze[0] + 4 * 3600]:\n",
                "            pcorr = (\n",
                "                neurons.time_slice(start, start + 3600)\n",
                "                .get_binned_spiketrains(bin_size=bin_size)\n",
                "                .get_pairwise_corr()\n",
                "            )\n",
                "            pcorr_sub.append(pcorr)\n",
                "        pcorr_sub = np.asarray(pcorr_sub).T\n",
                "    if grp_ind==0:\n",
                "        pcorr_sd.append(pcorr_sub)\n",
                "\n",
                "    if grp_ind==1:\n",
                "        pcorr_nsd.append(pcorr_sub)\n",
                "\n",
                "pcorr_sd = np.vstack(pcorr_sd)\n",
                "pcorr_nsd = np.vstack(pcorr_nsd)"
            ]
        },
        {
            "cell_type": "code",
            "execution_count": null,
            "metadata": {},
            "outputs": [],
            "source": [
                "%matplotlib inline\n",
                "figure = Fig()\n",
                "fig,gs = figure.draw(grid=(2,2),style='Pres')\n",
                "\n",
                "for i,pcorr in enumerate([pcorr_sd,pcorr_nsd]):\n",
                "    ax = plt.subplot(gs[i])\n",
                "    ax.scatter(pcorr[:,0],pcorr[:,1],s=20,c='gray',marker='o',edgecolors='w')\n",
                "    # ax.hexbin(pcorr[:,0],pcorr[:,1],cmap='inferno',gridsize=50)\n",
                "    ax.axline((0,0),slope=1)\n",
                "    ax.set_xlabel('First hour')\n",
                "    ax.set_ylabel('Fifth hour')"
            ]
        },
        {
            "cell_type": "markdown",
            "metadata": {},
            "source": [
                "### Pairwise correlation across time each session individually"
            ]
        },
        {
            "cell_type": "code",
            "execution_count": null,
            "metadata": {},
            "outputs": [],
            "source": [
                "import numpy as np\n",
                "import matplotlib.pyplot as plt\n",
                "import numpy as np\n",
                "import seaborn as sns\n",
                "from neuropy import plotting\n",
                "from neuropy.utils import signal_process\n",
                "import subjects\n",
                "import pandas as pd\n",
                "from neuropy.analyses import neurons_correlation\n",
                "\n",
                "# sessions = subjects.sd.ratNday1+ subjects.sd.ratSday3+ subjects.sd.ratRday2 + subjects.sd.ratUday4\n",
                "\n",
                "sessions = subjects.nsd.ratNday2 + subjects.nsd.ratSday2 + subjects.nsd.ratUday2\n"
            ]
        },
        {
            "cell_type": "code",
            "execution_count": null,
            "metadata": {},
            "outputs": [],
            "source": [
                "# sessions = subjects.Sd().allsess + subjects.Nsd().allsess\n",
                "pair_corr_all = []\n",
                "for sub, sess in enumerate(sessions):\n",
                "    neurons = sess.neurons.get_neuron_type('pyr')\n",
                "    pair_corr = neurons_correlation.corr_across_time_window(neurons)\n",
                "    np.fill_diagonal(pair_corr,val=0)\n",
                "    pair_corr_all.append(pair_corr)"
            ]
        },
        {
            "cell_type": "code",
            "execution_count": null,
            "metadata": {},
            "outputs": [],
            "source": [
                "%matplotlib widget\n",
                "from scipy.ndimage import gaussian_filter\n",
                "figure = plotting.Fig()\n",
                "fig, gs = figure.draw(num=1, grid=(3, 2),hspace=0.25)\n",
                "\n",
                "rat_names = ['Rat N','Rat S','Rat U']\n",
                "for i,pair_corr in enumerate(pair_corr_all):\n",
                "    ax = plt.subplot(gs[i])\n",
                "    sns.heatmap(pair_corr,ax=ax,cmap='jet',rasterized=True)\n",
                "    ax.set_title(f\"{rat_names[i]}\")\n",
                "\n",
                "fig.suptitle('Window = 300 s, Bin size = 0.25 s')\n",
                "figure.savefig(subjects.figpath_sd/'NSD_correlation_across_time')"
            ]
        },
        {
            "cell_type": "markdown",
            "metadata": {},
            "source": [
                "### Pairwise correlation across pooled across sessions"
            ]
        },
        {
            "cell_type": "code",
            "execution_count": null,
            "metadata": {},
            "outputs": [],
            "source": [
                "sessions = subjects.Sd().allsess + subjects.Nsd().allsess\n",
                "# sessions = subjects.Sd().ratJday1\n",
                "corr_sd, corr_nsd = [], []\n",
                "for sub, sess in enumerate(sessions):\n",
                "\n",
                "    pre = sess.epochs.pre\n",
                "    maze1 = sess.epochs.maze\n",
                "    if maze1 is None:\n",
                "        maze1 = sess.epochs.maze1\n",
                "    post = sess.epochs.post\n",
                "    tag = sess.recinfo.animal.tag\n",
                "\n",
                "    # --- break region into periods --------\n",
                "    # bins = sess.utils.getinterval([post[0], post[0] + 5 * 3600], 2)\n",
                "    # sess.spikes.stability.firingRate(periods=bins)\n",
                "    spks = sess.spikes.pyr\n",
                "    epochs = np.arange(post[0], post[0] + 8 * 3600, 300)\n",
                "    corr = []\n",
                "    for i in range(len(epochs) - 1):\n",
                "        corr.append(\n",
                "            sess.spikes.corr.pairwise(spikes=spks, period=[epochs[i], epochs[i + 1]])\n",
                "        )\n",
                "    corr = np.asarray(corr)\n",
                "\n",
                "    if tag == \"sd\":\n",
                "        corr_sd.append(corr)\n",
                "    else:\n",
                "        corr_nsd.append(corr)\n",
                "\n",
                "\n",
                "def process_(corr_mat):\n",
                "    corr_mat = np.hstack(corr_mat)\n",
                "    corr_mask = np.ma.array(corr_mat, mask=np.isnan(corr_mat))\n",
                "    corr_ = np.ma.corrcoef(corr_mask)\n",
                "    np.fill_diagonal(corr_, 0)\n",
                "    # corr_ = gaussian_filter(corr_, sigma=1)\n",
                "    return corr_\n",
                "\n",
                "\n",
                "corr_sd = process_(corr_sd)\n",
                "corr_nsd = process_(corr_nsd)\n",
                "\n",
                "time = np.linspace(0, 8, corr_sd.shape[0] + 1)\n",
                "\n",
                "figure = Fig()\n",
                "fig, gs = figure.draw(num=1, grid=(4, 3), wspace=0.3)\n",
                "axsd = plt.subplot(gs[2])\n",
                "im = axsd.pcolormesh(time[:-1], time[:-1], corr_sd, cmap=\"Spectral_r\", rasterized=True)\n",
                "axsd.set_xlabel(\"Time (h)\")\n",
                "axsd.set_ylabel(\"Time (h)\")\n",
                "cbar = fig.colorbar(im, ax=axsd)\n",
                "cbar.outline.set_linewidth(1)\n",
                "\n",
                "\n",
                "axnsd = plt.subplot(gs[5])\n",
                "im = axnsd.pcolormesh(\n",
                "    time[:-1], time[:-1], corr_nsd, cmap=\"Spectral_r\", rasterized=True\n",
                ")\n",
                "axnsd.set_xlabel(\"Time (h)\")\n",
                "cbar = fig.colorbar(im, ax=axnsd)\n",
                "cbar.outline.set_linewidth(1)\n",
                "# cbar.set_label(\"correlation\")\n",
                "\n",
                "figure.savefig(\"correlation_time_window\", __file__)"
            ]
        },
        {
            "cell_type": "markdown",
            "metadata": {},
            "source": [
                "### Mean pairwise correlation"
            ]
        },
        {
            "cell_type": "code",
            "execution_count": null,
            "metadata": {},
            "outputs": [],
            "source": [
                "import numpy as np\n",
                "import matplotlib.pyplot as plt\n",
                "import numpy as np\n",
                "import seaborn as sns\n",
                "from neuropy import plotting\n",
                "from neuropy.utils import signal_process\n",
                "import subjects\n",
                "import pandas as pd\n",
                "from neuropy.analyses import neurons_correlation\n",
                "\n",
                "# sessions = (\n",
                "#     subjects.sd.ratNday1\n",
                "#     + subjects.sd.ratSday3\n",
                "#     + subjects.sd.ratRday2\n",
                "#     + subjects.sd.ratUday4\n",
                "# )\n",
                "\n",
                "sessions = subjects.nsd.ratNday2 + subjects.nsd.ratSday2 + subjects.nsd.ratUday2\n"
            ]
        },
        {
            "cell_type": "code",
            "execution_count": null,
            "metadata": {},
            "outputs": [],
            "source": [
                "from neuropy.utils import mathutil\n",
                "\n",
                "pcorr_df = pd.DataFrame()\n",
                "for sub, sess in enumerate(sessions):\n",
                "\n",
                "    neurons = sess.neurons.get_neuron_type(\"pyr\")\n",
                "    post = sess.paradigm[\"post\"]\n",
                "    sd = [post[0], post[0] + 5 * 3600]\n",
                "\n",
                "    t_starts = np.arange(0, 5 * 3600 / 600) * 600 + sd[0]\n",
                "\n",
                "    pcorr_sub = np.zeros(len(t_starts))\n",
                "    for i, start in enumerate(t_starts):\n",
                "\n",
                "        pair_corr = (\n",
                "            neurons.time_slice(start, start + 600)\n",
                "            .get_binned_spiketrains(bin_size=0.25)\n",
                "            .get_pairwise_corr()\n",
                "        )\n",
                "        pcorr_sub[i] = np.nanmean(pair_corr)\n",
                "\n",
                "    pcorr_df = pcorr_df.append(\n",
                "        pd.DataFrame(\n",
                "            {\n",
                "                \"bins\": (t_starts - sd[0])/3600,\n",
                "                \"corr\": mathutil.min_max_scaler(pcorr_sub),\n",
                "                \"sub\": sub,\n",
                "            }\n",
                "        ),\n",
                "        ignore_index=True,\n",
                "    )\n"
            ]
        },
        {
            "cell_type": "code",
            "execution_count": null,
            "metadata": {},
            "outputs": [],
            "source": [
                "%matplotlib widget\n",
                "\n",
                "sns.lineplot(data=pcorr_df,x='bins',y='corr')"
            ]
        },
        {
            "cell_type": "markdown",
            "metadata": {},
            "source": [
                "### Pairwise correlation scatter plot maze vs remaze"
            ]
        },
        {
            "cell_type": "code",
            "execution_count": null,
            "metadata": {},
            "outputs": [],
            "source": [
                "import pandas as pd\n",
                "import numpy as np\n",
                "from tqdm import tqdm\n",
                "import subjects\n",
                "\n",
                "sessions = subjects.nsd.remaze + subjects.sd.remaze"
            ]
        },
        {
            "cell_type": "code",
            "execution_count": null,
            "metadata": {},
            "outputs": [],
            "source": [
                "pair_corr_df = []\n",
                "for sub, sess in enumerate(sessions):\n",
                "    maze = sess.paradigm[\"maze\"].flatten()\n",
                "    remaze = sess.paradigm[\"re-maze\"].flatten()\n",
                "\n",
                "    neurons = sess.neurons.get_neuron_type(\"pyr\")\n",
                "    maze_frate = neurons.time_slice(*maze).firing_rate\n",
                "    remaze_frate = neurons.time_slice(*remaze).firing_rate\n",
                "\n",
                "    good_indices = np.logical_and(maze_frate > 0, remaze_frate > 0)\n",
                "    neurons = neurons[good_indices]\n",
                "\n",
                "    pair_corr = []\n",
                "    for e in [maze, remaze]:\n",
                "        pair_corr.append(\n",
                "            neurons.time_slice(*e).get_binned_spiketrains(0.25).get_pairwise_corr()\n",
                "        )\n",
                "    \n",
                "    df = pd.DataFrame(dict(maze=pair_corr[0],remaze=pair_corr[1],grp=sess.tag))\n",
                "    pair_corr_df.append(df)\n",
                "\n",
                "pair_corr_df = pd.concat(pair_corr_df,ignore_index=True)\n",
                "\n",
                "subjects.GroupData().save(pair_corr_df,'remaze_maze_paircorr')"
            ]
        },
        {
            "cell_type": "code",
            "execution_count": null,
            "metadata": {},
            "outputs": [],
            "source": [
                "%matplotlib widget\n",
                "\n",
                "import matplotlib.pyplot as plt\n",
                "import seaborn as sns\n",
                "\n",
                "sns.scatterplot(data=pair_corr_df,x='maze',y='remaze',hue='grp')\n"
            ]
        },
        {
            "cell_type": "markdown",
            "metadata": {},
            "source": [
                "### Pairwise correlations between Zt0-5 vs Zt5-end"
            ]
        },
        {
            "cell_type": "code",
            "execution_count": null,
            "metadata": {},
            "outputs": [],
            "source": [
                "import pandas as pd\n",
                "import numpy as np\n",
                "from tqdm import tqdm\n",
                "import subjects\n",
                "\n",
                "sessions = subjects.nsd.pf_sess + subjects.sd.pf_sess"
            ]
        },
        {
            "cell_type": "code",
            "execution_count": null,
            "metadata": {},
            "outputs": [],
            "source": [
                "pair_corr_df = []\n",
                "for sub, sess in enumerate(sessions):\n",
                "    maze = sess.paradigm[\"maze\"].flatten()\n",
                "    post = sess.paradigm[\"post\"].flatten()\n",
                "\n",
                "    e1 = [post[0], post[0] + 5 * 3600]\n",
                "    e2 = [post[0] + 5 * 3600, post[1]]\n",
                "\n",
                "    neurons = sess.neurons.get_neuron_type(\"pyr\")\n",
                "    e1_frate = neurons.time_slice(*e1).firing_rate\n",
                "    e2_frate = neurons.time_slice(*e2).firing_rate\n",
                "\n",
                "    good_indices = np.logical_and(e1_frate > 0, e2_frate > 0)\n",
                "    neurons = neurons[good_indices]\n",
                "\n",
                "    pair_corr = []\n",
                "    for e in [e1, e2]:\n",
                "        pair_corr.append(\n",
                "            neurons.time_slice(*e).get_binned_spiketrains(0.25).get_pairwise_corr()\n",
                "        )\n",
                "\n",
                "    df = pd.DataFrame(dict(e1=pair_corr[0], e2=pair_corr[1], grp=sess.tag))\n",
                "    pair_corr_df.append(df)\n",
                "\n",
                "pair_corr_df = pd.concat(pair_corr_df, ignore_index=True)\n",
                "\n",
                "subjects.GroupData().save(pair_corr_df, \"post_first5_last5_paircorr\")\n"
            ]
        },
        {
            "cell_type": "code",
            "execution_count": null,
            "metadata": {},
            "outputs": [],
            "source": [
                "%matplotlib widget\n",
                "\n",
                "import matplotlib.pyplot as plt\n",
                "import seaborn as sns\n",
                "from scipy import stats \n",
                "\n",
                "_,axs = plt.subplots(1,2,sharex=True,sharey=True)\n",
                "axs = axs.reshape(-1)\n",
                "for i, grp in enumerate(['NSD','SD']):\n",
                "    df = pair_corr_df[pair_corr_df['grp']==grp]\n",
                "    linreg = stats.linregress(df['e1'],df['e2'])\n",
                "    sns.scatterplot(data=df,x='e1',y='e2',hue='grp',ax=axs[i])\n",
                "    axs[i].set_title(f'r={linreg.rvalue.round(2)}, pvalue={linreg.pvalue}')\n"
            ]
        },
        {
            "cell_type": "markdown",
            "metadata": {},
            "source": [
                "### Pairwise correlations between Zt5-end to remaze"
            ]
        },
        {
            "cell_type": "code",
            "execution_count": null,
            "metadata": {},
            "outputs": [],
            "source": [
                "import pandas as pd\n",
                "import numpy as np\n",
                "from tqdm import tqdm\n",
                "import subjects\n",
                "\n",
                "sessions = subjects.nsd.remaze + subjects.sd.remaze"
            ]
        },
        {
            "cell_type": "code",
            "execution_count": null,
            "metadata": {},
            "outputs": [],
            "source": [
                "pair_corr_df = []\n",
                "for sub, sess in enumerate(sessions):\n",
                "    maze = sess.paradigm[\"maze\"].flatten()\n",
                "    post = sess.paradigm[\"post\"].flatten()\n",
                "    remaze = sess.paradigm[\"re-maze\"].flatten()\n",
                "\n",
                "    e1 = [post[0] + 5 * 3600,post[1]]\n",
                "    e2 = remaze\n",
                "\n",
                "    neurons = sess.neurons.get_neuron_type(\"pyr\")\n",
                "    e1_frate = neurons.time_slice(*e1).firing_rate\n",
                "    e2_frate = neurons.time_slice(*e2).firing_rate\n",
                "\n",
                "    good_indices = np.logical_and(e1_frate > 0, e2_frate > 0)\n",
                "    neurons = neurons[good_indices]\n",
                "\n",
                "    pair_corr = []\n",
                "    for e in [e1, e2]:\n",
                "        pair_corr.append(\n",
                "            neurons.time_slice(*e).get_binned_spiketrains(0.25).get_pairwise_corr()\n",
                "        )\n",
                "\n",
                "    df = pd.DataFrame(dict(e1=pair_corr[0], e2=pair_corr[1], grp=sess.tag))\n",
                "    pair_corr_df.append(df)\n",
                "\n",
                "pair_corr_df = pd.concat(pair_corr_df, ignore_index=True)\n",
                "\n",
                "subjects.GroupData().save(pair_corr_df, \"remaze_last5_paircorr\")\n"
            ]
        },
        {
            "cell_type": "code",
            "execution_count": null,
            "metadata": {},
            "outputs": [],
            "source": [
                "%matplotlib widget\n",
                "\n",
                "import matplotlib.pyplot as plt\n",
                "import seaborn as sns\n",
                "from scipy import stats \n",
                "\n",
                "_,axs = plt.subplots(1,2,sharex=True,sharey=True)\n",
                "axs = axs.reshape(-1)\n",
                "for i, grp in enumerate(['NSD','SD']):\n",
                "    df = pair_corr_df[pair_corr_df['grp']==grp]\n",
                "    linreg = stats.linregress(df['e1'],df['e2'])\n",
                "    sns.scatterplot(data=df,x='e1',y='e2',hue='grp',ax=axs[i])\n",
                "    axs[i].set_title(f'r={linreg.rvalue.round(2)}, pvalue={linreg.pvalue}')\n"
            ]
        },
        {
            "cell_type": "markdown",
            "metadata": {},
            "source": [
                "### Pairwise correlations between Zt0-5 vs remaze"
            ]
        },
        {
            "cell_type": "code",
            "execution_count": null,
            "metadata": {},
            "outputs": [],
            "source": [
                "import pandas as pd\n",
                "import numpy as np\n",
                "from tqdm import tqdm\n",
                "import subjects\n",
                "\n",
                "sessions = subjects.nsd.remaze + subjects.sd.remaze"
            ]
        },
        {
            "cell_type": "code",
            "execution_count": null,
            "metadata": {},
            "outputs": [],
            "source": [
                "pair_corr_df = []\n",
                "for sub, sess in enumerate(sessions):\n",
                "    maze = sess.paradigm[\"maze\"].flatten()\n",
                "    post = sess.paradigm[\"post\"].flatten()\n",
                "    remaze = sess.paradigm[\"re-maze\"].flatten()\n",
                "\n",
                "    e1 = [post[0],post[0] + 5 * 3600]\n",
                "    e2 = remaze\n",
                "\n",
                "    neurons = sess.neurons.get_neuron_type(\"pyr\")\n",
                "    e1_frate = neurons.time_slice(*e1).firing_rate\n",
                "    e2_frate = neurons.time_slice(*e2).firing_rate\n",
                "\n",
                "    good_indices = np.logical_and(e1_frate > 0, e2_frate > 0)\n",
                "    neurons = neurons[good_indices]\n",
                "\n",
                "    pair_corr = []\n",
                "    for e in [e1, e2]:\n",
                "        pair_corr.append(\n",
                "            neurons.time_slice(*e).get_binned_spiketrains(0.25).get_pairwise_corr()\n",
                "        )\n",
                "\n",
                "    df = pd.DataFrame(dict(e1=pair_corr[0], e2=pair_corr[1], grp=sess.tag))\n",
                "    pair_corr_df.append(df)\n",
                "\n",
                "pair_corr_df = pd.concat(pair_corr_df, ignore_index=True)\n",
                "\n",
                "subjects.GroupData().save(pair_corr_df, \"remaze_first5_paircorr\")\n"
            ]
        },
        {
            "cell_type": "code",
            "execution_count": null,
            "metadata": {},
            "outputs": [],
            "source": [
                "%matplotlib widget\n",
                "\n",
                "import matplotlib.pyplot as plt\n",
                "import seaborn as sns\n",
                "from scipy import stats \n",
                "\n",
                "_,axs = plt.subplots(1,2,sharex=True,sharey=True)\n",
                "axs = axs.reshape(-1)\n",
                "for i, grp in enumerate(['NSD','SD']):\n",
                "    df = pair_corr_df[pair_corr_df['grp']==grp]\n",
                "    linreg = stats.linregress(df['e1'],df['e2'])\n",
                "    sns.scatterplot(data=df,x='e1',y='e2',hue='grp',ax=axs[i])\n",
                "    axs[i].set_title(f'r={linreg.rvalue.round(2)}, pvalue={linreg.pvalue}')\n"
            ]
        },
        {
            "cell_type": "markdown",
            "metadata": {},
            "source": [
                "### Correlation of pairwise correlations across time for remaze sessions"
            ]
        },
        {
            "cell_type": "code",
            "execution_count": null,
            "metadata": {},
            "outputs": [],
            "source": [
                "import numpy as np\n",
                "import subjects\n",
                "\n",
                "sessions = subjects.nsd.ratSday2 + subjects.sd.ratSday3"
            ]
        },
        {
            "cell_type": "code",
            "execution_count": null,
            "metadata": {},
            "outputs": [],
            "source": [
                "import pingouin as pg\n",
                "\n",
                "corr=[]\n",
                "for sub, sess in enumerate(sessions):\n",
                "    rec_duration = sess.eegfile.duration\n",
                "    neurons = sess.neurons.get_neuron_type(\"pyr\")\n",
                "\n",
                "    windows = np.arange(0, rec_duration, 300)\n",
                "    pair_corr = []\n",
                "    for w in windows[:-1]:\n",
                "        pair_corr.append(\n",
                "            neurons.time_slice(w,w+300).get_binned_spiketrains().get_pairwise_corr()\n",
                "        )\n",
                "    pair_corr = np.array(pair_corr).T\n",
                "    df = pd.DataFrame(pair_corr,columns=np.arange(len(windows)-1))\n",
                "    corr.append(df.corr().values)\n",
                "subjects.GroupData().save(corr,'remaze_corr_across_session')"
            ]
        },
        {
            "cell_type": "code",
            "execution_count": null,
            "metadata": {},
            "outputs": [],
            "source": [
                "%matplotlib widget\n",
                "import matplotlib.pyplot as plt\n",
                "\n",
                "_,axs = plt.subplots(1,2)\n",
                "axs = axs.reshape(-1)\n",
                "\n",
                "for i in range(2):\n",
                "    axs[i].imshow(corr[i])\n"
            ]
        },
        {
            "cell_type": "markdown",
            "metadata": {},
            "source": [
                "### Autocorrelation of correlation matrix during Zt0-5 of SD vs NSD\n",
                " - get a correlation of pairwise correlations only during Zt0-5 and perform a autocorrelation on this matrix. It was done to find if there is a shorter decay curve of SD compared to NSD.\n",
                " - Tried both 2d correlation and autocorrelation of each row, the result looks like a blob, nothing interesting here."
            ]
        },
        {
            "cell_type": "code",
            "execution_count": null,
            "metadata": {},
            "outputs": [],
            "source": [
                "import numpy as np\n",
                "import subjects\n",
                "import pandas as pd\n",
                "\n",
                "sessions = subjects.nsd.ratSday2 + subjects.sd.ratSday3"
            ]
        },
        {
            "cell_type": "code",
            "execution_count": null,
            "metadata": {},
            "outputs": [],
            "source": [
                "import pingouin as pg\n",
                "\n",
                "corr=[]\n",
                "for sub, sess in enumerate(sessions):\n",
                "    post = sess.paradigm['post'].flatten()\n",
                "    neurons = sess.neurons.get_neuron_type(\"pyr\")\n",
                "    windows = np.arange(post[0], post[0]+5*3600, 300)\n",
                "    pair_corr = []\n",
                "    for w in windows[:-1]:\n",
                "        pair_corr.append(\n",
                "            neurons.time_slice(w,w+300).get_binned_spiketrains().get_pairwise_corr()\n",
                "        )\n",
                "    pair_corr = np.array(pair_corr).T\n",
                "    df = pd.DataFrame(pair_corr,columns=np.arange(len(windows)-1))\n",
                "    corr.append(df.corr().values)\n",
                "subjects.GroupData().save(corr,'remaze_corr_across_session')"
            ]
        },
        {
            "cell_type": "code",
            "execution_count": null,
            "metadata": {},
            "outputs": [],
            "source": [
                "%matplotlib widget\n",
                "import scipy.signal as sg\n",
                "import matplotlib.pyplot as plt\n",
                "\n",
                "_,axs = plt.subplots(2,2)\n",
                "# axs = axs.reshape(-1)\n",
                "\n",
                "for i,c in enumerate(corr):\n",
                "    np.fill_diagonal(c,0)\n",
                "    ac = []\n",
                "    for c_ in c: \n",
                "        ac.append(sg.correlate(c_,c_,mode='same'))\n",
                "    ac = np.array(ac)\n",
                "    axs[0,i].imshow(c,cmap='jet')\n",
                "    axs[1,i].imshow(ac,cmap='jet')\n",
                "\n"
            ]
        },
        {
            "cell_type": "markdown",
            "metadata": {},
            "source": [
                "### Pairwise correlation (Zt0-5) quantiles temporal evolution durign recovery sleep "
            ]
        },
        {
            "cell_type": "code",
            "execution_count": null,
            "metadata": {},
            "outputs": [],
            "source": [
                "import matplotlib.pyplot as plt\n",
                "from scipy import stats\n",
                "import numpy as np\n",
                "import pandas as pd\n",
                "import subjects\n",
                "\n",
                "sessions = subjects.sd.pf_sess"
            ]
        },
        {
            "cell_type": "code",
            "execution_count": null,
            "metadata": {},
            "outputs": [],
            "source": [
                "template_corr,pair_corr= [],[]\n",
                "for sub, sess in enumerate(sessions):\n",
                "    post = sess.paradigm[\"post\"].flatten()\n",
                "    neurons = sess.neurons.get_neuron_type(\"pyr\")\n",
                "    template = [post[0] + 2.5 * 3600, post[0] + 5 * 3600]\n",
                "\n",
                "    template_corr.append(\n",
                "        neurons.time_slice(*template).get_binned_spiketrains().get_pairwise_corr()\n",
                "    )\n",
                "\n",
                "    windows = np.arange(post[0]+5*3600,post[0]+8*3600,300)\n",
                "\n",
                "    pair_corr_sub = []\n",
                "    for w in windows[:-1]:\n",
                "        pair_corr_sub.append(\n",
                "            neurons.time_slice(w, w + 300).get_binned_spiketrains().get_pairwise_corr()\n",
                "        )\n",
                "    pair_corr.append(np.array(pair_corr_sub).T)\n",
                "\n",
                "template_corr = np.concatenate(template_corr)\n",
                "pair_corr = np.vstack(pair_corr)\n",
                "# subjects.GroupData().save(corr, \"t_corr_across_session\")\n"
            ]
        },
        {
            "cell_type": "code",
            "execution_count": null,
            "metadata": {},
            "outputs": [],
            "source": [
                "quantiles = pd.qcut(template_corr,5,labels=False)\n",
                "\n",
                "mean_corr=[]\n",
                "mean_template=[]\n",
                "for i in range(5):\n",
                "    mean_corr.append(np.nanmean(pair_corr[quantiles==i,:],axis=0))\n",
                "    mean_template.append(np.nanmean(template_corr[quantiles==i]))\n",
                "\n",
                "mean_corr = np.array(mean_corr)\n",
                "mean_template = np.array(mean_template)\n",
                "ratio = (mean_corr-mean_template[:,np.newaxis])/mean_template[:,np.newaxis]"
            ]
        },
        {
            "cell_type": "code",
            "execution_count": null,
            "metadata": {},
            "outputs": [],
            "source": [
                "%matplotlib widget\n",
                "\n",
                "for i,mc in enumerate(ratio):\n",
                "    plt.plot(mc,label=i)\n",
                "\n",
                "plt.legend()"
            ]
        },
        {
            "cell_type": "markdown",
            "metadata": {},
            "source": [
                "### Distribution of pairwise correlations during Zt0-5 comaprison SD vs NSD"
            ]
        },
        {
            "cell_type": "code",
            "execution_count": null,
            "metadata": {},
            "outputs": [],
            "source": [
                "import matplotlib.pyplot as plt\n",
                "from scipy import stats\n",
                "import numpy as np\n",
                "import pandas as pd\n",
                "import subjects\n",
                "\n",
                "sessions = subjects.nsd.pf_sess + subjects.sd.pf_sess"
            ]
        },
        {
            "cell_type": "code",
            "execution_count": null,
            "metadata": {},
            "outputs": [],
            "source": [
                "pair_corr_df = []\n",
                "for sub, sess in enumerate(sessions):\n",
                "    post = sess.paradigm[\"post\"].flatten()\n",
                "    neurons = sess.neurons.get_neuron_type(\"pyr\")\n",
                "    e1 = [post[0], post[0] + 5 * 3600]\n",
                "    e2= [post[0] + 5 * 3600, post[1]]\n",
                "\n",
                "    pcorr_e1 = (\n",
                "        neurons.time_slice(*e1).get_binned_spiketrains().get_pairwise_corr()\n",
                "    )\n",
                "    pcorr_e2 = (\n",
                "        neurons.time_slice(*e2).get_binned_spiketrains().get_pairwise_corr()\n",
                "    )\n",
                "\n",
                "    pair_corr_df.append(\n",
                "        pd.DataFrame(dict(pcorr_first5=pcorr_e1, pcorr_last5=pcorr_e2, grp=sess.tag))\n",
                "    )\n",
                "\n",
                "pair_corr_df = pd.concat(pair_corr_df, ignore_index=True)\n",
                "# subjects.GroupData().save(corr, \"t_corr_across_session\")\n"
            ]
        },
        {
            "cell_type": "code",
            "execution_count": null,
            "metadata": {},
            "outputs": [],
            "source": [
                "%matplotlib widget\n",
                "import seaborn as sns\n",
                "\n",
                "sns.histplot(\n",
                "    data=pair_corr_df,\n",
                "    x=\"pcorr_first5\",\n",
                "    hue=\"grp\",\n",
                "    stat=\"probability\",\n",
                "    fill=False,\n",
                "    element=\"step\",\n",
                "    common_bins=True,\n",
                "    common_norm=False,\n",
                "    palette=subjects.colors_sd(1),\n",
                "    # kde=True,\n",
                "    # cumulative=True,\n",
                ")\n",
                "\n",
                "sns.histplot(\n",
                "    data=pair_corr_df,\n",
                "    x=\"pcorr_last5\",\n",
                "    hue=\"grp\",\n",
                "    stat=\"probability\",\n",
                "    fill=False,\n",
                "    element=\"step\",\n",
                "    common_bins=True,\n",
                "    common_norm=False,\n",
                "    palette=subjects.colors_sd(1.7),\n",
                "    # log_scale=True,\n",
                "    # cumulative=True,\n",
                ")\n",
                "\n",
                "plt.legend(['NSD_Zt0-5','SD_Zt0-5','NSD_Zt5-end','SD_Zt5-end'])\n",
                "plt.xlim([-0.05,0.17])\n"
            ]
        },
        {
            "cell_type": "markdown",
            "metadata": {},
            "source": [
                "### Pairwise correlations NSD early sleep vs SD recovery sleep\n",
                "- Are they different ?\n",
                "- Comapring distribution of pairwise correlations\n",
                "- Results: Observed that during recovery sleep negative correlations are pushed towards zero. This may be an effect of higher delta oscillations during recovery sleep i.e, neurons are more synchronized during recovery sleep. "
            ]
        },
        {
            "cell_type": "code",
            "execution_count": null,
            "metadata": {},
            "outputs": [],
            "source": [
                "import matplotlib.pyplot as plt\n",
                "from scipy import stats\n",
                "import numpy as np\n",
                "import pandas as pd\n",
                "import subjects\n",
                "\n",
                "sessions = subjects.nsd.pf_sess + subjects.sd.pf_sess"
            ]
        },
        {
            "cell_type": "code",
            "execution_count": null,
            "metadata": {},
            "outputs": [],
            "source": [
                "pair_corr_df = []\n",
                "for sub, sess in enumerate(sessions):\n",
                "    post = sess.paradigm[\"post\"].flatten()\n",
                "    neurons = sess.neurons.get_neuron_type(\"pyr\")\n",
                "\n",
                "    if sess.tag == \"NSD\":\n",
                "        period = [post[0], post[0] + 4 * 3600]\n",
                "        label = f\"{sess.tag} Zt0-4 h POST\"\n",
                "    else:\n",
                "        period = [post[0] + 5 * 3600, post[1]]\n",
                "        label = f\"{sess.tag} rec. slp.\"\n",
                "\n",
                "    pcorr_125 = (\n",
                "        neurons.time_slice(*period)\n",
                "        .get_binned_spiketrains(bin_size=0.125)\n",
                "        .get_pairwise_corr()\n",
                "    )\n",
                "    pcorr_250 = (\n",
                "        neurons.time_slice(*period)\n",
                "        .get_binned_spiketrains(bin_size=0.250)\n",
                "        .get_pairwise_corr()\n",
                "    )\n",
                "\n",
                "    pair_corr_df.append(\n",
                "        pd.DataFrame(dict(pcorr_125=pcorr_125, pcorr_250=pcorr_250, grp=sess.tag))\n",
                "    )\n",
                "pair_corr_df = pd.concat(pair_corr_df, ignore_index=True)\n",
                "# subjects.GroupData().save(corr, \"t_corr_across_session\")\n"
            ]
        },
        {
            "cell_type": "code",
            "execution_count": null,
            "metadata": {},
            "outputs": [],
            "source": [
                "%matplotlib widget\n",
                "import seaborn as sns\n",
                "from neuropy.plotting import Fig\n",
                "\n",
                "fig = Fig(grid=(2, 1), fontsize=10)\n",
                "ax = fig.subplot(fig.gs[0])\n",
                "\n",
                "bins = np.linspace(-0.1, 0.3, 200)\n",
                "sns.histplot(\n",
                "    data=pair_corr_df,\n",
                "    x=\"pcorr_250\",\n",
                "    hue=\"grp\",\n",
                "    stat=\"probability\",\n",
                "    fill=False,\n",
                "    element=\"step\",\n",
                "    # common_bins=True,\n",
                "    bins=bins,\n",
                "    common_norm=False,\n",
                "    hue_order=[\"NSD\", \"SD\"],\n",
                "    palette=subjects.colors_sd(1),\n",
                "    # kde=True,\n",
                "    # cumulative=True,\n",
                "    lw=2,\n",
                "    ax=ax,\n",
                ")\n",
                "\n",
                "\n",
                "ax.set_xlabel(\"Pairwise correlations\")\n",
                "ax.set_title(\n",
                "    \"Distribution of pairwise correlations between regular sleep and recovery sleep\\n\"\n",
                ")\n",
                "\n",
                "sns.histplot(\n",
                "    data=pair_corr_df,\n",
                "    x=\"pcorr_125\",\n",
                "    hue=\"grp\",\n",
                "    stat=\"probability\",\n",
                "    fill=False,\n",
                "    element=\"step\",\n",
                "    # common_bins=True,\n",
                "    bins=bins,\n",
                "    common_norm=False,\n",
                "    hue_order=[\"NSD\", \"SD\"],\n",
                "    palette=subjects.colors_sd(1.7),\n",
                "    # kde=True,\n",
                "    # cumulative=True,\n",
                "    lw=2,\n",
                "    ax=ax,\n",
                ")\n",
                "\n",
                "\n",
                "ax.legend(frameon=False)\n",
                "fig.legend(\n",
                "    ax,\n",
                "    [\"NSD Zt0-4 h\", \"SD recovery sleep\"],\n",
                "    subjects.colors_sd(1),\n",
                "    fontsize=10,\n",
                "    dy=0.05,\n",
                ")\n",
                "# ax.axvline(np.nanmean(pair_corr_df[pair_corr_df[\"grp\"] == \"NSD\"].pcorr.mean()),color='k')\n",
                "# ax.axvline(np.nanmean(pair_corr_df[pair_corr_df[\"grp\"] == \"SD\"].pcorr.mean()),color='r')\n",
                "# ax.set_ylabel(\"Pairwise correlations\")\n",
                "# plt.xscale('log')\n",
                "# plt.yscale('log')\n",
                "# plt.legend(['NSD_Zt0-5','SD_Zt0-5','NSD_Zt5-end','SD_Zt5-end'])\n",
                "# plt.xlim([-0.05,0.17])\n",
                "# stats.kruskal(\n",
                "#     pair_corr_df[pair_corr_df[\"grp\"] == \"NSD\"].pcorr,\n",
                "#     pair_corr_df[pair_corr_df[\"grp\"] == \"NSD\"].pcorr,\n",
                "#     nan_policy=\"omit\",\n",
                "# )\n"
            ]
        },
        {
            "cell_type": "markdown",
            "metadata": {},
            "source": [
                "### CCG of pairs with negative correlations\n",
                "- Check what does CCG of a negative pairwise correlation look like.\n",
                "- It seems, negative pairs have stronger dip in 20 to 100 ms region comapred to baseline (200 ms).\n",
                "- One observation is that negative correlation pairs are have higher theta modulation.\n"
            ]
        },
        {
            "cell_type": "code",
            "execution_count": null,
            "metadata": {},
            "outputs": [],
            "source": [
                "import matplotlib.pyplot as plt\n",
                "from scipy import stats\n",
                "import numpy as np\n",
                "import pandas as pd\n",
                "import subjects\n",
                "\n",
                "sessions = subjects.sd.pf_sess"
            ]
        },
        {
            "cell_type": "code",
            "execution_count": null,
            "metadata": {},
            "outputs": [],
            "source": [
                "from neuropy.utils.neurons_util import calculate_neurons_ccg\n",
                "\n",
                "pair_corr, ccgs_all = [], []\n",
                "for sub, sess in enumerate(sessions):\n",
                "    post = sess.paradigm[\"post\"].flatten()\n",
                "    neurons = sess.neurons.get_neuron_type(\"pyr\")\n",
                "    frate_bool = neurons.firing_rate > 0\n",
                "    neurons = neurons[frate_bool]\n",
                "    e1 = [post[0]+5*3600, post[1]]\n",
                "\n",
                "    pcorr_e1 = (\n",
                "        neurons.time_slice(*e1)\n",
                "        .get_binned_spiketrains(bin_size=0.125)\n",
                "        .get_pairwise_corr()\n",
                "    )\n",
                "    ccgs, t = calculate_neurons_ccg(neurons, bin_size=0.001, window_size=1)\n",
                "    indices = np.tril_indices(neurons.n_neurons, k=-1)\n",
                "    ccgs = ccgs[indices[0], indices[1], :]\n",
                "\n",
                "    pair_corr.append(pcorr_e1)\n",
                "    ccgs_all.append(ccgs)\n",
                "\n",
                "pair_corr = np.concatenate(pair_corr)\n",
                "ccgs_all = np.vstack(ccgs_all)\n",
                "\n",
                "sort_ind = np.argsort(pair_corr)\n",
                "pair_corr = pair_corr[sort_ind]\n",
                "ccgs_all = ccgs_all[sort_ind, :]\n",
                "ccgs_norm = ccgs_all / np.max(ccgs_all, axis=1, keepdims=True)\n"
            ]
        },
        {
            "cell_type": "code",
            "execution_count": null,
            "metadata": {},
            "outputs": [],
            "source": [
                "%matplotlib widget\n",
                "import seaborn as sns\n",
                "\n",
                "nt = ccgs_all.shape[1]\n",
                "center = nt//2\n",
                "_,[[ax1,ax2],[ax3,ax4]] = plt.subplots(2,2)\n",
                "\n",
                "ax1.scatter(pair_corr,ccgs_all[:,center],s=3,c='gray')\n",
                "ax1.set_yscale('log')\n",
                "\n",
                "ccg_zscore =stats.zscore(ccgs_norm,axis=1)  \n",
                "good_indices = ~np.isnan(np.sum(ccg_zscore,axis=1))\n",
                "ax2.imshow(ccg_zscore[good_indices,:],aspect='auto',cmap='jet',vmin=0,vmax=0.5,extent=[t[0],t[-1],0,len(np.where(good_indices)[0])])\n",
                "ax2.set_ylabel('Pairs')\n",
                "ax2.set_xlabel('Time (ms)')\n",
                "\n",
                "neg_ind = np.where(pair_corr<0)[0]\n",
                "pos_ind = np.where(pair_corr>0)[0]\n",
                "\n",
                "pos_mean =np.nanmean(ccgs_norm[pos_ind,:],axis=0) \n",
                "neg_mean =np.nanmean(ccgs_norm[neg_ind,:],axis=0) \n",
                "ax3.plot(t,stats.zscore(neg_mean),'#FF4081')\n",
                "ax3.plot(t,stats.zscore(pos_mean),'#00C853')\n",
                "ax3.set_ylabel('Normalized count (zscored)')\n",
                "ax3.set_xlabel('Time (ms)')\n",
                "ax3.legend(['negative','positive'])\n",
                "ax3.set_title('Mean CCG of negative and positively correlated pairs')\n"
            ]
        },
        {
            "cell_type": "markdown",
            "metadata": {},
            "source": [
                "### Reactivation of pairwise correlation quantiles during POST\n",
                "- Does each quantile of correlation have different decay rate ?\n",
                "- Maybe best understood if all correlations from all the sessions are pooled together."
            ]
        },
        {
            "cell_type": "code",
            "execution_count": 1,
            "metadata": {},
            "outputs": [],
            "source": [
                "import matplotlib.pyplot as plt\n",
                "from scipy import stats\n",
                "from tqdm.notebook import tqdm\n",
                "import numpy as np\n",
                "import pandas as pd\n",
                "import subjects\n",
                "\n",
                "sessions = subjects.sd.pf_sess"
            ]
        },
        {
            "cell_type": "code",
            "execution_count": 2,
            "metadata": {},
            "outputs": [
                {
                    "name": "stderr",
                    "output_type": "stream",
                    "text": [
                        "/home/bapung/miniconda3/envs/data_analysis/lib/python3.10/site-packages/numpy/lib/function_base.py:2691: RuntimeWarning: invalid value encountered in true_divide\n",
                        "  c /= stddev[:, None]\n",
                        "/home/bapung/miniconda3/envs/data_analysis/lib/python3.10/site-packages/numpy/lib/function_base.py:2692: RuntimeWarning: invalid value encountered in true_divide\n",
                        "  c /= stddev[None, :]\n",
                        "/home/bapung/miniconda3/envs/data_analysis/lib/python3.10/site-packages/numpy/lib/function_base.py:2691: RuntimeWarning: invalid value encountered in true_divide\n",
                        "  c /= stddev[:, None]\n",
                        "/home/bapung/miniconda3/envs/data_analysis/lib/python3.10/site-packages/numpy/lib/function_base.py:2692: RuntimeWarning: invalid value encountered in true_divide\n",
                        "  c /= stddev[None, :]\n",
                        "/home/bapung/miniconda3/envs/data_analysis/lib/python3.10/site-packages/numpy/lib/function_base.py:2691: RuntimeWarning: invalid value encountered in true_divide\n",
                        "  c /= stddev[:, None]\n",
                        "/home/bapung/miniconda3/envs/data_analysis/lib/python3.10/site-packages/numpy/lib/function_base.py:2692: RuntimeWarning: invalid value encountered in true_divide\n",
                        "  c /= stddev[None, :]\n",
                        "/home/bapung/miniconda3/envs/data_analysis/lib/python3.10/site-packages/numpy/lib/function_base.py:2691: RuntimeWarning: invalid value encountered in true_divide\n",
                        "  c /= stddev[:, None]\n",
                        "/home/bapung/miniconda3/envs/data_analysis/lib/python3.10/site-packages/numpy/lib/function_base.py:2692: RuntimeWarning: invalid value encountered in true_divide\n",
                        "  c /= stddev[None, :]\n",
                        "/home/bapung/miniconda3/envs/data_analysis/lib/python3.10/site-packages/numpy/lib/function_base.py:2691: RuntimeWarning: invalid value encountered in true_divide\n",
                        "  c /= stddev[:, None]\n",
                        "/home/bapung/miniconda3/envs/data_analysis/lib/python3.10/site-packages/numpy/lib/function_base.py:2692: RuntimeWarning: invalid value encountered in true_divide\n",
                        "  c /= stddev[None, :]\n",
                        "/home/bapung/miniconda3/envs/data_analysis/lib/python3.10/site-packages/numpy/lib/function_base.py:2691: RuntimeWarning: invalid value encountered in true_divide\n",
                        "  c /= stddev[:, None]\n",
                        "/home/bapung/miniconda3/envs/data_analysis/lib/python3.10/site-packages/numpy/lib/function_base.py:2692: RuntimeWarning: invalid value encountered in true_divide\n",
                        "  c /= stddev[None, :]\n"
                    ]
                }
            ],
            "source": [
                "pair_corr_all = []\n",
                "for sub, sess in enumerate(sessions):\n",
                "    pre = sess.paradigm['pre'].flatten()\n",
                "    maze = sess.paradigm[\"maze\"].flatten()\n",
                "    post = sess.paradigm[\"post\"].flatten()\n",
                "\n",
                "    neurons = sess.neurons.get_neuron_type(\"pyr\")\n",
                "    post_bins = np.arange(post[0],post[0]+5*3600, 300)\n",
                "    post_epochs = np.vstack((post_bins[:-1],post_bins[1:])).T\n",
                "    \n",
                "    all_epochs = np.vstack([pre,maze,post_epochs])\n",
                "\n",
                "    pair_corr = []\n",
                "    for e in all_epochs:\n",
                "        pair_corr.append(\n",
                "            neurons.time_slice(*e).get_binned_spiketrains(0.25).get_pairwise_corr()\n",
                "        )\n",
                "    pair_corr = np.array(pair_corr).T\n",
                "\n",
                "    pair_corr_all.append(pair_corr)\n",
                "\n",
                "pair_corr_all = np.vstack(pair_corr_all)"
            ]
        },
        {
            "cell_type": "code",
            "execution_count": 7,
            "metadata": {},
            "outputs": [
                {
                    "data": {
                        "text/plain": [
                            "[<matplotlib.lines.Line2D at 0x7f39d989ef80>]"
                        ]
                    },
                    "execution_count": 7,
                    "metadata": {},
                    "output_type": "execute_result"
                },
                {
                    "data": {
                        "application/vnd.jupyter.widget-view+json": {
                            "model_id": "89105f68a2834afc91b4d4cc54dbfc7e",
                            "version_major": 2,
                            "version_minor": 0
                        },
                        "image/png": "[encoded data removed]",
                        "text/html": [
                            "\n",
                            "            <div style=\"display: inline-block;\">\n",
                            "                <div class=\"jupyter-widgets widget-label\" style=\"text-align: center;\">\n",
                            "                    Figure\n",
                            "                </div>\n",
                            "                <img src='data:image/png;base64,iVBORw0KGgoAAAANSUhEUgAAAoAAAAHgCAYAAAA10dzkAAAAOXRFWHRTb2Z0d2FyZQBNYXRwbG90bGliIHZlcnNpb24zLjUuMSwgaHR0cHM6Ly9tYXRwbG90bGliLm9yZy/YYfK9AAAACXBIWXMAAA9hAAAPYQGoP6dpAADNDUlEQVR4nOydd3wc9Z33PzOzVV2ybFmyZVu2Adt0bGNsMBwBTCCFBDggxSQBkuOcPIFwyT0hXBq5J6QQcBpwSSCEXAAnAdIggElCC8aAsU0zxl0u6m1XZdvMPH/8pm7TSlppV+jzfr302tXM7MxvVXY/+/k2Sdd1HYQQQgghZMogF3oBhBBCCCFkYqEAJIQQQgiZYlAAEkIIIYRMMSgACSGEEEKmGBSAhBBCCCFTDApAQgghhJApBgUgIYQQQsgUgwKQEEIIIWSKQQFICCGEEDLFoAAkhBBCCJliUAASQgghhEwxKAAJIYQQQqYYFICEEEIIIVMMCkBCCCGEkCkGBSAhhBBCyBSDApAQQgghZIpBAUgIIYQQMsWgACSEEEIImWJQABJCCCGETDEoAAkhhBBCphgUgIQQQgghUwwKQEIIIYSQKQYFICGEEELIFIMCkBBCCCFkikEBSAghhBAyxaAAJIQQQgiZYlAAEkIIIYRMMSgACSGEEEKmGBSAhBBCCCFTDApAQgghhJApBgUgIYQQQsgUgwKQEEIIIWSKQQFICCGEEDLFoAAkhBBCCJliUAASQgghhEwxKAAJIYQQQqYYFICEEEIIIVMMCkBCCCGEkCkGBSAhhBBCyBSDApAQQgghZIpBAUgIIYQQMsWgACSEEEIImWJQABJCCCGETDEoAAkhhBBCphgUgIQQQgghUwwKQEIIIYSQKQYFICGEEELIFIMCkBBCCCFkikEBSAghhBAyxaAAJIQQQgiZYlAAEkIIIYRMMSgACSGEEEKmGBSAhBBCCCFTDApAQgghhJApBgUgIYQQQsgUgwKQEEIIIWSK4Sn0AiYzmqbhyJEjKC8vhyRJhV4OIVMOXdcRDofR0NAAWZ48n2f52kFIYZmsrx35hAJwDBw5cgSNjY2FXgYhU56DBw9i9uzZhV5GzvC1g5DiYLK9duQTCsAxUF5eDkD8AVVUVBR4NYRMPUKhEBobG63/xckCXzsIKSyT9bUjn1AAjgEzdFNRUcEXcUIKyGQLo/K1g5DiYLK9duSTqRn4JoQQQgiZwlAAEkIIIYRMMSgACSGEEEKmGBSAhBBCCCFTDApAQgghhJApBgUgIYQQQsgUgwKQEEIIIWSKQQFICCGEEDLFoAAkhBBCCJliUAASQgghhEwxKAAJIYQQQqYYFICEEEIIIVMMCkAyZjRNx+Y/78Wht7sLvRRCSBHxxuE+fOevb6M/mij0UgghSVAAkjHTti+EVx7djxce3lPopRBCiogf/30X7npmDza+1VropRBCkqAAJGMmEVUBAHHjlhBCAFjOX2iIDiAhxQYFIBkzmqaLW1Ur8EoIIcVELCFeEyJxfjgkpNigACRjRrcEoF7glRBCiglTAA5RABJSdFAAkjGjUQASQtIQtRxARgcIKTYoAMmY0XVDAGoUgIQQm7jKEDAhxQoFIBkzuvHhng4gIcRJjAKQkKKFApCMGSsHkA4gIcQBcwAJKV4oAMmYYRUwISQdrAImpHihACRjxnQAdYaACSEO4sZrwhCLQAgpOigAyZgxHUBdt8UgIYTQASSkeKEAJGPGKfpYCEIIAUR3ABaBEFK8UACSMaM7NB8LQQghgF0BDFAAElKMUACSMeN2AJnrQwix8/8AVgETUoxQAJIx43T96AASQgA7/w/gJBBCihEKQDJmmANICEnGJQBjdAAJKTYoAMmY0SgACSFJuARgggKQkGKDApCMGTqAhJBknEUgcVVHgvnBhBQVFIBkzOiO13UWgRBCALcDCACRBF8bCCkmKADJmNF1FoEQQtzEkj4MDjEPkJCiggKQjBnmABJCkklxANkKhpCiggKQjBlnDiBHwRFCACCuUgASUsxQAJIx484BpAAkhKRzAJkDSEgxQQFIxgxDwISQZKJJApDTQAgpLigAyZjhKDhSzNxxxx1oampCIBDA0qVL8dxzz2U89uGHH8Z5552H6dOno6KiAitXrsQTTzyRctxDDz2EJUuWwO/3Y8mSJXjkkUfG8ylMSpKLQBgCJqS4oAAkY4Z9AEmxsmHDBlx//fW46aabsHXrVqxevRoXXHABmpub0x7/7LPP4rzzzsNjjz2GLVu24Oyzz8YHPvABbN261Tpm06ZNuPzyy7F27Vps374da9euxWWXXYbNmzdP1NOaFMTpABJS1Ei6s4cHGRGhUAiVlZXo6+tDRUVFoZdTMJ59YCdef+YwAOB9nz0B846vLfCKyFRhuP/BFStW4JRTTsGdd95pbVu8eDE+9KEP4ZZbbsnpGsceeywuv/xyfO1rXwMAXH755QiFQvjrX/9qHfPe974X1dXVeOCBB/Ky7ncDD7zUjBsfft36/odXnISLTppVwBURYjMV/geHgw4gGTPOwl86gKRYiMVi2LJlC9asWePavmbNGrzwwgs5nUPTNITDYdTU1FjbNm3alHLO888/P+s5o9EoQqGQ6+vdDtvAEFLcUACSMcMQMClGOjs7oaoq6urqXNvr6urQ2tqa0zl+8IMfYGBgAJdddpm1rbW1dcTnvOWWW1BZWWl9NTY2juCZTE5YBUxIcUMBSMaMSwBqfJEnxYUkSa7vdV1P2ZaOBx54AN/4xjewYcMGzJgxY0znvPHGG9HX12d9HTx4cATPYHKSMgmEDiAhRYWn0Asgkx9nGxidDiApEmpra6EoSooz197enuLgJbNhwwZcffXV+N3vfodzzz3XtW/mzJkjPqff74ff7x/hM5jcMARMSHFDB5CMGacDqFIAkiLB5/Nh6dKl2Lhxo2v7xo0bsWrVqoyPe+CBB/DJT34S999/P973vvel7F+5cmXKOZ988sms55yK0AEkpLihA0jGDHMASbFyww03YO3atVi2bBlWrlyJn/3sZ2hubsa1114LQIRmDx8+jPvuuw+AEH9XXnklfvjDH+K0006znL5gMIjKykoAwHXXXYczzzwT3/3ud3HRRRfhj3/8I5566ik8//zzhXmSRUqyAxhlDiAhRQUdQDJmnGl/nAVMionLL78c69evx80334yTTjoJzz77LB577DHMnTsXANDS0uLqCfg///M/SCQS+OxnP4v6+nrr67rrrrOOWbVqFR588EH88pe/xAknnIB7770XGzZswIoVKyb8+RUz5ixgRRa5kUMxOoCEFBN0AMmYcbaSpANIio1169Zh3bp1affde++9ru+ffvrpnM556aWX4tJLLx3jyt7dmA5gRcCDnsE4IgkKQEKKCTqAZMwwBEwIScYSgEEvADqAhBQbFIBkzLANDCEkmagRAq40BGAkwdcGQooJCkAyZjQ6gISQJOJWCNgQgHQACSkqKADJmGEImBCSjNkGpiIoUs2ZA0hIcUEBSMaMM+qrsQqYEAJnEQhzAAkpRigAyZihA0gIScYUgHYOIAUgIcUEBSAZM+42MEz0JoTYfQDtKmC+NhBSTFAAkjGjcxYwISSJqKMPIABEOQqOkKKCApCMGWcOoMocQEIInEUghgNIAUhIUUEBSMYMHUBCSDLJIeCEplvbCCGFhwKQjBn2ASSEJJNcBQwAEbqAhBQNFIBkzLgngVAAEkLcs4BNInE6gIQUCxSAZMy428DwBZ4QYgtAn0dGwCveaugAElI8UACSMePoAsMQMCEEABA3XguEAFQAUAASUkwUhQC844470NTUhEAggKVLl+K5557LevwzzzyDpUuXIhAIYP78+bjrrrtc+3/+859j9erVqK6uRnV1Nc4991y89NJLY74uSY/GEDAhxIGu61YVsE+RETQEICuBCSkeCi4AN2zYgOuvvx433XQTtm7ditWrV+OCCy5Ac3Nz2uP37duHCy+8EKtXr8bWrVvxla98BZ///Ofx0EMPWcc8/fTT+MhHPoJ//OMf2LRpE+bMmYM1a9bg8OHDo74uyQwngRBCnMQcqSBelwPIFBFCioWCC8DbbrsNV199Na655hosXrwY69evR2NjI+688860x991112YM2cO1q9fj8WLF+Oaa67BVVddhVtvvdU65je/+Q3WrVuHk046CYsWLcLPf/5zaJqGv/3tb6O+LskMBSAhxImZ/wcIBzBAB5CQoqOgAjAWi2HLli1Ys2aNa/uaNWvwwgsvpH3Mpk2bUo4///zz8corryAej6d9zODgIOLxOGpqakZ9XQCIRqMIhUKuL5LcBoaf8AmZ6sQdHwSFAGQRCCHFRkEFYGdnJ1RVRV1dnWt7XV0dWltb0z6mtbU17fGJRAKdnZ1pH/PlL38Zs2bNwrnnnjvq6wLALbfcgsrKSuursbFx2Oc4FXA1gmYOICFTHtMB9CoSZFmycgApAAkpHgoeAgYASZJc3+u6nrJtuOPTbQeA733ve3jggQfw8MMPIxAIjOm6N954I/r6+qyvgwcPZjx2KqE7TD+GgAkhtgAUbzGsAiak+PAMf8j4UVtbC0VRUly39vb2FHfOZObMmWmP93g8mDZtmmv7rbfeim9/+9t46qmncMIJJ4zpugDg9/vh9/tzem5TCd3RB0alACRkyhNThdDzeYQAtKqAYxSAhBQLBXUAfT4fli5dio0bN7q2b9y4EatWrUr7mJUrV6Yc/+STT2LZsmXweu2RQ9///vfxrW99C48//jiWLVs25uuSzGgMARNCHMQSRg/AZAcwwRxhQoqFgjqAAHDDDTdg7dq1WLZsGVauXImf/exnaG5uxrXXXgtAhF0PHz6M++67DwBw7bXX4ic/+QluuOEGfPrTn8amTZtw991344EHHrDO+b3vfQ9f/epXcf/992PevHmW01dWVoaysrKcrktyh1XAhBAnVg9AjykAxS0dQEKKh4ILwMsvvxxdXV24+eab0dLSguOOOw6PPfYY5s6dCwBoaWlx9eZramrCY489hi984Qv46U9/ioaGBvzoRz/CJZdcYh1zxx13IBaL4dJLL3Vd6+tf/zq+8Y1v5HRdkjusAiaEOLHGwCnuEHAkQQFISLFQcAEIAOvWrcO6devS7rv33ntTtp111ll49dVXM55v//79Y74uyR0WgRBCnDjnAAOOEDAdQEKKhqKoAiaTG52j4AghDuJJIeCgj5NACCk2KADJmEgu+qADSAiJJoWA/YYQ5CQQQooHCkAyJjSdApAQ4sYsAjH7ANoOIAUgIcUCBSAZEykOIEPAhEx5UnIAPZwFTEixQQFIxoSelNLDKmBCSKYcwChzAAkpGigAyZhIdvx0hoAJmfKkVgEzB5CQYoMCkIyJ5BCwrnMaCCFTneQ+gGYbGApAQooHCkAyJtKJPeYBEjK1sSaBJI+CowAkpGigACRjIp3YYyUwIVOb5BBwkAKQkKKDApCMieQiEICFIIRMdZLbwNgOIF8bCCkWKADJmNCNPoCyIlnbGAImZGqTyQFkDiAhxQMFIBkTZg6grEiQDA3IEDAhU5tMVcCqplstYgghhYUCkIwJU+xJsgTJcAEpAAmZ2pgiz+9xh4ABuoCEFAsUgGRMWCFgWYJs5PtQABIytTEdQK/xodDvka0IAQtBCCkOKADJmDDz/SRJgmK82LMPICFTm2hSGxhJkqxxcJEYQ8CEFAMUgGRMmFXAkiJBkoUAVJnjQ8iUxtUIeqATgJ0HGEnQASSkGKAAnOIc2d2LnZtbR/14qwhEsiuBGQImZGpj5gAu3XU78P0FwIFNdiVwjAKQkGLAU+gFkMKy8Z430d8dRcNRVSivCYz48WYOoCRLMBvBMARMyNTGdACrQ2+LDbufQsC7GgBzAAkpFugATnGGwnEAQHQwPqrHWzmAskQHkBACwFEEokXFhtbXOA+YkCKDAnAKo2s6VKMzvxofnWjTVacAZBUwIcSeBKJYAvB1OweQ00AIKQooAKcwiYT9Qjzawg13GxjTAeQLPCFTGdMB9KiGAAy3oE4JA2AImJBigQJwCqM62jGoidGJNs2sAnYWgTAHkJApjekAylrE2naUtg8ABSAhxQIF4BQm7qjG0xKjDAE7RsHJMnMACSG2A6iotgCcr+4FwBxAQooFCsApjBofuwOoswiEEJKE2QZGTkStbXNjuwEwB5CQYoECcArjdABHHwK2J4FIdAAJIbAdQNnhAM6OCgFIB5CQ4oACcArjdAC10TqAhtZzVQFr/IRPyFQmltAgQ4Ok2e2laqMHUYIIohSAhBQFFIBTGJcDOErXzmwDI8t2EYhOB5CQKU1M1RBAzN4QqIIEHYukZjqAhBQJFIBTGFcV8CjzctI1gh6tmCSETH50XUdc1d0CcPYyAMAS+QCrgAkpEigApzCuKuDROoC6nQNoVgFzFBwhUxezBYwlABU/UH8iAOBYaT+GWARCSFFAATiFSeShD6CrDQyrgAmZ8pgFIAHJEIDeADDzBAB0AAkpJigA34WEuobw7IPvoK9jMOtxanzsVcDuNjAcBUfIVMcSgKYD6AkAM48HACySDiIei2Z6KCFkAqEAnGASMRVP/OIN7HyxZdyuseOfLXj96UN445nDWY+L53USCBtBE0KAuPH/X6oYFcCeAFDdhLinFH4pjmlD+wu3OEKIBQXgBHPw7R7sfqUdWx4/MG7XiA0lAABR4zYTTgdw1JNA9NQqYLaBIWTqYjqAZbLx+uMNArKMgerFAIAGox8gIaSwUABOMH3tIiwbGcwuzsZCwkiydub4pSMvDqBqh4Al5gASMuWJqeKDZZnTAQQwVLMEADA3tqcg6yKEuKEAnGD6OoYAANHBuOWe5RuzpUs8mj3Z2tUGZrRVwI4cQIUhYEKmPFHjw2Sp0wEEEJt+HACgKUEBSEgxQAE4wYQMAagl9FH33huOhBHaTcSyC8B4PopAHG1gLAeQbWAImbJYOYCy2wFU60Ql8FHaPnuEECGkYFAATjCmAwgA0XEKAydG4QCOehSc8TDRBoZVwIRMdcwcwBJTABoOoDxjEWK6ggoMAL3NhVoeIcSAAnAC0VQN4S57OHpkMJ7l6NGj5pgD6HQIR18FbIaAOQqOEJJGABoOYCAQxC59NgBAb32tIGsjhNhQAE4g/T1RV3g0Nl4OoCH84sOFgF1FIGPLAZRdbWBYBUzIVMUsAimxGkELBzDoVfCWNhcAoB2hACSk0FAATiDO8C8wniFgIwdwuBCwqw3MGHMAnbOAmQNIyJQlZnyYDEpuB9DvlfGmPg8AoLVQABJSaCgAJ5BUATi+IeAROYCjdO2cbWAYAiaEmLOAg3DnAPo9Mt4yBKDc9nohlkYIcUABOIGEkgXgMI2aR4uzD2C2VjOuUXDxsbeBkWUWgZDi44477kBTUxMCgQCWLl2K5557LuOxLS0t+OhHP4pjjjkGsizj+uuvTznm3nvvFVXvSV+RSCT1hFOQlFnAhgMoSRL2Kk0AACV8GBjsLsj6CCECCsAJpK9TCEBJGGXjXgWsa3rWCR9OB3C0eXumvpQl5yQQCkBSHGzYsAHXX389brrpJmzduhWrV6/GBRdcgObm9FWo0WgU06dPx0033YQTTzwx43krKirQ0tLi+goEAuP1NCYVKQLQa/9cNF859mt14hsWghBSUCgAJxAzBFzTUAoAiA6MjwBUHaHfbGFgNZ9VwIodAmYRCCkWbrvtNlx99dW45pprsHjxYqxfvx6NjY2488470x4/b948/PCHP8SVV16JysrKjOeVJAkzZ850fRFB3Pj/D8B0AIPWvoBHxlu6KAQB8wAJKSgUgBOErutWCHj6nHIA45cDmHCIuWy9ABPx/FUBO3MAGQImxUAsFsOWLVuwZs0a1/Y1a9bghRdeGNO5+/v7MXfuXMyePRvvf//7sXXr1qzHR6NRhEIh19e7FdMB9CPVAQz4FLypzRPftDIPkJBCQgE4QQyF40KMSUBtoyEAxyEHUEsK+2abBpLIwyxgZxsYSWYImBQPnZ2dUFUVdXV1ru11dXVobW0d9XkXLVqEe++9F3/605/wwAMPIBAI4PTTT8euXbsyPuaWW25BZWWl9dXY2Djq6xc7ZhGIX091AINeBTt147l3vD3RSyOEOKAAnCDM8G9ZtR8lFT4A45MDmDxeLlMzaE3TXaJvtG1gNOcsYDqApAiRzKRbA13XU7aNhNNOOw0f//jHceKJJ2L16tX47W9/i6OPPho//vGPMz7mxhtvRF9fn/V18ODBUV+/2DFnAfv0NA6gV8ERfZr4Jtwy0UsjhDjwFHoBU4VQxyAAoHJ6EIESL4DxCQEnC8BMIeDk40YfAha3kgx7FjAFICkCamtroShKitvX3t6e4gqOBVmWsXz58qwOoN/vh9/vz9s1ixkzB9CnR8WGJAdwr14jvhnoABJRwDM1fi6EFBt0ACcI0wGsrA3CVyJ093g4gIm4W/BlKgJJDg2Ptg9g+jYwLAIhhcfn82Hp0qXYuHGja/vGjRuxatWqvF1H13Vs27YN9fX1eTvnZMbMAfSmdQBl9KAcqiyiIHQBCSkcdAAnCLMFTMX0IPzjKQCTQr6ZpoEkC8NRVwEbfWBkZyNo5gCSIuGGG27A2rVrsWzZMqxcuRI/+9nP0NzcjGuvvRaACM0ePnwY9913n/WYbdu2ARCFHh0dHdi2bRt8Ph+WLFkCAPjmN7+J0047DUcddRRCoRB+9KMfYdu2bfjpT3864c+vGLEFYKoDGPAqACQM+OtQMXQQCB0BqudN/CIJIRSAE4VZAVw5vcQKAcejKlRVg6Lkz4hNFnKZikCSQ8BaQh9VbhSrgEkxc/nll6Orqws333wzWlpacNxxx+Gxxx7D3LmiFUlLS0tKT8CTTz7Zur9lyxbcf//9mDt3Lvbv3w8A6O3txWc+8xm0traisrISJ598Mp599lmceuqpE/a8ihlLAGqGAEzKAQSAsG+GLQAJIQWBAnCCsELA04PwBRVre2wwgWC5L2/XSXYA4xmKQMzjPD7Zuq+pOhTP6ASgLEuQWQVMipB169Zh3bp1affde++9KduyTc8BgNtvvx233357Ppb2rsTMAfRkqAIGgJBvOmYBQOjwBK+OEGLCHMAJIBZJYCgsCj4qpgchKzK8AfFCmO8wcEoOYIYQsOkM+oP2Z4DRhIGtIhBpnB3Arj3Aw58BOnbm/9yEkLwRNQSgohqj8ZJyAAGgxzNdbAgxB5CQQkEBOAGEjPy/QKnXElzjlQeY2gYmkwA0KvWMcDSArGPjMmG3gQFkZZxmAes68MfPAq9tAF7+RX7PTQjJKyIErMOjpa8CBoBupVZsoANISMGgAJwAzPBvxXT7hdA/Tq1gEjm2gTGdQl9AsWYTj6YSOH0OYJ6rgHf/DWjeJO4PdOT33ISQvBJLaPAhAQnGB0GHA+g3BGCnZApA5gASUigoACcAZ/6fiekE5nsaSHIIOFMjaCsH0CtD8Yg/g2T3MBdcOYDjEQLWdeDvN9vfD3bn79yEkLwTVzV7DjCQ1gFsl41m0BSAhBQMCsAJIK0AnKAQcMY+gIZQ9PgUyJ7Rh26dk0DGZRTcjj8BLdvt7ykACSlqYgnNngMsyYBip5mYVcBtmtEMur8VUPPfDosQMjwUgBNAKJ0ALB2nEHCOfQCdVcBm5W9yEcimR3bjgZs3IxbJ/AJtFkyOiwOoqcDf/5+4v/A8cTtEAUhIMRNTNQQkRwWwo7VU0Cfecjr0ckD2iCqy/rZCLJOQKQ8F4AQQ7hbVcBXpHMCBfIeAc3MAze0er2KHgJME4K6X29F9ZACdB/szXk93FoHIeW4E/dpvgc6dQKAKOOdrYttgV37OTQgZF2IJDQEYH2wd+X8AEPAIB3AwDqDcmJzCMDAhBYF9ACeAj359Bfp7oiiptPv9jVcOoBkC9voVxKPqsI2gPT45YwjYDBNnKw5xF4EYQjIfDqCmAc98R9w/4wtATZOxqAgQGwR8JWO/BiEk78RUDaVI7QEIAAGfEICRhApUNAB9B41K4OUTvEpCSFE4gHfccQeampoQCASwdOlSPPfcc1mPf+aZZ7B06VIEAgHMnz8fd911l2v/m2++iUsuuQTz5s2DJElYv359yjm+8Y1vQJIk19fMmTPz+bQsZEVGRW0QHq/dAHr8qoCFaAuUmdNGMhWBOBxAI3Sb0kLG+D5bexgrB1DKcxXwUA/Qs1/cP/XTgK8MkI1cIrqAhBQtwgFMnQMM2A7gUMwQgAAdQEIKRMEF4IYNG3D99dfjpptuwtatW7F69WpccMEFKeOZTPbt24cLL7wQq1evxtatW/GVr3wFn//85/HQQw9ZxwwODmL+/Pn4zne+k1XUHXvssWhpabG+Xn/99bw/v0yMVxGIKdoCRo7hcH0APT4Zitd07pJ7CIrvszWITlcFrOfDAYyGxK23BPCVijyiEqNykHmAhBQtsURSDqCDoOkAxjWgYpbYyF6AhBSEgoeAb7vtNlx99dW45pprAADr16/HE088gTvvvBO33HJLyvF33XUX5syZY7l6ixcvxiuvvIJbb70Vl1xyCQBg+fLlWL5chBS+/OUvZ7y2x+MZN9dvOMatCtgQbcEye95wOiwH0CfboVuH06eqmiXusglALU0fQF0XwtCsCh4VMSPv0FdmbyupEVWDdAAJKVpiahYH0PiwGYnTASSk0BTUAYzFYtiyZQvWrFnj2r5mzRq88MILaR+zadOmlOPPP/98vPLKK4jHRxZO3bVrFxoaGtDU1IQrrrgCe/fuzXp8NBpFKBRyfY2WcQsBG2LNDAFndACtHEDFqgLWHEJPdVQTa1kdQHHrLAIB8tAKJmoIQL9TABoOIFvBEFK0xJ0hYI9bAJp9ACkACSk8BRWAnZ2dUFUVdXV1ru11dXVobW1N+5jW1ta0xycSCXR2duZ87RUrVuC+++7DE088gZ///OdobW3FqlWr0NWV2V265ZZbUFlZaX01NjbmfL1kxs8BNHIAjRBwfLhG0L70VcDOauJsRR267gwB239OY24FEw2LW3+5vS1YLW6HesZ2bkLIuOFqA+NNKgIxBOBQXIVebgjAMAUgIYWg4DmAgCggcKLresq24Y5Ptz0bF1xwAS655BIcf/zxOPfcc/Hoo48CAH71q19lfMyNN96Ivr4+6+vgwYM5Xy8ZSwAOJfLXNgWOHECHA2j+fNzHmUUgjkkgjhCw0znM7gA6QsD5dABjhgD0OQRgidE8liFgQooSTdMRV3X4zTYwnuQQsBCAmg7ES802MC2i6p8QMqEUNAewtrYWiqKkuH3t7e0pLp/JzJkz0x7v8Xgwbdq0Ua+ltLQUxx9/PHbt2pXxGL/fD7/fP+pruM5lCEDoQCyqWm1hxoqaVAQCXYhCr09xHed0AM3cvYwOYC5VwI4cQCAPlcAMARMy6YgbQs7OAUx2AG3PYchfC58kA1ocGOwEymZM2DoJIQV2AH0+H5YuXYqNGze6tm/cuBGrVq1K+5iVK1emHP/kk09i2bJl8Hq9aR+TC9FoFDt27EB9ff2ozzESPF7Fqr6NDuQvDzC5ChhIPw3EbgNjVwE7RZvqEoA5VAFLYhScacKOTwiYDiAhxUwskSQAkxxAnyLDDBRENRkoMz7osxKYkAmn4CHgG264Ab/4xS9wzz33YMeOHfjCF76A5uZmXHvttQBE2PXKK6+0jr/22mtx4MAB3HDDDdixYwfuuece3H333fjiF79oHROLxbBt2zZs27YNsVgMhw8fxrZt27B7927rmC9+8Yt45plnsG/fPmzevBmXXnopQqEQPvGJT0zYcx+PPEBL2PltgZluGkjC0QhaMauA47Zocz4mexWwuJWMvyQpX+Pg0lYBsw0MIcWMJQAz5ABKkuTKA+Q0EEIKR8HbwFx++eXo6urCzTffjJaWFhx33HF47LHHMHfuXABAS0uLqydgU1MTHnvsMXzhC1/AT3/6UzQ0NOBHP/qR1QIGAI4cOYKTTz7Z+v7WW2/FrbfeirPOOgtPP/00AODQoUP4yEc+gs7OTkyfPh2nnXYaXnzxReu6E4E/6MFgXyyv00BMsebxyvD6FKhxDYk0zaDtNjB2FbCzD6CrCjhbEYgjBAyIptdaQs2jA5jUBgagA0hIkRIzXkNKpPQ5gICoBB6MqUYvwAbgyKsUgIQUgIILQABYt24d1q1bl3bfvffem7LtrLPOwquvvprxfPPmzUtb+ODkwQcfHNEax4PxaAVj5fZ5ZXh8MjCQwQF0NIKW01YBOxzAeG5FIEAe5wFbArDC3mblALIKmJBiJG7kC5fI5izgYMoxLgeQzaAJKRgFDwFPZfyl4xACNsSa4pXh9YsX2uw5gHYbGOfIN3cbmCwC0NEGBoBdUDLWIpB0IWCzDQwdQEKKkpgqXldKpPQ5gACbQRNSLFAAFhCz8jc6kMcQsJnb51XgMSp/h80B9KSpAnY1gs6tChjIpwNoVgE728AYDmB8AIhHxnZ+QkjeiRqvIUFppA4gBSAhEw0FYAGxQsBD+awCtke8WQ5gUjNoTdWsHD2PT7FCwK5JIPHcikDMSSDJDuC45AAGKgHJaGfDQhBCio5YsgDMkAMIAFGXA8gQMCETDQVgAcl3FbCu664QsMdnVAEnhYCd4V2P11EFnHESSC6zgMX3eROA6RpBS5KjEIQCkJBiI27832eqAgaSHUBHCHiYvG1CSH6hACwg+RaAmqoDxmuoWQUMpM4DdjqCinMSiEO0OY9xtodJxioCkewqYGstYyFdH0CAvQAJKWIsB9DqA5jaOD9gzQPW7DYwiQhHPBIywVAAFpB8C0C3s6fAY4SAUxxARxNoSZIgp80BdIyCy1YEktIGRhr2MTmRbhIIwF6AhBQxZhGI3xKA6RxA8bYzFFMBbwAoqRU7GAYmZEKhACwg+W4DY4k2CZA90rAOoFkkMmwVcJYiEGsSiCEATSE49lnAaaqAAfYCJKSIMR1ASwB6M+cADpl5xlYYuGXc10cIsaEALCD5dgCtCmCPcPYsBzCpCMRZKAIgfRVwjqPgTJ1nCj8lHzmAalyEhIDUELAlABkuIqTYiBn/99kdQEcRCMBegIQUCArAAmILwDw5gGYBiCHsTIGX3AcwkwPoFHrqiEPAMG7zIADN/D+AOYCETCJMB9CnZ3EAfckOIMfBEVIIKAALiN0GJjHs5JJccDqAAKwQcHIfQHsMnDhOHq4KOIdJIHltA2OGfxU/oHjd+0wHkDmAhBQdKQIwnQPoMRtBG68rbAZNSEGgACwgpgOoJXSX4BotprBTDOFn9wFM3wbG43WHgJ2izd0GZgSNoJU8NILOVAEMOMbB0QEkpNiIJcRrjU+Pig1pHMBAigPIEDAhhYACsIB4/YolnPIxDSSRcAs7axJINCkH0HIAM4eAXVXAGXIAdd1uO5PaBmYMgjZTBTDgCAHTASSk2IirOmRo8MB4PUvrAJptYJKLQOgAEjKRUAAWEEmS7HFweZgGosaSBaCRAziMAyhbAjBDH8BMAtDh8qXOAh5LCDhNE2gTOoCEFC0xVUPALAABsuYARlIcQApAQiYSCsACk89KYOcUEMAOAWfsA5jNAYw7i0DSizndoQutSSD5mAWcNQRs5gCyCpiQYiOaSBKAWfoAWjmAZjPoWBiIhMZ7iYQQAwrAApNPAajG3cJu+D6ASTmAifSFH5kcQM1RuJLaCHosAjBLCNh0AKMh0S6GEFI0xJwCUPEBcupbTNArXvP6o8Zrnr9MzPkG6AISMoFQABYYf6lRCTwwdjFjOYCGo2f3Acw0CSRbDuDwjaDThoDz0QbGrAJO5wAGKgGIazAPkJDiIq5q9hzgNO4fAMysFGHhlr4heyMLQQiZcCgAC0zAEICRfAjAJGfPcgBTikDcx6Vz7Vwh4BxyAG0HMA+zgM0QcPIUEHEBIFgt7rMVDCFFhcsBTJP/BwCN1UIYtoWiiCZYCEJIoaAALDDBMiEAh/rzUASSUgUsblMcQLMIJDkHMK6lHOM8bzJaGgEomWJSG0sVcJYcQIDj4AgpUlwC0JNeANaU+qxxcId7DBeQApCQCYcCsMAEDAEYyYMATA7tmkUgalxzibXkRtCWAHS4dqojBKzr6Wf7uopAjKhsXhtBZxSAZiUwHUBCiomYqsEvGa9l3vQhYEmS0Fgj9h2yBKARAg5TABIyUVAAFphgPgVgUhWwmQMIuAtB7DYwbgdQ13Romg5V1VIEXzoX0BoDJ9l9AJV8joJLFwIGOA6OkCLF1QYmgwMIALOrSwAAB3sGxQY6gIRMOBSABSZQ5gMADPXHhjlyeNSk/n4er2zVSziLOlJGwRlVwIDI93O6f87tKduSpoAAzhCw2JeIq3j41i3Y9Ic9uT+RbFXAgO0AMgeQkKLCnQOY3gEE7DxAywEspwAkZKKhACwweQ0Bx93FHZIkOaaBpHMA3SFgQDh96cbSpasETp4DDKQWgXQe7EfL7j7seKEl9ycybAjYKAJhCJiQoiKXHEDA4QB2JzuArAImZKKgACwwVgg4L21gjFnAHjv0600zDSS5EbSZtwcIoWfNFPbKljuYNgSspzqAViNoQwCawnZEo+GiRjPYdJNAAOYAElKkxBKONjDZHMCUHEBDAA71ALHB8VwiIcSAArDAOB3AMU3PgGMUnM/+taZ1AGPuKmBJklxCz+kQmu5gOgFnFoG4BKBVBCJ2DlkCcATPbbgQMHMACSlK4iPMATxk5gAGKgFvqbjPMDAhEwIFYIEx+wDqOhAdGts0kETCXQQC2JXAaR1Ax3GKYgs91dEmxtyuxlMFnCnqJMdfkZyUA2g6myMTgDm2gWEOICFFhSgCyV4FDACNhgDs7I9hKKaKSrLK2WJn38HxXiYhBBSABUfxyPAFjOHoY8wDtJw9bxoHMJba48/cZ64DEELPKRDNMXFqOgdQT5cD6K4CHpUANHMAM1UBWyFgOoCEFBOuEHAWB7CyxIvygBgJZ7mAVXPEbW/zeC6REGJAAVgEBPLUDNqaBexNkwMYTZcDaP/6ZYfQcxaTyGnGxJlYVcCSowo4qQ2MKWp1Tc8txK2pQNx4Q/BXpD/GCgHTASSkmIglNPhzqAIGnGFgIw+QApCQCYUCsAgIlotWMJExtoKx+gA6cwDTzANOHgUHuOcB2/0EFTsHMEsVsDMH0AolJ4WAgRxdQDP8CwzfBibSC6hjC5sTQvJHrn0AAbsVjNULsKpR3DIETMiEQAFYBOTPATSEnaOtizUP2BCAuq6nNIIG4BJ6OYeAjU3pQ8BipzOsne4cKZjhX9kLePzpjzFnAQOcHEBIEZHLLGCTlFYwdAAJmVAoAIuAYGl+egGazl5aB9AIAWuqHYp1O4COKmCHQyhbRSDZ2sDY21JCwCN2AIfpASgWCzSuEPe3bxj+nISQCSGmOnMAs4eAU1rBVM0VtxSAhEwIFIBFQL4cQLMK2J0DaDqAYp+zybOzCMQSegnNlUtot4FJUwWcJgScXAXsfE4jCgFnCv+aLLtK3G65V+QNEkIKjnAAzSrgHB1AMwRcaYSAwy1AYuyTkQgh2aEALALsXoC5v+hpqoaO5rCrsEJN097FdPlMB9AM70qSuwG0KwTsKAJRsjWCVjNXAeuqDl3XER2pAIyZc4CzOIAAsORDohgkdAh454nhz0sIGXfcfQBH6ACWzRB5g7rGiSCETAAUgEVAsMwsAsndAXz1iQP47bdfxo5N9og1u3gjtQ+gWQTibALtrN515vo528nIljBMUwWcbhKIYp5HRyyiWk4gkOM0kFxCwIBwF07+mLj/yt3Dn5cQMq5omo64qjsmgeTmAPYOxhGOxI1egIYLyDAwIeMOBWARMJoQcHeLCJt0NgvHTNN0y2FLNwkkEXM7gM5jgOQqYGMUnM8OAatp3Ds9TRsYWbYbSicL2ryGgAFg6afE7e6/Ad37hj+eEDJuxIwPeLk6gGV+D6pLxGufnQfISmBCJgoKwCLAOQ4uV2LG1JBwTxSAu0hD8aQ6gImoOwfQmScIwOH06e5RcKajl64IxBoF5ziPGQLW9JT5xrmFgIdpAu1k2gJgwTkAdGDLL4c/nhAybpgC0J9jFTDASmBCCgkFYBEQNAXgQO4CMDoojh3oFQLQdO0Ad3GHlQM4rAOYpgrYGQLO4gBmmgSSLGhzagMz3Bi4ZJZfLW63/i+QiOb2GEJI3oknRuYAAmnyAK0QMB1AQsYbCsAiwHQAo4OJ3ESScSwA9PdEANgOnaxILkFmVQFHU3MAnbiqgC2RqGQtAklbBSzbVcCjcgBHKgCPOh+omCXGwr31x9weQwjJO6YDGJRyqwIG0lQCsxUMIRMGBWAR4C/xAoaGig7kNtkiaoSAh8JxJOKq3QPQ6/6VJk8CMZ3CFAfQm24SSPZRcMPNAh5VDmAsxyIQa+Ee4KSPivu7/5bbYwgheSc2GgewOrkXIEPAhEwUFIBFgCxLCJSYhSC5tYIxHUBAhIGdeXtOUvoAxtIfpziEm3kur2+YPoBqlj6AajoHcARVwLnkAJqYYaNIX+6PIYTklbiZA5hjFTCQLgfQ+F8OHeaYR0LGGQrAImEkhSCJuOoqyujvidpj4JKKO7xJk0ASjvCuE6vaN65ZxyjDFYGkmQRihpI1VUupas57FbCJeaxzjjAhZEKJJjQAOoKjyAE83DMkXk/KZooxkLrKMY+EjDMUgEVCcAQCMDbknnzR3xO1W7ckh4CNUK8p6obC4vzJDqDsaPeiuhpBm9uzVAE72sA4R8GNLgRsCsAKxKOqFbrOir/C/VhCyIQTS2jww/E/PwIHMBxNoG8oDsiy7QIyDEzIuEIBWCSMpBegWQFs0t8TcU3vcGI6ffGYip2bW/Hyo6JfXnV9qes4VxWww020cwBHWAWctggk9xCw5inDA9/cjAdv3uyadpIWM1+QDiAhBUMIQEcKSw4OYMCroLbMD4CVwIRMNBSARcJIHEBn/h8ADPREoWbI7TNDwFpCx1O/fAuaqmPhshk4Zc1c13GKY+JHwjFSzhSGaSeBmFXASh6LQAwRF9VLEe6OINQZQSw6jAvoYwiYkEITV3V7DrAkA4o3p8eZYWD2AiRkYqEALBICIxgHZ1YAm4R7okgk0oeAvUm5fied24g1Vx2bcpxzhJtVUTxsCDjdJJDURtC+gCFCR1AFrCq2QxmPDCMALQewf/jzE0LGhZiq2gUgnqAY7ZYDZhjYrgRmKxhCJgIKwCLBCgEPDF8FnBwCHuiNOqp7kyd8SAhW+AAJOONfj8Lplx7lqto1cRWBmK1ivIrdHzCeJgRsbHKHgO1cQlPMllT6jW25N4JOoMTalBguD9AUgIkhQM29mTYhJH/EEprtAOaQ/2ditoKxewGa4+AoAAkZTzyFXgARpAsBt+7tw5vPHsZpH16AUkNEAUDMCAFX1AYQ6oygvyfiqAJ2a3pJknDxf5yCeEzF9MbMvfXsdi+aK5/QCgGnEW92Gxh7m+kkJhxh29JKH3rbBod3ADXNdgBlWwDGhwsBO3sGRsNASU324wkheSea0EbUA9Ak1QFkCJiQiYAOYJGQrg3Mi3/ci7dfbMXuV9pdx5oh4GmzRO7bUDhu5QUmh3YBoKquJKv4AxwOYEJ35BMqju1ZQsBpikCs7z2SaHSNHELA8QHrbgK2gzBsJbDiBTzG8cwDJKQgiBzA3HsAmmTMAew7BGg5dAEghIwKCsAiwQoBG21a1LiG1r2isfFgyB0WNqeFVNQGLcevr1N8ek52AHNFNpy+REy1ijs8PtnanrYKWM+cA2gSLPU6CkOGCQGb4k1SoOp2AnliOAcQsF3AGPMAiZs77rgDTU1NCAQCWLp0KZ577rmMx7a0tOCjH/0ojjnmGMiyjOuvvz7tcQ899BCWLFkCv9+PJUuW4JFHHhmn1U8eYgkNAWlsDqCu60B5PSB7AC0BhFvHY6mEEFAAFg1BKwdQCMC2/SErrDsUThKAhgPoL/GgtFqEhvvaxKdnJanoI1dMpy/mKDARVcB2dXAyWpY2MCaBMq+rMjgrUXsMXMLReDq3XoBsBUNS2bBhA66//nrcdNNN2Lp1K1avXo0LLrgAzc3pw4vRaBTTp0/HTTfdhBNPPDHtMZs2bcLll1+OtWvXYvv27Vi7di0uu+wybN68eTyfStETS6ijcgAbqgKQJGAorqJrIAbIipjvDTAMTMg4QgFYJJhVwImoikRMxeF3eqx9KQJw0BSAXpRVixfa3nYhAD2e0f1KFaN4w9liRkwCySEErKQ2gjYZkQC0mkC7BeCIHEAKQOLgtttuw9VXX41rrrkGixcvxvr169HY2Ig777wz7fHz5s3DD3/4Q1x55ZWorKxMe8z69etx3nnn4cYbb8SiRYtw44034pxzzsH69evH8ZkUPzHVmQOYuwD0exTUlYvjU8PA7AVIyHhBAVgk+AKK5aRFBuI4sqvX2pfcHNqsAvaXeFBmOIBm6FjxjS0EbLqLileGJEmONjDpGkEbj3VoPlMwmgRKva7xcFkxxZuvzDV6Lh7LoXrYZwrA0PDHkilBLBbDli1bsGbNGtf2NWvW4IUXXhj1eTdt2pRyzvPPP39M53w3EFd1Rwg4dwEI2HmAqYUgB/K1PEJIEhSARYIkSVYeYH9vFK17+qx9yQ6gGab1B20BaDLaHEArBGw4gOZ55CyNoO1ZwNlCwD5Xj8GsuELAtus3bBWw8RjXOciUp7OzE6qqoq6uzrW9rq4Ora2jzy1rbW0d8Tmj0ShCoZDr691G1DkKbgQhYMDOA7RbwbASmJDxhgKwiDAFYPMbXUjENUtYDYaTHUA7B9AMAZsk9wHMFSvXzyoAUVzb04WA7TYwSSFghwYMlHpGEAI2BaDbARy2DyDAEDDJiJTUkFjX9ZRt433OW265BZWVldZXY2PjmK5fjMRG2QYGsHsBchwcIRMHBWARYRaC7NnaAQCYvagagMiBcxZCmALQV5LqAKZrA5MLptNnYjqASg6zgJPz/pwuYLDMZ4eA04hIF44QsKsIJCcHkOPgiJva2looipLizLW3t6c4eCNh5syZIz7njTfeiL6+Puvr4MF3n7BxCcCROoA1hgPIcXCETBgUgEWE6QB2HxH98JpOqLWEmRkG1nXdytMLlHhTQ8CjzAFUkopHzPNka+FihoDlJOfDWRUcKPVAybkK2CwCqWARCBkzPp8PS5cuxcaNG13bN27ciFWrVo36vCtXrkw555NPPpn1nH6/HxUVFa6vdxtxdXRtYABgtuEAHk7OAew7KBrEE0LyDieBFBFBoxLYpOHoKpSU+9DfE8VQOI6KaUHEo6rlvPlKPCmOX7KQy5Xk4g3FmxwCThVv5uuylHRJ4fiJnSIHULyojzYEPKI2MDEKQGJzww03YO3atVi2bBlWrlyJn/3sZ2hubsa1114LQDhzhw8fxn333Wc9Ztu2bQCA/v5+dHR0YNu2bfD5fFiyZAkA4LrrrsOZZ56J7373u7jooovwxz/+EU899RSef/75CX9+xcRYHMBGRy9ATdMhVzSIFxY1Bgy0A+Uz871cQqY8FIBFhOkAmvdr6ksRKPMaAlC8sJrhX1mR4PHK1pc9vm2UOYDe9CFguxF05jYwKdM/khxA+dCLAGaOqAo4MegMAefgAPgr3OcgBMDll1+Orq4u3HzzzWhpacFxxx2Hxx57DHPnzgUgGj8n9wQ8+eSTrftbtmzB/fffj7lz52L//v0AgFWrVuHBBx/Ef/3Xf+GrX/0qFixYgA0bNmDFihUT9ryKEXcbmJE5gPWVASiyhJiqoT0cxczKgOgF2HdQhIEpAAnJOxSARYRTAM46ugqSJKGkXLiCZpuXmKMJtJl0XlYTQK/RCHrUk0CU9CHgbI2grRzA5BCwQxAGYocg73kCwCeGdwAjRuVzoBKqw/XLqQjExxxAkp5169Zh3bp1affde++9KdvM1IZsXHrppbj00kvHurR3FWISyOiqgD2KjPrKAA71DOFQz6AQgFVzbAHYeOo4rJiQqQ1zAIuIoEsAigKQoCUA3Q6gOV8XAEqr7DzAsbaBsc/jDgHremoeYC5FIAEpDFkSAm7YNjBDveI2WIVEYqRFIGwDQ0ghGYsDCNhhYKsVjFUJzEIQQsaDohCAI5nVCQDPPPMMli5dikAggPnz5+Ouu+5y7X/zzTdxySWXYN68eZAkKWOH/pFed7xxOoANR1eJbeXGiDijGbTZBNoXtM3bckchyGirgJWkKmDzPE4xlyzgtGEEoCxL8MmDkCFEq5YYRshFesVtoAqJGNvAEDKZiCU0+EeZAwjYhSAHu5ObQVMAEjIeFFwAjnRW5759+3DhhRdi9erV2Lp1K77yla/g85//PB566CHrmMHBQcyfPx/f+c53MHNm+tyRkV53IiirEi+aJRU+1NSXivvJDqBVAWwLwNJqpwM4tj6AJl4zBOwQlMlhYCsHMG0RCOAv80JKRCwHUIu7+xmm4AwBj7gNDHMACSkkY+kDCACNbAVDyIRScAE40lmdd911F+bMmYP169dj8eLFuOaaa3DVVVfh1ltvtY5Zvnw5vv/97+OKK66A3+9Pe56RXnciqGkoxdlrF+G9/3a8lVcXNB3ApBCwzyEAnc2gR9sGRk4SgIpRTOIs6EiuBDb0X4oDaH4fLPMCiSHIMAWge6JJCs4Q8Kj7AL77JiwQMhmIOdvAjMIBNMfB2dNAjBAw5wETMi4UVACOZlZnpjmcr7zyCuLDOUxjuO5EseT0BtQvsIfQB5OKQKwcwKBTAI49BCzLkkvImbmErnnAGRzATEUggVIvEB+CIhkh4Hgi+yIcIWDVOQpuRG1g+kXCIiFkQonnKwcwJQR8kP/ThIwDBRWAo5nVmWkOZyKRQGdn57hdFyjMPE+zN6DpAMbSFIGUVY+9CASA1bA5+TyZWsEM1wYmUCYEoJ0DmEUAxiNAIiLuJzmAiZzawBgCUEvY5yGETBgiBDy6KmDADgG39A0hrmpAxWwAEpAYAgZye20nhOROwUPAwMjnaqY7Pt32fF+3EPM87RBw3JgCIl5g/Y4QcHlNAJIsQfZIo+4DCLjdQ+d5FGuUm/tTeK4OoJUDmE0Amu6fJAO+cpcAVBOaVXCSEW+pfZ95gIRMOGPNAZxe5ofPI0PTgZbeCODxAeX1YifzAAnJOwUVgKOZ1ZlpDqfH48G0adPG7bpAYeZ5miFgNaEhHlXtHEBHCNhf4sV5Vy3BeZ86dtSTQAC3k+cUg2aFsJrUBsaeBJJBAJZ5gUTEcgDTNZO2cBSAQJZdRSBADuPgZCEcAVAAElIAoomx5QDKsmRXAvckF4IcyMcSCSEOCioARzOrM9MczmXLlsHr9aZ9TD6uCxRmnqfXr1iFHUPhmKMPoLuH91HL6rBw6YwxXcspHt0h4Ow5gKlVwE4HcNDhAGYRcWYBSEDkPybi7mNHlAdIAUjIhBNXHW1gRuEAAs48QBaCEDLeFHwSyEhndV577bX4yU9+ghtuuAGf/vSnsWnTJtx999144IEHrHPGYjG89dZb1v3Dhw9j27ZtKCsrw8KFC3O6bjERLPch3BXBUDieUQDmA2clsCsE7EkfAs7UB9DrF2srqfAB3bYDmHUSiKMABECKA5hzM+gwKAAJKQCuRtCjcACBNJXA1fPEbeeuMa6OEJJMwQXgSGd1NjU14bHHHsMXvvAF/PSnP0VDQwN+9KMf4ZJLLrGOOXLkiGue56233opbb70VZ511Fp5++umcrltM2AIwZucABnNzO0eCywH0pQkBJzuAenoBuOzCeaiqK8H8k6YDTwxCMR3AbLOAHS1gALhyAIFcm0FzHBwhhSKRSMAnG/+nY3QAD/UYlcAzTxC3LdvGuDpCSDIFF4DAyGd1nnXWWXj11Vcznm/evHk5zfPMdt1iwlkIEhtHB9A5DcTZUNps7JxrG5i6eRWom2eEx+OOPoDZinmTHUBjEojikY38xxFUAsc4Do6QiUZORACf8c2oHcCkEHCD8UG+fQcQHwK8oxOWhJBUiqIKmGTHLAQZ6IsiFhFianwEYPocQCsErKavAk5uA+MiMQTZ7AOYzcRzOICaalf9muPxhi0CARw5gGwGTchEomk6PFrU3jDWHEDTAaycDZTUivZObW+OdZmEEAcUgJOAEsMB7Gsfsrb5xiMH0FkFnEMI2K4CznLSnB1AuwrYGf41BWBuRSAcB0dIIXDm/+mKL7UyLEfMHMCOcBSRuApIku0CHtmal7USQgQUgJOAgNEMurddhEU8fsXqzZdP3A5guiKQ3ELALuIRywFUtSxrdk4BcVwnUGoIwFwcQB9zAAkpBK4xcJ7RhX8BoDLoRblRRHaoJykMfGTbGFZICEmGAnASYDqAvW3iBdE5Bi6fDN8GJkMIWM4mAAftKmA9y3HOOcBG/p+sSPAFhBDNrQjEDAEzB5CQicTVBHoMeXqSJGGW2QvQHAlHB5CQcYECcBJg5gCOZwsYILkK2DkJJFMIOH0VsItExO4DqOfoABohYI9XttaRcxsYgA4gIRPMYFS1BKA0BgcQcBSCJDuAHTuA2OCYzk0IsaEAnASYAtBkvASg7KwC9uXeCDqrAIwPQrEcwCxj6pwOoCEAFa8Mr380DiCLQAiZSNrDEfglcw7w2Cp1U5pBV9QDZTMBXQNaXx/TuQkhNhSAkwCzDYzJuIWAlUxVwELgpVQBG99mHcEctx1AHQp0NYOQcziA5hQQj1eB13IAR9AGhg4gIRNKRzjqmAM8VgcwKQQMMAxMyDhAATgJCJYlO4D5bwINuPsAKmnawGQKAWdtAxMfsnIAAUAbyuDOOaqAVYcD6PGLa49oFBz7ABIyobQ7BWC+HMAeR7iXApCQvEMBOAlQvLJVDAGMTwsYwA71Kl7ZVdk7phBwwm4DAwDaYBoBqMZt0RastkLAHp8dAmYOICHFS34dwKQQMAA0nCRuKQAJyRsUgJMEZx7geFcBO8O/gF0EkjwL2KoCzhQDVhOAGrNCwACgDaYRZ6b7B7gcQGcRSE6NoNkGhpCC0B6O2G1gxugAzjaqgEORBPqM0ZeoP0ncdr7D/29C8gQF4CTBJQDHrQpYCLkUAThMCDijA5gQOTzuEHCaF2+zAMRfAciKlQPoLAIZUQiYbxCETCj5dABL/R5MKxWvd5YLWF4HVMwCoAMtr43p/IQQAQXgJMFZCDJ+VcCGA+hT0m5XM4yCyygA4xGxX4IVBlbTOoC94tacA2w5gHYRSG6j4IxJILH+YcaOEELyicgBzE8VMADMNsLAh9LlAbZsG/P5CSEUgJMGdwh4nIpAFFMAJjuAZgg4OQdQ3GYcBRc3Xrw9AciyOFiLpCnQMB3AQCUAWI2gXQ7gSHIAARaCEDKBtIejeZkEYtJohIEP9TgrgU8St8wDJCQvUABOEibCAVSsIhAl7faUIhB9mEkgCeEAwhuELIlj04aATQcwWOW6jscrw2OFgHNw9Dx+QDZ+NgwDEzIhqJqOrv4o/HmqAgYyFYKwEpiQfEIBOElwtoIZvyrg9DmAspJ+FNywOYCWAxiELBsCMJKmk78VAk7jAI4kBCxJbAVDyATTNRCFpgPBvDqAZisYhwNYbwjArt3uwjFCyKigAJwkBCscDuB4VwFnCAFnagOT0QGMOxxA45RaNI0AdEwBAeBqBD2iPoAAC0EImWA6wlEAQKXH+B/15kEAWs2gHa8XpdOAqjnifsv2MV+DkKkOBeAkwZUDWDo+OYD1CyoRKPVizpJpru2mMNTUDDmAmdrAmA6gtwSyEVXO7gBWAYCrEfSIHEDALgThODhCJoR2UwB6jWp/Tx5CwNVmEciQlWoCgGFgQvIIBeAkwQoBS4DPn2Wm7hiYNqsMV916Bk48p9G13c4BzBQCznBCKwcwYLmEuTmAdg6gNQs4rlmOY1bYC5CQCcV0AMsVQwDmwQGsrwpAkoChuIrO/pi9gwKQkLxBAThJqJoRRFmNH7OOrso+eWOMpHPz5IxVwMPlABr5O96gNS5OiwylHpepDYzPLgIBRtoLkDmAhEwEpgAsU/LnAPo9CmZWCCHJkXCEjA/jk0xG8o7Hp+Dj31qZeerGOKIoGaqAh80BdBSBmOeIRVOPs+YAVwGwHUDFI4uCFAmALopDfMOZC8wBJGRCMQVgiWT2ARy7AwiIMHBLXwQHuwdxypxqsbH+RHHbsx8Y7AZKavJyLUKmInQAJxGKIo+r+5fxuplCwHpujaDhDUIxKou1WCT1uKQQsO0AKpAkyWpMnVsvQIaACZlI2sPif9quAh67AwgAs2vS9AIMVgPVTeI+C0EIGRMUgGRYrBBwhiKQYR1AbxCyIkScFk0jAJNCwNYoOEN4eo2q5EROIWAWgRAykZgOoN0HMH8OIJBUCQwwDExInqAAJMOSsRH0sLOAHW1gvCLbQIvHUo8bMkLAKQ6gIQBHMw2EfQAJmRDMKmCfnl8H0GoG3UMBSMh4QAFIhiVdCNhZkTv8KLggZI8hAGMxwNnWQVOBqJkDaDSCduQAAvZs4pEVgTAETMhEYDqAHs3I782bA2j2AkwqHKMAJCQvUACSYbEqeB0hYM0pADP2AUzjAOqSXR0MuEO1Zgg4lt4BzKkXINvAEDJh9EcTGDQ+mCmq8f+eZwfwSO8QVGcLqPoTxG3fQU4EIWQMUACSYbEcwLgtAJ0O4PA5gAHIHtG8WtU9btFnFoB4SwCP6HVozwIWwo8OICHFien+lfoUSGbKh8efl3PXVQTgVSQkNB0tfY4PjYFKoGK2uN/+dl6uRchUhAKQDItZBKKqtuhzOYDD5gCW2C4iFCDiEIBJBSCAXexhVg5bOYCRkRSBZBCAA52sHiQkT7SHxP/49DIfkLD7fuYDRZYwqypNJTAAzFhsLODNvFyLkKkIBSAZFmsUnKMIxJnGlzkH0NkI2jiHrqR3AI0CEMDpACZXAbuLUNIynAO44ePA/5wJdO4e/lyEkKx09AsHcFa5YzqRJz85gICjECS5EtgSgDvydi1CphoUgGRYTAGo63Ye4IhCwB7HJBB43Hk7aR1AexYwAGsayJj7AOo60PKauN+zf/hzEUKy0h4SArC+1LExTw4gAMzO1ApmxhJjARSAhIwWCkAyLKZ4A+wwsJ5LCNjZCNrsJah73OLMdACNCmDA0QbGyAH0jiYHMF0bmKEeID4g7keZPE7IWDEdwPoS4/VAkgHFl7fzH1MnPtBtO5T0/2o6gG1vusMRhJCcoQAkw2I6cYAtzqwcQClbFbCzEbQRAkZSCDji7gGoqZp1bk+SA5hTFbApABMRIJHUc7DvoOO6bBRNyFgxHcDZPuMDV0ktkMdxlac2TQMAbNnfjYSzEf30YwBIwFA3MNCRt+sRMpWgACTD4gzxakkOYNbZxM5G0IaLqOqerEUgCUelsZLcCDoXB9BXbt9PdgH7Dtn3WSVMyJgxHcAGxfggV16X1/MvmlmOyqAXAzEVbxxxvG54g0DNfHG//a28XpOQqQIFIBkWSZJSpoFow00BATLkAGYvAnG2mvFYo+BG4AAqHrsPWfI4uF6HA8hRcYSMGasKWOoVG8pm5vX8sizh1KYaAMDmvV3unSwEIWRMUACSnLBawSTMIhCxPWMFMOBuBG1VASflAGZwAGWPZIlL2wHMoQoYAErEGwYGOt3bk0LAiZiK53+7C4d39uR2XkKIi07DAazRjP+hsvw6gACwwhCAL6YIQLMQhA4gIaOBApDkhGIKuIQ7BJzdAXS2gcnQBzCDA2gWgACAxy+unVMVMABUN4nbrj3u7U4BGA3j4Ns92P73g9j85725nZcQYpFQNXQNiDzb8oQhzvIcAgaA0+aLPMBX9ve4J4LQASRkTFAAkpxQkh1Ao/IuYwsYwNUY1tUGJpquDYw5B9jdBBpwhIBzyQEEgGkLxG1XUq8/Vw5gCLHBOAAgNpTI7byEEIuugRh0XTRsDkSMQow8h4ABYHF9BcoDHoSjCbzlzAN0toJhJTAhI4YCkOSEbOYAqjnmAKpxQDOElTcIxRSAevIkEEMMJoWAPQ4BOKI+gIAtALuTHEBnDmCkzwop53xeQoiFWQE8rdQHaaBdbCybkffrKLKEU+cZeYD7HGHgaQsA2SuKvZzuPiEkJygASU4kTwOxcwAztYBxjG7yZGkDkxwCjqUKwJE7gAvFrdMBjEcA800KAKJh63wUgISMnI5+keM7o8IPhFvFxvL8O4AAsGJ+mjxAxQvUHi3uMwxMyIihACQ5YYeAk9vAZHiAJQAlwON3t4Exi0B0PdUBTLingACOIpCcHUBTAO6xQ0Ohw+5joiFr4khOM4YJIS5MB3B6qQ/obxMbx6EIBABWGP0AX9rXnSEPkIUghIwUCkCSE6aDl3MbGEcTaEiSwwF09AGMhgHdEF9ZHECPb4RVwNXzRHlyrB/oN1w/M0QkGcUlkZDVVzARt5tPE0JyoyMsBOCcUtXu+TlOAvDYhgqU+T0IRRJ4u9WZB2hOBKEAJGSkUACSnLBDwDlWATuaQAP2ODlNd4SAzRCtJ2gNkLeLQOwqYNMBTMRUq/gkKx4/UNnovoaZ/2e6g44QsHluQkjutBsCcK7fcPT9FYCvZFyu5VFkLJ1bDQDYvLfb3sGZwISMGgpAkhNWCFg1cwBzdAA9SQIQHntM20s/F8ccc4E1PsoqAvE5HUDjvu6eFJKV5EIQswK4znjDUKNIROL2cpkHSMiIMB3AWR4jjWOc3D8Tsx2MqxDEdAA7dwIqq/kJGQkUgCQnkieBDNsGJu52AF1VwADQtQt4/Xfi/srPWg+z+gB6UotAgByngQCphSBmCNh0DAAkIlF7uRSAhIyI9rD4H6+TJ0YAmoUgm/d12ykbVXMBbymgxoBu9vMkZCRQAJKckJNCwFquVcBeEdq1cgAlv9j+3G2AFgdmnwrMXmY9zHT4FIcDKMmSlROYs1CrMXsBmg6gIQCr5gK+MnEtCkBCRo05B3iabkwBGYcm0E6On1WJEp+C3sE43mk3ws6yDMxYJO6zEISQEUEBSHLCdPDsUXCmA5jhAVYTaJETZIWAJZ/Y/sZD4nblOtfDVCMH0OkAAqPpBeioBAbsHMCqRpGrBCDOEDAho0LXdasKuFI1x8CNTwsYE2/GPEBOBCFkNFAAkpyQPSOtAjYEoMd0AJMEIHSgcg6w6AOuh9kOoOLa7rUqgXMVgPPFbfdekRtktoGpnA34y8W1YnbOUM6hZUIIwtEEosZrQUnMmLk9Dk2gk0mfB8iZwISMBgpAkhNmEYimJlUBS8OFgE0H0AwBe+1jVvwboHhcD0ukyQEEbAcwZ6FWOUdMCVCjwJGtIkdIkoHyBiAgHMCEo60MHUBCcsd0/8r9HngGjB6A49QE2smKJiMPcG+33RGADiAho4ICkOREShFIrg6g2QbGrCKG4QD6yoBT1qKvYwgDfXYunpomBxAAvMb3OfcCVDxATZO4v/dpcVveILb7KQAJGQtmBfD0Cr/da3Oci0AA4ITZVQh4ZXQNxLC7vV9sNB3A7j128RkhZFgoAElOJIeAzVFwGXMAnY2g4agCNh3Ak9cippfiwZs34+Hvb7E+zaebBQw4egGORKiZhSCmAKwyegMaIeB43O4pSAFISO6YFcDTy/xAvzEGbgIEoM8j45Q5Ig/wxX3d9nWD1eJFqfOdcV8DIe8WKABJTlgCzqoCHmkjaCME7K8Bzr4JeM9NGOiLIhHXEOqMIDoo8vFUI8fP403KAfSPMAcQsHsBHtwsbitni1szBGzXgFAAEjICTAewoUwGhswq4PEPAQOOPEBzLrAksSE0IaOAApDkxMj7AJqNoJOKQHQFOOs/AX+5S3SFu4VgtIpAvGOsAgZsAagZSs+cDmKGgFX7GhSAhOSOKQDnBgbEBtkrXLgJwMwDfDFtHiALQQjJFQpAkhNWCDi5CGTYRtBJbWDU9GHXcJc4Xs0UAvbZ4+ByZtpC6DpwMHo8olqJ7QD6K6DrEhKq7TKOyFkkZIpjzQH2GmMdy+qsaT7jzYmNVfApMjr7o9jfZXzQpAAkZMRQAJKcsEbBjbQNjNkI2kgWHE4ADusARkaWA7g3ehr+1HMzng9fBVTNEdsDFUjA6zqUDiAhuWPOAa43p4CMcxNoJwGvghMbKwEAL5t5gAwBEzJiKABJTijWJJCkKuBMn/ozNYJW01feJoeAkx1AX0AIwK0bm/HEL97A4Xd67PBPJsrrcShxiji/OsPlACb0gOvQEQlLQqY4pgNYK/WKDRNQAOLkVLMdjCkApxvTQPoOApHQhK6FkMkKBSDJCbOIQ02YIWBje8Yq4AyNoB0OoDOcmxoCdheBLFpZj7qmCmiqjt2vtOMPt23Fw9/f4hKUqYuW0a6K0FBcCzgEYDniut916IhCy2RScccdd6CpqQmBQABLly7Fc889l/X4Z555BkuXLkUgEMD8+fNx1113ufbfe++9kCQp5SsSmTotSMwq4GrNUYk7gSyfJwTgy/uN65fUAOX14n7H2xO6FkImKxSAJCdGHwJOagTtCgHb4s12AIUQSw4BV80owaX/dxku+8pyLFndAFmR0Lo3hM5D/RnXnIir6IyIN4UYyqz2LwhUIJEkABkCfneyYcMGXH/99bjpppuwdetWrF69GhdccAGam5vTHr9v3z5ceOGFWL16NbZu3YqvfOUr+PznP4+HHnrIdVxFRQVaWlpcX4FAIO05323EEhp6BkVhVVncqMSdoApgk6VzqyFLQHP3INpChvCeeby4bd40oWshZLJCAUhywgoBq8mzgHNrBG1NEtF0K3Qbj9qj2EJd4njLAfSl/9OcPqccZ39sEWYdIyoO2w+EM66582C/qDoGEJdK7R3+CiR0n+tYCsB3J7fddhuuvvpqXHPNNVi8eDHWr1+PxsZG3HnnnWmPv+uuuzBnzhysX78eixcvxjXXXIOrrroKt956q+s4SZIwc+ZM19dUobNfhH89sgR/pENsnIAxcE7KA14saRDV/C+ZYeCF54nbnY9P6FoImaxQAJKcyNQGJrMD6G4EbYaAAdsFdE7iiA4kEIskMhaBJDNjjnDz2vdnzvdp22fvi2lBe0egkg7gFCAWi2HLli1Ys2aNa/uaNWvwwgsvpH3Mpk2bUo4///zz8corryAetxtH9vf3Y+7cuZg9ezbe//73Y+vWrfl/AkWKNQWk3A+p3xgDVzbxAtgMA1sC8Jj3ituDLwIDXRkeRQgxoQAkOWE6cmaxhJkDONJG0IAtAJMLL8JdkYxFIMnMmCc+/WdzANsc4jCuee2iEX854slFIBSA7zo6Ozuhqirq6tz5aXV1dWhtbU37mNbW1rTHJxIJdHZ2AgAWLVqEe++9F3/605/wwAMPIBAI4PTTT8euXbsyriUajSIUCrm+JivtDgFojYGbwCpgk1OT8wCr5ogwsK4Bu56Y8PUQMtmgACQ5UVYtBJOZq2eKOGnYIpB0DqAQecm998LdkYxFIMnMmCsEYHfLQMYefk4BCN0h8vx2DqBZXUwBOEGEjgDDVW/nmeRKdV3XM1evZzjeuf20007Dxz/+cZx44olYvXo1fvvb3+Loo4/Gj3/844znvOWWW1BZWWl9NTY2jvbpFBzTAawr8wKWAzjxAnCZIQB3toXROxgTG4+5UNzufGzC10PIZKMoBGC+q/QA4KGHHsKSJUvg9/uxZMkSPPLII6793/jGN1Kq+KZSHs9IKZ8mBOBQOI5ETLUngWR6I03KAUwXAk4WXX3tQ1Zu4XAh4NIqH0oqfNA1HZ3NqS5gpD+OUMeQe0nm9bwBJCRRnBIsk9OuhYwD7zwB3LYYePo7E3K52tpaKIqS4va1t7enuHwmM2fOTHu8x+PBtGnT0j5GlmUsX748qwN44403oq+vz/o6ePDgCJ9N8dDSJ/6v5pZEAc3I4y2d2BxAQDiQ86eXQteBV/Yb4+iOuUDc7v673YyeEJKWggvA8ajS27RpEy6//HKsXbsW27dvx9q1a3HZZZdh8+bNrnMde+yxriq+119/fVyf62TGX+KB13DLwt2RETeCliTJOjZZAJpNnnvaBq2HDxcCliQpaxjYdP+q6kqsdTtDzglFNJItEToQalyznhMZJ45sE7ftb07I5Xw+H5YuXYqNGze6tm/cuBGrVq1K+5iVK1emHP/kk09i2bJl8Hq9aR+j6zq2bduG+vr6jGvx+/2oqKhwfU1W3m4V/2/HVhgCq2Qa4PFlecT4kRIGrj8JKG8A4gPAvmcLsiZCJgsFF4DjUaW3fv16nHfeebjxxhuxaNEi3HjjjTjnnHOwfv1617k8Ho+rim/69Onj+VQnNZIkobzGCAN3RbKPgtP1lEbQgO0CqkYI2Oy9VzNTHNPbOmAdaxadZGPGXKMQ5EBqPpUpAGfMK4cvzRzhuCzegIMBuxAlQRdwfBk0EvNjA9mPyyM33HADfvGLX+Cee+7Bjh078IUvfAHNzc249tprAQhn7sorr7SOv/baa3HgwAHccMMN2LFjB+655x7cfffd+OIXv2gd881vfhNPPPEE9u7di23btuHqq6/Gtm3brHO+23nriPjfWlRmfGArQPjXxCoEMQWgJNkuIMPAhGSloAJwvKr0Mh2TfM5du3ahoaEBTU1NuOKKK7B3796xPqV3NWYYONwdyd4GRo3ZVSIeu9giuRm0KchqGkSLlp5W8YaieOTMzqIDMw8wnQNoVgfXzauEN+ABAMQidtuZhCLEo98Xt0aYMgw8zpgCMJq5d2O+ufzyy7F+/XrcfPPNOOmkk/Dss8/isccew9y5cwEALS0trmhDU1MTHnvsMTz99NM46aST8K1vfQs/+tGPcMkll1jH9Pb24jOf+QwWL16MNWvW4PDhw3j22Wdx6qmnTtjzKhR9g3Ec7jVCwD7j/66AAtCcCPL6oT4MmbnAZh7gO48DWpZG8YRMcTyFvPh4VOnV19dnPMZ5zhUrVuC+++7D0Ucfjba2Nvz3f/83Vq1ahTfffDNjrk80GkU0GrW+n8yVfKOhwnAAQ10RS/ilFWpxR+5dGgcwWQBW1wsBOBgSidyZegAmYzqAvW2DiA4l4A+KP2dd160WMHXzKrAzXQhYKhPLk2Pw+ksRi6gUgOPNkOHSTKADCADr1q3DunXr0u679957U7adddZZePXVVzOe7/bbb8ftt9+er+VNKt5qEf9Xs6uDKImJquiJbgLtZHZ1EPWVAbT0RbC1uQerFtYCTasBXxkQbgFatgKzlhZsfYQUMwUPAQP5r9LL5ZwXXHABLrnkEhx//PE499xz8eijjwIAfvWrX2W87rupkm80lE2zQ8B2DmCaA00BKMmAYudN2dNAjCpg0wGsL3U9PJfwLwAEy31WWLrDEQYOdUYQGYhD9kionV1m5QDGHI2nzSIQjxSxchApAMcZKwQ8cQ4gyS+mAFxSXwGEzQrgiS8AMZEkKTUM7PEDC88R93f+tUArI6T4KagAHK8qvUzHZDonAJSWluL444+fMpV8o8EUW/3dEehqlhxAZ/6fQ3QrSQ6gmQNYXhOA12+3fcnVAQREjh/gDgO37e8DANTOLofileH1C2fQ6QDGDQHoRcS6NgXgODNYGAeQ5A8z/29JQwXQb7zGFqAJtJPlTUmFIICjHQwFICGZKKgAHK8qvUzHZDonIMK7O3bsmDKVfKOhYppo6RLqikDL1gYmqQWMSaYQsNevWPmFQO4OIODMA7QdwPZ9QgzWGVXCZq+/mDMEbDSC9mDQFoAZ+gmSPEEBOOkxHcDF9RUFbQLtZIUhAF890Iu4EV3AUWsASQHa3gB6DhRwdYQULwUPAY9Hld51112HJ598Et/97nfx9ttv47vf/S6eeuopXH/99dYxX/ziF/HMM89g37592Lx5My699FKEQiF84hOfmLDnPtkwRdpAX9Rq2Jw1B9CTLADtELCu6dYoOI/PLQA9vuxNoJ1YlcD7hejTNR1HdvcCAOqahAA0i0DiziIQGAJQdwjACAXguBEfEq05AOEQa/xZTzZiCQ2728X/mQgBmw5gYQXgwullqCrxYiiu4o3Dwv1HSQ0wZ6W4TxeQkLQUXACOR5XeqlWr8OCDD+KXv/wlTjjhBNx7773YsGEDVqxYYR1z6NAhfOQjH8ExxxyDiy++GD6fDy+++KJ1XZJKsNwrGjTrIg8QGCYHMIMDqKq6y23zBhSrwAQYmQM43XAAw90RhLqG8PjP3kBHcxiSLKF+gej1ly7Em9BF3zKPNjDmELAaDqP/mWegO2bFkiQGu93f0wWcdOxu70dc1VEe8GB2ddAxBaSwIWBZlrBsbrowMNvBEJKNglYBm+S7Sg8ALr30Ulx66aUZ9z/44IMjWiOxewH2tg0i1ClEXto2MElNoE2cIWBLbEmi6XOZywHMXQD6gx5U1ZWgt20Qv//uFgyFYpA9Et6zdjEqaoUAtULAzj6AmkgX8Gohq0gkMcoQcMf6H6LnN79Bw3e/g8qLLhrVOd71DKURgIGplUIx2XEWgEixAbuYp8AhYAA4takaT+1ow0v7evCZM42Niy4EnrwJOPBPYKgXCFYVcIWEFB8FdwDJ5MIM1YY6TQdwmCIQB3YIWLfElsenuJpMA8OPgUvGDAMPhWIIlHnxoetPxjErbFciXYg3oYrPPh41DK9vbA5gbP9+cds8uYuC3nmpFa17+8bn5GYFsAkrgScd7gIQw/3zloiWKwXm1CZRAPjy/m57ok/NfGD6IjGubvdTBVwdIcUJBSAZEaZQUxO55AC6HUC7ClhzFYAAdoEJMPwYuGRmHVMNAKieWYJL/+8y1C+scu33pcsBVMV1PWrvmEPAiR7hbqm9vaN6fDHQ3TKAjfe8hSd+8cb4XIACcNLzVov4cLDEWQBSVueq9C8UxzZUIOhV0DcUx652x9+WGQbe8efCLIyQIoYCkIwIZ7EGYISANRX4+3/bn7LjmRxAZwhYCEivEe51FYF4cy8CAYBFK+vxoS+cjEu/vAyV04Mp+71pqoDjCXFdT6LXnhU82hzArskvALsOiTfN/p6o1acxE4OvvIL9H/0Yht4cwUxf5gBOanRdT98CpoBNoJ14FRnL5okPgn957Yi949gPi9udjwEDXWkeScjUhQKQjAhnqBYwGm7v/Qfw7PeB310FRMPD5wAmNGvurtmjzyowwchDwLIsYdYx1ZbTl0zaIhDDDPQkeq2q49EIQF3XoXaPvwDUEwloA+MnmnrMOcw6MNSfvZil709/xtCrryL06AiS6ykAJzWHe4cQiiTgVSQcNaO8KJpAJ/ORU+cAAP73xQP2WLj6E4GGk8V4ym2/KeDqCCk+KADJiEh2ACUZQNtb4ptoH/Dqrx05gElVwEZ1r+ooAvH6xTZnHuBIQ8DD4Us3C9jQON5Y15hCwFp/v1X9O54CsPmqq7Hr7PdA7RufHD1zDjMADIVjWY9Ve3rEbXd31uNcMAQ8qTHdvwXTy+DzyEVTAexkzZI6zK4Oomcwjoe3HrJ3LLtK3G75JWcDE+KAApCMiIoUASgBHTvtDS/eIVxAIDUELDtCwI4iEBNTXI7UARwOb9IsYF3TkYiLRHGPPgCvxz2abiQ4RdB4CcBETw8GX3oJWiiE6J4943INpwA0ZzJnwnyeie4RhNRSBCAdwMnEjhaj/1+DUbltCsAiqAA28SgyPnV6EwDg7uf32cUgx10C+CuA7r3AvmcKuEJCigsKQDIiSir9rtYvsiwBnQ4B2HcQeP0hcd+THAK2q4CTi0AAoKpOCMZAqRf5JLkNTCJhuwAeKQqvHAUwOgGYmAABOLR9u329js5hjzdnY+eKpunobRu5AFS7e3K/iNUGxvjboQCcVLgKQICiaQKdzGXLZqPc78HejgE8/Y5RqOIrBU68Qtx/5Z7CLY6QIoMCsNAkokDHO8AI37QLhSxLKKvxW99LMmwHcMmHxG2f0bg7YxFIahUwACw9fy5WXrwAS05vyOuazTzDRFQ1JpDYQs8jxeCVchSAaiJ1k0MAagMD0GPZxdNoGNq2zbqf6OzIemy4O4JfffmfeOnPe3M+f7grYlV1A+PsAJYboxajDAFPJqwegJYDaFYBF08IGADKA158ZIXIBfz5s/vsHUs/JW7ffhQItRRgZYQUHxSAhebRG4CfLhfNSosNNS4EahLOPEA5GgKiITF38723uF0/b6Y2MOkdwNIqP05ZMxeBsvw6gGYIGBDzfs0RdIoUgyxp8EoiZzGrAPzrl4FbZgNt7srXRFIe3Hjk6A1tsx1AtSu76GrZ04uBvhh2vtSW8/mtAhDzelkEoK7rLgcwZ7fRLAKpahS3zAGcNPQNxXGwW/yPWA6gVQVcXA4gAHxi1TwosoRNe7vs0XB1S4DG0wBdBbb+b2EXSEiRQAFYaI5sM263FnQZafntlcD3FtjhHgNnJbA0YOyrmQ9UNAAnfdQ+MEsbGLMK2OMfWcuX0eDxylarsnhEtYSeRxaOnkcXAiiRSQC+/Riw+U5R3LL/edcuswWM9X2ew8C6qiLy2mvW98OFgKMD4jmFO4esec3D4cz/A4DBLEUg+uCgVfSiRyLQBwczHus+qSkAhTvDEPDk4W3D/ZtVFURViU844QPG32GRhYABsc4LjxdO8z3PO1xAsxjk1V9xFjUhoAAsPH2H3LfFQvsO0TsrFgYOvuTa5RKA/UY4Zfox4va0z8LK88qYA6hZRSDeCRCAkiTB66gENkPAXkMAeiFETLIDqGu6EC5/vs7e2O921tSe8XUAo7t3Q3OIrERndgEYGTDEmQ70dQzldA3TATSd3WwOYPLzS/TkkAcYHwLihuCjAJx0mOHfxab7N9ABQBeuf0lt4RaWhU+vFsUgf9p+BK19YmoRllwEBKtFnjIngxBCAVhQYgNApFfc7y2yMWKv/tq+3+3OJyt3TO2Q+o2mq9MXidvahcAJl4n7dce5HpduFrDXN/4CELALQeJROwTs8Rhr0MPWPpPBUAy//PI/8fQPfgsMtNsn6nfcB5AYZwdwaOs2GIs1rpc9BGwKQACuwo5s9BoO4KyjqwAAg6HMfQCTn99wIWlxQuNnJHvsHECGgCcNrgbQgB3+LZsByMX5FnLC7CqcOq8GCU3HfZv2i43eAHDSx8R9FoMQQgFYUEKOjvV9hRGAAy+9hN5H/uDemIgBrz1of58iAB05gOEkAQgAF90BXP8GMHup63HpQsAT4QA6rxOLqPYcYkXkr3lV8QanJjRrCkbLnl4MhWJ450gjNHjtJPIkAZjcCy/vAtAoACldsQLA8EUgTgHY0za8y6brOroNB3DW0WKSwmAoNe/TJPn5JQvgtJgVwMEawC/mNtMBnDzsaDUEoFUBXHxNoNNxteEC/mZzMwZjRgGX+X/8zhNAb3OBVkZIcUABWEicYd8ChYCPfOk/0XLjjYgddAjQnY+5+7YlC0BnCDhsvIiaIWAAUDx2sr8DuxF0+irg8cTrmAdsOoBeryEANTusGTf2hQ+J0HZcD6L3pK8AR79XHJAUAjZDoMo0MYx+vARg+bnniPN3dGYtvDBzAAHb2ctGpD8uHiPBmqEc6Y/bPdSSSHEAe3IQgObfUsk00ZIDoACcJMRVDe+0CrfWLgApvibQ6Th3cR3mTStB31Acv3vFeH2tXQg0nQlAB169r6DrI6TQUAAWktBh+/5Q94S/KeqqikS7cLTMWwB2ldy81eK2e5/rcWXVfquoQo6FAUhA7VHDXs8VAk7TCHo88TnmAVvX9or1KPE+0dAaRrPovkMIv/CQ9diOGZfZbkeyA2iEQP3z54vv8ygAEz09iO3fDwAoe48QgHo8Di0UyvgYtwM4vAC08v9qAiiv8QOSyB+MZBgHl0jnAMYGgEiW3Me0ApAh4MnAno5+xFQN5X4PZlcbqR/mh9UirAB2osgSrjpDuIC3PrETu9uNBvVWMch9otMBIVMUCsBC4gwBAxPuAqqhkNV/0Eru7zsM7PmbuH/O18Rt6JA93xeA4pFRWiV6AUrQgOq5KWPf0pG2DUxgYkPAIgfQFIDGGLpoH7w+cT/R3QL86gMID9rPp/3goF3tONBujZPSdR2Jnh60zliKf1RcjlD53BSBNBbMBtC+piZ462ZALhfh02x5gMk5gMO1aTErgKtnlkBWZASNFjyZegGm5gB2AneuAu483Z4Ak4yZA1hSDfjKxH0KwEmBmf+3uL7CbgB/cLO4rT+xQKvKnSuWz8GpTTUIRxO4+levoGcgBhzzPvH/3N8GvP77Qi+RkIJBAVhIkgXfBOcBqo4KTrXXEIDb7gd0DZh7OjB7OeCvFNt7DrgeW9ckwkEVSps7/y8LrirgCS4C8VoOoB0CtlrQRMO2QHz4OqB7L8KYZT22/UAYKJ0uvtESwJD4uWnhMBCPo63uVAyoQexacHFeHUBTAAZPOkmst1ZUXGZrBeMUgNHBREYnz6SnxRSAwpkrqfCJaw8nAL1CKCbaW4Ce/eJvd9sD6S9iCUCGgCcbKQUgahw49LK4P2dVgVaVOz6PjDs/dgpmVwdxoGsQ//6bLYhLHmDFteKAf67nfGAyZaEALCTOEDAw8Q6gUwD29YkXwq1G9e/JawFJAmpECCU5D/DcTy3B2nOexjRvszv/LwuFLALxGdNA4lE7BGyJz3ceh3dgv9jf0w5UzEZYmmM9tvNgGJrkEUUMgJUDZRaARIIi/6+vaiE6QvaUlLFi5v8FTxROiyUAMxSC6JqO6KDR29D4uQ4XBjYLRapnip6NwXIhADMVgmiGU+ybK34+apdDjL70s/RvpswBnLRYE0DM/L+W7UB8ULRTyfGDX6GZVubH3Z9YjlKfghf3duPrf3oT+rKrxHzgjreBdx4v9BIJKQgUgIXEDAFXGyJrJK1gDr4E/OqDQOeuUV/e6Vapfb1A8wtA7wHxwrjkIrGjRuS2JQtAj1dBxaDRvDpnBzD7JJDxxHQA4xHVbkJdZrypJSLwwJgGUnsSYpf/AdGI4RJ6ZSTimgiVOsPAEFNAdACRQI11nV3ykrysV1dVRLaLBtDBk08CACi1RqFJhhBwdCgBGBHfunkiXDxcIUgmBzBTKxgzxO2fv0B87xwH17UL2Pv31Ae5BKARAo4PshlvkaNpujVJw3IAD7wgbuesLNoWMOk4ZmY5fnjFyZAk4P7Nzbhvay+w/Gqx8/nbJs0oTkLyyeT5D3430mc4gHNOM74fgQP4zHeBfc8I12WUpDiALcbEiQVnAz5jikcGAQjAngGcswNohoB1q9p2ootAnFXAnmkNwMcfBj72e3hnHyv2n/VNhCF61QVKvZgxT7zxtR8IpRSCqN3dSHiCUGXD9dM1dAaa0NGcIRduBJgNoOXSUvgXLhTrrRVh6EwhYDP86/UrmNYghFY2BzAeUxHuFk1yq+sNB9AUgBmmgZgfGnzzxYcWtSep+GPz/6Q+yNkGxhSAgBCBpGjZ2RZGKJJAiU/BoplG+x5TAM4t/vBvMucuqcP/fa/4sHrzX97CizMuAxS/CGmbz4uQKQQFYKGIhoGo8ebZKHq85SwA4xFgvzE7+PCWUS/B5QD29trtHSrs/LeMAnCw2z6+9uicrmc6gPFoQkzZwEQWgRiTQKIq4nFHBfLCc4CjzoO3tNRaW6hLiKLyaQHMmCve+NoPhB0CUDzvRHc3In7h/gVKFNS1vwIAeOWv+8e8XnP+b+CE4yEp4mdkh4CzC8BAqRdVdULQZWsGbbqDgVIvgmVC+JWU55YD6F8gHEC1r1+YJ7VHA5CAXU8CXXvcD3I6gB6/mCABMAxc5LyyXwj3U+ZUw6PIIrzfvEnsnAT5f+n4tzPn4+JTZkHVdHzm4YOIHPcRseP52wq7MEIKAAVgoTDdP38lMGOxsS3HEHDzC2IuLQC0vi4aN48C5xgvra/PbnHibPCaSQB2viNuKxvt5r7DYApAM08NgFV9O964QsBpWtB4/WId8aiGsEsAmg5g2A4BO3IAowHRPLmsJoC5zU8CAPZu60B3y9jETXT3bgBAYNFia5vHCAEnutILQLMHoL/Ug6qZwwtAswVMZQUwuHUrBl9+GQGf+NlkdgCNHMAm8XehJ1RocQloOAU4ao04KNmVdhaBSJLtAkZZCVzMvLRfvD4sn2ekOHTsEJOLvKVA/QmFW9gYkCQJt1x8PBbNLEcoksCD3g8BkixGw5kREEKmCBSAhcIsAKmcBVTOtrflkhe1x5FnpcaAtjdGtQS3A9jnGPHk6O9lCsC+g26h2fG2uM0x/AsAihECjhgCUPHIVlh4vPG5ZgEbjaD9TgFotolJWGHR8poAphsOYNehfqhBUwDaOYCRgBBlFbUlKE90o7Zjm+gx+4S7ahqA+N3+4jzxNczvObZXCG7/gvnWNqcDGIrEU1q8OB3AasMBDHUMQVXTVzkeemgjAEDe8jQOfOSjOLD2SoTvuB0AMNiXKgB1VbV6EHpn1kEqEddQo7IoCljxGXHg1t+4W8I428AA7AU4CdB1HS/vE7+35U3G780MkzYuBxRvgVY2dvweBf/+L8LB/sm2BNQlHxY7/rm+cIsipABQABYKUwBWzBLzUSVFtBhJmjSRlt2GAFSM3LPkMHBsENjyq+zNeQGoPb32/UwOYNkM8Ylf19yjkzoMB7A2dwFoOoAxq1J14v78vM5ZwGYRiMN99DqqhMNdwl0trwmgcnoQvqAHakJDd6xBHGw6gF3diPhNB9APpaoKcw8KUbV7S3tqD77uvcChl8RXUnPtZKL7hAD0zbcFoGIIwEhrB0765pP47uM7XY9xCsDSKj88fgWapiPUMYR0dLcazxMheBsbAUWBtE8I+3QOoLNvpFJZCU+NcIYSURkoqQHmvweYdhQQCwPbjVGC8SEgbrihJUIssxK4+DnUM4TWUAQeWcLJjUkCcO7phVtYnrjw+HrUVwbQ2R/DUzVGGPjNR9LnOhPyLoUCsFCYIeCKBkBW7Ly74fIAQy1A+5sAJODkj4ttR7a6j3n6FuDPnweevz3rqdxVwH3pRzxlagXT/pa4HYEDaIWAh4QAnKgegIB7FrA9CSQ1BJxICgFLkmTnAYbMNjBGEUhPt1UBXF4TgFJVhfKwCOOrcc3Vk0+c4C37fhbXVhscROKIGEXna2qytptFIOjthq5pVo6WSdS4nr/UC0mSLBewJ00lsBpPoMsrBO3R/3k1Fm58EmWrV8MXEw5fJBxLGQdn/r3IpaWQvF4ohgBUI4pwAGXZnrLw5iPi1nT/ZI+oLgcoACcBLxt/W8fNqkTQpwjhb+X/rSzgyvKDV5HxqdPnAQC+v90HfeF54kPuCz8u7MIImUAoAAtFyBB6ZvjXvB0uD3DvP8Rtw0l2zpXTAdR14K0/ivtHtmU9lbMKWOvvhx42csucIWAgVQBG+mw3YNbS7Ot1YIZ7rQKQYVrAvLi3Cy/ty2HWbA6krQJ2OYBpQsDTxMxjUwB2dBvTQcwQsMMBNAWgrKvwGzOGU8Ko7Tvs+21vZlyrOf5Nqa6Gp7ra2u6pEfclTUNFbBAd/e5efREjBzBQKtzMbIUgR7bsR8JTAk98ALOXi3BY2XvOhjfeD+h62nFwpgBUqqqM9TgcwKCxzkXvE7fNLwrxN5SU/wdwGsgkwBSApzYZH3p69gPhFkD2ArOXFW5heeSKU+egzO/B7vZ+bJ3zKbFx62+AcA5RGELeBVAAFgqzB6Dp/JkCcLhegLuNMW0LzgFmnSLud+y0c67ad4hefub2LKSM9YpJIhRdUuM+MLkQZMefATUq+v/VHZt9vQ5MB9AkmwDs6o/iyrtfwid/+RIi8bH3i3OGeBPJjaAd+4f64xgKC+FTYQjA6XOMQhAjRRKDXYAah9rtcACnBSxhFPAKITbQl9RM2eUAZhaA0b0iPOwM/wIQrpshCKsjYXSEkwWgHQIGsgvAfa8IB3p6rBmKXxxffvbZkHVNiEAAQ0lh4GQBqEwzHUDZ/pupngvMOBbQVWDXRrsCOOj4m6IDWPSYH7ysAhDrA98pOY19nAxUBLy4YnkjAODWt2tENwY1ylxAMmWgACwUfY4iEACoajS2ZwkBa5rtAC54j8jPq2wEoOPlt36LV9teBXY+Zh8fPpIxD1BXVXv+r4Eak8TIMzlJmCULwNd/J26Pv9R2dXJgJAJw094uxFQNgzEVrX2RnK+RCdMBTMTsMXSeNEUgZvWuL6DAXyKEkekAdrVEoMIPQIfe34FYbwgxfxUAoKw6AKVSjM0LRIRSzOoAtmdxAM0CkPlNKfvMQpDqaBiDMRUDUbuiOpokAKuzCMDmveJnWl9mF2t4pk9H4MQTrDBw8vrNCuD0DqBD4B3zXnH7zl/dLWBM/KYDSAFYjHT1R7GnQ/xuls01nN1mRwPodxGfOqMJiizhhb3d2H/8/xEbX/p5aisjQt6FUAAWAl13F4EAjhBwFgHYul28ofrKgcZTxbZZp2BAknDt6z/GtU9di9jOR92PMYs1klBDIWtsl2emyPlTYzJQXpd6sFMAhluBfc+K74+7NOvTTCa54teTTQDusSdMtORBADr7DZoFDs4QsFmQ0mcUTJjhX/N+oNQLTdXR5RFj2bTWvYgoQhgqXhnBcq8ljPz9woEd6HQI7HjE/abSs99dKevAKgBpmp+yz5wGUmU81ukCRhw5gACsVjDJOYDh7gj6Br2ArmHWHJ9rX/l7zoEvLs6dXAiS4gDWGJNJIo4QMAAcc6G43fWUHU4rSecAMgRcjLxyQKSGHDWjDNWlxt/Hu6gAxMmsqiAuPF40fv/hvkaRVqPFgY1fK/DKCBl/KAALQaTPfvOzBGAODqAZ/m06027D0HAKDnk8iOkqhhJDaG8TDYQxwxhJZrZrScJK6C8rg2ea8UYek1Pz/wBbAPYeAF77rUiWnn2qnRuYIyNyAB0CsDWUvop1JCgeGbJsjKJLGDmIaULA5ii18ml2mMtZCNKG4wEAiSP7rR6A5TWiWMQSgDEh/AaPOGY9d+0CdBXxRDXiMIpsnI6gg5gVAk7nAIpCkJqIEGmd/akC0AoBzyixtjvz+Q68IX62laF9KF/Y6Dp/+XvOhi8mzv2n5/eiy3H+lBzACiHk1GhS2kDDKUDpDFENvOPPYptLADIHsJix278Yv7Nwq+H+S/YHz3cRn14t/s/+vP0IOlbeJNJg3v4LsO+5Aq+MkPGFArAQmPl/wWp75JolAJvTPwYA9pjh37PtbbOWotVjC5l2xQPMWgbMWy02ZBKARgsYpbraCl1qUdndAsakvEG0nNESwIt3iG3H/2vmdWYgRQBmqAJu6RvC3k47PNianEs3CiRJSpk64m4E7d5XXhNwfW+OhGuLibFsakuz1QOwrFq04zGFkS8qQqgDHY45ue07oMYl7Hu0FPv+7BVtANPkAeqqahWB+OenOoCoqUFC8aPePw8zEpLLATQbbJtFIF6/Yq2t87Attva/Lop9pnW9Af+8ea7T+xYuRMAvVHD3W/vw0Kv2BxJLABp/L0qZuE4iqrhHvMkycPT54r4ZOnSGgNPlAKoJYPuGkY1DJOPCy4YDeGpy/t/M44BgVWEWNY6cMLsKK5pqkNB0/OJtP7DMKAh54itWlISQdyMUgIXACv/OtreZuYCRPiASSn1MtB84+KK4v/Ace3vDSTjisZuytnkU4JgL7PYsnRlCwA43R6kSb+gZHUBZtt2+cIv4hHzsh7I9Q/e1NB26rluNoE0yhYCd7h8AtPaN3QEEUsfOuULASRNJkgVgXZMhAAfE7ynRccSuADbCxZYAjJg5dI7Qdftb6D8cgDqkQR1QEe3zphWA8ZYW6NEoJJ8P3lmzUvYPlVahffopCFYsxpkRr1UJrKmaQwDafw/1C8Wanv/tLiRiogDm8NviDb626w34kgSgJEkonydCYg2RATR32+FjM2fUCgEHxc9MjSmpuaDHXOD+fjgBuPNR4JHPAD8/R4THSUEYjCXw5mHxe7YcwEk+/i0XPr1afNi6/6Vm9K/6kpjQ1Poa8NqDBV4ZIeMHBWAhMF2OigZ7m78cCFSJ+6HDKQ/BkVeFA1cx2w7JGo9rqZhufduuKKIVx3Qx9DyzAyhEgFJdBbnSKQBnpj3edc35/5LeKUxDKBLHqu/8DZ+7f2vOIWBTAFYZRRitobHnAIrreVzfOx1AJeIuSHDmAAK2AOwdKEdEK4Xa2eHqAQjAEtLeQcMBHPQAqhF6bd+B8CH7nNE+T1oBaBaA+ObNs2YAO+kvqcBgifgdVWu2A2j2VgQAf4n9PE+/dCGC5V50He7H87/fjUM7e5CIa/BHelAuhazm0k6qjhMuZ1VCRYtTAJofGqqrAACegHAKExEpten1/H8BPI6foUsACrdwqD+O3nbj/J27jCfYCtx3kQg7kglna3MvEpqOhsoAZlUZaRBW/t+7VwC+Z9EMzJ9einAkga9tbEXijP8QO/52M4uVyLsWCsBC4BwD5yRbHuDhV8Wt2frFQUtJlXW/rbRaiD9TAPY2p30BczmALgGYQdg5BeAIwr9vHO5DWyiKp3a0QUrSM+lCwLqu4wVDAL7/BOFE5aMKGLArgQF3TiAAoKfddWyyAAyW+VAxXbwhtsePEi1gHD0AAUBRhFPpGTSKKDTDRQCgHX4T/S1+63zRXsMBTBJOUVMApgv/AugOlGMwKERbhSahw/jZmDl+vqDHVWxTWunHuZ8S+aBvPnsYmx4RhSi1RvhXSlPFXWEIQM1bCu/btkhNKQLxGeJWgzUizsJXCjSdZX+f1AZG02U8suV8PHjzS+jvidhpEYBwAH99MTBk96kkE4PZ/89y/4Z67A8q72IBKMsSvrTmGEgS8PCrh/Gx10+EWjlHRDz++aNCL4+QcYECcALQYzH0P/OMvSG5B6CJ2QrGOXLN5EhmAXjEazs+bZX1IhxXOg0oMdydNGFgtVe8uXqqq6FUVoltUSl9CBiwQ8CegN3sNwdaeoVAiSY09EbcjYXTOYAHu4dwuHcIHlnC+08QDmn+HED7eskhX3S0uL4tr0qddTrTDAPHj0aiN2Q5gGWmAIwKYe8dEAIwoQcR2/MyEA2j/+0O6Kp9zWivF4j2pbi9ZgFIuhYwANDhKcVQUDi+MiSEOo2fb1L+n5M5S6bhlPPnAgC6j4gPA9O633BNGXGSCBpzk73laNjzmrU9WQDKiTBkr8iRSnSladjtDAMnhYAPRE9Bz1AN1ISGtn0h8UYLAKs+L1zo9jeB31xG92WCsQSgmf/XvBmADkxbmLPrP1m54Ph63POJ5SgPeLC5eQD/NXCZ2PHPH7o/oBDyLoECcJzRYzHsueBCHPy3azG03ajQNR2+ytnug7O1gjlsjHtrSOMAqrZAavc7mrRaYeDUhtAjdgAXvEfkxZz6aSBQkf6YNLQ48vdakxoXpxOAL+wRBQonz6nC/OkiV6w9HEVcdSdj/8dvt+MjP3sRoSRRmQ1fwBZHniT3UW+zhZisxqCYU1EcWHmA8aOQCA0gmhwCDoswpqLF4PUIQTa453WgYyfCB8UxwWVickokbDiMSWFgKwScpgUMALTIQUsAAkCkV/xMTQfQmf/n5NQPNmHmfLF+GSqqe3bCN29u2mNDuvhZx31lmNt5AH1D4tzJAhCD3VD84li1uyv5NMDR77Xvl7oF4BuD9r7ulgFbCM89HVj7iEiHOPQSsO3+tGsk+Seuanj1QC8AxwSQd2n/v0ycvWgG/vjZ07Fgeike6D8Zr+jHAIkh4IGPAE99U/w9HnzJHnFIyCSGAnCckXw+lCwTo5O6//c3YqNVBNIAXdOg9hsVmpkE4ECnXR3ccJJrV0yNoSPWa33frjoKJsxCkDR5gAkrB7AaSqkITWYsAgFECPjLB4DzvpV+fwaOOMK3yQLQ7L3nZNNeISRWzp+G2lI/PLIEXXf3u+sbiuOhVw9h094u3Pjw66n5ZxlwFoEki8/EkcOQNNEgOhDpRnzfvpTH180TQrktdjQGhvzQZC8A3aq0ldrftByxkqAIrQ4c2g/t0Hb0HzGmiqxbB0gS1EEdiYicMhM4ui9zCxgAaI34oCl27z4tJMRZZNDdAzAZRZGx5prjMGNuOeZHX4OixVMKQEy6jckruqRgfrgLR3oGoUUi0CPid2kJwKEeeAwBmOhO84ZYUQ+c+01g1f8BqmyxGRosRXPsZOv7rsMDYsa1+Zi6JcDHfg+c9WVg+TVp10jyz5tHQhiKq6gMerFwulHV/S7t/5eN+dPL8MhnT8e5i+twc+zjiOkK0LINeP424A//Dtx9HvC9JuCHJ6bOYSdkEkEBOAFUr10LAAg9/jjibe2uEHDLV7+Kd1achqFt2zILQDP/b9pRQKDStattwD23sn2wA5rh4NgCMF0IuBeA4QD6xBu+GvfYUxrSIUkjmvwBAC29tiA9nJTLl1yU4cz/W7mgFrIsoa5CCCdnGHhvh93S5NHXWvC/m7O0znHgyxICThw+DEUTIjMQ6UIsjQCsbSyD4pEQ0SvQ4TkaABAMSlA8xrlaX7McsaARih3sBwaeeAhaQoanMoCS006Dd44I9Ud73YUgam8v1C7x/JPbs5iEu93NmZUhFbquD+sAAqJdTfSinWh8a4O4RoYQcNtAFIOSeB4ByYvWnfvssYGKArnM+BsZ6oESMP520glAADjjemDNf7v+bt7cLgGQ4ZdFeLf7SBgYMHIwzbSIxuXA2TeO+O+NjJ5XrPBvtciP7d4LHHoZgAQ0rS7s4iaYioAXP1u7DGedfT7eF7sF34yvxRPB9yE6Z7XdvaFnP/C/l9gFTIRMMigAJ4DgccciePLJQDyO3t/8CoiLysfB3e3oe+hhQFXR87vfAZVzxAO6drn7T2XL/xsQYnJ22WxIkJDQE+iOGG/G6RzAjp3Arz4I1Qh5KlXVUDxC+Kix7H8O/bF+JLRE1mOScU7xOBJ2t3PxJomwPR396AhH4ffIOHlOFQBgZqUQgO0HjqDzZz9HvL0de40xVX5DeH3rL2/hzSP21I2D3YM40pvaOsbrDAF73Q5g/PBhKKohAKPd1jxeJ4pHRm2jaAjdUiFc3bJKQ3ANdgN9B6H4DOFkOIEDWjXCLwqRV77iWEiyjMDR4vcS6fMCbfZ8YNP989TXQy4tTbk+AMR63S5qRUJC31DczgEsSc0BNNnavhU/efY7kPpEjqJvbvoQcFsoggFDd8V85RjYvt3VA9AqHBnszu4ApkGNa3hrq/ibWFEhRgr2tg9B1T2A4nPnCpIJJWX+76u/FrcL3pOarjIFkGUJ/7HmGPzHxy7C7z0fwL/1fAynH7kOmy56FvjPfUD9iWIy068/bI/2JGQSQQE4QdSs/TgAoOd3D0FTAT1Yi7bv/cDa3//U36DXLgb8FcBAB3Bws/1g0wFMl/83IEJnjeWNqDWqQ9sHDTfFzAHs2SdGkQHAY18C9j0DtasDgGjpochCkGpR0Yg4HTu7d+LMDWfiOy99Z0TP2ykADyWJsmQH0HT/ls2rRsAQaDMrAvCqCUz7f19Bx223ofvuu7G3UziAF58yG+cunoFYQsNnf/MqbvnrDpx32zNY/b1/4JwfPOMKGwPuELDTAdR13S0AI91WLl4yZh5gZ9VxAIDyWiPn0gjlKmUiHByQxLkG1Gr0HxYitnyNaI7sP1q4h9FeryjQSYhjrQKQDM4cAEj9QugFB4XzW2W0gjEdQH9ZZgdwb99eNBg6TambkVFktvRFMCiLsHrMWwF9x5spc4ABGA6gkQOYrggkDXu2tiMyqKFM7sSx/j/DH/RA14CexCygvJ6OX4HQdd0aAbe8qUa0L9r6v2Ln0k8UcGWF573HzcSf/s8ZWDSzHJ39MXzsFy/izpd6oH/s96I4pu+gEIHMCySTDArACaL8vPPgqauD2tOH8MEg+lpqEXnzTcilpVCqq6H29WFgy3a7wvbNh8Wtrmd1AFv6hQBsKGvAjBJRwGGFhcvqRMhY14Cu3cD+54F9z0DXAdXoG6dUVUOBHVLVwunn0/69+e+Ia3E8e+jZnJ/zYCxhFRAAwKHeCCRH65XkHMBtB3sBOBwICAfwmjf+jLL9Iowd3bXLcgAXTC/Frf96IhoqA9jfNYj/eWYvdrWL5zIUV/GGwxUE3G1gnDmAamcn9GjUJQCj+1MdQACY2WRMTZGF0KqoE44gWkS1rFIlWsP4NSGqQ4PToMZkKH4VJe/5gNh3jCEAQ35AV60inZg5AzhDC5hYQoM/KgTXtG4xRq5Kk9Aeilg5gIGSzALwYPgg6ruFsNNn12c8ri0UQcgQgAdnnw3//v2pBSAAMGQ7gGpPbm9+bzwrnJIlJRshSxpq6oU47k40YnuoFL9+8UBO5yH55c0jIXQPxBDwyjiuoRJ453ERli+dYc92nsI01ZbikXWn4+JTZkHTge8+/jY+83Azhq54SKQtdO4EfnNpxvnehBQjFIAThOT1ovojHwEAdL1dho4XhDNW++/Xovz8NQCA8BOPA8deLB7w1h+R6OxA7wO/hB7uAGQPMPP4lPOaIeD60npLAFoOoCS5G0L/4xYAgBaXAF0IMaW6ClKkE7LHeCPvc4smk20d2wAIx3EgnltrjiO97py/wz1DrmbQyYUY+4zxb0fNKLe2Hf/OS/jgvn9a30f37XcIwDJUlfhw58eX4oTZlfjQSQ340UdOxllHiyrZ/Z3udbrbwNj3Y4dEzuWcge2YfXQFpnW/CbWjE2pybzvYDqBJhVGpjNbXAQBKrWjS7I+LN4LQoHBly+d7IBn9GgPHiBBwtE+4X2YeYDTLDGBAzP2t1sS/bHXvTkDX4IGE1rYBOwcwiwN4MHwQDYYAHGyoynhca18EL/sT0BUd4Yq5aKm9EINtQuC5BKCjCjhtGxgAuqajt20Qe15tx6ZH9qBldx8kWcKS4FMAgJoZYr3dibk4EK/Eb18+mHFdZHzoHojhc/eLD5lnLJwOn0cGttwrdp70UXvu+BQn6FPwg389Ed/+8PHwKTI2vtWGTz3SgsgVvxd9Lg9vATZ83HL0CSl2KAAnkKrL/hWSR0K014tEKAbv7NmovvJKVJwvQoPhjU9BbzwdCFRBD7fh0DWfQMvN30fXzjJgxhLAG0w5pxkCri+rR12JqOBtG3QUhph5gK/cAxx4HlB8UP0in0cO+CD7fEC4DbIvswBUNRXbO7Zb3+/rS++OJWM2cJ47Tcw7HoqrLgcwkwBsqhWiKrp3L466TzRhffn4fwEAJFpacLhNhKrMNjEnNlbhT587A+uvOBkfPLEBi+srXOezr+dsA2P/6ccPCxHdVNaFi25YhmCNEKDpCkHKpwXgl+xQttkD0Gz4rMwUeXW+SK94zno1IOmoPnOhvY7GRkjBIPSEjli/B3jiRuBvNyO2W7icaWcAQzhzVar4+ZUMtsGjCbezq3XAygH0Z8kBPBQ+hHpDp3XW+jIe1xqKoEvRMf2Dc+CJ96O/fA7+ttmPuCdoC0BdF1XAVhFIahsYXdfxh9u34jdffxGP/+wNvPqEcPfmnzQdpUEhWGuMVpVdiTlo0Wuwp6M/56puMnYicRWfvu8V7O8axOzqIG65+HjRh3T338QBp1xZ2AUWGZIk4aMr5uCBz5yGMr8HL+7txtWPhRC9fAPgLQX2Pg386fMpDd4JKUYoACcQT00NKhbaP/IZX/oSZJ8PJcuXizBwby8GXt0GLP4A+vYFMfS2ECC9u0ug15+c9pxmCLi+tB51pWkEYK0hAA8YLtrST0KdJgoYFDNc2N8GxSdesNIJwN29u12u357ePTk93yNGD8C500oxo9yYguH4i3NOAukZiKHXCGPOqy2BNjiIw9ddBzkyhO21C3D30outfoW1fe3wKTJmV5ekve58Q0AmC0BfIL0DGDccQHP2rtkgOZpGAEqShOqE3RS2vMYv8iuNMK4y+yhx/j4xyizqq0DNUQMInLjCPocsw3+UOC4amwkM9SD6lx8i1izcr0wCsKVtAH5I0KEjONSFsn5xjVBnZFgHUNd1QwCK3/Oh6vRD7geiCYQjQkyuWNqAkv0PwxsLo1erwnNn3Io/dL8Hd37uH7j7i8/hUGSx7QB221M7QrEQdF1HqHMIR3b1AhIwY245Fq+qxxmXHYV/+dgxgK8Uh56vRuSO2wEA3Yk5aNNrMBhT89b4m2RH03T8x2+3Y8uBHlQEPLj3U8sxvdxvFH/oQNOZwLQFhV5mUbJ0bjV+ddVylPoU/HN3F675m47Yv/5azEl/7UFg228KvURChoUCcAJRo4OobmqDpGg4snAJSs89FwAgeTwoP+88AED4iSehNl2A9u12qDE+4MFAV3XK+TRdsxxAZw6gFQIG7BAwACh+4IwbkAiINiSKz6jo7W+zqlfNZH8nTvcPEMUEuWBOAWmoDGB2tXAvzc/FkgQoXvvPb68h1uorAwh6FbR84xuI7toNado0fHfZx9ASTsBrtEaZ3d+BudNKoMjpCwbmZRCAzipgr8sBNCZ4zBbOqBmCjaWpBAaAsi5bAJfXBID2t0QuX8k0KDNEJbf6T+GgJLyl2HzGxThwzFWucwSMPMDIgmuAy36Nzv3zAEgomzUETzx9GLS9RTyfuE+Gt7IMpYb4j/REh80B7Iv2oT8WshzAd8r70x5niq8yvwdzp5Vgf1kpTt7+Q/iNynIdErSEjshAAjuHzraKXtSeHuiqiif3P4nTHzgdv3vndzi8sxcAUD+/Ev9643K858rFOPE9jQiUehGPlyB8KAj/QZHLGFJnolUTduCedk7/mAi+8/jbePT1FvgUGT+7chkWzigH1ISj+OOTBV1fsbN0bg1++alTEfQqeG5XJz7zz3Ik/uUrYuejXwTadxR2gYQMAwXgBPH6oT78xx0bEKyMYdpFA/j0kivx8+dtgWHlAW7ciI4/bYUaVeArj6NqoXgz7HkhVYx0R7oR1+KQJRkzSmbYRSDpQsAAsPxqoKIeqkccp8gDot1Mf7s90cHs9+ZgW/s2AMC0gGjRsbc3RwFoOID1lUHMMtw6I4IJj19xzaF1hn97N2xA6E9/BhQF9T+4DT2BCsRUDWgU4mp2f4cV/k2HGUI+3DuESDSG0F//itATT0JrtoWbywE87HYA/cYUDrMoAxANt3f37Ea8pQVlLaKtjleOwDewH9j/nDho5vFQqqvE+eMDkDUhyv6r43zc9lyra41+oxVMdNduRAPHIfS2+FlNPy4M7NqY9nn1thvV2mUeVFx4IYJDopJb74sjHjGaWGfoAygKQAB/AkjIwFve1EknANBmhO3rKvyQJAndjUehbKAFKzd/HWf888v40KpunPvJxeLY+FHwVFdCCgYBTUN0zx78/eDfAQB/3fdXHNopXMFZx6R+eOk/LMS4L94PnyZyLQdUkT+5pyO9OCX549eb9uNnz4q/7+//6wk4bb7Rfmf3RiB8RLTjWfT+Aq5wcnBqUw3u+eRyBLwynt7ZgWv3robWdLaYHvK7TwKxwUIvkZCMUACOM5G4im/86U1c9NPn4ekUnwh7qxZCkz34/hM7sdmYfFG6YgWUqiqoPT3oMSaG1J0SQs1RQhj1b3oV8TZ30+cj/SIUOT04HV7Za+UAuhzAytmigXTJNOD06wEAqirEmOKNiZ6DAx22A5gmBGwWgFy08CIAwJ6+XEPAQkzUV9kOoGrkxqTm/4k3/aWRVrT9v28DAGbc8AVUnnYqag2XabBOCLRZ/R2YPz1zw+raMh/K/R7oOrD/lu/j8BduwOHrrkPbF/6PdYwct/P4YpYDmD4ErOs6Pv+Pz+PDf/owtjz+a1T17kJDz2acWno/pJ8uAzZ+TZxo5glWjpwEwA/DTdMlbHyrDUMxu8WO1QrmnXfQeeddgK6jbOlRCFQngHeeSPu8hrrF+byVPlRe9EEEh4SIKwkbTq4E+NLkAOqJBHrvfwD/71fi+gdmAM2Dh9P2dDTb9pj9FyMLhIMs6xp88TDK6yow51ghFnrUWYgFGlByiqhOH9z8EnZ2i1D46x2v4/A7hgA8uirlOgPNdgi6fEj8/BdMEz/33e0UgOPJP3a24+t/EoVHXzr/GFx0kmMm+ZZfidsTPwJ4/AVY3eRj5YJpuPsTy+H3yHhqZyfes/cj6JVrgI630brh8wiPYFwlIRMJBeA441NkbDvYC00H3jdDvCEuPO5UXHzyLKiajs89sBXt4Qgkjwc4y84TK1t5Isrqo/BXJhCc7QdUFb2//73r3GYFcENZAwBYAnAgPoD+mPEmKknAZ54GPvcKUC72q33CcVH8mnCbdDVjDmDnUCcOhg9CgoQPL/wwAFFMEEkMn6fVajmAtgCMmwLQl1oAUh4bwHsevB16PI6yc89BzVUibDqzUrwR9dYIh2h2f4eV55cOSZIwr7YUS9vehv6gCGcFjj0W/mq7ujixUzRg1lUV8SMilOozHUAzBHygGXoigb/s/Qv+eVjkUB567nHIuoZVwT/jpBmbxXxkxQ8Eq4ElH4J3xgwjvq0gOFM4X6UaMBhT8dQOW8D7jxY5gPFDhxB69FEAQO11/yF2HnkV6HeIeHPNfeKNpGxaAIETTkCwQvwMA4at6g96xAQHB5G338a+f70MtXc+gtIo0DWnCj//QAAJPWGlDzgxQ8DmBJaKxgZ0OmY/K1VVCJb7UFGhApDRri5CyQrxd9v/4gvY37dfrGmgEoN9McgeCTPnu6fX6LEYBvbbfz8lfUYvS2NeMB3A8WMopuIrD78OTQeuWN6Idf/iyPHrOwzsMj58MPw7Ik5fWIufX7kM1SVe7I+W4d8j/w5NlzBzz+/w1W99DZfc+QL+sbOdBU6kqKAAHGdkWcItFx+P/716Bc6uFm/qUt2x+O8PH4ej68rQEY7iuge2IaFq2H2KEGgxBZD/8z+subzV/yKaDvf+7vfQE7Zr02oUAcwsFcKoxFuCMq9wxlwuoL8MKLF761k93Xya6PcFQCk3HLq+Xtf6t7eL/L8FVQswt2IuKv2V0KFjf2j/sM/dzAGsrwxiVpU4f0wTL4CeFAdwEJe/83cEutrhnTMHDd/+thUinlkhHttSIX4es/o78Hr/7/DfL/53xskkx/pj+OKWBwAA1R/9KJoe+j0WbXzM2h/fIRyQREcHEI8DHg88deL8nvp6SIEAEI+jc89b+N7L37MeV7ND/MxLPvlt4Eu7gBubga+2A/93PzB7KTzTp6Ph1u+j8c47EC8XTmuZ0XLnz9vt4hFPdTXkGSIUD01D2dlnI3jqWcDME8S23U+lPCd5UDh41XUlkCQJ085Z6dqfHP7VIhEcXLcO0R07EC3x4ufny3jzu1dCWiAqlQ+GUnMN20Lm70wIwIaqIN6parT2mw5n3TQR2mqLNqH0NCEAB156CaoqROqsPiFw6+dXusLtADD46lZoMQ2KX4WuSCgJGwJ8UPxtUACOH3c/vxctfRHMqgriGx881pWGgW2/ET1D554O1B5VuEVOUs48ejpevulcPPr5M3DhBy7Dk7Wigvr/ee5Gd/Nb+NQvX8bFd76A53Z1UAiSooACcAJYXF+BM46qtcd+1R2LEp8Hd3xsKUp8Cjbt7cJf32jFCw39+OW5Mm69RMZrgU7gtHWAJKP8in+DUlWFRGsr+p99zjqv5QCWNljb0raCSULtEU6k4tesYe9KhXB5kh1AM/x70oyTIEkSFlQKx2C4PMBwJI5wVIizhqqAVbEbNQSgcy6vpunY3zmAk7pFL72+Ky+01gPYYuRtpRIaJJTHh/DUjnuwYecG/GH3H1Kurasq3veX/0FVbADdM+dixv/9T/EcPbLVh1Dd8w4SnZ12BfDMmcKFhajS9RkFJ797aj16o704qvoonKYsRH2PDl2WULJ0qXW91oFW3PvGvZYrWvm+96HszDPRqwvBNq9UrP/pnR2uxtivl9vitfaznxV3jhYtgbDryZTnFTCaQM+cJUR+/aUXwR+1q2/9SQKw6557kDjSAs+MabjrxuOw8RQZjZVz0VghBN2BcGrTZbN1z0zDAZxVHcQ71XOs/aYAnFElikLaBuoRWLJETBUJD2Ce8bmjISTa3qTN/3tWNBMvq48CVRLKDCcy1iX6p7WFougbiKKnlcUg+aQ9HMGdT4v0jf987zHWtB0AgKYCr94n7tP9GzUeRcaxDZVYu3Ie3vvZ24F5q1EqRfGX0v/GBv9/49Mt38DBX30Gj9z6b9j7l1uBrtzSaQgZDygAJ4qBTmPgvd2ceeGMMnz0VPHm+sKeTrze9Qb+ulzGtgUytrZvBU6/DvhqJ+SFq1F5sWgQ3fPgA9YpnVNATNJWAidhCkCPXxPVq7AnWGhJVcBmAcjJM0QbmvlVokBiuDxAM5esMuhFic9jOYBmCNjpALaFI8DgAOYZ0yT+WPaO61xmPto/D/ajI1glnrPRdu7HW3/salGjJxLouP121L7zGoYUH35z/mcg++1cJnMcnKxGEf7731MqgE3MMPChNzdDgoSvr/w6Lu4Xv7eWhgCUchFOVjUVn/vb5/CDLT/A/W/f7/4ZRIXYW1xViqNmlCGmanjiTeEg3v3Kk3i7TvweXp0fQPC4Y8WDjhLFQNj9dzGOy2AgHENAE+J1zhwhjoPz5gIJ2y1zOoDxQ83ouutOAEDdwl3YlWgGIEYGzi0XDmBzqBnJmCHghepu4M/XY05gADurnQ6gCOfWlYq/vbbeaYCioGT5cgDAcQd0HFdzHBpCwkFqOKoq5Rr9zz4DAChriKCsegilhgAc7IthVqkfig48dtcbeOh7W9B5iJMV8sXtG3dhIKbixNmV+MAJDe6dz3xXjDQLVAGLP1iQ9b3rkBXg4p8DZTNRmujBCuktXKi8hI96/o6LBzZg/ivfAn58Cvp+tBr6i3emTfsgZDyhAJwojGkPqJ4nQrIGZvXdC/sOudqrbGvfJnLJZCFYqi/7V0CSMPDscxjcuhWAowl0qT3WK20lcBJmmFcxnCkAUIyOvE4HMKpG8WaXWPdJ008CgJwdwCO9dv4fILro15b5oCG1CGRfxwAWh1+DogPtlcA/Iq9B0+0iAdON2tESwuEyMeXDnGjRHenG3a/fDQAYePFF7Lv4EnT9Qnx/x4kfxiuae3KHz2gGrWgxhDc+ZU0B8c5yvyHK84Qwb+jSccWiK3Di9BOx2Chc2NIQsXoh/u6d32Fnjyh8eOHIC9bjdV3H3n7xMyjTJXzwRHH+P28/gv7YEH782nfwl1Nl/PpsGT/9QBx7u4wq4VlLxVSBaB9w8CXrfAcPit9LWNJRV203BA8F7YbOgVKjAGTnX9G+7gLosQSCtVF450TRHhOPbyxvxJwK8dwOhlNDwK19EVQjhGX/vBbY8kscs+9/sbN6DkK+UvgWLLDE9HRfM2QkMBT1IdwdsfIAj92v4wM1l6IkXo64HEO01v2BIn74MGK79wCShNKZUVRMG4RHjSCQ6AUAHB8M4JIBH7p39SER1zDQF0tZIxk5O1vD2PCyEPz/9f4l7lzRZ28VAhAAzvka4A2kOQMZFRX1wOdeBj7+MHDJ3cAF30f/yi/hxemX4nnteKi6hMru1yA9/mVoP1gE7dcXAy/fLfqKMkxMxhkKwImi3Q7/OlneVANJAg4NCter0i8clp09O13Olm/ePJR96EMAgLbvfAe6prnGwJmYzaCzOYCJnl4AgDL7aGubPM0sELHfsHd07UBci6MmUIPGcuEC5eoAmqFEUwACwKzqEhgmlqsIZG/nAI4Li1FUO2dJ6I324u3ut639Mx3nOFQuchkbunVcd8p1AIDfbv0Vdv/7Z9D8yU8h+s47kCsrUfmVr+KpOcvRHo5iIGqHWhetqkftTB/Kw80YePFFRN8W4s2X5ADuLhc5bkuOKPjcMdeIn80WkQ/51hwJf97zZ/REevDjrT+2HrOtfRuixjzhA12DaDfyNeWohg8YAvCFPV349B+/C1XpwIC3Eo8um4lwiYSHdghXDLICLBT9Ia2EfABHDgqnb8Arwkwm3TNnWPfV7S8jdv/1GPrJWoTe0QDoqPvYWTjsFcKw3FuOSn+lJQAPhNwh4ISqobM/gu94fwGv0WKm/PBziPgC+NR5X0bFvf9rHeuJdWCaZz8AoG1fCCUrTgUALD6ko7ZL/Czbyvdhe9dW1zX6nxMpDIEFM6D4dARrhMtZGhZ/y8fui2NuQkFCSeDt056EOjv9aEIyMr792A5oOnDBcTNds7bxwo+Bv39L3D/3m6JVFMkvgQpg4TnA8ZcCKz6DsvP/C6d99m4c/cWn8JNT/oJva5/ENm0BZF2FvOdvwKM3AD89FbFbmtB77+UIP/0jaK1vFfpZkHchFIAThekAzlji2lwZ9OLYhgooQfHpfFXDKswqmwVN11wNmNvDEVytLEXU60dk+2to/+NDCMdEeMwZAh4uB1DXdbsIZN4J1nZlujiH2tcHXRNOlxn+PXH6iVayuOkANoeaEVcztzewW8DYbtXsqiBMX8/lAHYOYEmXcKP2zBWO1ostL1r7nQKwpUZ8Km7qC+Dq467G8pnLceHzQ4j/4zlAUVD9sY9hweN/RcOVH0VNqc86v8mp72/C5d84AyXzZgPxOMJ/F33rzB6AJs/UdiLiBeo7Eui86loMvfEmYgcOQJck7GiU8Oi+R/HDV3+IUCyEY6qPQW2wFlE1itc6xEi47Yd6MSAZc3dDMcyrLcUJsyuhe1rx+sAfAACXzPsc5gZFC5UXDtvP184DtPsBdhr5cPGg+19Wnm5XNmtvv44933och54Xb/CVH/wAgp/4AQ4ZuY2zS+ogSRLmlAsBeKj/EFTNbk3T0R/FpfLTOF95BboswslyyzYcVRbFoDeII87C78Fu1Hl3AQDa94fQ21iFcAAIxoDIW+LAwxW7RCqDg/5nRP7f21Vijb7yBCSPZglAWdUxJKn40+Kf4G+JP6cNU5OR8cw7HXjmnQ54FQlfvsDRGH7z/wBP/pe4f/ZNwBnXF2R9U5UZFQFcd9EZ+OyXb8Xz/7IBF8k/xvfjl+EFdQkiuhe+WA+q9j+O8qe/CvmulXjztvfjje0vs4CE5A0KwInCcgCXpOw6rWkalIAQQCdOPxEnzTgJgC3AAOD2je/gnUQA9x/1HgBA920/hD+mo9JfiRKvPRLNCgEPpBeAz7z9V8BwppSFp1rblToj0V/ToA0IsWEWgJj5f+b5S72lUHU1xUFy0mKEgBsc4m12dRCm3HDmAO5o34mjW4VztuRfRK7ji0ccArDCIQBnCkdoXsgHSZLwxZO/gLNeN1rY/NdnMfOr/wVPtchnNBtC7+9KLSYoP89w2VSxImcOoKqpeHLgFdz8EQVaVTmib+3AgY9+FADgX3QMlPIKtA604qFdDwEAblxxI06dKX6Wm1s2AwC2NvdiQBbrGgrHoKka3nfCDATqH4YkqShJHI//PPVinBk+E4F4KQ4Mvm4vbsF7cNDrxTqpA5t3/RkAEOoQP0+p3F3oUVpr/2xKg72ALiExpEAuKcH0L34JKKnBwdp54ucPIQTrSurglb1IaAm0DtoNqrubd+DrHlEIIJ3zVWDGsQB0rAkKN9YM64sn1YM6nxCAbftD2NW3G2/NlaBDQttBEbY9UukWgFo0ioFNm8TPp1KE8iUZCFbHUW4UpHhKPPjDwt+ivXwfzph1Bs6afVbK747kjqrp+Pajov/olSvnYe40o33SK/cAfxXFUTjzS8BZ/1mgFZLKEi8+956j8OCXP4a5H/oa/r7ibvznUY/iy9W34qfKx/C0diJUXcKxoeew6OE1+Mu3L8e9T2yyoiyEjBYKwIlA04B28SY6WLMA39r0LTy+/3Fr96lNNZANB/CE2hNw8nQhuMw3T5G/IwTiIwvORLiqFujowgc266gvrYeu64gfOYJEd3f6ZtAGuq7jNy/eBQCIeoHE3FOsffK02aL1CYQLOJQYssSMUwC6KoGzjIRrsULADgew2uEAOkaxJZqfEM5RQMHpZ1wBAHi1/VUrnFrq96A84AGgoa1BFG2Utw9AV1XMeSeEmn6gPwD8sGKz69OxKQD3daQTgOe5vnc6gK93vo6eaA/amirQtGEDfE1N0GNC1JSdugJr5q2xjn3f/Pdhad1SrKgXOXDmz2z7oV4MShAdoXXhAu7R/n979x0fVZU3fvxzp6ZPeg9p9N6kN1EQBRVlLYAouz6u7IqC7qOyui66qwuuj65rw7Is+1NXQCQKdkGlCEEQQgmhhxBCepv0MjPn98cNgzEB6RHm+3697gty58y9557MPfnOuae8g9HnCMpp4Znhf+br/+zBO82XYZm30GgoIKu8aZoYn2Bejk5ivY83f9nyLE6Xk7oyvSysQSf6/AEEh50o36ie1cQ//0dsN95A9N+f1eckBI7a9C4CcbVN8z8ajO5H+u4WtsZaYr6Zha9Wzy5zTxh8PyRfCcAQ9FbNY80CwFIizHq3haIjlewt2kd6vEaVXwwNTiMmi4Ei32yyKrIobVpGLi9lJaqujmKvAMrDT7RaewU3El6UxoCgvQROrsUeugnlMvK//R5pPk2JOGPv/3CUfQWV2LzN3D+6PTRUw5r58MmDeoIhD+itf6LNeVuM3HpFHH+a0JWX7hjI/Fn3cN8TrzF07hp23fgl6f7DMGkurm/8kts23sAHz93LQ2+vJSO3oq2zLi5REgBeDOVZ0FgNRiv/yv2G9/e/z9wNc7HX661ZsWE1GEw1KJeRIFO8uwVwZ9FOHC6Hu/9Oh3A/Go1m3uwyHoAbN7m4961j7B80mIOjr+LA0GGYZjzBjakurMeKWzyi3Zy/maJ8PWir9IavKw5AQAygQVAiRpve/9BZbmfVkVVUNVYR4xdDz7CezY5zOv0Ac49PAh3oRaOzEYfLQUyQ94k+gE2DMRqdLtoV6I+66zonkhzcgTDvMOqd9c1aj6JsXhi8cigNqqHRCFqjg8bcXOwffQRAajcjm4q38n3+9+73uAPAVloAvbp2xRytByGa2YwpLMz92tocvT/esOhh+MQnkrD4PXz69wfAf+wYJrafCICPyYeH+j0E4G4BTC9Op6y2kt25FSgNrH56i93ibcv4/MhHaBi4t+sTRBcFkL1bD4ySSnsRUBtKSoZ+3sKaQlYZ9AA6u9HO6rXPo8r136V/6ImAD6CzthcvTf8D4HXdn/AZfyfRzz6Lf9M60wBHLXrQGFdyxN2x/Phj4OyKbKizwzs3E1i2E7vyYUnMY2AwQLLe2ty9biugTgSALifU2Qk05mLxMuBodJGVlUd6vEZepD43YVSyjaRg/XOy48gm8uY+ScVT+oopWxP6Mnv8iS8VXsENaCiCD3zDoux/ANBYMgyypIXjbCmlWLH9GPM/1794zroykcCM/8JLfWHNPD3RwBkw5i/6YDPxi2U2GujddyDd//ApNXd8SnFQL7y1BmaaPuKJQ1P46NVHuO8/37ErR/rLijMjAeDF0DT/X154B97eo3ekr3HU8P6+9wHIrNJfd9XFsC27ivaB7fEz+1HjqGHpjs3u/jtv3tmf+BAfVod351hiKFYHxOwvw2W3g8kESuHYtZupa1y8+KaTnHf+3Swbb2e8jX+tHgBUeMP7+5fBtA/hrpVgi/lRAFjO8v36482bO9yMQWv+MUm2JaO5FLlHW1/sXCnlfjxhMJcxetlopn8xnbAAI0dMTuo1RVR7/Vwbjuymc35TIDx0NJqmMShqEND8MXBEgBcm/z0og0ZlhD6Kum7XLipX6xMmWybo/eZeTnvZ3QroDgB/1AfwcHE1X6Tn4VLg19QKqEVFoBlOXOPxAHBE3AhAn/uu3Ttv0yF1Iz79+tE7vDcvjHqBhdcsdD9yj/WPJcYvBody8PG+DTQ4XAT6mAkI1EfNfrRLX+3j0QGPML3jOL5bpj8+tfqYMGCgV96VbGjqB/j+vvdxoNw35+r12RicihKDi7C45kvgdcleTHvvDRiNVYR170hrcpqmiomrKnV3RTg+F2B26V74z3jI3kid0Y+7G/4XS0hTd4D4IWC0EtBQSLKWy7GypgCwtlwvN00RnqCPsi4/Wkd43RhyYkfpbzXnMLYokuG7XPjf8xTlS5cC8GHycEb931yifxRwe0fpQW3d3r3k23Pwrrfxh88KqL1nOg1ZWa1ekzi5AwWVTHnre2Yt2Y69toF7QtP59Y7J8MlsqMqHwHZw879g3HwJ/i4xPu2HEfrAWrjtv9QHtidIq+Ix82L+fHgqSxfM5X/+vYGPd+SyKqOAb/cVsv5AEamHSth8uJSNh4pZt7+Ib/YW8OXufD7blUdadhl1jc6fP7G4LLVcOFScf01/dP/pb6W+sYJAayDl9eW8u+ddpnWdxq4ivf+Xsy6O7zNLuKFXNL3CerEhdwMLNq0G+jFtUAKJob7c3CeWF9du4m/XVjN6u8bwAb9i4IjbsbRvj7OsjKpvvmHdO8/SMbOe2pffwHHjrZiCgsi0Z7IuZx0javQKv8pb44eCH8i0mElKbAp0mgLAvLz9bKvZhlEzulu7fiwpIIHHlrrolr2KgxXLaT9lUrPXK2od1DSte7v88L8ory+nvKicdw88zw7rUHZYnPxPtN5v8dNDn3Fjjh6wBV8xBIBB0YP4OPPjZgNBomxemBx6wGlJSIDcdIrffAtVV4clKYlJN85hYco6dhbtZP2x9YyIHUFCSPMAsKiynptf20BZTSPD2odyTXcT3c2wJbaSBGc9VqOV3KpcDpQdwKAZGB4z3H1+TdPcfQsBxsQ3f4QMMDBqICkHUliTvREYSK/YQBzl+qNbv/pA7uhyB1M6T2HlP7fTWOckMimAgTckseLF7XQqHMCO8pdpcDawbP8yAB7p/zAvbn6R8CK9NS/OZzXh/l2pbKjkg/0f0FhbSmTpOqLCG/hY+eCXXUFGSQaH7Ie4IfkGpnaZitPlJKdptHicwwGHvoWIbifmAsxYDvlHwDeMl8L+xg97fRlzvM+l2VsPAjO/ZYRhJ1vsXcityuXNzf/HxrhoHrfXE5FgI2dvOe0O9sW/QR/Y0f5QCpY1XzMKGKV/Iij3C2Z+r1voMO5KerePhLwTXRTMMVFgc2KwV9Ir08C0jSZictNxGU3U7d/vnpRbnFp1vYOXvj7Awu8O43ApepuO8FrwEqIrdkAV+vRCIx+B/r+RdX4vZZoGXSZg7TgOdr1P49fPEFGZw9PmRRzN+oQVmUMw4cKLerxowFtrwIyDeszUKQt16FutsvK1CmW/loAxohNd48LoFWujW7SN5DA/vH+ygo+4/EgAeDEUpJNusfBpoz61xqtXvcrDax8mtzqXlYdWukeOOmvbsSlTn+G4d3hvNuRuoLhxPzbvQTxwlb6ywk19onl934cU+TWy++Z+PDb+SXcLnSEigqDJk1nu/xm3P/cDiQW17Hn2H1T/dhYrcvRF3kdUxwDZeIeGAyUs27eMRwc8CpxY5WH7wfUQDVcHDsSWWwHtT0w1AqCWbaVXVtMI16efpDAumvDhJ5YlO/74NyiwgC+y9OXXDJqBz7I+wRZuwV44gGNltXiFKw4cWE1IJTgNBrx79gBwtwBmlGRgr7djs9qICqnDWJ2PhoGIzn2p3phO/V798ZZt4kRCfcKY3GUyi9IX8UraKwyLGUZCqB5kltc0UlbdwJ8+2kVZjf4odUPWIXYYl2B80IjTWE39zje5v8/97ta/3mG93VPynK4BkQNIOZDC3vJtwEA6xxjZdmwzifRh+OFbiMTG6vQMcvaWYTQbuOqurtjCvfGL9qIqFzrmd+NfOxdSWldKuE84t3aZzNHva/BpDKDRXMKdvm9yMNPCvdkH2VXcNGgk9HhQmsKzW07kZW/pXrqHdkc5/HG4HJgwEOFwQuYaGDKTOKv+vmzVALZ2cOdHbP2gEChtNuqa5NGQ+S3dLNv5gHrGf/iDvvyeycRjQSYmlufhA+7gr1cvM+HpO9DCwnD5+5DeeISsSCOLIu9BeUfy1rhO+nEtJ9ZydgZEkRl5jCQ7PJLiwuAqwG7xYf20h3l47In+luIEl0uRU1bLvoJK9hdUcqCgko2HSiisrCeAKv4Z/gmjKj9Bq3CByRsG3wdDHwCvM/tMi18wowl6T8HcfRJsexvnmmeJqylipmHFGR+qocTIweJYMrbF84ErgS2uztj9OxAfHkBSqB+Job4khfmSFOpHTJA3RoO0HF8OfhEB4GuvvcZzzz1HXl4e3bp148UXX2T48OEnTb927Voeeughdu/eTXR0NI888ggzZsxolmb58uU88cQTHDp0iOTkZJ555hluuummczrv2VIFu3kuJBCAG5JvoGdYT+7sdifzN8/n3+n/dk/Z4qqL41BFNUWV9TRU6S00Rp8sHujbgUAfvR/XtrJVmPwOoFwmupn/xx38NTpdfJ9ZylcZ+ezKg8bRBv682AUrlvOHmijsfVbSN9NFz2/1Tv/h102ExoWsPLSSWX1n4WXycq/ycCh7B73qXPz6s61kVl5P5Nw/EzR5MgDlR3Lwa5oPLj8QIssd5Mycie+yJfh21Fd/yLPXAgpj2Kc4gAlJE+gY1JEXtr6AK3gFxspwPjpQztqN75CQpbdO2WMTMPjoAVu4TzjJtmQO2Q+xOX8zg6MGk2vQH0n3CutFgH9n3A91NQ3bDdcD8Jtuv+H9fe+zp3QPq4+sZmzCWCIDvMivqOOlbw7w5e4CTAaNF27rzV++f5R6Qz2NjTYMxgr+nf5vrku8zh0Ajow7/dGnTpdiX34lAehTbFS6ssFYTXr9WxwLySKoMorAikgKDldQcFjvrzd4YjKBEfr1DhmfzFdv7aZ7/nD+vf2vYIDbO92Oy6Hhk64/1t0U8y1XuYz8rWAp6VYLNouNUfYS8nGw0xhCtWZmSFxP+kZ0J6MkgzU5a3hg9aMUHbkGYxT4aUEYyYIjG6Chmvh1el+7o2YTzl9/ijGwHQVNA0IiApoHgD+sf5rnIsrAsAmHC67wb09VcQZ7rBYW21/lbu4BIC0sjXGTfkvy7/S5/pRSPLLiZjLtB3FWpzCz63OE+zcd23pi+po3LA2UhVSSBBhc0BAdx4NdpxLpe2IFknPRVvXL+VZYUcdXGfrjux+yyqj9yaM7DRczAjbxkPZfLBVNSwR2uxnGPg22mFaOKC4LJisMuAdj7yn6cn7F+8HsAyYvvRXf7A1GCzjqwVELjbXQWAcNVaiSg6i8XVgaKuiqHaErR/iVUZ+qqaLemx+OdOL7w134xNWJQyoaO75YTEYSQnxIDPUlxM/KT0NBs9FAUpgvHcL96RjhR4iftDb/UrV5ALh06VJmz57Na6+9xtChQ3njjTe49tprycjIoF27di3SHz58mOuuu4577rmHd999lw0bNvD73/+esLAwJk3SH0WmpqZy22238de//pWbbrqJDz/8kFtvvZXvvvuOgU0rFpzpec/F14N+zbaMN/AyWrm/z/0A3NT+JhbsWMCxKn1Ua7BXMDEh8ezNq2Te53tYsaMe7w4GDGY743rpN1BRTRF/3/J3ABqKr+brEsWUvlUs2XKUD7bmUFqtj1S1hvuTnmBgW5Kib6aLezL/H28nNzJzpZ6foCmT6Xj7/USnfE5udS7/TP2Ah4ZMcT8CHphWw/V2MCg9zMp/6i9oFguBkyax6cHHiG+s40CUlb9McfD4Eiedj9WQNm0SZS8/zHX9p5BbXofRdz/1pv2YDWbu73M/Ub5R7Crexaojq/COf4P3DustiNfmWIA6VNfezcpsUPQgDtkP8W7Guzy7+Vl3kDyly2Qs5ZHudL6DB2OO1H8O9ApkWtdpvL7jdV5Oe5mOQR1JDPUlv6KORRuyALh/dAdswQeot25Hw0Dt0V9jDfsK/Pfw2PonOFiuTww9qqkvG0BJVT1PfpzBhoPFzLyyPdOHJLhXUjhSUs0Di9PY0dQB2ycpHKO1EO/opews24/Z38xNj/amnSGZrF3FHEkvwS/QSs8rT0w7k9wnnCqvzfjV+dKh4Ar2x2yiR8BYZv19Iz1qoMZYw97wTdxljKIRRaBL8a/IMXTa9wL4RzO8/ikKKxzk19ow+0QzJWkCG45up7ThGFpICgDFlSFUm4PxbSyFd24i8uj3mBLiaNQ0DqsGco6uodC0HHNgEKH+Q91526JquC8ynFpNw68ujML8SfT0LWJi3TomxUTTYEtnQ/IKlNPBNjMULN3B8t8NwWIyoBQkqxkccj6OyfcwxZalgD4Q5HgL4BYvK2/WZZPU3sDNm1z4DRoEf/wLeQt3UF1YhVLqnEYCt1X9cr5kl9Tw5e58vtidz7bssmaLQ1hMGleENDDCP49epqN0qViHrWk9bcI6w3XPQVP3DuEBLL4w6Hdn9BYN0JSC8mwoSIe8nXBsKyo7lYCGKkYbtzPauN2dvkZZyVPB5JUGk1cSQgW+/HRWQoWGHQvfKQursWCyemMLsFFvDqRQ2Shw2Shw+lPl0DAZNGKDfGgXrG9xwT5EB3pRWeegqLJe36r0f70tRrpGBdA1OoAukQGnfER9rvWGp9BUG88qOXDgQPr27cuCBQvc+7p06cLEiROZN29ei/SPPvooK1euZM+eEwMQZsyYwY4dO0htmmPstttuo6Kigs8//9ydZty4cQQFBbF48eKzOm9rKioqsNls2O12AgICWk3T6Gxk4oqJZFdm89uev3UHgACvbn+V13fo07KMihtFaPUMd6ACENP1DSrUYfzN/iQGJlLrqOVA2QE6B3Uhfctd1P5kHuZQPwtXd4mgV2Ijn+X/k5KMbTy30IlBQUEgRJTDvuB2RC76D8pk4fFv/0GReQXO2lgC7Hcz136IhJT/uI9XOGIc9QYzcWs+1pehu3o8vqs+waEZOPLcX/g+aDtb9qzn4YUFRJfpA0u2XBFM3pA7+bB+GUavAqZ3m84f+v8BgOrGan614nZyqrNQTi8cpaN4YdkPJNrzqX/iGXpPvdl97jVH13D/NyfKKs4/jicHP8mAqAE4yso4MFjvLxj93N+xXX+9O11lQyXXplyLvd6OhkaEqT+HDlyBqy6ObtE2Ft/bh199fDN51Xn8utuvieMWnvh0PaZ2z6MZ9AA61i+Wz27+DE3T+HRnHk+sSHcH1wBXJATx3K96kXa0jD99mE51gxMvswGbt5m6gOW4/L9zp50zYA5Tu0w9+YeoyTMLPiFwhw+1pipyI3LZVR7PsFozoS4Dzt5O3vLWRxsHKvhXbh6dGpp++Vf+iefrb+CVbw82Cw6MvvvwabfI/XND6WDml+Zwk3FD0x6N67v0JauuqEVeYvximd1vFkHWIGZ+PZM6Zx1Damr5c+QkJuy6ipvrV/CE+V0e9+3JyvBy9/u0oilUFPdkxshkesTY+OfX+9lfUIXRLwPfuHdQKJ4Y9AS3droVXC7sT4cyKSaCApOJie0n8mSvORh8fah3uOjy5y9QCrY8fjVh/idvQfi5e7Ct6pefczp1xyeb97Low88I0qoI0ioJpIpOAY10DXQQbyzBpzQDraa4+Zss/jBqDgy8F4zmVo8rxM9yOqBgFxzZqG9HNzetZX/+lCo/ipWNMvwpV36UKT/K8adc+eKgeXCnoTCgMOHErDkw4SLUx4C/t5Vjxhj2uWLZ64iiuMFEZZ2DbtEBLJsx5JTnP5178HLXpi2ADQ0NbN26lTlz5jTbP3bsWDZu3Njqe1JTUxn7k35B11xzDQsXLqSxsRGz2UxqaioPPvhgizQvvvjiWZ8XoL6+nvr6evfPFRU/P/+SQTMwvft03t/3Pnd3b77M0uTOk/lP+n+oc9bRM7Qn7SJC3AHgjb2jGdL7DuZt/huVjZXufoImzcTTw/7Kv+rrWLY1B02DKzuFM2VAO0Z1CnMvEzaZt8kfmc/+rNmErd5BRDnUePvxdP87Kft/aThdCs3UDd/2H2P0zqHa+ylWFlh4AGgwwoLe1/FF8GhQivsSi5lwOBXfVZ8AcHD0RG6aMIkJTEINUbziuxzthXlEVdZw1bpSXOtfpGe8hstoZEDQNg433oaGhmY287IpiJJaRcOxGnzKV+Hj0MszbvigZmXTP6I/vmZfah213NHlDmb2mYm3SR8tagoKwm/kSBxFRc2mOwHwt/izcOxCXkl7hTU5a8h3bME3cQvKZaTaO4RbPzGTV51HtG80M3rNwMfsQ8/Y67lr+V6q/T4E4MjReMb8Yx1+VhPbj5YD0CnCn+t7RbFgzSG2ZJVx9Qtrcbj0iGtAYjAv3tab6EBvvj6iMXuNHgCOih3FlM5TfvYzAjBydB/W7v2OwPowko91JLlpv8lq5O47h3Nw05XsKd3DK33+l05LpgON+mOdfnfxB79wpg2O54v0fD7ZmceWrFJ6BA8kMbaY1Tn6RNIjEjvzXVGQOwD8MGwGNQ2lgB4AuhqCcdYkYvbfz7GqHB5e+7A7b8P8k3kx61usFUv5LnIXpbkHAejXEEtpdC++y9Ufm88eMZK/pJTx+toT0wP5e5l4YMQkVKCNl9NeZt738/gm+xsqGirIi42i2GggwSuMPw74I8amCc29zEbignzILq3hUFHVKQPAU2mr+uV8GWzNZIL1qeY7a5u24zQDhHaEyB761uNWff1ZIc6F0QTRffRt8H36vsZaqMiFimP6v/YcaKhq+V7l0h8xO2px1NVQVV1JfU0l5oZyvOtLsNaXYFAOgrUqgrVW3n+6Gpq2HznqCmO/iiW3vAtw6gBQtHEAWFxcjNPpJCIiotn+iIgI8vPzW31Pfn5+q+kdDgfFxcVERUWdNM3xY57NeQHmzZvHU089ddLXW2M0GLml4y38qsOvWjRJB3sFc1/v+1iybwnjEsYR6hXGkOQQksP8mHt9V0zGPkzscCNHKo5w2H6YIxVH6BrSlU7BnZh7g4Mh7UMYkBhCTKB3q+eO9I0k5M8vkbnxWlx1dSS99CJd9ptYf6AYi9HAbf17EBv/v3x1dAUHyg6wuWs9b9cZ2B6eQIFxHFfG2vD3MrMicAoWp4Ox2VsotIVzzbMnJo7VNI2Zt0/iy66D+WT5B8RvWEKPY+X0zFKAgwa2tcjXT79r7Ujoze3topvt87P48d749wBIsiW1OEbcG6+ftMw7BXfi5ate5lD5IV7d9i9WZX+OZnBSUl8ITfH7YwMfc6+g0inSny9/8xjjP9iJ3XWIOntPDtZWNf3+NH4/KpmZo9tjNRm5sXcMc1J2suFgCUaDxqyrOnDfle3dnaIHRA0gyBqEr9mXvw7962k/hhiQHMWDEeVEVFbRQ0umg8FCXUkdAyYk4uVj5qXRL514rHHDy5ByD/S9E/z0ATrh/l7cOTiBOwcn0Oh0YTYaqGroRcbKreRW53L3gCFsMJpI3byOraoD/3d0GJqxGqNPEs66aHy0cK6ID+LW/uHkqC9YlL6IWkctI2JH8I/+j2HJ6Au1ZfjWbuD48I3RQwYzavAdTPl0CiaDiTv7D2DPkd0s25qDv9XEb4Yl8pthidi8zSh1DwfKDvBF1hdsyG1qhTQa8HW5ePaKPzZbzQbguh5R2GsbsXmffStWW9UvrTmbL48hEXG4AhMx+AbrI3h9fvSvXwREdteXljS3fv8LcV6ZvSEkWd9OkwkI/OlOlwtqy6CqQG9VrCmF2lKoKdP/rS3Tg8if0ox6YGowUePUKKlR1NRWE1xzmIDKQ1jrS4gzFBFHEY5AWS7vdLR5H0CgxR/Jn3t+31r6n+4/nWOe6Xn/+Mc/8tBDD7l/rqioIC7u9Dqqn+y407tPZ3r36e6f37uneUuY1WilY1BHOgY1n+PNz2ripj6x/BxzeDgJ7y/FVVePd/duvDXIyeo9BfRtF0R0oDfQnXv7TKPOUUdGyV6+65HB7XHD6RkV2yzPx347iMzPvqbLqAH4+DX/Y61pGuN6xTCu1ywczvv5dvXn2H9Yz1WdrsDg7YWhaYUR1dCgb0phDg/HFBlFtS2IG/ybz213XGuB35lIDkzmhdHzqHPMpaSuhLK6MkrrSgmwBLgn2z7O5u3FV7e/x9GKHLyJJaukmjx7LX3aBdEx4sSAhbhgH969eyCr9xQSHehFt+jmoyr9Lf58dvNnGDRDi6DmVCwmA+/8ZjLFlQ0MSQ7BYNBwuZS7ryH86DPU41eQdCV4B7Z6LHNTK7CfxY+3r32b9OJ0BkYNZOAE+Dr5I3xKa/gz+mwSVtNgesba6Bzp7249ht9xS8dbSC9OZ2j0UMxGM/x2LRTt0SeBdjnB7E1gx2vAZGXFxBUYNAMmg4l5N/dgQq9oescGYvM5EbxpmsbTw55mSPQQNE3DZrERWGsnyalhS2o5pU6zNWvPUVvVLz92Nl8eieyBYfb2M3uPEL90BgP4hugbLZdGPR0+TVsz1SV6HVW4B9OPBpmJk2vTADA0NBSj0djim3NhYWGLb9jHRUZGtpreZDIREhJyyjTHj3k25wWwWq1YrZfeiCZr+/bu/3uZjUzoGd0ijZfJi74Rvekb0bvVY8SE+BEz7cafPZfJaGDMNePhmvGnl7fTSnVuvExexPjFEON36pGQPmYfOoXogXa7kJMHb5qmMabryT8nfpbWA9qf0zkyAE6Mb2kW/LXgG3Jax4zwjSDC90Rerz5Fvn8s1DuUUXGjTuwI76xvrbAaT/wWTUYDIzuGnTTdTR0u7EjZH2ur+qU15/LlUQhxGnxDwHcYJAxr65xcMtp0JRCLxUK/fv1YtWpVs/2rVq1iyJDWn98PHjy4RfqvvvqK/v37YzabT5nm+DHP5rxCiEtLW9UvrbFarQQEBDTbhBCiTak2tmTJEmU2m9XChQtVRkaGmj17tvL19VVZWVlKKaXmzJmjpk2b5k6fmZmpfHx81IMPPqgyMjLUwoULldlsVh988IE7zYYNG5TRaFTz589Xe/bsUfPnz1cmk0lt2rTptM97Oux2uwKU3W4/DyUhhDhTP3cPtlX9cq75FkJcWHIPKtXmAaBSSr366qsqPj5eWSwW1bdvX7V27Vr3a3fddZcaOXJks/Rr1qxRffr0URaLRSUkJKgFCxa0OOayZctUp06dlNlsVp07d1bLly8/o/OeDvkACdG2TucebKv65VzzLYS4cOQeVKrN5wG8lMk8QkK0rUv1HrxU8y3E5ULuwTbuAyiEEEIIIS4+CQCFEEIIITyMBIBCCCGEEB5GAkAhhBBCCA8jAaAQQgghhIeRAFAIIYQQwsNIACiEEEII4WEkABRCCCGE8DASAAohhBBCeBhTW2fgUnZ8EZWKioo2zokQnun4vXepLWgkdYcQbetSrTvOJwkAz0FlZSUAcXFxbZwTITxbZWUlNputrbNx2qTuEOKX4VKrO84nWQv4HLhcLnJzc/H390fTtJOmq6ioIC4ujqNHj3rsmoMnI2VzclI2rftxufj7+1NZWUl0dDQGw6XTo8XT6w65rkvL5XhdSqlLsu44n6QF8BwYDAZiY2NPO31AQMBlc/Ocb1I2Jydl07rj5XIpfnuXukMn13Vpudyu61KsO84nzwx7hRBCCCE8mASAQgghhBAeRgLAi8BqtTJ37lysVmtbZ+UXR8rm5KRsWudJ5XK5Xqtc16Xlcr0uTyeDQIQQQgghPIy0AAohhBBCeBgJAIUQQgghPIwEgEIIIYQQHkYCQCGEEEIIDyMB4EXw2muvkZiYiJeXF/369WP9+vVtnaWLat68eVxxxRX4+/sTHh7OxIkT2bdvX7M0SimefPJJoqOj8fb2ZtSoUezevbuNctw25s2bh6ZpzJ49273Pk8vl2LFj3HHHHYSEhODj40Pv3r3ZunWr+/XLsWzKysqYNm0aNpsNm83GtGnTKC8vP+V7UlJSuOaaawgNDUXTNLZv335R8vpzzrTeW7t2Lf369cPLy4ukpCRef/31i5TT03cm15SXl8eUKVPo1KkTBoOh2X39S3Mm15WSksKYMWMICwsjICCAwYMH8+WXX17E3IrzRQLAC2zp0qXMnj2bxx9/nLS0NIYPH861115LdnZ2W2ftolm7di333XcfmzZtYtWqVTgcDsaOHUt1dbU7zd///ndeeOEFXnnlFbZs2UJkZCRjxoxxr5l6uduyZQtvvvkmPXv2bLbfU8ulrKyMoUOHYjab+fzzz8nIyOD5558nMDDQneZyLJspU6awfft2vvjiC7744gu2b9/OtGnTTvme6upqhg4dyvz58y9SLn/emdZ7hw8f5rrrrmP48OGkpaXx2GOP8cADD7B8+fKLnPOTO9Nrqq+vJywsjMcff5xevXpd5NyevjO9rnXr1jFmzBg+++wztm7dypVXXsn1119PWlraRc65OGdKXFADBgxQM2bMaLavc+fOas6cOW2Uo7ZXWFioALV27VqllFIul0tFRkaq+fPnu9PU1dUpm82mXn/99bbK5kVTWVmpOnTooFatWqVGjhypZs2apZTy7HJ59NFH1bBhw076+uVYNhkZGQpQmzZtcu9LTU1VgNq7d+/Pvv/w4cMKUGlpaRcwl6fnTOu9Rx55RHXu3LnZvnvvvVcNGjToguXxTJ1LXf7j+/qX5nz8jeratat66qmnznfWxAUmLYAXUENDA1u3bmXs2LHN9o8dO5aNGze2Ua7ant1uByA4OBjQv/3n5+c3Kyer1crIkSM9opzuu+8+xo8fz9VXX91svyeXy8qVK+nfvz+33HIL4eHh9OnTh7feesv9+uVYNqmpqdhsNgYOHOjeN2jQIGw22yV1TWdT76WmprZIf8011/DDDz/Q2Nh4wfJ6ui7Xuvx8XJfL5aKystJdn4tLhwSAF1BxcTFOp5OIiIhm+yMiIsjPz2+jXLUtpRQPPfQQw4YNo3v37gDusvDEclqyZAnbtm1j3rx5LV7z5HLJzMxkwYIFdOjQgS+//JIZM2bwwAMP8PbbbwOXZ9nk5+cTHh7eYn94ePgldU1nU+/l5+e3mt7hcFBcXHzB8nq6Lte6/Hxc1/PPP091dTW33nrrhciiuIBMbZ0BT6BpWrOflVIt9nmKmTNnsnPnTr777rsWr3laOR09epRZs2bx1Vdf4eXlddJ0nlYuoLcq9O/fn7/97W8A9OnTh927d7NgwQLuvPNOd7pLoWyefPJJnnrqqVOm2bJlC9DyeuCXeU2n40x/N62lb21/W7oUPm9n42yva/HixTz55JOsWLGi1S8v4pdNAsALKDQ0FKPR2OKbVGFhYYtvXJ7g/vvvZ+XKlaxbt47Y2Fj3/sjISEBvBYiKinLvv9zLaevWrRQWFtKvXz/3PqfTybp163jllVfcI6U9rVwAoqKi6Nq1a7N9Xbp0cQ8KuJQ+MzNnzuT2228/ZZqEhAR27txJQUFBi9eKiop+cdd0KmdT70VGRraa3mQyERIScsHyerou17r8XK5r6dKl3H333SxbtqxF9xVxaZBHwBeQxWKhX79+rFq1qtn+VatWMWTIkDbK1cWnlGLmzJmkpKTwzTffkJiY2Oz1xMREIiMjm5VTQ0MDa9euvazL6aqrrmLXrl1s377dvfXv35+pU6eyfft2kpKSPLJcAIYOHdpiqqD9+/cTHx8PXFqfmdDQUDp37nzKzcvLi8GDB2O329m8ebP7vd9//z12u/0Xd02ncjb13uDBg1uk/+qrr+jfvz9ms/mC5fV0Xa51+dle1+LFi5k+fTrvvfce48ePv9DZFBdKGw0+8RhLlixRZrNZLVy4UGVkZKjZs2crX19flZWV1dZZu2h+97vfKZvNptasWaPy8vLcW01NjTvN/Pnzlc1mUykpKWrXrl1q8uTJKioqSlVUVLRhzi++n44W9NRy2bx5szKZTOqZZ55RBw4cUP/973+Vj4+Pevfdd91pLseyGTdunOrZs6dKTU1VqampqkePHmrChAnN0nTq1EmlpKS4fy4pKVFpaWnq008/VYBasmSJSktLU3l5eRc7+24/V+/NmTNHTZs2zZ0+MzNT+fj4qAcffFBlZGSohQsXKrPZrD744IO2uoQWzvSalFIqLS1NpaWlqX79+qkpU6aotLQ0tXv37rbI/kmd6XW99957ymQyqVdffbVZfV5eXt5WlyDOkgSAF8Grr76q4uPjlcViUX379nVPf+IpgFa3RYsWudO4XC41d+5cFRkZqaxWqxoxYoTatWtX22W6jfw0APTkcvn4449V9+7dldVqVZ07d1Zvvvlms9cvx7IpKSlRU6dOVf7+/srf319NnTpVlZWVNUvz03tn0aJFrd5fc+fOvah5/6lT1Xt33XWXGjlyZLP0a9asUX369FEWi0UlJCSoBQsWXOQc/7wzvabWfi/x8fEXN9On4Uyua+TIka1e11133XXxMy7OiaZUU09bIYQQQgjhEaQPoBBCCCGEh5EAUAghhBDCw0gAKIQQQgjhYSQAFEIIIYTwMBIACiGEEEJ4GAkAhRBCCCE8jASAQgghhBAeRgJAIYQQQggPIwGgEEIIIYSHkQBQCCGEEMLDSAAohBBCCOFhJAAUQgghhPAwEgAKIYQQQngYCQCFEEIIITyMBIBCCCGEEB5GAkAhhBBCCA8jAaAQQgghhIeRAFAIIYQQwsNIACiEEEII4WEkABRCCCGE8DASAAohhBBCeBgJAIUQQgghPIwEgEIIIYQQHkYCQCGEEEIIDyMBoBBCCCGEh5EAUAghhBDCw0gAKIQQQgjhYSQAFEIIIYTwMBIACiGEEEJ4GAkAhRBCCCE8jASAQgghhBAe5v8DPIVwNdVsC04AAAAASUVORK5CYII=' width=640.0/>\n",
                            "            </div>\n",
                            "        "
                        ],
                        "text/plain": [
                            "Canvas(toolbar=Toolbar(toolitems=[('Home', 'Reset original view', 'home', 'home'), ('Back', 'Back to previous …"
                        ]
                    },
                    "metadata": {},
                    "output_type": "display_data"
                }
            ],
            "source": [
                "%matplotlib widget\n",
                "import pingouin as pg\n",
                "\n",
                "_,axs = plt.subplots(1,2)\n",
                "axs = axs.reshape(-1)\n",
                "\n",
                "pre_corr = pair_corr_all[:,0]\n",
                "maze_corr = pair_corr_all[:,1]\n",
                "quantiles = pd.qcut(maze_corr,5,labels=False)\n",
                "# quantiles = pd.qcut(pre_corr,5,labels=False)\n",
                "\n",
                "ev_quantile = []\n",
                "quantile_boundary = []\n",
                "for q in range(5):\n",
                "    quantile_boundary.append(pair_corr_all[quantiles==q,1].max())\n",
                "    mat = pair_corr_all[quantiles==q,:]\n",
                "    df = pd.DataFrame(mat,columns=np.arange(mat.shape[1]))\n",
                "    \n",
                "    ev = []\n",
                "    for y in range(2,61):\n",
                "        stats = pg.partial_corr(data=df,x=1,y=y,covar=0)\n",
                "        ev.append(stats.r.values[0]**2)\n",
                "    \n",
                "    ev_quantile.append(np.array(ev))\n",
                "    # mat_corr = df.corr().values\n",
                "    # np.fill_diagonal(mat_corr,0)\n",
                "\n",
                "    # axs[q].imshow(mat_corr,cmap='jet')\n",
                "axs[0].plot(np.array(ev_quantile).T)\n",
                "\n",
                "bins = np.arange(-0.1,0.3,0.01)\n",
                "hist_paircorr = np.histogram(maze_corr[~np.isnan(maze_corr)],bins=bins)[0]\n",
                "hist_pre = np.histogram(pre_corr[~np.isnan(pre_corr)],bins=bins)[0]\n",
                "axs[1].plot(bins[:-1],hist_paircorr/hist_paircorr.sum())\n",
                "axs[1].plot(bins[:-1],hist_pre/hist_pre.sum())\n",
                "# for val in quantile_boundary[:-1]:\n",
                "#     axs[1].axvline(val)"
            ]
        }
    ],
    "metadata": {
        "interpreter": {
            "hash": "7b10c821bc4bd3f433a613d47515e6babc6c2152896bd1e143404cc9d6ede4ad"
        },
        "kernelspec": {
            "display_name": "Python 3.9.6 64-bit ('data_analysis': conda)",
            "name": "python3"
        },
        "language_info": {
            "codemirror_mode": {
                "name": "ipython",
                "version": 3
            },
            "file_extension": ".py",
            "mimetype": "text/x-python",
            "name": "python",
            "nbconvert_exporter": "python",
            "pygments_lexer": "ipython3",
            "version": "3.10.2"
        },
        "orig_nbformat": 4
    },
    "nbformat": 4,
    "nbformat_minor": 2
}
