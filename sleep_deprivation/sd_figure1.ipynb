{
    "cells": [
        {
            "cell_type": "markdown",
            "metadata": {},
            "source": [
                "### Figure 1\n",
                "- schematic\n",
                "- spectrogram for NSD and SD\n",
                "- percentage sleep fraction during first 5h of POST for both SD and NSD sessions\n"
            ]
        },
        {
            "cell_type": "code",
            "execution_count": 6,
            "metadata": {},
            "outputs": [
                {
                    "data": {
                        "application/vnd.jupyter.widget-view+json": {
                            "model_id": "38d5388e30714d7983650acc3c4c33b7",
                            "version_major": 2,
                            "version_minor": 0
                        },
                        "image/png": "[encoded data removed]",
                        "text/html": [
                            "\n",
                            "            <div style=\"display: inline-block;\">\n",
                            "                <div class=\"jupyter-widgets widget-label\" style=\"text-align: center;\">\n",
                            "                    Figure\n",
                            "                </div>\n",
                            "                <img src='data:image/png;base64,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' width=850.0/>\n",
                            "            </div>\n",
                            "        "
                        ],
                        "text/plain": [
                            "Canvas(toolbar=Toolbar(toolitems=[('Home', 'Reset original view', 'home', 'home'), ('Back', 'Back to previous …"
                        ]
                    },
                    "metadata": {},
                    "output_type": "display_data"
                }
            ],
            "source": [
                "%matplotlib widget\n",
                "import matplotlib.pyplot as plt\n",
                "import numpy as np\n",
                "import subjects\n",
                "import pandas as pd\n",
                "import seaborn as sns\n",
                "from neuropy.plotting import Fig\n",
                "from scipy import stats\n",
                "from subjects import sd_span,nsd_span,grp_span,light_cycle_span,epoch_span\n",
                "\n",
                "\n",
                "\n",
                "grpdata = subjects.GroupData()\n",
                "group = [\"nsd\", \"sd\"]\n",
                "\n",
                "# brainstates \n",
                "states = grpdata.brainstates_proportion\n",
                "\n",
                "#frate\n",
                "frate = grpdata.frate_zscore\n",
                "frate_change = grpdata.frate_change_1vs5\n",
                "colors_frate_change = subjects.colors_sd(1.2)\n",
                "\n",
                "frate_quantiles = grpdata.frate_pre_to_maze_quantiles_in_POST\n",
                "frate_quantiles_shuffled= grpdata.frate_pre_to_maze_quantiles_in_POST_shuffled\n",
                "\n",
                "fig = Fig(grid=(4,3), hspace=0.45, wspace=0.4)\n",
                "filename = subjects.figpath_sd / \"figure1\"\n",
                "\n",
                "caption = \"Figure 1: Changes to firing rate across SD and NSD sessions. \\n(A) Slow wave amplitude during POST of example SD and NSD sessions from one animal.\\n(B) Porportion time spent in each vigilance state in first 5 h of POST pooled across SD (left) and NSD (right).\\n(C) Mean firing rates across across session pooled across animals. Light/dark cycles and sessions epochs are indicated above x-axis.\\n(D) Percentage change in firing rate from 1st to 5th hour POST.\\n(E) Pentiles firing rate ratio plotted in first 5h of POST. Pentiles were first calculated from percentage increase in firing rate from PRE to MAZE (increasing hue in color). Then mean firing rate of pentiles normalized by each pentile's firing rate in first time bin. Error bars indicate SEM.\" \n"
            ]
        },
        {
            "cell_type": "markdown",
            "metadata": {},
            "source": [
                "### sleep fraction"
            ]
        },
        {
            "cell_type": "code",
            "execution_count": 7,
            "metadata": {},
            "outputs": [],
            "source": [
                "ax = fig.subplot(fig.gs[0, 2])\n",
                "hue = [\"active\", \"quiet\", \"rem\", \"nrem\"]\n",
                "color = list(subjects.sleep_colors.values())\n",
                "ax = sns.boxplot(\n",
                "    data=states,\n",
                "    x=\"grp\",\n",
                "    y=\"prop\",\n",
                "    hue=\"state\",\n",
                "    ax=ax,\n",
                "    hue_order=hue,\n",
                "    palette=subjects.sleep_colors,\n",
                "    showfliers=False,\n",
                "    linewidth=1,\n",
                "    boxprops=dict(edgecolor='none'),\n",
                "    showcaps=False,\n",
                "    medianprops=dict(color='w',lw=2),\n",
                "    # capsize=0.05,\n",
                "    # legend= None,\n",
                ")\n",
                "# for i,artist in enumerate(ax.artists):\n",
                "#     # Set the linecolor on the artist to the facecolor, and set the facecolor to None\n",
                "#     col = artist.get_facecolor()\n",
                "#     artist.set_edgecolor(col)\n",
                "#     artist.set_facecolor('None')\n",
                "\n",
                "#     # Each box has 6 associated Line2D objects (to make the whiskers, fliers, etc.)\n",
                "#     # Loop over them here, and use the same colour as above\n",
                "#     for j in range(i*6,i*6+6):\n",
                "#         line = ax2.lines[j]\n",
                "#         line.set_color(col)\n",
                "#         line.set_mfc(col)\n",
                "#         line.set_mec(col)\n",
                "ax.legend([],frameon=False)\n",
                "fig.legend(ax,subjects.sleep_colors.keys(),subjects.sleep_colors.values(),x=0.5)\n",
                "ax.set_ylabel(\"State proportion\")\n",
                "\n",
                "ax.set_title(\"First 5 h of POST \")\n",
                "fig.panel_label(ax=ax, label=\"B\")"
            ]
        },
        {
            "cell_type": "markdown",
            "metadata": {},
            "source": [
                "### zscored firing rate"
            ]
        },
        {
            "cell_type": "code",
            "execution_count": 8,
            "metadata": {},
            "outputs": [],
            "source": [
                "# neuron_colors = [\"#f52e14\", \"#0a8a46\"]\n",
                "neuron_colors = [subjects.colors_sd(1),subjects.colors_sd(1.5)]\n",
                "gs_frate = fig.subplot2grid(fig.gs[1, :], grid=(1, 2), wspace=0.15)\n",
                "for i, neuron_type in enumerate([\"pyr\", \"inter\"]):\n",
                "\n",
                "    neur_color = neuron_colors[i]\n",
                "\n",
                "    for i1, (grp, grp_color) in enumerate(\n",
                "        zip(\n",
                "            group,\n",
                "            neur_color\n",
                "        )\n",
                "    ):\n",
                "        ax_frate = fig.subplot(gs_frate[i1])\n",
                "        df = frate[(frate[\"grp\"] == grp) & (frate[\"neuron_type\"] == neuron_type)]\n",
                "\n",
                "        mean_frate = df.groupby(\"bins\").mean()\n",
                "        x = mean_frate.index\n",
                "        y = mean_frate.frate.values\n",
                "        err = df.groupby(\"bins\").sem(ddof=0).frate.values\n",
                "        ax_frate.fill_between(\n",
                "            x, y - err, y + err, color=grp_color, alpha=0.3, ec=None, zorder=1\n",
                "        )\n",
                "        ax_frate.plot(x, y, grp_color, lw=1, zorder=2)\n",
                "\n",
                "        ax_frate.set_title(f\"{grp.upper()} sessions\", loc=\"left\")\n",
                "        # baseline=====\n",
                "        df_pre = frate[frate[\"bins\"] < -1]\n",
                "        df_pre_mean = df_pre.groupby(\"bins\").mean().mean().frate\n",
                "        ax_frate.axhline(df_pre_mean, ls=\"--\", color=\"gray\")\n",
                "\n",
                "\n",
                "        light_cycle_span(ax_frate,-4.2,9)\n",
                "        epoch_span(ax_frate)\n",
                "\n",
                "        ax_frate.set_xlabel(\"ZT time (h)\")\n",
                "        ax_frate.set_xlim([-4, 9])\n",
                "\n",
                "        # ax_frate.axvline(0,ls='--',color='gray')\n",
                "        # ax_frate.axvline(5,ls='--',color='gray')\n",
                "\n",
                "        if i1 == 1:\n",
                "            ax_frate.text(2, 0.5, \"SD\", fontsize=8)\n",
                "            ax_frate.text(7, 0.5, \"RS\", fontsize=8)\n",
                "            ax_frate.axvspan(\n",
                "                0, 5, 0.8, 0.85, color=\"#f9951a\", alpha=0.5, zorder=0, ec=None\n",
                "            )\n",
                "            ax_frate.axvspan(\n",
                "                5, 9, 0.8, 0.85, color=\"#f19de9\", alpha=0.5, zorder=0, ec=None\n",
                "            )\n",
                "            ax_frate.set_ylabel(\"Normalized firing rate\")\n",
                "        if i1==0:\n",
                "            fig.panel_label(ax_frate, \"C\")\n",
                "\n",
                "        ax_frate.set_ylim([-1.2, 1.85])\n"
            ]
        },
        {
            "cell_type": "markdown",
            "metadata": {},
            "source": [
                "### frate change from Zt1 to Zt5"
            ]
        },
        {
            "cell_type": "code",
            "execution_count": null,
            "metadata": {},
            "outputs": [],
            "source": [
                "\n",
                "ax_1v5 = fig.subplot(fig.gs[2, 0])\n",
                "# sns.violinplot(\n",
                "#         data=frate_1v5_df, x=\"neuron_type\", y=\"frate\",hue='grp', palette=colors, ax=ax_1v5, size=2.7, saturation=1,split=True,inner=None\n",
                "#     )\n",
                "df = frate_change.replace([np.inf,-np.inf],np.nan)\n",
                "df.dropna(how='all',inplace=True)\n",
                "sns.boxplot(\n",
                "    data=df,\n",
                "    x=\"neuron_type\",\n",
                "    y=\"frate\",\n",
                "    hue=\"grp\",\n",
                "    palette=colors_frate_change,\n",
                "    ax=ax_1v5,\n",
                "    hue_order=group,\n",
                "    width=0.5,\n",
                "    # alpha=0.5,\n",
                "    showfliers=False,\n",
                "    # split=True,\n",
                "    boxprops=dict(edgecolor='none'),\n",
                "    showcaps=False,\n",
                "    medianprops=dict(color='w',lw=2),\n",
                ")\n",
                "\n",
                "ax_1v5.legend('',frameon=False)\n",
                "\n",
                "# df = frate_1v5_df[frate_1v5_df['neuron_type']=='pyr']\n",
                "# sns.histplot(\n",
                "#         data=df, x=\"frate\",hue='grp', palette=colors, ax=ax_1v5,stat='probability',fill=False,common_bins=True,element='step',\n",
                "#     )\n",
                "\n",
                "# ax_1v5.set_yscale('log')\n",
                "ax_1v5.set_ylabel(\"%change from 1st to 5th hour \")\n",
                "fig.panel_label(ax_1v5, \"D\")\n",
                "\n"
            ]
        },
        {
            "cell_type": "markdown",
            "metadata": {},
            "source": [
                "### pre-to-maze quantiles firing rate"
            ]
        },
        {
            "cell_type": "raw",
            "metadata": {},
            "source": [
                "from palettable.colorbrewer.sequential import Oranges_6, Purples_6\n",
                "\n",
                "colors = subjects.colors_sd(1)\n",
                "palette = [Purples_6,Oranges_6]\n",
                "for i, grp in enumerate([\"nsd\", \"sd\"]):\n",
                "    ax_1v5 = fig.subplot(fig.gs[2,i+1])\n",
                "    df = frate_quantiles[(frate_quantiles[\"grp\"] == grp)]\n",
                "    df_shuffled = frate_quantiles_shuffled[(frate_quantiles_shuffled[\"grp\"] == grp)]\n",
                "    sns.lineplot(\n",
                "        data=df_shuffled,\n",
                "        x=\"bins\",\n",
                "        y=\"frate\",\n",
                "        hue=\"quantiles\",\n",
                "        palette=['#ababab']*5,\n",
                "        legend=None,\n",
                "        ax=ax_1v5,\n",
                "        alpha = 0.5,\n",
                "        # estimator = np.nanmean,\n",
                "    )\n",
                "    sns.lineplot(\n",
                "        data=df,\n",
                "        x=\"bins\",\n",
                "        y=\"frate\",\n",
                "        hue=\"quantiles\",\n",
                "        palette=palette[i].hex_colors[1:],\n",
                "        legend=None,\n",
                "        ax=ax_1v5\n",
                "    )   \n",
                "    # ax_1v5.set_yscale('log')\n",
                "    ax_1v5.axhline(1,ls='--',color='gray')\n",
                "    ax_1v5.set_ylim(bottom=0.4,top=1.9)\n",
                "    ax_1v5.set_ylabel('Firing rate ratio')\n",
                "    ax_1v5.set_xlabel('Zt time (h)')\n",
                "    if i==0:\n",
                "        fig.panel_label(ax_1v5,'E')"
            ]
        },
        {
            "cell_type": "raw",
            "metadata": {},
            "source": [
                "%matplotlib widget\n",
                "from palettable.colorbrewer.sequential import Oranges_6, Purples_6\n",
                "\n",
                "\n",
                "\n",
                "\n",
                "# figure.savefig(subjects.figpath_sd / \"figure1\")\n"
            ]
        },
        {
            "cell_type": "code",
            "execution_count": null,
            "metadata": {},
            "outputs": [],
            "source": [
                "# fig.savefig(subjects.figpath_sd/'figure1',caption=caption)"
            ]
        }
    ],
    "metadata": {
        "interpreter": {
            "hash": "7b10c821bc4bd3f433a613d47515e6babc6c2152896bd1e143404cc9d6ede4ad"
        },
        "kernelspec": {
            "display_name": "Python 3.9.6 64-bit ('data_analysis': conda)",
            "name": "python3"
        },
        "language_info": {
            "codemirror_mode": {
                "name": "ipython",
                "version": 3
            },
            "file_extension": ".py",
            "mimetype": "text/x-python",
            "name": "python",
            "nbconvert_exporter": "python",
            "pygments_lexer": "ipython3",
            "version": "3.9.9"
        },
        "orig_nbformat": 4
    },
    "nbformat": 4,
    "nbformat_minor": 2
}
