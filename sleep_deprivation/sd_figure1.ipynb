{
    "cells": [
        {
            "cell_type": "markdown",
            "metadata": {},
            "source": [
                "### Figure 1\n",
                "- schematic\n",
                "- spectrogram for NSD and SD\n",
                "- percentage sleep fraction during first 5h of POST for both SD and NSD sessions\n"
            ]
        },
        {
            "cell_type": "code",
            "execution_count": 349,
            "metadata": {},
            "outputs": [
                {
                    "data": {
                        "application/vnd.jupyter.widget-view+json": {
                            "model_id": "186e5f3a69d04834b8424da7d4046045",
                            "version_major": 2,
                            "version_minor": 0
                        },
                        "image/png": "[encoded data removed]",
                        "text/html": [
                            "\n",
                            "            <div style=\"display: inline-block;\">\n",
                            "                <div class=\"jupyter-widgets widget-label\" style=\"text-align: center;\">\n",
                            "                    Figure\n",
                            "                </div>\n",
                            "                <img src='data:image/png;base64,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' width=850.0/>\n",
                            "            </div>\n",
                            "        "
                        ],
                        "text/plain": [
                            "Canvas(toolbar=Toolbar(toolitems=[('Home', 'Reset original view', 'home', 'home'), ('Back', 'Back to previous …"
                        ]
                    },
                    "metadata": {},
                    "output_type": "display_data"
                }
            ],
            "source": [
                "import matplotlib.pyplot as plt\n",
                "import numpy as np\n",
                "import subjects\n",
                "from plotters import violinplot\n",
                "import pandas as pd\n",
                "import seaborn as sns\n",
                "from neuropy.plotting import Fig\n",
                "from scipy import stats\n",
                "from subjects import (\n",
                "    light_cycle_span,\n",
                "    sns_boxplot_kw,\n",
                "    stat_kw,\n",
                "    sns_violin_kw,\n",
                "    epoch_span,\n",
                ")\n",
                "\n",
                "grpdata = subjects.GroupData()\n",
                "group = [\"NSD\", \"SD\"]\n",
                "\n",
                "# SWA\n",
                "swa, swa_time, swa_states = grpdata.swa_examples.values()\n",
                "# brainstates\n",
                "states = grpdata.brainstates_proportion\n",
                "\n",
                "# frate\n",
                "frate = grpdata.frate_ratio_nsd_vs_sd\n",
                "frate_chunks = grpdata.frate_post_chunks\n",
                "frate_change = grpdata.frate_change_pre_to_post\n",
                "colors_frate_change = subjects.colors_sd()\n",
                "\n",
                "frate_quantiles = grpdata.frate_pre_to_maze_quantiles_in_POST\n",
                "# frate_quantiles_shuffled= grpdata.frate_pre_to_maze_quantiles_in_POST_shuffled\n",
                "\n",
                "plt.close()\n",
                "fig = Fig(grid=(7, 8), fontsize=7, constrained_layout=False, hspace=0.3)\n",
                "\n",
                "filename = subjects.figpath_sd / \"figure1\""
            ]
        },
        {
            "cell_type": "markdown",
            "metadata": {},
            "source": [
                "### SWA"
            ]
        },
        {
            "cell_type": "code",
            "execution_count": 350,
            "metadata": {},
            "outputs": [],
            "source": [
                "from neuropy.plotting import plot_epochs\n",
                "\n",
                "subfig = fig.fig.add_subfigure(fig.gs[:2, :2])\n",
                "axs = subfig.subplots(4, 1,sharex=True, gridspec_kw=dict(height_ratios=[1, 4,1,4]))\n",
                "# axs[0].plot([1,2,3],[1,2,3])\n",
                "# axs = axs.reshape(2, 2).T\n",
                "for i in range(2):\n",
                "    time = swa_time[i]\n",
                "\n",
                "    ax = axs[2*i]\n",
                "    plot_epochs(\n",
                "        swa_states[i],\n",
                "        ax=ax,\n",
                "        labels_order=[\"nrem\", \"rem\", \"quiet\", \"active\"],\n",
                "        colors=subjects.colors_sleep_old,\n",
                "    )\n",
                "    # axs[0,i].set_xlim(time[0],time[-1])\n",
                "    ax.set_xlim(0,8*3600)\n",
                "    ax.axis(\"off\")\n",
                "\n",
                "    ax = axs[2*i+1]\n",
                "    ax.plot(time, swa[i],color=subjects.colors_sd(0.9)[i],lw=1)\n",
                "    # axs[1, i].step(time, swa[i],color=subjects.colors_sd(1.4)[i])\n",
                "    # axs[1, i].fill_between(time, swa[i],color=subjects.colors_sd(1.4)[i],alpha=0.5)\n",
                "    # axs[1, i].fill_between(time, swa[i],ec=subjects.colors_sd(1.5)[i],color=subjects.colors_sd(1.5)[i],alpha=0.6)\n",
                "    ax.set_xlim(0,8*3600)\n",
                "    ax.set_ylim(0,0.35)\n",
                "    # if i ==0:\n",
                "    #     axs[1,i].set_xticks([])\n",
                "    # if i==1:\n",
                "    xticks = np.arange(0,8,2)*3600+ time[0] \n",
                "    ax.set_xticks(xticks, np.arange(0,8,2))\n",
                "    ax.set_xlabel('Zt time (h)')\n",
                "    ax.set_ylabel('SWA (m$V^2$/Hz)')\n"
            ]
        },
        {
            "cell_type": "markdown",
            "metadata": {},
            "source": [
                "### firing rate ratio across session"
            ]
        },
        {
            "cell_type": "code",
            "execution_count": 351,
            "metadata": {},
            "outputs": [],
            "source": [
                "neuron_colors = [\"#f32f74ff\", \"#5644a4ff\"]\n",
                "# neuron_colors = [\"#C460DC\", \"#78DC60\"]\n",
                "# neuron_colors = [subjects.colors_sd(1), subjects.colors_sd(1)]\n",
                "subfig = fig.fig.add_subfigure(fig.gs[:2, 2:5])\n",
                "axs = subfig.subplots(2, 1,sharex=True,sharey=True)\n",
                "for i1, grp in enumerate(group):\n",
                "\n",
                "    ax_inter = axs[i1]\n",
                "    ax_inter.set_xlabel(\"ZT time (h)\")\n",
                "    ax_inter.set_ylabel(\"IN firing rate (Hz)\")\n",
                "    ax_inter.set_xlim([-3.5, 8])\n",
                "    epoch_span(ax_inter,grp)\n",
                "\n",
                "    ax_pyr = ax_inter.twinx()\n",
                "    ax_pyr.set_ylim([0.4, 1.4])\n",
                "    ax_pyr.set_yticks([0.5, 0.8,1.1])\n",
                "    ax_pyr.set_ylabel(\"PN firing rate (Hz)\")\n",
                "    fig.toggle_spines(ax_pyr,['right'],True)\n",
                "\n",
                "    for i, (neuron_type, ax) in enumerate(zip([\"pyr\", \"inter\"], [ax_pyr, ax_inter])):\n",
                "        # ls = \"--\" if neuron_type == \"inter\" else \"-\"\n",
                "        marker = \"o\" if neuron_type == \"inter\" else \"o\"\n",
                "\n",
                "        indx = (frate[\"grp\"] == grp) & (frate[\"neuron_type\"] == neuron_type)\n",
                "        df = frate[indx].groupby(\"zt\")\n",
                "\n",
                "        # color = subjects.colors_sd(0.7)[i1]\n",
                "        color = neuron_colors[i]\n",
                "\n",
                "        y = df.mean().frate\n",
                "        x = y.index\n",
                "        err = df.sem(ddof=0).frate.values\n",
                "        ax.fill_between(\n",
                "            x, y - err, y + err, color=color, alpha=0.3, ec=None, zorder=1\n",
                "        )\n",
                "        ax.plot(x, y, color=color, lw=1, zorder=2, markersize=2)\n",
                "\n",
                "        # baseline=====\n",
                "        # ax.axhline(100, ls=\"--\", color=\"#4d7ff5\")\n",
                "\n",
                "        light_cycle_span(ax, -3.5, 8)\n",
                "        # epoch_span(ax)\n",
                "\n",
                "\n",
                "        # ax_frate.set_ylim([-1.2, 1.7])\n"
            ]
        },
        {
            "cell_type": "markdown",
            "metadata": {},
            "source": [
                "### Firing rate in 2.5 hour windows"
            ]
        },
        {
            "cell_type": "code",
            "execution_count": 352,
            "metadata": {},
            "outputs": [
                {
                    "name": "stdout",
                    "output_type": "stream",
                    "text": [
                        "p-value annotation legend:\n",
                        "      ns: p <= 1.00e+00\n",
                        "       *: 1.00e-02 < p <= 5.00e-02\n",
                        "      **: 1.00e-03 < p <= 1.00e-02\n",
                        "     ***: 1.00e-04 < p <= 1.00e-03\n",
                        "    ****: p <= 1.00e-04\n",
                        "\n",
                        "PRE_NSD vs. 0-2.5_NSD: Wilcoxon test (paired samples), P_val:2.012e-03 Stat=3.707e+04\n",
                        "PRE_SD vs. 0-2.5_SD: Wilcoxon test (paired samples), P_val:3.517e-04 Stat=1.859e+04\n",
                        "PRE_NSD vs. 2.5-5_NSD: Wilcoxon test (paired samples), P_val:2.225e-01 Stat=4.177e+04\n",
                        "PRE_SD vs. 2.5-5_SD: Wilcoxon test (paired samples), P_val:1.202e-05 Stat=1.731e+04\n",
                        "PRE_NSD vs. 5-7.5_NSD: Wilcoxon test (paired samples), P_val:8.192e-01 Stat=4.426e+04\n",
                        "PRE_SD vs. 5-7.5_SD: Wilcoxon test (paired samples), P_val:8.788e-01 Stat=2.402e+04\n",
                        "p-value annotation legend:\n",
                        "      ns: p <= 1.00e+00\n",
                        "       *: 1.00e-02 < p <= 5.00e-02\n",
                        "      **: 1.00e-03 < p <= 1.00e-02\n",
                        "     ***: 1.00e-04 < p <= 1.00e-03\n",
                        "    ****: p <= 1.00e-04\n",
                        "\n",
                        "PRE_NSD vs. 0-2.5_NSD: Wilcoxon test (paired samples), P_val:1.721e-01 Stat=3.780e+02\n",
                        "PRE_SD vs. 0-2.5_SD: Wilcoxon test (paired samples), P_val:5.256e-02 Stat=3.990e+02\n",
                        "PRE_NSD vs. 2.5-5_NSD: Wilcoxon test (paired samples), P_val:4.229e-02 Stat=3.210e+02\n",
                        "PRE_SD vs. 2.5-5_SD: Wilcoxon test (paired samples), P_val:3.198e-01 Stat=4.910e+02\n",
                        "PRE_NSD vs. 5-7.5_NSD: Wilcoxon test (paired samples), P_val:1.179e-01 Stat=3.610e+02\n",
                        "PRE_SD vs. 5-7.5_SD: Wilcoxon test (paired samples), P_val:2.174e-05 Stat=1.740e+02\n"
                    ]
                },
                {
                    "name": "stderr",
                    "output_type": "stream",
                    "text": [
                        "/home/bapung/miniconda3/envs/data_analysis/lib/python3.10/site-packages/statannotations/_Plotter.py:337: UserWarning: Invalid x-position found. Are the same parameters passed to seaborn and statannotations calls? or are there few data points?\n",
                        "  warnings.warn(\n",
                        "/home/bapung/miniconda3/envs/data_analysis/lib/python3.10/site-packages/statannotations/_Plotter.py:337: UserWarning: Invalid x-position found. Are the same parameters passed to seaborn and statannotations calls? or are there few data points?\n",
                        "  warnings.warn(\n",
                        "/home/bapung/miniconda3/envs/data_analysis/lib/python3.10/site-packages/statannotations/_Plotter.py:337: UserWarning: Invalid x-position found. Are the same parameters passed to seaborn and statannotations calls? or are there few data points?\n",
                        "  warnings.warn(\n",
                        "/home/bapung/miniconda3/envs/data_analysis/lib/python3.10/site-packages/statannotations/_Plotter.py:337: UserWarning: Invalid x-position found. Are the same parameters passed to seaborn and statannotations calls? or are there few data points?\n",
                        "  warnings.warn(\n"
                    ]
                }
            ],
            "source": [
                "from matplotlib import ticker\n",
                "from statannotations.Annotator import Annotator\n",
                "\n",
                "# ax1 = fig.subplot(fig.gs[3, :2])\n",
                "# ax2 = fig.subplot(fig.gs[3, 2:4], sharey=ax1)\n",
                "# axs = [ax1, ax2]\n",
                "# subfig = fig.add_subfigure(fig.gs[3,2:5])\n",
                "gs_ = fig.subplot2grid(fig.gs[3,:5],grid=(1,6))\n",
                "ax1 = fig.subplot(gs_[:2])\n",
                "ax2 = fig.subplot(gs_[2:4],sharey=ax1)\n",
                "axs=[ax1,ax2]\n",
                "frate_chunks[\"frate_log\"] = np.log10(frate_chunks[\"frate\"])\n",
                "for i, n in enumerate([\"pyr\", \"inter\"]):\n",
                "    df = frate_chunks[frate_chunks[\"neuron_type\"] == n]\n",
                "\n",
                "    # ax = fig.subplot(fig.gs[0, i + 4])\n",
                "    ax = axs[i]\n",
                "    plot_kw = dict(data=df, x=\"zt\", y=\"frate_log\", hue=\"grp\", hue_order=group, ax=ax)\n",
                "    ax=violinplot(**plot_kw)\n",
                "    # sns.stripplot(**plot_kw,dodge=True,s=3)\n",
                "    # ax.set_yscale('log')\n",
                "    ax.set_ylabel('')\n",
                "    ax.set_xlabel('')\n",
                "    ax.legend(\"\", frameon=False)\n",
                "    if i==0:\n",
                "        ax.set_ylabel(\"Firing rate (Hz)\")\n",
                "    ax.tick_params(\"x\", labelrotation=30)\n",
                "    ax.set_ylim(-3, 4)\n",
                "\n",
                "    if i==0:\n",
                "        ax.set_yticks([-2, 0, 2])\n",
                "        ax.yaxis.set_major_formatter(ticker.StrMethodFormatter(\"$10^{{{x:.0f}}}$\"))\n",
                "\n",
                "    # stats\n",
                "    orders = df.zt.unique()\n",
                "    # pairs = [((_, \"NSD\"), (_, \"SD\")) for _ in orders]\n",
                "    # annotator = Annotator(pairs=pairs, order=orders, **plot_kw)\n",
                "    # annotator.configure(test=\"t-test_welch\", **stat_kw)\n",
                "    # annotator.apply_and_annotate()\n",
                "    # annotator.reset_configuration()\n",
                "\n",
                "    # paired test in SD\n",
                "    # pairs = [((orders[i], g), (orders[i + 1], g)) for g in group for i in range(3)]\n",
                "    pairs = [((orders[0], g), (orders[i], g)) for g in group for i in range(1,4)]\n",
                "\n",
                "    # pairs = [\n",
                "    #     ((\"0-2.5\", \"NSD\"), (\"2.5-5\", \"NSD\")),\n",
                "    #     ((\"0-2.5\", \"SD\"), (\"2.5-5\", \"SD\")),\n",
                "    # ]\n",
                "\n",
                "    annotator = Annotator(pairs=pairs, order=orders, **plot_kw)\n",
                "    annotator.configure(test=\"Wilcoxon\", **stat_kw)\n",
                "    annotator.apply_and_annotate()\n",
                "    annotator.reset_configuration()\n"
            ]
        },
        {
            "cell_type": "markdown",
            "metadata": {},
            "source": [
                "### coefficient of variation"
            ]
        },
        {
            "cell_type": "raw",
            "metadata": {},
            "source": [
                "from statannotations.Annotator import Annotator\n",
                "\n",
                "ax1 = fig.subplot(fig.gs[3, 4])\n",
                "ax2 = fig.subplot(fig.gs[3, 5], sharey=ax1)\n",
                "axs = [ax1, ax2]\n",
                "\n",
                "\n",
                "for i, n in enumerate([\"pyr\", \"inter\"]):\n",
                "    ax = axs[i]\n",
                "    ax.tick_params(\"x\", labelrotation=30)\n",
                "    ax.set_ylim(0.2,2)\n",
                "    for g, grp in enumerate([\"NSD\", \"SD\"]):\n",
                "        df = frate_chunks[\n",
                "            (frate_chunks[\"neuron_type\"] == n) & (frate_chunks[\"grp\"] == grp)\n",
                "        ].groupby(\"zt\")\n",
                "        std = df.std().frate\n",
                "        mean_all = df.mean().mean().frate\n",
                "        plot_kw = dict(\n",
                "            data=df, x=\"zt\", y=\"frate_log\", hue=\"grp\", hue_order=group, ax=ax\n",
                "        )\n",
                "        ax.plot(std.index, std / mean_all,color=subjects.colors_sd(1)[g])\n"
            ]
        },
        {
            "cell_type": "markdown",
            "metadata": {},
            "source": [
                "### E/I ratio"
            ]
        },
        {
            "cell_type": "code",
            "execution_count": 353,
            "metadata": {},
            "outputs": [
                {
                    "data": {
                        "text/plain": [
                            "Text(0, 0.5, 'E/I ratio')"
                        ]
                    },
                    "execution_count": 353,
                    "metadata": {},
                    "output_type": "execute_result"
                }
            ],
            "source": [
                "# ax = fig.subplot(fig.gs[3,:2])\n",
                "subfig = fig.fig.add_subfigure(fig.gs[4, 3])\n",
                "axs = subfig.subplots(1, 1, sharey=True)\n",
                "ax = axs\n",
                "\n",
                "frate_change = frate_change[frate_change.zt!='PRE']\n",
                "t = frate_change[\"zt\"].unique()\n",
                "for g, grp in enumerate(group):\n",
                "    df = (\n",
                "        frate_change[frate_change[\"grp\"] == grp]\n",
                "        .groupby([\"neuron_type\", \"zt\"], sort=False)\n",
                "        .mean()\n",
                "    )\n",
                "    ei_ratio = df.loc[\"pyr\"].frate_change / df.loc[\"inter\"].frate_change\n",
                "\n",
                "    ax.plot(ei_ratio, color=subjects.colors_sd(0.9)[g],marker='o',markersize=4)\n",
                "\n",
                "ax.set_ylim([0.5,2.5])\n",
                "ax.set_xlim([-0.5,2.5])\n",
                "ax.tick_params(\"x\", labelrotation=30)\n",
                "\n",
                "# light_cycle_span(ax, -3.5, 8)\n",
                "# ax.set_xticks(np.arange(-2,10,2))\n",
                "ax.axhline(1, ls=\"--\", color=\"#4d7ff5\")\n",
                "ax.set_xlabel(\"Zt time (h)\")\n",
                "ax.set_ylabel(\"E/I ratio\")\n"
            ]
        },
        {
            "cell_type": "markdown",
            "metadata": {},
            "source": [
                "### saving"
            ]
        },
        {
            "cell_type": "code",
            "execution_count": 354,
            "metadata": {},
            "outputs": [
                {
                    "name": "stderr",
                    "output_type": "stream",
                    "text": [
                        "meta NOT subset; don't know how to subset; dropped\n"
                    ]
                }
            ],
            "source": [
                "fig.savefig(filename)"
            ]
        }
    ],
    "metadata": {
        "interpreter": {
            "hash": "cce1618081139d19eb1ee8d40815d94a2de4f62e1efb20d9406ddb60628c36ae"
        },
        "kernelspec": {
            "display_name": "Python 3.10.4 ('data_analysis')",
            "language": "python",
            "name": "python3"
        },
        "language_info": {
            "codemirror_mode": {
                "name": "ipython",
                "version": 3
            },
            "file_extension": ".py",
            "mimetype": "text/x-python",
            "name": "python",
            "nbconvert_exporter": "python",
            "pygments_lexer": "ipython3",
            "version": "3.10.4"
        },
        "orig_nbformat": 4
    },
    "nbformat": 4,
    "nbformat_minor": 2
}
