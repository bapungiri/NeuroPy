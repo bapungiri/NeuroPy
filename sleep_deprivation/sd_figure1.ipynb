{
    "cells": [
        {
            "cell_type": "markdown",
            "metadata": {},
            "source": [
                "### Figure 1\n",
                "- schematic\n",
                "- spectrogram for NSD and SD\n",
                "- percentage sleep fraction during first 5h of POST for both SD and NSD sessions\n"
            ]
        },
        {
            "cell_type": "code",
            "execution_count": 85,
            "metadata": {},
            "outputs": [
                {
                    "data": {
                        "application/vnd.jupyter.widget-view+json": {
                            "model_id": "ec6a0cee396943b4a56c9c72dd567005",
                            "version_major": 2,
                            "version_minor": 0
                        },
                        "image/png": "[encoded data removed]",
                        "text/html": [
                            "\n",
                            "            <div style=\"display: inline-block;\">\n",
                            "                <div class=\"jupyter-widgets widget-label\" style=\"text-align: center;\">\n",
                            "                    Figure\n",
                            "                </div>\n",
                            "                <img src='data:image/png;base64,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' width=850.0/>\n",
                            "            </div>\n",
                            "        "
                        ],
                        "text/plain": [
                            "Canvas(toolbar=Toolbar(toolitems=[('Home', 'Reset original view', 'home', 'home'), ('Back', 'Back to previous …"
                        ]
                    },
                    "metadata": {},
                    "output_type": "display_data"
                }
            ],
            "source": [
                "import matplotlib.pyplot as plt\n",
                "import numpy as np\n",
                "import subjects\n",
                "import pandas as pd\n",
                "import seaborn as sns\n",
                "from neuropy.plotting import Fig\n",
                "from scipy import stats\n",
                "from subjects import light_cycle_span,sns_boxplot_kw, stat_kw\n",
                "\n",
                "grpdata = subjects.GroupData()\n",
                "group = [\"NSD\", \"SD\"]\n",
                "\n",
                "#SWA\n",
                "swa,swa_time,swa_states = grpdata.swa_examples.values()\n",
                "# brainstates \n",
                "states = grpdata.brainstates_proportion\n",
                "\n",
                "#frate\n",
                "frate = grpdata.frate_ratio_nsd_vs_sd\n",
                "frate_inter = grpdata.frate_interneuron_around_Zt5\n",
                "frate_change = grpdata.frate_change_1vs5\n",
                "frate_change_pre_post = grpdata.frate_change_pre_to_post\n",
                "colors_frate_change = subjects.colors_sd()\n",
                "\n",
                "frate_quantiles = grpdata.frate_pre_to_maze_quantiles_in_POST\n",
                "# frate_quantiles_shuffled= grpdata.frate_pre_to_maze_quantiles_in_POST_shuffled\n",
                "\n",
                "# plt.clf()\n",
                "fig = Fig(grid=(8,8),fontsize=7)\n",
                "\n",
                "filename = subjects.figpath_sd / \"figure1\""
            ]
        },
        {
            "cell_type": "markdown",
            "metadata": {},
            "source": [
                "### SWA"
            ]
        },
        {
            "cell_type": "code",
            "execution_count": 86,
            "metadata": {},
            "outputs": [],
            "source": [
                "from neuropy.plotting import plot_epochs\n",
                "\n",
                "subfig = fig.fig.add_subfigure(fig.gs[0, :4])\n",
                "axs = subfig.subplots(2, 2,sharey=True, gridspec_kw=dict(height_ratios=[1, 4]))\n",
                "# axs[0].plot([1,2,3],[1,2,3])\n",
                "# axs = axs.reshape(2, 2).T\n",
                "for i in range(2):\n",
                "    time = swa_time[i]\n",
                "\n",
                "    plot_epochs(\n",
                "        swa_states[i],\n",
                "        ax=axs[0, i],\n",
                "        labels_order=[\"nrem\", \"rem\", \"quiet\", \"active\"],\n",
                "        colors=subjects.colors_sleep_old,\n",
                "    )\n",
                "    # axs[0,i].set_xlim(time[0],time[-1])\n",
                "    axs[0,i].set_xlim(0,8*3600)\n",
                "    axs[0, i].axis(\"off\")\n",
                "\n",
                "    axs[1, i].plot(time, swa[i],color=subjects.colors_sd(0.9)[i],lw=1)\n",
                "    # axs[1, i].step(time, swa[i],color=subjects.colors_sd(1.4)[i])\n",
                "    # axs[1, i].fill_between(time, swa[i],color=subjects.colors_sd(1.4)[i],alpha=0.5)\n",
                "    # axs[1, i].fill_between(time, swa[i],ec=subjects.colors_sd(1.5)[i],color=subjects.colors_sd(1.5)[i],alpha=0.6)\n",
                "    axs[1,i].set_xlim(0,8*3600)\n",
                "    axs[1,i].set_ylim(0,0.35)\n",
                "    # if i ==0:\n",
                "    #     axs[1,i].set_xticks([])\n",
                "    # if i==1:\n",
                "    xticks = np.arange(0,8,2)*3600+ time[0] \n",
                "    axs[1, i].set_xticks(xticks, np.arange(0,8,2))\n",
                "    axs[1, i].set_xlabel('Zt time (h)')\n",
                "    axs[1, i].set_ylabel('SWA (m$V^2$/Hz)')\n"
            ]
        },
        {
            "cell_type": "markdown",
            "metadata": {},
            "source": [
                "### firing rate ratio across session"
            ]
        },
        {
            "cell_type": "code",
            "execution_count": 87,
            "metadata": {},
            "outputs": [],
            "source": [
                "# neuron_colors = [\"#f52e14\", \"#0a8a46\"]\n",
                "neuron_colors = [subjects.colors_sd(1), subjects.colors_sd(1)]\n",
                "subfig = fig.fig.add_subfigure(fig.gs[2, :5])\n",
                "axs = subfig.subplots(1, 2, sharex=True, sharey=True)\n",
                "for i, neuron_type in enumerate([\"pyr\", \"inter\"]):\n",
                "    ls = \"--\" if neuron_type == \"inter\" else \"-\"\n",
                "    neur_color = neuron_colors[i]\n",
                "\n",
                "    for i1, grp in enumerate(group):\n",
                "        ax_frate = axs[i1]\n",
                "        df = frate[\n",
                "            (frate[\"grp\"] == grp) & (frate[\"neuron_type\"] == neuron_type)\n",
                "        ].groupby(\"zt\")\n",
                "\n",
                "        color = subjects.colors_sd(0.8)[i1]\n",
                "\n",
                "        y = df.mean().frate_ratio_perc\n",
                "        x = y.index\n",
                "        err = df.sem(ddof=0).frate_ratio_perc.values\n",
                "        ax_frate.fill_between(\n",
                "            x, y - err, y + err, color=color, alpha=0.3, ec=None, zorder=1\n",
                "        )\n",
                "        ax_frate.plot(x, y, color=color, lw=1, zorder=2, ls=ls)\n",
                "\n",
                "        # baseline=====\n",
                "        ax_frate.axhline(100, ls=\"--\", color=\"#4d7ff5\")\n",
                "\n",
                "        light_cycle_span(ax_frate, -3.5, 8)\n",
                "        # epoch_span(ax_frate)\n",
                "\n",
                "        ax_frate.set_xlabel(\"ZT time (h)\")\n",
                "        ax_frate.set_xlim([-3.5, 8])\n",
                "\n",
                "        # ax_frate.set_ylim([-1.2, 1.7])\n"
            ]
        },
        {
            "cell_type": "markdown",
            "metadata": {},
            "source": [
                "### E/I ratio"
            ]
        },
        {
            "cell_type": "code",
            "execution_count": 88,
            "metadata": {},
            "outputs": [
                {
                    "data": {
                        "text/plain": [
                            "Text(0.5, 0, 'Zt time (h)')"
                        ]
                    },
                    "execution_count": 88,
                    "metadata": {},
                    "output_type": "execute_result"
                }
            ],
            "source": [
                "# ax = fig.subplot(fig.gs[3,:2])\n",
                "subfig = fig.fig.add_subfigure(fig.gs[3, :5])\n",
                "axs = subfig.subplots(1,2,sharey=True)\n",
                "ax = axs[0]\n",
                "\n",
                "t = frate['zt'].unique()\n",
                "for g, grp in enumerate(group):\n",
                "    df = frate[frate['grp']==grp].groupby(['neuron_type','zt']).mean()\n",
                "    ei_ratio = df.loc['pyr'].frate_ratio_perc/df.loc['inter'].frate_ratio_perc \n",
                "\n",
                "    ax.plot(t,ei_ratio,color=subjects.colors_sd(0.9)[g])\n",
                "\n",
                "ax.set_xlim([-3.5,8])\n",
                "light_cycle_span(ax, -3.5, 8)\n",
                "ax.set_xticks(np.arange(-2,10,2))\n",
                "ax.axhline(1, ls=\"--\", color=\"#4d7ff5\")\n",
                "ax.set_xlabel('Zt time (h)')"
            ]
        },
        {
            "cell_type": "markdown",
            "metadata": {},
            "source": [
                "### Quantify ratio from PRE(baseline) to POST"
            ]
        },
        {
            "cell_type": "code",
            "execution_count": 89,
            "metadata": {},
            "outputs": [
                {
                    "name": "stdout",
                    "output_type": "stream",
                    "text": [
                        "p-value annotation legend:\n",
                        "      ns: p <= 1.00e+00\n",
                        "       *: 1.00e-02 < p <= 5.00e-02\n",
                        "      **: 1.00e-03 < p <= 1.00e-02\n",
                        "     ***: 1.00e-04 < p <= 1.00e-03\n",
                        "    ****: p <= 1.00e-04\n",
                        "\n",
                        "2.5-5_NSD vs. 2.5-5_SD: t-test independent samples, P_val:1.108e-01 t=-1.597e+00\n",
                        "0-2.5_NSD vs. 0-2.5_SD: t-test independent samples, P_val:4.065e-01 t=8.305e-01\n",
                        "5-7.5_NSD vs. 5-7.5_SD: t-test independent samples, P_val:7.800e-02 t=-1.765e+00\n",
                        "p-value annotation legend:\n",
                        "      ns: p <= 1.00e+00\n",
                        "       *: 1.00e-02 < p <= 5.00e-02\n",
                        "      **: 1.00e-03 < p <= 1.00e-02\n",
                        "     ***: 1.00e-04 < p <= 1.00e-03\n",
                        "    ****: p <= 1.00e-04\n",
                        "\n",
                        "0-2.5_NSD vs. 2.5-5_NSD: t-test paired samples, P_val:2.487e-01 t=1.155e+00\n",
                        "0-2.5_SD vs. 2.5-5_SD: t-test paired samples, P_val:2.987e-03 t=-2.993e+00\n",
                        "NSD 0-2.5 2.2502639288956064e-14\n",
                        "NSD 2.5-5 1.301176287052574e-13\n",
                        "NSD 5-7.5 1.2508338491104065e-11\n",
                        "SD 0-2.5 1.7194269173971917e-10\n",
                        "SD 2.5-5 3.387647502270559e-11\n",
                        "SD 5-7.5 3.3054449628341873e-06\n",
                        "p-value annotation legend:\n",
                        "      ns: p <= 1.00e+00\n",
                        "       *: 1.00e-02 < p <= 5.00e-02\n",
                        "      **: 1.00e-03 < p <= 1.00e-02\n",
                        "     ***: 1.00e-04 < p <= 1.00e-03\n",
                        "    ****: p <= 1.00e-04\n",
                        "\n",
                        "2.5-5_NSD vs. 2.5-5_SD: t-test independent samples, P_val:1.142e-01 t=-1.595e+00\n",
                        "0-2.5_NSD vs. 0-2.5_SD: t-test independent samples, P_val:7.141e-02 t=-1.824e+00\n",
                        "5-7.5_NSD vs. 5-7.5_SD: t-test independent samples, P_val:7.847e-03 t=2.719e+00\n",
                        "p-value annotation legend:\n",
                        "      ns: p <= 1.00e+00\n",
                        "       *: 1.00e-02 < p <= 5.00e-02\n",
                        "      **: 1.00e-03 < p <= 1.00e-02\n",
                        "     ***: 1.00e-04 < p <= 1.00e-03\n",
                        "    ****: p <= 1.00e-04\n",
                        "\n",
                        "0-2.5_NSD vs. 2.5-5_NSD: t-test paired samples, P_val:8.843e-01 t=1.463e-01\n",
                        "0-2.5_SD vs. 2.5-5_SD: t-test paired samples, P_val:9.389e-01 t=7.709e-02\n",
                        "NSD 0-2.5 0.955499547654384\n",
                        "NSD 2.5-5 0.9586264123687753\n",
                        "NSD 5-7.5 0.6728935313295696\n",
                        "SD 0-2.5 0.020935747938394762\n",
                        "SD 2.5-5 0.04604385699745765\n",
                        "SD 5-7.5 8.989289875130523e-05\n"
                    ]
                }
            ],
            "source": [
                "from statannotations.Annotator import Annotator\n",
                "\n",
                "for i, n in enumerate([\"pyr\", \"inter\"]):\n",
                "    df = frate_change_pre_post[frate_change_pre_post[\"neuron_type\"] == n]\n",
                "\n",
                "    ax = fig.subplot(fig.gs[0, i + 4])\n",
                "    plot_kw = dict(data=df, x=\"zt\", y=\"frate_ratio\", hue=\"grp\", hue_order=group, ax=ax)\n",
                "    sns.boxplot(**plot_kw, **sns_boxplot_kw)\n",
                "    # sns.stripplot(**plot_kw,dodge=True,s=3)\n",
                "    # ax.set_yscale('log')\n",
                "    ax.legend(\"\", frameon=False)\n",
                "    ax.set_ylabel(\"\")\n",
                "    ax.set_xlabel(\"\")\n",
                "    ax.tick_params(\"x\", labelrotation=30)\n",
                "\n",
                "    # stats\n",
                "    stat_kw['verbose']=True\n",
                "    orders = df.zt.unique()\n",
                "    pairs = [((_, \"NSD\"), (_, \"SD\")) for _ in orders]\n",
                "    annotator = Annotator(pairs=pairs, order=orders, **plot_kw)\n",
                "    annotator.configure(test=\"t-test_ind\", **stat_kw)\n",
                "    annotator.apply_and_annotate()\n",
                "    annotator.reset_configuration()\n",
                "\n",
                "    # paired test in SD\n",
                "    pairs = [(('0-2.5', \"NSD\"), ('2.5-5', \"NSD\")),(('0-2.5', \"SD\"), ('2.5-5', \"SD\"))]\n",
                "    annotator = Annotator(pairs=pairs, order=orders, **plot_kw)\n",
                "    annotator.configure(test=\"t-test_paired\", **stat_kw)\n",
                "    annotator.apply_and_annotate()\n",
                "    annotator.reset_configuration()\n",
                "\n",
                "\n",
                "    # stats against baseline\n",
                "    for g,grp in enumerate(group):\n",
                "        for t in orders:\n",
                "            vals = df[(df.grp==grp)&(df.zt==t)].frate_ratio.values\n",
                "            ttest = stats.ttest_1samp(vals,100,alternative='two-sided')\n",
                "            print(grp,t,ttest.pvalue)\n",
                "\n",
                "\n",
                "    ax.set_ylim(0, 500)"
            ]
        },
        {
            "cell_type": "markdown",
            "metadata": {},
            "source": [
                "### saving"
            ]
        },
        {
            "cell_type": "code",
            "execution_count": 90,
            "metadata": {},
            "outputs": [],
            "source": [
                "# fig.savefig(filename)"
            ]
        }
    ],
    "metadata": {
        "interpreter": {
            "hash": "cce1618081139d19eb1ee8d40815d94a2de4f62e1efb20d9406ddb60628c36ae"
        },
        "kernelspec": {
            "display_name": "Python 3.10.4 ('data_analysis')",
            "language": "python",
            "name": "python3"
        },
        "language_info": {
            "codemirror_mode": {
                "name": "ipython",
                "version": 3
            },
            "file_extension": ".py",
            "mimetype": "text/x-python",
            "name": "python",
            "nbconvert_exporter": "python",
            "pygments_lexer": "ipython3",
            "version": "3.10.4"
        },
        "orig_nbformat": 4
    },
    "nbformat": 4,
    "nbformat_minor": 2
}
