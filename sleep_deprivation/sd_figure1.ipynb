{
    "cells": [
        {
            "cell_type": "markdown",
            "metadata": {},
            "source": [
                "### Figure 1\n",
                "- schematic\n",
                "- spectrogram for NSD and SD\n",
                "- percentage sleep fraction during first 5h of POST for both SD and NSD sessions\n"
            ]
        },
        {
            "cell_type": "code",
            "execution_count": null,
            "metadata": {},
            "outputs": [],
            "source": [
                "import matplotlib.pyplot as plt\n",
                "import numpy as np\n",
                "import subjects\n",
                "import pandas as pd\n",
                "import seaborn as sns\n",
                "from neuropy.plotting import Fig\n",
                "from scipy import stats\n",
                "from subjects import epoch_span,boxplot_kw, light_cycle_span,boxplot_kw\n",
                "from neuropy.plotting.dataviz import boxplot\n",
                "\n",
                "plt.rcParams[\"font.family\"] = \"cursive\"\n",
                "grpdata = subjects.GroupData()\n",
                "group = [\"NSD\", \"SD\"]\n",
                "\n",
                "#SWA\n",
                "swa,swa_time,swa_states = grpdata.swa_examples.values()\n",
                "# brainstates \n",
                "states = grpdata.brainstates_proportion\n",
                "\n",
                "#frate\n",
                "frate_ratio = grpdata.frate_ratio_nsd_vs_sd\n",
                "frate = grpdata.frate_zscore\n",
                "frate = frate[frate.bins> -4]\n",
                "frate_inter = grpdata.frate_interneuron_around_Zt5\n",
                "frate_change = grpdata.frate_change_1vs5\n",
                "frate_change_pre_post = grpdata.frate_change_pre_to_post\n",
                "colors_frate_change = subjects.colors_sd(1.2)\n",
                "\n",
                "frate_quantiles = grpdata.frate_pre_to_maze_quantiles_in_POST\n",
                "# frate_quantiles_shuffled= grpdata.frate_pre_to_maze_quantiles_in_POST_shuffled\n",
                "\n",
                "# plt.clf()\n",
                "fig = Fig(grid=(6,8),fontsize=8)\n",
                "filename = subjects.figpath_sd / \"figure1_font\"\n",
                "\n",
                "caption = \"Figure 1: Changes to firing rate across SD and NSD sessions. \\n(A) Slow wave amplitude during POST of example SD and NSD sessions from one animal.\\n(B) Porportion time spent in each vigilance state in first 5 h of POST pooled across SD (left) and NSD (right).\\n(C) Mean firing rates across across session pooled across animals. Light/dark cycles and sessions epochs are indicated above x-axis.\\n(D) Percentage change in firing rate from 1st to 5th hour POST.\\n(E) Pentiles firing rate ratio plotted in first 5h of POST. Pentiles were first calculated from percentage increase in firing rate from PRE to MAZE (increasing hue in color). Then mean firing rate of pentiles normalized by each pentile's firing rate in first time bin. Error bars indicate SEM.\" \n"
            ]
        },
        {
            "cell_type": "markdown",
            "metadata": {},
            "source": [
                "### SWA"
            ]
        },
        {
            "cell_type": "code",
            "execution_count": null,
            "metadata": {},
            "outputs": [],
            "source": [
                "from neuropy.plotting import plot_epochs\n",
                "\n",
                "subfig = fig.fig.add_subfigure(fig.gs[0, :4])\n",
                "axs = subfig.subplots(4, 1, gridspec_kw=dict(height_ratios=[1, 4, 1, 4]))\n",
                "# axs[0].plot([1,2,3],[1,2,3])\n",
                "axs = axs.reshape(2, 2).T\n",
                "for i in range(2):\n",
                "    time = swa_time[i]\n",
                "\n",
                "    plot_epochs(\n",
                "        swa_states[i],\n",
                "        ax=axs[0, i],\n",
                "        labels_order=[\"nrem\", \"rem\", \"quiet\", \"active\"],\n",
                "        colors=subjects.colors_sleep_old,\n",
                "    )\n",
                "    axs[0,i].set_xlim(time[0],time[-1])\n",
                "    axs[0, i].axis(\"off\")\n",
                "\n",
                "    axs[1, i].plot(time, swa[i],color=subjects.colors_sd(1.4)[i])\n",
                "    # axs[1, i].fill_between(time, swa[i],ec=subjects.colors_sd(1.5)[i],color=subjects.colors_sd(1.5)[i],alpha=0.6)\n",
                "    axs[1,i].set_xlim(time[0],time[-1])\n",
                "    if i ==0:\n",
                "        axs[1,i].set_xticks([])\n",
                "    if i==1:\n",
                "        xticks = np.arange(9)*3600+ time[0] \n",
                "        axs[1, i].set_xticks(xticks, np.arange(9))\n"
            ]
        },
        {
            "cell_type": "markdown",
            "metadata": {},
            "source": [
                "### sleep fraction"
            ]
        },
        {
            "cell_type": "code",
            "execution_count": null,
            "metadata": {},
            "outputs": [],
            "source": [
                "ax = fig.subplot(fig.gs[0, 4])\n",
                "hue = [\"active\", \"quiet\", \"rem\", \"nrem\"]\n",
                "color = list(subjects.colors_sleep.values())\n",
                "ax = sns.boxplot(\n",
                "    data=states,\n",
                "    x=\"grp\",\n",
                "    y=\"prop\",\n",
                "    hue=\"state\",\n",
                "    ax=ax,\n",
                "    hue_order=hue,\n",
                "    palette=color,\n",
                "    showfliers=False,\n",
                "    linewidth=1,\n",
                "    # boxprops=dict(edgecolor='none'),\n",
                "    # showcaps=False,\n",
                "    # medianprops=dict(color='',lw=2),\n",
                "    # capsize=0.05,\n",
                "    # legend= None,\n",
                ")\n",
                "# for i,artist in enumerate(ax.artists):\n",
                "#     # Set the linecolor on the artist to the facecolor, and set the facecolor to None\n",
                "#     col = artist.get_facecolor()\n",
                "#     artist.set_edgecolor(col)\n",
                "#     artist.set_facecolor('None')\n",
                "\n",
                "#     # Each box has 6 associated Line2D objects (to make the whiskers, fliers, etc.)\n",
                "#     # Loop over them here, and use the same colour as above\n",
                "#     for j in range(i*6,i*6+6):\n",
                "#         line = ax2.lines[j]\n",
                "#         line.set_color(col)\n",
                "#         line.set_mfc(col)\n",
                "#         line.set_mec(col)\n",
                "ax.legend([],frameon=False)\n",
                "fig.legend(ax,subjects.colors_sleep.keys(),subjects.colors_sleep.values(),x=0.5)\n",
                "ax.set_ylabel(\"State proportion\")\n",
                "ax.set_xlabel('')\n",
                "ax.set_title(\"First 5 h of POST \")\n",
                "fig.panel_label(ax=ax, label=\"B\")\n"
            ]
        },
        {
            "cell_type": "markdown",
            "metadata": {},
            "source": [
                "### zscored firing rate across session"
            ]
        },
        {
            "cell_type": "code",
            "execution_count": null,
            "metadata": {},
            "outputs": [],
            "source": []
        },
        {
            "cell_type": "raw",
            "metadata": {},
            "source": [
                "# neuron_colors = [\"#f52e14\", \"#0a8a46\"]\n",
                "neuron_colors = [subjects.colors_sd(1),subjects.colors_sd(1)]\n",
                "subfig = fig.fig.add_subfigure(fig.gs[1,:5])\n",
                "axs = subfig.subplots(1,2,sharex=True,sharey=True)\n",
                "for i, neuron_type in enumerate([\"pyr\", \"inter\"]):\n",
                "    ls = '--' if neuron_type=='inter' else '-'\n",
                "    neur_color = neuron_colors[i]\n",
                "\n",
                "    for i1, (grp, grp_color) in enumerate(\n",
                "        zip(\n",
                "            group,\n",
                "            neur_color\n",
                "        )\n",
                "    ):\n",
                "        ax_frate = axs[i1]\n",
                "        df = frate[(frate[\"grp\"] == grp) & (frate[\"neuron_type\"] == neuron_type)]\n",
                "\n",
                "        mean_frate = df.groupby(\"bins\").mean()\n",
                "        x = mean_frate.index\n",
                "        y = mean_frate.frate.values\n",
                "        err = df.groupby(\"bins\").sem(ddof=0).frate.values\n",
                "        ax_frate.fill_between(\n",
                "            x, y - err, y + err, color=grp_color, alpha=0.3, ec=None, zorder=1\n",
                "        )\n",
                "        ax_frate.plot(x, y, grp_color, lw=1, zorder=2,ls=ls)\n",
                "\n",
                "        # ax_frate.set_title(f\"{grp.upper()} sessions\", loc=\"left\")\n",
                "        # baseline=====\n",
                "        df_pre = frate[frate[\"bins\"] < -0.81]\n",
                "        df_pre_mean = df_pre.groupby(\"bins\").mean().mean().frate\n",
                "        ax_frate.axhline(df_pre_mean, ls=\"--\", color=\"gray\")\n",
                "\n",
                "\n",
                "        light_cycle_span(ax_frate,-4.2,9)\n",
                "        # epoch_span(ax_frate)\n",
                "\n",
                "        ax_frate.set_xlabel(\"ZT time (h)\")\n",
                "        ax_frate.set_xlim([-4, 9])\n",
                "\n",
                "        ax_frate.set_ylim([-1.2, 1.7])\n"
            ]
        },
        {
            "cell_type": "markdown",
            "metadata": {},
            "source": [
                "### Quantify change from PRE(baseline) to POST"
            ]
        },
        {
            "cell_type": "code",
            "execution_count": null,
            "metadata": {},
            "outputs": [],
            "source": [
                "from statannotations.Annotator import Annotator\n",
                "\n",
                "# ax_1v5 = fig.subplot(fig.gs[2, 0])\n",
                "subfig = fig.add_subfigure(fig.gs[3,:2])\n",
                "axs = subfig.subplots(1,2)\n",
                "\n",
                "for i,n in enumerate(['pyr','inter']):\n",
                "    df = frate_change_pre_post[frate_change_pre_post['neuron_type']==n]\n",
                "    sns.boxplot(\n",
                "        data=df,\n",
                "        x=\"zt\",\n",
                "        y=\"frate_change\",\n",
                "        hue=\"grp\",\n",
                "        palette=colors_frate_change,\n",
                "        ax=axs[i],\n",
                "        hue_order=group,\n",
                "        dodge=True,\n",
                "        # width=0.5,\n",
                "        # **boxplot_kw(subjects.colors_sd(1.2)[i])\n",
                "        # showfliers=False,\n",
                "    )\n",
                "\n",
                "    axs[i].legend(\"\", frameon=False)\n",
                "    axs[i].set_ylabel('')\n",
                "    axs[i].tick_params('x',labelrotation=45)\n",
                "\n"
            ]
        },
        {
            "cell_type": "markdown",
            "metadata": {},
            "source": [
                "### pre-to-maze quantiles firing rate"
            ]
        },
        {
            "cell_type": "raw",
            "metadata": {},
            "source": [
                "from palettable.colorbrewer.sequential import Oranges_6, Purples_6,Reds_6_r,Greys_6_r\n",
                "\n",
                "colors = subjects.colors_sd(1)\n",
                "palette = [Greys_6_r,Reds_6_r]\n",
                "for i, grp in enumerate(group):\n",
                "    ax = fig.subplot(fig.gs[2,2*i+1:2*i+3])\n",
                "    df = frate_quantiles[(frate_quantiles[\"grp\"] == grp)]\n",
                "    # df_shuffled = frate_quantiles_shuffled[(frate_quantiles_shuffled[\"grp\"] == grp)]\n",
                "    # sns.lineplot(\n",
                "    #     data=df_shuffled,\n",
                "    #     x=\"bins\",\n",
                "    #     y=\"frate\",\n",
                "    #     hue=\"quantiles\",\n",
                "    #     palette=['#ababab']*5,\n",
                "    #     legend=None,\n",
                "    #     ax=ax,\n",
                "    #     alpha = 0.5,\n",
                "    #     # estimator = np.nanmean,\n",
                "    # )\n",
                "    boxplot(\n",
                "        data=df,\n",
                "        x=\"quant\",\n",
                "        y=\"frate\",\n",
                "        hue=\"bins\",\n",
                "        hue_palette=palette[i].hex_colors[1:],\n",
                "        # showfliers=False,\n",
                "        ax=ax\n",
                "    )   \n",
                "    # ax.set_yscale('log')\n",
                "    # ax.axhline(1,ls='--',color='gray')\n",
                "    ax.set_ylim(bottom=-0.2,top=3.5)\n",
                "    ax.set_ylabel('Firing rate')\n",
                "    ax.set_xlabel('Quantiles')\n",
                "    # ax.legend\n",
                "    # if i==0:\n",
                "    #     fig.panel_label(ax_1v5,'E')"
            ]
        },
        {
            "cell_type": "markdown",
            "metadata": {},
            "source": [
                "### saving"
            ]
        },
        {
            "cell_type": "code",
            "execution_count": null,
            "metadata": {},
            "outputs": [],
            "source": [
                "fig.savefig(subjects.figpath_sd/'figure1',caption=caption)"
            ]
        }
    ],
    "metadata": {
        "interpreter": {
            "hash": "7b10c821bc4bd3f433a613d47515e6babc6c2152896bd1e143404cc9d6ede4ad"
        },
        "kernelspec": {
            "display_name": "Python 3.9.6 64-bit ('data_analysis': conda)",
            "name": "python3"
        },
        "language_info": {
            "codemirror_mode": {
                "name": "ipython",
                "version": 3
            },
            "file_extension": ".py",
            "mimetype": "text/x-python",
            "name": "python",
            "nbconvert_exporter": "python",
            "pygments_lexer": "ipython3",
            "version": "3.10.2"
        },
        "orig_nbformat": 4
    },
    "nbformat": 4,
    "nbformat_minor": 2
}
