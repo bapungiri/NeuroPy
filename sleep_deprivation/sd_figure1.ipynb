{
    "cells": [
        {
            "cell_type": "markdown",
            "metadata": {},
            "source": [
                "### Figure 1\n",
                "- schematic\n",
                "- spectrogram for NSD and SD\n",
                "- percentage sleep fraction during first 5h of POST for both SD and NSD sessions\n"
            ]
        },
        {
            "cell_type": "code",
            "execution_count": null,
            "metadata": {},
            "outputs": [],
            "source": [
                "import matplotlib.pyplot as plt\n",
                "import numpy as np\n",
                "import subjects\n",
                "import pandas as pd\n",
                "import seaborn as sns\n",
                "from neuropy.plotting import Fig\n",
                "from scipy import stats\n",
                "from subjects import sd_span,nsd_span,grp_span,light_cycle_span,epoch_span,boxplot_kw\n",
                "\n",
                "\n",
                "\n",
                "grpdata = subjects.GroupData()\n",
                "group = [\"nsd\", \"sd\"]\n",
                "\n",
                "#SWA\n",
                "swa,swa_time,swa_states = grpdata.swa_examples.values()\n",
                "# brainstates \n",
                "states = grpdata.brainstates_proportion\n",
                "\n",
                "#frate\n",
                "frate = grpdata.frate_zscore\n",
                "frate = frate[frate.bins> -4]\n",
                "frate_inter = grpdata.frate_interneuron_around_Zt5\n",
                "frate_change = grpdata.frate_change_1vs5\n",
                "colors_frate_change = subjects.colors_sd(1.2)\n",
                "\n",
                "frate_quantiles = grpdata.frate_pre_to_maze_quantiles_in_POST\n",
                "frate_quantiles_shuffled= grpdata.frate_pre_to_maze_quantiles_in_POST_shuffled\n",
                "\n",
                "# plt.clf()\n",
                "fig = Fig(grid=(6,8),fontsize=8)\n",
                "filename = subjects.figpath_sd / \"figure1\"\n",
                "\n",
                "caption = \"Figure 1: Changes to firing rate across SD and NSD sessions. \\n(A) Slow wave amplitude during POST of example SD and NSD sessions from one animal.\\n(B) Porportion time spent in each vigilance state in first 5 h of POST pooled across SD (left) and NSD (right).\\n(C) Mean firing rates across across session pooled across animals. Light/dark cycles and sessions epochs are indicated above x-axis.\\n(D) Percentage change in firing rate from 1st to 5th hour POST.\\n(E) Pentiles firing rate ratio plotted in first 5h of POST. Pentiles were first calculated from percentage increase in firing rate from PRE to MAZE (increasing hue in color). Then mean firing rate of pentiles normalized by each pentile's firing rate in first time bin. Error bars indicate SEM.\" \n"
            ]
        },
        {
            "cell_type": "markdown",
            "metadata": {},
            "source": [
                "### SWA"
            ]
        },
        {
            "cell_type": "code",
            "execution_count": null,
            "metadata": {},
            "outputs": [],
            "source": [
                "from neuropy.plotting import plot_epochs\n",
                "\n",
                "subfig = fig.fig.add_subfigure(fig.gs[0, :4])\n",
                "axs = subfig.subplots(4, 1, gridspec_kw=dict(height_ratios=[1, 4, 1, 4]))\n",
                "# axs[0].plot([1,2,3],[1,2,3])\n",
                "axs = axs.reshape(2, 2).T\n",
                "for i in range(2):\n",
                "    time = swa_time[i]\n",
                "\n",
                "    plot_epochs(\n",
                "        swa_states[i],\n",
                "        ax=axs[0, i],\n",
                "        labels_order=[\"nrem\", \"rem\", \"quiet\", \"active\"],\n",
                "        colors=subjects.colors_sleep_old,\n",
                "    )\n",
                "    axs[0,i].set_xlim(time[0],time[-1])\n",
                "    axs[0, i].axis(\"off\")\n",
                "\n",
                "    axs[1, i].plot(time, swa[i],color=subjects.colors_sd(1.4)[i])\n",
                "    # axs[1, i].fill_between(time, swa[i],ec=subjects.colors_sd(1.5)[i],color=subjects.colors_sd(1.5)[i],alpha=0.6)\n",
                "    axs[1,i].set_xlim(time[0],time[-1])\n",
                "    if i ==0:\n",
                "        axs[1,i].set_xticks([])\n",
                "    if i==1:\n",
                "        xticks = np.arange(9)*3600+ time[0] \n",
                "        axs[1, i].set_xticks(xticks, np.arange(9))\n"
            ]
        },
        {
            "cell_type": "markdown",
            "metadata": {},
            "source": [
                "### sleep fraction"
            ]
        },
        {
            "cell_type": "code",
            "execution_count": null,
            "metadata": {},
            "outputs": [],
            "source": [
                "ax = fig.subplot(fig.gs[0, 4])\n",
                "hue = [\"active\", \"quiet\", \"rem\", \"nrem\"]\n",
                "color = list(subjects.colors_sleep.values())\n",
                "ax = sns.boxplot(\n",
                "    data=states,\n",
                "    x=\"grp\",\n",
                "    y=\"prop\",\n",
                "    hue=\"state\",\n",
                "    ax=ax,\n",
                "    hue_order=hue,\n",
                "    palette=color,\n",
                "    showfliers=False,\n",
                "    linewidth=1,\n",
                "    # boxprops=dict(edgecolor='none'),\n",
                "    # showcaps=False,\n",
                "    # medianprops=dict(color='',lw=2),\n",
                "    # capsize=0.05,\n",
                "    # legend= None,\n",
                ")\n",
                "# for i,artist in enumerate(ax.artists):\n",
                "#     # Set the linecolor on the artist to the facecolor, and set the facecolor to None\n",
                "#     col = artist.get_facecolor()\n",
                "#     artist.set_edgecolor(col)\n",
                "#     artist.set_facecolor('None')\n",
                "\n",
                "#     # Each box has 6 associated Line2D objects (to make the whiskers, fliers, etc.)\n",
                "#     # Loop over them here, and use the same colour as above\n",
                "#     for j in range(i*6,i*6+6):\n",
                "#         line = ax2.lines[j]\n",
                "#         line.set_color(col)\n",
                "#         line.set_mfc(col)\n",
                "#         line.set_mec(col)\n",
                "ax.legend([],frameon=False)\n",
                "fig.legend(ax,subjects.colors_sleep.keys(),subjects.colors_sleep.values(),x=0.5)\n",
                "ax.set_ylabel(\"State proportion\")\n",
                "ax.set_xlabel('')\n",
                "ax.set_title(\"First 5 h of POST \")\n",
                "fig.panel_label(ax=ax, label=\"B\")\n"
            ]
        },
        {
            "cell_type": "markdown",
            "metadata": {},
            "source": [
                "### zscored firing rate"
            ]
        },
        {
            "cell_type": "code",
            "execution_count": null,
            "metadata": {},
            "outputs": [],
            "source": [
                "# neuron_colors = [\"#f52e14\", \"#0a8a46\"]\n",
                "neuron_colors = [subjects.colors_sd(1),subjects.colors_sd(1)]\n",
                "subfig = fig.fig.add_subfigure(fig.gs[1,:5])\n",
                "axs = subfig.subplots(1,2,sharex=True,sharey=True)\n",
                "for i, neuron_type in enumerate([\"pyr\", \"inter\"]):\n",
                "    ls = '--' if neuron_type=='inter' else '-'\n",
                "    neur_color = neuron_colors[i]\n",
                "\n",
                "    for i1, (grp, grp_color) in enumerate(\n",
                "        zip(\n",
                "            group,\n",
                "            neur_color\n",
                "        )\n",
                "    ):\n",
                "        ax_frate = axs[i1]\n",
                "        df = frate[(frate[\"grp\"] == grp) & (frate[\"neuron_type\"] == neuron_type)]\n",
                "\n",
                "        mean_frate = df.groupby(\"bins\").mean()\n",
                "        x = mean_frate.index\n",
                "        y = mean_frate.frate.values\n",
                "        err = df.groupby(\"bins\").sem(ddof=0).frate.values\n",
                "        ax_frate.fill_between(\n",
                "            x, y - err, y + err, color=grp_color, alpha=0.3, ec=None, zorder=1\n",
                "        )\n",
                "        ax_frate.plot(x, y, grp_color, lw=1, zorder=2,ls=ls)\n",
                "\n",
                "        # ax_frate.set_title(f\"{grp.upper()} sessions\", loc=\"left\")\n",
                "        # baseline=====\n",
                "        df_pre = frate[frate[\"bins\"] < -0.81]\n",
                "        df_pre_mean = df_pre.groupby(\"bins\").mean().mean().frate\n",
                "        ax_frate.axhline(df_pre_mean, ls=\"--\", color=\"gray\")\n",
                "\n",
                "\n",
                "        light_cycle_span(ax_frate,-4.2,9)\n",
                "        # epoch_span(ax_frate)\n",
                "\n",
                "        ax_frate.set_xlabel(\"ZT time (h)\")\n",
                "        ax_frate.set_xlim([-4, 9])\n",
                "\n",
                "        ax_frate.set_ylim([-1.2, 1.85])\n"
            ]
        },
        {
            "cell_type": "markdown",
            "metadata": {},
            "source": [
                "### frate change from Zt1 to Zt5"
            ]
        },
        {
            "cell_type": "code",
            "execution_count": null,
            "metadata": {},
            "outputs": [],
            "source": [
                "from statannotations.Annotator import Annotator\n",
                "\n",
                "ax_1v5 = fig.subplot(fig.gs[2, 0])\n",
                "# sns.violinplot(\n",
                "#         data=frate_1v5_df, x=\"neuron_type\", y=\"frate\",hue='grp', palette=colors, ax=ax_1v5, size=2.7, saturation=1,split=True,inner=None\n",
                "#     )\n",
                "df = frate_change.replace([np.inf, -np.inf], np.nan)\n",
                "df.dropna(how=\"all\", inplace=True)\n",
                "sns.boxplot(\n",
                "    data=df,\n",
                "    x=\"neuron_type\",\n",
                "    y=\"frate\",\n",
                "    hue=\"grp\",\n",
                "    palette=colors_frate_change,\n",
                "    ax=ax_1v5,\n",
                "    hue_order=group,\n",
                "    width=0.5,\n",
                "    # alpha=0.5,\n",
                "    showfliers=False,\n",
                "    # split=True,\n",
                "    boxprops=dict(edgecolor=\"none\"),\n",
                "    showcaps=False,\n",
                "    medianprops=dict(color=\"w\", lw=2),\n",
                ")\n",
                "\n",
                "ax_1v5.legend(\"\", frameon=False)\n",
                "\n",
                "# df = frate_1v5_df[frate_1v5_df['neuron_type']=='pyr']\n",
                "# sns.histplot(\n",
                "#         data=df, x=\"frate\",hue='grp', palette=colors, ax=ax_1v5,stat='probability',fill=False,common_bins=True,element='step',\n",
                "#     )\n",
                "\n",
                "# ax_1v5.set_yscale('log')\n",
                "ax_1v5.set_ylabel(\"%change from 1st to 5th hour \")\n",
                "\n",
                "pairs = [((\"pyr\", \"nsd\"), (\"pyr\", \"sd\")),((\"inter\", \"nsd\"), (\"inter\", \"sd\"))]\n",
                "\n",
                "annotator = Annotator(\n",
                "    ax_1v5, pairs, data=df, x=\"neuron_type\", y=\"frate\", order=[\"pyr\", \"inter\"],hue='grp',hue_order=group\n",
                ")\n",
                "annotator.configure(test=\"t-test_ind\", text_format=\"star\", loc=\"inside\")\n",
                "annotator.apply_and_annotate()\n",
                "\n",
                "\n",
                "# fig.panel_label(ax_1v5, \"D\")\n"
            ]
        },
        {
            "cell_type": "markdown",
            "metadata": {},
            "source": [
                "### pre-to-maze quantiles firing rate"
            ]
        },
        {
            "cell_type": "code",
            "execution_count": null,
            "metadata": {},
            "outputs": [],
            "source": [
                "from palettable.colorbrewer.sequential import Oranges_6, Purples_6,Reds_6,Greys_6\n",
                "\n",
                "colors = subjects.colors_sd(1)\n",
                "palette = [Greys_6,Reds_6]\n",
                "for i, grp in enumerate([\"nsd\", \"sd\"]):\n",
                "    ax = fig.subplot(fig.gs[2,2*i+1:2*i+3])\n",
                "    df = frate_quantiles[(frate_quantiles[\"grp\"] == grp)]\n",
                "    df_shuffled = frate_quantiles_shuffled[(frate_quantiles_shuffled[\"grp\"] == grp)]\n",
                "    sns.lineplot(\n",
                "        data=df_shuffled,\n",
                "        x=\"bins\",\n",
                "        y=\"frate\",\n",
                "        hue=\"quantiles\",\n",
                "        palette=['#ababab']*5,\n",
                "        legend=None,\n",
                "        ax=ax,\n",
                "        alpha = 0.5,\n",
                "        # estimator = np.nanmean,\n",
                "    )\n",
                "    sns.lineplot(\n",
                "        data=df,\n",
                "        x=\"bins\",\n",
                "        y=\"frate\",\n",
                "        hue=\"quantiles\",\n",
                "        palette=palette[i].hex_colors[1:],\n",
                "        legend=None,\n",
                "        ax=ax\n",
                "    )   \n",
                "    # ax.set_yscale('log')\n",
                "    ax.axhline(1,ls='--',color='gray')\n",
                "    ax.set_ylim(bottom=0.4,top=1.9)\n",
                "    ax.set_ylabel('Firing rate ratio')\n",
                "    ax.set_xlabel('Zt time (h)')\n",
                "    # if i==0:\n",
                "    #     fig.panel_label(ax_1v5,'E')"
            ]
        },
        {
            "cell_type": "markdown",
            "metadata": {},
            "source": [
                "### saving"
            ]
        },
        {
            "cell_type": "code",
            "execution_count": null,
            "metadata": {},
            "outputs": [],
            "source": [
                "fig.savefig(subjects.figpath_sd/'figure1',caption=caption)"
            ]
        },
        {
            "cell_type": "raw",
            "metadata": {},
            "source": [
                "### Interneurons firing around zt5"
            ]
        },
        {
            "cell_type": "raw",
            "metadata": {},
            "source": [
                "\n",
                "ax = fig.subplot(fig.gs[2,1])\n",
                "sns.boxplot(data=frate_inter,x='time',y='frate',hue='grp',ax=ax,showfliers=False)\n",
                "\n",
                "ax.set_ylabel(\"Firing rate relative to PRE\")\n",
                "\n",
                "pairs = [((\"2.5-5\", \"SD\"), (\"5-7.5\", \"SD\"))]\n",
                "\n",
                "annotator = Annotator(\n",
                "    ax, pairs, data=frate_inter, x=\"time\", y=\"frate\", order=[\"2.5-5\", \"5-7.5\"],hue='grp',hue_order=['NSD','SD']\n",
                ")\n",
                "annotator.configure(test=\"t-test_ind\", text_format=\"star\", loc=\"inside\")\n",
                "annotator.apply_and_annotate()"
            ]
        }
    ],
    "metadata": {
        "interpreter": {
            "hash": "7b10c821bc4bd3f433a613d47515e6babc6c2152896bd1e143404cc9d6ede4ad"
        },
        "kernelspec": {
            "display_name": "Python 3.9.6 64-bit ('data_analysis': conda)",
            "name": "python3"
        },
        "language_info": {
            "codemirror_mode": {
                "name": "ipython",
                "version": 3
            },
            "file_extension": ".py",
            "mimetype": "text/x-python",
            "name": "python",
            "nbconvert_exporter": "python",
            "pygments_lexer": "ipython3",
            "version": "3.10.2"
        },
        "orig_nbformat": 4
    },
    "nbformat": 4,
    "nbformat_minor": 2
}
