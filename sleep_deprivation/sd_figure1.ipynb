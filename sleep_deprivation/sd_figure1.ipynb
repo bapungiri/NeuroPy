{
    "cells": [
        {
            "cell_type": "markdown",
            "source": [
                "# Figure 1\n",
                "- schematic\n",
                "- spectrogram for NSD and SD\n",
                "- lfp snapshots for sleep classification\n",
                "- percentage or something for sleep fraction\n"
            ],
            "metadata": {}
        },
        {
            "cell_type": "code",
            "execution_count": 1,
            "source": [
                "import matplotlib.pyplot as plt\n",
                "import numpy as np\n",
                "import seaborn as sns\n",
                "from neuropy import plotting\n",
                "from neuropy.utils import signal_process\n",
                "from scipy.ndimage import gaussian_filter1d\n",
                "from scipy import stats\n",
                "import subjects\n",
                "import pandas as pd\n",
                "\n",
                "sd_sessions = subjects.sd.allsess[2:-1]\n",
                "nsd_sessions =subjects.nsd.ratNday2 + subjects.nsd.ratSday2 + subjects.nsd.ratUday2 \n",
                "print(sd_sessions)\n",
                "print(nsd_sessions)"
            ],
            "outputs": [
                {
                    "output_type": "stream",
                    "name": "stdout",
                    "text": [
                        "[ProcessData(RatN_Day1_2019-10-09_03-52-32.xml), ProcessData(RatS_Day3SD_2020-11-29_07-53-30.xml), ProcessData(RatR_Day2SD_2021-05-23_09-07-18.xml), ProcessData(RatU_Day4SD_2021-07-29_08-23-06.xml)]\n",
                        "[ProcessData(RatN_Day2_2019-10-11_03-58-54.xml), ProcessData(RatS-Day2NSD-2020-11-27_10-22-29.xml), ProcessData(RatU_Day2NSD_2021-07-24_08-16-38.xml)]\n"
                    ]
                }
            ],
            "metadata": {}
        },
        {
            "cell_type": "markdown",
            "source": [
                "## Calculating spectrogram"
            ],
            "metadata": {}
        },
        {
            "cell_type": "code",
            "execution_count": 2,
            "source": [
                "spects = []\n",
                "for sess in [sd_sessions[0],nsd_sessions[0]]:\n",
                "    signal = sess.eegfile.get_signal([113],t_start=15000,t_stop=17000)\n",
                "    spects.append(signal_process.SpectrogramBands(signal, window=5, overlap=2))"
            ],
            "outputs": [],
            "metadata": {}
        },
        {
            "cell_type": "markdown",
            "source": [
                "## Sleep fraction during 5 hours following MAZE"
            ],
            "metadata": {}
        },
        {
            "cell_type": "code",
            "execution_count": 3,
            "source": [
                "sleep_df = pd.DataFrame()\n",
                "for grp_ind, sessions in enumerate([sd_sessions, nsd_sessions]):\n",
                "    for sub, sess in enumerate(sessions):\n",
                "        maze = sess.paradigm[\"maze\"]\n",
                "        period = [maze[1], maze[1] + 5 * 3600]\n",
                "        prop = sess.brainstates.get_proportion_by_label(period[0], period[1])\n",
                "        if \"nan\" in prop.keys():\n",
                "            del prop[\"nan\"]\n",
                "\n",
                "        if grp_ind == 0:\n",
                "            grp = \"sd\"\n",
                "\n",
                "        if grp_ind == 1:\n",
                "            grp = \"nsd\"\n",
                "\n",
                "        sleep_df = sleep_df.append(\n",
                "            pd.DataFrame(\n",
                "                {\n",
                "                    \"prop\": list(prop.values()),\n",
                "                    \"state\": list(prop.keys()),\n",
                "                    \"grp\": grp,\n",
                "                }\n",
                "            ),\n",
                "            ignore_index=True,\n",
                "        )\n"
            ],
            "outputs": [],
            "metadata": {}
        },
        {
            "cell_type": "markdown",
            "source": [
                "## normalized firing rate across session\n",
                "- normalized firing rate or mean firing rate across population?\n",
                "- across all states and also in individual states"
            ],
            "metadata": {}
        },
        {
            "cell_type": "code",
            "execution_count": 114,
            "source": [
                "frate_df = pd.DataFrame()\n",
                "for neuron_type in [\"pyr\", \"inter\"]:\n",
                "    for sessions, grp in zip([sd_sessions, nsd_sessions], [\"sd\", \"nsd\"]):\n",
                "        for sub, sess in enumerate(sessions):\n",
                "            pre = sess.paradigm[\"pre\"]\n",
                "            maze = sess.paradigm[\"maze\"]\n",
                "            post = sess.paradigm[\"post\"]\n",
                "            rec_duration = sess.eegfile.duration\n",
                "            neurons = sess.neurons.get_neuron_type(neuron_type)\n",
                "\n",
                "            bin_size = 60\n",
                "            bin_spk_pre = neurons.time_slice(pre[0], maze[1]).get_binned_spiketrains(\n",
                "                bin_size=bin_size\n",
                "            )\n",
                "            bin_spk_post = neurons.time_slice(\n",
                "                maze[1], maze[1] + 9 * 3600\n",
                "            ).get_binned_spiketrains(bin_size=bin_size)\n",
                "\n",
                "            bins = np.arange(-bin_spk_pre.n_bins, bin_spk_post.n_bins)*(60/3600)\n",
                "            spkcounts = np.hstack((bin_spk_pre.spike_counts, bin_spk_post.spike_counts))\n",
                "            spkcounts = gaussian_filter1d(spkcounts, sigma=5, axis=-1)\n",
                "            frate = spkcounts / bin_size\n",
                "            frate_zscore = stats.zscore(frate, axis=1)\n",
                "            mean_frate = np.mean(frate_zscore, axis=0)\n",
                "            # mean_frate = gaussian_filter1d(mean_frate,sigma=2)\n",
                "            frate_df =frate_df.append(\n",
                "                pd.DataFrame(\n",
                "                    {\n",
                "                        \"bins\": bins,\n",
                "                        \"frate\": mean_frate,\n",
                "                        \"neuron_type\": neuron_type,\n",
                "                        \"sub\": sub,\n",
                "                        \"grp\": grp,\n",
                "                    }\n",
                "                ),\n",
                "                ignore_index=True,\n",
                "            )\n"
            ],
            "outputs": [],
            "metadata": {}
        },
        {
            "cell_type": "markdown",
            "source": [
                "## Plotting"
            ],
            "metadata": {}
        },
        {
            "cell_type": "code",
            "execution_count": 129,
            "source": [
                "%matplotlib widget\n",
                "# import matplotlib\n",
                "# matplotlib.rcParams['text.usetex'] = True\n",
                "figure = plotting.Fig()\n",
                "fig,gs = figure.draw(num=1,grid=(4,3),hspace =0.2,wspace=0.35)\n",
                "fig.suptitle('Figure 1',x=0,ha='left',fontsize=16)\n",
                "\n",
                "#----- panel a -----------\n",
                "# ax_exp = plt.subplot(gs[0,:2])\n",
                "# image = plt.imread('sd_exp_paradigm.png')\n",
                "# ax_exp.imshow(image,interpolation=None)\n",
                "# ax_exp.axis('off')\n",
                "# figure.panel_label(ax_exp,'a')\n",
                "\n",
                "#------ panel b --------\n",
                "gs_spect = figure.subplot2grid(gs[1,:],grid=(2,1))\n",
                "\n",
                "for i, spect in enumerate(spects):\n",
                "    ax_spect = plt.subplot(gs_spect[i])\n",
                "    plotting.plot_spectrogram(spect.sxx,spect.time,spect.freq,ax=ax_spect,cmap='plasma',sigma=1,freq_lim=(0,20))\n",
                "    ax_spect.set_ylabel('Frequency (Hz)')\n",
                "    ax_theta = ax_spect.twinx()\n",
                "    ax_theta.plot(spect.time,stats.zscore(spect.theta_delta_ratio),color='w',lw=2)\n",
                "    ax_theta.set_ylim(top=10)\n",
                "    ax_theta.set_ylabel(r'($\\theta$ \\ $\\delta$) ratio')\n",
                "    # plotting.plot_hypnogram(spect.brainstates,ax=ax_spect)\n",
                "\n",
                "    if i==0:\n",
                "        figure.panel_label(ax_spect,'B')\n",
                "        ax_spect.set_xlabel('')\n",
                "        ax_spect.set_xticklabels([])\n",
                "\n",
                "#------ panel c --------\n",
                "ax_sleepfrac = plt.subplot(gs[2,0])\n",
                "hue = ['active','quiet','rem','nrem']\n",
                "color = subjects.sleep_colors\n",
                "sns.barplot(data=sleep_df,x='grp',y='prop',hue='state',ax= ax_sleepfrac,hue_order=hue,palette=subjects.sleep_colors,capsize=0.05)\n",
                "# ax_sleepfrac.legend([])\n",
                "ax_sleepfrac.set_ylabel('State proportion')\n",
                "l = ax_sleepfrac.legend(frameon=False)\n",
                "for text in l.get_texts():\n",
                "    text.set_color(subjects.sleep_colors[text.get_text()])\n",
                "\n",
                "for text in l.legendHandles:\n",
                "    text.set_visible(False)\n",
                "figure.panel_label(ax=ax_sleepfrac,label='C')\n",
                "\n",
                "#------ panel d --------\n",
                "gs_frate = figure.subplot2grid(gs[2,1:],grid=(1,1),wspace=0.1)\n",
                "for i,neuron_type in enumerate(['pyr']):\n",
                "    ax_frate = plt.subplot(gs_frate[i])\n",
                "\n",
                "    for grp,neuron_color in zip(['sd','nsd'],['#df670c','#633bb5',]):\n",
                "        df = frate_df[(frate_df['grp']==grp)&(frate_df['neuron_type']==neuron_type)]\n",
                "        mean_frate = df.groupby('bins').mean()\n",
                "        x = mean_frate.index\n",
                "        y = mean_frate.frate.values\n",
                "        err = df.groupby('bins').sem(ddof=0).frate.values\n",
                "        ax_frate.fill_between(x,y-err,y+err,color=neuron_color,alpha=0.3,ec=None)\n",
                "        ax_frate.plot(x,y,neuron_color,lw=1)\n",
                "        # ax_frate.axvline(0,ls='--')\n",
                "        # ax_frate.axvline(-60,ls='--',color='r')\n",
                "        # ax_frate.axvline(300,ls='--',color='k')\n",
                "        ax_frate.set_xlabel('ZT time (h)')\n",
                "        ax_frate.set_xlim(left=-4.2)\n",
                "        # ax_frate.set_ylim([-1.2,1.6])\n",
                "\n",
                "    ax_frate.axvspan(-4.2,0,0,0.1,color='#6d6d69')\n",
                "    ax_frate.axvspan(0,9.5,0,0.1,color='#e6e6a2')\n",
                "    if i==0:\n",
                "        # ax_frate.axvspan(0,300,0.14,0.2,color='#fa8585')\n",
                "        ax_frate.set_ylabel('Normalized firing rate')\n",
                "        # ax_frate.set_xlabel('')\n",
                "        # ax_frate.set_xticklabels([])\n",
                "        ax_frate.legend(['SD','NSD'],frameon=False)\n",
                "\n",
                "        figure.panel_label(ax_frate,'D')\n",
                "\n",
                "#----- caption --------\n",
                "ax_caption = plt.subplot(gs[3,:])\n",
                "ax_caption.text(0,0,'Figure 1: Experimental paradigm, sleep proportion, and firing rate across sessions. \\n(A) Experimental paradigm: Following a 3-h baseline recording period (PRE) in their home cage, all rats were transferred to a novel track (MAZE) for task, after which they were returned to their home cage (POST). In POST either animal slept ad libitum (NSD session) or were sleep deprived for 5 h followed by recovery sleep (SD session).\\n(B) Example spectrograms of CA1 LFP from SD (top) and NSD (bottom) session. Superimposed white curve represents theta-delta ratio.\\n(C) Porportion time spent in each states.\\n(D) Mean firing rates across across session pooled across animals. Light/dark cycles are indicated above x-axis.Error bars indicate SEM',wrap=True)\n",
                "ax_caption.axis('off')\n",
                "\n",
                "figure.savefig(subjects.fig_folder/'figure1')"
            ],
            "outputs": [
                {
                    "output_type": "display_data",
                    "data": {
                        "application/vnd.jupyter.widget-view+json": {
                            "version_major": 2,
                            "version_minor": 0,
                            "model_id": "d5afcdb68b57449d8df0f7384aa78a3f"
                        },
                        "text/plain": [
                            "Canvas(toolbar=Toolbar(toolitems=[('Home', 'Reset original view', 'home', 'home'), ('Back', 'Back to previous …"
                        ]
                    },
                    "metadata": {}
                },
                {
                    "output_type": "display_data",
                    "data": {
                        "application/vnd.jupyter.widget-view+json": {
                            "version_major": 2,
                            "version_minor": 0,
                            "model_id": "8ce7e7b4b0d04f13936c81b792f9d307"
                        },
                        "text/plain": [
                            "interactive(children=(FloatSlider(value=20.0, description='Clim :', max=30.0, min=0.1), IntRangeSlider(value=(…"
                        ]
                    },
                    "metadata": {}
                },
                {
                    "output_type": "display_data",
                    "data": {
                        "application/vnd.jupyter.widget-view+json": {
                            "version_major": 2,
                            "version_minor": 0,
                            "model_id": "9b2d660776964fa892cebdc7710bcc3b"
                        },
                        "text/plain": [
                            "interactive(children=(FloatSlider(value=20.0, description='Clim :', max=30.0, min=0.1), IntRangeSlider(value=(…"
                        ]
                    },
                    "metadata": {}
                }
            ],
            "metadata": {}
        }
    ],
    "metadata": {
        "orig_nbformat": 4,
        "language_info": {
            "name": "python",
            "version": "3.9.6",
            "mimetype": "text/x-python",
            "codemirror_mode": {
                "name": "ipython",
                "version": 3
            },
            "pygments_lexer": "ipython3",
            "nbconvert_exporter": "python",
            "file_extension": ".py"
        },
        "kernelspec": {
            "name": "python3",
            "display_name": "Python 3.9.6 64-bit ('data_analysis': conda)"
        },
        "interpreter": {
            "hash": "7b10c821bc4bd3f433a613d47515e6babc6c2152896bd1e143404cc9d6ede4ad"
        }
    },
    "nbformat": 4,
    "nbformat_minor": 2
}