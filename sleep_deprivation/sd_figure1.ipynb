{
    "cells": [
        {
            "cell_type": "markdown",
            "source": [
                "# Figure 1\n",
                "- schematic\n",
                "- spectrogram for NSD and SD\n",
                "- lfp snapshots for sleep classification\n"
            ],
            "metadata": {}
        },
        {
            "cell_type": "code",
            "execution_count": 3,
            "source": [
                "import matplotlib.pyplot as plt\n",
                "import numpy as np\n",
                "import seaborn as sns\n",
                "from neuropy import plotting\n",
                "from neuropy.utils import signal_process\n",
                "import subjects\n",
                "import pandas as pd\n",
                "\n",
                "sd_sessions = subjects.sd.allsess[:-1]\n",
                "nsd_sessions = subjects.nsd.allsess\n",
                "sd_sess = sd_sessions[3]\n",
                "nsd_sess = nsd_sessions[3]\n",
                "print(sd_sessions)\n",
                "print(nsd_sessions)"
            ],
            "outputs": [
                {
                    "output_type": "stream",
                    "name": "stdout",
                    "text": [
                        "[ProcessData(RatJ_Day1_2019-05-31_03-55-36.xml), ProcessData(RatK_Day1_2019-08-06_03-44-01.xml), ProcessData(RatN_Day1_2019-10-09_03-52-32.xml), ProcessData(RatS_Day3SD_2020-11-29_07-53-30.xml), ProcessData(RatR_Day2SD_2021-05-23_09-07-18.xml)]\n",
                        "[ProcessData(RatJ_Day2_2019-06-02_03-59-19.xml), ProcessData(RatK_Day2_2019-08-08_04-00-00.xml), ProcessData(RatN_Day2_2019-10-11_03-58-54.xml), ProcessData(RatS-Day2NSD-2020-11-27_10-22-29.xml), ProcessData(RatR_Day1NSD_2021-05-13_08-41-31.xml)]\n"
                    ]
                }
            ],
            "metadata": {}
        },
        {
            "cell_type": "markdown",
            "source": [
                "## Calculating spectrogram"
            ],
            "metadata": {}
        },
        {
            "cell_type": "code",
            "execution_count": 21,
            "source": [
                "nsd_signal = nsd_sess.eegfile.get_signal(63)\n",
                "nsd_spect = signal_process.SpectrogramBands(nsd_signal, window=5, overlap=2)\n",
                "\n",
                "sd_signal = sd_sess.eegfile.get_signal(113)\n",
                "sd_spect = signal_process.SpectrogramBands(sd_signal, window=5, overlap=2)"
            ],
            "outputs": [],
            "metadata": {}
        },
        {
            "cell_type": "markdown",
            "source": [
                "## Sleep fraction and normalized firing rate within\n",
                "- normalized firing rate or mean firing rate across population?\n",
                "- across all states and also in individual states"
            ],
            "metadata": {}
        },
        {
            "cell_type": "code",
            "execution_count": 4,
            "source": [
                "sd_df = pd.DataFrame()\n",
                "for sub, sess in enumerate(sd_sessions):\n",
                "    post = sess.paradigm[\"post\"]\n",
                "    rec_duration = sess.eegfile.duration\n",
                "    bins = np.arange(0, post[1], 600)\n",
                "    neurons = sess.neurons.get_neuron_type('pyr')\n",
                "\n",
                "    pre_neur =neurons.time_slice(0,post[0])\n",
                "    pre_binned_spk = pre_neur.get_binned_spiketrains(bin_size=900)\n",
                "    frate_pre =np.mean(pre_binned_spk.spike_counts/pre_binned_spk.bin_size,axis=0)\n",
                "    n_bins_pre = pre_binned_spk.n_bins\n",
                "\n",
                "    post_neur =neurons.time_slice(post[0],post[1])\n",
                "    post_binned_spk = post_neur.get_binned_spiketrains(bin_size=900)\n",
                "    frate_post = np.mean(post_binned_spk.spike_counts/post_binned_spk.bin_size,axis=0)\n",
                "    n_bins_post = post_binned_spk.n_bins\n",
                "    \n",
                "    sub_df = pd.DataFrame({'bins':np.arange(-n_bins_pre,n_bins_post),'frate':np.concatenate((frate_pre,frate_post))})\n",
                "    sd_df = sd_df.append(sub_df)\n",
                "\n",
                "\n",
                "sd_frate = sd_df.groupby('bins')\n",
                "sd_frate_mean = sd_frate.mean().frate\n",
                "sd_frate_sem = sd_frate.sem(ddof=0).frate\n",
                "\n",
                "nsd_df = pd.DataFrame()\n",
                "for sub, sess in enumerate(nsd_sessions[:-1]):\n",
                "    post = sess.paradigm[\"post\"]\n",
                "    rec_duration = sess.eegfile.duration\n",
                "    bins = np.arange(0, post[1], 600)\n",
                "    neurons = sess.neurons.get_neuron_type('pyr')\n",
                "\n",
                "    pre_neur =neurons.time_slice(0,post[0])\n",
                "    pre_binned_spk = pre_neur.get_binned_spiketrains(bin_size=900)\n",
                "    frate_pre =np.mean(pre_binned_spk.spike_counts/pre_binned_spk.bin_size,axis=0)\n",
                "    n_bins_pre = pre_binned_spk.n_bins\n",
                "\n",
                "    post_neur =neurons.time_slice(post[0],post[1])\n",
                "    post_binned_spk = post_neur.get_binned_spiketrains(bin_size=900)\n",
                "    frate_post = np.mean(post_binned_spk.spike_counts/post_binned_spk.bin_size,axis=0)\n",
                "    n_bins_post = post_binned_spk.n_bins\n",
                "    \n",
                "    sub_df = pd.DataFrame({'bins':np.arange(-n_bins_pre,n_bins_post),'frate':np.concatenate((frate_pre,frate_post))})\n",
                "    nsd_df = nsd_df.append(sub_df)\n",
                "\n",
                "\n",
                "nsd_frate = nsd_df.groupby('bins')\n",
                "nsd_frate_mean = nsd_frate.mean().frate\n",
                "nsd_frate_sem = nsd_frate.sem(ddof=0).frate\n"
            ],
            "outputs": [],
            "metadata": {}
        },
        {
            "cell_type": "markdown",
            "source": [
                "## Plotting"
            ],
            "metadata": {}
        },
        {
            "cell_type": "code",
            "execution_count": 5,
            "source": [
                "%matplotlib widget\n",
                "from matplotlib.patches import Rectangle\n",
                "\n",
                "figure = plotting.Fig()\n",
                "fig,gs = figure.draw(num=1,grid=(4,3))\n",
                "\n",
                "# gs_sd = figure.subplot2grid(gs[0,:],grid=(5,1))\n",
                "\n",
                "# ax_sd_spect = plt.subplot(gs_sd[1:])\n",
                "# plotting.plot_spectrogram(sd_spect.sxx,sd_spect.time,sd_spect.freq,ax=ax_sd_spect)\n",
                "# ax_sd_spect.vlines([sd_sess.paradigm['pre'][1],sd_sess.paradigm['maze1'][1],sd_sess.paradigm['sd'][1],sd_sess.paradigm['post'][1]],0,30,ls='--',color='w',lw=2)\n",
                "\n",
                "# for ep in sd_sess.paradigm.to_dataframe().itertuples():\n",
                "#     ax_sd_spect.text(ep.start+ep.duration/2,18,ep.label,color='w',rotation=45,ha='center',fontweight='bold')\n",
                "\n",
                "# ax_sd_hyp = plt.subplot(gs_sd[0],sharex=ax_sd_spect)\n",
                "# plotting.plot_hypnogram(sd_sess.brainstates,ax=ax_sd_hyp)\n",
                "\n",
                "# figure.panel_label(ax_sd_hyp,'a')\n",
                "\n",
                "\n",
                "\n",
                "# # ------ panel b-----------\n",
                "# gs_nsd = figure.subplot2grid(gs[1,:],grid=(5,1))\n",
                "\n",
                "# ax_nsd_spect = plt.subplot(gs_nsd[1:])\n",
                "# plotting.plot_spectrogram(nsd_spect.sxx,nsd_spect.time,nsd_spect.freq,ax=ax_nsd_spect)\n",
                "# ax_nsd_spect.vlines([nsd_sess.paradigm['pre'][1],nsd_sess.paradigm['maze1'][1],nsd_sess.paradigm['post'][1]],0,30,ls='--',color='w',lw=2)\n",
                "\n",
                "# for ep in nsd_sess.paradigm.to_dataframe().itertuples():\n",
                "#     ax_nsd_spect.text(ep.start+ep.duration/2,18,ep.label,color='w',rotation=45,ha='center',fontweight='bold')\n",
                "\n",
                "# ax_nsd_hyp = plt.subplot(gs_nsd[0],sharex=ax_nsd_spect)\n",
                "# plotting.plot_hypnogram(nsd_sess.brainstates,ax=ax_nsd_hyp)\n",
                "\n",
                "# figure.panel_label(ax_nsd_hyp,'b')\n",
                "\n",
                "#------ panel c --------\n",
                "ax_frate = plt.subplot(gs[2,:2])\n",
                "ax_frate.errorbar(sd_frate_mean.index.values,sd_frate_mean,sd_frate_sem,ecolor='k')\n",
                "ax_frate.errorbar(nsd_frate_mean.index.values,nsd_frate_mean,nsd_frate_sem,ecolor='r')\n",
                "ax_frate.set_xlabel('ZT Bin')\n",
                "ax_frate.set_ylabel('Firing rate')\n",
                "# ax_frate.plot(sd_frate_mean)\n",
                "# ax_frate.fill_between(sd_frate_mean+sd_frate_sem)\n",
                "# for ax_ind in range(2):\n",
                "#     ax = plt.subplot(gs[ax_ind])\n",
                "#     ax.plot([1,5],[2,2],color='w',zorder=1,alpha=0)\n",
                "\n",
                "#     start = 1\n",
                "#     for i, (l,w,col) in enumerate(zip([\"PRE\",'MAZE','POST'],[5,3,10],['#849ad7','#7ac792','#849ad7'])):\n",
                "#         ax.add_patch(Rectangle((start, 1.5), w,2 ,facecolor=col))\n",
                "#         ax.text(start+w/2,0.5,l,rotation=45,ha='center')\n",
                "#         start+=w+0.1\n",
                "#     ax.axis('off')\n",
                "\n",
                "# ax.add_patch(Rectangle((start-w,2),w/2,1,facecolor='#de8cdc'))\n",
                "# ax.text(start-w+0.5,2.3,'SD')\n",
                "\n",
                "# #----- spectrograms--------\n",
                "\n",
                "# ax_nsd_spect = plt.subplot(gs[2,:])\n",
                "# plotting.plot_spectrogram(nsd_spect.sxx,nsd_spect.time,nsd_spect.freq,ax=ax_nsd_spect)\n",
                "\n",
                "# ax_sd_spect = plt.subplot(gs[3,:])\n"
            ],
            "outputs": [
                {
                    "output_type": "display_data",
                    "data": {
                        "text/plain": [
                            "Canvas(toolbar=Toolbar(toolitems=[('Home', 'Reset original view', 'home', 'home'), ('Back', 'Back to previous …"
                        ],
                        "application/vnd.jupyter.widget-view+json": {
                            "version_major": 2,
                            "version_minor": 0,
                            "model_id": "94b1f3dc430243c2b81d4d74e3c3f7a0"
                        }
                    },
                    "metadata": {}
                },
                {
                    "output_type": "execute_result",
                    "data": {
                        "text/plain": [
                            "Text(0, 0.5, 'Firing rate')"
                        ]
                    },
                    "metadata": {},
                    "execution_count": 5
                }
            ],
            "metadata": {}
        }
    ],
    "metadata": {
        "orig_nbformat": 4,
        "language_info": {
            "name": "python",
            "version": "3.9.4",
            "mimetype": "text/x-python",
            "codemirror_mode": {
                "name": "ipython",
                "version": 3
            },
            "pygments_lexer": "ipython3",
            "nbconvert_exporter": "python",
            "file_extension": ".py"
        },
        "kernelspec": {
            "name": "python3",
            "display_name": "Python 3.9.4 64-bit ('data_analysis': conda)"
        },
        "interpreter": {
            "hash": "7b10c821bc4bd3f433a613d47515e6babc6c2152896bd1e143404cc9d6ede4ad"
        }
    },
    "nbformat": 4,
    "nbformat_minor": 2
}