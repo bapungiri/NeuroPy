{
 "cells": [
  {
   "cell_type": "markdown",
   "metadata": {},
   "source": [
    "# Example ripples and replay raster plot below it"
   ]
  },
  {
   "cell_type": "code",
   "execution_count": null,
   "metadata": {},
   "outputs": [],
   "source": [
    "import numpy as np\n",
    "import matplotlib.pyplot as plt\n",
    "import subjects\n",
    "from neuropy import plotting\n",
    "from neuropy.analyses import Pf1D\n",
    "sess = subjects.sd.ratSday3[0]"
   ]
  },
  {
   "cell_type": "code",
   "execution_count": null,
   "metadata": {},
   "outputs": [],
   "source": [
    "%matplotlib widget\n",
    "# plt.style.use('dark_background')\n",
    "figure = plotting.Fig()\n",
    "fig, gs = figure.draw(grid=(3, 5),wspace=0.5)\n",
    "maze = sess.paradigm['maze']\n",
    "rpls = sess.pbe.time_slice(maze[0],maze[1])\n",
    "channels = sess.probegroup.get_connected_channels()\n",
    "pyr_neurons = sess.neurons.get_neuron_type('pyr')\n",
    "pos = sess.lin_maze\n",
    "# pos.t_start = pos.t_start\n",
    "run = sess.run['forward']\n",
    "pf = Pf1D(neurons=pyr_neurons,position=pos,speed_thresh=10,smooth=2,grid_bin=3,frate_thresh=1,epochs=sess.run)\n",
    "pf_neurons =pyr_neurons.get_by_id(pf.ratemap.neuron_ids) \n",
    "\n",
    "tc = pf.ratemap.tuning_curves\n",
    "sort_ind = np.argsort(np.argmax(tc,axis=1))\n",
    "pf_neurons = pf_neurons[sort_ind]\n",
    "\n",
    "# rpl_indx = np.random.choice(len(rpls),4,replace=False)\n",
    "rpl_indx = [356,712,426,829] # visually identified with random selection runs\n",
    "print(rpl_indx)\n",
    "cmap = 'gist_rainbow'\n",
    "for i,indx in enumerate(rpl_indx):\n",
    "    ax = plt.subplot(gs[0,i+1])\n",
    "    rpl = rpls[indx].reshape(-1)\n",
    "    rpl_sig = sess.eegfile.get_signal(\n",
    "        channels[8].astype(int), t_start=rpl[0], t_stop=rpl[1]\n",
    "    )\n",
    "    plotting.plot_signal_traces(rpl_sig, pad=1,ax=ax,lw=0.5,color='w')\n",
    "    if i>0:\n",
    "        ax.set_yticks([])\n",
    "\n",
    "    neurons = pf_neurons.time_slice(rpl[0],rpl[1])\n",
    "    ax_raster = plt.subplot(gs[1,i+1])\n",
    "    ax_raster = plotting.plot_raster(neurons,ax=ax_raster,color=cmap,markersize=4)\n",
    " \n",
    "    ax_raster.axis('off')\n",
    "\n",
    "ax_pf = plt.subplot(gs[1,0])\n",
    "plotting.plot_ratemap(pf.ratemap,ax=ax_pf,normalize_tuning_curve=True,cmap=cmap)\n",
    "ax_pf.set_yticks([])\n",
    "# figure.savefig(subjects.figpath_sd/'example_ripples_')"
   ]
  }
 ],
 "metadata": {
  "interpreter": {
   "hash": "cce1618081139d19eb1ee8d40815d94a2de4f62e1efb20d9406ddb60628c36ae"
  },
  "kernelspec": {
   "display_name": "Python 3.9.7 64-bit ('data_analysis': conda)",
   "language": "python",
   "name": "python3"
  },
  "language_info": {
   "codemirror_mode": {
    "name": "ipython",
    "version": 3
   },
   "file_extension": ".py",
   "mimetype": "text/x-python",
   "name": "python",
   "nbconvert_exporter": "python",
   "pygments_lexer": "ipython3",
   "version": "3.9.7"
  },
  "orig_nbformat": 4
 },
 "nbformat": 4,
 "nbformat_minor": 2
}
