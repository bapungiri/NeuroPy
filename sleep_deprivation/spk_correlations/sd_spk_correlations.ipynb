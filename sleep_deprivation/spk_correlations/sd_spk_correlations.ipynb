{
    "cells": [
        {
            "cell_type": "markdown",
            "metadata": {},
            "source": [
                "### Analyses\n",
                "- all neuronal pairwise correlations during sleep deprivation go here"
            ]
        },
        {
            "cell_type": "markdown",
            "metadata": {},
            "source": [
                "### Imports\n"
            ]
        },
        {
            "cell_type": "code",
            "execution_count": 1,
            "metadata": {},
            "outputs": [],
            "source": [
                "import matplotlib.pyplot as plt\n",
                "from scipy import stats\n",
                "from tqdm.notebook import tqdm\n",
                "import numpy as np\n",
                "import pandas as pd\n",
                "import seaborn as sns\n",
                "import subjects"
            ]
        },
        {
            "cell_type": "markdown",
            "metadata": {},
            "source": [
                "### Distribution of pairwise correlations during SD from first to last hour of SD\n",
                "- also compare with nsd 1st hour of sleep vs 5th hour sleep"
            ]
        },
        {
            "cell_type": "code",
            "execution_count": null,
            "metadata": {},
            "outputs": [],
            "source": [
                "import numpy as np\n",
                "import subjects\n",
                "import pandas as pd\n",
                "import seaborn as sns\n",
                "import matplotlib.pyplot as plt\n",
                "from neuropy.plotting import Fig\n",
                "\n",
                "sessions_sd = subjects.sd.allsess\n",
                "sessions_nsd = subjects.nsd.allsess[:-1]"
            ]
        },
        {
            "cell_type": "code",
            "execution_count": null,
            "metadata": {},
            "outputs": [],
            "source": [
                "%matplotlib inline\n",
                "figure = Fig()\n",
                "fig,gs = figure.draw(grid=(2,2),style='Pres')\n",
                "gs_ = figure.subplot2grid(gs[:,1],grid=(5,2),hspace=0.5)\n",
                "all_corr_sd = []\n",
                "\n",
                "cdf = lambda x: np.cumsum(x)/np.sum(x)\n",
                "\n",
                "bins = np.arange(-0.1,0.4,0.01)\n",
                "for sub, sess in enumerate(sessions_sd):\n",
                "    post = sess.paradigm['post']\n",
                "    sd = [post[0],post[0]+5*3600]\n",
                "\n",
                "    neurons = sess.neurons.get_neuron_type('pyr')\n",
                "    cal_pair_corr=lambda t:neurons.get_binned_spiketrains(t_start=t,t_stop=t+3600).get_pairwise_corr()\n",
                "    corr_pair = np.asarray( [cal_pair_corr(_) for _ in [sd[0],sd[0]+4*3600]])\n",
                "    f_h = np.histogram(corr_pair[0],bins=bins)[0]\n",
                "    l_h = np.histogram(corr_pair[1],bins=bins)[0]\n",
                "\n",
                "    ax = plt.subplot(gs_[sub])\n",
                "    ax.plot(bins[:-1],cdf(f_h))\n",
                "    ax.plot(bins[:-1],cdf(l_h))\n",
                "    ax.set_title(f'sub {sub}')\n",
                "    all_corr_sd.append(corr_pair)\n",
                "\n",
                "all_corr_nsd=[]\n",
                "for sub, sess in enumerate(sessions_nsd,sub+2):\n",
                "    post = sess.paradigm['post']\n",
                "\n",
                "    neurons = sess.neurons.get_neuron_type('pyr')\n",
                "    cal_pair_corr=lambda t:neurons.get_binned_spiketrains(t_start=t,t_stop=t+3600).get_pairwise_corr()\n",
                "    corr_pair = np.asarray( [cal_pair_corr(_) for _ in [post[0],post[0]+4*3600]])\n",
                "    f_h = np.histogram(corr_pair[0],bins=bins)[0]\n",
                "    l_h = np.histogram(corr_pair[1],bins=bins)[0]\n",
                "\n",
                "    ax = plt.subplot(gs_[sub])\n",
                "    ax.plot(bins[:-1],cdf(f_h))\n",
                "    ax.plot(bins[:-1],cdf(l_h))\n",
                "    ax.set_title(f'sub {sub}')\n",
                "\n",
                "    all_corr_nsd.append(corr_pair)\n",
                "\n",
                "\n",
                "\n",
                "\n",
                "ax = plt.subplot(gs[0])\n",
                "all_corr_sd = np.hstack(all_corr_sd)\n",
                "first_h_sd = np.histogram(all_corr_sd[0],bins=bins)[0]\n",
                "last_h_sd = np.histogram(all_corr_sd[1],bins=bins)[0]\n",
                "\n",
                "all_corr_nsd = np.hstack(all_corr_nsd)\n",
                "first_h_nsd = np.histogram(all_corr_nsd[0],bins=bins)[0]\n",
                "last_h_nsd = np.histogram(all_corr_nsd[1],bins=bins)[0]\n",
                "\n",
                "ax.plot(bins[:-1],cdf(first_h_sd),'r',label='sd_ZT1')\n",
                "ax.plot(bins[:-1],cdf(last_h_sd),'g',label='sd_ZT5')\n",
                "ax.plot(bins[:-1],cdf(first_h_nsd),'k',label='nsd_ZT1')\n",
                "ax.plot(bins[:-1],cdf(last_h_nsd),'gray',label='nsd_ZT5')\n",
                "\n",
                "ax.legend()\n",
                "ax.set_xlabel('Pairwise correlation')\n",
                "ax.set_ylabel('Probability')"
            ]
        },
        {
            "cell_type": "markdown",
            "metadata": {},
            "source": [
                "### Compare pariwise correlation using scatter plot from first to last hour of sleep deprivation"
            ]
        },
        {
            "cell_type": "code",
            "execution_count": null,
            "metadata": {},
            "outputs": [],
            "source": [
                "import numpy as np\n",
                "import matplotlib.pyplot as plt\n",
                "import pandas as pd\n",
                "import seaborn as sns\n",
                "from scipy import stats\n",
                "from neuropy.plotting import Fig\n",
                "from scipy.ndimage import gaussian_filter1d\n",
                "import subjects\n",
                "\n",
                "sd_sessions = subjects.sd.allsess[2:-1]\n",
                "nsd_sessions = subjects.nsd.ratNday2 + subjects.nsd.ratSday2 + subjects.nsd.ratUday2\n",
                "print(sd_sessions)"
            ]
        },
        {
            "cell_type": "code",
            "execution_count": null,
            "metadata": {},
            "outputs": [],
            "source": [
                "pcorr_sd = []\n",
                "pcorr_nsd = []\n",
                "for grp_ind, sessions in enumerate([sd_sessions, nsd_sessions]):\n",
                "    for sub, sess in enumerate(sessions):\n",
                "        maze = sess.paradigm[\"maze\"]\n",
                "        rec_duration = sess.eegfile.duration\n",
                "        neurons = sess.neurons.get_neuron_type(\"mua\")\n",
                "\n",
                "        bin_size = 60\n",
                "        pcorr_sub = []\n",
                "        for start in [maze[0], maze[0] + 4 * 3600]:\n",
                "            pcorr = (\n",
                "                neurons.time_slice(start, start + 3600)\n",
                "                .get_binned_spiketrains(bin_size=bin_size)\n",
                "                .get_pairwise_corr()\n",
                "            )\n",
                "            pcorr_sub.append(pcorr)\n",
                "        pcorr_sub = np.asarray(pcorr_sub).T\n",
                "    if grp_ind==0:\n",
                "        pcorr_sd.append(pcorr_sub)\n",
                "\n",
                "    if grp_ind==1:\n",
                "        pcorr_nsd.append(pcorr_sub)\n",
                "\n",
                "pcorr_sd = np.vstack(pcorr_sd)\n",
                "pcorr_nsd = np.vstack(pcorr_nsd)"
            ]
        },
        {
            "cell_type": "code",
            "execution_count": null,
            "metadata": {},
            "outputs": [],
            "source": [
                "%matplotlib inline\n",
                "figure = Fig()\n",
                "fig,gs = figure.draw(grid=(2,2),style='Pres')\n",
                "\n",
                "for i,pcorr in enumerate([pcorr_sd,pcorr_nsd]):\n",
                "    ax = plt.subplot(gs[i])\n",
                "    ax.scatter(pcorr[:,0],pcorr[:,1],s=20,c='gray',marker='o',edgecolors='w')\n",
                "    # ax.hexbin(pcorr[:,0],pcorr[:,1],cmap='inferno',gridsize=50)\n",
                "    ax.axline((0,0),slope=1)\n",
                "    ax.set_xlabel('First hour')\n",
                "    ax.set_ylabel('Fifth hour')"
            ]
        },
        {
            "cell_type": "markdown",
            "metadata": {},
            "source": [
                "### Pairwise correlation across time each session individually"
            ]
        },
        {
            "cell_type": "code",
            "execution_count": null,
            "metadata": {},
            "outputs": [],
            "source": [
                "import numpy as np\n",
                "import matplotlib.pyplot as plt\n",
                "import numpy as np\n",
                "import seaborn as sns\n",
                "from neuropy import plotting\n",
                "from neuropy.utils import signal_process\n",
                "import subjects\n",
                "import pandas as pd\n",
                "from neuropy.analyses import neurons_correlation\n",
                "\n",
                "# sessions = subjects.sd.ratNday1+ subjects.sd.ratSday3+ subjects.sd.ratRday2 + subjects.sd.ratUday4\n",
                "\n",
                "sessions = subjects.mua_sess()\n"
            ]
        },
        {
            "cell_type": "code",
            "execution_count": null,
            "metadata": {},
            "outputs": [],
            "source": [
                "from tqdm.notebook import tqdm\n",
                "pair_corr_all = []\n",
                "names=[]\n",
                "for sub, sess in enumerate(tqdm(sessions)):\n",
                "    neurons = sess.neurons_stable.get_neuron_type('pyr')\n",
                "    name = sess.filePrefix.name.split('_')[:2]\n",
                "    pair_corr = neurons_correlation.corr_across_time_window(neurons)\n",
                "    np.fill_diagonal(pair_corr,val=0)\n",
                "    pair_corr_all.append(pair_corr)\n",
                "    names.append(''.join(name))"
            ]
        },
        {
            "cell_type": "code",
            "execution_count": null,
            "metadata": {},
            "outputs": [],
            "source": [
                "from scipy.ndimage import gaussian_filter\n",
                "fig = plotting.Fig(grid=(8, 4))\n",
                "# _,axs = plt.subplots(7,2)\n",
                "# axs = axs.reshape(-1)\n",
                "\n",
                "# rat_names = ['Rat N','Rat S','Rat U']\n",
                "for i,pair_corr in enumerate(pair_corr_all):\n",
                "    ax =fig.subplot(fig.gs[i])\n",
                "    t = np.arange(pair_corr.shape[0])*(5/60)\n",
                "    ax.pcolormesh(t,t,pair_corr,cmap='jet',rasterized=True,shading='auto')\n",
                "    ax.set_xticks([0,5,10])\n",
                "    ax.set_yticks([0,5,10])\n",
                "    ax.set_title(f\"{names[i]}\")\n",
                "\n",
                "# fig.suptitle('Window = 300 s, Bin size = 0.25 s')\n",
                "fig.savefig(subjects.figpath_sd/'correlation_across_time')"
            ]
        },
        {
            "cell_type": "markdown",
            "metadata": {},
            "source": [
                "### Pairwise correlation across pooled across sessions"
            ]
        },
        {
            "cell_type": "code",
            "execution_count": null,
            "metadata": {},
            "outputs": [],
            "source": [
                "sessions = subjects.Sd().allsess + subjects.Nsd().allsess\n",
                "# sessions = subjects.Sd().ratJday1\n",
                "corr_sd, corr_nsd = [], []\n",
                "for sub, sess in enumerate(sessions):\n",
                "\n",
                "    pre = sess.epochs.pre\n",
                "    maze1 = sess.epochs.maze\n",
                "    if maze1 is None:\n",
                "        maze1 = sess.epochs.maze1\n",
                "    post = sess.epochs.post\n",
                "    tag = sess.recinfo.animal.tag\n",
                "\n",
                "    # --- break region into periods --------\n",
                "    # bins = sess.utils.getinterval([post[0], post[0] + 5 * 3600], 2)\n",
                "    # sess.spikes.stability.firingRate(periods=bins)\n",
                "    spks = sess.spikes.pyr\n",
                "    epochs = np.arange(post[0], post[0] + 8 * 3600, 300)\n",
                "    corr = []\n",
                "    for i in range(len(epochs) - 1):\n",
                "        corr.append(\n",
                "            sess.spikes.corr.pairwise(spikes=spks, period=[epochs[i], epochs[i + 1]])\n",
                "        )\n",
                "    corr = np.asarray(corr)\n",
                "\n",
                "    if tag == \"sd\":\n",
                "        corr_sd.append(corr)\n",
                "    else:\n",
                "        corr_nsd.append(corr)\n",
                "\n",
                "\n",
                "def process_(corr_mat):\n",
                "    corr_mat = np.hstack(corr_mat)\n",
                "    corr_mask = np.ma.array(corr_mat, mask=np.isnan(corr_mat))\n",
                "    corr_ = np.ma.corrcoef(corr_mask)\n",
                "    np.fill_diagonal(corr_, 0)\n",
                "    # corr_ = gaussian_filter(corr_, sigma=1)\n",
                "    return corr_\n",
                "\n",
                "\n",
                "corr_sd = process_(corr_sd)\n",
                "corr_nsd = process_(corr_nsd)\n",
                "\n",
                "time = np.linspace(0, 8, corr_sd.shape[0] + 1)\n",
                "\n",
                "figure = Fig()\n",
                "fig, gs = figure.draw(num=1, grid=(4, 3), wspace=0.3)\n",
                "axsd = plt.subplot(gs[2])\n",
                "im = axsd.pcolormesh(time[:-1], time[:-1], corr_sd, cmap=\"Spectral_r\", rasterized=True)\n",
                "axsd.set_xlabel(\"Time (h)\")\n",
                "axsd.set_ylabel(\"Time (h)\")\n",
                "cbar = fig.colorbar(im, ax=axsd)\n",
                "cbar.outline.set_linewidth(1)\n",
                "\n",
                "\n",
                "axnsd = plt.subplot(gs[5])\n",
                "im = axnsd.pcolormesh(\n",
                "    time[:-1], time[:-1], corr_nsd, cmap=\"Spectral_r\", rasterized=True\n",
                ")\n",
                "axnsd.set_xlabel(\"Time (h)\")\n",
                "cbar = fig.colorbar(im, ax=axnsd)\n",
                "cbar.outline.set_linewidth(1)\n",
                "# cbar.set_label(\"correlation\")\n",
                "\n",
                "figure.savefig(\"correlation_time_window\", __file__)"
            ]
        },
        {
            "cell_type": "markdown",
            "metadata": {},
            "source": [
                "### Mean pairwise correlation"
            ]
        },
        {
            "cell_type": "code",
            "execution_count": null,
            "metadata": {},
            "outputs": [],
            "source": [
                "import numpy as np\n",
                "import matplotlib.pyplot as plt\n",
                "import numpy as np\n",
                "import seaborn as sns\n",
                "from neuropy import plotting\n",
                "from neuropy.utils import signal_process\n",
                "import subjects\n",
                "import pandas as pd\n",
                "from neuropy.analyses import neurons_correlation\n",
                "\n",
                "# sessions = (\n",
                "#     subjects.sd.ratNday1\n",
                "#     + subjects.sd.ratSday3\n",
                "#     + subjects.sd.ratRday2\n",
                "#     + subjects.sd.ratUday4\n",
                "# )\n",
                "\n",
                "sessions = subjects.nsd.ratNday2 + subjects.nsd.ratSday2 + subjects.nsd.ratUday2\n"
            ]
        },
        {
            "cell_type": "code",
            "execution_count": null,
            "metadata": {},
            "outputs": [],
            "source": [
                "from neuropy.utils import mathutil\n",
                "\n",
                "pcorr_df = pd.DataFrame()\n",
                "for sub, sess in enumerate(sessions):\n",
                "\n",
                "    neurons = sess.neurons.get_neuron_type(\"pyr\")\n",
                "    post = sess.paradigm[\"post\"]\n",
                "    sd = [post[0], post[0] + 5 * 3600]\n",
                "\n",
                "    t_starts = np.arange(0, 5 * 3600 / 600) * 600 + sd[0]\n",
                "\n",
                "    pcorr_sub = np.zeros(len(t_starts))\n",
                "    for i, start in enumerate(t_starts):\n",
                "\n",
                "        pair_corr = (\n",
                "            neurons.time_slice(start, start + 600)\n",
                "            .get_binned_spiketrains(bin_size=0.25)\n",
                "            .get_pairwise_corr()\n",
                "        )\n",
                "        pcorr_sub[i] = np.nanmean(pair_corr)\n",
                "\n",
                "    pcorr_df = pcorr_df.append(\n",
                "        pd.DataFrame(\n",
                "            {\n",
                "                \"bins\": (t_starts - sd[0])/3600,\n",
                "                \"corr\": mathutil.min_max_scaler(pcorr_sub),\n",
                "                \"sub\": sub,\n",
                "            }\n",
                "        ),\n",
                "        ignore_index=True,\n",
                "    )\n"
            ]
        },
        {
            "cell_type": "code",
            "execution_count": null,
            "metadata": {},
            "outputs": [],
            "source": [
                "%matplotlib widget\n",
                "\n",
                "sns.lineplot(data=pcorr_df,x='bins',y='corr')"
            ]
        },
        {
            "cell_type": "markdown",
            "metadata": {},
            "source": [
                "### Pairwise correlations between Zt0-5 vs Zt5-end"
            ]
        },
        {
            "cell_type": "code",
            "execution_count": null,
            "metadata": {},
            "outputs": [],
            "source": [
                "import pandas as pd\n",
                "import numpy as np\n",
                "from tqdm import tqdm\n",
                "import subjects\n",
                "\n",
                "sessions = subjects.nsd.pf_sess + subjects.sd.pf_sess"
            ]
        },
        {
            "cell_type": "code",
            "execution_count": null,
            "metadata": {},
            "outputs": [],
            "source": [
                "pair_corr_df = []\n",
                "for sub, sess in enumerate(sessions):\n",
                "    maze = sess.paradigm[\"maze\"].flatten()\n",
                "    post = sess.paradigm[\"post\"].flatten()\n",
                "\n",
                "    e1 = [post[0], post[0] + 5 * 3600]\n",
                "    e2 = [post[0] + 5 * 3600, post[1]]\n",
                "\n",
                "    neurons = sess.neurons.get_neuron_type(\"pyr\")\n",
                "    e1_frate = neurons.time_slice(*e1).firing_rate\n",
                "    e2_frate = neurons.time_slice(*e2).firing_rate\n",
                "\n",
                "    good_indices = np.logical_and(e1_frate > 0, e2_frate > 0)\n",
                "    neurons = neurons[good_indices]\n",
                "\n",
                "    pair_corr = []\n",
                "    for e in [e1, e2]:\n",
                "        pair_corr.append(\n",
                "            neurons.time_slice(*e).get_binned_spiketrains(0.25).get_pairwise_corr()\n",
                "        )\n",
                "\n",
                "    df = pd.DataFrame(dict(e1=pair_corr[0], e2=pair_corr[1], grp=sess.tag))\n",
                "    pair_corr_df.append(df)\n",
                "\n",
                "pair_corr_df = pd.concat(pair_corr_df, ignore_index=True)\n",
                "\n",
                "subjects.GroupData().save(pair_corr_df, \"post_first5_last5_paircorr\")\n"
            ]
        },
        {
            "cell_type": "code",
            "execution_count": null,
            "metadata": {},
            "outputs": [],
            "source": [
                "%matplotlib widget\n",
                "\n",
                "import matplotlib.pyplot as plt\n",
                "import seaborn as sns\n",
                "from scipy import stats \n",
                "\n",
                "_,axs = plt.subplots(1,2,sharex=True,sharey=True)\n",
                "axs = axs.reshape(-1)\n",
                "for i, grp in enumerate(['NSD','SD']):\n",
                "    df = pair_corr_df[pair_corr_df['grp']==grp]\n",
                "    linreg = stats.linregress(df['e1'],df['e2'])\n",
                "    sns.scatterplot(data=df,x='e1',y='e2',hue='grp',ax=axs[i])\n",
                "    axs[i].set_title(f'r={linreg.rvalue.round(2)}, pvalue={linreg.pvalue}')\n"
            ]
        },
        {
            "cell_type": "markdown",
            "metadata": {},
            "source": [
                "### Autocorrelation of correlation matrix during Zt0-5 of SD vs NSD\n",
                " - get a correlation of pairwise correlations only during Zt0-5 and perform a autocorrelation on this matrix. It was done to find if there is a shorter decay curve of SD compared to NSD.\n",
                " - Tried both 2d correlation and autocorrelation of each row, the result looks like a blob, nothing interesting here."
            ]
        },
        {
            "cell_type": "code",
            "execution_count": null,
            "metadata": {},
            "outputs": [],
            "source": [
                "import numpy as np\n",
                "import subjects\n",
                "import pandas as pd\n",
                "\n",
                "sessions = subjects.nsd.ratSday2 + subjects.sd.ratSday3"
            ]
        },
        {
            "cell_type": "code",
            "execution_count": null,
            "metadata": {},
            "outputs": [],
            "source": [
                "import pingouin as pg\n",
                "\n",
                "corr=[]\n",
                "for sub, sess in enumerate(sessions):\n",
                "    post = sess.paradigm['post'].flatten()\n",
                "    neurons = sess.neurons.get_neuron_type(\"pyr\")\n",
                "    windows = np.arange(post[0], post[0]+5*3600, 300)\n",
                "    pair_corr = []\n",
                "    for w in windows[:-1]:\n",
                "        pair_corr.append(\n",
                "            neurons.time_slice(w,w+300).get_binned_spiketrains().get_pairwise_corr()\n",
                "        )\n",
                "    pair_corr = np.array(pair_corr).T\n",
                "    df = pd.DataFrame(pair_corr,columns=np.arange(len(windows)-1))\n",
                "    corr.append(df.corr().values)\n",
                "subjects.GroupData().save(corr,'remaze_corr_across_session')"
            ]
        },
        {
            "cell_type": "code",
            "execution_count": null,
            "metadata": {},
            "outputs": [],
            "source": [
                "%matplotlib widget\n",
                "import scipy.signal as sg\n",
                "import matplotlib.pyplot as plt\n",
                "\n",
                "_,axs = plt.subplots(2,2)\n",
                "# axs = axs.reshape(-1)\n",
                "\n",
                "for i,c in enumerate(corr):\n",
                "    np.fill_diagonal(c,0)\n",
                "    ac = []\n",
                "    for c_ in c: \n",
                "        ac.append(sg.correlate(c_,c_,mode='same'))\n",
                "    ac = np.array(ac)\n",
                "    axs[0,i].imshow(c,cmap='jet')\n",
                "    axs[1,i].imshow(ac,cmap='jet')\n",
                "\n"
            ]
        },
        {
            "cell_type": "markdown",
            "metadata": {},
            "source": [
                "### Pairwise correlation (Zt0-5) quantiles temporal evolution durign recovery sleep "
            ]
        },
        {
            "cell_type": "code",
            "execution_count": null,
            "metadata": {},
            "outputs": [],
            "source": [
                "import matplotlib.pyplot as plt\n",
                "from scipy import stats\n",
                "import numpy as np\n",
                "import pandas as pd\n",
                "import subjects\n",
                "\n",
                "sessions = subjects.sd.pf_sess"
            ]
        },
        {
            "cell_type": "code",
            "execution_count": null,
            "metadata": {},
            "outputs": [],
            "source": [
                "template_corr,pair_corr= [],[]\n",
                "for sub, sess in enumerate(sessions):\n",
                "    post = sess.paradigm[\"post\"].flatten()\n",
                "    neurons = sess.neurons.get_neuron_type(\"pyr\")\n",
                "    template = [post[0] + 2.5 * 3600, post[0] + 5 * 3600]\n",
                "\n",
                "    template_corr.append(\n",
                "        neurons.time_slice(*template).get_binned_spiketrains().get_pairwise_corr()\n",
                "    )\n",
                "\n",
                "    windows = np.arange(post[0]+5*3600,post[0]+8*3600,300)\n",
                "\n",
                "    pair_corr_sub = []\n",
                "    for w in windows[:-1]:\n",
                "        pair_corr_sub.append(\n",
                "            neurons.time_slice(w, w + 300).get_binned_spiketrains().get_pairwise_corr()\n",
                "        )\n",
                "    pair_corr.append(np.array(pair_corr_sub).T)\n",
                "\n",
                "template_corr = np.concatenate(template_corr)\n",
                "pair_corr = np.vstack(pair_corr)\n",
                "# subjects.GroupData().save(corr, \"t_corr_across_session\")\n"
            ]
        },
        {
            "cell_type": "code",
            "execution_count": null,
            "metadata": {},
            "outputs": [],
            "source": [
                "quantiles = pd.qcut(template_corr,5,labels=False)\n",
                "\n",
                "mean_corr=[]\n",
                "mean_template=[]\n",
                "for i in range(5):\n",
                "    mean_corr.append(np.nanmean(pair_corr[quantiles==i,:],axis=0))\n",
                "    mean_template.append(np.nanmean(template_corr[quantiles==i]))\n",
                "\n",
                "mean_corr = np.array(mean_corr)\n",
                "mean_template = np.array(mean_template)\n",
                "ratio = (mean_corr-mean_template[:,np.newaxis])/mean_template[:,np.newaxis]"
            ]
        },
        {
            "cell_type": "code",
            "execution_count": null,
            "metadata": {},
            "outputs": [],
            "source": [
                "%matplotlib widget\n",
                "\n",
                "for i,mc in enumerate(ratio):\n",
                "    plt.plot(mc,label=i)\n",
                "\n",
                "plt.legend()"
            ]
        },
        {
            "cell_type": "markdown",
            "metadata": {},
            "source": [
                "### Distribution of pairwise correlations during Zt0-5 comaprison SD vs NSD"
            ]
        },
        {
            "cell_type": "code",
            "execution_count": null,
            "metadata": {},
            "outputs": [],
            "source": [
                "import matplotlib.pyplot as plt\n",
                "from scipy import stats\n",
                "import numpy as np\n",
                "import pandas as pd\n",
                "import subjects\n",
                "\n",
                "sessions = subjects.nsd.pf_sess + subjects.sd.pf_sess"
            ]
        },
        {
            "cell_type": "code",
            "execution_count": null,
            "metadata": {},
            "outputs": [],
            "source": [
                "pair_corr_df = []\n",
                "for sub, sess in enumerate(sessions):\n",
                "    post = sess.paradigm[\"post\"].flatten()\n",
                "    neurons = sess.neurons.get_neuron_type(\"pyr\")\n",
                "    e1 = [post[0], post[0] + 5 * 3600]\n",
                "    e2= [post[0] + 5 * 3600, post[1]]\n",
                "\n",
                "    pcorr_e1 = (\n",
                "        neurons.time_slice(*e1).get_binned_spiketrains().get_pairwise_corr()\n",
                "    )\n",
                "    pcorr_e2 = (\n",
                "        neurons.time_slice(*e2).get_binned_spiketrains().get_pairwise_corr()\n",
                "    )\n",
                "\n",
                "    pair_corr_df.append(\n",
                "        pd.DataFrame(dict(pcorr_first5=pcorr_e1, pcorr_last5=pcorr_e2, grp=sess.tag))\n",
                "    )\n",
                "\n",
                "pair_corr_df = pd.concat(pair_corr_df, ignore_index=True)\n",
                "# subjects.GroupData().save(corr, \"t_corr_across_session\")\n"
            ]
        },
        {
            "cell_type": "code",
            "execution_count": null,
            "metadata": {},
            "outputs": [],
            "source": [
                "%matplotlib widget\n",
                "import seaborn as sns\n",
                "\n",
                "sns.histplot(\n",
                "    data=pair_corr_df,\n",
                "    x=\"pcorr_first5\",\n",
                "    hue=\"grp\",\n",
                "    stat=\"probability\",\n",
                "    fill=False,\n",
                "    element=\"step\",\n",
                "    common_bins=True,\n",
                "    common_norm=False,\n",
                "    palette=subjects.colors_sd(1),\n",
                "    # kde=True,\n",
                "    # cumulative=True,\n",
                ")\n",
                "\n",
                "sns.histplot(\n",
                "    data=pair_corr_df,\n",
                "    x=\"pcorr_last5\",\n",
                "    hue=\"grp\",\n",
                "    stat=\"probability\",\n",
                "    fill=False,\n",
                "    element=\"step\",\n",
                "    common_bins=True,\n",
                "    common_norm=False,\n",
                "    palette=subjects.colors_sd(1.7),\n",
                "    # log_scale=True,\n",
                "    # cumulative=True,\n",
                ")\n",
                "\n",
                "plt.legend(['NSD_Zt0-5','SD_Zt0-5','NSD_Zt5-end','SD_Zt5-end'])\n",
                "plt.xlim([-0.05,0.17])\n"
            ]
        },
        {
            "cell_type": "markdown",
            "metadata": {},
            "source": [
                "### Pairwise correlations NSD early sleep vs SD recovery sleep\n",
                "- Are they different ?\n",
                "- Comapring distribution of pairwise correlations\n",
                "- Results: Observed that during recovery sleep negative correlations are pushed towards zero. This may be an effect of higher delta oscillations during recovery sleep i.e, neurons are more synchronized during recovery sleep. "
            ]
        },
        {
            "cell_type": "code",
            "execution_count": null,
            "metadata": {},
            "outputs": [],
            "source": [
                "import matplotlib.pyplot as plt\n",
                "from scipy import stats\n",
                "import numpy as np\n",
                "import pandas as pd\n",
                "import subjects\n",
                "\n",
                "sessions = subjects.nsd.pf_sess + subjects.sd.pf_sess"
            ]
        },
        {
            "cell_type": "code",
            "execution_count": null,
            "metadata": {},
            "outputs": [],
            "source": [
                "pair_corr_df = []\n",
                "for sub, sess in enumerate(sessions):\n",
                "    post = sess.paradigm[\"post\"].flatten()\n",
                "    neurons = sess.neurons.get_neuron_type(\"pyr\")\n",
                "\n",
                "    if sess.tag == \"NSD\":\n",
                "        period = [post[0], post[0] + 4 * 3600]\n",
                "        label = f\"{sess.tag} Zt0-4 h POST\"\n",
                "    else:\n",
                "        period = [post[0] + 5 * 3600, post[1]]\n",
                "        label = f\"{sess.tag} rec. slp.\"\n",
                "\n",
                "    pcorr_125 = (\n",
                "        neurons.time_slice(*period)\n",
                "        .get_binned_spiketrains(bin_size=0.125)\n",
                "        .get_pairwise_corr()\n",
                "    )\n",
                "    pcorr_250 = (\n",
                "        neurons.time_slice(*period)\n",
                "        .get_binned_spiketrains(bin_size=0.250)\n",
                "        .get_pairwise_corr()\n",
                "    )\n",
                "\n",
                "    pair_corr_df.append(\n",
                "        pd.DataFrame(dict(pcorr_125=pcorr_125, pcorr_250=pcorr_250, grp=sess.tag))\n",
                "    )\n",
                "pair_corr_df = pd.concat(pair_corr_df, ignore_index=True)\n",
                "# subjects.GroupData().save(corr, \"t_corr_across_session\")\n"
            ]
        },
        {
            "cell_type": "code",
            "execution_count": null,
            "metadata": {},
            "outputs": [],
            "source": [
                "%matplotlib widget\n",
                "import seaborn as sns\n",
                "from neuropy.plotting import Fig\n",
                "\n",
                "fig = Fig(grid=(2, 1), fontsize=10)\n",
                "ax = fig.subplot(fig.gs[0])\n",
                "\n",
                "bins = np.linspace(-0.1, 0.3, 200)\n",
                "sns.histplot(\n",
                "    data=pair_corr_df,\n",
                "    x=\"pcorr_250\",\n",
                "    hue=\"grp\",\n",
                "    stat=\"probability\",\n",
                "    fill=False,\n",
                "    element=\"step\",\n",
                "    # common_bins=True,\n",
                "    bins=bins,\n",
                "    common_norm=False,\n",
                "    hue_order=[\"NSD\", \"SD\"],\n",
                "    palette=subjects.colors_sd(1),\n",
                "    # kde=True,\n",
                "    # cumulative=True,\n",
                "    lw=2,\n",
                "    ax=ax,\n",
                ")\n",
                "\n",
                "\n",
                "ax.set_xlabel(\"Pairwise correlations\")\n",
                "ax.set_title(\n",
                "    \"Distribution of pairwise correlations between regular sleep and recovery sleep\\n\"\n",
                ")\n",
                "\n",
                "sns.histplot(\n",
                "    data=pair_corr_df,\n",
                "    x=\"pcorr_125\",\n",
                "    hue=\"grp\",\n",
                "    stat=\"probability\",\n",
                "    fill=False,\n",
                "    element=\"step\",\n",
                "    # common_bins=True,\n",
                "    bins=bins,\n",
                "    common_norm=False,\n",
                "    hue_order=[\"NSD\", \"SD\"],\n",
                "    palette=subjects.colors_sd(1.7),\n",
                "    # kde=True,\n",
                "    # cumulative=True,\n",
                "    lw=2,\n",
                "    ax=ax,\n",
                ")\n",
                "\n",
                "\n",
                "ax.legend(frameon=False)\n",
                "fig.legend(\n",
                "    ax,\n",
                "    [\"NSD Zt0-4 h\", \"SD recovery sleep\"],\n",
                "    subjects.colors_sd(1),\n",
                "    fontsize=10,\n",
                "    dy=0.05,\n",
                ")\n",
                "# ax.axvline(np.nanmean(pair_corr_df[pair_corr_df[\"grp\"] == \"NSD\"].pcorr.mean()),color='k')\n",
                "# ax.axvline(np.nanmean(pair_corr_df[pair_corr_df[\"grp\"] == \"SD\"].pcorr.mean()),color='r')\n",
                "# ax.set_ylabel(\"Pairwise correlations\")\n",
                "# plt.xscale('log')\n",
                "# plt.yscale('log')\n",
                "# plt.legend(['NSD_Zt0-5','SD_Zt0-5','NSD_Zt5-end','SD_Zt5-end'])\n",
                "# plt.xlim([-0.05,0.17])\n",
                "# stats.kruskal(\n",
                "#     pair_corr_df[pair_corr_df[\"grp\"] == \"NSD\"].pcorr,\n",
                "#     pair_corr_df[pair_corr_df[\"grp\"] == \"NSD\"].pcorr,\n",
                "#     nan_policy=\"omit\",\n",
                "# )\n"
            ]
        },
        {
            "cell_type": "markdown",
            "metadata": {},
            "source": [
                "### CCG of pairs with negative correlations\n",
                "- Check what does CCG of a negative pairwise correlation look like.\n",
                "- It seems, negative pairs have stronger dip in 20 to 100 ms region comapred to baseline (200 ms).\n",
                "- One observation is that negative correlation pairs are have higher theta modulation.\n"
            ]
        },
        {
            "cell_type": "code",
            "execution_count": null,
            "metadata": {},
            "outputs": [],
            "source": [
                "import matplotlib.pyplot as plt\n",
                "from scipy import stats\n",
                "import numpy as np\n",
                "import pandas as pd\n",
                "import subjects\n",
                "\n",
                "sessions = subjects.sd.pf_sess"
            ]
        },
        {
            "cell_type": "code",
            "execution_count": null,
            "metadata": {},
            "outputs": [],
            "source": [
                "from neuropy.utils.neurons_util import calculate_neurons_ccg\n",
                "\n",
                "pair_corr, ccgs_all = [], []\n",
                "for sub, sess in enumerate(sessions):\n",
                "    post = sess.paradigm[\"post\"].flatten()\n",
                "    neurons = sess.neurons.get_neuron_type(\"pyr\")\n",
                "    frate_bool = neurons.firing_rate > 0\n",
                "    neurons = neurons[frate_bool]\n",
                "    e1 = [post[0]+5*3600, post[1]]\n",
                "\n",
                "    pcorr_e1 = (\n",
                "        neurons.time_slice(*e1)\n",
                "        .get_binned_spiketrains(bin_size=0.125)\n",
                "        .get_pairwise_corr()\n",
                "    )\n",
                "    ccgs, t = calculate_neurons_ccg(neurons, bin_size=0.001, window_size=1)\n",
                "    indices = np.tril_indices(neurons.n_neurons, k=-1)\n",
                "    ccgs = ccgs[indices[0], indices[1], :]\n",
                "\n",
                "    pair_corr.append(pcorr_e1)\n",
                "    ccgs_all.append(ccgs)\n",
                "\n",
                "pair_corr = np.concatenate(pair_corr)\n",
                "ccgs_all = np.vstack(ccgs_all)\n",
                "\n",
                "sort_ind = np.argsort(pair_corr)\n",
                "pair_corr = pair_corr[sort_ind]\n",
                "ccgs_all = ccgs_all[sort_ind, :]\n",
                "ccgs_norm = ccgs_all / np.max(ccgs_all, axis=1, keepdims=True)\n"
            ]
        },
        {
            "cell_type": "code",
            "execution_count": null,
            "metadata": {},
            "outputs": [],
            "source": [
                "%matplotlib widget\n",
                "import seaborn as sns\n",
                "\n",
                "nt = ccgs_all.shape[1]\n",
                "center = nt//2\n",
                "_,[[ax1,ax2],[ax3,ax4]] = plt.subplots(2,2)\n",
                "\n",
                "ax1.scatter(pair_corr,ccgs_all[:,center],s=3,c='gray')\n",
                "ax1.set_yscale('log')\n",
                "\n",
                "ccg_zscore =stats.zscore(ccgs_norm,axis=1)  \n",
                "good_indices = ~np.isnan(np.sum(ccg_zscore,axis=1))\n",
                "ax2.imshow(ccg_zscore[good_indices,:],aspect='auto',cmap='jet',vmin=0,vmax=0.5,extent=[t[0],t[-1],0,len(np.where(good_indices)[0])])\n",
                "ax2.set_ylabel('Pairs')\n",
                "ax2.set_xlabel('Time (ms)')\n",
                "\n",
                "neg_ind = np.where(pair_corr<0)[0]\n",
                "pos_ind = np.where(pair_corr>0)[0]\n",
                "\n",
                "pos_mean =np.nanmean(ccgs_norm[pos_ind,:],axis=0) \n",
                "neg_mean =np.nanmean(ccgs_norm[neg_ind,:],axis=0) \n",
                "ax3.plot(t,stats.zscore(neg_mean),'#FF4081')\n",
                "ax3.plot(t,stats.zscore(pos_mean),'#00C853')\n",
                "ax3.set_ylabel('Normalized count (zscored)')\n",
                "ax3.set_xlabel('Time (ms)')\n",
                "ax3.legend(['negative','positive'])\n",
                "ax3.set_title('Mean CCG of negative and positively correlated pairs')\n"
            ]
        },
        {
            "cell_type": "markdown",
            "metadata": {},
            "source": [
                "### Reactivation of pairwise correlation quantiles during POST\n",
                "- Does each quantile of correlation have different decay rate ?\n",
                "- Maybe best understood if all correlations from all the sessions are pooled together."
            ]
        },
        {
            "cell_type": "code",
            "execution_count": null,
            "metadata": {},
            "outputs": [],
            "source": [
                "import matplotlib.pyplot as plt\n",
                "from scipy import stats\n",
                "from tqdm.notebook import tqdm\n",
                "import numpy as np\n",
                "import pandas as pd\n",
                "import subjects\n",
                "\n",
                "sessions = subjects.sd.pf_sess"
            ]
        },
        {
            "cell_type": "code",
            "execution_count": null,
            "metadata": {},
            "outputs": [],
            "source": [
                "pair_corr_all = []\n",
                "for sub, sess in enumerate(sessions):\n",
                "    pre = sess.paradigm['pre'].flatten()\n",
                "    maze = sess.paradigm[\"maze\"].flatten()\n",
                "    post = sess.paradigm[\"post\"].flatten()\n",
                "\n",
                "    neurons = sess.neurons.get_neuron_type(\"pyr\")\n",
                "    post_bins = np.arange(post[0],post[0]+5*3600, 300)\n",
                "    post_epochs = np.vstack((post_bins[:-1],post_bins[1:])).T\n",
                "    \n",
                "    all_epochs = np.vstack([pre,maze,post_epochs])\n",
                "\n",
                "    pair_corr = []\n",
                "    for e in all_epochs:\n",
                "        pair_corr.append(\n",
                "            neurons.time_slice(*e).get_binned_spiketrains(0.25).get_pairwise_corr()\n",
                "        )\n",
                "    pair_corr = np.array(pair_corr).T\n",
                "\n",
                "    pair_corr_all.append(pair_corr)\n",
                "\n",
                "pair_corr_all = np.vstack(pair_corr_all)"
            ]
        },
        {
            "cell_type": "code",
            "execution_count": null,
            "metadata": {},
            "outputs": [],
            "source": [
                "%matplotlib widget\n",
                "import pingouin as pg\n",
                "\n",
                "_,axs = plt.subplots(1,2)\n",
                "axs = axs.reshape(-1)\n",
                "\n",
                "pre_corr = pair_corr_all[:,0]\n",
                "maze_corr = pair_corr_all[:,1]\n",
                "quantiles = pd.qcut(maze_corr,5,labels=False)\n",
                "# quantiles = pd.qcut(pre_corr,5,labels=False)\n",
                "\n",
                "ev_quantile = []\n",
                "quantile_boundary = []\n",
                "for q in range(5):\n",
                "    quantile_boundary.append(pair_corr_all[quantiles==q,1].max())\n",
                "    mat = pair_corr_all[quantiles==q,:]\n",
                "    df = pd.DataFrame(mat,columns=np.arange(mat.shape[1]))\n",
                "    \n",
                "    ev = []\n",
                "    for y in range(2,61):\n",
                "        stats = pg.partial_corr(data=df,x=1,y=y,covar=0)\n",
                "        ev.append(stats.r.values[0]**2)\n",
                "    \n",
                "    ev_quantile.append(np.array(ev))\n",
                "    # mat_corr = df.corr().values\n",
                "    # np.fill_diagonal(mat_corr,0)\n",
                "\n",
                "    # axs[q].imshow(mat_corr,cmap='jet')\n",
                "axs[0].plot(np.array(ev_quantile).T)\n",
                "\n",
                "bins = np.arange(-0.1,0.3,0.01)\n",
                "hist_paircorr = np.histogram(maze_corr[~np.isnan(maze_corr)],bins=bins)[0]\n",
                "hist_pre = np.histogram(pre_corr[~np.isnan(pre_corr)],bins=bins)[0]\n",
                "axs[1].plot(bins[:-1],hist_paircorr/hist_paircorr.sum())\n",
                "axs[1].plot(bins[:-1],hist_pre/hist_pre.sum())\n",
                "# for val in quantile_boundary[:-1]:\n",
                "#     axs[1].axvline(val)"
            ]
        },
        {
            "cell_type": "markdown",
            "metadata": {},
            "source": [
                "### Manifold/PCA trajectory during NSD and SD\n",
                "- Although interesting patterns are visible during NSD and SD but not sure what to make of it."
            ]
        },
        {
            "cell_type": "code",
            "execution_count": 3,
            "metadata": {},
            "outputs": [],
            "source": [
                "sessions = subjects.sd.ratSday3"
            ]
        },
        {
            "cell_type": "code",
            "execution_count": 10,
            "metadata": {},
            "outputs": [],
            "source": [
                "import umap\n",
                "from sklearn.decomposition import PCA\n",
                "from sklearn.preprocessing import StandardScaler\n",
                "from sklearn.manifold import Isomap\n",
                "\n",
                "reducer = umap.UMAP(n_components=2,n_neighbors=30)\n",
                "pair_corr_all = []\n",
                "for sub, sess in enumerate(sessions):\n",
                "    pre = sess.paradigm['pre'].flatten()\n",
                "    maze = sess.paradigm[\"maze\"].flatten()\n",
                "    post = sess.paradigm[\"post\"].flatten()\n",
                "    neurons = sess.neurons_stable.get_neuron_type('pyr')\n",
                "\n",
                "    # period = [post[0],post[0]+5*3600]\n",
                "    period = [post[0]+5*3600,post[1]]\n",
                "    binspk = neurons.time_slice(*period).get_binned_spiketrains(0.5).spike_counts\n",
                "    # pca = PCA(n_components=2)\n",
                "    scaled_data = StandardScaler().fit_transform(binspk.T)\n",
                "    transform =reducer.fit_transform(scaled_data)\n"
            ]
        },
        {
            "cell_type": "code",
            "execution_count": 11,
            "metadata": {},
            "outputs": [
                {
                    "data": {
                        "text/plain": [
                            "<matplotlib.collections.PathCollection at 0x7f26f2a25360>"
                        ]
                    },
                    "execution_count": 11,
                    "metadata": {},
                    "output_type": "execute_result"
                },
                {
                    "data": {
                        "application/vnd.jupyter.widget-view+json": {
                            "model_id": "98725407f99b45769e2be138aebe9e0d",
                            "version_major": 2,
                            "version_minor": 0
                        },
                        "image/png": "[encoded data removed]",
                        "text/html": [
                            "\n",
                            "            <div style=\"display: inline-block;\">\n",
                            "                <div class=\"jupyter-widgets widget-label\" style=\"text-align: center;\">\n",
                            "                    Figure\n",
                            "                </div>\n",
                            "                <img src='data:image/png;base64,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' width=640.0/>\n",
                            "            </div>\n",
                            "        "
                        ],
                        "text/plain": [
                            "Canvas(toolbar=Toolbar(toolitems=[('Home', 'Reset original view', 'home', 'home'), ('Back', 'Back to previous …"
                        ]
                    },
                    "metadata": {},
                    "output_type": "display_data"
                }
            ],
            "source": [
                "import matplotlib as mpl\n",
                "\n",
                "cmap = mpl.cm.get_cmap('gist_rainbow')\n",
                "n_t = transform.shape[0]\n",
                "\n",
                "colors = [cmap(_/n_t) for _ in range(n_t)]\n",
                "_,ax = plt.subplots()\n",
                "x,y = transform.T\n",
                "ax.scatter(x,y,s=2,c=colors)\n",
                "# ax.plot(x,y)\n",
                "\n"
            ]
        }
    ],
    "metadata": {
        "interpreter": {
            "hash": "cce1618081139d19eb1ee8d40815d94a2de4f62e1efb20d9406ddb60628c36ae"
        },
        "kernelspec": {
            "display_name": "Python 3.10.4 ('data_analysis')",
            "language": "python",
            "name": "python3"
        },
        "language_info": {
            "codemirror_mode": {
                "name": "ipython",
                "version": 3
            },
            "file_extension": ".py",
            "mimetype": "text/x-python",
            "name": "python",
            "nbconvert_exporter": "python",
            "pygments_lexer": "ipython3",
            "version": "3.10.4"
        },
        "orig_nbformat": 4
    },
    "nbformat": 4,
    "nbformat_minor": 2
}
