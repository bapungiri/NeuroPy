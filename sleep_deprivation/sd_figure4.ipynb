{
    "cells": [
        {
            "cell_type": "markdown",
            "metadata": {},
            "source": [
                "### Figure 4 \n",
                "- Sliding template during sleep deprivation\n",
                "- Correlation across time window"
            ]
        },
        {
            "cell_type": "markdown",
            "metadata": {},
            "source": [
                "### load data"
            ]
        },
        {
            "cell_type": "code",
            "execution_count": null,
            "metadata": {},
            "outputs": [],
            "source": [
                "import matplotlib.pyplot as plt\n",
                "import numpy as np\n",
                "import subjects\n",
                "from subjects import stat_kw\n",
                "from plotters import violinplot\n",
                "import pandas as pd\n",
                "import seaborn as sns\n",
                "from neuropy.plotting import Fig\n",
                "from scipy import stats\n",
                "from statannotations.Annotator import Annotator\n",
                "\n",
                "group = ['NSD','SD']\n",
                "grpdata = subjects.GroupData()\n",
                "pf_norm_tuning = grpdata.pf_norm_tuning\n",
                "\n",
                "\n",
                "# replay examples\n",
                "examples = grpdata.replay_examples\n",
                "\n",
                "#replay rate\n",
                "wcorr_dist = grpdata.replay_wcorr\n",
                "# post replay score\n",
                "post_df = grpdata.replay_post_score\n",
                "# post_df = post_df[np.abs(post_df['velocity'])>100]\n",
                "post_df['weighted_corr'] = post_df['weighted_corr'].abs()\n",
                "colors_post = subjects.colors_sd(1)\n",
                "\n",
                "\n",
                "fig = Fig(grid=(7, 6), hspace=0.45, wspace=0.5,constrained_layout=False)\n",
                "filename = subjects.figpath_sd / 'figure4'\n",
                "caption = 'Place cells: \\n(A) Place fields recorded during NSD and SD sessions.'"
            ]
        },
        {
            "cell_type": "markdown",
            "metadata": {},
            "source": [
                "### replay examples"
            ]
        },
        {
            "cell_type": "code",
            "execution_count": null,
            "metadata": {},
            "outputs": [],
            "source": [
                "subfig = fig.add_subfigure(fig.gs[1, 0:4])\n",
                "axs = subfig.subplots(2, 10, sharey=\"row\")\n",
                "\n",
                "dt = 0.02*1000\n",
                "pf_cmaps = ['Greys','Reds']\n",
                "for i, g in enumerate(group):\n",
                "    events = examples[g][\"posteriors\"]\n",
                "    wcorr = examples[g]['wcorr']\n",
                "    for i1, ev in enumerate(events):\n",
                "        ev = np.apply_along_axis(\n",
                "            np.convolve, axis=0, arr=ev, v=np.ones(2 * 2 + 1), mode=\"same\"\n",
                "        )\n",
                "        nt = ev.shape[1]\n",
                "        ax = axs[i,i1]\n",
                "        if g=='SD' and i1>7:\n",
                "            cmap = 'Blues'\n",
                "        else:\n",
                "            cmap = pf_cmaps[i]\n",
                "        ax.pcolormesh(ev, cmap=cmap, vmin=0, vmax=0.2,rasterized=True)\n",
                "        ax.text(0.6,7,f'{wcorr[i1].round(2)}',color='#039be5',fontdict=dict(fontsize=6))\n",
                "        ax.spines['right'].set_visible(True)\n",
                "        ax.spines['top'].set_visible(True)\n",
                "        ax.set_yticks([])\n",
                "        ax.set_xticks([nt//2],[int(nt*dt)])\n",
                "        ax.tick_params(length=0)\n"
            ]
        },
        {
            "cell_type": "markdown",
            "metadata": {},
            "source": [
                "### wcorr percentile cdf"
            ]
        },
        {
            "cell_type": "code",
            "execution_count": null,
            "metadata": {},
            "outputs": [],
            "source": [
                "subfig = fig.add_subfigure(fig.gs[2, 0:4])\n",
                "axs = subfig.subplots(1, 5, sharey=True,sharex=True)\n",
                "\n",
                "zts = wcorr_dist.zt.unique()\n",
                "\n",
                "plot_kw = dict(\n",
                "    x=\"perc\",\n",
                "    hue=\"grp\",\n",
                "    stat=\"probability\",\n",
                "    common_bins=True,\n",
                "    binwidth=5,\n",
                "    common_norm=False,\n",
                "    cumulative=True,\n",
                "    fill=False,\n",
                "    element=\"poly\",\n",
                "    lw=0.8,\n",
                ")\n",
                "\n",
                "ax = axs[0]\n",
                "sns.histplot(\n",
                "    data=wcorr_dist[wcorr_dist.zt == \"PRE\"],\n",
                "    **plot_kw,\n",
                "    ax=ax,\n",
                "    palette=subjects.colors_sd(1),\n",
                ")\n",
                "ax.legend(\"\", frameon=False)\n",
                "val1 = wcorr_dist[(wcorr_dist.grp == \"SD\") & (wcorr_dist.zt == 'PRE')].perc.values\n",
                "val2 = wcorr_dist[(wcorr_dist.grp == \"NSD\") & (wcorr_dist.zt == 'PRE')].perc.values\n",
                "htest = stats.ks_2samp(val1, val2)\n",
                "# p = np.format_float_scientific(htest.pvalue,precision=2)\n",
                "p = htest.pvalue\n",
                "sig_text = \"n.s\" if p > 0.05 else \"*\"\n",
                "ax.text(25, 0.6, sig_text, color='g')\n",
                "ax.set_title('PRE')\n",
                "ax.set_xticks([0,25,50,75,100])\n",
                "\n",
                "\n",
                "for i, zt in enumerate(zts[1:]):\n",
                "    ax = axs[i + 1]\n",
                "    yvals = [0.8, 0.7]\n",
                "    for i1, g in enumerate([\"NSD\", \"SD\"]):\n",
                "        val1 = wcorr_dist[(wcorr_dist.grp == g) & (wcorr_dist.zt == \"PRE\")].perc.values\n",
                "        val2 = wcorr_dist[(wcorr_dist.grp == g) & (wcorr_dist.zt == zt)].perc.values\n",
                "        htest = stats.ks_2samp(val1, val2, alternative=\"greater\")\n",
                "        # p = np.format_float_scientific(htest.pvalue,precision=2)\n",
                "        p = htest.pvalue\n",
                "        sig_text = \"n.s\" if p > 0.05 else \"*\"\n",
                "        ax.text(25, yvals[i1], sig_text, color=subjects.colors_sd()[i1])\n",
                "\n",
                "    sns.histplot(\n",
                "        data=wcorr_dist[wcorr_dist.zt == \"PRE\"],\n",
                "        **plot_kw,\n",
                "        ax=ax,\n",
                "        palette=subjects.colors_sd(1),\n",
                "        ls=\"--\",\n",
                "    )\n",
                "    sns.histplot(\n",
                "        data=wcorr_dist[wcorr_dist.zt == zt],\n",
                "        **plot_kw,\n",
                "        ax=ax,\n",
                "        palette=subjects.colors_sd(1),\n",
                "    )\n",
                "    val1 = wcorr_dist[(wcorr_dist.grp == \"SD\") & (wcorr_dist.zt == zt)].perc.values\n",
                "    val2 = wcorr_dist[(wcorr_dist.grp == \"NSD\") & (wcorr_dist.zt == zt)].perc.values\n",
                "    htest = stats.ks_2samp(val1, val2, alternative=\"greater\")\n",
                "    # p = np.format_float_scientific(htest.pvalue,precision=2)\n",
                "    p = htest.pvalue\n",
                "    sig_text = \"n.s\" if p > 0.05 else \"*\"\n",
                "    ax.text(25, 0.6, sig_text, color='g')\n",
                "\n",
                "    ax.legend(\"\", frameon=False)\n",
                "    ax.set_ylabel(\"\")\n",
                "    ax.set_title(zt)\n",
                "    # ax.set_yscale('log')\n",
                "\n"
            ]
        },
        {
            "cell_type": "markdown",
            "metadata": {},
            "source": [
                "### Percentile violinplot"
            ]
        },
        {
            "cell_type": "code",
            "execution_count": null,
            "metadata": {},
            "outputs": [],
            "source": [
                "colors = subjects.colors_sd(1)\n",
                "\n",
                "ax = fig.subplot(fig.gs[4, 0])\n",
                "# plot_kw =dict(data=wcorr_dist,x='zt',y='seq_score',ax=ax,color=colors[g]) \n",
                "violinplot(data=wcorr_dist, x=\"zt\", y=\"perc\",stat_anot=True)\n",
                "\n",
                "\n",
                "#stats\n",
                "# orders =df.zt.unique()\n",
                "# pairs = [('PRE', _) for _ in orders[1:]]\n",
                "# annotator = Annotator(pairs=pairs, **plot_kw, order=orders)\n",
                "# annotator.configure(test=\"Kruskal\", **stat_kw)\n",
                "# annotator.apply_and_annotate()\n",
                "# annotator.reset_configuration()\n",
                "\n",
                "ax.set_xlabel('')\n",
                "# ax.set_ylim(-2.5,10)\n",
                "ax.tick_params('x',rotation=30)\n",
                "ax.legend('',frameon=False)\n"
            ]
        },
        {
            "cell_type": "markdown",
            "metadata": {},
            "source": [
                "### saving"
            ]
        },
        {
            "cell_type": "code",
            "execution_count": null,
            "metadata": {},
            "outputs": [],
            "source": [
                "fig.savefig(filename,caption=caption)"
            ]
        }
    ],
    "metadata": {
        "interpreter": {
            "hash": "cce1618081139d19eb1ee8d40815d94a2de4f62e1efb20d9406ddb60628c36ae"
        },
        "kernelspec": {
            "display_name": "Python 3.10.4 ('data_analysis')",
            "language": "python",
            "name": "python3"
        },
        "language_info": {
            "codemirror_mode": {
                "name": "ipython",
                "version": 3
            },
            "file_extension": ".py",
            "mimetype": "text/x-python",
            "name": "python",
            "nbconvert_exporter": "python",
            "pygments_lexer": "ipython3",
            "version": "3.10.4"
        },
        "orig_nbformat": 4
    },
    "nbformat": 4,
    "nbformat_minor": 2
}
