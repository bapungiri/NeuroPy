{
    "cells": [
        {
            "cell_type": "markdown",
            "metadata": {},
            "source": [
                "### Figure 4 \n",
                "- Sliding template during sleep deprivation\n",
                "- Correlation across time window"
            ]
        },
        {
            "cell_type": "markdown",
            "metadata": {},
            "source": [
                "### load data"
            ]
        },
        {
            "cell_type": "code",
            "execution_count": 1,
            "metadata": {},
            "outputs": [
                {
                    "data": {
                        "application/vnd.jupyter.widget-view+json": {
                            "model_id": "eb64036784f14c2d9da4160c7e8fff28",
                            "version_major": 2,
                            "version_minor": 0
                        },
                        "image/png": "[encoded data removed]",
                        "text/html": [
                            "\n",
                            "            <div style=\"display: inline-block;\">\n",
                            "                <div class=\"jupyter-widgets widget-label\" style=\"text-align: center;\">\n",
                            "                    Figure\n",
                            "                </div>\n",
                            "                <img src='data:image/png;base64,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' width=850.0/>\n",
                            "            </div>\n",
                            "        "
                        ],
                        "text/plain": [
                            "Canvas(toolbar=Toolbar(toolitems=[('Home', 'Reset original view', 'home', 'home'), ('Back', 'Back to previous …"
                        ]
                    },
                    "metadata": {},
                    "output_type": "display_data"
                }
            ],
            "source": [
                "%matplotlib widget\n",
                "import matplotlib.pyplot as plt\n",
                "import numpy as np\n",
                "import subjects\n",
                "import pandas as pd\n",
                "import seaborn as sns\n",
                "from neuropy.plotting import Fig\n",
                "from scipy import stats\n",
                "\n",
                "group = ['nsd','sd']\n",
                "grpdata = subjects.GroupData()\n",
                "pf_norm_tuning = grpdata.pf_norm_tuning\n",
                "\n",
                "# post replay score\n",
                "post_df = grpdata.replay_post_score\n",
                "# post_df = post_df[np.abs(post_df['velocity'])>100]\n",
                "post_df['weighted_corr'] = post_df['weighted_corr'].abs()\n",
                "colors_post = subjects.colors_sd(1)\n",
                "\n",
                "# re-maze stuff\n",
                "re_maze_df = grpdata.replay_re_maze_score\n",
                "re_maze_pos_df = grpdata.replay_re_maze_position_distribution\n",
                "colors_re_maze = subjects.colors_sd(1)\n",
                "\n",
                "# position distribution in events\n",
                "pos_dist_df = grpdata.replay_pos_distribution\n",
                "\n",
                "fig = Fig(grid=(5, 6), hspace=0.45, wspace=0.5)\n",
                "filename = subjects.figpath_sd / 'figure4'\n",
                "caption = 'Place cells: \\n(A) Place fields recorded during NSD and SD sessions.'"
            ]
        },
        {
            "cell_type": "markdown",
            "metadata": {},
            "source": [
                "### pf tuning"
            ]
        },
        {
            "cell_type": "code",
            "execution_count": 2,
            "metadata": {},
            "outputs": [],
            "source": [
                "from scipy.ndimage import gaussian_filter1d\n",
                "pf_cmaps = ['Blues','Blues']\n",
                "for i, grp in enumerate(group):\n",
                "    df = pf_norm_tuning[pf_norm_tuning['grp']==grp].drop(columns='grp')\n",
                "    tunings = df.to_numpy()\n",
                "    x = df.columns.values.astype('float')\n",
                "    y = np.arange(tunings.shape[0])\n",
                "\n",
                "    sort_ind = np.argsort(np.argmax(tunings,axis=1))\n",
                "    tunings = gaussian_filter1d(tunings[sort_ind,:],sigma=0.7,axis=1)\n",
                "\n",
                "\n",
                "    ax = fig.subplot(fig.gs[:2,i])\n",
                "    ax.pcolormesh(x,y,tunings,cmap=pf_cmaps[i],rasterized=True)\n",
                "    ax.set_title(grp.upper())\n",
                "    ax.set_xticks([0,1])\n",
                "    ax.set_xlabel('Position')\n",
                "    if i==0:\n",
                "        ax.set_ylabel('Neurons')\n",
                "        fig.panel_label(ax,'A')\n"
            ]
        },
        {
            "cell_type": "markdown",
            "metadata": {},
            "source": [
                "### post score"
            ]
        },
        {
            "cell_type": "code",
            "execution_count": 3,
            "metadata": {},
            "outputs": [],
            "source": [
                "ax = fig.subplot(fig.gs[2:5])\n",
                "g = sns.violinplot(\n",
                "    data=post_df,\n",
                "    x=\"epoch\",\n",
                "    y=\"score\",\n",
                "    hue=\"grp\",\n",
                "    split=True,\n",
                "    inner=None,\n",
                "    scale=\"width\",\n",
                "    palette=colors_post,\n",
                "    linewidth=0.8,\n",
                "    # showmedians=True,\n",
                "    ax=ax,\n",
                ")\n",
                "\n",
                "ax.legend([],frameon=False)\n",
                "ax.set_xlabel('Zt time (h)')\n",
                "fig.panel_label(ax,'B')\n",
                "fig.legend(ax,['NSD','SD'],colors_post)"
            ]
        },
        {
            "cell_type": "markdown",
            "metadata": {},
            "source": [
                "### post weighted correlation"
            ]
        },
        {
            "cell_type": "code",
            "execution_count": 4,
            "metadata": {},
            "outputs": [],
            "source": [
                "ax = fig.subplot(fig.gs[3,2:5])\n",
                "g = sns.violinplot(\n",
                "    data=post_df,\n",
                "    x=\"epoch\",\n",
                "    y=\"weighted_corr\",\n",
                "    hue=\"grp\",\n",
                "    split=True,\n",
                "    inner=None,\n",
                "    scale=\"width\",\n",
                "    palette=colors_post,\n",
                "    linewidth=0.8,\n",
                "    # showmedians=True,\n",
                "    ax=ax,\n",
                ")\n",
                "\n",
                "ax.legend([],frameon=False)\n",
                "ax.set_xlabel('Zt time (h)')\n",
                "fig.panel_label(ax,'B')\n",
                "fig.legend(ax,['NSD','SD'],colors_post)"
            ]
        },
        {
            "cell_type": "markdown",
            "metadata": {},
            "source": [
                "### re-maze score"
            ]
        },
        {
            "cell_type": "code",
            "execution_count": 5,
            "metadata": {},
            "outputs": [],
            "source": [
                "ax = fig.subplot(fig.gs[5])\n",
                "g = sns.violinplot(\n",
                "    data=re_maze_df,\n",
                "    x=\"epoch\",\n",
                "    y=\"score\",\n",
                "    hue=\"grp\",\n",
                "    split=True,\n",
                "    inner=None,\n",
                "    scale=\"width\",\n",
                "    palette=colors_re_maze,\n",
                "    linewidth=0.8,\n",
                "    ax=ax,\n",
                ")\n",
                "\n",
                "ax.legend([],frameon=False)\n",
                "ax.set_xlabel('')\n",
                "fig.panel_label(ax,'E')\n",
                "fig.legend(ax,['NSD','SD'],colors_re_maze)"
            ]
        },
        {
            "cell_type": "markdown",
            "metadata": {},
            "source": [
                "### post velocity\n",
                "- we decided to not use this plot, as it didn't add anything meaningful"
            ]
        },
        {
            "cell_type": "raw",
            "metadata": {},
            "source": [
                "ax = fig.subplot(fig.gs[1,2:5])\n",
                "df = post_df.copy()\n",
                "df['velocity'] = np.abs(df['velocity'])\n",
                "g = sns.boxplot(\n",
                "    data=df,\n",
                "    x=\"epoch\",\n",
                "    y=\"velocity\",\n",
                "    hue=\"grp\",\n",
                "    showcaps=False,\n",
                "    # split=True,\n",
                "    # inner=None,\n",
                "    # scale=\"width\",\n",
                "    palette=colors_post,\n",
                "    linewidth=0.8,\n",
                "    showfliers=False,\n",
                "    medianprops=dict(color='w',lw=2),\n",
                "    ax=ax,\n",
                ")\n",
                "\n",
                "ax.legend([],frameon=False)\n",
                "ax.set_xlabel('Zt time (h)')\n",
                "ax.set_ylabel('Speed (cm/s)')\n",
                "fig.panel_label(ax,'D')\n",
                "fig.legend(ax,['NSD','SD'],colors_post)"
            ]
        },
        {
            "cell_type": "markdown",
            "metadata": {},
            "source": [
                "### post jump distance"
            ]
        },
        {
            "cell_type": "code",
            "execution_count": 6,
            "metadata": {},
            "outputs": [],
            "source": [
                "ax = fig.subplot(fig.gs[1,2:5])\n",
                "g = sns.boxplot(\n",
                "    data=post_df,\n",
                "    x=\"epoch\",\n",
                "    y=\"jump_distance\",\n",
                "    hue=\"grp\",\n",
                "    width=0.7,\n",
                "    # split=True,\n",
                "    # inner=None,\n",
                "    # scale=\"width\",\n",
                "    palette=colors_re_maze,\n",
                "    # linewidth=0.8,\n",
                "    showfliers=False,\n",
                "    # cut=0,\n",
                "    medianprops=dict(color='w',lw=1.5),\n",
                "    showcaps=False,\n",
                "    boxprops=dict(edgecolor='none'),\n",
                "    ax=ax,\n",
                ")\n",
                "\n",
                "ax.legend([],frameon=False)\n",
                "ax.set_xlabel('')\n",
                "fig.panel_label(ax,'C')\n",
                "fig.legend(ax,['NSD','SD'],colors_re_maze)\n",
                "# sns.despine(ax=ax,offset=True,trim=True)"
            ]
        },
        {
            "cell_type": "markdown",
            "metadata": {},
            "source": [
                "### re-maze jump distance"
            ]
        },
        {
            "cell_type": "code",
            "execution_count": 7,
            "metadata": {},
            "outputs": [],
            "source": [
                "ax = fig.subplot(fig.gs[1,5])\n",
                "g = sns.boxplot(\n",
                "    data=re_maze_df,\n",
                "    x=\"epoch\",\n",
                "    y=\"jump_distance\",\n",
                "    hue=\"grp\",\n",
                "    width=0.55,\n",
                "    # split=True,\n",
                "    # inner=None,\n",
                "    # scale=\"width\",\n",
                "    palette=colors_re_maze,\n",
                "    # linewidth=0.8,\n",
                "    showfliers=False,\n",
                "    # cut=0,\n",
                "    medianprops=dict(color='w',lw=1.5),\n",
                "    showcaps=False,\n",
                "    boxprops=dict(edgecolor='none'),\n",
                "    ax=ax,\n",
                ")\n",
                "\n",
                "ax.legend([],frameon=False)\n",
                "ax.set_xlabel('')\n",
                "ax.set_ylabel('')\n",
                "fig.panel_label(ax,'E')\n",
                "fig.legend(ax,['NSD','SD'],colors_re_maze)"
            ]
        },
        {
            "cell_type": "markdown",
            "metadata": {},
            "source": [
                "### position distribution in events"
            ]
        },
        {
            "cell_type": "code",
            "execution_count": 8,
            "metadata": {},
            "outputs": [],
            "source": [
                "from neuropy.plotting.dataviz import lineplot\n",
                "ax = fig.subplot(fig.gs[2,2:5])\n",
                "lineplot(\n",
                "    data=pos_dist_df,\n",
                "    x=\"bins\",\n",
                "    y=\"mean_pos\",\n",
                "    hue=\"grp\",\n",
                "    palette=colors_post,\n",
                "    # ec=None,\n",
                "    # linewidth=0.8,\n",
                "    # ci='sd',\n",
                "    ax=ax,\n",
                ")\n",
                "\n",
                "ax.legend([],frameon=False)\n",
                "ax.set_xlabel('Normalized position')\n",
                "ax.set_ylabel('Mean prob.')\n",
                "fig.panel_label(ax,'C')\n",
                "fig.legend(ax,['NSD','SD'],colors_re_maze)"
            ]
        },
        {
            "cell_type": "markdown",
            "metadata": {},
            "source": [
                "### re-maze position probability in events"
            ]
        },
        {
            "cell_type": "code",
            "execution_count": 9,
            "metadata": {},
            "outputs": [
                {
                    "ename": "ImportError",
                    "evalue": "cannot import name 'lineplot' from 'neuropy.plotting.figure' (/home/bapung/Documents/Codes/NeuroPy/neuropy/plotting/figure.py)",
                    "output_type": "error",
                    "traceback": [
                        "\u001b[0;31m---------------------------------------------------------------------------\u001b[0m",
                        "\u001b[0;31mImportError\u001b[0m                               Traceback (most recent call last)",
                        "\u001b[1;32m/home/bapung/Documents/Codes/pythonprogs/sleep_deprivation/sd_figure4.ipynb Cell 21'\u001b[0m in \u001b[0;36m<module>\u001b[0;34m\u001b[0m\n\u001b[0;32m----> <a href='vscode-notebook-cell:/home/bapung/Documents/Codes/pythonprogs/sleep_deprivation/sd_figure4.ipynb#ch0000020?line=0'>1</a>\u001b[0m \u001b[39mfrom\u001b[39;00m \u001b[39mneuropy\u001b[39;00m\u001b[39m.\u001b[39;00m\u001b[39mplotting\u001b[39;00m\u001b[39m.\u001b[39;00m\u001b[39mfigure\u001b[39;00m \u001b[39mimport\u001b[39;00m lineplot\n\u001b[1;32m      <a href='vscode-notebook-cell:/home/bapung/Documents/Codes/pythonprogs/sleep_deprivation/sd_figure4.ipynb#ch0000020?line=1'>2</a>\u001b[0m ax \u001b[39m=\u001b[39m fig\u001b[39m.\u001b[39msubplot(fig\u001b[39m.\u001b[39mgs[\u001b[39m2\u001b[39m,\u001b[39m5\u001b[39m])\n\u001b[1;32m      <a href='vscode-notebook-cell:/home/bapung/Documents/Codes/pythonprogs/sleep_deprivation/sd_figure4.ipynb#ch0000020?line=2'>3</a>\u001b[0m lineplot(\n\u001b[1;32m      <a href='vscode-notebook-cell:/home/bapung/Documents/Codes/pythonprogs/sleep_deprivation/sd_figure4.ipynb#ch0000020?line=3'>4</a>\u001b[0m     data\u001b[39m=\u001b[39mre_maze_pos_df,\n\u001b[1;32m      <a href='vscode-notebook-cell:/home/bapung/Documents/Codes/pythonprogs/sleep_deprivation/sd_figure4.ipynb#ch0000020?line=4'>5</a>\u001b[0m     x\u001b[39m=\u001b[39m\u001b[39m\"\u001b[39m\u001b[39mbins\u001b[39m\u001b[39m\"\u001b[39m,\n\u001b[0;32m   (...)\u001b[0m\n\u001b[1;32m     <a href='vscode-notebook-cell:/home/bapung/Documents/Codes/pythonprogs/sleep_deprivation/sd_figure4.ipynb#ch0000020?line=11'>12</a>\u001b[0m     ax\u001b[39m=\u001b[39max,\n\u001b[1;32m     <a href='vscode-notebook-cell:/home/bapung/Documents/Codes/pythonprogs/sleep_deprivation/sd_figure4.ipynb#ch0000020?line=12'>13</a>\u001b[0m )\n",
                        "\u001b[0;31mImportError\u001b[0m: cannot import name 'lineplot' from 'neuropy.plotting.figure' (/home/bapung/Documents/Codes/NeuroPy/neuropy/plotting/figure.py)"
                    ]
                }
            ],
            "source": [
                "from neuropy.plotting.figure import lineplot\n",
                "ax = fig.subplot(fig.gs[2,5])\n",
                "lineplot(\n",
                "    data=re_maze_pos_df,\n",
                "    x=\"bins\",\n",
                "    y=\"mean_pos\",\n",
                "    hue=\"grp\",\n",
                "    palette=colors_post,\n",
                "    # ec=None,\n",
                "    # linewidth=0.8,\n",
                "    # ci='sd',\n",
                "    ax=ax,\n",
                ")\n",
                "\n",
                "ax.legend([],frameon=False)\n",
                "ax.set_xlabel('Normalized position')\n",
                "ax.set_ylabel('Mean prob.')\n",
                "fig.panel_label(ax,'C')\n",
                "fig.legend(ax,['NSD','SD'],colors_re_maze)"
            ]
        },
        {
            "cell_type": "markdown",
            "metadata": {},
            "source": [
                "### saving"
            ]
        },
        {
            "cell_type": "code",
            "execution_count": null,
            "metadata": {},
            "outputs": [],
            "source": [
                "# fig.savefig(filename,caption=caption)"
            ]
        }
    ],
    "metadata": {
        "interpreter": {
            "hash": "7b10c821bc4bd3f433a613d47515e6babc6c2152896bd1e143404cc9d6ede4ad"
        },
        "kernelspec": {
            "display_name": "Python 3.9.6 64-bit ('data_analysis': conda)",
            "name": "python3"
        },
        "language_info": {
            "codemirror_mode": {
                "name": "ipython",
                "version": 3
            },
            "file_extension": ".py",
            "mimetype": "text/x-python",
            "name": "python",
            "nbconvert_exporter": "python",
            "pygments_lexer": "ipython3",
            "version": "3.9.10"
        },
        "orig_nbformat": 4
    },
    "nbformat": 4,
    "nbformat_minor": 2
}
