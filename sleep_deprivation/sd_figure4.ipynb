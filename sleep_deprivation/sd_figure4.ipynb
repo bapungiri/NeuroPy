{
    "cells": [
        {
            "cell_type": "markdown",
            "source": [
                "# Figure 4 \n",
                "- Sliding template during sleep deprivation\n",
                "- Correlation across time window"
            ],
            "metadata": {}
        },
        {
            "cell_type": "code",
            "execution_count": 1,
            "source": [
                "import numpy as np\n",
                "import matplotlib.pyplot as plt\n",
                "import numpy as np\n",
                "import seaborn as sns\n",
                "from neuropy import plotting\n",
                "from neuropy.utils import signal_process\n",
                "import subjects\n",
                "import pandas as pd\n",
                "from neuropy.analyses import ExplainedVariance\n",
                "\n",
                "sd_sess = (\n",
                "    subjects.sd.ratNday1\n",
                "    + subjects.sd.ratSday3\n",
                "    + subjects.sd.ratRday2\n",
                "    + subjects.sd.ratUday4\n",
                ")\n",
                "nsd_sess = subjects.nsd.ratNday2+subjects.nsd.ratSday2+subjects.nsd.ratUday2"
            ],
            "outputs": [],
            "metadata": {}
        },
        {
            "cell_type": "markdown",
            "source": [
                "## Template is sliding along SD"
            ],
            "metadata": {}
        },
        {
            "cell_type": "code",
            "execution_count": 26,
            "source": [
                "expvar_all = []\n",
                "for sub,sess in enumerate(sd_sess):\n",
                "    neurons = sess.neurons.get_neuron_type('pyr')\n",
                "    maze=sess.paradigm['maze']\n",
                "    post = sess.paradigm['post']\n",
                "    sd =[post[0],post[0]+5*3600]\n",
                "    # rs =[sess.paradigm['rs'][0],sess.paradigm['rs'][1]-900]\n",
                "    rs = [sd[1],post[1]-900]\n",
                "    starts = np.arange(5)*3600 + sd[0] \n",
                "\n",
                "    expvar_sub =[]\n",
                "    for start in starts:\n",
                "        template = [start,start+3600]\n",
                "        ev = ExplainedVariance(neurons=neurons,template=template,matching=rs,control=maze)\n",
                "        expvar_sub.append(ev)\n",
                "    expvar_all.append(expvar_sub)\n"
            ],
            "outputs": [
                {
                    "output_type": "stream",
                    "name": "stderr",
                    "text": [
                        "/home/bapung/miniconda3/envs/data_analysis/lib/python3.9/site-packages/numpy/lib/function_base.py:2691: RuntimeWarning: invalid value encountered in true_divide\n",
                        "  c /= stddev[:, None]\n",
                        "/home/bapung/miniconda3/envs/data_analysis/lib/python3.9/site-packages/numpy/lib/function_base.py:2692: RuntimeWarning: invalid value encountered in true_divide\n",
                        "  c /= stddev[None, :]\n"
                    ]
                }
            ],
            "metadata": {}
        },
        {
            "cell_type": "markdown",
            "source": [
                "## Fourth hour during SD as template with matching period going in both direction away from template"
            ],
            "metadata": {}
        },
        {
            "cell_type": "code",
            "execution_count": 25,
            "source": [
                "expvar_all = []\n",
                "template_start=[]\n",
                "template_stop=[]\n",
                "for sub,sess in enumerate(sd_sess):\n",
                "    neurons = sess.neurons.get_neuron_type('pyr')\n",
                "    pre= sess.paradigm['pre']\n",
                "    maze=sess.paradigm['maze']\n",
                "    post = sess.paradigm['post']\n",
                "    sd =[post[0]+4*3600,post[0]+5*3600]\n",
                "    template_start.append(sd[0])\n",
                "    template_stop.append(sd[1])\n",
                "    # rs =[sess.paradigm['rs'][0],sess.paradigm['rs'][1]-900]\n",
                "    rs = [sd[1],post[1]-900]\n",
                "    starts = np.arange(5)*3600 + sd[0] \n",
                "\n",
                "    ev = ExplainedVariance(neurons=neurons,template=sd,matching=post,control=pre)\n",
                "    expvar_all.append(ev)\n"
            ],
            "outputs": [
                {
                    "output_type": "stream",
                    "name": "stderr",
                    "text": [
                        "/home/bapung/miniconda3/envs/data_analysis/lib/python3.9/site-packages/numpy/lib/function_base.py:2691: RuntimeWarning: invalid value encountered in true_divide\n",
                        "  c /= stddev[:, None]\n",
                        "/home/bapung/miniconda3/envs/data_analysis/lib/python3.9/site-packages/numpy/lib/function_base.py:2692: RuntimeWarning: invalid value encountered in true_divide\n",
                        "  c /= stddev[None, :]\n"
                    ]
                }
            ],
            "metadata": {}
        },
        {
            "cell_type": "code",
            "execution_count": 26,
            "source": [
                "%matplotlib widget\n",
                "from neuropy.plotting import Fig\n",
                "\n",
                "figure = Fig()\n",
                "fig,gs = figure.draw(grid=(4,2))\n",
                "animal_names = ['RatN','RatS','RatR','RatU']\n",
                "\n",
                "for i,sub_expvar in enumerate(expvar_all):\n",
                "    ax = plt.subplot(gs[i])\n",
                "\n",
                "    # for expvar in sub_expvar:\n",
                "    #     expvar.plot(ax=ax,legend=False)\n",
                "\n",
                "    sub_expvar.plot(ax=ax,legend=False)\n",
                "    ax.set_title(animal_names[i],loc='left')\n",
                "    ax.axvspan(template_start[i]/3600,template_stop[i]/3600,color='#fb6fb7',alpha=0.5)\n",
                "    # ax.text(template_start[i]/3600,'Template')\n",
                "\n",
                "# figure.savefig(subjects.fig_folder/'sd_template')"
            ],
            "outputs": [
                {
                    "output_type": "display_data",
                    "data": {
                        "application/vnd.jupyter.widget-view+json": {
                            "version_major": 2,
                            "version_minor": 0,
                            "model_id": "707c30d63502438f8d0c1096bd741e94"
                        },
                        "text/plain": [
                            "Canvas(toolbar=Toolbar(toolitems=[('Home', 'Reset original view', 'home', 'home'), ('Back', 'Back to previous …"
                        ]
                    },
                    "metadata": {}
                }
            ],
            "metadata": {}
        }
    ],
    "metadata": {
        "orig_nbformat": 4,
        "language_info": {
            "name": "python",
            "version": "3.9.6",
            "mimetype": "text/x-python",
            "codemirror_mode": {
                "name": "ipython",
                "version": 3
            },
            "pygments_lexer": "ipython3",
            "nbconvert_exporter": "python",
            "file_extension": ".py"
        },
        "kernelspec": {
            "name": "python3",
            "display_name": "Python 3.9.6 64-bit ('data_analysis': conda)"
        },
        "interpreter": {
            "hash": "7b10c821bc4bd3f433a613d47515e6babc6c2152896bd1e143404cc9d6ede4ad"
        }
    },
    "nbformat": 4,
    "nbformat_minor": 2
}