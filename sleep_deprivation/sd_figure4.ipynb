{
    "cells": [
        {
            "cell_type": "markdown",
            "metadata": {},
            "source": [
                "### Figure 4 \n",
                "- Sliding template during sleep deprivation\n",
                "- Correlation across time window"
            ]
        },
        {
            "cell_type": "markdown",
            "metadata": {},
            "source": [
                "### load data"
            ]
        },
        {
            "cell_type": "code",
            "execution_count": null,
            "metadata": {},
            "outputs": [],
            "source": [
                "import matplotlib.pyplot as plt\n",
                "import numpy as np\n",
                "from subjects import boxplot_kw\n",
                "import subjects\n",
                "from subjects import sns_boxplot_kw,stat_kw\n",
                "import pandas as pd\n",
                "import seaborn as sns\n",
                "from neuropy.plotting.dataviz import barplot\n",
                "from neuropy.plotting import Fig\n",
                "from scipy import stats\n",
                "from statannotations.Annotator import Annotator\n",
                "\n",
                "group = ['NSD','SD']\n",
                "grpdata = subjects.GroupData()\n",
                "pf_norm_tuning = grpdata.pf_norm_tuning\n",
                "\n",
                "\n",
                "# replay examples\n",
                "examples = grpdata.replay_examples\n",
                "\n",
                "#replay rate\n",
                "wcorr_dist = grpdata.replay_wcorr\n",
                "# post replay score\n",
                "post_df = grpdata.replay_post_score\n",
                "# post_df = post_df[np.abs(post_df['velocity'])>100]\n",
                "post_df['weighted_corr'] = post_df['weighted_corr'].abs()\n",
                "colors_post = subjects.colors_sd(1)\n",
                "\n",
                "\n",
                "fig = Fig(grid=(6, 6), hspace=0.45, wspace=0.5)\n",
                "filename = subjects.figpath_sd / 'figure4'\n",
                "caption = 'Place cells: \\n(A) Place fields recorded during NSD and SD sessions.'"
            ]
        },
        {
            "cell_type": "markdown",
            "metadata": {},
            "source": [
                "### replay examples"
            ]
        },
        {
            "cell_type": "code",
            "execution_count": null,
            "metadata": {},
            "outputs": [],
            "source": [
                "subfig = fig.add_subfigure(fig.gs[1, 0:3])\n",
                "axs = subfig.subplots(2, 8, sharey=\"row\")\n",
                "\n",
                "dt = 0.02*1000\n",
                "pf_cmaps = ['Greys','Reds']\n",
                "for i, g in enumerate(group):\n",
                "    events = examples[g][\"posteriors\"]\n",
                "    wcorr = examples[g]['wcorr']\n",
                "    for i1, ev in enumerate(events):\n",
                "        ev = np.apply_along_axis(\n",
                "            np.convolve, axis=0, arr=ev, v=np.ones(2 * 2 + 1), mode=\"same\"\n",
                "        )\n",
                "        nt = ev.shape[1]\n",
                "        ax = axs[i,i1]\n",
                "        ax.pcolormesh(ev, cmap=pf_cmaps[i], vmin=0, vmax=0.2,rasterized=True)\n",
                "        ax.text(0.6,7,f'{wcorr[i1].round(2)}',color='#039be5',fontdict=dict(fontsize=6))\n",
                "        ax.spines['right'].set_visible(True)\n",
                "        ax.spines['top'].set_visible(True)\n",
                "        ax.set_yticks([])\n",
                "        ax.set_xticks([nt//2],[int(nt*dt)])\n",
                "        ax.tick_params(length=0)\n"
            ]
        },
        {
            "cell_type": "markdown",
            "metadata": {},
            "source": [
                "### wcorr sequence score "
            ]
        },
        {
            "cell_type": "code",
            "execution_count": null,
            "metadata": {},
            "outputs": [],
            "source": [
                "colors = subjects.colors_sd(1)\n",
                "for g,grp in enumerate(['NSD','SD']):\n",
                "    df = wcorr_dist[wcorr_dist['grp']==grp]\n",
                "\n",
                "    ax = fig.subplot(fig.gs[g, 3])\n",
                "    plot_kw =dict(data=df,x='zt',y='seq_score',ax=ax,color=colors[g]) \n",
                "    # del sns_boxplot_kw['palette']\n",
                "    sns.boxplot(**plot_kw,**sns_boxplot_kw,width=0.7)\n",
                "\n",
                "    #stats\n",
                "    orders =df.zt.unique()\n",
                "    pairs = [('PRE', _) for _ in orders[1:]]\n",
                "    annotator = Annotator(pairs=pairs, **plot_kw, order=orders)\n",
                "    annotator.configure(test=\"t-test_welch\", **stat_kw)\n",
                "    annotator.apply_and_annotate()\n",
                "    annotator.reset_configuration()\n",
                "\n",
                "    ax.set_xlabel('')\n",
                "    ax.set_ylim(-2.5,10)\n",
                "    ax.tick_params('x',rotation=30)\n",
                "    ax.legend('',frameon=False)"
            ]
        },
        {
            "cell_type": "markdown",
            "metadata": {},
            "source": [
                "### saving"
            ]
        },
        {
            "cell_type": "code",
            "execution_count": null,
            "metadata": {},
            "outputs": [],
            "source": [
                "fig.savefig(filename,caption=caption)"
            ]
        }
    ],
    "metadata": {
        "interpreter": {
            "hash": "7b10c821bc4bd3f433a613d47515e6babc6c2152896bd1e143404cc9d6ede4ad"
        },
        "kernelspec": {
            "display_name": "Python 3.9.6 64-bit ('data_analysis': conda)",
            "name": "python3"
        },
        "language_info": {
            "codemirror_mode": {
                "name": "ipython",
                "version": 3
            },
            "file_extension": ".py",
            "mimetype": "text/x-python",
            "name": "python",
            "nbconvert_exporter": "python",
            "pygments_lexer": "ipython3",
            "version": "3.10.2"
        },
        "orig_nbformat": 4
    },
    "nbformat": 4,
    "nbformat_minor": 2
}
