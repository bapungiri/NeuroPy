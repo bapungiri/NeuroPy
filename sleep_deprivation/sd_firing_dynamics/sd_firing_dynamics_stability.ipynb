{
 "cells": [
  {
   "cell_type": "markdown",
   "metadata": {},
   "source": [
    "### Imports"
   ]
  },
  {
   "cell_type": "code",
   "execution_count": null,
   "metadata": {},
   "outputs": [],
   "source": [
    "import matplotlib.pyplot as plt\n",
    "import numpy as np\n",
    "import seaborn as sns\n",
    "from neuropy import plotting\n",
    "from scipy.ndimage import gaussian_filter1d\n",
    "from neuropy import plotting\n",
    "from scipy import stats\n",
    "import subjects\n",
    "import pandas as pd"
   ]
  },
  {
   "cell_type": "markdown",
   "metadata": {},
   "source": [
    "### PRE vs POST firing rate scatter plot "
   ]
  },
  {
   "cell_type": "code",
   "execution_count": null,
   "metadata": {},
   "outputs": [],
   "source": [
    "sessions = subjects.mua_sess()"
   ]
  },
  {
   "cell_type": "code",
   "execution_count": null,
   "metadata": {},
   "outputs": [],
   "source": [
    "mean_frate_all = []\n",
    "for sub, sess in enumerate(sessions):\n",
    "    pre = sess.paradigm[\"pre\"].flatten()\n",
    "    post = sess.paradigm[\"post\"].flatten()\n",
    "    neurons = sess.neurons_stable.get_neuron_type(\"pyr\")\n",
    "    artifact = sess.artifact\n",
    "\n",
    "    mean_frate=[]\n",
    "    for e in [pre, post]:\n",
    "        artifact_duration = (\n",
    "            0 if artifact is None else artifact.time_slice(*e).durations.sum()\n",
    "        )\n",
    "        n_spikes = neurons.time_slice(*e).n_spikes\n",
    "        mean_frate.append(n_spikes / (np.diff(e) - artifact_duration))\n",
    "    mean_frate_all.append(np.array(mean_frate))\n",
    "\n",
    "mean_frate_all = np.hstack(mean_frate_all)"
   ]
  },
  {
   "cell_type": "code",
   "execution_count": null,
   "metadata": {},
   "outputs": [],
   "source": [
    "_,ax = plt.subplots()\n",
    "\n",
    "ax.scatter(mean_frate_all[0],mean_frate_all[1],s=8)\n",
    "ax.axline((0,0),slope=1)\n",
    "ax.axline((1,1.5),slope=1)\n",
    "ax.axline((1,0.5),slope=1)\n",
    "ax.set_xscale('log')\n",
    "ax.set_yscale('log')"
   ]
  },
  {
   "cell_type": "markdown",
   "metadata": {},
   "source": [
    "### Firing rate stability visualization\n",
    "- something like Miyawaki et al. 2016"
   ]
  },
  {
   "cell_type": "code",
   "execution_count": null,
   "metadata": {},
   "outputs": [],
   "source": [
    "sessions = subjects.mua_sess()"
   ]
  },
  {
   "cell_type": "code",
   "execution_count": null,
   "metadata": {},
   "outputs": [],
   "source": [
    "frate_all=[]\n",
    "for sub, sess in enumerate(sessions):\n",
    "    pre = sess.paradigm[\"pre\"].flatten()\n",
    "    post = sess.paradigm[\"post\"].flatten()\n",
    "    neurons = sess.neurons_stable.get_neuron_type([\"pyr\",'inter'])\n",
    "    \n",
    "    rec_duration = sess.eegfile.duration\n",
    "    windows = np.linspace(0,rec_duration,6)\n",
    "    n_windows = len(windows)-1\n",
    "    epochs = np.vstack([windows[:-1],windows[1:]]).T\n",
    "\n",
    "    mean_frate = neurons.firing_rate[:,np.newaxis]\n",
    "\n",
    "    frate = []\n",
    "    for i,e in enumerate(epochs):\n",
    "        if sess.artifact is not None: \n",
    "            artifact_duration = sess.artifact.time_slice(*e,strict=False).durations.sum()\n",
    "        else:\n",
    "            artifact_duration = 0\n",
    "        n_spikes = neurons.time_slice(*e).n_spikes\n",
    "        e_duration = e[1]-e[0]\n",
    "        frate.append(n_spikes / (e_duration - artifact_duration))\n",
    "\n",
    "    frate = np.array(frate).T \n",
    "    frate_perc = frate/mean_frate\n",
    "\n",
    "    stable_bool = np.count_nonzero((frate_perc>(1/4)),axis=1)==n_windows\n",
    "    stable_neurons = neurons[stable_bool]\n",
    "    stable_neurons.save(sess.filePrefix.with_suffix('.neurons_stable2'))\n",
    "    frate_all.append(frate_perc)\n",
    "\n",
    "frate_all = np.vstack(frate_all)"
   ]
  },
  {
   "cell_type": "code",
   "execution_count": null,
   "metadata": {},
   "outputs": [],
   "source": [
    "_,ax = plt.subplots()\n",
    "\n",
    "ax.plot(frate_all.T,'o-')\n",
    "# ax.set_yscale('log')"
   ]
  },
  {
   "cell_type": "markdown",
   "metadata": {},
   "source": [
    "### Firing rate stability using gini coefficient"
   ]
  },
  {
   "cell_type": "code",
   "execution_count": null,
   "metadata": {},
   "outputs": [],
   "source": [
    "sessions = subjects.mua_sess()"
   ]
  },
  {
   "cell_type": "code",
   "execution_count": null,
   "metadata": {},
   "outputs": [],
   "source": [
    "from neuropy.utils.mathutil import gini\n",
    "frate_all = []\n",
    "for sub, sess in enumerate(sessions):\n",
    "    pre = sess.paradigm[\"pre\"].flatten()\n",
    "    post = sess.paradigm[\"post\"].flatten()\n",
    "\n",
    "    rec_duration = sess.eegfile.duration\n",
    "    windows = np.linspace(0, rec_duration, 10)\n",
    "    neurons = sess.neurons.get_neuron_type([\"pyr\", \"inter\"])\n",
    "    artifact = sess.artifact\n",
    "\n",
    "    frate_pre = neurons.time_slice(*pre).firing_rate\n",
    "    frate_post = neurons.time_slice(*post).firing_rate\n",
    "\n",
    "    frate = []\n",
    "    for i in np.arange(len(windows) - 1):\n",
    "        e = windows[i : i + 2]\n",
    "        artifact_duration = (\n",
    "            0 if artifact is None else artifact.time_slice(*e).durations.sum()\n",
    "        )\n",
    "        n_spikes = neurons.time_slice(*e).n_spikes\n",
    "        frate.append(n_spikes / (np.diff(e) - artifact_duration))\n",
    "    frate = np.array(frate).T\n",
    "    g_coeffs = np.array([gini(_) for _ in frate])\n",
    "\n",
    "    stable_bool = (g_coeffs <= 0.7) & (frate_pre > 0) & (frate_post > 0)\n",
    "\n",
    "    stable_neurons = neurons[stable_bool]\n",
    "    stable_neurons.save(sess.filePrefix.with_suffix(\".neurons_stable\"))\n"
   ]
  }
 ],
 "metadata": {
  "interpreter": {
   "hash": "cce1618081139d19eb1ee8d40815d94a2de4f62e1efb20d9406ddb60628c36ae"
  },
  "kernelspec": {
   "display_name": "Python 3.10.2 ('data_analysis')",
   "language": "python",
   "name": "python3"
  },
  "language_info": {
   "name": "python",
   "version": "3.10.2"
  },
  "orig_nbformat": 4
 },
 "nbformat": 4,
 "nbformat_minor": 2
}
