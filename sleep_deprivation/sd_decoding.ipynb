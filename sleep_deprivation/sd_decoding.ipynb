{
 "cells": [
  {
   "cell_type": "markdown",
   "metadata": {},
   "source": [
    "### Example radon transform figures"
   ]
  },
  {
   "cell_type": "code",
   "execution_count": null,
   "metadata": {},
   "outputs": [],
   "source": [
    "import matplotlib.pyplot as plt\n",
    "import numpy as np\n",
    "import subjects\n",
    "from neuropy import plotting\n",
    "from neuropy.analyses import Pf1D\n",
    "from neuropy.analyses import Decode1d\n",
    "\n",
    "sess = subjects.nsd.ratUday2[0]\n",
    "\n",
    "maze = sess.paradigm[\"maze\"].flatten()\n",
    "post = sess.paradigm[\"post\"].flatten()\n",
    "neurons = sess.neurons.get_neuron_type(neuron_type=\"pyr\")\n",
    "pos = sess.maze\n",
    "# pos.t_start = pos.t_start +0.5\n",
    "# run = sess.run\n",
    "pf = Pf1D(\n",
    "    neurons=neurons,\n",
    "    position=pos,\n",
    "    speed_thresh=4,\n",
    "    sigma=4,\n",
    "    grid_bin=2,\n",
    "    # epochs=run,\n",
    "    frate_thresh=1,\n",
    ")\n",
    "pf_neurons = neurons.get_by_id(pf.neuron_ids)\n",
    "epochs = sess.pbe.time_slice(maze[0], maze[0]+1000)\n",
    "decode = Decode1d(\n",
    "    neurons=pf_neurons, ratemap=pf, epochs=epochs, bin_size=0.02\n",
    ")"
   ]
  },
  {
   "cell_type": "code",
   "execution_count": null,
   "metadata": {},
   "outputs": [],
   "source": [
    "# %matplotlib widget\n",
    "from numpy.random import default_rng\n",
    "from neuropy.analyses.decoders import radon_transform\n",
    "\n",
    "n_posteriors = len(decode.posterior)\n",
    "posterior_ind = default_rng().integers(0,n_posteriors,10)\n",
    "# posterior_ind = [382, 42, 131, 162, 287, 284, 127, 331, 294, 205]\n",
    "arrs = [decode.posterior[i] for i in posterior_ind]\n",
    "\n",
    "_, axs = plt.subplots(2, 5)\n",
    "axs = axs.reshape(-1)\n",
    "\n",
    "for i, arr in enumerate(arrs):\n",
    "\n",
    "    score, velocity, intercept = radon_transform(arr, dt=0.02, dx=2, neighbours=2)\n",
    "    arr = np.apply_along_axis(np.convolve, axis=0, arr=arr, v=np.ones(2 * 2 + 1))\n",
    "    t = np.arange(arr.shape[1]) * 0.02\n",
    "    pos = np.arange(arr.shape[0]) * 2\n",
    "\n",
    "    axs[i].pcolormesh(t, pos,arr, cmap=\"hot\")\n",
    "    axs[i].plot(t, velocity * t + intercept, color=\"w\")\n",
    "    axs[i].set_ylim([pos.min(), pos.max()])\n"
   ]
  },
  {
   "cell_type": "markdown",
   "metadata": {},
   "source": [
    "### Decoding here"
   ]
  },
  {
   "cell_type": "code",
   "execution_count": null,
   "metadata": {},
   "outputs": [],
   "source": [
    "import matplotlib.pyplot as plt\n",
    "import numpy as np\n",
    "import subjects\n",
    "from neuropy import plotting\n",
    "from neuropy.utils import signal_process\n",
    "from neuropy.analyses import Pf1D\n",
    "from neuropy.analyses import Decode1d\n",
    "\n",
    "sessions = subjects.nsd.ratUday2"
   ]
  },
  {
   "cell_type": "code",
   "execution_count": null,
   "metadata": {},
   "outputs": [],
   "source": [
    "for sub, sess in enumerate(sessions):\n",
    "    maze = sess.paradigm[\"maze\"].flatten()\n",
    "    post = sess.paradigm[\"post\"].flatten()\n",
    "    neurons = sess.neurons.get_neuron_type(neuron_type=\"pyr\")\n",
    "    pos = sess.maze\n",
    "    # pos.t_start = pos.t_start +0.5\n",
    "    # run = sess.run\n",
    "    pf = Pf1D(\n",
    "        neurons=neurons,\n",
    "        position=pos,\n",
    "        speed_thresh=4,\n",
    "        sigma=4,\n",
    "        grid_bin=2,\n",
    "        # epochs=run,\n",
    "        frate_thresh=1,\n",
    "    )\n",
    "    pf_neurons = neurons.get_by_id(pf.neuron_ids)\n",
    "    epochs = sess.pbe.time_slice(maze[0], maze[1])\n",
    "    decode = Decode1d(\n",
    "        neurons=pf_neurons, ratemap=pf, epochs=epochs, bin_size=0.02\n",
    "    )\n"
   ]
  },
  {
   "cell_type": "code",
   "execution_count": null,
   "metadata": {},
   "outputs": [],
   "source": [
    "from hfuncs import plot_in_bokeh\n",
    "import bokeh.plotting as bplot\n",
    "\n",
    "# bplot.output_file(subjects.figpath_sd/'test_wake_decoding.html')\n",
    "bplot.output_notebook()\n",
    "p = plot_in_bokeh(x=epochs.starts/3600,y=decode.score,img_arr=decode.posterior\n",
    ",color_by=decode.score,palette='jet',size=10)\n",
    "# p.line(pos.time,pos.x/350 + 0.2,line_width=2,color='black')\n",
    "bplot.show(p)"
   ]
  },
  {
   "cell_type": "markdown",
   "metadata": {},
   "source": [
    "### Plotting decoding stats if calculated via script"
   ]
  },
  {
   "cell_type": "code",
   "execution_count": null,
   "metadata": {},
   "outputs": [],
   "source": [
    "import matplotlib.pyplot as plt\n",
    "import numpy as np\n",
    "import subjects\n",
    "from neuropy import plotting\n",
    "from neuropy.utils import signal_process\n",
    "from neuropy.analyses import Pf1D\n",
    "from neuropy.analyses import Decode1d\n",
    "\n",
    "sessions = subjects.nsd.ratUday2"
   ]
  },
  {
   "cell_type": "code",
   "execution_count": null,
   "metadata": {},
   "outputs": [],
   "source": [
    "for sub,sess in enumerate(sessions):\n",
    "\n",
    "    replay_pbe = sess.replay_pbe"
   ]
  },
  {
   "cell_type": "code",
   "execution_count": null,
   "metadata": {},
   "outputs": [],
   "source": [
    "replay_pbe.to_dataframe()"
   ]
  },
  {
   "cell_type": "code",
   "execution_count": null,
   "metadata": {},
   "outputs": [],
   "source": [
    "from hfuncs import plot_in_bokeh\n",
    "import bokeh.plotting as bplot\n",
    "\n",
    "# bplot.output_file(subjects.figpath_sd/'test_wake_decoding.html')\n",
    "t = replay_pbe.starts\n",
    "score = replay_pbe.to_dataframe()['replay_score']\n",
    "img = replay_pbe.metadata['posterior']\n",
    "p_val = replay_pbe.to_dataframe()['replay_p_value']\n",
    "is_replay = np.where(p_val<0.10,p_val,0)\n",
    "bplot.output_notebook()\n",
    "p = plot_in_bokeh(x=replay_pbe.starts/3600 - sess.paradigm['post'].flatten()[0]/3600,y=score,img_arr=img,color_by=p_val,palette='jet_r',size=10)\n",
    "# p.line(pos.time,pos.x/350 + 0.2,line_width=2,color='black')\n",
    "bplot.show(p)"
   ]
  },
  {
   "cell_type": "markdown",
   "metadata": {},
   "source": [
    "### Decoding theta sequences"
   ]
  },
  {
   "cell_type": "code",
   "execution_count": null,
   "metadata": {},
   "outputs": [],
   "source": [
    "import matplotlib.pyplot as plt\n",
    "import numpy as np\n",
    "import subjects\n",
    "from neuropy import plotting\n",
    "from neuropy.utils import signal_process\n",
    "from neuropy.analyses import Pf1D\n",
    "from neuropy.analyses import Decode1d\n",
    "\n",
    "sessions = subjects.nsd.ratUday2"
   ]
  },
  {
   "cell_type": "code",
   "execution_count": null,
   "metadata": {},
   "outputs": [],
   "source": [
    "for sub, sess in enumerate(sessions):\n",
    "    maze = sess.paradigm[\"maze\"]\n",
    "    post = sess.paradigm[\"post\"]\n",
    "    neurons = sess.neurons.get_neuron_type(neuron_type=\"pyr\")\n",
    "    pos = sess.lin_maze\n",
    "    # pos.t_start = pos.t_start +0.5\n",
    "    run = sess.run\n",
    "    pf = Pf1D(\n",
    "        neurons=neurons,\n",
    "        position=pos,\n",
    "        speed_thresh=4,\n",
    "        sigma=4,\n",
    "        grid_bin=2,\n",
    "        # epochs=run,\n",
    "        frate_thresh=1,\n",
    "    )\n",
    "    pf_neurons = neurons.get_by_id(pf.ratemap.neuron_ids)\n",
    "    epochs = sess.pbe.time_slice(maze[0], maze[1])\n",
    "    decode = Decode1d(\n",
    "        neurons=pf_neurons, ratemap=pf.ratemap, epochs=epochs, bin_size=0.02,slideby=0.01\n",
    "    )\n"
   ]
  },
  {
   "cell_type": "code",
   "execution_count": null,
   "metadata": {},
   "outputs": [],
   "source": [
    "from hfuncs import plot_in_bokeh\n",
    "import bokeh.plotting as bplot\n",
    "\n",
    "# bplot.output_file(subjects.figpath_sd/'test_wake_decoding.html')\n",
    "bplot.output_notebook()\n",
    "p = plot_in_bokeh(x=epochs.starts/3600 - sess.paradigm['maze'][0]/3600,y=decode.score,img_arr=decode.spkcount,color_by=decode.score,palette='jet_r',size=10)\n",
    "# p.line(pos.time,pos.x/350 + 0.2,line_width=2,color='black')\n",
    "bplot.show(p)"
   ]
  }
 ],
 "metadata": {
  "interpreter": {
   "hash": "cce1618081139d19eb1ee8d40815d94a2de4f62e1efb20d9406ddb60628c36ae"
  },
  "kernelspec": {
   "display_name": "Python 3.9.7 64-bit ('data_analysis': conda)",
   "language": "python",
   "name": "python3"
  },
  "language_info": {
   "codemirror_mode": {
    "name": "ipython",
    "version": 3
   },
   "file_extension": ".py",
   "mimetype": "text/x-python",
   "name": "python",
   "nbconvert_exporter": "python",
   "pygments_lexer": "ipython3",
   "version": "3.9.9"
  },
  "orig_nbformat": 4
 },
 "nbformat": 4,
 "nbformat_minor": 2
}
