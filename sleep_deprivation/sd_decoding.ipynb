{
 "cells": [
  {
   "cell_type": "markdown",
   "metadata": {},
   "source": [
    "### Example radon transform figures"
   ]
  },
  {
   "cell_type": "code",
   "execution_count": null,
   "metadata": {},
   "outputs": [],
   "source": [
    "import matplotlib.pyplot as plt\n",
    "import numpy as np\n",
    "import subjects\n",
    "from neuropy import plotting\n",
    "from neuropy.analyses import Pf1D\n",
    "from neuropy.analyses import Decode1d\n",
    "from neuropy.analyses.decoders import radon_transform\n",
    "from hfuncs import radon_transform_gpu\n",
    "from time import time\n",
    "\n",
    "s = time()\n",
    "for i in range(100):\n",
    "    radon_transform(np.ones((50,10)))\n",
    "e = time()\n",
    "print(e-s)\n",
    "\n",
    "s = time()\n",
    "for i in range(5000):\n",
    "    radon_transform_gpu(np.ones((50,10)))\n",
    "e = time()\n",
    "print(e-s)\n",
    "\n",
    "\n",
    "# sess = subjects.nsd.ratUday2[0]\n",
    "\n",
    "# maze = sess.paradigm[\"maze\"].flatten()\n",
    "# post = sess.paradigm[\"post\"].flatten()\n",
    "# neurons = sess.neurons.get_neuron_type(neuron_type=\"pyr\")\n",
    "# pos = sess.maze\n",
    "# # pos.t_start = pos.t_start - 0.5\n",
    "# run = sess.run\n",
    "# pf = Pf1D(\n",
    "#     neurons=neurons,\n",
    "#     position=pos,\n",
    "#     speed_thresh=4,\n",
    "#     sigma=4,\n",
    "#     grid_bin=2,\n",
    "#     epochs=run,\n",
    "#     frate_thresh=1,\n",
    "# )\n",
    "# # np.random.default_rng().shuffle(pf.tuning_curves)\n",
    "# pf_neurons = neurons.get_by_id(pf.neuron_ids)\n",
    "# epochs = sess.pbe.time_slice(maze[0], maze[0]+500)\n",
    "# decode = Decode1d(\n",
    "#     neurons=pf_neurons, ratemap=pf, epochs=epochs, bin_size=0.02\n",
    "# )"
   ]
  },
  {
   "cell_type": "code",
   "execution_count": null,
   "metadata": {},
   "outputs": [],
   "source": [
    "%matplotlib widget\n",
    "import cupy as cp\n",
    "from numpy.random import default_rng\n",
    "from neuropy.analyses.decoders import radon_transform\n",
    "from hfuncs import radon_transform_gpu\n",
    "from neuropy import plotting\n",
    "from scipy import stats\n",
    "from neuropy.utils.mathutil import min_max_scaler\n",
    "import time\n",
    "from joblib import Parallel,delayed\n",
    "\n",
    "n_posteriors = len(decode.posterior)\n",
    "posterior_ind = default_rng().integers(0,n_posteriors,n_posteriors)\n",
    "# posterior_ind = [382, 42, 131, 162, 287, 284, 127, 331, 294, 205]\n",
    "# posterior_ind =[189, 139, 180, 178, 188, 103, 158,  15, 123, 156]\n",
    "# posterior_ind= [ 7, 126, 114, 116, 115]\n",
    "arrs = [decode.posterior[i] for i in posterior_ind]\n",
    "len_arr = np.cumsum([_.shape[1] for _ in arrs])[:-1]\n",
    "zsc_tuning = stats.zscore(pf.tuning_curves,axis=1)\n",
    "sort_ind = np.argsort(np.argmax(zsc_tuning,axis=1))\n",
    "post_gpu = cp.asarray(np.hstack(arrs)) \n",
    "\n",
    "s = time.time()\n",
    "arrs_gpu = cp.hsplit(post_gpu,len_arr)\n",
    "for i, arr in enumerate(arrs_gpu):\n",
    "    \n",
    "    score, velocity, intercept = radon_transform_gpu(arr, dt=0.02, dx=2, neighbours=4)\n",
    "\n",
    "e = time.time()\n",
    "print(e-s)\n",
    "\n",
    "# s = time.time()\n",
    "# for i, arr in enumerate(arrs):\n",
    "#     t_start = epochs[posterior_ind[i]].flatten()[0]\n",
    "#     score, velocity, intercept = radon_transform(arr, dt=0.02, dx=2, neighbours=4)\n",
    "# e = time.time()\n",
    "# print(e-s)\n",
    "\n",
    "s = time.time()\n",
    "results = Parallel(n_jobs=5)(\n",
    "            delayed(radon_transform)(\n",
    "                epoch,\n",
    "                dt=0.02,\n",
    "                dx=2,\n",
    "                neighbours=4,\n",
    "            )\n",
    "            for epoch in arrs\n",
    "        )\n",
    "score, velocity, intercept = np.asarray(results).T\n",
    "e = time.time()\n",
    "print(e-s)\n",
    "\n",
    "\n"
   ]
  },
  {
   "cell_type": "code",
   "execution_count": null,
   "metadata": {},
   "outputs": [],
   "source": [
    "%matplotlib widget\n",
    "from numpy.random import default_rng\n",
    "from neuropy.analyses.decoders import radon_transform_gpu,radon_transform\n",
    "from neuropy import plotting\n",
    "from scipy import stats\n",
    "from neuropy.utils.mathutil import min_max_scaler\n",
    "import time\n",
    "\n",
    "n_posteriors = len(decode.posterior)\n",
    "posterior_ind = default_rng().integers(0,n_posteriors,5)\n",
    "# posterior_ind = [382, 42, 131, 162, 287, 284, 127, 331, 294, 205]\n",
    "# posterior_ind =[189, 139, 180, 178, 188, 103, 158,  15, 123, 156]\n",
    "# posterior_ind= [ 7, 126, 114, 116, 115]\n",
    "arrs = [decode.posterior[i] for i in posterior_ind]\n",
    "\n",
    "_, axs = plt.subplots(2, 5,sharey='row',sharex='col')\n",
    "# axs = axs.reshape(-1)\n",
    "zsc_tuning = stats.zscore(pf.tuning_curves,axis=1)\n",
    "sort_ind = np.argsort(np.argmax(zsc_tuning,axis=1))\n",
    "\n",
    "s = time.time()\n",
    "for i, arr in enumerate(arrs):\n",
    "    # arr = min_max_scaler(arr,axis=0)\n",
    "    t_start = epochs[posterior_ind[i]].flatten()[0]\n",
    "\n",
    "    score, velocity, intercept = radon_transform_gpu(arr, dt=0.02, dx=2, neighbours=4)\n",
    "    # arr = np.apply_along_axis(np.convolve, axis=0, arr=arr, v=np.ones(2 * 4 + 1))\n",
    "    # t = np.arange(arr.shape[1]) * 0.02+t_start\n",
    "    # pos = np.arange(arr.shape[0]) * 2\n",
    "\n",
    "    # axs[0,i].pcolormesh(t, pos,arr, cmap=\"hot\")\n",
    "    # axs[0,i].plot(t, velocity * (t-t_start) + intercept, color=\"w\")\n",
    "    # axs[0,i].set_ylim([pos.min(), pos.max()])\n",
    "    # axs[0,i].set_title(score.round(2))\n",
    "\n",
    "    # plotting.plot_raster(pf_neurons[sort_ind].time_slice(t_start=t[0],t_stop=t[-1]),ax=axs[1,i],color='k')\n",
    "e = time.time()\n",
    "print(e-s)\n",
    "\n",
    "s = time.time()\n",
    "for i, arr in enumerate(arrs):\n",
    "    # arr = min_max_scaler(arr,axis=0)\n",
    "    t_start = epochs[posterior_ind[i]].flatten()[0]\n",
    "\n",
    "    score, velocity, intercept = radon_transform(arr, dt=0.02, dx=2, neighbours=4)\n",
    "    # arr = np.apply_along_axis(np.convolve, axis=0, arr=arr, v=np.ones(2 * 4 + 1))\n",
    "    # t = np.arange(arr.shape[1]) * 0.02+t_start\n",
    "    # pos = np.arange(arr.shape[0]) * 2\n",
    "\n",
    "    # axs[0,i].pcolormesh(t, pos,arr, cmap=\"hot\")\n",
    "    # axs[0,i].plot(t, velocity * (t-t_start) + intercept, color=\"w\")\n",
    "    # axs[0,i].set_ylim([pos.min(), pos.max()])\n",
    "    # axs[0,i].set_title(score.round(2))\n",
    "\n",
    "    # plotting.plot_raster(pf_neurons[sort_ind].time_slice(t_start=t[0],t_stop=t[-1]),ax=axs[1,i],color='k')\n",
    "e = time.time()\n",
    "print(e-s)\n"
   ]
  },
  {
   "cell_type": "markdown",
   "metadata": {},
   "source": [
    "### Decoding here"
   ]
  },
  {
   "cell_type": "code",
   "execution_count": 74,
   "metadata": {},
   "outputs": [],
   "source": [
    "import matplotlib.pyplot as plt\n",
    "import numpy as np\n",
    "import subjects\n",
    "from neuropy import plotting\n",
    "from neuropy.utils import signal_process\n",
    "from neuropy.analyses import Pf1D\n",
    "from neuropy.analyses import Decode1d\n",
    "\n",
    "sessions = subjects.nsd.ratUday2"
   ]
  },
  {
   "cell_type": "code",
   "execution_count": 75,
   "metadata": {},
   "outputs": [],
   "source": [
    "for sub, sess in enumerate(sessions):\n",
    "    maze = sess.paradigm[\"maze\"].flatten()\n",
    "    post = sess.paradigm[\"post\"].flatten()\n",
    "    neurons = sess.neurons.get_neuron_type(neuron_type=\"pyr\")\n",
    "    pos = sess.maze\n",
    "    pos.t_start = pos.t_start - 0.5\n",
    "    # run = sess.run\n",
    "    pf = Pf1D(\n",
    "        neurons=neurons,\n",
    "        position=pos,\n",
    "        speed_thresh=5,\n",
    "        sigma=4,\n",
    "        grid_bin=2,\n",
    "        # epochs=run,\n",
    "        frate_thresh=1,\n",
    "    )\n",
    "    pf_neurons = neurons.get_by_id(pf.neuron_ids)\n",
    "    epochs = sess.pbe.time_slice(maze[0], maze[0]+500)\n",
    "    decode = Decode1d(\n",
    "        neurons=pf_neurons, ratemap=pf, epochs=epochs, bin_size=0.02, decode_margin=15,nlines=8000\n",
    "    )\n"
   ]
  },
  {
   "cell_type": "code",
   "execution_count": 86,
   "metadata": {},
   "outputs": [],
   "source": [
    "r = decode.weighted_correlation(decode.posterior)"
   ]
  },
  {
   "cell_type": "code",
   "execution_count": 96,
   "metadata": {},
   "outputs": [
    {
     "data": {
      "text/plain": [
       "[<matplotlib.lines.Line2D at 0x7ffb4b41b910>]"
      ]
     },
     "execution_count": 96,
     "metadata": {},
     "output_type": "execute_result"
    },
    {
     "data": {
      "application/vnd.jupyter.widget-view+json": {
       "model_id": "992573d8819e4b98bd1531fe5989fc73",
       "version_major": 2,
       "version_minor": 0
      },
      "image/png": "[encoded data removed]",
      "text/html": [
       "\n",
       "            <div style=\"display: inline-block;\">\n",
       "                <div class=\"jupyter-widgets widget-label\" style=\"text-align: center;\">\n",
       "                    Figure\n",
       "                </div>\n",
       "                <img src='data:image/png;base64,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' width=640.0/>\n",
       "            </div>\n",
       "        "
      ],
      "text/plain": [
       "Canvas(toolbar=Toolbar(toolitems=[('Home', 'Reset original view', 'home', 'home'), ('Back', 'Back to previous …"
      ]
     },
     "metadata": {},
     "output_type": "display_data"
    }
   ],
   "source": [
    "%matplotlib widget\n",
    "# decode.plot_summary()\n",
    "plt.plot(r,decode.velocity,'.')"
   ]
  },
  {
   "cell_type": "code",
   "execution_count": null,
   "metadata": {},
   "outputs": [],
   "source": [
    "from hfuncs import plot_in_bokeh\n",
    "import bokeh.plotting as bplot\n",
    "\n",
    "# bplot.output_file(subjects.figpath_sd/'test_wake_decoding.html')\n",
    "bplot.output_notebook()\n",
    "p = plot_in_bokeh(\n",
    "    x=epochs.starts / 3600,\n",
    "    y=decode.score,\n",
    "    img_arr=decode.posterior,\n",
    "    color_by=decode.score,\n",
    "    palette=\"jet\",\n",
    "    size=10,\n",
    ")\n",
    "# p.line(pos.time,pos.x/350 + 0.2,line_width=2,color='black')\n",
    "bplot.show(p)\n"
   ]
  },
  {
   "cell_type": "markdown",
   "metadata": {},
   "source": [
    "### Plotting decoding stats if calculated via script"
   ]
  },
  {
   "cell_type": "code",
   "execution_count": null,
   "metadata": {},
   "outputs": [],
   "source": [
    "import matplotlib.pyplot as plt\n",
    "import numpy as np\n",
    "import subjects\n",
    "from neuropy import plotting\n",
    "from neuropy.utils import signal_process\n",
    "from neuropy.analyses import Pf1D\n",
    "from neuropy.analyses import Decode1d\n",
    "\n",
    "sessions = subjects.nsd.ratUday2"
   ]
  },
  {
   "cell_type": "code",
   "execution_count": null,
   "metadata": {},
   "outputs": [],
   "source": [
    "for sub,sess in enumerate(sessions):\n",
    "\n",
    "    replay_pbe= sess.replay_pbe"
   ]
  },
  {
   "cell_type": "code",
   "execution_count": null,
   "metadata": {},
   "outputs": [],
   "source": [
    "from hfuncs import plot_replay_in_bokeh\n",
    "import bokeh.plotting as bplot\n",
    "\n",
    "bplot.output_notebook()\n",
    "# bplot.output_file(subjects.figpath_sd/'test_wake_decoding.html')\n",
    "p = plot_replay_in_bokeh(sess.replay_pbe)\n",
    "\n",
    "# p.line(pos.time,pos.x/350 + 0.2,line_width=2,color='black')\n",
    "bplot.show(p)"
   ]
  },
  {
   "cell_type": "markdown",
   "metadata": {},
   "source": [
    "### Signficant sequences histogram"
   ]
  },
  {
   "cell_type": "code",
   "execution_count": null,
   "metadata": {},
   "outputs": [],
   "source": [
    "%matplotlib widget\n",
    "import matplotlib.pyplot as plt\n",
    "import numpy as np\n",
    "import pandas as pd\n",
    "import subjects\n",
    "from neuropy import plotting\n",
    "from neuropy.utils import signal_process\n",
    "from neuropy.analyses import Pf1D\n",
    "from neuropy.analyses import Decode1d\n",
    "\n",
    "sessions = subjects.nsd.ratUday2 + subjects.sd.ratUday4"
   ]
  },
  {
   "cell_type": "code",
   "execution_count": null,
   "metadata": {},
   "outputs": [],
   "source": [
    "replay_df = []\n",
    "for sub, sess in enumerate(sessions):\n",
    "\n",
    "    post = sess.paradigm[\"post\"].flatten()\n",
    "    replay_pbe = sess.replay_pbe.to_dataframe()\n",
    "    is_replay = replay_pbe.is_replay\n",
    "    velocity_bool = np.abs(replay_pbe.velocity.values)>100\n",
    "\n",
    "    sig_events = np.logical_and(is_replay,velocity_bool)\n",
    "    starts = replay_pbe.start.values[sig_events]\n",
    "    bins = np.arange(post[0], post[0] + 2 * 3600, 600)\n",
    "    hist_replay = np.histogram(starts, bins)[0]\n",
    "    replay_df.append(\n",
    "        pd.DataFrame(\n",
    "            {\"bins\": ((bins[:-1] - post[0])/3600).round(2), \"hist\": hist_replay, \"grp\": sess.tag}\n",
    "        )\n",
    "    )\n",
    "\n",
    "replay_df = pd.concat(replay_df, ignore_index=True)\n"
   ]
  },
  {
   "cell_type": "code",
   "execution_count": null,
   "metadata": {},
   "outputs": [],
   "source": [
    "from neuropy import plotting\n",
    "import seaborn as sns\n",
    "\n",
    "fig = plotting.Fig(grid=(2,2))\n",
    "ax = fig.subplot(fig.gs[0])\n",
    "sns.barplot(data=replay_df,x='bins',y='hist',hue='grp')\n"
   ]
  },
  {
   "cell_type": "markdown",
   "metadata": {},
   "source": [
    "### Mean replay score across all events as a function of time "
   ]
  },
  {
   "cell_type": "code",
   "execution_count": null,
   "metadata": {},
   "outputs": [],
   "source": [
    "%matplotlib widget\n",
    "import matplotlib.pyplot as plt\n",
    "import numpy as np\n",
    "import pandas as pd\n",
    "import subjects\n",
    "from neuropy import plotting\n",
    "from neuropy.utils import signal_process\n",
    "from neuropy.analyses import Pf1D\n",
    "from neuropy.analyses import Decode1d\n",
    "\n",
    "sessions = subjects.nsd.ratUday2 + subjects.sd.ratUday4"
   ]
  },
  {
   "cell_type": "code",
   "execution_count": null,
   "metadata": {},
   "outputs": [],
   "source": [
    "from scipy import stats\n",
    "\n",
    "replay_df = []\n",
    "for sub, sess in enumerate(sessions):\n",
    "\n",
    "    post = sess.paradigm[\"post\"].flatten()\n",
    "    replay_pbe = sess.replay_pbe.to_dataframe()\n",
    "    starts = sess.replay_pbe.starts\n",
    "    replay_score = replay_pbe.score\n",
    "    bins = np.arange(post[0], post[0] + 2 * 3600, 600)\n",
    "\n",
    "    mean_score = stats.binned_statistic(starts, replay_score, bins=bins)[0]\n",
    "    replay_df.append(\n",
    "        pd.DataFrame(\n",
    "            {\n",
    "                \"bins\": ((bins[:-1] - post[0]) / 3600).round(2),\n",
    "                \"hist\": mean_score,\n",
    "                \"grp\": sess.tag,\n",
    "            }\n",
    "        )\n",
    "    )\n",
    "\n",
    "replay_df = pd.concat(replay_df, ignore_index=True)\n"
   ]
  },
  {
   "cell_type": "code",
   "execution_count": null,
   "metadata": {},
   "outputs": [],
   "source": [
    "from neuropy import plotting\n",
    "import seaborn as sns\n",
    "\n",
    "fig = plotting.Fig(grid=(2,2))\n",
    "ax = fig.subplot(fig.gs[0])\n",
    "sns.lineplot(data=replay_df,x='bins',y='hist',hue='grp')\n"
   ]
  },
  {
   "cell_type": "markdown",
   "metadata": {},
   "source": [
    "### Distribution of replay scores and comparison with shuffled scores"
   ]
  },
  {
   "cell_type": "code",
   "execution_count": null,
   "metadata": {},
   "outputs": [],
   "source": [
    "%matplotlib widget\n",
    "import matplotlib.pyplot as plt\n",
    "import numpy as np\n",
    "import pandas as pd\n",
    "import subjects\n",
    "from neuropy import plotting\n",
    "from neuropy.utils import signal_process\n",
    "from neuropy.analyses import Pf1D\n",
    "from neuropy.analyses import Decode1d\n",
    "\n",
    "sessions = subjects.nsd.ratUday2 + subjects.sd.ratUday4"
   ]
  },
  {
   "cell_type": "code",
   "execution_count": null,
   "metadata": {},
   "outputs": [],
   "source": [
    "from scipy import stats\n",
    "\n",
    "score_df = []\n",
    "for sub, sess in enumerate(sessions):\n",
    "\n",
    "    post = sess.paradigm[\"post\"].flatten()\n",
    "    replay_pbe = sess.replay_pbe.to_dataframe()\n",
    "\n",
    "    starts = sess.replay_pbe.starts\n",
    "    replay_score = replay_pbe.score\n",
    "\n",
    "    shuffle_scores = sess.replay_pbe.metadata[\"shuffle_score\"].flatten()\n",
    "    shuffle_starts = np.repeat(starts, 200)\n",
    "    \n",
    "    bins = np.arange(2)*3600 + post[0]\n",
    "    replay_df = pd.DataFrame(\n",
    "        {\n",
    "            \"Zt\":np.digitize(starts,bins),\n",
    "            \"starts\": starts,\n",
    "            \"score\": replay_score,\n",
    "            \"grp\": sess.tag,\n",
    "        }\n",
    "    )\n",
    "    shuffle_df = pd.DataFrame(\n",
    "        {\n",
    "            \"Zt\":np.digitize(shuffle_starts,bins),\n",
    "            \"starts\": shuffle_starts,\n",
    "            \"score\": shuffle_scores,\n",
    "            \"grp\": f\"{sess.tag}_shuffle\",\n",
    "        }\n",
    "    )\n",
    "    score_df.append(pd.concat([replay_df,shuffle_df]))\n",
    "\n",
    "score_df = pd.concat(score_df, ignore_index=True)\n",
    "\n"
   ]
  },
  {
   "cell_type": "code",
   "execution_count": null,
   "metadata": {},
   "outputs": [],
   "source": [
    "sess.replay_pbe.metadata['shuffle_score'].shape"
   ]
  },
  {
   "cell_type": "code",
   "execution_count": null,
   "metadata": {},
   "outputs": [],
   "source": [
    "from neuropy import plotting\n",
    "import seaborn as sns\n",
    "\n",
    "fig = plotting.Fig(grid=(2,2))\n",
    "ax = fig.subplot(fig.gs[0])\n",
    "sns.violinplot(data=score_df,x='Zt',y='score',hue='grp')\n"
   ]
  },
  {
   "cell_type": "markdown",
   "metadata": {},
   "source": [
    "### Replay score distribution comparison in POST"
   ]
  },
  {
   "cell_type": "code",
   "execution_count": 97,
   "metadata": {},
   "outputs": [],
   "source": [
    "import matplotlib.pyplot as plt\n",
    "import pandas as pd\n",
    "import numpy as np\n",
    "import subjects\n",
    "from neuropy import plotting\n",
    "from neuropy.utils import signal_process\n",
    "from neuropy.analyses import Pf1D\n",
    "from neuropy.analyses import Decode1d\n",
    "\n",
    "sessions = subjects.nsd.pf_sess + subjects.sd.pf_sess"
   ]
  },
  {
   "cell_type": "code",
   "execution_count": 98,
   "metadata": {},
   "outputs": [
    {
     "name": "stderr",
     "output_type": "stream",
     "text": [
      "100%|██████████| 10/10 [31:59<00:00, 191.98s/it]"
     ]
    },
    {
     "name": "stdout",
     "output_type": "stream",
     "text": [
      "replay_post_score saved\n",
      "replay_pos_distribution saved\n"
     ]
    },
    {
     "name": "stderr",
     "output_type": "stream",
     "text": [
      "\n"
     ]
    }
   ],
   "source": [
    "from tqdm import tqdm\n",
    "from neuropy.core import Epoch\n",
    "from neuropy.utils.mathutil import min_max_scaler\n",
    "\n",
    "score_df = []\n",
    "dist_replay_df = []\n",
    "for sub, sess in enumerate(tqdm(sessions)):\n",
    "    post = sess.paradigm[\"post\"].flatten()\n",
    "    neurons = sess.neurons.get_neuron_type(neuron_type=\"pyr\")\n",
    "    pos = sess.maze\n",
    "    # run = sess.run\n",
    "    pf = Pf1D(\n",
    "        neurons=neurons,\n",
    "        position=pos,\n",
    "        speed_thresh=5,\n",
    "        sigma=4,\n",
    "        grid_bin=2,\n",
    "        # epochs=run,\n",
    "        frate_thresh=1,\n",
    "    )\n",
    "    pf_neurons = neurons.get_by_id(pf.neuron_ids)\n",
    "    zts = np.array([0, 1, 2, 4, 5, 7])\n",
    "    starts = zts * 3600 + post[0]\n",
    "\n",
    "    epochs = []\n",
    "    for s, zt in zip(starts,zts):\n",
    "        epochs.append(\n",
    "            sess.pbe.time_slice(s, s + 3600).set_labels(f\"{zt+1}\").to_dataframe()\n",
    "        )\n",
    "\n",
    "    epochs = Epoch(pd.concat(epochs, ignore_index=True))\n",
    "\n",
    "    decode = Decode1d(\n",
    "        neurons=pf_neurons,\n",
    "        ratemap=pf,\n",
    "        epochs=epochs,\n",
    "        bin_size=0.02,\n",
    "        decode_margin=15,\n",
    "        nlines=5000,\n",
    "    )\n",
    "    jump_distance = [np.abs(np.diff(_)).mean() for _ in decode.decoded_position]\n",
    "    weighted_corr = decode.weighted_correlation(decode.posterior)\n",
    "\n",
    "    norm_pos=min_max_scaler(decode.ratemap.xbin_centers)\n",
    "    decoded_position_mean =np.nanmean(np.hstack(decode.posterior),axis=1)\n",
    "    pos_bins = np.linspace(0,1,50)\n",
    "    mean_pos = np.interp(pos_bins,norm_pos,decoded_position_mean) \n",
    "\n",
    "    df_dist = pd.DataFrame(\n",
    "        dict(\n",
    "            bins = pos_bins,\n",
    "            mean_pos = mean_pos,\n",
    "            name=sess.animal.name,\n",
    "            grp=sess.tag,\n",
    "        )\n",
    "    )\n",
    "\n",
    "    df = pd.DataFrame(\n",
    "        dict(\n",
    "            score=decode.score,\n",
    "            velocity=decode.velocity,\n",
    "            jump_distance=jump_distance,\n",
    "            weighted_corr=weighted_corr,\n",
    "            epoch=epochs.labels,\n",
    "            name=sess.animal.name,\n",
    "            grp=sess.tag,\n",
    "        )\n",
    "    )\n",
    "    score_df.append(df)\n",
    "    dist_replay_df.append(df_dist)\n",
    "\n",
    "score_df = pd.concat(score_df, ignore_index=True)\n",
    "dist_replay_df = pd.concat(dist_replay_df,ignore_index=True)\n",
    "\n",
    "subjects.GroupData().save(score_df, \"replay_post_score\")\n",
    "subjects.GroupData().save(dist_replay_df, \"replay_pos_distribution\")\n"
   ]
  },
  {
   "cell_type": "code",
   "execution_count": 55,
   "metadata": {},
   "outputs": [
    {
     "data": {
      "text/plain": [
       "<AxesSubplot:xlabel='epoch', ylabel='score'>"
      ]
     },
     "execution_count": 55,
     "metadata": {},
     "output_type": "execute_result"
    },
    {
     "data": {
      "application/vnd.jupyter.widget-view+json": {
       "model_id": "5ad51a86d91d4c8db4242e7902ab19b4",
       "version_major": 2,
       "version_minor": 0
      },
      "image/png": "[encoded data removed]",
      "text/html": [
       "\n",
       "            <div style=\"display: inline-block;\">\n",
       "                <div class=\"jupyter-widgets widget-label\" style=\"text-align: center;\">\n",
       "                    Figure\n",
       "                </div>\n",
       "                <img src='data:image/png;base64,iVBORw0KGgoAAAANSUhEUgAAAoAAAAHgCAYAAAA10dzkAAAAOXRFWHRTb2Z0d2FyZQBNYXRwbG90bGliIHZlcnNpb24zLjUuMSwgaHR0cHM6Ly9tYXRwbG90bGliLm9yZy/YYfK9AAAACXBIWXMAAA9hAAAPYQGoP6dpAACFqUlEQVR4nO3dd3hUZdoG8PtMn/RGQgIBQpNIFwQBsSCirJ/Y67qIBWWtgKKr7Fqw4LqKrAVcURB3EVAURaWKUqQJoUMEQoAEEtIISUiZds73x8lMEkggZWbOzDn377pyGYeZzAOTmbnnLc8rSJIkgYiIiIg0Q6d0AURERETkXwyARERERBrDAEhERESkMQyARERERBrDAEhERESkMQyARERERBrDAEhERESkMQyARERERBrDAEhERESkMQyARERERBrDAEhERESkMQyARERERBrDAEhERESkMQyARERERBrDAEhERESkMQyARERERBrDAEhERESkMQyARERERBrDAEhERESkMQyARERERBrDAEhERESkMQyARERERBrDAEhERESkMQyARERERBrDAEhERESkMQyARERERBrDAEhERESkMQyARERERBrDAEhERESkMQyARERERBrDAEhERESkMQyARERERBrDAEhERESkMQyARERERBrDAEhERESkMQyARERERBrDAEhERESkMQyARERERBrDAEhERESkMQyARERERBrDAEhERESkMQyARERERBrDAEhERESkMQyARERERBrDAEhERESkMQyARERERBrDAEhERESkMQyARERERBrDAEhERESkMQyARERERBrDAEhERESkMQyARERERBrDAEhERESkMQyARERERBrDAEhERESkMQyARERERBpjULqAYCaKInJychAeHg5BEJQuh4iIiBpBkiSUlZUhKSkJOp02x8IYAFsgJycHycnJSpdBREREzZCdnY22bdsqXYYiGABbIDw8HID8CxQREaFwNURERNQYpaWlSE5O9ryPaxEDYAu4p30jIiIYAImIiIKMlpdvaXPim4iIiEjDGACJiIiINIYBkIiIiEhjuAaQiIgoyEiSBKfTCZfLpXQpAUmv18NgMGh6jd+FqCYArlu3Dv/617+QlpaG3NxcLF68GDfffPN5b7N27VpMnDgR+/btQ1JSEp577jmMGzfOPwUTERE1g91uR25uLioqKpQuJaCFhIQgMTERJpNJ6VICkmoCYHl5OXr37o0HHngAt9122wWvf+TIEfzpT3/C2LFj8b///Q8bNmzAY489hlatWjXq9kRERP4miiKOHDkCvV6PpKQkmEwmjnKdRZIk2O12FBQU4MiRI+jSpYtmmz2fj2oC4MiRIzFy5MhGX//jjz9Gu3btMH36dABAamoqtm3bhnfeeYcBkIiIApLdbocoikhOTkZISIjS5QQsq9UKo9GIY8eOwW63w2KxKF1SwNFsJN60aRNGjBhR57LrrrsO27Ztg8PhUKgqIiKiC+OI1oXx3+j8VDMC2FQnT55EQkJCncsSEhLgdDpRWFiIxMTEc25js9lgs9k8/19aWurzOomIiIi8TdPx+Ox1E5Ik1Xu529SpUxEZGen54jnAREREFIw0GwBbt26NkydP1rksPz8fBoMBsbGx9d7mhRdeQElJiecrOzvbH6USEREReZVmp4AHDRqEH374oc5lK1euRP/+/WE0Guu9jdlshtls9kd5REREQclut7P1ShBQzQjgmTNnsHPnTuzcuROA3OZl586dyMrKAiCP3o0ePdpz/XHjxuHYsWOYOHEi0tPTMXv2bHz22Wd49tlnlSg/6LD/FBGRNpSVleHPf/4zQkNDkZiYiPfeew9XXXUVxo8fDwDo0KEDXn/9dYwZMwaRkZEYO3Ysjh49CkEQsGDBAgwePBgWiwXdu3fHmjVrFP27UA3VBMBt27ahb9++6Nu3LwBg4sSJ6Nu3L1566SUAQG5uricMAkBKSgqWLl2KNWvWoE+fPnjttdfw/vvvswVMI6xcuRI33HADVq5cqXQpRETkYxMnTsSGDRuwZMkSrFq1CuvXr8f27dvrXOdf//oXevTogbS0NPzjH//wXD5p0iQ888wz2LFjBwYPHoxRo0ahqKjI338FqocguXc+UJOVlpYiMjISJSUliIiIULocv7nqqqsAyEftrF69WtliiIg0pKqqCkeOHEFKSopfetuVlZUhNjYWX375JW6//XYAQElJCZKSkjB27FhMnz4dHTp0QN++fbF48WLP7Y4ePYqUlBS89dZbeP755wEATqcTKSkpePLJJ/Hcc8/5vPbz/Vtp9f27NtWMAJL/8QxKIiJ1y8zMhMPhwIABAzyXRUZG4qKLLqpzvf79+9d7+0GDBnm+NxgM6N+/P9LT031TLDUJAyARERHVq6H2aGdPHoaGhjb6Z/LousDAAEhERET16tSpE4xGI37//XfPZaWlpTh06FCjbr9582bP906nE2lpaejWrZvX66Sm02wbGCIiIjq/8PBw3H///Zg0aRJiYmIQHx+Pl19+GTqdrlEjeR999BG6dOmC1NRUvPfeeyguLsaDDz7oh8rpQjgCSERERA2aNm0aBg0ahP/7v//D8OHDMWTIEKSmpjZqE8pbb72Ff/7zn+jduzfWr1+P77//HnFxcX6omi6EI4BERETUoPDwcMybN8/z/+Xl5Xj11VfxyCOPAJB3/DYkNTW1zjQwBQ4GQCIiImrQjh078Mcff2DAgAEoKSnBlClTAAA33XSTwpVRSzAAEhER0Xm98847OHDgAEwmE/r164f169dzKjfIMQASERFRg/r27Yu0tLQm3aZDhw7ntIqhwMJNIEREREQawwBIREREpDEMgEREREQawwBIREREpDEMgEREREQawwBIREREpDEMgERERCrgcrngdDr99uVyuRT9+3bo0AHTp09XtIZgxj6AREREQc7lcuHW2+9ASfEpv91nZHQMvl30NfR6vd/uk7yHAZCaTRAEpUsgIiIAkiShpPgUyi4ZDQh+mNyTRGD7F2z2HMQ4BUzNxgBIpD6SJCE7O5tv7MFK0AE6P3w1I2ReddVVeOqpp/Dcc88hJiYGrVu3xiuvvOL581deeQXt2rWD2WxGUlISnnrqKc+f5efn48Ybb4TVakVKSgrmzZvnjX8tTeMIIBEReSxatAgfffQRnnzySdx2221Kl0MqM3fuXEycOBFbtmzBpk2bMGbMGAwZMgQlJSV47733sGDBAnTv3h0nT57Erl27PLcbM2YMsrOz8csvv8BkMuGpp55Cfn6+gn+T4McASM3GEUBtKC8vx4YNGzBkyBCEhoYqXQ752EcffQQA+OCDDxgAyet69eqFl19+GQDQpUsXfPjhh1i9ejXi4+PRunVrDB8+HEajEe3atcOAAQMAAAcPHsSyZcuwefNmDBw4EADw2WefITU1VbG/hxpwCpiIzuuzzz7Dm2++iTlz5ihdChEFuV69etX5/8TEROTn5+OOO+5AZWUlOnbsiLFjx2Lx4sVwOp0AgPT0dBgMBvTv399zu27duiEqKsqfpasOAyA1G0cAteHbb78FIE8NEhG1hNForPP/giBAFEUkJyfjwIED+Oijj2C1WvHYY4/hiiuugMPh8KxH5XuOdzEAEhERkeKsVitGjRqF999/H2vWrMGmTZuwZ88epKamwul0Ytu2bZ7rHjhwAKdPn1auWBXgGkAiIiJS1Oeffw6Xy4WBAwciJCQE//3vf2G1WtG+fXvExsbi+uuvx9ixY/HJJ5/AYDBg/PjxsFqtSpcd1DgCSM3G4XgiogAjiYDohy9J9GrZUVFRmDVrFoYMGYJevXph9erV+OGHHxAbGwsAmDNnDpKTk3HllVfi1ltvxSOPPIL4+Hiv1qA1HAEkIiIKcoIgIDI6Btj+hd/uMzI6pkkDAWvWrDnnsu+++87z/c0339zgbVu3bo0ff/yxzmV/+ctfGn3fdC4GQCIioiCn1+vx7aKvm9zA++DBg57vu3bt2qTbCoLAY+CCGAMgERGRCjQnjNW+jcHASKAlXANIzcY1gERERMGJAZCajQGQiEgd+HquPQyA1Gx8wSAiIgpODIDUbFz8S0REFJwYAKnZdDr++hARqQFndLSH7+DUbAyAREREwYnv4NRsZx/qTUTqwQ94ROrGpj/UbFwDqC2cIiIKbC6Xq8mNoF0uFwBAkiQ4nc4m3daXjaDHjBmD06dP1zkphLyLAZCajU1DtYUBUFv4eAcXl8uFu+64FYWnSvx2n3ExkVj49bccDAhSfAenZjOZTEqXQH7EKUFtYQAMLpIkofBUCWZdWQS9Hx46lwSMXYsmjzhS4OArOjWb2WxWugTyIwYCbeHjHZz0AmDQ+f6rOSFz0aJF6NmzJ6xWK2JjYzF8+HCUl5fD5XJh4sSJiIqKQmxsLJ577jkGSz9gAKRmYwAkIqLGyM3NxT333IMHH3wQ6enpWLNmDW699VZIkoR3330Xs2fPxmeffYbffvsNp06dwuLFi5UuWfU4BUzNxilgbeGIEBE1V25uLpxOJ2699Va0b98eANCzZ08AwPTp0/HCCy/gtttuAwB8/PHHWLFihWK1agVHAKnZrFar0iWQHzEAElFz9e7dG9dccw169uyJO+64A7NmzUJxcTFKSkqQm5uLQYMGea5rMBjQv39/BavVBgZAapLa6zIsFouClZC/MQASUXPp9XqsWrUKy5Ytw8UXX4wPPvgAF110EY4ePap0aZrFAEhNUlVV5fmeAZCIiBpLEAQMGTIEr776Knbs2AGTyYTVq1cjMTERmzdv9lzP6XQiLS1NwUq1gWsAqUkqKys93zMAEhFRY2zZsgWrV6/GiBEjEB8fjy1btqCgoACpqal4+umn8dZbb6FLly5ITU3FtGnTcPr0aaVLVj0GQGqSiooKz/ecEtQWPt5Egc8lARD9dD9NEBERgXXr1mH69OkoLS1F+/bt8e6772LkyJG49tprkZubizFjxkCn0+HBBx/ELbfcgpIS/zW11iIGQGqS2iOAREQUGARBQFxMJMau9d99xsVENvqDYWpqKpYvX17vnxkMBkyfPh3Tp0/3YnV0IQyA1CS1RwBJWzgCqC1sxBtc9Ho9Fn79bZMft4MHD3pu36lTpybd1pdnAZPvMQBSkzAAahcDIFFga04Yc9/GYDDwfHeN4S5gahIGQCJt4AggkboxAFKTcA0gERFR8GMApCZhANQuTgETEakHAyA1CQMgkTZwCjiwefvxUeMHPP4Onx8DIDUJA6B2qfENghrGxzswGY1GAFyP3RjufyP3vxnVxS0/1CQ2m83zfUZGhoKVkL8xEGgLH+/ApNfrERUVhfz8fABASEhIix4rUZS7RrtcrjpHfQYzSZJQUVGB/Px8REVFsVVNAxgAqUlqv0DwrEYiIv9r3bo1AHhCYEucPHkSgNwGxul0tvjnBZKoqCjPvxWdiwGQmqT2CCARqRdHAAOXIAhITExEfHw8HA5Hi37Wyy+/DABITEzEP//5T2+UFxCMRiNH/i5AVQFwxowZ+Ne//oXc3Fx0794d06dPx9ChQxu8/rx58/D222/j0KFDiIyMxPXXX4933nkHsbGxfqw6uDAAahcDgbbodFwiHuj0en2LQ07tqWSLxeKNsihIqOYZvnDhQowfPx6TJ0/Gjh07MHToUIwcORJZWVn1Xv+3337D6NGj8dBDD2Hfvn34+uuvsXXrVjz88MN+rjy42O12pUsgIj9g4NcWBn7tUc0jPm3aNDz00EN4+OGHkZqaiunTpyM5ORkzZ86s9/qbN29Ghw4d8NRTTyElJQWXX345Hn30UWzbts3PlQcXBkDtYiDQFgYCbeHzW3tU8Qy32+1IS0vDiBEj6lw+YsQIbNy4sd7bDB48GMePH8fSpUshSRLy8vKwaNEi3HDDDf4oOWi1dL0JBS++QWgLA6C2cL2c9qjiGV5YWAiXy4WEhIQ6lyckJHh2OJ1t8ODBmDdvHu666y6YTCa0bt0aUVFR+OCDDxq8H5vNhtLS0jpfWsMASKQNDIDawsdbe1T1iJ89QiFJUoOjFvv378dTTz2Fl156CWlpaVi+fDmOHDmCcePGNfjzp06disjISM9XcnKyV+sPBpwCJtIGjghpCwOg9qjiEY+Li4Nerz9ntC8/P/+cUUG3qVOnYsiQIZg0aRJ69eqF6667DjNmzMDs2bORm5tb721eeOEFlJSUeL6ys7O9/ncJdC6XS+kSSCGcAtYWBkBtYQDUHlU84iaTCf369cOqVavqXL5q1SoMHjy43ttUVFSc8wvvfsFr6PxAs9mMiIiIOl9awylg7WIA1BYGQG1hANQe1TziEydOxKefforZs2cjPT0dEyZMQFZWlmdK94UXXsDo0aM917/xxhvx7bffYubMmcjMzMSGDRvw1FNPYcCAAUhKSlLqrxHw1NYpnhqPB6trCwOgtvADnvaophH0XXfdhaKiIkyZMgW5ubno0aMHli5divbt2wMAcnNz6/QEHDNmDMrKyvDhhx/imWeeQVRUFIYNG6aqTui+wACoXTx8XlsMBtW8PVAjcARQe1T1DH/sscfw2GOP1ftnn3/++TmXPfnkk3jyySd9XJW6MABql1oOiqfGYQDUFo4Aag8jPzUJAyCRNphMJqVLID9iANQeBkBqEgZAIm0wGo1Kl0B+xHPetYcBkBpNFEUGQCKNYADUlqNHjypdAvkZAyA1GsMfkXaYzWalSyA/OnPmjNIlkJ8xAFKjsQcgkXZYLBalSyAiH2IApEbjGhEidRNF0fM9N4EQqRsDIDUaAyCRutVu9WO1WhWshIh8jQGQGs1utytdAhH5UGVlped7jgASqRsDIDVa7TcHIlKf2iOA7AtHpG4MgNRoDIBE6sbnOJF2MABSo/HNgUjd+Bwn0g4GQGq0iooKpUsgIh9iACTSDgZAarTy8nKlSyAiH2IAJNIOBkBqNAZAInVjACTSDgZAajQeFUSkbgyARNrBAEiNVlZWpnQJRORDbPZOpB0MgNRoHAEkUjeOABJpBwMgNVppaanSJRCRD9UeASwpKVGwEiLyNQZAajS+IRCpW+0AuHXrVgUrISJfYwCkRuMIoPaIoqh0CeRHtQNgUVGRgpUQka8xAFKjcQRQexwOh9IlkB/Z7XalSyAiP2EApEapqqriDkENYiDQFj7e2iJJktIlkIIYAKlRTp8+DQCQBP7KaInT6VS6BPIjjvhqCx9vbeO7OTWKJwAaLMoWQn7FNwht4eOtLZzV0TYGQGoU9/o/BkBtYSDQFk4Ba0tVVZXSJZCCGACpUTwjgEYGQC3hFLC2MPBrCxt/axsDIDUKp4C1iYFAWzgCqC0VFRVKl0AKYgCkRuEUsDZxBFBbGAC1hQFQ2xgAqVE4BaxNDIDawk0B2lJeXq50CaQgBkBqFI4AahMDoLYwAGrLmTNnlC6BFMQASI1SEwDNCldC/sQAqC3cFaotZWVlSpdACmIApEbhCKA2uVwupUsgP3G5XBwB1BgGQG1jAKRGYQDUJgZA7eDon/aUlpYqXQIpiAGQLkgURc9aEU4BawsDoHZwQ4D2MABqGwMgXVBZWRlEUQTAEUCt4RpA7eB0oPYwAGobAyBdkPtFQtIbAR1/ZbSEjaC1gwFQe/iYaxvfzemCuANYuzgFrB0cDdIePubaxgBIF1RzDJxV2ULI77grVDvcH/RIOxgAtY0BkC6Ip4BoF48G0w7385y0wel08ig4jWMApAsqLi4GAIjcAKI5bA2iHQyA2sJTQIgBkC7o1KlTAADJyClgramsrFS6BPIT9/OctIEBkBgA6YKKiooAAJIxROFKyN84RaQdDIDawr6PxABIF3R2AJSULIb8im8S2uEZ6Ve4DvIPfrgjBkC6oMLCQgCAaHKPAArKFUN+xV2C2sERQG3hFDAxANJ5OZ1OFBQUAAAkU5jC1ZC/MQBqg81mqzXayw94WsD1vcQASOd16tQpiKIISdDVbAIR+AahFewNpw2e6V9Br3Al5C9c3kEMgHReJ0+eBFC9/s8d/AT+2miFuwUQqZv7cZaMFn7A0wiuASS+k9N5uQOgaA6vuZBvEJpQUVHBPoAaUdPsna2etIIjgMQASOeVm5sLoG4AlDgCqAncFKAdNcc9stm7VnAEkPhOTueVk5MDAJDMtTaAMABqAgOgdrjXesoBkCP8WsAASHwnp/NyB0DRHFFzIQOgJrj7P5L61QRAs8KVkL+4p4DZ91G7+E5O51UTAGuvAeROQS1gANQOd7sfyWDmGl+N4BpAYgCkBlVWVnpCgGipGQGUdDUB0OFw+L0u8g/uANaOsrIyABwB1JKaKWAGfq1iAKQGuTeASHoTUPuNodYUMD9Fqld9AdDlcilQCfmaZwRQzxFArfCcBMLHW7MYAKlBJ06cAHDW+j8AtT8xspu8enl2htYK/E6nU6FqyJfqjgAyEGhBzVFwfLy1igGQGuQJgJbwBq/DnWTq5TkGrtaaT44AqlPtNYASR4RUT5KkmtkbPt6axQBIDap3B/BZ7Ha7v8ohP3OPENRe88kAqE51RgC5y1/1qqqqap7LfLw1i488Nai+JtBn4yYQ9apZI8QAqGZVVVWw2WwAOAWsFZ7ALwgc8dUwVQXAGTNmICUlBRaLBf369cP69evPe32bzYbJkyejffv2MJvN6NSpE2bPnu2nagOfewpYsjQ8AsgAqF7uY+AkXc3LhCSxa5jaeM4BFvSAzsgRIQ3wjO7rTWDg1y6D0gV4y8KFCzF+/HjMmDEDQ4YMwX/+8x+MHDkS+/fvR7t27eq9zZ133om8vDx89tln6Ny5M/Lz87nIvZrT6UReXh4AQDSFNXg9gZ8eVcs9KlQ7EIiiqFA15Cs15wBb5PVgDICq5xnd15sBF5fxaJVqAuC0adPw0EMP4eGHHwYATJ8+HStWrMDMmTMxderUc66/fPlyrF27FpmZmYiJiQEAdOjQwZ8lB7SCggK4XC5Igg6SKbTB6zEAqpPL5aoZ3a31GPPxVh93r0/JaJX/W+sxliSJj7kKeUYADSYIDICapYqPena7HWlpaRgxYkSdy0eMGIGNGzfWe5slS5agf//+ePvtt9GmTRt07doVzz77LNuaVKuz/u88bwB6PU8FUaO6a/0YANSssLAQACAaQ+QLao0AcomHOtWdAiatUsUIYGFhIVwuFxISEupcnpCQgJMnT9Z7m8zMTPz222+wWCxYvHgxCgsL8dhjj+HUqVMNrgO02Ww102Ko1SZDhdw7gCVzw9O/AGAy8QVEjeoEQI4AqlpBQQEA1Iz01wqANpuNz3EV8mwC0XPTj5apYgTQ7ew3p/NNX4iiCEEQMG/ePAwYMAB/+tOfMG3aNHz++ecNjgJOnToVkZGRnq/k5GSv/x0CRb1nANeDbw7q1NAIIAOg+uTn5wMAJFPIOX/GNk/qVNP30cT8p2GqCIBxcXHQ6/XnjPbl5+efMyrolpiYiDZt2iAyMtJzWWpqKiRJwvHjx+u9zQsvvICSkhLPV3Z2tvf+EgGmZgq44R3AAAOgWnG3r3bUbPZyf9irSQScAlanmilgnv2sZaoIgCaTCf369cOqVavqXL5q1SoMHjy43tsMGTIEOTk5tY7DAQ4ePAidToe2bdvWexuz2YyIiIg6X2rlaQHDEUBNami3L4Oh+rg/OIv1LPfgCKA61T75hUOA2qWKAAgAEydOxKefforZs2cjPT0dEyZMQFZWFsaNGwdAHr0bPXq05/r33nsvYmNj8cADD2D//v1Yt24dJk2ahAcffBBWq1Wpv0ZAqD0KKtbbA7AmBJjN/ASpRg0FPbaBUReHw+HZBFLfel+2xVKnugGQtEoVm0AA4K677kJRURGmTJmC3Nxc9OjRA0uXLkX79u0ByFOaWVlZnuuHhYVh1apVePLJJ9G/f3/ExsbizjvvxOuvv67UXyFgnDp1ChUVFZAgNDAFXBMOjEaj/wojhdSMEDAAqkteXh5EUYSkM0AynPvBl1PA6lQTAC3s+6hhqgmAAPDYY4/hscceq/fPPv/883Mu69at2znTxgTP2kbJHAbo6mnzUmt0iG1g1KmhoMcRIXWps9mrng0+fLzVqaSkRP7GYD5vmy9SN0Z/OsexY8cAAKIlsoFrMACqXUNTwFwTpi7uzV4NtXviCKA6uU9/EY0WSAKPetQqBkA6x+HDhwEALmtMA9fgJ0a1c48Ann1QPAOgulyo3RMfb/Wx2+2oqKgAcO4UcO0+t6R+DIB0jszMTACAGNJQAKzBNWHqVNMHsO5LBE/KUZc6J/7Ug4FAfTxnPws6QG+qEwDLy8sVqoqUwABIdTidTmRkZAAAxJDoBq4l1Lk+qY/ncT1rBNA9ckDqcKEAWFVV5c9yyA9OnToFAPKmH0FA7dfz2m3RSP0YAKmOzMxMVFVVQdKbIFqi6r9SrVDAKSJ1cj+ukq7uPjGOEKiLZw2gqf4AyBFf9fEEQOO5u77dR8SRNjAAUh179+4FALjCWp1nd1jN5RwhUCdPsD9rFzgDoHqUlZV5RnzqawINcMRXjTx9H+sJgGo+357OxQBIdezZswcA4AqNb9T1OUKgTu7H9ewRQI4QqIfnBBCDBdDX38+TAVB93AFQNIWe82cMgNrCAEgeLpcLaWlp8vcRiY26DUeE1MmzFuiss0K5Rkg93Kf9SPWe9iPj81t9PCOAppBz/owBUFsYAMnj0KFDKC0thaQ3NnoEkG8Q6uQe6ZMMpnovp+DnPu+7/tN+ZHx+q09+fj4AjgASAyDV8vvvvwMAnOFJgK5xvxp8wVCnhs4K5eOtHu4Tf+o/71vGAKg+eXl5AADJdO66T47wawsDIHls2LABAOCKatvo23BESJ0KCgoAAKKx7jQR3yDU48iRIwAA0RrV4HUYANVFFMWatZ/1jADy9VxbGAAJgDwtcODAAUgAnFHtGn07z5mSpCruACid9SbBEUB1cLlcOHr0qPx9gyf+cBOI2hQXF8PhcECCcM5zG2Dg1xrFA+Dp06fx6aef4oUXXvD0J9q+fbtnfQr5h2f0Lyy+3vYADWEgUCf3OqGzF4pzhEAdjh8/DrvdDklnaPAcYIC7/NXG/b4qmUPPafEEcIRfawwXvorv7N69G8OHD0dkZCSOHj2KsWPHIiYmBosXL8axY8fwxRdfKFmepqxfvx4A4Ixq36TbcQRQfSRJ8uwQPXuDAEcI1GHfvn0AAFdoXJ2jwM7GAKguF9r4w+e3tig6Ajhx4kSMGTMGhw4dgsVi8Vw+cuRIrFu3TsHKtKW0tBQ7d+4EADijmxYA3edKknqUlJTUNAg+a4NARUUFz39WAU/D99BW570ezwJWl4Y+2Llxyl9bFA2AW7duxaOPPnrO5W3atPEsVCXf27RpE0RRhMsafd6eYPXhlKD6eHaHmkKBsxpBi6LI019UwN3wXQw7f7snBkB1OXbsGABAtEbW++cMgNqiaAC0WCz1riE7cOAAWrU6/ydT8p6NGzcCaProH8A1gGqUmZkJABCt0fX+OacFg9vJkyeRnZ0NCQKc4edv+M6zvtXFEwAbOOe9vLwckiT5sSJSkqIB8KabbsKUKVPgcDgAAIIgICsrC3/7299w2223KVmaZjidTmzbtk3+PjK5ybfnCKD6uAOgq4EAyFGC4LZ161YA1ed9n9Xo+2yiKDIQqITNZqtZA9hA6x9RFPkBT0MUDYDvvPMOCgoKEB8fj8rKSlx55ZXo3LkzwsPD8cYbbyhZmmbs27cP5eXlEA0WiKFxTb4914Spz+HDhwFwBFCttmzZAgBwRTau36f7AzoFt6NHj0IURYgGMyTjucfAuXEnsHYougs4IiICv/32G3755Rds374doijikksuwfDhw5UsS1Pcp3+4ItoAgtCsn1FRUYGwsIZbSVDwEEWxJgCGxtZ7HY4ABq+qqirPCKAzqnEj/vyApw4ZGRkAADEk5ryv9WVlZYiPb9xRoBTcFAuATqcTFosFO3fuxLBhwzBs2DClStG0Xbt2AQCcEedfC3Q+NpuNAVAlTpw4gcrKSkg6PUQLF4qrzdatW2Gz2SCawiCepwF0bQyA6nDo0CEAgGit/4OdG9d1a4diU8AGgwHt27eHy+VSqgTNq6qqwh9//AEAcIW3bvbP4UJx9Th48CAAyOGggf5wnAIOXp5+n9HtGz3iz9doddi/fz8AwBV2/qU+7O2qHYquAfz73/9e5wQQ8q/09HQ4nU6IxhBI5vBm/xwGQPVwB0BXA9O/AEcAg5Xdbvec+NOUHf8MgMHPZrN5lna4Qs8/vVtcXOyPkigAKLoG8P3330dGRgaSkpLQvn17hIbWPZtw+/btClWmDZ5msOEJzV7/B3CKSE08ATCk4VECnhYQnLZv3y5v+DJa4QpLaPTtGACD34EDB+ByuSAarPWeAVwbA6B2KBoAb775ZiXvXvNqjoNq2YJfBkB1EEWxZgr4PCOA3CUYnNynKzVl+hfgLmA1cDf+bsyHfQZA7VA0AL788stK3r2mSZJUa00IAyABOTk5ciNYQQ/RUn8LGIABMBi5XK5a078dmnRbLvEIfu7Nfq7whkd+zXoJNpfA4z01RNEA6JaWlob09HQIgoCLL74Yffv2Vbok1Tty5AhKS0vl3Z4hjdsNSOp24MABAIAYEg3ozl0eLECCBIEBMAjt27cPJSUlkPQmuMKatuGLx8EFN6fTWbPc5zyPfYRRRIFLzxFADVE0AObn5+Puu+/GmjVrEBUVBUmSUFJSgquvvhoLFizgcXA+tHPnTgCQ1wLp9MoWQwHBHQAbWv8XYpBQ7hR4+ksQ+u233wBU9/6rJ9yfDzf9BLcDBw6goqICkt4kf7hrQJhRQkEV28BoiaK7gJ988kmUlpZi3759OHXqFIqLi7F3716UlpbiqaeeUrI01fMEwAucBdoYXCSuDp4A2MCJMGFG+UgwBsDg42743pzjHrnpJ7jt2LEDQHWv1wZaOwFAmFFeysM2MNqh6Ajg8uXL8fPPPyM1NdVz2cUXX4yPPvoII0aMULAydbPZbEhLSwPQsgbQbgyAwc/lctVMAYfVP/IeahSBSj0DYJDJz8/H0aNHIQFwRiY1+fZ8vIObu5vGhT7sh9b6gCdJEoQWdIag4KDoCKAoijAajedcbjQaubHAh7Zt21bdDiIEYmjLp9kZAIPfsWPHUFVVBUlnaPAEkDCD/AbBKaLg4v6wJ4bGAQZLk2/Pxzt4VVVVeXYAOyPanPe6IdXPb1EU2exdIxQNgMOGDcPTTz+NnJwcz2UnTpzAhAkTcM011yhYmbr9+uuvAABnTEqL+v+5cZdg8PPsCA9t1eA0Ue0RAn5ACx7u5R7OiKaP/gFgo/4gtnfvXjgcDojGUEiWiPNe16yToBfk5zg3emmDogHwww8/RFlZGTp06IBOnTqhc+fOSElJQVlZGT744AMlS1OtsrIyz4JwRxPbQTSEnxaDX80uwYZbAoVXrxESRZHrwoLI7t27ATT/uMeioiJvlkN+5B79dUUkXvjDvgBYq0cB+fzWBkXXACYnJ2P79u1YtWoV/vjjD0iShIsvvhjDhw9XsixVW7JkCaqqquCyRkNsYf8/NwbA4NeYAKjXAVa9iEqXDsXFxQgPb/7xgeQf+fn5yM3NhQShSad/AECUScRpuw75+fk+qo58zbPWO/L8079uIQYJZxwMgFoREH0Ar732Wlx77bVKl6F6drsd3377rfx96x5emf4FOF0Q7AoKCnD8+PFGhYQIk4TKSnlasF27dn6qkJrLPbUvhsQA+nPXW59PK6sLp+065Obm+qI08rHS0lIcOnQIQPUIYCO41wFy4482KDoF/NRTT+H9998/5/IPP/wQ48eP939BKrd8+XIUFRVBNIbAGdPRaz+XLxbBzd0mQgyJBQym8143yixPA3NaMDjUnPbT9M1erSzyY11QUMDj4ILQjh07IEkSXNYoSMaQRt0m1CA/5nxN1wZFA+A333yDIUOGnHP54MGDsWjRIgUqUq/y8nLMmTMHAGBP7OnV5s88Oii4edpENGKUINpcEwoo8LXkvO9IkwiLXoQoijhx4oS3SyMf86z/C2/85h93r0/u/NYGRQNgUVERIiPPbTkRERGBwsJCBSpSr3nz5qG4uBiiJQKOVqkXvkEjGHXyiwVHg4KXJEm1mgRfeJ1QK4vc8ufkyZM+rYtazuFw4ODBgwCaNwIIAUgKlR/vo0ePerEy8gf3B7um9H50B0A2g9YGRQNg586dsXz58nMuX7ZsGTp29N4Updbl5OTg66+/BgBUJQ9o8lFQDYkyyaNBDOvBKyMjA6dOnYKkMzRqk0Arq/yYc0Qo8B0+fBgOhwOS3gzJfP4WIA1pUx0Ajxw54s3SyMfy8vJq1vU2Yfd3RPVrOmd1tEHRTSATJ07EE088gYKCAgwbNgwAsHr1arzzzjv497//rWRpqiFJEt577z04HA44I5LgasZRUA2JsYgoqNJzl2AQc4/+ucITG7UsoLVVDgTZ2dk+rYtazjP9G9aq2Ru+2oXJj3dGRobX6iLf27ZtGwDIjf7151/XW5u71RMDoDYoGgAffPBB2Gw2vPHGG3jttdcAACkpKfj4448xevRoJUtTjZ9//hlbt26FJOhR1X6Q13b+AkCC1YUDp40oLCxEVVUVLJamnzJAytq0aRMAwBnVtlHXd48InTx5EpWVlbBarT6rjVrG0/+vBe2e2oc5ATAABht3AGzq0X8RJnkKmAFQGxSdAq6srMT999+P48ePIy8vD7t378YTTzyBhISm9aui+pWUlODDDz8EANiT+kBq4Iiv5go1Sp5dY5wSDD4lJSWeXaLORo4Mh5skRFSPEhw7dsxntVHLSJLU4gbQANA+XA78eXl5DAVBQhTFWhu7Gtf/z40jgNqiaAC86aab8MUXXwCQz/8dPnw4pk2bhptvvhkzZ85UsjRVmDlzJkpKSuCyRsl9/3wgiWuEgta2bdsgiiJc1mhI5rBG365duDwq5N5gQIEnKysLxcXFkAS9fLxfM1kNEhKqp/35eAeHP/74AyUlJZD0piY/9uHcBKIpigbA7du3Y+jQoQCARYsWISEhAceOHcMXX3xRb39Aarzt27d7NthUdbjcq21fauMaoeDlWf8X2bjpX7cUBsCA53lsw+Jb/Nzn4x1ctmzZAqD67OcmbvgLqx4BPHPmDM/71gBFA2BFRYXnOKmVK1fi1ltvhU6nw2WXXcbppRaw2WyYNm0aAMAe381rR77Vp131GiF3x3kKDpIkYevWrQAaf0yUW4fqacH09HSv10Xe4Wnt08i1neeTEsEAGExq1vU2fcOf+yQQnvetDYq3gfnuu++QnZ2NFStWYMSIEQDk8ysjIprXtoCAr7/+GsePH4doDIGtTX+f3lfH6jeHP/74g58Yg8iRI0ea1P6lts6RDs/PqKio8EV51AIVFRXYuXMnAHhl13+H8JrnOAW2vLw8HDx4EBKaPrIPACY9YKru78ojPtVP0QD40ksv4dlnn0WHDh0wcOBADBo0CIA8Gti3b18lSwtaRUVFmDdvHgDAlnzpBY/2aqm2oS6YdBLKy8uRlZXl0/si7/EEhGZMEUabJcRZXBBF0bOJhALHpk2b4HA4IJrDIXph41eHcBcESMjPz8epU6e8UCH5ym+//QYAcIUlQDI2b4e+1cAAqBWKBsDbb78dWVlZ2LZtW52G0Ndccw3ee+89BSsLXrNnz0ZlZSVcoXFePe+3IXpdzSigu+8YBb5du3YBaP4O0S6R8mO+Z88er9VE3vHLL78AABwxHb3S9slqkJAYIk/7cxQwsK1btw4A4Izu0OyfEWKoWQdI6qZoAASA1q1bo2/fvtDVWqw6YMAAdOvWTcGqglNWVhaWLl0KALAlD/Rqz7/z6VI9JcgAGBwkSfIEt+YGwG5R8mPuHkmkwFBWVlaz/i/Wex8A3R/yuO4zcBUUFHha/zij2zf754RyBFAzFA+A5D0LFy6EJElwRiXDFe6/Xoqdq0eD9u7d67f7pOZzT+VJggBXaFyzfsbF0XIA3L9/P6qqqrxZHrXAypUr4XA44LJGQ7RGe+3nup/j/JAXuNasWSO//ofFN6mt09lCq1vBlJWVeas0ClAMgCpRVFSElStXAgDsrXv59b47V48OZGVl8UUjCLhHcURrDKBr3mFA8VYRsWYXHA6HZzqZlCVJEn744QcAgCPeuzMonWuNADqdTq/+bPKOn3/+GQDgjO3Uop8Txl6AmsEAqBKLFy+WP/mHxft19A+QT4eIs7BZbLBwB8CWNAgWBKBnrDwK6J5yJGXt2bMHR48ehaQzwBHTshBwtrZhLlj1IiorK5GZmenVn00td/ToURw4cACSILRo/R8ARJjkNYDc8KN+DIAqIIoiVqxYAQCwJ3RXpAb3GqEDBw4ocv/UeO6F/M2d/nXrGSMHwE2bNkGSpBbXRS2zaNEiANWbP7y8+18nAF2j5Oc4R3wDj/v13xmZ3Ozdv25R1QGwqKioxXVRYGMAVIFdu3ahoKAAkt7UrOaf3uA+NP7w4cOK3D81jsvl8oR0Maz5I4AA0CPGDoMgIScnhy2AFJaTk+NpAeJo7ZsPgdz4E5icTidWrVolfx/XucU/L8YsB8C8vLwW/ywKbAyAKuB+8juiOzR7TVdLuY+EYwAMbEePHkVVVRUknaHFPeKsBiC1ejOIO3yQMhYtWgRRFOGMbOPVzR+1uR/rnTt3ch1gANm2bRsKCwshGsxweqHxd3z12c85OTkt/lkU2BgAg5zL5fK8+Xqz7UNTJVcfD5aVlQWbzaZYHXR+nvYvYfGA0PKnf79WdgAMgEo6ffo0fvrpJwCAPaGHz+6nQ7gLIQb5iDAe/Rg43K2/nLGdvXLme0KIPAJYXFzM4+BUjgEwyP3xxx8oLS2FpDfBFda8nm7eEG0SEWYUIYoipwMDmLtPWFOPf2vIJXF2CJCQnp6O/Px8r/xMappFixbBZrPBFRIHV0SSz+5HJ9S0/9m2bZvP7oca7/Tp09iwYQMAwBHXxSs/M8QgIbp6HeCRI0e88jMpMDEABjnPwd+RbQCdcg+nIADJofIoYEZGhmJ1UMMkSWrxCSBnizJLnh5xHAX0vzNnzmDx4sUAAHtSL583f+9RvfFn69atPr0fapxVq1bB5XLBFRIHMSTGaz+3XTjXdGuBqgLgjBkzkJKSAovFgn79+mH9+vWNut2GDRtgMBjQp08f3xboA5s3bwYAr6z9aCn3iwYDYGDKyMhAUVERJJ1BngL2kv7V08CNfb6R93z33XcoLy+HyxIFZ1TzT39oLPfO771797Lnp8IkScKyZcsAAI5W3hn9c2sXxq4OWqCaALhw4UKMHz8ekydPxo4dOzB06FCMHDnygtORJSUlGD16NK655ho/Veo9RUVFyMjIgATAFdlG6XKQUh0AeV5oYHL363NFJHplrZCbex3grl27cPr0aa/9XDq/yspKfPXVVwAAe1Jvvxz92MoqIjHECVEUOQ2ssEOHDiEzMxOSoJdb/3hRZ571rQmqCYDTpk3DQw89hIcffhipqamYPn06kpOTMXPmzPPe7tFHH8W9996LQYMG+alS73FPw4ghsS3u/eQN7l6ABw8ehMPhULgaOlvNcoG2Xv258VYR7cLkUOC+D/K9H3/8EaWlpRDN4XDGpPjtfvtUNwB3rz0jZbhPfnJGtQMMZq/+bHcAzM7O5oc6FVNFALTb7UhLS8OIESPqXD5ixAhs3LixwdvNmTMHhw8fxssvv+zrEn1iy5YtAKrX/wWABKu8EcThcHDqIMAUFBR4zmr2xVThJXHyKCADoH/Y7XYsWLBA/j6xl1d2dDeWe8R306ZNsNvtfrtfquFyufDLL78AABxx3j31BQDCjRLahsohcPv27V7/+RQYVBEACwsL4XK5kJBQd2djQkICTp48We9tDh06hL/97W+YN28eDIbG9c6z2WwoLS2t86UUp9PpmdILhPV/gDwDlVrdLJYvGoHFvT7PFRYPyRTi9Z/ftzoA/v7772wD5AcrVqxAUVERRGMoHLEtb/7bFJ0jnYgyye1g+DxXxo4dO3Dq1ClIejNcEb4ZAHCv93QPNJD6qCIAuglnrYGRJOmcywD509O9996LV199FV27dm30z586dSoiIyM9X8nJygWv3bt3o7y8HKLB0uITHbzJ3SYiLS1N4UqotjVr1gCobhbuAx3CXYgxu1BVVcWTInzM6XRi/vz5AAB7Yg+vrudsDJ0AXBovh/yff/7Zr/dNsl9//RUA4Ijp4LPHv1dszYc6l8vlk/sgZakiAMbFxUGv158z2pefn3/OqCAAlJWVYdu2bXjiiSdgMBhgMBgwZcoU7Nq1CwaDwTO0frYXXngBJSUlnq/s7Gyf/H0aw73+xhWV7NfpnwvpwV2CAefkyZPYvXs3JMBna8UEAegTx7Vh/rB27Vrk5ORANFjgiLtIkRoGt65pAF5RUaFIDVpVp/m/D9d+XhTlRIhBRHFxMTeDqFTgJIcWMJlM6Nevn+dINLdVq1Zh8ODB51w/IiICe/bswc6dOz1f48aNw0UXXYSdO3di4MCB9d6P2WxGREREnS8liKKItWvXAqheABxAEkJEJIU44XK5uEswQKxevRoA4ApPhGQK9dn99K0eMdi4cSNEUfTZ/WiZJEn48ssvAQCOhIsBvTJHP3YMd6J1iDzi634tIv/YvXs3SkpK5OlfL/XzrI9BV7Pe0z2DQOqiigAIABMnTsSnn36K2bNnIz09HRMmTEBWVhbGjRsHQB69Gz16NABAp9OhR48edb7i4+NhsVjQo0cPhIb67k3SG/bs2YPCwkJIepPXd3R6g3sk6HwbcMg/JEmqOSjex0cFpkY7YNFLKCwsxMGDB316X1q1ZcsWHD58GJLOAHt8qmJ1CAIwtHUVAHk3MvmPe4TdGd3O57M/A+PlAPjrr7+ys4MKqSYA3nXXXZg+fTqmTJmCPn36YN26dVi6dCnat5d3PObm5qrmiDL3iI4zur3f1/80hntDwObNm3lovMIOHTqEo0ePyr3Con3bKsSkr1k3xKbQvuFe++dodZHXW3801dBEG/SChH379iEzM1PRWrRCkiTPB2tnlO/XoHePdiDaJKKkpIRLO1RINQEQAB577DEcPXoUNpsNaWlpuOKKKzx/9vnnn593GPuVV14JisXrVVVVngDo7eaf3tIl0olwo4iysjKuHVHYihUrAFSPFhhMPr+/ftXhf+3atZAkyef3pyX79u3Drl27IAk62Fv3ULocRJklz4e9JUuWKFyNNmRnZyMnJweSoIPTR7t/a9PrgMsT5ZHen376yef3R/6lqgCoBWvWrJF3/5rDfHrwe0voBKBPrfVgpAyHw1HzYcFPrUL6xtlh0kk4fvw4Dh065Jf71Ar36J8ztpNP13I2xTVt5HCwcuVKbgbxA/fRn67w1oDe6Jf7vDLJBgEStm7dqujGR/I+BsAg88MPPwCAvPvPD0c/NVfv6nWA7hcs8r/Nmzfj9OnTEI1Wvx0VaDEAfapHhdzhk1ru2LFjnp2f9tY9Fa6mxsXRTiSGuFBRUeEZbSbfqen96r+13/FWEb2rT3/59ttv/Xa/5HsMgEHkjz/+wL59+yAJgtcP//a2HjEO6AUJ2dnZOHHihNLlaJLnoPjYzn5tFXRZghwAV61axTWgXuI+9cMR1Q6iNUrZYmoRBGB4W3kU8Ntvv+Xubx+qrKzErl27AAAuP2/+G5EsP8bLli1jey8VYQAMIu43AWdMR0hG75/m4E0hBgldq8+TdH9qJf8pKiryjL464/z7YaFPrB3hRhGnTp3iKQJekJ+f79nJbU/spXA157q8dRWsehHZ2dl8vH1ox44dcDgcEE1hEC2Rfr3v7tEOJIc6UVVVxfWeKsIAGCSOHz+OdevWAQisKaDz6REjjwRt3bpV4Uq0Z9myZRBFEc6weL+PGBl0wOWt5ZMi3EsWqPm++uorOJ1OOMNbQwyLV7qcc1gNwFVJ8uPt/pBK3ldn+tfPy38EAfhTu0oAwKJFi3jco0owAAaJ+fPny2/okW0hhsQoXU6j9IytOReYh8b7jyiKnh17jlbKnBRxVfXmgC1btuD48eOK1KAGp0+f9vTZsyf2Vriahl3Xrgp6QcKuXbuwd+9epctRHUmSPKOrSvV+HZhgR4zZheLi4nMOXaDgxAAYBI4fP+5Zz2UL4DeBs7ULcyHSJKKqqgq7d+9WuhzNSEtLQ25uLiS9EU4f9/5rSGKIiN6xdkiShG+++UaRGtTg22+/RVVVFVwhsQG76x8AYsyiZ9R37ty5ClejPtnZ2fJzWtDBFZGoSA0GHXB99VrABQsW8HxgFWAADAKff/55zehf+LlnGwcqnQD0rm4Hs2nTJoWr0Y7vv/8eQPXmD4WOCgOA62otHD99+rRidQSrM2fOeHZd2hN7B/SufwC4sUMl9ILcLoQf+LzL/frpCk/0W/uX+lyVVIVQg4jjx497dqVT8GIADHCHDx/2tNOwtemncDVN524fsGnTJjYG9oP8/HxP70VHfDdFa+ke7UBKuLxw/KuvvlK0lmD0/fff48yZM3BZouRTfwJcvFXEFYnyKOCsWbP4fPcidwD0x+kf52Mx1PR+XLBgAR/jIMcAGOA+/vhjSJIER3QKxNBYpctpsp4xdhh1EnJycpCRkaF0Oar3448/Vm/+SIBojVa0FkEAbk6RmwMvXrwYJSUlitYTTKqqqvD1118DqN75G+Cjf243daiEUSdhz549HCHykrKyMs+IaiCc/X5tchWMOgnp6ek86SnIMQAGsC1btmDr1q2QBB1sbYNv9A+QPzG6z4ddu3atwtWom91ur2kUnpCqcDWyPrEOtA9zorKykjtEm+CHH36Qm3ibw+CMDcwjH+sTYxExsnq36McffwyHw6FwRcFv06ZNEEURLms0JEuE0uUg0iR51nu6T6eh4MQAGKBcLhc+/vhjAIAjPjUgnvjNdWkrOQD++uuvnDLwoXXr1qG4uBiiMQTOqA5KlwNAHri6taM8Cvjtt9+iqKhI4YoCn81mw8KFCwG41/4F18v0De0qEWkSceLECfaM84INGzYAAJxR7RSupMb17SohQMKmTZtw7NgxpcuhZgquVxYNWbZsGY4cOQJJb4ItqY/S5bTIJdXnw544cQJ//PGH0uWoUu3dto74boAucJ7afWId6BThgM1mw5dffql0OQFv+fLlKCwshGgM9dsZzt5kNQC3Vk/9z507lydHtIDNZqtp/xJAATAxRMQl1cd9cn1v8AqcdwnyqKiowGeffQYAsCX1BQxmhStqGYsB6Fc9Crhy5UqFq1Gnffv2IT09HZKgV6z3X0MEAbitozwtuGTJEhQUFChcUeByOp2ekGxP7Ano9ApX1DxXJNqQFOJEaWkpp/5b4Pfff0dVVRVEUyjE0Dily6nDPdW/cuVKjuwHKQbAALRgwQJ5Ks8cofhOTm8ZXL1mZPXq1WwK7QPuT+GO2E6QjFaFqzlX92gHLop0wOFwYN68eUqXE7BWrlyJvLw8iAYrHK26Kl1Os+l1wB2dajYAcRSwedzrpp3RHQJuI1CXSCc6R8jPafb6DE4MgAGmuLjY82Zua9s/aEcAztYzxoFoswulpaXcHehltXtyORK6K1xN/WqvBfzpp584ClgPp9OJ//3vfwAAe2IPQKdcD0dv6BvnQNtQJyoqKrB48WKlywk6NpvN0/7FEd1B2WLqIQjADe3lUUB3yyIKLgyAAebLL7+UO/+HxgVF76/G0gnw9AhzH21F3rFgwYJaxwQq2/rlfFKjnZ5RQE4LnuuXX35BTk4ORIMFjlbBP/KvE4AbawUEnhzRNL///jvKy8shGkMD8gxoQA75SSFOlJeXe5qWU/BgAAwgBQUF+O677wBUN30OsCH/lroy0QYBErZv386egF5SUFCA5cuXA6juFxfgbkqRA8EPP/zAdUO1uFwuz+ifI6G7oqc9eNOl8XaEGkQUFRUhLS1N6XKCyi+//AIAcMakBOx7gU4ARnWQn9Nff/01ysvLFa6ImoIBMIAsWLAADocDzrCEgD73s7nirCIujZfX/7mb3FLLzJ8/H06nU/6dCW+tdDkX1D1a3hFst9s5CljL2rVrkZWVBUlvgj1Aejh6g0EHDEqQn/OrVq1SuJrgUVFRUXOiT4D3gbwswY7EEBfKysq4IzjIMAAGiNLSUvz0008AAHtSn4D9xNdSf6reOfbzzz8jNzdX4WqCW15enqfxs71NX4WraRxBAG5JqZkW5CggIIpizdq/hO6A3qRwRd41MEFe+rFlyxZOAzfS2rVrYbPZIFoiIIYE9glQOqGm7c/ChQv5nA4iDIAB4ocffpDX/lmjVTn659YxwoUe0Xa4XC7MmTNH6XKC2v/+9z95xDi8tXxIfJDoGVMzCsgdwXKj38zMTEh6I+wJFytdjtd1jnAixCCitLQU6enpSpcTFFasWAEAcMR2CYrBgAHxdnSKcKCqqsrTwowCHwNgAHA6nZ4FtPbWPYPiCd8St1e3h1i1ahUyMzMVriY4ZWVl1YwYt7kkqH5nBAG4vXpH8Pfff4/jx48rXJFyJEnCf//7XwCAPT416Ht+1kevk0M/AGzevFnhagJfbm4udu7cCQlyW6dgIAjAvV3k5/SyZcuwb98+hSuixmAADAAbN25EUVERRINFXvCrch0jXBgQb4MkSfjwww95PFwzfPrpp9U7f5ODYu3f2brHONE7Vh4J/s9//qN0OYrZunUrDh48CElnCNgWPt7QJ05eB+hua0INc3+wc0UkQTKHKVxN43WJdOLy1lWQJAnvvPMOnE6n0iXRBTAABgB3WxRHXBfV9P27kLs6VcCok3cE//rrr0qXE1T27t2LdevWQYIAW3J/pctptrs6VUCAhPXr12Pr1q1Kl6MI9xS4o9VFAdnA21t6xTggQMLhw4e59vc8nE4nli1bBgBB2Qj8ns4VCDOKOHLkCDd5BQEGQIXl5eV53vwC7QgvX2plFT09wmbMmMH2AY0kSRI+/vhjAPIHBtEauH3/LqRtmAvXtq0CALz33nuw2WwKV+Rf+/btw65duyAJOthb91C6HJ8KN0m4OFqeBnYHHDrX5s2ba2aDooKvD2y4ScKfO8uv5Z9//jnbfQU4BkCFrVy5EpIkwRneGpIlQuly/OpP7SqRYHWhsLAQn3zyidLlBIXffvsNe/fuhaTTy2v/gtxtHSsQbXYhJyfHsxZOK+bPnw+g+vg+U6jC1fjelUlywF+6dCmnBxvw/fffAwCcQTwbNLi1HZfE2eF0OvHmm2/y6M8AxgCoIEmSsHLlSgDV078aY9IDD1wkHx/0/fffY/fu3QpXFNicTqcnKNsTekAyhShcUctZDcBfusqLx7/88kscOHBA4Yr84/jx49iwYQMAwNG6p8LV+Ee/VnaEG0UUFhayJ2A9jh8/jq1bt0ICYA/i2SBBAB7sdgYRRhGZmZn49NNPlS6JGsAAqKADBw4gOzsbkk4vH/atQRfHOHFlojwN+Pbbb6OyslLhigLXqlWrkJ2dDdFggT1RPaGhfys7BsbbIIoi3nrrLU2MGCxatEge+Y9MhmiNUrocvzDqas6OnTt3LhwOh8IVBZYlS5YAAFyRbYN+NijCJOGhVPnD/VdffYUtW7YoXBHVhwFQQe7RP2dUe9Uc/dQcd3euQLRJxPHjxz3r26gup9NZ0y6kdU/VNQv+S9dyhFcvHv/iiy+ULsenysrKao7va63enb/1uaZNFSJNIk6ePOkJPATYbDbP2kh7fPCfAw3I5wQPbysH/rfeeosNogMQA6BCnE6nZ/drsPR68pVQo4SxF9dMBbNVxLlWrVqFnJwciAYLHCp5g6gtwiRhzEXy4vEvv/wSf/zxh8IV+c6KFStqmr4HUQNvbzDrgVuqT42YM2cOTp8+rWxBAeLXX39FWVkZRFMYXJFtlS7Ha+7uVIHkUCeKi4vxxhtv8CSYAMMAqJC0tDQUFxdDNFjgimijdDmK6xHjwHXJNZ8WT548qXBFgUMURc+GAXn0T52jxZfG23FZralgNe4KliTJs9DfEd8tqBp4e8tVSTa0D3PizJkzmDVrltLlBATP70SriwBBPW/LJj3wWI8zMFW3/Pryyy+VLolqUc9vWpD55ZdfAEBu/KzjwwAAd3SsQIdwJ0pKSvD3v/+d6wGrbd26FVlZWZD0RlWO/tX2l4vKEWkScfToUc/5uGqyc+fO6nW/BjhiOytdjiJ0gjzlD8g7gtU82tsYmZmZSE9PhyQIQdn770LahLpwf/Xo/pw5c7Bjxw6FKyI3Jg8F2O12/PbbbwCgiZM/GsukB57qWYYIo4iMjAy8/fbbEEVR6bIUt2jRIgCAI66rakf/3MKNEkZ3rZkKVlsfMc8ZrzEdVf9Ynk/XKCeGtJZPA/r3v/+t6ee5e+2fM7KdapuBD020YUjrKoiiiClTpqCwsFDpkggMgIrYtm0bysvLIRpD4ApLULqcgBJnEfFkzzLoBQm//vorPvjgA00fFVenNUR8qtLl+MWl8XZc2soGl8uFt99+WzU94yorK7F27VoAgDNOm6N/td3VqRwWvYT09HTNNod2OBw1rcBaqbsV2JiLyj3rAV955RXVPK+DGQOgAjxvAtEdNLkG6EIuinLi4dQzECBh8eLFmu4j5d4t6opoE/StIZriL13LEWIQcfDgQc/6qGC3ceNGVFZWQjSH84MfgCiz5NkQMmvWLJSVlSlckf9t374dJSUl8lpwFW3+qI9ZDzzZswxWvYS9e/fi3//+t6Y/3AcCBkA/kyTJc/SbM7qdwtUEriGt7Z51I/PmzVN9a5D6uFwuTwBU49qg84kyS7izkxwOPvvsMxQUFChcUcutW7cOAOCISeEHv2rXtq1CYogTp0+fxueff650OX5XdzBA/W/HrUNEjOteBgESfvjhB3z99ddKl6Rp6v+NCzBHjhzBqVOnIOn0HAW4gGFtbLi7+lzJ2bNnY9asWZr6xJiWlobCwkJIejOcUdr7sHBVkg2dIhyoqKjARx99pHQ5LWKz2TzNcLXa9L0+Bh1wXxc56C9evFgzJ8EAciswLa4F7xvnwD2d5cd85syZWL9+vcIVaRcDoJ+lpaUBAFzhrYP2rEd/+lO7KtzTuWYk8IMPPtDMgnH3cVmO2BRN/q7oBOCBi8ohQMKaNWvw+++/K11Ss+3cuRNVVVUQjaEQQ2KVLieg9Ix14LIEuf3PO++8o5m1Yfv370dpaak8/RuurcGA65KrMKxNFSRJwpQpr2Lbtm1Kl6RJDIB+5v6E6wprrXAlwWNkuyqMqT4z+Ntvv1XVxoCGVFRUeD4Za7VdCAC0C3dhRLJ8VOC///3voO0N6G594Yxsw+nfevy5SzlCDSIOHTrkOfFG7dyhxxWRqInp39oEAfhLl3Jc2soGh8OJyZMnY+fOnUqXpTna+q0LAFlZWQCgmfM/vWVYGxseTS2DTpCwfPlyvPzyy0EbBhpj/fr18oiROQJiaCuly1HUrSmViDKJOHHiRNCGA/ebmyucH/zqE2mqaf/zxRdfaGJEyP13dGr0IAC9Dvhr9zPoHWuHzWbDCy+8gN27dytdlqYwAPqRKIqeAOiyRClbTBAakmjHkz3KYNRJ2LBhA5577jmUl5crXZZPePrFxXXW/IiR1SB5Ggd/+eWXOHTokMIVNU1FRQUOHjwIgAHwfAa1tuPqJHla8PXXX0dubq7SJfmMzWarmQ2K0NZxgLUZdMCTPcpwcbQdlZWVmDRpkmeTJPkeA6AflZaWoqpKns6SzOEKVxOc+rVyYFLvUlj0Enbt2oUJEyaguLhY6bK8Ki8vzzNlqPVzot3cvQFFUcQ///lP2O12pUtqtMzMTIiiCNEYAskcpnQ5Ae3PXcrRLkzeFTxp0iTVPbfdMjIy4HK5IBoskEza/p0w6YGJvcrQq3ok8MUXX+DGED9hAPQj97o1CQKPf2uBbtFOvHhJCcKNcp+4p556SlVnB69YsQKSJMEZ3pofFGr5S1d5nVhGRgb+85//KF1Oox0+fBgAIIbEKFxJ4DPpgWd6lyLO4sLx48fx/PPPo6KiQumyvM49+ieGttL8CD8gP+7je5Z51gS+/PLLngbZ5DtMIX7k2bjA8NdiHcJd+Hu/EsSaXcjOzsaTTz6JY8eOKV1Wi4miiJ9++glA9cHw5BFllvDIxfJmoG+++SZoRgncx9m5GAAbJdosYVKfUs8HvEmTJuHMmTNKl+VVnt+JUO4IdzPogMe6n8Hl1UfGvfnmm/j222+VLkvVmET8SEs97PwhMUTEP/qVIinEiYKCAjz55JNBf7D89u3bkZeXB0lvgjO6vdLlBJy+cQ6MTK4EALz11lQcPXpU2YIa4fjx4wAAket+Gy0xRMSzvUsRYhCxb98+TJo0SVUnhWRnZwMAREukwpUEFr0OeDi1HCPays/x999/X5OHAPgLA6AfRUdHAwAE0QU4g2cNUyCLsYiY3K8UHcOdKC0txYQJEzzr54LRjz/+CKB67Z/OoHA1gemOThXoGulAeXkFnn/+eRQVFSld0nmdOHECACBq6Cg/b0iJcOFvfUsRZhSRnp6OiRMn4vTp00qX5RUMgA3TCcCfu1R4jgmcPXs25syZo3BV6sQA6EcWiwUREfKbgM6urikNJYUbJTzftwQXRztQWVmJ556bhA0bNihdVpMVFxd7TgbQ2tFvTWHQAU/3LEOC1YW8vDy8+OKLqKysVLqsetlsNs8xdlzP2XQdwl14oa88HXzo0CFMmDAh4AP/hVRUVHiCLANg/QQBuCWl0nMS1Ny5cxkCfYAB0M8SEuSO74KNAdCbrAZgYq9S9KteRPzSSy9hzZo1SpfVJCtWrIDT6YQrNI6nRVxAuEnCM73l0aEDBw7gpZdeCsidwSdPnoQkSZB0RkgGi9LlBKXkMBcmX1KCaJOII0eOYPz48cjPz1e6rGbzfCDQmwC9UeFqAlvtk6Dmzp2LefPmKVyRujAA+lnHjh0BAPry4D/cPtCY9MAT3c9gcIINLpcLU6ZM8RynFugkSeLmjyZqHSJiYq8ymPUStm7dijfeeAMul0vpsupw704XzWHc7dkCSaEiXrykZtPXM888g1OnTildVrO4A6BoClG4kuAwslYInDVrFlavXq1wRerBAOhnPXr0AADozwTvJ9hAptcBj1x8BkMTa3aSBcMLxv79+5GdnQ1JZ4AjpqPS5QSNzpFOPN2zDAZBwtq1a/Huu+8G1GarmgDI6d+WSggRMfmSUk8InDRpEkpLS5Uuq8kKCwsBAJKRAbCxRrarwvW1Nn/xxBDvYAD0M08ALC8ARFHhatRJJwAPdSv3nCowdepUpKWlKV3WeS1fvhwA5J2/nBZqkh4xDjzW4wwESFi6dClmzZqldEke7g0gXP/nHXFWEc/3LUWkScThw4fxwgsvBOTU//mUlJQAACSDVeFKgsvdnSvQL87u6ROolg1BSmIA9LP27dsjMjISguiE/kye0uWolk4A7r+oHAPibXA6nfjHP/4RsEeIOZ1Oz3pFR1wXZYsJUv1b2fFgt5rj4r766iuFK5Ll5OQA4AigN7UOEfF8n1KEVreImT59ekCN+l6IJwAazQpXElx0AjCuexnahDpRXFyMf//730qXFPQYAP1Mp9Nh4MCBAABDSbbC1aibTgAeST2DblEOVFRUYPLkyQHZS2z79u0oKyuDaLDwrNgWuDLJhjs7ySFwxowZWLt2rcIVsQWMr7QNc+Gx7jWjvt99953SJTWae9qam4KazqyXX9N1goRff/0Vv/zyi9IlBTUGQAVcdtllAAD9aQZAXzPp5ZYh8VYX8vPz8eGHHypd0jncQcUZ3QEQ+JRsiRvaVXmayE6d+qbnGDYlOJ3OWk2g2e7D23rGOnBXZ7lX3IwZM3DkyBGFK2ocTwDUmxSuJDilRLgwqr38HP/444+DbglAIOG7jQIuvfRS6HQ66KtKIFQF3yLmYBNqlPBIqjxasGLFioA6QkwURWzcuBEAePKHFwgCcE/nCvSItqOqyobJkycrtlbo5MmTcDgckHR6SKYwRWpQu5HJVegda4fD4cBbb71Vc9xmAHMfaycZOAXcXP/XvhLRJhH5+fme5vnUdAyACggPD0evXr0AcBrYX7pGOXFD+yoAwIcffgiHw6FwRbJDhw6huLgYks7A6V8v0euAx3qcQbzVhZMnT+K9995TpA732dSiJZItYHxEEIAHupUjxCD3g/z666+VLumCaqaAGQCby6QHRnWQR3/nzZvHUcBmYgBUyODBgwEABk4D+83NHSoQaRKRl5eHlStXKl0OAGDLli0AAGdEEqDTK1yNeoQZJTzRowz66vYwv/76q99ryMzMBACIlmi/37eWxJhF3Fs9FTx37lxPm5VAVVxcDIC7gFvqyiQbok0iioqKAmpWJ5gwACpk0KBBAAB92UnAFfjTFmpg0gN/aievHZk3b15ATBdt3boVAOCKbKtwJerTIdyFG6vXCr333nt+nwr2BMAQBkBfuzzRhk4RDlRVVeE///mP0uU0SBTFmgBoZABsCYMOuDJJntXhNHDzqCoAzpgxAykpKbBYLOjXr995PxV8++23uPbaa9GqVStERERg0KBBWLFihd9qbdu2LeLi4iBIIk8F8aNhbaoQahCRk5ODnTt3KlpLRUUF9u/fDwBwRrZRtBa1GtWhEsmhTpSWlmLRokV+vW93AHRZGQB9TScAf+laDgESVq1ahQMHDihdUr2Ki4shiiIkcBewN1yRZIMACTt27PDsuKfGU00AXLhwIcaPH4/Jkydjx44dGDp0KEaOHImsrKx6r79u3Tpce+21WLp0KdLS0nD11VfjxhtvxI4dO/xSryAI6N27N4DqUUDyC7MeGJggrxdRuoXA7t274XK5IJrD2CjYRww64JaO8ijgt99+67c2QDabDdnZ8vIOMSTGL/epdR0jXBhU/dz+5JNPFK6mfu5d4ZIpDNCp5u1XMXEWEd2j5fXcSizzCHaq+Q2cNm0aHnroITz88MNITU3F9OnTkZycjJkzZ9Z7/enTp+O5557DpZdeii5duuDNN99Ely5d8MMPP/itZvdGEDaE9q/L4m0A5PYrSm4GcU//OiOSFKtBCy6Js6NtqBMVFRWe85Z97ciRIxBFEaLBwiO//Oi2jhUwCBLS0tKwfft2pcs5h3tAQrSyLZC3BMoH+mCkigBot9uRlpaGESNG1Ll8xIgRnhYbFyKKIsrKyhAT479P6127dgUA6CqL/XafJO8IDjeKKC8vR3p6uiI1SJLk+d10RSYrUoNW6ATgqiQ59PtrhD8jIwNA9egfdwD7TSur6Hms58+fr3A156rZGBSlbCEq0r+VHXpBQmZmJqeBm0gVAbCwsBAulwsJCQl1Lk9ISPAcxn4h7777LsrLy3HnnXc2eB2bzYbS0tI6Xy3Rvr3c903nqAScthb9LGo8nQCkVk8bKLUOMCsrC7m5uZAEPUcA/aBLpPx47927F6IfzuD2BEArp3/9bWS7SgiQsHXrVs/jECjcH0BcYfEKV6IeoUYJXSPlDX2///67wtUEF1UEQDfhrE/akiSdc1l95s+fj1deeQULFy5EfHzDT8ypU6ciMjLS85Wc3LKRm5CQELRq1QoAoKs83aKfRU2TGqVsAHSvV3FFtAb0RkVq0JJ2YS4IkFBeXu6XNiHuc6ddobE+vy+qq5VVxKXx8rRgoLR7AuSBiqNHj0IC4IxIVLocVekZKz/eDIBNo4oAGBcXB71ef85oX35+/jmjgmdbuHAhHnroIXz11VcYPnz4ea/7wgsvoKSkxPPlXuTdEu4QqbMF3hm1atY+3AWgZlG2P4miiGXLlgEAHLGd/X7/WlThFCBB/jAYFRXl0/tyuVyeI+i4AUQZ/eLkQJCWlqZwJTU2b94MABBD4gDuAPYq9wige4qdGkcVAdBkMqFfv35YtWpVnctXrVrlabhcn/nz52PMmDH48ssvccMNN1zwfsxmMyIiIup8tZQ7oOrsZ1r8s6jx4q1yACwoKPB7F/nt27cjLy8Pkt7E49/8JL9KbrIdGxsLk8m3Z7AeP34cVVVVkHQGngGskO4x8gj/4cOHFTsKsDZJkvDdd98BABwxKcoWo0Ktar2eB0J/12ChigAIABMnTsSnn36K2bNnIz09HRMmTEBWVhbGjRsHQB69Gz16tOf68+fPx+jRo/Huu+/isssuw8mTJ3Hy5EmUlJT4tW53ABRsDID+FG6UoBckSJKEU6dO+fW+3cdVOWI7AjqDX+9bq9ackI/d6tzZ9yOuBw8eBODeAKKal9igEmGSn98AAuKYsL179yIjIwOSoIejVVely1GdSJMEARJEUfT763kwU827z1133YWioiJMmTIFubm56NGjB5YuXerZaJGbm1unJ+B//vMfOJ1OPP7443j88cc9l99///34/PPP/VZ3mzZyA2Bd1Wm/3SfJU4IuyT9TgrWlp6djy5YtkCDAntDDb/erZSfK9ViXKwfA2h8CfcWz/i8kzuf3RfVzivA8vy0W5adb3TuSHbGdAJ4B7HWldnmJhyAIiIzkqHtjqSYAAsBjjz2Gxx57rN4/OzvUrVmzxvcFNYJ7REJfcQqQJLaM8JNimzwyExER4dc3iLlz5wIAnLGdIFlavoSAzq/KCXyaHgoJAoYOHYru3bv7/D7dp1BwA4hyDpfKb20mkwkhIcr2YdyyZQs2btwISRDgaM0Pfb6QWyEv8UhMTITZzIDdWJyfUFhycjLMZjME0QnB1rK2MtR42wrkdWBt2/rvDN5du3Zh8+bNkCDAltTbb/erVXYXMH1POA6XGhEWFoZHH33U5/fpcrlqpoBDOQKolBXZ8oe6ESNGwGBQbpzDbrfj/fffBwA44rtDtEYpVouabcmXQ1+nTp0UriS4MAAqzGAwoEuXLvL3JWxi6Q/lDgHLq98g7rjjDr/cpyiK+OijjwAAjlYXQeLmAJ+yu4CP9oVjf7EJVqsVb7/9tl/C/vHjx1FZWckNIArad8qAtOoPeLfffruitcydOxcnTpyAaLTC1qavorWoVUGlDmtz5ACo9OMdbBgAA8CwYcMAAMb8P+RpYPIZSQK+OhyCCqcOKSkpuPLKK/1yvytXrsTBgwch6Y2w843ApwoqdXh9eyR2FJpgMpnw5ptv4uKLL/bLfXMDiLJOlOvxwd5wSBBw/fXXo0OHDorVsnnzZsybNw8AYGt3Gft9+oAkAQsyQuCSBPTv3x+9e3NmpSn4ChUARowYAYvFAn3VaZ4L7EOSBCw8HIJfc+TRv0ceeQQ6PxzIbrfbMXv2bPn7xN6QjFaf36dW7So04qWtkThaZkBkZCTeeust9O3rv8Dt7v/n4gkgfpdXocO7u8JR4dShZ8+emDhxonK15OXhjTffBADY41PhZOsXn/jhmBVbC8zQ6XR4+OGHlS4n6DAABoCwsDBPE2rT8TRA8v1RVVojScCiTCuWZsnha8KECRg0aJBf7vvHH39Efn4+RGMI7An+GYnSGpsLmJ8Rgnd3R6DcqUNqaipmzZqFSy65xK91sAG0MvaeMuKVbZEorNKjbdu2eP31133e77EhVVVVeOmll1BWWgpXaBxsyQMUqUPttuabsChT3uAzfvx4dOvWTeGKgo+qdgEHs3vvvRe//PILKs7kwXRiB+xt+yldkmqU2gV8fiAU2wrkdSJPP/00brrpJr/cd1VVFf773/8CAOxJfdj3zwf2Fxsw+48w5FfKOwFvuukmPP7444oEAPfJMlzs7x+SBCzLtmBhRggkCEhNTcVrr72mWCsQURQxdepUHDhwAJLejMpOVwM6vSK1qNm2AhNm7gsDANx2220YNWqUwhUFJ74bBYikpCQ888wzeO2112DO3QVXeGu4ItsoXVbQSyswYvYfYShz6KDX6/Hkk0/i5ptv9tv9b9iwAcXFxRBNYXDEdfHb/WpBuUPAwsMhWFM9pR8XF4cJEyZgyJAhitQjSZLnnGHRFKpIDVqSV6HDnANh2F8sr60bOXIkxo8fr2gbkNmzZ2Pt2rWQBB0qu1wDyRyuWC1qtT7X7GntdMUVV+Cvf/2r0iUFLQbAAHLNNddg586d+OGHH2A9vAYVXa+FGBavdFlBqcQuYEFGCDaclMNBSkoKXnzxRc+Oa39xn//piEnhSICXiBKwNseMRZkhKHPIq1hGjRqFRx55BGFhYYrVVVJSAodDPoJMMirbe07NXCKw4rgF32aGwC4KMJvN+Otf/4qbbroJgoJ9VH/++Wf873//AwBUdRgCV3hrxWpRI/do74IM+cPVyJEj8cwzzyja5ifY8V8uwDzxxBPIyMhAeno6Qg4sQ1XHq3hebBOUOwQszbJgRbYVdlGATqfDXXfdhQceeMDvU4IulwtbtmyRv49K9ut9q9UfxQb871Aoss7IL13Jycl49tlnA2L3n81mAwBIgo47gH3kj2IDvswIxdEy+fG/5JJL8Mwzz3hOVFLKkSNH8K933gEA2Fr3hJOj/V5lcwGz/wjDpjx5dPfOO+/EX//6V0UDvxowAAYYs9mMd999F1OmTMHmzZthzfgFVe0GwsHNA+dV5QRWHrdiaZYFFU75zbdbt2544okn0KOHMt33i4qKUFpaCgmAK5QjuS2RX6nDV4dD8Ht1w9fQ0FCMGTMGt9xyS8CMALiPFBQkEXDZeeSXF50o1+OrwyHYUSh/iAsLC8Pjjz+O66+/XvEQUFFRgZdeegm2qio4IxK5ftvLCip1+PeecGSdMUCn0+Hxxx/HrbfeqvjjrgaB8cpJdYSEhOD111/H9OnT8eOPP8KStRm6qtOwtb2UvaTOUuYQsOaEGSuyrSitng5MSUnBQw89hCFDhij6IhEdHQ2dTgdRFCG4qiDpOC3YVGV2Ad8ftWL1CQtckjyi+3//93948MEH/XqGc2OYzWaEhISgoqICgqMKEgNgi52y6fDdESvW5pghQX78R40ahfvvvx/R0dFKlwcA+PDDD5GdnQ3RGIKqjldx9NeLfs83Yc4foSh36hAVFYVXXnkFffr0Ubos1WAADFAGgwHPPPMMEhIS8Nlnn8GU/wcMJSdQlTKUa0sAHD+jx6rjFmw4aYZdlENeUlISHnjgAQwbNgx6vfLr7YxGI1q1aoW8vDwIVWVcF9YEdpd8nNePx6yodMlvqP3798e4ceM852cHoqSkJGRkZMBQegIOK08Caa5TVTr8eMyKtblmOKqf30OHDsXYsWPRrl07haurkZeXh+XLlwMAqjpdxR6fXlLuEPDfg6HYWD3l261bN0yZMgXx8ZxJ8SYGwAAmCAL+8pe/oFu3bnj77bdRUFCAkD+Wwp7QHbY2/QC9th4+UQJ2FxmxMtuCvcU16/k6d+6M2267Dddee23ATAe6tWvXDnl5eTDl7UNVWDzAaYvzEiVg40m5v9cpmxziO3XqhHHjxuHSSy9VuLoLu+GGG/Dvf/8bprz9cMSn8vFuosLq4LcuxwynJP/b9ezZE2PHjkWvXr0Uru5cixcvhiiKcIYn8oO5l+wvNuCT/WE4ZdNDp9Phz3/+M0aPHg2jkbNf3hZY75ZUr0svvRRz5szBjBkzsHTpUpjy9sFwOlveaRaRqHR5PldqF7A+14xfcyyeXm86nQ6XX345brvtNvTq1Stg14M89NBD2L59O1B8FK6CA3DEs1lpQ/YXGzD/UCiOVW/wSEhIwEMPPYThw4f75cQWb7juuuvw2Wef4cyZUhiKj/IEiEbKr9Thp2NWrMs1w1Ud/Hr37o37778fffv2Dcjnt91ux48//ih/37q7wtUEvzK7gPkZIfitunNDUlISJk+ejO7d+W/rKwyAQSIsLAzPPfccrrzySvzrX/9CYWEhQg4sgyO6PWzJA1TXb0qSgPTTBvx6woJtBSbPm0JoaChuuOEG3HLLLUhMDPzw261bN4wdOxYff/wxzFlb4AqJYWufs+SU67AgIxQ7i+RR3dDQUNx333249dZbFe3p1hwhISG46aabMG/ePFiO/IYKUxjEsFZKlxWwTpTr8cNRKzbnmyBWP8f79u2L+++/P+DXelVUVODMmTMAAFd44L8WBSpRknv7LcgIQbmzpq3TuHHjEBLCZTO+xAAYZAYOHIg5c+bgs88+w5IlS2AsPgbD6eOwt+4Be2KvoN8kUuYQ8Fv1aN/Jipp1fN26dcONN96IYcOGwWoNrnU2d955J7Zv347ff/8dIek/wZ7UB/bE3kCQjGr5is0FfHckBMuz5Q0eer3es8A/0DZ4NMXo0aORnp6O7du3I+TgClR0GwkxJFbpsgLKsTI9lhy1YluBCRLk4DdgwADcd999ATnVW5+oqChERUXh9OnT0FWVQAyNU7qkoHOsTI//HQzFgRL5fatTp06YOHEiR/38hAEwCIWHh2P8+PEYNWoUPvzwQ2zfvh3m3F0wFh6CrW1/OGM7Bd3ao2Nl8qaOTXk1i76tViuGDx+OUaNG+b2BszfpdDq89NJLePfdd/Hrr7/CnLNDnsLveIVmjwxLKzDifwdDUVS9zm/w4MEYN25cQC3wby6z2YzXX38dzz33HPbu3QvrgRWo7HwNxPAEpUtTXPYZPRYfsXqOZQTkzR333XcfLrroIgUra56UlBTs2LED+jP5DIBNUGoX8E1mCNZU7+62WCx44IEHcNtttwXcOm414790EOvYsSPeffdd/Pbbb5gxYwZyc3NhPbIOrrx9sCUPCPj1gS4RSCs0YVW2xfMJEJA3dYwaNQrDhw9XzRRAWFgYXn75ZVx++eV47733cOZMIUL2fS+PBiakAnplDq73t1M2HeYeCPX0c0tISMDTTz+NwYMHK1yZd4WEhGDq1Kl45plncPDgQYT+8RPs8amwte0f9KP0zXGiXA5+7j6OgiBg2LBhuO+++5CSErzrJPv06YMdO3bAnL0VoiUCrsi2SpcU0JwisOq4Bd8dqdndP2zYMDz66KNISOAHJH9jAAxygiBg6NChGDBgABYtWoR58+ahoqIIIQeWwRmVDFvbSwNulKnSKeDn42asPmHx7PTU6XS48sorceutt6JHjx4BuejbG6655hr06tULb7/9NrZu3QrziTSYTu6BPb4bHAndVd1GYnuBEbPSw1DulM9lvvvuu/GXv/wFFotF6dJ8Ijw8HO+++y5mzJiBZcuWwZSfDsPpLFS1H6yZk2FO2wR8nRmC33LNnqneq6++Gvfffz86dOigbHFecO+99yIjIwPr16+H9dBqVHa5hiGwHpIE7CwyYn5GqGdpT9euXfHEE08EzZS/GgmSJElKFxGsSktLERkZiZKSEkRERChdDgCguLgYc+fOxZIlSyCKIiQIcLS6CPY2fb0WLkL2LYG+ohAj21Xins4Vjb6d3QWsPmHBD8esOFPdtDkqKgo33ngjRo0ahVattLNYXpIkrFq1CvPmzcOxY8fkywQ9HHFdYG/dA5IlMH6fgOY/3m52F7AgIxQ/n5CDXteuXfHiiy+qIgA01rZt2/Duu+8iNzcXgHw2tC3pEkgB2CuwpY83II/0rMi24PujIahyycHviiuuwP33349OnTp5s1zFOZ1OvPrqq1i/fj0kQQdb8qVwtOoWNGd/e+PxPp/jZ/T4MiMEe0/Jo/7R0dEYO3Ysrr/+ekV39wfi+7e/MQC2QCD/Ah07dgyffPIJNmzYAACQdEbYkvrIR8q18IWpqS8YTlHe5fXdUSuKq0f8kpOTcd999+Hqq6/2+xm9gUQURWzcuBHz5s1Deno6AECCAGd0BzjiL5J3Fyo8GtqSN4jCSh3e2x2O7HJ5suHOO+/E2LFjNdnTq7KyEnPmzMGiRYuqP5wBzugOsCf2hhgaOJtEWhoIdhcZ8d+DocirbtnUrVs3PPnkk6pe2O90OjFlyhSsW7cOACCaw2Br0w/OmI6KP38vxFcB8IxDwLeZIfglxwxREmA0GnH77bfjvvvuQ2hoqNfup7kC+f3bXxgAWyAYfoF27dqFGTNm4MCBAwAA0RyBqnYD4IpMbvYLU1NeMPadMuDzA2GeN4P4+HiMGTMGI0aM4GLfWiRJwq5duzB//nxs2bLFc7loDoMjriscsZ0hmcMUqa25bxDHyvR4d1cETtt1iI6OxgsvvIABAwb4sNLgcPDgQcydO9fz4QwAnJFtYU/sFRDNhFsywl97pDc6OhqPPPIIrrvuuqDp49gSLpcLP/74I+bOnYtTp07Jl4XEwNa2P1wRbQI2CHo7AEoS8NtJua1LWfVMz9ChQzFu3Di0adOmxT/fW4Lh/dvXGABbIFh+gURRxMqVK/HJJ594XpicEW1gazewWesDG/OC4RKB745aseSoFRIEREVF4b777sOoUaM0PeLXGBkZGViyZAlWr16N8vJyAIAEwBXRBo64LnBGtwN0/gvPzXmD2FNkxAd7w1HlEpCSkoJ//vOfPMbpLJmZmfjyyy/xyy+/QBRFAIAzLAGO1t3hjGqn2JmyzXm8s8r0mLk/DCeqR3pvvfVWPPTQQwEx0uNvlZWV+OabbzB//nzP89cZ3hqO+IvlxzXAwrA3A+DxM3rMPVDT1qVDhw546qmncMkll3ijVK8KlvdvX2IAbIFg+wWqqKjAf//7XyxatAgOhwMSBLl/YJu+TQoUF3rBOGXTYea+MBw4Lb8I3HjjjfjrX/+qmh29/lJVVYV169Zh2bJl2LFjh+dySW+CI7YTHLGd5dYTPh5ZaOobxK4iI6bvDodLEtC3b1+89tprCAtTZvQyGJw4cQILFizA8uXL4XA4AACiMQSOVhfB0eoiSCb/Pm+a+nhvOGnCZ+lhcEoCYmJi8Le//Y0jvQBKSkowb948LF68uOZxNVjhaNUFjriuAbPO11trPhcfsWJplhUuSW7rMmbMGNx+++0BO9MTbO/fvsAA2ALB+gt0/PhxzJw50zMF5bJEoSplaKNPLDjfC8bxM3pM3RGBMocOVqsVzz77LK655hqv/x20JicnB8uWLcPy5ctRUFDgudxliYIzTg6Dksk3oy1NeYM4VGLAP3dEwC4KuOqqq/Diiy9yxLeRCgoKsHjxYixduhSnT58GAEiCAGdUezjiU+XpYT9MIzbl8V6aZcGCDPn3btCgQXj++eeDuom3L+Tl5WHJkiVYunQpiouLPZc7I5LgaHVR9aigchtGWhoAj5/R4+P9YciqPsJx6NCheOKJJwK+rUuwvn97EwNgCwT7L9D69esxbdo0FBcXN2k0sKEXjBK7gFe3RaKwSo9OnTrh1VdfRdu2bIngTS6XC2lpaVixYgXWr18Pu90OwD1FnARHbGc4o9t7tddcY98gTpTr8XpaBMqdOgwYMABvvPGGJjd7tJTdbse6devw/fffY8+ePZ7LXZZIOFp1gyOuM2Dw3RF5jXm8JQlYkBGCZdlyZ4E77rgDf/3rXzWx1q+5nE4nNm7ciB9++AHbtm2D+61XNFjgjOsCR2wniCExfq+ruQFQlICV2RZ8nRkChyggMjISzz77LIYOHerDar0n2N+/vSEwx2bJL4YOHYpevXrhgw8+wM8//wzzyT3yCRWdrmryC5HdBby3OxyFVXq0bdsW06ZNQ2Rk4LW4CHZ6vR4DBgzAgAEDcObMGaxduxYrVqzA7t27YSjNgaE0B9IxA5wxKbC36uaXKWIAqHIC/94TjnKnDt27d8err77K8NdMJpMJw4cPx/Dhw5GZmYnvv/8eK1euRGVlCfTZW2A+sQ2OmI5wxKcqdvrE90etnvA3btw43H333YrUEUwMBgOuuOIKXHHFFcjNzcVPP/2EpUuX4tSpUzCd3APTyT1wWWPgiOsEZ0wnv0/9N0WlE5i5L9xzfvdll12GSZMmITY2cHaz04VxBLAF1PQJos5ooM6Iyk5XNdistr5PjF8cDMHPx62IiAjHjBkzOfLnZzk5OVi5ciVWrlyJnJwcz+WukFjY41PldhT65n3eu9AIgSQB/9kfho15ZrRq1QqzZs3iNKCXVVRUYNWqVfj++++RmZnpudwVEgtHfCocLXh8z3ahx3t9rhmz0uU1nRMmTMBNN93klfvVIqfTiU2bNmHlypXYtGkTnE4nALkVlCsi0Scj+mdr6ghg7dZOJpMJjz/+OEaNGhV0zfvV9P7dXAyALaC2X6DTp0/j1VdfxY4dOyBBgC15gNw38Kwn9tkvGPmVOjy/OQouScDbb7/NBeAKkiQJe/bswU8//YRffvnFs/hc0pvkJtPx3SBZmjYye6E3iA0nTfjP/nDodDpMnz6dnf19SJIk7N27F99//z3Wrl171uPbGfaE7pDM4S26j/M93gdPGzB1RwRckoB7770XjzzySIvui2qUlpZizZo1WLlyJfbu3eu5XNIZ4IxuD0dcV5+sA21KAMwoMWD67nCUOnSIiYnBG2+8gdTUVK/W4y9qe/9uDk4Bk0dUVBTefvttvPfee1i6dCks2VugqyqBrf1l521JsfiIvPPr0ksvZfhTmCAI6NWrF3r16oW//vWvWL58Ob7//nvk5ubClLcPprx9cEYkwZ7Uxys958odAr48JG8CGDNmDMOfjwmCgJ49e6Jnz5544oknsHz5cixZsgQ5OTkw5e2HMS9dnv5P7AkxxLvTcZVOeaTXJQm4+uqr8fDDD3v152tdREQERo0ahVGjRiEnJwerVq3CypUrceLECRiLDsNYdBiiOVzuCxrXxe9TxBklBvxzZwRsLgGdO3fGm2++ydZOQY4BkOowGo2YNGkS2rdvj48//himgj8AQSeHwHoU2wRsPCkvSH/ooYf8WSpdQFRUFO6++27ceeed2Lp1K7777jts3rzZs1bQGZUMW5v+EEOim30f3xyxosyhQ/v27XHvvfd6sXq6kNqP77Zt2/D1119j69atMJ7KhPFUJpwRbWBP7Om102S+PBSKgio9EhIS8Mwzz3DDhw8lJSXh/vvvx+jRo7F//34sX74cq1evRkVFmXx++IntcEW2haNVVzgjk33eW/BYmR7v7AqHzSXgkksuweuvv862XirAAEjnEAQBd911F1q1aoUpU6bAlL8fojUSjvhzh/p/z5cPee/Rowe6deumQLV0ITqdDgMHDsTAgQORm5uL+fPn48cff4ThdDb0p4/DGdcZtqS+TT5p5ES5HquPy6c+PPXUUwHb70vtdDqdZ2PQoUOHsGDBAvz6668wlJ6AofQEXCFxsLXp06LTfw6cNmBtrgWCIODFF19kX0c/EQQB3bt3R/fu3fHYY49h7dq1+Omnn7Bnzx4YSrJhKMmWewvGdYEj4WKfjArmVejw9s4IVDh16NGjB9544w1Yrd45V56UxY9w1KBhw4Zh7NixAADzsc3Ql5w45zq/58u7wK6++mq/1kbNk5iYiIkTJ2Lu3Lm48sorIUCCsfAQQvd8A9PxbUD1iRSN8X31KS9DhgxBv379fFg1NVaXLl3wj3/8A/PmzcMtt9wCs9kMfUUhQg79DOuhVRCqSpv8M0UJmJ8hB4s//elP6N27t7fLpkawWq24/vrr8cEHH2Du3Lm4++67ER0dDZ2zEuaTuxG6+2uYj22EYDvjtfu0u4AP9oajzKFD165d8dZbbzH8qQgDIJ3Xvffei+uuuw4CJFgP/wo4qzx/dsYu4FD1kT9XXnmlUiVSMyQnJ+PVV1/FjBkz0Lt3bwiSC+bc3bAeXFHnMW5ITrkOW/Lk8D9mzBgfV0tNlZiYiKeffhoLFy7EPffcA4PBAEPJcYTu/Ram42mAy9non7WtwITMUiMsFgsefPBBH1ZNjdW+fXuMGzcOX3/9NaZMmYIePXpAkFww5f+B0D1fw3JkPYSqkhbfz5cZocg6Y0BUVBTefPNNjvyqDAMgnZcgCHjmmWfQqVMnCC47zLm7PX/mPuqtQ4cOiItTph8ZtczFF1+M6dOn45VXXoHVaoWhLBeh+5dAV3HqvLdbllUz+telSxc/VUtNFRUVhUcffRRz5szBpZdeCkESYc7dhdC930J/OvuCt5ck+bQPALjzzjvZ5y3AuHsLfvDBB3jvvfdwySWXQJBqRvUth39t1qgvAKQVGPHLCXnaf/LkyXyNVyEGQLogk8nkafdgzEsHRLn1RH6VfHxRnz59lCqNvEAQ5GPbPvroIyQlJUFnO4OQ9B8bDAildgEb8+SNP/fcc48/S6VmSk5Oxttvv43XXnsNCQkJ0NnPIOTQKhhz98gprwEZpQZklhphNBpxyy23+LFiagpBkM/dnjZtGj766CMMHjwYAgDjqSMI3fcdjPl/nPdxPpvNBfz3oLy7/+6778all17qo8pJSQyA1CgDBgzwTBXqz5paYOsPdejYsSNmzpwpjyKITlgz19a7nujXExY4RAHdunVD9+7dFaiUmkMQBAwdOhRz587FzTffDACwHN8Kc9ZmQKp/7eeaE3LQHz58OKKjm79bnPyne/fuePPNN/Hpp5+iT58+EEQnLMc2wnpwJQR7eaN+xpKjVpyyyTu+77//fh9XTEphAKRGEQShwbVewdoIlM4VGRmJt99+G6mpqRBcdliOrId80rBMlIBfc+RQcOuttwZd938CLBYLnn76aTz++OMQBAGm/HRYM1afsy7QKcrr/wBg5MiRSpRKLdC5c2dMmzYNTzzxBEwmEwylJxC6dzEMRZnnvd2pKh2WZckbPZ588klYLBZ/lEsKYACkRuvVq9c55/uGh4ejdeuWNxSmwGEwGDB58mRYLBYYynKhqyjy/NmuIiNO2fSIiIjgxp8gJggC7rjjDrzyyityODidLY8E1rLnlAmVLh1atWqFHj16KFQptYROp8Ptt9+OWbNmoVu3bhBcdlgz18BQmNHgbX7MssApCejduzeGDBnix2rJ3xgAqdH0ej0uu6xuQ+hOnTpxFEiF2rZti8cffxwAUPvRXZsjjwZcf/31MJvNClRG3nTllVfizTfflEcCCw9CfzrL82cnK+Q1vpdffjmbPge59u3b48MPP8Stt94KALAcXQ99yfFzrldsEzzP8TFjxvC1XeX4rKYmOfuotw4dOihTCPncyJEj66z7KncI2FVk9PwZqUP//v1xxx13AAAsR34DxLpTwezxqA4GgwFPPPEEhg8fDkGSYM34BbozBXWu417f26NHD27u0wAGQGqSlJSUOv/PAKheBoOhzjTvtgITXJKATp06nfN7QMHtoYceQkpKCnTOKuirTnsuFwSBQUBFdDodnn/+ebklkOiUe7tWr/EVJWBdrjyqf8stt3D0TwMYAKlJ2rRpU+f/27Ztq1Al5A8jRozwfF/hlF8uhg0bplQ55CNmsxmPPvroOZe3b9+ezX9Vxmg04tVXX5VPEbGfga7yNABg76ma9b2XX365skWSXzAAUpOcve6LG0DU7eKLL8YVV1xR5zK+OahT//79ERMTU+eyiy66SKFqyJdCQkJw1113AQAEyQUAOFEun+U9bNgwru/VCAZAarKBAwd6vk9ISFCwEvKHxMREz/fx8fFo166dgtWQrxgMBgwfPrzOZR07dlSoGvK1UaNGISIi4pzL+QFPOxgAqUWMRqPSJZAf9evXj2uDVOyuu+5CcnKy5/9rf0/qEhISgkmTJqFVq1aey0JDQ9G7d28FqyJ/YgCkJisuLla6BFJIt27dlC6BfCg2NhaDBg3y/D/X+Krb0KFD66zp7d69Oz/UawgDIDVZaWnzDhen4NelSxelSyAfq6io8HwfHx+vYCXkbzzVSVsYAKnJar9BkPrVfry5/k/9CgpqesPxGDBt4aYfbWEApCarrKxUugTyo9qBgC1B1K+kpETpEsiPJKnmrG+u+dQWBkBqMofDoXQJ5Ee1AyCpH5d4aMupU6c837Otl7YwABLReZWVlSldAvlReXm50iWQH9UOgNwAoi0MgNRkQ4YMAQC2C9CIM2fOKF0C+ZHNZlO6BPIjTvlrl0HpAij4PPHEE4iPj8dtt92mdCnkB1zzqS1VVVVKl0B+xACoXQyA1GSJiYl4+umnlS6D/KT2InEiUhd+wNMuTgET0Xm1b98eABAdHa1wJeQPPOlFWzjlr10MgER0Xs888ww6duyIf/zjH0qXQn7w+OOPAwDGjh2rcCXkD06nU+kSSCGCxPmdZistLUVkZCRKSkrqPVSbiCjYSJKErKwsJCcnQ6fjGIHaXXXVVZ7v16xZo1gd/sb3b5WNAM6YMQMpKSmwWCzo168f1q9ff97rr127Fv369YPFYkHHjh3x8ccf+6lSIqLAJAgC2rdvz/CnEW3atAEAREZGKlwJ+ZtqnuELFy7E+PHjMXnyZOzYsQNDhw7FyJEjkZWVVe/1jxw5gj/96U8YOnQoduzYgRdffBFPPfUUvvnmGz9XTkREpIxnn30WycnJXOKhQaqZAh44cCAuueQSzJw503NZamoqbr75ZkydOvWc6z///PNYsmQJ0tPTPZeNGzcOu3btwqZNmxp1nxxCJiIiCj58/1bJCKDdbkdaWhpGjBhR5/IRI0Zg48aN9d5m06ZN51z/uuuuw7Zt23jUGREREamaKvoAFhYWwuVyISEhoc7lCQkJOHnyZL23OXnyZL3XdzqdKCwsRGJi4jm3sdlsdbbM88xMIiIiCkaqGAF0O7t/lSRJ5+1pVd/167vcberUqYiMjPR8JScnt7BiIiIiIv9TRQCMi4uDXq8/Z7QvPz//nFE+t9atW9d7fYPBgNjY2Hpv88ILL6CkpMTzlZ2d7Z2/ABEREZEfqSIAmkwm9OvXD6tWrapz+apVqzB48OB6bzNo0KBzrr9y5Ur0798fRqOx3tuYzWZERETU+SIiIiIKNqoIgAAwceJEfPrpp5g9ezbS09MxYcIEZGVlYdy4cQDk0bvRo0d7rj9u3DgcO3YMEydORHp6OmbPno3PPvsMzz77rFJ/BSIiIiK/UMUmEAC46667UFRUhClTpiA3Nxc9evTA0qVLPeeY5ubm1ukJmJKSgqVLl2LChAn46KOPkJSUhPfffx+33XabUn8FIiIiIr9QTR9AJbCPEBERUfDh+7eKpoCJiIiIqHEYAImIiIg0hgGQiIiISGMYAImIiIg0hgGQiIiISGNU0wZGCe4N1DwTmIiIKHi437e13AiFAbAFysrKAIBnAhMREQWhsrIyREZGKl2GItgHsAVEUUROTg7Cw8MhCILS5fhNaWkpkpOTkZ2drdn+SVrCx1tb+Hhri1Yfb0mSUFZWhqSkJOh02lwNxxHAFtDpdGjbtq3SZSiG5yFrCx9vbeHjrS1afLy1OvLnps3YS0RERKRhDIBEREREGsMASE1mNpvx8ssvw2w2K10K+QEfb23h460tfLy1i5tAiIiIiDSGI4BEREREGsMASERERKQxDIBEREREGsMASERERKQxDIDUaOvWrcONN96IpKQkCIKA7777TumSyIdeeeUVCIJQ56t169ZKl0U+dOLECdx3332IjY1FSEgI+vTpg7S0NKXLIh9wOp34+9//jpSUFFitVnTs2BFTpkyBKIpKl0Z+wpNAqNHKy8vRu3dvPPDAA7jtttuULof8oHv37vj55589/6/X6xWshnypuLgYQ4YMwdVXX41ly5YhPj4ehw8fRlRUlNKlkQ/885//xMcff4y5c+eie/fu2LZtGx544AFERkbi6aefVro88gMGQGq0kSNHYuTIkUqXQX5kMBg46qcR//znP5GcnIw5c+Z4LuvQoYNyBZFPbdq0CTfddBNuuOEGAPJjPX/+fGzbtk3hyshfOAVMRA06dOgQkpKSkJKSgrvvvhuZmZlKl0Q+smTJEvTv3x933HEH4uPj0bdvX8yaNUvpsshHLr/8cqxevRoHDx4EAOzatQu//fYb/vSnPylcGfkLAyAR1WvgwIH44osvsGLFCsyaNQsnT57E4MGDUVRUpHRp5AOZmZmYOXMmunTpghUrVmDcuHF46qmn8MUXXyhdGvnA888/j3vuuQfdunWD0WhE3759MX78eNxzzz1Kl0Z+wilgIqpX7en+nj17YtCgQejUqRPmzp2LiRMnKlgZ+YIoiujfvz/efPNNAEDfvn2xb98+zJw5E6NHj1a4OvK2hQsX4n//+x++/PJLdO/eHTt37sT48eORlJSE+++/X+nyyA8YAImoUUJDQ9GzZ08cOnRI6VLIBxITE3HxxRfXuSw1NRXffPONQhWRL02aNAl/+9vfcPfddwOQP+QdO3YMU6dOZQDUCE4BE1Gj2Gw2pKenIzExUelSyAeGDBmCAwcO1Lns4MGDaN++vUIVkS9VVFRAp6sbAfR6PdvAaAhHAKnRzpw5g4yMDM//HzlyBDt37kRMTAzatWunYGXkC88++yxuvPFGtGvXDvn5+Xj99ddRWlrK0QGVmjBhAgYPHow333wTd955J37//Xd88skn+OSTT5QujXzgxhtvxBtvvIF27dqhe/fu2LFjB6ZNm4YHH3xQ6dLITwRJkiSli6DgsGbNGlx99dXnXH7//ffj888/939B5FN333031q1bh8LCQrRq1QqXXXYZXnvttXOmCUk9fvzxR7zwwgs4dOgQUlJSMHHiRIwdO1bpssgHysrK8I9//AOLFy9Gfn4+kpKScM899+Cll16CyWRSujzyAwZAIiIiIo3hGkAiIiIijWEAJCIiItIYBkAiIiIijWEAJCIiItIYBkAiIiIijWEAJCIiItIYBkAiIiIijWEAJCLyojVr1kAQBJw+fVrpUoiIGsQASERERKQxDIBEREREGsMASESqIkkS3n77bXTs2BFWqxW9e/fGokWLANRMz/7000/o3bs3LBYLBg4ciD179tT5Gd988w26d+8Os9mMDh064N13363z5zabDc899xySk5NhNpvRpUsXfPbZZ3Wuk5aWhv79+yMkJASDBw/GgQMHfPsXJyJqAgZAIlKVv//975gzZw5mzpyJffv2YcKECbjvvvuwdu1az3UmTZqEd955B1u3bkV8fDxGjRoFh8MBQA5ud955J+6++27s2bMHr7zyCv7xj3/g888/99x+9OjRWLBgAd5//32kp6fj448/RlhYWJ06Jk+ejHfffRfbtm2DwWDAgw8+6Je/PxFRYwiSJElKF0FE5A3l5eWIi4vDL7/8gkGDBnkuf/jhh1FRUYFHHnkEV199NRYsWIC77roLAHDq1Cm0bdsWn3/+Oe688078+c9/RkFBAVauXOm5/XPPPYeffvoJ+/btw8GDB3HRRRdh1apVGD58+Dk1rFmzBldffTV+/vlnXHPNNQCApUuX4oYbbkBlZSUsFouP/xWIiC6MI4BEpBr79+9HVVUVrr32WoSFhXm+vvjiCxw+fNhzvdrhMCYmBhdddBHS09MBAOnp6RgyZEidnztkyBAcOnQILpcLO3fuhF6vx5VXXnneWnr16uX5PjExEQCQn5/f4r8jEZE3GJQugIjIW0RRBAD89NNPaNOmTZ0/M5vNdULg2QRBACCvIXR/71Z7osRqtTaqFqPReM7PdtdHRKQ0jgASkWpcfPHFMJvNyMrKQufOnet8JScne663efNmz/fFxcU4ePAgunXr5vkZv/32W52fu3HjRnTt2hV6vR49e/aEKIp11hQSEQUbjgASkWqEh4fj2WefxYQJEyCKIi6//HKUlpZi48aNCAsLQ/v27QEAU6ZMQWxsLBISEjB58mTExcXh5ptvBgA888wzuPTSS/Haa6/hrrvuwqZNm/Dhhx9ixowZAIAOHTrg/vvvx4MPPoj3338fvXv3xrFjx5Cfn48777xTqb86EVGTMAASkaq89tpriI+Px9SpU5GZmYmoqChccsklePHFFz1TsG+99RaefvppHDp0CL1798aSJUtgMpkAAJdccgm++uorvPTSS3jttdeQmJiIKVOmYMyYMZ77mDlzJl588UU89thjKCoqQrt27fDiiy8q8dclImoW7gImIs1w79AtLi5GVFSU0uUQESmGawCJiIiINIYBkIiIiEhjOAVMREREpDEcASQiIiLSGAZAIiIiIo1hACQiIiLSGAZAIiIiIo1hACQiIiLSGAZAIiIiIo1hACQiIiLSGAZAIiIiIo1hACQiIiLSmP8H6PaGm/7B1E8AAAAASUVORK5CYII=' width=640.0/>\n",
       "            </div>\n",
       "        "
      ],
      "text/plain": [
       "Canvas(toolbar=Toolbar(toolitems=[('Home', 'Reset original view', 'home', 'home'), ('Back', 'Back to previous …"
      ]
     },
     "metadata": {},
     "output_type": "display_data"
    }
   ],
   "source": [
    "%matplotlib widget\n",
    "import seaborn as sns\n",
    "\n",
    "sns.violinplot(\n",
    "    data=score_df,\n",
    "    x=\"epoch\",\n",
    "    y=\"score\",\n",
    "    hue=\"grp\",\n",
    "    split=True,\n",
    "    inner=None,\n",
    "    scale=\"width\",\n",
    ")\n"
   ]
  },
  {
   "cell_type": "markdown",
   "metadata": {},
   "source": [
    "### Decoding re-maze with maze template"
   ]
  },
  {
   "cell_type": "code",
   "execution_count": 72,
   "metadata": {},
   "outputs": [],
   "source": [
    "import matplotlib.pyplot as plt\n",
    "import pandas as pd\n",
    "import numpy as np\n",
    "import subjects\n",
    "from neuropy import plotting\n",
    "from neuropy.utils import signal_process\n",
    "from neuropy.analyses import Pf1D\n",
    "from neuropy.analyses import Decode1d\n",
    "\n",
    "sessions = (\n",
    "    subjects.nsd.ratSday2\n",
    "    + subjects.nsd.ratVday1\n",
    "    + subjects.nsd.ratUday2\n",
    "    + subjects.sd.ratSday3\n",
    "    + subjects.sd.ratVday2\n",
    "    + subjects.sd.ratUday4\n",
    ")\n"
   ]
  },
  {
   "cell_type": "code",
   "execution_count": 73,
   "metadata": {},
   "outputs": [
    {
     "name": "stderr",
     "output_type": "stream",
     "text": [
      "100%|██████████| 6/6 [01:56<00:00, 19.42s/it]"
     ]
    },
    {
     "name": "stdout",
     "output_type": "stream",
     "text": [
      "replay_re_maze_score saved\n",
      "replay_re_maze_position_distribution saved\n"
     ]
    },
    {
     "name": "stderr",
     "output_type": "stream",
     "text": [
      "\n"
     ]
    }
   ],
   "source": [
    "from tqdm import tqdm\n",
    "\n",
    "score_df = []\n",
    "dist_replay_df=[]\n",
    "for sub, sess in enumerate(tqdm(sessions)):\n",
    "    re_maze = sess.paradigm[\"re-maze\"].flatten()\n",
    "    neurons = sess.neurons.get_neuron_type(neuron_type=\"pyr\")\n",
    "    pos = sess.maze\n",
    "    # run = sess.run\n",
    "    pf = Pf1D(\n",
    "        neurons=neurons,\n",
    "        position=pos,\n",
    "        speed_thresh=5,\n",
    "        sigma=4,\n",
    "        grid_bin=2,\n",
    "        # epochs=run,\n",
    "        frate_thresh=1,\n",
    "    )\n",
    "    pf_neurons = neurons.get_by_id(pf.neuron_ids)\n",
    "    epochs = sess.pbe.time_slice(re_maze[0], re_maze[1])\n",
    "    decode = Decode1d(\n",
    "        neurons=pf_neurons,\n",
    "        ratemap=pf,\n",
    "        epochs=epochs,\n",
    "        bin_size=0.02,\n",
    "        decode_margin=15,\n",
    "        nlines=5000,\n",
    "    )\n",
    "    jump_distance = [np.abs(np.diff(_)).mean() for _ in decode.decoded_position]\n",
    "\n",
    "    norm_pos=min_max_scaler(decode.ratemap.xbin_centers)\n",
    "    decoded_position_mean =np.nanmean(np.hstack(decode.posterior),axis=1)\n",
    "    pos_bins = np.linspace(0,1,50)\n",
    "    mean_pos = np.interp(pos_bins,norm_pos,decoded_position_mean) \n",
    "\n",
    "    df_dist = pd.DataFrame(\n",
    "        dict(\n",
    "            bins = pos_bins,\n",
    "            mean_pos = mean_pos,\n",
    "            name=sess.animal.name,\n",
    "            grp=sess.tag,\n",
    "        )\n",
    "    )\n",
    "\n",
    "    df = pd.DataFrame(\n",
    "        dict(\n",
    "            score=decode.score,\n",
    "            velocity=decode.velocity,\n",
    "            jump_distance=jump_distance,\n",
    "            epoch=\"re-maze\",\n",
    "            name=sess.animal.name,\n",
    "            grp=sess.tag,\n",
    "        )\n",
    "    )\n",
    "    score_df.append(df)\n",
    "    dist_replay_df.append(df_dist)\n",
    "\n",
    "score_df = pd.concat(score_df, ignore_index=True)\n",
    "dist_replay_df=  pd.concat(dist_replay_df, ignore_index=True)\n",
    "subjects.GroupData().save(score_df,'replay_re_maze_score')\n",
    "subjects.GroupData().save(dist_replay_df,'replay_re_maze_position_distribution')"
   ]
  },
  {
   "cell_type": "code",
   "execution_count": null,
   "metadata": {},
   "outputs": [],
   "source": [
    "%matplotlib widget\n",
    "import seaborn as sns\n",
    "\n",
    "sns.violinplot(\n",
    "    data=score_df,\n",
    "    x=\"epoch\",\n",
    "    y=\"score\",\n",
    "    hue=\"grp\",\n",
    "    split=True,\n",
    "    inner=None,\n",
    "    scale=\"width\",\n",
    ")\n"
   ]
  },
  {
   "cell_type": "markdown",
   "metadata": {},
   "source": [
    "### Decoding theta sequences"
   ]
  },
  {
   "cell_type": "code",
   "execution_count": null,
   "metadata": {},
   "outputs": [],
   "source": [
    "import matplotlib.pyplot as plt\n",
    "import numpy as np\n",
    "import subjects\n",
    "from neuropy import plotting\n",
    "from neuropy.utils import signal_process\n",
    "from neuropy.analyses import Pf1D\n",
    "from neuropy.analyses import Decode1d\n",
    "\n",
    "sessions = subjects.nsd.ratUday2"
   ]
  },
  {
   "cell_type": "code",
   "execution_count": null,
   "metadata": {},
   "outputs": [],
   "source": [
    "for sub, sess in enumerate(sessions):\n",
    "    maze = sess.paradigm[\"maze\"]\n",
    "    post = sess.paradigm[\"post\"]\n",
    "    neurons = sess.neurons.get_neuron_type(neuron_type=\"pyr\")\n",
    "    pos = sess.lin_maze\n",
    "    # pos.t_start = pos.t_start +0.5\n",
    "    run = sess.run\n",
    "    pf = Pf1D(\n",
    "        neurons=neurons,\n",
    "        position=pos,\n",
    "        speed_thresh=4,\n",
    "        sigma=4,\n",
    "        grid_bin=2,\n",
    "        # epochs=run,\n",
    "        frate_thresh=1,\n",
    "    )\n",
    "    pf_neurons = neurons.get_by_id(pf.ratemap.neuron_ids)\n",
    "    epochs = sess.pbe.time_slice(maze[0], maze[1])\n",
    "    decode = Decode1d(\n",
    "        neurons=pf_neurons, ratemap=pf.ratemap, epochs=epochs, bin_size=0.02,slideby=0.01\n",
    "    )\n"
   ]
  },
  {
   "cell_type": "code",
   "execution_count": null,
   "metadata": {},
   "outputs": [],
   "source": [
    "from hfuncs import plot_in_bokeh\n",
    "import bokeh.plotting as bplot\n",
    "\n",
    "# bplot.output_file(subjects.figpath_sd/'test_wake_decoding.html')\n",
    "bplot.output_notebook()\n",
    "p = plot_in_bokeh(x=epochs.starts/3600 - sess.paradigm['maze'][0]/3600,y=decode.score,img_arr=decode.spkcount,color_by=decode.score,palette='jet_r',size=10)\n",
    "# p.line(pos.time,pos.x/350 + 0.2,line_width=2,color='black')\n",
    "bplot.show(p)"
   ]
  },
  {
   "cell_type": "markdown",
   "metadata": {},
   "source": [
    "### scratch code for pooled randon transform"
   ]
  },
  {
   "cell_type": "code",
   "execution_count": null,
   "metadata": {},
   "outputs": [],
   "source": [
    "nbins = [_.shape[1] for _ in decode.posterior[:60]]\n",
    "post = np.hstack(decode.posterior[:60])\n",
    "arr = post\n",
    "nlines=10000\n",
    "dt=1\n",
    "dx=1\n",
    "neighbours=1\n",
    "t = np.concatenate([np.arange(0,_) for _ in nbins])\n",
    "max_t = max(nbins)\n",
    "nt = len(t)\n",
    "tmid = (nt + 1) / 2 - 1\n",
    "\n",
    "pos = np.arange(arr.shape[0])\n",
    "npos = len(pos)\n",
    "pmid = (npos + 1) / 2 - 1\n",
    "\n",
    "# using convolution to sum neighbours\n",
    "arr = np.apply_along_axis(\n",
    "    np.convolve, axis=0, arr=arr, v=np.ones(2 * neighbours + 1), mode=\"same\"\n",
    ")\n",
    "\n",
    "# exclude stationary events by choosing phi little below 90 degree\n",
    "# NOTE: angle of line is given by (90-phi), refer Kloosterman 2012\n",
    "phi = np.random.uniform(low=-np.pi / 2, high=np.pi / 2, size=nlines)\n",
    "diag_len = np.sqrt((max_t - 1) ** 2 + (npos - 1) ** 2)\n",
    "rho = np.random.uniform(low=-diag_len / 2, high=diag_len / 2, size=nlines)\n",
    "\n",
    "rho_mat = np.tile(rho, (nt, 1)).T\n",
    "phi_mat = np.tile(phi, (nt, 1)).T\n",
    "t_mat = np.tile(t, (nlines, 1))\n",
    "posterior = np.zeros((nlines, nt))\n",
    "\n",
    "y_line = ((rho_mat - (t_mat - tmid) * np.cos(phi_mat)) / np.sin(phi_mat)) + pmid\n",
    "y_line = np.rint(y_line).astype(\"int\")\n",
    "\n",
    "# if line falls outside of array in a given bin, replace that with median posterior value of that bin across all positions\n",
    "t_out = np.where((y_line < 0) | (y_line > npos - 1))\n",
    "t_in = np.where((y_line >= 0) & (y_line <= npos - 1))\n",
    "posterior[t_out] = np.median(arr[:, t_out[1]], axis=0)\n",
    "posterior[t_in] = arr[y_line[t_in], t_in[1]]\n",
    "\n",
    "# old_settings = np.seterr(all=\"ignore\")\n",
    "posterior_mean = np.nanmean(posterior, axis=1)\n",
    "\n",
    "best_line = np.argmax(posterior_mean)\n",
    "score = posterior_mean[best_line]\n",
    "best_phi, best_rho = phi[best_line], rho[best_line]\n",
    "time_mid, pos_mid = nt * dt / 2, npos * dx / 2\n",
    "\n",
    "velocity = dx / (dt * np.tan(best_phi))\n",
    "intercept = (\n",
    "    (dx * time_mid) / (dt * np.tan(best_phi))\n",
    "    + (best_rho / np.sin(best_phi)) * dx\n",
    "    + pos_mid\n",
    ")\n",
    "# np.seterr(**old_settings)\n",
    "\n",
    "# return score, -velocity, intercept\n",
    "\n"
   ]
  }
 ],
 "metadata": {
  "interpreter": {
   "hash": "cce1618081139d19eb1ee8d40815d94a2de4f62e1efb20d9406ddb60628c36ae"
  },
  "kernelspec": {
   "display_name": "Python 3.9.7 64-bit ('data_analysis': conda)",
   "language": "python",
   "name": "python3"
  },
  "language_info": {
   "codemirror_mode": {
    "name": "ipython",
    "version": 3
   },
   "file_extension": ".py",
   "mimetype": "text/x-python",
   "name": "python",
   "nbconvert_exporter": "python",
   "pygments_lexer": "ipython3",
   "version": "3.9.9"
  },
  "orig_nbformat": 4
 },
 "nbformat": 4,
 "nbformat_minor": 2
}
