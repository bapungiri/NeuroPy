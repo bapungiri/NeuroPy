{
 "cells": [
  {
   "cell_type": "markdown",
   "metadata": {},
   "source": [
    "### Plotting activation of ensembles in an example session"
   ]
  },
  {
   "cell_type": "code",
   "execution_count": null,
   "metadata": {},
   "outputs": [],
   "source": [
    "import matplotlib.pyplot as plt\n",
    "import numpy as np\n",
    "from neuropy.analyses import NeuronEnsembles\n",
    "import subjects\n",
    "\n",
    "sess = subjects.sd.ratUday4[0]"
   ]
  },
  {
   "cell_type": "code",
   "execution_count": null,
   "metadata": {},
   "outputs": [],
   "source": [
    "neurons = sess.neurons.get_neuron_type('pyr')\n",
    "pre = sess.paradigm['pre']\n",
    "maze = sess.paradigm['maze']\n",
    "re_maze= sess.paradigm['re-maze']\n",
    "post = sess.paradigm['post']\n",
    "\n",
    "maze_ensembles =  NeuronEnsembles(neurons,maze[0],maze[1],bin_size=0.25)\n",
    "maze_ensembles.calculate_activation(pre[0],pre[1])\n",
    "mean_pre_activation = np.mean(maze_ensembles.activation,axis=1,keepdims=True)\n",
    "maze_ensembles.calculate_activation(post[0],re_maze[1])"
   ]
  },
  {
   "cell_type": "code",
   "execution_count": null,
   "metadata": {},
   "outputs": [],
   "source": [
    "%matplotlib widget\n",
    "\n",
    "maze_ensembles.plot_activation()\n",
    "# plt.plot(np.mean(maze_ensembles.activation-mean_pre_activation,axis=0))"
   ]
  },
  {
   "cell_type": "code",
   "execution_count": null,
   "metadata": {},
   "outputs": [],
   "source": [
    "%matplotlib widget\n",
    "from scipy import stats\n",
    "a = maze_ensembles.weights \n",
    "a_zsc = stats.zscore(a,axis=0) \n",
    "a_sig_logical = np.where(a_zsc>1.5,1,0)\n",
    "b = np.sort(a_sig_logical,axis=0)\n",
    "# maze_ensembles.plot_ensembles()\n",
    "c = np.lexsort(a_sig_logical.T)\n",
    "a_new = a[c,:]\n",
    "plt.pcolormesh(a_new)"
   ]
  },
  {
   "cell_type": "code",
   "execution_count": null,
   "metadata": {},
   "outputs": [],
   "source": [
    "np.lexsort(a_sig_logical.T)"
   ]
  },
  {
   "cell_type": "markdown",
   "metadata": {},
   "source": [
    "### Comparing MAZE ensembles and last 2 hours of SD\n",
    "- Found no difference between SD and NSD. Probably it makes sense because ICA ensembles will across different periods involves the same set of neurons and because it forces each ensemble to be independent of each other, naturally the correlations will have similar distributions. Nothing interesting here. "
   ]
  },
  {
   "cell_type": "code",
   "execution_count": null,
   "metadata": {},
   "outputs": [],
   "source": [
    "import matplotlib.pyplot as plt\n",
    "import numpy as np\n",
    "from neuropy.analyses import NeuronEnsembles\n",
    "import subjects\n",
    "\n",
    "sd_sessions = subjects.sd.ratNday1+subjects.sd.ratSday3 + subjects.sd.ratUday4\n",
    "nsd_sessions = subjects.nsd.ratNday2+subjects.nsd.ratSday2 + subjects.nsd.ratUday2"
   ]
  },
  {
   "cell_type": "code",
   "execution_count": null,
   "metadata": {},
   "outputs": [],
   "source": [
    "sd_ensembles_corr = []\n",
    "for sess in sd_sessions:\n",
    "    neurons = sess.neurons.get_neuron_type('pyr')\n",
    "    pre = sess.paradigm['pre']\n",
    "    maze = sess.paradigm['maze']\n",
    "    re_maze= sess.paradigm['re-maze']\n",
    "    post = sess.paradigm['post']\n",
    "    # sd= sess.paradigm['sd']\n",
    "    sd = [post[0],post[0]+5*3600]\n",
    "\n",
    "\n",
    "    maze_ensembles =  NeuronEnsembles(neurons,maze[0],maze[1],bin_size=0.25)\n",
    "    sd_ensembles =  NeuronEnsembles(neurons,sd[0]+3*3600,sd[1],bin_size=0.25)\n",
    "\n",
    "    maze_weights =np.zeros((neurons.n_neurons,maze_ensembles.n_ensembles)) \n",
    "    sd_weights =np.zeros((neurons.n_neurons,sd_ensembles.n_ensembles)) \n",
    "\n",
    "    maze_indx= np.isin(neurons.neuron_ids,maze_ensembles.neurons.neuron_ids)\n",
    "    sd_indx= np.isin(neurons.neuron_ids,sd_ensembles.neurons.neuron_ids)\n",
    "\n",
    "    maze_weights[maze_indx] = maze_ensembles.weights\n",
    "    sd_weights[sd_indx] = sd_ensembles.weights\n",
    "\n",
    "    combined_weights = np.hstack((maze_weights,sd_weights))\n",
    "    l = combined_weights.shape[1]//2\n",
    "    # corr = np.corrcoef(combined_weights.T)[l:,:l]\n",
    "    corr = np.corrcoef(combined_weights.T)[maze_ensembles.n_ensembles:,:maze_ensembles.n_ensembles]\n",
    "\n",
    "\n",
    "    sd_ensembles_corr.append(corr.reshape(-1))\n",
    "\n",
    "nsd_ensembles_corr = []\n",
    "for sess in nsd_sessions:\n",
    "    neurons = sess.neurons.get_neuron_type('pyr')\n",
    "    pre = sess.paradigm['pre']\n",
    "    maze = sess.paradigm['maze']\n",
    "    re_maze= sess.paradigm['re-maze']\n",
    "    post = sess.paradigm['post']\n",
    "    # sd= sess.paradigm['sd']\n",
    "    sd = [post[0],post[0]+5*3600]\n",
    "\n",
    "\n",
    "    maze_ensembles =  NeuronEnsembles(neurons,maze[0],maze[1],bin_size=0.25)\n",
    "    sd_ensembles =  NeuronEnsembles(neurons,sd[0]+3*3600,sd[1],bin_size=0.25)\n",
    "\n",
    "    maze_weights =np.zeros((neurons.n_neurons,maze_ensembles.n_ensembles)) \n",
    "    sd_weights =np.zeros((neurons.n_neurons,sd_ensembles.n_ensembles)) \n",
    "\n",
    "    maze_indx= np.isin(neurons.neuron_ids,maze_ensembles.neurons.neuron_ids)\n",
    "    sd_indx= np.isin(neurons.neuron_ids,sd_ensembles.neurons.neuron_ids)\n",
    "\n",
    "    maze_weights[maze_indx] = maze_ensembles.weights\n",
    "    sd_weights[sd_indx] = sd_ensembles.weights\n",
    "\n",
    "    combined_weights = np.hstack((maze_weights,sd_weights))\n",
    "    l = combined_weights.shape[1]//2\n",
    "    corr = np.corrcoef(combined_weights.T)[maze_ensembles.n_ensembles:,:maze_ensembles.n_ensembles]\n",
    "    \n",
    "    nsd_ensembles_corr.append(corr.reshape(-1))\n",
    "\n",
    "sd_ensembles_corr = np.concatenate(sd_ensembles_corr)\n",
    "nsd_ensembles_corr = np.concatenate(nsd_ensembles_corr)\n"
   ]
  },
  {
   "cell_type": "code",
   "execution_count": null,
   "metadata": {},
   "outputs": [],
   "source": [
    "%matplotlib inline\n",
    "from neuropy.plotting import Fig\n",
    "from neuropy.utils import mathutil\n",
    "\n",
    "_,axes = plt.subplots(1,1)\n",
    "# axes = axes.reshape(-1)\n",
    "# for i,corr in enumerate():\n",
    "#     np.fill_diagonal(corr,0)\n",
    "#     axes[i].pcolormesh(corr,vmax=0.3,vmin=-0.3,cmap='jet')\n",
    "colors = ['r','k']\n",
    "bins = np.arange(-0.3,0.3,0.001)\n",
    "for i,corr_vals in enumerate([sd_ensembles_corr,nsd_ensembles_corr]):\n",
    "\n",
    "    cdf = mathutil.cdf(corr_vals,bins)\n",
    "    axes.plot(bins[:-1],cdf,color = colors[i])\n",
    "    Fig.remove_spines(axes)\n",
    "    Fig.set_spines_width(axes) \n",
    "\n",
    "axes.set_xlabel('Correlation')\n",
    "axes.set_ylabel('CDF')\n",
    "axes.legend(['SD','NSD'])\n",
    "axes.set_title('Correlation of ensembles: MAZE vs ZT(3 to 5)')"
   ]
  },
  {
   "cell_type": "markdown",
   "metadata": {},
   "source": [
    "### Neurons participating in MAZE-enembles, how does their firing rate change during SD"
   ]
  },
  {
   "cell_type": "code",
   "execution_count": null,
   "metadata": {},
   "outputs": [],
   "source": [
    "import matplotlib.pyplot as plt\n",
    "import numpy as np\n",
    "from neuropy import plotting\n",
    "import pandas as pd\n",
    "from scipy import stats\n",
    "from neuropy.analyses import NeuronEnsembles\n",
    "import subjects\n",
    "\n",
    "sessions = (\n",
    "    subjects.sd.ratNday1\n",
    "    + subjects.sd.ratSday3\n",
    "    + subjects.sd.ratUday4\n",
    "\n",
    "    + subjects.nsd.ratNday2\n",
    "    + subjects.nsd.ratSday2\n",
    "    + subjects.nsd.ratUday2\n",
    ")"
   ]
  },
  {
   "cell_type": "code",
   "execution_count": null,
   "metadata": {},
   "outputs": [],
   "source": [
    "for sub,sess in enumerate(sessions):\n",
    "    maze = sess.paradigm['maze'].flatten()\n",
    "    post = sess.paradigm['post'].flatten()\n",
    "    neurons = sess.neurons.get_neuron_type('pyr')\n",
    "    ensembles = NeuronEnsembles(neurons,maze[0],maze[1],bin_size=0.25,frate_thresh=0)\n",
    "    zsc_weights = stats.zscore(ensembles.weights,axis=0)\n",
    "    zsc_thresh= np.where(zsc_weights>2)\n",
    "    "
   ]
  },
  {
   "cell_type": "markdown",
   "metadata": {},
   "source": [
    "### Maze ensembles activity on remaze"
   ]
  },
  {
   "cell_type": "code",
   "execution_count": 1,
   "metadata": {},
   "outputs": [],
   "source": [
    "import pandas as pd\n",
    "import numpy as np\n",
    "from tqdm import tqdm\n",
    "import subjects\n",
    "\n",
    "sessions = subjects.nsd.re_maze + subjects.sd.re_maze"
   ]
  },
  {
   "cell_type": "code",
   "execution_count": 10,
   "metadata": {},
   "outputs": [
    {
     "name": "stderr",
     "output_type": "stream",
     "text": [
      "  0%|          | 0/6 [00:00<?, ?it/s]"
     ]
    },
    {
     "name": "stdout",
     "output_type": "stream",
     "text": [
      "Based on frate_thresh, excluded neuron_ids: [17]\n"
     ]
    },
    {
     "name": "stderr",
     "output_type": "stream",
     "text": [
      " 17%|█▋        | 1/6 [00:09<00:46,  9.31s/it]"
     ]
    },
    {
     "name": "stdout",
     "output_type": "stream",
     "text": [
      "Based on frate_thresh, excluded neuron_ids: [ 80 114 142 282]\n"
     ]
    },
    {
     "name": "stderr",
     "output_type": "stream",
     "text": [
      " 33%|███▎      | 2/6 [00:21<00:42, 10.74s/it]"
     ]
    },
    {
     "name": "stdout",
     "output_type": "stream",
     "text": [
      "Based on frate_thresh, excluded neuron_ids: [34 35 38 47]\n"
     ]
    },
    {
     "name": "stderr",
     "output_type": "stream",
     "text": [
      " 50%|█████     | 3/6 [00:22<00:19,  6.49s/it]"
     ]
    },
    {
     "name": "stdout",
     "output_type": "stream",
     "text": [
      "Based on frate_thresh, excluded neuron_ids: [84]\n"
     ]
    },
    {
     "name": "stderr",
     "output_type": "stream",
     "text": [
      " 67%|██████▋   | 4/6 [00:24<00:09,  4.79s/it]"
     ]
    },
    {
     "name": "stdout",
     "output_type": "stream",
     "text": [
      "Based on frate_thresh, excluded neuron_ids: [ 50  56  57 224]\n"
     ]
    },
    {
     "name": "stderr",
     "output_type": "stream",
     "text": [
      "100%|██████████| 6/6 [00:33<00:00,  5.65s/it]"
     ]
    },
    {
     "name": "stdout",
     "output_type": "stream",
     "text": [
      "remaze_activation saved\n"
     ]
    },
    {
     "name": "stderr",
     "output_type": "stream",
     "text": [
      "\n"
     ]
    }
   ],
   "source": [
    "from neuropy.analyses import NeuronEnsembles\n",
    "import pingouin as pg\n",
    "from neuropy.utils.neurons_util import calculate_neurons_ccg\n",
    "\n",
    "reactivation_df = []\n",
    "for sub, sess in enumerate(tqdm(sessions)):\n",
    "    pre = sess.paradigm[\"pre\"].flatten()\n",
    "    maze = sess.paradigm[\"maze\"].flatten()\n",
    "    remaze = sess.paradigm[\"re-maze\"].flatten()\n",
    "\n",
    "    neurons = sess.neurons.get_neuron_type(\"pyr\")\n",
    "    wave_similarity = neurons.get_waveform_similarity()\n",
    "    pairs_bool = wave_similarity < 0.8  # only pairs which are least similar\n",
    "\n",
    "    maze_ensembles = NeuronEnsembles(neurons,t_start=maze[0],t_stop=maze[1])\n",
    "    maze_ensembles.calculate_activation(*remaze)\n",
    "    \n",
    "    remaze_activation = np.mean(maze_ensembles.activation)\n",
    "\n",
    "    reactivation_df.append(\n",
    "        pd.DataFrame(\n",
    "            dict(t='remaze',activation=[remaze_activation], grp=sess.tag)\n",
    "        )\n",
    "    )\n",
    "\n",
    "\n",
    "reactivation_df = pd.concat(reactivation_df, ignore_index=True)\n",
    "subjects.GroupData().save(reactivation_df, \"remaze_activation\")"
   ]
  },
  {
   "cell_type": "code",
   "execution_count": 16,
   "metadata": {},
   "outputs": [
    {
     "data": {
      "text/plain": [
       "<AxesSubplot:xlabel='t', ylabel='activation'>"
      ]
     },
     "execution_count": 16,
     "metadata": {},
     "output_type": "execute_result"
    },
    {
     "data": {
      "application/vnd.jupyter.widget-view+json": {
       "model_id": "82e3df9cadf9435da53ce4ea3657c212",
       "version_major": 2,
       "version_minor": 0
      },
      "image/png": "[encoded data removed]",
      "text/html": [
       "\n",
       "            <div style=\"display: inline-block;\">\n",
       "                <div class=\"jupyter-widgets widget-label\" style=\"text-align: center;\">\n",
       "                    Figure\n",
       "                </div>\n",
       "                <img src='data:image/png;base64,iVBORw0KGgoAAAANSUhEUgAAAoAAAAHgCAYAAAA10dzkAAAAOXRFWHRTb2Z0d2FyZQBNYXRwbG90bGliIHZlcnNpb24zLjUuMSwgaHR0cHM6Ly9tYXRwbG90bGliLm9yZy/YYfK9AAAACXBIWXMAAA9hAAAPYQGoP6dpAAAuHUlEQVR4nO3de1hVZd7/8c9mc1bZJAZCIuAhQ9FUSBPHtPKQlebhl9Y8P8vsME6WGVM9aU+ZTtePatKcmUqzsdTGKa2m06QWj2WRp5Kgk6dSDA8gork3HgLZ7N8fxJ4hQEm3LNj3+3Vd65J1r7X2+m4uL9fH+17rXjaPx+MRAAAAjBFgdQEAAABoXARAAAAAwxAAAQAADEMABAAAMAwBEAAAwDAEQAAAAMMQAAEAAAxDAAQAADAMARAAAMAwBEAAAADDEAABAAAMQwAEAAAwDAEQAADAMARAAAAAwxAAAQAADEMABAAAMAwBEAAAwDAEQAAAAMMQAAEAAAxDAAQAADAMARAAAMAwBEAAAADDEAABAAAMQwAEAAAwDAEQAADAMARAAAAAwxAAAQAADEMABAAAMAwBEAAAwDAEQAAAAMMQAAEAAAxDAAQAADAMARAAAMAwBEAAAADDEAABAAAMQwAEAAAwDAEQAADAMARAAAAAwxAAAQAADEMABAAAMAwBEAAAwDAEQAAAAMMQAAEAAAxDAAQAADAMARAAAMAwBEAAAADDEAABAAAMQwAEAAAwDAEQAADAMARAAAAAwxAAAQAADEMABAAAMAwBEAAAwDAEQAAAAMMQAAEAAAxDAAQAADBMoNUFNGeVlZXav3+/WrVqJZvNZnU5AACgATwej0pLSxUXF6eAADP7wgiAZ2H//v2Kj4+3ugwAAHAG9uzZo3bt2lldhiUIgGehVatWkqr+AkVERFhcDQAAaAiXy6X4+HjvddxEBMCzUD3sGxERQQAEAKCZMfn2Lb8Z+P7kk080YsQIxcXFyWaz6a233jrtMR9//LFSU1MVGhqqDh06aMGCBee+UAAAAIv5TQA8duyYLr74Yj3zzDMN2j8/P19XX321BgwYoNzcXM2YMUNTp07VG2+8cY4rBQAAsJbfDAEPHz5cw4cPb/D+CxYsUPv27TVv3jxJUnJysjZv3qynnnpKY8eOPUdVAgAAWM9vAuCvtWHDBg0dOrRG27Bhw7Ro0SKdPHlSQUFBtY4pKytTWVmZd93lcp3zOgEA+CWPx6OKigq53W6rS2mS7Ha7AgMDjb7H73SMDYBFRUWKiYmp0RYTE6OKigqVlJQoNja21jGZmZmaNWtWY5UIAEAt5eXlKiws1PHjx60upUkLDw9XbGysgoODrS6lSTI2AEq1n/7xeDx1tlebPn26MjIyvOvVj5EDANAYKisrlZ+fL7vdrri4OAUHB9PL9Qsej0fl5eU6ePCg8vPz1blzZ2Mnez4VYwNg27ZtVVRUVKOtuLhYgYGBioqKqvOYkJAQhYSENEZ5AADUUl5ersrKSsXHxys8PNzqcpqssLAwBQUF6YcfflB5eblCQ0OtLqnJMTYS9+vXT1lZWTXaPvjgA6WlpdV5/x8AAE0FPVqnx+/o1Pzmt3P06FHl5eUpLy9PUtU0L3l5eSooKJBUNXx70003efefPHmyfvjhB2VkZGjr1q168cUXtWjRIt13331WlA8AANBo/GYIePPmzbr88su969X36t18881avHixCgsLvWFQkpKSkrRy5Urde++9evbZZxUXF6e//OUvTAEDoMrJn6r+DGLoCID/8ZsAOGjQIO9DHHVZvHhxrbaBAwfqiy++OIdVAWh2juyRVv23tGN11fqFV0nDn5AieeALgP/wmwAIAGfNfVJaep10eOe/27a/Jx3cJk3ZJNm5Pxg4nfLycqZeaQb85h5AADhr21fWDH/VDu+Utq9q/HqAJqC0tFT/9V//pRYtWig2NlZPP/20Bg0apGnTpkmSEhMT9dhjj2nixIlyOBy6/fbbtXv3btlsNr366qtKT09XaGiounXrprVr11r6XfBvBEAAqPbjD6fYtrvRygCakoyMDK1bt07vvPOOsrKylJ2dXev2qT/96U9KSUlRTk6OHn74YW/7/fffrz/84Q/Kzc1Venq6Ro4cqUOHDjX2V0AdCIAAUC2u15ltA/xUaWmplixZoqeeekpXXnmlUlJS9NJLL9V6Bd0VV1yh++67T506dVKnTp287XfddZfGjh2r5ORkzZ8/Xw6HQ4sWLWrsr4E6EAABoFrSAKnDoNrtHQZVbQMMs2vXLp08eVJ9+vTxtjkcDnXp0qXGfmlpaXUe369fP+/PgYGBSktL09atW89NsfhVeAgEAP7Tja9K65+Rvn2zar3baCn9LmtrAixS3ytSfznrRosWLRr8mby6rmmgBxAA/lNQmDTwfunO9VXLwPur2gADdezYUUFBQfrss8+8bS6XS999912Djt+4caP354qKCuXk5Oiiiy7yeZ349egBBAAAdWrVqpVuvvlm3X///WrdurWio6M1c+ZMBQQENKgn79lnn1Xnzp2VnJysp59+Wj/++KMmTZrUCJXjdOgBBAAA9Zo7d6769euna6+9VoMHD1b//v2VnJys0NDTvyXn8ccf1xNPPKGLL75Y2dnZevvtt9WmTZtGqBqnQw8gAACoV6tWrbRs2TLv+rFjxzRr1izdcccdkqTdu3fXe2xycnKNYWA0HQRAAABQr9zcXG3btk19+vSR0+nU7NmzJUnXXXedxZXhbBAAAQDAKT311FPavn27goODlZqaquzsbIZymzkCIAAAqFevXr2Uk5Pzq45JTEysNVUMmhYeAgEAADAMARAAAMAwBEAAAADDEAABAAAMQwAEAAAwDAEQAADAMARAAADQ7CQmJmrevHlWl9FsMQ8gAAAG2lbk0upviuQ6UaGIsEBdldJWF7WNsLosNBICIAAABtldckwZK/L0RcER2QNsCrBJlR5p3v9+p9SE8zTn+ouV2KaF1WXiHGMIGAAAQ+wuOabrnl2nL/c6JUnuSo9Ouj1yV1a9tSNvzxFd9+w67S455vNzDxo0SFOnTtUDDzyg1q1bq23btnr00Ue92x999FG1b99eISEhiouL09SpU73biouLNWLECIWFhSkpKUnLli3zeX2moQcQAABDZKzI09GyCm/g+yV3pUdHyyp032tf6vXfp/v8/EuWLFFGRoY2bdqkDRs2aOLEierfv7+cTqeefvppvfrqq+rWrZuKior05Zdfeo+bOHGi9uzZow8//FDBwcGaOnWqiouLfV6fSQiAAAAYYFuRS18UHDntfu5Kjzb/8KO2Fbl8fk9gjx49NHPmTElS586d9cwzz2jNmjWKjo5W27ZtNXjwYAUFBal9+/bq06ePJGnHjh1atWqVNm7cqL59+0qSFi1apOTkZJ/WZhqGgAEAMMDqb4pkD7A1aF97gE3vf3PA5zX06NGjxnpsbKyKi4t1/fXX68SJE+rQoYNuv/12vfnmm6qoqJAkbd26VYGBgUpLS/Med9FFFykyMtLn9ZmEAAgAgAFcJyrUwPynAJvkPHHS5zUEBQXVWLfZbKqsrFR8fLy2b9+uZ599VmFhYbrzzjt12WWX6eTJk/J4PN594TsEQAAADBARFqh6bv2rpdIjOcKCTr+jD4WFhWnkyJH6y1/+orVr12rDhg36+uuvlZycrIqKCm3evNm77/bt23XkyJFGrc/fcA8gAAAGuCqlreb973cN2tdd6dFVKW3PcUX/tnjxYrndbvXt21fh4eF6+eWXFRYWpoSEBEVFRemqq67S7bffroULFyowMFDTpk1TWFhYo9Xnj+gBBADAABe1jVDv9pGnvQ/QHmBTWsJ56tK2VSNVJkVGRuqFF15Q//791aNHD61Zs0bvvvuuoqKiJEkvvfSS4uPjNXDgQI0ZM0Z33HGHoqOjG60+f2TzVA+u41dzuVxyOBxyOp2KiGD2dADAufXTTz8pPz9fSUlJCg0N/dXHV88DWN9UMPYAm1qGBOrtKf2b/WTQp/pdcf2mBxAAAGMktmmht6f0V6/4SElVgS/IbvP2CvaKj/SL8IfT4x5AAAAMktimhV7/fbq2Fbn0/jcH5DxxUo6wIF2V0rZRh31hLQIgAAAGuqhthM8nekbzwRAwAACAYQiAAAAAhiEAAgAAGIYACAAAYBgCIAAAgGEIgAAAAIYhAAIAgCZl4sSJGjVqlNVl+DXmAQQAwEQHvpW2viv95JRCHVLyCCmmm9VVoZEQAAEAMMmhndKbk6W9n0k2u2QLkDyV0tpMKb6vNGq+FNXR6ipxjjEEDACAKQ7tlF64UtqXU7XucUuVJ6v+lKS9m6u2H9rp81O//vrr6t69u8LCwhQVFaXBgwfr2LFjcrvdysjIUGRkpKKiovTAAw/I4/H4/PyoiQAIAIAp3pwslbn+Hfh+yeOu2v7W73162sLCQt14442aNGmStm7dqrVr12rMmDHyeDyaM2eOXnzxRS1atEiffvqpDh8+rDfffNOn50dtDAEDAGCCA99WDfuejsct7dlUtb+P7gksLCxURUWFxowZo4SEBElS9+7dJUnz5s3T9OnTNXbsWEnSggUL9P777/vkvKgfPYAAAJhg67tV9/w1hM0ubf2Xz0598cUX68orr1T37t11/fXX64UXXtCPP/4op9OpwsJC9evXz7tvYGCg0tLSfHZu1I0ACACACX5yVj3w0RC2AOmnIz47td1uV1ZWllatWqWuXbvqr3/9q7p06aLdu3f77Bz4dQiAAACYINRR9bRvQ3gqpdBIn57eZrOpf//+mjVrlnJzcxUcHKw1a9YoNjZWGzdu9O5XUVGhnJwcn54btXEPIAAAJkgeUTXVS0N43FX7+8imTZu0Zs0aDR06VNHR0dq0aZMOHjyo5ORk3XPPPXr88cfVuXNnJScna+7cuTpy5IjPzo26EQABADBBTDepXZ+qKWDqewpYqrr/r12aFNPVZ6eOiIjQJ598onnz5snlcikhIUFz5szR8OHDNWTIEBUWFmrixIkKCAjQpEmTNHr0aDmdTp+dH7XZPEy2c8ZcLpccDoecTqciIiKsLgcA4Od++ukn5efnKykpSaGhob/+A6rnAaxvKhibXQqJkG5f0+wngz7V74rrN/cAAgBgjqiOVeGu3c9P2drsUkDQv58ObpfmF+EPp8cQMAAAJonqKN36wc/vAv5X1dO+oZE/vwvYd8O+aNoIgAAAmCimm88mekbzwxAwAACAYQiAAAAAhiEAAgDQzDCBx+nxOzo1AiAAAM1EUFCQJOn48eMWV9L0Vf+Oqn9nqImHQAAAaCbsdrsiIyNVXFwsSQoPD5fNZrO4qqbF4/Ho+PHjKi4uVmRkpOx2u9UlNUkEQAAAmpG2bdtKkjcEom6RkZHe3xVqIwACANCM2Gw2xcbGKjo6WidPnrS6nCYpKCiInr/TIAACANAM2e12Qg7OmF89BPLcc8953/mXmpqq7OzsU+6/bNkyXXzxxQoPD1dsbKxuueUWHTp0qJGqBQAAsIbfBMDly5dr2rRpeuihh5Sbm6sBAwZo+PDhKigoqHP/Tz/9VDfddJNuvfVWffvtt3rttdf0+eef67bbbmvkygEAABqX3wTAuXPn6tZbb9Vtt92m5ORkzZs3T/Hx8Zo/f36d+2/cuFGJiYmaOnWqkpKS9Jvf/Ea/+93vtHnz5kauHAAAoHH5RQAsLy9XTk6Ohg4dWqN96NChWr9+fZ3HpKena+/evVq5cqU8Ho8OHDig119/Xddcc01jlAwAAGAZvwiAJSUlcrvdiomJqdEeExOjoqKiOo9JT0/XsmXLNH78eAUHB6tt27aKjIzUX//613rPU1ZWJpfLVWMBAABobvwiAFb75WSYHo+n3gkyt2zZoqlTp+qRRx5RTk6OVq9erfz8fE2ePLnez8/MzJTD4fAu8fHxPq0fAACgMdg8fvCyvPLycoWHh+u1117T6NGjve333HOP8vLy9PHHH9c6ZsKECfrpp5/02muveds+/fRTDRgwQPv371dsbGytY8rKylRWVuZdd7lcio+Pl9PpVEREhI+/FQAAOBdcLpccDofR12+/6AEMDg5WamqqsrKyarRnZWUpPT29zmOOHz+ugICaX796PqX6MnFISIgiIiJqLAAAAM2NXwRAScrIyNDf/vY3vfjii9q6davuvfdeFRQUeId0p0+frptuusm7/4gRI/TPf/5T8+fP165du7Ru3TpNnTpVffr0UVxcnFVfAwAA4JzzmzeBjB8/XocOHdLs2bNVWFiolJQUrVy5UgkJCZKkwsLCGnMCTpw4UaWlpXrmmWf0hz/8QZGRkbriiiv0xBNPWPUVAAAAGoVf3ANoFe4hAACg+eH67UdDwAAAAGgYAiAAAIBhCIAAAACGIQACAAAYhgAIAABgGAIgAACAYQiAAAAAhiEAAgAAGIYACAAAYBgCIAAAgGEIgAAAAIYhAAIAABiGAAgAAGAYAiAAAIBhCIAAAACGIQACAAAYhgAIAABgGAIgAACAYQiAAAAAhiEAAgAAGIYACAAAYBgCIAAAgGEIgAAAAIYhAAIAABiGAAgAAGAYAiAAAIBhCIAAAACGIQACAAAYhgAIAABgGAIgAACAYQiAAAAAhiEAAgAAGIYACAAAYBgCIAAAgGEIgAAAAIYhAAIAABiGAAgAAGAYAiAAAIBhCIAAAACGIQACAAAYhgAIAABgGAIgAACAYQiAAAAAhiEAAgAAGIYACAAAYBgCIAAAgGEIgAAAAIYhAAIAABiGAAgAAGAYAiAAAIBhCIAAAACGIQACAAAYhgAIAABgGAIgAACAYQiAAAAAhiEAAgAAGIYACAAAYBgCIAAAgGEIgAAAAIYhAAIAABiGAAgAAGCYQKsLAICm5Hh5hZ77aKdWfl0oSbq6e6zuvLyjwoP55xKA/+BfNAD4mcfj0cSXPtdn+Ye9bc989L0+331Yy3/Xz8LKAMC3GAIGgJ+t33moRvirtin/sNZ/X2JBRQBwbvhVAHzuueeUlJSk0NBQpaamKjs7+5T7l5WV6aGHHlJCQoJCQkLUsWNHvfjii41ULYCm5tv9znq3fXOKbQDQ3FgaAA8cOKAJEyYoLi5OgYGBstvtNZZfY/ny5Zo2bZoeeugh5ebmasCAARo+fLgKCgrqPWbcuHFas2aNFi1apO3bt+uVV17RRRdddLZfC0AzlRDV4oy2AUBzY/N4PB6rTl4d0O666y7FxsbKZrPV2H7dddc1+LP69u2r3r17a/78+d625ORkjRo1SpmZmbX2X716tW644Qbt2rVLrVu3PqP6XS6XHA6HnE6nIiIizugzADQdFe5KDZv3iXYePFajvVN0S62+Z4AC7X41aAIYi+u3xQ+BfPrpp8rOzlbPnj3P6nPKy8uVk5OjBx98sEb70KFDtX79+jqPeeedd5SWlqYnn3xSL7/8slq0aKGRI0fqj3/8o8LCwuo8pqysTGVlZd51l8t1VnUDaFoC7QH6x+2X6o//2qL3vy2SJA3r1lYPX9uV8AfAr1gaAOPj4+WLDsiSkhK53W7FxMTUaI+JiVFRUVGdx+zatUuffvqpQkND9eabb6qkpER33nmnDh8+XO99gJmZmZo1a9ZZ1wug6YqJCNUzv+0td2XVv032ANtpjgCA5sfS/9LOmzdPDz74oHbv3u2Tz/vlELLH46nVVq2yslI2m03Lli1Tnz59dPXVV2vu3LlavHixTpw4Uecx06dPl9Pp9C579uzxSd0Amh57gI3wB8BvWdoDOH78eB0/flwdO3ZUeHi4goKCamw/fLj2dAx1adOmjex2e63evuLi4lq9gtViY2N1wQUXyOFweNuSk5Pl8Xi0d+9ede7cudYxISEhCgkJaVBNAAAATZWlAXDevHk++Zzg4GClpqYqKytLo0eP9rZnZWXV+yBJ//799dprr+no0aNq2bKlJGnHjh0KCAhQu3btfFIXgOZrx4FSSdKFMa0srgQAfM/Sp4B9afny5ZowYYIWLFigfv36aeHChXrhhRf07bffKiEhQdOnT9e+ffu0dOlSSdLRo0eVnJysSy+9VLNmzVJJSYluu+02DRw4UC+88EKDzslTRID/+XqvUxkr8vRd8VFJUufolpo7rqe6t3Oc5kgAzQXX7ybwKji326233npLW7dulc1mU9euXTVy5MhfPQ/g+PHjdejQIc2ePVuFhYVKSUnRypUrlZCQIEkqLCysMSdgy5YtlZWVpbvvvltpaWmKiorSuHHj9Nhjj/n0+wFoPo6XV+jmlz7T4WPl3rbvio9q4kufKfu/L+d9wAD8hqU9gN9//72uvvpq7du3T126dJHH49GOHTsUHx+v9957Tx07drSqtAbhfxCAf/nnF3uVseLLOrfNHXexxvTm9hDAH3D9tvgp4KlTp6pjx47as2ePvvjiC+Xm5qqgoEBJSUmaOnWqlaUBMNCho+VntA0AmhtLxzM+/vhjbdy4scabOKKiovT444+rf//+FlYGwET9OkbVuy29U/3bAKC5sbQHMCQkRKWlpbXajx49quDgYAsqAmCylAscGpdWe5h3XFo7dYvjIRAA/sPSHsBrr71Wd9xxhxYtWqQ+ffpIkjZt2qTJkydr5MiRVpYGwFBPjO2hyy48Xyu/LpQkXd09Vtd0j7W4KgDwLUsfAjly5Ihuvvlmvfvuu95JoCsqKjRy5EgtXry4xiTNTRE3kQIA0Pxw/ba4BzAyMlJvv/22vvvuO23btk0ej0ddu3ZVp06drCwLAADArzWJSa06d+5c56vXAAAA4HuNHgAzMjL0xz/+US1atFBGRsYp9507d24jVQUAAGCORg+Aubm5OnnypPdnAAAANC6/eRewFbiJFACA5ofrt8XzAE6aNKnOeQCPHTumSZMmWVARAACA/7M0AC5ZskQnTpyo1X7ixAktXbrUgooAAAD8nyVPAbtcLnk8Hnk8HpWWlio0NNS7ze12a+XKlYqOjraiNAAAAL9nSQCMjIyUzWaTzWbThRdeWGu7zWbTrFmzLKgMAADA/1kSAD/66CN5PB5dccUVeuONN9S6dWvvtuDgYCUkJCguLs6K0gAAAPyeJQFw4MCBkqT8/HzFx8crIMDSWxEBAACMYumbQBISEiRJx48fV0FBgcrLy2ts79GjhxVlAQAA+DVLA+DBgwd1yy23aNWqVXVud7vdjVwRAACA/7N07HXatGn68ccftXHjRoWFhWn16tVasmSJOnfurHfeecfK0gAAAPyWpT2AH374od5++21dcsklCggIUEJCgoYMGaKIiAhlZmbqmmuusbI8AAAAv2RpD+CxY8e88/21bt1aBw8elCR1795dX3zxhZWlAQAA+C1LA2CXLl20fft2SVLPnj31/PPPa9++fVqwYIFiY2OtLA0AAMBvWToEPG3aNBUWFkqSZs6cqWHDhmnZsmUKDg7W4sWLrSwNAADAb9k8Ho/H6iKqHT9+XNu2bVP79u3Vpk0bq8s5LZfLJYfDIafTqYiICKvLAQAADcD12+Ih4I8//rjGenh4uHr37t0swh8AAEBzZWkAHDJkiNq3b68HH3xQ33zzjZWlAAAAGMPSALh//3498MADys7OVo8ePdSjRw89+eST2rt3r5VlAQAA+LUmcw9gfn6+/vGPf+iVV17Rtm3bdNlll+nDDz+0uqxT4h4CAACaH67fTSgASlWvflu1apUefvhhffXVV03+VXD8BQIAoPnh+m3xEHC1devW6c4771RsbKx++9vfqlu3bvrXv/5ldVkAAAB+ydJ5AGfMmKFXXnlF+/fv1+DBgzVv3jyNGjVK4eHhVpYFAADg1ywNgGvXrtV9992n8ePHM/ULAABAI7E0AK5fv97K0wMAABip0QPgO++8o+HDhysoKEjvvPPOKfcdOXJkI1UFAABgjkZ/CjggIEBFRUWKjo5WQED9z6DYbDaeAgYAAD7H9duCHsDKyso6fwYAAEDjsHQamKVLl6qsrKxWe3l5uZYuXWpBRQAAAP7P0omg7Xa7CgsLFR0dXaP90KFDio6OZggYAAD4HNdvi3sAPR6PbDZbrfa9e/fK4XBYUBEAAID/s2QamF69eslms8lms+nKK69UYOC/y3C73crPz9dVV11lRWkAAAB+z5IAOGrUKElSXl6ehg0bppYtW3q3BQcHKzExUWPHjrWiNAAAAL9nSQCcOXOmJCkxMVE33HCDQkJCrCgDAADASJbeA9i1a1fl5eXVat+0aZM2b97c+AUBQLWy0qoFAPyQpQFwypQp2rNnT632ffv2acqUKRZUBMB4P+6W/v5/pMz4quXv/6eqDQD8iKUBcMuWLerdu3et9l69emnLli0WVATAaBXl0tLrpO+zJHmqlu+zqtrcJ62uDgB8xtIAGBISogMHDtRqLywsrPFkMAA0iu0r6+7t+3G3tO29xq4GAM4ZSwPgkCFDNH36dDmdTm/bkSNHNGPGDA0ZMsTCygAY6UjBmW0DgGbG0m62OXPm6LLLLlNCQoJ69eolqWpqmJiYGL388stWlgbARBekntk2AGhmLA2AF1xwgb766istW7ZMX375pcLCwnTLLbfoxhtvVFBQkJWlATBRYn+p02Dp+/+t2d5pcNU2APATlr4LuNqWLVtUUFCg8vLyGu0jR460qKKG4V2CgB+qKJM2zpe2vFW13nWUdOnvpUDmKwX8BddviwPgrl27NHr0aH399dey2Wy13g3sdrutKq1B+AsEAEDzw/Xb4odA7rnnHiUlJenAgQMKDw/XN998o48//lhpaWlau3atlaUBAAD4LUvvAdywYYM+/PBDnX/++QoICJDdbtdvfvMbZWZmaurUqcrNzbWyPAAAAL9kaQ+g2+1Wy5YtJUlt2rTR/v37JUkJCQnavn27laUBAAD4LUt7AFNSUvTVV1+pQ4cO6tu3r5588kkFBwdr4cKF6tChg5WlAQAA+C1LA+D//M//6NixY5Kkxx57TNdee60GDBigqKgoLV++3MrSAAAA/FaTmAbmPx0+fFjnnXdejaeBmyqeIgIAoPnh+m1xD2BdWrdubXUJAAAAfs3Sh0AAAADQ+AiAAAAAhiEAAgAAGIYACAAAYBgCIAAAgGEIgAAAAIbxqwD43HPPKSkpSaGhoUpNTVV2dnaDjlu3bp0CAwPVs2fPc1sgAABAE+A3AXD58uWaNm2aHnroIeXm5mrAgAEaPny4CgoKTnmc0+nUTTfdpCuvvLKRKgUAALBWk3sTyJnq27evevfurfnz53vbkpOTNWrUKGVmZtZ73A033KDOnTvLbrfrrbfeUl5eXoPPyUziAAA0P1y//aQHsLy8XDk5ORo6dGiN9qFDh2r9+vX1HvfSSy9p586dmjlzZoPOU1ZWJpfLVWMBAABobvwiAJaUlMjtdismJqZGe0xMjIqKiuo85rvvvtODDz6oZcuWKTCwYW/Ey8zMlMPh8C7x8fFnXTsAAEBj84sAWM1ms9VY93g8tdokye1267e//a1mzZqlCy+8sMGfP336dDmdTu+yZ8+es64ZAACgsTWs66uJa9Omjex2e63evuLi4lq9gpJUWlqqzZs3Kzc3V3fddZckqbKyUh6PR4GBgfrggw90xRVX1DouJCREISEh5+ZLAAAANBK/6AEMDg5WamqqsrKyarRnZWUpPT291v4RERH6+uuvlZeX510mT56sLl26KC8vT3379m2s0gEAABqdX/QASlJGRoYmTJigtLQ09evXTwsXLlRBQYEmT54sqWr4dt++fVq6dKkCAgKUkpJS4/jo6GiFhobWagcAAPA3fhMAx48fr0OHDmn27NkqLCxUSkqKVq5cqYSEBElSYWHhaecEBAAAMIHfzANoBeYRAgCg+eH67Sf3AAIAAKDhCIAAAACGIQACAAAYhgAIAABgGAIgAACAYQiAAAAAhiEAAgAAGIYACAAAYBgCIAAAgGEIgAAAAIYhAAIAABiGAAgAAGAYAiAAAIBhCIAAAACGIQACAAAYhgAIAABgGAIgAACAYQiAAAAAhiEAAgAAGIYACAAAYBgCIAAAgGEIgAAAAIYhAAIAABiGAAgAAGAYAiAAAIBhCIAAAACGIQACAAAYhgAIAABgGAIgAACAYQiAAAAAhiEAAgAAGIYACAAAYBgCIAAAgGEIgAAAAIYhAAIAABiGAAgAAGAYAiAAAIBhCIAAAACGIQACAAAYhgAIAABgGAIgAACAYQiAAAAAhiEAAgAAGIYACAAAYBgCIAAAgGEIgAAAAIYhAAIAABiGAAgAAGAYAiAAAIBhCIAAAACGIQACAAAYhgAIAABgGAIgAACAYQiAAAAAhiEAAgAAGIYACAAAYBgCIAAAgGEIgAAAAIYhAAIAABiGAAgAAGAYAiAAAIBhCIAAAACGIQACAAAYxq8C4HPPPaekpCSFhoYqNTVV2dnZ9e77z3/+U0OGDNH555+viIgI9evXT++//34jVgsAAGANvwmAy5cv17Rp0/TQQw8pNzdXAwYM0PDhw1VQUFDn/p988omGDBmilStXKicnR5dffrlGjBih3NzcRq4cAACgcdk8Ho/H6iJ8oW/fvurdu7fmz5/vbUtOTtaoUaOUmZnZoM/o1q2bxo8fr0ceeaRB+7tcLjkcDjmdTkVERJxR3QAAoHFx/faTHsDy8nLl5ORo6NChNdqHDh2q9evXN+gzKisrVVpaqtatW5+LEgEAAJqMQKsL8IWSkhK53W7FxMTUaI+JiVFRUVGDPmPOnDk6duyYxo0bV+8+ZWVlKisr8667XK4zKxgAAMBCftEDWM1ms9VY93g8tdrq8sorr+jRRx/V8uXLFR0dXe9+mZmZcjgc3iU+Pv6sawYAAGhsfhEA27RpI7vdXqu3r7i4uFav4C8tX75ct956q1asWKHBgwefct/p06fL6XR6lz179px17QAAAI3NLwJgcHCwUlNTlZWVVaM9KytL6enp9R73yiuvaOLEifrHP/6ha6655rTnCQkJUURERI0FAACgufGLewAlKSMjQxMmTFBaWpr69eunhQsXqqCgQJMnT5ZU1Xu3b98+LV26VFJV+Lvpppv05z//WZdeeqm39zAsLEwOh8Oy7wEAAHCu+U0AHD9+vA4dOqTZs2ersLBQKSkpWrlypRISEiRJhYWFNeYEfP7551VRUaEpU6ZoypQp3vabb75ZixcvbuzyAQAAGo3fzANoBeYRAgCg+eH67Sf3AAIAAKDhCIAAAACGIQACAAAYhgAIAABgGAIgAACAYQiAAAAAhiEAAgAAGIYACAAAYBgCIAAAgGEIgAAAAIYhAAIAABiGAAgAAGAYAiAAAIBhCIAAAACGIQACAAAYhgAIAABgGAIgAACAYQiAAFAHj8cjj8djdRkAcE4EWl0AADQlxaU/6f+9t1UrvymSJF2d0lYzrklWdKtQiysDAN8hAALAz9yVHv3fv23SjgNHvW1v5e3XlkKXVt1zmewBNgurAwDfYQgYAH62ZuuBGuGv2o4DR/XhtmILKgKAc4MACAA/233oWL3b8ktqB0MAaK4IgADws+TYiHq3dY11NGIlAHBuEQAB4Ge/6dRGlySeV6v9ksTz1L9TlAUVAcC5wUMgAPAzm82ml27po2c+/F7vfb1fknRN9zjddUUn2Ww8AALAf9g8THR1xlwulxwOh5xOpyIi6h86AgAATQfXb4aAAQAAjEMABAAAMAwBEAAAwDAEQAAAAMMQAAEAAAxDAAQAADAMARAAAMAwBEAAAADDEAABAAAMQwAEAAAwDAEQAOpy8qeqBQD8UKDVBQBAk3Jkj7Tqv6Udq6vWL7xKGv6EFBlvbV0A4EMEQACo5j4pLb1OOrzz323b35MObpOmbJLsQdbVBgA+xBAwAFTbvrJm+Kt2eKe0fVXj1wMA5wgBEACq/fjDKbbtbrQyAOBcIwACQLW4Xme2DQCaGQIgAFRLGiB1GFS7vcOgqm0A4Cd4CAQA/tONr0rrn5G+fbNqvdtoKf0ua2sCAB+zeTwej9VFNFcul0sOh0NOp1MRERFWlwMAABqA6zdDwAAAAMYhAAIAABiGAAgAAGAYAiAAAIBhCIAAAACGIQACAAAYhgAIAABgGAIgAACAYQiAAAAAhiEAAgAAGIYACAAAYJhAqwtozqpfo+xyuSyuBAAANFT1dbv6Om4iAuBZKC0tlSTFx8dbXAkAAPi1SktL5XA4rC7DEjaPyfH3LFVWVmr//v1q1aqVbDab1eUA8CGXy6X4+Hjt2bNHERERVpcDwIc8Ho9KS0sVFxengAAz74YjAAJAHVwulxwOh5xOJwEQgN8xM/YCAAAYjAAIAABgGAIgANQhJCREM2fOVEhIiNWlAIDPcQ8gAACAYegBBAAAMAwBEAAAwDAEQAAAAMMQAAEAAAxDAAQAADAMARCAXygvL7e6BABoNgiAAJqlQYMG6a677lJGRobatGmjIUOGaMuWLbr66qvVsmVLxcTEaMKECSopKalxzN13361p06bpvPPOU0xMjBYuXKhjx47plltuUatWrdSxY0etWrXKe4zb7datt96qpKQkhYWFqUuXLvrzn/9coxabzVZrSUxM9G4/XV0A0NgIgACarSVLligwMFDr1q3T448/roEDB6pnz57avHmzVq9erQMHDmjcuHG1jmnTpo0+++wz3X333fr973+v66+/Xunp6friiy80bNgwTZgwQcePH5ckVVZWql27dlqxYoW2bNmiRx55RDNmzNCKFSu8n1lYWOhdvv/+e3Xq1EmXXXaZd1tD6gKAxsRE0ACapUGDBsnpdCo3N1eS9Mgjj2jTpk16//33vfvs3btX8fHx2r59uy688EINGjRIbrdb2dnZkqp69xwOh8aMGaOlS5dKkoqKihQbG6sNGzbo0ksvrfPcU6ZM0YEDB/T666/XaPd4PBo7dqwKCgqUnZ2tsLCwBtUFAI0t0OoCAOBMpaWleX/OycnRRx99pJYtW9bab+fOnd6g1aNHD2+73W5XVFSUunfv7m2LiYmRJBUXF3vbFixYoL/97W/64YcfdOLECZWXl6tnz561zjNjxgxt2LBBn3/+ucLCwn5VXQDQmAiAAJqtFi1aeH+urKzUiBEj9MQTT9TaLzY21vtzUFBQjW02m61Gm81m836eJK1YsUL33nuv5syZo379+qlVq1b605/+pE2bNtX4nL///e96+umntXbtWrVr1+5X1wUAjYkACMAv9O7dW2+88YYSExMVGOi7f9qys7OVnp6uO++809u2c+fOGvts2LBBt912m55//vlaw8bnqi4AOBs8BALAL0yZMkWHDx/WjTfeqM8++0y7du3SBx98oEmTJsntdp/x53bq1EmbN2/W+++/rx07dujhhx/W559/7t1eVFSk0aNH64YbbtCwYcNUVFSkoqIiHTx48JzWBQBngwAIwC/ExcVp3bp1crvdGjZsmFJSUnTPPffI4XAoIODM/6mbPHmyxowZo/Hjx6tv3746dOhQjd7Abdu26cCBA1qyZIliY2O9yyWXXHJO6wKAs8FTwAAAAIbhv58AAACGIQACAAAYhgAIAABgGAIgAACAYQiAAAAAhiEAAgAAGIYACAAAYBgCIAAAgGEIgABQh0GDBmnatGlWlwEA5wQBEAAAwDC8Cg4AfmHixIlasmRJjbb8/HwlJiZaUxAA+BgBEAB+wel0avjw4UpJSdHs2bMlSeeff77sdrvFlQGAbwRaXQAANDUOh0PBwcEKDw9X27ZtrS4HAHyOewABAAAMQwAEAAAwDAEQAOoQHBwst9ttdRkAcE4QAAGgDomJidq0aZN2796tkpISVVZWWl0SAPgMARAA6nDffffJbrera9euOv/881VQUGB1SQDgM0wDAwAAYBh6AAEAAAxDAAQAADAMARAAAMAwBEAAAADDEAABAAAMQwAEAAAwDAEQAADAMARAAAAAwxAAAQAADEMABAAAMAwBEAAAwDAEQAAAAMP8f1QyKvRKsaTrAAAAAElFTkSuQmCC' width=640.0/>\n",
       "            </div>\n",
       "        "
      ],
      "text/plain": [
       "Canvas(toolbar=Toolbar(toolitems=[('Home', 'Reset original view', 'home', 'home'), ('Back', 'Back to previous …"
      ]
     },
     "metadata": {},
     "output_type": "display_data"
    }
   ],
   "source": [
    "%matplotlib widget\n",
    "import seaborn as sns\n",
    "\n",
    "sns.barplot(data=reactivation_df,x='t',y='activation',hue='grp')"
   ]
  }
 ],
 "metadata": {
  "interpreter": {
   "hash": "cce1618081139d19eb1ee8d40815d94a2de4f62e1efb20d9406ddb60628c36ae"
  },
  "kernelspec": {
   "display_name": "Python 3.9.7 64-bit ('data_analysis': conda)",
   "name": "python3"
  },
  "language_info": {
   "codemirror_mode": {
    "name": "ipython",
    "version": 3
   },
   "file_extension": ".py",
   "mimetype": "text/x-python",
   "name": "python",
   "nbconvert_exporter": "python",
   "pygments_lexer": "ipython3",
   "version": "3.9.9"
  },
  "orig_nbformat": 4
 },
 "nbformat": 4,
 "nbformat_minor": 2
}
