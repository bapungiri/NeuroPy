{
 "cells": [
  {
   "cell_type": "markdown",
   "metadata": {},
   "source": [
    "### Imports"
   ]
  },
  {
   "cell_type": "code",
   "execution_count": 1,
   "metadata": {},
   "outputs": [],
   "source": [
    "import matplotlib.pyplot as plt\n",
    "import numpy as np\n",
    "import pandas as pd\n",
    "import seaborn as sns\n",
    "from tqdm.notebook import tqdm\n",
    "from neuropy.analyses import NeuronEnsembles\n",
    "import subjects"
   ]
  },
  {
   "cell_type": "markdown",
   "metadata": {},
   "source": [
    "### Plotting activation of ensembles in an example session"
   ]
  },
  {
   "cell_type": "code",
   "execution_count": null,
   "metadata": {},
   "outputs": [],
   "source": [
    "sess = subjects.sd.ratUday4[0]"
   ]
  },
  {
   "cell_type": "code",
   "execution_count": null,
   "metadata": {},
   "outputs": [],
   "source": [
    "neurons = sess.neurons.get_neuron_type('pyr')\n",
    "pre = sess.paradigm['pre']\n",
    "maze = sess.paradigm['maze']\n",
    "re_maze= sess.paradigm['re-maze']\n",
    "post = sess.paradigm['post']\n",
    "\n",
    "maze_ensembles =  NeuronEnsembles(neurons,maze[0],maze[1],bin_size=0.25)\n",
    "maze_ensembles.calculate_activation(pre[0],pre[1])\n",
    "mean_pre_activation = np.mean(maze_ensembles.activation,axis=1,keepdims=True)\n",
    "maze_ensembles.calculate_activation(post[0],re_maze[1])"
   ]
  },
  {
   "cell_type": "code",
   "execution_count": null,
   "metadata": {},
   "outputs": [],
   "source": [
    "%matplotlib widget\n",
    "\n",
    "maze_ensembles.plot_activation()\n",
    "# plt.plot(np.mean(maze_ensembles.activation-mean_pre_activation,axis=0))"
   ]
  },
  {
   "cell_type": "code",
   "execution_count": null,
   "metadata": {},
   "outputs": [],
   "source": [
    "%matplotlib widget\n",
    "from scipy import stats\n",
    "a = maze_ensembles.weights \n",
    "a_zsc = stats.zscore(a,axis=0) \n",
    "a_sig_logical = np.where(a_zsc>1.5,1,0)\n",
    "b = np.sort(a_sig_logical,axis=0)\n",
    "# maze_ensembles.plot_ensembles()\n",
    "c = np.lexsort(a_sig_logical.T)\n",
    "a_new = a[c,:]\n",
    "plt.pcolormesh(a_new)"
   ]
  },
  {
   "cell_type": "markdown",
   "metadata": {},
   "source": [
    "### Average activation during SD vs NSD"
   ]
  },
  {
   "cell_type": "code",
   "execution_count": 2,
   "metadata": {},
   "outputs": [],
   "source": [
    "sessions = subjects.pf_sess()"
   ]
  },
  {
   "cell_type": "code",
   "execution_count": null,
   "metadata": {},
   "outputs": [],
   "source": [
    "maze_react = []\n",
    "for s, sess in enumerate(sessions):\n",
    "    neurons = sess.neurons.get_neuron_type(\"pyr\")\n",
    "    pre = sess.paradigm[\"pre\"].flatten()\n",
    "    maze = sess.paradigm[\"maze\"].flatten()\n",
    "    post = sess.paradigm[\"post\"].flatten()\n",
    "    neurons = sess.neurons_stable.get_neuron_type(\"pyr\")\n",
    "\n",
    "    zts = np.array([0, 2.5, 5])\n",
    "    zt_starts = zts * 3600 + post[0]\n",
    "    zt_stops = zt_starts + 2.5 * 3600\n",
    "    zt_epochs = np.vstack((zt_starts, zt_stops)).T\n",
    "\n",
    "    maze_ensembles = NeuronEnsembles(neurons, maze[0], maze[1])\n",
    "    n_ensembles = maze_ensembles.n_ensembles\n",
    "    pre_act = maze_ensembles.get_activation(*pre)[0].mean(axis=1)[:,np.newaxis]\n",
    "\n",
    "    zt_acts = np.zeros(3)\n",
    "    for i, e in enumerate(zt_epochs):\n",
    "        act = maze_ensembles.get_activation(*e)[0]-pre_act\n",
    "        # act = np.where(act>0,act,0)\n",
    "        zt_acts[i] = act.mean()\n",
    "\n",
    "    # zt_react = zt_acts - pre_act[:, np.newaxis]\n",
    "    df = pd.DataFrame(\n",
    "        dict(\n",
    "            zt=[\"0.0-2.5\", \"2.5-5.0\", \"5.0-7.5\"],\n",
    "            react=zt_acts,\n",
    "            s=s,\n",
    "            grp=sess.tag,\n",
    "        )\n",
    "    )\n",
    "    maze_react.append(df)\n",
    "\n",
    "maze_react = pd.concat(maze_react,ignore_index=True)"
   ]
  },
  {
   "cell_type": "code",
   "execution_count": null,
   "metadata": {},
   "outputs": [],
   "source": [
    "act = maze_ensembles.get_activation(*zt_epochs[0])[0]"
   ]
  },
  {
   "cell_type": "code",
   "execution_count": null,
   "metadata": {},
   "outputs": [],
   "source": [
    "_,ax = plt.subplots()\n",
    "\n",
    "ax.plot(act[3])"
   ]
  },
  {
   "cell_type": "code",
   "execution_count": null,
   "metadata": {},
   "outputs": [],
   "source": [
    "_,ax= plt.subplots()\n",
    "\n",
    "sns.barplot(data=maze_react,x='zt',y='react',hue='grp')"
   ]
  },
  {
   "cell_type": "markdown",
   "metadata": {},
   "source": [
    "### Distribution of activation strength comparision between SD vs NSD"
   ]
  },
  {
   "cell_type": "code",
   "execution_count": 5,
   "metadata": {},
   "outputs": [],
   "source": [
    "sessions = subjects.pf_sess()\n",
    "maze_react = []\n",
    "for s, sess in enumerate(sessions):\n",
    "    neurons = sess.neurons.get_neuron_type(\"pyr\")\n",
    "    pre = sess.paradigm[\"pre\"].flatten()\n",
    "    maze = sess.paradigm[\"maze\"].flatten()\n",
    "    post = sess.paradigm[\"post\"].flatten()\n",
    "    neurons = sess.neurons_stable.get_neuron_type(\"pyr\")\n",
    "\n",
    "    epochs = sess.get_zt_epochs(include_maze=False)\n",
    "\n",
    "    maze_ensembles = NeuronEnsembles(neurons, maze[0], maze[1])\n",
    "    n_ensembles = maze_ensembles.n_ensembles\n",
    "    pre_act = maze_ensembles.get_activation(*pre)[0].mean(axis=1)[:, np.newaxis]\n",
    "\n",
    "    for e in epochs.itertuples():\n",
    "        act = maze_ensembles.get_activation(e.start,e.stop)[0] - pre_act\n",
    "\n",
    "        df = pd.DataFrame(\n",
    "            dict(\n",
    "                zt=e.label,\n",
    "                react=act.mean(axis=0),\n",
    "                session=s,\n",
    "                grp=sess.tag,\n",
    "            )\n",
    "        )\n",
    "\n",
    "        maze_react.append(df)\n",
    "\n",
    "maze_react = pd.concat(maze_react, ignore_index=True)\n"
   ]
  },
  {
   "cell_type": "code",
   "execution_count": 10,
   "metadata": {},
   "outputs": [
    {
     "data": {
      "text/plain": [
       "<AxesSubplot:xlabel='zt', ylabel='react'>"
      ]
     },
     "execution_count": 10,
     "metadata": {},
     "output_type": "execute_result"
    },
    {
     "data": {
      "application/vnd.jupyter.widget-view+json": {
       "model_id": "0952ec13f4e243b3b70676c6fdf90fc0",
       "version_major": 2,
       "version_minor": 0
      },
      "image/png": "[encoded data removed]",
      "text/html": [
       "\n",
       "            <div style=\"display: inline-block;\">\n",
       "                <div class=\"jupyter-widgets widget-label\" style=\"text-align: center;\">\n",
       "                    Figure\n",
       "                </div>\n",
       "                <img src='data:image/png;base64,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' width=640.0/>\n",
       "            </div>\n",
       "        "
      ],
      "text/plain": [
       "Canvas(toolbar=Toolbar(toolitems=[('Home', 'Reset original view', 'home', 'home'), ('Back', 'Back to previous …"
      ]
     },
     "metadata": {},
     "output_type": "display_data"
    }
   ],
   "source": [
    "_,ax = plt.subplots()\n",
    "\n",
    "sns.violinplot(data=maze_react,x='zt',y='react',hue='grp',split=True)"
   ]
  },
  {
   "cell_type": "markdown",
   "metadata": {},
   "source": [
    "### Comparing MAZE ensembles and last 2 hours of SD\n",
    "- Found no difference between SD and NSD. Probably it makes sense because ICA ensembles will across different periods involves the same set of neurons and because it forces each ensemble to be independent of each other, naturally the correlations will have similar distributions. Nothing interesting here. "
   ]
  },
  {
   "cell_type": "code",
   "execution_count": null,
   "metadata": {},
   "outputs": [],
   "source": [
    "import matplotlib.pyplot as plt\n",
    "import numpy as np\n",
    "from neuropy.analyses import NeuronEnsembles\n",
    "import subjects\n",
    "\n",
    "sd_sessions = subjects.sd.ratNday1+subjects.sd.ratSday3 + subjects.sd.ratUday4\n",
    "nsd_sessions = subjects.nsd.ratNday2+subjects.nsd.ratSday2 + subjects.nsd.ratUday2"
   ]
  },
  {
   "cell_type": "code",
   "execution_count": null,
   "metadata": {},
   "outputs": [],
   "source": [
    "sd_ensembles_corr = []\n",
    "for sess in sd_sessions:\n",
    "    neurons = sess.neurons.get_neuron_type('pyr')\n",
    "    pre = sess.paradigm['pre']\n",
    "    maze = sess.paradigm['maze']\n",
    "    re_maze= sess.paradigm['re-maze']\n",
    "    post = sess.paradigm['post']\n",
    "    # sd= sess.paradigm['sd']\n",
    "    sd = [post[0],post[0]+5*3600]\n",
    "\n",
    "\n",
    "    maze_ensembles =  NeuronEnsembles(neurons,maze[0],maze[1],bin_size=0.25)\n",
    "    sd_ensembles =  NeuronEnsembles(neurons,sd[0]+3*3600,sd[1],bin_size=0.25)\n",
    "\n",
    "    maze_weights =np.zeros((neurons.n_neurons,maze_ensembles.n_ensembles)) \n",
    "    sd_weights =np.zeros((neurons.n_neurons,sd_ensembles.n_ensembles)) \n",
    "\n",
    "    maze_indx= np.isin(neurons.neuron_ids,maze_ensembles.neurons.neuron_ids)\n",
    "    sd_indx= np.isin(neurons.neuron_ids,sd_ensembles.neurons.neuron_ids)\n",
    "\n",
    "    maze_weights[maze_indx] = maze_ensembles.weights\n",
    "    sd_weights[sd_indx] = sd_ensembles.weights\n",
    "\n",
    "    combined_weights = np.hstack((maze_weights,sd_weights))\n",
    "    l = combined_weights.shape[1]//2\n",
    "    # corr = np.corrcoef(combined_weights.T)[l:,:l]\n",
    "    corr = np.corrcoef(combined_weights.T)[maze_ensembles.n_ensembles:,:maze_ensembles.n_ensembles]\n",
    "\n",
    "\n",
    "    sd_ensembles_corr.append(corr.reshape(-1))\n",
    "\n",
    "nsd_ensembles_corr = []\n",
    "for sess in nsd_sessions:\n",
    "    neurons = sess.neurons.get_neuron_type('pyr')\n",
    "    pre = sess.paradigm['pre']\n",
    "    maze = sess.paradigm['maze']\n",
    "    re_maze= sess.paradigm['re-maze']\n",
    "    post = sess.paradigm['post']\n",
    "    # sd= sess.paradigm['sd']\n",
    "    sd = [post[0],post[0]+5*3600]\n",
    "\n",
    "\n",
    "    maze_ensembles =  NeuronEnsembles(neurons,maze[0],maze[1],bin_size=0.25)\n",
    "    sd_ensembles =  NeuronEnsembles(neurons,sd[0]+3*3600,sd[1],bin_size=0.25)\n",
    "\n",
    "    maze_weights =np.zeros((neurons.n_neurons,maze_ensembles.n_ensembles)) \n",
    "    sd_weights =np.zeros((neurons.n_neurons,sd_ensembles.n_ensembles)) \n",
    "\n",
    "    maze_indx= np.isin(neurons.neuron_ids,maze_ensembles.neurons.neuron_ids)\n",
    "    sd_indx= np.isin(neurons.neuron_ids,sd_ensembles.neurons.neuron_ids)\n",
    "\n",
    "    maze_weights[maze_indx] = maze_ensembles.weights\n",
    "    sd_weights[sd_indx] = sd_ensembles.weights\n",
    "\n",
    "    combined_weights = np.hstack((maze_weights,sd_weights))\n",
    "    l = combined_weights.shape[1]//2\n",
    "    corr = np.corrcoef(combined_weights.T)[maze_ensembles.n_ensembles:,:maze_ensembles.n_ensembles]\n",
    "    \n",
    "    nsd_ensembles_corr.append(corr.reshape(-1))\n",
    "\n",
    "sd_ensembles_corr = np.concatenate(sd_ensembles_corr)\n",
    "nsd_ensembles_corr = np.concatenate(nsd_ensembles_corr)\n"
   ]
  },
  {
   "cell_type": "code",
   "execution_count": null,
   "metadata": {},
   "outputs": [],
   "source": [
    "%matplotlib inline\n",
    "from neuropy.plotting import Fig\n",
    "from neuropy.utils import mathutil\n",
    "\n",
    "_,axes = plt.subplots(1,1)\n",
    "# axes = axes.reshape(-1)\n",
    "# for i,corr in enumerate():\n",
    "#     np.fill_diagonal(corr,0)\n",
    "#     axes[i].pcolormesh(corr,vmax=0.3,vmin=-0.3,cmap='jet')\n",
    "colors = ['r','k']\n",
    "bins = np.arange(-0.3,0.3,0.001)\n",
    "for i,corr_vals in enumerate([sd_ensembles_corr,nsd_ensembles_corr]):\n",
    "\n",
    "    cdf = mathutil.cdf(corr_vals,bins)\n",
    "    axes.plot(bins[:-1],cdf,color = colors[i])\n",
    "    Fig.remove_spines(axes)\n",
    "    Fig.set_spines_width(axes) \n",
    "\n",
    "axes.set_xlabel('Correlation')\n",
    "axes.set_ylabel('CDF')\n",
    "axes.legend(['SD','NSD'])\n",
    "axes.set_title('Correlation of ensembles: MAZE vs ZT(3 to 5)')"
   ]
  },
  {
   "cell_type": "markdown",
   "metadata": {},
   "source": [
    "### Neurons participating in MAZE-enembles, how does their firing rate change during SD"
   ]
  },
  {
   "cell_type": "code",
   "execution_count": null,
   "metadata": {},
   "outputs": [],
   "source": [
    "import matplotlib.pyplot as plt\n",
    "import numpy as np\n",
    "from neuropy import plotting\n",
    "import pandas as pd\n",
    "from scipy import stats\n",
    "from neuropy.analyses import NeuronEnsembles\n",
    "import subjects\n",
    "\n",
    "sessions = (\n",
    "    subjects.sd.ratNday1\n",
    "    + subjects.sd.ratSday3\n",
    "    + subjects.sd.ratUday4\n",
    "\n",
    "    + subjects.nsd.ratNday2\n",
    "    + subjects.nsd.ratSday2\n",
    "    + subjects.nsd.ratUday2\n",
    ")"
   ]
  },
  {
   "cell_type": "code",
   "execution_count": null,
   "metadata": {},
   "outputs": [],
   "source": [
    "for sub,sess in enumerate(sessions):\n",
    "    maze = sess.paradigm['maze'].flatten()\n",
    "    post = sess.paradigm['post'].flatten()\n",
    "    neurons = sess.neurons.get_neuron_type('pyr')\n",
    "    ensembles = NeuronEnsembles(neurons,maze[0],maze[1],bin_size=0.25,frate_thresh=0)\n",
    "    zsc_weights = stats.zscore(ensembles.weights,axis=0)\n",
    "    zsc_thresh= np.where(zsc_weights>2)\n",
    "    "
   ]
  },
  {
   "cell_type": "markdown",
   "metadata": {},
   "source": [
    "### Maze ensembles activity on remaze"
   ]
  },
  {
   "cell_type": "code",
   "execution_count": null,
   "metadata": {},
   "outputs": [],
   "source": [
    "import pandas as pd\n",
    "import numpy as np\n",
    "from tqdm.notebook import tqdm\n",
    "import subjects\n",
    "\n",
    "sessions = subjects.nsd.remaze + subjects.sd.remaze"
   ]
  },
  {
   "cell_type": "code",
   "execution_count": null,
   "metadata": {},
   "outputs": [],
   "source": [
    "from neuropy.analyses import NeuronEnsembles\n",
    "import pingouin as pg\n",
    "from neuropy.utils.neurons_util import calculate_neurons_ccg\n",
    "\n",
    "reactivation_df = []\n",
    "for sub, sess in enumerate(tqdm(sessions)):\n",
    "    pre = sess.paradigm[\"pre\"].flatten()\n",
    "    maze = sess.paradigm[\"maze\"].flatten()\n",
    "    remaze = sess.paradigm[\"re-maze\"].flatten()\n",
    "\n",
    "    neurons = sess.neurons.get_neuron_type(\"pyr\")\n",
    "    wave_similarity = neurons.get_waveform_similarity()\n",
    "    pairs_bool = wave_similarity < 0.8  # only pairs which are least similar\n",
    "\n",
    "    maze_ensembles = NeuronEnsembles(neurons,t_start=maze[0],t_stop=maze[1])\n",
    "    maze_ensembles.calculate_activation(*remaze)\n",
    "    \n",
    "    remaze_activation = np.mean(maze_ensembles.activation)\n",
    "\n",
    "    reactivation_df.append(\n",
    "        pd.DataFrame(\n",
    "            dict(t='remaze',activation=[remaze_activation], grp=sess.tag)\n",
    "        )\n",
    "    )\n",
    "\n",
    "\n",
    "reactivation_df = pd.concat(reactivation_df, ignore_index=True)\n",
    "subjects.GroupData().save(reactivation_df, \"remaze_activation_of_maze\")"
   ]
  },
  {
   "cell_type": "code",
   "execution_count": null,
   "metadata": {},
   "outputs": [],
   "source": [
    "%matplotlib widget\n",
    "import seaborn as sns\n",
    "\n",
    "sns.barplot(data=reactivation_df,x='t',y='activation',hue='grp')"
   ]
  },
  {
   "cell_type": "markdown",
   "metadata": {},
   "source": [
    "### Ensemble similarity between different epochs for remaze sessions\n",
    "- epochs will be pre, maze, Zt0-5, Zt5-9, remaze"
   ]
  },
  {
   "cell_type": "code",
   "execution_count": null,
   "metadata": {},
   "outputs": [],
   "source": [
    "import pandas as pd\n",
    "import numpy as np\n",
    "from tqdm.notebook import tqdm\n",
    "import subjects\n",
    "\n",
    "sessions = subjects.nsd.remaze + subjects.sd.remaze"
   ]
  },
  {
   "cell_type": "code",
   "execution_count": null,
   "metadata": {},
   "outputs": [],
   "source": [
    "from neuropy.analyses import NeuronEnsembles\n",
    "import pingouin as pg\n",
    "from neuropy.utils.neurons_util import calculate_neurons_ccg\n",
    "\n",
    "ensemble_corr_sd, ensemble_corr_nsd = [], []\n",
    "for sub, sess in enumerate(tqdm(sessions)):\n",
    "    pre = sess.paradigm[\"pre\"].flatten()\n",
    "    maze = sess.paradigm[\"maze\"].flatten()\n",
    "    post = sess.paradigm[\"post\"].flatten()\n",
    "    remaze = sess.paradigm[\"re-maze\"].flatten()\n",
    "    zt0to5 = [post[0], post[0] + 5 * 3600]\n",
    "    zt5to8 = [post[0] + 5 * 3600, post[0] + 8 * 3600]\n",
    "\n",
    "    neurons = sess.neurons.get_neuron_type(\"pyr\")\n",
    "    epochs = [pre, maze, zt0to5, zt5to8, remaze]\n",
    "\n",
    "    def _get_stable_neurons():\n",
    "        frate = []\n",
    "        for e in epochs:\n",
    "            frate.append(neurons.time_slice(*e).firing_rate)\n",
    "\n",
    "        frate = (np.asarray(frate).T > 0).sum(axis=1)\n",
    "        return neurons[frate == 5]\n",
    "\n",
    "    stbl_neurons = _get_stable_neurons()\n",
    "    get_ensembles = lambda e: NeuronEnsembles(\n",
    "        stbl_neurons, t_start=e[0], t_stop=e[1]\n",
    "    ).weights\n",
    "\n",
    "    weights = [get_ensembles(_) for _ in epochs]\n",
    "\n",
    "    ensemble_sim = np.zeros((len(epochs), len(epochs)))\n",
    "    for i1, w1 in enumerate(weights):\n",
    "        for i2, w2 in enumerate(weights):\n",
    "            corr = np.corrcoef(np.hstack((w1, w2)).T)\n",
    "            ensemble_sim[i1, i2] = corr[w1.shape[1] :, : w1.shape[1]].mean()\n",
    "    \n",
    "    np.fill_diagonal(ensemble_sim,np.nan)\n",
    "\n",
    "    if sess.tag == \"SD\":\n",
    "        ensemble_corr_sd.append(ensemble_sim)\n",
    "\n",
    "    if sess.tag == \"NSD\":\n",
    "        ensemble_corr_nsd.append(ensemble_sim)\n",
    "\n",
    "epoch_names = ['pre','maze','Zt0-5','Zt5-8','remaze']\n",
    "ensemble_corr = dict(\n",
    "    NSD=np.dstack(ensemble_corr_nsd).mean(axis=-1),\n",
    "    SD=np.dstack(ensemble_corr_sd).mean(axis=-1),\n",
    "    epoch_names = epoch_names,\n",
    ")\n",
    "subjects.GroupData().save(ensemble_corr, \"remaze_ensemble_corr_across_sess\")\n"
   ]
  },
  {
   "cell_type": "code",
   "execution_count": null,
   "metadata": {},
   "outputs": [],
   "source": [
    "%matplotlib widget\n",
    "import matplotlib.pyplot as plt\n",
    "\n",
    "np.fill_diagonal(ensemble_sim,np.nan)\n",
    "plt.imshow(ensemble_sim,cmap='jet')"
   ]
  },
  {
   "cell_type": "markdown",
   "metadata": {},
   "source": [
    "### Ensemble activation between different epochs for remaze sessions\n",
    "- Ensembles are detected in each of the epochs: pre, maze, Zt0-5, Zt5-9, remaze and their mean activation in remaining epochs"
   ]
  },
  {
   "cell_type": "code",
   "execution_count": null,
   "metadata": {},
   "outputs": [],
   "source": [
    "import pandas as pd\n",
    "import numpy as np\n",
    "from tqdm.notebook import tqdm\n",
    "import subjects\n",
    "\n",
    "sessions = subjects.nsd.remaze + subjects.sd.remaze"
   ]
  },
  {
   "cell_type": "code",
   "execution_count": null,
   "metadata": {},
   "outputs": [],
   "source": [
    "from neuropy.analyses import NeuronEnsembles\n",
    "from scipy import stats\n",
    "\n",
    "ensemble_act_sd, ensemble_act_nsd = [], []\n",
    "for sub, sess in enumerate(tqdm(sessions)):\n",
    "    pre = sess.paradigm[\"pre\"].flatten()\n",
    "    maze = sess.paradigm[\"maze\"].flatten()\n",
    "    post = sess.paradigm[\"post\"].flatten()\n",
    "    remaze = sess.paradigm[\"re-maze\"].flatten()\n",
    "    zt0to5 = [post[0], post[0] + 5 * 3600]\n",
    "    zt5to8 = [post[0] + 5 * 3600, post[0] + 8 * 3600]\n",
    "\n",
    "    neurons = sess.neurons.get_neuron_type(\"pyr\")\n",
    "    epochs = [pre, maze, zt0to5, zt5to8, remaze]\n",
    "    \n",
    "    def _get_stable_neurons():\n",
    "        frate = []\n",
    "        for e in epochs:\n",
    "            frate.append(neurons.time_slice(*e).firing_rate)\n",
    "\n",
    "        frate = (np.asarray(frate).T > 0).sum(axis=1)\n",
    "        return neurons[frate == 5]\n",
    "\n",
    "    stbl_neurons = _get_stable_neurons()\n",
    "    get_ensembles = lambda e: NeuronEnsembles(stbl_neurons, t_start=e[0], t_stop=e[1])\n",
    "\n",
    "    ensembles = [get_ensembles(_) for _ in epochs]\n",
    "\n",
    "    ensemble_act = np.zeros((len(epochs), len(epochs)))\n",
    "    for i1,ensemble in enumerate(ensembles):\n",
    "        for i2,epoch in enumerate(epochs):\n",
    "            ensemble.calculate_activation(t_start=epoch[0],t_stop=epoch[1])\n",
    "            zsc_activation = stats.zscore(ensemble.activation,axis=1) \n",
    "            zsc_thresh = np.where(zsc_activation>0,zsc_activation,0)\n",
    "            ensemble_act[i1,i2] = np.mean(zsc_thresh)\n",
    "\n",
    "    np.fill_diagonal(ensemble_act, np.nan)\n",
    "\n",
    "    if sess.tag == \"SD\":\n",
    "        ensemble_act_sd.append(ensemble_act)\n",
    "\n",
    "    if sess.tag == \"NSD\":\n",
    "        ensemble_act_nsd.append(ensemble_act)\n",
    "\n",
    "epoch_names = [\"pre\", \"maze\", \"Zt0-5\", \"Zt5-8\", \"remaze\"]\n",
    "ensemble_act_all = dict(\n",
    "    NSD=np.dstack(ensemble_act_nsd).mean(axis=-1),\n",
    "    SD=np.dstack(ensemble_act_sd).mean(axis=-1),\n",
    "    epoch_names=epoch_names,\n",
    ")\n",
    "subjects.GroupData().save(ensemble_act_all, \"remaze_ensemble_activation_across_sess\")\n"
   ]
  },
  {
   "cell_type": "code",
   "execution_count": null,
   "metadata": {},
   "outputs": [],
   "source": [
    "%matplotlib widget\n",
    "import matplotlib.pyplot as plt\n",
    "\n",
    "plt.plot(a)"
   ]
  },
  {
   "cell_type": "markdown",
   "metadata": {},
   "source": [
    "### Ensemble transition matrix comparison between MAZE and POST-Sleep"
   ]
  },
  {
   "cell_type": "code",
   "execution_count": null,
   "metadata": {},
   "outputs": [],
   "source": [
    "import pandas as pd\n",
    "import numpy as np\n",
    "from tqdm.notebook import tqdm\n",
    "import subjects\n",
    "\n",
    "sessions = subjects.nsd.pf_sess+ subjects.sd.pf_sess"
   ]
  },
  {
   "cell_type": "code",
   "execution_count": null,
   "metadata": {},
   "outputs": [],
   "source": [
    "from neuropy.analyses import NeuronEnsembles\n",
    "from scipy import stats\n",
    "from hmmlearn.hmm import GaussianHMM\n",
    "\n",
    "transmat_sd_maze,transmat_sd_post,transmat_nsd_maze,transmat_nsd_post = [], [],[],[]\n",
    "for sub, sess in enumerate(tqdm(sessions)):\n",
    "    pre = sess.paradigm[\"pre\"].flatten()\n",
    "    maze = sess.paradigm[\"maze\"].flatten()\n",
    "    post = sess.paradigm[\"post\"].flatten()\n",
    "    remaze = sess.paradigm[\"re-maze\"].flatten()\n",
    "    zt0to5 = [post[0], post[0] + 5 * 3600]\n",
    "    zt5to8 = [post[0] + 5 * 3600, post[0] + 8 * 3600]\n",
    "\n",
    "    neurons = sess.neurons.get_neuron_type(\"pyr\")\n",
    "    epochs = [maze, zt0to5]\n",
    "\n",
    "    # def _get_stable_neurons():\n",
    "    #     frate = []\n",
    "    #     for e in epochs:\n",
    "    #         frate.append(neurons.time_slice(*e).firing_rate)\n",
    "\n",
    "    #     frate = (np.asarray(frate).T > 0).sum(axis=1)\n",
    "    #     return neurons[frate == 5]\n",
    "\n",
    "    # stbl_neurons = _get_stable_neurons()\n",
    "    get_ensembles = lambda e: NeuronEnsembles(neurons, t_start=e[0], t_stop=e[1])\n",
    "\n",
    "    maze_ensembles = get_ensembles(maze)\n",
    "    n_ensembles= maze_ensembles.n_ensembles\n",
    "    maze_activation = maze_ensembles.calculate_activation(\n",
    "        t_start=maze[0], t_stop=maze[1]\n",
    "    )[0]\n",
    "    zt0to5_activation = maze_ensembles.calculate_activation(\n",
    "        t_start=zt0to5[0], t_stop=zt0to5[1]\n",
    "    )[0]\n",
    "\n",
    "    en_mat = np.arange(1,n_ensembles+1)[:,np.newaxis]\n",
    "    maze_zsc_activation = stats.zscore(maze_activation,axis=1)\n",
    "    maze_activation_thresh = np.where(maze_zsc_activation>0,1,0)\n",
    "    maze_activation_thresh = maze_activation_thresh*en_mat\n",
    "\n",
    "    zt0to5_zsc_activation = stats.zscore(zt0to5_activation,axis=1)\n",
    "    zt0to5_activation_thresh = np.where(zt0to5_zsc_activation>0,1,0)\n",
    "    zt0to5_activation_thresh =zt0to5_activation_thresh *en_mat \n",
    "\n",
    "    maze_model = GaussianHMM(n_components=n_ensembles,n_iter=100)\n",
    "    maze_fit = maze_model.fit(maze_activation_thresh.T)\n",
    "    sort_ind1 = np.argsort(np.sum(maze_model.means_,axis=1))\n",
    "    maze_transmat = maze_model.transmat_[sort_ind1,:][:,sort_ind1]\n",
    "\n",
    "    zt0to5_model = GaussianHMM(n_components=n_ensembles,n_iter=100)\n",
    "    zt0to5_fit = zt0to5_model.fit(zt0to5_activation_thresh.T)\n",
    "    sort_ind2 = np.argsort(np.sum(zt0to5_model.means_,axis=1))\n",
    "    zt0to5_transmat = zt0to5_model.transmat_[sort_ind2,:][:,sort_ind2]\n",
    "\n",
    "    if sess.tag =='NSD':\n",
    "        transmat_nsd_maze.append(maze_transmat) \n",
    "        transmat_nsd_post.append(zt0to5_transmat) \n",
    "\n",
    "    if sess.tag =='SD':\n",
    "        transmat_sd_maze.append(maze_transmat) \n",
    "        transmat_sd_post.append(zt0to5_transmat) "
   ]
  },
  {
   "cell_type": "code",
   "execution_count": null,
   "metadata": {},
   "outputs": [],
   "source": [
    "%matplotlib widget\n",
    "import matplotlib.pyplot as plt\n",
    "\n",
    "_,axs = plt.subplots(5,2)\n",
    "\n",
    "for i,(m,p) in enumerate(zip(transmat_nsd_maze,transmat_nsd_post)):\n",
    "    axs[i,0].pcolormesh(m,cmap='binary')\n",
    "    axs[i,1].pcolormesh(p,cmap='binary')"
   ]
  },
  {
   "cell_type": "markdown",
   "metadata": {},
   "source": [
    "### Ensemble CCG order compare between MAZE and POST-Sleep\n",
    "- To assess if the ensembles themselves happen in a specific order and that order is preserved in the subsequent offline period.\n",
    "- **Results**: did not find evidence of a strong temporal order at finer timescales (~10 ms), however there may be something at larger timescales(~250 ms binsize)."
   ]
  },
  {
   "cell_type": "code",
   "execution_count": null,
   "metadata": {},
   "outputs": [],
   "source": [
    "import pandas as pd\n",
    "import numpy as np\n",
    "from tqdm.notebook import tqdm\n",
    "import subjects\n",
    "\n",
    "sessions = subjects.nsd.pf_sess+ subjects.sd.pf_sess"
   ]
  },
  {
   "cell_type": "code",
   "execution_count": null,
   "metadata": {},
   "outputs": [],
   "source": [
    "from neuropy.analyses import NeuronEnsembles\n",
    "from scipy import stats\n",
    "from neuropy.utils.ccg import correlograms\n",
    "\n",
    "ccg_sd_maze,ccg_sd_post,ccg_nsd_maze,ccg_nsd_post = [], [],[],[]\n",
    "for sub, sess in enumerate(tqdm(sessions)):\n",
    "    pre = sess.paradigm[\"pre\"].flatten()\n",
    "    maze = sess.paradigm[\"maze\"].flatten()\n",
    "    post = sess.paradigm[\"post\"].flatten()\n",
    "    remaze = sess.paradigm[\"re-maze\"].flatten()\n",
    "    zt0to5 = [post[0], post[0] + 5 * 3600]\n",
    "    zt5to8 = [post[0] + 5 * 3600, post[0] + 8 * 3600]\n",
    "\n",
    "    neurons = sess.neurons.get_neuron_type(\"pyr\")\n",
    "    epochs = [maze, zt0to5]\n",
    "\n",
    "    get_ensembles = lambda e: NeuronEnsembles(neurons, t_start=e[0], t_stop=e[1])\n",
    "\n",
    "    maze_ensembles = get_ensembles(maze)\n",
    "    n_ensembles= maze_ensembles.n_ensembles\n",
    "    maze_activation,maze_t = maze_ensembles.calculate_activation(\n",
    "        t_start=maze[0], t_stop=maze[1],bin_size=0.01\n",
    "    )\n",
    "    zt0to5_activation,zt0to5_t = maze_ensembles.calculate_activation(\n",
    "        t_start=zt0to5[0], t_stop=zt0to5[1],bin_size=0.01\n",
    "    )\n",
    "\n",
    "    def get_ccg(time,act_mat):\n",
    "        act_mat = stats.zscore(act_mat,axis=1)\n",
    "        t,ids=[],[]\n",
    "        for i,act in enumerate(act_mat):\n",
    "            indices = np.where(act>1)[0]\n",
    "            t.append(time[indices])\n",
    "            ids.append(i*np.ones_like(indices))\n",
    "\n",
    "        sort_ind = np.argsort(np.concatenate(t))\n",
    "        t = np.concatenate(t)[sort_ind]\n",
    "        ids = (np.concatenate(ids)[sort_ind]).astype('int')\n",
    "\n",
    "        ccgs = correlograms(t,ids,sample_rate=100,bin_size=0.01,window_size=1)\n",
    "        req_indx = np.tril_indices(act_mat.shape[0],k=-1)\n",
    "        return stats.zscore(ccgs[req_indx[0],req_indx[1],:],axis=1)\n",
    "\n",
    "    maze_ccg = get_ccg(maze_t,maze_activation)\n",
    "    zt0to5_ccg = get_ccg(zt0to5_t,zt0to5_activation)\n",
    "\n",
    "    sort_ind = np.argsort(np.argmax(maze_ccg,axis=1))\n",
    "    maze_ccg = maze_ccg[sort_ind,:]\n",
    "    zt0to5_ccg = zt0to5_ccg[sort_ind,:]\n",
    "\n",
    "\n",
    "    if sess.tag =='NSD':\n",
    "        ccg_nsd_maze.append(maze_ccg) \n",
    "        ccg_nsd_post.append(zt0to5_ccg) \n",
    "\n",
    "    if sess.tag =='SD':\n",
    "        ccg_sd_maze.append(maze_ccg) \n",
    "        ccg_sd_post.append(zt0to5_ccg) \n"
   ]
  },
  {
   "cell_type": "code",
   "execution_count": null,
   "metadata": {},
   "outputs": [],
   "source": [
    "%matplotlib widget\n",
    "import matplotlib.pyplot as plt\n",
    "\n",
    "_,axs = plt.subplots(5,2)\n",
    "\n",
    "for i,(m,p) in enumerate(zip(ccg_nsd_maze,ccg_nsd_post)):\n",
    "    axs[i,0].pcolormesh(m,cmap='binary')\n",
    "    axs[i,1].pcolormesh(p,cmap='binary')"
   ]
  }
 ],
 "metadata": {
  "interpreter": {
   "hash": "cce1618081139d19eb1ee8d40815d94a2de4f62e1efb20d9406ddb60628c36ae"
  },
  "kernelspec": {
   "display_name": "Python 3.9.7 64-bit ('data_analysis': conda)",
   "name": "python3"
  },
  "language_info": {
   "codemirror_mode": {
    "name": "ipython",
    "version": 3
   },
   "file_extension": ".py",
   "mimetype": "text/x-python",
   "name": "python",
   "nbconvert_exporter": "python",
   "pygments_lexer": "ipython3",
   "version": "3.10.4"
  },
  "orig_nbformat": 4
 },
 "nbformat": 4,
 "nbformat_minor": 2
}
