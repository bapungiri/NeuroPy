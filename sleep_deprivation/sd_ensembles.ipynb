{
 "cells": [
  {
   "cell_type": "markdown",
   "metadata": {},
   "source": [
    "### Plotting activation of ensembles in an example session"
   ]
  },
  {
   "cell_type": "code",
   "execution_count": null,
   "metadata": {},
   "outputs": [],
   "source": [
    "import matplotlib.pyplot as plt\n",
    "import numpy as np\n",
    "from neuropy.analyses import NeuronEnsembles\n",
    "import subjects\n",
    "\n",
    "sess = subjects.sd.ratUday4[0]"
   ]
  },
  {
   "cell_type": "code",
   "execution_count": null,
   "metadata": {},
   "outputs": [],
   "source": [
    "neurons = sess.neurons.get_neuron_type('pyr')\n",
    "pre = sess.paradigm['pre']\n",
    "maze = sess.paradigm['maze']\n",
    "re_maze= sess.paradigm['re-maze']\n",
    "post = sess.paradigm['post']\n",
    "\n",
    "maze_ensembles =  NeuronEnsembles(neurons,maze[0],maze[1],bin_size=0.25)\n",
    "maze_ensembles.calculate_activation(pre[0],pre[1])\n",
    "mean_pre_activation = np.mean(maze_ensembles.activation,axis=1,keepdims=True)\n",
    "maze_ensembles.calculate_activation(post[0],re_maze[1])"
   ]
  },
  {
   "cell_type": "code",
   "execution_count": null,
   "metadata": {},
   "outputs": [],
   "source": [
    "%matplotlib widget\n",
    "\n",
    "maze_ensembles.plot_activation()\n",
    "# plt.plot(np.mean(maze_ensembles.activation-mean_pre_activation,axis=0))"
   ]
  },
  {
   "cell_type": "code",
   "execution_count": null,
   "metadata": {},
   "outputs": [],
   "source": [
    "%matplotlib widget\n",
    "from scipy import stats\n",
    "a = maze_ensembles.weights \n",
    "a_zsc = stats.zscore(a,axis=0) \n",
    "a_sig_logical = np.where(a_zsc>1.5,1,0)\n",
    "b = np.sort(a_sig_logical,axis=0)\n",
    "# maze_ensembles.plot_ensembles()\n",
    "c = np.lexsort(a_sig_logical.T)\n",
    "a_new = a[c,:]\n",
    "plt.pcolormesh(a_new)"
   ]
  },
  {
   "cell_type": "code",
   "execution_count": null,
   "metadata": {},
   "outputs": [],
   "source": [
    "np.lexsort(a_sig_logical.T)"
   ]
  },
  {
   "cell_type": "markdown",
   "metadata": {},
   "source": [
    "### Comparing MAZE ensembles and last 2 hours of SD\n",
    "- Found no difference between SD and NSD. Probably it makes sense because ICA ensembles will across different periods involves the same set of neurons and because it forces each ensemble to be independent of each other, naturally the correlations will have similar distributions. Nothing interesting here. "
   ]
  },
  {
   "cell_type": "code",
   "execution_count": 1,
   "metadata": {},
   "outputs": [],
   "source": [
    "import matplotlib.pyplot as plt\n",
    "import numpy as np\n",
    "from neuropy.analyses import NeuronEnsembles\n",
    "import subjects\n",
    "\n",
    "sd_sessions = subjects.sd.ratNday1+subjects.sd.ratSday3 + subjects.sd.ratUday4\n",
    "nsd_sessions = subjects.nsd.ratNday2+subjects.nsd.ratSday2 + subjects.nsd.ratUday2"
   ]
  },
  {
   "cell_type": "code",
   "execution_count": 2,
   "metadata": {},
   "outputs": [
    {
     "name": "stdout",
     "output_type": "stream",
     "text": [
      "Based on frate_thresh, excluded neuron_ids: [56 58 62 63 64 65 66 67 68 70]\n",
      "Based on frate_thresh, excluded neuron_ids: [146]\n",
      "Based on frate_thresh, excluded neuron_ids: [84]\n",
      "Based on frate_thresh, excluded neuron_ids: [ 50  56  57 224]\n",
      "Based on frate_thresh, excluded neuron_ids: [50 57]\n",
      "Based on frate_thresh, excluded neuron_ids: [137 148]\n",
      "Based on frate_thresh, excluded neuron_ids: [17]\n",
      "Based on frate_thresh, excluded neuron_ids: [100]\n",
      "Based on frate_thresh, excluded neuron_ids: [ 80 114 142 282]\n",
      "Based on frate_thresh, excluded neuron_ids: [114 142 282]\n"
     ]
    }
   ],
   "source": [
    "sd_ensembles_corr = []\n",
    "for sess in sd_sessions:\n",
    "    neurons = sess.neurons.get_neuron_type('pyr')\n",
    "    pre = sess.paradigm['pre']\n",
    "    maze = sess.paradigm['maze']\n",
    "    re_maze= sess.paradigm['re-maze']\n",
    "    post = sess.paradigm['post']\n",
    "    # sd= sess.paradigm['sd']\n",
    "    sd = [post[0],post[0]+5*3600]\n",
    "\n",
    "\n",
    "    maze_ensembles =  NeuronEnsembles(neurons,maze[0],maze[1],bin_size=0.25)\n",
    "    sd_ensembles =  NeuronEnsembles(neurons,sd[0]+3*3600,sd[1],bin_size=0.25)\n",
    "\n",
    "    maze_weights =np.zeros((neurons.n_neurons,maze_ensembles.n_ensembles)) \n",
    "    sd_weights =np.zeros((neurons.n_neurons,sd_ensembles.n_ensembles)) \n",
    "\n",
    "    maze_indx= np.isin(neurons.neuron_ids,maze_ensembles.neurons.neuron_ids)\n",
    "    sd_indx= np.isin(neurons.neuron_ids,sd_ensembles.neurons.neuron_ids)\n",
    "\n",
    "    maze_weights[maze_indx] = maze_ensembles.weights\n",
    "    sd_weights[sd_indx] = sd_ensembles.weights\n",
    "\n",
    "    combined_weights = np.hstack((maze_weights,sd_weights))\n",
    "    l = combined_weights.shape[1]//2\n",
    "    # corr = np.corrcoef(combined_weights.T)[l:,:l]\n",
    "    corr = np.corrcoef(combined_weights.T)[maze_ensembles.n_ensembles:,:maze_ensembles.n_ensembles]\n",
    "\n",
    "\n",
    "    sd_ensembles_corr.append(corr.reshape(-1))\n",
    "\n",
    "nsd_ensembles_corr = []\n",
    "for sess in nsd_sessions:\n",
    "    neurons = sess.neurons.get_neuron_type('pyr')\n",
    "    pre = sess.paradigm['pre']\n",
    "    maze = sess.paradigm['maze']\n",
    "    re_maze= sess.paradigm['re-maze']\n",
    "    post = sess.paradigm['post']\n",
    "    # sd= sess.paradigm['sd']\n",
    "    sd = [post[0],post[0]+5*3600]\n",
    "\n",
    "\n",
    "    maze_ensembles =  NeuronEnsembles(neurons,maze[0],maze[1],bin_size=0.25)\n",
    "    sd_ensembles =  NeuronEnsembles(neurons,sd[0]+3*3600,sd[1],bin_size=0.25)\n",
    "\n",
    "    maze_weights =np.zeros((neurons.n_neurons,maze_ensembles.n_ensembles)) \n",
    "    sd_weights =np.zeros((neurons.n_neurons,sd_ensembles.n_ensembles)) \n",
    "\n",
    "    maze_indx= np.isin(neurons.neuron_ids,maze_ensembles.neurons.neuron_ids)\n",
    "    sd_indx= np.isin(neurons.neuron_ids,sd_ensembles.neurons.neuron_ids)\n",
    "\n",
    "    maze_weights[maze_indx] = maze_ensembles.weights\n",
    "    sd_weights[sd_indx] = sd_ensembles.weights\n",
    "\n",
    "    combined_weights = np.hstack((maze_weights,sd_weights))\n",
    "    l = combined_weights.shape[1]//2\n",
    "    corr = np.corrcoef(combined_weights.T)[maze_ensembles.n_ensembles:,:maze_ensembles.n_ensembles]\n",
    "    \n",
    "    nsd_ensembles_corr.append(corr.reshape(-1))\n",
    "\n",
    "sd_ensembles_corr = np.concatenate(sd_ensembles_corr)\n",
    "nsd_ensembles_corr = np.concatenate(nsd_ensembles_corr)"
   ]
  },
  {
   "cell_type": "code",
   "execution_count": 9,
   "metadata": {},
   "outputs": [
    {
     "data": {
      "text/plain": [
       "Text(0.5, 1.0, 'Correlation of ensembles: MAZE vs ZT(3 to 5)')"
      ]
     },
     "execution_count": 9,
     "metadata": {},
     "output_type": "execute_result"
    },
    {
     "data": {
      "image/png": "[encoded data removed]",
      "text/plain": [
       "<Figure size 432x288 with 1 Axes>"
      ]
     },
     "metadata": {
      "needs_background": "light"
     },
     "output_type": "display_data"
    }
   ],
   "source": [
    "%matplotlib inline\n",
    "from neuropy.plotting import Fig\n",
    "from neuropy.utils import mathutil\n",
    "\n",
    "_,axes = plt.subplots(1,1)\n",
    "# axes = axes.reshape(-1)\n",
    "# for i,corr in enumerate():\n",
    "#     np.fill_diagonal(corr,0)\n",
    "#     axes[i].pcolormesh(corr,vmax=0.3,vmin=-0.3,cmap='jet')\n",
    "colors = ['r','k']\n",
    "bins = np.arange(-0.3,0.3,0.001)\n",
    "for i,corr_vals in enumerate([sd_ensembles_corr,nsd_ensembles_corr]):\n",
    "\n",
    "    cdf = mathutil.cdf(corr_vals,bins)\n",
    "    axes.plot(bins[:-1],cdf,color = colors[i])\n",
    "    Fig.remove_spines(axes)\n",
    "    Fig.set_spines_width(axes) \n",
    "\n",
    "axes.set_xlabel('Correlation')\n",
    "axes.set_ylabel('CDF')\n",
    "axes.legend(['SD','NSD'])\n",
    "axes.set_title('Correlation of ensembles: MAZE vs ZT(3 to 5)')"
   ]
  },
  {
   "cell_type": "markdown",
   "metadata": {},
   "source": [
    "### Neurons participating in MAZE-enembles, how does their firing rate change during SD"
   ]
  },
  {
   "cell_type": "code",
   "execution_count": 1,
   "metadata": {},
   "outputs": [],
   "source": [
    "import matplotlib.pyplot as plt\n",
    "import numpy as np\n",
    "from neuropy import plotting\n",
    "import pandas as pd\n",
    "from scipy import stats\n",
    "from neuropy.analyses import NeuronEnsembles\n",
    "import subjects\n",
    "\n",
    "sessions = (\n",
    "    subjects.sd.ratNday1\n",
    "    + subjects.sd.ratSday3\n",
    "    + subjects.sd.ratUday4\n",
    "\n",
    "    + subjects.nsd.ratNday2\n",
    "    + subjects.nsd.ratSday2\n",
    "    + subjects.nsd.ratUday2\n",
    ")"
   ]
  },
  {
   "cell_type": "code",
   "execution_count": 19,
   "metadata": {},
   "outputs": [
    {
     "name": "stdout",
     "output_type": "stream",
     "text": [
      "Based on frate_thresh, excluded neuron_ids: [56 58 62 63 64 65 66 67 68 70]\n",
      "Based on frate_thresh, excluded neuron_ids: [84]\n",
      "Based on frate_thresh, excluded neuron_ids: [ 50  56  57 224]\n",
      "Based on frate_thresh, excluded neuron_ids: [137 148]\n",
      "Based on frate_thresh, excluded neuron_ids: [17]\n",
      "Based on frate_thresh, excluded neuron_ids: [ 80 114 142 282]\n"
     ]
    }
   ],
   "source": [
    "for sub,sess in enumerate(sessions):\n",
    "    maze = sess.paradigm['maze'].flatten()\n",
    "    post = sess.paradigm['post'].flatten()\n",
    "    neurons = sess.neurons.get_neuron_type('pyr')\n",
    "    ensembles = NeuronEnsembles(neurons,maze[0],maze[1],bin_size=0.25,frate_thresh=0)\n",
    "    zsc_weights = stats.zscore(ensembles.weights,axis=0)\n",
    "    zsc_thresh= np.where(zsc_weights>2)\n",
    "    "
   ]
  }
 ],
 "metadata": {
  "interpreter": {
   "hash": "cce1618081139d19eb1ee8d40815d94a2de4f62e1efb20d9406ddb60628c36ae"
  },
  "kernelspec": {
   "display_name": "Python 3.9.7 64-bit ('data_analysis': conda)",
   "name": "python3"
  },
  "language_info": {
   "codemirror_mode": {
    "name": "ipython",
    "version": 3
   },
   "file_extension": ".py",
   "mimetype": "text/x-python",
   "name": "python",
   "nbconvert_exporter": "python",
   "pygments_lexer": "ipython3",
   "version": "3.9.7"
  },
  "orig_nbformat": 4
 },
 "nbformat": 4,
 "nbformat_minor": 2
}
