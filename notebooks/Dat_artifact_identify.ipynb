{
 "cells": [
  {
   "cell_type": "markdown",
   "id": "bc0ab306",
   "metadata": {},
   "source": [
    "This notebook provides code snippets to identify and remove disconnect (and potentially motion) related artifacts in your recordings so that they can be ignored during post-processing."
   ]
  },
  {
   "cell_type": "code",
   "execution_count": 1,
   "id": "1c62d5e2",
   "metadata": {
    "scrolled": true
   },
   "outputs": [],
   "source": [
    "# Import all the functions you need\n",
    "%load_ext autoreload\n",
    "%autoreload 2\n",
    "\n",
    "import numpy as np\n",
    "import matplotlib.pyplot as plt\n",
    "import seaborn as sns\n",
    "import pandas as pd\n",
    "import sys\n",
    "from pathlib import Path\n",
    "\n",
    "# Comment here to add in for either mac or linux computer\n",
    "# sys.path.extend(['/Users/nkinsky/Documents/UM/GitHub/NeuroPy'])  # For mac laptop\n",
    "sys.path.extend(['/data/GitHub/NeuroPy'])  # for linux\n",
    "\n",
    "from neuropy import core\n",
    "from neuropy.io import (optitrackio,\n",
    "                        dlcio,\n",
    "                        )\n",
    "from neuropy.io.neuroscopeio import NeuroscopeIO\n",
    "from neuropy.io.binarysignalio import BinarysignalIO \n",
    "from neuropy.io.miniscopeio import MiniscopeIO\n",
    "\n",
    "plt.rcParams['pdf.fonttype'] = 42\n"
   ]
  },
  {
   "cell_type": "code",
   "execution_count": 4,
   "id": "d4a72eaf",
   "metadata": {},
   "outputs": [],
   "source": [
    "# Define a class for a typical recording or set of recordings\n",
    "class ProcessData:\n",
    "    def __init__(self, basepath):\n",
    "        basepath = Path(basepath)\n",
    "        self.basepath = basepath\n",
    "        xml_files = sorted(basepath.glob(\"*.xml\"))\n",
    "        assert len(xml_files) == 1, \"Found more than one .xml file\"\n",
    "        \n",
    "        fp = xml_files[0].with_suffix(\"\")\n",
    "        self.filePrefix = fp\n",
    "        \n",
    "        self.recinfo = NeuroscopeIO(xml_files[0])\n",
    "        eegfiles = sorted(basepath.glob('*.eeg'))\n",
    "        assert len(eegfiles) == 1, \"Fewer/more than one .eeg file detected\"\n",
    "        self.eegfile = BinarysignalIO(eegfiles[0], n_channels=self.recinfo.n_channels,\n",
    "                                     sampling_rate=self.recinfo.eeg_sampling_rate,\n",
    "                                     )\n",
    "        try:\n",
    "            self.datfile = BinarysignalIO(eegfiles[0].with_suffix('.dat'),\n",
    "                                         n_channels=self.recinfo.n_channels,\n",
    "                                         sampling_rate=self.recinfo.dat_sampling_rate,\n",
    "                                         )\n",
    "        except FileNotFoundError:\n",
    "            print('No dat file found, not loading')\n",
    "                \n",
    "        \n",
    "    def __repr__(self) -> str:\n",
    "        return f\"{self.__class__.__name__}({self.recinfo.source_file.name})\"\n",
    "    \n",
    "def Wedge_ani():\n",
    "    basepath = '/data3/Anisomycin/Recording_Rats/Wedge/2022_12_13_anisomycin50mg/' # for linux desktop\n",
    "    return ProcessData(basepath)"
   ]
  },
  {
   "cell_type": "code",
   "execution_count": 23,
   "id": "258b9191",
   "metadata": {
    "scrolled": true
   },
   "outputs": [
    {
     "name": "stdout",
     "output_type": "stream",
     "text": [
      "filename: /data3/Anisomycin/Recording_Rats/Wedge/2022_12_13_anisomycin50mg/Wedge_ani1.xml \n",
      "# channels: 35\n",
      "sampling rate: 30000\n",
      "lfp Srate (downsampled): 1250\n",
      "\n"
     ]
    }
   ],
   "source": [
    "sess = Wedge_ani()\n",
    "print(sess.recinfo)"
   ]
  },
  {
   "cell_type": "code",
   "execution_count": 24,
   "id": "80fb1e0f",
   "metadata": {},
   "outputs": [
    {
     "name": "stdout",
     "output_type": "stream",
     "text": [
      "duration: 18406.83 seconds \n",
      "duration: 5.11 hours \n",
      "\n"
     ]
    }
   ],
   "source": [
    "print(sess.eegfile)"
   ]
  },
  {
   "cell_type": "markdown",
   "id": "738c2a76",
   "metadata": {},
   "source": [
    "# Preprocess Ephys data\n",
    "Identify artifacts:  \n",
    "- disconnects  \n",
    "- filtering  \n",
    "  \n",
    "Send to event files to check in Neuroscope  \n",
    "Write `dead_times.txt` file for spyking-circus and `artifacts.npy` file for my own analysis."
   ]
  },
  {
   "cell_type": "markdown",
   "id": "28508b7a",
   "metadata": {},
   "source": [
    "### Identify disconnect and motion artifacts"
   ]
  },
  {
   "cell_type": "code",
   "execution_count": 35,
   "id": "e339bfda",
   "metadata": {
    "scrolled": true
   },
   "outputs": [],
   "source": [
    "from neuropy.analyses.artifact import detect_artifact_epochs\n",
    "signal = sess.eegfile.get_signal()\n",
    "art_epochs = detect_artifact_epochs(signal, thresh=7, \n",
    "                                    edge_cutoff=4, merge=4)\n",
    "\n",
    "# art_epochs.source_file = sess.filePrefix.with_suffix(\".artifact.npy\")\n",
    "sess.recinfo.write_epochs(epochs=art_epochs, ext='art')"
   ]
  },
  {
   "cell_type": "code",
   "execution_count": 36,
   "id": "3e399530",
   "metadata": {},
   "outputs": [
    {
     "name": "stdout",
     "output_type": "stream",
     "text": [
      "109.73519999998652\n"
     ]
    },
    {
     "data": {
      "text/html": [
       "<div>\n",
       "<style scoped>\n",
       "    .dataframe tbody tr th:only-of-type {\n",
       "        vertical-align: middle;\n",
       "    }\n",
       "\n",
       "    .dataframe tbody tr th {\n",
       "        vertical-align: top;\n",
       "    }\n",
       "\n",
       "    .dataframe thead th {\n",
       "        text-align: right;\n",
       "    }\n",
       "</style>\n",
       "<table border=\"1\" class=\"dataframe\">\n",
       "  <thead>\n",
       "    <tr style=\"text-align: right;\">\n",
       "      <th></th>\n",
       "      <th>start</th>\n",
       "      <th>stop</th>\n",
       "      <th>label</th>\n",
       "      <th>duration</th>\n",
       "    </tr>\n",
       "  </thead>\n",
       "  <tbody>\n",
       "    <tr>\n",
       "      <th>5</th>\n",
       "      <td>1017.7720</td>\n",
       "      <td>1017.7808</td>\n",
       "      <td></td>\n",
       "      <td>0.0088</td>\n",
       "    </tr>\n",
       "    <tr>\n",
       "      <th>74</th>\n",
       "      <td>12951.8824</td>\n",
       "      <td>12951.9016</td>\n",
       "      <td></td>\n",
       "      <td>0.0192</td>\n",
       "    </tr>\n",
       "    <tr>\n",
       "      <th>6</th>\n",
       "      <td>1030.3752</td>\n",
       "      <td>1030.3944</td>\n",
       "      <td></td>\n",
       "      <td>0.0192</td>\n",
       "    </tr>\n",
       "    <tr>\n",
       "      <th>7</th>\n",
       "      <td>2863.8328</td>\n",
       "      <td>2863.8544</td>\n",
       "      <td></td>\n",
       "      <td>0.0216</td>\n",
       "    </tr>\n",
       "    <tr>\n",
       "      <th>66</th>\n",
       "      <td>10907.5768</td>\n",
       "      <td>10907.6048</td>\n",
       "      <td></td>\n",
       "      <td>0.0280</td>\n",
       "    </tr>\n",
       "    <tr>\n",
       "      <th>...</th>\n",
       "      <td>...</td>\n",
       "      <td>...</td>\n",
       "      <td>...</td>\n",
       "      <td>...</td>\n",
       "    </tr>\n",
       "    <tr>\n",
       "      <th>79</th>\n",
       "      <td>13690.0000</td>\n",
       "      <td>13695.9152</td>\n",
       "      <td></td>\n",
       "      <td>5.9152</td>\n",
       "    </tr>\n",
       "    <tr>\n",
       "      <th>85</th>\n",
       "      <td>14802.9776</td>\n",
       "      <td>14809.1096</td>\n",
       "      <td></td>\n",
       "      <td>6.1320</td>\n",
       "    </tr>\n",
       "    <tr>\n",
       "      <th>54</th>\n",
       "      <td>7177.3376</td>\n",
       "      <td>7186.8408</td>\n",
       "      <td></td>\n",
       "      <td>9.5032</td>\n",
       "    </tr>\n",
       "    <tr>\n",
       "      <th>87</th>\n",
       "      <td>14836.6840</td>\n",
       "      <td>14852.5656</td>\n",
       "      <td></td>\n",
       "      <td>15.8816</td>\n",
       "    </tr>\n",
       "    <tr>\n",
       "      <th>86</th>\n",
       "      <td>14813.9824</td>\n",
       "      <td>14831.5080</td>\n",
       "      <td></td>\n",
       "      <td>17.5256</td>\n",
       "    </tr>\n",
       "  </tbody>\n",
       "</table>\n",
       "<p>101 rows × 4 columns</p>\n",
       "</div>"
      ],
      "text/plain": [
       "         start        stop label  duration\n",
       "5    1017.7720   1017.7808          0.0088\n",
       "74  12951.8824  12951.9016          0.0192\n",
       "6    1030.3752   1030.3944          0.0192\n",
       "7    2863.8328   2863.8544          0.0216\n",
       "66  10907.5768  10907.6048          0.0280\n",
       "..         ...         ...   ...       ...\n",
       "79  13690.0000  13695.9152          5.9152\n",
       "85  14802.9776  14809.1096          6.1320\n",
       "54   7177.3376   7186.8408          9.5032\n",
       "87  14836.6840  14852.5656         15.8816\n",
       "86  14813.9824  14831.5080         17.5256\n",
       "\n",
       "[101 rows x 4 columns]"
      ]
     },
     "execution_count": 36,
     "metadata": {},
     "output_type": "execute_result"
    }
   ],
   "source": [
    "df = art_epochs.to_dataframe()\n",
    "print(df.duration.sum())\n",
    "df.sort_values(by=['duration'])"
   ]
  },
  {
   "cell_type": "code",
   "execution_count": 33,
   "id": "be5847cd",
   "metadata": {},
   "outputs": [],
   "source": [
    "# make easy to track in neuroscope\n",
    "df['start_min'] = np.floor(df.start/60)\n",
    "df['start_sec'] = (df.start/60 - df['start_min'])*60\n",
    "df['stop_min'] = np.floor(df.stop/60)\n",
    "df['stop_sec'] = (df.stop/60 - df['stop_min'])*60"
   ]
  },
  {
   "cell_type": "code",
   "execution_count": 37,
   "id": "08e142f3",
   "metadata": {},
   "outputs": [],
   "source": [
    "def add_epoch_buffer(epoch_df: pd.DataFrame, buffer_sec: float or int or tuple or list):\n",
    "    \"\"\"Extend each epoch by buffer_sec before/after start/stop of each epoch\"\"\"\n",
    "    if type(buffer_sec) in [int, float]:\n",
    "        buffer_sec = (buffer_sec, buffer_sec)\n",
    "    else:\n",
    "        assert len(buffer_sec) == 2\n",
    "        \n",
    "    epoch_df['start'] -= buffer_sec[0]\n",
    "    epoch_df['stop'] += buffer_sec[1]"
   ]
  },
  {
   "cell_type": "code",
   "execution_count": 38,
   "id": "f0affa6b",
   "metadata": {},
   "outputs": [
    {
     "data": {
      "text/html": [
       "<div>\n",
       "<style scoped>\n",
       "    .dataframe tbody tr th:only-of-type {\n",
       "        vertical-align: middle;\n",
       "    }\n",
       "\n",
       "    .dataframe tbody tr th {\n",
       "        vertical-align: top;\n",
       "    }\n",
       "\n",
       "    .dataframe thead th {\n",
       "        text-align: right;\n",
       "    }\n",
       "</style>\n",
       "<table border=\"1\" class=\"dataframe\">\n",
       "  <thead>\n",
       "    <tr style=\"text-align: right;\">\n",
       "      <th></th>\n",
       "      <th>start</th>\n",
       "      <th>stop</th>\n",
       "      <th>label</th>\n",
       "    </tr>\n",
       "  </thead>\n",
       "  <tbody>\n",
       "    <tr>\n",
       "      <th>0</th>\n",
       "      <td>20.0664</td>\n",
       "      <td>21.0344</td>\n",
       "      <td></td>\n",
       "    </tr>\n",
       "    <tr>\n",
       "      <th>1</th>\n",
       "      <td>30.0928</td>\n",
       "      <td>30.9800</td>\n",
       "      <td></td>\n",
       "    </tr>\n",
       "    <tr>\n",
       "      <th>2</th>\n",
       "      <td>97.5776</td>\n",
       "      <td>100.8160</td>\n",
       "      <td></td>\n",
       "    </tr>\n",
       "    <tr>\n",
       "      <th>3</th>\n",
       "      <td>193.6952</td>\n",
       "      <td>194.7064</td>\n",
       "      <td></td>\n",
       "    </tr>\n",
       "    <tr>\n",
       "      <th>4</th>\n",
       "      <td>715.9752</td>\n",
       "      <td>716.9192</td>\n",
       "      <td></td>\n",
       "    </tr>\n",
       "    <tr>\n",
       "      <th>...</th>\n",
       "      <td>...</td>\n",
       "      <td>...</td>\n",
       "      <td>...</td>\n",
       "    </tr>\n",
       "    <tr>\n",
       "      <th>96</th>\n",
       "      <td>17962.9080</td>\n",
       "      <td>17963.8952</td>\n",
       "      <td></td>\n",
       "    </tr>\n",
       "    <tr>\n",
       "      <th>97</th>\n",
       "      <td>17968.3616</td>\n",
       "      <td>17971.7952</td>\n",
       "      <td></td>\n",
       "    </tr>\n",
       "    <tr>\n",
       "      <th>98</th>\n",
       "      <td>18038.2016</td>\n",
       "      <td>18039.2040</td>\n",
       "      <td></td>\n",
       "    </tr>\n",
       "    <tr>\n",
       "      <th>99</th>\n",
       "      <td>18076.4520</td>\n",
       "      <td>18077.4552</td>\n",
       "      <td></td>\n",
       "    </tr>\n",
       "    <tr>\n",
       "      <th>100</th>\n",
       "      <td>18085.0608</td>\n",
       "      <td>18085.9504</td>\n",
       "      <td></td>\n",
       "    </tr>\n",
       "  </tbody>\n",
       "</table>\n",
       "<p>101 rows × 3 columns</p>\n",
       "</div>"
      ],
      "text/plain": [
       "          start        stop label\n",
       "0       20.0664     21.0344      \n",
       "1       30.0928     30.9800      \n",
       "2       97.5776    100.8160      \n",
       "3      193.6952    194.7064      \n",
       "4      715.9752    716.9192      \n",
       "..          ...         ...   ...\n",
       "96   17962.9080  17963.8952      \n",
       "97   17968.3616  17971.7952      \n",
       "98   18038.2016  18039.2040      \n",
       "99   18076.4520  18077.4552      \n",
       "100  18085.0608  18085.9504      \n",
       "\n",
       "[101 rows x 3 columns]"
      ]
     },
     "execution_count": 38,
     "metadata": {},
     "output_type": "execute_result"
    }
   ],
   "source": [
    "add_epoch_buffer(art_epochs._epochs, 0.4)\n",
    "sess.recinfo.write_epochs(art_epochs, 'art')\n",
    "art_epochs._epochs"
   ]
  },
  {
   "cell_type": "code",
   "execution_count": 39,
   "id": "301bc40f",
   "metadata": {},
   "outputs": [
    {
     "name": "stdout",
     "output_type": "stream",
     "text": [
      "/data3/Anisomycin/Recording_Rats/Wedge/2022_12_13_anisomycin50mg/Wedge_ani1.art_epochs.npy saved\n"
     ]
    }
   ],
   "source": [
    "art_epochs.save(sess.filePrefix.with_suffix('.art_epochs.npy'))"
   ]
  },
  {
   "cell_type": "code",
   "execution_count": 74,
   "id": "ab5fcb25",
   "metadata": {},
   "outputs": [
    {
     "name": "stdout",
     "output_type": "stream",
     "text": [
      "dead_times.txt created\n"
     ]
    }
   ],
   "source": [
    "from neuropy.io.spykingcircusio import SpykingCircusIO\n",
    "from neuropy.core import Epoch\n",
    "combined_epochs = Epoch(epochs=combine_epochs(art_epochs_combined, inplace=False))\n",
    "\n",
    "SpykingCircusIO.write_epochs(sess.basepath / 'dead_times.txt', \n",
    "                            combined_epochs)\n",
    "sess.recinfo.write_epochs(combined_epochs, 'art')"
   ]
  },
  {
   "cell_type": "markdown",
   "id": "36d4792f",
   "metadata": {},
   "source": [
    "# Optional code below to combine other epochs with above"
   ]
  },
  {
   "cell_type": "code",
   "execution_count": 41,
   "id": "5a02f9c5",
   "metadata": {},
   "outputs": [],
   "source": [
    "def combine_epochs(epochs_df: pd.DataFrame, inplace: bool = True):\n",
    "    \"\"\"Combine epochs so that there are no starts or stops contained\n",
    "    entirely within another epoch\"\"\"\n",
    "    \n",
    "    all([col in epochs_df.columns for col in [\"start\", \"stop\"]])\n",
    "   \n",
    "    # First find epochs that overlap and get id to replace with\n",
    "    start_overlaps, stop_overlaps = [], []\n",
    "    for ide, epoch in epochs_df.iterrows():\n",
    "        overlap_start = np.bitwise_and(epoch['start'] > epochs_df['start'],\n",
    "                                       epoch['start'] < epochs_df['stop'])\n",
    "        overlap_stop = np.bitwise_and(epoch['stop'] > epochs_df['start'],\n",
    "                                       epoch['stop'] < epochs_df['stop'])\n",
    "        if overlap_start.sum() == 1:\n",
    "            start_overlap_id = np.where(overlap_start)[0][0]\n",
    "#             print('epoch ' + str(ide) + ' overlap start w epoch ' \n",
    "#                   + str(start_overlap_id))\n",
    "            start_overlaps.append([ide, start_overlap_id])\n",
    "\n",
    "        if overlap_stop.sum() == 1:\n",
    "            stop_overlap_id = np.where(overlap_stop)[0][0]\n",
    "#             print('epoch ' + str(ide) + ' overlap stop w epoch '\n",
    "#                  + str(stop_overlap_id))\n",
    "            stop_overlaps.append([ide, stop_overlap_id])\n",
    "    # Now walk through and replace\n",
    "    for start in start_overlaps:\n",
    "        epochs_df.loc[start[0], \"start\"] = epochs_df.loc[start[1], \"start\"]\n",
    "\n",
    "    for stop in stop_overlaps:\n",
    "        epochs_df.loc[stop[0], \"stop\"] = epochs_df.loc[stop[1], \"stop\"]\n",
    "\n",
    "#     overlap_ids = np.hstack((np.asarray(start_overlaps)[:, 1],\n",
    "#                   np.asarray(stop_overlaps)[:, 1]))\n",
    "    \n",
    "#     print('Dropping duplicate epochs: ' + str(overlap_ids))\n",
    "    \n",
    "    if inplace:\n",
    "        epochs_df.drop_duplicates(inplace=inplace, ignore_index=True)\n",
    "        epochs_df.sort_values(by='start', inplace=inplace, ignore_index=True)\n",
    "    \n",
    "        return None\n",
    "    else:       \n",
    "        epochs_out = epochs_df.drop_duplicates(inplace=inplace, ignore_index=True)\n",
    "        epochs_out = epochs_out.sort_values(by='start', inplace=inplace, ignore_index=True)\n",
    "\n",
    "        return epochs_out"
   ]
  },
  {
   "cell_type": "code",
   "execution_count": 73,
   "id": "2cd0902e",
   "metadata": {},
   "outputs": [],
   "source": [
    "# Add in loosening of headstage not caught well by automatic artifact detection\n",
    "art_by_hand = Epoch(pd.DataFrame({\"start\": [246*60 + 31.1], \"stop\": [247*60 + 32.766], \"label\": \"by_hand\"}))\n",
    "\n",
    "art_epochs_combined = pd.concat((art_epochs._epochs, art_by_hand._epochs), \n",
    "                                keys=[\"start\", \"stop\", \"label\"], ignore_index=True)\n",
    "art_epochs_combined = art_epochs_combined.sort_values(by='start', ignore_index=True)\n"
   ]
  },
  {
   "cell_type": "markdown",
   "id": "6acec1e4",
   "metadata": {},
   "source": [
    "Test code to verify that merging of epochs works properly"
   ]
  },
  {
   "cell_type": "code",
   "execution_count": null,
   "id": "fcd6a1ea",
   "metadata": {},
   "outputs": [],
   "source": [
    "# unit test #1 - one epoch entirely within another\n",
    "# epochs_test = art_epochs_combined.head(4).copy()\n",
    "epochs_test = pd.DataFrame({\"start\": [0, 1079.28, 1130.82, 1131.13],\n",
    "                            \"stop\": [0.2, 1082.91, 1140.80, 1131.53],\n",
    "                            \"label\": \"\"})\n",
    "print(epochs_test)\n",
    "epochs_test = combine_epochs(epochs_test, inplace=False)\n",
    "print(epochs_test)\n",
    "\n",
    "#unit test #2 - start of one epoch in a different epoch.\n",
    "epochs_test = pd.DataFrame({\"start\": [0, 1079.28, 1130.82, 1131.13],\n",
    "                            \"stop\": [0.2, 1082.91, 1140.80, 1141.53],\n",
    "                            \"label\": \"\"})\n",
    "print(epochs_test)\n",
    "combine_epochs(epochs_test)\n",
    "print(epochs_test)\n",
    "epochs_test = pd.DataFrame({\"start\": [0, 1079.28, 1130.82, 1130.13],\n",
    "                            \"stop\": [0.2, 1082.91, 1140.80, 1131.53],\n",
    "                            \"label\": \"\"})\n",
    "print(epochs_test)\n",
    "epochs_test = combine_epochs(epochs_test, inplace=False)\n",
    "print(epochs_test)\n",
    "#unit test #3 - stop of one epoch in a different epoch"
   ]
  }
 ],
 "metadata": {
  "kernelspec": {
   "display_name": "Python 3 (ipykernel)",
   "language": "python",
   "name": "python3"
  },
  "language_info": {
   "codemirror_mode": {
    "name": "ipython",
    "version": 3
   },
   "file_extension": ".py",
   "mimetype": "text/x-python",
   "name": "python",
   "nbconvert_exporter": "python",
   "pygments_lexer": "ipython3",
   "version": "3.11.6"
  },
  "widgets": {
   "application/vnd.jupyter.widget-state+json": {
    "state": {},
    "version_major": 2,
    "version_minor": 0
   }
  }
 },
 "nbformat": 4,
 "nbformat_minor": 5
}
